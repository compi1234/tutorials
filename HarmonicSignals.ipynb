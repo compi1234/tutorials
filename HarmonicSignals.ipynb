{
 "cells": [
  {
   "cell_type": "markdown",
   "metadata": {},
   "source": [
    "# Harmonic Signals\n",
    "### Observe waveform and spectrum or spectrogram \n",
    "### Control frequency and amplitude of a sine - square - sawtooth signal\n",
    "\n",
    "Author: Dirk Van Compernolle   \n",
    "Created: 29/03/2021\n",
    "\n",
    "---------------------------------------------------------\n",
    "Dependencies: \n",
    "- IPython > 6.0       (works with lower version, but not fully)\n",
    "- ipywidget\n",
    "- matplotlib\n",
    "- numpy \n",
    "- scipy \n",
    "- librosa"
   ]
  },
  {
   "cell_type": "code",
   "execution_count": 2,
   "metadata": {},
   "outputs": [
    {
     "data": {
      "text/html": [
       "\n",
       "<style>\n",
       "    div#notebook-container    { width: 99%; }\n",
       "    div#menubar-container     { width: 65%; }\n",
       "    div#maintoolbar-container { width: 99%; }\n",
       "</style>\n"
      ],
      "text/plain": [
       "<IPython.core.display.HTML object>"
      ]
     },
     "metadata": {},
     "output_type": "display_data"
    }
   ],
   "source": [
    "%matplotlib inline\n",
    "import ipywidgets as widgets\n",
    "from ipywidgets import interact, interact_manual, interactive, interactive_output\n",
    "import numpy as np\n",
    "import matplotlib.pyplot as plt\n",
    "import matplotlib\n",
    "from scipy import signal\n",
    "from IPython.display import display, clear_output, Audio, HTML\n",
    "import time\n",
    "import librosa\n",
    "\n",
    "def my_sine(x, w, amp, phi):\n",
    "    return amp*np.sin(w * (x-phi))\n",
    "#\n",
    "def synth(sigtype='sin', freq=200.0, amp=1.0, samplerate=8000, Tmax=0.25):\n",
    "    t = np.linspace(0.0, Tmax, int(Tmax*samplerate), endpoint=False)\n",
    "    if sigtype == 'sin':\n",
    "        x = np.sin(2.0*np.pi*freq*t)\n",
    "    elif sigtype == 'square':\n",
    "        x = signal.square(2.0*np.pi*freq*t)\n",
    "    elif sigtype == 'sawtooth':\n",
    "        x = signal.sawtooth(2.0*np.pi*freq*t)\n",
    "    else:\n",
    "        print( 'signal: Unrecognized signal type')\n",
    "    return amp*x, t\n",
    "\n",
    "def spectrogram(x,samplerate=8000,length=30.0,shift=10.0):\n",
    "    hop_length = int(samplerate*shift/1000.)\n",
    "    win_length = int(samplerate*length/1000.)\n",
    "    spg_stft = librosa.stft(x,n_fft=512,hop_length=hop_length,win_length=win_length)\n",
    "    return( librosa.power_to_db(np.abs(spg_stft)**2) )\n",
    "\n",
    "# a default boxed layout\n",
    "def box_layout():\n",
    "     return widgets.Layout(\n",
    "        border='solid 1px black',\n",
    "        margin='0px 10px 10px 0px',\n",
    "        padding='5px 5px 5px 5px'\n",
    "     )\n",
    "\n",
    "# The following code will increase the default width of your Jupyter notebook cells\n",
    "# Supposed to work well \n",
    "display(HTML(data=\"\"\"\n",
    "<style>\n",
    "    div#notebook-container    { width: 99%; }\n",
    "    div#menubar-container     { width: 65%; }\n",
    "    div#maintoolbar-container { width: 99%; }\n",
    "</style>\n",
    "\"\"\"))"
   ]
  },
  {
   "cell_type": "markdown",
   "metadata": {},
   "source": [
    "## DEMO 1: Waveform and Spectrum of Harmonic Signals\n",
    "\n",
    "CAVEAT:   \n",
    "+ The Autodisplay function does not work perfectly on Ipython < 6.0 [Google Colab] which has autonormalization by default in the display.Audio() function"
   ]
  },
  {
   "cell_type": "code",
   "execution_count": 3,
   "metadata": {},
   "outputs": [
    {
     "data": {
      "application/vnd.jupyter.widget-view+json": {
       "model_id": "6498da01df6d4a7ea629d1cf93aa51b8",
       "version_major": 2,
       "version_minor": 0
      },
      "text/plain": [
       "Harmonic_Signals(children=(Output(layout=Layout(border='solid 1px black', margin='0px 10px 10px 0px', padding=…"
      ]
     },
     "metadata": {},
     "output_type": "display_data"
    }
   ],
   "source": [
    "class Harmonic_Signals(widgets.HBox):\n",
    "\n",
    "    def __init__(self):\n",
    "        super().__init__()\n",
    "        \n",
    "        self.samplerate = 16000\n",
    "        self.Tmax = .25        \n",
    "        display_types = ['spectrum','spectrogram']\n",
    "        signal_types = [ 'sin', 'square', 'sawtooth' ]\n",
    "        \n",
    "        self.disptype = 'spectrum'\n",
    "        self.sigtype = 'sin'\n",
    "        self.freq = 440.\n",
    "        self.amp = 1.\n",
    "        self.autoplay = False\n",
    "\n",
    "        # create the widgets\n",
    "        self.wg_disptype = widgets.Dropdown(options=display_types,value=self.disptype,description=\"Display\")\n",
    "        self.wg_sigtype = widgets.Dropdown(options=signal_types,value=self.sigtype,description=\"Signal\")\n",
    "        self.wg_amp = widgets.FloatLogSlider(value=self.amp,step=0.2,min=-2.,max=0.0,description='Amplitude',continous_update=False)\n",
    "        self.wg_freq = widgets.FloatSlider(value=self.freq,step=10.,min=50.0,max=1000.,description='Frequency',continous_update=False)\n",
    "        self.wg_autoplay = widgets.Checkbox(value=self.autoplay,description='Autoplay Audio',indent=False,button_style='warning')\n",
    "        self.wg_autoplay.layout.width='45%'\n",
    "        self.wg_clear_log = widgets.Button(description='Clear the log')\n",
    "        self.wg_clear_log.layout.width='45%'\n",
    "        \n",
    "        # link to the widget observers\n",
    "        self.wg_disptype.observe(self.disptype_observe,'value')\n",
    "        self.wg_sigtype.observe(self.sigtype_observe,'value')\n",
    "        self.wg_amp.observe(self.amp_observe,'value')    \n",
    "        self.wg_freq.observe(self.freq_observe,'value')\n",
    "        self.wg_autoplay.observe(self.autoplay_clicked, 'value')\n",
    "        self.wg_clear_log.on_click(self.clear_log_clicked)\n",
    "\n",
    "        # setup the outputs \n",
    "        self.audio = widgets.Output()\n",
    "        self.logscr = widgets.Output()\n",
    "        self.out = widgets.Output(layout=box_layout())\n",
    "        self.UI = widgets.VBox( [self.wg_disptype,self.wg_sigtype, self.wg_amp, self.wg_freq, widgets.HBox([self.wg_autoplay, self.wg_clear_log])] ,layout=box_layout())\n",
    "        self.right_screen = widgets.VBox([self.UI, self.audio,  self.logscr],layout=box_layout())\n",
    "                                          \n",
    "        # initialize the plots\n",
    "        self.fig,self.ax = plt.subplots(2,1,constrained_layout=True, figsize=(9, 4))\n",
    "        self.update()\n",
    "        plt.close()          # avoids output of dummy figure on startup\n",
    "        # initialize the displayed function\n",
    "\n",
    "        # attach children to the VBox class\n",
    "        self.children = [ self.out, self.right_screen ] \n",
    "\n",
    "    def update(self):\n",
    "        y,x = synth(sigtype=self.sigtype,freq=self.freq,amp=self.amp,samplerate=self.samplerate,Tmax=self.Tmax)\n",
    "\n",
    "        ax = self.ax\n",
    "        ax[0].cla()\n",
    "        ax[0].plot(x, y, color='C0')\n",
    "        ax[0].set_ylim([-1, 1])\n",
    "        ax[0].grid(True)\n",
    "        ax[0].set_title('Waveform')\n",
    "        ax[0].set_xlabel('Time(sec)')\n",
    "        ax[0].set_xlim([0,self.Tmax])\n",
    "       \n",
    "        if self.disptype == 'spectrum':\n",
    "            ax[1].cla()\n",
    "            freq_ax,spec = signal.periodogram(y,fs=self.samplerate,scaling='spectrum')\n",
    "            ax[1].plot(freq_ax,np.sqrt(2*spec))\n",
    "            ax[1].set_title('Spectrum')\n",
    "            ax[1].set_xlabel('Frequency')\n",
    "            ax[1].set_ylim([0, 1])\n",
    "            ax[1].grid(True)\n",
    "            ax[1].set_xlim([0,self.samplerate/2.])\n",
    "        elif self.disptype == 'spectrogram':\n",
    "            ax[1].cla()\n",
    "            spg = spectrogram(y,samplerate=self.samplerate)\n",
    "            ax[1].imshow(spg[:,:-1],cmap='jet',aspect='auto',origin='lower')\n",
    "            ax[1].set_title('Spectrogram')\n",
    "            ax[1].set_xlabel('Time(sec)')\n",
    "\n",
    "            \n",
    "        # here come the things that go to dedicated output widgets\n",
    "        with self.out:\n",
    "            clear_output(wait=True)\n",
    "            display(self.fig)\n",
    "        with self.audio:\n",
    "            clear_output(wait=True)\n",
    "            try:\n",
    "                display(Audio(data=y,rate=self.samplerate,normalize=False, autoplay=self.autoplay))\n",
    "            except: \n",
    "                try:\n",
    "                    with self.logscr:\n",
    "                        #clear_output(wait=True)\n",
    "                        print(\"Warning: playing normalized sound\")\n",
    "                    display(Audio(data=y,rate=self.samplerate, autoplay=self.autoplay))\n",
    "                except: pass\n",
    "     \n",
    "    def disptype_observe(self,change):\n",
    "        self.disptype = change.new\n",
    "        self.update()\n",
    "    \n",
    "    def sigtype_observe(self,change):\n",
    "        self.sigtype = change.new\n",
    "        self.update()\n",
    "    \n",
    "    def amp_observe(self,change):\n",
    "        self.amp = change.new\n",
    "        self.update()\n",
    "        \n",
    "    def freq_observe(self,change):\n",
    "        self.freq = change.new\n",
    "        self.update()\n",
    "        \n",
    "    def autoplay_clicked(self,obj):\n",
    "        self.autoplay = not self.autoplay\n",
    "        with self.logscr: print('Toggling autoplay',self.autoplay) \n",
    "\n",
    "    def clear_log_clicked(self):\n",
    "        with self.logscr: clear_output()                   \n",
    "\n",
    "Harmonic_Signals() "
   ]
  },
  {
   "cell_type": "code",
   "execution_count": null,
   "metadata": {},
   "outputs": [],
   "source": []
  }
 ],
 "metadata": {
  "kernelspec": {
   "display_name": "Python 3",
   "language": "python",
   "name": "python3"
  },
  "language_info": {
   "codemirror_mode": {
    "name": "ipython",
    "version": 3
   },
   "file_extension": ".py",
   "mimetype": "text/x-python",
   "name": "python",
   "nbconvert_exporter": "python",
   "pygments_lexer": "ipython3",
   "version": "3.7.8"
  },
  "widgets": {
   "application/vnd.jupyter.widget-state+json": {
    "state": {
     "0363fc1074074220ae10a48bf0327240": {
      "model_module": "@jupyter-widgets/base",
      "model_module_version": "1.2.0",
      "model_name": "LayoutModel",
      "state": {}
     },
     "0bacf21abdba42c48c715c123be7331c": {
      "model_module": "@jupyter-widgets/controls",
      "model_module_version": "1.5.0",
      "model_name": "DescriptionStyleModel",
      "state": {
       "description_width": ""
      }
     },
     "180c4d97affc43da8c62220dfa681447": {
      "model_module": "@jupyter-widgets/controls",
      "model_module_version": "1.5.0",
      "model_name": "FloatLogSliderModel",
      "state": {
       "description": "Amplitude",
       "layout": "IPY_MODEL_ad13f3563b9e4061978c321889851338",
       "max": 0,
       "min": -2,
       "step": 0.2,
       "style": "IPY_MODEL_b13858c2ce234285a5152b88a5c6ed91"
      }
     },
     "2969c1b239eb4e86af93ebf2094a586e": {
      "model_module": "@jupyter-widgets/output",
      "model_module_version": "1.0.0",
      "model_name": "OutputModel",
      "state": {
       "layout": "IPY_MODEL_dc7476963fbd4e8298714a86ecf95366",
       "outputs": [
        {
         "name": "stdout",
         "output_type": "stream",
         "text": "Toggling autoplay True\n"
        }
       ]
      }
     },
     "2df0ba17918944ddbcee8f089a5c4f28": {
      "model_module": "@jupyter-widgets/base",
      "model_module_version": "1.2.0",
      "model_name": "LayoutModel",
      "state": {
       "border": "solid 1px black",
       "margin": "0px 10px 10px 0px",
       "padding": "5px 5px 5px 5px"
      }
     },
     "2fe5bd97d3fc4e9ca6bf897046806c54": {
      "model_module": "@jupyter-widgets/controls",
      "model_module_version": "1.5.0",
      "model_name": "ButtonModel",
      "state": {
       "description": "Clear the log",
       "layout": "IPY_MODEL_a7b38630d25442e484346ef1393c9ec0",
       "style": "IPY_MODEL_b9c08972abc444e085e8b724f2e9ca12"
      }
     },
     "354315858b8c424abc537ae607539555": {
      "model_module": "@jupyter-widgets/controls",
      "model_module_version": "1.5.0",
      "model_name": "HBoxModel",
      "state": {
       "children": [
        "IPY_MODEL_b87c0074672d48209d8eeff9eaaded8a",
        "IPY_MODEL_2fe5bd97d3fc4e9ca6bf897046806c54"
       ],
       "layout": "IPY_MODEL_64b94a1ea02242e58236bc234e69d724"
      }
     },
     "42401c1a41c74a2abf91e6248fa47148": {
      "model_module": "@jupyter-widgets/controls",
      "model_module_version": "1.5.0",
      "model_name": "DropdownModel",
      "state": {
       "_options_labels": [
        "spectrum",
        "spectrogram"
       ],
       "description": "Display",
       "index": 0,
       "layout": "IPY_MODEL_e7c25c0637a146aba9d29052c43358db",
       "style": "IPY_MODEL_fc8c54d682884db3aff6eaabe6a17249"
      }
     },
     "4b8715217ebf4caf85869c765de5bf67": {
      "model_module": "@jupyter-widgets/base",
      "model_module_version": "1.2.0",
      "model_name": "LayoutModel",
      "state": {}
     },
     "5b2ab73904ae474098880dd80467a7da": {
      "model_module": "@jupyter-widgets/base",
      "model_module_version": "1.2.0",
      "model_name": "LayoutModel",
      "state": {
       "border": "solid 1px black",
       "margin": "0px 10px 10px 0px",
       "padding": "5px 5px 5px 5px"
      }
     },
     "6498da01df6d4a7ea629d1cf93aa51b8": {
      "model_module": "@jupyter-widgets/controls",
      "model_module_version": "1.5.0",
      "model_name": "HBoxModel",
      "state": {
       "children": [
        "IPY_MODEL_a414567331e343848920d494bd4fe295",
        "IPY_MODEL_ff4bb2df566c41b8aef24415bf740116"
       ],
       "layout": "IPY_MODEL_4b8715217ebf4caf85869c765de5bf67"
      }
     },
     "64b94a1ea02242e58236bc234e69d724": {
      "model_module": "@jupyter-widgets/base",
      "model_module_version": "1.2.0",
      "model_name": "LayoutModel",
      "state": {}
     },
     "7d36dc9c3a2942238866bfb561c8a9a8": {
      "model_module": "@jupyter-widgets/controls",
      "model_module_version": "1.5.0",
      "model_name": "SliderStyleModel",
      "state": {
       "description_width": ""
      }
     },
     "82529dcccc544de293c502cd01b73de3": {
      "model_module": "@jupyter-widgets/base",
      "model_module_version": "1.2.0",
      "model_name": "LayoutModel",
      "state": {}
     },
     "90be7cfbc2c94bb4bd33e9a858ba83ea": {
      "model_module": "@jupyter-widgets/controls",
      "model_module_version": "1.5.0",
      "model_name": "DropdownModel",
      "state": {
       "_options_labels": [
        "sin",
        "square",
        "sawtooth"
       ],
       "description": "Signal",
       "index": 1,
       "layout": "IPY_MODEL_d0013466f3d9451ea9c674a01d378cdb",
       "style": "IPY_MODEL_0bacf21abdba42c48c715c123be7331c"
      }
     },
     "a17aaaf2e16f4d6bb7ee01f4304eb038": {
      "model_module": "@jupyter-widgets/base",
      "model_module_version": "1.2.0",
      "model_name": "LayoutModel",
      "state": {
       "width": "45%"
      }
     },
     "a414567331e343848920d494bd4fe295": {
      "model_module": "@jupyter-widgets/output",
      "model_module_version": "1.0.0",
      "model_name": "OutputModel",
      "state": {
       "layout": "IPY_MODEL_e44a730a5f09481dad2540c21d14453e",
       "outputs": [
        {
         "data": {
          "image/png": "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\n",
          "text/plain": "<Figure size 648x288 with 2 Axes>"
         },
         "metadata": {},
         "output_type": "display_data"
        }
       ]
      }
     },
     "a517527a3eaa4ecc8ff8cee85c21f8df": {
      "model_module": "@jupyter-widgets/controls",
      "model_module_version": "1.5.0",
      "model_name": "FloatSliderModel",
      "state": {
       "description": "Frequency",
       "layout": "IPY_MODEL_0363fc1074074220ae10a48bf0327240",
       "max": 1000,
       "min": 50,
       "step": 10,
       "style": "IPY_MODEL_7d36dc9c3a2942238866bfb561c8a9a8",
       "value": 150
      }
     },
     "a7b38630d25442e484346ef1393c9ec0": {
      "model_module": "@jupyter-widgets/base",
      "model_module_version": "1.2.0",
      "model_name": "LayoutModel",
      "state": {
       "width": "45%"
      }
     },
     "ad13f3563b9e4061978c321889851338": {
      "model_module": "@jupyter-widgets/base",
      "model_module_version": "1.2.0",
      "model_name": "LayoutModel",
      "state": {}
     },
     "b13858c2ce234285a5152b88a5c6ed91": {
      "model_module": "@jupyter-widgets/controls",
      "model_module_version": "1.5.0",
      "model_name": "SliderStyleModel",
      "state": {
       "description_width": ""
      }
     },
     "b19abd6bf01c4960b50027f8e3b15a66": {
      "model_module": "@jupyter-widgets/controls",
      "model_module_version": "1.5.0",
      "model_name": "DescriptionStyleModel",
      "state": {
       "description_width": ""
      }
     },
     "b5ce44abb02848de9f0bd5bcdbcb3a95": {
      "model_module": "@jupyter-widgets/controls",
      "model_module_version": "1.5.0",
      "model_name": "VBoxModel",
      "state": {
       "children": [
        "IPY_MODEL_42401c1a41c74a2abf91e6248fa47148",
        "IPY_MODEL_90be7cfbc2c94bb4bd33e9a858ba83ea",
        "IPY_MODEL_180c4d97affc43da8c62220dfa681447",
        "IPY_MODEL_a517527a3eaa4ecc8ff8cee85c21f8df",
        "IPY_MODEL_354315858b8c424abc537ae607539555"
       ],
       "layout": "IPY_MODEL_2df0ba17918944ddbcee8f089a5c4f28"
      }
     },
     "b87c0074672d48209d8eeff9eaaded8a": {
      "model_module": "@jupyter-widgets/controls",
      "model_module_version": "1.5.0",
      "model_name": "CheckboxModel",
      "state": {
       "description": "Autoplay Audio",
       "disabled": false,
       "indent": false,
       "layout": "IPY_MODEL_a17aaaf2e16f4d6bb7ee01f4304eb038",
       "style": "IPY_MODEL_b19abd6bf01c4960b50027f8e3b15a66",
       "value": true
      }
     },
     "b9c08972abc444e085e8b724f2e9ca12": {
      "model_module": "@jupyter-widgets/controls",
      "model_module_version": "1.5.0",
      "model_name": "ButtonStyleModel",
      "state": {}
     },
     "d0013466f3d9451ea9c674a01d378cdb": {
      "model_module": "@jupyter-widgets/base",
      "model_module_version": "1.2.0",
      "model_name": "LayoutModel",
      "state": {}
     },
     "d5106db03c3a467c9a0cd9d6f4fee8f4": {
      "model_module": "@jupyter-widgets/output",
      "model_module_version": "1.0.0",
      "model_name": "OutputModel",
      "state": {
       "layout": "IPY_MODEL_82529dcccc544de293c502cd01b73de3",
       "outputs": [
        {
         "data": {
          "text/html": "\n                <audio  controls=\"controls\" autoplay=\"autoplay\">\n                    <source src=\"data:audio/wav;base64,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\" type=\"audio/wav\" />\n                    Your browser does not support the audio element.\n                </audio>\n              ",
          "text/plain": "<IPython.lib.display.Audio object>"
         },
         "metadata": {},
         "output_type": "display_data"
        }
       ]
      }
     },
     "dc7476963fbd4e8298714a86ecf95366": {
      "model_module": "@jupyter-widgets/base",
      "model_module_version": "1.2.0",
      "model_name": "LayoutModel",
      "state": {}
     },
     "e44a730a5f09481dad2540c21d14453e": {
      "model_module": "@jupyter-widgets/base",
      "model_module_version": "1.2.0",
      "model_name": "LayoutModel",
      "state": {
       "border": "solid 1px black",
       "margin": "0px 10px 10px 0px",
       "padding": "5px 5px 5px 5px"
      }
     },
     "e7c25c0637a146aba9d29052c43358db": {
      "model_module": "@jupyter-widgets/base",
      "model_module_version": "1.2.0",
      "model_name": "LayoutModel",
      "state": {}
     },
     "fc8c54d682884db3aff6eaabe6a17249": {
      "model_module": "@jupyter-widgets/controls",
      "model_module_version": "1.5.0",
      "model_name": "DescriptionStyleModel",
      "state": {
       "description_width": ""
      }
     },
     "ff4bb2df566c41b8aef24415bf740116": {
      "model_module": "@jupyter-widgets/controls",
      "model_module_version": "1.5.0",
      "model_name": "VBoxModel",
      "state": {
       "children": [
        "IPY_MODEL_b5ce44abb02848de9f0bd5bcdbcb3a95",
        "IPY_MODEL_d5106db03c3a467c9a0cd9d6f4fee8f4",
        "IPY_MODEL_2969c1b239eb4e86af93ebf2094a586e"
       ],
       "layout": "IPY_MODEL_5b2ab73904ae474098880dd80467a7da"
      }
     }
    },
    "version_major": 2,
    "version_minor": 0
   }
  }
 },
 "nbformat": 4,
 "nbformat_minor": 4
}
