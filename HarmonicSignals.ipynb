{
 "cells": [
  {
   "cell_type": "markdown",
   "metadata": {},
   "source": [
    "# Harmonic Signals\n",
    "### Observe waveform and spectrum or spectrogram \n",
    "### Control frequency and amplitude of a sine - square - sawtooth signal\n",
    "\n",
    "Author: Dirk Van Compernolle   \n",
    "Created: 29/03/2021\n",
    "\n",
    "---------------------------------------------------------\n",
    "Dependencies: \n",
    "- IPython > 6.0       (works with lower version, but not fully)\n",
    "- ipywidget\n",
    "- matplotlib\n",
    "- numpy \n",
    "- scipy \n",
    "- librosa"
   ]
  },
  {
   "cell_type": "code",
   "execution_count": 2,
   "metadata": {},
   "outputs": [
    {
     "data": {
      "text/html": [
       "\n",
       "<style>\n",
       "    div#notebook-container    { width: 99%; }\n",
       "    div#menubar-container     { width: 65%; }\n",
       "    div#maintoolbar-container { width: 99%; }\n",
       "</style>\n"
      ],
      "text/plain": [
       "<IPython.core.display.HTML object>"
      ]
     },
     "metadata": {},
     "output_type": "display_data"
    }
   ],
   "source": [
    "%matplotlib inline\n",
    "import ipywidgets as widgets\n",
    "from ipywidgets import interact, interact_manual, interactive, interactive_output\n",
    "import numpy as np\n",
    "import matplotlib.pyplot as plt\n",
    "import matplotlib\n",
    "from scipy import signal\n",
    "from IPython.display import display, clear_output, Audio, HTML\n",
    "import time\n",
    "import librosa\n",
    "\n",
    "def my_sine(x, w, amp, phi):\n",
    "    return amp*np.sin(w * (x-phi))\n",
    "#\n",
    "def synth(sigtype='sin', freq=200.0, amp=1.0, samplerate=8000, Tmax=0.25):\n",
    "    t = np.linspace(0.0, Tmax, int(Tmax*samplerate), endpoint=False)\n",
    "    if sigtype == 'sin':\n",
    "        x = np.sin(2.0*np.pi*freq*t)\n",
    "    elif sigtype == 'square':\n",
    "        x = signal.square(2.0*np.pi*freq*t)\n",
    "    elif sigtype == 'sawtooth':\n",
    "        x = signal.sawtooth(2.0*np.pi*freq*t)\n",
    "    else:\n",
    "        print( 'signal: Unrecognized signal type')\n",
    "    return amp*x, t\n",
    "\n",
    "def spectrogram(x,samplerate=8000,length=30.0,shift=10.0):\n",
    "    hop_length = int(samplerate*shift/1000.)\n",
    "    win_length = int(samplerate*length/1000.)\n",
    "    spg_stft = librosa.stft(x,n_fft=512,hop_length=hop_length,win_length=win_length)\n",
    "    return( librosa.power_to_db(np.abs(spg_stft)**2) )\n",
    "\n",
    "# a default boxed layout\n",
    "def box_layout():\n",
    "     return widgets.Layout(\n",
    "        border='solid 1px black',\n",
    "        margin='0px 10px 10px 0px',\n",
    "        padding='5px 5px 5px 5px'\n",
    "     )\n",
    "\n",
    "# The following code will increase the default width of your Jupyter notebook cells\n",
    "# Supposed to work well \n",
    "display(HTML(data=\"\"\"\n",
    "<style>\n",
    "    div#notebook-container    { width: 99%; }\n",
    "    div#menubar-container     { width: 65%; }\n",
    "    div#maintoolbar-container { width: 99%; }\n",
    "</style>\n",
    "\"\"\"))"
   ]
  },
  {
   "cell_type": "markdown",
   "metadata": {},
   "source": [
    "## DEMO 1: Waveform and Spectrum of Harmonic Signals\n",
    "\n",
    "CAVEAT:   \n",
    "+ The Autodisplay function does not work perfectly on Ipython < 6.0 [Google Colab] which has autonormalization by default in the display.Audio() function"
   ]
  },
  {
   "cell_type": "code",
   "execution_count": 4,
   "metadata": {},
   "outputs": [
    {
     "data": {
      "application/vnd.jupyter.widget-view+json": {
       "model_id": "56b5e2ab504b489dbffb5fefdfdab6dc",
       "version_major": 2,
       "version_minor": 0
      },
      "text/plain": [
       "Harmonic_Signals(children=(Output(layout=Layout(border='solid 1px black', margin='0px 10px 10px 0px', padding=…"
      ]
     },
     "metadata": {},
     "output_type": "display_data"
    }
   ],
   "source": [
    "class Harmonic_Signals(widgets.HBox):\n",
    "\n",
    "    def __init__(self):\n",
    "        super().__init__()\n",
    "        \n",
    "        self.samplerate = 16000\n",
    "        self.Tmax = .25        \n",
    "        display_types = ['spectrum','spectrogram']\n",
    "        signal_types = [ 'sin', 'square', 'sawtooth' ]\n",
    "        \n",
    "        self.disptype = 'spectrum'\n",
    "        self.sigtype = 'sin'\n",
    "        self.freq = 440.\n",
    "        self.amp = 1.\n",
    "        self.autoplay = False\n",
    "\n",
    "        # create the widgets\n",
    "        self.wg_disptype = widgets.Dropdown(options=display_types,value=self.disptype,description=\"Display\")\n",
    "        self.wg_sigtype = widgets.Dropdown(options=signal_types,value=self.sigtype,description=\"Signal\")\n",
    "        self.wg_amp = widgets.FloatLogSlider(value=self.amp,step=0.2,min=-2.,max=0.0,description='Amplitude',continous_update=False)\n",
    "        self.wg_freq = widgets.FloatSlider(value=self.freq,step=10.,min=50.0,max=1000.,description='Frequency',continous_update=False)\n",
    "        self.wg_autoplay = widgets.Checkbox(value=self.autoplay,description='Autoplay Audio',indent=False,button_style='warning')\n",
    "        self.wg_autoplay.layout.width='45%'\n",
    "        self.wg_clear_log = widgets.Button(description='Clear the log')\n",
    "        self.wg_clear_log.layout.width='45%'\n",
    "        \n",
    "        # link to the widget observers\n",
    "        self.wg_disptype.observe(self.disptype_observe,'value')\n",
    "        self.wg_sigtype.observe(self.sigtype_observe,'value')\n",
    "        self.wg_amp.observe(self.amp_observe,'value')    \n",
    "        self.wg_freq.observe(self.freq_observe,'value')\n",
    "        self.wg_autoplay.observe(self.autoplay_clicked, 'value')\n",
    "        self.wg_clear_log.on_click(self.clear_log_clicked)\n",
    "\n",
    "        # setup the outputs \n",
    "        self.audio = widgets.Output()\n",
    "        self.logscr = widgets.Output()\n",
    "        self.out = widgets.Output(layout=box_layout())\n",
    "        self.UI = widgets.VBox( [self.wg_disptype,self.wg_sigtype, self.wg_amp, self.wg_freq, widgets.HBox([self.wg_autoplay, self.wg_clear_log])] ,layout=box_layout())\n",
    "        self.right_screen = widgets.VBox([self.UI, self.audio,  self.logscr],layout=box_layout())\n",
    "                                          \n",
    "        # initialize the plots\n",
    "        self.fig,self.ax = plt.subplots(2,1,constrained_layout=True, figsize=(9, 4))\n",
    "        self.update()\n",
    "        plt.close()          # avoids output of dummy figure on startup\n",
    "        # initialize the displayed function\n",
    "\n",
    "        # attach children to the VBox class\n",
    "        self.children = [ self.out, self.right_screen ] \n",
    "\n",
    "    def update(self):\n",
    "        y,x = synth(sigtype=self.sigtype,freq=self.freq,amp=self.amp,samplerate=self.samplerate,Tmax=self.Tmax)\n",
    "\n",
    "        ax = self.ax\n",
    "        ax[0].cla()\n",
    "        ax[0].plot(x, y, color='C0')\n",
    "        ax[0].set_ylim([-1, 1])\n",
    "        ax[0].grid(True)\n",
    "        ax[0].set_title('Waveform')\n",
    "        ax[0].set_xlabel('Time(sec)')\n",
    "        ax[0].set_xlim([0,self.Tmax])\n",
    "       \n",
    "        if self.disptype == 'spectrum':\n",
    "            ax[1].cla()\n",
    "            freq_ax,spec = signal.periodogram(y,fs=self.samplerate,scaling='spectrum')\n",
    "            ax[1].plot(freq_ax,np.sqrt(2*spec))\n",
    "            ax[1].set_title('Spectrum')\n",
    "            ax[1].set_xlabel('Frequency')\n",
    "            ax[1].set_ylim([0, 1])\n",
    "            ax[1].grid(True)\n",
    "            ax[1].set_xlim([0,self.samplerate/2.])\n",
    "        elif self.disptype == 'spectrogram':\n",
    "            ax[1].cla()\n",
    "            spg = spectrogram(y,samplerate=self.samplerate)\n",
    "            ax[1].imshow(spg[:,:-1],cmap='jet',aspect='auto',origin='lower')\n",
    "            ax[1].set_title('Spectrogram')\n",
    "            ax[1].set_xlabel('Time(sec)')\n",
    "\n",
    "            \n",
    "        # here come the things that go to dedicated output widgets\n",
    "        with self.out:\n",
    "            clear_output(wait=True)\n",
    "            display(self.fig)\n",
    "        with self.audio:\n",
    "            clear_output(wait=True)\n",
    "            try:\n",
    "                display(Audio(data=y,rate=self.samplerate,normalize=False, autoplay=self.autoplay))\n",
    "            except: \n",
    "                try:\n",
    "                    with self.logscr:\n",
    "                        #clear_output(wait=True)\n",
    "                        print(\"Warning: playing normalized sound\")\n",
    "                    display(Audio(data=y,rate=self.samplerate, autoplay=self.autoplay))\n",
    "                except: pass\n",
    "     \n",
    "    def disptype_observe(self,change):\n",
    "        self.disptype = change.new\n",
    "        self.update()\n",
    "    \n",
    "    def sigtype_observe(self,change):\n",
    "        self.sigtype = change.new\n",
    "        self.update()\n",
    "    \n",
    "    def amp_observe(self,change):\n",
    "        self.amp = change.new\n",
    "        self.update()\n",
    "        \n",
    "    def freq_observe(self,change):\n",
    "        self.freq = change.new\n",
    "        self.update()\n",
    "        \n",
    "    def autoplay_clicked(self,obj):\n",
    "        self.autoplay = not self.autoplay\n",
    "        with self.logscr: print('Toggling autoplay',self.autoplay) \n",
    "\n",
    "    def clear_log_clicked(self,b):\n",
    "        with self.logscr: clear_output()                   \n",
    "\n",
    "Harmonic_Signals() "
   ]
  },
  {
   "cell_type": "code",
   "execution_count": null,
   "metadata": {},
   "outputs": [],
   "source": []
  }
 ],
 "metadata": {
  "kernelspec": {
   "display_name": "Python 3",
   "language": "python",
   "name": "python3"
  },
  "language_info": {
   "codemirror_mode": {
    "name": "ipython",
    "version": 3
   },
   "file_extension": ".py",
   "mimetype": "text/x-python",
   "name": "python",
   "nbconvert_exporter": "python",
   "pygments_lexer": "ipython3",
   "version": "3.7.8"
  },
  "widgets": {
   "application/vnd.jupyter.widget-state+json": {
    "state": {
     "023eb01b5f934cb29f47248e7cdad272": {
      "model_module": "@jupyter-widgets/base",
      "model_module_version": "1.2.0",
      "model_name": "LayoutModel",
      "state": {
       "border": "solid 1px black",
       "margin": "0px 10px 10px 0px",
       "padding": "5px 5px 5px 5px"
      }
     },
     "0363fc1074074220ae10a48bf0327240": {
      "model_module": "@jupyter-widgets/base",
      "model_module_version": "1.2.0",
      "model_name": "LayoutModel",
      "state": {}
     },
     "068bd692594947b3af5f83ab5b21dbd6": {
      "model_module": "@jupyter-widgets/base",
      "model_module_version": "1.2.0",
      "model_name": "LayoutModel",
      "state": {}
     },
     "06f9ad0d26d442a2b0ab1912b7af5d47": {
      "model_module": "@jupyter-widgets/base",
      "model_module_version": "1.2.0",
      "model_name": "LayoutModel",
      "state": {
       "width": "45%"
      }
     },
     "086f07e4e65d4e89972d5142d1b8489c": {
      "model_module": "@jupyter-widgets/base",
      "model_module_version": "1.2.0",
      "model_name": "LayoutModel",
      "state": {}
     },
     "09606200437940b795bdbfdfbc63fa4b": {
      "model_module": "@jupyter-widgets/controls",
      "model_module_version": "1.5.0",
      "model_name": "VBoxModel",
      "state": {
       "children": [
        "IPY_MODEL_510cb95bc81948adb975380471aaf95c",
        "IPY_MODEL_deb999b671a343be9a580acedf683337",
        "IPY_MODEL_196050335fe34a53919537b9d8b09efe",
        "IPY_MODEL_aa6b335242af41ee97e640d87279c123",
        "IPY_MODEL_5228984f68a1426fa176e36240e6f8ad"
       ],
       "layout": "IPY_MODEL_023eb01b5f934cb29f47248e7cdad272"
      }
     },
     "0bacf21abdba42c48c715c123be7331c": {
      "model_module": "@jupyter-widgets/controls",
      "model_module_version": "1.5.0",
      "model_name": "DescriptionStyleModel",
      "state": {
       "description_width": ""
      }
     },
     "0d625fe1205149b29397b3f606cdc26b": {
      "model_module": "@jupyter-widgets/base",
      "model_module_version": "1.2.0",
      "model_name": "LayoutModel",
      "state": {
       "width": "45%"
      }
     },
     "180c4d97affc43da8c62220dfa681447": {
      "model_module": "@jupyter-widgets/controls",
      "model_module_version": "1.5.0",
      "model_name": "FloatLogSliderModel",
      "state": {
       "description": "Amplitude",
       "layout": "IPY_MODEL_ad13f3563b9e4061978c321889851338",
       "max": 0,
       "min": -2,
       "step": 0.2,
       "style": "IPY_MODEL_b13858c2ce234285a5152b88a5c6ed91"
      }
     },
     "196050335fe34a53919537b9d8b09efe": {
      "model_module": "@jupyter-widgets/controls",
      "model_module_version": "1.5.0",
      "model_name": "FloatLogSliderModel",
      "state": {
       "description": "Amplitude",
       "layout": "IPY_MODEL_086f07e4e65d4e89972d5142d1b8489c",
       "max": 0,
       "min": -2,
       "step": 0.2,
       "style": "IPY_MODEL_ad210d02edca48198d39391ef3a9ecd7"
      }
     },
     "2969c1b239eb4e86af93ebf2094a586e": {
      "model_module": "@jupyter-widgets/output",
      "model_module_version": "1.0.0",
      "model_name": "OutputModel",
      "state": {
       "layout": "IPY_MODEL_dc7476963fbd4e8298714a86ecf95366",
       "outputs": [
        {
         "name": "stdout",
         "output_type": "stream",
         "text": "Toggling autoplay True\n"
        }
       ]
      }
     },
     "2df0ba17918944ddbcee8f089a5c4f28": {
      "model_module": "@jupyter-widgets/base",
      "model_module_version": "1.2.0",
      "model_name": "LayoutModel",
      "state": {
       "border": "solid 1px black",
       "margin": "0px 10px 10px 0px",
       "padding": "5px 5px 5px 5px"
      }
     },
     "2fe5bd97d3fc4e9ca6bf897046806c54": {
      "model_module": "@jupyter-widgets/controls",
      "model_module_version": "1.5.0",
      "model_name": "ButtonModel",
      "state": {
       "description": "Clear the log",
       "layout": "IPY_MODEL_a7b38630d25442e484346ef1393c9ec0",
       "style": "IPY_MODEL_b9c08972abc444e085e8b724f2e9ca12"
      }
     },
     "3093db6b750c45bb837d56baf0e86118": {
      "model_module": "@jupyter-widgets/controls",
      "model_module_version": "1.5.0",
      "model_name": "CheckboxModel",
      "state": {
       "description": "Autoplay Audio",
       "disabled": false,
       "indent": false,
       "layout": "IPY_MODEL_06f9ad0d26d442a2b0ab1912b7af5d47",
       "style": "IPY_MODEL_8e58fdf3dc5a4c3d9fd9733cd5a86137",
       "value": false
      }
     },
     "354315858b8c424abc537ae607539555": {
      "model_module": "@jupyter-widgets/controls",
      "model_module_version": "1.5.0",
      "model_name": "HBoxModel",
      "state": {
       "children": [
        "IPY_MODEL_b87c0074672d48209d8eeff9eaaded8a",
        "IPY_MODEL_2fe5bd97d3fc4e9ca6bf897046806c54"
       ],
       "layout": "IPY_MODEL_64b94a1ea02242e58236bc234e69d724"
      }
     },
     "42401c1a41c74a2abf91e6248fa47148": {
      "model_module": "@jupyter-widgets/controls",
      "model_module_version": "1.5.0",
      "model_name": "DropdownModel",
      "state": {
       "_options_labels": [
        "spectrum",
        "spectrogram"
       ],
       "description": "Display",
       "index": 0,
       "layout": "IPY_MODEL_e7c25c0637a146aba9d29052c43358db",
       "style": "IPY_MODEL_fc8c54d682884db3aff6eaabe6a17249"
      }
     },
     "43fad0c376524acd8bb58431e0216d96": {
      "model_module": "@jupyter-widgets/base",
      "model_module_version": "1.2.0",
      "model_name": "LayoutModel",
      "state": {
       "border": "solid 1px black",
       "margin": "0px 10px 10px 0px",
       "padding": "5px 5px 5px 5px"
      }
     },
     "4b8715217ebf4caf85869c765de5bf67": {
      "model_module": "@jupyter-widgets/base",
      "model_module_version": "1.2.0",
      "model_name": "LayoutModel",
      "state": {}
     },
     "4da9a947d78d40949fca733f4f61a3a3": {
      "model_module": "@jupyter-widgets/base",
      "model_module_version": "1.2.0",
      "model_name": "LayoutModel",
      "state": {}
     },
     "510cb95bc81948adb975380471aaf95c": {
      "model_module": "@jupyter-widgets/controls",
      "model_module_version": "1.5.0",
      "model_name": "DropdownModel",
      "state": {
       "_options_labels": [
        "spectrum",
        "spectrogram"
       ],
       "description": "Display",
       "index": 0,
       "layout": "IPY_MODEL_068bd692594947b3af5f83ab5b21dbd6",
       "style": "IPY_MODEL_91f4e7819a894eaf8dd3c59d093b9259"
      }
     },
     "5228984f68a1426fa176e36240e6f8ad": {
      "model_module": "@jupyter-widgets/controls",
      "model_module_version": "1.5.0",
      "model_name": "HBoxModel",
      "state": {
       "children": [
        "IPY_MODEL_3093db6b750c45bb837d56baf0e86118",
        "IPY_MODEL_fe13cde09c2644e9b533c15b3c71a3bc"
       ],
       "layout": "IPY_MODEL_6c778f40ad0f42ba8bb40faadcef957d"
      }
     },
     "5495ad9acf804368b117741478de9dea": {
      "model_module": "@jupyter-widgets/base",
      "model_module_version": "1.2.0",
      "model_name": "LayoutModel",
      "state": {}
     },
     "56b5e2ab504b489dbffb5fefdfdab6dc": {
      "model_module": "@jupyter-widgets/controls",
      "model_module_version": "1.5.0",
      "model_name": "HBoxModel",
      "state": {
       "children": [
        "IPY_MODEL_6909cf9da6e84d2d9bafdd58bd8dc342",
        "IPY_MODEL_965612267fa94acc96e9b7493ef88b9f"
       ],
       "layout": "IPY_MODEL_d4087da4189444acb8855fc3edb5b34a"
      }
     },
     "5b2ab73904ae474098880dd80467a7da": {
      "model_module": "@jupyter-widgets/base",
      "model_module_version": "1.2.0",
      "model_name": "LayoutModel",
      "state": {
       "border": "solid 1px black",
       "margin": "0px 10px 10px 0px",
       "padding": "5px 5px 5px 5px"
      }
     },
     "6498da01df6d4a7ea629d1cf93aa51b8": {
      "model_module": "@jupyter-widgets/controls",
      "model_module_version": "1.5.0",
      "model_name": "HBoxModel",
      "state": {
       "children": [
        "IPY_MODEL_a414567331e343848920d494bd4fe295",
        "IPY_MODEL_ff4bb2df566c41b8aef24415bf740116"
       ],
       "layout": "IPY_MODEL_4b8715217ebf4caf85869c765de5bf67"
      }
     },
     "64b94a1ea02242e58236bc234e69d724": {
      "model_module": "@jupyter-widgets/base",
      "model_module_version": "1.2.0",
      "model_name": "LayoutModel",
      "state": {}
     },
     "6909cf9da6e84d2d9bafdd58bd8dc342": {
      "model_module": "@jupyter-widgets/output",
      "model_module_version": "1.0.0",
      "model_name": "OutputModel",
      "state": {
       "layout": "IPY_MODEL_43fad0c376524acd8bb58431e0216d96",
       "outputs": [
        {
         "data": {
          "image/png": "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\n",
          "text/plain": "<Figure size 648x288 with 2 Axes>"
         },
         "metadata": {},
         "output_type": "display_data"
        }
       ]
      }
     },
     "6bf1a6bee3104a9fb51715d295002c40": {
      "model_module": "@jupyter-widgets/controls",
      "model_module_version": "1.5.0",
      "model_name": "DescriptionStyleModel",
      "state": {
       "description_width": ""
      }
     },
     "6c778f40ad0f42ba8bb40faadcef957d": {
      "model_module": "@jupyter-widgets/base",
      "model_module_version": "1.2.0",
      "model_name": "LayoutModel",
      "state": {}
     },
     "7d36dc9c3a2942238866bfb561c8a9a8": {
      "model_module": "@jupyter-widgets/controls",
      "model_module_version": "1.5.0",
      "model_name": "SliderStyleModel",
      "state": {
       "description_width": ""
      }
     },
     "7e95a20174ab4ab9af208688ef39e3e8": {
      "model_module": "@jupyter-widgets/base",
      "model_module_version": "1.2.0",
      "model_name": "LayoutModel",
      "state": {}
     },
     "82529dcccc544de293c502cd01b73de3": {
      "model_module": "@jupyter-widgets/base",
      "model_module_version": "1.2.0",
      "model_name": "LayoutModel",
      "state": {}
     },
     "8e58fdf3dc5a4c3d9fd9733cd5a86137": {
      "model_module": "@jupyter-widgets/controls",
      "model_module_version": "1.5.0",
      "model_name": "DescriptionStyleModel",
      "state": {
       "description_width": ""
      }
     },
     "90be7cfbc2c94bb4bd33e9a858ba83ea": {
      "model_module": "@jupyter-widgets/controls",
      "model_module_version": "1.5.0",
      "model_name": "DropdownModel",
      "state": {
       "_options_labels": [
        "sin",
        "square",
        "sawtooth"
       ],
       "description": "Signal",
       "index": 1,
       "layout": "IPY_MODEL_d0013466f3d9451ea9c674a01d378cdb",
       "style": "IPY_MODEL_0bacf21abdba42c48c715c123be7331c"
      }
     },
     "91f4e7819a894eaf8dd3c59d093b9259": {
      "model_module": "@jupyter-widgets/controls",
      "model_module_version": "1.5.0",
      "model_name": "DescriptionStyleModel",
      "state": {
       "description_width": ""
      }
     },
     "954eff134024449f855f0fca232a2490": {
      "model_module": "@jupyter-widgets/controls",
      "model_module_version": "1.5.0",
      "model_name": "ButtonStyleModel",
      "state": {}
     },
     "965612267fa94acc96e9b7493ef88b9f": {
      "model_module": "@jupyter-widgets/controls",
      "model_module_version": "1.5.0",
      "model_name": "VBoxModel",
      "state": {
       "children": [
        "IPY_MODEL_09606200437940b795bdbfdfbc63fa4b",
        "IPY_MODEL_a646db646de84f1b8d8c661e8fdb94ea",
        "IPY_MODEL_f2057a8ba94441e69c2f41308b01b3ad"
       ],
       "layout": "IPY_MODEL_dc73ee9702764c5bb12028a170d0503d"
      }
     },
     "a17aaaf2e16f4d6bb7ee01f4304eb038": {
      "model_module": "@jupyter-widgets/base",
      "model_module_version": "1.2.0",
      "model_name": "LayoutModel",
      "state": {
       "width": "45%"
      }
     },
     "a414567331e343848920d494bd4fe295": {
      "model_module": "@jupyter-widgets/output",
      "model_module_version": "1.0.0",
      "model_name": "OutputModel",
      "state": {
       "layout": "IPY_MODEL_e44a730a5f09481dad2540c21d14453e",
       "outputs": [
        {
         "data": {
          "image/png": "iVBORw0KGgoAAAANSUhEUgAAApAAAAEoCAYAAADvxMHVAAAAOXRFWHRTb2Z0d2FyZQBNYXRwbG90bGliIHZlcnNpb24zLjMuNCwgaHR0cHM6Ly9tYXRwbG90bGliLm9yZy8QVMy6AAAACXBIWXMAAAsTAAALEwEAmpwYAABqPElEQVR4nO29d3gdx3Ww/x6isfciUqSoRlGdqlS1fB03SbEt5/vsRPrFJY4dfU7ifF/cIjtO3OIkjtMcx7IVRa5x3GRbNkNRXYJIsYhN7BVsAAgCIAkQvWN+f9y9IIR7d2funVtwwfM+Dx4Ae+bMzJ7dmT17pqwYY1AURVEURVEUV8YVugKKoiiKoihKcaEOpKIoiqIoipIW6kAqiqIoiqIoaaEOpKIoiqIoipIW6kAqiqIoiqIoaaEOpKIoiqIoipIW6kAqiqJkCRGZJyKrRaRNRP650PVRFEXJFepAKooyJhCRz4rIqhHHDoYcuz9H1XgQOAVMNcZ8MkdlKIqiFBx1IBVFGSusBu4QkRIAETkPKANuGHHs0iBtLlgM7DEZfKFBREpzUB9FUZScoA6koihjhU3EHcbrgv/vAl4C9o84dgh4u4jsDYaaD4vI/0lkEhx/x7D/S0XklIjcEPx/q4isE5EzIrJdRGLB8e8DHwT+QkTaReQtIlIhIl8Xkbrg5+siUhGkj4lIrYg8JCL1wPdE5Isi8riI/Cio204RuSyIrjaKSI2IvC1H9lMURXFGHUhFUcYExphe4FXiTiLB7zXAKyOOrQYagXcAU4EPAf+acBCBnwAPDMv67cApY8xWETkfeBL4CjAT+BTwSxGZY4z5A+C/ga8ZYyYbY54HPgfcStyBXQYsB/5qWN7nBfksJj78DfBO4L+AGcBrwDPE++rzgS8D/5GRgRRFUbKIOpCKoowlXuass/gG4g7kmhHHXjbGPGmMOWTivAw8G8gAfgy8S0QmBv//f8ExgPcBq4wxq4wxg8aY54DNwL0h9fl94MvGmEZjzEngS8D7h8kHgS8YY3qMMV3BsTXGmGeMMf3A48Ac4KvGmD7gp8CFIjI9XcMoiqJkE3UgFUUZS6wG7hSRGcAcY8xBYB1we3DsamC1iNwjIhtEpElEzhB3AGcDGGOqgL3AOwMn8l2cdSAXA+8Nhq/PBLp3AvND6rMAODbs/2PBsQQnjTHdI3Qahv3dRTz6OTDsf4DJNkMoiqLkEp20rSjKWGI9MI34cPBaAGNMq4jUBcfqgp/dwAeA3xhj+kTk14AMyycxjD2O+KKYquB4DfBfxpg/cqxPHXGnc3fw/wXBsQRpL7ZRFEUZDWgEUlGUMUMwDLwZ+ATxoesErwTHVgPlQAVwEugXkXuAkQtTfhoc+2PORh8BfkQ8Mvl2ESkRkfHBYpiFIVX6CfBXIjJHRGYDnw/yUBRFKWrUgVQUZazxMjCXuNOYYE1wbLUxpg34v8DPgWbicxxXDM/AGHOCeDTzduBnw47XAPcBf0ncAa0BPk14X/oV4g7tDmAnsDU4piiKUtRIBtuVKYqiKIqiKOcwGoFUFEVRFEVR0iIrDqSIfDfY5HZXiFxE5BsiUiUiO4btt6YoiqIoiqIUGdmKQH4fuDtCfg+wJPh5EPh2lspVFEVRFEVR8kxWHEhjzGqgKSLJfcAPg017NwDTRSRs3zRFURRFURRlFJOvOZDnE1+tmKA2OKYoiqIoiqIUGfnaSFxSHEu5/FtEHiT4JmzZ+Ek3Tpu7ICnNwCB09BvOmzSO8SXJefQOQF3HIBNKhbIULnLvgKF7ABZNGUdJipol9CeWCqUZ6Hf0GU52GSaXCeNS5h/Xv2DKuJTy9j7DqQj97n5Dv4nrp8JXv7nb0NJrmFqe6rJBV79h0MTPPxP9jj5D6TiYPylz/bJxcF6IfmOnoXsgfv6Z6Dd0Gnoi9Nt6DZPLhVnjU8sbOg29A4ZJGerXtg8iwITScP0p5cLMMP22QURyo28MtPUZZo0XpqS4PgY41jpIxTio8NEvgYoUjat/EDoj2r4xcKwtc31b20/oz580jooU+j0DcCKH+r59h6++re376vv2PU3dhlaLvjGwMEP9jj5D+Thh3qTUcif9EmHexMz6Dqt+h6F3MFw/UbdM+w6bfk3bIOMs+tPKhRkZ6A+a+P01e4Kk7JsHDVS3DTK+BMpTtH1ffVvb9dXPdd8BcKr64CljzJzU0gwwxmTlB7gQ2BUi+w/ggWH/7wfm2/K87LLLTCrWVZ0yix9aadYfOpVSvuv4GbP4oZXm6V0nUsp/uP6oWfzQStPY2p1SvrM2rv/s7vrU+uuOmMUPrTQn21Lr//q1WrP4oZXmUGNbSvn318b1T7f3pJQ/sTWuf/hke0r5X/96p7nuS8+klBljzC+31JjFD600R0+l1v/cEzvMDV9+NlT/a0/vNZd89slQ+Wd/tcPc+DfPhcq/+tRes+QvV4XKf/eRdeZtXw2X//2qveayz4XL3/vIOnP/f6wPlX/kB5vMPV9fHSp/z7fXmgceDdf/8Pc3mnv/LVz/+i8/a/7qiZ2h8g99b6N5xzfWhMqXfekZ8/lfh+vf9bUXzf/7ydZQ+TVfeNp84Te7QuV3/sML5uM/fS1UfvUXnjZfWrE7VH77379gPvGzbSllDa1dZvFDK82PNhxNKe/q7TeLH1ppPvmd1PdnfUtc/783HIvU/3ZlVUr52oMnzeKHVpoNIW2/o6fPLH5opXkkRH/Ngbj+xiOnU8p31MTb/nMhbf/l/Y1m8UMrzeajqfW3VTebxQ+tNC/sTa1fGehvOdaUUr71WJNZ/NBK8+K+hpTy76w5bBY/tNKc6exNKX98c7ztV5/uSCn/z9WHzOKHVpqWrtT6P99UbRY/tNLUNKXW/8wvd5hrPx/eN/xsY1y/trkzpfyhX2w3y/82vO/4uyf3mKV/Fd72P/34NnPr3z0fKv/Kyt3mir9+KlT+qZ9vM7f//Quh8i//z25z1eefDpW/++FXzPse2xAq/9KK3ebqL4Tr3/fNV8z7v/NqqPwD33nV3PfNV0Ll7/r3NeaD3w3Xf99jG8y7Hw7Xv+rzT5sv/0902//9b4TX/4q/fsp8ZWW4/q1/97z59OOp+w5jjFn6V6vM3z25J1S+/G+fMw/9YntKWW1zp1n80Erzs43VKeVt3fG2/+jLh1LKa5o6zOKHVpqfb0qt39rVaxY/tNL85+rU+ra2e6Yzrv/YmsMp5S/uazCLH1pptobobwna/kshbf+FvfVm8UMrzbbq5pTyzUdPm8UPrTQv729MKTfGGGCzyZLPZ4zJ2xD2CuADwWrsW4EWE9+o14uwLSxdt7Y0nl8R891C04Rk4FKvqBQu9fLVj8rB2y5O5+9XflQaN/tFlZ/76xeZt2f9s1VGJuW7t92Q4676YX2Ho13C9X3Ld80gLN/c1z+y7bi03Uh9z/Kd2n6B+66o8l3KyGH/4NR3efedvvphfYfjvZ/m8eRy/DLw7rs89bNJVoawReQnQAyYLSK1wBeAMgBjzCPAKuBeoAroBD7kV55jujSPO6dzrICEpMtf/UPKd8ghqo5O5UfpO2TgW360fu7P318/PFWUzKUQn/q72C6qDP+256gfVv986Ye2PVd9v/JD8y103+V060bc+y5tN0rm13Tc2o5v+Z4Z5LT+Tvqe1y+073EjvO163vuu5ad53L181/o7FpQFsuJAGmMesMgN8KfZKOt1+XpGUcLf4v3Kz8ebhP9bfO7egn0jqC4ViLaRZwTTXnxuoyi+UQzvCGzm1694IoC5arvONfAsP2z0wqt4xww8770omdO959l2M8x7KI1nBC4673yMPhXafrnpe/2j934Z+PZdrmcQPnKZf/RLNIqiKIqiKEpaFKUDORShtbjctmGY8Jdw87p0oeXb9MPqlUhneROKCsVHR6As9Rf7W2zkMIRFH2MbBom2oLGkcaq/ZRzGFoHzLj+qeBHrHE7bKJbtbTO6/pkPg4nt5rXo2xqP9d633TuJe98yhGwLwNnKt0ZBLEPgtmiHbRjNrh9yPFrNue8K148uH8QawYuc/mFtu5bpH5byg0QR5Ue33USaDLJ2SiPYIngmun072C+ybpL76xdmAetz21b3RLrQEOTr04WW7/Hcfl1BYfoh5eN4/q5D3dmgKB1IG3mbTFqImLGi5Bif29p5GMejjHTKKT58x0Bdk2Vezli1POTn2VGIxQ6KkguK0oF0ngwbetxvMqrvRHznRTg5epNwyjXyJTbzidA2mZO+00R6zyhAZCK/E/C3v1fxXvZ3viMzjCDa0vm3PUd93/LTzNdZP1+LYHz7Pg/72aLvBdW3q1vankvfGT36YdXPUOZSRiH13Z/bObr387WA0LPvzecimqJ0IBPYhqCt+p6Tab0XEnhMhI+eyOygn8tFHL7le87EL7z9PPVdTt/Tft6LcDx0oxJ6T4T3Kz6NbXCih6Gs+qH5eurno+/zvHejMvBvuw73vmcM1X8Bml/bi8zbO4DtWX+nMjKXQsQ5urad0L7Db/TEu+/x1S9AaLuoHUgbvm/Rofl6Rga930S8owiZz4FzLd82h7CQFDyK4W0/v+vngv897hcFCM/XV98vhOjedj3tlyM75ct+PlGUaNt5Nj7P8gt//zqk8YyAelcg1/OvMy49P/hvgRWm7xcBzQVF6UC6Tma1YYsA2ifsRx+3drY+bxKeIbTIMnyLz8JWFDYHzLaRt7Wt5TKK4nn+bqVnHgUQS5qovBOdmPdbdNhxywIwu75r+X4R0Eytb+27LOWe1c9RBDRRTkQL9I4A5jT6Hq1rX8ThWX/sD3Db6I+Xvmffn2v7Z0U/tO1a2l5iAZylbJsD6z16YSk/0xzyH38sUgdSURRFURRFKRxF6UAm3hDs2ylY9G1vEhkOIQ+9xVv0M51LIYhTFCAq5G0LYNomQntt5WCL7GIfRvKJAsTtZ4khWRbBZLqNSiIH6zZCubS/ZSuOeJrwshN1zASPwHBc37HxWYeRrKMHYRV4fbp09V3tl+k2REPpMpy+Yt+KJLpclyiOre+yT/+w2S5amqnt4toOW3B5DIE7td3IvstzCzJsfacNh77L0vdm/twO0tmeu5bov30LLcvIZWj9LaM3tu33htKF6Y9ImAeK0oG0ka9Q7tjdSkQ5l/GZi+37LWb3cvz0Ryv+iyBcy8m8oDFqeiA/5zZW713l3KMoHch8bCUR10/vuCt520YozXxfr5u7RRz+W1G4ZOA3ET6n9c+LfnQE1aqfs3vP9d4vbNvN2fdoXevvuZKg4H2fJQqTUeGO5edyGxzfNTz52ILM235RMt8FfD59V97avl8Gnk03C/r5C0EWpQOZIGeTWfNVvkcFfCdCRy8icZlInvkijrh+ZjKXMvKzDY5f+Zkvw7CnKeRWHL4RMP9FMH5t3/UMcrUIx7fvyNc2QOnm+7o0OV3Ekfu2a1sEY9W3DIF7lZ8X/QJfvzSPJ6cL63s8/QbXtmcZAs+4/AKMDRS1A2nF5y04KltPB999G57ouRiZluO7Ebhb2XmciJEmTlEIyzwou35uIoCuOfibPzdtxD9671m+51YY+YoCeNspV/bPQwTUO/qew76rwM0qC/bzjAB7952Z6/tuJJ43PJ/bvn5LPk+/SB3IuIV8/W1bFCTTG9E2mfZsusyjKLaJ0F76+YgARsqMtROzRUBtV8773rFMZLfqFzCKYFuEFKlrmQjuTaLtZaruHAXw07ctwgnD134Ju+Qq2uA9ET8vW1hlnnc2nhy2vs/nAW7r+xJlhOs7luGRg++zJ9O8zybKMIIokerYbn3rIhjP0Q/fvqsQk5Oz4kCKyN0isl9EqkTkMynkMRFpEZFtwc/ns1FuGPmyYwGul6LkHL9FNI7pMi8irXKKjVy+2LwuXR6ucTGSj2HAsWw/5dyi1DcDESkBHgbeCtQCm0RkhTFmz4ika4wx7/AtL15m/Ld9K4xoQbi6idR33SDcvh1AiLolCmPfDDehHz6M5BPBEyHySWffiiPafsb+Em6JAti2khDrPB7b+Vu30fHRd9iKI8oCBlsUxGMrk0TbseinnS+JfE1kOucttCzlWz8iYBkCDo8iuNXf6qjYzj8zdasBz9ovN6Mvgn0OXPQQcm7bbqKOkfqD4fLoJ4dDv2arP9Hb+GBAIsJCdvvbyne4fpF9V+bXz3X7O+s2OhFlR2Vgbbu20RNrBDRx91jKt20jFFZ+DshGBHI5UGWMOWyM6QV+CtyXhXwzJl9veIX49qSi5B6f8JRjMs+mM1ZbXr62N/KJtI1V20N+nh1j2X7KuYV3BBI4H6gZ9n8tcEuKdLeJyHagDviUMWZ3qsxE5EHgQYA5c+ZQWVmZlKbqzAAAO3bsgBPJp1DVHJfvDJHvr+0DYMOGDRyamOxDH2xO5L+dwbpo/dkTkvX3JeTr1zMrhTyhvz5MXpPIfz0zxyfLa2p6GRgcSGkbgAM1ifzXMSOFfm1tDwMD4fq1NdHy47U99A/0h+tb5M1N3dH5H++hvz9av6vfZC5v7qJngIzlPT091NfXU1nZHKo/YML1e3t6OVF/gsrKppD8o+V9vb3U1YXLe3t7OWGR19XVUVl5OkI/tbyjL/74q6qqorL/WKi8t6cn5fnb9Nt7A/nBKir7kuWJtr1j+3ZMirbZ1jss/xT6iba9ffsOBo6XJMkPDOWfWr6/KaG/nb7a9OX7EvJt2+mtSZbvPR0tP1Adb9vr1q1jeoq2PSRfv47pFSn6tuH6Fvm0iuRYxvHjPWDC29aBY2f1p5an1o9q27UWeV1dD3194fLjdT30R8jrjvfQGyW35N9yJrpt19X10Nsb3re1tHRhIvTPnOkCwuUtLV2IROi3dFESIe/rs7T9vl76+8Kvb39fH8frjlNZeSok/z7qIuT9/X3UHo+WHw+RtwZt+8CBg1T2HE2W98TlBw+mlrck5AcOUNl9JG25re2e6R6M1E+07W3bttET1fa3p5bvGabfVZ2+PBdkw4FMFTEd+ZK1FVhsjGkXkXuBXwNLUmVmjHkUeBRg6dKlJhaLJaWZVt0MG9ZxzbXXEls6N0k+5VgTvLqea5ct442XzUmSn9xcA7t2cOutt7Jo5sQk+eSjcf1ly5bxhiXJ+o2B/i23pNZv2FQNu3Zy2223sWD6hFD5rbfdxvkp5Cc2VsPuuP78acnydZ17GXf8KKlsA3D81WOwexe3334786aOT5K/0r6HcXXVofqr2/ZQWl8TKS+JkFe27qa0oTZU/r3DG2lvOB2pX9Z4PFT+3cMbae3qIxa7I6X8O4depbynP1LeHiH/z6oNdPcNEovdnlI+fv0LzDtvNrHYspTy/ziwgf7BcP2KdS9wXoR++drnWTB/LrHYtaHy+RHysleeZ/6CecRi16Quf+3zzJ8fLi9b8xwLFpyXUt7a3QcvPMsll1xC7A0XJ8nPdPbCC89RUVGR8vq1dAb6l15K7M6LkuTNHb3w4nMsWXIpsTuS5VOONcOr4W3/dHsPvPg8S5YsIXb7hUnyRNu+9tpruStF3zDxyNm2f+eS2anlG9dz7bWp5eMPn4aNG7hu2TJuvzRZPiGQLwuRlx86BZte5brrruO2S2YlyeterYY9O7ktpG3XbDgGe+Jtf+6UZHltQn7b7cxNpb/+KOzZzR133M7syRVJ8pfbdkNE33Ns3VHYu5s7br+dWSn0K1t3U9IY3je82LKLslN1kfLSCPnzZ3ZSdro+VP7CmV1sazoRKn+2eSflzeH6trb9TNNOKs40hOo/cmA9g4MQi92WUv6t/esZJ9FyIVz+8L51lI4bRyx2a0p5+SvPMT+kbUO87ZeVDYbWP6pvAChd/Sznn7+AWOzq1PoWeUnlMyxcuJBY7Kokma1tn2zrgZee57IlS4jdliw/1R6XLwmRN7Z1w0svcNlllxG7dXGS3NZ2G1q7ofIFLlt6GbFbkvUrDp2GTRtYdt0ybr8kRduvOtv2b704ue0n5MtC5KUH4/Lrr7+e5RfNTJLngmwMYdcCi4b9v5B4lHEIY0yrMaY9+HsVUCYiyRbMMuFzKfxmCfjOMXBejh82F8K5nJDjDhlY50DmWL/Q+MzhjOvb5jBa9KPmcHrqu+Ctn7bAMV9H/UznUGZLP1/nGV589DyqbOebXE7mBdnm4Pno+9YgX/YL13dIY5n/7FOIr/19zt75nirwAyZXm/i7Gq/YtvHZBCwRkYtEpBy4H1gxPIGInCfB1ReR5UG5qWPoDgzdSDmaL+Q9kXxoEY0tXdh2BO5l5ETfaRua3E1ic/oWdFTWxm2hTiYyJ33fbXzsxVvq6LK4LLPrl+u+6ew8dr9FHJmmc99MOLO2mzgv30VIuZqr5zsR32cj6Li+SxmZ69sWELpga3tebcTYnzu5tZ9n3+Xdd7rohy0icen3IsqwPLdtbdd7CzBXdcsinHziPYRtjOkXkY8BzwAlwHeNMbtF5KOB/BHgPcAfi0g/0AXcb3K4AkXXtihK5vg0H9+vMTiX46U9ivE9Mc+vaWSxiKIkP4toxrABlXOKbMyBTAxLrxpx7JFhf38T+GY2yoLhbxKWN47Q5fzR+rYIojW6NVROdAWsy/lDx6Atb6EjyklSl+itIIwJ101kG/0WbNuKw15/6xB45DZE9m2E7BHMiARE33v+9kukCtO3Xz+b/Vw3vE7WlWF1jMwgtOworNvgWIq1bYE1FH/NcCuMob7D1natW3GEVtCt/Iz7PrfIfKbfIrfaz3LzGyx9h20bGEsdbW1vqI4RMp++w6VfsX3L27aNkL18i/0i6mc/f4frZ9uGyPrcDtcdni5V2fE6Rqpn3HatW5CNKCdJ39b2hsaOLH5LSP65oEi/RBNNvt7vxvKbuHLu4hMdzFuTGKNtzzsA6ZpujNrPn9wbRm2vjBXGpAOZIHcTyfOjHx6FcJzI7rEIxxoBtOlHvgUXepKzSxq/ifS2CKhV3yOK4Zomp/ppHnfO13Mive8imHzN48/VQr989X2ZRkDTKSNXOUS2Xd+8ve3vYj9b/N2vBrnW9l6EUtjHi/fi3VwtAMwFRelAZmsiefiXYBLDUH75Znohnc7LcyZ1Ljcszkb1vYbAHYagbUPgVrwngmeYuYO+fXRZMr7+rkOomWIbArXr+80B9P4Uo+PQdKb2y/kimiz1fZFpCqgfHwK3lxFZvvVLKpk/wf2nz3j2HS72z2Hf56PvOqvGtnjVd+qbDe9FMBmefy4oSgfShn0Oo1/+ZxeBZ/oQcH2ViC7fXk56+b5eN3oei1U/Q1k+cLJfoSOAGcrOpvF4iDmWkVLX0os6z6EM00+U47ji0vV4cjq/HAr98mn9jKqHA+ui6RNFKmT03XcOo434/GUP/XzYr9Dle0Sv00mXK7wjiGke90npS1E6kEOTSX3fJG3HM+3EhybSW9J5vElEvoU66UfInLbiiH4L98FpEYzlLTrnW2FkLEwk8bOfz/WLOwGjNQI2oqC0M/BL5xzBtCzCCcPXfrbv+fqSD/PbFsH4FeISgfOzXmTbI3oLMpe8XRc6helby4jsOz2fHjnuu6L0XbZwitS3PLfti2jc8I5ghh0vwOTaonQgbeTLkDoZWhmL+NzXvp2oczljtO3528XVAfYoI3PVUU9etvEZqzevcs5R1A6k65yH5OOJCGZmbwL2rUjc6hX6sBiahxQ+DOUyjyXy/C0vkdatMCL1Hbai8J2HExmBtQ9v2t7ibRPpo6Moxr4Ix8f+tgisRR/c5opF6kerZ74Nj+3aWeeHWcof2gw4OoxgG4ayRUG87WeRW6PMYcdzfV9YOh+X+ctRZ28bArZtYYWl/EQZkfoefZfrNlZR+j6jJ9YtwPDt+232c+i7ogonKvofPDczvMezFQG0LV61biNk67sy1M8FRelAuj5EvMvxGAYNMlAyxNaJ2TPIVk3GHj7Oic/DNZ10mU7/GP142i9LfZ+XE1W0tnd5dvifnLcDq31XTnD/DGd4DsrrKUoH0hnPyazh2fpl4LsIxl3fYyJ7xkKXJIWe5GwvP5cT+d3s73mPeWn7k2kEzJ6v30R61+J9J7IXfBslz4UIofn6ll/ARRiujO4tyFz6Lsvoh0/5Bbx+votQ8oa335H5czui+JxQ1A5kriZDu4bCbflmGq3xnMacl0UwPsMoVn0gchjLYQjca6i00Oef4+tn+xJPtK5bGRljGUK2qntGQJ1PK1TfbQg+077LNgzmy1C2OXwK+W9h5XHvW6bvuGDru3ycTKe+33MRUqSNXPquyL7X7+nlNTfXMXof/txPJIt24DKd+jaynGR9twxs02/ySVE7kGGcnYaTm17Q+yHg+SbhHoVJ7/jr0kTuw5j7CF4ucTr/yHlYDvqRQ/D5iID6PcQyf3myzc2ToTIywTYHcWQ61+PJ6cIeIn5tz8bZ88osB2vf59l3ufpf4RFoh3s/Q9nZNB73vuXl07fr8t2H0nsbHpcyImV5uH6WLajs+o4Jc4TfkyNq9MCx/DwaoCgdSNeHiI3Qhhw9D9w540znarpt5pq7t9B8bKQdmbWx2S63i0hczt9/Kw2/6xdpf8/NhN2Kz83rrmv0Plzf8S3eeyJ9ZlGIoQiiWzHJ+jl+ONi+RW7Xd0iTy9EPhwiw953rEQF1ydprAZbHNjjWvIfSFPbZk+nogT2CGP3g9227SeWMPO6sH3K8ACHIonQgbeTLkAWIGCtK7vG5sT2HkJ2LKd5VNJHkco/C15eT+zKKkXyc21i2n3JukRUHUkTuFpH9IlIlIp9JIRcR+UYg3yEiN2Sj3Ey3TDj7huf3JhCGfSpGMIxneROKWgQT+RZpmUfmoh85DCEuUYToQH70g9LvLdqm7jSH0jKRPtp+9m18/O0foR8hO5vGbag5VN8x0pZ03CMy7ILTFlZEzYOKjsDZ5iAORVDtk3Aj8baT5zBYeLa26Jil78K37fnpx9PYopQebdfarqLxj+A59F2W0Qtr35Pr6xeqm2i7luem5/QPe8Jofdvi1dBibH2XbQ6n78hpBng7kCJSAjwM3ANcCTwgIleOSHYPsCT4eRD4tleZeTKR73BRgadiFDW2Tsyur9YPw+e2ztf0mkLPY8oVxdKnjFHz5+W8/HcaUHKB8xzCsONjtVPyIBsRyOVAlTHmsDGmF/gpcN+INPcBPzRxNgDTRWR+FspOjTUK4Yf393xdJ/KneTw5XVgUwHMRh0vZlrfQwlLg83fSj4rg+tXfhssc0ihdl/K9P6XomM71eFK6NPN1zyGas3NAM8M2h9HbgRWcwmShpXi+/PkuwrHhuz+pDbGFYK36uT1/Wwb56Lu8o+cFfr54P7dD7eeWQz6fr9lwIM8Haob9XxscSzeNM2cN5DlfyBqK9ss308nQ2RjGsOvnbiJ0Nq6LzQGzfgnG6sBkJhtKk8tFTE6LYDK/AVydgJS6Oe6dXb8jH67vmM53K47QvsNtCNPfgc7NTDrXvsumH5kmUuYyfSXztpeNRTS22TdeD3Dj2Xc52d+z78ow76yVb3luh+Ea+LGtAg8dQneeAB522E3ft+/KJqVZyCOVtUeeikuaeEKRB4kPczNnzhwqKyuT0tS0DQKwa9duxp/anyTfc3oAgG3bttFVXZIk33uiH4CNmzZxfHKyD737VFz/tddeo+NohP7GjdSm0D94rA+AtWvXMqU8+dT31gX6r26kJoV+1dGz+pNT6B871guQ0jbD9V9Z+wqTylLoV/diTLh+XV0Pvb0DofLq6l6MMZH6fRH6p051MzA4GK5/ooeenmj9jq7w8ltauiiR8PM7fbqbdot+d0m4fmdXJ42N3aHy1pYu+kolVN7V1UVjY0+ovL+/n+PHa6msPJlS3t3dRUNDhP5AP8drI/S7uqlvaIgsv7a2hsrKxmTZYLzZHj58mEqpTZI3d8fbZk9P6vr1JfQPHaaSZP2mQH///v1Udh5Okle3xtvmrl27qDi5L0l+umuYfkey/rFh+uUp9HedirfN1157jfYUbf9oS1x/566dlDbuTZLvOJnQ30rbkWT9w4H+jh07GVcfob91Ky2HU/Q9x+Nt+9VXX+XIxBR9x5Gg73jlFSaUJrf9/YH++g0bOBShv2bNmpT6NdW9GMLbzqEj8b7plTVrqAjRH4xo+ydORPc9NTW9DA6E69fXR/cdNTU9DAyEy236TU3dtPWEn399Qw/dXZnrt7Z1YbrD+47mpm46+sL129q6GNcbrt/T001DfXjbHxgYoC8i/56eHurr66msbE4pHxwYpKamhsrKhpTy3t4eTpyI0B8cpKY6tX5Pf7zvOHT4EJWmJkl+sjNo+/v2Udl+KEneFehXHTpE5WB1qP6+fXupbKtKktvabqNN/0ygv3MHUp/seu1ojLf9rVu3cOZQctuvSujv2AEnkvV3JvS3bKGpKlk/F2TDgawFFg37fyFQl0EaAIwxjwKPAixdutTEYrGkNPvqW2HtGq666ipi1ySPhJdVnYJNr3L99dez/KKZSfL2HXWw/TVuvvlmLps3JUlecvAkbN7IDddfz00XJuu3bY/rL19+M5fOTdY/uvYI7N3DnXfcwYxJ5Unylm3HYcc2bl6+nEvnTk6SH37lCOzbw5133sH0icn6W/sOwKGDpLINQNWaw7BvL3feeSfTJpQlybf07ofDVaH6zzTtpLy5IVS+qWcfHD0cKn/69A72tjSGyn9as4X6jvD8nzq1gwOtJ0PlP6nZTOfpTmKxu1LKv7l3HRVl44jFbk0p/+/qzXQ1het/Y89aJpaXEovdklI+cUslc+ZOJRZLvRbs67vXMmV8hP7mSubMnUYsdn1KeUnlM5x//kJisatSyidseom586aH67/0DAsXLiIWGzkVOdDf+BLz5s0gFrsutf6LT7MoRL9vYBCefYqLLrqIWGxJkry+pRsqX6CioiLl9evpH4Bnn+aiiy8mFrs0SV53pgsqX+Tyy5cSu/mCJPmeulZYt4arrrqa2NXnJclrmzvh5Ze4fOnlxG5elCTfdbwF1r3CVVdfTeyqZH05ELT9G67nxsXJbX9nbQusf4Wrr76G2JXzkuRmfyNs2cQNN9zADRfMSJLPrD0D69dyzTXXELsihf6+QP/GG7lu0fQkefNrtbBzO8uX38KFsyclyatKDsP+eNufMj657Z/eEte/9ZZbuWDWxCT5gXGHYP8+7nrDG5hUkfx42Ni9D44cCm2b+ySu/4a73sDE8mT9DV37GFd9JFT/yZPbqWo/FSpf37kXqTkaKv+fxu0c6TgdKl/XuZdxx4+Fylc0buNYV1Oo/IdHNzHQ1k0s9oaU8t80bKO2uzlU/wdHNkJHL7HYnSnl/7LrFWZNKicWW55S/r3DGxnXGa4/eecaZk0ZTyx2c0r5+FdfZN68maFtf9wLT1NeJqH1H7/hRebNm0UstiylXJ5/igsWLSIWuyKlvGL9C5x33uxQ/XHPPcUFF1xALHZ5kqyztx+ef4aLL76E2BsvSZLXNHXC6pe4/PLLid2U3PY7euL6l1xyMbG7kvWrT8f1r7j8CmI3LkyS29ru0VMdsLqSK664gtgNyfrTa87AhkD/8mT9gb0NsHUzN95wI8tStP2p1c2wYR3XXHstsaVzk+R9ewL9G2/imoXTkuS5IBtD2JuAJSJykYiUA/cDK0akWQF8IFiNfSvQYow5kYWyU5KvUO4Y3UlEOcfxua3ztxfZ2Gx8vvbz3cfynCcPZtHnhjJW8I5AGmP6ReRjwDNACfBdY8xuEfloIH8EWAXcC1QBncCHfMsFj4n0Q9vohOTru8WGtV5nZ1NE6du+52uMsW45EaZvm8MYPQdRrJ8Ts27lEFm6yxzAKP1obFOUrFthWAqJ60dNJLfPYbTPAY1Qd5lHZd3KxKYfLQ+fBp7ZvOAhfdd6WRbR2OcwhrQ9GZluZAaRxQ8rJ1ruco9G6lu2EgnN17fvGzr/8PJtc+Aii8hG32Hbasez7UXnbbn/HexvmwMZVYJb3xsdV7LOYbTZz5K373M7Uxt7f4SARPmp5Wef29H52vTDtxEykfq5IBtD2BhjVhF3Eocfe2TY3wb402yUBbmfyD9UjmcxhV9tXLzYHFirfqGX4o1ifO7LfFl1rF4/3/Mqlr5vtJKP0/J/boxR4xcY5x0YLA6scpYx/SWa0CiIbwO3bEZs1/dL6LsViUsGtrdYu376kdF8kY8O3hZFsetH2c+zfAsun1OL0o2qgDWCZ8EWQRxKF3rc7bwK5QR47wDh2PdlvAUZ0ZvojywnWd9FNyp673Dve1w7YynD/9nhN33AzX5R+n728+/7M++7vJ97eSIq+u6nX+gzS6YoHUjfTjBB+HL8oZIyy9cyjDMyXfJxz1C6r13ysBVH5BCw0zBM1BC6yxBuZrKhNLYTsOpnJsuGvm0YKVJX/F6ebNi+R5vFktI46p7OdXg0c/sH+jmaSGebPmPX95x+koebP5f9o3UI3pY30V+CsZbv0ndZph/ZM8hQ5lCGT9/r+nWt0LZrG0K2tF3v57aTtovfkj+K0oG04TyXIEO83+LzFEq37WeVSdnZ0S/sm5TbW3hUFMShjJzaz0/fhstDLFw3KD9EbpsHZMM1+p/pHMCz5YTl66dvw/Xl06pvm0eWUe7By5vHkyof04K87n3ry6fnFARv+zm1/sjyM9fOvf1Hg74v/s/tMH2/8nNBUTuQuVqx6Pt27xvF8C0nHxuS+r9FZiZzKt9F3zYRPMflRwcwXaI4flGEfESpC5Gv70bgznsBe0b/89XHpJ1vEYxe5HIjbBci658X++Xu/P3183D9vNte5mXH9XM0elHgkcdMKEoHMl8OtrcnP/qmLBQNmawuV9zwmUuTt7aXp3KU1IzVNpaP0Y+sfC5SyTq+cxCVZIrSgUxgf5OIHsbK9E1kaBgubC6C9XNmEl2+ZRqYbR6Uu35I+ZjoRmTbJiGi7ETFfN/iffStw0gmegjXpm+fwyk538ok089oQnButjmklns//N7zH0KNlxNdL+u9HyIf0g+d/nG29afUtwwhny0n+nimc3jPTiGw9X2ZziNzI2oYL+dbWNlv3kiRve37RNDEa/TG6fw97Gc7Aact3KL0LROwo66fa5uyp8vsuT2ynGT9aD1723PVj65ZPh3gonQg8/WGlq25kkp28Z3DeK7jY5m8tb0xev10i5fCkg/z+Reh17iQ2BbRKGcpSgfShn1DzewMMeR+EU3mi2CiyvHeysGpbL9FKLnEdyJ4USzCcUgTRjwK47eII4yh+F2mbSeh77jaOVnfcSJ7mvlmWs5IvOdGekZArYjjNj4eW5l4byPjtYgmt32XWEYPXPStaSL1Hfou3/JzdP3c225hnzC5msKQry3I0qFIHUi/YbAEoQ+hoU7Y80bIsHznRTBpHnfW91wI4LsVRNTXCID4EK5lGMlu+8xkZ9NEle8wkdxjGCsoJHN9i/0iVRND0DmasO27i4/3RPocT8S3TV+xcdYuubkA3vtQFsUWVrlbbWBsY7g2fTKfvpBOGeGy0X39IOq54/ZSmbu2m9sh8GzpZ5MidSCjOTsPKDX+Hnq2HgKZpfPfkDTzstMpP1y/wG+ILhHEKFke7Be9iMizAjYs89BcsO+llqkDG+g7zjdyPZ4vfRuu87jC9W0P0Tz1XaFRFJcyoiKAfm3XhsscSB8E3yhzPkaPPPVzdP1y3fayRSGf2+mkywZF7UBma7gn6bjnG2rBoyC+EUQ3dS/7RaZwqEC0vksEMHoiuF3fq3jLNkAu9vOZyJ+N6H1u8G57nuX4RwF84/+O2gWINrjg33YK23Zd8N7CKzJvzwig0/nnsu8r3PXzt71zSi997wim53M7mxSlA1k8i2gKPduveMnlW/S5TjGYZqxev2LZJLnQ88hyRTEsohmbli883h/g0AuTRFE6kFYscxit8+Mch8cy/qSS41yM8GG0xBzQ6PJtw0hRcylcvkcb9SLl4wA6vUn5RAEsE9mzsQ2ObRFO9KcYLcNoWO5R49BZWiKg1r4y4y2koodQ7W/x0ffe2W2Eott+xtvgWKaveEfvh+yX2f1nm8Nom0PpPo8sOgoSWnuXLcCi2o617dpf3KPbbnTjs7Vd2w2QjReI6Pnfti3Y7PaLLj96EZXv9RtKlOrwsDJSlu058uYeAYzWti+CsfSdGXbdrn1HNin1URaRmcDPgAuBo8DvGmOaU6Q7CrQBA0C/MeYmr3J9lNMpJwvzXZTMiJxH47mS8FynGDY6Hqtv+/59Sn4MM2btnwf7FUP7Ohdxn4Pop38u4RuB/AzwgjFmCfBC8H8YbzLGXOfrPLpg30zYs4Enysl40oFjKD1HnV0+htF8t3LIJW4TwSNkTicQ5QD7VSA/W5lkqOu5EtGGLQI2Mp3r8Xzp24kePXDFvpG4X772UZrMRn9saXz1bRhb+Vm4Lj5zMH2n7xTa/j76rs/tQk8dy9UimLG4iOY+4AfB3z8A3u2ZX1rkajJ0LidZvy5djibj+m9FkvvJvNZhJC99vwr4L4IptL6L/fxu8lxN2PaeCO+Zzv1rFJ5t1y1ZuH6OLkDe+j6PLcByuYjDBd+2l2neWdPPof28FsG4tr2ouVMe+vnaRidn018KsIzG14GcZ4w5ARD8nhuSzgDPisgWEXnQs8w03kRCjruWE/om4Vl+gd9EnIaAvd9io+ZQOuj7lu+5DU6hF/HkciuT/Fw/vwisbQ5j5mRn9MGeLnoOpVU/V23fefTDs3wP/cj26bmFlf8WWl7Fe937zvqR5+97Anb1qAr49L3ubc9T37ft+LZd377DrZisYJ0DKSLPA+elEH0ujXLuMMbUichc4DkR2WeMWR1S3oPAgwBz5syhsrIyKU19xyAAe/buZXrLwST5jsZ+ALZs2UJTVUmSfGcg37xlM6cj5FtC5LsS+ps3c+pgsvzQ4V4A1qxeQ0Vp8uXc1XBW/+TUcP3Vq1dTXpKsfzgNedm4cPnLq19OKa+v76G7eyCl7QGOHI3rV778MqUp9bvp6hoM1W9o6GZwMFxe3xCt39jYTWdnuLy1rYtxve3h+g3ddETot7V1UdbXESpvb+/iVL9FPhAu7+jo4uRgZ6h8cGCQ6upqKivrQ/Q7OUmE/qCJ1u/spLGxK1zfGI4dO0Zl5YmUcmPg6NHU8oagbXZ3d4fmj4GjR49SWVmXJLK17SH5nr1MO5Msr2uPy/da5Ht272Fq84Ek+c6Gs20/Vds+Hujv3r2HyU3J+rvqE217E40p2nZtW1x/1+7dTDy9P7n8QH/Tps3UT0l+v98dyDdu2sSJFPJE3/FySNsc0t+4ieMp9A8fOatfkkL/yJFE269kXIon4tm+IbX8aCB/qTK1vKEhum0fS+SfYd9w9Fgvxlj0O6L7ng6bPKL8kye7aY/Qb7e07VOnovU7OqLbdmdHJw0RcmOgr7c3XL+zk8bGiLYNHAtp2wn9hobU+oNBaC2sb0jIjxw9QmXl8SR5om3u2bOHKSna9sBgXP/wkRD9trN9Q6q2bWu7NW2JviFavmv3biakkO8aavup23Z160A83a5djD+1L0m++8TZvuH45Pysj7Y6kMaYt4TJRKRBROYbY06IyHygMSSPuuB3o4g8ASwHUjqQxphHgUcBli5damKxWFKao6c6YE0lV1xxObHrFybJB/Y2wNbN3HjjjVy7cHqSvH9PtLwvkN90001cff60tOX75BAc2Mddd93FhPLkh0jP7np4bQs33phafw9VcGA/d911F+PLkvVt8t2mCg7G5RWl6ctXNGyjuquJVLYH2DlwEA4e4I1vfCNlJck36q/rX+N4z5lQ/V/Xv0bVmROh8ifqX6O+N1zfJp+ycw2zp4wnFrs5pfyXJ16jsb8lVH/y9jXMnh6ub5NP2raa2TMnEoulnu5rk4977ikuuOACYrHLU+u/tprZs8P15dlVkfqTX3uZOXMmE4vdGKq/ePFiYrGlqesXIU+0zfHjx4fal2ee5MIQ/cMn22HNy1x15RXErjs/VH5liLyqsR1eeZkrMpTb2ubBhjZ4ZTVXXnklsWULkuTdu07Atq3cdNPNXLlgapL8QEMbrF3NVVdeReza+Unyrp1x/ZtvvonLz0vWt8l3DUa3zY4dgf7ym7ls3pQk+Y6Bg1B1gFgsltKBTMjf+MbU8m39B6DqILE3xhiXgdzWNrf2HYBDB0Plj9dt5dRAa7h+7344XBWuf3wrzYNtxGJvTCn/+fEtnDHtofKf1W6hlczlk157mbkRbfMnNZtpp5NY7K6U8olbX2bu3HB9m5xnnqSsvDzUPhO3VDJn7lRisRtS6z/9JIsvvJBY7LLU+psrmTtvGrHY9UmywUEDz6ziwhB9m9zWNgcGDTy7iosuuohYbEmSfKhtXpW6bdra7r76Vli7Jq5/TfryobZ5880sPS+5be6pa4V1a7j66quIXZ2s37a9Dra/xvKbb2ZJiradC3zd1BXAB4O/Pwj8ZmQCEZkkIlMSfwNvA3Z5lgtkvhWGbSK5dYK+Y/k2/TDs+mIp37wuXbrluGzF4KefWb1GlpGpvmDbCiORKkRf/K6xSPREetunHG3l2+wP9nlkVv3QLaTsSEQ6m779SyrmdemS9aPzt26Dk7j3M9QfSmexX8Ztd6jvS42974ssdljfFz2H0TYMGDUH1WUENbT9Gr/+1baFVXwRTOZzAK1t16Hvj94CLHobH7GU4bKFWFjxZ5870fr2LaAyfG6PSBeG/xxIy70fomffAizRd4XoZ+n8s4mvA/lV4K0ichB4a/A/IrJARFYFaeYBr4jIdmAj8KQx5mmfQgu8yMqZYqnnaCR6H0oX/ezVZazhu7pfTZs5vrbL1309Zq9xHgzo3b7GrPELi/8cSGUkXvtAGmNOA29OcbwOuDf4+zCwzKectOsV/PadzBrG2ShEZqueimERTi73YSx0Q/SfiO6pb1f3dzQ8cjAe5TtFISwR2CiGIlC2zfrTPJ6czi+HTPsY1whmqP5Q+SFRnKF0mfZdry8nPF1mEeB4Inv5mZTtgnULK99nB9EbcVv182G/yPId+n5P+4U/txzbXoGfMP6LaPz08/mELeov0XhveZDmcfd8fbcj8CvHfysIx/p7lB85BO1StscwkLX8fGwjZPkSjV/5LvX3u0mKfxuZUImjfuZD+NHl50c/NN88be+UK/vlYyuT6L4r9/bL5RZgLhT6O/K26SN2/bB7z++5nbft+8KO56pTiKAoHUj/Ibj8RADDy3dNFx1FyLQcp21gvKO0fiE437fgyDmMXtqO9ivwVhy+EdTorTgc1DOUnS3DI4IVkS5v0X/LPC67fvoSl1T5sl9ovp5pimMLK78KePcdGebtQl7s51ybEP1RGgH0H0LP7ehHJhSlA5nA+03GYzPbqHT+byKeb0JuxRdU33sz4KgInmf5Lti+R+tTfqGjED4RUOd7xzMH73s3Z9F71/LDjuc++h+VzjuC6xlFcr2A3lEon77ft+1ELsLxG/1wsV+hnzuhi3Cc9QsdQQw7XtjndiEoSgcyfxPJdTJ0wfCdQ6i2zxl5+Z5wzksoFMXRpxT6c3C5oihOqxjqWIT4jj7ohUmmKB3IBNbtACzz4DONYdm2orDhupWG/1Yi0cNoUVGM6CHkCCE4bMURnUGuI5gitq0w7EPA0XMQffXtW3FE3r2W6xetPbyMCH3bW7zt/DOMAti3sHp9umT96HJsfYdd30TqD6XLcBuckenSL99iv+hik8pJpe+3BZiJ3oFhSD+i73J4zkeXH64X7zsi8rWUK5Y0dn3LNkJEO0oubS/TLcSGFtBZ7Zf5vR/Vd9q20RlKZ9G3kfEWVtbndnTn6fLcDtfODUXtQCqKoiiKoij5Z0w7kN6LUCwRzIzL953M6zuR3kU3ch9Gv5ncvhPBvRfh2NVzOpHedxGT/yIYv/L97Z95+fnYwgqi2q5n28vbRHy/vic8X4c0kfoO1z5D2dk0nn2Xb/m+bc+zAr4RKO+2m6FsKE3ks8dF3yFRdA5e+frV3j76YdfPXwyyqB1I/1C0r77nZOQ0jzuXX+DJvJ7z0N0mgudwsUN+FsFkOoHCXr4LtmEoq77vIhgv7RxOZHeeSO+xCCMyX099z/o7L4IpsP28r3/Ycae+J3r6SMaF22Qu6h6LcLIxfcFJ3zL9ImN9zwrkYwuoePF+5RRyC6uRFKUDWfCtPNyKz8JyfM83IY8ojM8cSKu+Xd07ApqrzWztwkQR9nlc0fpexRc+Apux0F6+C97R+5y1fU/9fGyj4x0996yj7+iFt34O265dPacRuFxeG7fyvYp3rL/n9ctRBDBf2wjlL/5YpA7kEKEOt18cwzsKkqXJuDkvP1TfMwrlHYXJzRuaaxqfbWzi+plHAXzLd3+79YygeUfvffULHMHKVfS+SLbwCs03XxHgXN0/LroeUlsKp+p7j36EHS+Saxf63M599DkqXcG3AMt/ALI4Hch8jfHrN4MLh38ETq0fRj7mwflSFNutZEA+Ioi+jFHTA3myn2/7yk41lBT4xC/H6tZWPhSlA5kg0+0AZES6MP0wEjdSxm/xEp1uaCsOSzb2rUjCJuIn6h/xFh45jGUr374Vh3cEMHIOYXQGLtsIRQ/j2crHaj/rOVqG8HO3DYyjvu247fwzjCK4b2Fl0bfZz1a+NYpju8ds92g0UXMYfYYw7X1fdDrbFlL2+8qyhVWi783h6JFtCNqn74r3fRF9hyUD6zZCDvW3jbxl3vaD55at73Js46n17c/tTPs+V2x9V/j0mejy7fazPLcdzz+bFLUDqSiKoiiKouSfonQgnSez+i7Hz9VkWmf99PJ1pfCLOFwm4meWt5O+5xC4/zZEDufvp57bRTy+W3l4lO9+7+emjeRvEU7mfdeoXsThuwDOqfzcLKKw5e2kby8+C/p+559p3m76DmlyugDR5foV9rltG/2w6+cvBOnlQIrIe0Vkt4gMishNEenuFpH9IlIlIp/xKXM4/l9TCDuen4UI/tsRpJmxo7rr6fsUn6tFJM76HsNI9swzT5K3LaB8y/dcxOK7CCd8/VZh7edKzhYi+JbvbD/PIeRCL8Tw6Pwiv2LlUnaGsqE0HtN34vrpHR91+m7JIvQL+9werVuAZYJvBHIX8L+A1WEJRKQEeBi4B7gSeEBErvQp1D+CmK83gTB91yhG5m9COX2L940g5uMt1PMt3mUOaHT5uYzi+Orn/vpF5u1Rvn8UwDED39GLsON50M/pNjR5aLuReeclApVZ3mfTRJ1/4aL3WdG3q+f0GvtuI+V2/cLydVCOSOfdd3nq54JSH2VjzF6wNorlQJUx5nCQ9qfAfcAen7IBNh5pSnl8x/EWJ/3n9zZwqLE96fj2Wjf95/Y0crAhWX+nY/nP7WngYENb0vHddW76v9xay8TykqTju+pa3fS31DKhLFm/uqnTSf8Xm2sYn0K/ptmu3zNg+OnG6pQyF/2Onv5Q/ZauPqt+e6R+v1X/REt3qH5rt738E2e6Uuq7vkXWhegPOmYQpj/g+Bq8r74tpX59a7eT/p4TrSn161rc9DccOc1girrWnely0n/1cBODKYy1vfaMW/mHT9M/MJh0fFuNu35vf7L+a9Vu+s/uqWfvieR2vtux7T+zuz5lP+Oq//jmWipKk+MPe1z1t9RQXpKsX9vsdv0e31xDWQr942e6nB60P99cQ+m45JS1zV2UlkTn0N4d3nfUnelKWa/htEXot3Xb+54o/XYH/eMhbb/fsfOobe5Mqd/nrJ+6/N4U7SkVe+pS9x3HHdv+7hB913svrO26PLcA1h86TU9fsv7W6mYn/XVVp+nqHUg6vuWYm342Ee/hOkBEKoFPGWM2p5C9B7jbGPOR4P/3A7cYYz4WkteDwIPBv1cTj3IqY4/ZwKlCV0LJGXp9xy56bcc2en3HLkuNMVOylZk1AikizwPnpRB9zhjzG4cyUr3Ohc9AMeZR4NGg7M3GmNC5lUrxotd2bKPXd+yi13Zso9d37CIiSUE+H6wOpDHmLZ5l1AKLhv2/EKjzzFNRFEVRFEUpEPnYxmcTsERELhKRcuB+YEUeylUURVEURVFygO82Pr8jIrXAbcCTIvJMcHyBiKwCMMb0Ax8DngH2Aj83xux2LOJRn/opoxq9tmMbvb5jF722Yxu9vmOXrF7brCyiURRFURRFUc4divJLNIqiKIqiKErhUAdSURRFURRFSYuCOJC2TxtKnG8E8h0icoOrrlJ4PK/vURHZKSLbsr3lgOKPw7W9XETWi0iPiHwqHV2l8HheX227oxiHa/v7QX+8Q0TWicgyV12l8Hhe38zarjEmrz9ACXAIuBgoB7YDV45Icy/wFPE9JG8FXnXV1Z/C/vhc30B2FJhd6PPQn4yv7VzgZuBviX9cwFlXf4r3+gYybbuj9Mfx2t4OzAj+vkefu8Xz43N9g/8zaruFiEAOfdrQGNMLJD5tOJz7gB+aOBuA6SIy31FXKSw+11cZ3VivrTGm0RizCRj5PUdtu6Mfn+urjG5cru06Y0zie3gbiO/Z7KSrFByf65sxhXAgzwdqhv1fGxxzSeOiqxQWn+sL8a8UPSsiW4LPWiqjB5/2p2139ON7jbTtjl7SvbYfJj5KlImukn98ri9k2HatX6LJAS6fNgxLk9ZnEZWC4HN9Ae4wxtSJyFzgORHZZ4xZndUaKpni0/607Y5+fK+Rtt3Ri/O1FZE3EXcw7kxXVykYPtcXMmy7hYhAunzaMCyNfhZx9ONzfTHGJH43Ak8QD80rowOf9qdtd/TjdY207Y5qnK6tiFwLPAbcZ4w5nY6uUlB8rm/GbbcQDqTLpw1XAB8IVuveCrQYY0446iqFJePrKyKTRGQKgIhMAt4G7Mpn5ZVIfNqftt3RT8bXSNvuqMd6bUXkAuBXwPuNMQfS0VUKTsbX16ft5n0I2xjTLyKJTxuWAN81xuwWkY8G8keAVcRX6lYBncCHonTzfQ5KOD7XF5gHPCEiEL83f2yMeTrPp6CE4HJtReQ8YDMwFRgUkT8nvhqwVdvu6Mbn+gKz0bY7anHslz8PzAK+FVzHfmPMTfrcHf34XF88nrv6KUNFURRFURQlLfRLNIqiKIqiKEpaqAOpKIqiKIqipIU6kIqiKIqiKEpaqAOpKIqiKIqipIU6kIqiKIqiKEpaqAOpKMqYRkRmici24KdeRI4Hf7eLyLeyWM7XReSuLOb3vIjMyFZ+iqIo2US38VEU5ZxBRL4ItBtj/inL+c4EVhljbs1inh8EFhpj/jZbeSqKomQLjUAqinJOIiIxEVkZ/P1FEfmBiDwrIkdF5H+JyNdEZKeIPC0iZUG6G0XkZRHZIiLPiMj8ILv3AE8Py/urIrJHRHaIyD8Fx+aIyC9FZFPwc0dwfLKIfC8oa4eI/O8gmxXAA/myh6IoSjrk/Us0iqIoo5RLgDcR/7LKeuB/G2P+QkSeAH5bRJ4E/p34d2RPisjvAX8L/CFwB/ALGIpG/g5wuTHGiMj0IP9/A/7VGPNK8FmxZ4ArgL8m/jnPawL9GQDGmGYRqRCRWcO/W6soijIaUAdSURQlzlPGmD4R2Un8c2CJiOJO4EJgKXA18Fzw2a8S4ESQZj5wMvi7FegGHguczpXB8bcAVwa6AFODb9C+hfi3a4G44zisTo3AAkAdSEVRRhXqQCqKosTpATDGDIpInzk7QXyQeF8pwG5jzG0pdLuA8YF+v4gsB95M3DH8GPBbxKcM3WaM6RquKHGPMmwy+vggb0VRlFGFzoFUFEVxYz8wR0RuAxCRMhG5KpDtBS4Njk8GphljVgF/DlwXpHmWuDNJkC7s+IzgtwDnAUdzcTKKoig+qAOpKIrigDGml/himX8Qke3ANuD2QPwkEAv+ngKsFJEdwMvAx4Pj/xe4KVgoswf4aHD8K8AMEdkV5Pum4PiNwAZjTH/uzkpRFCUzdBsfRVGULCAirwDvMMacyVJ+/wasMMa8kI38FEVRsolGIBVFUbLDJ4ELspjfLnUeFUUZrWgEUlEURVEURUkLjUAqiqIoiqIoaaEOpKIoiqIoipIW6kAqiqIoiqIoaaEOpKIoiqIoipIW6kAqiqIoiqIoaaEOpKIoiqIoipIW6kAqiqIoiqIoaaEOpKIoiqIoipIW6kAqiqIoiqIoaaEOpKIoYw4RuVNE1olIi4g0ichaEbk5h+UdFZG35Cp/RVGU0UZpoSugKIqSTURkKrAS+GPg50A58Aagp4B1KjXG9BeqfEVRlGyjEUhFUcYalwEYY35ijBkwxnQZY541xuwQkT8IopH/HkQn94nImxOKIjJNRL4jIidE5LiIfEVESobJ/0hE9opIm4jsEZEbROS/gAuA/xGRdhH5CxG5UESMiHxYRKqBF0UkJiK1wys6PHIpIl8UkcdF5EdB/jtF5DIR+ayINIpIjYi8LS8WVBRFsaAOpKIoY40DwICI/EBE7hGRGSPktwCHgdnAF4BficjMQPYDoB+4FLgeeBvwEQAReS/wReADwFTgXcBpY8z7gWrgncaYycaYrw0r643AFcDbHev+TuC/gBnAa8AzxPvp84EvA//hmI+iKEpOUQdSUZQxhTGmFbgTMMB/AidFZIWIzAuSNAJfN8b0GWN+BuwHfjuQ3wP8uTGmwxjTCPwrcH+g9xHga8aYTSZOlTHmmKU6Xwzy6nKs/hpjzDPBcPfjwBzgq8aYPuCnwIUiMt0xL0VRlJyhcyAVRRlzGGP2An8AICKXAz8Cvk48onfcGGOGJT8GLAAWA2XACRFJyMYBNcHfi4BDaValxp7kdTQM+7sLOGWMGRj2P8Bk4Eya+SqKomQVjUAqijKmMcbsA74PXB0cOl+GeYjE5y/WEXf2eoDZxpjpwc9UY8xVQboa4JKwYhyOdwATE/8EcyvnpHMuiqIoowV1IBVFGVOIyOUi8kkRWRj8vwh4ANgQJJkL/F8RKQvmNV4BrDLGnACeBf5ZRKaKyDgRuURE3hjoPQZ8SkRulDiXisjiQNYAXGyp2gFgvIj8toiUAX8FVGTrvBVFUfKJOpCKoow12ogvlHlVRDqIO467gE8G8leBJcAp4G+B9xhjTgeyDxDf9mcP0Az8ApgPYIx5PEj/46CMXwOJxTd/D/yViJwRkU+lqpQxpgX4E+KO6HHiEcnaVGkVRVFGO/L6qUCKoihjFxH5A+Ajxpg7C10XRVGUYkYjkIqiKIqiKEpaODuQIvLdYDPbXSFyEZFviEiViOwQkRuGye4Wkf2B7DPZqLiiKIqiKIpSGJyHsEXkLqAd+KEx5uoU8nuBPwPuJT7/6N+MMbcEKw0PAG8lPt9nE/CAMWZPdk5BURRFURRFySfOEUhjzGqgKSLJfcSdS2OM2QBMF5H5wHKgyhhz2BjTS3wz3Pt8Kq0oiqIoiqIUjmxuJH4+r980tzY4lur4LWGZiMiDwIMA48ePv/GCCy7IYhXHJoODg4wbp9NZXVBbuaO2ckdt5YbayR21lTtqKzcOHDhwyhiTtb1ns+lASopjJuJ4SowxjwKPAixdutTs378/O7Ubw1RWVhKLxQpdjaJAbeWO2sodtZUbaid31FbuqK3cEBHbp1fTIpsOZC3xT30lWEj86w7lIccVRVEURVGUIiSbMd8VwAeC1di3Ai3Blx02AUtE5CIRKQfuD9IqiqIoiqIoRYhzBFJEfgLEgNkiUgt8ASgDMMY8AqwivgK7CugEPhTI+kXkY8AzQAnwXWPM7iyeg6IoiqIoipJHnB1IY8wDFrkB/jREtoq4g6koiqIoiqIUObpsSVEURVEURUkLdSAVRVEURVGUtFAHUlEURVEURUkLdSAVRVEURVGUtFAHUlEURVEURUkLdSAVRVEURVGUtFAHUlEURVEURUkLdSAVRVEURVGUtFAHUlEURVEURUmLoncgBwYNX/jNLmqaOgtdFUVRFEVRlHOConcgD51s5wfrj/FHP9xc6KooiqIoiqKcExS9AzmhrASAao1AKoqiKIqi5IWidyCNif/u7B0obEUURVEURVHOEdJyIEXkbhHZLyJVIvKZFPJPi8i24GeXiAyIyMxAdlREdgayrI03G0y2slIURVEURVEcKHVNKCIlwMPAW4FaYJOIrDDG7EmkMcb8I/CPQfp3Ah83xjQNy+ZNxphTWal5wKD6j4qiKIqiKHklnQjkcqDKGHPYGNML/BS4LyL9A8BPfCrngjHqQSqKoiiKouSTdBzI84GaYf/XBseSEJGJwN3AL4cdNsCzIrJFRB5Mt6JhaARSURRFURQlvzgPYQOS4liY+/ZOYO2I4es7jDF1IjIXeE5E9hljVicVEncuHwSYM2cOlZWVkZU63j449Lct7Vilvb39nD33dFFbuaO2ckdt5YbayR21lTtqq8KQjgNZCywa9v9CoC4k7f2MGL42xtQFvxtF5AniQ+JJDqQx5lHgUYClS5eaWCwWWakDDW3wSjwbW9qxSmVl5Tl77umitnJHbeWO2soNtZM7ait31FaFIZ0h7E3AEhG5SETKiTuJK0YmEpFpwBuB3ww7NklEpiT+Bt4G7PKpeIJBnQOpKIqiKIqSV5wjkMaYfhH5GPAMUAJ81xizW0Q+GsgfCZL+DvCsMaZjmPo84AkRSZT5Y2PM09k4AfUfFUVRFEVR8ks6Q9gYY1YBq0Yce2TE/98Hvj/i2GFgWUY1tKARSEVRFEVRlPwyZr5EoyiKoiiKouQHdSAVRVEURVGUtCh6B1KHsBVFURRFUfJL0TuQ6j4qiqIoiqLkl6J3IDUCqSiKoiiKkl+K3oFU/1FRFEVRFCW/jAEHUj1IRVEURVGUfFL8DmShK6AoiqIoinKOUfQO5OCgupCKoiiKoij5pPgdSPUfFUVRFEVR8krRO5BGB7EVRVEURVHySvE7kOo/KoqiKIqi5BV1IBVFURRFUZS0SMuBFJG7RWS/iFSJyGdSyGMi0iIi24Kfz7vqZopuJK4oiqIoipJfSl0TikgJ8DDwVqAW2CQiK4wxe0YkXWOMeUeGummjDqSiKIqiKEp+SScCuRyoMsYcNsb0Aj8F7suDbiTqPiqKoiiKouSXdBzI84GaYf/XBsdGcpuIbBeRp0TkqjR100a/RKMoiqIoipJfnIewAUlxbKT3thVYbIxpF5F7gV8DSxx144WIPAg8CDBnzhwqKysjK7WjsX/ob1vasUp7e/s5e+7porZyR23ljtrKDbWTO2ord9RWhSEdB7IWWDTs/4VA3fAExpjWYX+vEpFvichsF91heo8CjwIsXbrUxGKxyEr17WmArZsBsKUdq1RWVp6z554uait31FbuqK3cUDu5o7ZyR21VGNIZwt4ELBGRi0SkHLgfWDE8gYicJyIS/L08yP+0i26m6BC2oiiKoihKfnGOQBpj+kXkY8AzQAnwXWPMbhH5aCB/BHgP8Mci0g90AfebuIeXUjcbJ6CfMlQURVEURckv6QxhY4xZBawaceyRYX9/E/imq2420AikoiiKoihKfin+L9EUugKKoiiKoijnGEXvQOpG4oqiKIqiKPml6B1I9R8VRVEURVHyS9E7kBqBVBRFURRFyS9F70AqiqIoiqIo+aXoHUiNQCqKoiiKouSX4ncgBwtdA0VRFEVRlHOLoncgNf6oKIqiKIqSX4regdQhbEVRFEVRlPxS9A6khiAVRVEURVHyS9E7kBqBVBRFURRFyS9jwIEsdA0URVEURVHOLYregTQ6hq0oiqIoipJXit6B1AikoiiKoihKfknLgRSRu0Vkv4hUichnUsh/X0R2BD/rRGTZMNlREdkpIttEZHM2Kg/k9GPYVY1tbKs5k7P8FUVRFEVRipFS14QiUgI8DLwVqAU2icgKY8yeYcmOAG80xjSLyD3Ao8Atw+RvMsacykK9h+gdyJ0D+b+/vZ6Wrj72/c3djC8ryVk5iqIoiqIoxUQ6EcjlQJUx5rAxphf4KXDf8ATGmHXGmObg3w3AwuxUM5ye/oGc5d3S1QfA6Y7enJWhKIqiKIpSbDhHIIHzgZph/9fy+ujiSD4MPDXsfwM8KyIG+A9jzKOplETkQeBBgDlz5lBZWRlZqf0Hzzp3L7z4EiXjJDJ9Jqxdt565E0fvdNH29narnZQ4ait31FbuqK3cUDu5o7ZyR21VGNJxIFN5ZinHj0XkTcQdyDuHHb7DGFMnInOB50RknzFmdVKGccfyUYClS5eaWCwWWakNXfvg0CEAbr3jDUyqSOeULDz9JAA33rycS+ZMzl6+WaayshKbnZQ4ait31FbuqK3cUDu5o7ZyR21VGNIJq9UCi4b9vxCoG5lIRK4FHgPuM8acThw3xtQFvxuBJ4gPiXszfAi7p38wG1km0Z/DeZaKoiiKoijFRjoO5CZgiYhcJCLlwP3AiuEJROQC4FfA+40xB4YdnyQiUxJ/A28DdvlWHl7vNOZqPmTfQG4cU0VRFEVRlGLEebzXGNMvIh8DngFKgO8aY3aLyEcD+SPA54FZwLdEBKDfGHMTMA94IjhWCvzYGPN0Nk6gd7gD2ZejCKRuNqkoiqIoijJEWhMGjTGrgFUjjj0y7O+PAB9JoXcYWDbyeDZ4fQQyV0PYGoFUFEVRFEVJMHqXFjvS0zd8DmSuhrA1AqkoiqIoipKg6B3Irr7cL6IZyPIQdnNHL3/5xE5Ot/dkNV9FURRFUZR8UPQOZEtXH5ODrXtyNQeybzC7+b56pIkfv1rN557IyjoiRVEURVGUvFL0DmRTRy/nT58AQHtPf07KyP42PvH8Wrv7spyvoiiKoihK7il6B7K5o5eLZk8CoLUrNw5ZthfR5GqoXVEURVEUJR8UtQPZ0dNPR+8AF8+JO5AtOXIg+7I8BzKXDuSL+xrYUXsmZ/kriqIoiqJk8bt/+efIqQ4ArlowjZJxwpmuXotGZuQqAmlysLj7D7+/GYCjX/3t7GeuKIqiKIpCkUcgj56OO5AXz5nE9AllNHXkaAg7yxHIxObnJvWnxLOCybJ32j8wSENrd1bzVBRFURSlOClqB/LIybgDeeGsSZw/YwK1zZ1Zy3u4A9ab5SHnXO1XOZzeLEdNf7qphlv+7gW215zJar6KoiiKohQfRe1AvlJ1isWzJjKhvIRFMycORSSzQWv32RXdZzqzOzSe2G4o219IHO70dvZk10ndFjiO2Z5faYzhC7/ZxfpDp7Oar6IoiqIouaNoHcjjZ7p49UgT771xIQDXL5pOTVNX1qKQJ9t6Uv6dDRLRwb4cru7u6M3ulkbjy+K3Smdvdh3Tzt4BfrD+GA/854as5guw5uBJ/vGZfVkfzlcURVGUc52idCBbu/t46Bc7KBkn3Hfd+QDEls4FoHL/yayUcWrYV2Ias+xAJiKQXVl2xobnl+28E75uW3d2HdNc7oX5xRW7efilQ+yua81qvqfbe7jjqy/y9K76rOYLUNXYxsGGtqznqyiKoijZpCgcyO6+AZo6eukbGGR7zRl+5+G1vFJ1io+/ZQmLZk4E4JI5k1g4YwLP7M7OQz3hdFwxfyqHT2ZvaBzOOqfHz3RlNTo2/LOOHVmPFMYdx2w7fK1dudn8Hc5u63SiJbuLfw6d7OD4mS4+86sdWc0X4L2PrOet/7o66/Nudx1v4bf+uZL99dl3Tn+1tTYnc2O7+wY4eiq7bS+BRqUVRVH8SMuBFJG7RWS/iFSJyGdSyEVEvhHId4jIDa66qWjvM9z1tZe4/K+f5oa/eY4ln3uK+x5ey6GTHbxhyWz+JHbp8LL5/VsWs+bgKX65pTad00rCGMMvttSyZO5k3nz5XKpOttOYxRXIVY3tQDya19Cavehm87C5mseyOB8U4ntuQvY3ax++d2e2h/RLxgnw+mhyNmjqiOfXl4P9PJs74/aoO9OV1Xw3HD7N4ZMdfPeVI1nN1xjDJ36+nfseXpvVfAG+9VIVsX+q5ECWI7JdvQPc/tUXeWzN4azmC3Fn+kv/szvrDmpX7wD/8ux+mjqyv1XZ9pozOXmx6O0fZO+J7Eb/E7R09jGY7UnkAbnKV1HGGs4OpIiUAA8D9wBXAg+IyJUjkt0DLAl+HgS+nYZuEqe6DNVNZ+c0TptQxm9dPpeXPx3jvz58C+MCByHBH73hIq6/YDqffHw7f/nEzrSdPmMM++pb+cwvd7L3RCvvvWkh71y2gEFj+NiPX8uKI/LD9UfZc6KVe685D4BHV2fvIbbm4Kmhv1/Y25i1h5gxhkNBFHbjkaasPhwTzhjAoZPtWcsXoETi98fx5uw6Y6fa4w/xbG8IP9yux7PsQCYc9Wx/7nP4C0BHlvPefKwZgHVVpywp0+Po6Q5OtHTzlSf3ZjVfgL/4xQ6+t/Zo1qdNrK06xTderOJTj2/Par4A9z28lrd/fXXW97v92aZq7vm3NTy/pyGr+Q4MGm7+2+f54Pc2hqbJtI96bM1hbvjKczSHOOrGmIwczJauPt76Ly9HjpBl+gL96OpDfP43u0LPubtvIKM617d086f/vTX0ZdYYk/GI1HdeORI5BaimqZOBDOp89FQH33zxYOi93NzRy4mWzPrWH79aHToiMjho2HIss2fjoZPtvLS/MVS+r741o+eBMYandp6guy93u76ks5H4cqDKGHMYQER+CtwH7BmW5j7ghyZuxQ0iMl1E5gMXOugmMblMqPxUjAXTJ9DVO8CkihJKS8J93tKScXz9967jd761jh+/Ws2PX61mYnkJF82exD1Xn8dtl8yivKQEgNMdPWw51syPNhzjnmvms+VoMwbDgYa4E3PzhTN4/60XMqG8hD+JXcLDLx3ipq88PyRbMH0C86aOZ/GsiSyZO4UF08dz9FQni2dNpO5MF7/YUsukilKunD+V/kHDiu3HqT7dSV1LN1PGl/KP71kWjwitPcL6w6cR4HdvWkh9aw/jy8bR0tXH2648j4tmT6K+tZvpE8o43dFDY2sPz+1p4J3LFtDR209HTz8/3tLN9w5v5OUDJ7n9klnMnlzBiu117Dzewu2XzGLZoumUiHC6o4fqpk5uvnAml86dzKTyUs509TFjYhnNnX08sbWWK+ZPZcm8KVSUjuO5PQ0Y4pGg/kHD9RdM57XqM1z6uaf43L1XMKmihIUz4qvfT7X10tbdxz3XzOf86fEtlRZMn0B9azeHT3ZQ1djOW66Yi0h8DuhrNWfo6h3gmy9VDV2/u7++hk+89TLmTa3g4jmTaerope5MF1urz/CuZQu4cNZEBk18/8yK0hKaOnp4ckc9t1w8kzlTKpgxsZyX9jWyYPp4Hn7pEHXB0PU3X6qisa2bdy5bwP6mAaZWN1PT1MnuulZKxwlvuXIeC6ZNoLrp7PXbVddKX/8g118wnUkVpZxq6+FMVx/VTZ3887P7gfj+oO99ZB1/8qZLmTq+jEkVJRw73cmJM128UnWKP7zjIhZMn0Bbdz+Tx5fSNzDI6fZeXqk6yW0Xz2b6xDKmTShj/aHTXDBrIv857GXiEz/fxiffupSl501BJP7QrG7q5IW9jVy1YCq3XTKLWZMrqG/pYtGMidS3dnOgoZ2ScXDJnMnMmFjOoZPtTKooZXvNGb6/7igAT+48weUvHOT2S2dRVjKOieWlHDrZzoH6NrZWN/Nnb17CvKnjqW/p5nTXIHvqWuno7WdHbQvXLZrGxPJSKkrHsb++jdlTKvjOmrMRzfseXsvn33ElMyeVU146jrbuPg6d7OBXW2v5Xzcs5OoF05hQXkJHTz8zJ5XT1NHLjtoW5kypYNqEMi6cNZGt1c0snjWJVw+fZkdtCwBfXrmHCeUlXDF/KhPK4u330Ml2Xqk6RVNHL3/0houZP20CNc2dXDBzIg2t3VQ3ddLc2cdlcyczbWIZxkBTRy/jRPju2rN1/trT+3jrlfOoKC1hckUpx5o6ONDQzuOba/jsvVdwwcyJdPUOMGgMkytKOd3Rw8YjzVy5YCqTK0pYNGMiW441c6ptkF9uqR3aM/azv9rJp9++lJmTyikrGUd33wDVTZ38YkstC2dM4P23LWbahDIONLRz5fyp1DZ3cqChjXEiXDBzIvOmjud0Rw9lJfG+4Afr49fvxX2N/PjVaq5dOA0RmFReSlVjO1urm/mfHXV84/7rmTOlgvqWbmZMKmdg0HCqvYddx1tYet5Upk0oY+6UCvbUtXLBrInsrmsZssUnH9/OB25bTHlJCRVlZ6/fIy8f4l3LFvD2q85jckUpNU2dXDp3MjXNXew50crsSeXMmlzBopkTONTYwXnTKqht7uJnm2sA+MKK3Qwaw4LpE6huHWBffStHT3Xy1K4TbDnWzL/dfz3nT5/AsdMdLJo5kaaOXhpau6k708UlcyczbUIZkytKOd7cxfSJ5ew63kLvwCBrDp7i4ZequPea+ZSIUFYqVJ/uZN2h0zy6+jCfevtS7rh0FhWlJZzp7GXOlAoaWrvZXdfKwhkTmDK+jAtnTWLX8RYunjOJY6c7+cYLB2nt7ufPfvIan3jbZcycWA7EFyVWNbbz7y9WUVE6jr9599UsnDGBgw3tLJk3mboz3dQ2d9I/ED/PmZPK6RsYpLd/EBFYf+g0Bxvb+T//tYV/fu8yll80k7bufqZOKOXQyQ5+89pxfr3tON9+340smTuZ7r5BatsGOXKqg5NtPexvaOPCWROZWF7Kgunj2XW8lcvPm0JNUyd/t2rf0DV8YPkFAIjEI8Dbas7w+d/s5revmc8fxy5h9uQKDp1sZ+l5Uzh2uoPqpk4mlZcyfWI586eN5/iZLmZOKqetu49VO+t5cucJNh1t4h/ecy2XzZtCZ08/48tK2F3XytefP8C++jZ+9uCtLJg+gca2buZOGU9Hbz+n2uJ996KZE5lcUcr0iWUcPtXBhbMmcry5i79ZGX/0f/4dV/LWK+dRWiL0Dxga27p5YW8j36o8xP03L+J9t8bbyYmWbhbPmkhNUyfHz3Qxd8p4JpaXMHdqBQca2mnsHOTVw6f56tP7eK36DHtOtPLhOy9m0YwJ9PQP0t7Tz776Vj7+s/gL2BN/cjvnTRvPkVMdXDJnMo2tPTS2ddPS1cf8aROYMamMcSK0dvUxdUIZ++vb+MsndgLwL7+7jBsumEFX3wCTK0qpburk0dWHefnASf7fm5dw99XnUVYidPYOMGNiOfWt8XtjckUZMyeVcf70iew5EW+PdWe6+P3HXqW3f5CPv+Uy3nLlXCaVl9I/OIgx8aDQl1fuYeGMCfzje5axeNZEDp1s5/LzplLT3MnJth46e/s5f/pE5kypoKWrj/KScQwaw5qDp/iHp/dx2bzJPHT35Vw+f2qo75Qp4uoxi8h7gLuNMR8J/n8/cIsx5mPD0qwEvmqMeSX4/wXgIeIOZKRuKs6/+DJz/PCBtE8K4g32gf/cwNwpFc6LYGZPLudUey8/+MPlvPGyOUPHjTHsPdHGJ36+jX2eQz03Lp7BV959NVfMn0pLVx9/+cRO1lad4kyn/9DwopkT+NUf38E4gbf+62rau/uzth/kh++8iE+/fSm/8611WR+W+u+P3MLWY83883OZXesw3rBkNh+648Khr/Nkk79599V8+6WqISc1W1y7cBrXLpzGjzZUZzXfknHC7960kJ9srMlqvhDfyH/+tPGsrcruVkzjBG67ZFbW8wWYOr6U/kGT9V0FxglUlJa8bj6yoijKaODYP7xjizHmpmzll44D+V7g7SOcwOXGmD8bluZJ4O9HOJB/AVxs0x2Wx4PEh78BrgZ2ZXhu5xKzgeyO841d1FbuqK3cUVu5oXZyR23ljtrKjaXGmCnZyiydIexaYNGw/xcCdY5pyh10ATDGPAo8CiAim7PpLY9V1E7uqK3cUVu5o7ZyQ+3kjtrKHbWVGyKS1eG4dFZhbwKWiMhFIlIO3A+sGJFmBfCBYDX2rUCLMeaEo66iKIqiKIpSBDhHII0x/SLyMeAZoAT4rjFmt4h8NJA/AqwC7gWqgE7gQ1G6WT0TRVEURVEUJS+kM4SNMWYVcSdx+LFHhv1tgD911XXg0TTTn6uondxRW7mjtnJHbeWG2skdtZU7ais3smon50U0iqIoiqIoigJF8ilDRVEURVEUZfQwKh3ITD57ONYQke+KSKOI7Bp2bKaIPCciB4PfM4bJPhvYa7+IvH3Y8RtFZGcg+4aIyMiyihkRWSQiL4nIXhHZLSL/LziuthqBiIwXkY0isj2w1ZeC42qrFIhIiYi8Fuxvq3YKQUSOBue4LbHKU22VGol/XOMXIrIv6LNuU1slIyJLg/sp8dMqIn+utkpGRD4e9Oe7ROQnQT+fHzsZY0bVD/FFNoeI7x1ZDmwHrix0vQpgh7uAG4Bdw459DfhM8PdngH8I/r4ysFMFcFFgv5JAthG4DRDgKeCeQp9blu00H7gh+HsKcCCwh9oq2VYCTA7+LgNeBW5VW4Xa6xPAj4GVwf9qp9R2OgrMHnFMbZXaVj8APhL8XQ5MV1tZbVYC1AOL1VZJtjkfOAJMCP7/OfAH+bLTaIxADn0y0RjTCyQ+e3hOYYxZDTSNOHwf8Q6I4Pe7hx3/qTGmxxhzhPgq+OUS/4zkVGPMehO/Q344TGdMYIw5YYzZGvzdBuwl3qjUViMwcRIfHC8LfgxqqyREZCHw28Bjww6rndxRW41ARKYSDwx8B8AY02uMOYPaysabgUPGmGOorVJRCkwQkVJgIvE9tvNip9HoQJ4PDP/eWm1wTIF5Jr6vJsHvucHxMJudH/w98viYREQuBK4nHllTW6UgGJbdBjQCzxlj1Fap+Trxr2gN/xao2ik1BnhWRLZI/EtioLZKxcXASeB7wdSIx0RkEmorG/cDPwn+VlsNwxhzHPgnoBo4QXzv7WfJk51GowOZatxdl4pHE2azc8aWIjIZ+CXw58aYqI91n9O2MsYMGGOuI/41qOUicnVE8nPSViLyDqDRGLPFVSXFsTFvp2HcYYy5AbgH+FMRuSsi7blsq1Li05K+bYy5HuggPrwYxrlsKwAk/uGRdwGP25KmODbmbRXMbbyP+HD0AmCSiLwvSiXFsYztNBodSJdPJp6rNAShZoLfjcHxMJvVBn+PPD6mEJEy4s7jfxtjfhUcVltFEAydVQJ3o7YayR3Au0TkKPEpNL8lIj9C7ZQSY0xd8LsReIL4NCS1VTK1QG0Q9Qf4BXGHUm0Vzj3AVmNMQ/C/2ur1vAU4Yow5aYzpA34F3E6e7DQaHUj97GE4K4APBn9/EPjNsOP3i0iFiFwELAE2BqHrNhG5NVhR9YFhOmOC4Ly+A+w1xvzLMJHaagQiMkdEpgd/TyDe+exDbfU6jDGfNcYsNMZcSLz/edEY8z7UTkmIyCQRmZL4G3gbsAu1VRLGmHqgRkSWBofeDOxBbRXFA5wdvga11UiqgVtFZGJwfm8mvg4gP3bKdPVPLn+Ifw7xAPEVQp8rdH0KZIOfEJ/T0Ef87eDDwCzgBeBg8HvmsPSfC+y1n2Grp4CbiHfoh4BvEmweP1Z+gDuJh9p3ANuCn3vVViltdS3wWmCrXcDng+Nqq3CbxTi7ClvtlGyfi4mv6twO7E7012qrUHtdB2wO2uCvgRlqq1BbTQROA9OGHVNbJdvpS8QDAbuA/yK+wjovdtIv0SiKoiiKoihpMRqHsBVFURRFUZRRjDqQiqIoiqIoSlqoA6koiqIoiqKkhTqQiqIoiqIoSlqoA6koiqIoiqKkRWmhK6AoipJLRGQA2Dns0LuNMUcLVB1FUZQxgW7joyjKmEZE2o0xk0NkQrwfHEwlVxRFUVKjQ9iKopxTiMiFIrJXRL4FbAUWicinRWSTiOwQkS8NS/s5EdkvIs+LyE9E5FPB8UoRuSn4e3bw2UNEpERE/nFYXv8nOB4LdH4hIvtE5L8D5xURuVlE1onIdhHZKCJTRGSNiFw3rB5rReTafNlIURTFhg5hK4oy1pkgItuCv48AHweWAh8yxvyJiLyN+Ce9lgMCrBCRu4AO4p8yvJ54X7kV2GIp68NAizHmZhGpANaKyLOB7HrgKuLfmF0L3CEiG4GfAb9njNkkIlOBLuAx4A+APxeRy4AKY8wOTzsoiqJkDXUgFUUZ63QZY65L/CMiFwLHjDEbgkNvC35eC/6fTNyhnAI8YYzpDPRWOJT1NuBaEXlP8P+0IK9e4t+crQ3y2gZcCLQAJ4wxmwCMMa2B/HHgr0Xk08AfAt9P85wVRVFyijqQiqKci3QM+1uAvzfG/MfwBCLy58S/s56Kfs5OARo/Iq8/M8Y8MyKvGNAz7NAA8f5XUpVhjOkUkeeA+4DfJf6dWkVRlFGDzoFUFOVc5xngD0VkMoCInC8ic4HVwO+IyAQRmQK8c5jOUeDG4O/3jMjrj0WkLMjrMhGZFFH2PmCBiNwcpJ8iIokX+8eAbwCbjDFNXmeoKIqSZTQCqSjKOY0x5lkRuQJYH6xraQfeZ4zZKiI/A7YBx4A1w9T+Cfi5iLwfeHHY8ceID01vDRbJnATeHVF2r4j8HvDvIjKB+PzHtwDtxpgtItIKfC8rJ6ooipJFdBsfRVEUB0Tki8Qdu3/KU3kLgErgct1mSFGU0YYOYSuKoowyROQDwKvA59R5VBRlNKIRSEVRFEVRFCUtNAKpKIqiKIqipIU6kIqiKIqiKEpaqAOpKIqiKIqipIU6kIqiKIqiKEpaqAOpKIqiKIqipIU6kIqiKIqiKEpa/P/4GVh3nT0oTwAAAABJRU5ErkJggg==\n",
          "text/plain": "<Figure size 648x288 with 2 Axes>"
         },
         "metadata": {},
         "output_type": "display_data"
        }
       ]
      }
     },
     "a517527a3eaa4ecc8ff8cee85c21f8df": {
      "model_module": "@jupyter-widgets/controls",
      "model_module_version": "1.5.0",
      "model_name": "FloatSliderModel",
      "state": {
       "description": "Frequency",
       "layout": "IPY_MODEL_0363fc1074074220ae10a48bf0327240",
       "max": 1000,
       "min": 50,
       "step": 10,
       "style": "IPY_MODEL_7d36dc9c3a2942238866bfb561c8a9a8",
       "value": 150
      }
     },
     "a646db646de84f1b8d8c661e8fdb94ea": {
      "model_module": "@jupyter-widgets/output",
      "model_module_version": "1.0.0",
      "model_name": "OutputModel",
      "state": {
       "layout": "IPY_MODEL_5495ad9acf804368b117741478de9dea",
       "outputs": [
        {
         "data": {
          "text/html": "\n                <audio  controls=\"controls\" >\n                    <source src=\"data:audio/wav;base64,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\" type=\"audio/wav\" />\n                    Your browser does not support the audio element.\n                </audio>\n              ",
          "text/plain": "<IPython.lib.display.Audio object>"
         },
         "metadata": {},
         "output_type": "display_data"
        }
       ]
      }
     },
     "a7b38630d25442e484346ef1393c9ec0": {
      "model_module": "@jupyter-widgets/base",
      "model_module_version": "1.2.0",
      "model_name": "LayoutModel",
      "state": {
       "width": "45%"
      }
     },
     "aa6b335242af41ee97e640d87279c123": {
      "model_module": "@jupyter-widgets/controls",
      "model_module_version": "1.5.0",
      "model_name": "FloatSliderModel",
      "state": {
       "description": "Frequency",
       "layout": "IPY_MODEL_ce7c64ca5a554a4bbafa2cf3555790b4",
       "max": 1000,
       "min": 50,
       "step": 10,
       "style": "IPY_MODEL_c4d48969108541cca3d11f99933bf1bb",
       "value": 440
      }
     },
     "ad13f3563b9e4061978c321889851338": {
      "model_module": "@jupyter-widgets/base",
      "model_module_version": "1.2.0",
      "model_name": "LayoutModel",
      "state": {}
     },
     "ad210d02edca48198d39391ef3a9ecd7": {
      "model_module": "@jupyter-widgets/controls",
      "model_module_version": "1.5.0",
      "model_name": "SliderStyleModel",
      "state": {
       "description_width": ""
      }
     },
     "b13858c2ce234285a5152b88a5c6ed91": {
      "model_module": "@jupyter-widgets/controls",
      "model_module_version": "1.5.0",
      "model_name": "SliderStyleModel",
      "state": {
       "description_width": ""
      }
     },
     "b19abd6bf01c4960b50027f8e3b15a66": {
      "model_module": "@jupyter-widgets/controls",
      "model_module_version": "1.5.0",
      "model_name": "DescriptionStyleModel",
      "state": {
       "description_width": ""
      }
     },
     "b5ce44abb02848de9f0bd5bcdbcb3a95": {
      "model_module": "@jupyter-widgets/controls",
      "model_module_version": "1.5.0",
      "model_name": "VBoxModel",
      "state": {
       "children": [
        "IPY_MODEL_42401c1a41c74a2abf91e6248fa47148",
        "IPY_MODEL_90be7cfbc2c94bb4bd33e9a858ba83ea",
        "IPY_MODEL_180c4d97affc43da8c62220dfa681447",
        "IPY_MODEL_a517527a3eaa4ecc8ff8cee85c21f8df",
        "IPY_MODEL_354315858b8c424abc537ae607539555"
       ],
       "layout": "IPY_MODEL_2df0ba17918944ddbcee8f089a5c4f28"
      }
     },
     "b87c0074672d48209d8eeff9eaaded8a": {
      "model_module": "@jupyter-widgets/controls",
      "model_module_version": "1.5.0",
      "model_name": "CheckboxModel",
      "state": {
       "description": "Autoplay Audio",
       "disabled": false,
       "indent": false,
       "layout": "IPY_MODEL_a17aaaf2e16f4d6bb7ee01f4304eb038",
       "style": "IPY_MODEL_b19abd6bf01c4960b50027f8e3b15a66",
       "value": true
      }
     },
     "b9c08972abc444e085e8b724f2e9ca12": {
      "model_module": "@jupyter-widgets/controls",
      "model_module_version": "1.5.0",
      "model_name": "ButtonStyleModel",
      "state": {}
     },
     "c4d48969108541cca3d11f99933bf1bb": {
      "model_module": "@jupyter-widgets/controls",
      "model_module_version": "1.5.0",
      "model_name": "SliderStyleModel",
      "state": {
       "description_width": ""
      }
     },
     "ce7c64ca5a554a4bbafa2cf3555790b4": {
      "model_module": "@jupyter-widgets/base",
      "model_module_version": "1.2.0",
      "model_name": "LayoutModel",
      "state": {}
     },
     "d0013466f3d9451ea9c674a01d378cdb": {
      "model_module": "@jupyter-widgets/base",
      "model_module_version": "1.2.0",
      "model_name": "LayoutModel",
      "state": {}
     },
     "d4087da4189444acb8855fc3edb5b34a": {
      "model_module": "@jupyter-widgets/base",
      "model_module_version": "1.2.0",
      "model_name": "LayoutModel",
      "state": {}
     },
     "d5106db03c3a467c9a0cd9d6f4fee8f4": {
      "model_module": "@jupyter-widgets/output",
      "model_module_version": "1.0.0",
      "model_name": "OutputModel",
      "state": {
       "layout": "IPY_MODEL_82529dcccc544de293c502cd01b73de3",
       "outputs": [
        {
         "data": {
          "text/html": "\n                <audio  controls=\"controls\" autoplay=\"autoplay\">\n                    <source src=\"data:audio/wav;base64,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\" type=\"audio/wav\" />\n                    Your browser does not support the audio element.\n                </audio>\n              ",
          "text/plain": "<IPython.lib.display.Audio object>"
         },
         "metadata": {},
         "output_type": "display_data"
        }
       ]
      }
     },
     "dc73ee9702764c5bb12028a170d0503d": {
      "model_module": "@jupyter-widgets/base",
      "model_module_version": "1.2.0",
      "model_name": "LayoutModel",
      "state": {
       "border": "solid 1px black",
       "margin": "0px 10px 10px 0px",
       "padding": "5px 5px 5px 5px"
      }
     },
     "dc7476963fbd4e8298714a86ecf95366": {
      "model_module": "@jupyter-widgets/base",
      "model_module_version": "1.2.0",
      "model_name": "LayoutModel",
      "state": {}
     },
     "deb999b671a343be9a580acedf683337": {
      "model_module": "@jupyter-widgets/controls",
      "model_module_version": "1.5.0",
      "model_name": "DropdownModel",
      "state": {
       "_options_labels": [
        "sin",
        "square",
        "sawtooth"
       ],
       "description": "Signal",
       "index": 0,
       "layout": "IPY_MODEL_4da9a947d78d40949fca733f4f61a3a3",
       "style": "IPY_MODEL_6bf1a6bee3104a9fb51715d295002c40"
      }
     },
     "e44a730a5f09481dad2540c21d14453e": {
      "model_module": "@jupyter-widgets/base",
      "model_module_version": "1.2.0",
      "model_name": "LayoutModel",
      "state": {
       "border": "solid 1px black",
       "margin": "0px 10px 10px 0px",
       "padding": "5px 5px 5px 5px"
      }
     },
     "e7c25c0637a146aba9d29052c43358db": {
      "model_module": "@jupyter-widgets/base",
      "model_module_version": "1.2.0",
      "model_name": "LayoutModel",
      "state": {}
     },
     "f2057a8ba94441e69c2f41308b01b3ad": {
      "model_module": "@jupyter-widgets/output",
      "model_module_version": "1.0.0",
      "model_name": "OutputModel",
      "state": {
       "layout": "IPY_MODEL_7e95a20174ab4ab9af208688ef39e3e8"
      }
     },
     "fc8c54d682884db3aff6eaabe6a17249": {
      "model_module": "@jupyter-widgets/controls",
      "model_module_version": "1.5.0",
      "model_name": "DescriptionStyleModel",
      "state": {
       "description_width": ""
      }
     },
     "fe13cde09c2644e9b533c15b3c71a3bc": {
      "model_module": "@jupyter-widgets/controls",
      "model_module_version": "1.5.0",
      "model_name": "ButtonModel",
      "state": {
       "description": "Clear the log",
       "layout": "IPY_MODEL_0d625fe1205149b29397b3f606cdc26b",
       "style": "IPY_MODEL_954eff134024449f855f0fca232a2490"
      }
     },
     "ff4bb2df566c41b8aef24415bf740116": {
      "model_module": "@jupyter-widgets/controls",
      "model_module_version": "1.5.0",
      "model_name": "VBoxModel",
      "state": {
       "children": [
        "IPY_MODEL_b5ce44abb02848de9f0bd5bcdbcb3a95",
        "IPY_MODEL_d5106db03c3a467c9a0cd9d6f4fee8f4",
        "IPY_MODEL_2969c1b239eb4e86af93ebf2094a586e"
       ],
       "layout": "IPY_MODEL_5b2ab73904ae474098880dd80467a7da"
      }
     }
    },
    "version_major": 2,
    "version_minor": 0
   }
  }
 },
 "nbformat": 4,
 "nbformat_minor": 4
}
