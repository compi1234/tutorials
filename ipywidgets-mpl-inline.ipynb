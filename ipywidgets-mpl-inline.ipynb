{
 "cells": [
  {
   "cell_type": "markdown",
   "metadata": {},
   "source": [
    "# Interactive plots in Jupyter notebooks with matplotlib and ipywidgets\n",
    "## PART I: matplotlib inline backend\n",
    "\n",
    "Author: DVC  \n",
    "Date: 01/12/2020   \n"
   ]
  },
  {
   "cell_type": "markdown",
   "metadata": {},
   "source": [
    "### Using the inline backend with a GUI ?\n",
    "\n",
    "The matplotlib inline backend is described as a **non-GUI** backend.  So, why do we insist on using it with a (simple) GUI ?    \n",
    "- it is the most commonly used backend \n",
    "- it is probably the only backend that behaves consistently across platforms  \n",
    "- what works with the inline backend is almost guaranteed to work with any other backend\n",
    "- we often need something more fancy than just typing in cells as provided natively in our Jupyter notebooks\n",
    "\n",
    "What are the opportunities and limitations with the inline backend ?  \n",
    "- the basic (ipy)widgets work fine in the inline backend, creating some possibilities\n",
    "- figures are not accessible after being rendered hence they can not be manipulated\n",
    "- interactivity can only be simulated by redrawing the full figure after each change\n",
    "    + this is not an issue with slow updates of the controls\n",
    "    + visual glitches from the clear-and-redraw cycle are inevitable\n",
    "    + computational load quickly increases for complex applications\n",
    "    + be aware that a figure is NOT closed after rendering"
   ]
  },
  {
   "cell_type": "code",
   "execution_count": 1,
   "metadata": {},
   "outputs": [],
   "source": [
    "%matplotlib inline"
   ]
  },
  {
   "cell_type": "code",
   "execution_count": 2,
   "metadata": {},
   "outputs": [],
   "source": [
    "import ipywidgets as widgets\n",
    "from ipywidgets import interact, interact_manual, interactive\n",
    "import numpy as np\n",
    "import matplotlib.pyplot as plt\n",
    "from scipy import signal\n",
    "import IPython.display as ipd"
   ]
  },
  {
   "cell_type": "code",
   "execution_count": 3,
   "metadata": {},
   "outputs": [],
   "source": [
    "# any of these could be useful during debugging, but not needed if all is running fine\n",
    "#\n",
    "#%matplotlib --list\n",
    "#ipd.set_matplotlib_close(close=True)\n",
    "#plt.close('all')"
   ]
  },
  {
   "cell_type": "markdown",
   "metadata": {},
   "source": [
    "# 1. Updating Figures using a CLEAR-PLOT cycle\n",
    "### 1.1 Using interact() for the most simple interfaces"
   ]
  },
  {
   "cell_type": "code",
   "execution_count": 4,
   "metadata": {},
   "outputs": [],
   "source": [
    "plt.close('all')\n",
    "def my_sine(x, w, amp, phi):\n",
    "    return amp*np.sin(w * (x-phi))\n",
    "#\n",
    "def synth(type='sin', freq=200.0, Fs=8000, Tmax=0.5):\n",
    "    t = np.linspace(0.0, Tmax, int(Tmax*Fs), endpoint=False)\n",
    "    if type == 'sin':\n",
    "        x = np.sin(2.0*np.pi*freq*t)\n",
    "    elif type == 'square':\n",
    "        x = signal.square(2.0*np.pi*freq*t)\n",
    "    elif type == 'sawtooth':\n",
    "        x = signal.sawtooth(2.0*np.pi*freq*t)\n",
    "    else:\n",
    "        print( 'signal: Unrecognized signal type')\n",
    "    return x, t"
   ]
  },
  {
   "cell_type": "code",
   "execution_count": 5,
   "metadata": {},
   "outputs": [
    {
     "data": {
      "text/plain": [
       "<Figure size 216x216 with 0 Axes>"
      ]
     },
     "metadata": {},
     "output_type": "display_data"
    },
    {
     "data": {
      "application/vnd.jupyter.widget-view+json": {
       "model_id": "d6b12be10fb34ae980c30998337076b1",
       "version_major": 2,
       "version_minor": 0
      },
      "text/plain": [
       "interactive(children=(IntSlider(value=1, description='w', max=10), FloatSlider(value=1.0, description='amp', m…"
      ]
     },
     "metadata": {},
     "output_type": "display_data"
    }
   ],
   "source": [
    "# Methodology:\n",
    "# ============\n",
    "#  1. Create the Figure\n",
    "#  2. Use interact() for the interactive Loop:\n",
    "#       (a) CLEAR FIGURE\n",
    "#       (b) PLOT AGAIN with each interaction\n",
    "#\n",
    "# REMARK: \n",
    "#   AVOID following loop construction:\n",
    "#      (a) create a figure\n",
    "#      (b) draw to the figure\n",
    "#   At first sight it behaves the same, but a new figure is created each time\n",
    "#   and after some time you will run out of available figures as they are not closed automatically\n",
    "\n",
    "x = np.linspace(0, 2 * np.pi, 100)\n",
    "fig = plt.figure(figsize=(3,3))\n",
    "\n",
    "@interact(w=(0, 10, 1), amp=(0, 4, .1), phi=(0, 2*np.pi, 0.01))\n",
    "def update(w = 1.0, amp=1, phi=0):\n",
    "    # clear the figure and start over\n",
    "    plt.cla()\n",
    "    plt.plot(x, my_sine(x, w, amp, phi), color='C0')\n",
    "    plt.ylim([-4, 4])\n",
    "    plt.grid(True)"
   ]
  },
  {
   "cell_type": "code",
   "execution_count": 25,
   "metadata": {},
   "outputs": [
    {
     "data": {
      "text/plain": [
       "<Figure size 216x216 with 0 Axes>"
      ]
     },
     "metadata": {},
     "output_type": "display_data"
    },
    {
     "data": {
      "application/vnd.jupyter.widget-view+json": {
       "model_id": "ea8ed017776349a68c0a15623eb61719",
       "version_major": 2,
       "version_minor": 0
      },
      "text/plain": [
       "HBox(children=(VBox(children=(FloatSlider(value=0.5, description='Amplitude', max=1.0, step=0.05), FloatSlider…"
      ]
     },
     "metadata": {},
     "output_type": "display_data"
    }
   ],
   "source": [
    "def my_sine(x, w, amp, phi):\n",
    "    return amp*np.sin(w * (x-phi))\n",
    "#\n",
    "x = np.linspace(0, 2 * np.pi, 100)\n",
    "fig = plt.figure(figsize=(3,3))\n",
    "\n",
    "#@interact(w=(0, 10, 1), amp=(0, 4, .1), phi=(0, 2*np.pi, 0.01))\n",
    "#def update(w = 1.0, amp=1, phi=0):\n",
    "#    # clear the figure and start over\n",
    "#    plt.clf()\n",
    "#    plt.plot(x, my_sine(x, w, amp, phi), color='C0')\n",
    "#    plt.ylim([-4, 4])\n",
    "#    plt.grid(True)\n",
    "    \n",
    "wg_amp = widgets.FloatSlider(value=0.5,step=0.05,max=1.0,description='Amplitude')\n",
    "wg_freq = widgets.FloatSlider(value=1.0,step=.1,min=0.0,max=2*np.pi,description='Frequency')\n",
    "wg_phase = widgets.FloatSlider(value=0.4,step=0.1,min=0.1,max=2.0,description='Phase',\n",
    "                             continuous_update=False)\n",
    "\n",
    "def plot_sin(amp=1., omega=1.0, phi=0.):\n",
    "    plt.cla()\n",
    "    plt.plot(x, my_sine(x, omega, amp, phi), color='C0')\n",
    "    plt.ylim([-3, 3])\n",
    "    plt.grid(True)\n",
    "    \n",
    "def print_sin(amp=1., omega=1.0, phi=0.):\n",
    "    print('Values:')\n",
    "    print('  amp=',amp)\n",
    "    print('  omega=',omega)\n",
    "    \n",
    "out_plot = widgets.interactive_output(plot_sin, {'amp': wg_amp, 'omega': wg_freq, 'phi': wg_phase})\n",
    "out_text = widgets.interactive_output(print_sin, {'amp': wg_amp, 'omega': wg_freq, 'phi': wg_phase})\n",
    "\n",
    "widgets.HBox([widgets.VBox([wg_amp, wg_freq, wg_phase, out_text]), out_plot])"
   ]
  },
  {
   "cell_type": "code",
   "execution_count": 7,
   "metadata": {},
   "outputs": [
    {
     "name": "stderr",
     "output_type": "stream",
     "text": [
      "<ipython-input-7-6ebedab27258>:1: UserWarning: Matplotlib is currently using module://ipykernel.pylab.backend_inline, which is a non-GUI backend, so cannot show the figure.\n",
      "  fig.show()\n"
     ]
    }
   ],
   "source": [
    "fig.show()"
   ]
  },
  {
   "cell_type": "code",
   "execution_count": 8,
   "metadata": {},
   "outputs": [
    {
     "data": {
      "image/png": "[encoded data removed]",
      "text/plain": [
       "<Figure size 216x216 with 1 Axes>"
      ]
     },
     "metadata": {
      "needs_background": "light"
     },
     "output_type": "display_data"
    },
    {
     "data": {
      "application/vnd.jupyter.widget-view+json": {
       "model_id": "144a2da056c745e69900327d88ee85c0",
       "version_major": 2,
       "version_minor": 0
      },
      "text/plain": [
       "interactive(children=(IntSlider(value=1, description='w', max=10), FloatSlider(value=1.0, description='amp', m…"
      ]
     },
     "metadata": {},
     "output_type": "display_data"
    }
   ],
   "source": [
    "# Method 2: CLEAR selected axes and redraw with each operation (use OO API)\n",
    "# BACKENDS: NOT for INLINE !\n",
    "def my_sine(x, w, amp, phi):\n",
    "    return amp*np.sin(w * (x-phi))\n",
    "#\n",
    "x = np.linspace(0, 2 * np.pi, 100)\n",
    "fig, ax = plt.subplots(figsize=(3, 3))\n",
    "\n",
    "@interact(w=(0, 10, 1), amp=(0, 4, .1), phi=(0, 2*np.pi, 0.01))\n",
    "def update(w = 1.0, amp=1, phi=0):\n",
    "    plt.cla()\n",
    "    ax.plot(x, my_sine(x, w, amp, phi), color='C0')\n",
    "    ax.set_ylim([-4, 4])\n",
    "    ax.grid(True)"
   ]
  },
  {
   "cell_type": "code",
   "execution_count": 9,
   "metadata": {},
   "outputs": [
    {
     "data": {
      "image/png": "[encoded data removed]",
      "text/plain": [
       "<Figure size 288x288 with 1 Axes>"
      ]
     },
     "metadata": {
      "needs_background": "light"
     },
     "output_type": "display_data"
    },
    {
     "data": {
      "application/vnd.jupyter.widget-view+json": {
       "model_id": "62adcf342952468997bc4c9743c5a4c1",
       "version_major": 2,
       "version_minor": 0
      },
      "text/plain": [
       "interactive(children=(IntSlider(value=1, description='w', max=10), FloatSlider(value=1.0, description='amp', m…"
      ]
     },
     "metadata": {},
     "output_type": "display_data"
    }
   ],
   "source": [
    "# Method 3: Only update line data inside existing axis\n",
    "# BACKENDS: NOT for INLINE !\n",
    "# \n",
    "\n",
    "def my_sine(x, w, amp, phi):\n",
    "    return amp*np.sin(w * (x-phi))\n",
    "#\n",
    "x = np.linspace(0, 2 * np.pi, 100)\n",
    "fig, ax = plt.subplots(figsize=(4, 4))\n",
    "ax.set_ylim([-4, 4])\n",
    "ax.grid(True)\n",
    "\n",
    "@interact(w=(0, 10, 1), amp=(0, 4, .1), phi=(0, 2*np.pi, 0.01))\n",
    "def update(w = 1.0, amp=1, phi=0):\n",
    "    \"\"\"Remove old lines from plot and plot new one\"\"\"\n",
    "    [l.remove() for l in ax.lines]\n",
    "    ax.plot(x, my_sine(x, w, amp, phi), color='C0')"
   ]
  },
  {
   "cell_type": "markdown",
   "metadata": {},
   "source": [
    "## Updating the plot line data"
   ]
  },
  {
   "cell_type": "code",
   "execution_count": 10,
   "metadata": {},
   "outputs": [
    {
     "data": {
      "image/png": "[encoded data removed]",
      "text/plain": [
       "<Figure size 288x288 with 1 Axes>"
      ]
     },
     "metadata": {
      "needs_background": "light"
     },
     "output_type": "display_data"
    },
    {
     "data": {
      "application/vnd.jupyter.widget-view+json": {
       "model_id": "e204258263f9415a8b9faae2c44b254d",
       "version_major": 2,
       "version_minor": 0
      },
      "text/plain": [
       "interactive(children=(IntSlider(value=1, description='w', max=10), FloatSlider(value=1.0, description='amp', m…"
      ]
     },
     "metadata": {},
     "output_type": "display_data"
    }
   ],
   "source": [
    "# Method 3b: maintain the figure and just refresh the changed data\n",
    "#    1) create a figure  \n",
    "#    2)  just update the y_data if you may assume that the x_data hasn't changed; \n",
    "#          between calls \n",
    "#\n",
    "# BACKENDS: all, except 'inline'  \n",
    "# \n",
    "\n",
    "def my_sine(x, w, amp, phi):\n",
    "    \"\"\"\n",
    "    Return a sine for x with angular frequeny w and amplitude amp.\n",
    "    \"\"\"\n",
    "    return amp*np.sin(w * (x-phi))\n",
    "x = np.linspace(0, 2 * np.pi, 100)\n",
    "\n",
    "#\n",
    "fig, ax = plt.subplots(figsize=(4, 4))\n",
    "ax.set_ylim([-4, 4])\n",
    "ax.grid(True)\n",
    "line, = ax.plot(x, my_sine(x, 0,0,0), color='C0')\n",
    "\n",
    "@interact(w=(0, 10, 1), amp=(0, 4, .1), phi=(0, 2*np.pi+0.01, 0.01))\n",
    "def update(w = 1.0, amp=1, phi=0):\n",
    "    \"\"\"change the ydata values \"\"\"\n",
    "    line.set_ydata( my_sine(x, w, amp, phi) )\n",
    "    fig.canvas.draw()\n",
    "    # fig.canvas.flush_events()"
   ]
  },
  {
   "cell_type": "code",
   "execution_count": 11,
   "metadata": {},
   "outputs": [
    {
     "data": {
      "text/plain": [
       "<Figure size 720x288 with 0 Axes>"
      ]
     },
     "metadata": {},
     "output_type": "display_data"
    },
    {
     "data": {
      "application/vnd.jupyter.widget-view+json": {
       "model_id": "9c016ce6a88b4cb892c88b1cb5315d79",
       "version_major": 2,
       "version_minor": 0
      },
      "text/plain": [
       "interactive(children=(Dropdown(description='Signal', options=('sin', 'square', 'sawtooth'), value='sin'), Floa…"
      ]
     },
     "metadata": {},
     "output_type": "display_data"
    }
   ],
   "source": [
    "# a simple audio signal generator\n",
    "# with control for type amplitude, phase ... \n",
    "#\n",
    "# the audio is immediately generated and rendered\n",
    "#   continuous update are used for frequency and amplitude\n",
    "#   continuous_update=False is used for the duration widget\n",
    "# !! setting continuous_update is the only 'easy' control over frequency of update with interact()\n",
    "# !! more complex asynchronous implementations are suggested on the ipywidgets doc pages\n",
    "# !! under 'debouncing' and 'throttling' .. but this complicates the code significantly\n",
    "# https://ipywidgets.readthedocs.io/en/latest/examples/Widget%20Events.html?highlight=continuous_update#Continuous-updates\n",
    "# !! these solutions are not applicable to interact(), but require .observe() instead, see later\n",
    "#\n",
    "# as the x-axis needs to be modified with the duration\n",
    "#  it is more appropriate to do full redraws at every iteration\n",
    "#\n",
    "# BACKENDS: all\n",
    "#\n",
    "samplerate=8000\n",
    "def generate(type='sin', freq=200.0, Fs=samplerate, Tmax=0.5):\n",
    "    t = np.linspace(0.0, Tmax, int(Tmax*Fs), endpoint=False)\n",
    "    if type == 'sin':\n",
    "        x = np.sin(2.0*np.pi*freq*t)\n",
    "    elif type == 'square':\n",
    "        x = signal.square(2.0*np.pi*freq*t)\n",
    "    elif type == 'sawtooth':\n",
    "        x = signal.sawtooth(2.0*np.pi*freq*t)\n",
    "    else:\n",
    "        print( 'signal: Unrecognized signal type')\n",
    "    return x, t\n",
    "\n",
    "signal_types = [ 'sin', 'square', 'sawtooth' ]\n",
    "# alternative to Dropdown is to use RadioButtons\n",
    "wg_signal = widgets.Dropdown(options=signal_types,\n",
    "                             value='sin',description=\"Signal\")\n",
    "wg_amp = widgets.FloatSlider(value=0.5,step=0.05,max=1.0,description='Amplitude')\n",
    "wg_freq = widgets.FloatSlider(value=200.0,step=5.0,min=50.0,max=500.0,description='Frequency')\n",
    "wg_Tmax = widgets.FloatSlider(value=0.4,step=0.1,min=0.1,max=2.0,description='Duration',\n",
    "                             continuous_update=False)\n",
    "#wg_check = widgets.Checkbox(description='Display Play Button',value=True)\n",
    "wg_audio = widgets.Output()\n",
    "\n",
    "fig = plt.figure(figsize=(10,4))\n",
    "first_time = True\n",
    "\n",
    "# in this example we use interact and full replotting\n",
    "# this seems to work well with ALL backends\n",
    "@interact(t=wg_signal,f=wg_freq,A=wg_amp,T=wg_Tmax)\n",
    "def plot_fn(t,f,A,T):\n",
    "    global first_time\n",
    "    x1, t1 = generate(freq=f,type=t,Tmax=T)\n",
    "    y1=A*x1\n",
    "    plt.cla()\n",
    "    plt.plot(t1,y1)\n",
    "    plt.ylim(-1,1)\n",
    "    with wg_audio:\n",
    "        ipd.display(ipd.Audio(data=y1,rate=samplerate,normalize=False, autoplay=True))\n",
    "    return\n",
    "\n"
   ]
  },
  {
   "cell_type": "markdown",
   "metadata": {},
   "source": [
    "# 2. Using observe() and callbacks for more control over the interaction\n",
    "## The Output Widget, Widget Boxes, Observers, Classes, ... and fragile backends"
   ]
  },
  {
   "cell_type": "code",
   "execution_count": 12,
   "metadata": {},
   "outputs": [
    {
     "data": {
      "application/vnd.jupyter.widget-view+json": {
       "model_id": "ab65144454824eb3b4f8acb24d367283",
       "version_major": 2,
       "version_minor": 0
      },
      "text/plain": [
       "HBox(children=(VBox(children=(IntSlider(value=1, description='freq', max=10), ColorPicker(value='#FF0000', des…"
      ]
     },
     "metadata": {},
     "output_type": "display_data"
    },
    {
     "data": {
      "image/png": "[encoded data removed]",
      "text/plain": [
       "<Figure size 288x288 with 1 Axes>"
      ]
     },
     "metadata": {
      "needs_background": "light"
     },
     "output_type": "display_data"
    }
   ],
   "source": [
    "# create some x data and plot it in the output widget\n",
    "# give control over data, axis, .. via control widgets using callbacks\n",
    "#\n",
    "x = np.linspace(0, 2 * np.pi, 100)\n",
    "output = widgets.Output() \n",
    "with output:\n",
    "    fig, ax = plt.subplots(constrained_layout=True, figsize=(4, 4))\n",
    "# move the toolbar to the bottom\n",
    "fig.canvas.toolbar_position = 'bottom'\n",
    "ax.grid(True)    \n",
    "line, = ax.plot(x, np.sin(x), '#FF0000')\n",
    "\n",
    "# create some control elements\n",
    "int_slider = widgets.IntSlider(value=1, min=0, max=10, step=1, description='freq')\n",
    "color_picker = widgets.ColorPicker(value='#FF0000', description='pick a color')\n",
    "text_xlabel = widgets.Text(value='', description='xlabel', continuous_update=False)\n",
    "text_ylabel = widgets.Text(value='', description='ylabel', continuous_update=False)\n",
    " \n",
    "# callback functions\n",
    "def update(change):\n",
    "    \"\"\"redraw line (update plot)\"\"\"\n",
    "    line.set_ydata(np.sin(change.new * x))\n",
    "    fig.canvas.draw()\n",
    "     \n",
    "def line_color(change):\n",
    "    \"\"\"set line color\"\"\"\n",
    "    line.set_color(change.new)\n",
    "     \n",
    "def update_xlabel(change):\n",
    "    ax.set_xlabel(change.new)\n",
    "     \n",
    "def update_ylabel(change):\n",
    "    ax.set_ylabel(change.new)\n",
    " \n",
    "# connect callbacks and traits\n",
    "int_slider.observe(update, 'value')\n",
    "color_picker.observe(line_color, 'value')\n",
    "text_xlabel.observe(update_xlabel, 'value')\n",
    "text_ylabel.observe(update_ylabel, 'value')\n",
    " \n",
    "text_xlabel.value = 'x'\n",
    "text_ylabel.value = 'y'\n",
    "controls = widgets.VBox([int_slider, color_picker, text_xlabel, text_ylabel])\n",
    "widgets.HBox([controls, output])"
   ]
  },
  {
   "cell_type": "markdown",
   "metadata": {},
   "source": [
    "## Packing components in a class\n",
    "### Leveraging the Output widget, observers, classes, ..\n",
    "### Dedicated to the 'widget' mpl backend\n",
    "\n",
    "This is a copy from the Kapernikov tutorial ( https://kapernikov.com/ipywidgets-with-matplotlib/ )\n",
    "\n",
    "To create more high level components, we can also subclass a container and build up our gui from within. Containers have a `children` property to which we can assign a list of widgets that should be displayed. Although, we can assign a list, this is turned into a tuple and cannot be modified afterwards.\n",
    "To remove or add a widget at runtime, the children tuple can be turned back into a list, followed by an insert or deletion and finalised by reassigning to the children property. Since it can be easy to make mistakes when going by index, I tend to add a placeholder box in which I only place the 'dynamic' widget.\n",
    "\n",
    "The example below, packs the entire oscilloscope 'dashboard' in a single component by subclassing `VBox`. All the required widgets are defined in the Sines class and added as its `children`. The callbacks are defined as instance methods. It may not be a masterpiece in object oriented programming, but hopefully it shows the idea of constructing larger reusable components. Note that, we need to call `super().__init__()` from `__init__` to properly initialise the parent class. "
   ]
  },
  {
   "cell_type": "code",
   "execution_count": 13,
   "metadata": {},
   "outputs": [
    {
     "data": {
      "application/vnd.jupyter.widget-view+json": {
       "model_id": "079c6bf3232f49f88288ede8cc99a350",
       "version_major": 2,
       "version_minor": 0
      },
      "text/plain": [
       "Sines(children=(VBox(children=(IntSlider(value=1, description='freq', max=10), ColorPicker(value='#FF00DD', de…"
      ]
     },
     "metadata": {},
     "output_type": "display_data"
    },
    {
     "data": {
      "image/png": "[encoded data removed]",
      "text/plain": [
       "<Figure size 360x252 with 1 Axes>"
      ]
     },
     "metadata": {
      "needs_background": "light"
     },
     "output_type": "display_data"
    }
   ],
   "source": [
    "def make_box_layout():\n",
    "     return widgets.Layout(\n",
    "        border='solid 1px black',\n",
    "        margin='0px 10px 10px 0px',\n",
    "        padding='5px 5px 5px 5px'\n",
    "     )\n",
    "\n",
    "class Sines(widgets.HBox):\n",
    "    \n",
    "    def __init__(self):\n",
    "        super().__init__()\n",
    "        output = widgets.Output()\n",
    "\n",
    "        self.x = np.linspace(0, 2 * np.pi, 100)\n",
    "        initial_color = '#FF00DD'\n",
    "\n",
    "        with output:\n",
    "            self.fig, self.ax = plt.subplots(constrained_layout=True, figsize=(5, 3.5))\n",
    "        self.line, = self.ax.plot(self.x, np.sin(self.x), initial_color)\n",
    "        \n",
    "        self.fig.canvas.toolbar_position = 'bottom'\n",
    "        self.ax.grid(True)\n",
    "\n",
    "        # define widgets\n",
    "        int_slider = widgets.IntSlider(\n",
    "            value=1, \n",
    "            min=0, \n",
    "            max=10, \n",
    "            step=1, \n",
    "            description='freq'\n",
    "        )\n",
    "        color_picker = widgets.ColorPicker(\n",
    "            value=initial_color, \n",
    "            description='pick a color'\n",
    "        )\n",
    "        text_xlabel = widgets.Text(\n",
    "            value='', \n",
    "            description='xlabel', \n",
    "            continuous_update=False\n",
    "        )\n",
    "        text_ylabel = widgets.Text(\n",
    "            value='', \n",
    "            description='ylabel', \n",
    "            continuous_update=False\n",
    "        )\n",
    "\n",
    "        controls = widgets.VBox([\n",
    "            int_slider, \n",
    "            color_picker, \n",
    "            text_xlabel, \n",
    "            text_ylabel\n",
    "        ])\n",
    "        controls.layout = make_box_layout()\n",
    "        \n",
    "        out_box = widgets.Box([output])\n",
    "        output.layout = make_box_layout()\n",
    "\n",
    "        # observe stuff\n",
    "        int_slider.observe(self.update, 'value')\n",
    "        color_picker.observe(self.line_color, 'value')\n",
    "        text_xlabel.observe(self.update_xlabel, 'value')\n",
    "        text_ylabel.observe(self.update_ylabel, 'value')\n",
    "        \n",
    "        text_xlabel.value = 'x'\n",
    "        text_ylabel.value = 'y'\n",
    "        \n",
    "\n",
    "        # add to children\n",
    "        self.children = [controls, output]\n",
    "    \n",
    "    def update(self, change):\n",
    "        \"\"\"Draw line in plot\"\"\"\n",
    "        self.line.set_ydata(np.sin(change.new * self.x))\n",
    "        self.fig.canvas.draw()\n",
    "\n",
    "    def line_color(self, change):\n",
    "        self.line.set_color(change.new)\n",
    "\n",
    "    def update_xlabel(self, change):\n",
    "        self.ax.set_xlabel(change.new)\n",
    "\n",
    "    def update_ylabel(self, change):\n",
    "        self.ax.set_ylabel(change.new)\n",
    "        \n",
    "        \n",
    "Sines()"
   ]
  },
  {
   "cell_type": "code",
   "execution_count": 14,
   "metadata": {},
   "outputs": [
    {
     "data": {
      "text/plain": [
       "<Figure size 216x216 with 0 Axes>"
      ]
     },
     "metadata": {},
     "output_type": "display_data"
    },
    {
     "data": {
      "application/vnd.jupyter.widget-view+json": {
       "model_id": "3f290dbfff714866bb081c7c309b724e",
       "version_major": 2,
       "version_minor": 0
      },
      "text/plain": [
       "interactive(children=(IntSlider(value=1, description='w', max=10), FloatSlider(value=1.0, description='amp', m…"
      ]
     },
     "metadata": {},
     "output_type": "display_data"
    }
   ],
   "source": [
    "# Method 2: CLEAR selected axes and redraw with each operation (use OO API)\n",
    "# BACKENDS: NOT for INLINE !\n",
    "def my_sine(x, w, amp, phi):\n",
    "    return amp*np.sin(w * (x-phi))\n",
    "#\n",
    "x = np.linspace(0, 2 * np.pi, 100)\n",
    "fig= plt.figure(figsize=(3, 3))\n",
    "\n",
    "@interact(w=(0, 10, 1), amp=(0, 4, .1), phi=(0, 2*np.pi, 0.01))\n",
    "def update(w = 1.0, amp=1, phi=0):\n",
    "    plt.clf()\n",
    "    gs = fig.add_gridspec(2, 1)\n",
    "    ax1 = fig.add_subplot(gs[0, 0])\n",
    "    ax2 = fig.add_subplot(gs[1, 0])\n",
    "    #ax = fig.add_axes()\n",
    "    ax1.plot(x, my_sine(x, w, amp, phi), color='C0')\n",
    "    ax1.set_ylim([-4, 4])\n",
    "    ax1.grid(True)\n",
    "    #plt.show()"
   ]
  },
  {
   "cell_type": "code",
   "execution_count": null,
   "metadata": {},
   "outputs": [],
   "source": []
  }
 ],
 "metadata": {
  "kernelspec": {
   "display_name": "Python 3",
   "language": "python",
   "name": "python3"
  },
  "language_info": {
   "codemirror_mode": {
    "name": "ipython",
    "version": 3
   },
   "file_extension": ".py",
   "mimetype": "text/x-python",
   "name": "python",
   "nbconvert_exporter": "python",
   "pygments_lexer": "ipython3",
   "version": "3.8.3"
  },
  "widgets": {
   "application/vnd.jupyter.widget-state+json": {
    "state": {
     "00a7a2c790754522953522ae1ceec43b": {
      "model_module": "@jupyter-widgets/controls",
      "model_module_version": "1.5.0",
      "model_name": "SliderStyleModel",
      "state": {
       "description_width": ""
      }
     },
     "02e28a92884d4432ba4df7755b4acfe9": {
      "model_module": "@jupyter-widgets/output",
      "model_module_version": "1.0.0",
      "model_name": "OutputModel",
      "state": {
       "layout": "IPY_MODEL_9a59cb44b79445e28b252ccb13b2a480",
       "outputs": [
        {
         "data": {
          "image/png": "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\n",
          "text/plain": "<Figure size 432x288 with 1 Axes>"
         },
         "metadata": {
          "needs_background": "light"
         },
         "output_type": "display_data"
        }
       ]
      }
     },
     "03ab0763c8c84dc0b22220ef20b21986": {
      "model_module": "@jupyter-widgets/controls",
      "model_module_version": "1.5.0",
      "model_name": "HBoxModel",
      "state": {
       "children": [
        "IPY_MODEL_bee3ff859fe44ae885549d23e207465b"
       ],
       "layout": "IPY_MODEL_180b3858c8604c9f9ce64d89931e1cf3"
      }
     },
     "03e844a823b9433e86d2734e6a9a8baa": {
      "model_module": "@jupyter-widgets/controls",
      "model_module_version": "1.5.0",
      "model_name": "FloatSliderModel",
      "state": {
       "description": "Frequency",
       "layout": "IPY_MODEL_ccad5651ed624ef9b3259bbb463d352f",
       "max": 6.283185307179586,
       "step": 0.1,
       "style": "IPY_MODEL_1b10f40f8d924acabc6f866527f0e67a",
       "value": 1
      }
     },
     "05a459db524341f0a1e67c8ca993bc52": {
      "model_module": "@jupyter-widgets/controls",
      "model_module_version": "1.5.0",
      "model_name": "FloatSliderModel",
      "state": {
       "description": "phi",
       "layout": "IPY_MODEL_cfbb95378b484b9589929604ad8fcd0f",
       "max": 6.283185307179586,
       "step": 0.01,
       "style": "IPY_MODEL_e6e23b56655543fcb91745414e51deb0"
      }
     },
     "0658ac5dce5947a994ae348b018b1804": {
      "model_module": "@jupyter-widgets/base",
      "model_module_version": "1.2.0",
      "model_name": "LayoutModel",
      "state": {}
     },
     "06e645f074b142a79bbfe6b0c32f8212": {
      "model_module": "@jupyter-widgets/controls",
      "model_module_version": "1.5.0",
      "model_name": "HBoxModel",
      "state": {
       "children": [
        "IPY_MODEL_d13886b69a844807ad410cd30fb73479",
        "IPY_MODEL_7d8d38c7553240d48fd2c9d4278cfd53"
       ],
       "layout": "IPY_MODEL_58e496d47c7e4dfba35d6615b15e41f6"
      }
     },
     "079c6bf3232f49f88288ede8cc99a350": {
      "model_module": "@jupyter-widgets/controls",
      "model_module_version": "1.5.0",
      "model_name": "HBoxModel",
      "state": {
       "children": [
        "IPY_MODEL_3bf2d1fb49a145d4996ddc3cf0c5102a",
        "IPY_MODEL_ded435ef20ea4bbeb2608d140789e621"
       ],
       "layout": "IPY_MODEL_a3788916b240410bb300d99ec20b976a"
      }
     },
     "0b270c5ae7c54352bd57e39c98d05b9e": {
      "model_module": "@jupyter-widgets/controls",
      "model_module_version": "1.5.0",
      "model_name": "SliderStyleModel",
      "state": {
       "description_width": ""
      }
     },
     "0ba005c984de4403b5d6dabcdcebd950": {
      "model_module": "@jupyter-widgets/base",
      "model_module_version": "1.2.0",
      "model_name": "LayoutModel",
      "state": {}
     },
     "0cb4f54aeee840afa80ef828f91a1799": {
      "model_module": "@jupyter-widgets/controls",
      "model_module_version": "1.5.0",
      "model_name": "SliderStyleModel",
      "state": {
       "description_width": ""
      }
     },
     "1048b565651c443993536a733fdba033": {
      "model_module": "@jupyter-widgets/controls",
      "model_module_version": "1.5.0",
      "model_name": "FloatSliderModel",
      "state": {
       "description": "Frequency",
       "layout": "IPY_MODEL_e642c725c23744e1822e7e91c9b85b8a",
       "max": 6.283185307179586,
       "step": 0.1,
       "style": "IPY_MODEL_cc13bf61f5c44ff68acf2b8345c3ef60",
       "value": 1.6
      }
     },
     "10c9887f4e294f5a877b1caecae38377": {
      "model_module": "@jupyter-widgets/controls",
      "model_module_version": "1.5.0",
      "model_name": "SliderStyleModel",
      "state": {
       "description_width": ""
      }
     },
     "114b22731b764593aebba3458b06fa60": {
      "model_module": "@jupyter-widgets/controls",
      "model_module_version": "1.5.0",
      "model_name": "SliderStyleModel",
      "state": {
       "description_width": ""
      }
     },
     "11808ae5f9ff42b4b91230f334d1731f": {
      "model_module": "@jupyter-widgets/output",
      "model_module_version": "1.0.0",
      "model_name": "OutputModel",
      "state": {
       "layout": "IPY_MODEL_6a90db1fa6104bc5853ca5fb4dab2fe0"
      }
     },
     "11ba708a282148a4856e52df8f9b9450": {
      "model_module": "@jupyter-widgets/base",
      "model_module_version": "1.2.0",
      "model_name": "LayoutModel",
      "state": {}
     },
     "132ccb48577e4666951282aa69572e35": {
      "model_module": "@jupyter-widgets/controls",
      "model_module_version": "1.5.0",
      "model_name": "DropdownModel",
      "state": {
       "_options_labels": [
        "sin",
        "square",
        "sawtooth"
       ],
       "description": "Signal",
       "index": 0,
       "layout": "IPY_MODEL_0ba005c984de4403b5d6dabcdcebd950",
       "style": "IPY_MODEL_979a06d8abf744a38f21d37b2434ae37"
      }
     },
     "14039e3bd892485ebd4a3b0107558cc7": {
      "model_module": "@jupyter-widgets/output",
      "model_module_version": "1.0.0",
      "model_name": "OutputModel",
      "state": {
       "layout": "IPY_MODEL_345d0816ccbf4f11b37fdf0089435948",
       "outputs": [
        {
         "data": {
          "image/png": "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\n",
          "text/plain": "<Figure size 432x288 with 1 Axes>"
         },
         "metadata": {
          "needs_background": "light"
         },
         "output_type": "display_data"
        }
       ]
      }
     },
     "144a2da056c745e69900327d88ee85c0": {
      "model_module": "@jupyter-widgets/controls",
      "model_module_version": "1.5.0",
      "model_name": "VBoxModel",
      "state": {
       "_dom_classes": [
        "widget-interact"
       ],
       "children": [
        "IPY_MODEL_88ea8e5a6cfe48988934e06b980645fb",
        "IPY_MODEL_5dc3a0f97d564933983c68689a439e42",
        "IPY_MODEL_67d0b53ad8074eb894a7db4e5661a2b6",
        "IPY_MODEL_02e28a92884d4432ba4df7755b4acfe9"
       ],
       "layout": "IPY_MODEL_c5bd411f6b8a48a4a462395632085e24"
      }
     },
     "158f06257c6449cdb128aa4845f1b787": {
      "model_module": "@jupyter-widgets/controls",
      "model_module_version": "1.5.0",
      "model_name": "SliderStyleModel",
      "state": {
       "description_width": ""
      }
     },
     "167089be9ecf4415b4778fc4e204805a": {
      "model_module": "@jupyter-widgets/controls",
      "model_module_version": "1.5.0",
      "model_name": "VBoxModel",
      "state": {
       "children": [
        "IPY_MODEL_b45ac820396848b6bf64a0eaebbd07ca",
        "IPY_MODEL_93d9fd6a212b45bbba8e97ef86cafdd8",
        "IPY_MODEL_c4756cd3a3b0432fa78ea93ce13ec24b"
       ],
       "layout": "IPY_MODEL_1acbba9c41044c6084fe920ca9905acf"
      }
     },
     "16928ad4143b4e7f932b05f4a03758af": {
      "model_module": "@jupyter-widgets/controls",
      "model_module_version": "1.5.0",
      "model_name": "VBoxModel",
      "state": {
       "children": [
        "IPY_MODEL_dfda6872d7914a67825205e895a27484",
        "IPY_MODEL_c9f19100384340769cf63e8b497cc653",
        "IPY_MODEL_f87ef73ae68a4a15bc376844aefc42b6",
        "IPY_MODEL_4a14c6b83f66475382b79ebc8a622a6e"
       ],
       "layout": "IPY_MODEL_78de31249fb1481fb2831f29d741f377"
      }
     },
     "1804b4ca9cf94db8b636315abfbe9031": {
      "model_module": "@jupyter-widgets/controls",
      "model_module_version": "1.5.0",
      "model_name": "HBoxModel",
      "state": {
       "children": [
        "IPY_MODEL_7a09727672c34867ba06375ca14c66ae",
        "IPY_MODEL_b6c4fc10c05449c790ff424b4862ed89"
       ],
       "layout": "IPY_MODEL_25bcc3ec0a2e401c905e28dfad1350b6"
      }
     },
     "180b3858c8604c9f9ce64d89931e1cf3": {
      "model_module": "@jupyter-widgets/base",
      "model_module_version": "1.2.0",
      "model_name": "LayoutModel",
      "state": {}
     },
     "184f9cdab94e400baf92183d6897cab5": {
      "model_module": "@jupyter-widgets/controls",
      "model_module_version": "1.5.0",
      "model_name": "SliderStyleModel",
      "state": {
       "description_width": ""
      }
     },
     "18a594b9e685412781ba2fcffb7f0dfd": {
      "model_module": "@jupyter-widgets/base",
      "model_module_version": "1.2.0",
      "model_name": "LayoutModel",
      "state": {}
     },
     "18ee69c2d7ac4431ad5236c9bfb88f05": {
      "model_module": "@jupyter-widgets/base",
      "model_module_version": "1.2.0",
      "model_name": "LayoutModel",
      "state": {}
     },
     "1a30bdbc4213423ca7ee347c39b78312": {
      "model_module": "@jupyter-widgets/controls",
      "model_module_version": "1.5.0",
      "model_name": "DescriptionStyleModel",
      "state": {
       "description_width": ""
      }
     },
     "1acbba9c41044c6084fe920ca9905acf": {
      "model_module": "@jupyter-widgets/base",
      "model_module_version": "1.2.0",
      "model_name": "LayoutModel",
      "state": {}
     },
     "1b10f40f8d924acabc6f866527f0e67a": {
      "model_module": "@jupyter-widgets/controls",
      "model_module_version": "1.5.0",
      "model_name": "SliderStyleModel",
      "state": {
       "description_width": ""
      }
     },
     "1cceae38ffe14a3ba9949e345d931a97": {
      "model_module": "@jupyter-widgets/base",
      "model_module_version": "1.2.0",
      "model_name": "LayoutModel",
      "state": {}
     },
     "1e24530fc1e04d6087cf64ba147ed071": {
      "model_module": "@jupyter-widgets/base",
      "model_module_version": "1.2.0",
      "model_name": "LayoutModel",
      "state": {}
     },
     "1e84fa01979a483c9586ca25d1e56ecf": {
      "model_module": "@jupyter-widgets/base",
      "model_module_version": "1.2.0",
      "model_name": "LayoutModel",
      "state": {}
     },
     "1f6784077fe84def9e71593f7f5202cc": {
      "model_module": "@jupyter-widgets/base",
      "model_module_version": "1.2.0",
      "model_name": "LayoutModel",
      "state": {}
     },
     "21abf54713c64cf8ad70cc1cff382d6c": {
      "model_module": "@jupyter-widgets/base",
      "model_module_version": "1.2.0",
      "model_name": "LayoutModel",
      "state": {}
     },
     "21f51ebcc6af44bab563e8be86239b05": {
      "model_module": "@jupyter-widgets/controls",
      "model_module_version": "1.5.0",
      "model_name": "SliderStyleModel",
      "state": {
       "description_width": ""
      }
     },
     "22666ee0ab8345dc914b782139f03804": {
      "model_module": "@jupyter-widgets/output",
      "model_module_version": "1.0.0",
      "model_name": "OutputModel",
      "state": {
       "layout": "IPY_MODEL_fb2c99959ad64a2787ab724824da4f6d",
       "outputs": [
        {
         "data": {
          "image/png": "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\n",
          "text/plain": "<Figure size 432x288 with 1 Axes>"
         },
         "metadata": {
          "needs_background": "light"
         },
         "output_type": "display_data"
        }
       ]
      }
     },
     "2473d6f81c00428fa08a25d7797cc465": {
      "model_module": "@jupyter-widgets/controls",
      "model_module_version": "1.5.0",
      "model_name": "FloatSliderModel",
      "state": {
       "description": "phi",
       "layout": "IPY_MODEL_fe924595d1cf4f17a9782c06b53f7afb",
       "max": 6.293185307179586,
       "step": 0.01,
       "style": "IPY_MODEL_114b22731b764593aebba3458b06fa60"
      }
     },
     "25bcc3ec0a2e401c905e28dfad1350b6": {
      "model_module": "@jupyter-widgets/base",
      "model_module_version": "1.2.0",
      "model_name": "LayoutModel",
      "state": {}
     },
     "28fdb5e14cc94133ad824ffec600dd71": {
      "model_module": "@jupyter-widgets/base",
      "model_module_version": "1.2.0",
      "model_name": "LayoutModel",
      "state": {}
     },
     "291d3a3065314464b66f2cdb31c3edbe": {
      "model_module": "@jupyter-widgets/controls",
      "model_module_version": "1.5.0",
      "model_name": "SliderStyleModel",
      "state": {
       "description_width": ""
      }
     },
     "2af3d8b137a147f5a4a518f84ff0d46b": {
      "model_module": "@jupyter-widgets/controls",
      "model_module_version": "1.5.0",
      "model_name": "FloatSliderModel",
      "state": {
       "continuous_update": false,
       "description": "Phase",
       "layout": "IPY_MODEL_d704113790d5467d9be96cb7e8518693",
       "max": 2,
       "min": 0.1,
       "step": 0.1,
       "style": "IPY_MODEL_b3b2816d48894175bb39a34aee2097d5",
       "value": 0.4
      }
     },
     "2ccaf1f491ef4b87a5c3ec3f7b91b819": {
      "model_module": "@jupyter-widgets/base",
      "model_module_version": "1.2.0",
      "model_name": "LayoutModel",
      "state": {}
     },
     "2e34a759d0cc4979814c1a45bd01fb63": {
      "model_module": "@jupyter-widgets/base",
      "model_module_version": "1.2.0",
      "model_name": "LayoutModel",
      "state": {}
     },
     "2ea36686a3354696b3a2d274e631a5f6": {
      "model_module": "@jupyter-widgets/controls",
      "model_module_version": "1.5.0",
      "model_name": "HBoxModel",
      "state": {
       "children": [
        "IPY_MODEL_f807d986284f40ad8763605b468b60a2"
       ],
       "layout": "IPY_MODEL_d8d52b62cdf644aebe60a9bde3234dec"
      }
     },
     "2ec048a8833643fe94815a6bbb55d5fb": {
      "model_module": "@jupyter-widgets/controls",
      "model_module_version": "1.5.0",
      "model_name": "SliderStyleModel",
      "state": {
       "description_width": ""
      }
     },
     "3180633aa9b548e78df1e007c4f12d03": {
      "model_module": "@jupyter-widgets/output",
      "model_module_version": "1.0.0",
      "model_name": "OutputModel",
      "state": {
       "layout": "IPY_MODEL_e5dbfcf74a6e45378f63b5fdce557961",
       "outputs": [
        {
         "data": {
          "text/html": "\n                <audio  controls=\"controls\" autoplay=\"autoplay\">\n                    <source src=\"data:audio/wav;base64,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\" type=\"audio/wav\" />\n                    Your browser does not support the audio element.\n                </audio>\n              ",
          "text/plain": "<IPython.lib.display.Audio object>"
         },
         "metadata": {},
         "output_type": "display_data"
        }
       ]
      }
     },
     "323a3e8de1b84ae7b60eefe54575e326": {
      "model_module": "@jupyter-widgets/base",
      "model_module_version": "1.2.0",
      "model_name": "LayoutModel",
      "state": {}
     },
     "3422228dc5524f54b6fd0edae59a89ec": {
      "model_module": "@jupyter-widgets/controls",
      "model_module_version": "1.5.0",
      "model_name": "FloatSliderModel",
      "state": {
       "continuous_update": false,
       "description": "Duration",
       "layout": "IPY_MODEL_e473faff5f7745a2b58b9389d3966333",
       "max": 2,
       "min": 0.1,
       "step": 0.1,
       "style": "IPY_MODEL_10c9887f4e294f5a877b1caecae38377",
       "value": 0.4
      }
     },
     "345d0816ccbf4f11b37fdf0089435948": {
      "model_module": "@jupyter-widgets/base",
      "model_module_version": "1.2.0",
      "model_name": "LayoutModel",
      "state": {}
     },
     "3488634c457d43fea1d228279d7f9aa3": {
      "model_module": "@jupyter-widgets/controls",
      "model_module_version": "1.5.0",
      "model_name": "SliderStyleModel",
      "state": {
       "description_width": ""
      }
     },
     "358516ce18e943ae8f55e2561d65ccba": {
      "model_module": "@jupyter-widgets/base",
      "model_module_version": "1.2.0",
      "model_name": "LayoutModel",
      "state": {}
     },
     "3661abe11e874ed9bce9abe6ad572fe4": {
      "model_module": "@jupyter-widgets/controls",
      "model_module_version": "1.5.0",
      "model_name": "HBoxModel",
      "state": {
       "children": [
        "IPY_MODEL_d093ce8333844a9b844ed9fcd057af21",
        "IPY_MODEL_b0c9e31b78df49159625f8c6cebd1e5a"
       ],
       "layout": "IPY_MODEL_7dde03ba70744e2991276f0c6a65047e"
      }
     },
     "36840db522704e56b9d8a6b8a172cbe4": {
      "model_module": "@jupyter-widgets/controls",
      "model_module_version": "1.5.0",
      "model_name": "SliderStyleModel",
      "state": {
       "description_width": ""
      }
     },
     "388052abdcfe482fa4500762a2b1d2f1": {
      "model_module": "@jupyter-widgets/base",
      "model_module_version": "1.2.0",
      "model_name": "LayoutModel",
      "state": {}
     },
     "3a543aef071640ae855d2e9e709f24ba": {
      "model_module": "@jupyter-widgets/base",
      "model_module_version": "1.2.0",
      "model_name": "LayoutModel",
      "state": {}
     },
     "3bb707718aba4f46b603f740c3ef34ff": {
      "model_module": "@jupyter-widgets/controls",
      "model_module_version": "1.5.0",
      "model_name": "HBoxModel",
      "state": {
       "children": [
        "IPY_MODEL_484367e004b44298bf5b43d9779323fb",
        "IPY_MODEL_7a88b4a6e15d42a59dadde1b32216b03",
        "IPY_MODEL_f59a1554278e4ca7ab83987d5468662b"
       ],
       "layout": "IPY_MODEL_1e84fa01979a483c9586ca25d1e56ecf"
      }
     },
     "3bf2d1fb49a145d4996ddc3cf0c5102a": {
      "model_module": "@jupyter-widgets/controls",
      "model_module_version": "1.5.0",
      "model_name": "VBoxModel",
      "state": {
       "children": [
        "IPY_MODEL_5f57b74a24df40b7836674106493ce57",
        "IPY_MODEL_ba879ca28ea7420891469ed6e9332c42",
        "IPY_MODEL_9f14aa40e8ca42869d3f0a07e56dc718",
        "IPY_MODEL_60b8a79992bd4c90aac0b1f8e9868978"
       ],
       "layout": "IPY_MODEL_ab8469fddb1b4e9da93df104f06886ab"
      }
     },
     "3d8d56f6d6534a0ea141e0faf89ef7e0": {
      "model_module": "@jupyter-widgets/controls",
      "model_module_version": "1.5.0",
      "model_name": "FloatSliderModel",
      "state": {
       "description": "Amplitude",
       "layout": "IPY_MODEL_3de2e690adcd433b89a6d9ce6879982d",
       "max": 1,
       "step": 0.05,
       "style": "IPY_MODEL_828f4e41af244d6e80079a2ac7c324c9",
       "value": 0.5
      }
     },
     "3db4921c33ac496c9bd645e8f649cb3f": {
      "model_module": "@jupyter-widgets/base",
      "model_module_version": "1.2.0",
      "model_name": "LayoutModel",
      "state": {}
     },
     "3de2e690adcd433b89a6d9ce6879982d": {
      "model_module": "@jupyter-widgets/base",
      "model_module_version": "1.2.0",
      "model_name": "LayoutModel",
      "state": {}
     },
     "3ec0f45cc394434a9bf489a1c19efc8e": {
      "model_module": "@jupyter-widgets/controls",
      "model_module_version": "1.5.0",
      "model_name": "SliderStyleModel",
      "state": {
       "description_width": ""
      }
     },
     "3f290dbfff714866bb081c7c309b724e": {
      "model_module": "@jupyter-widgets/controls",
      "model_module_version": "1.5.0",
      "model_name": "VBoxModel",
      "state": {
       "_dom_classes": [
        "widget-interact"
       ],
       "children": [
        "IPY_MODEL_3f9a54cd87be4181be133dd93d4cf457",
        "IPY_MODEL_d25b7edb99114d958f8e8f014fb8a756",
        "IPY_MODEL_85b42a31d281403a93794a32a65a4c0d",
        "IPY_MODEL_f69eef9077b146099b6780d19c668b98"
       ],
       "layout": "IPY_MODEL_ba7bac675b05433cb141ac29f09ac19c"
      }
     },
     "3f9a54cd87be4181be133dd93d4cf457": {
      "model_module": "@jupyter-widgets/controls",
      "model_module_version": "1.5.0",
      "model_name": "IntSliderModel",
      "state": {
       "description": "w",
       "layout": "IPY_MODEL_682c151d9cde4507a3321bf1c42c10a8",
       "max": 10,
       "style": "IPY_MODEL_976fe97ea4324a7ead02a966cb321d24",
       "value": 1
      }
     },
     "412c1454a0c84ba38ce0f7c9df9351bd": {
      "model_module": "@jupyter-widgets/controls",
      "model_module_version": "1.5.0",
      "model_name": "SliderStyleModel",
      "state": {
       "description_width": ""
      }
     },
     "4160e7ab35084d1fb8cadb5551cbbc23": {
      "model_module": "@jupyter-widgets/base",
      "model_module_version": "1.2.0",
      "model_name": "LayoutModel",
      "state": {}
     },
     "41b15d75926f4319ba52f905f5c507cf": {
      "model_module": "@jupyter-widgets/controls",
      "model_module_version": "1.5.0",
      "model_name": "TextModel",
      "state": {
       "continuous_update": false,
       "description": "xlabel",
       "layout": "IPY_MODEL_1f6784077fe84def9e71593f7f5202cc",
       "style": "IPY_MODEL_c672eff93ed94f17b9cbf969aa0511a6",
       "value": "x"
      }
     },
     "42adb91bc1c34f308d88ed70b0f8317d": {
      "model_module": "@jupyter-widgets/controls",
      "model_module_version": "1.5.0",
      "model_name": "FloatSliderModel",
      "state": {
       "continuous_update": false,
       "description": "Phase",
       "layout": "IPY_MODEL_ec3d746724544dda8ccb549b4caa9c4b",
       "max": 2,
       "min": 0.1,
       "step": 0.1,
       "style": "IPY_MODEL_d161091ae6c54fec9b97099eb11014d9",
       "value": 0.4
      }
     },
     "42f9681a4ed943ff8a70d696ed36bd1e": {
      "model_module": "@jupyter-widgets/base",
      "model_module_version": "1.2.0",
      "model_name": "LayoutModel",
      "state": {}
     },
     "43b1895c6a464248905d9e43a8ae2548": {
      "model_module": "@jupyter-widgets/base",
      "model_module_version": "1.2.0",
      "model_name": "LayoutModel",
      "state": {}
     },
     "44130e8a15ce43b183ba114857813a3f": {
      "model_module": "@jupyter-widgets/base",
      "model_module_version": "1.2.0",
      "model_name": "LayoutModel",
      "state": {}
     },
     "44439f796d0748e2a892259c5576ca4f": {
      "model_module": "@jupyter-widgets/controls",
      "model_module_version": "1.5.0",
      "model_name": "SliderStyleModel",
      "state": {
       "description_width": ""
      }
     },
     "467bf84741dd42cda9ed13588d75a6e2": {
      "model_module": "@jupyter-widgets/controls",
      "model_module_version": "1.5.0",
      "model_name": "SliderStyleModel",
      "state": {
       "description_width": ""
      }
     },
     "47f41d8082054c8cb5eba85cee0b8980": {
      "model_module": "@jupyter-widgets/base",
      "model_module_version": "1.2.0",
      "model_name": "LayoutModel",
      "state": {}
     },
     "484367e004b44298bf5b43d9779323fb": {
      "model_module": "@jupyter-widgets/controls",
      "model_module_version": "1.5.0",
      "model_name": "VBoxModel",
      "state": {
       "children": [
        "IPY_MODEL_f7e96303de6c48589afbe61bf56f5d5e",
        "IPY_MODEL_d6fb8eb7888740909af985bd4ea8dd14",
        "IPY_MODEL_42adb91bc1c34f308d88ed70b0f8317d"
       ],
       "layout": "IPY_MODEL_358516ce18e943ae8f55e2561d65ccba"
      }
     },
     "48a4a176dba04982982e8b18bf78da01": {
      "model_module": "@jupyter-widgets/controls",
      "model_module_version": "1.5.0",
      "model_name": "FloatSliderModel",
      "state": {
       "continuous_update": false,
       "description": "Duration",
       "layout": "IPY_MODEL_cfd6f2591de942f896cc504c326f3830",
       "max": 2,
       "min": 0.1,
       "step": 0.1,
       "style": "IPY_MODEL_0cb4f54aeee840afa80ef828f91a1799",
       "value": 1.7
      }
     },
     "493da45b807f47908f182617ecf0dbbe": {
      "model_module": "@jupyter-widgets/controls",
      "model_module_version": "1.5.0",
      "model_name": "SliderStyleModel",
      "state": {
       "description_width": ""
      }
     },
     "4a14c6b83f66475382b79ebc8a622a6e": {
      "model_module": "@jupyter-widgets/output",
      "model_module_version": "1.0.0",
      "model_name": "OutputModel",
      "state": {
       "layout": "IPY_MODEL_ccf9005d3cd346ddbf16ca695814de54",
       "outputs": [
        {
         "name": "stdout",
         "output_type": "stream",
         "text": "Values:\n  amp= 0.7\n  omega= 1.5\n"
        }
       ]
      }
     },
     "4bc378b78a6d4cdfa88c56c39f4ce993": {
      "model_module": "@jupyter-widgets/base",
      "model_module_version": "1.2.0",
      "model_name": "LayoutModel",
      "state": {}
     },
     "4c851adf70164233897bb68739bf972b": {
      "model_module": "@jupyter-widgets/controls",
      "model_module_version": "1.5.0",
      "model_name": "SliderStyleModel",
      "state": {
       "description_width": ""
      }
     },
     "4d0a37ec314748439654be4f21c59b63": {
      "model_module": "@jupyter-widgets/controls",
      "model_module_version": "1.5.0",
      "model_name": "FloatSliderModel",
      "state": {
       "description": "Frequency",
       "layout": "IPY_MODEL_b3f2d4fca8d14242972c5218dbeb948a",
       "max": 500,
       "min": 50,
       "step": 5,
       "style": "IPY_MODEL_f2d0688036f54ef8af1452c95199636e",
       "value": 175
      }
     },
     "4e1812aa95914fb880e922e04672290e": {
      "model_module": "@jupyter-widgets/controls",
      "model_module_version": "1.5.0",
      "model_name": "SliderStyleModel",
      "state": {
       "description_width": ""
      }
     },
     "511b4f3fa3834036b964030c906e406d": {
      "model_module": "@jupyter-widgets/controls",
      "model_module_version": "1.5.0",
      "model_name": "SliderStyleModel",
      "state": {
       "description_width": ""
      }
     },
     "52cf440419b0431babb33be8c7c4aa3f": {
      "model_module": "@jupyter-widgets/base",
      "model_module_version": "1.2.0",
      "model_name": "LayoutModel",
      "state": {}
     },
     "56118a75e45c41b68a92ce68d9fb815e": {
      "model_module": "@jupyter-widgets/base",
      "model_module_version": "1.2.0",
      "model_name": "LayoutModel",
      "state": {}
     },
     "564cdc031f9a4df8bcad3a747cccf1ff": {
      "model_module": "@jupyter-widgets/base",
      "model_module_version": "1.2.0",
      "model_name": "LayoutModel",
      "state": {}
     },
     "56cfeeede1df445ea132ebd7d2dd0d53": {
      "model_module": "@jupyter-widgets/controls",
      "model_module_version": "1.5.0",
      "model_name": "FloatSliderModel",
      "state": {
       "description": "Amplitude",
       "layout": "IPY_MODEL_58fc45c9f2fe40c1a11b7eab99cf3788",
       "max": 1,
       "step": 0.05,
       "style": "IPY_MODEL_e3c0f875e87345aca1ba33f04ee1f6d5",
       "value": 0.5
      }
     },
     "5731df38d8004268860863446340178d": {
      "model_module": "@jupyter-widgets/controls",
      "model_module_version": "1.5.0",
      "model_name": "FloatSliderModel",
      "state": {
       "description": "Amplitude",
       "layout": "IPY_MODEL_f8b58cd769194cd591344e5d517b4289",
       "max": 1,
       "step": 0.05,
       "style": "IPY_MODEL_d19687a646a840c192b454f0c61ee4e3",
       "value": 0.5
      }
     },
     "57e19706850f46148098b6d34a6e4dc7": {
      "model_module": "@jupyter-widgets/controls",
      "model_module_version": "1.5.0",
      "model_name": "SliderStyleModel",
      "state": {
       "description_width": ""
      }
     },
     "586029a4cc604cd38c58e065f936a4a4": {
      "model_module": "@jupyter-widgets/controls",
      "model_module_version": "1.5.0",
      "model_name": "SliderStyleModel",
      "state": {
       "description_width": ""
      }
     },
     "5891e2bf408f4d9cb7f837c54a52219d": {
      "model_module": "@jupyter-widgets/controls",
      "model_module_version": "1.5.0",
      "model_name": "IntSliderModel",
      "state": {
       "description": "w",
       "layout": "IPY_MODEL_564cdc031f9a4df8bcad3a747cccf1ff",
       "max": 10,
       "style": "IPY_MODEL_ca7732bc3d164f63938552fe48f77262",
       "value": 7
      }
     },
     "58a909f039a6490f8a3c2fedfbebe9ee": {
      "model_module": "@jupyter-widgets/controls",
      "model_module_version": "1.5.0",
      "model_name": "SliderStyleModel",
      "state": {
       "description_width": ""
      }
     },
     "58e496d47c7e4dfba35d6615b15e41f6": {
      "model_module": "@jupyter-widgets/base",
      "model_module_version": "1.2.0",
      "model_name": "LayoutModel",
      "state": {}
     },
     "58fc45c9f2fe40c1a11b7eab99cf3788": {
      "model_module": "@jupyter-widgets/base",
      "model_module_version": "1.2.0",
      "model_name": "LayoutModel",
      "state": {}
     },
     "59c796373877450fabd40a6c26053c99": {
      "model_module": "@jupyter-widgets/base",
      "model_module_version": "1.2.0",
      "model_name": "LayoutModel",
      "state": {}
     },
     "5afbeb2cb2bc4affbd55a76daec8b807": {
      "model_module": "@jupyter-widgets/base",
      "model_module_version": "1.2.0",
      "model_name": "LayoutModel",
      "state": {}
     },
     "5d03be88e7a4463db91a4fb0f8bd0a18": {
      "model_module": "@jupyter-widgets/controls",
      "model_module_version": "1.5.0",
      "model_name": "FloatSliderModel",
      "state": {
       "description": "Frequency",
       "layout": "IPY_MODEL_dd98ba0290d2480cbcb7aa97cbf35789",
       "max": 500,
       "min": 50,
       "step": 5,
       "style": "IPY_MODEL_a45388fdb4e24557aaf15a7f6fbe9690",
       "value": 200
      }
     },
     "5d23c6ed31ea43d2bf3dba686dd37fd3": {
      "model_module": "@jupyter-widgets/controls",
      "model_module_version": "1.5.0",
      "model_name": "SliderStyleModel",
      "state": {
       "description_width": ""
      }
     },
     "5dc3a0f97d564933983c68689a439e42": {
      "model_module": "@jupyter-widgets/controls",
      "model_module_version": "1.5.0",
      "model_name": "FloatSliderModel",
      "state": {
       "description": "amp",
       "layout": "IPY_MODEL_68dec50c55794eefb5cf847504b055ef",
       "max": 4,
       "step": 0.1,
       "style": "IPY_MODEL_f5ae220e59314be191558ca2427b00bf",
       "value": 1
      }
     },
     "5e9dbba3ed0549adaad858d15302151d": {
      "model_module": "@jupyter-widgets/base",
      "model_module_version": "1.2.0",
      "model_name": "LayoutModel",
      "state": {}
     },
     "5ed4e32ff47a426bb658a1169bba1fcd": {
      "model_module": "@jupyter-widgets/base",
      "model_module_version": "1.2.0",
      "model_name": "LayoutModel",
      "state": {}
     },
     "5f57b74a24df40b7836674106493ce57": {
      "model_module": "@jupyter-widgets/controls",
      "model_module_version": "1.5.0",
      "model_name": "IntSliderModel",
      "state": {
       "description": "freq",
       "layout": "IPY_MODEL_6d3c5b190867459d9e54806754a1c6c9",
       "max": 10,
       "style": "IPY_MODEL_a81ccc000083495c82fcecf77e86a535",
       "value": 1
      }
     },
     "60b8a79992bd4c90aac0b1f8e9868978": {
      "model_module": "@jupyter-widgets/controls",
      "model_module_version": "1.5.0",
      "model_name": "TextModel",
      "state": {
       "continuous_update": false,
       "description": "ylabel",
       "layout": "IPY_MODEL_c92746c318ab473592ef377672b68880",
       "style": "IPY_MODEL_f00d3143522e42b9a4e58f609e2c342a",
       "value": "y"
      }
     },
     "62adcf342952468997bc4c9743c5a4c1": {
      "model_module": "@jupyter-widgets/controls",
      "model_module_version": "1.5.0",
      "model_name": "VBoxModel",
      "state": {
       "_dom_classes": [
        "widget-interact"
       ],
       "children": [
        "IPY_MODEL_f3e60a87174c4d88a1deb236fa8a25b9",
        "IPY_MODEL_7e4f6ae3acf546b29f05f96ebad9f38f",
        "IPY_MODEL_05a459db524341f0a1e67c8ca993bc52",
        "IPY_MODEL_11808ae5f9ff42b4b91230f334d1731f"
       ],
       "layout": "IPY_MODEL_f7b5d055425c4892a074be99269a1cb6"
      }
     },
     "649941ae4c714928a70277b96bbad167": {
      "model_module": "@jupyter-widgets/controls",
      "model_module_version": "1.5.0",
      "model_name": "FloatSliderModel",
      "state": {
       "continuous_update": false,
       "description": "Duration",
       "layout": "IPY_MODEL_47f41d8082054c8cb5eba85cee0b8980",
       "max": 2,
       "min": 0.1,
       "step": 0.1,
       "style": "IPY_MODEL_586029a4cc604cd38c58e065f936a4a4",
       "value": 0.4
      }
     },
     "65bdd6af50ae4cd4813a95bc12c87b03": {
      "model_module": "@jupyter-widgets/controls",
      "model_module_version": "1.5.0",
      "model_name": "SliderStyleModel",
      "state": {
       "description_width": ""
      }
     },
     "671bca3cfcbc4307978e4b1ec334ad86": {
      "model_module": "@jupyter-widgets/base",
      "model_module_version": "1.2.0",
      "model_name": "LayoutModel",
      "state": {}
     },
     "673b46b1515d429199f9ccbaf9a17497": {
      "model_module": "@jupyter-widgets/output",
      "model_module_version": "1.0.0",
      "model_name": "OutputModel",
      "state": {
       "layout": "IPY_MODEL_5afbeb2cb2bc4affbd55a76daec8b807",
       "outputs": [
        {
         "data": {
          "image/png": "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\n",
          "text/plain": "<Figure size 216x216 with 1 Axes>"
         },
         "metadata": {
          "needs_background": "light"
         },
         "output_type": "display_data"
        }
       ]
      }
     },
     "6769cd466245452190a36d46ef44dae7": {
      "model_module": "@jupyter-widgets/base",
      "model_module_version": "1.2.0",
      "model_name": "LayoutModel",
      "state": {}
     },
     "67d0b53ad8074eb894a7db4e5661a2b6": {
      "model_module": "@jupyter-widgets/controls",
      "model_module_version": "1.5.0",
      "model_name": "FloatSliderModel",
      "state": {
       "description": "phi",
       "layout": "IPY_MODEL_dc9ef09724c4485a8c6a629170f1a899",
       "max": 6.283185307179586,
       "step": 0.01,
       "style": "IPY_MODEL_00a7a2c790754522953522ae1ceec43b"
      }
     },
     "682c151d9cde4507a3321bf1c42c10a8": {
      "model_module": "@jupyter-widgets/base",
      "model_module_version": "1.2.0",
      "model_name": "LayoutModel",
      "state": {}
     },
     "68dec50c55794eefb5cf847504b055ef": {
      "model_module": "@jupyter-widgets/base",
      "model_module_version": "1.2.0",
      "model_name": "LayoutModel",
      "state": {}
     },
     "6a5a9c96cae74da1a63d1d896ab739c1": {
      "model_module": "@jupyter-widgets/controls",
      "model_module_version": "1.5.0",
      "model_name": "FloatSliderModel",
      "state": {
       "description": "phi",
       "layout": "IPY_MODEL_cda5818f1cfa4daeb46698888215355f",
       "max": 6.283185307179586,
       "step": 0.01,
       "style": "IPY_MODEL_9bbf48da45ac412cac50f1a8b85dd33f",
       "value": 3.97
      }
     },
     "6a5c952f71014bbda08bef88a85d1848": {
      "model_module": "@jupyter-widgets/controls",
      "model_module_version": "1.5.0",
      "model_name": "HBoxModel",
      "state": {
       "children": [
        "IPY_MODEL_a28c5ec0038c47ff9e171b3637854391",
        "IPY_MODEL_d14e19c1601244a1abb14410c76f87e6"
       ],
       "layout": "IPY_MODEL_d64f7fa530694dcda7c0853c1aaa1100"
      }
     },
     "6a90db1fa6104bc5853ca5fb4dab2fe0": {
      "model_module": "@jupyter-widgets/base",
      "model_module_version": "1.2.0",
      "model_name": "LayoutModel",
      "state": {}
     },
     "6baac6f120cc4392b4e47cc67cd15bfa": {
      "model_module": "@jupyter-widgets/output",
      "model_module_version": "1.0.0",
      "model_name": "OutputModel",
      "state": {
       "layout": "IPY_MODEL_85ffb752c7c24a2db54c6a9c5ac04689",
       "outputs": [
        {
         "data": {
          "image/png": "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\n",
          "text/plain": "<Figure size 432x288 with 1 Axes>"
         },
         "metadata": {
          "needs_background": "light"
         },
         "output_type": "display_data"
        }
       ]
      }
     },
     "6c1de806ef964a28a7e9e998adcffde4": {
      "model_module": "@jupyter-widgets/controls",
      "model_module_version": "1.5.0",
      "model_name": "FloatSliderModel",
      "state": {
       "description": "Frequency",
       "layout": "IPY_MODEL_c8d2fbc1b86d4b468c56e7dc409a3070",
       "max": 500,
       "min": 50,
       "step": 5,
       "style": "IPY_MODEL_d074177bade44a999e649dc5695adc0d",
       "value": 200
      }
     },
     "6d3c5b190867459d9e54806754a1c6c9": {
      "model_module": "@jupyter-widgets/base",
      "model_module_version": "1.2.0",
      "model_name": "LayoutModel",
      "state": {}
     },
     "6dc9aba136654a27b5db33860ea8882b": {
      "model_module": "@jupyter-widgets/base",
      "model_module_version": "1.2.0",
      "model_name": "LayoutModel",
      "state": {}
     },
     "6ea59e71f67841ae80e56f69d98b6acc": {
      "model_module": "@jupyter-widgets/controls",
      "model_module_version": "1.5.0",
      "model_name": "FloatSliderModel",
      "state": {
       "description": "Amplitude",
       "layout": "IPY_MODEL_a005598308964150ab858a9c8a166dc3",
       "max": 1,
       "step": 0.05,
       "style": "IPY_MODEL_e1c152ff6bdf4e5f834983c9adc83887",
       "value": 0.5
      }
     },
     "6fc88d5bc74941a4bb64e83e8e449843": {
      "model_module": "@jupyter-widgets/controls",
      "model_module_version": "1.5.0",
      "model_name": "FloatSliderModel",
      "state": {
       "description": "Frequency",
       "layout": "IPY_MODEL_5e9dbba3ed0549adaad858d15302151d",
       "max": 6.283185307179586,
       "step": 0.1,
       "style": "IPY_MODEL_b7de05a5ad5c41cd92107e07065c54fe",
       "value": 1
      }
     },
     "710b1c9c26214d83a59b24a1a20a20c1": {
      "model_module": "@jupyter-widgets/base",
      "model_module_version": "1.2.0",
      "model_name": "LayoutModel",
      "state": {}
     },
     "716191d516ae4895a3239d4a3a4a13d2": {
      "model_module": "@jupyter-widgets/controls",
      "model_module_version": "1.5.0",
      "model_name": "FloatSliderModel",
      "state": {
       "description": "Frequency",
       "layout": "IPY_MODEL_c3ede5075f9240f0a48e56fb66a91ad7",
       "max": 6.283185307179586,
       "step": 0.1,
       "style": "IPY_MODEL_44439f796d0748e2a892259c5576ca4f",
       "value": 1
      }
     },
     "74f23ea8e6854f6a998509e3f51e0290": {
      "model_module": "@jupyter-widgets/base",
      "model_module_version": "1.2.0",
      "model_name": "LayoutModel",
      "state": {
       "border": "solid 1px black",
       "margin": "0px 10px 10px 0px",
       "padding": "5px 5px 5px 5px"
      }
     },
     "76c1e70a20434a3abd1dca6b40382c55": {
      "model_module": "@jupyter-widgets/controls",
      "model_module_version": "1.5.0",
      "model_name": "FloatSliderModel",
      "state": {
       "continuous_update": false,
       "description": "Phase",
       "layout": "IPY_MODEL_ecfe532d445c43d78d66adb04d571460",
       "max": 2,
       "min": 0.1,
       "step": 0.1,
       "style": "IPY_MODEL_a8b0402b6586472ebe5b9ca4ff1b0ed1",
       "value": 0.4
      }
     },
     "78de31249fb1481fb2831f29d741f377": {
      "model_module": "@jupyter-widgets/base",
      "model_module_version": "1.2.0",
      "model_name": "LayoutModel",
      "state": {}
     },
     "79938f88da434bf287820ddf74e68c04": {
      "model_module": "@jupyter-widgets/base",
      "model_module_version": "1.2.0",
      "model_name": "LayoutModel",
      "state": {}
     },
     "7a09727672c34867ba06375ca14c66ae": {
      "model_module": "@jupyter-widgets/controls",
      "model_module_version": "1.5.0",
      "model_name": "VBoxModel",
      "state": {
       "children": [
        "IPY_MODEL_b1b9ef8078e54c6bbadafe33e767ecf7",
        "IPY_MODEL_1048b565651c443993536a733fdba033",
        "IPY_MODEL_d77a58ff92b74ef48d2a4d9db3cc3c9c"
       ],
       "layout": "IPY_MODEL_1e24530fc1e04d6087cf64ba147ed071"
      }
     },
     "7a88b4a6e15d42a59dadde1b32216b03": {
      "model_module": "@jupyter-widgets/output",
      "model_module_version": "1.0.0",
      "model_name": "OutputModel",
      "state": {
       "layout": "IPY_MODEL_a30e73d8609a4326810713bd2ad9d77d",
       "outputs": [
        {
         "data": {
          "image/png": "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\n",
          "text/plain": "<Figure size 432x288 with 1 Axes>"
         },
         "metadata": {
          "needs_background": "light"
         },
         "output_type": "display_data"
        }
       ]
      }
     },
     "7d1aee6479f74580b1b76f2a50b407e9": {
      "model_module": "@jupyter-widgets/base",
      "model_module_version": "1.2.0",
      "model_name": "LayoutModel",
      "state": {}
     },
     "7d8d38c7553240d48fd2c9d4278cfd53": {
      "model_module": "@jupyter-widgets/output",
      "model_module_version": "1.0.0",
      "model_name": "OutputModel",
      "state": {
       "layout": "IPY_MODEL_4160e7ab35084d1fb8cadb5551cbbc23",
       "outputs": [
        {
         "ename": "TypeError",
         "evalue": "f() got an unexpected keyword argument 'a'",
         "output_type": "error",
         "traceback": [
          "\u001b[1;31m---------------------------------------------------------------------------\u001b[0m",
          "\u001b[1;31mTypeError\u001b[0m                                 Traceback (most recent call last)",
          "\u001b[1;32m~\\Anaconda3\\lib\\site-packages\\ipywidgets\\widgets\\interaction.py\u001b[0m in \u001b[0;36mobserver\u001b[1;34m(change)\u001b[0m\n\u001b[0;32m     77\u001b[0m         \u001b[1;32mwith\u001b[0m \u001b[0mout\u001b[0m\u001b[1;33m:\u001b[0m\u001b[1;33m\u001b[0m\u001b[1;33m\u001b[0m\u001b[0m\n\u001b[0;32m     78\u001b[0m             \u001b[0mclear_output\u001b[0m\u001b[1;33m(\u001b[0m\u001b[0mwait\u001b[0m\u001b[1;33m=\u001b[0m\u001b[1;32mTrue\u001b[0m\u001b[1;33m)\u001b[0m\u001b[1;33m\u001b[0m\u001b[1;33m\u001b[0m\u001b[0m\n\u001b[1;32m---> 79\u001b[1;33m             \u001b[0mf\u001b[0m\u001b[1;33m(\u001b[0m\u001b[1;33m**\u001b[0m\u001b[0mkwargs\u001b[0m\u001b[1;33m)\u001b[0m\u001b[1;33m\u001b[0m\u001b[1;33m\u001b[0m\u001b[0m\n\u001b[0m\u001b[0;32m     80\u001b[0m             \u001b[0mshow_inline_matplotlib_plots\u001b[0m\u001b[1;33m(\u001b[0m\u001b[1;33m)\u001b[0m\u001b[1;33m\u001b[0m\u001b[1;33m\u001b[0m\u001b[0m\n\u001b[0;32m     81\u001b[0m     \u001b[1;32mfor\u001b[0m \u001b[0mk\u001b[0m\u001b[1;33m,\u001b[0m\u001b[0mw\u001b[0m \u001b[1;32min\u001b[0m \u001b[0mcontrols\u001b[0m\u001b[1;33m.\u001b[0m\u001b[0mitems\u001b[0m\u001b[1;33m(\u001b[0m\u001b[1;33m)\u001b[0m\u001b[1;33m:\u001b[0m\u001b[1;33m\u001b[0m\u001b[1;33m\u001b[0m\u001b[0m\n",
          "\u001b[1;31mTypeError\u001b[0m: f() got an unexpected keyword argument 'a'"
         ]
        }
       ]
      }
     },
     "7dde03ba70744e2991276f0c6a65047e": {
      "model_module": "@jupyter-widgets/base",
      "model_module_version": "1.2.0",
      "model_name": "LayoutModel",
      "state": {}
     },
     "7e4f6ae3acf546b29f05f96ebad9f38f": {
      "model_module": "@jupyter-widgets/controls",
      "model_module_version": "1.5.0",
      "model_name": "FloatSliderModel",
      "state": {
       "description": "amp",
       "layout": "IPY_MODEL_2e34a759d0cc4979814c1a45bd01fb63",
       "max": 4,
       "step": 0.1,
       "style": "IPY_MODEL_2ec048a8833643fe94815a6bbb55d5fb",
       "value": 1
      }
     },
     "828f4e41af244d6e80079a2ac7c324c9": {
      "model_module": "@jupyter-widgets/controls",
      "model_module_version": "1.5.0",
      "model_name": "SliderStyleModel",
      "state": {
       "description_width": ""
      }
     },
     "8463fa71129e482ebf6556a52fa81b3f": {
      "model_module": "@jupyter-widgets/base",
      "model_module_version": "1.2.0",
      "model_name": "LayoutModel",
      "state": {}
     },
     "85b42a31d281403a93794a32a65a4c0d": {
      "model_module": "@jupyter-widgets/controls",
      "model_module_version": "1.5.0",
      "model_name": "FloatSliderModel",
      "state": {
       "description": "phi",
       "layout": "IPY_MODEL_ac64e1e5981a471c98ec3e5c17c31e04",
       "max": 6.283185307179586,
       "step": 0.01,
       "style": "IPY_MODEL_58a909f039a6490f8a3c2fedfbebe9ee"
      }
     },
     "85ffb752c7c24a2db54c6a9c5ac04689": {
      "model_module": "@jupyter-widgets/base",
      "model_module_version": "1.2.0",
      "model_name": "LayoutModel",
      "state": {}
     },
     "86de944d43b34cfe8b157f38e9de6c18": {
      "model_module": "@jupyter-widgets/base",
      "model_module_version": "1.2.0",
      "model_name": "LayoutModel",
      "state": {}
     },
     "87a95c6a684549a3a560ffd9d74f614c": {
      "model_module": "@jupyter-widgets/controls",
      "model_module_version": "1.5.0",
      "model_name": "FloatSliderModel",
      "state": {
       "description": "Frequency",
       "layout": "IPY_MODEL_95e915b3073d40149646b7abddb31893",
       "max": 6.283185307179586,
       "step": 0.1,
       "style": "IPY_MODEL_f33b59c66e7b4f28843887cf6a1f13df",
       "value": 1
      }
     },
     "88e8d6661281451996700af1a8f37470": {
      "model_module": "@jupyter-widgets/controls",
      "model_module_version": "1.5.0",
      "model_name": "FloatSliderModel",
      "state": {
       "continuous_update": false,
       "description": "Duration",
       "layout": "IPY_MODEL_c495ee0ae0ec4b3fbea0b49956de56c8",
       "max": 2,
       "min": 0.1,
       "step": 0.1,
       "style": "IPY_MODEL_e2de03b579414db583344237e741b0f8",
       "value": 0.4
      }
     },
     "88ea8e5a6cfe48988934e06b980645fb": {
      "model_module": "@jupyter-widgets/controls",
      "model_module_version": "1.5.0",
      "model_name": "IntSliderModel",
      "state": {
       "description": "w",
       "layout": "IPY_MODEL_b08bd16c832d409f99af62968ec2715a",
       "max": 10,
       "style": "IPY_MODEL_158f06257c6449cdb128aa4845f1b787",
       "value": 1
      }
     },
     "892ba884d8b44385a11cad76e17c3689": {
      "model_module": "@jupyter-widgets/base",
      "model_module_version": "1.2.0",
      "model_name": "LayoutModel",
      "state": {}
     },
     "8a1bb25660f34afdb902ed342984dbd1": {
      "model_module": "@jupyter-widgets/base",
      "model_module_version": "1.2.0",
      "model_name": "LayoutModel",
      "state": {}
     },
     "9046b302cd1947aa9ed3468402cdafb1": {
      "model_module": "@jupyter-widgets/controls",
      "model_module_version": "1.5.0",
      "model_name": "SliderStyleModel",
      "state": {
       "description_width": ""
      }
     },
     "9103d5d36fb247d8b0b9c62cfd65c7d5": {
      "model_module": "@jupyter-widgets/controls",
      "model_module_version": "1.5.0",
      "model_name": "DescriptionStyleModel",
      "state": {
       "description_width": ""
      }
     },
     "91d6d0761ccd4c5ca792fc26ce351e44": {
      "model_module": "@jupyter-widgets/base",
      "model_module_version": "1.2.0",
      "model_name": "LayoutModel",
      "state": {}
     },
     "93182021f8f54c7188819b1146dbc2aa": {
      "model_module": "@jupyter-widgets/base",
      "model_module_version": "1.2.0",
      "model_name": "LayoutModel",
      "state": {}
     },
     "93d9fd6a212b45bbba8e97ef86cafdd8": {
      "model_module": "@jupyter-widgets/controls",
      "model_module_version": "1.5.0",
      "model_name": "FloatSliderModel",
      "state": {
       "description": "Frequency",
       "layout": "IPY_MODEL_984d409c2a4c4c8dbf4249551480dd1f",
       "max": 6.283185307179586,
       "step": 0.1,
       "style": "IPY_MODEL_36840db522704e56b9d8a6b8a172cbe4",
       "value": 3.5
      }
     },
     "945040ea93f8496f96b4891103520d06": {
      "model_module": "@jupyter-widgets/base",
      "model_module_version": "1.2.0",
      "model_name": "LayoutModel",
      "state": {}
     },
     "95e915b3073d40149646b7abddb31893": {
      "model_module": "@jupyter-widgets/base",
      "model_module_version": "1.2.0",
      "model_name": "LayoutModel",
      "state": {}
     },
     "96f85ed3c7b543979a67b41a85a5b3df": {
      "model_module": "@jupyter-widgets/controls",
      "model_module_version": "1.5.0",
      "model_name": "SliderStyleModel",
      "state": {
       "description_width": ""
      }
     },
     "976fe97ea4324a7ead02a966cb321d24": {
      "model_module": "@jupyter-widgets/controls",
      "model_module_version": "1.5.0",
      "model_name": "SliderStyleModel",
      "state": {
       "description_width": ""
      }
     },
     "979a06d8abf744a38f21d37b2434ae37": {
      "model_module": "@jupyter-widgets/controls",
      "model_module_version": "1.5.0",
      "model_name": "DescriptionStyleModel",
      "state": {
       "description_width": ""
      }
     },
     "97bc93f1159a43bab04f1e971ac16bd9": {
      "model_module": "@jupyter-widgets/controls",
      "model_module_version": "1.5.0",
      "model_name": "FloatSliderModel",
      "state": {
       "description": "Amplitude",
       "layout": "IPY_MODEL_388052abdcfe482fa4500762a2b1d2f1",
       "max": 1,
       "step": 0.05,
       "style": "IPY_MODEL_412c1454a0c84ba38ce0f7c9df9351bd",
       "value": 0.5
      }
     },
     "984d409c2a4c4c8dbf4249551480dd1f": {
      "model_module": "@jupyter-widgets/base",
      "model_module_version": "1.2.0",
      "model_name": "LayoutModel",
      "state": {}
     },
     "9a59cb44b79445e28b252ccb13b2a480": {
      "model_module": "@jupyter-widgets/base",
      "model_module_version": "1.2.0",
      "model_name": "LayoutModel",
      "state": {}
     },
     "9bbf48da45ac412cac50f1a8b85dd33f": {
      "model_module": "@jupyter-widgets/controls",
      "model_module_version": "1.5.0",
      "model_name": "SliderStyleModel",
      "state": {
       "description_width": ""
      }
     },
     "9c016ce6a88b4cb892c88b1cb5315d79": {
      "model_module": "@jupyter-widgets/controls",
      "model_module_version": "1.5.0",
      "model_name": "VBoxModel",
      "state": {
       "_dom_classes": [
        "widget-interact"
       ],
       "children": [
        "IPY_MODEL_132ccb48577e4666951282aa69572e35",
        "IPY_MODEL_6c1de806ef964a28a7e9e998adcffde4",
        "IPY_MODEL_56cfeeede1df445ea132ebd7d2dd0d53",
        "IPY_MODEL_649941ae4c714928a70277b96bbad167",
        "IPY_MODEL_9fb6408928924b079084c22a451afd4b"
       ],
       "layout": "IPY_MODEL_fdb90c3b927e4350affba8c1f88c4576"
      }
     },
     "9d997887530b4d3eba956bf29ad65984": {
      "model_module": "@jupyter-widgets/controls",
      "model_module_version": "1.5.0",
      "model_name": "SliderStyleModel",
      "state": {
       "description_width": ""
      }
     },
     "9d9ad3cd002d44178d2923a1718c863b": {
      "model_module": "@jupyter-widgets/base",
      "model_module_version": "1.2.0",
      "model_name": "LayoutModel",
      "state": {}
     },
     "9f0088edc1224d53949c66cce847e97d": {
      "model_module": "@jupyter-widgets/base",
      "model_module_version": "1.2.0",
      "model_name": "LayoutModel",
      "state": {}
     },
     "9f14aa40e8ca42869d3f0a07e56dc718": {
      "model_module": "@jupyter-widgets/controls",
      "model_module_version": "1.5.0",
      "model_name": "TextModel",
      "state": {
       "continuous_update": false,
       "description": "xlabel",
       "layout": "IPY_MODEL_ba061690b80e4f748e96abf474894f1f",
       "style": "IPY_MODEL_e8bcb88773d742a893d65c2e5c7f2e1f",
       "value": "x"
      }
     },
     "9fb6408928924b079084c22a451afd4b": {
      "model_module": "@jupyter-widgets/output",
      "model_module_version": "1.0.0",
      "model_name": "OutputModel",
      "state": {
       "layout": "IPY_MODEL_93182021f8f54c7188819b1146dbc2aa",
       "outputs": [
        {
         "data": {
          "image/png": "iVBORw0KGgoAAAANSUhEUgAAAYIAAAD8CAYAAAB6paOMAAAAOXRFWHRTb2Z0d2FyZQBNYXRwbG90bGliIHZlcnNpb24zLjMuNCwgaHR0cHM6Ly9tYXRwbG90bGliLm9yZy8QVMy6AAAACXBIWXMAAAsTAAALEwEAmpwYAABiqklEQVR4nO29fbQlR3Uf+tvd594BhEB8SEIS4MGObIxjPgeMje2YD7EAOxY4dh4ky+b5JdEjy/glXvFLJos4JstmBZPYxh+ALNuywc9AbIOMwgiEBAbxJaQRSEICCQ1CoNEIafStkWbm3tNd74/u6t61967q7nvPnTtw6rfWXffWOV377KraVfu3d1WdS845ZGRkZGQsL4rtViAjIyMjY3uRHUFGRkbGkiM7goyMjIwlR3YEGRkZGUuO7AgyMjIylhzZEWRkZGQsORbiCIjofCK6k4iui7xPRPSHRLSPiK4louey915BRDe27+1ehD4ZGRkZGeOxqIjgLwG8IvH+KwGc2f6cA+BdAEBEJYB3tO8/A8DriOgZC9IpIyMjI2MEFuIInHOXAbgn8cjZAN7jGlwO4CQiOg3ACwDsc87d7JxbA/D+9tmMjIyMjGOE2TH6nDMA3MrK+9vXrNd/xBJAROegiSZwwgknPO/pT3/61miakZGR8V2Kq6666i7n3Mny9WPlCMh4zSVe1y86dx6A8wBg165dbu/evYvTLiMjI2MJQETftF4/Vo5gP4CnsPKTARwAsBp5PSMjIyPjGOFYHR+9EMAvtaeHXgjgfufc7QCuBHAmET2NiFYBvLZ9NiMjIyPjGGEhEQERvQ/ATwF4IhHtB/CbAFYAwDl3LoCLALwKwD4ADwP45fa9ORG9EcDFAEoA5zvnrl+EThkZGRkZ47AQR+Cce93A+w7Ar0TeuwiNo8jIyMjI2Abkm8UZGRkZS47sCDIyMjKWHNkRZGRkZCw5siPIyMjIWHJkR5CRkZGx5MiOICMjI2PJkR1BRkZGxpIjO4KMjIyMJUd2BBkZGRlLjuwIMjIyMpYc2RFkZGRkLDmyI8jIyMhYcmRHkJGRkbHkyI4gIyMjY8mRHUFGRkbGkiM7goyMjIwlR3YEGRkZGUuO7AgyMjIylhwLcQRE9AoiupGI9hHRbuP9/5eIrm5/riOiioge3753CxF9uX1v7yL0ycjIyMgYj03/z2IiKgG8A8BZAPYDuJKILnTOfcU/45z7HwD+R/v8PwXwa865e5iYFzvn7tqsLhkZGRkZ07GIiOAFAPY55252zq0BeD+AsxPPvw7A+xbwuRkZGRkZC8AiHMEZAG5l5f3tawpE9CgArwDwAfayA/AxIrqKiM5ZgD4ZGRkZGROw6dQQADJec5Fn/ymAz4q00IuccweI6BQAlxDRDc65y9SHNE7iHAB46lOfulmdMzIyMjJaLCIi2A/gKaz8ZAAHIs++FiIt5Jw70P6+E8AFaFJNCs6585xzu5xzu04++eRNK52RkZGR0WARjuBKAGcS0dOIaBXNYn+hfIiIHgvgnwD4EHvtBCI60f8N4OUArluAThkZGRkZI7Hp1JBzbk5EbwRwMYASwPnOueuJ6A3t++e2j74GwMeccw+x6qcCuICIvC7vdc59dLM6ZWRkZGSMBzkXS+cfv9i1a5fbuzdfOcjIyMiYAiK6yjm3S76ebxZnZGRkLDmyI8jIyMhYcmRHkJGRkbHkyI4gIyMjY8mRHUFGRkbGkiM7goyMjIwlR3YEGRkZGUuO7AgyMjIylhzZEWRkZGQsObIjyMjIyFhyZEeQkZGRseTIjiAjIyNjyZEdQUZGRsaSIzuCjIyMjCVHdgQZGRkZS47sCDIyMjKWHNkRZGRkZCw5siPIyMjIWHJkR5CRkZGx5FiIIyCiVxDRjUS0j4h2G+//FBHdT0RXtz//dWzdjIyMjIytxWyzAoioBPAOAGcB2A/gSiK60Dn3FfHop51zP7PBuhkZGRkZW4RFRAQvALDPOXezc24NwPsBnH0M6m4I//mDX8ZPvO0TXfkVb78M//b/uwoAUNUOO3fvwZ9edjMA4OaDh7Bz9x5cecs9AIALrzmAnbv34P6H1wEA/+1/X49n/bePdbLOfsdn8ct/cQUAwLlG1h99/CYAwK33PIydu/fgMzfdBQD42PXfxs7de3DwwaMAgLd+5AY8/Tc+0sn6P/7k83jdeZd35TPfdBH+58U3AgDueOAIdu7eg0/ccAcA4JM33omdu/fgwH2HAQBvv/RreNp/3tPV/aXzr8DPvfOzXfmHf/Ni/PaHG19796Gj2Ll7Dz7y5dsBAJ//+t3YuXsPvnn3QwCAd33y69i5ew+ccwCAf/OevfjpP/x0J2vXb1+C3/j76wAADxxZx87de/D3X7oNAPDFb92Lnbv3YN+dDwIAzv/MN7Bz9x7MqxoA8Kvv+xJe+ruf7GS96K2fwH/8u2sAAA+vzbFz9x68/4pvAQCuu+1+7Ny9B1858AAA4L1f+BZ27t6DI+sVAODX//Ya/Pjv9OP6kt/9JP6f930JALA2r7Fz9x785We/AQD42h0PYufuPfjSt+4FAPzdVfuxc/ceHDo6BwC86YIv4/lvubST9ao/+DTOec9eAL2N/Mmnvg4AuOWuh7Bz9x584ea7AQAfvraxkXsfWgMA/NaHv4IffvPFnazXvPOzeP35oY38YWsjt913GDt378GnbzoIALjkK3dg5+49uPPBIwCAt330BvzAf+lt5HXnXY7Xnvf5rvz9/+UjeNtHbwAA3NnayKVfaWzksq8dxM7de3BbayN/cOlNwbj+n39xBV79DmYjb74Yv9XayL0PrWHn7j3Yc21jI1+4ubGRW+5qbORPPtXYSF03sv7vv9qLV/5BbyPPf8uleNMFXwYAPNjayAeu2g8A+FJrI1+7o7GRv/xsYyPrrY38u/d/CS9hNvITb/sE/sPfNDZyeK3Czt178N4vNDZy/YHGRq677X4AwPuuCG3kP/7dNXjRW3sbednvfQpvfO8XAQDrVWMjf9HayL47Gxv5YmsjF3ypsZEHjjRz/zf+/jrs+u1LOlk/80efxr9pbaRubeRdn2xs5Jt3NzZyeWsje669HTt378E9rY28Zc9X8MO/2dvIP3vX5/CLf/4FAL2NvP3Sr2ErsQhHcAaAW1l5f/uaxI8S0TVE9BEi+qGJdUFE5xDRXiLae/DgwQ0r+74rvoVb7znclW/49oP4yHXfBgDcf7gZ5Ldc9FUAwOfbgfvbvY2Kf/7pxkHsO3gIAPAXn70F9x9e7ybTNbfeh3+4sdHtobXG+H73kmYAv3TrfQCA917xTQDAez7f/L7+QGO0537q6ziyXuPovKn3hW/c033+0XmF9crhj/9hHwDgK7c/0H0+ALz/ika/q77ZGO3bL70JzqFb2C772kF88VvN59e1w4NH5/izzzQG/412Mp/bOr8PfrGZoJ/7evPZv9MuLPe2zu+Sr9yB69vFGADuOrSGv7q8aYt3RH/0iWZh+/A1zcLxiRvubPriY40jO3iocX7/+5oD+PrBhzpZt913GH+zt/l87yB/r+2/j7UL2keua2T6xfPb9zeL5N9dtR/77+3H9eaDD+HCaw4AQDfhfuejN3b9AQAfuvpA1/cA8K27HwYA/PUXvtV9PtD0t//8B1ob+e8fafrlC99o+snr/edtv95056Gu/OCRebdIfulb9+FT7ecfbhco38ar2zH6q9Y2fL/6he2dn/w6js57G/n8zXfj8psbkrJe1Vib13hnu/jc8O3W+bYL2/9qbXhvS2p+v11YHmxt5JM3HsTVrY3WtcODR+ZdW25pSYHvpwtaR//pfXcFfXHPw00/X3z9Hfjq7b2NHHzwKP66Xaxvb8fL28hFLQH5+FdbG2n7wvf/h64+gJuZjdx6z2F8oLXRuw55G7kxkOFl/vEnmvni7fJv9u7vHCEA7LvzED7cOjfvuH1bLvta07YLvti09U8+1cwPbyN/dfk3cdehtU7Wdbc9gEtaG3nwSNOnfu5c8Y2mz//Xlc0YeGdzYztGf/rpb+DBo3NUrY1c9c178emWMB5Zbxzi2y+9CVuJRTgCMl5zovxFAN/jnHsWgD8C8PcT6jYvOneec26Xc27XySefvFFdO/iJyXFfa8irs6Zb1ufNIOyYlQCAtcrXCesebZ+zZHloWU15pQyHwA88h3dQWlarZxWWPQ63zojDT3yp+6CsdS3riHjtUDsBfBt7Wb7sonr5KMHjgcOtrBVbL18+MteyvGP28P3nZfm+l7LndahDZdlIK2tWUCvLmbJIWLZtI2JcO73a/mrrzAphI2sjbET219we1yPGWBxaC23Ej72vuzbB3qSNPKhsxIV6trIte5Pj0Y1rxN68nnJOOefiNhKZB2udjYT11itjXA+LuR9pY6FsRLdZytoqLMIR7AfwFFZ+MoAD/AHn3APOuUPt3xcBWCGiJ46pu1U4Mq/UIHojXS39gDUDuFIKIxUTURo7l+Xh63YLSDsx5eAfHSHLTxKvlzfSWhi3rde6KNttLoWVWpP8gYislTJso9TTmpgPHZULxnpQdz0iS+q1XtVq0dWy2nEtQtlS1pH1Si0+XtZMtHFVyJZ9by1sclx7ckBdW/hnTJH1cNuWmbKRsJ5FPKSsflxDG5kJG7Hs7dBRKasdi5l3pLLNNllwzuEh4aAeiIyFlx0jC2uGjTyg5oGXJee+thHpVPScqkM92zYekeNqETcxFluFRTiCKwGcSURPI6JVAK8FcCF/gIieRNRwJCJ6Qfu5d4+pu1U4sl6rSe4ZoX/dD1xVh4u4NPgj67UyhnkVln2pct65eFnDk1zK8mWvp5+gsq41MZWsOmTDszLWRj0xpSxv8L6Nsv98m6Wea1WNdcHG19u21d1YFK2eYZtl/x1Z1w5+XfRXp5cLZauJuV6pKMHL8i97m5CyxywYUk//vpQlFzJ7XENZXu+u/wrfX8MOSsny/edtt22zXEzlWNS1thFf9r9XZP91sgVBmteD88D3l2qzGotaMfu5st0ikO1Jgx4LLUtGmEXXxub9ldgcM6JGK+LYCmz61JBzbk5EbwRwMYASwPnOueuJ6A3t++cC+HkA/5aI5gAOA3ita6zerLtZncbgyHqlQlvf577z/bxdE5GBNTGlU6nEpPfv92zKnpgWQ4vJXhdsSi+KemKO1yusa01MqZePSDrGLRbrWVFgvapU1HNkvVapulrotSpYcueUjYm5KtJtvV5NXR/tdKmXhPM7YTWcIl6WjMJ61mc7lSPrlWLjMoKT9hd1dkYKQY8rAj3jNhLKmld6XKW9RfvLshGpV6S/jrKI7+i81vZnEDclq/DRjyBbRtTt029K1jxM26wJG9G2W6GqbRvx6va2PEQoK2Me4Jhg044A6NI9F4nXzmV//zGAPx5b91jg8HqFE3aEze/Zccg05mIySbbXMEc5Ee18c5fimMVZPGeO5sQUi2S/YKTZ3pG54bBEG1dnIWsnahyilQ7TEZXtoPpUFuHw+jhH6mX5hawNKHsmWcbYXqVyr51eIuLzeq5G+q9hezY79qiEnquRRdKKLmI2I8dVjqOVDtN61d17KVkWK9U2Ysvyi/VKSVivnDkvqkh/yciO24jVRnPPoArngd+XGXKkh9erzgFJvfroEa2ew/2nbFdF3XJeRObrWhU4TuecspmtwtLeLJ5XbtD7VsKzF34xMga+FgMoIzpvLP45v1hZqRpuWPMEi+9lhYtkr5dOa8QcgX+5X3A9M2rZs5EiGdJL6uFD5HUjpRTTy7lQ5noXbrd1jbBc6lWLNsqyb7PUa17XyiY0i/d6hrKsNAaXVdXa/mSbexvRDoTXlfbXyPL6YlBWqKfB4r2s2ssKbaRrs3KalqxwPB3CVFERkWWNayVsw/eJ/4xCOIZeVmoeyN9hm7XtGvNgwP5isua1U3NfjutWYSERwXci5rWRJ4yweG+snnFY9eZiAOOyGhB7NpBVOSUrFl30i09Mr/B0RFXHJ4CDrsv1tJhdXJYvR2QZ9aS9yzZ2UZpnfwj3H1J6df0iZHXj2tXV7J+PY8PQbNm+n6OyhE3Y9he2GV0bh2xEy+o+XzqoWN9wPSPRRWe7wt46WzYXtrTt+vHsZEVseYqNzLsIwe6/MbbrZcg5Zspi7a4T9tfZSFRWSIgqYyy2CkvrCCrhbWvD+3aD4o3BT8xKG3ctBjAWXUjmaE0UrkdVxaOLoYVMGryMNiy9ugk6MDFNWWJi+nb0ssYtRoFebdn3r1owBlhVoBdCtuf7NbX4VE6Oq832YotkWFeWhSw3QdaAXnEb0YuPst1IRCA3s6WN2Asu1GuNrLbcyfQPRpxf7SCyOSqCkrKiZKuORypSlnTwQ7Iqp+1v7LjORXRhZQO2CkvlCDg7Xhesar02TiWIcBGRAVSyKp1b7o0jNCwVataGXgOsiusRlkWkUmlGqyamyFM3zq9hs+HexfCCO1eyfF3NvOW5+46FutABzIcmudDLsYmpmaNPbfR1A1lGmm6IxXuyYKXp+DhKmwllpftrXUQAaVlN2b9rpQu17WpnEZZdp0ejp08fWvYXmwdClsrz67GQ145UBOr3DOpuMJq6RpqOs3hOmDpZYr8QIh3W6yXIljEvus9XNmLIqrgsTba2CkvlCLiBmyw+kttTIbDJ9oZYlVgwEuHh6OiiK8dkGcwxpldX7vVoFOV1+3om8xbRhZSVii4KkpMcQi+/ePsFIxZdxPdY/Ksyl9xNzAGnYrW5FgwylaaT0UUslyynvrI3odeY6EJu0gZ1x0YXws4qsXhPst1YdNHVNcgCcwTcwftGdhFBNSCrlsy7jtpuRxZEX3C9xkbd9UQbsextq7BUjiD03ONZlUqTjGFokejCv9qx01EMLcKqOqOtOz1CvQxZkVMc/cS0Wfx6NZzjjkYX3XM9W5bRBQ/7G4bmI4JQts5Lj2FodnSxPjCuWpZ198QFdeOyai0rZiPty3VnI2lnZ7F4GV3EHIGsm4wuYMuiSF1pM6EsCFlh/1kbqUR1UNYkxo9ruImtZFV14Bzs6DaMCFKRylBEoKIL9qzWKy1rq7C8jqDWrCrG9iyjDORaDG0guqjEohTUHRtdiImpN3TH5H8lewlfD9le/5x9UkrKRqBXIIs9arP6Xm6jV7jgIhJR6TwrkyXaPJxLNiKCyLjGHESg10hZ8uTKkF5jogsZUQV1x0YX3jY6vcIFdygCrZls5eDVIQA5D2qUVLKymxBdWG3uy/a+EoRevR4cY2ykj4xtBxGXlVNDWwK9QAywve5McTNgi2Bo3Q3GKQxtgDnGZVkMbUiWZy9WpBIyMq5XwNBkdDEkq6rBTzIHLL59TZ4u4bKcGNdAryoeXWimOIah2QxX3l62mPBgLlksitJmYnXn9XB0IfdYYrKk/fGTUv5VqWcvS9iuHIuay5L9pecBn6/rlUPBIgKu55CzsyPl0P5i+yKWvYVt1ie4Ygt+d+NY7mUwWdsVESzVPQJ59nps/rfbNI4YrZn/HZA1iaENRReRSW5GF6wcMDQ5MU2GxmXXiv2pUF0svJyhqRM0sdyoZKEGQ5PRhZYVdAs7XSIXkhG55MgpGP/bixiOLuK5ZPn1EKNyybGIYJPRRe0MWUIvGimL25+OLlpZLNJLzQNTlpgHnaxKRxeDdzrkWIjPCGQNHqII60r76+om9re2GksVEcjN4qHUUHfTWDC04WOa8ZMDkgGNCQ+H9i5kmT8n2UrQB5ztCUOXqaG5YlH6vsMQq4rKqh1InOKI7T/0svoNXi6rEno1YyPGS42nvUhWdRj1mLLE4tN9X5WRphuyN6mX/O6rQJaKevoyZ/Hy95Be81qcXBlhf4gs3lbkEosurDSd1CsWXfRtEbbLDgFUYrFW0e2ArJiNSL1s2w3nQYoEptaorcTSRgTrwjjMm4sdu/OswLXPhs/Jm4oW2+sYWRWyPTM8TDAMzox8qBndy5CpDWOiyrP+ldCLb8pKFhpGWHUi/xseM2yeZXoqVtWX/atywe3702lZtRjXGNsz0nSybh3YSDy66L+Yre8fDnkD1bzdKmTVwv5islJ56l6WH1e9KVuJvpf2F7uZ3X3ldqRN1kaq3G+Q3ynFb2aP1auLZsU84Kxe9o9k8bG9s3VpI1UNmVkII1D9vVlxe9NpulquScLBbxWWyhGEYWp4csBkaMKTc1bvlKwhhiZkTWFoklXJ6EKUY21KMTSll9gINBlapBxzLhuJLmIbgXzxTrG7MdEF78dU3XHRhb3HYkcXfZnfSJURgZ0+5LZrRBuVkCGiCzKetfTi/Rn7Li5+OTJtu7wP7DHg+0thZJKILoTztWwkHV3E7xCZspzdP1bZkrHR6EI8vlAslSPgnSzZnf39I2G9OsIwNBOyGJsty/wOn2DxjrMqufCa36kSOS/dyWJMJ5QVLhh6Iyuul3QE1kZqOrrgbA9ClsXQYNb1nxVje/Krh3VkoiME6eBlLpmPs4qYONsz+kDr1b/H0ejBy3rDV+bea2F/3dFKoce6Ig+1ji6kjUSjCyNC6GwErV5iXLt5MSCLRxeIyGIOPhld1PF9uMHoIjEPgPA0nZoHVa0OOqSii638Suql2iOQm01BbtlkaDaLH2aOVj44ZGbx6CK9d8EZcJyhNSzJZmg2e7aiHiDcSB2MVBSjncDQIrJim+xjI4KpDC1V12JoOiqrNySLj3P/2z65MmS7vNzvb4U2w79Danx0YbeV6x1GF3Vw+52fuvLOLjau2u5rVDU7WVYz9iwcpikrFV1U2kbG6zV+L2NwHsjI2FhntgpL5QikJ+dMct3csff19CkOmcvTueTwffkFbEGOm42v1EMzIyZL5n+H9i5EFMTZTSX0kqxKM0XN2ProIiKLtVmxqjKc5F1eutU3eupKRTnxqAcYZmhy8UlFFzxC0Gmm4egi3LOyZPVtCvUI90Wso5a8fwAWXUgbqdORMbc/HUEJ+5PRRRV+dQiPjKW9SQIio690dCH1MGQNRSrcwdc66uY2o+ejWFcip5u6r0Hn80BG7HKchd5bheV1BAariuWD1blui90l8qxpWeHNYX3qJRVdSGOt2//HGtMjfqNyfQMMTR7TjOW2OxlVTFacGam9FSnTkhVhZLK8CIa2qOiCX0rsNxUj0UU1xnalXmJ8WS4+GV0ETkU6O/G6ii5CR8Dtb13J0PaXjIyrcB7wk1LWKR09DxL2x+az3OAdjC7EWPD7DpuPLnJqaCFQTFGy+oAJ9cYi/6GJydASu/0Ni/DPiuiiEuxOyTIYGmOKgV71QHShIgIXZXf9KZg4q+L8hLMZvQ9iyJKTOrKXUbvwvoPKJVvRhTyBJD5L7s9wvWOs0/dR7C7KmKgntg/idalkf3F7S+SS1xN7GdY/Wqnrniwo+5PRhTGuMtrg7LkSsvj/vub2NxhdKLu39lT6z6rYvLH2MvQ8sMex66NoRGDoMXIvY3LUo8adz7jFYrkcAWcFLvS2dR12ND/F4ScK9+Tp3LEu9/nU5jXOzLinl//nVX6/Od+7sBiGkhXRwz9fqcnd68XTKFIv/34gSyz4yrn4snNqLGJ6yT7qNqJZWiyUJcZZjhUbG/n1EPIrhKsa6kTNoKwqIssN2Eyt+6vXC7outxHT3qSs3mbkJa/AZqQsY1yt6Ccmy4nFmt/S5/YlZSnbleNcC5th81lGVtLelP0ZsnUKMmK7hh6xdUa2dYoevN5WYCGnhojoFUR0IxHtI6Ldxvv/koiubX8+R0TPYu/dQkRfJqKriWjvIvSJQXZykMtz+uaiWmhZTjJ1Y7eqod7ngx/IrMUtW6mHZSxt0b/MJ2ggq9Yb5GpCuIRezO6kXs3EBCv3ejgXsni9KIWLkZLl9GKlnLHrf2tHKfovkrPlMrq6zu6frg8iNmTKknql7M0N6DWyTb4sZXBSI2WFNiJs13QqvYPi0UXTBkRlyf6smdNW8yMxHztZEfuTJ5OsBTY1zryPrHmr7Q2iHL6vbKSOyFL9o/XeKmw6IiCiEsA7AJwFYD+AK4noQufcV9hj3wDwT5xz9xLRKwGcB+BH2Psvds7dtVldhpD2tnWUsVnsIH0CRMuSLCXG4oeijTljIPJsuJYV/66XRpd4/ndIL5+X7cu1weJtVmWdrEh9GyTXxZJVqf4Rfa9YfSvLMzWW607d2LVuLY/eb7D0qGzZWq9a6THEHOO2m/4vWNJ20zYi/imL2ruoUbNNAt0n+rBCEF0M2m49IKu3GT2HUmVDFpu3um6dkJWeB1NkHe8RwQsA7HPO3eycWwPwfgBn8wecc59zzt3bFi8H8OQFfO5kpBiGxYRi5+JVXSOlEPss/xhnB0PsTrEqL8tgyanogrMTKcuz+Hh0EdejKydSReo7jhIRgRVeV6Lf+lNFwywqGl0MRAS2HsJGIo7AiiZU/4yOCDSLl22MRRdaJtJ6DLH4wEaGogtrnHlZ2m540EHaalovYwzqiCylR3w+D0UXMjKx7C0WXZh9q1JpoV5bhUU4gjMA3MrK+9vXYvhXAD7Cyg7Ax4joKiI6J1aJiM4hor1EtPfgwYMbUjTZyQYTSp4ckIuNYBSxEyMWi0+xuzSLnxZdWCdZohNAyLJPrth6yXaN02Po5ErI4qPRRUIP2S6boYWMNhldMAYsGfi80s9qvUT0JmSkWHyK1YenrlzQb/LG7uA8SNjM0P/YtSK/UFbIvPXexXjbTUUEw3qkbVfJUnolbNeSxb6FNBUZW7K2CovYLCbjNVNjInoxGkfw4+zlFznnDhDRKQAuIaIbnHOXKYHOnYcmpYRdu3ZtqEeCATNYvPT0tcEG/O8Uq7LYS3/WWciyGCyvW8dZfO30hlsqurD2NqJGK6KL2pI1kj2PYncpvRjrGoouTOat9Orf8zJ6PcDqQuulmDdCGXxcU/1T68+S5+H7sTBYfKSvfTtkHwUsPhkZx/+HQN9H4+cBh5LF8/oJW+zqJli9JDHO9Xtc0lZHzQORBejGeSDKNueBGM+YXtomdP9uFRYREewH8BRWfjKAA/IhInomgD8DcLZz7m7/unPuQPv7TgAXoEk1bQlkqiPGKJryNBYvc9zR6GJAVirHaJUl40jWTeS4LVlTbuzaLJ7LiuuROp/fl+P53rH7M71ecRYvc9xpJt6fwbfY/BC7kzlu675Kp0eCxVu55SksXtnMSPZc1W5QrzSrFxHB0DxI6DVpHhh1U7K8roDN4uUey0ajCznnjmVEsAhHcCWAM4noaUS0CuC1AC7kDxDRUwF8EMAvOue+xl4/gYhO9H8DeDmA6xagk4kh9iLzdfJ2a+ykivTkVv6cRxeKxdfh56bYnWRsknkrWVKPIVlcr0T/yGjDZvERvaQeFjNK5FnT7C5+6qUv9/2j9JARQZI9o4surP2koXxv7NSL1M3UI5FbTkWRqXHqnk1EBMFYDERfFmufZG9CVuzGrqyvIiRDr9ieimpjnY4u1BxKRJF8z6fTY2T/eFlbhU2nhpxzcyJ6I4CLAZQAznfOXU9Eb2jfPxfAfwXwBADvbL/sau6c2wXgVAAXtK/NALzXOffRzeoUg2Ro6nJQhHHM6zq5eFuMTF4EiRqHISt2acl6nrOypk0IZTm7Tf75oMwuvyhZMuddu+B7ZKzFm98fUP0VPFujqsN/QxhjaEqW6p+BiKCuQ72c7I90RKAudjFZ/Lc5Tsom7FMvUrcxLD5lb4rFD9StI3r0fdTKqvSzUlbBbxZXkj0LBx/R2So3/YmgzO9yhHX1xayxNtOMORJ1hyNSnuoLv6jQul0etkn2wVZhIRfKnHMXAbhIvHYu+/tfA/jXRr2bATxrETqMgexk3rGpUy+1Q2AMNvNBUE4uRgNMSOo1mDZhjCN1OUgt1gYz5wuZlCX7Z+jL8uZd/w1NHuGkLYbWsSl9qUuy9Fhd/z6/nJZa6K1oInYJ0TmoUy+pxXvotNMkFl/rS4jRhc2qmyinTihVlq0KPRx3BGZOPCLLsFWtl30wQrcRA18Bg+i4qzll9M/QHaKwjzAwrvHUkNxzWSSW+maxNIbYRATCr4C1FlQVEYx0MnJxkXXl4qRD5jDHnQqf61qy+loZOdcrtadS1Q78SyZSi6pVV29Ahp+lJn3F9UovqEP5YF+0Jtrgd0YlHOnaoI2kF6PY+3zxsPpHMvFUH3F78XVTi6KVXoydqbccKbG1SzsdhAcKVPtZf1ZGm0Y6ThkRWGmnsfsN0pnpuvq/AMbWEfuQBMKymM9bheV1BEZKQYWibBCOzscdEfPl2GYxEH5LqFrojUmemrg8PWFFAKquYMcylcQngNwsTk2IVMhsGbTsn1TaLoh6BvunVv2pGZqPCEKmKL/zaHicQ0ca2MgAu7MWq0r0iS9ax0elIx3a2Pf1rf5RbRrYLI45UmtsCvXto3ablfOXi6Lh4NV8jS7e2vmpNkXsDQjnq33kM+EMxfvcRqy0W/KrVrIjWAwUQ0sMmJwga2qSxyeANVG5cawJp6JOUiQWslTIbBql0CO1kEkmlGJRVT2QGpIMTTo/qVfCUQzpJUPz5OkSEemsJRiaPVEle2ayFFlAvK5KhYQTPdDL2CzWjhTs+dRmse6fIcYr7Y+fehmaQzw1ND39JchB0oGFKVJp5+rIsRoLMSdZH/FxtY6PSptJpWMDWVYbZB/kiGDxUF4/MSFkWYX9KRYwkJ6QsuRCVlVpdheLLoaM0koDyA23GEOzNq1TzEfKSuV7mwt4RVA3Jrt2YXitj54KR6ocRej81kRfp8iAxeJjsmREZdpMggCEeul/q6pz2sJmAhupGYtPp0nm9XB0wU+9pPtHRARqEzeVzkmnC80Fty07F/4v8MpIh4WbtLX6rDo6Fukoe+iOQsreFAEy5txWYakcge/ksiC1OKlNWjmAA6khNYAJVpWKCJqFrNd56Mjnmgw167BNqWN0aoFhzyt2NyYiSOyDJBcy48inzNXzPgqcnxERpO50NO93xSRDs9hy6CjC1JocV7XHkmD1sn9DWaHOun/ChUxGBDIVqRy8shEmy2mnHEQEyf7Rm8VRsmDYqnSkg0eOo/0X/8czjSwo+5xHZFnRhD5tGF8rhuztO/b46HcS/ACuloXJQFI575QjUDlG0zjissK6YiEzmE/KSAO9KqeiC724I3jed4HJ0MTE0wtEPCJQbVCb1mFEII9axhyp7h+xKKq9jND5DTnSWJu8rHlE1lBEoOytSi9kalEUjjRlM0kSY6XDpCNVe1rN32YqTZSD46MJsuCcTlkl7auqkxv7Q/M1Rb7knEza24AjTek13d6yI1gI/ICtlKQZrxzgJEMbMYBy0YzJUnU1u0ueVBmMCFj7LUcRW8gMdidDYv5NIqkjnwCwPk/1j5G2S/SvYmgJdifTJCoXn1owqnSbpCOVY5Fid+rI54C9yehiShQ5tL8l9ZLRx+gI1OifOmF/sj/luCZPcDlMiAjSc8g6vjyWbA050mREYNQdmgdbhYX8P4LvFPhOXZ2VnRGvzpou8IPgy97T+/JaVbV1i2Airs6Kri5R6GQ6We3zpizGKLxsb0hedlVxWXVcFjOsri6T5SeEr+sNMdZGKatmZT9RY21sLuFhlGzZJtl//lisJYsv9F5WVSOU5UK9km1mY+Ed0GrZ24jUq6prUxY/iqpspiw6R8HtL6XXXNpE0H8I9PDpsHF9b9vMGNt1Dkm9vCONjassh+Pa72Vw247Ng5Qsnpr0c24uZKXWAmlvVv+tlAQi7wwxalylLE62uM1wWVuFpXQEO9qJWtUOK0U/gPO6xo520vv0ji/7Y187yiJgSTvKfgBnBaGg3hFwWbWLy/JppB1dygphmdX17NmUxRYyr1cgq13YdoiFzZIF9BtbXrY3xB3tQhbq5aJ6mXoyWZ7dcVlcr1ronWqzd6QpWVVqLEQba+dQFoSyoI4NBrIievF/M+j1qmsmS7TJ9+9Yewv6r13IAttN9Vct+4vJbqPIjYyr0stoI9eL25eS5TBgb+E8qFLjWul5EPRXGyV245oYC77vxvuvLAglUedIR9mbmlN1TyjbfUw+L3i0sGgspSPomGTtULABrBNM0od0nFH0spoTHwURZoUVEQgWPxcsKhIRzMzoIi7LilQkE+JMp0600ZIdRASKoTWOdJQsEbn4s+sxFrVeiehC6KUYmktHF1Wi/6SseRVOcsnQYrL4QsbtraTGEUg9/KSPjmslx7VNc5pseUivhM2IKEdFBIlx5fcCOptJjMWQLBmBpiLj1FioiKB9dlZSJ0tGBLF5YUbZbFzlWMiIXs0pHoHW6GykKGx72yoslSPoOr1lL7VrWLwfwPnICcBzjH4Aq6qNCApSRukZhzkxIwtZo5c1yRFdMABgXS1sCPRWkydipFabtZORC5ldV5b5xqi1eNf1+AVDO5WeoRWkFx+VDks4Uj9ROYtXqY7oghEuirUhSznSynakasFwjIWaxGPjDn6KU5Hl2kGNRZCCSfS9klVrRxo6+HBOrQ+0MZgHrayyKBriJvRK2Z8la87HojJkpRx8rQllWTSEUtpbjggWBNnpagDZQuYnSDeAVcgKzIiADaBk8VVCVjB5HItUCijD0nsEYgJU0mjD6CK5kA3ICtmLZj5BRJCQVUcW7xWespqgl4z0/CI5MxzpeiUclmyjWsjqzkZk7l0tklW4kKkItOrtTe5VKEdahQvsOo8I2n2lkkWgY/VSbWYOfoWlOjYii/9DJt6fG7E3y5FyG0nNKdtGRLlyKAv0xC25X5OWxR28FRHE5qt2wmj18jYSzqkcESwIXThdUnsGXA5g3W0MdpPL5zO9J/fRhB/ANsdd1X100RmWyEFasoD+gtRq2W+wzeRCJvKsMVm87POmnSzRpkmyapaeKPuJusryl3Vt15XlIB3GFp9Z2bD42k3Tq2Jj4XPvZUEoCt1G3tdmG2upF8KIwI3rv2Aha/UKFgxhE11EOsJGeERQ+LTmSL2sNteuOeYZpCJF7n2MLD+nwv4Uc6oaqxeC/gsdPE3Say5spI+6m4igFnoN2UgXEbB9kLIowugsmBe2nkGU7fd6xJ4Un1P85NOisVSOgHvfLiIgHl6zFItkGCJPGDKfOgjV/WZTNCJIhtd9LjlYyGJsZSAk9tGFT5MEOdsJobqfPIBnjlAsfuwegUyHdZOcmCOdolcdsmXv4L3zm5QmUSdVaqaX3ssIWHwiTeL/6Y3fb/CTPoxAbVmW/XWLYskWsg2kc4LUBo2ILgby+jq6QGAjqbRmqFd/05pHkWUk/TpkbzJSqWqHokC/PzjBRuSpvsbe0O8PiugilmJ2Dt0X+DWy0a8jpCMCfido0VgqR9AbQ9mcVKkdypJv8I5LbTSy0gO48ZDYMb3GHPkcSOfUIiLgC4Y6ZjgcXnd7Ku1EXQlYfLy/UukwmfNWOdohvcSC0UUExh7BYJqkkgsGAhbPFwxFFgbTYdARAbOR0ak15gishUw5+BE2wvcbkhu8SVnooouVso+yZ6VNkAbHVabD6j4dNsVGfP/wcW4i+AJlOVEvkdbsTwwW3YnBkCyMtxFPGGcFdXoF6eqtCwiWyxHUrjmaNWsXso55kw7pUqGmLHcRAVFoWIwJOTdOlq/b6KVTVPMJelZclpWycvGw1ZJV1Wj3LqhLh/myP00xpY1Awxa7SR4cwdtYaqg78kmEGc95b0CWd36cxcfShUNl3z99BBqm1iofXUxIdcijqBtO+dVhZDyvxH7NaFn9vlvRsWOgYJHeJHvj6UMXRi5T9OIXEnn/FYSQuI2Q5fhpsLInbgWLCHiabto64vUKj6L245ojgoWgCgwewQ69ZD7+vO+Ysq9blnZEMEVWt5AxFp868jmkF496ursTZQHiTmaMLM/uinAh82XJ0AbbWIenI/qTUjo9MayXYGhVmD+fMq462gDTCxseV3+no89xY1P2xg86mBe3RtqIlXvnp+mmjGslxjWIIok5rAnjyvcuuj2WcmP2Fo5FGxEU0/SyxrWLCCbartV/fE5VIsrewszQEjoCnqOtJHtx2CFyeWPKvi4/Szyv6w3JChayoj9L7J9db78PaKxeKiKo+9NNfnKNktVeygmYo2IvI2W5kIVyvcqpetWa7dXMwdcT9DLHta6ZXnUwFlNkdRFBZ2/1pvSqWf/FbkCPsjeRe5d7BpPGldsbaXvzDmt833tnp/cypujl2KkrPxb9ybxpeulx9XeI0DvSjY6rE/OgvdPhnz3uIwIiegUR3UhE+4hot/E+EdEftu9fS0TPHVt3kegMq+wX/uAsMT9TPyH/G4St7QDWkaOAQ+V5p1d4lnhWNCx+ql7WoshvQE/LjdZd1NPtP5Rss33iUVS5J8DvTgRn6gfavF71Rzx9m/gJrrFttPT0elksfrKsNrqwItDN2JtMFU3Zu5hXdTgP6nDPwEdrU/LnfBO7szeDeY/p+2bhx6b08uUmLRy7Q7Sxsaidv0NUmJfAJo1rxSNj+w7RVmHTjoCISgDvAPBKAM8A8DoieoZ47JUAzmx/zgHwrgl1F4aOtbM9gbKAmT+flNuruJEWXUSwEVnW6Qh+2mSqXuHN2LrLQc4K6qKLKUc+m9y7iAj4wjY2L23c2G1koXekE/qvFHoUbMHYSM52peTpiZDFbzz/W7cnuJjj3KCs8Chqu+CW023EL2RlgY7FB9FaNW1cO9ul0EHNCurY81i9ej3sOx3VyKOo0kb86SYZgW5s70fcIarH7zeo/nPiDlHnSL8zIoIXANjnnLvZObcG4P0AzhbPnA3gPa7B5QBOIqLTRtZdGIJTQt2CWwRsufPUMnecKIdnifujgLM2Fz9Flpw8DXvpT5tM1Ss8l9zfdygs5piQVYtJ7idPjL0M6SlZvI8uZtyRThiLTpbrWWgXEVQbk+UXwRk/WTbymKE5Fj668I60amymmGgjQdTDnIp3ytPsre7P1DMWH40uBvTi0YVOO8Vv2KfHop9TwVc5TByLPppAd5rO2pMaI4uomd/BnDK+hmTquPZ68fsO/Zq1VViEIzgDwK2svL99bcwzY+oCAIjoHCLaS0R7Dx48uCFFn/joHTjzlEc3RtkdR4O5qTh2AP3JFH+WmLMXP1GnGkNV95GL/877jTgCmTKQV9g346D8UUs/UZsvWRsny5dlOqdgdyfGnqm3ZHkW79NOk/WiPi3X6cWiyBXJ5gZk8xu7Xla/l9GkKzayYBSizbMN2IhfyIoCisVPltWei2/mARk3oMffp+HjyskBT0VOXXD5PJj7E1xkpOlG2kgQZbN0WO2m2wh38M2+WxsRVO09oJbUbBUW4QjIeE1qHHtmTN3mRefOc87tcs7tOvnkkyeq2OBXX3om/vYNPxZEBJwJzfkk724XltEyz/d2EUF3dr0/ajlGli9XYiI2tzVZRDBBlmR3Pse9EVlAs+HWpayq8HRT9xUII2WtVSGLrzvmw2+kbkCWSJP4Sb8RWX6x5izeO4KCxskqKHQEszJ0MmVRoCjGyeI20hENIx02RZZfyGacxbvN2UhwGoed4NqYjfSncfhRVO8MNzKuck71ac2Jsso+yvGkr0utebI1Qpbfu/Cnm7rIWEQEW/ldQ4v4xzT7ATyFlZ8M4MDIZ1ZH1F04imDyhGeJPXsZ48l9vrc/u45+ANlEHc0cZ6QcwdF51bOXjbJ4cXZ9I2zPl4NN7DZlVRTTmE8nS5xdbxaMaV9gx/Wy0iRVO+k3lEJo9SoKQlGzUzATxoKn0vqopz+pMjUi6G2ELYpuExGBvw9CjMV7G5kYzfpy4SMCJndWbtTe2I1dFmVvOCLg5GA2CxzByow2YG/9HSJX6HTYpAi07vdn+LcK8G9I3iosIiK4EsCZRPQ0IloF8FoAF4pnLgTwS+3poRcCuN85d/vIugsHz/fKs8Rl2QzgmPO/3FPPu5MDbADJL+bjZPGFrD/R0JwW8HsbU84lAz2L94sin+RTZR31C1vBHGdRYFYUG5bFN+t8dLFRWZy18/sOnj0XNEEvEhEBm+Q+PTFVLymrv5E6Tq+CgJVuPyZMk4TkYXr/8XmwGFnscuQm7I3f2OVRNv8SvvGyGIt3/E5HaDNTbTdIv4ob0FNkqTtEXK/yOI8InHNzInojgIsBlADOd85dT0RvaN8/F8BFAF4FYB+AhwH8cqruZnUaAt/UCc4Ss3ymD+G6875GOTgH7/ztwgKHqypkaCNkFcIo+dl1fyO1oHGyAGC1/a71LowV7KUsx8uSbQ42sQlBmmSSLMHuOha1Qb14Hj+cXDq1NqgXW8gesdKz+M7BjxwLrpePLsqCcHi9zfO3N6DH6sXP+sv/f9Gx+A30X3hDvI8iNySLGrvgEcGGZVkRQcFTLjReFvF5EPYnvwc03kbYAYKigAM7hFJOsBEfgfJUWiFO021xRLCQ/1nsnLsIzWLPXzuX/e0A/MrYulsNfsxLniXuN3jbfynXbfrocln2A1jVDqsrZXAUtcsTjpDlT/I0l194/rdn8WNl+YWMy/Z3J+bcSEfIMmW3RukcuohgI7J47r2PLnq9ZgW1p67G6RWeBgtPvfTpsLH9Bxb1+OO2dRCtTdXLbyJ2aafaf+PqNFlAbyP8KGqfPhyW5RfowEYKduu2HG9velybiKCqHWqa1veWLOsypH/Wf+vnWHvrWTyCcfW2PHZe8JM8nsQ4ENbXBdkabW963ZBrVP6fxQuG73R+Dn7eGkNR+AEcn+OWRiqPWk7JE/pyyF6m5xxbO+v2MrpLYMGCMTIvXfZ68fx5Vff3MDaWSw7z5yWFsnrnNzIXX7DTYEXYxik57+7s+sAN6El6iTRJF0VO2JPyevD+69JhlWOL4ji9ZkKWZ/Hd6aZNjGt/5FPbG7enQVntjd2apUlCG8HocQ1PWbEom8kavT9I/bgGd4h4anesvbV6ue7UVXgUlaedtgpL6wj6G7vNAPqQrRvAETcCgwGse4Ymj1qOktXuTfjyrKTgBvRsiiweEfDTTe2NXRmqD8oqQ1kheykCvWbtP/EeI5vrVdVaVudINyiLj+PkNhf9Xo+MLqTNpGUVAYuXuWWV6hhhb7zNQUTgF7KRsgoKZVln18fIovb7gJQs10c9vI1lGxWNG9eiI2r8KGo/rlNkCRsp201sJquYKitw8M060BHKCbJK4qnc/m4Tvzj40NocX7vjQTx0dI5FY2kdQXhjt/fUiu2lbiryAWxZgj8vXXcnakbKikYEPQsdLattE5fl2XKfLy9G6xW00UcEzo4I/PMx2fx8NdfLyyoDhibYckJPfta68ie4WGSnTtQM9V8R3pSVepWFXVfL4imY+A3ojdgbTzv1R1En2Fsp9RJn1xPjOGwj/f+/kKesFFseGNfG3vr/3hWw+Db1NMVGunEdigiGZFGrV91HkRuxt6JNI/X96deo8L8oXnfbA3j571+GK2+5B4vG0joC56+wFwMDOBTSsQGUdaccRQ0Y2lyzl46hjdarL3c3Y/2lHLGQdSx+RAohiAjq/vx5uEjaehZtmG/p5aMLmc4Zm56QJ7jK9rRJ5+DFRB2S5Rc2zuJDBzVWVhE6AjO6GDuuWpY+iroxe+ucn2MRAXek7f+dSKU2wrHQN6ADshDRM4guAntjlyGZXl10McFGVNTTjWsx2d66PijDOTUlfRhEBGyc+304bX+LxnI6Aj/JOyNmAzjxjLhkaMGAlRPy+tKw+CRvL9KM3m8QeoX5TG+k3PkViOUzvR5cVsBoRQSQcgRyUezO1LP9himOVEYX/MinXBRnYqIO5ZIDtmw4+LF3J/w9laisSY5ARxf8KKp0fqnbrZa9eRbvT9NJRxpzftIRyBNcclFMtdnaBymL/utRdEQwvv/8HKodghNcvawJewRiXpSif6Y4+EL2XzvO67yNxA4+UHYEC0HJ8pkdu5MMbQM5W5mHlvnMqbL8iQavF89ndqFlRNaMyQrzmZ6BgOVGEW2zksW+fZSfqR+Tiy/4QlaFLN5HF6NlEdt09Hq1+yLrVX8j1dftFrKROVueP1fjWkyRVaRtxLPlTcjiCwS3Ef/f42J7F0Wh54Hf/JR7BM0m7QTbNe50jBlXy3b5VzmUhl6p+SptRJ66CvQqi8l7UoHNCHsbu47MRP+peVCGTsWP2yKxnI6gneRHPXsp+osf3kh9eUe74Fplzl74xRAuq6CRsop+IeMXt46yweeXcvwJpZhehdCrvwHdL4q9nkW0zTwiODrv85mxS3Op/uML2VHPhNjm+hRZpl6tNR+d9zdSfV2/kI0ZC7/XI8c5HNexsqBthI2jlJ2UVRiyeBvL0N6KZP8hbGMhT3Bp++M2o23XlsUjgtHjSrrv6yCVG58Xob2JOSXmhdKrdaRjbUTasrS3mF56XEN7k23qbIQ50kVjOR2B977zuruxy/OEU459qfBabnYGedaBdE47Gj5PGKQ2ipAVyGN0Q3pJWTy1IVMyg3sEFOZZpV6x8LqgME3CJ+p6x+pFCiGRstJ7F2EaivePX8iienFZZRj2W3ptZo8gyHEXWnYRycWb+w0qfZPYIB+hV3/vQttfXC/b3mJffZFMDRV2Wq4rWxvPMXsr7M11aTOBrMTc5/PX2wSXVdC4Nlr9V0i9SmlveY9g4QjCWJ97H5EmARB8KR1npV4Wv7HbGdaYkJjYQlbV8N+KGqvbTfrY0UCul6zrF7IRR/B8/3BZs8I4U8/0ioXXs7JQabnO+VV9nj9oc5noL6ZXYchSqY1omoQtPlUYEcT0GnvMMMj/mvYW9p9Mtcl0WEmy/8K0JterFHqn0nRD86DZN7HTYYVhI8HdCTEWnQOL2a6RluvKpbblWH/JlIuU5b/lc4wspQcJWYVsYzin1JdZiv4bY28eeY9gQfCd7tj3jfhLez7k82U/gM4hYI68bvd+a+CdrCKUVYqyN4b+ZAACWSm9SvFZUlagl1G34GUKP4u32ZIljVLKnkXaWLDFu9eLf1aTD+V6xdrIF1jnEDjSThZJvYrIuPaLj29zIce5jPdXWTSnrpxD902SgR4pexM2kbI/7rD6NiOQlZId2IgYiyG9vKOI2lsZjuuM2YjfeA7GNdbGNm05NM6xsVBtNOYB1zuQVSDZX2quC72COdWm3mJzX45raH+hHnwO+vKisZSOoBCdyst8QwlAwCp4ON3VJfvZaJk9743By/ILmVm3JPXZnl0D/ebxWL2kYfHn/QTo9Ur0Txm2SfYn10t+7ow5v6ZuoWSVCVmqf9j8KK2xKuw2+uOO/NlU/yibYZfGpF5WmwrVB6GsMjoWhdIjaTOJ/pN9a+pFcZuZbG9scEphy9LeWJNsmwnGOW5v8nPkHDLtj72v52e8f7TNFGqd8c/LZ1X/DKwz/O9FYSkdgZzkAXsRjJd7fv8FWF1dkgMYGgtnIL7s6xek9Ugtgpw9W88Hk8lgZFKWXFBSk1zVlXqVCVlqkku94norR5BwUI0e/P2QOUnZK0Xz3+O8Hnzx4Ww5pldY7ienHHN/sS1aV3xWIfReFW3S/QNWV/SJ6N9U/1nzQMuKj4V0pLJukehPaW9clrRVZTMpezPmX6p/5PPcoQ3Nbd2f1lhR9zlyHoTzcXidWTSW0hFoVmWzu6bcT9SZ4eVTC6piIGwT0oouUmXJhBTbS7F44TQkq5cL9I4BWbH+sWTpBSPRppI0ixq5kGk90hFBWfJxDRcfFX1ZeonPikUEM4PFS1l8knO7mKlnDZYpIwLFzLuiii4G7S1RTrF42T+WzaTtDWHdMt4mv0nb6aWcSmIeCFnmHGQsfji6EGMVWWfMiCAYx6F1BgvHUjoCyRRlJ8swrIsICEnWrhivZDNclsFYU3pZrD6lVyr9NcRmJKuSeqT0kgx3R/ufmEw9rDap/u2KWCnSegWT2mojhe97XRSzNsZC968ti59UacrGOEtZwv7KiKzSsj/BtNU481RkwKSH5kF6rIJxNftHzAMpK5GKVHqk5oE1Bykha8jeIuOs9BiImOz5nJKFsDyQHVg0siModH4uYCDM889KzaJSKQMzuujY3pCseF2lV1EM5riTskRZ5kYlIxurFzAiIpCMVqXawpyvr++/MCwqy9hTifWRyaylniq9Y+sln1XjbERjctx5RCCjC6VHIu3kv7jQbsOQXmn7U+Oa0mPAZpS9JWx5eB+unwtj9EqNO9dlqh4WSfTHT9WcKsfYblheNLIjUKxBpI4C5m2xjxSr0p/lPX1hsLuQxetN7WhEUECF5rE2NM/HmTiRzmmnUmmKAcs8a5noH8mEhKyGaSKs7xdvlVsfZlWx9IUtK95Gybx5/0pWOVhXjjsJvQI9oGWlbIjJGowulF7Q40qRcbXmQcp2DfLgqzd1EdRNsXjNzBFl8bYeEGXZv/3fsbls6WU5Aq+LWTcVkRY6glg0ltIRDDGy2CaPxWySG4GJPOysHGLxlh42ezEjggT7S0cXwydoUixeRkF8Y9BiaEMnpdIsfoDdpVg8e78sZRu07KBNBqsvU3olIirVv6XQq0j07WB0EY6rkjXBdqWN6D0AO0IyZVm6cBsZjAji7FlFBIN6pCLBImDxKcY/ZDO8PMp2B9aZRWMpHcEgi4p4foudpDcCjYigLRcW80lFE5IdM70KEhHBhMjE6xLoJT9H9U/4WTIn7vuAyJ/IsZlQIxusro5Uoize0msiE09GBKIsbUQxzRiLN2QrWZF2WJFcsq7ZvzFZA/MgsYfl9fDVB09dWdFF0EcI2fLQXk8i8mvaFalLSNtfoo+GHIEVRcb2NgajC2seCMe7aGzKERDR44noEiK6qf39OOOZpxDRPxDRV4noeiL6d+y9NxPRbUR0dfvzqs3oMxapnHdqwBU7STDWplwEnp6/r08KDJ8lVsdHvSwRXehTQYasSB/MCgLJVMdAm2LsTv62+1b0gZIljvd5tjzi1IseK5vBTWXxps1EWfxA3YHoYijXPmy7Ra8XxftWy0pEs8bv1PFRaTOcxZetvQV7LCK6SMoS8ybN4tNzStvIwP2QiD3ZeqXm1DTb5Q57UdhsRLAbwMedc2cC+HhblpgD+A/OuR8E8EIAv0JEz2Dv/75z7tntzzH538Wp3f8hR6BPQyBeN5XjLsK6KroYYEIqumCfo9skmJCZP+/Znn/G1gNRPfz7/Ex9IMvq2wRrt6KLXlY82vLtGHuCazC6UHolokYrvyv1GhiLwN4G9BiMZov+vRSLN/dnYvNAjK/McVs2EYsi+R5GVA8V3YafFfZRisUbNiP7V0QXZVSvAftTssY7gqFx53osCpt1BGcDeHf797sBvFo+4Jy73Tn3xfbvBwF8FcAZm/zcTSF5ZlwykiLM7WlGlj51ED31IutaN3ZH6iVZ/BB7sQzPYu+2HvEox7/vmVAnqxw/AVKMjOtltSnNnuOnYKbLMiKIiI1MlRWw+BF11f5CQpav09cdst2IIxDjq069mPZn72FZeumTY+Psz44u0vNAZQcSdzqSp67k2CS/oWCqXqHtHo8RwanOuduBZsEHcErqYSLaCeA5AL7AXn4jEV1LROdbqSVW9xwi2ktEew8ePLgppSUT12eJ+/flSZXU2XU7uhCyGFvh42ndQk7lM2V04V/r9RrH7npd5ELL2F4i3ysZL2/jYHRhsWfxWSq66GSO0COYPCGDCxmaZnepCz2pOx26Dek7HGZ0Udh1TT1SLJ5FpHw8ez3QyxrIW8uox39+VzfRP2pfaZK9DUS3BWk7K3r9dDRh26rUq9Fl4jxIRW+s/mB0kYhMePsWiUFHQESXEtF1xs/ZUz6IiB4N4AMA/r1z7oH25XcB+D4AzwZwO4DfjdV3zp3nnNvlnNt18sknT/lohRQTUjnKIh0RDJ3/TTGhFIu3GFrsZIacTErWiHPJkqFNYi+8XE6ILkacqY/Ksk5KJWRJdhe2VZ/Qiulh9Qm3gyFZymaSsrS+sbyzXQ5P0HBZo/SI3FkYYvGDkXGRsN0RN3Zjp51M203d6UjYjJqfRmSs9Bh538Zs00jbBUIHtCjMhh5wzr0s9h4R3UFEpznnbiei0wDcGXluBY0T+Gvn3AeZ7DvYM38K4MNTlN8ohk6q+PcLAkiw+BRrGmTxBZPFfldwWg/5WZK9UIJVWXoJvWMs3mRV4tkhvaQ+UVYlc5+GXlyPUK+hk1LpG7tBW2naCRqbAffPDp4wGrI/6ut2+vp/ypIYV+tWc8Gii6Dt6tm0rJS9jZoHMRYvxmLMjd3YnYUhe7PvlkT0ktGPmkNQeji2PptrBdOrWVeA2hmyLPsT47pobFbkhQBe3/79egAfkg8QEQH4cwBfdc79nnjvNFZ8DYDrNqnPKAx/y2fRvld0rzX1+gH05TQjEyyeJrB4Q68YAxkjK8l4xY1dKSuV+xw69aJlpU6qxHPegxGB1T+CdaVlDdUVkZ/cB2ERQfC60kufeonZjKXvkL3pOx0JWRPuTsiz/vJ3Wo/42JSsn6JtSo7NhOhi0EYG5ifZfRuT1S/8UNGFl9E8O+ZOR7iOLBqbdQRvBXAWEd0E4Ky2DCI6nYj8CaAXAfhFAC8xjom+jYi+TETXAngxgF/bpD6jkMpBBhFB0b/mnw1+D7AXfnKAKDzlMciqErL88zEWb54/j7A7+byVB9YnpYSsmCMwogt5UiV5UsqKLsiWZTNvISsa9QyxeCB26qVnkAh+x25AS1n2PYO+DYG+RmQ3HBFEbKSQemn2HDvBZY1vWo8EizfGJBV9WSzesv+u7tAcGrK3wHbZqStK34A29Sp6vRqZ/lkdEeh5EH7WojGYGkrBOXc3gJcarx8A8Kr2788AMDV3zv3iZj5/o0hNJs7IZpLdsd/rlYPMl6dYfCzXnWJVMUYm37dkqWfFd5tMY/EpvSxZ/dl1LSt+Btw+9ZLSKx1dqPPo7Ky/r9P87sd5XrsIiwcr60jFspk1GJN6RHSh7C5yR8Gyv42yeBUhJM7USxY/rMc0vZK2a7yfspGQxY+xmbgs/3u9cuYdIo5gHkRlFQBqMyLV86CRVVATXSwam3IE36kIjbZASXVfLnvW4A3Qe/oVb/jUl8OFvwhOAs0KJksYxYpaJPVkCm4TluysP4WhptRrVoZfY8vb5D+Lv7/CvkzPfwEY1yspS3wR30rZ57j9t12GeiGoy2WtFJYsu/+a/gllqbrss1YKLcu3Kxjn2jV6BHoRKi6r1Gkm367ZgI3wNnldyoi9dRejvCxJFgxZsVNGK1KWYbty0VTj7m2kGNJL2Iwhi+vhde3qCvuKzYNO76LXQ8lSbUBfluPM+sDSC/DM3f8fZgR1gX4dWWHkQc+Dfh77/knZCLflGf/QBSI7AsU49Dl4nQeOs5fQEaTOwWuWoHLxESaU2rQzZRWavfD3C9Jtm6VkJc95p5nQWEbWlf1YGGfXOTMaYt42ixdjE0lPqOiC6e0npnRUG7kBnYpALVkqFy9YvCkrcqdj4RGotOVIH/C22XqkbTeQFTnVFJU14t6FlBVEG0Kvmu0Wl2yvUduw33ss2LPSdm29ZJsWha1xL8c5JKtSjCPG4ocYRxFn8Z2RRhialqWZkf9c/7JkK32ZtKwIo23k9Sy+Yz5cVoKhKcbLmJDSSznKISbE2LJ3gmLRjOsRMjbefz0jC2U5OFuWZMusf6Veg8xbLuYi0uN6SVaqookEi5c2oqJGKwJNzAtiufphFm/Zn+hP2V+F/axk8XIseP+uSDIj2HNjA0yWFYEyPcL+avuVy5J6iChSylKZBur11rZr2x/v50ViKSOCzTAfKUcyn9j7/p2Nsni5aDZ1Q5YQZfFGPnOjslKMDPCb3BFZksUb/98hVpZsWTKjwe+RKcjUp9Gj+d3/s/AhFp/+PiWgz+NazDsmi0jKsiLQeEQlbVnW5b+HWLt835aVYvFxmykoLYvDighiYxNj8VxW6nuyAuYtWby3Ef6s2kdypqzeIcjxHW6TL8u1ZdFYSkeQPLvOyjLfaxlDuNtfwDlpDHphADiTtPWQ+fSy6BkHwevVv8fbVRbWv8nrZdlORciiXlZqIZMMzZQVcaQqt5z4LK2XMckFKx06u16IhddxWWKRlBNT3p6WstBFF+Kf15fSZuIs3kpHJE+qMNmSeFipq9S+kU0WpKyIHiqaDcdCXqQEmC2X8jNDFm850tipoVE2ouwvbCufB0BPFpSsgjCP6KVu2nt7i8iSETvPNGyVO1hKR8CZwopgQitlz6rkomOlI4K6RZgnDNI57WtjZamIgBttt2AUnc68XVpW/NsfPXpZodNbESze+i9tesIJWZE2K7Ys9OLfGyP10mF/2qnwcZX9JfWyv+OebQSy/vVdI/cMeBu5/JWiAPebgSxWh8v0r8tvmbXsT0YXMh3WjXMiEm5khzaTlCUW7xW1v1UY9hb2V2cz0pZYrt2SxZl5N67MdoPPLAt1v0HbX98//hlbr/EnBok9w9scyErsu82Y7W6VJ1hKR5C+xcdZfP8awJgjSyHIumARAff0cmJa6QjFouQJh85B+TqhflYbpB6drCiLD/OZJqsKFh89yWVdzZbbukaOW8kaYPGxurIPCmLMLBKdIcb2ynjUGJPF2Z5k8RxBdBFZvIMINJAVZ/Gdjcg9FuKywsUmFUVyvXrm3eshnxsaV+suhyVriMWbsiK2u6L0MuxPRnqizX4fyXQilbARMfflvlIQgY6MZvMewQIRiwD8e1EW3y3e/abiTEwmqpkjKONOxTMMv2BIWTzHqGT51FCUkRWCxaeZd9PukJFJxmb1DwB14sHL93rwssWWo8yHfR6vK/P7XP/UuPLoohAOtF9wHdMjnovnbFrZiDHJJYvvLSTUUxOPMB2xUsroQtuft4nORsRJFa4Hx6zQd01iEcGKZPHGWAzZW8/iQ/2UrAEW718LZdltNiPQUtjIAIvvHLwZgfKoUY+r1CstC0yWjkAXjaV0BLEbgEB4OkKx+O50CasrnAjAIwIjNSRyjoEeYiGLsap+wfC/7Qlr6SFleUgWJSdCV9c8HZGWFY8IdP9JxiPrKhbP9Ert/QD9uPeOVCzejtdlskW0VgRjIR1nSBasvR7GFcS4t7LU3oVrnw3vqZSFzPMzFu9txOtnRKAc1p0EFRFIpi0cV6iHlCUcgZgHsX2kMdGsZMuSeXtYuXclq5v7oeyhfSS5jhQEvfcT2UeyoguuFbflLfIDy+kI5B5BLH8p2V7HVjxDM5iPYydyrTSTzF/yBSN1Lt5yKpLF83RE0F4VEeiJKVm8E69beng9oyw+cmyuryuisVKfjoju16hIRUYEcb16Rxqe53ZB3TAa07rbNjITZEFHBAWqWqQPPYv3esmTKiwikPs1MRavbFcsZCp/brFlSTAiufcVORajItBQLy9yKAKVLJ7LGrNfMzYC1bLCuW9GoDK6iBEPMa7WMWDuCoIINKeGFodwIYtvZHVlsQgFEYFgK3Vdh3UH2DJfMDiUk0mwFyt/yaEZ2jCL7xzUkCyRWwY4uwteHsfiI7L4M5YsGQFYsvS4hnr5Nje591DvYVmy/3wbNYvnaE7QBC8ptswjFQ6TLUfz+l6WC173GMOWVTQb1WuE7YqFTR6d7eoaUWNMliyPikAjdT1i0Zm8Z7ER2w33fsJxdCyzIL+7aSuw9I7A3MiKsHi5YFgLWTy6CGVY6QhZj79WFCx/KRi2ZBileXKFomVTr+7ZtCyZW+Yy/MSIyZK5d/mNjlyWHwuZiknKGmTx4ZHKGItPnc/v0iMxGykEixdyuB69XpFFcchGiMkSTm6qLMuWtY3YZMGUNcDiYw5q6P9fBLIQ2p0la+w8kCzecspqHgzYbswpW87POd2njV5bg+V0BEOnECKGJVMI1gZcVduMQuUcO1n9xrOUFWPtJMoyHSGPuq0M3IDmeklGa23epW6gchlyklubiqlbpFxWh04vnY6I3RBXsrqFom9To6fXS36PUfykComyshGj/xxk1BioZaQQ/IIh7c26IS5sV8kK29zJksdtrdNgERsxmTffRzLumsicdyxlNfQ9RoDO63M9OEwbibRRHe4QJ7hG2a60kZgsIx1Ws9OHvG7eLF4gRrP4CKsay+KBfgL6V+Oy0syb14HQS6ZzLL3UCZrRLF4/N8TipSOVr3d15akrg1X1YxGyUCsdoWWNY1UWI5MsPm4j4Rh0smL7NUV416SpG570iUVnVoQz2XYj/WdGoFG2HDQxEoEWohyR1ZEF/+yICHRQVp/ik89p2023UY5vPGWamAfq0Enakc6KAlXEEWxVTFAMP/LdDYv5SPZCinnHWHz8TL06SyxYwRCL53VJlCXDkGx5xWDHkkUpxuFZvHG6RJ/OCR7p+09Mcov5yNutsRy3UGs4l2yMhYzO+PG9UC/jws+AU5Eb4rGoUZ7OsfRSUSPboOQYc9AhdjPWjEBH5t5VpGfabl82c/EicolFBEPfY9S0baQsi8VHxoJNhK5NXLaO9OL3LvyTKmpMpIb0PR8xPxeMpYwIOOR/2AIYi/cslO0JNOW27gDzBoz86ciNwFSOVm6sdcYclWUxHzsvLUQNMm8ui+vOZcc3sa07HDFW1cpKMO3RLL7TKy5L1hti3rKNHSudwuJ9ObJBuRkb0eOaZvG8rpItFlx7HvSy+AkarWerVySaHcPi5b5IdBN74O4EryOJh2bx1ummyDFusXgPRXqzIrxrYum1aCx9RPCIWRlly6vtAK1VzbDsmDXdNW+P/z1ipQxlrZRRFrXa1q26ul5WHZcVYWienfh3fXmtismyoouwrvxW1PUq1kZ9SijGhFaVrPDBR6yETNs6HaH1ivcXx45ZnMV7WfOIrB1Gm2MMrZcV9lfX5pnWM6qXtxEn7C3af2WUxXs2LG2ma/NMy5KRnfwW1K48o7aNCduVsgbHIt5fw6fBEMiK6iVlz3T/Sdtdi/bX8FhIWXM59yNt3mHJEvNg0Vh6RyDPjAMsrxoxrCrmCGaJm7GFdyqNrG6RnMcX75gsPzHX6zBS6fUURjoroyxebboWss3a4GOMzEOmvzpZxiSX56Lji3fYf1Z/cfAvNtOyhINSeoWyVq17FxEb8U5kbdJYhDbibWLYwZeDtusXm85mog7ekCVu/coU6fo8ThaGogv5LZ9xp6KXKOs+Cv+MuO1qO43ZyGxEf3HsmBVm9MdlyXGUNsP1VHpF7nAsCptyBET0eCK6hIhuan8/LvLcLe3/Jr6aiPZOrb+VINJH2+TGX4w5PlKUU7lkuWDIxUjKesSsHDQsKWsekfXI1TgL7WTVXlYoW+llMFq5aY0ulSacyqpkPmMmebj4SObN9VKyIs5PTczV9Lham+v9l5MJWQbT5kjl9VcEc5T9p20kvvisiEXRt93r+cjVEYuPsJF5JWyktvV65EoJISqa414RxOORq2H/SdlNW2IEaWBOmbKGHGmsvwwbiTr4kPTJCEHquTriq1YWjc1K3Q3g4865MwF8vC3H8GLn3LOdc7s2WH/L8OjVcKvk0Tuash8oP+nrOszcWWzF15Xlqg4nZC+bTFlFQXiUMJBOVhXmo/3i2MvSbGWHWKC6NkpZQi+LrUgWf0LXxrC/qiosWxGBxAmi//zkrkT0I9szRtajVsOIrt9jCeuNkXXCjuaZuZBVKRvRC4aW1ZT9Ylh2skKbkbJmZaEWEW27UlZrI0aaRLLNR6txDW1kFrFdK9LzsuQej5oHRppEQvbfapeyDftPRrsW8fDj6PEoMV+lc/Sw5n5sXKXt+jZ70VY0+yihl5S1aGzWEZwN4N3t3+8G8OpjXH8hOPER9gAeXqsA9IZ2ZN6UYwuu9dpjH7nS1F1vw0Ava72R5Y3TZCvCkE965GqrRyjr8Hqop2VYcmKe9CivV1u3FHq1E1IuDqsGIzmpbaPHDtFfvuzEkTg56VOyDgs9j87Ds/hW/z1WylqRbfTlYVknikn+mEeE/ef7S+ppLRhDNrIq9NoRGVdAL1S9rNC+pM3IRbEoDBtRssqg7PWUOkgn3chaDcpyTvn+k8cmrTZLWXIcfXkjNuIdq5r7bZtTsk4QUUPMRmTZkrVDzA05FovGZh3Bqc652wGg/X1K5DkH4GNEdBURnbOB+iCic4hoLxHtPXjw4CbVBk45cYc6rvcTZz6xUeoxjwAA/OyzTwcAvOgfPQEA8MwnnwQA+Oe7ngIAeMIJjUF+zxMepeTv+p4my/WER+8AALz6OWcAAF7wtMcH7//cc54MADj5xOa5pz/pRCXrGac9BgDw+Ec3n/cLz2vqPOepjYwXfm8j8+xW35NPbPR/9lNOUrK+94knAOgdwb/4kacCAH74yY9t++BkAMBP//CTAACnPfaRAIAf/d6mD/hicfpjm895TGukP9/q9QNtG17y9GY4X/6MUwEAT237yb/uJ9nqrOj08az9p595WqPvyY2+Z7UyXvKDTd0zT310q2fznJ+Ej33kSrcQeEb40vbznvK45vNf+Y+bOj/5/U1bff/+s+c2+vtJ96TWDni7f+z7mn7w4+VtxL/+rLbP//nzG1lPbMf/aW2/czznqSe1zzTj+nPPbW1kZ2sjO5vxfU1rO6e04/qDrb4c3m6e0MryNupt4Edb/X72Wae3shq9ntvqwLGzHaeTHtXIet0LGhv5odObz/3J1kZ8P55xUmMjfp5wGzn1Mc3neLLl2/j9pzb6+rHx47vzCU0/vawd536xLPCYVoZP07yqtdGdbd++/IcaGS9uZX5/ayM/09qSd+aPP2G1c9SebL34B5o2nX7SI1rZpwVt/aHTm/nh597j2r7xc4C328/HJ57YPOPn5QvbOeTH/Rd2hTbibZ3D29MTTmie8f23cDjnkj8ALgVwnfFzNoD7xLP3RmSc3v4+BcA1AH6yLY+qL3+e97znuc3i4aNz99DR9a58/+E1d3S96sp3Hzrq6rruync9eKT7e31eufseWuvKh9fm7tCRXtYDh9fckfX5hmU9yGQ9eGTdHV7rZd1z6KirKlvWvKrdvQ8dDWQ9cLiXfUjIuveho24ekVVVtbvnUC/ryHpa1n0Prbn1ed9/UtbdTNbR9crdz2Q9dHTdPXyUyXp4za1FZNV1KGttXrn7Hu5lWeMqZfmxqOs6kD1G1lbayJRxTdnIvQ+NlzU0rsfKRuS4HmsbiY3rkI0cXjt2NiLn/kYAYK8z1lRybuM5JyK6EcBPOeduJ6LTAHzSOfcDA3XeDOCQc+5/bqQ+AOzatcvt3bt36LGMjIyMDAYiusqF+7QANp8auhDA69u/Xw/gQ8YHn0BEJ/q/AbwcTUQxqn5GRkZGxtZis47grQDOIqKbAJzVlkFEpxPRRe0zpwL4DBFdA+AKAHuccx9N1c/IyMjIOHbY1FdMOOfuBvBS4/UDAF7V/n0zgGdNqZ+RkZGRceyw9DeLMzIyMpYd2RFkZGRkLDmyI8jIyMhYcmRHkJGRkbHkyI4gIyMjY8mRHUFGRkbGkiM7goyMjIwlR3YEGRkZGUuO7AgyMjIylhzZEWRkZGQsObIjyMjIyFhyZEeQkZGRseTIjiAjIyNjyZEdQUZGRsaSIzuCjIyMjCVHdgQZGRkZS47sCDIyMjKWHNkRZGRkZCw5NuUIiOjxRHQJEd3U/n6c8cwPENHV7OcBIvr37XtvJqLb2Huv2ow+GRkZGRnTsdmIYDeAjzvnzgTw8bYcwDl3o3Pu2c65ZwN4HoCHAVzAHvl9/75z7iJZPyMjIyNja7FZR3A2gHe3f78bwKsHnn8pgK875765yc/NyMjIyFgQNusITnXO3Q4A7e9TBp5/LYD3idfeSETXEtH5VmopIyMjI2NrMegIiOhSIrrO+Dl7ygcR0SqAnwXwt+zldwH4PgDPBnA7gN9N1D+HiPYS0d6DBw9O+eiMjIyMjARmQw84514We4+I7iCi05xztxPRaQDuTIh6JYAvOufuYLK7v4noTwF8OKHHeQDOA4Bdu3a5Ib0zMjIyMsZhs6mhCwG8vv379QA+lHj2dRBpodZ5eLwGwHWb1CcjIyMjYyI26wjeCuAsIroJwFltGUR0OhF1J4CI6FHt+x8U9d9GRF8momsBvBjAr21Sn4yMjIyMiRhMDaXgnLsbzUkg+foBAK9i5YcBPMF47hc38/kZGRkZGZtHvlmckZGRseTIjiAjIyNjyZEdQUZGRsaSIzuCjIyMjCVHdgQZGRkZS47sCDIyMjKWHNkRZGRkZCw5siPIyMjIWHJkR5CRkZGx5MiOICMjI2PJkR1BRkZGxpIjO4KMjIyMJUd2BBkZGRlLjuwIMjIyMpYc2RFkZGRkLDmyI8jIyMhYcmRHkJGRkbHkyI4gIyMjY8mRHUFGRkbGkmNTjoCIfoGIrieimoh2JZ57BRHdSET7iGg3e/3xRHQJEd3U/n7cZvTJyMjIyJiOzUYE1wH4OQCXxR4gohLAOwC8EsAzALyOiJ7Rvr0bwMedc2cC+HhbzsjIyMg4htiUI3DOfdU5d+PAYy8AsM85d7Nzbg3A+wGc3b53NoB3t3+/G8CrN6NPRkZGRsZ0zI7BZ5wB4FZW3g/gR9q/T3XO3Q4AzrnbieiUmBAiOgfAOW3xEBENOaAYngjgrg3W3UpkvaYh6zUNx6tewPGr23ejXt9jvTjoCIjoUgBPMt56k3PuQyM+mIzX3Ih6YQXnzgNw3tR6Shmivc656H7GdiHrNQ1Zr2k4XvUCjl/dlkmvQUfgnHvZJj9jP4CnsPKTARxo/76DiE5ro4HTANy5yc/KyMjIyJiIY3F89EoAZxLR04hoFcBrAVzYvnchgNe3f78ewJgIIyMjIyNjgdjs8dHXENF+AD8KYA8RXdy+fjoRXQQAzrk5gDcCuBjAVwH8jXPu+lbEWwGcRUQ3ATirLW81Np1e2iJkvaYh6zUNx6tewPGr29LoRc5NTtdnZGRkZHwXId8szsjIyFhyZEeQkZGRseT4rnIEsa+yYO8TEf1h+/61RPTcsXW3Ua9biOjLRHQ1Ee09xno9nYg+T0RHiejXp9TdRr22s7/+ZTt+1xLR54joWWPrbqNe29lfZ7c6XU1Ee4nox8fW3Ua9tq2/2HPPJ6KKiH5+at0onHPfFT8ASgBfB/C9AFYBXAPgGeKZVwH4CJq7DS8E8IWxdbdDr/a9WwA8cZv66xQAzwfwFgC/PqXuduh1HPTXjwF4XPv3K48j+zL1Og7669Ho9ymfCeCG46S/TL22u7/Yc58AcBGAn19Uf303RQSpr7LwOBvAe1yDywGcRM39hTF1t0OvrcSgXs65O51zVwJYn1p3m/TaSozR63POuXvb4uVo7syMqrtNem0lxuh1yLUrGYAT0F803e7+ium1lRjb5l8F8AGEd6423V/fTY7A+iqLM0Y+M6budugFNEb4MSK6ipqv2VgUNtPm7e6vFI6X/vpXaKK8jdQ9VnoB29xf1BxBvwHAHgD/15S626AXsI39RURnAHgNgHOn1h3CsfiuoWOFMV9lEXtmIV+DEcFm9AKAFznnDlDzPUyXENENzrnot70uWK+tqLvVsre9v4joxWgWXJ9bPi76y9AL2Ob+cs5dAOACIvpJAL8F4GVj626DXsD29tfbAfwn51xFFDy+6f76booIUl9lMfTMmLrboRecc/73nQAuQBMGHiu9tqLulsre7v4iomcC+DMAZzvn7p5Sdxv02vb+YnpcBuD7iOiJU+seQ722u792AXg/Ed0C4OcBvJOIXj2ybhqL3vTYrh800c3NAJ6GfsPkh8QzP41wU/aKsXW3Sa8TAJzI/v4cgFccK73Ys29GuFm8rf2V0Gtb+wvAUwHsA/BjG23TMdZru/vrH6HflH0ugNvaObDd/RXT67iYj+3zf4l+s3jT/bXpBhxPP2hO33wNzQ76m9rX3gDgDe3fhOaf5HwdwJcB7ErV3W690JwCuKb9uX4b9HoSGrbxAID72r8fcxz0l6nXcdBffwbgXgBXtz97jxP7MvU6DvrrP7WfezWAzwP48eOkv0y9tru/xLN/idYRLKK/8ldMZGRkZCw5vpv2CDIyMjIyNoDsCDIyMjKWHNkRZGRkZCw5siPIyMjIWHJkR5CRkZGx5MiOICMjI2PJkR1BRkZGxpLj/wfcZm1POfI0YwAAAABJRU5ErkJggg==\n",
          "text/plain": "<Figure size 432x288 with 1 Axes>"
         },
         "metadata": {
          "needs_background": "light"
         },
         "output_type": "display_data"
        }
       ]
      }
     },
     "a005598308964150ab858a9c8a166dc3": {
      "model_module": "@jupyter-widgets/base",
      "model_module_version": "1.2.0",
      "model_name": "LayoutModel",
      "state": {}
     },
     "a1b35d94845743ce855c47f4c6f18f6a": {
      "model_module": "@jupyter-widgets/base",
      "model_module_version": "1.2.0",
      "model_name": "LayoutModel",
      "state": {}
     },
     "a28c5ec0038c47ff9e171b3637854391": {
      "model_module": "@jupyter-widgets/controls",
      "model_module_version": "1.5.0",
      "model_name": "VBoxModel",
      "state": {
       "children": [
        "IPY_MODEL_ecb6f1bd9e204aceb149c05304cf789f",
        "IPY_MODEL_6fc88d5bc74941a4bb64e83e8e449843",
        "IPY_MODEL_76c1e70a20434a3abd1dca6b40382c55",
        "IPY_MODEL_a639818edef543cb9ea3934eaf59dec7"
       ],
       "layout": "IPY_MODEL_5ed4e32ff47a426bb658a1169bba1fcd"
      }
     },
     "a30e73d8609a4326810713bd2ad9d77d": {
      "model_module": "@jupyter-widgets/base",
      "model_module_version": "1.2.0",
      "model_name": "LayoutModel",
      "state": {}
     },
     "a3788916b240410bb300d99ec20b976a": {
      "model_module": "@jupyter-widgets/base",
      "model_module_version": "1.2.0",
      "model_name": "LayoutModel",
      "state": {}
     },
     "a45388fdb4e24557aaf15a7f6fbe9690": {
      "model_module": "@jupyter-widgets/controls",
      "model_module_version": "1.5.0",
      "model_name": "SliderStyleModel",
      "state": {
       "description_width": ""
      }
     },
     "a552dd6a455642ec925002ea59d2a7b5": {
      "model_module": "@jupyter-widgets/base",
      "model_module_version": "1.2.0",
      "model_name": "LayoutModel",
      "state": {}
     },
     "a639818edef543cb9ea3934eaf59dec7": {
      "model_module": "@jupyter-widgets/output",
      "model_module_version": "1.0.0",
      "model_name": "OutputModel",
      "state": {
       "layout": "IPY_MODEL_945040ea93f8496f96b4891103520d06",
       "outputs": [
        {
         "name": "stdout",
         "output_type": "stream",
         "text": "amp= 0.5\n"
        }
       ]
      }
     },
     "a81ccc000083495c82fcecf77e86a535": {
      "model_module": "@jupyter-widgets/controls",
      "model_module_version": "1.5.0",
      "model_name": "SliderStyleModel",
      "state": {
       "description_width": ""
      }
     },
     "a8b0402b6586472ebe5b9ca4ff1b0ed1": {
      "model_module": "@jupyter-widgets/controls",
      "model_module_version": "1.5.0",
      "model_name": "SliderStyleModel",
      "state": {
       "description_width": ""
      }
     },
     "a92221d503c64394bb0dbf262c8a02de": {
      "model_module": "@jupyter-widgets/controls",
      "model_module_version": "1.5.0",
      "model_name": "VBoxModel",
      "state": {
       "children": [
        "IPY_MODEL_3d8d56f6d6534a0ea141e0faf89ef7e0",
        "IPY_MODEL_5d03be88e7a4463db91a4fb0f8bd0a18",
        "IPY_MODEL_3422228dc5524f54b6fd0edae59a89ec",
        "IPY_MODEL_673b46b1515d429199f9ccbaf9a17497"
       ],
       "layout": "IPY_MODEL_59c796373877450fabd40a6c26053c99"
      }
     },
     "a929a475ae134cf5a90153846ae82ee0": {
      "model_module": "@jupyter-widgets/base",
      "model_module_version": "1.2.0",
      "model_name": "LayoutModel",
      "state": {}
     },
     "a9a4406218404cf1a9449c8a4c7aeaa7": {
      "model_module": "@jupyter-widgets/controls",
      "model_module_version": "1.5.0",
      "model_name": "TextModel",
      "state": {
       "continuous_update": false,
       "description": "ylabel",
       "layout": "IPY_MODEL_dc787c988d304b108b0074982206882f",
       "style": "IPY_MODEL_9103d5d36fb247d8b0b9c62cfd65c7d5",
       "value": "y"
      }
     },
     "ab65144454824eb3b4f8acb24d367283": {
      "model_module": "@jupyter-widgets/controls",
      "model_module_version": "1.5.0",
      "model_name": "HBoxModel",
      "state": {
       "children": [
        "IPY_MODEL_ee24445661224ffdb6065743c4b35de1",
        "IPY_MODEL_bb6fe1e34f90443e89b479c6316c552c"
       ],
       "layout": "IPY_MODEL_ba445f1ded184537bcdc3f497eea5ace"
      }
     },
     "ab8469fddb1b4e9da93df104f06886ab": {
      "model_module": "@jupyter-widgets/base",
      "model_module_version": "1.2.0",
      "model_name": "LayoutModel",
      "state": {
       "border": "solid 1px black",
       "margin": "0px 10px 10px 0px",
       "padding": "5px 5px 5px 5px"
      }
     },
     "ac212d60f02344f0bb494e18f04545fd": {
      "model_module": "@jupyter-widgets/base",
      "model_module_version": "1.2.0",
      "model_name": "LayoutModel",
      "state": {}
     },
     "ac64e1e5981a471c98ec3e5c17c31e04": {
      "model_module": "@jupyter-widgets/base",
      "model_module_version": "1.2.0",
      "model_name": "LayoutModel",
      "state": {}
     },
     "ad0c61c645544918afd01f08e81688d0": {
      "model_module": "@jupyter-widgets/controls",
      "model_module_version": "1.5.0",
      "model_name": "HBoxModel",
      "state": {
       "children": [
        "IPY_MODEL_d74a7739bab048d4a97e5c1b55af94de",
        "IPY_MODEL_f42ec7a8c9fe447286a5d1cf64596e47"
       ],
       "layout": "IPY_MODEL_beb16afd3cc947e09d48ad8072fc39b2"
      }
     },
     "af9a7e177d2642a8805647f128a6375f": {
      "model_module": "@jupyter-widgets/output",
      "model_module_version": "1.0.0",
      "model_name": "OutputModel",
      "state": {
       "layout": "IPY_MODEL_b0dff8b9b5e140309467c78bf9d4c8dd",
       "outputs": [
        {
         "name": "stdout",
         "output_type": "stream",
         "text": "Values:\namp= 0.5\nomega= 1.0\n"
        }
       ]
      }
     },
     "b08bd16c832d409f99af62968ec2715a": {
      "model_module": "@jupyter-widgets/base",
      "model_module_version": "1.2.0",
      "model_name": "LayoutModel",
      "state": {}
     },
     "b0c9e31b78df49159625f8c6cebd1e5a": {
      "model_module": "@jupyter-widgets/output",
      "model_module_version": "1.0.0",
      "model_name": "OutputModel",
      "state": {
       "layout": "IPY_MODEL_79938f88da434bf287820ddf74e68c04",
       "outputs": [
        {
         "data": {
          "image/png": "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\n",
          "text/plain": "<Figure size 432x288 with 1 Axes>"
         },
         "metadata": {
          "needs_background": "light"
         },
         "output_type": "display_data"
        }
       ]
      }
     },
     "b0dff8b9b5e140309467c78bf9d4c8dd": {
      "model_module": "@jupyter-widgets/base",
      "model_module_version": "1.2.0",
      "model_name": "LayoutModel",
      "state": {}
     },
     "b1b9ef8078e54c6bbadafe33e767ecf7": {
      "model_module": "@jupyter-widgets/controls",
      "model_module_version": "1.5.0",
      "model_name": "FloatSliderModel",
      "state": {
       "description": "Amplitude",
       "layout": "IPY_MODEL_e3f81988caeb478cadf8ebbb8b2f0341",
       "max": 1,
       "step": 0.05,
       "style": "IPY_MODEL_9046b302cd1947aa9ed3468402cdafb1",
       "value": 0.45
      }
     },
     "b23793be819743e5a224d86989dd5920": {
      "model_module": "@jupyter-widgets/base",
      "model_module_version": "1.2.0",
      "model_name": "LayoutModel",
      "state": {}
     },
     "b3b2816d48894175bb39a34aee2097d5": {
      "model_module": "@jupyter-widgets/controls",
      "model_module_version": "1.5.0",
      "model_name": "SliderStyleModel",
      "state": {
       "description_width": ""
      }
     },
     "b3f2d4fca8d14242972c5218dbeb948a": {
      "model_module": "@jupyter-widgets/base",
      "model_module_version": "1.2.0",
      "model_name": "LayoutModel",
      "state": {}
     },
     "b45ac820396848b6bf64a0eaebbd07ca": {
      "model_module": "@jupyter-widgets/controls",
      "model_module_version": "1.5.0",
      "model_name": "FloatSliderModel",
      "state": {
       "description": "Amplitude",
       "layout": "IPY_MODEL_e89475747076491986b65368af09660a",
       "max": 1,
       "step": 0.05,
       "style": "IPY_MODEL_467bf84741dd42cda9ed13588d75a6e2",
       "value": 0.8
      }
     },
     "b4effed0325149c59290d468f0d9d243": {
      "model_module": "@jupyter-widgets/base",
      "model_module_version": "1.2.0",
      "model_name": "LayoutModel",
      "state": {}
     },
     "b50d6e79ae254899b37d50b71f50e1b9": {
      "model_module": "@jupyter-widgets/base",
      "model_module_version": "1.2.0",
      "model_name": "LayoutModel",
      "state": {}
     },
     "b60f1aa39f1749a5a5bdc35f41a5a4a5": {
      "model_module": "@jupyter-widgets/controls",
      "model_module_version": "1.5.0",
      "model_name": "FloatSliderModel",
      "state": {
       "description": "Frequency (angular)",
       "layout": "IPY_MODEL_56118a75e45c41b68a92ce68d9fb815e",
       "max": 6.283185307179586,
       "step": 0.1,
       "style": "IPY_MODEL_3ec0f45cc394434a9bf489a1c19efc8e",
       "value": 3.5
      }
     },
     "b6c4fc10c05449c790ff424b4862ed89": {
      "model_module": "@jupyter-widgets/output",
      "model_module_version": "1.0.0",
      "model_name": "OutputModel",
      "state": {
       "layout": "IPY_MODEL_6769cd466245452190a36d46ef44dae7",
       "outputs": [
        {
         "data": {
          "image/png": "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\n",
          "text/plain": "<Figure size 432x288 with 1 Axes>"
         },
         "metadata": {
          "needs_background": "light"
         },
         "output_type": "display_data"
        }
       ]
      }
     },
     "b7de05a5ad5c41cd92107e07065c54fe": {
      "model_module": "@jupyter-widgets/controls",
      "model_module_version": "1.5.0",
      "model_name": "SliderStyleModel",
      "state": {
       "description_width": ""
      }
     },
     "b8ba7a68796c4f86a2dc6879da6b65b9": {
      "model_module": "@jupyter-widgets/controls",
      "model_module_version": "1.5.0",
      "model_name": "SliderStyleModel",
      "state": {
       "description_width": ""
      }
     },
     "ba061690b80e4f748e96abf474894f1f": {
      "model_module": "@jupyter-widgets/base",
      "model_module_version": "1.2.0",
      "model_name": "LayoutModel",
      "state": {}
     },
     "ba445f1ded184537bcdc3f497eea5ace": {
      "model_module": "@jupyter-widgets/base",
      "model_module_version": "1.2.0",
      "model_name": "LayoutModel",
      "state": {}
     },
     "ba7bac675b05433cb141ac29f09ac19c": {
      "model_module": "@jupyter-widgets/base",
      "model_module_version": "1.2.0",
      "model_name": "LayoutModel",
      "state": {}
     },
     "ba879ca28ea7420891469ed6e9332c42": {
      "model_module": "@jupyter-widgets/controls",
      "model_module_version": "1.5.0",
      "model_name": "ColorPickerModel",
      "state": {
       "description": "pick a color",
       "disabled": false,
       "layout": "IPY_MODEL_8463fa71129e482ebf6556a52fa81b3f",
       "style": "IPY_MODEL_c7da0b6e881946a0be5eb06e6185f8e8",
       "value": "#FF00DD"
      }
     },
     "bb6fe1e34f90443e89b479c6316c552c": {
      "model_module": "@jupyter-widgets/output",
      "model_module_version": "1.0.0",
      "model_name": "OutputModel",
      "state": {
       "layout": "IPY_MODEL_b4effed0325149c59290d468f0d9d243"
      }
     },
     "bcdfcfaad5664bf28523c93c130208ec": {
      "model_module": "@jupyter-widgets/base",
      "model_module_version": "1.2.0",
      "model_name": "LayoutModel",
      "state": {}
     },
     "beb16afd3cc947e09d48ad8072fc39b2": {
      "model_module": "@jupyter-widgets/base",
      "model_module_version": "1.2.0",
      "model_name": "LayoutModel",
      "state": {}
     },
     "bee3ff859fe44ae885549d23e207465b": {
      "model_module": "@jupyter-widgets/controls",
      "model_module_version": "1.5.0",
      "model_name": "VBoxModel",
      "state": {
       "children": [
        "IPY_MODEL_c1c724cf53614eb0a71deba05783c73d",
        "IPY_MODEL_4d0a37ec314748439654be4f21c59b63",
        "IPY_MODEL_88e8d6661281451996700af1a8f37470",
        "IPY_MODEL_6baac6f120cc4392b4e47cc67cd15bfa"
       ],
       "layout": "IPY_MODEL_a552dd6a455642ec925002ea59d2a7b5"
      }
     },
     "c1c724cf53614eb0a71deba05783c73d": {
      "model_module": "@jupyter-widgets/controls",
      "model_module_version": "1.5.0",
      "model_name": "FloatSliderModel",
      "state": {
       "description": "Amplitude",
       "layout": "IPY_MODEL_42f9681a4ed943ff8a70d696ed36bd1e",
       "max": 1,
       "step": 0.05,
       "style": "IPY_MODEL_511b4f3fa3834036b964030c906e406d",
       "value": 0.5
      }
     },
     "c259f82bc0a44859adeb53f2687fa76e": {
      "model_module": "@jupyter-widgets/controls",
      "model_module_version": "1.5.0",
      "model_name": "SliderStyleModel",
      "state": {
       "description_width": ""
      }
     },
     "c3ede5075f9240f0a48e56fb66a91ad7": {
      "model_module": "@jupyter-widgets/base",
      "model_module_version": "1.2.0",
      "model_name": "LayoutModel",
      "state": {}
     },
     "c4756cd3a3b0432fa78ea93ce13ec24b": {
      "model_module": "@jupyter-widgets/controls",
      "model_module_version": "1.5.0",
      "model_name": "FloatSliderModel",
      "state": {
       "continuous_update": false,
       "description": "Phase",
       "layout": "IPY_MODEL_bcdfcfaad5664bf28523c93c130208ec",
       "max": 2,
       "min": 0.1,
       "step": 0.1,
       "style": "IPY_MODEL_57e19706850f46148098b6d34a6e4dc7",
       "value": 1.5
      }
     },
     "c495ee0ae0ec4b3fbea0b49956de56c8": {
      "model_module": "@jupyter-widgets/base",
      "model_module_version": "1.2.0",
      "model_name": "LayoutModel",
      "state": {}
     },
     "c4c130809f81459d8ba2f14f641334f0": {
      "model_module": "@jupyter-widgets/controls",
      "model_module_version": "1.5.0",
      "model_name": "BoxModel",
      "state": {
       "children": [
        "IPY_MODEL_ded435ef20ea4bbeb2608d140789e621"
       ],
       "layout": "IPY_MODEL_18a594b9e685412781ba2fcffb7f0dfd"
      }
     },
     "c5bd411f6b8a48a4a462395632085e24": {
      "model_module": "@jupyter-widgets/base",
      "model_module_version": "1.2.0",
      "model_name": "LayoutModel",
      "state": {}
     },
     "c672eff93ed94f17b9cbf969aa0511a6": {
      "model_module": "@jupyter-widgets/controls",
      "model_module_version": "1.5.0",
      "model_name": "DescriptionStyleModel",
      "state": {
       "description_width": ""
      }
     },
     "c7da0b6e881946a0be5eb06e6185f8e8": {
      "model_module": "@jupyter-widgets/controls",
      "model_module_version": "1.5.0",
      "model_name": "DescriptionStyleModel",
      "state": {
       "description_width": ""
      }
     },
     "c8d2fbc1b86d4b468c56e7dc409a3070": {
      "model_module": "@jupyter-widgets/base",
      "model_module_version": "1.2.0",
      "model_name": "LayoutModel",
      "state": {}
     },
     "c903d833848a42a6984a75d356483211": {
      "model_module": "@jupyter-widgets/controls",
      "model_module_version": "1.5.0",
      "model_name": "FloatSliderModel",
      "state": {
       "continuous_update": false,
       "description": "Phase",
       "layout": "IPY_MODEL_892ba884d8b44385a11cad76e17c3689",
       "max": 2,
       "min": 0.1,
       "step": 0.1,
       "style": "IPY_MODEL_e010a3f5ff8d4dd884f38ec26c313295",
       "value": 0.4
      }
     },
     "c92746c318ab473592ef377672b68880": {
      "model_module": "@jupyter-widgets/base",
      "model_module_version": "1.2.0",
      "model_name": "LayoutModel",
      "state": {}
     },
     "c9f19100384340769cf63e8b497cc653": {
      "model_module": "@jupyter-widgets/controls",
      "model_module_version": "1.5.0",
      "model_name": "FloatSliderModel",
      "state": {
       "description": "Frequency",
       "layout": "IPY_MODEL_eacf9c13771c43cea439b3e3e25e75c0",
       "max": 6.283185307179586,
       "step": 0.1,
       "style": "IPY_MODEL_96f85ed3c7b543979a67b41a85a5b3df",
       "value": 1.5
      }
     },
     "ca7732bc3d164f63938552fe48f77262": {
      "model_module": "@jupyter-widgets/controls",
      "model_module_version": "1.5.0",
      "model_name": "SliderStyleModel",
      "state": {
       "description_width": ""
      }
     },
     "cc13bf61f5c44ff68acf2b8345c3ef60": {
      "model_module": "@jupyter-widgets/controls",
      "model_module_version": "1.5.0",
      "model_name": "SliderStyleModel",
      "state": {
       "description_width": ""
      }
     },
     "ccad5651ed624ef9b3259bbb463d352f": {
      "model_module": "@jupyter-widgets/base",
      "model_module_version": "1.2.0",
      "model_name": "LayoutModel",
      "state": {}
     },
     "ccf9005d3cd346ddbf16ca695814de54": {
      "model_module": "@jupyter-widgets/base",
      "model_module_version": "1.2.0",
      "model_name": "LayoutModel",
      "state": {}
     },
     "cda5818f1cfa4daeb46698888215355f": {
      "model_module": "@jupyter-widgets/base",
      "model_module_version": "1.2.0",
      "model_name": "LayoutModel",
      "state": {}
     },
     "ce17e1a506d84536b51b978bc753a3d7": {
      "model_module": "@jupyter-widgets/controls",
      "model_module_version": "1.5.0",
      "model_name": "ColorPickerModel",
      "state": {
       "description": "pick a color",
       "disabled": false,
       "layout": "IPY_MODEL_3a543aef071640ae855d2e9e709f24ba",
       "style": "IPY_MODEL_1a30bdbc4213423ca7ee347c39b78312",
       "value": "#FF0000"
      }
     },
     "cf475d51d45b4c19833cf36a7a5b766d": {
      "model_module": "@jupyter-widgets/controls",
      "model_module_version": "1.5.0",
      "model_name": "IntSliderModel",
      "state": {
       "description": "w",
       "layout": "IPY_MODEL_0658ac5dce5947a994ae348b018b1804",
       "max": 10,
       "style": "IPY_MODEL_fa68d8b037054e55a3fe2ff8e9c54e42",
       "value": 1
      }
     },
     "cfbb95378b484b9589929604ad8fcd0f": {
      "model_module": "@jupyter-widgets/base",
      "model_module_version": "1.2.0",
      "model_name": "LayoutModel",
      "state": {}
     },
     "cfd6f2591de942f896cc504c326f3830": {
      "model_module": "@jupyter-widgets/base",
      "model_module_version": "1.2.0",
      "model_name": "LayoutModel",
      "state": {}
     },
     "d074177bade44a999e649dc5695adc0d": {
      "model_module": "@jupyter-widgets/controls",
      "model_module_version": "1.5.0",
      "model_name": "SliderStyleModel",
      "state": {
       "description_width": ""
      }
     },
     "d093ce8333844a9b844ed9fcd057af21": {
      "model_module": "@jupyter-widgets/controls",
      "model_module_version": "1.5.0",
      "model_name": "VBoxModel",
      "state": {
       "children": [
        "IPY_MODEL_f340815c73e14868ad7b6f9575942a0d",
        "IPY_MODEL_87a95c6a684549a3a560ffd9d74f614c",
        "IPY_MODEL_c903d833848a42a6984a75d356483211",
        "IPY_MODEL_af9a7e177d2642a8805647f128a6375f"
       ],
       "layout": "IPY_MODEL_9d9ad3cd002d44178d2923a1718c863b"
      }
     },
     "d13886b69a844807ad410cd30fb73479": {
      "model_module": "@jupyter-widgets/controls",
      "model_module_version": "1.5.0",
      "model_name": "VBoxModel",
      "state": {
       "children": [
        "IPY_MODEL_97bc93f1159a43bab04f1e971ac16bd9",
        "IPY_MODEL_716191d516ae4895a3239d4a3a4a13d2",
        "IPY_MODEL_48a4a176dba04982982e8b18bf78da01"
       ],
       "layout": "IPY_MODEL_8a1bb25660f34afdb902ed342984dbd1"
      }
     },
     "d14e19c1601244a1abb14410c76f87e6": {
      "model_module": "@jupyter-widgets/output",
      "model_module_version": "1.0.0",
      "model_name": "OutputModel",
      "state": {
       "layout": "IPY_MODEL_52cf440419b0431babb33be8c7c4aa3f",
       "outputs": [
        {
         "data": {
          "image/png": "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\n",
          "text/plain": "<Figure size 432x288 with 1 Axes>"
         },
         "metadata": {
          "needs_background": "light"
         },
         "output_type": "display_data"
        }
       ]
      }
     },
     "d161091ae6c54fec9b97099eb11014d9": {
      "model_module": "@jupyter-widgets/controls",
      "model_module_version": "1.5.0",
      "model_name": "SliderStyleModel",
      "state": {
       "description_width": ""
      }
     },
     "d180ae88e4f148c4adfcab1bad28f104": {
      "model_module": "@jupyter-widgets/output",
      "model_module_version": "1.0.0",
      "model_name": "OutputModel",
      "state": {
       "layout": "IPY_MODEL_fd63e2521bac4b258d6d03bc30144093"
      }
     },
     "d19687a646a840c192b454f0c61ee4e3": {
      "model_module": "@jupyter-widgets/controls",
      "model_module_version": "1.5.0",
      "model_name": "SliderStyleModel",
      "state": {
       "description_width": ""
      }
     },
     "d1e8f47997d44821a325f5bca89885c4": {
      "model_module": "@jupyter-widgets/base",
      "model_module_version": "1.2.0",
      "model_name": "LayoutModel",
      "state": {}
     },
     "d1f1241c182f488b997846a36de7bdbb": {
      "model_module": "@jupyter-widgets/controls",
      "model_module_version": "1.5.0",
      "model_name": "HBoxModel",
      "state": {
       "children": [
        "IPY_MODEL_167089be9ecf4415b4778fc4e204805a",
        "IPY_MODEL_14039e3bd892485ebd4a3b0107558cc7"
       ],
       "layout": "IPY_MODEL_4bc378b78a6d4cdfa88c56c39f4ce993"
      }
     },
     "d25b7edb99114d958f8e8f014fb8a756": {
      "model_module": "@jupyter-widgets/controls",
      "model_module_version": "1.5.0",
      "model_name": "FloatSliderModel",
      "state": {
       "description": "amp",
       "layout": "IPY_MODEL_11ba708a282148a4856e52df8f9b9450",
       "max": 4,
       "step": 0.1,
       "style": "IPY_MODEL_9d997887530b4d3eba956bf29ad65984",
       "value": 1
      }
     },
     "d64f7fa530694dcda7c0853c1aaa1100": {
      "model_module": "@jupyter-widgets/base",
      "model_module_version": "1.2.0",
      "model_name": "LayoutModel",
      "state": {}
     },
     "d6b12be10fb34ae980c30998337076b1": {
      "model_module": "@jupyter-widgets/controls",
      "model_module_version": "1.5.0",
      "model_name": "VBoxModel",
      "state": {
       "_dom_classes": [
        "widget-interact"
       ],
       "children": [
        "IPY_MODEL_5891e2bf408f4d9cb7f837c54a52219d",
        "IPY_MODEL_f3ff2d342f264860b56277c0d9de7ebd",
        "IPY_MODEL_6a5a9c96cae74da1a63d1d896ab739c1",
        "IPY_MODEL_22666ee0ab8345dc914b782139f03804"
       ],
       "layout": "IPY_MODEL_ee472ed93de34df5b848cd134ff9ce00"
      }
     },
     "d6fb8eb7888740909af985bd4ea8dd14": {
      "model_module": "@jupyter-widgets/controls",
      "model_module_version": "1.5.0",
      "model_name": "FloatSliderModel",
      "state": {
       "description": "Frequency",
       "layout": "IPY_MODEL_d1e8f47997d44821a325f5bca89885c4",
       "max": 6.283185307179586,
       "step": 0.1,
       "style": "IPY_MODEL_4e1812aa95914fb880e922e04672290e",
       "value": 1
      }
     },
     "d704113790d5467d9be96cb7e8518693": {
      "model_module": "@jupyter-widgets/base",
      "model_module_version": "1.2.0",
      "model_name": "LayoutModel",
      "state": {}
     },
     "d74a7739bab048d4a97e5c1b55af94de": {
      "model_module": "@jupyter-widgets/controls",
      "model_module_version": "1.5.0",
      "model_name": "VBoxModel",
      "state": {
       "children": [
        "IPY_MODEL_5731df38d8004268860863446340178d",
        "IPY_MODEL_03e844a823b9433e86d2734e6a9a8baa",
        "IPY_MODEL_48a4a176dba04982982e8b18bf78da01"
       ],
       "layout": "IPY_MODEL_21abf54713c64cf8ad70cc1cff382d6c"
      }
     },
     "d77a58ff92b74ef48d2a4d9db3cc3c9c": {
      "model_module": "@jupyter-widgets/controls",
      "model_module_version": "1.5.0",
      "model_name": "FloatSliderModel",
      "state": {
       "continuous_update": false,
       "description": "Phase",
       "layout": "IPY_MODEL_b23793be819743e5a224d86989dd5920",
       "max": 2,
       "min": 0.1,
       "step": 0.1,
       "style": "IPY_MODEL_65bdd6af50ae4cd4813a95bc12c87b03",
       "value": 1.3
      }
     },
     "d8d52b62cdf644aebe60a9bde3234dec": {
      "model_module": "@jupyter-widgets/base",
      "model_module_version": "1.2.0",
      "model_name": "LayoutModel",
      "state": {}
     },
     "d93800122dac4a24bb8e2391a7a83f3b": {
      "model_module": "@jupyter-widgets/controls",
      "model_module_version": "1.5.0",
      "model_name": "FloatSliderModel",
      "state": {
       "description": "amp",
       "layout": "IPY_MODEL_9f0088edc1224d53949c66cce847e97d",
       "max": 4,
       "step": 0.1,
       "style": "IPY_MODEL_c259f82bc0a44859adeb53f2687fa76e",
       "value": 1
      }
     },
     "dac576d12d104bb4bd7b49ce320ac872": {
      "model_module": "@jupyter-widgets/controls",
      "model_module_version": "1.5.0",
      "model_name": "FloatSliderModel",
      "state": {
       "continuous_update": false,
       "description": "Phase",
       "layout": "IPY_MODEL_44130e8a15ce43b183ba114857813a3f",
       "max": 2,
       "min": 0.1,
       "step": 0.1,
       "style": "IPY_MODEL_3488634c457d43fea1d228279d7f9aa3",
       "value": 0.4
      }
     },
     "dc787c988d304b108b0074982206882f": {
      "model_module": "@jupyter-widgets/base",
      "model_module_version": "1.2.0",
      "model_name": "LayoutModel",
      "state": {}
     },
     "dc9ef09724c4485a8c6a629170f1a899": {
      "model_module": "@jupyter-widgets/base",
      "model_module_version": "1.2.0",
      "model_name": "LayoutModel",
      "state": {}
     },
     "dd56c1b6f1364ba0886434de7c8a8f9d": {
      "model_module": "@jupyter-widgets/output",
      "model_module_version": "1.0.0",
      "model_name": "OutputModel",
      "state": {
       "layout": "IPY_MODEL_323a3e8de1b84ae7b60eefe54575e326",
       "outputs": [
        {
         "data": {
          "image/png": "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\n",
          "text/plain": "<Figure size 432x288 with 1 Axes>"
         },
         "metadata": {
          "needs_background": "light"
         },
         "output_type": "display_data"
        }
       ]
      }
     },
     "dd98ba0290d2480cbcb7aa97cbf35789": {
      "model_module": "@jupyter-widgets/base",
      "model_module_version": "1.2.0",
      "model_name": "LayoutModel",
      "state": {}
     },
     "ded435ef20ea4bbeb2608d140789e621": {
      "model_module": "@jupyter-widgets/output",
      "model_module_version": "1.0.0",
      "model_name": "OutputModel",
      "state": {
       "layout": "IPY_MODEL_74f23ea8e6854f6a998509e3f51e0290"
      }
     },
     "dfda6872d7914a67825205e895a27484": {
      "model_module": "@jupyter-widgets/controls",
      "model_module_version": "1.5.0",
      "model_name": "FloatSliderModel",
      "state": {
       "description": "Amplitude",
       "layout": "IPY_MODEL_86de944d43b34cfe8b157f38e9de6c18",
       "max": 1,
       "step": 0.05,
       "style": "IPY_MODEL_0b270c5ae7c54352bd57e39c98d05b9e",
       "value": 0.7
      }
     },
     "e010a3f5ff8d4dd884f38ec26c313295": {
      "model_module": "@jupyter-widgets/controls",
      "model_module_version": "1.5.0",
      "model_name": "SliderStyleModel",
      "state": {
       "description_width": ""
      }
     },
     "e1c152ff6bdf4e5f834983c9adc83887": {
      "model_module": "@jupyter-widgets/controls",
      "model_module_version": "1.5.0",
      "model_name": "SliderStyleModel",
      "state": {
       "description_width": ""
      }
     },
     "e204258263f9415a8b9faae2c44b254d": {
      "model_module": "@jupyter-widgets/controls",
      "model_module_version": "1.5.0",
      "model_name": "VBoxModel",
      "state": {
       "_dom_classes": [
        "widget-interact"
       ],
       "children": [
        "IPY_MODEL_cf475d51d45b4c19833cf36a7a5b766d",
        "IPY_MODEL_d93800122dac4a24bb8e2391a7a83f3b",
        "IPY_MODEL_2473d6f81c00428fa08a25d7797cc465",
        "IPY_MODEL_d180ae88e4f148c4adfcab1bad28f104"
       ],
       "layout": "IPY_MODEL_ef27001547ff4cb39748604606892a78"
      }
     },
     "e2de03b579414db583344237e741b0f8": {
      "model_module": "@jupyter-widgets/controls",
      "model_module_version": "1.5.0",
      "model_name": "SliderStyleModel",
      "state": {
       "description_width": ""
      }
     },
     "e3c0f875e87345aca1ba33f04ee1f6d5": {
      "model_module": "@jupyter-widgets/controls",
      "model_module_version": "1.5.0",
      "model_name": "SliderStyleModel",
      "state": {
       "description_width": ""
      }
     },
     "e3f81988caeb478cadf8ebbb8b2f0341": {
      "model_module": "@jupyter-widgets/base",
      "model_module_version": "1.2.0",
      "model_name": "LayoutModel",
      "state": {}
     },
     "e473faff5f7745a2b58b9389d3966333": {
      "model_module": "@jupyter-widgets/base",
      "model_module_version": "1.2.0",
      "model_name": "LayoutModel",
      "state": {}
     },
     "e5dbfcf74a6e45378f63b5fdce557961": {
      "model_module": "@jupyter-widgets/base",
      "model_module_version": "1.2.0",
      "model_name": "LayoutModel",
      "state": {}
     },
     "e642c725c23744e1822e7e91c9b85b8a": {
      "model_module": "@jupyter-widgets/base",
      "model_module_version": "1.2.0",
      "model_name": "LayoutModel",
      "state": {}
     },
     "e6e23b56655543fcb91745414e51deb0": {
      "model_module": "@jupyter-widgets/controls",
      "model_module_version": "1.5.0",
      "model_name": "SliderStyleModel",
      "state": {
       "description_width": ""
      }
     },
     "e89475747076491986b65368af09660a": {
      "model_module": "@jupyter-widgets/base",
      "model_module_version": "1.2.0",
      "model_name": "LayoutModel",
      "state": {}
     },
     "e8bcb88773d742a893d65c2e5c7f2e1f": {
      "model_module": "@jupyter-widgets/controls",
      "model_module_version": "1.5.0",
      "model_name": "DescriptionStyleModel",
      "state": {
       "description_width": ""
      }
     },
     "ea8ed017776349a68c0a15623eb61719": {
      "model_module": "@jupyter-widgets/controls",
      "model_module_version": "1.5.0",
      "model_name": "HBoxModel",
      "state": {
       "children": [
        "IPY_MODEL_16928ad4143b4e7f932b05f4a03758af",
        "IPY_MODEL_dd56c1b6f1364ba0886434de7c8a8f9d"
       ],
       "layout": "IPY_MODEL_43b1895c6a464248905d9e43a8ae2548"
      }
     },
     "eacf9c13771c43cea439b3e3e25e75c0": {
      "model_module": "@jupyter-widgets/base",
      "model_module_version": "1.2.0",
      "model_name": "LayoutModel",
      "state": {}
     },
     "ec3d746724544dda8ccb549b4caa9c4b": {
      "model_module": "@jupyter-widgets/base",
      "model_module_version": "1.2.0",
      "model_name": "LayoutModel",
      "state": {}
     },
     "ecb6f1bd9e204aceb149c05304cf789f": {
      "model_module": "@jupyter-widgets/controls",
      "model_module_version": "1.5.0",
      "model_name": "FloatSliderModel",
      "state": {
       "description": "Amplitude",
       "layout": "IPY_MODEL_28fdb5e14cc94133ad824ffec600dd71",
       "max": 1,
       "step": 0.05,
       "style": "IPY_MODEL_b8ba7a68796c4f86a2dc6879da6b65b9",
       "value": 0.5
      }
     },
     "ecfe532d445c43d78d66adb04d571460": {
      "model_module": "@jupyter-widgets/base",
      "model_module_version": "1.2.0",
      "model_name": "LayoutModel",
      "state": {}
     },
     "ee24445661224ffdb6065743c4b35de1": {
      "model_module": "@jupyter-widgets/controls",
      "model_module_version": "1.5.0",
      "model_name": "VBoxModel",
      "state": {
       "children": [
        "IPY_MODEL_f9e3d6c20e084cceb551745b92b1cde7",
        "IPY_MODEL_ce17e1a506d84536b51b978bc753a3d7",
        "IPY_MODEL_41b15d75926f4319ba52f905f5c507cf",
        "IPY_MODEL_a9a4406218404cf1a9449c8a4c7aeaa7"
       ],
       "layout": "IPY_MODEL_f3add4d6562449699b5d3dcd9f687d42"
      }
     },
     "ee472ed93de34df5b848cd134ff9ce00": {
      "model_module": "@jupyter-widgets/base",
      "model_module_version": "1.2.0",
      "model_name": "LayoutModel",
      "state": {}
     },
     "ef27001547ff4cb39748604606892a78": {
      "model_module": "@jupyter-widgets/base",
      "model_module_version": "1.2.0",
      "model_name": "LayoutModel",
      "state": {}
     },
     "f00d3143522e42b9a4e58f609e2c342a": {
      "model_module": "@jupyter-widgets/controls",
      "model_module_version": "1.5.0",
      "model_name": "DescriptionStyleModel",
      "state": {
       "description_width": ""
      }
     },
     "f2d0688036f54ef8af1452c95199636e": {
      "model_module": "@jupyter-widgets/controls",
      "model_module_version": "1.5.0",
      "model_name": "SliderStyleModel",
      "state": {
       "description_width": ""
      }
     },
     "f33b59c66e7b4f28843887cf6a1f13df": {
      "model_module": "@jupyter-widgets/controls",
      "model_module_version": "1.5.0",
      "model_name": "SliderStyleModel",
      "state": {
       "description_width": ""
      }
     },
     "f340815c73e14868ad7b6f9575942a0d": {
      "model_module": "@jupyter-widgets/controls",
      "model_module_version": "1.5.0",
      "model_name": "FloatSliderModel",
      "state": {
       "description": "Amplitude",
       "layout": "IPY_MODEL_91d6d0761ccd4c5ca792fc26ce351e44",
       "max": 1,
       "step": 0.05,
       "style": "IPY_MODEL_21f51ebcc6af44bab563e8be86239b05",
       "value": 0.5
      }
     },
     "f3add4d6562449699b5d3dcd9f687d42": {
      "model_module": "@jupyter-widgets/base",
      "model_module_version": "1.2.0",
      "model_name": "LayoutModel",
      "state": {}
     },
     "f3e60a87174c4d88a1deb236fa8a25b9": {
      "model_module": "@jupyter-widgets/controls",
      "model_module_version": "1.5.0",
      "model_name": "IntSliderModel",
      "state": {
       "description": "w",
       "layout": "IPY_MODEL_a1b35d94845743ce855c47f4c6f18f6a",
       "max": 10,
       "style": "IPY_MODEL_184f9cdab94e400baf92183d6897cab5",
       "value": 1
      }
     },
     "f3ff2d342f264860b56277c0d9de7ebd": {
      "model_module": "@jupyter-widgets/controls",
      "model_module_version": "1.5.0",
      "model_name": "FloatSliderModel",
      "state": {
       "description": "amp",
       "layout": "IPY_MODEL_2ccaf1f491ef4b87a5c3ec3f7b91b819",
       "max": 4,
       "step": 0.1,
       "style": "IPY_MODEL_4c851adf70164233897bb68739bf972b",
       "value": 1.2
      }
     },
     "f42ec7a8c9fe447286a5d1cf64596e47": {
      "model_module": "@jupyter-widgets/output",
      "model_module_version": "1.0.0",
      "model_name": "OutputModel",
      "state": {
       "layout": "IPY_MODEL_fff9ab9f59c04e39bb2581a146a81401",
       "outputs": [
        {
         "data": {
          "image/png": "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\n",
          "text/plain": "<Figure size 432x288 with 1 Axes>"
         },
         "metadata": {
          "needs_background": "light"
         },
         "output_type": "display_data"
        }
       ]
      }
     },
     "f59a1554278e4ca7ab83987d5468662b": {
      "model_module": "@jupyter-widgets/output",
      "model_module_version": "1.0.0",
      "model_name": "OutputModel",
      "state": {
       "layout": "IPY_MODEL_6dc9aba136654a27b5db33860ea8882b",
       "outputs": [
        {
         "name": "stdout",
         "output_type": "stream",
         "text": "amp= 0.5\n"
        }
       ]
      }
     },
     "f5ae220e59314be191558ca2427b00bf": {
      "model_module": "@jupyter-widgets/controls",
      "model_module_version": "1.5.0",
      "model_name": "SliderStyleModel",
      "state": {
       "description_width": ""
      }
     },
     "f69eef9077b146099b6780d19c668b98": {
      "model_module": "@jupyter-widgets/output",
      "model_module_version": "1.0.0",
      "model_name": "OutputModel",
      "state": {
       "layout": "IPY_MODEL_a929a475ae134cf5a90153846ae82ee0",
       "outputs": [
        {
         "data": {
          "text/plain": "<Figure size 432x288 with 0 Axes>"
         },
         "metadata": {},
         "output_type": "display_data"
        }
       ]
      }
     },
     "f7b5d055425c4892a074be99269a1cb6": {
      "model_module": "@jupyter-widgets/base",
      "model_module_version": "1.2.0",
      "model_name": "LayoutModel",
      "state": {}
     },
     "f7e96303de6c48589afbe61bf56f5d5e": {
      "model_module": "@jupyter-widgets/controls",
      "model_module_version": "1.5.0",
      "model_name": "FloatSliderModel",
      "state": {
       "description": "Amplitude",
       "layout": "IPY_MODEL_3db4921c33ac496c9bd645e8f649cb3f",
       "max": 1,
       "step": 0.05,
       "style": "IPY_MODEL_5d23c6ed31ea43d2bf3dba686dd37fd3",
       "value": 0.5
      }
     },
     "f807d986284f40ad8763605b468b60a2": {
      "model_module": "@jupyter-widgets/controls",
      "model_module_version": "1.5.0",
      "model_name": "VBoxModel",
      "state": {
       "children": [
        "IPY_MODEL_6ea59e71f67841ae80e56f69d98b6acc",
        "IPY_MODEL_b60f1aa39f1749a5a5bdc35f41a5a4a5",
        "IPY_MODEL_48a4a176dba04982982e8b18bf78da01",
        "IPY_MODEL_f90382894845428d881d4abb695aa40f"
       ],
       "layout": "IPY_MODEL_7d1aee6479f74580b1b76f2a50b407e9"
      }
     },
     "f813adadcd5649378988dae0b2fcdc3f": {
      "model_module": "@jupyter-widgets/controls",
      "model_module_version": "1.5.0",
      "model_name": "HBoxModel",
      "state": {
       "children": [
        "IPY_MODEL_a92221d503c64394bb0dbf262c8a02de"
       ],
       "layout": "IPY_MODEL_b50d6e79ae254899b37d50b71f50e1b9"
      }
     },
     "f87ef73ae68a4a15bc376844aefc42b6": {
      "model_module": "@jupyter-widgets/controls",
      "model_module_version": "1.5.0",
      "model_name": "FloatSliderModel",
      "state": {
       "continuous_update": false,
       "description": "Phase",
       "layout": "IPY_MODEL_ac212d60f02344f0bb494e18f04545fd",
       "max": 2,
       "min": 0.1,
       "step": 0.1,
       "style": "IPY_MODEL_291d3a3065314464b66f2cdb31c3edbe",
       "value": 0.3
      }
     },
     "f8b58cd769194cd591344e5d517b4289": {
      "model_module": "@jupyter-widgets/base",
      "model_module_version": "1.2.0",
      "model_name": "LayoutModel",
      "state": {}
     },
     "f90382894845428d881d4abb695aa40f": {
      "model_module": "@jupyter-widgets/output",
      "model_module_version": "1.0.0",
      "model_name": "OutputModel",
      "state": {
       "layout": "IPY_MODEL_18ee69c2d7ac4431ad5236c9bfb88f05",
       "outputs": [
        {
         "data": {
          "image/png": "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\n",
          "text/plain": "<Figure size 432x288 with 1 Axes>"
         },
         "metadata": {
          "needs_background": "light"
         },
         "output_type": "display_data"
        }
       ]
      }
     },
     "f9e3d6c20e084cceb551745b92b1cde7": {
      "model_module": "@jupyter-widgets/controls",
      "model_module_version": "1.5.0",
      "model_name": "IntSliderModel",
      "state": {
       "description": "freq",
       "layout": "IPY_MODEL_1cceae38ffe14a3ba9949e345d931a97",
       "max": 10,
       "style": "IPY_MODEL_493da45b807f47908f182617ecf0dbbe",
       "value": 1
      }
     },
     "fa68d8b037054e55a3fe2ff8e9c54e42": {
      "model_module": "@jupyter-widgets/controls",
      "model_module_version": "1.5.0",
      "model_name": "SliderStyleModel",
      "state": {
       "description_width": ""
      }
     },
     "fb2c99959ad64a2787ab724824da4f6d": {
      "model_module": "@jupyter-widgets/base",
      "model_module_version": "1.2.0",
      "model_name": "LayoutModel",
      "state": {}
     },
     "fd63e2521bac4b258d6d03bc30144093": {
      "model_module": "@jupyter-widgets/base",
      "model_module_version": "1.2.0",
      "model_name": "LayoutModel",
      "state": {}
     },
     "fdb90c3b927e4350affba8c1f88c4576": {
      "model_module": "@jupyter-widgets/base",
      "model_module_version": "1.2.0",
      "model_name": "LayoutModel",
      "state": {}
     },
     "fe924595d1cf4f17a9782c06b53f7afb": {
      "model_module": "@jupyter-widgets/base",
      "model_module_version": "1.2.0",
      "model_name": "LayoutModel",
      "state": {}
     },
     "fff9ab9f59c04e39bb2581a146a81401": {
      "model_module": "@jupyter-widgets/base",
      "model_module_version": "1.2.0",
      "model_name": "LayoutModel",
      "state": {}
     }
    },
    "version_major": 2,
    "version_minor": 0
   }
  }
 },
 "nbformat": 4,
 "nbformat_minor": 4
}
