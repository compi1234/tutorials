{
 "cells": [
  {
   "cell_type": "markdown",
   "metadata": {
    "id": "ui8lwIrLCi8z"
   },
   "source": [
    "## Interactive plots in Jupyter notebooks with matplotlib and ipywidgets\n",
    "## matplotlib and the inline backend\n",
    "\n",
    "Author: DVC  \n",
    "Date: 01/12/2020   \n"
   ]
  },
  {
   "cell_type": "markdown",
   "metadata": {
    "id": "TjUHiKsECi84"
   },
   "source": [
    "### Using the inline backend with a GUI ?\n",
    "\n",
    "The matplotlib inline backend is described as a **non-GUI** backend.  So, why do we insist on using it with a (simple) GUI ?    \n",
    "- it is the most commonly used backend \n",
    "- it is probably the only backend that behaves consistently across platforms  \n",
    "- what works with the inline backend is almost guaranteed to work with any other backend\n",
    "- we often need something more fancy than just typing in cells as provided natively in our Jupyter notebooks\n",
    "\n",
    "What are the opportunities and limitations with the inline backend ?  \n",
    "- the basic (ipy)widgets work fine in the inline backend, creating some possibilities\n",
    "- figures are rendered as png's in the output cell and its components are not accessible after being rendered\n",
    "- interactivity can only be simulated by redrawing the full figure after each change\n",
    "    + this is not an issue with slow updates of the controls\n",
    "    + flickering and visual glitches from the clear-and-redraw cycle are inevitable\n",
    "    + computational load quickly increases for complex applications\n",
    "    + be aware that a figure is NOT closed after rendering"
   ]
  },
  {
   "cell_type": "code",
   "execution_count": null,
   "metadata": {
    "id": "T1MJQGZuCi84"
   },
   "outputs": [],
   "source": [
    "%matplotlib inline"
   ]
  },
  {
   "cell_type": "code",
   "execution_count": 1,
   "metadata": {
    "id": "KE_Ktv3HCi85"
   },
   "outputs": [],
   "source": [
    "import ipywidgets as widgets\n",
    "from ipywidgets import interact, interact_manual, interactive, interactive_output\n",
    "import numpy as np\n",
    "import matplotlib.pyplot as plt\n",
    "from scipy import signal\n",
    "import IPython.display as ipd\n",
    "import time"
   ]
  },
  {
   "cell_type": "code",
   "execution_count": 2,
   "metadata": {
    "id": "rbUtkaHHCi85"
   },
   "outputs": [],
   "source": [
    "# any of these could be useful during debugging, but not needed if all is running fine\n",
    "#\n",
    "#%matplotlib --list\n",
    "#ipd.set_matplotlib_close(close=True)\n",
    "#plt.close('all')"
   ]
  },
  {
   "cell_type": "code",
   "execution_count": 3,
   "metadata": {
    "id": "COr3eZMMCi86"
   },
   "outputs": [],
   "source": [
    "plt.close('all')\n",
    "def my_sine(x, w, amp, phi):\n",
    "    return amp*np.sin(w * (x-phi))\n",
    "#\n",
    "def synth(sigtype='sin', freq=200.0, Fs=8000, Tmax=0.5):\n",
    "    t = np.linspace(0.0, Tmax, int(Tmax*Fs), endpoint=False)\n",
    "    if sigtype == 'sin':\n",
    "        x = np.sin(2.0*np.pi*freq*t)\n",
    "    elif sigtype == 'square':\n",
    "        x = signal.square(2.0*np.pi*freq*t)\n",
    "    elif sigtype == 'sawtooth':\n",
    "        x = signal.sawtooth(2.0*np.pi*freq*t)\n",
    "    else:\n",
    "        print( 'signal: Unrecognized signal type')\n",
    "    return x, t"
   ]
  },
  {
   "cell_type": "markdown",
   "metadata": {
    "id": "dCYKwOvMCi85"
   },
   "source": [
    "### 1. Using interact() for the most simple interfaces"
   ]
  },
  {
   "cell_type": "code",
   "execution_count": 4,
   "metadata": {
    "colab": {
     "base_uri": "https://localhost:8080/",
     "height": 382,
     "referenced_widgets": [
      "4ebf9d3752f54fe69ca5070e882db567",
      "f2422aa46f10486298d1a9b1619e4a58",
      "0d7b463ad9374d528bc44cf0c46f92f6",
      "e5376e28729f466b82f4cc4c2407ffa2",
      "d81d2896ac164492ac05a2201b2a9690",
      "974f92259c9945a5bebcf99c08219dfa",
      "5439912b576a4d048c843d7e7ed27c9b",
      "8708427bccd3472a8f701c6d2b589e7c",
      "85ce00d3bcf54224a1a93784c410f623",
      "49bd4cddccf445938b9d56ac55e13f34",
      "76a20fb5ce4e4559a61b83d51a007d28",
      "21af89be3d4b4983be6b6b5d0c801cff",
      "73d277299b7a47aebca607e44b9b1b4d"
     ]
    },
    "id": "UrUt1SU0Ci86",
    "outputId": "404c9ba9-e657-4d58-cf42-fcac8b6c47fd"
   },
   "outputs": [
    {
     "data": {
      "text/plain": [
       "<Figure size 216x216 with 0 Axes>"
      ]
     },
     "metadata": {},
     "output_type": "display_data"
    },
    {
     "data": {
      "application/vnd.jupyter.widget-view+json": {
       "model_id": "9658983a431346aca39f4f4894fed1a1",
       "version_major": 2,
       "version_minor": 0
      },
      "text/plain": [
       "interactive(children=(IntSlider(value=1, description='w', max=10), FloatSlider(value=1.0, description='amp', m…"
      ]
     },
     "metadata": {},
     "output_type": "display_data"
    }
   ],
   "source": [
    "# Methodology:\n",
    "# ============\n",
    "#  1. Create the Figure\n",
    "#  2. Use interact() for the interactive Loop:\n",
    "#       (a) CLEAR AXIS (or figure)\n",
    "#       (b) PLOT AGAIN with each interaction\n",
    "#\n",
    "# REMARK: \n",
    "# (1)  AVOID following loop construction:\n",
    "#      (a) create a figure\n",
    "#      (b) draw to the figure\n",
    "#   At first sight it behaves the same, but a new figure is created each time\n",
    "#   and after some time you will run out of available figures as they are not closed automatically\n",
    "# (2) for the inline backend it doesn't seem to matter if you use plt.cla() or plt.clf()\n",
    "#     the widget backend is more reliable with plt.cla(), plus there is no accumulation of figures\n",
    "\n",
    "x = np.linspace(0, 2 * np.pi, 100)\n",
    "fig = plt.figure(figsize=(3,3))\n",
    "\n",
    "@interact(w=(0, 10, 1), amp=(0, 4, .1), phi=(0, 2*np.pi, 0.01))\n",
    "def update(w = 1.0, amp=1, phi=0):\n",
    "    # clear the figure and start over\n",
    "    # plt.cla()\n",
    "    plt.plot(x, my_sine(x, w, amp, phi), color='C0')\n",
    "    plt.ylim([-4, 4])\n",
    "    plt.grid(True)"
   ]
  },
  {
   "cell_type": "code",
   "execution_count": 5,
   "metadata": {},
   "outputs": [
    {
     "data": {
      "application/vnd.jupyter.widget-view+json": {
       "model_id": "ce27a27f7fdb4ec3b59e6dddcd07cd0a",
       "version_major": 2,
       "version_minor": 0
      },
      "text/plain": [
       "interactive(children=(IntSlider(value=1, description='w', max=10), Output()), _dom_classes=('widget-interact',…"
      ]
     },
     "metadata": {},
     "output_type": "display_data"
    },
    {
     "data": {
      "application/vnd.jupyter.widget-view+json": {
       "model_id": "b394c06e26684261ad4b09d5bd9dd360",
       "version_major": 2,
       "version_minor": 0
      },
      "text/plain": [
       "HBox(children=(Output(layout=Layout(border='solid 1px black', height='500px', margin='0px 10px 10px 0px', padd…"
      ]
     },
     "metadata": {},
     "output_type": "display_data"
    }
   ],
   "source": [
    "plt.close('all')\n",
    "box_layout = widgets.Layout(\n",
    "        border='solid 1px black',\n",
    "        margin='0px 10px 10px 0px',\n",
    "        padding='5px 5px 5px 5px',\n",
    "        width = '50%',\n",
    "        height = '500px',\n",
    "        flex_shrink = 1\n",
    "     )\n",
    "button_layout = widgets.Layout(\n",
    "        border='solid 1px black',\n",
    "        margin='0px 10px 10px 0px',\n",
    "        padding='5px 5px 5px 5px',\n",
    "        width = '50%',\n",
    "        height = '100%',\n",
    "        flex_shrink =2\n",
    "     )\n",
    "x = np.linspace(0, 2 * np.pi, 100)\n",
    "out = widgets.Output(layout=box_layout)\n",
    "comments = widgets.Output(layout=box_layout)\n",
    "#comments.layout = widgets.Layout(width='200px')\n",
    "@interact(w=(0, 10, 1))\n",
    "def update(w = 1.0):\n",
    "    # clear the figure and start over\n",
    "    with out:\n",
    "        plt.clf()\n",
    "        out.clear_output()\n",
    "        fig,ax = plt.subplots(2,1,constrained_layout=True, figsize=(8, 4))\n",
    "        ax[0].plot(x, my_sine(x, w, 1., 0.), color='C0')\n",
    "        ax[0].set_ylim([-4, 4])\n",
    "        ax[0].grid(True)\n",
    "    with comments:\n",
    "        print('Fig Number:',fig.number)\n",
    "widgets.HBox([out,comments])"
   ]
  },
  {
   "cell_type": "code",
   "execution_count": 6,
   "metadata": {},
   "outputs": [],
   "source": [
    "with comments:\n",
    "    ipd.clear_output()"
   ]
  },
  {
   "cell_type": "markdown",
   "metadata": {
    "id": "C6MMpnI2Ci87"
   },
   "source": [
    "### 2. Using interactive_output() for more control over the layout "
   ]
  },
  {
   "cell_type": "code",
   "execution_count": 20,
   "metadata": {
    "colab": {
     "base_uri": "https://localhost:8080/",
     "height": 362,
     "referenced_widgets": [
      "c004928212d24be7ac55b090058c3e0d",
      "5aa354891a59412bae53b3b95dcb3b9f",
      "ca6ac2e1b04442e2b139a8fbb1edc24c",
      "b8724eb556934ccaa672b87177cf78d4",
      "e8a1c3235c604b54b3d423205571ebfd",
      "5b0ae87a40594eaa991a9453f9524b02",
      "9cd78169eada43eb9fdb4d433bb42470",
      "a3832009d32f41deb4950a8ac30620ab",
      "a8475bebbd7541d085b371602f0a9953",
      "20ad5692ea3445b3b326c397604a060a",
      "a5f71ac66e854cb5969fa53aec3d1f81",
      "3f6a2fe7ed574ad48243c5dac483e381",
      "25e9b5ffc41744dfb05518e764bc920e",
      "a857e8615b204bffb336ca7472aa60b1",
      "09dd52e47ab84e24a3de38261a1ab11b",
      "9d08b95618154a038142462f0ff99f78",
      "a98ba4f37d0446e282b514377555fc28",
      "aa97f3ed7fe24b2281b3768f40902e2a"
     ]
    },
    "id": "kTpCZWpDCi87",
    "outputId": "fe14c743-5f9c-4253-b079-7c1e918f5cea"
   },
   "outputs": [
    {
     "data": {
      "application/vnd.jupyter.widget-view+json": {
       "model_id": "7859dbbd207c45e5877ba2057958dd5b",
       "version_major": 2,
       "version_minor": 0
      },
      "text/plain": [
       "HBox(children=(Output(layout=Layout(border='solid 1px black', margin='0px 10px 10px 0px', padding='5px 5px 5px…"
      ]
     },
     "metadata": {},
     "output_type": "display_data"
    }
   ],
   "source": [
    "# create the sliders for interaction\n",
    "signal_types = [ 'sin', 'square', 'sawtooth' ]\n",
    "wg_sigtype = widgets.Dropdown(options=signal_types,value='sin',description=\"Signal\")\n",
    "wg_amp = widgets.FloatSlider(value=1.0,step=0.05,max=1.0,description='Amplitude',continous_update=False)\n",
    "wg_freq = widgets.FloatSlider(value=100.0,step=10.,min=100.0,max=600.,description='Frequency')\n",
    "wg_Tmax = widgets.FloatSlider(value=0.2,step=0.05,min=0.1,max=.4,description='Duration',\n",
    "                             continuous_update=False)\n",
    "box_layout = widgets.Layout(\n",
    "        border='solid 1px black',\n",
    "        margin='0px 10px 10px 0px',\n",
    "        padding='5px 5px 5px 5px'\n",
    "     )\n",
    "UI1 = widgets.VBox( [wg_sigtype, wg_amp, wg_freq, wg_Tmax] ,layout=box_layout)\n",
    "# create two dedicated output widgets, one for audio and one for plotting\n",
    "out_audio = widgets.Output()\n",
    "out_comments = widgets.Output()\n",
    "UI2 = widgets.VBox( [out_audio,out_comments] ,layout=box_layout)\n",
    "\n",
    "first_time = True\n",
    "# fig,ax = plt.subplots(2,1,constrained_layout=True, figsize=(8, 4))\n",
    "    \n",
    "def sin_gui1(amp=1., sigtype='sin', freq=440.0, Fs=8000, Tmax=1.0):\n",
    "\n",
    "    global first_time, ax, fig\n",
    "    if first_time:\n",
    "        fig,ax = plt.subplots(2,1,constrained_layout=True, figsize=(8, 4))\n",
    "        first_time = False\n",
    "    else:\n",
    "        #with out_comments:\n",
    "        # print(\"clearing axis\")\n",
    "        #plt.sca(ax[0])\n",
    "        #plt.cla()\n",
    "        plt.sca(ax[1])\n",
    "        plt.cla()\n",
    "        \n",
    "    y,x = synth(sigtype=sigtype,freq=freq,Tmax=Tmax)\n",
    "    y=amp*y\n",
    "    ax[0].plot(x, y, color='C0')\n",
    "    ax[0].set_ylim([-1, 1])\n",
    "    ax[0].grid(True)\n",
    "    ax[0].set_title('Waveform')\n",
    "    ax[0].set_xlabel('Time(sec)')\n",
    "    ax[0].set_xlim([0,Tmax])\n",
    "    freq,spec = signal.periodogram(y,fs=8000,scaling='spectrum')\n",
    "    # freq,spec = signal.periodogram(1000.*y/np.sqrt(len(y)),fs=8000,scaling='spectrum')\n",
    "    #specdb = 10.*np.log10(freq+1.e-7)\n",
    "    ax[1].plot(freq,np.sqrt(2*spec))\n",
    "    ax[1].set_title('Spectrum')\n",
    "    ax[1].set_xlabel('Frequency')\n",
    "    ax[1].set_ylim([0, 1])\n",
    "    ax[1].grid(True)\n",
    "    ax[1].set_xlim([0,4000])\n",
    "    # here come the things that go to dedicated output widgets\n",
    "    with out_audio:\n",
    "        ipd.clear_output()\n",
    "        try:\n",
    "            with out_comments:\n",
    "                ipd.clear_output()\n",
    "                print(\"Audio playing unnormalized\")\n",
    "            ipd.display(ipd.Audio(data=y,rate=8000,normalize=False, autoplay=True))\n",
    "        except: \n",
    "            try:\n",
    "                with out_comments:\n",
    "                    ipd.clear_output()\n",
    "                    print(\"Warning: playing normalized sound\")\n",
    "                ipd.display(ipd.Audio(data=y,rate=8000, autoplay=True))\n",
    "            except: pass\n",
    "\n",
    "\n",
    "screen = widgets.interactive_output(sin_gui1, {'sigtype':wg_sigtype,'amp': wg_amp, 'freq': wg_freq, 'Tmax': wg_Tmax})\n",
    "screen.layout = box_layout\n",
    "   \n",
    "widgets.HBox([ screen, widgets.VBox([ UI1, UI2 ], layout=box_layout) ])"
   ]
  },
  {
   "cell_type": "code",
   "execution_count": 9,
   "metadata": {},
   "outputs": [
    {
     "data": {
      "application/vnd.jupyter.widget-view+json": {
       "model_id": "e3407d890ff84ce780926bdb3414c671",
       "version_major": 2,
       "version_minor": 0
      },
      "text/plain": [
       "Audio_Demo(children=(Output(layout=Layout(border='solid 1px black', margin='0px 10px 10px 0px', padding='5px 5…"
      ]
     },
     "metadata": {},
     "output_type": "display_data"
    },
    {
     "data": {
      "image/png": "[encoded data removed]",
      "text/plain": [
       "<Figure size 576x288 with 2 Axes>"
      ]
     },
     "metadata": {
      "needs_background": "light"
     },
     "output_type": "display_data"
    }
   ],
   "source": [
    "# create the sliders for interaction\n",
    "plt.close('all')\n",
    "box_layout = widgets.Layout(\n",
    "        border='solid 1px black',\n",
    "        margin='0px 10px 10px 0px',\n",
    "        padding='5px 5px 5px 5px'\n",
    "     )\n",
    "\n",
    "\n",
    "\n",
    "\n",
    "class Audio_Demo(widgets.HBox):\n",
    "\n",
    "    def __init__(self):\n",
    "        super().__init__()\n",
    "        \n",
    "        self.amp = 1.\n",
    "        self.sigtype = 'sin'\n",
    "        self.freq = 440.\n",
    "        self.samplerate = 8000\n",
    "        self.Tmax = .25\n",
    "        self.first_time = True\n",
    "        \n",
    "        signal_types = [ 'sin', 'square', 'sawtooth' ]\n",
    "        self.wg_sigtype = widgets.Dropdown(options=signal_types,value='sin',description=\"Signal\")\n",
    "        self.wg_amp = widgets.FloatSlider(value=1.0,step=0.05,max=1.0,description='Amplitude',continous_update=False)\n",
    "        self.wg_freq = widgets.FloatSlider(value=100.0,step=10.,min=100.0,max=600.,description='Frequency')\n",
    "        self.UI = widgets.VBox( [self.wg_sigtype, self.wg_amp, self.wg_freq] ,layout=box_layout)\n",
    "\n",
    "        self.wg_freq.observe(self.freq_observe,'value')\n",
    "        \n",
    "#        self.screen = widgets.interactive_output(self.sin_gui1, {'sigtype':self.wg_sigtype,'amp': self.wg_amp, 'freq': self.wg_freq})\n",
    "        self.screen = widgets.Output()\n",
    "        self.screen.layout = box_layout\n",
    "        \n",
    "        self.audio = widgets.Output()\n",
    "        self.out_comments = widgets.Output()  \n",
    "\n",
    "        self.sin_gui1()\n",
    "        self.children = [ self.screen, widgets.VBox([self.UI, self.audio, self.out_comments]) ] \n",
    "\n",
    "#    def sin_gui1(self,amp=1., sigtype='sin', freq=440.0):\n",
    "    def sin_gui1(self):\n",
    "\n",
    "        Fs = self.samplerate\n",
    "        Tmax = self.Tmax\n",
    "        amp = self.amp\n",
    "        sigtype = self.sigtype\n",
    "        freq = self.freq\n",
    "\n",
    "        with self.screen:\n",
    "            if self.first_time:\n",
    "                self.fig,self.ax = plt.subplots(2,1,constrained_layout=True, figsize=(8, 4))\n",
    "                self.first_time = False\n",
    "            else:\n",
    "                plt.sca(self.ax[0])\n",
    "                plt.cla()\n",
    "                plt.sca(self.ax[1])\n",
    "                plt.cla()  \n",
    "\n",
    "            ax = self.ax\n",
    "            y,x = synth(sigtype=sigtype,freq=freq,Tmax=Tmax)\n",
    "            y=amp*y\n",
    "            ax[0].plot(x, y, color='C0')\n",
    "            ax[0].set_ylim([-1, 1])\n",
    "            ax[0].grid(True)\n",
    "            ax[0].set_title('Waveform')\n",
    "            ax[0].set_xlabel('Time(sec)')\n",
    "            ax[0].set_xlim([0,Tmax])\n",
    "            freq,spec = signal.periodogram(y,fs=8000,scaling='spectrum')\n",
    "            ax[1].plot(freq,np.sqrt(2*spec))\n",
    "            ax[1].set_title('Spectrum')\n",
    "            ax[1].set_xlabel('Frequency')\n",
    "            ax[1].set_ylim([0, 1])\n",
    "            ax[1].grid(True)\n",
    "            ax[1].set_xlim([0,4000])\n",
    "    # here come the things that go to dedicated output widgets\n",
    "\n",
    "        with self.audio:\n",
    "            ipd.clear_output()\n",
    "            try:\n",
    "                with self.out_comments:\n",
    "                    ipd.clear_output()\n",
    "                    print(\"Audio playing unnormalized\")\n",
    "                ipd.display(ipd.Audio(data=y,rate=8000,normalize=False, autoplay=True))\n",
    "            except: \n",
    "                try:\n",
    "                    with self.out_comments:\n",
    "                        ipd.clear_output()\n",
    "                        print(\"Warning: playing normalized sound\")\n",
    "                    ipd.display(ipd.Audio(data=y,rate=8000, autoplay=True))\n",
    "                except: pass\n",
    "     \n",
    "    def freq_observe(self,change):\n",
    "        self.freq = change.new\n",
    "        # with self.screen:\n",
    "        self.sin_gui1()\n",
    "    \n",
    "    \n",
    "Audio_Demo()    "
   ]
  },
  {
   "cell_type": "code",
   "execution_count": 10,
   "metadata": {
    "id": "XuStw8zwCi88",
    "outputId": "c2fa2400-324d-4604-cf73-61cd707d4920"
   },
   "outputs": [],
   "source": [
    "plt.close('all')"
   ]
  },
  {
   "cell_type": "code",
   "execution_count": 11,
   "metadata": {
    "id": "gKVQBOTaCi88",
    "outputId": "10da4fdb-cf99-4c9c-c7de-3f978c7d7127"
   },
   "outputs": [
    {
     "name": "stderr",
     "output_type": "stream",
     "text": [
      "<ipython-input-11-6ebedab27258>:1: UserWarning: Matplotlib is currently using module://ipykernel.pylab.backend_inline, which is a non-GUI backend, so cannot show the figure.\n",
      "  fig.show()\n"
     ]
    }
   ],
   "source": [
    "fig.show()"
   ]
  },
  {
   "cell_type": "code",
   "execution_count": 12,
   "metadata": {
    "colab": {
     "referenced_widgets": [
      "a196c20028c947cbbba12d6415063735"
     ]
    },
    "id": "czwmIgvoCi88",
    "outputId": "648aa35a-ab21-49f8-cf63-ab53af0004ce"
   },
   "outputs": [
    {
     "data": {
      "image/png": "[encoded data removed]",
      "text/plain": [
       "<Figure size 216x216 with 1 Axes>"
      ]
     },
     "metadata": {
      "needs_background": "light"
     },
     "output_type": "display_data"
    },
    {
     "data": {
      "application/vnd.jupyter.widget-view+json": {
       "model_id": "07425692709b475689056fb650467249",
       "version_major": 2,
       "version_minor": 0
      },
      "text/plain": [
       "interactive(children=(IntSlider(value=1, description='w', max=10), FloatSlider(value=1.0, description='amp', m…"
      ]
     },
     "metadata": {},
     "output_type": "display_data"
    }
   ],
   "source": [
    "# Method 2: CLEAR selected axes and redraw with each operation (use OO API)\n",
    "# BACKENDS: NOT for INLINE !\n",
    "def my_sine(x, w, amp, phi):\n",
    "    return amp*np.sin(w * (x-phi))\n",
    "#\n",
    "x = np.linspace(0, 2 * np.pi, 100)\n",
    "fig, ax = plt.subplots(figsize=(3, 3))\n",
    "\n",
    "@interact(w=(0, 10, 1), amp=(0, 4, .1), phi=(0, 2*np.pi, 0.01))\n",
    "def update(w = 1.0, amp=1, phi=0):\n",
    "    plt.cla()\n",
    "    ax.plot(x, my_sine(x, w, amp, phi), color='C0')\n",
    "    ax.set_ylim([-4, 4])\n",
    "    ax.grid(True)"
   ]
  },
  {
   "cell_type": "code",
   "execution_count": 13,
   "metadata": {
    "colab": {
     "referenced_widgets": [
      "109f53eebf894e38aced29f69e7b6be0"
     ]
    },
    "id": "mjt9p1pECi88",
    "outputId": "65a005df-923e-4b4a-eaae-e258c546086a"
   },
   "outputs": [
    {
     "data": {
      "image/png": "[encoded data removed]",
      "text/plain": [
       "<Figure size 288x288 with 1 Axes>"
      ]
     },
     "metadata": {
      "needs_background": "light"
     },
     "output_type": "display_data"
    },
    {
     "data": {
      "application/vnd.jupyter.widget-view+json": {
       "model_id": "8459e9a26087447ba7d9fe311c3a8472",
       "version_major": 2,
       "version_minor": 0
      },
      "text/plain": [
       "interactive(children=(IntSlider(value=1, description='w', max=10), FloatSlider(value=1.0, description='amp', m…"
      ]
     },
     "metadata": {},
     "output_type": "display_data"
    }
   ],
   "source": [
    "# Method 3: Only update line data inside existing axis\n",
    "# BACKENDS: NOT for INLINE !\n",
    "# \n",
    "\n",
    "def my_sine(x, w, amp, phi):\n",
    "    return amp*np.sin(w * (x-phi))\n",
    "#\n",
    "x = np.linspace(0, 2 * np.pi, 100)\n",
    "fig, ax = plt.subplots(figsize=(4, 4))\n",
    "ax.set_ylim([-4, 4])\n",
    "ax.grid(True)\n",
    "\n",
    "@interact(w=(0, 10, 1), amp=(0, 4, .1), phi=(0, 2*np.pi, 0.01))\n",
    "def update(w = 1.0, amp=1, phi=0):\n",
    "    \"\"\"Remove old lines from plot and plot new one\"\"\"\n",
    "    [l.remove() for l in ax.lines]\n",
    "    ax.plot(x, my_sine(x, w, amp, phi), color='C0')"
   ]
  },
  {
   "cell_type": "markdown",
   "metadata": {
    "id": "H5l4JBvQCi89"
   },
   "source": [
    "## Updating the plot line data"
   ]
  },
  {
   "cell_type": "code",
   "execution_count": 14,
   "metadata": {
    "colab": {
     "referenced_widgets": [
      "42278a5ec6054f2f9fd6b527a8d8a6e4"
     ]
    },
    "id": "jNMrkDfJCi89",
    "outputId": "297fa754-3586-45ff-8a0f-396e87d2cb75"
   },
   "outputs": [
    {
     "data": {
      "image/png": "[encoded data removed]",
      "text/plain": [
       "<Figure size 288x288 with 1 Axes>"
      ]
     },
     "metadata": {
      "needs_background": "light"
     },
     "output_type": "display_data"
    },
    {
     "data": {
      "application/vnd.jupyter.widget-view+json": {
       "model_id": "1a6735fcd5944aeeaf826257b77e4480",
       "version_major": 2,
       "version_minor": 0
      },
      "text/plain": [
       "interactive(children=(IntSlider(value=1, description='w', max=10), FloatSlider(value=1.0, description='amp', m…"
      ]
     },
     "metadata": {},
     "output_type": "display_data"
    }
   ],
   "source": [
    "# Method 3b: maintain the figure and just refresh the changed data\n",
    "#    1) create a figure  \n",
    "#    2)  just update the y_data if you may assume that the x_data hasn't changed; \n",
    "#          between calls \n",
    "#\n",
    "# BACKENDS: all, except 'inline'  \n",
    "# \n",
    "\n",
    "def my_sine(x, w, amp, phi):\n",
    "    \"\"\"\n",
    "    Return a sine for x with angular frequeny w and amplitude amp.\n",
    "    \"\"\"\n",
    "    return amp*np.sin(w * (x-phi))\n",
    "x = np.linspace(0, 2 * np.pi, 100)\n",
    "\n",
    "#\n",
    "fig, ax = plt.subplots(figsize=(4, 4))\n",
    "ax.set_ylim([-4, 4])\n",
    "ax.grid(True)\n",
    "line, = ax.plot(x, my_sine(x, 0,0,0), color='C0')\n",
    "\n",
    "@interact(w=(0, 10, 1), amp=(0, 4, .1), phi=(0, 2*np.pi+0.01, 0.01))\n",
    "def update(w = 1.0, amp=1, phi=0):\n",
    "    \"\"\"change the ydata values \"\"\"\n",
    "    line.set_ydata( my_sine(x, w, amp, phi) )\n",
    "    fig.canvas.draw()\n",
    "    # fig.canvas.flush_events()"
   ]
  },
  {
   "cell_type": "code",
   "execution_count": 15,
   "metadata": {
    "colab": {
     "referenced_widgets": [
      "6bcf960c51d04c048e1a7e7c2f1a33c0",
      "1d78bd82210648d18c8f04348b9d521d"
     ]
    },
    "id": "sjANg_FoCi89",
    "outputId": "5aabff3a-e85f-431c-fdfc-577b12e1468c"
   },
   "outputs": [
    {
     "data": {
      "text/plain": [
       "<Figure size 360x288 with 0 Axes>"
      ]
     },
     "metadata": {},
     "output_type": "display_data"
    },
    {
     "data": {
      "application/vnd.jupyter.widget-view+json": {
       "model_id": "ad9082cee5ec4da2bd52b9458f5844d9",
       "version_major": 2,
       "version_minor": 0
      },
      "text/plain": [
       "interactive(children=(Dropdown(description='Signal', options=('sin', 'square', 'sawtooth'), value='sin'), Floa…"
      ]
     },
     "metadata": {},
     "output_type": "display_data"
    },
    {
     "data": {
      "application/vnd.jupyter.widget-view+json": {
       "model_id": "2a60d958b7a64dcd93df3fdc2f02801e",
       "version_major": 2,
       "version_minor": 0
      },
      "text/plain": [
       "Box(children=(Output(), Output()))"
      ]
     },
     "metadata": {},
     "output_type": "display_data"
    }
   ],
   "source": [
    "# a simple audio signal generator\n",
    "# with control for type amplitude, phase ... \n",
    "#\n",
    "# the audio is immediately generated and rendered\n",
    "#   continuous update are used for frequency and amplitude\n",
    "#   continuous_update=False is used for the duration widget\n",
    "# !! setting continuous_update is the only 'easy' control over frequency of update with interact()\n",
    "# !! more complex asynchronous implementations are suggested on the ipywidgets doc pages\n",
    "# !! under 'debouncing' and 'throttling' .. but this complicates the code significantly\n",
    "# https://ipywidgets.readthedocs.io/en/latest/examples/Widget%20Events.html?highlight=continuous_update#Continuous-updates\n",
    "# !! these solutions are not applicable to interact(), but require .observe() instead, see later\n",
    "#\n",
    "# as the x-axis needs to be modified with the duration\n",
    "#  it is more appropriate to do full redraws at every iteration\n",
    "#\n",
    "# BACKENDS: all\n",
    "#\n",
    "samplerate=8000\n",
    "def generate(type='sin', freq=200.0, Fs=samplerate, Tmax=0.5):\n",
    "    t = np.linspace(0.0, Tmax, int(Tmax*Fs), endpoint=False)\n",
    "    if type == 'sin':\n",
    "        x = np.sin(2.0*np.pi*freq*t)\n",
    "    elif type == 'square':\n",
    "        x = signal.square(2.0*np.pi*freq*t)\n",
    "    elif type == 'sawtooth':\n",
    "        x = signal.sawtooth(2.0*np.pi*freq*t)\n",
    "    else:\n",
    "        print( 'signal: Unrecognized signal type')\n",
    "    return x, t\n",
    "\n",
    "signal_types = [ 'sin', 'square', 'sawtooth' ]\n",
    "# alternative to Dropdown is to use RadioButtons\n",
    "wg_signal = widgets.Dropdown(options=signal_types,\n",
    "                             value='sin',description=\"Signal\")\n",
    "wg_amp = widgets.FloatSlider(value=0.5,step=0.05,max=1.0,description='Amplitude')\n",
    "wg_freq = widgets.FloatSlider(value=200.0,step=5.0,min=50.0,max=500.0,description='Frequency')\n",
    "wg_Tmax = widgets.FloatSlider(value=0.4,step=0.1,min=0.1,max=2.0,description='Duration',\n",
    "                             continuous_update=False)\n",
    "#wg_check = widgets.Checkbox(description='Display Play Button',value=True)\n",
    "wg_audio = widgets.Output()\n",
    "wg_plot = widgets.Output()\n",
    "with wg_plot:\n",
    "    fig = plt.figure(figsize=(5,4))\n",
    "first_time = True\n",
    "\n",
    "# in this example we use interact and full replotting\n",
    "# this seems to work well with ALL backends\n",
    "\n",
    "@interact(t=wg_signal,f=wg_freq,A=wg_amp,T=wg_Tmax)\n",
    "def plot_fn(t,f,A,T):\n",
    "    global first_time\n",
    "    x1, t1 = generate(freq=f,type=t,Tmax=T)\n",
    "    y1=A*x1\n",
    "    with wg_plot:\n",
    "        plt.cla()\n",
    "        plt.plot(t1,y1)\n",
    "        plt.ylim(-1,1)\n",
    "    with wg_audio:\n",
    "        ipd.clear_output()\n",
    "        ipd.display(ipd.Audio(data=y1,rate=samplerate,normalize=False, autoplay=True))\n",
    "    return\n",
    "\n",
    "#widgets.HBox( [widgets.VBox([wg_signal,wg_freq,wg_amp,wg_Tmax]),widgets.VBox([wg_plot,wg_audio])])\n",
    "widgets.Box( [wg_plot,wg_audio] )"
   ]
  },
  {
   "cell_type": "markdown",
   "metadata": {
    "id": "48IwZGKzCi8-"
   },
   "source": [
    "# 2. Using observe() and callbacks for more control over the interaction\n",
    "## The Output Widget, Widget Boxes, Observers, Classes, ... and fragile backends"
   ]
  },
  {
   "cell_type": "code",
   "execution_count": 16,
   "metadata": {
    "colab": {
     "referenced_widgets": [
      "1dae15378a4e4fc5971af2ca9d76090b"
     ]
    },
    "id": "Y8tumM7oCi8-",
    "outputId": "734805c2-f7ef-49f5-ca15-f7688a309bf6"
   },
   "outputs": [
    {
     "data": {
      "application/vnd.jupyter.widget-view+json": {
       "model_id": "f97b3c50ff3d4bcdba1900672c6e866b",
       "version_major": 2,
       "version_minor": 0
      },
      "text/plain": [
       "HBox(children=(VBox(children=(IntSlider(value=1, description='freq', max=10), ColorPicker(value='#FF0000', des…"
      ]
     },
     "metadata": {},
     "output_type": "display_data"
    },
    {
     "data": {
      "image/png": "[encoded data removed]",
      "text/plain": [
       "<Figure size 288x288 with 1 Axes>"
      ]
     },
     "metadata": {
      "needs_background": "light"
     },
     "output_type": "display_data"
    }
   ],
   "source": [
    "# create some x data and plot it in the output widget\n",
    "# give control over data, axis, .. via control widgets using callbacks\n",
    "#\n",
    "x = np.linspace(0, 2 * np.pi, 100)\n",
    "output = widgets.Output() \n",
    "with output:\n",
    "    fig, ax = plt.subplots(constrained_layout=True, figsize=(4, 4))\n",
    "# move the toolbar to the bottom\n",
    "fig.canvas.toolbar_position = 'bottom'\n",
    "ax.grid(True)    \n",
    "line, = ax.plot(x, np.sin(x), '#FF0000')\n",
    "\n",
    "# create some control elements\n",
    "int_slider = widgets.IntSlider(value=1, min=0, max=10, step=1, description='freq')\n",
    "color_picker = widgets.ColorPicker(value='#FF0000', description='pick a color')\n",
    "text_xlabel = widgets.Text(value='', description='xlabel', continuous_update=False)\n",
    "text_ylabel = widgets.Text(value='', description='ylabel', continuous_update=False)\n",
    " \n",
    "# callback functions\n",
    "def update(change):\n",
    "    \"\"\"redraw line (update plot)\"\"\"\n",
    "    line.set_ydata(np.sin(change.new * x))\n",
    "    fig.canvas.draw()\n",
    "     \n",
    "def line_color(change):\n",
    "    \"\"\"set line color\"\"\"\n",
    "    line.set_color(change.new)\n",
    "     \n",
    "def update_xlabel(change):\n",
    "    ax.set_xlabel(change.new)\n",
    "     \n",
    "def update_ylabel(change):\n",
    "    ax.set_ylabel(change.new)\n",
    " \n",
    "# connect callbacks and traits\n",
    "int_slider.observe(update, 'value')\n",
    "color_picker.observe(line_color, 'value')\n",
    "text_xlabel.observe(update_xlabel, 'value')\n",
    "text_ylabel.observe(update_ylabel, 'value')\n",
    " \n",
    "text_xlabel.value = 'x'\n",
    "text_ylabel.value = 'y'\n",
    "controls = widgets.VBox([int_slider, color_picker, text_xlabel, text_ylabel])\n",
    "widgets.HBox([controls, output])"
   ]
  },
  {
   "cell_type": "markdown",
   "metadata": {
    "id": "Hw8-7qNDCi8-"
   },
   "source": [
    "## Packing components in a class\n",
    "### Leveraging the Output widget, observers, classes, ..\n",
    "### Dedicated to the 'widget' mpl backend\n",
    "\n",
    "This is a copy from the Kapernikov tutorial ( https://kapernikov.com/ipywidgets-with-matplotlib/ )\n",
    "\n",
    "To create more high level components, we can also subclass a container and build up our gui from within. Containers have a `children` property to which we can assign a list of widgets that should be displayed. Although, we can assign a list, this is turned into a tuple and cannot be modified afterwards.\n",
    "To remove or add a widget at runtime, the children tuple can be turned back into a list, followed by an insert or deletion and finalised by reassigning to the children property. Since it can be easy to make mistakes when going by index, I tend to add a placeholder box in which I only place the 'dynamic' widget.\n",
    "\n",
    "The example below, packs the entire oscilloscope 'dashboard' in a single component by subclassing `VBox`. All the required widgets are defined in the Sines class and added as its `children`. The callbacks are defined as instance methods. It may not be a masterpiece in object oriented programming, but hopefully it shows the idea of constructing larger reusable components. Note that, we need to call `super().__init__()` from `__init__` to properly initialise the parent class. "
   ]
  },
  {
   "cell_type": "code",
   "execution_count": 17,
   "metadata": {
    "colab": {
     "referenced_widgets": [
      "8a20d44680d74e1c95b416f2f682bd8a"
     ]
    },
    "id": "csGPTHy7Ci8_",
    "outputId": "51d5c9b9-116b-4d92-8c30-16f04a339ffb"
   },
   "outputs": [
    {
     "data": {
      "application/vnd.jupyter.widget-view+json": {
       "model_id": "4136b0373a3c4516a8efcee8c68fd513",
       "version_major": 2,
       "version_minor": 0
      },
      "text/plain": [
       "Sines(children=(VBox(children=(IntSlider(value=1, description='freq', max=10), ColorPicker(value='#FF00DD', de…"
      ]
     },
     "metadata": {},
     "output_type": "display_data"
    },
    {
     "data": {
      "image/png": "[encoded data removed]",
      "text/plain": [
       "<Figure size 360x252 with 1 Axes>"
      ]
     },
     "metadata": {
      "needs_background": "light"
     },
     "output_type": "display_data"
    }
   ],
   "source": [
    "def make_box_layout():\n",
    "     return widgets.Layout(\n",
    "        border='solid 1px black',\n",
    "        margin='0px 10px 10px 0px',\n",
    "        padding='5px 5px 5px 5px'\n",
    "     )\n",
    "\n",
    "class Sines(widgets.HBox):\n",
    "    \n",
    "    def __init__(self):\n",
    "        super().__init__()\n",
    "        output = widgets.Output()\n",
    "\n",
    "        self.x = np.linspace(0, 2 * np.pi, 100)\n",
    "        initial_color = '#FF00DD'\n",
    "\n",
    "        with output:\n",
    "            self.fig, self.ax = plt.subplots(constrained_layout=True, figsize=(5, 3.5))\n",
    "        self.line, = self.ax.plot(self.x, np.sin(self.x), initial_color)\n",
    "        \n",
    "        self.fig.canvas.toolbar_position = 'bottom'\n",
    "        self.ax.grid(True)\n",
    "\n",
    "        # define widgets\n",
    "        int_slider = widgets.IntSlider(\n",
    "            value=1, \n",
    "            min=0, \n",
    "            max=10, \n",
    "            step=1, \n",
    "            description='freq'\n",
    "        )\n",
    "        color_picker = widgets.ColorPicker(\n",
    "            value=initial_color, \n",
    "            description='pick a color'\n",
    "        )\n",
    "        text_xlabel = widgets.Text(\n",
    "            value='', \n",
    "            description='xlabel', \n",
    "            continuous_update=False\n",
    "        )\n",
    "        text_ylabel = widgets.Text(\n",
    "            value='', \n",
    "            description='ylabel', \n",
    "            continuous_update=False\n",
    "        )\n",
    "\n",
    "        controls = widgets.VBox([\n",
    "            int_slider, \n",
    "            color_picker, \n",
    "            text_xlabel, \n",
    "            text_ylabel\n",
    "        ])\n",
    "        controls.layout = make_box_layout()\n",
    "        \n",
    "        out_box = widgets.Box([output])\n",
    "        output.layout = make_box_layout()\n",
    "\n",
    "        # observe stuff\n",
    "        int_slider.observe(self.update, 'value')\n",
    "        color_picker.observe(self.line_color, 'value')\n",
    "        text_xlabel.observe(self.update_xlabel, 'value')\n",
    "        text_ylabel.observe(self.update_ylabel, 'value')\n",
    "        \n",
    "        text_xlabel.value = 'x'\n",
    "        text_ylabel.value = 'y'\n",
    "        \n",
    "\n",
    "        # add to children\n",
    "        self.children = [controls, output]\n",
    "    \n",
    "    def update(self, change):\n",
    "        \"\"\"Draw line in plot\"\"\"\n",
    "        self.line.set_ydata(np.sin(change.new * self.x))\n",
    "        self.fig.canvas.draw()\n",
    "\n",
    "    def line_color(self, change):\n",
    "        self.line.set_color(change.new)\n",
    "\n",
    "    def update_xlabel(self, change):\n",
    "        self.ax.set_xlabel(change.new)\n",
    "\n",
    "    def update_ylabel(self, change):\n",
    "        self.ax.set_ylabel(change.new)\n",
    "        \n",
    "        \n",
    "Sines()"
   ]
  },
  {
   "cell_type": "code",
   "execution_count": 18,
   "metadata": {
    "colab": {
     "referenced_widgets": [
      "37cbba7703f246dda23a0d07c1dd3c2f"
     ]
    },
    "id": "kOSRPPJgCi9A",
    "outputId": "7edb59ea-60ed-4d63-cfff-6a447f4c833c"
   },
   "outputs": [
    {
     "data": {
      "text/plain": [
       "<Figure size 216x216 with 0 Axes>"
      ]
     },
     "metadata": {},
     "output_type": "display_data"
    },
    {
     "data": {
      "application/vnd.jupyter.widget-view+json": {
       "model_id": "f3dd13e62c4343eb8fd6931a1d1ef0b3",
       "version_major": 2,
       "version_minor": 0
      },
      "text/plain": [
       "interactive(children=(IntSlider(value=1, description='w', max=10), FloatSlider(value=1.0, description='amp', m…"
      ]
     },
     "metadata": {},
     "output_type": "display_data"
    }
   ],
   "source": [
    "# Method 2: CLEAR selected axes and redraw with each operation (use OO API)\n",
    "# BACKENDS: NOT for INLINE !\n",
    "def my_sine(x, w, amp, phi):\n",
    "    return amp*np.sin(w * (x-phi))\n",
    "#\n",
    "x = np.linspace(0, 2 * np.pi, 100)\n",
    "fig= plt.figure(figsize=(3, 3))\n",
    "\n",
    "@interact(w=(0, 10, 1), amp=(0, 4, .1), phi=(0, 2*np.pi, 0.01))\n",
    "def update(w = 1.0, amp=1, phi=0):\n",
    "    plt.clf()\n",
    "    gs = fig.add_gridspec(2, 1)\n",
    "    ax1 = fig.add_subplot(gs[0, 0])\n",
    "    ax2 = fig.add_subplot(gs[1, 0])\n",
    "    #ax = fig.add_axes()\n",
    "    ax1.plot(x, my_sine(x, w, amp, phi), color='C0')\n",
    "    ax1.set_ylim([-4, 4])\n",
    "    ax1.grid(True)\n",
    "    #plt.show()"
   ]
  },
  {
   "cell_type": "code",
   "execution_count": null,
   "metadata": {},
   "outputs": [],
   "source": [
    "firstRun=True\n",
    "def gui3(number):\n",
    "    global firstRun\n",
    "    if firstRun:\n",
    "        print('number')\n",
    "        firstRun=False\n",
    "    print(str(number))"
   ]
  },
  {
   "cell_type": "code",
   "execution_count": null,
   "metadata": {},
   "outputs": [],
   "source": [
    "gui3(1)\n",
    "gui3(50)\n",
    "gui3(7)"
   ]
  },
  {
   "cell_type": "code",
   "execution_count": null,
   "metadata": {},
   "outputs": [],
   "source": []
  }
 ],
 "metadata": {
  "colab": {
   "name": "ipywidgets-mpl-inline.ipynb",
   "provenance": [],
   "toc_visible": true
  },
  "kernelspec": {
   "display_name": "Python 3",
   "language": "python",
   "name": "python3"
  },
  "language_info": {
   "codemirror_mode": {
    "name": "ipython",
    "version": 3
   },
   "file_extension": ".py",
   "mimetype": "text/x-python",
   "name": "python",
   "nbconvert_exporter": "python",
   "pygments_lexer": "ipython3",
   "version": "3.8.3"
  },
  "widgets": {
   "application/vnd.jupyter.widget-state+json": {
    "state": {
     "01bbc6db731a443fad270374dc236dda": {
      "model_module": "@jupyter-widgets/controls",
      "model_module_version": "1.5.0",
      "model_name": "SliderStyleModel",
      "state": {
       "description_width": ""
      }
     },
     "02133063a81144dd85fc11a407e43710": {
      "model_module": "@jupyter-widgets/base",
      "model_module_version": "1.2.0",
      "model_name": "LayoutModel",
      "state": {}
     },
     "02e5806c4cf948cc8700d8a4599cf2cf": {
      "model_module": "@jupyter-widgets/base",
      "model_module_version": "1.2.0",
      "model_name": "LayoutModel",
      "state": {}
     },
     "03a15260a3894c4c823448a0a72a4a61": {
      "model_module": "@jupyter-widgets/output",
      "model_module_version": "1.0.0",
      "model_name": "OutputModel",
      "state": {
       "layout": "IPY_MODEL_fe12bb3705164f859cf189210d03beae"
      }
     },
     "03e9573f521c48cb8e062f6851bd2013": {
      "model_module": "@jupyter-widgets/base",
      "model_module_version": "1.2.0",
      "model_name": "LayoutModel",
      "state": {}
     },
     "0457d09f8e6641d2b9563a12f25df864": {
      "model_module": "@jupyter-widgets/base",
      "model_module_version": "1.2.0",
      "model_name": "LayoutModel",
      "state": {}
     },
     "05222396f11e48cebcac025ddf0a1f27": {
      "model_module": "@jupyter-widgets/controls",
      "model_module_version": "1.5.0",
      "model_name": "SliderStyleModel",
      "state": {
       "description_width": ""
      }
     },
     "0714bccda8ba4a8496f0b253ef41a1b9": {
      "model_module": "@jupyter-widgets/controls",
      "model_module_version": "1.5.0",
      "model_name": "DescriptionStyleModel",
      "state": {
       "description_width": ""
      }
     },
     "071d67cd512f46afbe63a5bd684d34c2": {
      "model_module": "@jupyter-widgets/base",
      "model_module_version": "1.2.0",
      "model_name": "LayoutModel",
      "state": {
       "border": "solid 1px black",
       "height": "500px",
       "margin": "0px 10px 10px 0px",
       "padding": "5px 5px 5px 5px",
       "width": "50%"
      }
     },
     "07425692709b475689056fb650467249": {
      "model_module": "@jupyter-widgets/controls",
      "model_module_version": "1.5.0",
      "model_name": "VBoxModel",
      "state": {
       "_dom_classes": [
        "widget-interact"
       ],
       "children": [
        "IPY_MODEL_89253635c5ce4825865d477d8baf2e5f",
        "IPY_MODEL_2ee54788f22e42aeb7bbd721e4912e0b",
        "IPY_MODEL_a44f8d90daa546efb0affe1cbedc5eb9",
        "IPY_MODEL_34ad4e60282e4f1dacf5015dcd9d3f0a"
       ],
       "layout": "IPY_MODEL_0810472fc7084a92b2989b79eb627b1f"
      }
     },
     "07dac1384acf4ab8b34359783fd4ac03": {
      "model_module": "@jupyter-widgets/base",
      "model_module_version": "1.2.0",
      "model_name": "LayoutModel",
      "state": {}
     },
     "0810472fc7084a92b2989b79eb627b1f": {
      "model_module": "@jupyter-widgets/base",
      "model_module_version": "1.2.0",
      "model_name": "LayoutModel",
      "state": {}
     },
     "0b19e465d067466a93bbb3a647b5cb32": {
      "model_module": "@jupyter-widgets/base",
      "model_module_version": "1.2.0",
      "model_name": "LayoutModel",
      "state": {}
     },
     "0d9763df7b724aa39020918da6c4cf0c": {
      "model_module": "@jupyter-widgets/base",
      "model_module_version": "1.2.0",
      "model_name": "LayoutModel",
      "state": {}
     },
     "0dfdf6b84b104ab19003576721759726": {
      "model_module": "@jupyter-widgets/base",
      "model_module_version": "1.2.0",
      "model_name": "LayoutModel",
      "state": {}
     },
     "0e3822eb21f74aeea64bf951d4cf1552": {
      "model_module": "@jupyter-widgets/controls",
      "model_module_version": "1.5.0",
      "model_name": "SliderStyleModel",
      "state": {
       "description_width": ""
      }
     },
     "0e92cdeb4221480ba9ca0d3ed2370ea0": {
      "model_module": "@jupyter-widgets/controls",
      "model_module_version": "1.5.0",
      "model_name": "DescriptionStyleModel",
      "state": {
       "description_width": ""
      }
     },
     "0fe0a59c0bd54ea68e22ca67a677ea4f": {
      "model_module": "@jupyter-widgets/base",
      "model_module_version": "1.2.0",
      "model_name": "LayoutModel",
      "state": {}
     },
     "107d8f19dc364fc1b7434e763662eb75": {
      "model_module": "@jupyter-widgets/controls",
      "model_module_version": "1.5.0",
      "model_name": "FloatSliderModel",
      "state": {
       "description": "amp",
       "layout": "IPY_MODEL_4664a7188a4943fea47ca8fb318cf52f",
       "max": 4,
       "step": 0.1,
       "style": "IPY_MODEL_05222396f11e48cebcac025ddf0a1f27",
       "value": 1
      }
     },
     "12c0be6c48074eb78e6243eae5d86607": {
      "model_module": "@jupyter-widgets/output",
      "model_module_version": "1.0.0",
      "model_name": "OutputModel",
      "state": {
       "layout": "IPY_MODEL_4615aec551154123952d210623207143"
      }
     },
     "13dfab6749574cb3b403bca38dd864f7": {
      "model_module": "@jupyter-widgets/controls",
      "model_module_version": "1.5.0",
      "model_name": "DescriptionStyleModel",
      "state": {
       "description_width": ""
      }
     },
     "164884dcb6e84e7ea0650fe25b8711e1": {
      "model_module": "@jupyter-widgets/output",
      "model_module_version": "1.0.0",
      "model_name": "OutputModel",
      "state": {
       "layout": "IPY_MODEL_cbb4bbde6aa940dfa7a42403edc158ba",
       "outputs": [
        {
         "name": "stdout",
         "output_type": "stream",
         "text": "Audio playing unnormalized\n"
        }
       ]
      }
     },
     "19dfafbc2a09448ab3e5837e776dbe68": {
      "model_module": "@jupyter-widgets/controls",
      "model_module_version": "1.5.0",
      "model_name": "DropdownModel",
      "state": {
       "_options_labels": [
        "sin",
        "square",
        "sawtooth"
       ],
       "description": "Signal",
       "index": 0,
       "layout": "IPY_MODEL_e605a6ac33d34a73977682310c64fc86",
       "style": "IPY_MODEL_0714bccda8ba4a8496f0b253ef41a1b9"
      }
     },
     "1a6735fcd5944aeeaf826257b77e4480": {
      "model_module": "@jupyter-widgets/controls",
      "model_module_version": "1.5.0",
      "model_name": "VBoxModel",
      "state": {
       "_dom_classes": [
        "widget-interact"
       ],
       "children": [
        "IPY_MODEL_d53a78e7beed4139b082e1b39bd65268",
        "IPY_MODEL_23e34367b42e4550941263c5ac6be112",
        "IPY_MODEL_e61b383942754efd87a3495c8adc22d1",
        "IPY_MODEL_398884b09c084e928920f60c7e358602"
       ],
       "layout": "IPY_MODEL_b059895be47a4272b90324b46346acdd"
      }
     },
     "1ba82737b2cb4a03a7cbcd89b17757a2": {
      "model_module": "@jupyter-widgets/controls",
      "model_module_version": "1.5.0",
      "model_name": "DropdownModel",
      "state": {
       "_options_labels": [
        "sin",
        "square",
        "sawtooth"
       ],
       "description": "Signal",
       "index": 0,
       "layout": "IPY_MODEL_02e5806c4cf948cc8700d8a4599cf2cf",
       "style": "IPY_MODEL_9dfc4c479b84447d933a212e2ba53653"
      }
     },
     "1c4b573a2cc049c29bafa18d0746d983": {
      "model_module": "@jupyter-widgets/controls",
      "model_module_version": "1.5.0",
      "model_name": "DropdownModel",
      "state": {
       "_options_labels": [
        "sin",
        "square",
        "sawtooth"
       ],
       "description": "Signal",
       "index": 0,
       "layout": "IPY_MODEL_03e9573f521c48cb8e062f6851bd2013",
       "style": "IPY_MODEL_9a31a9be85c34984a9aa0e11f730bbcf"
      }
     },
     "1dc8af2dffe84588a24377846d2d55c4": {
      "model_module": "@jupyter-widgets/output",
      "model_module_version": "1.0.0",
      "model_name": "OutputModel",
      "state": {
       "layout": "IPY_MODEL_0457d09f8e6641d2b9563a12f25df864",
       "outputs": [
        {
         "data": {
          "image/png": "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\n",
          "text/plain": "<Figure size 432x288 with 1 Axes>"
         },
         "metadata": {
          "needs_background": "light"
         },
         "output_type": "display_data"
        }
       ]
      }
     },
     "1f7800e6431a473c87a9c13dc0677cbc": {
      "model_module": "@jupyter-widgets/base",
      "model_module_version": "1.2.0",
      "model_name": "LayoutModel",
      "state": {}
     },
     "217e6e038be9410a889eca4bec3c22d8": {
      "model_module": "@jupyter-widgets/base",
      "model_module_version": "1.2.0",
      "model_name": "LayoutModel",
      "state": {}
     },
     "21cf2314208942688b380355c9f36034": {
      "model_module": "@jupyter-widgets/controls",
      "model_module_version": "1.5.0",
      "model_name": "SliderStyleModel",
      "state": {
       "description_width": ""
      }
     },
     "22f36881dc30446d957592b5735434d9": {
      "model_module": "@jupyter-widgets/base",
      "model_module_version": "1.2.0",
      "model_name": "LayoutModel",
      "state": {
       "border": "solid 1px black",
       "margin": "0px 10px 10px 0px",
       "padding": "5px 5px 5px 5px"
      }
     },
     "234cd1c9634b49f9b55db3610087aa57": {
      "model_module": "@jupyter-widgets/base",
      "model_module_version": "1.2.0",
      "model_name": "LayoutModel",
      "state": {}
     },
     "2390894941ae43ff936b755ac20cfda4": {
      "model_module": "@jupyter-widgets/controls",
      "model_module_version": "1.5.0",
      "model_name": "SliderStyleModel",
      "state": {
       "description_width": ""
      }
     },
     "23e34367b42e4550941263c5ac6be112": {
      "model_module": "@jupyter-widgets/controls",
      "model_module_version": "1.5.0",
      "model_name": "FloatSliderModel",
      "state": {
       "description": "amp",
       "layout": "IPY_MODEL_be0e9eb101214f76bd101cacae7108b4",
       "max": 4,
       "step": 0.1,
       "style": "IPY_MODEL_fde4539767594a99b1c21301673946b7",
       "value": 1
      }
     },
     "25529859e4cb491aaac23787a2d6bed1": {
      "model_module": "@jupyter-widgets/output",
      "model_module_version": "1.0.0",
      "model_name": "OutputModel",
      "state": {
       "layout": "IPY_MODEL_6ed76b6f1f8c41d0a7d0a95bb8045d92"
      }
     },
     "25821694f64c4c0b80c175ddc16bc340": {
      "model_module": "@jupyter-widgets/controls",
      "model_module_version": "1.5.0",
      "model_name": "IntSliderModel",
      "state": {
       "description": "w",
       "layout": "IPY_MODEL_a3ab2dd9274e4dc5bbc31eb0e44cf5e8",
       "max": 10,
       "style": "IPY_MODEL_7060882346aa43a58d203584da4d075e",
       "value": 1
      }
     },
     "25a285cc35084259bc4e35577838d953": {
      "model_module": "@jupyter-widgets/controls",
      "model_module_version": "1.5.0",
      "model_name": "FloatSliderModel",
      "state": {
       "continuous_update": false,
       "description": "Duration",
       "layout": "IPY_MODEL_3bdf6d5a406445cda9e4e4c7777df42c",
       "max": 2,
       "min": 0.1,
       "step": 0.1,
       "style": "IPY_MODEL_828cfda3d8584e79b35cc8a1b5f3ac3f",
       "value": 0.4
      }
     },
     "261a63edc9f6462d9345bda33143303c": {
      "model_module": "@jupyter-widgets/base",
      "model_module_version": "1.2.0",
      "model_name": "LayoutModel",
      "state": {}
     },
     "28bcd59cca7042fe954e6cff2483193a": {
      "model_module": "@jupyter-widgets/output",
      "model_module_version": "1.0.0",
      "model_name": "OutputModel",
      "state": {
       "layout": "IPY_MODEL_b42222db025f4c3ba663ff0040c18b55",
       "outputs": [
        {
         "name": "stdout",
         "output_type": "stream",
         "text": "Audio playing unnormalized\n"
        }
       ]
      }
     },
     "29604f8da2be4389b100e2f6fbb5f4a8": {
      "model_module": "@jupyter-widgets/controls",
      "model_module_version": "1.5.0",
      "model_name": "SliderStyleModel",
      "state": {
       "description_width": ""
      }
     },
     "2a2d236a2d154d69984042893da68f02": {
      "model_module": "@jupyter-widgets/base",
      "model_module_version": "1.2.0",
      "model_name": "LayoutModel",
      "state": {}
     },
     "2a60d958b7a64dcd93df3fdc2f02801e": {
      "model_module": "@jupyter-widgets/controls",
      "model_module_version": "1.5.0",
      "model_name": "BoxModel",
      "state": {
       "children": [
        "IPY_MODEL_12c0be6c48074eb78e6243eae5d86607",
        "IPY_MODEL_37cf3c4673464317b92ec3a03e27431e"
       ],
       "layout": "IPY_MODEL_4fd3073948d944f2a8ee9a2a6e6fa241"
      }
     },
     "2b172df2826e4a189a5209c11a6bed7c": {
      "model_module": "@jupyter-widgets/base",
      "model_module_version": "1.2.0",
      "model_name": "LayoutModel",
      "state": {}
     },
     "2b4f513b42db4497a4ced73194e0cd92": {
      "model_module": "@jupyter-widgets/controls",
      "model_module_version": "1.5.0",
      "model_name": "SliderStyleModel",
      "state": {
       "description_width": ""
      }
     },
     "2b78652caeca453aa8d31e6a00960acd": {
      "model_module": "@jupyter-widgets/output",
      "model_module_version": "1.0.0",
      "model_name": "OutputModel",
      "state": {
       "layout": "IPY_MODEL_071d67cd512f46afbe63a5bd684d34c2"
      }
     },
     "2b8e65803e244624ab09eccbca646b06": {
      "model_module": "@jupyter-widgets/base",
      "model_module_version": "1.2.0",
      "model_name": "LayoutModel",
      "state": {
       "border": "solid 1px black",
       "margin": "0px 10px 10px 0px",
       "padding": "5px 5px 5px 5px"
      }
     },
     "2df5dc5ba6fd47cf94ecf5e395539251": {
      "model_module": "@jupyter-widgets/controls",
      "model_module_version": "1.5.0",
      "model_name": "SliderStyleModel",
      "state": {
       "description_width": ""
      }
     },
     "2ee54788f22e42aeb7bbd721e4912e0b": {
      "model_module": "@jupyter-widgets/controls",
      "model_module_version": "1.5.0",
      "model_name": "FloatSliderModel",
      "state": {
       "description": "amp",
       "layout": "IPY_MODEL_0fe0a59c0bd54ea68e22ca67a677ea4f",
       "max": 4,
       "step": 0.1,
       "style": "IPY_MODEL_89d9027ff6444924a42b7d5a09963a28",
       "value": 1
      }
     },
     "2f7a3bb8cc81432b93f455c5dd7ec9d3": {
      "model_module": "@jupyter-widgets/base",
      "model_module_version": "1.2.0",
      "model_name": "LayoutModel",
      "state": {}
     },
     "2ff4ff07ab5d47359580db0e6cf87a12": {
      "model_module": "@jupyter-widgets/controls",
      "model_module_version": "1.5.0",
      "model_name": "SliderStyleModel",
      "state": {
       "description_width": ""
      }
     },
     "303ab511a5f3405ebb0035f80a6778fa": {
      "model_module": "@jupyter-widgets/base",
      "model_module_version": "1.2.0",
      "model_name": "LayoutModel",
      "state": {}
     },
     "31af808df8144cc2aacfb165880fe093": {
      "model_module": "@jupyter-widgets/controls",
      "model_module_version": "1.5.0",
      "model_name": "SliderStyleModel",
      "state": {
       "description_width": ""
      }
     },
     "31b4f0f2610149e088461a3e9746fe2a": {
      "model_module": "@jupyter-widgets/base",
      "model_module_version": "1.2.0",
      "model_name": "LayoutModel",
      "state": {
       "border": "solid 1px black",
       "margin": "0px 10px 10px 0px",
       "padding": "5px 5px 5px 5px"
      }
     },
     "336de1c5260f4839b925667a6c2d7f95": {
      "model_module": "@jupyter-widgets/controls",
      "model_module_version": "1.5.0",
      "model_name": "SliderStyleModel",
      "state": {
       "description_width": ""
      }
     },
     "34ad4e60282e4f1dacf5015dcd9d3f0a": {
      "model_module": "@jupyter-widgets/output",
      "model_module_version": "1.0.0",
      "model_name": "OutputModel",
      "state": {
       "layout": "IPY_MODEL_2f7a3bb8cc81432b93f455c5dd7ec9d3",
       "outputs": [
        {
         "data": {
          "image/png": "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\n",
          "text/plain": "<Figure size 432x288 with 1 Axes>"
         },
         "metadata": {
          "needs_background": "light"
         },
         "output_type": "display_data"
        }
       ]
      }
     },
     "34e9b3d012984ed4a3fa03b477c837f8": {
      "model_module": "@jupyter-widgets/output",
      "model_module_version": "1.0.0",
      "model_name": "OutputModel",
      "state": {
       "layout": "IPY_MODEL_22f36881dc30446d957592b5735434d9",
       "outputs": [
        {
         "data": {
          "image/png": "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\n",
          "text/plain": "<Figure size 576x288 with 2 Axes>"
         },
         "metadata": {
          "needs_background": "light"
         },
         "output_type": "display_data"
        }
       ]
      }
     },
     "352d8884d5234961ac825540612b4b7c": {
      "model_module": "@jupyter-widgets/output",
      "model_module_version": "1.0.0",
      "model_name": "OutputModel",
      "state": {
       "layout": "IPY_MODEL_a64ce0488fe842e7ada78f43858086e4"
      }
     },
     "36c9dc8768604e4aa931952e77e1bdc4": {
      "model_module": "@jupyter-widgets/controls",
      "model_module_version": "1.5.0",
      "model_name": "SliderStyleModel",
      "state": {
       "description_width": ""
      }
     },
     "36d58fbbdecf4070addb5941179773d0": {
      "model_module": "@jupyter-widgets/output",
      "model_module_version": "1.0.0",
      "model_name": "OutputModel",
      "state": {
       "layout": "IPY_MODEL_217e6e038be9410a889eca4bec3c22d8",
       "outputs": [
        {
         "name": "stdout",
         "output_type": "stream",
         "text": "Audio playing unnormalized\n"
        }
       ]
      }
     },
     "374b36ccb9cd40ba91fd017c560db9ba": {
      "model_module": "@jupyter-widgets/controls",
      "model_module_version": "1.5.0",
      "model_name": "FloatSliderModel",
      "state": {
       "description": "phi",
       "layout": "IPY_MODEL_3bb914a9d7304d5296b01157d488284b",
       "max": 6.283185307179586,
       "step": 0.01,
       "style": "IPY_MODEL_e938304f60f54bf9a4f90eeb2fdf9892"
      }
     },
     "37a975f2bea64e889232226ca2e29f20": {
      "model_module": "@jupyter-widgets/controls",
      "model_module_version": "1.5.0",
      "model_name": "SliderStyleModel",
      "state": {
       "description_width": ""
      }
     },
     "37cf3c4673464317b92ec3a03e27431e": {
      "model_module": "@jupyter-widgets/output",
      "model_module_version": "1.0.0",
      "model_name": "OutputModel",
      "state": {
       "layout": "IPY_MODEL_45e833ff522042e19ccecf664917adde",
       "outputs": [
        {
         "data": {
          "text/html": "\n                <audio  controls=\"controls\" autoplay=\"autoplay\">\n                    <source src=\"data:audio/wav;base64,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\" type=\"audio/wav\" />\n                    Your browser does not support the audio element.\n                </audio>\n              ",
          "text/plain": "<IPython.lib.display.Audio object>"
         },
         "metadata": {},
         "output_type": "display_data"
        }
       ]
      }
     },
     "38e7c075b8f64be789d904dc32e2e24b": {
      "model_module": "@jupyter-widgets/controls",
      "model_module_version": "1.5.0",
      "model_name": "IntSliderModel",
      "state": {
       "description": "w",
       "layout": "IPY_MODEL_0dfdf6b84b104ab19003576721759726",
       "max": 10,
       "style": "IPY_MODEL_21cf2314208942688b380355c9f36034",
       "value": 1
      }
     },
     "398884b09c084e928920f60c7e358602": {
      "model_module": "@jupyter-widgets/output",
      "model_module_version": "1.0.0",
      "model_name": "OutputModel",
      "state": {
       "layout": "IPY_MODEL_5662be97c2044707a82d759a347d4886"
      }
     },
     "3b6dfcee3e9e4f03baadd6e023a38a39": {
      "model_module": "@jupyter-widgets/base",
      "model_module_version": "1.2.0",
      "model_name": "LayoutModel",
      "state": {}
     },
     "3bb914a9d7304d5296b01157d488284b": {
      "model_module": "@jupyter-widgets/base",
      "model_module_version": "1.2.0",
      "model_name": "LayoutModel",
      "state": {}
     },
     "3bdf6d5a406445cda9e4e4c7777df42c": {
      "model_module": "@jupyter-widgets/base",
      "model_module_version": "1.2.0",
      "model_name": "LayoutModel",
      "state": {}
     },
     "3be7b48438da4f24a5861eef123b13b9": {
      "model_module": "@jupyter-widgets/controls",
      "model_module_version": "1.5.0",
      "model_name": "FloatSliderModel",
      "state": {
       "description": "Amplitude",
       "layout": "IPY_MODEL_f218c76fd32b40aa8d3c558ac059238e",
       "max": 1,
       "step": 0.05,
       "style": "IPY_MODEL_4c4e04267c034cdd86f4b96ccbb024fe",
       "value": 1
      }
     },
     "3cc3c0d6cfa54d558a2fafef936be3b5": {
      "model_module": "@jupyter-widgets/base",
      "model_module_version": "1.2.0",
      "model_name": "LayoutModel",
      "state": {}
     },
     "404cb6ff21fe4f4d9377b9aa3f63f90c": {
      "model_module": "@jupyter-widgets/base",
      "model_module_version": "1.2.0",
      "model_name": "LayoutModel",
      "state": {}
     },
     "4136b0373a3c4516a8efcee8c68fd513": {
      "model_module": "@jupyter-widgets/controls",
      "model_module_version": "1.5.0",
      "model_name": "HBoxModel",
      "state": {
       "children": [
        "IPY_MODEL_546453025c9d498199656a7186c1b531",
        "IPY_MODEL_70bed251a9584f8b9c4dae0b27760230"
       ],
       "layout": "IPY_MODEL_5f18f3bfa5e9472992ec2563212227d7"
      }
     },
     "41ad7315ed2f46ff9b34306b716c357d": {
      "model_module": "@jupyter-widgets/base",
      "model_module_version": "1.2.0",
      "model_name": "LayoutModel",
      "state": {}
     },
     "41d7f5241b464b51b8a1504c40d4259b": {
      "model_module": "@jupyter-widgets/base",
      "model_module_version": "1.2.0",
      "model_name": "LayoutModel",
      "state": {}
     },
     "44b744e352044a0d9321808d8cab58e9": {
      "model_module": "@jupyter-widgets/controls",
      "model_module_version": "1.5.0",
      "model_name": "SliderStyleModel",
      "state": {
       "description_width": ""
      }
     },
     "45c818ee49ee4dd3ac279524bf264230": {
      "model_module": "@jupyter-widgets/controls",
      "model_module_version": "1.5.0",
      "model_name": "FloatSliderModel",
      "state": {
       "description": "Frequency",
       "layout": "IPY_MODEL_1f7800e6431a473c87a9c13dc0677cbc",
       "max": 600,
       "min": 100,
       "step": 10,
       "style": "IPY_MODEL_f1e3a3778a9f402a99958ea0cf99bb1b",
       "value": 140
      }
     },
     "45e833ff522042e19ccecf664917adde": {
      "model_module": "@jupyter-widgets/base",
      "model_module_version": "1.2.0",
      "model_name": "LayoutModel",
      "state": {}
     },
     "4615aec551154123952d210623207143": {
      "model_module": "@jupyter-widgets/base",
      "model_module_version": "1.2.0",
      "model_name": "LayoutModel",
      "state": {}
     },
     "4664a7188a4943fea47ca8fb318cf52f": {
      "model_module": "@jupyter-widgets/base",
      "model_module_version": "1.2.0",
      "model_name": "LayoutModel",
      "state": {}
     },
     "4b9ce43c83c0400481168f38c0194744": {
      "model_module": "@jupyter-widgets/output",
      "model_module_version": "1.0.0",
      "model_name": "OutputModel",
      "state": {
       "layout": "IPY_MODEL_9ef10a650a7b4dbfbfaf849b5d79d124",
       "outputs": [
        {
         "data": {
          "text/html": "\n                <audio  controls=\"controls\" autoplay=\"autoplay\">\n                    <source src=\"data:audio/wav;base64,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\" type=\"audio/wav\" />\n                    Your browser does not support the audio element.\n                </audio>\n              ",
          "text/plain": "<IPython.lib.display.Audio object>"
         },
         "metadata": {},
         "output_type": "display_data"
        }
       ]
      }
     },
     "4c0c369d1e7643c0935fd4c8e43bae7f": {
      "model_module": "@jupyter-widgets/controls",
      "model_module_version": "1.5.0",
      "model_name": "SliderStyleModel",
      "state": {
       "description_width": ""
      }
     },
     "4c4e04267c034cdd86f4b96ccbb024fe": {
      "model_module": "@jupyter-widgets/controls",
      "model_module_version": "1.5.0",
      "model_name": "SliderStyleModel",
      "state": {
       "description_width": ""
      }
     },
     "4c7227ae20f544499533794b2ac2d7e6": {
      "model_module": "@jupyter-widgets/controls",
      "model_module_version": "1.5.0",
      "model_name": "DescriptionStyleModel",
      "state": {
       "description_width": ""
      }
     },
     "4cd44c4fd63c494eb91b17e6a5fd5e46": {
      "model_module": "@jupyter-widgets/controls",
      "model_module_version": "1.5.0",
      "model_name": "IntSliderModel",
      "state": {
       "description": "w",
       "layout": "IPY_MODEL_dbf75150adf84d1285c6ff336b8ab2ee",
       "max": 10,
       "style": "IPY_MODEL_36c9dc8768604e4aa931952e77e1bdc4",
       "value": 1
      }
     },
     "4dfe2d9075ae466497d33d3eea291347": {
      "model_module": "@jupyter-widgets/controls",
      "model_module_version": "1.5.0",
      "model_name": "ColorPickerModel",
      "state": {
       "description": "pick a color",
       "disabled": false,
       "layout": "IPY_MODEL_7b0c7340edbe42f782d761f977356ad7",
       "style": "IPY_MODEL_586ae13c296d4661b8e356c76094f3b9",
       "value": "#FF0000"
      }
     },
     "4fd3073948d944f2a8ee9a2a6e6fa241": {
      "model_module": "@jupyter-widgets/base",
      "model_module_version": "1.2.0",
      "model_name": "LayoutModel",
      "state": {}
     },
     "516a3a33ab174d3b8943b505504d1ac1": {
      "model_module": "@jupyter-widgets/base",
      "model_module_version": "1.2.0",
      "model_name": "LayoutModel",
      "state": {}
     },
     "53958fcd41ad43459a0854776d00c50d": {
      "model_module": "@jupyter-widgets/output",
      "model_module_version": "1.0.0",
      "model_name": "OutputModel",
      "state": {
       "layout": "IPY_MODEL_6f7774d33de04804b267078c12fe9c3c",
       "outputs": [
        {
         "data": {
          "text/html": "\n                <audio  controls=\"controls\" autoplay=\"autoplay\">\n                    <source src=\"data:audio/wav;base64,UklGRqQMAABXQVZFZm10IBAAAAABAAEAQB8AAIA+AAACABAAZGF0YYAMAAAAAAEWWytqP5ZRVGErbrt3un36f2t+GHkpcORjpVTgQh4v9BkFBPjtc9gcxI2xVaHuk8CJF4MmgASBqoX1jaWZYqi7uSvNH+L39wsOtSNPODtL6lvcaad0+XuZf21/dXvQc7hogVqZSX82xiELDPb1LOBUyw+47qZzmA+NF4XHgEKAi4OIigaVsqIns+XFXtr27wcG6xv7MJVEJFYjZR5xu3m4fu5/Vn0BdyJtAmAHUKk9dSkFFP79BejC0tm+4KxhndKQk4fpgQGA6YGTh9KQYZ3grNm+wtIF6P79BRR1Kak9B1ACYCJtAXdWfe5/uH67eR5xI2UkVpVE+zDrGwcG9u9e2uXFJ7OyogaViIqLg0KAx4AXhQ+Nc5jupg+4VMss4Pb1CwzGIX82mUmBWrho0HN1e21/mX/5e6d03GnqWztLTzi1IwsO9/cf4ivNu7liqKWZ9Y2qhQSBJoAXg8CJ7pNVoY2xHMRz2PjtBQT0GR4v4EKlVORjKXAYeWt++n+6fbt3K25UYZZRaj9bKwEWAAD/6aXUlsBqrqye1ZFFiEaCBoCVgeiG148cnFurIL3i0Azm+/sIEo0n5DtzTqteEmxAdul82n/8flZ6C3JbZp5XRUbVMuEdCQj18UvcscfFtBakJJZZiweEZ4CTgIuEMIxIl3+lZ7aByTre9fMKCtQfrDTxRxJZjWfxcul6OX++f3V8eHX6ak5d2UwbOqIlChD5+RXkBc9ru9yp3ZrijkWGSIESgKqC/4jekv6f+a9XwovW++sCAvsXPi0nQSBTn2Iub214F37/fxd+bXgub59iIFMnQT4t+xcCAvvri9ZXwvmv/p/ekv+IqoISgEiBRYbijt2a3KlruwXPFeT5+QoQoiUbOtlMTl36anh1dXy+fzl/6Xrxco1nElnxR6w01B8KCvXzOt6ByWe2f6VIlzCMi4STgGeAB4RZiySWFqTFtLHHS9z18QkI4R3VMkVGnldbZgtyVnr8ftp/6XxAdhJsq15zTuQ7jScIEvv7DObi0CC9W6scnNeP6IaVgQaARoJFiNWRrJ5qrpbApdT/6QAAARZbK2o/llFUYStuu3e6ffp/a34YeSlw5GOlVOBCHi/0GQUE+O1z2BzEjbFVoe6TwIkXgyaABIGqhfWNpZliqLu5K80f4vf3Cw61I084O0vqW9xpp3T5e5l/bX91e9BzuGiBWplJfzbGIQsM9vUs4FTLD7jupnOYD40XhceAQoCLg4iKBpWyoiez5cVe2vbvBwbrG/swlUQkViNlHnG7ebh+7n9WfQF3Im0CYAdQqT11KQUU/v0F6MLS2b7grGGd0pCTh+mBAYDpgZOH0pBhneCs2b7C0gXo/v0FFHUpqT0HUAJgIm0Bd1Z97n+4frt5HnEjZSRWlUT7MOsbBwb2717a5cUns7KiBpWIiouDQoDHgBeFD41zmO6mD7hUyyzg9vULDMYhfzaZSYFauGjQc3V7bX+Zf/l7p3TcaepbO0tPOLUjCw739x/iK827uWKopZn1jaqFBIEmgBeDwInuk1WhjbEcxHPY+O0FBPQZHi/gQqVU5GMpcBh5a376f7p9u3crblRhllFqP1srARYAAP/ppdSWwGqurJ7VkUWIRoIGgJWB6IbXjxycW6sgveLQDOb7+wgSjSfkO3NOq14SbEB26Xzaf/x+VnoLcltmnldFRtUy4R0JCPXxS9yxx8W0FqQkllmLB4RngJOAi4QwjEiXf6VntoHJOt718woK1B+sNPFHElmNZ/Fy6Xo5f75/dXx4dfpqTl3ZTBs6oiUKEPn5FeQFz2u73KndmuKORYZIgRKAqoL/iN6S/p/5r1fCi9b76wIC+xc+LSdBIFOfYi5vbXgXfv9/F35teC5vn2IgUydBPi37FwIC++uL1lfC+a/+n96S/4iqghKASIFFhuKO3ZrcqWu7Bc8V5Pn5ChCiJRs62UxOXfpqeHV1fL5/OX/pevFyjWcSWfFHrDTUHwoK9fM63oHJZ7Z/pUiXMIyLhJOAZ4AHhFmLJJYWpMW0scdL3PXxCQjhHdUyRUaeV1tmC3JWevx+2n/pfEB2EmyrXnNO5DuNJwgS+/sM5uLQIL1bqxyc14/ohpWBBoBGgkWI1ZGsnmqulsCl1P/pAAABFlsraj+WUVRhK267d7p9+n9rfhh5KXDkY6VU4EIeL/QZBQT47XPYHMSNsVWh7pPAiReDJoAEgaqF9Y2lmWKou7krzR/i9/cLDrUjTzg7S+pb3GmndPl7mX9tf3V70HO4aIFamUl/NsYhCwz29SzgVMsPuO6mc5gPjReFx4BCgIuDiIoGlbKiJ7PlxV7a9u8HBusb+zCVRCRWI2Uecbt5uH7uf1Z9AXcibQJgB1CpPXUpBRT+/QXowtLZvuCsYZ3SkJOH6YEBgOmBk4fSkGGd4KzZvsLSBej+/QUUdSmpPQdQAmAibQF3Vn3uf7h+u3kecSNlJFaVRPsw6xsHBvbvXtrlxSezsqIGlYiKi4NCgMeAF4UPjXOY7qYPuFTLLOD29QsMxiF/NplJgVq4aNBzdXttf5l/+XundNxp6ls7S084tSMLDvf3H+Irzbu5YqilmfWNqoUEgSaAF4PAie6TVaGNsRzEc9j47QUE9BkeL+BCpVTkYylwGHlrfvp/un27dytuVGGWUWo/WysBFgAA/+ml1JbAaq6sntWRRYhGggaAlYHohtePHJxbqyC94tAM5vv7CBKNJ+Q7c06rXhJsQHbpfNp//H5WegtyW2aeV0VG1TLhHQkI9fFL3LHHxbQWpCSWWYsHhGeAk4CLhDCMSJd/pWe2gck63vXzCgrUH6w08UcSWY1n8XLpejl/vn91fHh1+mpOXdlMGzqiJQoQ+fkV5AXPa7vcqd2a4o5FhkiBEoCqgv+I3pL+n/mvV8KL1vvrAgL7Fz4tJ0EgU59iLm9teBd+/38Xfm14Lm+fYiBTJ0E+LfsXAgL764vWV8L5r/6f3pL/iKqCEoBIgUWG4o7dmtypa7sFzxXk+fkKEKIlGzrZTE5d+mp4dXV8vn85f+l68XKNZxJZ8UesNNQfCgr18zregclntn+lSJcwjIuEk4BngAeEWYsklhakxbSxx0vc9fEJCOEd1TJFRp5XW2YLclZ6/H7af+l8QHYSbKtec07kO40nCBL7+wzm4tAgvVurHJzXj+iGlYEGgEaCRYjVkayeaq6WwKXU/+kAAAEWWytqP5ZRVGErbrt3un36f2t+GHkpcORjpVTgQh4v9BkFBPjtc9gcxI2xVaHuk8CJF4MmgASBqoX1jaWZYqi7uSvNH+L39wsOtSNPODtL6lvcaad0+XuZf21/dXvQc7hogVqZSX82xiELDPb1LOBUyw+47qZzmA+NF4XHgEKAi4OIigaVsqIns+XFXtr27wcG6xv7MJVEJFYjZR5xu3m4fu5/Vn0BdyJtAmAHUKk9dSkFFP79BejC0tm+4KxhndKQk4fpgQGA6YGTh9KQYZ3grNm+wtIF6P79BRR1Kak9B1ACYCJtAXdWfe5/uH67eR5xI2UkVpVE+zDrGwcG9u9e2uXFJ7OyogaViIqLg0KAx4AXhQ+Nc5jupg+4VMss4Pb1CwzGIX82mUmBWrho0HN1e21/mX/5e6d03GnqWztLTzi1IwsO9/cf4ivNu7liqKWZ9Y2qhQSBJoAXg8CJ7pNVoY2xHMRz2PjtBQT0GR4v4EKlVORjKXAYeWt++n+6fbt3K25UYZZRaj9bKwEWAAD/6aXUlsBqrqye1ZFFiEaCBoCVgeiG148cnFurIL3i0Azm+/sIEo0n5DtzTqteEmxAdul82n/8flZ6C3JbZp5XRUbVMuEdCQj18UvcscfFtBakJJZZiweEZ4CTgIuEMIxIl3+lZ7aByTre9fMKCtQfrDTxRxJZjWfxcul6OX++f3V8eHX6ak5d2UwbOqIlChD5+RXkBc9ru9yp3ZrijkWGSIESgKqC/4jekv6f+a9XwovW++sCAvsXPi0nQSBTn2Iub214F37/fxd+bXgub59iIFMnQT4t+xcCAvvri9ZXwvmv/p/ekv+IqoISgEiBRYbijt2a3KlruwXPFeT5+QoQoiUbOtlMTl36anh1dXy+fzl/6Xrxco1nElnxR6w01B8KCvXzOt6ByWe2f6VIlzCMi4STgGeAB4RZiySWFqTFtLHHS9z18QkI4R3VMkVGnldbZgtyVnr8ftp/6XxAdhJsq15zTuQ7jScIEvv7DObi0CC9W6scnNeP6IaVgQaARoJFiNWRrJ5qrpbApdT/6Q==\" type=\"audio/wav\" />\n                    Your browser does not support the audio element.\n                </audio>\n              ",
          "text/plain": "<IPython.lib.display.Audio object>"
         },
         "metadata": {},
         "output_type": "display_data"
        }
       ]
      }
     },
     "546453025c9d498199656a7186c1b531": {
      "model_module": "@jupyter-widgets/controls",
      "model_module_version": "1.5.0",
      "model_name": "VBoxModel",
      "state": {
       "children": [
        "IPY_MODEL_a2cf0066be8f4c79a62c48f55da3108e",
        "IPY_MODEL_e6d71ae18d0843e892072aa66d3ba233",
        "IPY_MODEL_9b3640ec2c474d27a644fcc57cb73eee",
        "IPY_MODEL_a1b34d79b18b48f6aa9f8549c9a1c802"
       ],
       "layout": "IPY_MODEL_7720652ae5024f9e8176577eee489e03"
      }
     },
     "5662be97c2044707a82d759a347d4886": {
      "model_module": "@jupyter-widgets/base",
      "model_module_version": "1.2.0",
      "model_name": "LayoutModel",
      "state": {}
     },
     "56f96df001c246d0a2e58457caf87c8d": {
      "model_module": "@jupyter-widgets/output",
      "model_module_version": "1.0.0",
      "model_name": "OutputModel",
      "state": {
       "layout": "IPY_MODEL_071d67cd512f46afbe63a5bd684d34c2"
      }
     },
     "586ae13c296d4661b8e356c76094f3b9": {
      "model_module": "@jupyter-widgets/controls",
      "model_module_version": "1.5.0",
      "model_name": "DescriptionStyleModel",
      "state": {
       "description_width": ""
      }
     },
     "58e13a03e9c24623ab7b6f06c679659c": {
      "model_module": "@jupyter-widgets/output",
      "model_module_version": "1.0.0",
      "model_name": "OutputModel",
      "state": {
       "layout": "IPY_MODEL_61b2c75d936c442da3fec752ef6ac180",
       "outputs": [
        {
         "data": {
          "image/png": "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\n",
          "text/plain": "<Figure size 576x288 with 2 Axes>"
         },
         "metadata": {
          "needs_background": "light"
         },
         "output_type": "display_data"
        }
       ]
      }
     },
     "596f457b4d694f398e878a7cfb67c31a": {
      "model_module": "@jupyter-widgets/controls",
      "model_module_version": "1.5.0",
      "model_name": "IntSliderModel",
      "state": {
       "description": "freq",
       "layout": "IPY_MODEL_a64db6d23a6d40d699046fb15db0c747",
       "max": 10,
       "style": "IPY_MODEL_2ff4ff07ab5d47359580db0e6cf87a12",
       "value": 1
      }
     },
     "5a34497739e44e0b806cd3c9ab374248": {
      "model_module": "@jupyter-widgets/base",
      "model_module_version": "1.2.0",
      "model_name": "LayoutModel",
      "state": {}
     },
     "5a9feb36ea84447895db57e51439bb13": {
      "model_module": "@jupyter-widgets/controls",
      "model_module_version": "1.5.0",
      "model_name": "DropdownModel",
      "state": {
       "_options_labels": [
        "sin",
        "square",
        "sawtooth"
       ],
       "description": "Signal",
       "index": 0,
       "layout": "IPY_MODEL_b13ee4cdacfc41f29121bd1722850b8d",
       "style": "IPY_MODEL_bd199c76fb584808a873e7573c549062"
      }
     },
     "5b3673099ef34c068a75a1bd1302d4bc": {
      "model_module": "@jupyter-widgets/base",
      "model_module_version": "1.2.0",
      "model_name": "LayoutModel",
      "state": {}
     },
     "5ba2cb8b5d3d47deaf75f27eacc45b05": {
      "model_module": "@jupyter-widgets/base",
      "model_module_version": "1.2.0",
      "model_name": "LayoutModel",
      "state": {}
     },
     "5c081c02e1c7420fac4de5d0a0b3a3d5": {
      "model_module": "@jupyter-widgets/controls",
      "model_module_version": "1.5.0",
      "model_name": "VBoxModel",
      "state": {
       "children": [
        "IPY_MODEL_5ce87287b3a94a5a9c360b08803f8a8a",
        "IPY_MODEL_9072c339f77944ff9b5b840f793b6f92"
       ],
       "layout": "IPY_MODEL_22f36881dc30446d957592b5735434d9"
      }
     },
     "5ce87287b3a94a5a9c360b08803f8a8a": {
      "model_module": "@jupyter-widgets/controls",
      "model_module_version": "1.5.0",
      "model_name": "VBoxModel",
      "state": {
       "children": [
        "IPY_MODEL_89814340470d45b897151e5b320ce989",
        "IPY_MODEL_c1ee5fa5fd934e6bbc256328cc970a13",
        "IPY_MODEL_45c818ee49ee4dd3ac279524bf264230",
        "IPY_MODEL_c550b8a7659c46b182467d2e13a5fc96"
       ],
       "layout": "IPY_MODEL_22f36881dc30446d957592b5735434d9"
      }
     },
     "5d48f6bbba54478294ea2b06b6a039ed": {
      "model_module": "@jupyter-widgets/output",
      "model_module_version": "1.0.0",
      "model_name": "OutputModel",
      "state": {
       "layout": "IPY_MODEL_e8e66d9eaf9946ddbd417fc098d3d02c",
       "outputs": [
        {
         "data": {
          "text/plain": "<Figure size 432x288 with 0 Axes>"
         },
         "metadata": {},
         "output_type": "display_data"
        },
        {
         "data": {
          "image/png": "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\n",
          "text/plain": "<Figure size 576x288 with 2 Axes>"
         },
         "metadata": {
          "needs_background": "light"
         },
         "output_type": "display_data"
        }
       ]
      }
     },
     "5e99a0f3865849fbb3a85180b67b9a97": {
      "model_module": "@jupyter-widgets/controls",
      "model_module_version": "1.5.0",
      "model_name": "FloatSliderModel",
      "state": {
       "continuous_update": false,
       "description": "Duration",
       "layout": "IPY_MODEL_c71f379282b94ad68ac9561412e8491f",
       "max": 0.4,
       "min": 0.1,
       "step": 0.05,
       "style": "IPY_MODEL_cd1e45ab659d4744afcf005647225e9b",
       "value": 0.2
      }
     },
     "5f18f3bfa5e9472992ec2563212227d7": {
      "model_module": "@jupyter-widgets/base",
      "model_module_version": "1.2.0",
      "model_name": "LayoutModel",
      "state": {}
     },
     "61b2c75d936c442da3fec752ef6ac180": {
      "model_module": "@jupyter-widgets/base",
      "model_module_version": "1.2.0",
      "model_name": "LayoutModel",
      "state": {
       "border": "solid 1px black",
       "margin": "0px 10px 10px 0px",
       "padding": "5px 5px 5px 5px"
      }
     },
     "61eb5774ea4c41a4b8857b34a52c69a5": {
      "model_module": "@jupyter-widgets/base",
      "model_module_version": "1.2.0",
      "model_name": "LayoutModel",
      "state": {}
     },
     "62174ad9f28746adb97d3fb658e71d36": {
      "model_module": "@jupyter-widgets/base",
      "model_module_version": "1.2.0",
      "model_name": "LayoutModel",
      "state": {}
     },
     "623014b68e0c4fa5893d68fa4d3d31db": {
      "model_module": "@jupyter-widgets/base",
      "model_module_version": "1.2.0",
      "model_name": "LayoutModel",
      "state": {}
     },
     "64107e2f8b47499fa8c04755372c541a": {
      "model_module": "@jupyter-widgets/controls",
      "model_module_version": "1.5.0",
      "model_name": "VBoxModel",
      "state": {
       "children": [
        "IPY_MODEL_f924f46df6e94cddbce33f58c68a5e7b",
        "IPY_MODEL_7d1172fdc954448ab60d33d34f011566"
       ],
       "layout": "IPY_MODEL_2b8e65803e244624ab09eccbca646b06"
      }
     },
     "65ec7206ad444b14a61c153d166c814a": {
      "model_module": "@jupyter-widgets/base",
      "model_module_version": "1.2.0",
      "model_name": "LayoutModel",
      "state": {}
     },
     "693a129d410441dda3628f71cbb6b6a0": {
      "model_module": "@jupyter-widgets/base",
      "model_module_version": "1.2.0",
      "model_name": "LayoutModel",
      "state": {}
     },
     "69ae462cb01845609c469590692d47af": {
      "model_module": "@jupyter-widgets/base",
      "model_module_version": "1.2.0",
      "model_name": "LayoutModel",
      "state": {}
     },
     "69b074963ea44e378fb48a6109447fb0": {
      "model_module": "@jupyter-widgets/base",
      "model_module_version": "1.2.0",
      "model_name": "LayoutModel",
      "state": {}
     },
     "69e3b2bc74804664a6365f15d570e527": {
      "model_module": "@jupyter-widgets/base",
      "model_module_version": "1.2.0",
      "model_name": "LayoutModel",
      "state": {}
     },
     "6b467e11bd5d4609aefbab6ede38fa14": {
      "model_module": "@jupyter-widgets/base",
      "model_module_version": "1.2.0",
      "model_name": "LayoutModel",
      "state": {}
     },
     "6e680d83100c4dad8ff099f714924015": {
      "model_module": "@jupyter-widgets/base",
      "model_module_version": "1.2.0",
      "model_name": "LayoutModel",
      "state": {}
     },
     "6ed76b6f1f8c41d0a7d0a95bb8045d92": {
      "model_module": "@jupyter-widgets/base",
      "model_module_version": "1.2.0",
      "model_name": "LayoutModel",
      "state": {}
     },
     "6f1657d17ae04ba5938b2b308a2ba950": {
      "model_module": "@jupyter-widgets/controls",
      "model_module_version": "1.5.0",
      "model_name": "SliderStyleModel",
      "state": {
       "description_width": ""
      }
     },
     "6f7774d33de04804b267078c12fe9c3c": {
      "model_module": "@jupyter-widgets/base",
      "model_module_version": "1.2.0",
      "model_name": "LayoutModel",
      "state": {}
     },
     "7060882346aa43a58d203584da4d075e": {
      "model_module": "@jupyter-widgets/controls",
      "model_module_version": "1.5.0",
      "model_name": "SliderStyleModel",
      "state": {
       "description_width": ""
      }
     },
     "70bed251a9584f8b9c4dae0b27760230": {
      "model_module": "@jupyter-widgets/output",
      "model_module_version": "1.0.0",
      "model_name": "OutputModel",
      "state": {
       "layout": "IPY_MODEL_cd0c55af91bc48f1a9978cb47262f0ab"
      }
     },
     "713e28e812b7426ebe7fa1b6c3ffe2cd": {
      "model_module": "@jupyter-widgets/base",
      "model_module_version": "1.2.0",
      "model_name": "LayoutModel",
      "state": {}
     },
     "721529ba59c94005a9ed4c9d0ff9f4d8": {
      "model_module": "@jupyter-widgets/controls",
      "model_module_version": "1.5.0",
      "model_name": "SliderStyleModel",
      "state": {
       "description_width": ""
      }
     },
     "76f3c1bb95ef46efac3076fb5ad56e91": {
      "model_module": "@jupyter-widgets/controls",
      "model_module_version": "1.5.0",
      "model_name": "DescriptionStyleModel",
      "state": {
       "description_width": ""
      }
     },
     "7720652ae5024f9e8176577eee489e03": {
      "model_module": "@jupyter-widgets/base",
      "model_module_version": "1.2.0",
      "model_name": "LayoutModel",
      "state": {
       "border": "solid 1px black",
       "margin": "0px 10px 10px 0px",
       "padding": "5px 5px 5px 5px"
      }
     },
     "7859dbbd207c45e5877ba2057958dd5b": {
      "model_module": "@jupyter-widgets/controls",
      "model_module_version": "1.5.0",
      "model_name": "HBoxModel",
      "state": {
       "children": [
        "IPY_MODEL_bb9209da30344e42aa336c93a8524420",
        "IPY_MODEL_64107e2f8b47499fa8c04755372c541a"
       ],
       "layout": "IPY_MODEL_7a48f41a75814762a58dd4aa3da92722"
      }
     },
     "7a48f41a75814762a58dd4aa3da92722": {
      "model_module": "@jupyter-widgets/base",
      "model_module_version": "1.2.0",
      "model_name": "LayoutModel",
      "state": {}
     },
     "7ac70bb14393482c950f28ff65e873ed": {
      "model_module": "@jupyter-widgets/base",
      "model_module_version": "1.2.0",
      "model_name": "LayoutModel",
      "state": {}
     },
     "7b0c7340edbe42f782d761f977356ad7": {
      "model_module": "@jupyter-widgets/base",
      "model_module_version": "1.2.0",
      "model_name": "LayoutModel",
      "state": {}
     },
     "7c488452e34547f9951b8cc5a55cf976": {
      "model_module": "@jupyter-widgets/controls",
      "model_module_version": "1.5.0",
      "model_name": "HBoxModel",
      "state": {
       "children": [
        "IPY_MODEL_58e13a03e9c24623ab7b6f06c679659c",
        "IPY_MODEL_fa159ab79e4c42199fc90192891a609f"
       ],
       "layout": "IPY_MODEL_9b853dafd66849aa94a37f4ab36225c0"
      }
     },
     "7d1172fdc954448ab60d33d34f011566": {
      "model_module": "@jupyter-widgets/controls",
      "model_module_version": "1.5.0",
      "model_name": "VBoxModel",
      "state": {
       "children": [
        "IPY_MODEL_53958fcd41ad43459a0854776d00c50d",
        "IPY_MODEL_d285a13c8e99410d9df1c89f1d74b63f"
       ],
       "layout": "IPY_MODEL_2b8e65803e244624ab09eccbca646b06"
      }
     },
     "828cfda3d8584e79b35cc8a1b5f3ac3f": {
      "model_module": "@jupyter-widgets/controls",
      "model_module_version": "1.5.0",
      "model_name": "SliderStyleModel",
      "state": {
       "description_width": ""
      }
     },
     "82cabd2919f848e6929e8d804e493649": {
      "model_module": "@jupyter-widgets/controls",
      "model_module_version": "1.5.0",
      "model_name": "SliderStyleModel",
      "state": {
       "description_width": ""
      }
     },
     "8459e9a26087447ba7d9fe311c3a8472": {
      "model_module": "@jupyter-widgets/controls",
      "model_module_version": "1.5.0",
      "model_name": "VBoxModel",
      "state": {
       "_dom_classes": [
        "widget-interact"
       ],
       "children": [
        "IPY_MODEL_ea47cdbd61784d0582b70601bb765bf0",
        "IPY_MODEL_107d8f19dc364fc1b7434e763662eb75",
        "IPY_MODEL_8bfd8571938d4e94b88e30d0d6e35b44",
        "IPY_MODEL_03a15260a3894c4c823448a0a72a4a61"
       ],
       "layout": "IPY_MODEL_61eb5774ea4c41a4b8857b34a52c69a5"
      }
     },
     "85afff73f8334fbabce592bda15793e8": {
      "model_module": "@jupyter-widgets/controls",
      "model_module_version": "1.5.0",
      "model_name": "VBoxModel",
      "state": {
       "children": [
        "IPY_MODEL_e6d03a6ac1bb4d65b63bc55eec02f634",
        "IPY_MODEL_f0b4f6f1131d463593f941a8413a5088",
        "IPY_MODEL_bba1689d70c8439f80930b52407278a6"
       ],
       "layout": "IPY_MODEL_8f9d2acc97764b6b909289992f17702f"
      }
     },
     "868c40b86998440ba9de9cbda00a45ea": {
      "model_module": "@jupyter-widgets/controls",
      "model_module_version": "1.5.0",
      "model_name": "FloatSliderModel",
      "state": {
       "description": "Frequency",
       "layout": "IPY_MODEL_2a2d236a2d154d69984042893da68f02",
       "max": 600,
       "min": 100,
       "step": 10,
       "style": "IPY_MODEL_2390894941ae43ff936b755ac20cfda4",
       "value": 100
      }
     },
     "89253635c5ce4825865d477d8baf2e5f": {
      "model_module": "@jupyter-widgets/controls",
      "model_module_version": "1.5.0",
      "model_name": "IntSliderModel",
      "state": {
       "description": "w",
       "layout": "IPY_MODEL_942ee5d969c2475fbd7c5e38c749d59d",
       "max": 10,
       "style": "IPY_MODEL_31af808df8144cc2aacfb165880fe093",
       "value": 1
      }
     },
     "89814340470d45b897151e5b320ce989": {
      "model_module": "@jupyter-widgets/controls",
      "model_module_version": "1.5.0",
      "model_name": "DropdownModel",
      "state": {
       "_options_labels": [
        "sin",
        "square",
        "sawtooth"
       ],
       "description": "Signal",
       "index": 0,
       "layout": "IPY_MODEL_94a9fe81765b450584d3bd889f0d3197",
       "style": "IPY_MODEL_d06ea8ecb25d47e09f778f92785cb097"
      }
     },
     "89d9027ff6444924a42b7d5a09963a28": {
      "model_module": "@jupyter-widgets/controls",
      "model_module_version": "1.5.0",
      "model_name": "SliderStyleModel",
      "state": {
       "description_width": ""
      }
     },
     "8bfd8571938d4e94b88e30d0d6e35b44": {
      "model_module": "@jupyter-widgets/controls",
      "model_module_version": "1.5.0",
      "model_name": "FloatSliderModel",
      "state": {
       "description": "phi",
       "layout": "IPY_MODEL_623014b68e0c4fa5893d68fa4d3d31db",
       "max": 6.283185307179586,
       "step": 0.01,
       "style": "IPY_MODEL_d62abd5ebe664cf6a100883105073eef"
      }
     },
     "8e5dedc2e77a4b4b887134744aa1b63a": {
      "model_module": "@jupyter-widgets/base",
      "model_module_version": "1.2.0",
      "model_name": "LayoutModel",
      "state": {}
     },
     "8f4ed9a5f2ef48779bbd39c6df6f54e8": {
      "model_module": "@jupyter-widgets/base",
      "model_module_version": "1.2.0",
      "model_name": "LayoutModel",
      "state": {}
     },
     "8f9d2acc97764b6b909289992f17702f": {
      "model_module": "@jupyter-widgets/base",
      "model_module_version": "1.2.0",
      "model_name": "LayoutModel",
      "state": {}
     },
     "9072c339f77944ff9b5b840f793b6f92": {
      "model_module": "@jupyter-widgets/controls",
      "model_module_version": "1.5.0",
      "model_name": "VBoxModel",
      "state": {
       "children": [
        "IPY_MODEL_4b9ce43c83c0400481168f38c0194744",
        "IPY_MODEL_36d58fbbdecf4070addb5941179773d0"
       ],
       "layout": "IPY_MODEL_22f36881dc30446d957592b5735434d9"
      }
     },
     "91c0637786d447e4ad057aeffbdae846": {
      "model_module": "@jupyter-widgets/controls",
      "model_module_version": "1.5.0",
      "model_name": "HBoxModel",
      "state": {
       "children": [
        "IPY_MODEL_b83cae6a9f8443658cfe2c12e062c766",
        "IPY_MODEL_945bce51828f49229992e0b40e883b8b"
       ],
       "layout": "IPY_MODEL_713e28e812b7426ebe7fa1b6c3ffe2cd"
      }
     },
     "93117ac15f53447fb1b283a2d3c1bf80": {
      "model_module": "@jupyter-widgets/controls",
      "model_module_version": "1.5.0",
      "model_name": "FloatSliderModel",
      "state": {
       "description": "phi",
       "layout": "IPY_MODEL_a133bcbb8fda448195146da05afb1c2f",
       "max": 6.283185307179586,
       "step": 0.01,
       "style": "IPY_MODEL_e45077735f3f4eb29bea86c005fbeb21"
      }
     },
     "942ee5d969c2475fbd7c5e38c749d59d": {
      "model_module": "@jupyter-widgets/base",
      "model_module_version": "1.2.0",
      "model_name": "LayoutModel",
      "state": {}
     },
     "945bce51828f49229992e0b40e883b8b": {
      "model_module": "@jupyter-widgets/controls",
      "model_module_version": "1.5.0",
      "model_name": "VBoxModel",
      "state": {
       "children": [
        "IPY_MODEL_c656f312e7a94be5925501a492e48d88",
        "IPY_MODEL_c39994a94ad94f8b81854a354e6307d1",
        "IPY_MODEL_164884dcb6e84e7ea0650fe25b8711e1"
       ],
       "layout": "IPY_MODEL_bf98469917b64e3ab9f3dcbd2bd110fc"
      }
     },
     "94a9fe81765b450584d3bd889f0d3197": {
      "model_module": "@jupyter-widgets/base",
      "model_module_version": "1.2.0",
      "model_name": "LayoutModel",
      "state": {}
     },
     "94ca75f2523741b0ba6e8a70f7f7b284": {
      "model_module": "@jupyter-widgets/controls",
      "model_module_version": "1.5.0",
      "model_name": "FloatSliderModel",
      "state": {
       "description": "Amplitude",
       "layout": "IPY_MODEL_2b172df2826e4a189a5209c11a6bed7c",
       "max": 1,
       "step": 0.05,
       "style": "IPY_MODEL_2b4f513b42db4497a4ced73194e0cd92",
       "value": 0.5
      }
     },
     "95a839a8ae1844019b4c6c8b0c92480c": {
      "model_module": "@jupyter-widgets/controls",
      "model_module_version": "1.5.0",
      "model_name": "FloatSliderModel",
      "state": {
       "description": "Amplitude",
       "layout": "IPY_MODEL_5ba2cb8b5d3d47deaf75f27eacc45b05",
       "max": 1,
       "step": 0.05,
       "style": "IPY_MODEL_6f1657d17ae04ba5938b2b308a2ba950",
       "value": 1
      }
     },
     "9658983a431346aca39f4f4894fed1a1": {
      "model_module": "@jupyter-widgets/controls",
      "model_module_version": "1.5.0",
      "model_name": "VBoxModel",
      "state": {
       "_dom_classes": [
        "widget-interact"
       ],
       "children": [
        "IPY_MODEL_4cd44c4fd63c494eb91b17e6a5fd5e46",
        "IPY_MODEL_bac404212ab547e9ab405cf39eefd522",
        "IPY_MODEL_374b36ccb9cd40ba91fd017c560db9ba",
        "IPY_MODEL_1dc8af2dffe84588a24377846d2d55c4"
       ],
       "layout": "IPY_MODEL_7ac70bb14393482c950f28ff65e873ed"
      }
     },
     "96b422839ece4695ac753669a4e25be8": {
      "model_module": "@jupyter-widgets/controls",
      "model_module_version": "1.5.0",
      "model_name": "DescriptionStyleModel",
      "state": {
       "description_width": ""
      }
     },
     "96e9073885c14c1a81a07d8eb74e6ab2": {
      "model_module": "@jupyter-widgets/controls",
      "model_module_version": "1.5.0",
      "model_name": "FloatSliderModel",
      "state": {
       "description": "Amplitude",
       "layout": "IPY_MODEL_d24801d61a3a4d5eb37bc97b7fb6fc1c",
       "max": 1,
       "step": 0.05,
       "style": "IPY_MODEL_a458f84569ba4c5a96fa4d48105d2719",
       "value": 1
      }
     },
     "983a774a3ec346ca911228184af185fa": {
      "model_module": "@jupyter-widgets/controls",
      "model_module_version": "1.5.0",
      "model_name": "FloatSliderModel",
      "state": {
       "description": "Amplitude",
       "layout": "IPY_MODEL_07dac1384acf4ab8b34359783fd4ac03",
       "max": 1,
       "step": 0.05,
       "style": "IPY_MODEL_bb5acfc6c3ae48168f3d2056e97a28bf",
       "value": 1
      }
     },
     "988c40558b284076b83d093a0e1b4810": {
      "model_module": "@jupyter-widgets/base",
      "model_module_version": "1.2.0",
      "model_name": "LayoutModel",
      "state": {}
     },
     "9a31a9be85c34984a9aa0e11f730bbcf": {
      "model_module": "@jupyter-widgets/controls",
      "model_module_version": "1.5.0",
      "model_name": "DescriptionStyleModel",
      "state": {
       "description_width": ""
      }
     },
     "9b3640ec2c474d27a644fcc57cb73eee": {
      "model_module": "@jupyter-widgets/controls",
      "model_module_version": "1.5.0",
      "model_name": "TextModel",
      "state": {
       "continuous_update": false,
       "description": "xlabel",
       "layout": "IPY_MODEL_988c40558b284076b83d093a0e1b4810",
       "style": "IPY_MODEL_0e92cdeb4221480ba9ca0d3ed2370ea0",
       "value": "x"
      }
     },
     "9b853dafd66849aa94a37f4ab36225c0": {
      "model_module": "@jupyter-widgets/base",
      "model_module_version": "1.2.0",
      "model_name": "LayoutModel",
      "state": {}
     },
     "9d50d68f22f6495c990c7421d9712f4f": {
      "model_module": "@jupyter-widgets/base",
      "model_module_version": "1.2.0",
      "model_name": "LayoutModel",
      "state": {}
     },
     "9dfc4c479b84447d933a212e2ba53653": {
      "model_module": "@jupyter-widgets/controls",
      "model_module_version": "1.5.0",
      "model_name": "DescriptionStyleModel",
      "state": {
       "description_width": ""
      }
     },
     "9eadf23c76ca4c859570ed04a286050b": {
      "model_module": "@jupyter-widgets/base",
      "model_module_version": "1.2.0",
      "model_name": "LayoutModel",
      "state": {}
     },
     "9ef10a650a7b4dbfbfaf849b5d79d124": {
      "model_module": "@jupyter-widgets/base",
      "model_module_version": "1.2.0",
      "model_name": "LayoutModel",
      "state": {}
     },
     "a027fb79afaf4ae58f8ece3d43c83fd7": {
      "model_module": "@jupyter-widgets/base",
      "model_module_version": "1.2.0",
      "model_name": "LayoutModel",
      "state": {}
     },
     "a133bcbb8fda448195146da05afb1c2f": {
      "model_module": "@jupyter-widgets/base",
      "model_module_version": "1.2.0",
      "model_name": "LayoutModel",
      "state": {}
     },
     "a1b34d79b18b48f6aa9f8549c9a1c802": {
      "model_module": "@jupyter-widgets/controls",
      "model_module_version": "1.5.0",
      "model_name": "TextModel",
      "state": {
       "continuous_update": false,
       "description": "ylabel",
       "layout": "IPY_MODEL_3b6dfcee3e9e4f03baadd6e023a38a39",
       "style": "IPY_MODEL_4c7227ae20f544499533794b2ac2d7e6",
       "value": "y"
      }
     },
     "a2cf0066be8f4c79a62c48f55da3108e": {
      "model_module": "@jupyter-widgets/controls",
      "model_module_version": "1.5.0",
      "model_name": "IntSliderModel",
      "state": {
       "description": "freq",
       "layout": "IPY_MODEL_8e5dedc2e77a4b4b887134744aa1b63a",
       "max": 10,
       "style": "IPY_MODEL_336de1c5260f4839b925667a6c2d7f95",
       "value": 1
      }
     },
     "a3ab2dd9274e4dc5bbc31eb0e44cf5e8": {
      "model_module": "@jupyter-widgets/base",
      "model_module_version": "1.2.0",
      "model_name": "LayoutModel",
      "state": {}
     },
     "a44f8d90daa546efb0affe1cbedc5eb9": {
      "model_module": "@jupyter-widgets/controls",
      "model_module_version": "1.5.0",
      "model_name": "FloatSliderModel",
      "state": {
       "description": "phi",
       "layout": "IPY_MODEL_fa7218429eee4767bea532fa291d07f9",
       "max": 6.283185307179586,
       "step": 0.01,
       "style": "IPY_MODEL_82cabd2919f848e6929e8d804e493649"
      }
     },
     "a458f84569ba4c5a96fa4d48105d2719": {
      "model_module": "@jupyter-widgets/controls",
      "model_module_version": "1.5.0",
      "model_name": "SliderStyleModel",
      "state": {
       "description_width": ""
      }
     },
     "a5ccadee6f6345b8ba0b094a56c920db": {
      "model_module": "@jupyter-widgets/controls",
      "model_module_version": "1.5.0",
      "model_name": "FloatSliderModel",
      "state": {
       "description": "Frequency",
       "layout": "IPY_MODEL_261a63edc9f6462d9345bda33143303c",
       "max": 600,
       "min": 100,
       "step": 10,
       "style": "IPY_MODEL_ff2142b7bfc04a2aaa7551a76495dae2",
       "value": 100
      }
     },
     "a64ce0488fe842e7ada78f43858086e4": {
      "model_module": "@jupyter-widgets/base",
      "model_module_version": "1.2.0",
      "model_name": "LayoutModel",
      "state": {
       "border": "solid 1px black",
       "margin": "0px 10px 10px 0px",
       "padding": "5px 5px 5px 5px"
      }
     },
     "a64db6d23a6d40d699046fb15db0c747": {
      "model_module": "@jupyter-widgets/base",
      "model_module_version": "1.2.0",
      "model_name": "LayoutModel",
      "state": {}
     },
     "a70323d177f3454a8ccb692e799ebb85": {
      "model_module": "@jupyter-widgets/base",
      "model_module_version": "1.2.0",
      "model_name": "LayoutModel",
      "state": {}
     },
     "a7a9adc6459e46f5adc810a0154abbcf": {
      "model_module": "@jupyter-widgets/controls",
      "model_module_version": "1.5.0",
      "model_name": "DropdownModel",
      "state": {
       "_options_labels": [
        "sin",
        "square",
        "sawtooth"
       ],
       "description": "Signal",
       "index": 0,
       "layout": "IPY_MODEL_65ec7206ad444b14a61c153d166c814a",
       "style": "IPY_MODEL_96b422839ece4695ac753669a4e25be8"
      }
     },
     "aaafcf9989504d6b8add222adcff090e": {
      "model_module": "@jupyter-widgets/base",
      "model_module_version": "1.2.0",
      "model_name": "LayoutModel",
      "state": {}
     },
     "ac6c0693d8484457a30a08f0c9314d54": {
      "model_module": "@jupyter-widgets/base",
      "model_module_version": "1.2.0",
      "model_name": "LayoutModel",
      "state": {}
     },
     "ad9082cee5ec4da2bd52b9458f5844d9": {
      "model_module": "@jupyter-widgets/controls",
      "model_module_version": "1.5.0",
      "model_name": "VBoxModel",
      "state": {
       "_dom_classes": [
        "widget-interact"
       ],
       "children": [
        "IPY_MODEL_a7a9adc6459e46f5adc810a0154abbcf",
        "IPY_MODEL_fcea2f522e8d4f4996966a02741dfb68",
        "IPY_MODEL_94ca75f2523741b0ba6e8a70f7f7b284",
        "IPY_MODEL_25a285cc35084259bc4e35577838d953",
        "IPY_MODEL_d6c38f5b275340b5ab4589d249142a03"
       ],
       "layout": "IPY_MODEL_62174ad9f28746adb97d3fb658e71d36"
      }
     },
     "af36c390da33499985620855cd641f09": {
      "model_module": "@jupyter-widgets/controls",
      "model_module_version": "1.5.0",
      "model_name": "FloatSliderModel",
      "state": {
       "description": "Frequency",
       "layout": "IPY_MODEL_aaafcf9989504d6b8add222adcff090e",
       "max": 600,
       "min": 100,
       "step": 10,
       "style": "IPY_MODEL_01bbc6db731a443fad270374dc236dda",
       "value": 290
      }
     },
     "b059895be47a4272b90324b46346acdd": {
      "model_module": "@jupyter-widgets/base",
      "model_module_version": "1.2.0",
      "model_name": "LayoutModel",
      "state": {}
     },
     "b0653e365e5f4e92bfc3a52c22d34bb9": {
      "model_module": "@jupyter-widgets/base",
      "model_module_version": "1.2.0",
      "model_name": "LayoutModel",
      "state": {}
     },
     "b0be1ae9b6a64e8184c97a48027596d1": {
      "model_module": "@jupyter-widgets/controls",
      "model_module_version": "1.5.0",
      "model_name": "HBoxModel",
      "state": {
       "children": [
        "IPY_MODEL_34e9b3d012984ed4a3fa03b477c837f8",
        "IPY_MODEL_5c081c02e1c7420fac4de5d0a0b3a3d5"
       ],
       "layout": "IPY_MODEL_f1bf7dafdf2b4e74a8c3b5bde0a4c8c8"
      }
     },
     "b13ee4cdacfc41f29121bd1722850b8d": {
      "model_module": "@jupyter-widgets/base",
      "model_module_version": "1.2.0",
      "model_name": "LayoutModel",
      "state": {}
     },
     "b394c06e26684261ad4b09d5bd9dd360": {
      "model_module": "@jupyter-widgets/controls",
      "model_module_version": "1.5.0",
      "model_name": "HBoxModel",
      "state": {
       "children": [
        "IPY_MODEL_56f96df001c246d0a2e58457caf87c8d",
        "IPY_MODEL_2b78652caeca453aa8d31e6a00960acd"
       ],
       "layout": "IPY_MODEL_fc3f84fedaed45f79c8c7cce64d50b4b"
      }
     },
     "b3e9584ed14242cd8e9e9c031f1ec757": {
      "model_module": "@jupyter-widgets/base",
      "model_module_version": "1.2.0",
      "model_name": "LayoutModel",
      "state": {}
     },
     "b42222db025f4c3ba663ff0040c18b55": {
      "model_module": "@jupyter-widgets/base",
      "model_module_version": "1.2.0",
      "model_name": "LayoutModel",
      "state": {}
     },
     "b5bd1a706c40422f889fbf50a5f4f2ba": {
      "model_module": "@jupyter-widgets/controls",
      "model_module_version": "1.5.0",
      "model_name": "SliderStyleModel",
      "state": {
       "description_width": ""
      }
     },
     "b7e55fb40850437a9dbb6eed95452fc4": {
      "model_module": "@jupyter-widgets/controls",
      "model_module_version": "1.5.0",
      "model_name": "TextModel",
      "state": {
       "continuous_update": false,
       "description": "ylabel",
       "layout": "IPY_MODEL_303ab511a5f3405ebb0035f80a6778fa",
       "style": "IPY_MODEL_e8529185abf14052ab5bb69e98aa20eb",
       "value": "y"
      }
     },
     "b83cae6a9f8443658cfe2c12e062c766": {
      "model_module": "@jupyter-widgets/output",
      "model_module_version": "1.0.0",
      "model_name": "OutputModel",
      "state": {
       "layout": "IPY_MODEL_31b4f0f2610149e088461a3e9746fe2a"
      }
     },
     "bac404212ab547e9ab405cf39eefd522": {
      "model_module": "@jupyter-widgets/controls",
      "model_module_version": "1.5.0",
      "model_name": "FloatSliderModel",
      "state": {
       "description": "amp",
       "layout": "IPY_MODEL_69b074963ea44e378fb48a6109447fb0",
       "max": 4,
       "step": 0.1,
       "style": "IPY_MODEL_37a975f2bea64e889232226ca2e29f20",
       "value": 1
      }
     },
     "bb5acfc6c3ae48168f3d2056e97a28bf": {
      "model_module": "@jupyter-widgets/controls",
      "model_module_version": "1.5.0",
      "model_name": "SliderStyleModel",
      "state": {
       "description_width": ""
      }
     },
     "bb66a9ce59c04115a097023b7170c5ff": {
      "model_module": "@jupyter-widgets/controls",
      "model_module_version": "1.5.0",
      "model_name": "BoxModel",
      "state": {
       "children": [
        "IPY_MODEL_70bed251a9584f8b9c4dae0b27760230"
       ],
       "layout": "IPY_MODEL_41d7f5241b464b51b8a1504c40d4259b"
      }
     },
     "bb9209da30344e42aa336c93a8524420": {
      "model_module": "@jupyter-widgets/output",
      "model_module_version": "1.0.0",
      "model_name": "OutputModel",
      "state": {
       "layout": "IPY_MODEL_2b8e65803e244624ab09eccbca646b06",
       "outputs": [
        {
         "data": {
          "image/png": "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\n",
          "text/plain": "<Figure size 576x288 with 2 Axes>"
         },
         "metadata": {
          "needs_background": "light"
         },
         "output_type": "display_data"
        }
       ]
      }
     },
     "bba1689d70c8439f80930b52407278a6": {
      "model_module": "@jupyter-widgets/output",
      "model_module_version": "1.0.0",
      "model_name": "OutputModel",
      "state": {
       "layout": "IPY_MODEL_6b467e11bd5d4609aefbab6ede38fa14",
       "outputs": [
        {
         "name": "stdout",
         "output_type": "stream",
         "text": "Audio playing unnormalized\n"
        }
       ]
      }
     },
     "bd199c76fb584808a873e7573c549062": {
      "model_module": "@jupyter-widgets/controls",
      "model_module_version": "1.5.0",
      "model_name": "DescriptionStyleModel",
      "state": {
       "description_width": ""
      }
     },
     "be0e9eb101214f76bd101cacae7108b4": {
      "model_module": "@jupyter-widgets/base",
      "model_module_version": "1.2.0",
      "model_name": "LayoutModel",
      "state": {}
     },
     "bf98469917b64e3ab9f3dcbd2bd110fc": {
      "model_module": "@jupyter-widgets/base",
      "model_module_version": "1.2.0",
      "model_name": "LayoutModel",
      "state": {}
     },
     "c00fd14ef5904db8af9ed7369bb92f05": {
      "model_module": "@jupyter-widgets/base",
      "model_module_version": "1.2.0",
      "model_name": "LayoutModel",
      "state": {}
     },
     "c1ee5fa5fd934e6bbc256328cc970a13": {
      "model_module": "@jupyter-widgets/controls",
      "model_module_version": "1.5.0",
      "model_name": "FloatSliderModel",
      "state": {
       "description": "Amplitude",
       "layout": "IPY_MODEL_69ae462cb01845609c469590692d47af",
       "max": 1,
       "step": 0.05,
       "style": "IPY_MODEL_29604f8da2be4389b100e2f6fbb5f4a8",
       "value": 1
      }
     },
     "c39994a94ad94f8b81854a354e6307d1": {
      "model_module": "@jupyter-widgets/output",
      "model_module_version": "1.0.0",
      "model_name": "OutputModel",
      "state": {
       "layout": "IPY_MODEL_5a34497739e44e0b806cd3c9ab374248",
       "outputs": [
        {
         "data": {
          "text/html": "\n                <audio  controls=\"controls\" autoplay=\"autoplay\">\n                    <source src=\"data:audio/wav;base64,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\" type=\"audio/wav\" />\n                    Your browser does not support the audio element.\n                </audio>\n              ",
          "text/plain": "<IPython.lib.display.Audio object>"
         },
         "metadata": {},
         "output_type": "display_data"
        }
       ]
      }
     },
     "c550b8a7659c46b182467d2e13a5fc96": {
      "model_module": "@jupyter-widgets/controls",
      "model_module_version": "1.5.0",
      "model_name": "FloatSliderModel",
      "state": {
       "continuous_update": false,
       "description": "Duration",
       "layout": "IPY_MODEL_516a3a33ab174d3b8943b505504d1ac1",
       "max": 0.4,
       "min": 0.1,
       "step": 0.05,
       "style": "IPY_MODEL_44b744e352044a0d9321808d8cab58e9",
       "value": 0.2
      }
     },
     "c57f1d32d2464d8895e99bc6ff1d61d3": {
      "model_module": "@jupyter-widgets/controls",
      "model_module_version": "1.5.0",
      "model_name": "VBoxModel",
      "state": {
       "children": [
        "IPY_MODEL_596f457b4d694f398e878a7cfb67c31a",
        "IPY_MODEL_4dfe2d9075ae466497d33d3eea291347",
        "IPY_MODEL_ea738c64d2904d62856b99c5062087a0",
        "IPY_MODEL_b7e55fb40850437a9dbb6eed95452fc4"
       ],
       "layout": "IPY_MODEL_6e680d83100c4dad8ff099f714924015"
      }
     },
     "c656f312e7a94be5925501a492e48d88": {
      "model_module": "@jupyter-widgets/controls",
      "model_module_version": "1.5.0",
      "model_name": "VBoxModel",
      "state": {
       "children": [
        "IPY_MODEL_1c4b573a2cc049c29bafa18d0746d983",
        "IPY_MODEL_96e9073885c14c1a81a07d8eb74e6ab2",
        "IPY_MODEL_af36c390da33499985620855cd641f09"
       ],
       "layout": "IPY_MODEL_31b4f0f2610149e088461a3e9746fe2a"
      }
     },
     "c6d33ccfc86f43eda8863125d6428fca": {
      "model_module": "@jupyter-widgets/controls",
      "model_module_version": "1.5.0",
      "model_name": "FloatSliderModel",
      "state": {
       "description": "Frequency",
       "layout": "IPY_MODEL_3cc3c0d6cfa54d558a2fafef936be3b5",
       "max": 600,
       "min": 100,
       "step": 10,
       "style": "IPY_MODEL_0e3822eb21f74aeea64bf951d4cf1552",
       "value": 220
      }
     },
     "c71f379282b94ad68ac9561412e8491f": {
      "model_module": "@jupyter-widgets/base",
      "model_module_version": "1.2.0",
      "model_name": "LayoutModel",
      "state": {}
     },
     "c8884b29f4814dbebc2e684bccf988d3": {
      "model_module": "@jupyter-widgets/base",
      "model_module_version": "1.2.0",
      "model_name": "LayoutModel",
      "state": {}
     },
     "cbb4bbde6aa940dfa7a42403edc158ba": {
      "model_module": "@jupyter-widgets/base",
      "model_module_version": "1.2.0",
      "model_name": "LayoutModel",
      "state": {}
     },
     "cd0c55af91bc48f1a9978cb47262f0ab": {
      "model_module": "@jupyter-widgets/base",
      "model_module_version": "1.2.0",
      "model_name": "LayoutModel",
      "state": {
       "border": "solid 1px black",
       "margin": "0px 10px 10px 0px",
       "padding": "5px 5px 5px 5px"
      }
     },
     "cd1e45ab659d4744afcf005647225e9b": {
      "model_module": "@jupyter-widgets/controls",
      "model_module_version": "1.5.0",
      "model_name": "SliderStyleModel",
      "state": {
       "description_width": ""
      }
     },
     "ce27a27f7fdb4ec3b59e6dddcd07cd0a": {
      "model_module": "@jupyter-widgets/controls",
      "model_module_version": "1.5.0",
      "model_name": "VBoxModel",
      "state": {
       "_dom_classes": [
        "widget-interact"
       ],
       "children": [
        "IPY_MODEL_25821694f64c4c0b80c175ddc16bc340",
        "IPY_MODEL_5d48f6bbba54478294ea2b06b6a039ed"
       ],
       "layout": "IPY_MODEL_8f4ed9a5f2ef48779bbd39c6df6f54e8"
      }
     },
     "d06ea8ecb25d47e09f778f92785cb097": {
      "model_module": "@jupyter-widgets/controls",
      "model_module_version": "1.5.0",
      "model_name": "DescriptionStyleModel",
      "state": {
       "description_width": ""
      }
     },
     "d24801d61a3a4d5eb37bc97b7fb6fc1c": {
      "model_module": "@jupyter-widgets/base",
      "model_module_version": "1.2.0",
      "model_name": "LayoutModel",
      "state": {}
     },
     "d285a13c8e99410d9df1c89f1d74b63f": {
      "model_module": "@jupyter-widgets/output",
      "model_module_version": "1.0.0",
      "model_name": "OutputModel",
      "state": {
       "layout": "IPY_MODEL_0b19e465d067466a93bbb3a647b5cb32",
       "outputs": [
        {
         "name": "stdout",
         "output_type": "stream",
         "text": "Audio playing unnormalized\n"
        }
       ]
      }
     },
     "d53a78e7beed4139b082e1b39bd65268": {
      "model_module": "@jupyter-widgets/controls",
      "model_module_version": "1.5.0",
      "model_name": "IntSliderModel",
      "state": {
       "description": "w",
       "layout": "IPY_MODEL_41ad7315ed2f46ff9b34306b716c357d",
       "max": 10,
       "style": "IPY_MODEL_4c0c369d1e7643c0935fd4c8e43bae7f",
       "value": 1
      }
     },
     "d62abd5ebe664cf6a100883105073eef": {
      "model_module": "@jupyter-widgets/controls",
      "model_module_version": "1.5.0",
      "model_name": "SliderStyleModel",
      "state": {
       "description_width": ""
      }
     },
     "d686ac31c87a43a2aa31f4b9233e26b2": {
      "model_module": "@jupyter-widgets/base",
      "model_module_version": "1.2.0",
      "model_name": "LayoutModel",
      "state": {}
     },
     "d6c38f5b275340b5ab4589d249142a03": {
      "model_module": "@jupyter-widgets/output",
      "model_module_version": "1.0.0",
      "model_name": "OutputModel",
      "state": {
       "layout": "IPY_MODEL_a027fb79afaf4ae58f8ece3d43c83fd7",
       "outputs": [
        {
         "data": {
          "image/png": "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\n",
          "text/plain": "<Figure size 432x288 with 1 Axes>"
         },
         "metadata": {
          "needs_background": "light"
         },
         "output_type": "display_data"
        }
       ]
      }
     },
     "dbf75150adf84d1285c6ff336b8ab2ee": {
      "model_module": "@jupyter-widgets/base",
      "model_module_version": "1.2.0",
      "model_name": "LayoutModel",
      "state": {}
     },
     "dc308d4d3a2945318e2222066fe01329": {
      "model_module": "@jupyter-widgets/base",
      "model_module_version": "1.2.0",
      "model_name": "LayoutModel",
      "state": {}
     },
     "dcf6b19685044054953f533e5e6ac374": {
      "model_module": "@jupyter-widgets/base",
      "model_module_version": "1.2.0",
      "model_name": "LayoutModel",
      "state": {}
     },
     "e02ff3e6d6b5446e9d63a9b5cb94a0ef": {
      "model_module": "@jupyter-widgets/base",
      "model_module_version": "1.2.0",
      "model_name": "LayoutModel",
      "state": {}
     },
     "e1239ee1386647eaa7b02991bb543188": {
      "model_module": "@jupyter-widgets/base",
      "model_module_version": "1.2.0",
      "model_name": "LayoutModel",
      "state": {
       "border": "solid 1px black",
       "height": "100%",
       "margin": "0px 10px 10px 0px",
       "padding": "5px 5px 5px 5px",
       "width": "50%"
      }
     },
     "e3407d890ff84ce780926bdb3414c671": {
      "model_module": "@jupyter-widgets/controls",
      "model_module_version": "1.5.0",
      "model_name": "HBoxModel",
      "state": {
       "children": [
        "IPY_MODEL_352d8884d5234961ac825540612b4b7c",
        "IPY_MODEL_85afff73f8334fbabce592bda15793e8"
       ],
       "layout": "IPY_MODEL_dcf6b19685044054953f533e5e6ac374"
      }
     },
     "e39b1a8a2be74d918505d47bc6f81d05": {
      "model_module": "@jupyter-widgets/controls",
      "model_module_version": "1.5.0",
      "model_name": "VBoxModel",
      "state": {
       "children": [
        "IPY_MODEL_19dfafbc2a09448ab3e5837e776dbe68",
        "IPY_MODEL_983a774a3ec346ca911228184af185fa",
        "IPY_MODEL_868c40b86998440ba9de9cbda00a45ea",
        "IPY_MODEL_5e99a0f3865849fbb3a85180b67b9a97"
       ],
       "layout": "IPY_MODEL_61b2c75d936c442da3fec752ef6ac180"
      }
     },
     "e45077735f3f4eb29bea86c005fbeb21": {
      "model_module": "@jupyter-widgets/controls",
      "model_module_version": "1.5.0",
      "model_name": "SliderStyleModel",
      "state": {
       "description_width": ""
      }
     },
     "e605a6ac33d34a73977682310c64fc86": {
      "model_module": "@jupyter-widgets/base",
      "model_module_version": "1.2.0",
      "model_name": "LayoutModel",
      "state": {}
     },
     "e61b383942754efd87a3495c8adc22d1": {
      "model_module": "@jupyter-widgets/controls",
      "model_module_version": "1.5.0",
      "model_name": "FloatSliderModel",
      "state": {
       "description": "phi",
       "layout": "IPY_MODEL_02133063a81144dd85fc11a407e43710",
       "max": 6.293185307179586,
       "step": 0.01,
       "style": "IPY_MODEL_2df5dc5ba6fd47cf94ecf5e395539251"
      }
     },
     "e6d03a6ac1bb4d65b63bc55eec02f634": {
      "model_module": "@jupyter-widgets/controls",
      "model_module_version": "1.5.0",
      "model_name": "VBoxModel",
      "state": {
       "children": [
        "IPY_MODEL_1ba82737b2cb4a03a7cbcd89b17757a2",
        "IPY_MODEL_95a839a8ae1844019b4c6c8b0c92480c",
        "IPY_MODEL_a5ccadee6f6345b8ba0b094a56c920db"
       ],
       "layout": "IPY_MODEL_a64ce0488fe842e7ada78f43858086e4"
      }
     },
     "e6d71ae18d0843e892072aa66d3ba233": {
      "model_module": "@jupyter-widgets/controls",
      "model_module_version": "1.5.0",
      "model_name": "ColorPickerModel",
      "state": {
       "description": "pick a color",
       "disabled": false,
       "layout": "IPY_MODEL_69e3b2bc74804664a6365f15d570e527",
       "style": "IPY_MODEL_13dfab6749574cb3b403bca38dd864f7",
       "value": "#FF00DD"
      }
     },
     "e706ed334f5c4ea5a2e317c8633234b0": {
      "model_module": "@jupyter-widgets/controls",
      "model_module_version": "1.5.0",
      "model_name": "FloatSliderModel",
      "state": {
       "description": "amp",
       "layout": "IPY_MODEL_9eadf23c76ca4c859570ed04a286050b",
       "max": 4,
       "step": 0.1,
       "style": "IPY_MODEL_b5bd1a706c40422f889fbf50a5f4f2ba",
       "value": 1
      }
     },
     "e8529185abf14052ab5bb69e98aa20eb": {
      "model_module": "@jupyter-widgets/controls",
      "model_module_version": "1.5.0",
      "model_name": "DescriptionStyleModel",
      "state": {
       "description_width": ""
      }
     },
     "e8e66d9eaf9946ddbd417fc098d3d02c": {
      "model_module": "@jupyter-widgets/base",
      "model_module_version": "1.2.0",
      "model_name": "LayoutModel",
      "state": {}
     },
     "e938304f60f54bf9a4f90eeb2fdf9892": {
      "model_module": "@jupyter-widgets/controls",
      "model_module_version": "1.5.0",
      "model_name": "SliderStyleModel",
      "state": {
       "description_width": ""
      }
     },
     "e99c9fc4838c4ea494305d7e7f3d755c": {
      "model_module": "@jupyter-widgets/output",
      "model_module_version": "1.0.0",
      "model_name": "OutputModel",
      "state": {
       "layout": "IPY_MODEL_e02ff3e6d6b5446e9d63a9b5cb94a0ef",
       "outputs": [
        {
         "data": {
          "text/plain": "<Figure size 432x288 with 0 Axes>"
         },
         "metadata": {},
         "output_type": "display_data"
        }
       ]
      }
     },
     "ea47cdbd61784d0582b70601bb765bf0": {
      "model_module": "@jupyter-widgets/controls",
      "model_module_version": "1.5.0",
      "model_name": "IntSliderModel",
      "state": {
       "description": "w",
       "layout": "IPY_MODEL_c8884b29f4814dbebc2e684bccf988d3",
       "max": 10,
       "style": "IPY_MODEL_f739ce450340437494e3df5dc315c0cb",
       "value": 1
      }
     },
     "ea738c64d2904d62856b99c5062087a0": {
      "model_module": "@jupyter-widgets/controls",
      "model_module_version": "1.5.0",
      "model_name": "TextModel",
      "state": {
       "continuous_update": false,
       "description": "xlabel",
       "layout": "IPY_MODEL_d686ac31c87a43a2aa31f4b9233e26b2",
       "style": "IPY_MODEL_76f3c1bb95ef46efac3076fb5ad56e91",
       "value": "x"
      }
     },
     "f0b4f6f1131d463593f941a8413a5088": {
      "model_module": "@jupyter-widgets/output",
      "model_module_version": "1.0.0",
      "model_name": "OutputModel",
      "state": {
       "layout": "IPY_MODEL_dc308d4d3a2945318e2222066fe01329",
       "outputs": [
        {
         "data": {
          "text/html": "\n                <audio  controls=\"controls\" autoplay=\"autoplay\">\n                    <source src=\"data:audio/wav;base64,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\" type=\"audio/wav\" />\n                    Your browser does not support the audio element.\n                </audio>\n              ",
          "text/plain": "<IPython.lib.display.Audio object>"
         },
         "metadata": {},
         "output_type": "display_data"
        }
       ]
      }
     },
     "f1bf7dafdf2b4e74a8c3b5bde0a4c8c8": {
      "model_module": "@jupyter-widgets/base",
      "model_module_version": "1.2.0",
      "model_name": "LayoutModel",
      "state": {}
     },
     "f1e3a3778a9f402a99958ea0cf99bb1b": {
      "model_module": "@jupyter-widgets/controls",
      "model_module_version": "1.5.0",
      "model_name": "SliderStyleModel",
      "state": {
       "description_width": ""
      }
     },
     "f218c76fd32b40aa8d3c558ac059238e": {
      "model_module": "@jupyter-widgets/base",
      "model_module_version": "1.2.0",
      "model_name": "LayoutModel",
      "state": {}
     },
     "f3dd13e62c4343eb8fd6931a1d1ef0b3": {
      "model_module": "@jupyter-widgets/controls",
      "model_module_version": "1.5.0",
      "model_name": "VBoxModel",
      "state": {
       "_dom_classes": [
        "widget-interact"
       ],
       "children": [
        "IPY_MODEL_38e7c075b8f64be789d904dc32e2e24b",
        "IPY_MODEL_e706ed334f5c4ea5a2e317c8633234b0",
        "IPY_MODEL_93117ac15f53447fb1b283a2d3c1bf80",
        "IPY_MODEL_e99c9fc4838c4ea494305d7e7f3d755c"
       ],
       "layout": "IPY_MODEL_b0653e365e5f4e92bfc3a52c22d34bb9"
      }
     },
     "f739ce450340437494e3df5dc315c0cb": {
      "model_module": "@jupyter-widgets/controls",
      "model_module_version": "1.5.0",
      "model_name": "SliderStyleModel",
      "state": {
       "description_width": ""
      }
     },
     "f8c1a8b9189649858b86c1315cdb47d1": {
      "model_module": "@jupyter-widgets/base",
      "model_module_version": "1.2.0",
      "model_name": "LayoutModel",
      "state": {}
     },
     "f91c780a2db049bf856d0831a3068b57": {
      "model_module": "@jupyter-widgets/controls",
      "model_module_version": "1.5.0",
      "model_name": "VBoxModel",
      "state": {
       "children": [
        "IPY_MODEL_fde9119b83184fe5ac37b1133aacfb06",
        "IPY_MODEL_28bcd59cca7042fe954e6cff2483193a"
       ],
       "layout": "IPY_MODEL_61b2c75d936c442da3fec752ef6ac180"
      }
     },
     "f924f46df6e94cddbce33f58c68a5e7b": {
      "model_module": "@jupyter-widgets/controls",
      "model_module_version": "1.5.0",
      "model_name": "VBoxModel",
      "state": {
       "children": [
        "IPY_MODEL_5a9feb36ea84447895db57e51439bb13",
        "IPY_MODEL_3be7b48438da4f24a5861eef123b13b9",
        "IPY_MODEL_c6d33ccfc86f43eda8863125d6428fca",
        "IPY_MODEL_fc0cad256aab4804ab80200a6ec992bd"
       ],
       "layout": "IPY_MODEL_2b8e65803e244624ab09eccbca646b06"
      }
     },
     "f97b3c50ff3d4bcdba1900672c6e866b": {
      "model_module": "@jupyter-widgets/controls",
      "model_module_version": "1.5.0",
      "model_name": "HBoxModel",
      "state": {
       "children": [
        "IPY_MODEL_c57f1d32d2464d8895e99bc6ff1d61d3",
        "IPY_MODEL_25529859e4cb491aaac23787a2d6bed1"
       ],
       "layout": "IPY_MODEL_5b3673099ef34c068a75a1bd1302d4bc"
      }
     },
     "fa159ab79e4c42199fc90192891a609f": {
      "model_module": "@jupyter-widgets/controls",
      "model_module_version": "1.5.0",
      "model_name": "VBoxModel",
      "state": {
       "children": [
        "IPY_MODEL_e39b1a8a2be74d918505d47bc6f81d05",
        "IPY_MODEL_f91c780a2db049bf856d0831a3068b57"
       ],
       "layout": "IPY_MODEL_61b2c75d936c442da3fec752ef6ac180"
      }
     },
     "fa7218429eee4767bea532fa291d07f9": {
      "model_module": "@jupyter-widgets/base",
      "model_module_version": "1.2.0",
      "model_name": "LayoutModel",
      "state": {}
     },
     "fc0cad256aab4804ab80200a6ec992bd": {
      "model_module": "@jupyter-widgets/controls",
      "model_module_version": "1.5.0",
      "model_name": "FloatSliderModel",
      "state": {
       "continuous_update": false,
       "description": "Duration",
       "layout": "IPY_MODEL_b3e9584ed14242cd8e9e9c031f1ec757",
       "max": 0.4,
       "min": 0.1,
       "step": 0.05,
       "style": "IPY_MODEL_fccf92daaa154135aa67815065dc5843",
       "value": 0.2
      }
     },
     "fc3f84fedaed45f79c8c7cce64d50b4b": {
      "model_module": "@jupyter-widgets/base",
      "model_module_version": "1.2.0",
      "model_name": "LayoutModel",
      "state": {}
     },
     "fccf92daaa154135aa67815065dc5843": {
      "model_module": "@jupyter-widgets/controls",
      "model_module_version": "1.5.0",
      "model_name": "SliderStyleModel",
      "state": {
       "description_width": ""
      }
     },
     "fcea2f522e8d4f4996966a02741dfb68": {
      "model_module": "@jupyter-widgets/controls",
      "model_module_version": "1.5.0",
      "model_name": "FloatSliderModel",
      "state": {
       "description": "Frequency",
       "layout": "IPY_MODEL_f8c1a8b9189649858b86c1315cdb47d1",
       "max": 500,
       "min": 50,
       "step": 5,
       "style": "IPY_MODEL_721529ba59c94005a9ed4c9d0ff9f4d8",
       "value": 200
      }
     },
     "fde4539767594a99b1c21301673946b7": {
      "model_module": "@jupyter-widgets/controls",
      "model_module_version": "1.5.0",
      "model_name": "SliderStyleModel",
      "state": {
       "description_width": ""
      }
     },
     "fde9119b83184fe5ac37b1133aacfb06": {
      "model_module": "@jupyter-widgets/output",
      "model_module_version": "1.0.0",
      "model_name": "OutputModel",
      "state": {
       "layout": "IPY_MODEL_9d50d68f22f6495c990c7421d9712f4f",
       "outputs": [
        {
         "data": {
          "text/html": "\n                <audio  controls=\"controls\" autoplay=\"autoplay\">\n                    <source src=\"data:audio/wav;base64,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\" type=\"audio/wav\" />\n                    Your browser does not support the audio element.\n                </audio>\n              ",
          "text/plain": "<IPython.lib.display.Audio object>"
         },
         "metadata": {},
         "output_type": "display_data"
        }
       ]
      }
     },
     "fe12bb3705164f859cf189210d03beae": {
      "model_module": "@jupyter-widgets/base",
      "model_module_version": "1.2.0",
      "model_name": "LayoutModel",
      "state": {}
     },
     "ff2142b7bfc04a2aaa7551a76495dae2": {
      "model_module": "@jupyter-widgets/controls",
      "model_module_version": "1.5.0",
      "model_name": "SliderStyleModel",
      "state": {
       "description_width": ""
      }
     }
    },
    "version_major": 2,
    "version_minor": 0
   }
  }
 },
 "nbformat": 4,
 "nbformat_minor": 4
}
