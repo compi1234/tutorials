{
 "cells": [
  {
   "cell_type": "markdown",
   "metadata": {},
   "source": [
    "# Interactive plots in Jupyter notebooks with matplotlib and ipywidgets\n",
    "## PART I: matplotlib inline backend\n",
    "\n",
    "Author: DVC  \n",
    "Date: 01/12/2020   \n"
   ]
  },
  {
   "cell_type": "markdown",
   "metadata": {},
   "source": [
    "### Using the inline backend with a GUI ?\n",
    "\n",
    "The matplotlib inline backend is described as a **non-GUI** backend.  So, why do we insist on using it with a (simple) GUI ?    \n",
    "- it is the most commonly used backend \n",
    "- it is probably the only backend that behaves consistently across platforms  \n",
    "- what works with the inline backend is almost guaranteed to work with any other backend\n",
    "- we often need something more fancy than just typing in cells as provided natively in our Jupyter notebooks\n",
    "\n",
    "What are the opportunities and limitations with the inline backend ?  \n",
    "- the basic (ipy)widgets work fine in the inline backend, creating some possibilities\n",
    "- figures are not accessible after being rendered hence they can not be manipulated\n",
    "- interactivity can only be simulated by redrawing the full figure after each change\n",
    "    + this is not an issue with slow updates of the controls\n",
    "    + visual glitches from the clear-and-redraw cycle are inevitable\n",
    "    + computational load quickly increases for complex applications\n",
    "    + be aware that a figure is NOT closed after rendering"
   ]
  },
  {
   "cell_type": "code",
   "execution_count": 1,
   "metadata": {},
   "outputs": [],
   "source": [
    "%matplotlib inline"
   ]
  },
  {
   "cell_type": "code",
   "execution_count": 2,
   "metadata": {},
   "outputs": [],
   "source": [
    "import ipywidgets as widgets\n",
    "from ipywidgets import interact, interact_manual, interactive\n",
    "import numpy as np\n",
    "import matplotlib.pyplot as plt\n",
    "from scipy import signal\n",
    "import IPython.display as ipd"
   ]
  },
  {
   "cell_type": "code",
   "execution_count": 3,
   "metadata": {},
   "outputs": [],
   "source": [
    "# any of these could be useful during debugging, but not needed if all is running fine\n",
    "#\n",
    "#%matplotlib --list\n",
    "#ipd.set_matplotlib_close(close=True)\n",
    "#plt.close('all')"
   ]
  },
  {
   "cell_type": "markdown",
   "metadata": {},
   "source": [
    "# 1. Updating Figures using a CLEAR-PLOT cycle\n",
    "### 1.1 Using interact() for the most simple interfaces"
   ]
  },
  {
   "cell_type": "code",
   "execution_count": 4,
   "metadata": {},
   "outputs": [],
   "source": [
    "plt.close('all')\n",
    "def my_sine(x, w, amp, phi):\n",
    "    return amp*np.sin(w * (x-phi))\n",
    "#\n",
    "def synth(type='sin', freq=200.0, Fs=8000, Tmax=0.5):\n",
    "    t = np.linspace(0.0, Tmax, int(Tmax*Fs), endpoint=False)\n",
    "    if type == 'sin':\n",
    "        x = np.sin(2.0*np.pi*freq*t)\n",
    "    elif type == 'square':\n",
    "        x = signal.square(2.0*np.pi*freq*t)\n",
    "    elif type == 'sawtooth':\n",
    "        x = signal.sawtooth(2.0*np.pi*freq*t)\n",
    "    else:\n",
    "        print( 'signal: Unrecognized signal type')\n",
    "    return x, t"
   ]
  },
  {
   "cell_type": "code",
   "execution_count": 5,
   "metadata": {},
   "outputs": [
    {
     "data": {
      "text/plain": [
       "<Figure size 216x216 with 0 Axes>"
      ]
     },
     "metadata": {},
     "output_type": "display_data"
    },
    {
     "data": {
      "application/vnd.jupyter.widget-view+json": {
       "model_id": "ca60c10466f1476bb1622b28797464ff",
       "version_major": 2,
       "version_minor": 0
      },
      "text/plain": [
       "interactive(children=(IntSlider(value=1, description='w', max=10), FloatSlider(value=1.0, description='amp', m…"
      ]
     },
     "metadata": {},
     "output_type": "display_data"
    }
   ],
   "source": [
    "# Methodology:\n",
    "# ============\n",
    "#  1. Create the Figure\n",
    "#  2. Use interact() for the interactive Loop:\n",
    "#       (a) CLEAR FIGURE\n",
    "#       (b) PLOT AGAIN with each interaction\n",
    "#\n",
    "# REMARK: \n",
    "#   AVOID following loop construction:\n",
    "#      (a) create a figure\n",
    "#      (b) draw to the figure\n",
    "#   At first sight it behaves the same, but a new figure is created each time\n",
    "#   and after some time you will run out of available figures as they are not closed automatically\n",
    "\n",
    "x = np.linspace(0, 2 * np.pi, 100)\n",
    "fig = plt.figure(figsize=(3,3))\n",
    "\n",
    "@interact(w=(0, 10, 1), amp=(0, 4, .1), phi=(0, 2*np.pi, 0.01))\n",
    "def update(w = 1.0, amp=1, phi=0):\n",
    "    # clear the figure and start over\n",
    "    plt.clf()\n",
    "    plt.plot(x, my_sine(x, w, amp, phi), color='C0')\n",
    "    plt.ylim([-4, 4])\n",
    "    plt.grid(True)"
   ]
  },
  {
   "cell_type": "markdown",
   "metadata": {},
   "source": [
    "### Using interactive_output() for more control over the layout "
   ]
  },
  {
   "cell_type": "code",
   "execution_count": 37,
   "metadata": {},
   "outputs": [
    {
     "data": {
      "text/plain": [
       "<Figure size 216x216 with 0 Axes>"
      ]
     },
     "metadata": {},
     "output_type": "display_data"
    },
    {
     "data": {
      "application/vnd.jupyter.widget-view+json": {
       "model_id": "4d880ae1a25444959fc329504134b17d",
       "version_major": 2,
       "version_minor": 0
      },
      "text/plain": [
       "VBox(children=(HBox(children=(FloatSlider(value=0.5, description='Amplitude', max=1.0, step=0.05), FloatSlider…"
      ]
     },
     "metadata": {},
     "output_type": "display_data"
    }
   ],
   "source": [
    "# create the sliders for interaction\n",
    "wg_amp = widgets.FloatSlider(value=0.5,step=0.05,max=1.0,description='Amplitude')\n",
    "wg_freq = widgets.FloatSlider(value=1.0,step=.1,min=200.0,max=1000.,description='Frequency')\n",
    "wg_Tmax = widgets.FloatSlider(value=0.4,step=0.1,min=0.1,max=1.0,description='Duration',\n",
    "                             continuous_update=False)\n",
    "UI = widgets.HBox( [wg_amp, wg_freq, wg_Tmax])\n",
    "\n",
    "# create two output widgets, one for audio and one for plotting\n",
    "out_audio = widgets.Output()\n",
    "#out_plot = widgets.Output()\n",
    "with out_plot:\n",
    "    fig = plt.figure(figsize=(3,3))\n",
    "\n",
    "def sin_gui1(amp=1., freq=440.0, Tmax=1.0):\n",
    "#    with out_plot:\n",
    "    plt.clf()\n",
    "    y,x = synth('sin',freq=freq,Tmax=Tmax)\n",
    "    y=amp*y\n",
    "    plt.plot(x, y, color='C0')\n",
    "    plt.ylim([-3, 3])\n",
    "    plt.grid(True)\n",
    "    with out_audio:\n",
    "        try:\n",
    "            ipd.clear_output()\n",
    "            ipd.display(ipd.Audio(data=y,rate=samplerate,normalize=False, autoplay=True))\n",
    "        except: pass\n",
    "           \n",
    "out_plot = widgets.interactive_output(sin_gui1, {'amp': wg_amp, 'freq': wg_freq, 'Tmax': wg_Tmax})\n",
    "\n",
    "Screen = widgets.HBox([ out_plot, out_audio])\n",
    "widgets.VBox([ UI, Screen ])"
   ]
  },
  {
   "cell_type": "code",
   "execution_count": 33,
   "metadata": {},
   "outputs": [
    {
     "ename": "AttributeError",
     "evalue": "'Output' object has no attribute 'children'",
     "output_type": "error",
     "traceback": [
      "\u001b[1;31m---------------------------------------------------------------------------\u001b[0m",
      "\u001b[1;31mAttributeError\u001b[0m                            Traceback (most recent call last)",
      "\u001b[1;32m<ipython-input-33-1c0b6680d877>\u001b[0m in \u001b[0;36m<module>\u001b[1;34m\u001b[0m\n\u001b[1;32m----> 1\u001b[1;33m \u001b[0mout_plot\u001b[0m\u001b[1;33m.\u001b[0m\u001b[0mchildren\u001b[0m\u001b[1;33m\u001b[0m\u001b[1;33m\u001b[0m\u001b[0m\n\u001b[0m",
      "\u001b[1;31mAttributeError\u001b[0m: 'Output' object has no attribute 'children'"
     ]
    }
   ],
   "source": [
    "out_plot.children"
   ]
  },
  {
   "cell_type": "code",
   "execution_count": 7,
   "metadata": {},
   "outputs": [
    {
     "name": "stderr",
     "output_type": "stream",
     "text": [
      "<ipython-input-7-6ebedab27258>:1: UserWarning: Matplotlib is currently using module://ipykernel.pylab.backend_inline, which is a non-GUI backend, so cannot show the figure.\n",
      "  fig.show()\n"
     ]
    }
   ],
   "source": [
    "fig.show()"
   ]
  },
  {
   "cell_type": "code",
   "execution_count": 8,
   "metadata": {},
   "outputs": [
    {
     "data": {
      "image/png": "[encoded data removed]",
      "text/plain": [
       "<Figure size 216x216 with 1 Axes>"
      ]
     },
     "metadata": {
      "needs_background": "light"
     },
     "output_type": "display_data"
    },
    {
     "data": {
      "application/vnd.jupyter.widget-view+json": {
       "model_id": "a196c20028c947cbbba12d6415063735",
       "version_major": 2,
       "version_minor": 0
      },
      "text/plain": [
       "interactive(children=(IntSlider(value=1, description='w', max=10), FloatSlider(value=1.0, description='amp', m…"
      ]
     },
     "metadata": {},
     "output_type": "display_data"
    }
   ],
   "source": [
    "# Method 2: CLEAR selected axes and redraw with each operation (use OO API)\n",
    "# BACKENDS: NOT for INLINE !\n",
    "def my_sine(x, w, amp, phi):\n",
    "    return amp*np.sin(w * (x-phi))\n",
    "#\n",
    "x = np.linspace(0, 2 * np.pi, 100)\n",
    "fig, ax = plt.subplots(figsize=(3, 3))\n",
    "\n",
    "@interact(w=(0, 10, 1), amp=(0, 4, .1), phi=(0, 2*np.pi, 0.01))\n",
    "def update(w = 1.0, amp=1, phi=0):\n",
    "    plt.cla()\n",
    "    ax.plot(x, my_sine(x, w, amp, phi), color='C0')\n",
    "    ax.set_ylim([-4, 4])\n",
    "    ax.grid(True)"
   ]
  },
  {
   "cell_type": "code",
   "execution_count": 9,
   "metadata": {},
   "outputs": [
    {
     "data": {
      "image/png": "[encoded data removed]",
      "text/plain": [
       "<Figure size 288x288 with 1 Axes>"
      ]
     },
     "metadata": {
      "needs_background": "light"
     },
     "output_type": "display_data"
    },
    {
     "data": {
      "application/vnd.jupyter.widget-view+json": {
       "model_id": "109f53eebf894e38aced29f69e7b6be0",
       "version_major": 2,
       "version_minor": 0
      },
      "text/plain": [
       "interactive(children=(IntSlider(value=1, description='w', max=10), FloatSlider(value=1.0, description='amp', m…"
      ]
     },
     "metadata": {},
     "output_type": "display_data"
    }
   ],
   "source": [
    "# Method 3: Only update line data inside existing axis\n",
    "# BACKENDS: NOT for INLINE !\n",
    "# \n",
    "\n",
    "def my_sine(x, w, amp, phi):\n",
    "    return amp*np.sin(w * (x-phi))\n",
    "#\n",
    "x = np.linspace(0, 2 * np.pi, 100)\n",
    "fig, ax = plt.subplots(figsize=(4, 4))\n",
    "ax.set_ylim([-4, 4])\n",
    "ax.grid(True)\n",
    "\n",
    "@interact(w=(0, 10, 1), amp=(0, 4, .1), phi=(0, 2*np.pi, 0.01))\n",
    "def update(w = 1.0, amp=1, phi=0):\n",
    "    \"\"\"Remove old lines from plot and plot new one\"\"\"\n",
    "    [l.remove() for l in ax.lines]\n",
    "    ax.plot(x, my_sine(x, w, amp, phi), color='C0')"
   ]
  },
  {
   "cell_type": "markdown",
   "metadata": {},
   "source": [
    "## Updating the plot line data"
   ]
  },
  {
   "cell_type": "code",
   "execution_count": 10,
   "metadata": {},
   "outputs": [
    {
     "data": {
      "image/png": "[encoded data removed]",
      "text/plain": [
       "<Figure size 288x288 with 1 Axes>"
      ]
     },
     "metadata": {
      "needs_background": "light"
     },
     "output_type": "display_data"
    },
    {
     "data": {
      "application/vnd.jupyter.widget-view+json": {
       "model_id": "42278a5ec6054f2f9fd6b527a8d8a6e4",
       "version_major": 2,
       "version_minor": 0
      },
      "text/plain": [
       "interactive(children=(IntSlider(value=1, description='w', max=10), FloatSlider(value=1.0, description='amp', m…"
      ]
     },
     "metadata": {},
     "output_type": "display_data"
    }
   ],
   "source": [
    "# Method 3b: maintain the figure and just refresh the changed data\n",
    "#    1) create a figure  \n",
    "#    2)  just update the y_data if you may assume that the x_data hasn't changed; \n",
    "#          between calls \n",
    "#\n",
    "# BACKENDS: all, except 'inline'  \n",
    "# \n",
    "\n",
    "def my_sine(x, w, amp, phi):\n",
    "    \"\"\"\n",
    "    Return a sine for x with angular frequeny w and amplitude amp.\n",
    "    \"\"\"\n",
    "    return amp*np.sin(w * (x-phi))\n",
    "x = np.linspace(0, 2 * np.pi, 100)\n",
    "\n",
    "#\n",
    "fig, ax = plt.subplots(figsize=(4, 4))\n",
    "ax.set_ylim([-4, 4])\n",
    "ax.grid(True)\n",
    "line, = ax.plot(x, my_sine(x, 0,0,0), color='C0')\n",
    "\n",
    "@interact(w=(0, 10, 1), amp=(0, 4, .1), phi=(0, 2*np.pi+0.01, 0.01))\n",
    "def update(w = 1.0, amp=1, phi=0):\n",
    "    \"\"\"change the ydata values \"\"\"\n",
    "    line.set_ydata( my_sine(x, w, amp, phi) )\n",
    "    fig.canvas.draw()\n",
    "    # fig.canvas.flush_events()"
   ]
  },
  {
   "cell_type": "code",
   "execution_count": 28,
   "metadata": {},
   "outputs": [
    {
     "data": {
      "text/plain": [
       "<Figure size 360x288 with 0 Axes>"
      ]
     },
     "metadata": {},
     "output_type": "display_data"
    },
    {
     "data": {
      "application/vnd.jupyter.widget-view+json": {
       "model_id": "6bcf960c51d04c048e1a7e7c2f1a33c0",
       "version_major": 2,
       "version_minor": 0
      },
      "text/plain": [
       "interactive(children=(Dropdown(description='Signal', options=('sin', 'square', 'sawtooth'), value='sin'), Floa…"
      ]
     },
     "metadata": {},
     "output_type": "display_data"
    },
    {
     "data": {
      "application/vnd.jupyter.widget-view+json": {
       "model_id": "1d78bd82210648d18c8f04348b9d521d",
       "version_major": 2,
       "version_minor": 0
      },
      "text/plain": [
       "Box(children=(Output(), Output()))"
      ]
     },
     "metadata": {},
     "output_type": "display_data"
    }
   ],
   "source": [
    "# a simple audio signal generator\n",
    "# with control for type amplitude, phase ... \n",
    "#\n",
    "# the audio is immediately generated and rendered\n",
    "#   continuous update are used for frequency and amplitude\n",
    "#   continuous_update=False is used for the duration widget\n",
    "# !! setting continuous_update is the only 'easy' control over frequency of update with interact()\n",
    "# !! more complex asynchronous implementations are suggested on the ipywidgets doc pages\n",
    "# !! under 'debouncing' and 'throttling' .. but this complicates the code significantly\n",
    "# https://ipywidgets.readthedocs.io/en/latest/examples/Widget%20Events.html?highlight=continuous_update#Continuous-updates\n",
    "# !! these solutions are not applicable to interact(), but require .observe() instead, see later\n",
    "#\n",
    "# as the x-axis needs to be modified with the duration\n",
    "#  it is more appropriate to do full redraws at every iteration\n",
    "#\n",
    "# BACKENDS: all\n",
    "#\n",
    "samplerate=8000\n",
    "def generate(type='sin', freq=200.0, Fs=samplerate, Tmax=0.5):\n",
    "    t = np.linspace(0.0, Tmax, int(Tmax*Fs), endpoint=False)\n",
    "    if type == 'sin':\n",
    "        x = np.sin(2.0*np.pi*freq*t)\n",
    "    elif type == 'square':\n",
    "        x = signal.square(2.0*np.pi*freq*t)\n",
    "    elif type == 'sawtooth':\n",
    "        x = signal.sawtooth(2.0*np.pi*freq*t)\n",
    "    else:\n",
    "        print( 'signal: Unrecognized signal type')\n",
    "    return x, t\n",
    "\n",
    "signal_types = [ 'sin', 'square', 'sawtooth' ]\n",
    "# alternative to Dropdown is to use RadioButtons\n",
    "wg_signal = widgets.Dropdown(options=signal_types,\n",
    "                             value='sin',description=\"Signal\")\n",
    "wg_amp = widgets.FloatSlider(value=0.5,step=0.05,max=1.0,description='Amplitude')\n",
    "wg_freq = widgets.FloatSlider(value=200.0,step=5.0,min=50.0,max=500.0,description='Frequency')\n",
    "wg_Tmax = widgets.FloatSlider(value=0.4,step=0.1,min=0.1,max=2.0,description='Duration',\n",
    "                             continuous_update=False)\n",
    "#wg_check = widgets.Checkbox(description='Display Play Button',value=True)\n",
    "wg_audio = widgets.Output()\n",
    "wg_plot = widgets.Output()\n",
    "with wg_plot:\n",
    "    fig = plt.figure(figsize=(5,4))\n",
    "first_time = True\n",
    "\n",
    "# in this example we use interact and full replotting\n",
    "# this seems to work well with ALL backends\n",
    "\n",
    "@interact(t=wg_signal,f=wg_freq,A=wg_amp,T=wg_Tmax)\n",
    "def plot_fn(t,f,A,T):\n",
    "    global first_time\n",
    "    x1, t1 = generate(freq=f,type=t,Tmax=T)\n",
    "    y1=A*x1\n",
    "    with wg_plot:\n",
    "        plt.cla()\n",
    "        plt.plot(t1,y1)\n",
    "        plt.ylim(-1,1)\n",
    "    with wg_audio:\n",
    "        ipd.clear_output()\n",
    "        ipd.display(ipd.Audio(data=y1,rate=samplerate,normalize=False, autoplay=True))\n",
    "    return\n",
    "\n",
    "#widgets.HBox( [widgets.VBox([wg_signal,wg_freq,wg_amp,wg_Tmax]),widgets.VBox([wg_plot,wg_audio])])\n",
    "widgets.Box( [wg_plot,wg_audio] )"
   ]
  },
  {
   "cell_type": "markdown",
   "metadata": {},
   "source": [
    "# 2. Using observe() and callbacks for more control over the interaction\n",
    "## The Output Widget, Widget Boxes, Observers, Classes, ... and fragile backends"
   ]
  },
  {
   "cell_type": "code",
   "execution_count": 12,
   "metadata": {},
   "outputs": [
    {
     "data": {
      "application/vnd.jupyter.widget-view+json": {
       "model_id": "1dae15378a4e4fc5971af2ca9d76090b",
       "version_major": 2,
       "version_minor": 0
      },
      "text/plain": [
       "HBox(children=(VBox(children=(IntSlider(value=1, description='freq', max=10), ColorPicker(value='#FF0000', des…"
      ]
     },
     "metadata": {},
     "output_type": "display_data"
    },
    {
     "data": {
      "image/png": "[encoded data removed]",
      "text/plain": [
       "<Figure size 288x288 with 1 Axes>"
      ]
     },
     "metadata": {
      "needs_background": "light"
     },
     "output_type": "display_data"
    }
   ],
   "source": [
    "# create some x data and plot it in the output widget\n",
    "# give control over data, axis, .. via control widgets using callbacks\n",
    "#\n",
    "x = np.linspace(0, 2 * np.pi, 100)\n",
    "output = widgets.Output() \n",
    "with output:\n",
    "    fig, ax = plt.subplots(constrained_layout=True, figsize=(4, 4))\n",
    "# move the toolbar to the bottom\n",
    "fig.canvas.toolbar_position = 'bottom'\n",
    "ax.grid(True)    \n",
    "line, = ax.plot(x, np.sin(x), '#FF0000')\n",
    "\n",
    "# create some control elements\n",
    "int_slider = widgets.IntSlider(value=1, min=0, max=10, step=1, description='freq')\n",
    "color_picker = widgets.ColorPicker(value='#FF0000', description='pick a color')\n",
    "text_xlabel = widgets.Text(value='', description='xlabel', continuous_update=False)\n",
    "text_ylabel = widgets.Text(value='', description='ylabel', continuous_update=False)\n",
    " \n",
    "# callback functions\n",
    "def update(change):\n",
    "    \"\"\"redraw line (update plot)\"\"\"\n",
    "    line.set_ydata(np.sin(change.new * x))\n",
    "    fig.canvas.draw()\n",
    "     \n",
    "def line_color(change):\n",
    "    \"\"\"set line color\"\"\"\n",
    "    line.set_color(change.new)\n",
    "     \n",
    "def update_xlabel(change):\n",
    "    ax.set_xlabel(change.new)\n",
    "     \n",
    "def update_ylabel(change):\n",
    "    ax.set_ylabel(change.new)\n",
    " \n",
    "# connect callbacks and traits\n",
    "int_slider.observe(update, 'value')\n",
    "color_picker.observe(line_color, 'value')\n",
    "text_xlabel.observe(update_xlabel, 'value')\n",
    "text_ylabel.observe(update_ylabel, 'value')\n",
    " \n",
    "text_xlabel.value = 'x'\n",
    "text_ylabel.value = 'y'\n",
    "controls = widgets.VBox([int_slider, color_picker, text_xlabel, text_ylabel])\n",
    "widgets.HBox([controls, output])"
   ]
  },
  {
   "cell_type": "markdown",
   "metadata": {},
   "source": [
    "## Packing components in a class\n",
    "### Leveraging the Output widget, observers, classes, ..\n",
    "### Dedicated to the 'widget' mpl backend\n",
    "\n",
    "This is a copy from the Kapernikov tutorial ( https://kapernikov.com/ipywidgets-with-matplotlib/ )\n",
    "\n",
    "To create more high level components, we can also subclass a container and build up our gui from within. Containers have a `children` property to which we can assign a list of widgets that should be displayed. Although, we can assign a list, this is turned into a tuple and cannot be modified afterwards.\n",
    "To remove or add a widget at runtime, the children tuple can be turned back into a list, followed by an insert or deletion and finalised by reassigning to the children property. Since it can be easy to make mistakes when going by index, I tend to add a placeholder box in which I only place the 'dynamic' widget.\n",
    "\n",
    "The example below, packs the entire oscilloscope 'dashboard' in a single component by subclassing `VBox`. All the required widgets are defined in the Sines class and added as its `children`. The callbacks are defined as instance methods. It may not be a masterpiece in object oriented programming, but hopefully it shows the idea of constructing larger reusable components. Note that, we need to call `super().__init__()` from `__init__` to properly initialise the parent class. "
   ]
  },
  {
   "cell_type": "code",
   "execution_count": 13,
   "metadata": {},
   "outputs": [
    {
     "data": {
      "application/vnd.jupyter.widget-view+json": {
       "model_id": "8a20d44680d74e1c95b416f2f682bd8a",
       "version_major": 2,
       "version_minor": 0
      },
      "text/plain": [
       "Sines(children=(VBox(children=(IntSlider(value=1, description='freq', max=10), ColorPicker(value='#FF00DD', de…"
      ]
     },
     "metadata": {},
     "output_type": "display_data"
    },
    {
     "data": {
      "image/png": "[encoded data removed]",
      "text/plain": [
       "<Figure size 360x252 with 1 Axes>"
      ]
     },
     "metadata": {
      "needs_background": "light"
     },
     "output_type": "display_data"
    }
   ],
   "source": [
    "def make_box_layout():\n",
    "     return widgets.Layout(\n",
    "        border='solid 1px black',\n",
    "        margin='0px 10px 10px 0px',\n",
    "        padding='5px 5px 5px 5px'\n",
    "     )\n",
    "\n",
    "class Sines(widgets.HBox):\n",
    "    \n",
    "    def __init__(self):\n",
    "        super().__init__()\n",
    "        output = widgets.Output()\n",
    "\n",
    "        self.x = np.linspace(0, 2 * np.pi, 100)\n",
    "        initial_color = '#FF00DD'\n",
    "\n",
    "        with output:\n",
    "            self.fig, self.ax = plt.subplots(constrained_layout=True, figsize=(5, 3.5))\n",
    "        self.line, = self.ax.plot(self.x, np.sin(self.x), initial_color)\n",
    "        \n",
    "        self.fig.canvas.toolbar_position = 'bottom'\n",
    "        self.ax.grid(True)\n",
    "\n",
    "        # define widgets\n",
    "        int_slider = widgets.IntSlider(\n",
    "            value=1, \n",
    "            min=0, \n",
    "            max=10, \n",
    "            step=1, \n",
    "            description='freq'\n",
    "        )\n",
    "        color_picker = widgets.ColorPicker(\n",
    "            value=initial_color, \n",
    "            description='pick a color'\n",
    "        )\n",
    "        text_xlabel = widgets.Text(\n",
    "            value='', \n",
    "            description='xlabel', \n",
    "            continuous_update=False\n",
    "        )\n",
    "        text_ylabel = widgets.Text(\n",
    "            value='', \n",
    "            description='ylabel', \n",
    "            continuous_update=False\n",
    "        )\n",
    "\n",
    "        controls = widgets.VBox([\n",
    "            int_slider, \n",
    "            color_picker, \n",
    "            text_xlabel, \n",
    "            text_ylabel\n",
    "        ])\n",
    "        controls.layout = make_box_layout()\n",
    "        \n",
    "        out_box = widgets.Box([output])\n",
    "        output.layout = make_box_layout()\n",
    "\n",
    "        # observe stuff\n",
    "        int_slider.observe(self.update, 'value')\n",
    "        color_picker.observe(self.line_color, 'value')\n",
    "        text_xlabel.observe(self.update_xlabel, 'value')\n",
    "        text_ylabel.observe(self.update_ylabel, 'value')\n",
    "        \n",
    "        text_xlabel.value = 'x'\n",
    "        text_ylabel.value = 'y'\n",
    "        \n",
    "\n",
    "        # add to children\n",
    "        self.children = [controls, output]\n",
    "    \n",
    "    def update(self, change):\n",
    "        \"\"\"Draw line in plot\"\"\"\n",
    "        self.line.set_ydata(np.sin(change.new * self.x))\n",
    "        self.fig.canvas.draw()\n",
    "\n",
    "    def line_color(self, change):\n",
    "        self.line.set_color(change.new)\n",
    "\n",
    "    def update_xlabel(self, change):\n",
    "        self.ax.set_xlabel(change.new)\n",
    "\n",
    "    def update_ylabel(self, change):\n",
    "        self.ax.set_ylabel(change.new)\n",
    "        \n",
    "        \n",
    "Sines()"
   ]
  },
  {
   "cell_type": "code",
   "execution_count": 14,
   "metadata": {},
   "outputs": [
    {
     "data": {
      "text/plain": [
       "<Figure size 216x216 with 0 Axes>"
      ]
     },
     "metadata": {},
     "output_type": "display_data"
    },
    {
     "data": {
      "application/vnd.jupyter.widget-view+json": {
       "model_id": "37cbba7703f246dda23a0d07c1dd3c2f",
       "version_major": 2,
       "version_minor": 0
      },
      "text/plain": [
       "interactive(children=(IntSlider(value=1, description='w', max=10), FloatSlider(value=1.0, description='amp', m…"
      ]
     },
     "metadata": {},
     "output_type": "display_data"
    }
   ],
   "source": [
    "# Method 2: CLEAR selected axes and redraw with each operation (use OO API)\n",
    "# BACKENDS: NOT for INLINE !\n",
    "def my_sine(x, w, amp, phi):\n",
    "    return amp*np.sin(w * (x-phi))\n",
    "#\n",
    "x = np.linspace(0, 2 * np.pi, 100)\n",
    "fig= plt.figure(figsize=(3, 3))\n",
    "\n",
    "@interact(w=(0, 10, 1), amp=(0, 4, .1), phi=(0, 2*np.pi, 0.01))\n",
    "def update(w = 1.0, amp=1, phi=0):\n",
    "    plt.clf()\n",
    "    gs = fig.add_gridspec(2, 1)\n",
    "    ax1 = fig.add_subplot(gs[0, 0])\n",
    "    ax2 = fig.add_subplot(gs[1, 0])\n",
    "    #ax = fig.add_axes()\n",
    "    ax1.plot(x, my_sine(x, w, amp, phi), color='C0')\n",
    "    ax1.set_ylim([-4, 4])\n",
    "    ax1.grid(True)\n",
    "    #plt.show()"
   ]
  },
  {
   "cell_type": "code",
   "execution_count": null,
   "metadata": {},
   "outputs": [],
   "source": []
  }
 ],
 "metadata": {
  "kernelspec": {
   "display_name": "Python 3",
   "language": "python",
   "name": "python3"
  },
  "language_info": {
   "codemirror_mode": {
    "name": "ipython",
    "version": 3
   },
   "file_extension": ".py",
   "mimetype": "text/x-python",
   "name": "python",
   "nbconvert_exporter": "python",
   "pygments_lexer": "ipython3",
   "version": "3.8.3"
  },
  "widgets": {
   "application/vnd.jupyter.widget-state+json": {
    "state": {
     "00ad3030694b4bd4aa26d09b6d179a8e": {
      "model_module": "@jupyter-widgets/controls",
      "model_module_version": "1.5.0",
      "model_name": "TextModel",
      "state": {
       "continuous_update": false,
       "description": "ylabel",
       "layout": "IPY_MODEL_255c56f6e65043608337f0e2e477543c",
       "style": "IPY_MODEL_472fa2bae7944253bf7875a7ba832ba1",
       "value": "y"
      }
     },
     "00bbf0f0e7324b509c051cd076d935c7": {
      "model_module": "@jupyter-widgets/controls",
      "model_module_version": "1.5.0",
      "model_name": "SliderStyleModel",
      "state": {
       "description_width": ""
      }
     },
     "00d3060a4d584f45bd953245f58c84b4": {
      "model_module": "@jupyter-widgets/base",
      "model_module_version": "1.2.0",
      "model_name": "LayoutModel",
      "state": {}
     },
     "02314d92f6964c1d9a487937559db41c": {
      "model_module": "@jupyter-widgets/output",
      "model_module_version": "1.0.0",
      "model_name": "OutputModel",
      "state": {
       "layout": "IPY_MODEL_cc632d80848f470898fa4f57daaea0ab",
       "outputs": [
        {
         "data": {
          "text/html": "\n                <audio  controls=\"controls\" autoplay=\"autoplay\">\n                    <source src=\"data:audio/wav;base64,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\" type=\"audio/wav\" />\n                    Your browser does not support the audio element.\n                </audio>\n              ",
          "text/plain": "<IPython.lib.display.Audio object>"
         },
         "metadata": {},
         "output_type": "display_data"
        }
       ]
      }
     },
     "02661ecc0eda4fe59deabd0c780c1119": {
      "model_module": "@jupyter-widgets/base",
      "model_module_version": "1.2.0",
      "model_name": "LayoutModel",
      "state": {}
     },
     "02b0575a42ce4f4daba5e02b97990503": {
      "model_module": "@jupyter-widgets/base",
      "model_module_version": "1.2.0",
      "model_name": "LayoutModel",
      "state": {}
     },
     "02c2bf6c219d432f8e18823e962dc638": {
      "model_module": "@jupyter-widgets/base",
      "model_module_version": "1.2.0",
      "model_name": "LayoutModel",
      "state": {}
     },
     "0320aacbe0494f99b4f9b80d7b5e170e": {
      "model_module": "@jupyter-widgets/base",
      "model_module_version": "1.2.0",
      "model_name": "LayoutModel",
      "state": {}
     },
     "033a223a3d384478ad1ce22773922161": {
      "model_module": "@jupyter-widgets/base",
      "model_module_version": "1.2.0",
      "model_name": "LayoutModel",
      "state": {}
     },
     "03d8abbd77f441809d8829a8c68e1060": {
      "model_module": "@jupyter-widgets/output",
      "model_module_version": "1.0.0",
      "model_name": "OutputModel",
      "state": {
       "layout": "IPY_MODEL_55f781a0e17a4f13aa994988ae325f37",
       "outputs": [
        {
         "data": {
          "image/png": "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\n",
          "text/plain": "<Figure size 432x288 with 1 Axes>"
         },
         "metadata": {
          "needs_background": "light"
         },
         "output_type": "display_data"
        }
       ]
      }
     },
     "05563439cd6f4772966476e322b9611a": {
      "model_module": "@jupyter-widgets/base",
      "model_module_version": "1.2.0",
      "model_name": "LayoutModel",
      "state": {
       "border": "solid 1px black",
       "margin": "0px 10px 10px 0px",
       "padding": "5px 5px 5px 5px"
      }
     },
     "0581d8a800aa404e9b925869720979c2": {
      "model_module": "@jupyter-widgets/controls",
      "model_module_version": "1.5.0",
      "model_name": "SliderStyleModel",
      "state": {
       "description_width": ""
      }
     },
     "05b949625a3c45068a8150ab751a29c6": {
      "model_module": "@jupyter-widgets/controls",
      "model_module_version": "1.5.0",
      "model_name": "SliderStyleModel",
      "state": {
       "description_width": ""
      }
     },
     "05cb1a855f054b1db3daad071f568685": {
      "model_module": "@jupyter-widgets/output",
      "model_module_version": "1.0.0",
      "model_name": "OutputModel",
      "state": {
       "layout": "IPY_MODEL_dbb57b4e69244d54b106e29a018ae864",
       "outputs": [
        {
         "data": {
          "image/png": "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\n",
          "text/plain": "<Figure size 432x288 with 1 Axes>"
         },
         "metadata": {
          "needs_background": "light"
         },
         "output_type": "display_data"
        }
       ]
      }
     },
     "0609a94ec4ae4218a5e0e56ebe2b59f2": {
      "model_module": "@jupyter-widgets/base",
      "model_module_version": "1.2.0",
      "model_name": "LayoutModel",
      "state": {}
     },
     "06acdd5cc7504274a54773aad4a04145": {
      "model_module": "@jupyter-widgets/controls",
      "model_module_version": "1.5.0",
      "model_name": "VBoxModel",
      "state": {
       "children": [
        "IPY_MODEL_e5a70be8794343bea7ec32eed01a4db1",
        "IPY_MODEL_c79d1be2a0584536b9291b91f2b694cb"
       ],
       "layout": "IPY_MODEL_f684f128d3e24056b5458efd2cc43213"
      }
     },
     "06c731c8a8434e84bf1ceed0ccfb72cd": {
      "model_module": "@jupyter-widgets/controls",
      "model_module_version": "1.5.0",
      "model_name": "FloatSliderModel",
      "state": {
       "description": "Frequency",
       "layout": "IPY_MODEL_0d880dbb4bf543019d985bdeaaadd1c8",
       "max": 1000,
       "min": 200,
       "step": 0.1,
       "style": "IPY_MODEL_bde00791c03149829650efc1854f0634",
       "value": 200
      }
     },
     "080fdb8af8bb467092e9416e790d81e7": {
      "model_module": "@jupyter-widgets/base",
      "model_module_version": "1.2.0",
      "model_name": "LayoutModel",
      "state": {}
     },
     "08753902e5f4416ebcd221d44171093a": {
      "model_module": "@jupyter-widgets/base",
      "model_module_version": "1.2.0",
      "model_name": "LayoutModel",
      "state": {}
     },
     "0903ed7193b049d08b5e039294832826": {
      "model_module": "@jupyter-widgets/controls",
      "model_module_version": "1.5.0",
      "model_name": "SliderStyleModel",
      "state": {
       "description_width": ""
      }
     },
     "092bc0c9185f4d5cbcdc41ea8644651b": {
      "model_module": "@jupyter-widgets/output",
      "model_module_version": "1.0.0",
      "model_name": "OutputModel",
      "state": {
       "layout": "IPY_MODEL_d454a232692f493fae52870d0d76bd9b"
      }
     },
     "09e88242ab00458ea589a668ea05a6f9": {
      "model_module": "@jupyter-widgets/controls",
      "model_module_version": "1.5.0",
      "model_name": "VBoxModel",
      "state": {
       "children": [
        "IPY_MODEL_b03579baa9774891af5f1116496431c2",
        "IPY_MODEL_27a91e2d72784aca94b8fb39b352ef8f",
        "IPY_MODEL_8d45a815418a4aea9f139e5bc426dc72"
       ],
       "layout": "IPY_MODEL_8487d229e9784989875c3a1a944d21c1"
      }
     },
     "09f3ce6f7e114797a784c11debb0dd1d": {
      "model_module": "@jupyter-widgets/base",
      "model_module_version": "1.2.0",
      "model_name": "LayoutModel",
      "state": {}
     },
     "0afbe045f6c144c8acdeabf20da3dfa5": {
      "model_module": "@jupyter-widgets/output",
      "model_module_version": "1.0.0",
      "model_name": "OutputModel",
      "state": {
       "layout": "IPY_MODEL_7b43ecd9a4964876b9cbe116182c2db1",
       "outputs": [
        {
         "data": {
          "image/png": "iVBORw0KGgoAAAANSUhEUgAAAXIAAAD8CAYAAABq6S8VAAAAOXRFWHRTb2Z0d2FyZQBNYXRwbG90bGliIHZlcnNpb24zLjMuNCwgaHR0cHM6Ly9tYXRwbG90bGliLm9yZy8QVMy6AAAACXBIWXMAAAsTAAALEwEAmpwYAAAT1klEQVR4nO3dfXAc9X3H8c/39CydZPlJkh/kB7CxYxuDkXgKIZGIE2ySYkhoQyYNbZKpmja0oU0ykBAoKeOQJp0m0zQdxk3Iw3QST6aNgTEGEzc2hIAJBmzA2BjH+EFgG4MfhR9lffvH3sWyZazT7erhZ71fMzen0+3+9vvd3fvcem9PNncXACBcqf4uAAAQD0EOAIEjyAEgcAQ5AASOIAeAwBHkABC42EFuZqVm9nszW2Nma83sG0kUBgDIjcW9jtzMTFKFu7eZWZGkJyR90d1XJlEgAODMCuMO4NE7QVvmYVHmxreMAKCPxA5ySTKzAknPSpok6Qfu/vRppmmR1CJJZWVlDfX19Xktq6OjQ6nU4Dq1T8+DAz0PDnF63rBhw1vuPrLLE+6e2E1StaTlkmacabqGhgbP1/Lly/OeN1T0PDjQ8+AQp2dJq/w0mZroW6G775W0QtKcJMcFALy7JK5aGWlm1ZmfyyTNlrQ+7rgAgNwkcY58lKSfZs6TpyT90t0XJzAuACAHSVy18oKkWQnUAgDIw+D6uBgAzkIEOQAEjiAHgMAR5AAQOIIcAAJHkANA4AhyAAgcQQ4AgSPIASBwBDkABI4gB4DAEeQAEDiCHAACR5ADQOAIcgAIHEEOAIEjyAEgcAQ5AASOIAeAwBHkABA4ghwAAkeQA0DgCHIACBxBDgCBI8gBIHAEOQAEjiAHgMDFDnIzqzez5Wa2zszWmtkXkygMAJCbwgTGaJf0JXd/zswqJT1rZr9295cTGBsA0I3YR+Tuvt3dn8v8fEDSOklj4o4LAMhNoufIzWyCpFmSnk5yXADAuzN3T2Ygs7SkxyTNd/dfneb5FkktklRbW9uwcOHCvJbT1tamdDodp9Tg0PPgQM+DQ5yem5ubn3X3xi5PuHvsm6QiSUsl/WMu0zc0NHi+li9fnve8oaLnwYGeB4c4PUta5afJ1CSuWjFJP5K0zt3/Le54AICeSeIc+RWSPi3pKjNbnbldk8C4AIAcxL780N2fkGQJ1AIAyAPf7ASAwBHkABA4ghwAAkeQA0DgCHIACBxBDgCBI8gBIHAEOQAEjiAHgMAR5AAQOIIcAAJHkANA4AhyAAgcQQ4AgSPIASBwBDkABI4gB4DAEeQAEDiCHAACR5ADQOAIcgAIHEEOAIEjyAEgcAQ5AASOIAeAwBHkABA4ghwAAkeQA0DgEglyM7vPzN40s5eSGA8AkLukjsh/ImlOQmMBAHqgMIlB3P1xM5uQxFhn8urOA/rnpw7p1dQmrdqyW+fVVmrn/sMqLy5Ue0eHCszU3uFKlxSqde8hTRtVpcc27NLHLxqjex/bpC80T9L8h17WXddO110PrtU3rz9f9zy8XjdfNUm/+P1WzZ1Rp9Xb9mriiAq9deCoyksKdKS9Q6WFBTp4tF01lSVa+8Z+vXfSCC16vlV/deU5umfJen31mqn6+v0vaf715+uuB9fqG9dO13eXbVDLledo0fOv6wNTRmr99gMaVV2q/YfaVVKY0pH2DqVLCrT7nWOaOKJcKzft1oem1ernT2/VLbMn644H1uqua6fpa796UTeeV6Bbv7lMX/7wFP34d5t14yX1Wr7+TZ0/Zohe33tYQ8qKdOx4h1ImHT3eocrSIu06cETnjqzQk394W3Nn1OmnT23Rlz50nu58cK2+/pH36O7F6/SVq8/TvY9t0meumKCHX9yh900eoZe379eoqlIdPHZcBWYqSJnaOzp0vEOqLC3Uzv2HNWlkWitfe1tzptfpZ09t0c1XTdK3H3lFt8yerO//ZqM+c8UEPbD6DV01tUbrtu/XuGHl2nfomMxMZUXRuqwqK9KBw+1KmVRSWKDd7xzRxBFprdqyWx+cWqMfP3lIX6jYpv/67SbddPl4/XJVqz74nhqt3rZXE4ZX6OjxDnV0uCpLC7Vj/xHVDy3Tjn2HVTukVG+3HVFxYUpFBSnteeeoJoyo0PNb9+qKScO1dO1OfXTmKD30wnY1T63R06/t1sTh5TpwuF3tHa6xQ8v0h11tmjF6iJ7bukezxg3Vhp0HNH54uXbuP6LSopQKUyntO3RM9cPKtW77fl0wdoh+v3mPLpkwVGta92nC8HK91XZU7R2umsoSbdh5QO+fPFKPvrxDc2eM0iNrd6h5So3WbNurc2sqtGPfEZUXF2j7G0e0eNca1VWVasvugxo3rExb3j6ouqrSP9ZXVVaoV3e26fJzh2vJi9v1qUvH66dPbtZfXjFBC5/Zpj+ZOUpPv7ZbU2or9ca+Q6oqLZK760h7h4aUFWnvwWMqK4726/bjHRqeLtHGN9t0Yf0QLXlxhz5xcb1++MQm/cPs8/S9Za/qltmTdd/vXtP1s8bqyY1vafqYIWrdc1DVZcU6evy43KPt1+GuQ0ePq6qsUNt2H9KscdV69OWdmnfhaC14fJP+/qrJ+vbS9brr2uma/9A63TZ3qhY8vkkzq47pZz95RheMrdbW3QdVXV6kQ8eOqyhl6nCprLhAO/cf1sQRFVq1eY8+MnOUfvTEa/rr95+jf3lkve746DTd+cBa3fOx83X34pd129yp+uFvX9O8C0dr5aa3NW30EO3Yd0jpkmjc0qKUDh/r0LCKIm3a9Y4urK/WI2t36M8vHa/v/d8GfeXqqbrj/pd093Uz/nj/r0ujffu/V27RnBl1en5rlBF7Dh5VadGJjDhw+JhGV5fppdf36fJzh+v+1a//MSPu+Og0fW3Ri3rklit7JRvN3ZMZKAryxe4+412eb5HUIkm1tbUNCxcu7PEyvvvsYa3ZdTxOmQDQr759maumOp3XvM3Nzc+6e+Opv0/kiDwX7r5A0gJJamxs9Kamph6P8fOtq6RdOxOuDAD6zuZDpfqz65oSHTOoq1YKC6y/SwCAASeoIE8ZQQ4gbMmczD5ZUpcf/kLSU5KmmFmrmX0uiXEBAN1L6qqVTyYxDgCc7QbsETkAIEe9kORBBXlvvJMBQOiCCnIAQFcEOQD0Ic6Rc24FQOBGp5O/jDqsIAeAwI0sSz52CXIA6EO98b1GghwA+lBvfD+dIAeAPsQROQAEjiNyAAjcoD8id64/BBA4jsgBIHAEOQAEbtCfWgGA0HFEDgCBs144JCfIASBwQQW5c9EKAHQRVJADALoiyAEgcEEFOadWAKCroIIcANAVQQ4AgSPIASBwBDkABC6oIOevHwJAV0EFOQCgq0SC3MzmmNkrZrbRzG5LYkwAQG5iB7mZFUj6gaS5kqZJ+qSZTYs7LgAgN0kckV8iaaO7b3L3o5IWSpqXwLgAgBwUJjDGGEnbOj1ulXTpqROZWYukFkmqra3VihUrerygYweO5FchAAwQbW1teeXfmSQR5Kf747pdLi9x9wWSFkhSY2OjNzU19XhB0xuO6OL5y3o8HwAMFOl0Wvnk35kkcWqlVVJ9p8djJb2RwLhd9MZ/kQQAoUsiyJ+RNNnMJppZsaQbJT2YwLhdpEhyAOgi9qkVd283s5slLZVUIOk+d18bu7LTIMYBoKskzpHL3ZdIWpLEWGfCATkAdBXUNzt74z8tBYDQBRbk/V0BAAw8QQU5H3YCQFdBBTkxDgBdBRXkHJEDQFdBBTk5DgBdBRXkAICuggpyTq0AQFdBBTk5DgBdBRXkHJEDQFdBBTkxDgBdhRXkJDkAdBFYkJPkAHCqoIIcANAVQQ4AgSPIASBwBDkABI4gB4DAEeQAEDiCHAACR5ADQOAIcgAIHEEOAIEjyAEgcAQ5AASOIAeAwBHkABC4WEFuZn9qZmvNrMPMGpMqCgCQu7hH5C9J+pikxxOoBQCQh8I4M7v7Oon/8AEA+lOfnSM3sxYzW2Vmq1pbW7VixYq8brfPcklSQ22BJOmqcdF70ZwJ0X1TfXQ/c0T0/DlDohbHVaZUXiiNr0qpusQ0osxUUiDVlEdvQpOro+kuqYvmuzoz3jUTi6LlZMa9YGT0/LmZcUenTRVFUn1lSpXFUm25qcCix5I0dVh0f2lm3Ox4czP3p9ZbX5mSSRpZZqoslsakTelC15h0VOf4qmi8KUOj+8tGFWT6j8b70PhovCvHFJ403chMv9UlpuoSU125qbJIGpsZN3t/3tCT18MHM+u3aWzhSb8fmzYVp6R0kVRVbCorlEaUmYaXmqqKTaMqovGydWfXb3a7ZevL1j9laEqlmfqGlZpS5qotN6Us2kZDMnXXlpsss947b4fs+musPTFeeWG0PWoy2+TUXuvKo203rPTEuNm6Jw45eftNrk6pLDPemLSpuODEusreZ7dNXUW0PkaWRcsuTEW/y27f7H1xQTTN6IpoXU6tjvbti2qiHqYPj6adkBl3VIWptCCqe2RZ9HNtZv/N7nfVJdE2KEpJ0zLzXz46Gu+9o0/eh7M9jq6I+hmbjuatLJKGl0b7S2WxVFUsFZg0MVNHdpzm+pPvZ9Wc/Jqrr0yp0E685oaWRPtGVbGp0E7UPiOz7bLjXJ3Zh7P7cnafmVR9Yj0XpaLxq4qjdZFd3537ytaTHSf72su+trPjZrff2Mx2HZOOXnujMtslu69NOmUfvvqUcT88/uT1kK2jJrOf1ZWbbppWrLa2trzz7910e0RuZssk1Z3mqdvd/YHu5s9y9wWSFkhSY2OjNzU15TrryVas0OZv5TlvoFasWKG811eg6HlwoOdkdBvk7j470SUCABLF5YcAELi4lx9eb2atki6X9JCZLU2mLABAruJetbJI0qKEagEA5IFTKwAQOIIcAAJHkANA4AhyAAgcQQ4AgSPIASBwBDkABI4gB4DAEeQAEDiCHAACR5ADQOAIcgAIHEEOAIEjyAEgcAQ5AASOIAeAwBHkABA4ghwAAkeQA0DgCHIACBxBDgCBI8gBIHAEOQAEjiAHgMAR5AAQOIIcAAJHkANA4GIFuZl9x8zWm9kLZrbIzKoTqgsAkKO4R+S/ljTD3WdK2iDpq/FLAgD0RKwgd/dH3b0983ClpLHxSwIA9ESS58g/K+nhBMcDAOTA3P3ME5gtk1R3mqdud/cHMtPcLqlR0sf8XQY0sxZJLZJUW1vbsHDhwrwKbmtrUzqdzmveUNHz4EDPg0Ocnpubm59198YuT7h7rJukv5D0lKTyXOdpaGjwfC1fvjzveUNFz4MDPQ8OcXqWtMpPk6mFMd5YZGZzJN0q6QPufjDOWACA/MQ9R/4fkiol/drMVpvZvQnUBADogVhH5O4+KalCAAD54ZudABA4ghwAAkeQA0DgCHIACBxBDgCBI8gBIHAEOQAEjiAHgMAR5AAQOIIcAAJHkANA4AhyAAgcQQ4AgSPIASBwBDkABI4gB4DAEeQAEDiCHAACR5ADQOAIcgAIHEEOAIEjyAEgcAQ5AASOIAeAwBHkABA4ghwAAkeQA0DgCHIACFysIDezu83sBTNbbWaPmtnopAoDAOQm7hH5d9x9prtfKGmxpDvjlwQA6IlYQe7u+zs9rJDk8coBAPRUYdwBzGy+pJsk7ZPUfIbpWiS1ZB62mdkreS5yhKS38pw3VPQ8ONDz4BCn5/Gn+6W5n/kg2syWSao7zVO3u/sDnab7qqRSd/+nPAvMiZmtcvfG3lzGQEPPgwM9Dw690XO3R+TuPjvHsX4u6SFJvRrkAICTxb1qZXKnh9dKWh+vHABAT8U9R/4tM5siqUPSFkmfj19Stxb0wTIGGnoeHOh5cEi8527PkQMABja+2QkAgSPIASBwAzbIzWyOmb1iZhvN7LbTPG9m9u+Z518ws4v6o84k5dDzVDN7ysyOmNmX+6PGpOXQ86cy2/cFM3vSzC7ojzqTkkO/8zr92YtVZva+/qgzSd313Gm6i83suJnd0Jf19YYctnOTme3LbOfVZhbvW/HuPuBukgok/UHSOZKKJa2RNO2Uaa6R9LAkk3SZpKf7u+4+6LlG0sWS5kv6cn/X3Ec9v1fS0MzPc0Pezjn2m9aJz65mSlrf33X3ds+dpvuNpCWSbujvuvtgOzdJWpzUMgfqEfklkja6+yZ3PyppoaR5p0wzT9LPPLJSUrWZjerrQhPUbc/u/qa7PyPpWH8U2Aty6flJd9+TebhS0tg+rjFJufTb5plXus6OP3uRy2tZkv5O0v9KerMvi+slufacmIEa5GMkbev0uDXzu55OE5KzrZ9c9LTnzyn6V1iocurXzK43s/WKvmD32T6qrbd027OZjZF0vaR7+7Cu3pTrfn25ma0xs4fNbHqcBQ7UILfT/O7UI5NcpgnJ2dZPLnLu2cyaFQX5rb1aUe/KqV93X+TuUyVdJ+nu3i6ql+XS8/ck3erux3u/nD6RS8/PSRrv7hdI+r6k++MscKAGeauk+k6Px0p6I49pQnK29ZOLnHo2s5mSfihpnru/3Ue19YYebWN3f1zSuWY2orcL60W59NwoaaGZbZZ0g6T/NLPr+qS63tFtz+6+393bMj8vkVQUZzsP1CB/RtJkM5toZsWSbpT04CnTPCjppszVK5dJ2ufu2/u60ATl0vPZptuezWycpF9J+rS7b+iHGpOUS7+TzMwyP1+k6MOykN+8uu3Z3Se6+wR3nyDpfyT9rbvf3+eVJieX7VzXaTtfoiiL897Osf+MbW9w93Yzu1nSUkWfAN/n7mvN7POZ5+9V9On2NZI2Sjoo6TP9VW8ScunZzOokrZJUJanDzG5R9Gn4/ncbdyDLcTvfKWm4oqM0SWr3QP9aXo79flzRAcoxSYckfaLTh5/BybHns0qOPd8g6W/MrF3Rdr4xznbmK/oAELiBemoFAJAjghwAAkeQA0DgCHIACBxBDgCBI8gBIHAEOQAE7v8B8zrfd502FX4AAAAASUVORK5CYII=\n",
          "text/plain": "<Figure size 432x288 with 1 Axes>"
         },
         "metadata": {
          "needs_background": "light"
         },
         "output_type": "display_data"
        }
       ]
      }
     },
     "0b581131dda545d3bebd366818bc6984": {
      "model_module": "@jupyter-widgets/base",
      "model_module_version": "1.2.0",
      "model_name": "LayoutModel",
      "state": {}
     },
     "0bc0ef34fe744769b65dbd0e0b968f3c": {
      "model_module": "@jupyter-widgets/controls",
      "model_module_version": "1.5.0",
      "model_name": "VBoxModel",
      "state": {
       "children": [
        "IPY_MODEL_1bdc4e3da08d48908cb20d0d295b45fb",
        "IPY_MODEL_0afbe045f6c144c8acdeabf20da3dfa5"
       ],
       "layout": "IPY_MODEL_a6830024ef384eac843bcccfaa30ec27"
      }
     },
     "0c855988c97640b38ef7e887acd4b287": {
      "model_module": "@jupyter-widgets/base",
      "model_module_version": "1.2.0",
      "model_name": "LayoutModel",
      "state": {}
     },
     "0cbd6ba3864b4c4ca9eb949dd528505d": {
      "model_module": "@jupyter-widgets/base",
      "model_module_version": "1.2.0",
      "model_name": "LayoutModel",
      "state": {}
     },
     "0d880dbb4bf543019d985bdeaaadd1c8": {
      "model_module": "@jupyter-widgets/base",
      "model_module_version": "1.2.0",
      "model_name": "LayoutModel",
      "state": {}
     },
     "0da7bd2d0d09419b9cd00654acb3ca7e": {
      "model_module": "@jupyter-widgets/base",
      "model_module_version": "1.2.0",
      "model_name": "LayoutModel",
      "state": {}
     },
     "0dd8a3820da0436ca24baa97fe4ef834": {
      "model_module": "@jupyter-widgets/controls",
      "model_module_version": "1.5.0",
      "model_name": "FloatSliderModel",
      "state": {
       "continuous_update": false,
       "description": "Duraton",
       "layout": "IPY_MODEL_cde139898e644fa0999d36fadabc9ad4",
       "max": 2,
       "min": 0.1,
       "step": 0.1,
       "style": "IPY_MODEL_1913ba8d863a41fabf79391454758fa1",
       "value": 0.5
      }
     },
     "0de8b5efaf40484ba38efc39854585fc": {
      "model_module": "@jupyter-widgets/controls",
      "model_module_version": "1.5.0",
      "model_name": "VBoxModel",
      "state": {
       "children": [
        "IPY_MODEL_897b65d1f02440208b17e650099ab02a",
        "IPY_MODEL_ffcfe5ac10234555b1dfc986d4d425a1",
        "IPY_MODEL_594e0c3b6d134b289b05aae0e615a70b"
       ],
       "layout": "IPY_MODEL_bfa007acc57c4e54a8b79e858c01066d"
      }
     },
     "0e16f671658949c18c5ccf533631350c": {
      "model_module": "@jupyter-widgets/base",
      "model_module_version": "1.2.0",
      "model_name": "LayoutModel",
      "state": {}
     },
     "0e9414e636d94ce996175084a81508ab": {
      "model_module": "@jupyter-widgets/controls",
      "model_module_version": "1.5.0",
      "model_name": "HBoxModel",
      "state": {
       "children": [
        "IPY_MODEL_e3773b38a42946449c9cb41c207b4e87",
        "IPY_MODEL_67ea9d34ffd14933be1183df61504246",
        "IPY_MODEL_899985cf68c6498aba0b2c0ff7e89f49"
       ],
       "layout": "IPY_MODEL_ab24f06f09b74f1aaae3cc42f0025886"
      }
     },
     "0ee89042c6324695ae3734cbcfe26989": {
      "model_module": "@jupyter-widgets/base",
      "model_module_version": "1.2.0",
      "model_name": "LayoutModel",
      "state": {}
     },
     "0f54fa04106f4c9180edb9b04979a4b9": {
      "model_module": "@jupyter-widgets/base",
      "model_module_version": "1.2.0",
      "model_name": "LayoutModel",
      "state": {}
     },
     "0ff1c4e4dee74a0480c44847fd3334d3": {
      "model_module": "@jupyter-widgets/controls",
      "model_module_version": "1.5.0",
      "model_name": "VBoxModel",
      "state": {
       "children": [
        "IPY_MODEL_5fea10e9051d4e2ca0db550d339b0525",
        "IPY_MODEL_24f5bdaf2fbe46afa6bf15ebf8c7a113",
        "IPY_MODEL_48a12ee2cc3d4b379cb46b958dc28f13"
       ],
       "layout": "IPY_MODEL_b0c60cc8e1fe4fb8bc858d8ee435dd05"
      }
     },
     "109f53eebf894e38aced29f69e7b6be0": {
      "model_module": "@jupyter-widgets/controls",
      "model_module_version": "1.5.0",
      "model_name": "VBoxModel",
      "state": {
       "_dom_classes": [
        "widget-interact"
       ],
       "children": [
        "IPY_MODEL_dba202ed680047cabee512acf8ab677d",
        "IPY_MODEL_c376bfa4244644e097ba90cf1673b16d",
        "IPY_MODEL_2c8da3e4f2464506bcb404bd23b50ff0",
        "IPY_MODEL_092bc0c9185f4d5cbcdc41ea8644651b"
       ],
       "layout": "IPY_MODEL_f1347293a5bd4e2cbb2d54bf6363b171"
      }
     },
     "11710d2e0a1a4c65b566cf11920b5bad": {
      "model_module": "@jupyter-widgets/base",
      "model_module_version": "1.2.0",
      "model_name": "LayoutModel",
      "state": {}
     },
     "11751577df0843d3b12a3f167c7c3ca0": {
      "model_module": "@jupyter-widgets/controls",
      "model_module_version": "1.5.0",
      "model_name": "SliderStyleModel",
      "state": {
       "description_width": ""
      }
     },
     "11bc34a9a46b4198830ad8dae6852b51": {
      "model_module": "@jupyter-widgets/controls",
      "model_module_version": "1.5.0",
      "model_name": "HBoxModel",
      "state": {
       "children": [
        "IPY_MODEL_0de8b5efaf40484ba38efc39854585fc",
        "IPY_MODEL_5b42a6c2e97d455b9cf39060d5f7d756"
       ],
       "layout": "IPY_MODEL_645e28fc76764bb790779d7f7f923317"
      }
     },
     "12005913c8454c71afe19292c4a4ea6f": {
      "model_module": "@jupyter-widgets/controls",
      "model_module_version": "1.5.0",
      "model_name": "SliderStyleModel",
      "state": {
       "description_width": ""
      }
     },
     "129c5c0ffe4a46d78ab1416a2e88fede": {
      "model_module": "@jupyter-widgets/controls",
      "model_module_version": "1.5.0",
      "model_name": "FloatSliderModel",
      "state": {
       "description": "Frequency",
       "layout": "IPY_MODEL_fc8ae16f9d604af5825b84d28ed89dc7",
       "max": 1000,
       "min": 200,
       "step": 0.1,
       "style": "IPY_MODEL_c035b95917634cdbb5cc7da51522c64b",
       "value": 200
      }
     },
     "12b733af249d41008448ba658ca2498c": {
      "model_module": "@jupyter-widgets/base",
      "model_module_version": "1.2.0",
      "model_name": "LayoutModel",
      "state": {}
     },
     "12c659547635442b810012ab86246710": {
      "model_module": "@jupyter-widgets/controls",
      "model_module_version": "1.5.0",
      "model_name": "SliderStyleModel",
      "state": {
       "description_width": ""
      }
     },
     "12eed51d937e45e99a9132240348165e": {
      "model_module": "@jupyter-widgets/controls",
      "model_module_version": "1.5.0",
      "model_name": "IntSliderModel",
      "state": {
       "description": "freq",
       "layout": "IPY_MODEL_1675f99827f3471fabd1834773694539",
       "max": 10,
       "style": "IPY_MODEL_1e8b081bc490445f85311391e6e50f9a",
       "value": 1
      }
     },
     "13eed8873b1045faba805882d6470936": {
      "model_module": "@jupyter-widgets/base",
      "model_module_version": "1.2.0",
      "model_name": "LayoutModel",
      "state": {}
     },
     "154d26b762784265914bdc45425936cd": {
      "model_module": "@jupyter-widgets/base",
      "model_module_version": "1.2.0",
      "model_name": "LayoutModel",
      "state": {}
     },
     "15a121c44a7e4359bf6394741e187381": {
      "model_module": "@jupyter-widgets/controls",
      "model_module_version": "1.5.0",
      "model_name": "FloatSliderModel",
      "state": {
       "description": "Amplitude",
       "layout": "IPY_MODEL_0609a94ec4ae4218a5e0e56ebe2b59f2",
       "max": 1,
       "step": 0.05,
       "style": "IPY_MODEL_fce89acd31f24925b60e9493caf7f38c",
       "value": 0.5
      }
     },
     "165da18755024eaf9ba9992c56821c8f": {
      "model_module": "@jupyter-widgets/controls",
      "model_module_version": "1.5.0",
      "model_name": "SliderStyleModel",
      "state": {
       "description_width": ""
      }
     },
     "1675f99827f3471fabd1834773694539": {
      "model_module": "@jupyter-widgets/base",
      "model_module_version": "1.2.0",
      "model_name": "LayoutModel",
      "state": {}
     },
     "1721087b0b934d21b579828d0c00056c": {
      "model_module": "@jupyter-widgets/base",
      "model_module_version": "1.2.0",
      "model_name": "LayoutModel",
      "state": {}
     },
     "179232e6dc9c46d8a5bff3984e53e533": {
      "model_module": "@jupyter-widgets/controls",
      "model_module_version": "1.5.0",
      "model_name": "FloatSliderModel",
      "state": {
       "description": "Frequency",
       "layout": "IPY_MODEL_080fdb8af8bb467092e9416e790d81e7",
       "max": 1000,
       "min": 200,
       "step": 0.1,
       "style": "IPY_MODEL_908ea11bd13d4e0fb4bf435967fb72fc",
       "value": 439
      }
     },
     "17a137c577ef44a09a494258068477ca": {
      "model_module": "@jupyter-widgets/controls",
      "model_module_version": "1.5.0",
      "model_name": "VBoxModel",
      "state": {
       "children": [
        "IPY_MODEL_0e9414e636d94ce996175084a81508ab",
        "IPY_MODEL_6c581300ffc54637a4ddcdefe6f01436"
       ],
       "layout": "IPY_MODEL_f3bbca6eb57f4072b0d0dddcee69f6fd"
      }
     },
     "1913ba8d863a41fabf79391454758fa1": {
      "model_module": "@jupyter-widgets/controls",
      "model_module_version": "1.5.0",
      "model_name": "SliderStyleModel",
      "state": {
       "description_width": ""
      }
     },
     "19a923e47b70409380a883427e1dcb66": {
      "model_module": "@jupyter-widgets/controls",
      "model_module_version": "1.5.0",
      "model_name": "SliderStyleModel",
      "state": {
       "description_width": ""
      }
     },
     "19bdcabeeba84544838a882f7af0976e": {
      "model_module": "@jupyter-widgets/base",
      "model_module_version": "1.2.0",
      "model_name": "LayoutModel",
      "state": {}
     },
     "1a171076655c4f3a9ff306c5130c5952": {
      "model_module": "@jupyter-widgets/output",
      "model_module_version": "1.0.0",
      "model_name": "OutputModel",
      "state": {
       "layout": "IPY_MODEL_8e8291133de34c9d9cfd9fc2aa2dbeab",
       "outputs": [
        {
         "data": {
          "image/png": "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\n",
          "text/plain": "<Figure size 432x288 with 1 Axes>"
         },
         "metadata": {
          "needs_background": "light"
         },
         "output_type": "display_data"
        }
       ]
      }
     },
     "1a8b46a64eaa4b3e82bcbe730f2bbb95": {
      "model_module": "@jupyter-widgets/controls",
      "model_module_version": "1.5.0",
      "model_name": "HBoxModel",
      "state": {
       "children": [
        "IPY_MODEL_cefa528fe20c4a9d9764f997ed4478d6",
        "IPY_MODEL_fef58b92ec56449db0713f5875148e27"
       ],
       "layout": "IPY_MODEL_edfb59246ea749d8b1898e287f220a04"
      }
     },
     "1ac5c28b4a574655830fead9d2f72772": {
      "model_module": "@jupyter-widgets/controls",
      "model_module_version": "1.5.0",
      "model_name": "SliderStyleModel",
      "state": {
       "description_width": ""
      }
     },
     "1ad5cd557d724049954febe304125141": {
      "model_module": "@jupyter-widgets/base",
      "model_module_version": "1.2.0",
      "model_name": "LayoutModel",
      "state": {}
     },
     "1b62aae9ec914a56aca1fb6f0305e4bd": {
      "model_module": "@jupyter-widgets/controls",
      "model_module_version": "1.5.0",
      "model_name": "FloatSliderModel",
      "state": {
       "continuous_update": false,
       "description": "Duration",
       "layout": "IPY_MODEL_bab38efa6f524319a95208e9e3477d64",
       "max": 1,
       "min": 0.1,
       "step": 0.1,
       "style": "IPY_MODEL_44ee76e305684b81a12f533993cc8f58",
       "value": 0.4
      }
     },
     "1b93ec825051483d93444d6301f98956": {
      "model_module": "@jupyter-widgets/base",
      "model_module_version": "1.2.0",
      "model_name": "LayoutModel",
      "state": {}
     },
     "1bdc4e3da08d48908cb20d0d295b45fb": {
      "model_module": "@jupyter-widgets/output",
      "model_module_version": "1.0.0",
      "model_name": "OutputModel",
      "state": {
       "layout": "IPY_MODEL_6cc5e1e7ca004f378cc07844f87d315e",
       "outputs": [
        {
         "data": {
          "text/html": "\n                <audio  controls=\"controls\" autoplay=\"autoplay\">\n                    <source src=\"data:audio/wav;base64,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\" type=\"audio/wav\" />\n                    Your browser does not support the audio element.\n                </audio>\n              ",
          "text/plain": "<IPython.lib.display.Audio object>"
         },
         "metadata": {},
         "output_type": "display_data"
        }
       ]
      }
     },
     "1c57433c75f7454b9307d005bfd85c80": {
      "model_module": "@jupyter-widgets/controls",
      "model_module_version": "1.5.0",
      "model_name": "FloatSliderModel",
      "state": {
       "description": "amp",
       "layout": "IPY_MODEL_30085e35aff6452a903538107b67029e",
       "max": 4,
       "step": 0.1,
       "style": "IPY_MODEL_feabeabf982c4047a8fb77a4b6ac52a7",
       "value": 0.7
      }
     },
     "1d137f32fd014610b915fa46aee85eb2": {
      "model_module": "@jupyter-widgets/base",
      "model_module_version": "1.2.0",
      "model_name": "LayoutModel",
      "state": {}
     },
     "1d5aa6f6a3924dbdade4b61c56341efd": {
      "model_module": "@jupyter-widgets/base",
      "model_module_version": "1.2.0",
      "model_name": "LayoutModel",
      "state": {}
     },
     "1d78bd82210648d18c8f04348b9d521d": {
      "model_module": "@jupyter-widgets/controls",
      "model_module_version": "1.5.0",
      "model_name": "BoxModel",
      "state": {
       "children": [
        "IPY_MODEL_2b4b6088f3ce4dba94993234e73d4c24",
        "IPY_MODEL_7d7d1c4c75de40aebf0730f6c8a588c2"
       ],
       "layout": "IPY_MODEL_6dfbdaaf566448a49d5856182998bc95"
      }
     },
     "1dae15378a4e4fc5971af2ca9d76090b": {
      "model_module": "@jupyter-widgets/controls",
      "model_module_version": "1.5.0",
      "model_name": "HBoxModel",
      "state": {
       "children": [
        "IPY_MODEL_706d570d13044c7cb0a353cea6d567c4",
        "IPY_MODEL_77f65edcffb04c3eab4e05acc8734794"
       ],
       "layout": "IPY_MODEL_73015830725e4fcf924b36f551939592"
      }
     },
     "1e05a56a2e284c53b482afeeb8c54f4f": {
      "model_module": "@jupyter-widgets/output",
      "model_module_version": "1.0.0",
      "model_name": "OutputModel",
      "state": {
       "layout": "IPY_MODEL_ae0efe772d0744a594328d2af1802b09"
      }
     },
     "1e8b081bc490445f85311391e6e50f9a": {
      "model_module": "@jupyter-widgets/controls",
      "model_module_version": "1.5.0",
      "model_name": "SliderStyleModel",
      "state": {
       "description_width": ""
      }
     },
     "1f2a7ebf798549dfba8e3cd150250911": {
      "model_module": "@jupyter-widgets/controls",
      "model_module_version": "1.5.0",
      "model_name": "FloatSliderModel",
      "state": {
       "continuous_update": false,
       "description": "Duration",
       "layout": "IPY_MODEL_12b733af249d41008448ba658ca2498c",
       "max": 1,
       "min": 0.1,
       "step": 0.1,
       "style": "IPY_MODEL_c022ede6213e4d738a43898d157571b5",
       "value": 0.4
      }
     },
     "202590e2859a4ca1b000c1bf3c40c2dd": {
      "model_module": "@jupyter-widgets/base",
      "model_module_version": "1.2.0",
      "model_name": "LayoutModel",
      "state": {}
     },
     "20dae5e7b61c41cfa0210421af462767": {
      "model_module": "@jupyter-widgets/base",
      "model_module_version": "1.2.0",
      "model_name": "LayoutModel",
      "state": {}
     },
     "21d7d8b7fae54e75b4b5edb9a575e10b": {
      "model_module": "@jupyter-widgets/controls",
      "model_module_version": "1.5.0",
      "model_name": "HBoxModel",
      "state": {
       "children": [
        "IPY_MODEL_393711fcfbfc4b50a9583a8bc0a303c5",
        "IPY_MODEL_6e67acc03b38431aad87b3e96ea67b74"
       ],
       "layout": "IPY_MODEL_22dd23249c9e45f28d962c9ffe30b4d9"
      }
     },
     "225cd99760d44458a058d82da31c32e8": {
      "model_module": "@jupyter-widgets/output",
      "model_module_version": "1.0.0",
      "model_name": "OutputModel",
      "state": {
       "layout": "IPY_MODEL_9fbc09fc47f54324bfb73616e15584ec",
       "outputs": [
        {
         "data": {
          "text/html": "\n                <audio  controls=\"controls\" autoplay=\"autoplay\">\n                    <source src=\"data:audio/wav;base64,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\" type=\"audio/wav\" />\n                    Your browser does not support the audio element.\n                </audio>\n              ",
          "text/plain": "<IPython.lib.display.Audio object>"
         },
         "metadata": {},
         "output_type": "display_data"
        }
       ]
      }
     },
     "22dd23249c9e45f28d962c9ffe30b4d9": {
      "model_module": "@jupyter-widgets/base",
      "model_module_version": "1.2.0",
      "model_name": "LayoutModel",
      "state": {}
     },
     "23657974975b43a486422a5c1636ba8f": {
      "model_module": "@jupyter-widgets/controls",
      "model_module_version": "1.5.0",
      "model_name": "SliderStyleModel",
      "state": {
       "description_width": ""
      }
     },
     "23f2ab736ba542d6856778537d84250d": {
      "model_module": "@jupyter-widgets/output",
      "model_module_version": "1.0.0",
      "model_name": "OutputModel",
      "state": {
       "layout": "IPY_MODEL_1721087b0b934d21b579828d0c00056c",
       "outputs": [
        {
         "data": {
          "text/html": "\n                <audio  controls=\"controls\" autoplay=\"autoplay\">\n                    <source src=\"data:audio/wav;base64,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\" type=\"audio/wav\" />\n                    Your browser does not support the audio element.\n                </audio>\n              ",
          "text/plain": "<IPython.lib.display.Audio object>"
         },
         "metadata": {},
         "output_type": "display_data"
        }
       ]
      }
     },
     "24f5bdaf2fbe46afa6bf15ebf8c7a113": {
      "model_module": "@jupyter-widgets/controls",
      "model_module_version": "1.5.0",
      "model_name": "FloatSliderModel",
      "state": {
       "description": "Frequency",
       "layout": "IPY_MODEL_4b997e299e1a4af5b32c58f74048b453",
       "max": 1000,
       "min": 200,
       "step": 0.1,
       "style": "IPY_MODEL_e97d2af1957747beab3af7bac810bce1",
       "value": 200
      }
     },
     "255c56f6e65043608337f0e2e477543c": {
      "model_module": "@jupyter-widgets/base",
      "model_module_version": "1.2.0",
      "model_name": "LayoutModel",
      "state": {}
     },
     "2590fd958bbe4c6a9e86652b8f905ba6": {
      "model_module": "@jupyter-widgets/base",
      "model_module_version": "1.2.0",
      "model_name": "LayoutModel",
      "state": {}
     },
     "2692fb5610aa46f9b5ebabca37cb61cb": {
      "model_module": "@jupyter-widgets/output",
      "model_module_version": "1.0.0",
      "model_name": "OutputModel",
      "state": {
       "layout": "IPY_MODEL_db4a914ef0724236af8be6234479e32d",
       "outputs": [
        {
         "data": {
          "image/png": "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\n",
          "text/plain": "<Figure size 432x288 with 1 Axes>"
         },
         "metadata": {
          "needs_background": "light"
         },
         "output_type": "display_data"
        }
       ]
      }
     },
     "26d376875a954c879f4ce96468052644": {
      "model_module": "@jupyter-widgets/controls",
      "model_module_version": "1.5.0",
      "model_name": "TextModel",
      "state": {
       "continuous_update": false,
       "description": "xlabel",
       "layout": "IPY_MODEL_c3ec8d4e19804c77b58bfa0f4dd1abe3",
       "style": "IPY_MODEL_7cecf9a73e0740259d6bcaeb0b8ee2c5",
       "value": "x"
      }
     },
     "2712359727d54e7faaacd43b7527d9f1": {
      "model_module": "@jupyter-widgets/output",
      "model_module_version": "1.0.0",
      "model_name": "OutputModel",
      "state": {
       "layout": "IPY_MODEL_c51f86b9127f4a07991d927cccc171e4",
       "outputs": [
        {
         "data": {
          "image/png": "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\n",
          "text/plain": "<Figure size 432x288 with 1 Axes>"
         },
         "metadata": {
          "needs_background": "light"
         },
         "output_type": "display_data"
        }
       ]
      }
     },
     "27a91e2d72784aca94b8fb39b352ef8f": {
      "model_module": "@jupyter-widgets/controls",
      "model_module_version": "1.5.0",
      "model_name": "FloatSliderModel",
      "state": {
       "description": "Frequency",
       "layout": "IPY_MODEL_81a0cb39f060403aae706f0d9a429edc",
       "max": 1000,
       "min": 200,
       "step": 0.1,
       "style": "IPY_MODEL_928f6d6fe43a48cca76ab52ec7cdc287",
       "value": 638.9
      }
     },
     "287b8b4138a6494e8c8079a6eb9edc45": {
      "model_module": "@jupyter-widgets/controls",
      "model_module_version": "1.5.0",
      "model_name": "SliderStyleModel",
      "state": {
       "description_width": ""
      }
     },
     "288c3ac1631644909560a102901f83b2": {
      "model_module": "@jupyter-widgets/output",
      "model_module_version": "1.0.0",
      "model_name": "OutputModel",
      "state": {
       "layout": "IPY_MODEL_7d3cafe75292406c84d83ddf3a97ff5a",
       "outputs": [
        {
         "ename": "TypeError",
         "evalue": "synth() got an unexpected keyword argument 'amp'",
         "output_type": "error",
         "traceback": [
          "\u001b[1;31m---------------------------------------------------------------------------\u001b[0m",
          "\u001b[1;31mTypeError\u001b[0m                                 Traceback (most recent call last)",
          "\u001b[1;32m<ipython-input-24-75baf8c2dd3d>\u001b[0m in \u001b[0;36msin_gui1\u001b[1;34m(amp, freq, Tmax)\u001b[0m\n\u001b[0;32m     26\u001b[0m     \u001b[1;32mwith\u001b[0m \u001b[0mout_plot\u001b[0m\u001b[1;33m:\u001b[0m\u001b[1;33m\u001b[0m\u001b[1;33m\u001b[0m\u001b[0m\n\u001b[0;32m     27\u001b[0m         \u001b[0mplt\u001b[0m\u001b[1;33m.\u001b[0m\u001b[0mclf\u001b[0m\u001b[1;33m(\u001b[0m\u001b[1;33m)\u001b[0m\u001b[1;33m\u001b[0m\u001b[1;33m\u001b[0m\u001b[0m\n\u001b[1;32m---> 28\u001b[1;33m         \u001b[0my\u001b[0m\u001b[1;33m,\u001b[0m\u001b[0mx\u001b[0m \u001b[1;33m=\u001b[0m \u001b[0msynth\u001b[0m\u001b[1;33m(\u001b[0m\u001b[1;34m'sin'\u001b[0m\u001b[1;33m,\u001b[0m\u001b[0mfreq\u001b[0m\u001b[1;33m=\u001b[0m\u001b[0mfreq\u001b[0m\u001b[1;33m,\u001b[0m\u001b[0mamp\u001b[0m\u001b[1;33m=\u001b[0m\u001b[0mamp\u001b[0m\u001b[1;33m,\u001b[0m\u001b[0mTmax\u001b[0m\u001b[1;33m=\u001b[0m\u001b[0mTmax\u001b[0m\u001b[1;33m)\u001b[0m\u001b[1;33m\u001b[0m\u001b[1;33m\u001b[0m\u001b[0m\n\u001b[0m\u001b[0;32m     29\u001b[0m         \u001b[0mplt\u001b[0m\u001b[1;33m.\u001b[0m\u001b[0mplot\u001b[0m\u001b[1;33m(\u001b[0m\u001b[0mx\u001b[0m\u001b[1;33m,\u001b[0m \u001b[0my\u001b[0m\u001b[1;33m,\u001b[0m \u001b[0mcolor\u001b[0m\u001b[1;33m=\u001b[0m\u001b[1;34m'C0'\u001b[0m\u001b[1;33m)\u001b[0m\u001b[1;33m\u001b[0m\u001b[1;33m\u001b[0m\u001b[0m\n\u001b[0;32m     30\u001b[0m         \u001b[0mplt\u001b[0m\u001b[1;33m.\u001b[0m\u001b[0mylim\u001b[0m\u001b[1;33m(\u001b[0m\u001b[1;33m[\u001b[0m\u001b[1;33m-\u001b[0m\u001b[1;36m3\u001b[0m\u001b[1;33m,\u001b[0m \u001b[1;36m3\u001b[0m\u001b[1;33m]\u001b[0m\u001b[1;33m)\u001b[0m\u001b[1;33m\u001b[0m\u001b[1;33m\u001b[0m\u001b[0m\n",
          "\u001b[1;31mTypeError\u001b[0m: synth() got an unexpected keyword argument 'amp'"
         ]
        }
       ]
      }
     },
     "28beb0a940b24546baeb383dc2d48191": {
      "model_module": "@jupyter-widgets/controls",
      "model_module_version": "1.5.0",
      "model_name": "SliderStyleModel",
      "state": {
       "description_width": ""
      }
     },
     "28c2402837034360a8007c2e5cb24b41": {
      "model_module": "@jupyter-widgets/controls",
      "model_module_version": "1.5.0",
      "model_name": "FloatSliderModel",
      "state": {
       "description": "Frequency",
       "layout": "IPY_MODEL_6daf5919bb2e4b8382ce8af99105cb73",
       "max": 1000,
       "min": 200,
       "step": 0.1,
       "style": "IPY_MODEL_639db2a3c43d4e4ab39f3041d1728893",
       "value": 200
      }
     },
     "297c50f259374fb9a3897174f24ed232": {
      "model_module": "@jupyter-widgets/base",
      "model_module_version": "1.2.0",
      "model_name": "LayoutModel",
      "state": {}
     },
     "29bb2eb739cf462d8a1e1ecc6ec08fdf": {
      "model_module": "@jupyter-widgets/base",
      "model_module_version": "1.2.0",
      "model_name": "LayoutModel",
      "state": {}
     },
     "2a0adc512d6a466ba288621933033f8f": {
      "model_module": "@jupyter-widgets/controls",
      "model_module_version": "1.5.0",
      "model_name": "SliderStyleModel",
      "state": {
       "description_width": ""
      }
     },
     "2a116870a34f4c23b996264e99c1ae43": {
      "model_module": "@jupyter-widgets/controls",
      "model_module_version": "1.5.0",
      "model_name": "TextModel",
      "state": {
       "continuous_update": false,
       "description": "ylabel",
       "layout": "IPY_MODEL_583224dbedec454194a6a14a73c78e2e",
       "style": "IPY_MODEL_6b19bd37574d41409ce4e6f2705ed711",
       "value": "y"
      }
     },
     "2b3820f7f9214909a1f9c8d498f4f133": {
      "model_module": "@jupyter-widgets/controls",
      "model_module_version": "1.5.0",
      "model_name": "FloatSliderModel",
      "state": {
       "description": "Frequency",
       "layout": "IPY_MODEL_a3173212f85c43c7bbd907ae865362df",
       "max": 1000,
       "min": 200,
       "step": 0.1,
       "style": "IPY_MODEL_12005913c8454c71afe19292c4a4ea6f",
       "value": 410.4
      }
     },
     "2b4b6088f3ce4dba94993234e73d4c24": {
      "model_module": "@jupyter-widgets/output",
      "model_module_version": "1.0.0",
      "model_name": "OutputModel",
      "state": {
       "layout": "IPY_MODEL_db84580df0b8408c8135c2afa63f74b1"
      }
     },
     "2ba92fd13c9b425fba3ee8cbfbecbcaf": {
      "model_module": "@jupyter-widgets/controls",
      "model_module_version": "1.5.0",
      "model_name": "VBoxModel",
      "state": {
       "children": [
        "IPY_MODEL_dc60dfb5242e488083282779b86dea49",
        "IPY_MODEL_2692fb5610aa46f9b5ebabca37cb61cb"
       ],
       "layout": "IPY_MODEL_0da7bd2d0d09419b9cd00654acb3ca7e"
      }
     },
     "2c3fccbbf3b54b2c9294c146d385e568": {
      "model_module": "@jupyter-widgets/base",
      "model_module_version": "1.2.0",
      "model_name": "LayoutModel",
      "state": {}
     },
     "2c6f6c27e39c41b1a77b8c768c010a9b": {
      "model_module": "@jupyter-widgets/controls",
      "model_module_version": "1.5.0",
      "model_name": "HBoxModel",
      "state": {
       "children": [
        "IPY_MODEL_75cf1312f21c427b8573a81e03024110",
        "IPY_MODEL_67e69053c02f4cd8aa48bb7fcaee207c"
       ],
       "layout": "IPY_MODEL_02c2bf6c219d432f8e18823e962dc638"
      }
     },
     "2c8469b5d2494562bd0cd2b17c5bca0b": {
      "model_module": "@jupyter-widgets/base",
      "model_module_version": "1.2.0",
      "model_name": "LayoutModel",
      "state": {}
     },
     "2c87cc90cefa4d4490517cc9726245e6": {
      "model_module": "@jupyter-widgets/controls",
      "model_module_version": "1.5.0",
      "model_name": "VBoxModel",
      "state": {
       "children": [
        "IPY_MODEL_6f2f67fa9fa443cd9b27151c638f2f06",
        "IPY_MODEL_d5d3630e93d348c0b38776e4f8ef95fd"
       ],
       "layout": "IPY_MODEL_c8c6d37165134e2e99f4b94be2c016de"
      }
     },
     "2c8da3e4f2464506bcb404bd23b50ff0": {
      "model_module": "@jupyter-widgets/controls",
      "model_module_version": "1.5.0",
      "model_name": "FloatSliderModel",
      "state": {
       "description": "phi",
       "layout": "IPY_MODEL_0b581131dda545d3bebd366818bc6984",
       "max": 6.283185307179586,
       "step": 0.01,
       "style": "IPY_MODEL_da9573c65184486aa5741092a190cf4f"
      }
     },
     "2cdab8b02490428ab0b64140b85fa849": {
      "model_module": "@jupyter-widgets/controls",
      "model_module_version": "1.5.0",
      "model_name": "VBoxModel",
      "state": {
       "children": [
        "IPY_MODEL_ed44d7dd01a14f27ad29827fa63ba3e6",
        "IPY_MODEL_2b3820f7f9214909a1f9c8d498f4f133",
        "IPY_MODEL_58a477fbfbc44e8db6827326f6c3c64a"
       ],
       "layout": "IPY_MODEL_56e78bd8c04f4ebd975ca6ee198083b9"
      }
     },
     "2cf80e41eaa4473db9c07dda499d5b3e": {
      "model_module": "@jupyter-widgets/base",
      "model_module_version": "1.2.0",
      "model_name": "LayoutModel",
      "state": {}
     },
     "2cf8b1fbe17a4478b03a19ee5438488e": {
      "model_module": "@jupyter-widgets/base",
      "model_module_version": "1.2.0",
      "model_name": "LayoutModel",
      "state": {}
     },
     "2edbb18d72bc4d18a320c969dcafd724": {
      "model_module": "@jupyter-widgets/base",
      "model_module_version": "1.2.0",
      "model_name": "LayoutModel",
      "state": {}
     },
     "2f3fca204ee1457285060576c29010e0": {
      "model_module": "@jupyter-widgets/controls",
      "model_module_version": "1.5.0",
      "model_name": "SliderStyleModel",
      "state": {
       "description_width": ""
      }
     },
     "30085e35aff6452a903538107b67029e": {
      "model_module": "@jupyter-widgets/base",
      "model_module_version": "1.2.0",
      "model_name": "LayoutModel",
      "state": {}
     },
     "30bdb1152458463a88f1e461c5652639": {
      "model_module": "@jupyter-widgets/base",
      "model_module_version": "1.2.0",
      "model_name": "LayoutModel",
      "state": {}
     },
     "31dba8a592254ade951437e136063fee": {
      "model_module": "@jupyter-widgets/controls",
      "model_module_version": "1.5.0",
      "model_name": "SliderStyleModel",
      "state": {
       "description_width": ""
      }
     },
     "31df043e185a466f938436f3f029f8db": {
      "model_module": "@jupyter-widgets/base",
      "model_module_version": "1.2.0",
      "model_name": "LayoutModel",
      "state": {}
     },
     "32a19c3190844213ba8a3884c7b9ece3": {
      "model_module": "@jupyter-widgets/output",
      "model_module_version": "1.0.0",
      "model_name": "OutputModel",
      "state": {
       "layout": "IPY_MODEL_be22cdf0f537473bb5f009aadd6b7d6f"
      }
     },
     "33cd7cdb2b054bacab58e975e6027277": {
      "model_module": "@jupyter-widgets/controls",
      "model_module_version": "1.5.0",
      "model_name": "IntSliderModel",
      "state": {
       "description": "freq",
       "layout": "IPY_MODEL_57e20e5ff6d54371b5abf8a0df5d2504",
       "max": 10,
       "style": "IPY_MODEL_b03b349f29ad4b07a8b6b040f6b0a390",
       "value": 1
      }
     },
     "33ee0d7ec3574a24a2d06055219c5d9b": {
      "model_module": "@jupyter-widgets/output",
      "model_module_version": "1.0.0",
      "model_name": "OutputModel",
      "state": {
       "layout": "IPY_MODEL_b0f99805ed7f426b801f5c4249898b7a",
       "outputs": [
        {
         "data": {
          "image/png": "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\n",
          "text/plain": "<Figure size 432x288 with 1 Axes>"
         },
         "metadata": {
          "needs_background": "light"
         },
         "output_type": "display_data"
        }
       ]
      }
     },
     "347333b03ee54201a5ab2201b934b6de": {
      "model_module": "@jupyter-widgets/base",
      "model_module_version": "1.2.0",
      "model_name": "LayoutModel",
      "state": {}
     },
     "347ca119a8fc4040bca3a05a65f8f0b9": {
      "model_module": "@jupyter-widgets/base",
      "model_module_version": "1.2.0",
      "model_name": "LayoutModel",
      "state": {}
     },
     "35c23999f9ab4c468fda364a3f8aa63c": {
      "model_module": "@jupyter-widgets/controls",
      "model_module_version": "1.5.0",
      "model_name": "FloatSliderModel",
      "state": {
       "description": "Amplitude",
       "layout": "IPY_MODEL_4971bb4e81e745c380efd9da0439543a",
       "max": 1,
       "step": 0.05,
       "style": "IPY_MODEL_d6598ba183854a75b6c21539369f569d",
       "value": 0.5
      }
     },
     "36fb887105cb4391a251d4e89d0c5a96": {
      "model_module": "@jupyter-widgets/base",
      "model_module_version": "1.2.0",
      "model_name": "LayoutModel",
      "state": {}
     },
     "37804269f27f45418309425cea0e3001": {
      "model_module": "@jupyter-widgets/controls",
      "model_module_version": "1.5.0",
      "model_name": "DropdownModel",
      "state": {
       "_options_labels": [
        "sin",
        "square",
        "sawtooth"
       ],
       "description": "Signal",
       "index": 0,
       "layout": "IPY_MODEL_b9f30b832a74415c8e6ad489e588d8e5",
       "style": "IPY_MODEL_a10344487a464e1faeb6184f58bb155f"
      }
     },
     "37cbba7703f246dda23a0d07c1dd3c2f": {
      "model_module": "@jupyter-widgets/controls",
      "model_module_version": "1.5.0",
      "model_name": "VBoxModel",
      "state": {
       "_dom_classes": [
        "widget-interact"
       ],
       "children": [
        "IPY_MODEL_70d72249193649ad90fbced8382d85db",
        "IPY_MODEL_826ce5669b72426cbf6e785a6f413ccd",
        "IPY_MODEL_bf615cc85e844daab9be448a20607fb3",
        "IPY_MODEL_9328686df6cf45aa87636c726d9d0a26"
       ],
       "layout": "IPY_MODEL_0e16f671658949c18c5ccf533631350c"
      }
     },
     "37e93623a87d4306ac460c4a74fedbde": {
      "model_module": "@jupyter-widgets/base",
      "model_module_version": "1.2.0",
      "model_name": "LayoutModel",
      "state": {}
     },
     "381536f5432e4db995f621fa8c5cccb2": {
      "model_module": "@jupyter-widgets/controls",
      "model_module_version": "1.5.0",
      "model_name": "SliderStyleModel",
      "state": {
       "description_width": ""
      }
     },
     "38c0a8a22c6c482085e44b2dea6e6f4a": {
      "model_module": "@jupyter-widgets/controls",
      "model_module_version": "1.5.0",
      "model_name": "SliderStyleModel",
      "state": {
       "description_width": ""
      }
     },
     "393711fcfbfc4b50a9583a8bc0a303c5": {
      "model_module": "@jupyter-widgets/controls",
      "model_module_version": "1.5.0",
      "model_name": "VBoxModel",
      "state": {
       "children": [
        "IPY_MODEL_35c23999f9ab4c468fda364a3f8aa63c",
        "IPY_MODEL_7450a926503041939cc463ce5ac9563c",
        "IPY_MODEL_c7beff327bfd4491bfe51dc90d85dea7"
       ],
       "layout": "IPY_MODEL_5a44c9380efa49d8b9b6ef025d2be216"
      }
     },
     "39e4bef47fb843fa96cee956b92af924": {
      "model_module": "@jupyter-widgets/base",
      "model_module_version": "1.2.0",
      "model_name": "LayoutModel",
      "state": {}
     },
     "3a0f6181dfeb451d974ae6c0c01eafc1": {
      "model_module": "@jupyter-widgets/controls",
      "model_module_version": "1.5.0",
      "model_name": "SliderStyleModel",
      "state": {
       "description_width": ""
      }
     },
     "3a9d37ff20de4cf493728f685026469e": {
      "model_module": "@jupyter-widgets/controls",
      "model_module_version": "1.5.0",
      "model_name": "HBoxModel",
      "state": {
       "children": [
        "IPY_MODEL_8b776281b5554bffb334fe9bcda4d595",
        "IPY_MODEL_06acdd5cc7504274a54773aad4a04145"
       ],
       "layout": "IPY_MODEL_20dae5e7b61c41cfa0210421af462767"
      }
     },
     "3ab3c016cc484160bc7eea8a790beb07": {
      "model_module": "@jupyter-widgets/controls",
      "model_module_version": "1.5.0",
      "model_name": "HBoxModel",
      "state": {
       "children": [
        "IPY_MODEL_a9c1a137f34c43209cfbcfe56d78527c",
        "IPY_MODEL_5395422e52f842c088ffd5e440f749d2"
       ],
       "layout": "IPY_MODEL_7c9edc85b5424f3d91995721d0b4c558"
      }
     },
     "3ae9a99502f94439b6f344b49d1a9337": {
      "model_module": "@jupyter-widgets/base",
      "model_module_version": "1.2.0",
      "model_name": "LayoutModel",
      "state": {
       "border": "1px solid black"
      }
     },
     "3b07b8ad3cd14c9fac0de487f75177eb": {
      "model_module": "@jupyter-widgets/base",
      "model_module_version": "1.2.0",
      "model_name": "LayoutModel",
      "state": {}
     },
     "3b2635b5d73241cb967e1f5692cdb9a0": {
      "model_module": "@jupyter-widgets/base",
      "model_module_version": "1.2.0",
      "model_name": "LayoutModel",
      "state": {}
     },
     "3b3bf8bb300344ad906ec72c768d3499": {
      "model_module": "@jupyter-widgets/controls",
      "model_module_version": "1.5.0",
      "model_name": "FloatSliderModel",
      "state": {
       "description": "Amplitude",
       "layout": "IPY_MODEL_95ea0369612b41ce86d1a63e8588c2e8",
       "max": 1,
       "step": 0.05,
       "style": "IPY_MODEL_2f3fca204ee1457285060576c29010e0",
       "value": 0.65
      }
     },
     "3c59a88a5e504e5bb66ef039318e171b": {
      "model_module": "@jupyter-widgets/base",
      "model_module_version": "1.2.0",
      "model_name": "LayoutModel",
      "state": {}
     },
     "3e61ae455db94b7d815738caa02067d7": {
      "model_module": "@jupyter-widgets/base",
      "model_module_version": "1.2.0",
      "model_name": "LayoutModel",
      "state": {}
     },
     "3f960215aa5d40e0acbd1a3adc2167dd": {
      "model_module": "@jupyter-widgets/output",
      "model_module_version": "1.0.0",
      "model_name": "OutputModel",
      "state": {
       "layout": "IPY_MODEL_c89f9325cf724dd399f0fc74af8c43f0"
      }
     },
     "40319092d1044482b5f8cf876b1b5c4f": {
      "model_module": "@jupyter-widgets/output",
      "model_module_version": "1.0.0",
      "model_name": "OutputModel",
      "state": {
       "layout": "IPY_MODEL_e6114e9b461043e592b64ea0baf39e33",
       "outputs": [
        {
         "ename": "NameError",
         "evalue": "name 'samplerate' is not defined",
         "output_type": "error",
         "traceback": [
          "\u001b[1;31m---------------------------------------------------------------------------\u001b[0m",
          "\u001b[1;31mNameError\u001b[0m                                 Traceback (most recent call last)",
          "\u001b[1;32m<ipython-input-6-45a171047812>\u001b[0m in \u001b[0;36mplot_sin\u001b[1;34m(amp, omega, phi)\u001b[0m\n\u001b[0;32m     27\u001b[0m     \u001b[1;32mwith\u001b[0m \u001b[0mout_audio\u001b[0m\u001b[1;33m:\u001b[0m\u001b[1;33m\u001b[0m\u001b[1;33m\u001b[0m\u001b[0m\n\u001b[0;32m     28\u001b[0m         \u001b[0mipd\u001b[0m\u001b[1;33m.\u001b[0m\u001b[0mclear_output\u001b[0m\u001b[1;33m(\u001b[0m\u001b[1;33m)\u001b[0m\u001b[1;33m\u001b[0m\u001b[1;33m\u001b[0m\u001b[0m\n\u001b[1;32m---> 29\u001b[1;33m         \u001b[0mipd\u001b[0m\u001b[1;33m.\u001b[0m\u001b[0mdisplay\u001b[0m\u001b[1;33m(\u001b[0m\u001b[0mipd\u001b[0m\u001b[1;33m.\u001b[0m\u001b[0mAudio\u001b[0m\u001b[1;33m(\u001b[0m\u001b[0mdata\u001b[0m\u001b[1;33m=\u001b[0m\u001b[0mmy_sine\u001b[0m\u001b[1;33m(\u001b[0m\u001b[0mx\u001b[0m\u001b[1;33m,\u001b[0m \u001b[0momega\u001b[0m\u001b[1;33m,\u001b[0m \u001b[0mamp\u001b[0m\u001b[1;33m,\u001b[0m \u001b[0mphi\u001b[0m\u001b[1;33m)\u001b[0m\u001b[1;33m,\u001b[0m\u001b[0mrate\u001b[0m\u001b[1;33m=\u001b[0m\u001b[0msamplerate\u001b[0m\u001b[1;33m,\u001b[0m\u001b[0mnormalize\u001b[0m\u001b[1;33m=\u001b[0m\u001b[1;32mFalse\u001b[0m\u001b[1;33m,\u001b[0m \u001b[0mautoplay\u001b[0m\u001b[1;33m=\u001b[0m\u001b[1;32mTrue\u001b[0m\u001b[1;33m)\u001b[0m\u001b[1;33m)\u001b[0m\u001b[1;33m\u001b[0m\u001b[1;33m\u001b[0m\u001b[0m\n\u001b[0m\u001b[0;32m     30\u001b[0m \u001b[1;33m\u001b[0m\u001b[0m\n\u001b[0;32m     31\u001b[0m \u001b[0mout_plot\u001b[0m \u001b[1;33m=\u001b[0m \u001b[0mwidgets\u001b[0m\u001b[1;33m.\u001b[0m\u001b[0minteractive_output\u001b[0m\u001b[1;33m(\u001b[0m\u001b[0mplot_sin\u001b[0m\u001b[1;33m,\u001b[0m \u001b[1;33m{\u001b[0m\u001b[1;34m'amp'\u001b[0m\u001b[1;33m:\u001b[0m \u001b[0mwg_amp\u001b[0m\u001b[1;33m,\u001b[0m \u001b[1;34m'omega'\u001b[0m\u001b[1;33m:\u001b[0m \u001b[0mwg_freq\u001b[0m\u001b[1;33m,\u001b[0m \u001b[1;34m'phi'\u001b[0m\u001b[1;33m:\u001b[0m \u001b[0mwg_phase\u001b[0m\u001b[1;33m}\u001b[0m\u001b[1;33m)\u001b[0m\u001b[1;33m\u001b[0m\u001b[1;33m\u001b[0m\u001b[0m\n",
          "\u001b[1;31mNameError\u001b[0m: name 'samplerate' is not defined"
         ]
        }
       ]
      }
     },
     "41502c9106e54c878fdaa7a3f8e82963": {
      "model_module": "@jupyter-widgets/controls",
      "model_module_version": "1.5.0",
      "model_name": "FloatSliderModel",
      "state": {
       "description": "phi",
       "layout": "IPY_MODEL_202590e2859a4ca1b000c1bf3c40c2dd",
       "max": 6.283185307179586,
       "step": 0.01,
       "style": "IPY_MODEL_c54a8d20b2c143698a440af98d168e88"
      }
     },
     "42278a5ec6054f2f9fd6b527a8d8a6e4": {
      "model_module": "@jupyter-widgets/controls",
      "model_module_version": "1.5.0",
      "model_name": "VBoxModel",
      "state": {
       "_dom_classes": [
        "widget-interact"
       ],
       "children": [
        "IPY_MODEL_9bfea725980c43d79f34b1380d6bfcfa",
        "IPY_MODEL_734156e125a84c22ac1e6b30497d6f65",
        "IPY_MODEL_c3b54c8f53134e35b06067ee81d6c72d",
        "IPY_MODEL_f68d27976d6f424ea326b5850e0ca4dd"
       ],
       "layout": "IPY_MODEL_63add0227e244aedb7abd5107555b06d"
      }
     },
     "42efcb464d634047922e6e08c6fce7e9": {
      "model_module": "@jupyter-widgets/base",
      "model_module_version": "1.2.0",
      "model_name": "LayoutModel",
      "state": {}
     },
     "4328d0d4dfd64c4892f20e2329b7e8e1": {
      "model_module": "@jupyter-widgets/base",
      "model_module_version": "1.2.0",
      "model_name": "LayoutModel",
      "state": {}
     },
     "43700483ced94cd2934a8b965cb463a4": {
      "model_module": "@jupyter-widgets/controls",
      "model_module_version": "1.5.0",
      "model_name": "IntSliderModel",
      "state": {
       "description": "w",
       "layout": "IPY_MODEL_5c35862d017f46aa8748b2a92aa2f4cf",
       "max": 10,
       "style": "IPY_MODEL_3a0f6181dfeb451d974ae6c0c01eafc1",
       "value": 1
      }
     },
     "43f40d6dbbf64eb48272eae67c34e96b": {
      "model_module": "@jupyter-widgets/base",
      "model_module_version": "1.2.0",
      "model_name": "LayoutModel",
      "state": {}
     },
     "4427ab2b77aa41ad89d906bc135da2a0": {
      "model_module": "@jupyter-widgets/controls",
      "model_module_version": "1.5.0",
      "model_name": "HBoxModel",
      "state": {
       "children": [
        "IPY_MODEL_b02e6ef86fbc4f839a5531e77129ad2a",
        "IPY_MODEL_47fb7e44640d442daa2108b0705f4a38"
       ],
       "layout": "IPY_MODEL_712201e50895455f93b76bb736faf626"
      }
     },
     "442f8b1a0fd141a6a5ece5ad3b373dbd": {
      "model_module": "@jupyter-widgets/base",
      "model_module_version": "1.2.0",
      "model_name": "LayoutModel",
      "state": {}
     },
     "44ee76e305684b81a12f533993cc8f58": {
      "model_module": "@jupyter-widgets/controls",
      "model_module_version": "1.5.0",
      "model_name": "SliderStyleModel",
      "state": {
       "description_width": ""
      }
     },
     "45eb5afc1eaa4dd7a26c450bc2b65a4f": {
      "model_module": "@jupyter-widgets/controls",
      "model_module_version": "1.5.0",
      "model_name": "FloatSliderModel",
      "state": {
       "description": "Frequency",
       "layout": "IPY_MODEL_526c23694eda45a38c163d510b6879c3",
       "max": 1000,
       "min": 200,
       "step": 0.1,
       "style": "IPY_MODEL_61dbcd058d8545198a13647616d28ecb",
       "value": 396.1
      }
     },
     "472fa2bae7944253bf7875a7ba832ba1": {
      "model_module": "@jupyter-widgets/controls",
      "model_module_version": "1.5.0",
      "model_name": "DescriptionStyleModel",
      "state": {
       "description_width": ""
      }
     },
     "47b04b045a304b59809efe479e4d875b": {
      "model_module": "@jupyter-widgets/controls",
      "model_module_version": "1.5.0",
      "model_name": "FloatSliderModel",
      "state": {
       "continuous_update": false,
       "description": "Duration",
       "layout": "IPY_MODEL_661eb8b01439407d9a8ebdfe95add1af",
       "max": 1,
       "min": 0.1,
       "step": 0.1,
       "style": "IPY_MODEL_57955a6887d54f42a489a321dd10f86d",
       "value": 0.5
      }
     },
     "47fb7e44640d442daa2108b0705f4a38": {
      "model_module": "@jupyter-widgets/controls",
      "model_module_version": "1.5.0",
      "model_name": "VBoxModel",
      "state": {
       "children": [
        "IPY_MODEL_69e86436dc1347be8929dbaadd6a42f8",
        "IPY_MODEL_3f960215aa5d40e0acbd1a3adc2167dd"
       ],
       "layout": "IPY_MODEL_b9f378c6422f4730b928cabb00cdce43"
      }
     },
     "480454e8c9234c57905f0b2bc255bd6c": {
      "model_module": "@jupyter-widgets/base",
      "model_module_version": "1.2.0",
      "model_name": "LayoutModel",
      "state": {}
     },
     "48a12ee2cc3d4b379cb46b958dc28f13": {
      "model_module": "@jupyter-widgets/controls",
      "model_module_version": "1.5.0",
      "model_name": "FloatSliderModel",
      "state": {
       "continuous_update": false,
       "description": "Duration",
       "layout": "IPY_MODEL_d44db16e18784343ad25a86a841e4272",
       "max": 1,
       "min": 0.1,
       "step": 0.1,
       "style": "IPY_MODEL_73c13bd113bd467ebbbce43fbd8ab708",
       "value": 0.4
      }
     },
     "48de33c20ca943aeabcf9317b7396768": {
      "model_module": "@jupyter-widgets/base",
      "model_module_version": "1.2.0",
      "model_name": "LayoutModel",
      "state": {}
     },
     "48ea270b37d24393807c073f37188cca": {
      "model_module": "@jupyter-widgets/base",
      "model_module_version": "1.2.0",
      "model_name": "LayoutModel",
      "state": {}
     },
     "4905f806c1af48dba6c887c38878cbf2": {
      "model_module": "@jupyter-widgets/output",
      "model_module_version": "1.0.0",
      "model_name": "OutputModel",
      "state": {
       "layout": "IPY_MODEL_85f2fbf632b9415a8b312b20702c71c5",
       "outputs": [
        {
         "data": {
          "image/png": "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\n",
          "text/plain": "<Figure size 432x288 with 1 Axes>"
         },
         "metadata": {
          "needs_background": "light"
         },
         "output_type": "display_data"
        }
       ]
      }
     },
     "4938f92fae1e429d92615b054453705a": {
      "model_module": "@jupyter-widgets/controls",
      "model_module_version": "1.5.0",
      "model_name": "VBoxModel",
      "state": {
       "children": [
        "IPY_MODEL_02314d92f6964c1d9a487937559db41c",
        "IPY_MODEL_4905f806c1af48dba6c887c38878cbf2"
       ],
       "layout": "IPY_MODEL_6a5ebcbaa3bc4842b4cf76d41541b22c"
      }
     },
     "4971bb4e81e745c380efd9da0439543a": {
      "model_module": "@jupyter-widgets/base",
      "model_module_version": "1.2.0",
      "model_name": "LayoutModel",
      "state": {}
     },
     "4b997e299e1a4af5b32c58f74048b453": {
      "model_module": "@jupyter-widgets/base",
      "model_module_version": "1.2.0",
      "model_name": "LayoutModel",
      "state": {}
     },
     "4c0dc6cfd44648069fe08eacdd663607": {
      "model_module": "@jupyter-widgets/controls",
      "model_module_version": "1.5.0",
      "model_name": "FloatSliderModel",
      "state": {
       "description": "Amplitude",
       "layout": "IPY_MODEL_bac90ac84f394958885f773ab7700cbf",
       "max": 1,
       "step": 0.05,
       "style": "IPY_MODEL_89bdc09977dc48e085b754ab8e13c57b",
       "value": 0.35
      }
     },
     "4c4fde2ba61a4712be85e7e3aba9200e": {
      "model_module": "@jupyter-widgets/controls",
      "model_module_version": "1.5.0",
      "model_name": "SliderStyleModel",
      "state": {
       "description_width": ""
      }
     },
     "4cb9698f90ca4f86b1d68545219431a6": {
      "model_module": "@jupyter-widgets/controls",
      "model_module_version": "1.5.0",
      "model_name": "VBoxModel",
      "state": {
       "children": [
        "IPY_MODEL_15a121c44a7e4359bf6394741e187381",
        "IPY_MODEL_179232e6dc9c46d8a5bff3984e53e533",
        "IPY_MODEL_9e779e64197e45008c9fb112d2ec5877"
       ],
       "layout": "IPY_MODEL_11710d2e0a1a4c65b566cf11920b5bad"
      }
     },
     "4d4a769db1e84fc7923ad8ab2e698a53": {
      "model_module": "@jupyter-widgets/controls",
      "model_module_version": "1.5.0",
      "model_name": "HBoxModel",
      "state": {
       "children": [
        "IPY_MODEL_8a57945e08a24d818554f3c1d4d5bea8",
        "IPY_MODEL_c6b9a64f089f414a872724bdfe83ffec",
        "IPY_MODEL_d10a3b2b9b9e4a2d9e0020852645d3f8"
       ],
       "layout": "IPY_MODEL_30bdb1152458463a88f1e461c5652639"
      }
     },
     "4d880ae1a25444959fc329504134b17d": {
      "model_module": "@jupyter-widgets/controls",
      "model_module_version": "1.5.0",
      "model_name": "VBoxModel",
      "state": {
       "children": [
        "IPY_MODEL_afad739c00a746149b9c736dfc0e8958",
        "IPY_MODEL_a61222569fc6465f816fef3207ead097"
       ],
       "layout": "IPY_MODEL_297c50f259374fb9a3897174f24ed232"
      }
     },
     "4e81ff0e9f7d4ad883b66e1d5b4fc71b": {
      "model_module": "@jupyter-widgets/controls",
      "model_module_version": "1.5.0",
      "model_name": "ColorPickerModel",
      "state": {
       "description": "pick a color",
       "disabled": false,
       "layout": "IPY_MODEL_29bb2eb739cf462d8a1e1ecc6ec08fdf",
       "style": "IPY_MODEL_6a1e4f20dc4f47de83b977ae4fbd721c",
       "value": "#FF0000"
      }
     },
     "4f913d9267174cc3a8432cca5ea8fef0": {
      "model_module": "@jupyter-widgets/base",
      "model_module_version": "1.2.0",
      "model_name": "LayoutModel",
      "state": {}
     },
     "5082f10feac0405dbbdb8f513d8d7b94": {
      "model_module": "@jupyter-widgets/base",
      "model_module_version": "1.2.0",
      "model_name": "LayoutModel",
      "state": {}
     },
     "5118c92579ae41d69471398db8290ac3": {
      "model_module": "@jupyter-widgets/base",
      "model_module_version": "1.2.0",
      "model_name": "LayoutModel",
      "state": {}
     },
     "51230dbd23e14c0db468ac79a5d4f80c": {
      "model_module": "@jupyter-widgets/base",
      "model_module_version": "1.2.0",
      "model_name": "LayoutModel",
      "state": {}
     },
     "518f47e88f8a449487bed35ee554a243": {
      "model_module": "@jupyter-widgets/controls",
      "model_module_version": "1.5.0",
      "model_name": "FloatSliderModel",
      "state": {
       "description": "Frequency",
       "layout": "IPY_MODEL_925bec3784114c04aea65e822e153f8b",
       "max": 1000,
       "min": 200,
       "step": 0.1,
       "style": "IPY_MODEL_12c659547635442b810012ab86246710",
       "value": 200
      }
     },
     "526c23694eda45a38c163d510b6879c3": {
      "model_module": "@jupyter-widgets/base",
      "model_module_version": "1.2.0",
      "model_name": "LayoutModel",
      "state": {}
     },
     "528869b77a904f4eb40a6e2e27f453e2": {
      "model_module": "@jupyter-widgets/base",
      "model_module_version": "1.2.0",
      "model_name": "LayoutModel",
      "state": {}
     },
     "5395422e52f842c088ffd5e440f749d2": {
      "model_module": "@jupyter-widgets/controls",
      "model_module_version": "1.5.0",
      "model_name": "VBoxModel",
      "state": {
       "children": [
        "IPY_MODEL_8dcb8ea93b21416689a0508ce6e66568",
        "IPY_MODEL_fc5ffeabdeec4a4f8ace2f74b8ae5f83"
       ],
       "layout": "IPY_MODEL_0f54fa04106f4c9180edb9b04979a4b9"
      }
     },
     "53b850aad208467fae9761f1864e1591": {
      "model_module": "@jupyter-widgets/base",
      "model_module_version": "1.2.0",
      "model_name": "LayoutModel",
      "state": {}
     },
     "54c5d0f4b6e54f0e8b7ae4239542915e": {
      "model_module": "@jupyter-widgets/controls",
      "model_module_version": "1.5.0",
      "model_name": "VBoxModel",
      "state": {
       "children": [
        "IPY_MODEL_83f3a877958b47b2971115f5401a1d3b",
        "IPY_MODEL_93edd01dca2843f686dab531d89470a6"
       ],
       "layout": "IPY_MODEL_f5974a222cb543e19b07480677886d1f"
      }
     },
     "554e2be565eb4c17b515dbeb06730681": {
      "model_module": "@jupyter-widgets/base",
      "model_module_version": "1.2.0",
      "model_name": "LayoutModel",
      "state": {}
     },
     "55611e0a6c19479494f00a92c328d3b4": {
      "model_module": "@jupyter-widgets/base",
      "model_module_version": "1.2.0",
      "model_name": "LayoutModel",
      "state": {}
     },
     "5582134b59f7440090d6eec1c5f54a97": {
      "model_module": "@jupyter-widgets/base",
      "model_module_version": "1.2.0",
      "model_name": "LayoutModel",
      "state": {}
     },
     "55f781a0e17a4f13aa994988ae325f37": {
      "model_module": "@jupyter-widgets/base",
      "model_module_version": "1.2.0",
      "model_name": "LayoutModel",
      "state": {}
     },
     "56300fcd1ecd4b3383fc1e573ab90d57": {
      "model_module": "@jupyter-widgets/base",
      "model_module_version": "1.2.0",
      "model_name": "LayoutModel",
      "state": {}
     },
     "56e78bd8c04f4ebd975ca6ee198083b9": {
      "model_module": "@jupyter-widgets/base",
      "model_module_version": "1.2.0",
      "model_name": "LayoutModel",
      "state": {}
     },
     "5729c76e8b46406aa926b1e6267db9a5": {
      "model_module": "@jupyter-widgets/output",
      "model_module_version": "1.0.0",
      "model_name": "OutputModel",
      "state": {
       "layout": "IPY_MODEL_a8461561c7af428c924f351c04a35d1d",
       "outputs": [
        {
         "data": {
          "image/png": "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\n",
          "text/plain": "<Figure size 432x288 with 1 Axes>"
         },
         "metadata": {
          "needs_background": "light"
         },
         "output_type": "display_data"
        }
       ]
      }
     },
     "57398ee6972e4795907a56151a127142": {
      "model_module": "@jupyter-widgets/base",
      "model_module_version": "1.2.0",
      "model_name": "LayoutModel",
      "state": {}
     },
     "578e3d7d8bbe4a28ab86528f3650b014": {
      "model_module": "@jupyter-widgets/controls",
      "model_module_version": "1.5.0",
      "model_name": "FloatSliderModel",
      "state": {
       "description": "Frequency",
       "layout": "IPY_MODEL_ef1e4cb5d92a40daa561c52eef09e077",
       "max": 500,
       "min": 50,
       "step": 5,
       "style": "IPY_MODEL_0903ed7193b049d08b5e039294832826",
       "value": 200
      }
     },
     "57955a6887d54f42a489a321dd10f86d": {
      "model_module": "@jupyter-widgets/controls",
      "model_module_version": "1.5.0",
      "model_name": "SliderStyleModel",
      "state": {
       "description_width": ""
      }
     },
     "57e20e5ff6d54371b5abf8a0df5d2504": {
      "model_module": "@jupyter-widgets/base",
      "model_module_version": "1.2.0",
      "model_name": "LayoutModel",
      "state": {}
     },
     "582cbbefa7be413797405c980f27e733": {
      "model_module": "@jupyter-widgets/base",
      "model_module_version": "1.2.0",
      "model_name": "LayoutModel",
      "state": {}
     },
     "583224dbedec454194a6a14a73c78e2e": {
      "model_module": "@jupyter-widgets/base",
      "model_module_version": "1.2.0",
      "model_name": "LayoutModel",
      "state": {}
     },
     "58a477fbfbc44e8db6827326f6c3c64a": {
      "model_module": "@jupyter-widgets/controls",
      "model_module_version": "1.5.0",
      "model_name": "FloatSliderModel",
      "state": {
       "continuous_update": false,
       "description": "Duration",
       "layout": "IPY_MODEL_43f40d6dbbf64eb48272eae67c34e96b",
       "max": 1,
       "min": 0.1,
       "step": 0.1,
       "style": "IPY_MODEL_19a923e47b70409380a883427e1dcb66",
       "value": 0.7
      }
     },
     "594e0c3b6d134b289b05aae0e615a70b": {
      "model_module": "@jupyter-widgets/controls",
      "model_module_version": "1.5.0",
      "model_name": "FloatSliderModel",
      "state": {
       "continuous_update": false,
       "description": "Phase",
       "layout": "IPY_MODEL_31df043e185a466f938436f3f029f8db",
       "max": 2,
       "min": 0.1,
       "step": 0.1,
       "style": "IPY_MODEL_0581d8a800aa404e9b925869720979c2",
       "value": 0.6
      }
     },
     "59fea7700e234904859ba0bc5e12f83f": {
      "model_module": "@jupyter-widgets/output",
      "model_module_version": "1.0.0",
      "model_name": "OutputModel",
      "state": {
       "layout": "IPY_MODEL_4f913d9267174cc3a8432cca5ea8fef0",
       "outputs": [
        {
         "data": {
          "text/html": "\n                <audio  controls=\"controls\" autoplay=\"autoplay\">\n                    <source src=\"data:audio/wav;base64,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\" type=\"audio/wav\" />\n                    Your browser does not support the audio element.\n                </audio>\n              ",
          "text/plain": "<IPython.lib.display.Audio object>"
         },
         "metadata": {},
         "output_type": "display_data"
        }
       ]
      }
     },
     "5a0916aa396b4d5ea3c6460ec7e762f5": {
      "model_module": "@jupyter-widgets/controls",
      "model_module_version": "1.5.0",
      "model_name": "SliderStyleModel",
      "state": {
       "description_width": ""
      }
     },
     "5a44c9380efa49d8b9b6ef025d2be216": {
      "model_module": "@jupyter-widgets/base",
      "model_module_version": "1.2.0",
      "model_name": "LayoutModel",
      "state": {}
     },
     "5af6673af745475e85c494e1a6dcfbbb": {
      "model_module": "@jupyter-widgets/controls",
      "model_module_version": "1.5.0",
      "model_name": "FloatSliderModel",
      "state": {
       "description": "Amplitude",
       "layout": "IPY_MODEL_51230dbd23e14c0db468ac79a5d4f80c",
       "max": 1,
       "step": 0.05,
       "style": "IPY_MODEL_381536f5432e4db995f621fa8c5cccb2",
       "value": 0.15
      }
     },
     "5b42a6c2e97d455b9cf39060d5f7d756": {
      "model_module": "@jupyter-widgets/controls",
      "model_module_version": "1.5.0",
      "model_name": "VBoxModel",
      "state": {
       "children": [
        "IPY_MODEL_f5b946adb7804ddf945750506fe31ba2",
        "IPY_MODEL_83d06371dcca4680be1dd1efd404d2b8"
       ],
       "layout": "IPY_MODEL_838ed0cd61d64453a9ad4b55f7f889a5"
      }
     },
     "5c35862d017f46aa8748b2a92aa2f4cf": {
      "model_module": "@jupyter-widgets/base",
      "model_module_version": "1.2.0",
      "model_name": "LayoutModel",
      "state": {}
     },
     "5c500606342f4d6cb73421b1c3bbf05c": {
      "model_module": "@jupyter-widgets/base",
      "model_module_version": "1.2.0",
      "model_name": "LayoutModel",
      "state": {}
     },
     "5cb6ff531b2c478a99a6a54350fbf601": {
      "model_module": "@jupyter-widgets/controls",
      "model_module_version": "1.5.0",
      "model_name": "SliderStyleModel",
      "state": {
       "description_width": ""
      }
     },
     "5cbffac597ba484ebd4d6007b877318c": {
      "model_module": "@jupyter-widgets/base",
      "model_module_version": "1.2.0",
      "model_name": "LayoutModel",
      "state": {}
     },
     "5fa1852511844da0acd3d4e3a648bb70": {
      "model_module": "@jupyter-widgets/base",
      "model_module_version": "1.2.0",
      "model_name": "LayoutModel",
      "state": {}
     },
     "5fea10e9051d4e2ca0db550d339b0525": {
      "model_module": "@jupyter-widgets/controls",
      "model_module_version": "1.5.0",
      "model_name": "FloatSliderModel",
      "state": {
       "description": "Amplitude",
       "layout": "IPY_MODEL_55611e0a6c19479494f00a92c328d3b4",
       "max": 1,
       "step": 0.05,
       "style": "IPY_MODEL_00bbf0f0e7324b509c051cd076d935c7",
       "value": 0.5
      }
     },
     "60f821587ef348c59608dce7a193fc07": {
      "model_module": "@jupyter-widgets/controls",
      "model_module_version": "1.5.0",
      "model_name": "FloatSliderModel",
      "state": {
       "description": "Amplitude",
       "layout": "IPY_MODEL_2c8469b5d2494562bd0cd2b17c5bca0b",
       "max": 1,
       "step": 0.05,
       "style": "IPY_MODEL_7192e6c35e554cb8a5495acb276d97a8",
       "value": 0.15
      }
     },
     "617043fe6bd94b208dae503b455c4264": {
      "model_module": "@jupyter-widgets/base",
      "model_module_version": "1.2.0",
      "model_name": "LayoutModel",
      "state": {}
     },
     "61dbcd058d8545198a13647616d28ecb": {
      "model_module": "@jupyter-widgets/controls",
      "model_module_version": "1.5.0",
      "model_name": "SliderStyleModel",
      "state": {
       "description_width": ""
      }
     },
     "61df70b472a7431e8515fc60709a2012": {
      "model_module": "@jupyter-widgets/base",
      "model_module_version": "1.2.0",
      "model_name": "LayoutModel",
      "state": {}
     },
     "635585bf1d8d4645a72e5de119d4f480": {
      "model_module": "@jupyter-widgets/base",
      "model_module_version": "1.2.0",
      "model_name": "LayoutModel",
      "state": {}
     },
     "639db2a3c43d4e4ab39f3041d1728893": {
      "model_module": "@jupyter-widgets/controls",
      "model_module_version": "1.5.0",
      "model_name": "SliderStyleModel",
      "state": {
       "description_width": ""
      }
     },
     "63add0227e244aedb7abd5107555b06d": {
      "model_module": "@jupyter-widgets/base",
      "model_module_version": "1.2.0",
      "model_name": "LayoutModel",
      "state": {}
     },
     "63b40a6134b8452db860f990354a0777": {
      "model_module": "@jupyter-widgets/controls",
      "model_module_version": "1.5.0",
      "model_name": "VBoxModel",
      "state": {
       "children": [
        "IPY_MODEL_ef425f0f52564398acd84fb3d9eed9f2",
        "IPY_MODEL_f95d111bf34f4918afe3f28d9b5b5ab0",
        "IPY_MODEL_594e0c3b6d134b289b05aae0e615a70b"
       ],
       "layout": "IPY_MODEL_f4979ced07ac42aba53187e7864d97de"
      }
     },
     "63d141bcba9c460a9896f1e0e495a889": {
      "model_module": "@jupyter-widgets/controls",
      "model_module_version": "1.5.0",
      "model_name": "SliderStyleModel",
      "state": {
       "description_width": ""
      }
     },
     "6434de6108a344f4919c06075e140259": {
      "model_module": "@jupyter-widgets/controls",
      "model_module_version": "1.5.0",
      "model_name": "FloatSliderModel",
      "state": {
       "continuous_update": false,
       "description": "Duration",
       "layout": "IPY_MODEL_1d5aa6f6a3924dbdade4b61c56341efd",
       "max": 1,
       "min": 0.1,
       "step": 0.1,
       "style": "IPY_MODEL_2a0adc512d6a466ba288621933033f8f",
       "value": 0.4
      }
     },
     "645e28fc76764bb790779d7f7f923317": {
      "model_module": "@jupyter-widgets/base",
      "model_module_version": "1.2.0",
      "model_name": "LayoutModel",
      "state": {}
     },
     "661eb8b01439407d9a8ebdfe95add1af": {
      "model_module": "@jupyter-widgets/base",
      "model_module_version": "1.2.0",
      "model_name": "LayoutModel",
      "state": {}
     },
     "67e69053c02f4cd8aa48bb7fcaee207c": {
      "model_module": "@jupyter-widgets/output",
      "model_module_version": "1.0.0",
      "model_name": "OutputModel",
      "state": {
       "layout": "IPY_MODEL_13eed8873b1045faba805882d6470936",
       "outputs": [
        {
         "data": {
          "text/html": "\n                <audio  controls=\"controls\" autoplay=\"autoplay\">\n                    <source src=\"data:audio/wav;base64,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\" type=\"audio/wav\" />\n                    Your browser does not support the audio element.\n                </audio>\n              ",
          "text/plain": "<IPython.lib.display.Audio object>"
         },
         "metadata": {},
         "output_type": "display_data"
        }
       ]
      }
     },
     "67ea9d34ffd14933be1183df61504246": {
      "model_module": "@jupyter-widgets/controls",
      "model_module_version": "1.5.0",
      "model_name": "FloatSliderModel",
      "state": {
       "description": "Frequency",
       "layout": "IPY_MODEL_fc472d5a45b24bf3b3d11a093eac6084",
       "max": 1000,
       "min": 200,
       "step": 0.1,
       "style": "IPY_MODEL_b2804459a87f499792173109e33acd40",
       "value": 473.5
      }
     },
     "698c5305a52a443c907d1a2d454c25e3": {
      "model_module": "@jupyter-widgets/controls",
      "model_module_version": "1.5.0",
      "model_name": "SliderStyleModel",
      "state": {
       "description_width": ""
      }
     },
     "69e86436dc1347be8929dbaadd6a42f8": {
      "model_module": "@jupyter-widgets/output",
      "model_module_version": "1.0.0",
      "model_name": "OutputModel",
      "state": {
       "layout": "IPY_MODEL_5082f10feac0405dbbdb8f513d8d7b94",
       "outputs": [
        {
         "data": {
          "text/html": "\n                <audio  controls=\"controls\" autoplay=\"autoplay\">\n                    <source src=\"data:audio/wav;base64,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\" type=\"audio/wav\" />\n                    Your browser does not support the audio element.\n                </audio>\n              ",
          "text/plain": "<IPython.lib.display.Audio object>"
         },
         "metadata": {},
         "output_type": "display_data"
        }
       ]
      }
     },
     "6a11712c033f4615b4939d66de6e980f": {
      "model_module": "@jupyter-widgets/controls",
      "model_module_version": "1.5.0",
      "model_name": "DescriptionStyleModel",
      "state": {
       "description_width": ""
      }
     },
     "6a1e4f20dc4f47de83b977ae4fbd721c": {
      "model_module": "@jupyter-widgets/controls",
      "model_module_version": "1.5.0",
      "model_name": "DescriptionStyleModel",
      "state": {
       "description_width": ""
      }
     },
     "6a5ebcbaa3bc4842b4cf76d41541b22c": {
      "model_module": "@jupyter-widgets/base",
      "model_module_version": "1.2.0",
      "model_name": "LayoutModel",
      "state": {}
     },
     "6b19bd37574d41409ce4e6f2705ed711": {
      "model_module": "@jupyter-widgets/controls",
      "model_module_version": "1.5.0",
      "model_name": "DescriptionStyleModel",
      "state": {
       "description_width": ""
      }
     },
     "6b6c7a17d92a4d5088e3a6a7aaa529a8": {
      "model_module": "@jupyter-widgets/base",
      "model_module_version": "1.2.0",
      "model_name": "LayoutModel",
      "state": {}
     },
     "6bcf960c51d04c048e1a7e7c2f1a33c0": {
      "model_module": "@jupyter-widgets/controls",
      "model_module_version": "1.5.0",
      "model_name": "VBoxModel",
      "state": {
       "_dom_classes": [
        "widget-interact"
       ],
       "children": [
        "IPY_MODEL_37804269f27f45418309425cea0e3001",
        "IPY_MODEL_96c49776065c48a9bc0ebce90019b673",
        "IPY_MODEL_60f821587ef348c59608dce7a193fc07",
        "IPY_MODEL_c7bb081bc1e74eb0adab0bc8ec178c47",
        "IPY_MODEL_5729c76e8b46406aa926b1e6267db9a5"
       ],
       "layout": "IPY_MODEL_d76819717f0d4c7d99088809f512ed4d"
      }
     },
     "6c581300ffc54637a4ddcdefe6f01436": {
      "model_module": "@jupyter-widgets/controls",
      "model_module_version": "1.5.0",
      "model_name": "HBoxModel",
      "state": {
       "children": [
        "IPY_MODEL_225cd99760d44458a058d82da31c32e8",
        "IPY_MODEL_b6697231a83c476eb0e83e8095bb10b9"
       ],
       "layout": "IPY_MODEL_635585bf1d8d4645a72e5de119d4f480"
      }
     },
     "6cc5e1e7ca004f378cc07844f87d315e": {
      "model_module": "@jupyter-widgets/base",
      "model_module_version": "1.2.0",
      "model_name": "LayoutModel",
      "state": {}
     },
     "6d994e860fe140cc8d76ecf46d1515ca": {
      "model_module": "@jupyter-widgets/controls",
      "model_module_version": "1.5.0",
      "model_name": "SliderStyleModel",
      "state": {
       "description_width": ""
      }
     },
     "6daf5919bb2e4b8382ce8af99105cb73": {
      "model_module": "@jupyter-widgets/base",
      "model_module_version": "1.2.0",
      "model_name": "LayoutModel",
      "state": {}
     },
     "6dfbdaaf566448a49d5856182998bc95": {
      "model_module": "@jupyter-widgets/base",
      "model_module_version": "1.2.0",
      "model_name": "LayoutModel",
      "state": {}
     },
     "6e67acc03b38431aad87b3e96ea67b74": {
      "model_module": "@jupyter-widgets/controls",
      "model_module_version": "1.5.0",
      "model_name": "VBoxModel",
      "state": {
       "children": [
        "IPY_MODEL_23f2ab736ba542d6856778537d84250d",
        "IPY_MODEL_8d3a84f02a52447bb1a719f1456facc5"
       ],
       "layout": "IPY_MODEL_61df70b472a7431e8515fc60709a2012"
      }
     },
     "6e703e808fdf4b6c9427dad08e3ba5a9": {
      "model_module": "@jupyter-widgets/base",
      "model_module_version": "1.2.0",
      "model_name": "LayoutModel",
      "state": {}
     },
     "6f2f67fa9fa443cd9b27151c638f2f06": {
      "model_module": "@jupyter-widgets/output",
      "model_module_version": "1.0.0",
      "model_name": "OutputModel",
      "state": {
       "layout": "IPY_MODEL_154d26b762784265914bdc45425936cd",
       "outputs": [
        {
         "ename": "UnboundLocalError",
         "evalue": "local variable 'y' referenced before assignment",
         "output_type": "error",
         "traceback": [
          "\u001b[1;31m---------------------------------------------------------------------------\u001b[0m",
          "\u001b[1;31mUnboundLocalError\u001b[0m                         Traceback (most recent call last)",
          "\u001b[1;32m<ipython-input-24-75baf8c2dd3d>\u001b[0m in \u001b[0;36msin_gui1\u001b[1;34m(amp, freq, Tmax)\u001b[0m\n\u001b[0;32m     32\u001b[0m     \u001b[1;32mwith\u001b[0m \u001b[0mout_audio\u001b[0m\u001b[1;33m:\u001b[0m\u001b[1;33m\u001b[0m\u001b[1;33m\u001b[0m\u001b[0m\n\u001b[0;32m     33\u001b[0m         \u001b[0mipd\u001b[0m\u001b[1;33m.\u001b[0m\u001b[0mclear_output\u001b[0m\u001b[1;33m(\u001b[0m\u001b[1;33m)\u001b[0m\u001b[1;33m\u001b[0m\u001b[1;33m\u001b[0m\u001b[0m\n\u001b[1;32m---> 34\u001b[1;33m         \u001b[0mipd\u001b[0m\u001b[1;33m.\u001b[0m\u001b[0mdisplay\u001b[0m\u001b[1;33m(\u001b[0m\u001b[0mipd\u001b[0m\u001b[1;33m.\u001b[0m\u001b[0mAudio\u001b[0m\u001b[1;33m(\u001b[0m\u001b[0mdata\u001b[0m\u001b[1;33m=\u001b[0m\u001b[0my\u001b[0m\u001b[1;33m,\u001b[0m\u001b[0mrate\u001b[0m\u001b[1;33m=\u001b[0m\u001b[0msamplerate\u001b[0m\u001b[1;33m,\u001b[0m\u001b[0mnormalize\u001b[0m\u001b[1;33m=\u001b[0m\u001b[1;32mFalse\u001b[0m\u001b[1;33m,\u001b[0m \u001b[0mautoplay\u001b[0m\u001b[1;33m=\u001b[0m\u001b[1;32mTrue\u001b[0m\u001b[1;33m)\u001b[0m\u001b[1;33m)\u001b[0m\u001b[1;33m\u001b[0m\u001b[1;33m\u001b[0m\u001b[0m\n\u001b[0m\u001b[0;32m     35\u001b[0m \u001b[1;33m\u001b[0m\u001b[0m\n\u001b[0;32m     36\u001b[0m \u001b[0mout_plot\u001b[0m \u001b[1;33m=\u001b[0m \u001b[0mwidgets\u001b[0m\u001b[1;33m.\u001b[0m\u001b[0minteractive_output\u001b[0m\u001b[1;33m(\u001b[0m\u001b[0msin_gui1\u001b[0m\u001b[1;33m,\u001b[0m \u001b[1;33m{\u001b[0m\u001b[1;34m'amp'\u001b[0m\u001b[1;33m:\u001b[0m \u001b[0mwg_amp\u001b[0m\u001b[1;33m,\u001b[0m \u001b[1;34m'freq'\u001b[0m\u001b[1;33m:\u001b[0m \u001b[0mwg_freq\u001b[0m\u001b[1;33m,\u001b[0m \u001b[1;34m'Tmax'\u001b[0m\u001b[1;33m:\u001b[0m \u001b[0mwg_Tmax\u001b[0m\u001b[1;33m}\u001b[0m\u001b[1;33m)\u001b[0m\u001b[1;33m\u001b[0m\u001b[1;33m\u001b[0m\u001b[0m\n",
          "\u001b[1;31mUnboundLocalError\u001b[0m: local variable 'y' referenced before assignment"
         ]
        }
       ]
      }
     },
     "6fe078b318a44886a33c7fe43f5e9431": {
      "model_module": "@jupyter-widgets/base",
      "model_module_version": "1.2.0",
      "model_name": "LayoutModel",
      "state": {}
     },
     "701866f4a98e4cd39221661bca460ea4": {
      "model_module": "@jupyter-widgets/base",
      "model_module_version": "1.2.0",
      "model_name": "LayoutModel",
      "state": {}
     },
     "706d570d13044c7cb0a353cea6d567c4": {
      "model_module": "@jupyter-widgets/controls",
      "model_module_version": "1.5.0",
      "model_name": "VBoxModel",
      "state": {
       "children": [
        "IPY_MODEL_12eed51d937e45e99a9132240348165e",
        "IPY_MODEL_4e81ff0e9f7d4ad883b66e1d5b4fc71b",
        "IPY_MODEL_26d376875a954c879f4ce96468052644",
        "IPY_MODEL_2a116870a34f4c23b996264e99c1ae43"
       ],
       "layout": "IPY_MODEL_39e4bef47fb843fa96cee956b92af924"
      }
     },
     "70715cd167b243b28403cca64ea0b41a": {
      "model_module": "@jupyter-widgets/base",
      "model_module_version": "1.2.0",
      "model_name": "LayoutModel",
      "state": {}
     },
     "709102cf264d44788b96d5e1edf4b70a": {
      "model_module": "@jupyter-widgets/base",
      "model_module_version": "1.2.0",
      "model_name": "LayoutModel",
      "state": {}
     },
     "70d72249193649ad90fbced8382d85db": {
      "model_module": "@jupyter-widgets/controls",
      "model_module_version": "1.5.0",
      "model_name": "IntSliderModel",
      "state": {
       "description": "w",
       "layout": "IPY_MODEL_b29997ef0a894bc3921a45b6905f87e9",
       "max": 10,
       "style": "IPY_MODEL_698c5305a52a443c907d1a2d454c25e3",
       "value": 1
      }
     },
     "712201e50895455f93b76bb736faf626": {
      "model_module": "@jupyter-widgets/base",
      "model_module_version": "1.2.0",
      "model_name": "LayoutModel",
      "state": {}
     },
     "71336b18564e4c5f8dfb80abe782f373": {
      "model_module": "@jupyter-widgets/controls",
      "model_module_version": "1.5.0",
      "model_name": "SliderStyleModel",
      "state": {
       "description_width": ""
      }
     },
     "7192e6c35e554cb8a5495acb276d97a8": {
      "model_module": "@jupyter-widgets/controls",
      "model_module_version": "1.5.0",
      "model_name": "SliderStyleModel",
      "state": {
       "description_width": ""
      }
     },
     "729e32e4af7a4873a9945a0877c08b62": {
      "model_module": "@jupyter-widgets/controls",
      "model_module_version": "1.5.0",
      "model_name": "SliderStyleModel",
      "state": {
       "description_width": ""
      }
     },
     "72d373d322524ca3900d6a77bfb8da82": {
      "model_module": "@jupyter-widgets/base",
      "model_module_version": "1.2.0",
      "model_name": "LayoutModel",
      "state": {}
     },
     "73015830725e4fcf924b36f551939592": {
      "model_module": "@jupyter-widgets/base",
      "model_module_version": "1.2.0",
      "model_name": "LayoutModel",
      "state": {}
     },
     "732a1262b4b649de9b526da4e0f9cca0": {
      "model_module": "@jupyter-widgets/base",
      "model_module_version": "1.2.0",
      "model_name": "LayoutModel",
      "state": {}
     },
     "734156e125a84c22ac1e6b30497d6f65": {
      "model_module": "@jupyter-widgets/controls",
      "model_module_version": "1.5.0",
      "model_name": "FloatSliderModel",
      "state": {
       "description": "amp",
       "layout": "IPY_MODEL_0320aacbe0494f99b4f9b80d7b5e170e",
       "max": 4,
       "step": 0.1,
       "style": "IPY_MODEL_e8fd95a5b73042abb08e27ceee3b856b",
       "value": 1
      }
     },
     "73a6385637bc4a8581f7c53b688846ae": {
      "model_module": "@jupyter-widgets/controls",
      "model_module_version": "1.5.0",
      "model_name": "DescriptionStyleModel",
      "state": {
       "description_width": ""
      }
     },
     "73c13bd113bd467ebbbce43fbd8ab708": {
      "model_module": "@jupyter-widgets/controls",
      "model_module_version": "1.5.0",
      "model_name": "SliderStyleModel",
      "state": {
       "description_width": ""
      }
     },
     "73d8997b44c84205b7c0e172954df752": {
      "model_module": "@jupyter-widgets/controls",
      "model_module_version": "1.5.0",
      "model_name": "SliderStyleModel",
      "state": {
       "description_width": ""
      }
     },
     "7450a926503041939cc463ce5ac9563c": {
      "model_module": "@jupyter-widgets/controls",
      "model_module_version": "1.5.0",
      "model_name": "FloatSliderModel",
      "state": {
       "description": "Frequency",
       "layout": "IPY_MODEL_8a6681a779d345df8cb5c52cb3479f1c",
       "max": 1000,
       "min": 200,
       "step": 0.1,
       "style": "IPY_MODEL_e1dafc863ba14a17808f83bfd0569732",
       "value": 200
      }
     },
     "7450ec09eaa04f7dbe95a2d551e540ea": {
      "model_module": "@jupyter-widgets/base",
      "model_module_version": "1.2.0",
      "model_name": "LayoutModel",
      "state": {}
     },
     "74eca08125fb4f47b156acc8b2238eb7": {
      "model_module": "@jupyter-widgets/base",
      "model_module_version": "1.2.0",
      "model_name": "LayoutModel",
      "state": {}
     },
     "751a5b5f57f24c7582817109b7837ece": {
      "model_module": "@jupyter-widgets/base",
      "model_module_version": "1.2.0",
      "model_name": "LayoutModel",
      "state": {}
     },
     "752ad39f947b4e1ca62b96145e2fdfc2": {
      "model_module": "@jupyter-widgets/base",
      "model_module_version": "1.2.0",
      "model_name": "LayoutModel",
      "state": {}
     },
     "75a72f975c4c447da80af7fc7c4d61b8": {
      "model_module": "@jupyter-widgets/base",
      "model_module_version": "1.2.0",
      "model_name": "LayoutModel",
      "state": {}
     },
     "75cf1312f21c427b8573a81e03024110": {
      "model_module": "@jupyter-widgets/output",
      "model_module_version": "1.0.0",
      "model_name": "OutputModel",
      "state": {
       "layout": "IPY_MODEL_e0501ae31d054c9485260db9f097e402",
       "outputs": [
        {
         "data": {
          "image/png": "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\n",
          "text/plain": "<Figure size 432x288 with 1 Axes>"
         },
         "metadata": {
          "needs_background": "light"
         },
         "output_type": "display_data"
        }
       ]
      }
     },
     "775770688172437387aa978037d83409": {
      "model_module": "@jupyter-widgets/base",
      "model_module_version": "1.2.0",
      "model_name": "LayoutModel",
      "state": {}
     },
     "77f65edcffb04c3eab4e05acc8734794": {
      "model_module": "@jupyter-widgets/output",
      "model_module_version": "1.0.0",
      "model_name": "OutputModel",
      "state": {
       "layout": "IPY_MODEL_e6442ad4f8534bfabbd092ef3dd9f1c7"
      }
     },
     "7864b55ccb6047859d97bb6ae6b7f8d6": {
      "model_module": "@jupyter-widgets/output",
      "model_module_version": "1.0.0",
      "model_name": "OutputModel",
      "state": {
       "layout": "IPY_MODEL_6e703e808fdf4b6c9427dad08e3ba5a9",
       "outputs": [
        {
         "ename": "TypeError",
         "evalue": "can't multiply sequence by non-int of type 'float'",
         "output_type": "error",
         "traceback": [
          "\u001b[1;31m---------------------------------------------------------------------------\u001b[0m",
          "\u001b[1;31mTypeError\u001b[0m                                 Traceback (most recent call last)",
          "\u001b[1;32m<ipython-input-27-d9240a759e77>\u001b[0m in \u001b[0;36msin_gui1\u001b[1;34m(amp, freq, Tmax)\u001b[0m\n\u001b[0;32m     26\u001b[0m     \u001b[1;32mwith\u001b[0m \u001b[0mout_plot\u001b[0m\u001b[1;33m:\u001b[0m\u001b[1;33m\u001b[0m\u001b[1;33m\u001b[0m\u001b[0m\n\u001b[0;32m     27\u001b[0m         \u001b[0mplt\u001b[0m\u001b[1;33m.\u001b[0m\u001b[0mclf\u001b[0m\u001b[1;33m(\u001b[0m\u001b[1;33m)\u001b[0m\u001b[1;33m\u001b[0m\u001b[1;33m\u001b[0m\u001b[0m\n\u001b[1;32m---> 28\u001b[1;33m         \u001b[0my\u001b[0m\u001b[1;33m,\u001b[0m\u001b[0mx\u001b[0m \u001b[1;33m=\u001b[0m \u001b[0mamp\u001b[0m\u001b[1;33m*\u001b[0m\u001b[0msynth\u001b[0m\u001b[1;33m(\u001b[0m\u001b[1;34m'sin'\u001b[0m\u001b[1;33m,\u001b[0m\u001b[0mfreq\u001b[0m\u001b[1;33m=\u001b[0m\u001b[0mfreq\u001b[0m\u001b[1;33m,\u001b[0m\u001b[0mTmax\u001b[0m\u001b[1;33m=\u001b[0m\u001b[0mTmax\u001b[0m\u001b[1;33m)\u001b[0m\u001b[1;33m\u001b[0m\u001b[1;33m\u001b[0m\u001b[0m\n\u001b[0m\u001b[0;32m     29\u001b[0m         \u001b[0mplt\u001b[0m\u001b[1;33m.\u001b[0m\u001b[0mplot\u001b[0m\u001b[1;33m(\u001b[0m\u001b[0mx\u001b[0m\u001b[1;33m,\u001b[0m \u001b[0my\u001b[0m\u001b[1;33m,\u001b[0m \u001b[0mcolor\u001b[0m\u001b[1;33m=\u001b[0m\u001b[1;34m'C0'\u001b[0m\u001b[1;33m)\u001b[0m\u001b[1;33m\u001b[0m\u001b[1;33m\u001b[0m\u001b[0m\n\u001b[0;32m     30\u001b[0m         \u001b[0mplt\u001b[0m\u001b[1;33m.\u001b[0m\u001b[0mylim\u001b[0m\u001b[1;33m(\u001b[0m\u001b[1;33m[\u001b[0m\u001b[1;33m-\u001b[0m\u001b[1;36m3\u001b[0m\u001b[1;33m,\u001b[0m \u001b[1;36m3\u001b[0m\u001b[1;33m]\u001b[0m\u001b[1;33m)\u001b[0m\u001b[1;33m\u001b[0m\u001b[1;33m\u001b[0m\u001b[0m\n",
          "\u001b[1;31mTypeError\u001b[0m: can't multiply sequence by non-int of type 'float'"
         ]
        }
       ]
      }
     },
     "787463a5ee984231bbe6199ba8725e24": {
      "model_module": "@jupyter-widgets/controls",
      "model_module_version": "1.5.0",
      "model_name": "VBoxModel",
      "state": {
       "children": [
        "IPY_MODEL_8ba3d8aa87ed4e34bcf59d7e93cf2f40",
        "IPY_MODEL_59fea7700e234904859ba0bc5e12f83f",
        "IPY_MODEL_916b2868583744b79918a36822c4055c"
       ],
       "layout": "IPY_MODEL_910409ea8a2e4d188de322d106e089c8"
      }
     },
     "78fc8174111649b099388ea752562841": {
      "model_module": "@jupyter-widgets/base",
      "model_module_version": "1.2.0",
      "model_name": "LayoutModel",
      "state": {}
     },
     "7964c669b64747e0b928de82288b78c6": {
      "model_module": "@jupyter-widgets/controls",
      "model_module_version": "1.5.0",
      "model_name": "SliderStyleModel",
      "state": {
       "description_width": ""
      }
     },
     "79cc3cb7a868494dbc30211495f913f4": {
      "model_module": "@jupyter-widgets/base",
      "model_module_version": "1.2.0",
      "model_name": "LayoutModel",
      "state": {}
     },
     "7a48c8fe36ad49818be79439aa301312": {
      "model_module": "@jupyter-widgets/base",
      "model_module_version": "1.2.0",
      "model_name": "LayoutModel",
      "state": {}
     },
     "7a708d6b9896442f999995d413b06bff": {
      "model_module": "@jupyter-widgets/base",
      "model_module_version": "1.2.0",
      "model_name": "LayoutModel",
      "state": {}
     },
     "7b43ecd9a4964876b9cbe116182c2db1": {
      "model_module": "@jupyter-widgets/base",
      "model_module_version": "1.2.0",
      "model_name": "LayoutModel",
      "state": {}
     },
     "7be3a6b9649b434c838288f9e685e125": {
      "model_module": "@jupyter-widgets/base",
      "model_module_version": "1.2.0",
      "model_name": "LayoutModel",
      "state": {}
     },
     "7c2f70503afe453ea2290491f48d3469": {
      "model_module": "@jupyter-widgets/controls",
      "model_module_version": "1.5.0",
      "model_name": "SliderStyleModel",
      "state": {
       "description_width": ""
      }
     },
     "7c9edc85b5424f3d91995721d0b4c558": {
      "model_module": "@jupyter-widgets/base",
      "model_module_version": "1.2.0",
      "model_name": "LayoutModel",
      "state": {}
     },
     "7cc8eee5a14d4d1c8350218ba932dd18": {
      "model_module": "@jupyter-widgets/base",
      "model_module_version": "1.2.0",
      "model_name": "LayoutModel",
      "state": {}
     },
     "7cecf9a73e0740259d6bcaeb0b8ee2c5": {
      "model_module": "@jupyter-widgets/controls",
      "model_module_version": "1.5.0",
      "model_name": "DescriptionStyleModel",
      "state": {
       "description_width": ""
      }
     },
     "7d3cafe75292406c84d83ddf3a97ff5a": {
      "model_module": "@jupyter-widgets/base",
      "model_module_version": "1.2.0",
      "model_name": "LayoutModel",
      "state": {}
     },
     "7d7d1c4c75de40aebf0730f6c8a588c2": {
      "model_module": "@jupyter-widgets/output",
      "model_module_version": "1.0.0",
      "model_name": "OutputModel",
      "state": {
       "layout": "IPY_MODEL_1d137f32fd014610b915fa46aee85eb2",
       "outputs": [
        {
         "data": {
          "text/html": "\n                <audio  controls=\"controls\" autoplay=\"autoplay\">\n                    <source src=\"data:audio/wav;base64,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\" type=\"audio/wav\" />\n                    Your browser does not support the audio element.\n                </audio>\n              ",
          "text/plain": "<IPython.lib.display.Audio object>"
         },
         "metadata": {},
         "output_type": "display_data"
        }
       ]
      }
     },
     "7f0ef53ab39342f4a28aa10bbd424309": {
      "model_module": "@jupyter-widgets/base",
      "model_module_version": "1.2.0",
      "model_name": "LayoutModel",
      "state": {}
     },
     "81a0cb39f060403aae706f0d9a429edc": {
      "model_module": "@jupyter-widgets/base",
      "model_module_version": "1.2.0",
      "model_name": "LayoutModel",
      "state": {}
     },
     "81fddc0140cb4640a64eee8515944210": {
      "model_module": "@jupyter-widgets/controls",
      "model_module_version": "1.5.0",
      "model_name": "BoxModel",
      "state": {
       "children": [
        "IPY_MODEL_32a19c3190844213ba8a3884c7b9ece3",
        "IPY_MODEL_e7a608209771452fb238420cc50d4f77"
       ],
       "layout": "IPY_MODEL_3c59a88a5e504e5bb66ef039318e171b"
      }
     },
     "826ce5669b72426cbf6e785a6f413ccd": {
      "model_module": "@jupyter-widgets/controls",
      "model_module_version": "1.5.0",
      "model_name": "FloatSliderModel",
      "state": {
       "description": "amp",
       "layout": "IPY_MODEL_2590fd958bbe4c6a9e86652b8f905ba6",
       "max": 4,
       "step": 0.1,
       "style": "IPY_MODEL_a2eae8c872a34e66819d9d896f155e5c",
       "value": 1
      }
     },
     "82e5b2b6674940aba5bd33ea9ceffb9a": {
      "model_module": "@jupyter-widgets/controls",
      "model_module_version": "1.5.0",
      "model_name": "FloatSliderModel",
      "state": {
       "description": "Amplitude",
       "layout": "IPY_MODEL_f83e5f15828949de9c23807c3456dffe",
       "max": 1,
       "step": 0.05,
       "style": "IPY_MODEL_31dba8a592254ade951437e136063fee",
       "value": 0.3
      }
     },
     "835fafa7d153414e82a1a93edc92b9d9": {
      "model_module": "@jupyter-widgets/base",
      "model_module_version": "1.2.0",
      "model_name": "LayoutModel",
      "state": {}
     },
     "838ed0cd61d64453a9ad4b55f7f889a5": {
      "model_module": "@jupyter-widgets/base",
      "model_module_version": "1.2.0",
      "model_name": "LayoutModel",
      "state": {}
     },
     "83b6bc2a41ca45dea1fe4de109f39c44": {
      "model_module": "@jupyter-widgets/controls",
      "model_module_version": "1.5.0",
      "model_name": "FloatSliderModel",
      "state": {
       "continuous_update": false,
       "description": "Duration",
       "layout": "IPY_MODEL_be7709f23e554028bc2fdfc7a159dbfe",
       "max": 1,
       "min": 0.1,
       "step": 0.1,
       "style": "IPY_MODEL_f0c6928fe67d49d28d173ec7029c1588",
       "value": 0.4
      }
     },
     "83d06371dcca4680be1dd1efd404d2b8": {
      "model_module": "@jupyter-widgets/output",
      "model_module_version": "1.0.0",
      "model_name": "OutputModel",
      "state": {
       "layout": "IPY_MODEL_c936c1a40beb48e28aa2d3ff77fcce41",
       "outputs": [
        {
         "data": {
          "image/png": "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\n",
          "text/plain": "<Figure size 432x288 with 1 Axes>"
         },
         "metadata": {
          "needs_background": "light"
         },
         "output_type": "display_data"
        }
       ]
      }
     },
     "83f3a877958b47b2971115f5401a1d3b": {
      "model_module": "@jupyter-widgets/output",
      "model_module_version": "1.0.0",
      "model_name": "OutputModel",
      "state": {
       "layout": "IPY_MODEL_df97fb1583cb4ecf93d974adc3f605cb"
      }
     },
     "8487d229e9784989875c3a1a944d21c1": {
      "model_module": "@jupyter-widgets/base",
      "model_module_version": "1.2.0",
      "model_name": "LayoutModel",
      "state": {}
     },
     "85202a97ace24763b0eb0ef1624e643c": {
      "model_module": "@jupyter-widgets/controls",
      "model_module_version": "1.5.0",
      "model_name": "VBoxModel",
      "state": {
       "children": [
        "IPY_MODEL_3b3bf8bb300344ad906ec72c768d3499",
        "IPY_MODEL_518f47e88f8a449487bed35ee554a243",
        "IPY_MODEL_1b62aae9ec914a56aca1fb6f0305e4bd"
       ],
       "layout": "IPY_MODEL_7f0ef53ab39342f4a28aa10bbd424309"
      }
     },
     "85f2fbf632b9415a8b312b20702c71c5": {
      "model_module": "@jupyter-widgets/base",
      "model_module_version": "1.2.0",
      "model_name": "LayoutModel",
      "state": {}
     },
     "86594eeca62e42e395ce491c68114a24": {
      "model_module": "@jupyter-widgets/controls",
      "model_module_version": "1.5.0",
      "model_name": "SliderStyleModel",
      "state": {
       "description_width": ""
      }
     },
     "88756a19cf3d4b248ca27e4373d90782": {
      "model_module": "@jupyter-widgets/controls",
      "model_module_version": "1.5.0",
      "model_name": "HBoxModel",
      "state": {
       "children": [
        "IPY_MODEL_2cdab8b02490428ab0b64140b85fa849",
        "IPY_MODEL_4938f92fae1e429d92615b054453705a"
       ],
       "layout": "IPY_MODEL_709102cf264d44788b96d5e1edf4b70a"
      }
     },
     "897b65d1f02440208b17e650099ab02a": {
      "model_module": "@jupyter-widgets/controls",
      "model_module_version": "1.5.0",
      "model_name": "FloatSliderModel",
      "state": {
       "description": "Amplitude",
       "layout": "IPY_MODEL_7a708d6b9896442f999995d413b06bff",
       "max": 1,
       "step": 0.05,
       "style": "IPY_MODEL_1ac5c28b4a574655830fead9d2f72772",
       "value": 0.15
      }
     },
     "899985cf68c6498aba0b2c0ff7e89f49": {
      "model_module": "@jupyter-widgets/controls",
      "model_module_version": "1.5.0",
      "model_name": "FloatSliderModel",
      "state": {
       "continuous_update": false,
       "description": "Duration",
       "layout": "IPY_MODEL_9992bc7b54164bb9b14bda10e3b47839",
       "max": 1,
       "min": 0.1,
       "step": 0.1,
       "style": "IPY_MODEL_dae5baac51db44a7829e6ab31bf8556a",
       "value": 1
      }
     },
     "89bdc09977dc48e085b754ab8e13c57b": {
      "model_module": "@jupyter-widgets/controls",
      "model_module_version": "1.5.0",
      "model_name": "SliderStyleModel",
      "state": {
       "description_width": ""
      }
     },
     "8a20d44680d74e1c95b416f2f682bd8a": {
      "model_module": "@jupyter-widgets/controls",
      "model_module_version": "1.5.0",
      "model_name": "HBoxModel",
      "state": {
       "children": [
        "IPY_MODEL_92b41a2fecd24acf816a3e18407bbdb0",
        "IPY_MODEL_c6a482d75b0e4dc582338cc74690c781"
       ],
       "layout": "IPY_MODEL_f212c37a44014ad78b56b3c95af3bc25"
      }
     },
     "8a57945e08a24d818554f3c1d4d5bea8": {
      "model_module": "@jupyter-widgets/controls",
      "model_module_version": "1.5.0",
      "model_name": "FloatSliderModel",
      "state": {
       "description": "Amplitude",
       "layout": "IPY_MODEL_53b850aad208467fae9761f1864e1591",
       "max": 1,
       "step": 0.05,
       "style": "IPY_MODEL_23657974975b43a486422a5c1636ba8f",
       "value": 0.6
      }
     },
     "8a6681a779d345df8cb5c52cb3479f1c": {
      "model_module": "@jupyter-widgets/base",
      "model_module_version": "1.2.0",
      "model_name": "LayoutModel",
      "state": {}
     },
     "8b776281b5554bffb334fe9bcda4d595": {
      "model_module": "@jupyter-widgets/controls",
      "model_module_version": "1.5.0",
      "model_name": "VBoxModel",
      "state": {
       "children": [
        "IPY_MODEL_a7ef7f7d64514e01a074d11fff345e9e",
        "IPY_MODEL_bd9b888286c94aafb314393e93670707",
        "IPY_MODEL_c532b69059a9435db8b2e20a12501421"
       ],
       "layout": "IPY_MODEL_ff4cc899f24c4672bc20a32a9f570e7b"
      }
     },
     "8b97573147d54dca846d94947a057ca4": {
      "model_module": "@jupyter-widgets/base",
      "model_module_version": "1.2.0",
      "model_name": "LayoutModel",
      "state": {}
     },
     "8ba3d8aa87ed4e34bcf59d7e93cf2f40": {
      "model_module": "@jupyter-widgets/controls",
      "model_module_version": "1.5.0",
      "model_name": "HBoxModel",
      "state": {
       "children": [
        "IPY_MODEL_4c0dc6cfd44648069fe08eacdd663607",
        "IPY_MODEL_45eb5afc1eaa4dd7a26c450bc2b65a4f",
        "IPY_MODEL_47b04b045a304b59809efe479e4d875b"
       ],
       "layout": "IPY_MODEL_2c3fccbbf3b54b2c9294c146d385e568"
      }
     },
     "8ba594ccdfd34bacab23c7eb2baf27f3": {
      "model_module": "@jupyter-widgets/controls",
      "model_module_version": "1.5.0",
      "model_name": "FloatSliderModel",
      "state": {
       "continuous_update": false,
       "description": "Phase",
       "layout": "IPY_MODEL_582cbbefa7be413797405c980f27e733",
       "max": 2,
       "min": 0.1,
       "step": 0.1,
       "style": "IPY_MODEL_a916af4540d844209b76963f2fdd61bf",
       "value": 0.4
      }
     },
     "8be9bf054fe14c8ca2b2f44b51c861bb": {
      "model_module": "@jupyter-widgets/controls",
      "model_module_version": "1.5.0",
      "model_name": "HBoxModel",
      "state": {
       "children": [
        "IPY_MODEL_e2a3ba69909d45808659ee54c745ea1c",
        "IPY_MODEL_db04a3278ef44259bb8a6e3df389f36f"
       ],
       "layout": "IPY_MODEL_72d373d322524ca3900d6a77bfb8da82"
      }
     },
     "8c27990e43f347c5a810f2f5b33ca5bc": {
      "model_module": "@jupyter-widgets/output",
      "model_module_version": "1.0.0",
      "model_name": "OutputModel",
      "state": {
       "layout": "IPY_MODEL_775770688172437387aa978037d83409",
       "outputs": [
        {
         "data": {
          "image/png": "iVBORw0KGgoAAAANSUhEUgAAAXIAAAD8CAYAAABq6S8VAAAAOXRFWHRTb2Z0d2FyZQBNYXRwbG90bGliIHZlcnNpb24zLjMuNCwgaHR0cHM6Ly9tYXRwbG90bGliLm9yZy8QVMy6AAAACXBIWXMAAAsTAAALEwEAmpwYAAA9CElEQVR4nO2deZgdR3nu3zr7NjOSLGksWZItWzbGGNsgQwhwgw0OGG5yWUIW7s0KuQLCHnYIkIRAEiCE/QIBYgzYslm8L7INMg7Y2NZmLZa8yJa1S7Y0kubM2U/X/aO7uquq+5w5M3PGM+28v+fRI7VO19dvVX311VfVffoIKSUIIYTEl8RMCyCEEDI1GMgJISTmMJATQkjMYSAnhJCYw0BOCCExh4GcEEJizpQDuRAiJ4S4TwjxgBBimxDiH/ohjBBCSG+IqT5HLoQQAIpSyrIQIg3gVwDeI6X8TT8EEkII6U5qqgakOxOUvcO094ffMiKEkKeJKQdyABBCJAGsB7ACwNellPdGnLMKwCoAyOfzK5cuXTqpazmOg0Ri9m3tU9fEoK6JMVt1AbNX2zNR18MPP/yUlHJB6AMpZd/+AJgDYC2Ac7udt3LlSjlZ1q5dO+my0wl1TQzqmhizVZeUs1fbM1EXgHUyIqb2dbqSUh4DcCeAS/tplxBCSGf68dTKAiHEHO/feQCXANgxVbuEEEJ6ox975IsAfN/bJ08AuFpKeWMf7BJCCOmBfjy1shnA8/qghRBCyCSYfbd0CSGETAgGckIIiTkM5IQQEnMYyAkhJOYwkBNCSMxhICeEkJjDQE4IITGHgZwQQmIOAzkhhMQcBnJCCIk5DOSEEBJzGMgJISTmMJATQkjMYSAnhJCYw0BOCCExh4GcEEJiDgM5IYTEHAZyQgiJOQzkhBAScxjICSEk5jCQE0JIzGEgJ4SQmMNATgghMYeBnBBCYg4DOSGExBwGckIIiTkM5IQQEnOmHMiFEEuFEGuFENuFENuEEO/phzBCCCG9keqDjRaA90spNwghBgCsF0LcLqV8sA+2CSGEjMOUM3Ip5QEp5Qbv36MAtgM4Zap2CSGE9EZf98iFEKcBeB6Ae/tplxBCSGeElLI/hoQoAfglgM9IKX8W8fkqAKsAYHh4eOXq1asndZ1yuYxSqTQVqdMCdU0M6poYs1UXMHu1PRN1XXzxxeullBeGPpBSTvkPgDSANQD+tpfzV65cKSfL2rVrJ112OqGuiUFdE2O26pJy9mp7JuoCsE5GxNR+PLUiAHwXwHYp5Renao8QQsjE6Mce+UsA/BmAlwshNnl/XtMHu4QQQnpgyo8fSil/BUD0QQshhJBJwG92EkJIzGEgJ4SQmMNATgghMYeBnBBCYg4DOSGExBwGckIIiTkM5IQQEnMYyAkhJOYwkBNCSMxhICeEkJjDQE4IITGHgZwQQmIOAzkhhMQcBnJCCIk5DOSEEBJzGMgJISTmMJATQkjMYSAnhJCYw0BOCCExh4GcEEJiDgM5IYTEHAZyQgiJOQzkhBAScxjICSEk5jCQE0JIzGEgJ4SQmMNATgghMYeBnBBCYk5fArkQ4ntCiMNCiK39sEcIIaR3+pWRXwbg0j7ZIoQQMgH6EsillHcBONoPW4QQQiaGkFL2x5AQpwG4UUp5bofPVwFYBQDDw8MrV69ePanrlMtllEqlycqcNqhrYlDXxJituoDZq+2ZqOviiy9eL6W8MPSBlLIvfwCcBmBrL+euXLlSTpa1a9dOuux0Ql0Tg7omxmzVJeXs1fZM1AVgnYyIqXxqhRBCYg4DOSGExJx+PX54JYB7ADxLCLFXCPGWftglhBAyPql+GJFSvqkfdgghhEwcbq0QQkjMYSAnhJCYw0BOCCExh4GcEEJiDgM5IYTEHAZyQgiJOQzkhBAScxjICSEk5jCQE0JIzGEgJ4SQmMNATgghMSd2gfzX+5r455u3+8df/fkjWH3fbgCA40i8/+oHcM/OIwCAY5UGVl2+DnuOVgAA2/Yfxzuv2IBasw0AuGXLAXz6xgd9W//vzp34wT27ALjvaf/ITzfjvx55EgBwotbEW3+wDrueGgMAPHxoFO/40QaM1VsAgI2HW/jUdcFPln7nvx7D9371uH/8d9duwdodhwEAY/UW3vaD9Xj0cBkA8NiTZbz9h+txotYEANz50GF87Jot6j3v+P7du/Dtu3b6tv7++m1Ys+0gAKDWbONvfrQeOw6eAADsOVrBW3+wDscqDQDAg0fa+PBPNsNxXFs/uvcJfH3to76tz968HTdtPgAAqLfaeMcVG7B133EAwP5jVay6fB2eKtcBAPc+dgTvv/oBtD1bV6/bgy/d8bBv63O37sC1G/cBAJptB+++ciM27TkGADh8ooZVl6/D4RM1AMCjI22876pNaLYdAMA1G/fiC2se8m198faH8eN1ewAAbUfifVdtwrpd7o9QHSnXseryddh/rAoA2Lz3GN595UbUW26/3vDAfsNHvvaLR3DFvbv9fv3Ajx/A3TufAhD2kd0n3DaoNlxbt249gH+8IfCRb/5yJy63fOSuh10fGfV85HHPRx45NIq/+dF6lD0fuePBQ/ik5SPf1XzkE9duxS92HAIAVBotvP2H6/Ho4VEAwMExB2//4Xocr7o+8suHn8RHfxb4yOX37MI3fxn4yD/csA23bjV9ZPsB00dGxlwfufvRp/Chnzzg+8gV9+7G137xiG/rn2/ejhse2A8AaLQcvPOKDdiy1/WRA8er+MqGmu8j9z1+FH979SbfR368bg/+/fbARz6/Zgeu2bgXANBqO3jP6o3YuHsEAHB41PWRQ56PbNg9gveu3uj7yLUb9+Fzt+7wbX3pjodxteYjf3vVJtz3uOsjR8ca+MqGGvZ5PrJl73G868qN/ti/cfN+fFbzka+vfRQ/uvcJv18/+OMHcPejro8cr7j9uvuI6yPbD5zAO67YgErD7ddbtx7EP9ywzbf17bt24vt37/JtffRnW/BLz0emi9gF8v/Y0sC37noMrbYDx5H4t9sfxkd+tgUAsOvIGH66YS/e+oN1AICbthzAbQ8ewnf+6zEAwD/e8CBu3HwAmz0nfPuPNuC7v3rc79x/vXUHPnGd2yH7jlWx+v49+Mv/vB8A8Ivth7Fm2yF89RduEPzcrTtw05YDuN8LLl/eUMf373nCH2j/dNN2/KM3SRwereGHv9mNv7rMtXX3ziO4ddtBfH6N65Rf/vkjuGXrQfz6Eddx/uqy+3HFvbvxVNkdaJ+6fhs+e7N77vFKE5fdvQtv/cF6AMD6J0Zw85aD/oT0jTt3Ys22Q7hjuztpfHVjDVet24MD3uD4+DVb8XkvYI7VW/j2XY/hHVdsAOA6+02bD+Dj17rB5rK7d+G2Bw/hRm8Qv/eqTfjphr144ogbqD70k8340h2PQEqJequNb9y5E++9ahMAYMeBUVz/wH68/2r3+Mr79uC2Bw/5A++7W+u4ZuM+7HzSnczed9UD+NraR+E4Em1H4is/fwQf/MlmAMCjh8u4ZuM+vPOKjQCAazbuw20PHsLl97gD7xPXbsX1D+zH9gNu0HvXlRvxrbseQ7PtQEqJL9z2MD52jfKRCn6yfi/eernbfrduPYjbHjyEb3kT5eqHGrhp8wF/AnrbDzfge79+3A/s/3LLDnzS85EDx2tYff8e/Pn37gMA3PnQk1iz7RC+8nM3CH5uzUO4ectB3O8Fl7++fB0uv+cJHK8EPqL67alyHT/4zRN482Wu796z8whu2XoQ/3qr21fX72zilq0H/cTiLZfdjyvv240nR90A+snrtuFfbvF8pNrEf/56F972Q7eOG3a7PqKCzbfvegxrth3C7Q+6k8bbf7QBV6/b6we9j12zBV+4zQ2+1UYb37rrMbzrSrftt+w7jhs3H/Db87K7d2HD4Tau37Tf68dN+NmGfdjl+cgHf7IZX/656yONloOvr92J9131gOsjB0dx3ab9eP/V7vHV97s+svo+10c++tMtuHbTfjxyqOz73zfu3On7yJfueAQf8nzksSfL+NnGfb4vX7dpHzYcbvsB9ZPXb8UND+zHg95k9s4rNuLbdz2GRsv1kc+veQgfv8b1+91HK/jx+r14y/fdvliz7SDWbDuEb3o+opKfTbuVj6zHf/56l5/UffbmHfjU9W5bHzxRw5X37cZfeD4yXcQukCsOj9ZR9QKwQgU+lQHVmu5M3mhL4/8Pj9aMcgeP19DyZn3blsosVNmGd546PuKdp9tSWRLgzshPjZrnqGxZ6at4QeKYNwmo4gePmzpbbQdPjdUtnXXDVt1rE+VUVfcvHPAGqaLWbOPomKnLt+XpabRU+7l/j3i6bV0nai0/ONm2VN0abffvlteeY97pByxbR8YaKNdakbZUneqeLtVno975tq5DJ2p+u9i2RlX7NM26qvZ6smy284HjVd8XbFsKpUOtDFTGdsRq5wMnzL5wHBmyNeK1p0oy6p4Pq0RBtaPdfs22gyOWLeWjVa8tlM0xT5+yefCEaavaaONoJdpHVN1Uu6msWfn2gWOmrePVpn8dhWrjMctWy3EsXWZ7PVWu++PPtlWumT6ibKq+OXwi7CPqXLuOyjfsuqprh32k5q9qgOixP13ENpAfqzSNQC6l9I9VW/qDwBtY+XTSL2vYqpq2mm3Hz8AUvq2mZctyzmOVhh/4ADeQ2RNO77oahmOM1lqddXm2spatpIBxHOhs+mUVVctWMiGMsp3qfNzqC9OW2xZqclIDLZsMyhq2qo2wrYZpSwWNmqcz5+k6XrUnzAgfCbWfY9jOJJQuy5blI/VWO2TLr7NnM+jXsK6m5iNjjXC/2u2XSQZlbV164nCi2qUvmmZ7KVuZVKKD7UYXf3N1pZSPeD6RzyT9snadbX+rWf3a9uoxVm+btiLqHLJl+a4Kusp2pzF23LLlOBLVhhnYaz3bavg+qc63+2K66Mv7yJ8u9Ky5XG9hoBHIrzbbqDbMWbpqZZYJz+ns2bxsBcixegvVpnmOyixVVpYQwj9Xxx6U5Xp4kCpbXuIBNQxtW+Vay3CMcr0VcoxAF4y6luuukwnhXmCs0TIyynK95Ze1balsT11L6Upq7acHj9F6028PwA2YdnupY5V9eab8zNi3VWsZthotBxVPhxroqj0rdXPCKdfN+ozVW342pTTYdVY+02qrflXtY55Xrpm2xuptX5dtS+kUorO/VQx/i5gUlC2v/VRzh/yt3jIyymhbKsFxjdTsfvV1Nk0fqbVCK5rAd81+VRN0p3FRrreQTgZ5o+NoPtK2fKRu+ohta7Rm2qq3gn5V8tWxqmunsT9q90XD7Gfdloo/yU5xpN62+jVsa7qIVSDXg9iYFdSigpwdiPSyOnZZN/M1HVh9rgKrvcVilO1Rl1pCqoEWdozuk4KxCnHMQaoCkXL3KF16JtLSViEqaKiMabRuDtJyrYVmOxjwY/U2Uskg+Fab7Y661BJXaINUnxTG6m0/Q1Sf16xJodo028sPvrVw+9W61DnKlvTPNbMtV4djHXfPyNWkGjXZm7oismjvWqrOal4ZLwkZrXdeqXZqP30itNtL7+dGK/ARf1K1xpjykdFay1h1lOstfyUAABXdR6Ttu6au0ZCPtPys2D0OT162vwUTdDgWjDdeg60oFdDN7Va/bC08Xm1/my5iG8jtjHKsHs62ghnenJ3tjHLMtmXNyvqSXAXITsHX1mHPym0nsKXOU9l/lJOFbQXHtWYwsJqO2m9v+ecCZlZjZpQtP9Ao3VUrYIYzpCDbslcwevB1Jxy3jBqkti1oGaae9bkD3rTVKUNS2b3KSMdbdXRbhShd6uMxOyOvt1DRVmm2LX0VonTZPtNZl+kzrbbjX0v5rH2fJyHc7NPV1XkcVJvBsR/ILd81fcS0pZIN9bm9fdnZVjuUeDnWmLMnhYply9F8xFx1tFDMJk1boZWqOQ7U5DpWbxnblfYK2vbtKFvdEsRuMUpK6a/S+k2sArmeEYWyVWs2dBwZmuF9p6u1jH1sexYes2bSupaJlL1HBPXOtCcFW5ed5fhlrQEftVLQy45GZJh2WTvbMupktZ8R9Bqt0KojqKO5gtDPVboKTjCwytqKJpy5eYHJkxK1UjAGaaPl36QDzAxTZeB6P9esoBbeMrNWIVZ76QHTzihDqyPNVq3phP2tQ+IQvZVn6vZXQ+rmXTs4F3AnVUfKyEnV8BHN/1RGaQciGXGuq9tcleht4N8c7tB+Yw1zxVKut6DHML397AnG92UtEbPHwUAjHRxb7en6SDC5A5aPaNuVYf9rh33Ec9Yof7O3e6vWRKjbqjTaKGanJ+TGKpCHt1bMDMloRC2rVp2pZ0zdtiwi97qsQKQ7nZ1Rdl85tGCvFPRMxMwoo7L73nSp4KECZrneNjJKN0OCaavDQFKDVP/czu51xrRr1ZqOdwPJtKWewoiyVdHufYxp2T1gTaqRuqLbR52v2xprBIHez+61gGnb6u4z4fbTMzk7o+zmu+VGK5TdB7racBzp38coR/hyeBViZpTdVqr2SiGhBd+xRlQdbZ9pRdoaq7f9rRJ1vvq82ZaRk2q1g66QzzTMz92VqrnKDcZYD2MqFIyjbYUn4O4+464kGMiNRqs22sY+dq1p3nxy92nNPWjlsNVG28qmrOWo9bl7I9XMZvS/bVt659mfG7YsXbUoW1addQeuNoPMrdpsG9lqrdlGsy2DJbBdx2bbCOTVRpD1NNsSTWt5r9uuNpyQrqSw9sj1gdVqG7qAYAuj2jSzLbusfS29fdUEGugKt32t0bk99X5XvlTvpksv22hbwSOqXwP/s3WFytq+3TRtqUy32mwbGWWti6/a11I+4o+DZhvNtuPvg4d0NNvQNwJ0XS3H9RHdluF/jbC/pfX7KA2zfWvaBF2z6h45hjq0l/25Pj78c+3xqY+pRmd/1Ovq/u2E/W2cvpgu4hXItUapNM2gVrE7qBF0kL0nbT+9YD8iWG22wraa3Wx1fjIi5Dj6IG22jbv3YVutro6iX6vtSDTajmHLvK651K022saeZUi35oSVRhv1luPfBA21T9PM3Gzduu1Ko422I6EWMdVx+qJiZVuVRjBhV6z+tQd4VD93upbylYb2BEWvZUO2LH0VK8mw+6abz9RbDtqO9CeYaF1mILKDnPIZKV17QV+0ItpLt2U+QaSPKVuL8hH9qRFTR8sI5OHx2zJsOY7sHHwj2s881myFJoVWqH2MNmja7WvqMmxFtl+0r+rlp4NYBfJaBwcFomc/fWDZ2Wr3WdnKOLXzG23HWAZG6RhPl+7A+rOmbgbpaOeGM99umVyt4RjZjF0HO1joGXnYlrkK6TQZqWN9wIdWR1objdc+odVRRDamZ1nNthM8LmkFoqhM1/YhvY5SBgHT9pGobLVqrY78G8/eikbPCruu0qJ8uWleu6FnzRPMAjutNmtNx5zcbVsNx9jX7rb6rPWgQ39k0F1JaCvqhpnd61tRUf7WbUVtr45abce/Jzbu6ihi3HRadYy7smJGHk23oNZtdmw50nheOZwtdJ7RbVuAu2+m3+yxB8p4s7LuwHr2Wm2Y+9jVCB2hLFD/vBmcb08YobLNcEYeynKauq7umYeZkbdDAULPnru3T6tjsLXbqNZ0jP35qGy+a1DTsjNHeo+5GbbGWfF1WznU28E3d6NWeF0m9yj/CzLycEY57sqhYfZ7sNIyrxOy1TQz8m6rkshVheUzqUTCLKvXWfdda0IOZcmhrDm8UlXXrrcc/yZvT+1j+4x1/olay3iqKzwezfFr25ou4hXIvYZIiOhMzZ5Z9WByVPsqfVSGqQeTqJlVdxT9a8uRe26WLXtLQ+/s0VrL+ALOeLa6fW4H365lG23jSYpu7Wlnn1HZl5ZsRWeB3nGj7RhP1ITbx4F9HyCc5QQT4Yj27bpw+4RXNFXrWtVOPtIwrzPeCsdukxHDR8IrvHD7mPd7jKc0ak2ox7l78bdux3rCE9225hgS1r2PbisaeyVlr44ympNErUrUccuR/tM6Soety/a/0PaSdv6I9oqE8VcO4X1vXaf+WovxV1ph/5suYvUVfdUo84oZfyZV+25qVlbOojI9dazed5FJJoxZNpNMoOIFEyHcLyEo26qsOl9d66j3vhPfVlOz1QiejHCPzbIqC1THui49OwiOXVvppPADdaDLvXuvjo9VmpDSPVcfWL4tTaeqk2kr0KWetEgnBdqOxPFquE6BLbOsGpR63+i6j1p1Nmw13UcXjX5smP2q77fqfRGuY8vLBE0dga7OfaEHh+DYtZ3yfKRm1VHXafpby7Bl61TZv11nZVtNCraOaJ9pGe1jj5PjVTejzCQTxorG1uX7W8Q4CHS67ZcU7v67ekWC0lGz6liJsGX4TKPDuGgGT/lEjimrH9WqI+XNQfYYM3237SUiAkJ446Bp+1v02NdXN3ZcSSeFv8rQdU0XsQrkNS2Qq0yjmE0hkwoG3rxiBkAw06pjFTzmFTNGZjGvmPHvsOfTSRQyyVBZ1dnqWL2EyLfVaGvH7iycSggM5lP+LB3YcjrqarSCbHVeMWNkaupaFUtXrelE2gKCTEQvqx8burw26WTLbr9qN1sNs/1Ga00027KzLa0vql5QG8ynkRBBBhXYbnXtC7uONc9HcumEn7HrddZ9xtDVCOuqNdvIpRMoZJL+vmwnH+nWXkpHQgCD+XTY35qd/a3Zlhj1vsug2wKAucW0nwXquiod/A0IVjS2Lb89m511qbIDGRHSWWs6Zl947TO3mA5s6T5Sd7/bEd0XTmgcVJttDOXTSCZEyJba51a6xvO3SqONQiaJfDrpj2ffVpe+0JM43XY2lUAxm/JXDrqu6aIvgVwIcakQ4iEhxKNCiI/0w2YUvsMWMv7+XiHtdUDD3XtWjaYyysAx3JlUNbh6PndeMePN+G4gV7Z0B674jpL1bAWd2XKk/x5xt3Nb/qSQU7q0smoPLrAV6AKC7CsYSO63JovZlB9MdF1mIFK2wjr1wDSnkPYzjbnKVkPZssuGddpBTtkazKXdbNV3/myoTpG2GmFbamCpDEqVPV5twpGd61izdFUaLb9fA1uqL9REGFFHa1JQtgqZFPKZpJ+NqrLhxCGw5cjgTX5+HZta4uD5THgiDNfRbk+18kwnBQZyaVSbLaOOwQQd7W/6sb5nPrcQ9M2cQtpvr6g6RgVMfS9fn8xK2ZSR/fs+0tXfghWN7jN5zUd0WydqTbQcqemy/U0f+277GD7SDMaU+lJPVF/UW8GKRvfdvOG7Lehjf7qYciAXQiQBfB3AqwGcA+BNQohzpmo3CrWMcx3WzTxyGTUY3A46qeQ5mefs6lgtr04qZSBl8OYy2zFURl5rtP2yo55jnFQ0bc0rhm2rgZPXdTXbflk1Sdi2onRWG64OfaVQ8QaWEEHmESoboVPtc+fTSTdb8IJtKZtE1lvRVBsRujrUsdpwl6OD+cBWPpNE3qtzJcpWVB2tgKky3UImiXwmFejqoY6NtuPvrar2qzYdFDJJFDxbNa3tj3apIxAEzJNKKlt1vL5I+Xupquyo923hqDqG+kKtADOpwN/0CdrymfH8rar7iDeZDeVT7r2kifSFVzabSqCUVatJ90ss+XTS72e77KB7GOFv7nblnELaHwdqIqxNwt+i6pzXVkd22QFL10kllXgFwVetxgvKdy1/O1ZtQMpofzN8qBSsaAppzVbTCca+9QKyftKPjPyFAB6VUj4mpWwAWA3gtX2wG8LdZ4XfeSrIqSWRsbQtWw1uHY9YA0tlSDlthp9bGL+s/bmdLShdg/kUkgmB41V3H7sXnaqsvlLQs9Uxe2uli04/C/SzBTdjyqWD4Kvb6lrHpr4VFQTbnKfT3g7pVse2424VuBllytfp6kqEViHj9oV3PKeQMXTl0sF+aC91jKqz2lrxV1rNYEUzni17m8ud7BOGvw3kUkgnBU5U3bcQ9upvKnHQbRUyKStbHb+ONS85yltBTQXMYDVpllWZr67T3X8PJhg/W02b/tdLHdWKJpVwfSRqXET5iJ+RdxsXTW0cpMPjoFd/01chuYypS61o1AplOujHUyunANijHe8F8Fv2SUKIVQBWAcDw8DDuvPPOCV/o+OEGFhckjh85jJHRNvY7VbQl0G4Dew7UcKLSxtjRwwCABx9zJVVGOh8nBFAeOYwTlRb2HnwSraaEFMD+Q2M4VpY4cbSBVCIoWz1m2rKPKyOHUa62sHv/ITgNibqs4cAYMFKVOJ6qIZOQXcvax5V6C7v2HgBaDqrlJipNibGmxIAcQwptbO9QNkpno+Vg5+59EG0HYydG8FRVQkqJRDGBhOPg0Sf2odF2eqqjlMCOx/cgiTbKx47gqVEHY0mBgYyAaDvYtXe/uyTtoY7qOC0kjh99CiOjbaBRQSoByIbE7v0HMVpr91RH93g3MgngxJHDOF5uYz9qaLbd1/zuPej5yMhhiHHqqI4FgPJR10f2HDyMdl2i2QT2N8qujxxpIJ3orY7qWuVaC7v3H4RsOKijjkoZOFqTWJCsIS06+0iUzkqjhV179wMtB7XRFkabEtWWRKE9hiQc7Hi8d39rtB088sReJBwHY8dH8GTFgRAC8/Nuv+7cvc/9QpFVNocWABHSuf3x3UihjdGRIzh6wkGtIlBMC6Dl4Im9B1CJ8JFuOtMJieNHnsLIiTYSzYr74rCGxO79dYxWw7ZywtSl20rpPnKojlYbaEtg38Eqjo+1MXq0iYTozd8AYOzoYYxWWthzwPORFrC/VsbImMSJo3VkksDDOx/Hnen9KJfLk4p/3ehHRh71Oi8Z+g8pvy2lvFBKeeGSJUtw0UUXTfjPF9/ySnzixSWcvmwJHJFEtjiI4fnzsGDuEIqDc9CSAmeefiry6STSpbkAgPOfdToARB4XMimcedoyNGUC+YEhLJw3B8Pz5yJXGoIjkjjj1KUoZtN+2fPOMm3pxykBnH3Gaag7QHFoLubPHcSiBSchWxiATKaxfNlilPLZjrZsnc8963S0JZAfnId5QwM4ZXg+0rkiRCqLU5cswmAx37FsZ53zMHewiKWLhpHM5JDM5rF00TDmDBR6qqN9raFiHstOWYREKotUroBTTl6AuYMlZAfmQfZQR/14oJDF8qWLIRNpZAolLF44HyfNHUJhcC4abeDZK5YjlRA91bGYS+P0U5egjSRyxUGcvGAeFs6bg/zAEJoygRXLlyGfSfZUx0ImiRXLXR8peD5y8vx5yBUH4SCJ009dglIu3VMdUwmBZ69YjkYbKAzOxUlzh7B44Xyk8yUgmcZpSxdjoNDZR6KOHQlkBzwfOXkBUtkCEqkslp2yCEOlXM/+po4zpXmYM1DA0sXDSGbzSGZyWLpoGHMHi8iU5kWWnedtQ0T1xWAxj1OXLAJSWaRzRZwyvADzhgaQG5yHtgTOPbN3fxvIZ7F82WLIZBrZwgAWLTgJ8+cOoTg0Fw3HHX+ZZCLQVcx0tFXMpnHGaUvRRgK50hCG58/FwnlzkBsYQgsJnHnaMhQyqZ78LZ9O4szTT0VTChQH52DhvCEMz5+HbHEQjkji9GVLUMplMP/kxbjoootQKpUmFf8uuugidKIfgXwvgKXa8RIA+/tgtyP6sk/tbZ3wnowoeEu58M268LFajqqbFu6WRUq7sWXZKlnLKe04m3J1qf13tS9b8W7UFLz90I62dF1eHdSxb6vZwZZdR822APyl3dGxul8nf3vEsjXHXjJaOudqnytbFd+W2V7qiaJe+kJtBfjL+UwShXTSv5eh+nn8vqj77aNvAeUzSf+LXIX0BPoik0IhnfKfKFLbDuomo9rm6tXf1Hu0RyoNYy9V7dMWMqke/S3hv4BJ9YVvy9NVSHexpekSAhgqRPRrQ9cV1HHIe6JIHQ+krZudRl8E22+VZnhMFbPutlcvOjuNKfXYrTueA1uDoZuwpi3lb66PpLw6uy/By0/I31xfdZ8oavljyrh3lE5iwxPH8Ip/uxMPHe3/Fks/Avn9AM4UQiwXQmQA/AmA6/tgtyN5v9Ga/j7ZyFjwU1M5Y2CpIBY+1gPmiBpomSROeE9GqH0z+6ZY1HEmIfxBqmyrPcta0wnZmlewHVbT5enQj919WSfS1kDO3X+P0pVNAvmMN+DLDW+/2NOl7VmqsoUudVZPRqhjc18xCJiqrB3Y7b6YWzBtRQVf31avfVFuIJdOIJ9O+l8sUQMp0JUwfMS2ZfZFAnnv999GxgJ/G/W+4Wfr7NXfjpaDwG7fo+nkI7rOkI9Y91Hy6SRyGd1H0kgnRWddEb6rbqbnLF15b9L1bWsBM5kQGFQ+Ug5sqUdpc5mwj3TrV12n0qEebbTHgbpno45L9gRj1TmfSbr775WgPf04MiF/s/si4ftIsx34yKETNex8cgzt0H7F1JlyIJdStgC8E8AaANsBXC2l3DZVu93wB0Ol4c9+R7xHjFRAOGI9ihd1XNAGwxEVTNJBWdUB6nhOIdPRViYZ6DoyVvd1qCcf1LVU2VLOfQwrypY+4PXj0VoTjbYT0qUygmhdwQRzRAsm6ukZN1ClTFsd2i+nDXilK59xVzRlbUVjtF8HXekE/IxS9UXOW9GMaANLt9VJl/tkRPBUgVs2ZejUy9o+081H3DqaOm1/s31EiC7+FtEXIxX3yYicZbuYTSGb6s1HlL+Vvcdu85mwL+c69EXI37z2qeiro4w9LoJ+9p8jH6v7K2JVR6XL/UZvM+QTKsuO9t0EStm0pktLvCqN0Jiyx4WuS/WNbsvsi4Tpu1ad53Yc++akqvuMPab8L3ZNw7d3+mJSSnmzlPIsKeUZUsrP9MNmN9RPRtWaQVBT77VQnauOh/wvljieY6T8smpGB9x3Mthl1cBTx8WM+mKJ+nJC2reVTQpDl21LOXAnncEXEBzDyfRj9SIhW1feC4JRtrLaBOPX0ctW2470tjSCOuUyQdZj29InPv9Yaz+7L/Jd6phNwrClZ4UqEIXqaOhKm2X1OqZTofbLdemLwXwKqYRArekgKdzjoKxpy26fgrf10sln9DrrmZuqo66rkA7XuZuPhPxN85GocVHoZsvoCzejbHvvPbd1uX4Q+IwKmKp98hH+ZvuQ3hfmmLLGgRf1bH/Tx4XRXtqxriufTqKYSRnH5rhIGXXyVyXKlreiqTUdJIQbVzrVUfmMP6Y8W+oldengd1P6Rqy+2alQHaD+nU8HD9+oQap/XvA6UH0rzyirHefT1rH9echWcF03I++sQ88m3PLB5+pZW1NHYMvWmdN0qPN122rZB7i/Vq//VqJdx1zatFXoYitU1qqTu59sXUs7nqvVUV8puGXDfVHoclzKpv2fl9MHUqQubZLwz7f73fs8kwQKhj9ZPmPryiT8IGjrzKSCxCFKp6tLu1ZUG3Rov6j26eozVl/Y/Wq2T8qwZevKWbrVXnRkHaPK2j6jXUt9R8Kvkz22x/ER/XPX9xOROqJ1mXUOx5mk3z72WO7mqwXLVkZ/w1yfiGUgDztKwjo2P89pHdDVEbTsS30eupZ3bJfNJm1d4WvlrMGiyoeDgxWY7Mkpwpb6XD1rq8gkRdi25WS5LgNv0PsadFT72Dry6UTItn5t9cUSv73GC0Q9Bt+cNYDD7dO5rF3nbFIgp/lTwfaJUDC2Ji/D37pP5iqzDT4PX0tNEpkkjF+XiQyY2m+dhnwmE7Sv+0WutPVZZ3+z61zQdAFAPgX/fTZqn1pvn1DZLmNMbRNG6erWPu75KWtMCmO8dvMBW1e3CSnkb1Flu1xL+6hvxDOQh4Jx5+xUP+4W5CPL2gNP68BCJmWUzSRF10nCDmp6YM9nksilJlA2wlZeq2MqmfBf+hMVMMfLHvzsNJVAMqEPhkSEDj24pEIBQdVRCCCbCsrbE0xUtmpn//l0dMY0XsC0B56tW79WJhmxsuoyEXZbSYSDR8oIPDlr8urW79mk234qWx2vTnZQc4NJwv93MiGQ9VY0dkYZ5auhfvdXMJ6P6GPM6IvE+P6mt0nKDJhm2fCK2lzRJKwxGfSlrjnquraubu0bubKyVzBdkqNMkhk5gHBGbmennWb8UCaWtp1/nJlV66BcOoFsKuG/h9vOyMfLPPRgk88kkUgIfxkYWXa8YKLVUekDwlsY0ZlctAPr+tzjiOxUyyhzli09IOTTSQgR3Eew2ytqyd0pI08mBNJWthUaSFamZvd7p77JRm35dOkL20f0a+UzSaSTQlvRdJ401XEnXZmEgBCBtlDZtJUlZxIRfREENf3vqOt2zU7TerANJofo9klZujqvNnPpBBLapBAej6kIX9VWNOlg8koIIJ2AMabCgbmzrm4+022lHtUGoYx8tt7sfLrpmoFrGUA2ZTqGO7AS/mslozogvI/tXktllLotfWDZGaa9T+veBIrO9ILBmeqio/dJQbeVSZoZeTcd9rXDk0OUg3bri/AEo2fkE1odpYOMSk0Keuamssvo9olaSQQZZSoZ9Gsm4U4Uav99vBWMfS3DRzydge5Ex35T9QhnhW77ZpPB9QId1gqlw4QMBDexdRu+rkyErQ461OdRk4HfHnadQkEu+lq2r4y7sorSZflIcE8rGVrRdE2WtL5IJQTSycCHcl7ildV8ZLxJQj/WLts3YhnI9VlY33e1j9WNJnWs9hhz2nGnPVxVXl2rmEkZgbvoZzfe31bALGWTYVvpIKPMpBIhXfpxWEfnY31PuGhlXTlrgil1aS91nLN0qfKRdTLazxwcxWxw08yvo68Lxg8NlEJ9EWUr6X+mt1cpmzIGVtHWZa3Somz5g9SLC3pfhMpax6ps0RvgIX/LaP1q6erkI4A3KXgZZS4VJB+ddIR8JG1eq5DpoCtjn5uMsJWwjjuPKbNOUba0Yy1jD3wk5etKGz7S3VZR+9weU6WsO37VFqbrbymtbNhWSJdvy/SZ8Djo7DO5dML41aV+EatfCFLkjQ5IGj9ZpgePQqjBg0DqHtsNbk6VRa2z9SckVFkgWLrlUiI8SK3OVWXVL87nLVv5TgM+YsLRjxMJEdLlO04Kxv67PqDV+cYNIm0fO2qQppLmJNrNlh4g7MGQTwnj12eKmfAkMVZvG8ehQWodS/9c+wmXlHGtkqZLXwW57eWep1ZtUbYS2lMH+oSj2kbZtPsichK1Ji91nBAwM0prgokKHt18Rr/XYQci9b52w1ZosgrGnO4jbh1bhq2k0T7dfbeYDTL2oL2CCVmnmE0Ze+JF7w2NCr19o8aUbcv2t3rLtKWuZa92VbKk+tvVZU5eaStJUTEpnZie3DmegVxrtIFsGi3tq1J68FCNlrM6QP3mnh14StmU/5k6VoNUzaK+o3gjS80huZToml2VskHmofqyYOlSAV69WtYvmwtPOPpxlK6s2rtMCSvwhG3pAUBfdQyEMvLxB4N+nDQmGHMw5CzPK+XS4dVRJvgZt6y2grH/VnV2vL6LCkT6D03rdU4lgydyAHcFAwQ+Esp0cyloeYPhQyqA2SsaicDfxvORfAdbeX+CCYKH/qv09mppwOpnt47WBK1lp/pEN5ALZ/e5Dj6iArk6f8Dq2HCyZB7r21rBClBNhOHESn+iyJ3sg3d869shbuLlhCavttT6wppQ9KcCi9pqvPPYj/aRYsaczPQVjT4W+0nsA3kxm0StZWceZqN1G/C6U5VyKf9HlQEzeKgJ1l5uqdVAPgVzFs6l/CweMDNOFbBzti7NyYwM0hrwA9m0cRyly/9/q4ftQTqQTXecFPw9Qq9ediC3g4U94IEgeKi2UMFDZb5BWfNmnR0A9OCh3zzUdentZ/drywn6NZVMhPrCf6LDq6I+2dsrGn2y1/fI/QGfMdtLXdpe0ZRyEVl1h8RBTTCdfSQdmrzyHfpC6VLFS7mJTdBA4LvKR/wJJhMO5Ibv5sK6lC3/3pU1LvyyEbqOWz6SG89HnOhJdSCXMt70l9Z9xI4jvr8FuuzES5/s7Rv100EsA7m+DCx577DWKVgZrt0B+qxsLAMzKaQSgS13aWsOeLWEUtmqGtQ565GiYjZlLKNS2s0SNcHYmW5bm+F17P08+4tNrq6UoU85bD5CV8EY8MmQLX8Z6A1O2UFXaGslZ9oGEApM/pc9zNNCgcius6vLtJWxJhg1sEr2wMqmULde6p+3+sLeWtFt6VnUQC7lf3vSrY/QBqn7f3ZGqXwknK0mkdUmCf2GWtLyEVVUD+Q6dj/ajxACgW+oa+qrDlNX9+0QXZfS6bdXxKRg70WPZ0v5yLjbIbkoWynDln7fBDDHvpFoZVP+j6Ar8pYte1LQ289OvPTJ3vURt8x07I8DMQ3keqMN5tLGL24DQXaqls0qG1Mv81EDUX0VWzFUSONE1byWny2kzCx/MG/a0r50519LWm/zVU6oApAKlMpBVLDRv6yhjvNW5pG3shg1uaW9QBToMh1nKJ82MiI9Ow10Kn3C0DUU0hXxqGenjNyrayddg/lUaEUT1hVta9AKHkP5dMhH7Mk+aD/Xlj+JplX7tT1dVp1zaZStn+xStlLexK0uPeD7W9sva9Y5HRrYOUuXCjbq2ePAd8O67O0POztVx8pmp/YbzJurtEwq0XGbRumsN1Udw32hT6rq6/6GLavOSlfY39LmiiZy1WGOrUbLHPsqU45qP301buoyV0PB2G9H68ylUWtF+9t0PEMOxDSQ6+TSSf+FNoo5XsMqB256e+jq5qfqzEVDeaPcQDYVGljqa9EqI1edrb7JpjLfeTnzJsZJ3k+PGbo8WwmrrLKtHOXkwZxRbuFANvTS9zlenW29ypbKCOZkzc9PHswZA0u3pbAnLTURzh/IGuctGswbKxohRKgv7FWIynpKViA/ecisczqZML6SDgQDSC10/AnaGki2rXwmGbKl+kLFBXWfRcUFlVDZtgbzKT9BUKhX+6q2ULbUseqLYatf5xezaDqmj6j2s8uqHlPHtq7hwVxo2e7bslZDqs7K1sIB01aUj9jtpz63dYZ8ZChnrGgSCWG8jgIIsmWls+WNG9uXFll1zqQSIVsqqCpbzQ6rIdtWMZsy7rUB2ngVZhzJeXXv5CNzCmlUm9Htxz1yi7e+7HQcGwt+d/OiZy3A75y5AABwwbI5eNbwAD70qrMBAG956XJs2D3if/6VNz0P3/3V41gy1w3k73r5CuwbqUIIgVI2hVeeM4znnzoXAPDcJUN49qJBfOhVzwIA/OmLTsVdjzyJVz7nZADA5//wPHx97U4sLLha3v+7Z2HHoVH3Cz6JJH7vvEU4a3gAAPDsRYN4zuJBvPsVZwIA/mDlEty4+QBee8FiAMBnXn8uvrDmYaxYWAIAfOTVZ2PDEyN+dvGG552CUzzNZw6XcP6SIfzf33FfcP975y/GVev24I9fsAwA8MnfPwefuWk7lgy4mcEnfu8c/OqRJ/0M5k9esNR3+uXzi3j+sjn40xedCgC45NnD+N6vHsdfvvg0AMCHLj0bn7puG557yhAA4NOvOxe3bj3gr2j+7EWn+sFtydw8Xrh8Ht7wvFMAAC9dMR8rFpbwtpe5Ot97yZnYf6yKFXNdXf/6B8/FTzfsw3zvbXJvfslyP9NZMJDFS1fMx6ueMwwAeMFpc3HWcAnvveQsAMDfXLQCDx0cxW+fcRIA4It/dD5++Jsn/An6bS87w//h3TmFDF5+9kK82Dv3gqVzcPbJA/jwpa6P/OVLTsN9u47ivPluEPnyn1yA/7jrMSydWwAAvPsVZ2L3kTEIIVDMpvCq5wzjgqWuj5y72PWRD77K1fW/f2sZ1j50GK8+V/nI+fjqLx7B6QuKAIAPvPIsbD/g+kg2kcTvn78YKxa4fX72ogGce8og3nmx5yPPX4IbNu/Hixe7uj792nPxuTUP4UzPRz72mrNx3+Mjfpb9huef4gepFQtLOH/pHLzlpcsBAK957iJccd9uvOmFy3yf+PSND+KcxYMAgE/9/jm486En/cD6phcu9VcVp51UxMpT5/plL37WQpyxoIg3v2Q5RnZuwocuPRt/d+0WnOf5yD+97lzcvOWA72N/8dun+qukU+bk8VvL5+F1no+8+IyTsGJhCW+/6Ay/rfeMVHGhNwY/98bz8JN1e7Gg5PrIX790uf/r9QsHcvgfZ87HJc92fWTlsnmuj/zumWjs2Yq3/s7peHD/cbxkxXwAwJf++AJ8/55dfhu9/aIz8OSo6yNDhTRecfZC35/O93zko695NgDgr15yGu59/AhefrZ7rX//owvw7bt2Ytk810fe84ozscvzkUImhVefezLO9drjOYuHcM6iQbz/lWcBh7aj70gpn/Y/K1eulJNl7dq1ky47nVDXxKCuiTFbdUk5e7U9E3UBWCcjYmosvxBECCEkgIGcEEJiDgM5IYTEHAZyQgiJOQzkhBAScxjICSEk5jCQE0JIzGEgJ4SQmMNATgghMYeBnBBCYg4DOSGExBwGckIIiTkM5IQQEnOmFMiFEH8ohNgmhHCEEBf2SxQhhJDemWpGvhXAGwDc1QcthBBCJsGUflhCSrkdMH96jRBCyNOLkFKOf9Z4RoS4E8AHpJTrupyzCsAqABgeHl65evXqSV2rXC6jVCpNqux0Ql0Tg7omxmzVBcxebc9EXRdffPF6KWV4Gzvq1yb0PwDugLuFYv95rXbOnQAuHM+W5C8EPe1Q18SgrokzW7U9E3Whwy8Ejbu1IqW8ZFJTByGEkKcFPn5ICCExZ6qPH75eCLEXwG8DuEkIsaY/sgghhPTKVJ9auQbANX3SQgghZBJwa4UQQmIOAzkhhMQcBnJCCIk5DOSEEBJzGMgJISTmMJATQkjMYSAnhJCYw0BOCCExh4GcEEJiDgM5IYTEHAZyQgiJOQzkhBAScxjICSEk5jCQE0JIzGEgJ4SQmMNATgghMYeBnBBCYg4DOSGExBwGckIIiTkM5IQQEnMYyAkhJOYwkBNCSMxhICeEkJjDQE4IITGHgZwQQmIOAzkhhMQcBnJCCIk5UwrkQojPCyF2CCE2CyGuEULM6ZMuQgghPTLVjPx2AOdKKc8D8DCAj05dEiGEkIkwpUAupbxNStnyDn8DYMnUJRFCCJkI/dwjfzOAW/pojxBCSA8IKWX3E4S4A8DJER99XEp5nXfOxwFcCOANsoNBIcQqAKsAYHh4eOXq1asnJbhcLqNUKk2q7HRCXRODuibGbNUFzF5tz0RdF1988Xop5YWhD6SUU/oD4C8A3AOg0GuZlStXysmydu3aSZedTqhrYlDXxJituqScvdqeiboArJMRMTU1hYkFQohLAXwYwMuklJWp2CKEEDI5prpH/jUAAwBuF0JsEkJ8sw+aCCGETIApZeRSyhX9EkIIIWRy8JudhBAScxjICSEk5jCQE0JIzGEgJ4SQmMNATgghMYeBnBBCYg4DOSGExBwGckIIiTkM5IQQEnMYyAkhJOYwkBNCSMxhICeEkJjDQE4IITGHgZwQQmIOAzkhhMQcBnJCCIk5DOSEEBJzGMgJISTmMJATQkjMYSAnhJCYw0BOCCExh4GcEEJiDgM5IYTEHAZyQgiJOQzkhBAScxjICSEk5jCQE0JIzGEgJ4SQmDOlQC6E+LQQYrMQYpMQ4jYhxOJ+CSOEENIbU83IPy+lPE9KeQGAGwF8cuqSCCGETIQpBXIp5QntsAhATk0OIYSQiZKaqgEhxGcA/DmA4wAu7nLeKgCrvMOyEOKhSV5yPoCnJll2OqGuiUFdE2O26gJmr7Znoq5To/5TSNk9iRZC3AHg5IiPPi6lvE4776MAclLKT01SYE8IIdZJKS+czmtMBuqaGNQ1MWarLmD2avvvpGvcjFxKeUmPtq4AcBOAaQ3khBBCTKb61MqZ2uH/ArBjanIIIYRMlKnukf+LEOJZABwATwB429Qljcu3n4ZrTAbqmhjUNTFmqy5g9mr7b6Nr3D1yQgghsxt+s5MQQmIOAzkhhMScWRXIhRCXCiEeEkI8KoT4SMTnQgjxFe/zzUKI5/dadgZ17RJCbPFeY7DuadZ1thDiHiFEXQjxgYmUnUFdM9le/8frv81CiLuFEOf3WnYGdc1ke71We0XHOiHES3stO4O6Zqy9tPNeIIRoCyHeONGyHZFSzoo/AJIAdgI4HUAGwAMAzrHOeQ2AWwAIAC8CcG+vZWdCl/fZLgDzZ6i9FgJ4AYDPAPjARMrOhK5Z0F4vBjDX+/erZ5F/ReqaBe1VQnCf7TwAO2ZJe0Xqmun20s77BYCbAbyxX+01mzLyFwJ4VEr5mJSyAWA1gNda57wWwOXS5TcA5gghFvVYdiZ0TSfj6pJSHpZS3g+gOdGyM6RrOulF191SyhHv8DcAlvRadoZ0TSe96CpLLxLBfEXHTLdXJ13TSa91fheAnwI4PImyHZlNgfwUAHu0473e//VyTi9lZ0IX4DrRbUKI9cJ9TUG/mEqdZ7q9ujFb2ustcFdZkyn7dOkCZri9hBCvF0LsgPtlwDdPpOwM6AJmsL2EEKcAeD2Ab0607HhM+V0rfURE/J89k3Y6p5eyk2UqugDgJVLK/UKIhQBuF0LskFLe9TTpmo6y0217xttLCHEx3ICp9lZnRXtF6AJmuL2klNcAuEYI8TsAPg3gkl7LzoAuYGbb60sAPiylbAthnD7l9ppNGfleAEu14yUA9vd4Ti9lZ0IXpJTq78MAroG7jHq6dE1H2Wm1PdPtJYQ4D8B3ALxWSnlkImVnQNeMt5em4y4AZwgh5k+07NOoa6bb60IAq4UQuwC8EcA3hBCv67Fsd/q96T+FmwUpAI8BWI5gw/851jn/E+ZNxft6LTtDuooABrR/3w3g0qdLl3bu38O82Tmj7dVF14y2F4BlAB4F8OLJ1ulp1jXT7bUCwU3F5wPY542BmW6vTrpmxXj0zr8Mwc3OKbfXlCvQzz9wn/54GO4d3I97//c2AG/z/i0AfN37fAuAC7uVnWldcO9CP+D92TYDuk6GO9ufAHDM+/fgLGivSF2zoL2+A2AEwCbvz7pZ4l+RumZBe33Yu+4mAPcAeOksaa9IXTPdXta5l8EL5P1oL35FnxBCYs5s2iMnhBAyCRjICSEk5jCQE0JIzGEgJ4SQmMNATgghMYeBnBBCYg4DOSGExJz/Dx60RPfcN3EWAAAAAElFTkSuQmCC\n",
          "text/plain": "<Figure size 432x288 with 1 Axes>"
         },
         "metadata": {
          "needs_background": "light"
         },
         "output_type": "display_data"
        }
       ]
      }
     },
     "8c27d88cd2dc47af8baa861ed858ab05": {
      "model_module": "@jupyter-widgets/controls",
      "model_module_version": "1.5.0",
      "model_name": "SliderStyleModel",
      "state": {
       "description_width": ""
      }
     },
     "8d3a84f02a52447bb1a719f1456facc5": {
      "model_module": "@jupyter-widgets/output",
      "model_module_version": "1.0.0",
      "model_name": "OutputModel",
      "state": {
       "layout": "IPY_MODEL_70715cd167b243b28403cca64ea0b41a"
      }
     },
     "8d45a815418a4aea9f139e5bc426dc72": {
      "model_module": "@jupyter-widgets/controls",
      "model_module_version": "1.5.0",
      "model_name": "FloatSliderModel",
      "state": {
       "continuous_update": false,
       "description": "Phase",
       "layout": "IPY_MODEL_617043fe6bd94b208dae503b455c4264",
       "max": 2,
       "min": 0.1,
       "step": 0.1,
       "style": "IPY_MODEL_86594eeca62e42e395ce491c68114a24",
       "value": 0.4
      }
     },
     "8dc66c2dc14c456a9f7895b0d872a1aa": {
      "model_module": "@jupyter-widgets/controls",
      "model_module_version": "1.5.0",
      "model_name": "VBoxModel",
      "state": {
       "children": [
        "IPY_MODEL_5af6673af745475e85c494e1a6dcfbbb",
        "IPY_MODEL_a6017aa8c002418db7fa40a2dbf9e4aa",
        "IPY_MODEL_0dd8a3820da0436ca24baa97fe4ef834"
       ],
       "layout": "IPY_MODEL_a1e0c2aa99f04546a2e327b69e5ba779"
      }
     },
     "8dcb8ea93b21416689a0508ce6e66568": {
      "model_module": "@jupyter-widgets/output",
      "model_module_version": "1.0.0",
      "model_name": "OutputModel",
      "state": {
       "layout": "IPY_MODEL_7a48c8fe36ad49818be79439aa301312",
       "outputs": [
        {
         "data": {
          "text/html": "\n                <audio  controls=\"controls\" autoplay=\"autoplay\">\n                    <source src=\"data:audio/wav;base64,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\" type=\"audio/wav\" />\n                    Your browser does not support the audio element.\n                </audio>\n              ",
          "text/plain": "<IPython.lib.display.Audio object>"
         },
         "metadata": {},
         "output_type": "display_data"
        }
       ]
      }
     },
     "8e8291133de34c9d9cfd9fc2aa2dbeab": {
      "model_module": "@jupyter-widgets/base",
      "model_module_version": "1.2.0",
      "model_name": "LayoutModel",
      "state": {}
     },
     "8f383a2a85324275b61dc9d8deb504b9": {
      "model_module": "@jupyter-widgets/controls",
      "model_module_version": "1.5.0",
      "model_name": "FloatSliderModel",
      "state": {
       "continuous_update": false,
       "description": "Duraton",
       "layout": "IPY_MODEL_0ee89042c6324695ae3734cbcfe26989",
       "max": 2,
       "min": 0.1,
       "step": 0.1,
       "style": "IPY_MODEL_4c4fde2ba61a4712be85e7e3aba9200e",
       "value": 0.4
      }
     },
     "903d0dae56734162af1e8b57f67984b8": {
      "model_module": "@jupyter-widgets/base",
      "model_module_version": "1.2.0",
      "model_name": "LayoutModel",
      "state": {}
     },
     "908ea11bd13d4e0fb4bf435967fb72fc": {
      "model_module": "@jupyter-widgets/controls",
      "model_module_version": "1.5.0",
      "model_name": "SliderStyleModel",
      "state": {
       "description_width": ""
      }
     },
     "910409ea8a2e4d188de322d106e089c8": {
      "model_module": "@jupyter-widgets/base",
      "model_module_version": "1.2.0",
      "model_name": "LayoutModel",
      "state": {}
     },
     "916b2868583744b79918a36822c4055c": {
      "model_module": "@jupyter-widgets/output",
      "model_module_version": "1.0.0",
      "model_name": "OutputModel",
      "state": {
       "layout": "IPY_MODEL_442f8b1a0fd141a6a5ece5ad3b373dbd",
       "outputs": [
        {
         "data": {
          "image/png": "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\n",
          "text/plain": "<Figure size 432x288 with 1 Axes>"
         },
         "metadata": {
          "needs_background": "light"
         },
         "output_type": "display_data"
        }
       ]
      }
     },
     "92260f8e0a8d46a48d9768cf54960f7f": {
      "model_module": "@jupyter-widgets/base",
      "model_module_version": "1.2.0",
      "model_name": "LayoutModel",
      "state": {}
     },
     "925bec3784114c04aea65e822e153f8b": {
      "model_module": "@jupyter-widgets/base",
      "model_module_version": "1.2.0",
      "model_name": "LayoutModel",
      "state": {}
     },
     "928f6d6fe43a48cca76ab52ec7cdc287": {
      "model_module": "@jupyter-widgets/controls",
      "model_module_version": "1.5.0",
      "model_name": "SliderStyleModel",
      "state": {
       "description_width": ""
      }
     },
     "92b41a2fecd24acf816a3e18407bbdb0": {
      "model_module": "@jupyter-widgets/controls",
      "model_module_version": "1.5.0",
      "model_name": "VBoxModel",
      "state": {
       "children": [
        "IPY_MODEL_33cd7cdb2b054bacab58e975e6027277",
        "IPY_MODEL_c838f1c2a783488a973f091549a2bf2e",
        "IPY_MODEL_cd2fed00981443b997be63057e1e7add",
        "IPY_MODEL_00ad3030694b4bd4aa26d09b6d179a8e"
       ],
       "layout": "IPY_MODEL_05563439cd6f4772966476e322b9611a"
      }
     },
     "9328686df6cf45aa87636c726d9d0a26": {
      "model_module": "@jupyter-widgets/output",
      "model_module_version": "1.0.0",
      "model_name": "OutputModel",
      "state": {
       "layout": "IPY_MODEL_1ad5cd557d724049954febe304125141",
       "outputs": [
        {
         "data": {
          "text/plain": "<Figure size 432x288 with 0 Axes>"
         },
         "metadata": {},
         "output_type": "display_data"
        }
       ]
      }
     },
     "93edd01dca2843f686dab531d89470a6": {
      "model_module": "@jupyter-widgets/output",
      "model_module_version": "1.0.0",
      "model_name": "OutputModel",
      "state": {
       "layout": "IPY_MODEL_0cbd6ba3864b4c4ca9eb949dd528505d",
       "outputs": [
        {
         "ename": "TypeError",
         "evalue": "synth() got an unexpected keyword argument 'amp'",
         "output_type": "error",
         "traceback": [
          "\u001b[1;31m---------------------------------------------------------------------------\u001b[0m",
          "\u001b[1;31mTypeError\u001b[0m                                 Traceback (most recent call last)",
          "\u001b[1;32m<ipython-input-26-067ce17c5941>\u001b[0m in \u001b[0;36msin_gui1\u001b[1;34m(amp, freq, Tmax)\u001b[0m\n\u001b[0;32m     26\u001b[0m     \u001b[1;32mwith\u001b[0m \u001b[0mout_plot\u001b[0m\u001b[1;33m:\u001b[0m\u001b[1;33m\u001b[0m\u001b[1;33m\u001b[0m\u001b[0m\n\u001b[0;32m     27\u001b[0m         \u001b[0mplt\u001b[0m\u001b[1;33m.\u001b[0m\u001b[0mclf\u001b[0m\u001b[1;33m(\u001b[0m\u001b[1;33m)\u001b[0m\u001b[1;33m\u001b[0m\u001b[1;33m\u001b[0m\u001b[0m\n\u001b[1;32m---> 28\u001b[1;33m         \u001b[0my\u001b[0m\u001b[1;33m,\u001b[0m\u001b[0mx\u001b[0m \u001b[1;33m=\u001b[0m \u001b[0msynth\u001b[0m\u001b[1;33m(\u001b[0m\u001b[1;34m'sin'\u001b[0m\u001b[1;33m,\u001b[0m\u001b[0mfreq\u001b[0m\u001b[1;33m=\u001b[0m\u001b[0mfreq\u001b[0m\u001b[1;33m,\u001b[0m\u001b[0mamp\u001b[0m\u001b[1;33m=\u001b[0m\u001b[0mamp\u001b[0m\u001b[1;33m,\u001b[0m\u001b[0mTmax\u001b[0m\u001b[1;33m=\u001b[0m\u001b[0mTmax\u001b[0m\u001b[1;33m)\u001b[0m\u001b[1;33m\u001b[0m\u001b[1;33m\u001b[0m\u001b[0m\n\u001b[0m\u001b[0;32m     29\u001b[0m         \u001b[0mplt\u001b[0m\u001b[1;33m.\u001b[0m\u001b[0mplot\u001b[0m\u001b[1;33m(\u001b[0m\u001b[0mx\u001b[0m\u001b[1;33m,\u001b[0m \u001b[0my\u001b[0m\u001b[1;33m,\u001b[0m \u001b[0mcolor\u001b[0m\u001b[1;33m=\u001b[0m\u001b[1;34m'C0'\u001b[0m\u001b[1;33m)\u001b[0m\u001b[1;33m\u001b[0m\u001b[1;33m\u001b[0m\u001b[0m\n\u001b[0;32m     30\u001b[0m         \u001b[0mplt\u001b[0m\u001b[1;33m.\u001b[0m\u001b[0mylim\u001b[0m\u001b[1;33m(\u001b[0m\u001b[1;33m[\u001b[0m\u001b[1;33m-\u001b[0m\u001b[1;36m3\u001b[0m\u001b[1;33m,\u001b[0m \u001b[1;36m3\u001b[0m\u001b[1;33m]\u001b[0m\u001b[1;33m)\u001b[0m\u001b[1;33m\u001b[0m\u001b[1;33m\u001b[0m\u001b[0m\n",
          "\u001b[1;31mTypeError\u001b[0m: synth() got an unexpected keyword argument 'amp'"
         ]
        },
        {
         "data": {
          "text/plain": "<Figure size 432x288 with 0 Axes>"
         },
         "metadata": {},
         "output_type": "display_data"
        }
       ]
      }
     },
     "95ea0369612b41ce86d1a63e8588c2e8": {
      "model_module": "@jupyter-widgets/base",
      "model_module_version": "1.2.0",
      "model_name": "LayoutModel",
      "state": {}
     },
     "96524e54d9a44d85bec5cc7b82076ae9": {
      "model_module": "@jupyter-widgets/controls",
      "model_module_version": "1.5.0",
      "model_name": "SliderStyleModel",
      "state": {
       "description_width": ""
      }
     },
     "96ac6d455c4d47a0b3d3d2f724e6fa88": {
      "model_module": "@jupyter-widgets/base",
      "model_module_version": "1.2.0",
      "model_name": "LayoutModel",
      "state": {}
     },
     "96c49776065c48a9bc0ebce90019b673": {
      "model_module": "@jupyter-widgets/controls",
      "model_module_version": "1.5.0",
      "model_name": "FloatSliderModel",
      "state": {
       "description": "Frequency",
       "layout": "IPY_MODEL_92260f8e0a8d46a48d9768cf54960f7f",
       "max": 500,
       "min": 50,
       "step": 5,
       "style": "IPY_MODEL_729e32e4af7a4873a9945a0877c08b62",
       "value": 300
      }
     },
     "96cbf29e04284141b646facd2a6f1276": {
      "model_module": "@jupyter-widgets/controls",
      "model_module_version": "1.5.0",
      "model_name": "FloatSliderModel",
      "state": {
       "description": "Frequency",
       "layout": "IPY_MODEL_b9489e3ffc1c438a8dd92ebf1d88a430",
       "max": 1000,
       "min": 200,
       "step": 0.1,
       "style": "IPY_MODEL_a45c657c83e348418becf05ae2e50a94",
       "value": 638.9
      }
     },
     "9992bc7b54164bb9b14bda10e3b47839": {
      "model_module": "@jupyter-widgets/base",
      "model_module_version": "1.2.0",
      "model_name": "LayoutModel",
      "state": {}
     },
     "9b0d8ef046884b25814ffaf38ca96041": {
      "model_module": "@jupyter-widgets/base",
      "model_module_version": "1.2.0",
      "model_name": "LayoutModel",
      "state": {}
     },
     "9b2a181dff344854bc46fa50d37d7226": {
      "model_module": "@jupyter-widgets/base",
      "model_module_version": "1.2.0",
      "model_name": "LayoutModel",
      "state": {}
     },
     "9be7bec48ab84a8f93b4a2a6586e09cd": {
      "model_module": "@jupyter-widgets/base",
      "model_module_version": "1.2.0",
      "model_name": "LayoutModel",
      "state": {}
     },
     "9bfea725980c43d79f34b1380d6bfcfa": {
      "model_module": "@jupyter-widgets/controls",
      "model_module_version": "1.5.0",
      "model_name": "IntSliderModel",
      "state": {
       "description": "w",
       "layout": "IPY_MODEL_57398ee6972e4795907a56151a127142",
       "max": 10,
       "style": "IPY_MODEL_f9b6ea0d5329449696864c4c628efd22",
       "value": 1
      }
     },
     "9c0467209257458db112bf6afe492a19": {
      "model_module": "@jupyter-widgets/controls",
      "model_module_version": "1.5.0",
      "model_name": "VBoxModel",
      "state": {
       "children": [
        "IPY_MODEL_d0f0d9cfacad4ddf94565b1c562580bc",
        "IPY_MODEL_b61a0b1c59cc476a902b162a21a9025d"
       ],
       "layout": "IPY_MODEL_7450ec09eaa04f7dbe95a2d551e540ea"
      }
     },
     "9e779e64197e45008c9fb112d2ec5877": {
      "model_module": "@jupyter-widgets/controls",
      "model_module_version": "1.5.0",
      "model_name": "FloatSliderModel",
      "state": {
       "continuous_update": false,
       "description": "Phase",
       "layout": "IPY_MODEL_c1646d14959f4f62b3866d6f0b04cbc5",
       "max": 2,
       "min": 0.1,
       "step": 0.1,
       "style": "IPY_MODEL_9f4ea5adbed749118bfc23e48858749a",
       "value": 0.4
      }
     },
     "9f4ea5adbed749118bfc23e48858749a": {
      "model_module": "@jupyter-widgets/controls",
      "model_module_version": "1.5.0",
      "model_name": "SliderStyleModel",
      "state": {
       "description_width": ""
      }
     },
     "9fbc09fc47f54324bfb73616e15584ec": {
      "model_module": "@jupyter-widgets/base",
      "model_module_version": "1.2.0",
      "model_name": "LayoutModel",
      "state": {}
     },
     "a10344487a464e1faeb6184f58bb155f": {
      "model_module": "@jupyter-widgets/controls",
      "model_module_version": "1.5.0",
      "model_name": "DescriptionStyleModel",
      "state": {
       "description_width": ""
      }
     },
     "a13accb5b2384ea499b62e0b843000da": {
      "model_module": "@jupyter-widgets/controls",
      "model_module_version": "1.5.0",
      "model_name": "SliderStyleModel",
      "state": {
       "description_width": ""
      }
     },
     "a196c20028c947cbbba12d6415063735": {
      "model_module": "@jupyter-widgets/controls",
      "model_module_version": "1.5.0",
      "model_name": "VBoxModel",
      "state": {
       "_dom_classes": [
        "widget-interact"
       ],
       "children": [
        "IPY_MODEL_43700483ced94cd2934a8b965cb463a4",
        "IPY_MODEL_d7640a13b0c24b1a8f663a02f8dd8f85",
        "IPY_MODEL_41502c9106e54c878fdaa7a3f8e82963",
        "IPY_MODEL_05cb1a855f054b1db3daad071f568685"
       ],
       "layout": "IPY_MODEL_b3dd2a9a8c4b4a93a47944b2e6b2eeab"
      }
     },
     "a1e0c2aa99f04546a2e327b69e5ba779": {
      "model_module": "@jupyter-widgets/base",
      "model_module_version": "1.2.0",
      "model_name": "LayoutModel",
      "state": {}
     },
     "a221b7d9d01f420ba0603d76ae3a55f6": {
      "model_module": "@jupyter-widgets/controls",
      "model_module_version": "1.5.0",
      "model_name": "BoxModel",
      "state": {
       "children": [
        "IPY_MODEL_c6a482d75b0e4dc582338cc74690c781"
       ],
       "layout": "IPY_MODEL_08753902e5f4416ebcd221d44171093a"
      }
     },
     "a2eae8c872a34e66819d9d896f155e5c": {
      "model_module": "@jupyter-widgets/controls",
      "model_module_version": "1.5.0",
      "model_name": "SliderStyleModel",
      "state": {
       "description_width": ""
      }
     },
     "a3173212f85c43c7bbd907ae865362df": {
      "model_module": "@jupyter-widgets/base",
      "model_module_version": "1.2.0",
      "model_name": "LayoutModel",
      "state": {}
     },
     "a40f1c8a0fa540f79bea1204ec2bf45c": {
      "model_module": "@jupyter-widgets/base",
      "model_module_version": "1.2.0",
      "model_name": "LayoutModel",
      "state": {}
     },
     "a45c657c83e348418becf05ae2e50a94": {
      "model_module": "@jupyter-widgets/controls",
      "model_module_version": "1.5.0",
      "model_name": "SliderStyleModel",
      "state": {
       "description_width": ""
      }
     },
     "a6017aa8c002418db7fa40a2dbf9e4aa": {
      "model_module": "@jupyter-widgets/controls",
      "model_module_version": "1.5.0",
      "model_name": "FloatSliderModel",
      "state": {
       "description": "Frequency",
       "layout": "IPY_MODEL_732a1262b4b649de9b526da4e0f9cca0",
       "max": 1000,
       "min": 200,
       "step": 0.1,
       "style": "IPY_MODEL_bb8d51bf4c7c4e8584dc2e2a4cadd728",
       "value": 660.6
      }
     },
     "a61222569fc6465f816fef3207ead097": {
      "model_module": "@jupyter-widgets/controls",
      "model_module_version": "1.5.0",
      "model_name": "HBoxModel",
      "state": {
       "children": [
        "IPY_MODEL_8c27990e43f347c5a810f2f5b33ca5bc",
        "IPY_MODEL_f876a4093e0b4ad18edc4b1b2cf3d1e7"
       ],
       "layout": "IPY_MODEL_74eca08125fb4f47b156acc8b2238eb7"
      }
     },
     "a6830024ef384eac843bcccfaa30ec27": {
      "model_module": "@jupyter-widgets/base",
      "model_module_version": "1.2.0",
      "model_name": "LayoutModel",
      "state": {}
     },
     "a69d4c64f2a4499289a09ea9267424e3": {
      "model_module": "@jupyter-widgets/controls",
      "model_module_version": "1.5.0",
      "model_name": "SliderStyleModel",
      "state": {
       "description_width": ""
      }
     },
     "a6bd1787d4d9483e88b682ba26458ca8": {
      "model_module": "@jupyter-widgets/controls",
      "model_module_version": "1.5.0",
      "model_name": "FloatSliderModel",
      "state": {
       "continuous_update": false,
       "description": "Duration",
       "layout": "IPY_MODEL_df62e15752ab40c6b0c28136992ec422",
       "max": 2,
       "min": 0.1,
       "step": 0.1,
       "style": "IPY_MODEL_165da18755024eaf9ba9992c56821c8f",
       "value": 0.4
      }
     },
     "a6fdc6997c6843828428bd1f052150d7": {
      "model_module": "@jupyter-widgets/base",
      "model_module_version": "1.2.0",
      "model_name": "LayoutModel",
      "state": {}
     },
     "a7ef7f7d64514e01a074d11fff345e9e": {
      "model_module": "@jupyter-widgets/controls",
      "model_module_version": "1.5.0",
      "model_name": "FloatSliderModel",
      "state": {
       "description": "Amplitude",
       "layout": "IPY_MODEL_78fc8174111649b099388ea752562841",
       "max": 1,
       "step": 0.05,
       "style": "IPY_MODEL_da222d7ab285400f8c8b9ec3b3d9c52a",
       "value": 0.3
      }
     },
     "a8461561c7af428c924f351c04a35d1d": {
      "model_module": "@jupyter-widgets/base",
      "model_module_version": "1.2.0",
      "model_name": "LayoutModel",
      "state": {}
     },
     "a916af4540d844209b76963f2fdd61bf": {
      "model_module": "@jupyter-widgets/controls",
      "model_module_version": "1.5.0",
      "model_name": "SliderStyleModel",
      "state": {
       "description_width": ""
      }
     },
     "a9af6b74ee7948ff87b841750a6cb5c6": {
      "model_module": "@jupyter-widgets/controls",
      "model_module_version": "1.5.0",
      "model_name": "HBoxModel",
      "state": {
       "children": [
        "IPY_MODEL_4cb9698f90ca4f86b1d68545219431a6",
        "IPY_MODEL_9c0467209257458db112bf6afe492a19"
       ],
       "layout": "IPY_MODEL_dfac46f9d91c4e6cb4ab93f346b2f2a3"
      }
     },
     "a9c1a137f34c43209cfbcfe56d78527c": {
      "model_module": "@jupyter-widgets/controls",
      "model_module_version": "1.5.0",
      "model_name": "VBoxModel",
      "state": {
       "children": [
        "IPY_MODEL_fd6eca44a7924d4dbac9dde8def4eda0",
        "IPY_MODEL_96cbf29e04284141b646facd2a6f1276",
        "IPY_MODEL_1f2a7ebf798549dfba8e3cd150250911"
       ],
       "layout": "IPY_MODEL_0c855988c97640b38ef7e887acd4b287"
      }
     },
     "ab24f06f09b74f1aaae3cc42f0025886": {
      "model_module": "@jupyter-widgets/base",
      "model_module_version": "1.2.0",
      "model_name": "LayoutModel",
      "state": {}
     },
     "ac69ffc24c4e4f818308c2ddbc437de0": {
      "model_module": "@jupyter-widgets/controls",
      "model_module_version": "1.5.0",
      "model_name": "FloatSliderModel",
      "state": {
       "description": "Amplitude",
       "layout": "IPY_MODEL_e9cb983ddf974dd1bc578f8b52bbd087",
       "max": 1,
       "step": 0.05,
       "style": "IPY_MODEL_ed5eadb548bc472aa90358d6da326a0e",
       "value": 0.5
      }
     },
     "aca067fcbb944c948ddf1ed09094ce68": {
      "model_module": "@jupyter-widgets/base",
      "model_module_version": "1.2.0",
      "model_name": "LayoutModel",
      "state": {
       "border": "solid 1px black",
       "margin": "0px 10px 10px 0px",
       "padding": "5px 5px 5px 5px"
      }
     },
     "ae0efe772d0744a594328d2af1802b09": {
      "model_module": "@jupyter-widgets/base",
      "model_module_version": "1.2.0",
      "model_name": "LayoutModel",
      "state": {}
     },
     "ae93a70808d6422fa9615e43df23e976": {
      "model_module": "@jupyter-widgets/controls",
      "model_module_version": "1.5.0",
      "model_name": "HBoxModel",
      "state": {
       "children": [
        "IPY_MODEL_0ff1c4e4dee74a0480c44847fd3334d3",
        "IPY_MODEL_2c87cc90cefa4d4490517cc9726245e6"
       ],
       "layout": "IPY_MODEL_48ea270b37d24393807c073f37188cca"
      }
     },
     "af3ef434d8e44a67a0875c93d741d5b9": {
      "model_module": "@jupyter-widgets/base",
      "model_module_version": "1.2.0",
      "model_name": "LayoutModel",
      "state": {}
     },
     "afad739c00a746149b9c736dfc0e8958": {
      "model_module": "@jupyter-widgets/controls",
      "model_module_version": "1.5.0",
      "model_name": "HBoxModel",
      "state": {
       "children": [
        "IPY_MODEL_e6793036f78948a0be765df467751e11",
        "IPY_MODEL_28c2402837034360a8007c2e5cb24b41",
        "IPY_MODEL_6434de6108a344f4919c06075e140259"
       ],
       "layout": "IPY_MODEL_751a5b5f57f24c7582817109b7837ece"
      }
     },
     "b02e6ef86fbc4f839a5531e77129ad2a": {
      "model_module": "@jupyter-widgets/controls",
      "model_module_version": "1.5.0",
      "model_name": "VBoxModel",
      "state": {
       "children": [
        "IPY_MODEL_c1360444abad428fa15175ceaac322be",
        "IPY_MODEL_129c5c0ffe4a46d78ab1416a2e88fede",
        "IPY_MODEL_8ba594ccdfd34bacab23c7eb2baf27f3"
       ],
       "layout": "IPY_MODEL_1b93ec825051483d93444d6301f98956"
      }
     },
     "b03579baa9774891af5f1116496431c2": {
      "model_module": "@jupyter-widgets/controls",
      "model_module_version": "1.5.0",
      "model_name": "FloatSliderModel",
      "state": {
       "description": "Amplitude",
       "layout": "IPY_MODEL_c3645410b6f445a584a95285b2d82057",
       "max": 1,
       "step": 0.05,
       "style": "IPY_MODEL_63d141bcba9c460a9896f1e0e495a889",
       "value": 0.85
      }
     },
     "b03b349f29ad4b07a8b6b040f6b0a390": {
      "model_module": "@jupyter-widgets/controls",
      "model_module_version": "1.5.0",
      "model_name": "SliderStyleModel",
      "state": {
       "description_width": ""
      }
     },
     "b0c60cc8e1fe4fb8bc858d8ee435dd05": {
      "model_module": "@jupyter-widgets/base",
      "model_module_version": "1.2.0",
      "model_name": "LayoutModel",
      "state": {}
     },
     "b0f99805ed7f426b801f5c4249898b7a": {
      "model_module": "@jupyter-widgets/base",
      "model_module_version": "1.2.0",
      "model_name": "LayoutModel",
      "state": {}
     },
     "b2136425fc7a495b9db22d7198fb3e93": {
      "model_module": "@jupyter-widgets/output",
      "model_module_version": "1.0.0",
      "model_name": "OutputModel",
      "state": {
       "layout": "IPY_MODEL_3e61ae455db94b7d815738caa02067d7",
       "outputs": [
        {
         "data": {
          "image/png": "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\n",
          "text/plain": "<Figure size 432x288 with 1 Axes>"
         },
         "metadata": {
          "needs_background": "light"
         },
         "output_type": "display_data"
        }
       ]
      }
     },
     "b2804459a87f499792173109e33acd40": {
      "model_module": "@jupyter-widgets/controls",
      "model_module_version": "1.5.0",
      "model_name": "SliderStyleModel",
      "state": {
       "description_width": ""
      }
     },
     "b28b92bbae5548b9aab776eb472760b9": {
      "model_module": "@jupyter-widgets/controls",
      "model_module_version": "1.5.0",
      "model_name": "FloatSliderModel",
      "state": {
       "continuous_update": false,
       "description": "Phase",
       "layout": "IPY_MODEL_02661ecc0eda4fe59deabd0c780c1119",
       "max": 2,
       "min": 0.1,
       "step": 0.1,
       "style": "IPY_MODEL_f1a04cb90fc148a7bb1b119b5370477f",
       "value": 0.4
      }
     },
     "b29997ef0a894bc3921a45b6905f87e9": {
      "model_module": "@jupyter-widgets/base",
      "model_module_version": "1.2.0",
      "model_name": "LayoutModel",
      "state": {}
     },
     "b3b57bc9fcfc44bcbe2ac1458dc71f4a": {
      "model_module": "@jupyter-widgets/base",
      "model_module_version": "1.2.0",
      "model_name": "LayoutModel",
      "state": {}
     },
     "b3dd2a9a8c4b4a93a47944b2e6b2eeab": {
      "model_module": "@jupyter-widgets/base",
      "model_module_version": "1.2.0",
      "model_name": "LayoutModel",
      "state": {}
     },
     "b515273c81104aa9943d0b20262163df": {
      "model_module": "@jupyter-widgets/base",
      "model_module_version": "1.2.0",
      "model_name": "LayoutModel",
      "state": {}
     },
     "b522772d40824d6f93436b72a7bddbc9": {
      "model_module": "@jupyter-widgets/base",
      "model_module_version": "1.2.0",
      "model_name": "LayoutModel",
      "state": {}
     },
     "b5ae5f6dd3b842708b4aa05e6867f321": {
      "model_module": "@jupyter-widgets/base",
      "model_module_version": "1.2.0",
      "model_name": "LayoutModel",
      "state": {}
     },
     "b61a0b1c59cc476a902b162a21a9025d": {
      "model_module": "@jupyter-widgets/output",
      "model_module_version": "1.0.0",
      "model_name": "OutputModel",
      "state": {
       "layout": "IPY_MODEL_9b0d8ef046884b25814ffaf38ca96041"
      }
     },
     "b6697231a83c476eb0e83e8095bb10b9": {
      "model_module": "@jupyter-widgets/output",
      "model_module_version": "1.0.0",
      "model_name": "OutputModel",
      "state": {
       "layout": "IPY_MODEL_de713f89ace14e5491ca4e82e64f9f71",
       "outputs": [
        {
         "data": {
          "image/png": "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\n",
          "text/plain": "<Figure size 432x288 with 1 Axes>"
         },
         "metadata": {
          "needs_background": "light"
         },
         "output_type": "display_data"
        }
       ]
      }
     },
     "b6698711213a43e5bdb5b0350947eb58": {
      "model_module": "@jupyter-widgets/controls",
      "model_module_version": "1.5.0",
      "model_name": "VBoxModel",
      "state": {
       "_dom_classes": [
        "widget-interact"
       ],
       "children": [
        "IPY_MODEL_efab13e28c7b4e08a36394033406bacd",
        "IPY_MODEL_578e3d7d8bbe4a28ab86528f3650b014",
        "IPY_MODEL_ac69ffc24c4e4f818308c2ddbc437de0",
        "IPY_MODEL_a6bd1787d4d9483e88b682ba26458ca8",
        "IPY_MODEL_d36edbd106304ac69f34dce09c466943"
       ],
       "layout": "IPY_MODEL_752ad39f947b4e1ca62b96145e2fdfc2"
      }
     },
     "b6f2634cb8a846d795a3161fdd3f6f0e": {
      "model_module": "@jupyter-widgets/output",
      "model_module_version": "1.0.0",
      "model_name": "OutputModel",
      "state": {
       "layout": "IPY_MODEL_00d3060a4d584f45bd953245f58c84b4"
      }
     },
     "b8a8d032163c450abf774ec2313a100b": {
      "model_module": "@jupyter-widgets/base",
      "model_module_version": "1.2.0",
      "model_name": "LayoutModel",
      "state": {}
     },
     "b9489e3ffc1c438a8dd92ebf1d88a430": {
      "model_module": "@jupyter-widgets/base",
      "model_module_version": "1.2.0",
      "model_name": "LayoutModel",
      "state": {}
     },
     "b9f30b832a74415c8e6ad489e588d8e5": {
      "model_module": "@jupyter-widgets/base",
      "model_module_version": "1.2.0",
      "model_name": "LayoutModel",
      "state": {}
     },
     "b9f378c6422f4730b928cabb00cdce43": {
      "model_module": "@jupyter-widgets/base",
      "model_module_version": "1.2.0",
      "model_name": "LayoutModel",
      "state": {}
     },
     "bab38efa6f524319a95208e9e3477d64": {
      "model_module": "@jupyter-widgets/base",
      "model_module_version": "1.2.0",
      "model_name": "LayoutModel",
      "state": {}
     },
     "bac90ac84f394958885f773ab7700cbf": {
      "model_module": "@jupyter-widgets/base",
      "model_module_version": "1.2.0",
      "model_name": "LayoutModel",
      "state": {}
     },
     "bb8d51bf4c7c4e8584dc2e2a4cadd728": {
      "model_module": "@jupyter-widgets/controls",
      "model_module_version": "1.5.0",
      "model_name": "SliderStyleModel",
      "state": {
       "description_width": ""
      }
     },
     "bd9b888286c94aafb314393e93670707": {
      "model_module": "@jupyter-widgets/controls",
      "model_module_version": "1.5.0",
      "model_name": "FloatSliderModel",
      "state": {
       "description": "Frequency",
       "layout": "IPY_MODEL_d4092dde1612466eabb33470dfae3b5f",
       "max": 1000,
       "min": 200,
       "step": 0.1,
       "style": "IPY_MODEL_a13accb5b2384ea499b62e0b843000da",
       "value": 297.1
      }
     },
     "bde00791c03149829650efc1854f0634": {
      "model_module": "@jupyter-widgets/controls",
      "model_module_version": "1.5.0",
      "model_name": "SliderStyleModel",
      "state": {
       "description_width": ""
      }
     },
     "be22cdf0f537473bb5f009aadd6b7d6f": {
      "model_module": "@jupyter-widgets/base",
      "model_module_version": "1.2.0",
      "model_name": "LayoutModel",
      "state": {}
     },
     "be7709f23e554028bc2fdfc7a159dbfe": {
      "model_module": "@jupyter-widgets/base",
      "model_module_version": "1.2.0",
      "model_name": "LayoutModel",
      "state": {}
     },
     "bf1fa48e7f9e42e78a2b3be23f0b07a3": {
      "model_module": "@jupyter-widgets/controls",
      "model_module_version": "1.5.0",
      "model_name": "FloatSliderModel",
      "state": {
       "description": "Amplitude",
       "layout": "IPY_MODEL_f9edbeb4866444baa3b2f365e78ee69d",
       "max": 1,
       "step": 0.05,
       "style": "IPY_MODEL_c83d445d3c6f46faae52ad49fa8eeb5d",
       "value": 0.5
      }
     },
     "bf3e297bced946c8b7dff770c0b0aa8e": {
      "model_module": "@jupyter-widgets/base",
      "model_module_version": "1.2.0",
      "model_name": "LayoutModel",
      "state": {}
     },
     "bf615cc85e844daab9be448a20607fb3": {
      "model_module": "@jupyter-widgets/controls",
      "model_module_version": "1.5.0",
      "model_name": "FloatSliderModel",
      "state": {
       "description": "phi",
       "layout": "IPY_MODEL_3b2635b5d73241cb967e1f5692cdb9a0",
       "max": 6.283185307179586,
       "step": 0.01,
       "style": "IPY_MODEL_05b949625a3c45068a8150ab751a29c6"
      }
     },
     "bfa007acc57c4e54a8b79e858c01066d": {
      "model_module": "@jupyter-widgets/base",
      "model_module_version": "1.2.0",
      "model_name": "LayoutModel",
      "state": {}
     },
     "c022ede6213e4d738a43898d157571b5": {
      "model_module": "@jupyter-widgets/controls",
      "model_module_version": "1.5.0",
      "model_name": "SliderStyleModel",
      "state": {
       "description_width": ""
      }
     },
     "c035b95917634cdbb5cc7da51522c64b": {
      "model_module": "@jupyter-widgets/controls",
      "model_module_version": "1.5.0",
      "model_name": "SliderStyleModel",
      "state": {
       "description_width": ""
      }
     },
     "c1360444abad428fa15175ceaac322be": {
      "model_module": "@jupyter-widgets/controls",
      "model_module_version": "1.5.0",
      "model_name": "FloatSliderModel",
      "state": {
       "description": "Amplitude",
       "layout": "IPY_MODEL_2cf8b1fbe17a4478b03a19ee5438488e",
       "max": 1,
       "step": 0.05,
       "style": "IPY_MODEL_e0f5270e1dee4ae389e0b50d701fb857",
       "value": 0.5
      }
     },
     "c1646d14959f4f62b3866d6f0b04cbc5": {
      "model_module": "@jupyter-widgets/base",
      "model_module_version": "1.2.0",
      "model_name": "LayoutModel",
      "state": {}
     },
     "c3645410b6f445a584a95285b2d82057": {
      "model_module": "@jupyter-widgets/base",
      "model_module_version": "1.2.0",
      "model_name": "LayoutModel",
      "state": {}
     },
     "c376bfa4244644e097ba90cf1673b16d": {
      "model_module": "@jupyter-widgets/controls",
      "model_module_version": "1.5.0",
      "model_name": "FloatSliderModel",
      "state": {
       "description": "amp",
       "layout": "IPY_MODEL_48de33c20ca943aeabcf9317b7396768",
       "max": 4,
       "step": 0.1,
       "style": "IPY_MODEL_96524e54d9a44d85bec5cc7b82076ae9",
       "value": 1
      }
     },
     "c3b54c8f53134e35b06067ee81d6c72d": {
      "model_module": "@jupyter-widgets/controls",
      "model_module_version": "1.5.0",
      "model_name": "FloatSliderModel",
      "state": {
       "description": "phi",
       "layout": "IPY_MODEL_b3b57bc9fcfc44bcbe2ac1458dc71f4a",
       "max": 6.293185307179586,
       "step": 0.01,
       "style": "IPY_MODEL_7c2f70503afe453ea2290491f48d3469"
      }
     },
     "c3ec8d4e19804c77b58bfa0f4dd1abe3": {
      "model_module": "@jupyter-widgets/base",
      "model_module_version": "1.2.0",
      "model_name": "LayoutModel",
      "state": {}
     },
     "c51f86b9127f4a07991d927cccc171e4": {
      "model_module": "@jupyter-widgets/base",
      "model_module_version": "1.2.0",
      "model_name": "LayoutModel",
      "state": {}
     },
     "c532b69059a9435db8b2e20a12501421": {
      "model_module": "@jupyter-widgets/controls",
      "model_module_version": "1.5.0",
      "model_name": "FloatSliderModel",
      "state": {
       "continuous_update": false,
       "description": "Phase",
       "layout": "IPY_MODEL_033a223a3d384478ad1ce22773922161",
       "max": 2,
       "min": 0.1,
       "step": 0.1,
       "style": "IPY_MODEL_38c0a8a22c6c482085e44b2dea6e6f4a",
       "value": 1.3
      }
     },
     "c54a8d20b2c143698a440af98d168e88": {
      "model_module": "@jupyter-widgets/controls",
      "model_module_version": "1.5.0",
      "model_name": "SliderStyleModel",
      "state": {
       "description_width": ""
      }
     },
     "c6a482d75b0e4dc582338cc74690c781": {
      "model_module": "@jupyter-widgets/output",
      "model_module_version": "1.0.0",
      "model_name": "OutputModel",
      "state": {
       "layout": "IPY_MODEL_aca067fcbb944c948ddf1ed09094ce68"
      }
     },
     "c6b9a64f089f414a872724bdfe83ffec": {
      "model_module": "@jupyter-widgets/controls",
      "model_module_version": "1.5.0",
      "model_name": "FloatSliderModel",
      "state": {
       "description": "Frequency",
       "layout": "IPY_MODEL_4328d0d4dfd64c4892f20e2329b7e8e1",
       "max": 1000,
       "min": 200,
       "step": 0.1,
       "style": "IPY_MODEL_a69d4c64f2a4499289a09ea9267424e3",
       "value": 652
      }
     },
     "c79d1be2a0584536b9291b91f2b694cb": {
      "model_module": "@jupyter-widgets/output",
      "model_module_version": "1.0.0",
      "model_name": "OutputModel",
      "state": {
       "layout": "IPY_MODEL_36fb887105cb4391a251d4e89d0c5a96",
       "outputs": [
        {
         "data": {
          "image/png": "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\n",
          "text/plain": "<Figure size 432x288 with 1 Axes>"
         },
         "metadata": {
          "needs_background": "light"
         },
         "output_type": "display_data"
        }
       ]
      }
     },
     "c7bb081bc1e74eb0adab0bc8ec178c47": {
      "model_module": "@jupyter-widgets/controls",
      "model_module_version": "1.5.0",
      "model_name": "FloatSliderModel",
      "state": {
       "continuous_update": false,
       "description": "Duration",
       "layout": "IPY_MODEL_701866f4a98e4cd39221661bca460ea4",
       "max": 2,
       "min": 0.1,
       "step": 0.1,
       "style": "IPY_MODEL_28beb0a940b24546baeb383dc2d48191",
       "value": 1.4
      }
     },
     "c7beff327bfd4491bfe51dc90d85dea7": {
      "model_module": "@jupyter-widgets/controls",
      "model_module_version": "1.5.0",
      "model_name": "FloatSliderModel",
      "state": {
       "continuous_update": false,
       "description": "Phase",
       "layout": "IPY_MODEL_96ac6d455c4d47a0b3d3d2f724e6fa88",
       "max": 2,
       "min": 0.1,
       "step": 0.1,
       "style": "IPY_MODEL_5a0916aa396b4d5ea3c6460ec7e762f5",
       "value": 0.4
      }
     },
     "c838f1c2a783488a973f091549a2bf2e": {
      "model_module": "@jupyter-widgets/controls",
      "model_module_version": "1.5.0",
      "model_name": "ColorPickerModel",
      "state": {
       "description": "pick a color",
       "disabled": false,
       "layout": "IPY_MODEL_8b97573147d54dca846d94947a057ca4",
       "style": "IPY_MODEL_6a11712c033f4615b4939d66de6e980f",
       "value": "#FF00DD"
      }
     },
     "c83d445d3c6f46faae52ad49fa8eeb5d": {
      "model_module": "@jupyter-widgets/controls",
      "model_module_version": "1.5.0",
      "model_name": "SliderStyleModel",
      "state": {
       "description_width": ""
      }
     },
     "c89f9325cf724dd399f0fc74af8c43f0": {
      "model_module": "@jupyter-widgets/base",
      "model_module_version": "1.2.0",
      "model_name": "LayoutModel",
      "state": {}
     },
     "c8c6d37165134e2e99f4b94be2c016de": {
      "model_module": "@jupyter-widgets/base",
      "model_module_version": "1.2.0",
      "model_name": "LayoutModel",
      "state": {}
     },
     "c936c1a40beb48e28aa2d3ff77fcce41": {
      "model_module": "@jupyter-widgets/base",
      "model_module_version": "1.2.0",
      "model_name": "LayoutModel",
      "state": {}
     },
     "c96bb68007434e62ae3daff6a44f820d": {
      "model_module": "@jupyter-widgets/base",
      "model_module_version": "1.2.0",
      "model_name": "LayoutModel",
      "state": {}
     },
     "ca60c10466f1476bb1622b28797464ff": {
      "model_module": "@jupyter-widgets/controls",
      "model_module_version": "1.5.0",
      "model_name": "VBoxModel",
      "state": {
       "_dom_classes": [
        "widget-interact"
       ],
       "children": [
        "IPY_MODEL_cc697db628a04fd08dc47835fd601af8",
        "IPY_MODEL_1c57433c75f7454b9307d005bfd85c80",
        "IPY_MODEL_ff287447d92240ddb9ec331f0f31ceae",
        "IPY_MODEL_33ee0d7ec3574a24a2d06055219c5d9b"
       ],
       "layout": "IPY_MODEL_347ca119a8fc4040bca3a05a65f8f0b9"
      }
     },
     "cbbb59c8ccb04340bd3533571d9dc49a": {
      "model_module": "@jupyter-widgets/base",
      "model_module_version": "1.2.0",
      "model_name": "LayoutModel",
      "state": {}
     },
     "cc632d80848f470898fa4f57daaea0ab": {
      "model_module": "@jupyter-widgets/base",
      "model_module_version": "1.2.0",
      "model_name": "LayoutModel",
      "state": {}
     },
     "cc697db628a04fd08dc47835fd601af8": {
      "model_module": "@jupyter-widgets/controls",
      "model_module_version": "1.5.0",
      "model_name": "IntSliderModel",
      "state": {
       "description": "w",
       "layout": "IPY_MODEL_f7de2901c1894553aca32598e4d662ff",
       "max": 10,
       "style": "IPY_MODEL_5cb6ff531b2c478a99a6a54350fbf601",
       "value": 5
      }
     },
     "cd2fed00981443b997be63057e1e7add": {
      "model_module": "@jupyter-widgets/controls",
      "model_module_version": "1.5.0",
      "model_name": "TextModel",
      "state": {
       "continuous_update": false,
       "description": "xlabel",
       "layout": "IPY_MODEL_d8174621eac44da7a5c07b1c1f3861f3",
       "style": "IPY_MODEL_d4feb2280de246e5bb4b4911a2ff5944",
       "value": "x"
      }
     },
     "cde139898e644fa0999d36fadabc9ad4": {
      "model_module": "@jupyter-widgets/base",
      "model_module_version": "1.2.0",
      "model_name": "LayoutModel",
      "state": {}
     },
     "cefa528fe20c4a9d9764f997ed4478d6": {
      "model_module": "@jupyter-widgets/controls",
      "model_module_version": "1.5.0",
      "model_name": "VBoxModel",
      "state": {
       "children": [
        "IPY_MODEL_bf1fa48e7f9e42e78a2b3be23f0b07a3",
        "IPY_MODEL_d7d5f02c97b649408facbfa6080498e6",
        "IPY_MODEL_b28b92bbae5548b9aab776eb472760b9"
       ],
       "layout": "IPY_MODEL_19bdcabeeba84544838a882f7af0976e"
      }
     },
     "d0f0d9cfacad4ddf94565b1c562580bc": {
      "model_module": "@jupyter-widgets/output",
      "model_module_version": "1.0.0",
      "model_name": "OutputModel",
      "state": {
       "layout": "IPY_MODEL_9be7bec48ab84a8f93b4a2a6586e09cd",
       "outputs": [
        {
         "data": {
          "text/html": "\n                <audio  controls=\"controls\" autoplay=\"autoplay\">\n                    <source src=\"data:audio/wav;base64,UklGRmQfAABXQVZFZm10IBAAAAABAAEAQB8AAIA+AAACABAAZGF0YUAfAAAAAEMrblEEbqd9f350cCxV3S/sBGjZbrKVlGGD2YBIjTinm8sp9t8hmUmpaGh7n3/SdERc2Ti+DujifbpBmv6FGYBBiWSgyMJg7EcYVEGvYm14/n9/eNBigEF6GJPs9cKGoFWJG4DvhSGaUrq14osOqzggXL10m391e8dow0kQIlz2ystdp1+N34BWg3mURbI32bkErS8FVVtwd36wfR5ullFzKzMA7tS5rhaSY4J5gXSPrqrzz+D6ZyZpTU9rk3wtf89y7ViUNAoKU96RtnWXpoRdgBmLmaP4xg/x5hxYRaBl8nnpf9J2vl9lPdMT6+fZvnKdpIcCgHCHD51UvlTnOhPePFdfmHbjfyF6/mXaRX0dqPGDxwSkWYtpgH2EHJcTtr7dcAkHNH5Yi3Ibf7Z8o2vkTfome/uD0CGrvo+RgUaCx5FCrlzUmv/iKh9Rz22TfY9+pXB4VTwwUwXK2cCyzZR5g82AGo3upj3LwvV7IURJbmhMe6d//HSLXDY5JA9M49O6f5oehhWAG4kgoG3C++viF/tAbmJKeP5/oXgRY9hB3xj57FDDy6B7iR+A0IXjmfu5UeIlDk842FuSdJN/kHsCaRdKcyLD9ijMp6eMjeuAPoNBlPOx1dhSBE4vuFQpcGd+xH1TbuVR1CuaAE/VCa9LkneCaoFDj2GqlM96+gUmF00Xa3t8OX/8cjdZ8jRxCrbe5rawl8KEVYDwilKjnMao8IIcAUVhZdN57X/4dgJgwD04FFDoMb+znceHAoBOh86c/L3v5tQSgzwTX3F2338/ejxmMEbhHQ7y38dLpIOLcYBihOGWv7Vb3QoJqTM0WFxyD3/NfNprNk5cJ+L74tBvq++PoYEzgpOR86380zP/gSrPUJptf32eftVwxVWcMLoFLNoSswaVkYPCgO2MpKbfylz1GCHwSDJoMHuufyV10lySOYsPsOMqu76aPYYSgPWI3J8TwpXrfReiQCxiJ3j+f8R4UmMwQkQZX+2qwxChookjgLKFpZmlue3hvg3yN5FbaHSLf6t7PGlrStciKveGzPKnu433gCiDCpSisXPY6wPuLmtU+G9Xftd9h240UjUsAQGw1VmvgJKLgluBEo8VqjXPE/qiJcVM3mpjfER/KnOBWVA12Aoa3zq37JfehE6AxooLo0DGQvAeHKtEI2WzefB/HndGYBo+nhS26Iq/9Z3rhwOAK4eNnKS9iuZuEig8zl5Kdtp/Xnp6ZoZGRR518jzIk6Sui3mASISmlmu1+NyjCEsz6VcucgN/5HwSbIdOvidI/ELRvKshkLKBIIJfkaStm9PM/iAqf1BlbWp9rX4GcRFW+zAhBo/aZLM+lamDt4DAjFqmgsr19LQgm0j2ZxR7tn9PdRld7jnxDxXkgbv9ml2GD4DPiJifucEv6xgXSUDqYQN4/X/meJNjiEKpGcXtBcRVocqJKICThWiZT7mJ4VgNljdJWz10gn/Fe3dpvko6I5D35Mw8qOmNBIERg9OTULER2IQDji4dVMZvRn7pfbpug1KVLGgBEdapr7aSoIJMgeKOyanWzqz5QCVyTKVqS3xPf1Zzy1mtNT4Lfd+PtyiY+oRHgJ2KxKLlxdzvuRtURONkk3nzf0N3imB0PgMVG+njvzieD4gEgAqHTJxMvSXmCBLNO4heI3bVf3x6t2bcRqke2/KZyNyk2YuCgC6EbJYYtZXcPAjsMp5X/3H2fvp8SWzYTiAor/yi0QqsU5DCgQ2CLJFWrTvTZf6+KS9QL21Wfbt+NnFdVloxiAbx2rezd5XCg6yAk4wRpiTKj/RRIEZIumf4erx/eHVfXUk6VxB55Ni7PJt9hgyAqohUn1/ByuqyFvA/p2Hfd/x/B3nUY+BCDRor7mDEmqHxiS6AdoUqmfq4JeHyDDk3AFsRdHl/33uxaRJLnCP390PNh6gYjhGB+4Kck/+wr9cdAy4u0FOTbzV+/H3ubtJS9izPAXLW+a/rkrWCPoGyjn2pd85F+d0kIExsajJ8WX+DcxRaCjalC+Hf5LdkmBeFQYB0in6iicV271Ub/UOkZHJ59X9pd85gzT5pFYDpPMB6njOIBYDohgyc9LzA5aIRcjtDXvt10H+ZevRmMUcNH0Lz9cgkpQSMjIAUhDKWxbQy3NYHjjJTV9Bx6H4QfX9sKU+CKBb9AtJXrIaQ1IH7gfiQB63a0v79XSnfT/psQX3JfmZxqVa5Me4GVNsKtLCV24OigGeMyKXHySj07R/xR31n23rDf6B1pl2lOr0Q3uQvvHybnoYJgIWIEZ8GwWTqTRaXP2Rhu3f6fyl5FGQ4Q3Iake67xOChGYozgFiF7ZikuMHgiwzcNrha5nNvf/l762llS/8jXvihzdOoR44egeWCZZOusE7XtgLOLYJTYW8kfg5+IW8gU1YtNgLU1kqwIZPKgjCBgo4xqRjO3vh7JM1LM2oZfGN/r3NdWmg2CwxF4Dm4oZgzhTqAS4o3oi3FEO/wGqVDZGRSefh/jXcRYSc/zhXm6ZbAvZ5XiAeAx4bMm5y8W+U8ERc7/V3Tdcp/t3oyZ4dHcR+o81LJbaUwjJWA+oP4lXG0z9tvBy8yCFehcdt+Jn22bHpP4yh9/WLSpay5kOWB6YHFkLmsetKX/fsojk/DbCt9136VcfVWGDJVB7fbXbTqlfSDmIA7jH+lasnC84ofnEdBZ756yX/JdexdADsjEULlhry8m7+GB4BgiM6erMD/6egVPT8iYZd3+H9KeVRkj0PXGvfuF8UmokGKOYA7hbCYT7he4CUMfzZvWrpzZn8TfCVquEtiJMX4AM4eqXaOLIHPgi+TXrDs1k8Cbi00Uy5vEn4fflRvblO2LZ0CNdeasFiT34IigVOO5qi5zXf4GCR6S/lp/3ttf9tzplrFNnIMqOCPuN6YUYU0gCOK8aHSxKruixpOQyRkMXn6f7J3VGGBPzQWS+rvwACffIgJgKaGjJtFvPfk1hC8OrddqnXEf9R6bmfcR9QfDvSwybWlXIyfgOGDv5UetG3bCAfRMbxWcnHNfjt97GzLT0Up5P3C0vSs7JD3gdiBk5BrrBrSMP2aKD1PjWwWfeV+xXFAV3YyvAcZ3LC0JJYNhI6AD4w2pQ3JW/MmH0dHBGehes5/8XUxXlw7iRGn5d68/JvghgaAPIiLnlPAmumCFeQ+3mByd/Z/anmUZOdDOxtd73LFbKJqij+AHoVzmPm3+t++CyI2JlqOc1x/LHxeagtMxSQr+V/OaqmmjjqBuoL5kg2wi9boAQ4t5VL7bgB+MX6Hb7xTFi4DA5fX67COk/WCFIEkjpqoWs0R+LUjJ0u/aeZ7d38HdO5aIjfYDAzh5LgbmW6FL4D7iayhd8RE7ica9kLkYxB5+3/Wd5Zh2j+ZFrDqScFDn6GIC4CFhkyb7ruS5HAQYDpxXYJ1vn/xeqtnMUg4IHX0Dcr+pYiMqoDIg4WVzLMK26EGcjFwVkJxv35QfSJtG1CmKUv+I9NCrR+RCYLHgWCQHay60cn8OCjsTlZsAH3yfvRxi1fVMiMIfNwDtV6WJ4SFgOSL7qSwyPXywh7xRsdmg3rUfxl2d163O+8RDOY2vTycAYcEgBiISJ76vzTpHRWKPptgTXfzf4t502Q+RKAbw+/OxbKik4pFgAGFN5ikt5bfWAvENd1ZYXNRf0R8l2peTCclkvm+zrap1o5IgaWCw5K9rynWggGtLJdSx27ufUJ+uW8KVHYuagP51zyxxZMLgweB9Y1PqPzMqvdSI9NKhWnMe4B/MnQ3W383Pg1w4Tq5WJmMhSqA04lmoRzE3u3CGZ5Co2PueP1/+nfZYTNA/hYW66PBh5/GiA6AZYYNm5e7LuQKEAQ6Kl1Zdbd/DXvnZ4ZInCDc9GrKSKa1jLSAr4NMlXmzp9o6BhMxJFYScbB+ZX1YbWtQByqy/oPTka1SkRuCtoEukM+rWtFi/NYnm04fbOl8/34ictZXMzOJCN/cV7WYlkGEfIC5i6WkU8iO8l4em0aJZmV62X9AdrxeEjxVEnHmjr19nCOHA4D0hwaeob/P6LcUMD5XYCd38X+reRNllUQFHCnwKcb5oryKTIDlhPuXULcz3/EKZzWTWTVzRn9dfNBqsEyKJfn5Hc8CqgaPV4GQgo6Sba/I1RsBTSxIUpRu231TfutvV1TWLtEDWtiNsfyTIoP6gMaNBKiezEP37yKASktpsXuJf110f1vbN6UN1OGQuZaZqoUlgKyJIaHBw3jtXRlGQmNjzHj9fx54G2KMQGQXfOv9wcuf7IgRgEWGzppAu8njpA+pOeRcMHWwfyl7I2jbSP8gQvXIypGm4oy/gJeDFJUns0Xa1AW0MNhV4XChfnp9jW27UGgqGf/k0+CthpEugqWB/I+Cq/rQ+/t1J0pO6GvTfAx/UXIhWJIz8AhC3aq10pZchHOAjotdpPbHKPL6HUVGS2ZHet5/aHYBX2w8uxLW5ua9vpxFhwKA0IfEnUi/auhSFNY9E2ABd+5/y3lSZexEaRyP8IXGQKPlilOAyYS/l/u2z96LCgk1SlkIczt/dXwJawNN7CVg+nzPTqo3j2aBfIJYkh2vZ9W0AOwr+VFgbsh9Y34dcKVUNi84BLzY37E0lDmD7oCYjbqnP8zd9owiLEoQaZd7kX+IdMZbODgLDjji5rnUmciFIICFidygZsMS7fgY7kEiY6p4/n9CeF1i5UDJF+HrV8IPoBGJFIAmho+a6bpl4z4PTTmdXAZ1qX9Fe19oL0liIan1Jsvbpg+NyoB/g9uU1LLj2W0FVDCLVbFwkn6OfcJtC1HKKoD/RNQvrrqRQYKVgcqPNaua0JT7Eyf4TbFrvHwYf39ybFjwM1cJpd3+tQ2Xd4RrgGOLFqSax8Lxlh3vRQ1mKHrif452Rl/HPCATOuc+vv+cZ4cCgK2Hgp3vvgXo7BN8Pc9f23bqf+p5kWVCRc0c9fDhxoejD4tbgK2EhJentmzeJAqsNABZ2nIwf418QWtVTU4mx/rbz5uqaI91gWiCI5LNrgbVTQCLK6pRK261fXN+T3DyVJUvnwQe2TCya5RQg+KAao1vp+HLdvYpIthJ1Wh8e5l/snQOXJQ4cQ6c4jy6EprnhRyAXomXoAzDreyTGJZB4GKHeP5/ZXifYj1BLhhH7LHCU6A4iRiABoZQmpK6AePYDvE4VlzcdKF/YXuaaIRJxiEP9oPLJac8jdaAZ4OjlIKygdkGBfUvP1WAcIN+on33bVpRKivn/6XUfq7vkVSChYGZj+iqO9Au+7Emp015a6V8JH+tcrZYTjS9CQneUrZIl5KEY4A5i86jPsdb8TIdmUXPZQl65n+1dotfIj2GE5/nlr5AnYqHAYCKh0Cdlr6f54YTIj2LX7V25n8Jes9lmUUyHVvxPsfOozmLY4CShEiXUrYJ3r0JTjS2WK1yJH+lfHlrp02xJi77O9DoqpmPhYFUgu+Rfq6l1Of/KitaUfdton2DfoBwP1X1LwYFgdmCsqOUZ4PWgDyNJaeDyw/2xiGESZpoYXuhf9x0VlzxONgOAeOSulCaBoYYgDiJU6CxwkfsLhg9QZ9iZXj+f4d44GKWQZMYrewMw5egXokcgOeFEpo8upzicQ6UOA5csnSZf3x71WjYSSkidvbhy2+nao3igFCDa5Qwsh7ZnwSVL/JUT3BzfrV9K26qUYsrTQAG1c2uI5JognWBaI+bqtvPx/pOJlVNQWuNfDB/2nIAWaw0JAps3qe2hJethFuAD4uHo+HG9fDNHEJFkWXqeep/23bPX3w97BMF6O++gp2thwKAZ4f/nD6+OucgE8c8Rl+OduJ/KHoNZu9Flh3C8ZrHFqRji2uAd4QNl/61pd1XCfAzbFh/chh/vHyxa/hNEyeU+5rQNavKj5WBQYK6kS+uRNSA/8oqC1HCbY59kn6xcItVVDBtBePZ1LLblH+DyoAPjdumJsup9WIhL0lfaEV7qX8GdZ1cTTk+D2Xj6bqPmiaGFIARiQ+gV8Lh68kX5UBdYkJ4/n+qeCJj7kH4GBLtZsPcoIWJIIDIhdSZ5rk44gsOODjGW4h0kX+XexBpLEqMIt32P8y6p5iN7oA5gzSU37G82DgENi+lVB1wY37IfWBu+VHsK7QAZ9Udr1iSfIJmgTePTqp8z2D67CUDTQlrdXw7fwhzSlkJNYsKz977tr+XyYRTgOWKQKOFxo/waRzsRFJly3nufwF3E2DWPVIUauhIv8Sd0IcCgEWHvpzmvdbmuxJsPAFfaHbef0d6S2ZFRvodKPL2x12kjotzgFyE0paqtULd8AiSMyFYUXIMf9N86GtKTnUn+/v60IKr/I+lgS6ChpHgreTTGf9oKrtQjW16faF+4XDYVbQw1AVF2iezFJWXg7+A4oyRpsjKQvX/INtII2gpe7B/MHXkXKk5pA/J40C7zppFhhGA7IjLn/3BfOtkF4xAG2IeeP1/zHhjY0ZCXRl47cHDIaGsiSWAqoWWmZC51OGlDds3f1tddIl/sXtLaYBK7yJD957MBKjGjfqAIoP8k42xWtjRA9YuV1Trb1N+232UbkhSTSwbAcjVba+OkpCCV4EGjwKqHc/5+YolsEzQal18Rn81c5NZZzXxCjPfULf7l+WETIC8ivmiKcYp8AUclUQTZat58X8nd1dgMD63FM/oob8GnvSHA4Ajh32cjr1x5lUSEjy8XkB22X9leolmm0ZeHo7yU8ilpLmLfIBBhJiWV7Xf3IkIMzPWVyJy/37pfB9sm07WJ2L8WtHPqy6QtoEbglKRka2D07L+ByprUFhtZX2wfhJxJFYTMToGp9p5s0yVr4O0gLWMSKZqytz0nCCGSOdnDXu3f1l1Kl0EOgoQLuSXuw2bZYYOgMaIh5+jwRbr/hYzQNlh+nf9f+54o2OeQsIZ3u0cxGah04kqgIyFWJk6uXDhPg1/NzdbMnSAf8x7hWnTSlIjqvf8zE+o9Y0HgQuDxZM8sfnXagN2LgpUuW9Cfu59x26XUq0sggEp1r2vw5KlgkiB1o62qb7OkvknJV5Ml2pEfFF/YXPdWcQ1WAuW36S3N5gBhUWAk4qyos7Fw++gGz5E02SLefN/TXebYIo+HRU06fq/SJ4YiASAAYc8nDa9DObvEbc7d14ZdtR/g3rHZvFGwh718rDI7qTki4WAJ4RelgO1fNwjCNUyi1f0cfJ+AH1WbOxOOCjJ/LrRHaxgkMeBCYIfkUKtI9NL/qYpG1AibVB9v35CcXBWcjGhBgrbzLOFlciDqoCIjP6lDcp19DggMUirZ/F6vn+CdXFdYDpwEJLk7rtMm4WGC4ChiEOfScGw6pkW2j+WYdZ3+38QeeRj9kInGkTud8SsofuJL4BuhRuZ5LgM4dgMIjfuWgd0d3/me79pJ0u1IxH4Ws2aqCSOFIH1go6T67CX1wMDFi68U4dvMX4Afvtu5VIOLegBi9YNsPmSuoI6gaaOaqlfziv5xSQLTF5qLHxcf45zJloiNr4L+t/5t3OYHoU/gGqKbKJyxV3vOxvnQ5Rkann2f3J33mDkPoIVmulTwIuePIgGgOCG/JvevKfliRFcOzFe8XXOf6F6BGdHRyYfW/MNyTalD4yOgA2EJJawtBncvAd2MkBXxXHlfhZ9jWw9T5ooMP0a0musk5DYgfeB7JD0rMLS5P1FKctP7Gw7fc1+cnG8VtExCAdt2x60v5Xhg5+AXIy1pbDJDvTUH9xHbmfUesR/qnW3Xbw61hD35EW8jJumhgmAfIgAn+/AS+o0FoE/VGGyd/p/MXkkZE5Dixqq7tLE8aEjijSAUYXemI+4qOByDMU2plrbc21//3v5aXpLGCR3+LnN5qhTjiKB34JYk5qwNdedArYtblNUbx9+En4ubzRTbi1PAuzWXrAvk8+CLIF2jh6pAM7F+GIkuEslahN8Zn+6c29afzYlDF7gT7iwmDuFOYBBiiaiF8X37tcaj0NUZEp5+H+XdyJhPT/oFf/prMDOnmCIB4C/hrybhrxC5SMRADvsXcl1yX++ekFnnEeKH8Lzasl/pTuMmID0g+qVXbS321UHGDL1VpVx134rfcNsjk/7KJf9etK5rMWQ6YHlgbmQpaxi0n394yh6T7ZsJn3bfqFxCFcvMm8Hz9txtPiV+oOVgDCMbaVSyajzcR+HRzJnt3rKf9N1/V0XOzwRW+WcvMybx4YHgFeIvZ6WwObpzhUnPxFhjXf4f1J5ZGSlQ/AaEO8txTeiS4o6gDOFoZg5uEXgCwxoNl1ar3Njfxl8M2rNS3sk3vgYzjGpgo4wgcqCIZNKsNTWNgJWLSBTIW8OfiR+YW+CU84ttgJO166wZZPlgh6BR47TqKHNXvj/I2VL62n5e29/5nO4Wtw2iwzB4KS47ZhYhTOAGYrgobvEke5yGjhDFGQpefp/u3dkYZc/TRZk6gbBEZ+FiAmAnoZ8my+83uS9EKU6pl2gdcN/23p9Z/FH7R8o9MfJyKVnjKKA24OwlQq0VNvuBrkxqVZmccl+QX36bN9PXSn+/drSB634kPuB1IGGkFesAtIW/YIoKU9/bBB96H7QcVNXjjLWBzLcxbQylhSEjIAEjCSl9chC8w0fMUf0Zpl60H/7dUNecjuiEcDl9LwMnOiGBYAziHqePMCA6WkVzT7OYGl39X9yeaRk/UNVG3bvicV+onSKQYAXhWSY5Lfh36ULCjYUWoNzWX8yfGxqIEzdJEX5d859qbKOPoG1guuS+a9y1s8B9izSUu5u/H01fpNv0FMuLh0Dr9f/sJyT+4IRgRiOh6hDzff3nCMSS7Fp33t5fxF0AFs5N/IMJeH6uCqZdoUugPGJmqFgxCvuDRrgQtRjB3n8f993p2HwP7IWyupfwVSfqogMgH2GPJvYu3nkVxBJOl9deHW8f/h6umdGSFEgj/QkyhGmk4ysgMKDd5W3s/HaiAZaMV1WNnG7flZ9L20vUL4pZf4701atLJENgsKBU5AKrKLRr/wgKNhOSWz6fPZ+/3GeV+wyPAiV3Bi1bJYuhIKA2YvcpJnI2/KpHtxGt2Z8etV/I3aIXs07CBIl5ky9TJwKhwSAD4g4nuO/G+kDFXQ+imBDd/N/k3njZFREuRvc7+XFxKKdikeA+oQomI+3fd8+C601y1lWc09/S3ylanJMQCWs+dbOyanijkyBoIK2kqmvEdZoAZUsg1K6bul9Rn7Gbx1Uji6EAxHYULHTkxGDBIHpjTyo5MyQ9zojvkp3acV7gn89dElbljdYDYnhT7lomZOFKIDKiVWhBcTF7akZiEKTY+Z4/X8DeOphSUAYFy/rucGYn8+ID4Bdhv2agbsV5PEP7jkZXU91tn8Ue/Znm0i0IPX0gspapsCMt4Cpgz6VZLOP2iEG+zARVgZxrX5qfWVtf1AgKsz+m9OkrV+RIIKygSGQvKtC0Uj8vieHThJs5HwDfy5y6VdLM6MI+NxrtaaWSIR5gK6Lk6Q8yHXyRR6GRnpmXnraf0p2zl4oPG4SiuakvY2cK4cDgOuH9Z2Kv7bonhQaPkZgHnfwf7N5I2WrRB4cQvBAxgujxopOgN6E7Jc6txrf2ApQNYFZKnNEf2N83mrFTKIlE/o1zxWqEo9bgYuCgJJZr7DVAQE1LDRSh27XfVd++G9rVO4u6wNz2KKxCpQog/eAu43yp4bMKvfXImtKPGmre4t/aHSRW/I3vg3t4aW5pZmyhSOAookQoarDX+1EGTBCUmPEeP5/J3gsYqJAfReV6xPC3J/1iBKAPYa+miq7sOOLD5I50lwlda5/MHsyaPBIGCFc9d/KpKbtjMKAkYMGlRKzLNq6BZwwxVXVcJ5+f32abc9QgSoz//zT862TkTOCoYHvj2+r4tDi+1wnNk7aa818D39ccjRYqTMKCVvdv7XhlmKEcYCDi0uk38cO8uEdMEY8Zj96339xdhNfgzzUEu/m/L3OnE6HAoDHh7OdMb9Q6DgUwD0CYPh27X/TeWFlAUWCHKjwnMZSo/CKVYDChLCX5ra23nEK8jQ3WfxyOX97fBdrF00FJnr6lM9hqkOPaoF3gkuSCa9P1ZoA1CvlUVNuxH1nfilwuFROL1IE1djzsUGUPoPrgIyNp6cozMP2cyIXSgJpkHuTf5J02FtPOCUOUeL7ueOZ0IUfgHuJy6BQw/ns3xjYQRFjoXj+f0p4bmL7QOIX++ttwiCgG4kVgB6Gf5rTukzjJA82OYtc/HSnf0x7bmhESXshwvU9y+6mGo3NgHmDzZTAssrZUwU8MHhVpXCPfpN9z20fUeIqmv9c1EKux5FGgpGBvo8hq4PQe/v6JuRNo2u2fBt/i3J+WAc0cAm+3RO2HJd9hGmAWYsEpIPHqPF9HdpF/mUheuN/mHZXX948OhNU51S+D51whwKApIdyndm+6+fTE2U9vl/Sdul/8nmgZVhF5hwP8fjGmaMZi12ApoR1l5G2U94KCpQ07VjPci1/k3xPa2lNZybg+vPPrqp0j3mBY4IWkrmu7tQzAHMrllEebrB9d35bcAVVrS+5BDfZRbJ5lFaD34BfjV2nystc9hAiw0nHaHV7m3+9dCBcqziLDrXiUrohmu+FG4BViYag9cKT7HoYgEHQYn94/n9teK9iVEFHGGDsyMJkoEGJGYD+hUGafbro4r4O2ThEXNJ0n39oe6lomUnfISn2m8s4p0iN2YBhg5WUbrJo2ewE3S8sVXRwf36nfQRublFDKw==\" type=\"audio/wav\" />\n                    Your browser does not support the audio element.\n                </audio>\n              ",
          "text/plain": "<IPython.lib.display.Audio object>"
         },
         "metadata": {},
         "output_type": "display_data"
        }
       ]
      }
     },
     "d10a3b2b9b9e4a2d9e0020852645d3f8": {
      "model_module": "@jupyter-widgets/controls",
      "model_module_version": "1.5.0",
      "model_name": "FloatSliderModel",
      "state": {
       "continuous_update": false,
       "description": "Duration",
       "layout": "IPY_MODEL_ddc0185d094d476196264678fba093b7",
       "max": 1,
       "min": 0.1,
       "step": 0.1,
       "style": "IPY_MODEL_8c27d88cd2dc47af8baa861ed858ab05",
       "value": 0.3
      }
     },
     "d1d0fb4be1c8461b9bae7e2ae22e9083": {
      "model_module": "@jupyter-widgets/base",
      "model_module_version": "1.2.0",
      "model_name": "LayoutModel",
      "state": {}
     },
     "d36edbd106304ac69f34dce09c466943": {
      "model_module": "@jupyter-widgets/output",
      "model_module_version": "1.0.0",
      "model_name": "OutputModel",
      "state": {
       "layout": "IPY_MODEL_75a72f975c4c447da80af7fc7c4d61b8",
       "outputs": [
        {
         "data": {
          "image/png": "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\n",
          "text/plain": "<Figure size 432x288 with 1 Axes>"
         },
         "metadata": {
          "needs_background": "light"
         },
         "output_type": "display_data"
        }
       ]
      }
     },
     "d4092dde1612466eabb33470dfae3b5f": {
      "model_module": "@jupyter-widgets/base",
      "model_module_version": "1.2.0",
      "model_name": "LayoutModel",
      "state": {}
     },
     "d44db16e18784343ad25a86a841e4272": {
      "model_module": "@jupyter-widgets/base",
      "model_module_version": "1.2.0",
      "model_name": "LayoutModel",
      "state": {}
     },
     "d454a232692f493fae52870d0d76bd9b": {
      "model_module": "@jupyter-widgets/base",
      "model_module_version": "1.2.0",
      "model_name": "LayoutModel",
      "state": {}
     },
     "d4feb2280de246e5bb4b4911a2ff5944": {
      "model_module": "@jupyter-widgets/controls",
      "model_module_version": "1.5.0",
      "model_name": "DescriptionStyleModel",
      "state": {
       "description_width": ""
      }
     },
     "d5d3630e93d348c0b38776e4f8ef95fd": {
      "model_module": "@jupyter-widgets/output",
      "model_module_version": "1.0.0",
      "model_name": "OutputModel",
      "state": {
       "layout": "IPY_MODEL_bf3e297bced946c8b7dff770c0b0aa8e",
       "outputs": [
        {
         "data": {
          "text/plain": "<Figure size 432x288 with 0 Axes>"
         },
         "metadata": {},
         "output_type": "display_data"
        }
       ]
      }
     },
     "d6598ba183854a75b6c21539369f569d": {
      "model_module": "@jupyter-widgets/controls",
      "model_module_version": "1.5.0",
      "model_name": "SliderStyleModel",
      "state": {
       "description_width": ""
      }
     },
     "d68153361ad94800a6fbc29f7e0d69c2": {
      "model_module": "@jupyter-widgets/output",
      "model_module_version": "1.0.0",
      "model_name": "OutputModel",
      "state": {
       "layout": "IPY_MODEL_d1d0fb4be1c8461b9bae7e2ae22e9083",
       "outputs": [
        {
         "ename": "TypeError",
         "evalue": "can't multiply sequence by non-int of type 'float'",
         "output_type": "error",
         "traceback": [
          "\u001b[1;31m---------------------------------------------------------------------------\u001b[0m",
          "\u001b[1;31mTypeError\u001b[0m                                 Traceback (most recent call last)",
          "\u001b[1;32m<ipython-input-27-d9240a759e77>\u001b[0m in \u001b[0;36msin_gui1\u001b[1;34m(amp, freq, Tmax)\u001b[0m\n\u001b[0;32m     26\u001b[0m     \u001b[1;32mwith\u001b[0m \u001b[0mout_plot\u001b[0m\u001b[1;33m:\u001b[0m\u001b[1;33m\u001b[0m\u001b[1;33m\u001b[0m\u001b[0m\n\u001b[0;32m     27\u001b[0m         \u001b[0mplt\u001b[0m\u001b[1;33m.\u001b[0m\u001b[0mclf\u001b[0m\u001b[1;33m(\u001b[0m\u001b[1;33m)\u001b[0m\u001b[1;33m\u001b[0m\u001b[1;33m\u001b[0m\u001b[0m\n\u001b[1;32m---> 28\u001b[1;33m         \u001b[0my\u001b[0m\u001b[1;33m,\u001b[0m\u001b[0mx\u001b[0m \u001b[1;33m=\u001b[0m \u001b[0mamp\u001b[0m\u001b[1;33m*\u001b[0m\u001b[0msynth\u001b[0m\u001b[1;33m(\u001b[0m\u001b[1;34m'sin'\u001b[0m\u001b[1;33m,\u001b[0m\u001b[0mfreq\u001b[0m\u001b[1;33m=\u001b[0m\u001b[0mfreq\u001b[0m\u001b[1;33m,\u001b[0m\u001b[0mTmax\u001b[0m\u001b[1;33m=\u001b[0m\u001b[0mTmax\u001b[0m\u001b[1;33m)\u001b[0m\u001b[1;33m\u001b[0m\u001b[1;33m\u001b[0m\u001b[0m\n\u001b[0m\u001b[0;32m     29\u001b[0m         \u001b[0mplt\u001b[0m\u001b[1;33m.\u001b[0m\u001b[0mplot\u001b[0m\u001b[1;33m(\u001b[0m\u001b[0mx\u001b[0m\u001b[1;33m,\u001b[0m \u001b[0my\u001b[0m\u001b[1;33m,\u001b[0m \u001b[0mcolor\u001b[0m\u001b[1;33m=\u001b[0m\u001b[1;34m'C0'\u001b[0m\u001b[1;33m)\u001b[0m\u001b[1;33m\u001b[0m\u001b[1;33m\u001b[0m\u001b[0m\n\u001b[0;32m     30\u001b[0m         \u001b[0mplt\u001b[0m\u001b[1;33m.\u001b[0m\u001b[0mylim\u001b[0m\u001b[1;33m(\u001b[0m\u001b[1;33m[\u001b[0m\u001b[1;33m-\u001b[0m\u001b[1;36m3\u001b[0m\u001b[1;33m,\u001b[0m \u001b[1;36m3\u001b[0m\u001b[1;33m]\u001b[0m\u001b[1;33m)\u001b[0m\u001b[1;33m\u001b[0m\u001b[1;33m\u001b[0m\u001b[0m\n",
          "\u001b[1;31mTypeError\u001b[0m: can't multiply sequence by non-int of type 'float'"
         ]
        },
        {
         "data": {
          "text/plain": "<Figure size 432x288 with 0 Axes>"
         },
         "metadata": {},
         "output_type": "display_data"
        }
       ]
      }
     },
     "d7640a13b0c24b1a8f663a02f8dd8f85": {
      "model_module": "@jupyter-widgets/controls",
      "model_module_version": "1.5.0",
      "model_name": "FloatSliderModel",
      "state": {
       "description": "amp",
       "layout": "IPY_MODEL_835fafa7d153414e82a1a93edc92b9d9",
       "max": 4,
       "step": 0.1,
       "style": "IPY_MODEL_6d994e860fe140cc8d76ecf46d1515ca",
       "value": 1
      }
     },
     "d76819717f0d4c7d99088809f512ed4d": {
      "model_module": "@jupyter-widgets/base",
      "model_module_version": "1.2.0",
      "model_name": "LayoutModel",
      "state": {}
     },
     "d7d5f02c97b649408facbfa6080498e6": {
      "model_module": "@jupyter-widgets/controls",
      "model_module_version": "1.5.0",
      "model_name": "FloatSliderModel",
      "state": {
       "description": "Frequency",
       "layout": "IPY_MODEL_c96bb68007434e62ae3daff6a44f820d",
       "max": 6.283185307179586,
       "step": 0.1,
       "style": "IPY_MODEL_7964c669b64747e0b928de82288b78c6",
       "value": 1
      }
     },
     "d8174621eac44da7a5c07b1c1f3861f3": {
      "model_module": "@jupyter-widgets/base",
      "model_module_version": "1.2.0",
      "model_name": "LayoutModel",
      "state": {}
     },
     "d97037d1e2df40faa1f83aecc4c53f32": {
      "model_module": "@jupyter-widgets/output",
      "model_module_version": "1.0.0",
      "model_name": "OutputModel",
      "state": {
       "layout": "IPY_MODEL_3b07b8ad3cd14c9fac0de487f75177eb"
      }
     },
     "da222d7ab285400f8c8b9ec3b3d9c52a": {
      "model_module": "@jupyter-widgets/controls",
      "model_module_version": "1.5.0",
      "model_name": "SliderStyleModel",
      "state": {
       "description_width": ""
      }
     },
     "da33ed04ed994cb0a3999dc6cf7d7e7a": {
      "model_module": "@jupyter-widgets/base",
      "model_module_version": "1.2.0",
      "model_name": "LayoutModel",
      "state": {}
     },
     "da9573c65184486aa5741092a190cf4f": {
      "model_module": "@jupyter-widgets/controls",
      "model_module_version": "1.5.0",
      "model_name": "SliderStyleModel",
      "state": {
       "description_width": ""
      }
     },
     "dae5baac51db44a7829e6ab31bf8556a": {
      "model_module": "@jupyter-widgets/controls",
      "model_module_version": "1.5.0",
      "model_name": "SliderStyleModel",
      "state": {
       "description_width": ""
      }
     },
     "db04a3278ef44259bb8a6e3df389f36f": {
      "model_module": "@jupyter-widgets/controls",
      "model_module_version": "1.5.0",
      "model_name": "VBoxModel",
      "state": {
       "children": [
        "IPY_MODEL_e0ae24783fe548678c891f6a0a734044",
        "IPY_MODEL_d68153361ad94800a6fbc29f7e0d69c2"
       ],
       "layout": "IPY_MODEL_347333b03ee54201a5ab2201b934b6de"
      }
     },
     "db40f64197744a2ea710ff87137b0e82": {
      "model_module": "@jupyter-widgets/controls",
      "model_module_version": "1.5.0",
      "model_name": "VBoxModel",
      "state": {
       "children": [
        "IPY_MODEL_4d4a769db1e84fc7923ad8ab2e698a53",
        "IPY_MODEL_2c6f6c27e39c41b1a77b8c768c010a9b"
       ],
       "layout": "IPY_MODEL_02b0575a42ce4f4daba5e02b97990503"
      }
     },
     "db4a914ef0724236af8be6234479e32d": {
      "model_module": "@jupyter-widgets/base",
      "model_module_version": "1.2.0",
      "model_name": "LayoutModel",
      "state": {}
     },
     "db73a9850fcd41d9a236484b60200326": {
      "model_module": "@jupyter-widgets/output",
      "model_module_version": "1.0.0",
      "model_name": "OutputModel",
      "state": {
       "layout": "IPY_MODEL_528869b77a904f4eb40a6e2e27f453e2",
       "outputs": [
        {
         "data": {
          "text/html": "\n                <audio  controls=\"controls\" autoplay=\"autoplay\">\n                    <source src=\"data:audio/wav;base64,UklGRmQfAABXQVZFZm10IBAAAAABAAEAQB8AAIA+AAACABAAZGF0YUAfAAAAAAUUjScbOjtLgVqNZwtyu3lrfv9/a367eQtyjWeBWjtLGzqNJwUUAAD763PY5cXFtH+lc5j1jUWGlYEBgJWBRYb1jXOYf6XFtOXFc9j76wAABRSNJxs6O0uBWo1nC3K7eWt+/39rfrt5C3KNZ4FaO0sbOo0nBRQAAPvrc9jlxcW0f6VzmPWNRYaVgQGAlYFFhvWNc5h/pcW05cVz2PvrAAAFFI0nGzo7S4FajWcLcrt5a37/f2t+u3kLco1ngVo7Sxs6jScFFAAA++tz2OXFxbR/pXOY9Y1FhpWBAYCVgUWG9Y1zmH+lxbTlxXPY++sAAAUUjScbOjtLgVqNZwtyu3lrfv9/a367eQtyjWeBWjtLGzqNJwUUAAD763PY5cXFtH+lc5j1jUWGlYEBgJWBRYb1jXOYf6XFtOXFc9j76wAABRSNJxs6O0uBWo1nC3K7eWt+/39rfrt5C3KNZ4FaO0sbOo0nBRQAAPvrc9jlxcW0f6VzmPWNRYaVgQGAlYFFhvWNc5h/pcW05cVz2PvrAAAFFI0nGzo7S4FajWcLcrt5a37/f2t+u3kLco1ngVo7Sxs6jScFFAAA++tz2OXFxbR/pXOY9Y1FhpWBAYCVgUWG9Y1zmH+lxbTlxXPY++sAAAUUjScbOjtLgVqNZwtyu3lrfv9/a367eQtyjWeBWjtLGzqNJwUUAAD763PY5cXFtH+lc5j1jUWGlYEBgJWBRYb1jXOYf6XFtOXFc9j76wAABRSNJxs6O0uBWo1nC3K7eWt+/39rfrt5C3KNZ4FaO0sbOo0nBRQAAPvrc9jlxcW0f6VzmPWNRYaVgQGAlYFFhvWNc5h/pcW05cVz2PvrAAAFFI0nGzo7S4FajWcLcrt5a37/f2t+u3kLco1ngVo7Sxs6jScFFAAA++tz2OXFxbR/pXOY9Y1FhpWBAYCVgUWG9Y1zmH+lxbTlxXPY++sAAAUUjScbOjtLgVqNZwtyu3lrfv9/a367eQtyjWeBWjtLGzqNJwUUAAD763PY5cXFtH+lc5j1jUWGlYEBgJWBRYb1jXOYf6XFtOXFc9j76wAABRSNJxs6O0uBWo1nC3K7eWt+/39rfrt5C3KNZ4FaO0sbOo0nBRQAAPvrc9jlxcW0f6VzmPWNRYaVgQGAlYFFhvWNc5h/pcW05cVz2PvrAAAFFI0nGzo7S4FajWcLcrt5a37/f2t+u3kLco1ngVo7Sxs6jScFFAAA++tz2OXFxbR/pXOY9Y1FhpWBAYCVgUWG9Y1zmH+lxbTlxXPY++sAAAUUjScbOjtLgVqNZwtyu3lrfv9/a367eQtyjWeBWjtLGzqNJwUUAAD763PY5cXFtH+lc5j1jUWGlYEBgJWBRYb1jXOYf6XFtOXFc9j76wAABRSNJxs6O0uBWo1nC3K7eWt+/39rfrt5C3KNZ4FaO0sbOo0nBRQAAPvrc9jlxcW0f6VzmPWNRYaVgQGAlYFFhvWNc5h/pcW05cVz2PvrAAAFFI0nGzo7S4FajWcLcrt5a37/f2t+u3kLco1ngVo7Sxs6jScFFAAA++tz2OXFxbR/pXOY9Y1FhpWBAYCVgUWG9Y1zmH+lxbTlxXPY++sAAAUUjScbOjtLgVqNZwtyu3lrfv9/a367eQtyjWeBWjtLGzqNJwUUAAD763PY5cXFtH+lc5j1jUWGlYEBgJWBRYb1jXOYf6XFtOXFc9j76wAABRSNJxs6O0uBWo1nC3K7eWt+/39rfrt5C3KNZ4FaO0sbOo0nBRQAAPvrc9jlxcW0f6VzmPWNRYaVgQGAlYFFhvWNc5h/pcW05cVz2PvrAAAFFI0nGzo7S4FajWcLcrt5a37/f2t+u3kLco1ngVo7Sxs6jScFFAAA++tz2OXFxbR/pXOY9Y1FhpWBAYCVgUWG9Y1zmH+lxbTlxXPY++sAAAUUjScbOjtLgVqNZwtyu3lrfv9/a367eQtyjWeBWjtLGzqNJwUUAAD763PY5cXFtH+lc5j1jUWGlYEBgJWBRYb1jXOYf6XFtOXFc9j76wAABRSNJxs6O0uBWo1nC3K7eWt+/39rfrt5C3KNZ4FaO0sbOo0nBRQAAPvrc9jlxcW0f6VzmPWNRYaVgQGAlYFFhvWNc5h/pcW05cVz2PvrAAAFFI0nGzo7S4FajWcLcrt5a37/f2t+u3kLco1ngVo7Sxs6jScFFAAA++tz2OXFxbR/pXOY9Y1FhpWBAYCVgUWG9Y1zmH+lxbTlxXPY++sAAAUUjScbOjtLgVqNZwtyu3lrfv9/a367eQtyjWeBWjtLGzqNJwUUAAD763PY5cXFtH+lc5j1jUWGlYEBgJWBRYb1jXOYf6XFtOXFc9j76wAABRSNJxs6O0uBWo1nC3K7eWt+/39rfrt5C3KNZ4FaO0sbOo0nBRQAAPvrc9jlxcW0f6VzmPWNRYaVgQGAlYFFhvWNc5h/pcW05cVz2PvrAAAFFI0nGzo7S4FajWcLcrt5a37/f2t+u3kLco1ngVo7Sxs6jScFFAAA++tz2OXFxbR/pXOY9Y1FhpWBAYCVgUWG9Y1zmH+lxbTlxXPY++sAAAUUjScbOjtLgVqNZwtyu3lrfv9/a367eQtyjWeBWjtLGzqNJwUUAAD763PY5cXFtH+lc5j1jUWGlYEBgJWBRYb1jXOYf6XFtOXFc9j76wAABRSNJxs6O0uBWo1nC3K7eWt+/39rfrt5C3KNZ4FaO0sbOo0nBRQAAPvrc9jlxcW0f6VzmPWNRYaVgQGAlYFFhvWNc5h/pcW05cVz2PvrAAAFFI0nGzo7S4FajWcLcrt5a37/f2t+u3kLco1ngVo7Sxs6jScFFAAA++tz2OXFxbR/pXOY9Y1FhpWBAYCVgUWG9Y1zmH+lxbTlxXPY++sAAAUUjScbOjtLgVqNZwtyu3lrfv9/a367eQtyjWeBWjtLGzqNJwUUAAD763PY5cXFtH+lc5j1jUWGlYEBgJWBRYb1jXOYf6XFtOXFc9j76wAABRSNJxs6O0uBWo1nC3K7eWt+/39rfrt5C3KNZ4FaO0sbOo0nBRQAAPvrc9jlxcW0f6VzmPWNRYaVgQGAlYFFhvWNc5h/pcW05cVz2PvrAAAFFI0nGzo7S4FajWcLcrt5a37/f2t+u3kLco1ngVo7Sxs6jScFFAAA++tz2OXFxbR/pXOY9Y1FhpWBAYCVgUWG9Y1zmH+lxbTlxXPY++sAAAUUjScbOjtLgVqNZwtyu3lrfv9/a367eQtyjWeBWjtLGzqNJwUUAAD763PY5cXFtH+lc5j1jUWGlYEBgJWBRYb1jXOYf6XFtOXFc9j76wAABRSNJxs6O0uBWo1nC3K7eWt+/39rfrt5C3KNZ4FaO0sbOo0nBRQAAPvrc9jlxcW0f6VzmPWNRYaVgQGAlYFFhvWNc5h/pcW05cVz2PvrAAAFFI0nGzo7S4FajWcLcrt5a37/f2t+u3kLco1ngVo7Sxs6jScFFAAA++tz2OXFxbR/pXOY9Y1FhpWBAYCVgUWG9Y1zmH+lxbTlxXPY++sAAAUUjScbOjtLgVqNZwtyu3lrfv9/a367eQtyjWeBWjtLGzqNJwUUAAD763PY5cXFtH+lc5j1jUWGlYEBgJWBRYb1jXOYf6XFtOXFc9j76wAABRSNJxs6O0uBWo1nC3K7eWt+/39rfrt5C3KNZ4FaO0sbOo0nBRQAAPvrc9jlxcW0f6VzmPWNRYaVgQGAlYFFhvWNc5h/pcW05cVz2PvrAAAFFI0nGzo7S4FajWcLcrt5a37/f2t+u3kLco1ngVo7Sxs6jScFFAAA++tz2OXFxbR/pXOY9Y1FhpWBAYCVgUWG9Y1zmH+lxbTlxXPY++sAAAUUjScbOjtLgVqNZwtyu3lrfv9/a367eQtyjWeBWjtLGzqNJwUUAAD763PY5cXFtH+lc5j1jUWGlYEBgJWBRYb1jXOYf6XFtOXFc9j76wAABRSNJxs6O0uBWo1nC3K7eWt+/39rfrt5C3KNZ4FaO0sbOo0nBRQAAPvrc9jlxcW0f6VzmPWNRYaVgQGAlYFFhvWNc5h/pcW05cVz2PvrAAAFFI0nGzo7S4FajWcLcrt5a37/f2t+u3kLco1ngVo7Sxs6jScFFAAA++tz2OXFxbR/pXOY9Y1FhpWBAYCVgUWG9Y1zmH+lxbTlxXPY++sAAAUUjScbOjtLgVqNZwtyu3lrfv9/a367eQtyjWeBWjtLGzqNJwUUAAD763PY5cXFtH+lc5j1jUWGlYEBgJWBRYb1jXOYf6XFtOXFc9j76wAABRSNJxs6O0uBWo1nC3K7eWt+/39rfrt5C3KNZ4FaO0sbOo0nBRQAAPvrc9jlxcW0f6VzmPWNRYaVgQGAlYFFhvWNc5h/pcW05cVz2PvrAAAFFI0nGzo7S4FajWcLcrt5a37/f2t+u3kLco1ngVo7Sxs6jScFFAAA++tz2OXFxbR/pXOY9Y1FhpWBAYCVgUWG9Y1zmH+lxbTlxXPY++sAAAUUjScbOjtLgVqNZwtyu3lrfv9/a367eQtyjWeBWjtLGzqNJwUUAAD763PY5cXFtH+lc5j1jUWGlYEBgJWBRYb1jXOYf6XFtOXFc9j76wAABRSNJxs6O0uBWo1nC3K7eWt+/39rfrt5C3KNZ4FaO0sbOo0nBRQAAPvrc9jlxcW0f6VzmPWNRYaVgQGAlYFFhvWNc5h/pcW05cVz2PvrAAAFFI0nGzo7S4FajWcLcrt5a37/f2t+u3kLco1ngVo7Sxs6jScFFAAA++tz2OXFxbR/pXOY9Y1FhpWBAYCVgUWG9Y1zmH+lxbTlxXPY++sAAAUUjScbOjtLgVqNZwtyu3lrfv9/a367eQtyjWeBWjtLGzqNJwUUAAD763PY5cXFtH+lc5j1jUWGlYEBgJWBRYb1jXOYf6XFtOXFc9j76wAABRSNJxs6O0uBWo1nC3K7eWt+/39rfrt5C3KNZ4FaO0sbOo0nBRQAAPvrc9jlxcW0f6VzmPWNRYaVgQGAlYFFhvWNc5h/pcW05cVz2PvrAAAFFI0nGzo7S4FajWcLcrt5a37/f2t+u3kLco1ngVo7Sxs6jScFFAAA++tz2OXFxbR/pXOY9Y1FhpWBAYCVgUWG9Y1zmH+lxbTlxXPY++sAAAUUjScbOjtLgVqNZwtyu3lrfv9/a367eQtyjWeBWjtLGzqNJwUUAAD763PY5cXFtH+lc5j1jUWGlYEBgJWBRYb1jXOYf6XFtOXFc9j76wAABRSNJxs6O0uBWo1nC3K7eWt+/39rfrt5C3KNZ4FaO0sbOo0nBRQAAPvrc9jlxcW0f6VzmPWNRYaVgQGAlYFFhvWNc5h/pcW05cVz2PvrAAAFFI0nGzo7S4FajWcLcrt5a37/f2t+u3kLco1ngVo7Sxs6jScFFAAA++tz2OXFxbR/pXOY9Y1FhpWBAYCVgUWG9Y1zmH+lxbTlxXPY++sAAAUUjScbOjtLgVqNZwtyu3lrfv9/a367eQtyjWeBWjtLGzqNJwUUAAD763PY5cXFtH+lc5j1jUWGlYEBgJWBRYb1jXOYf6XFtOXFc9j76wAABRSNJxs6O0uBWo1nC3K7eWt+/39rfrt5C3KNZ4FaO0sbOo0nBRQAAPvrc9jlxcW0f6VzmPWNRYaVgQGAlYFFhvWNc5h/pcW05cVz2PvrAAAFFI0nGzo7S4FajWcLcrt5a37/f2t+u3kLco1ngVo7Sxs6jScFFAAA++tz2OXFxbR/pXOY9Y1FhpWBAYCVgUWG9Y1zmH+lxbTlxXPY++sAAAUUjScbOjtLgVqNZwtyu3lrfv9/a367eQtyjWeBWjtLGzqNJwUUAAD763PY5cXFtH+lc5j1jUWGlYEBgJWBRYb1jXOYf6XFtOXFc9j76wAABRSNJxs6O0uBWo1nC3K7eWt+/39rfrt5C3KNZ4FaO0sbOo0nBRQAAPvrc9jlxcW0f6VzmPWNRYaVgQGAlYFFhvWNc5h/pcW05cVz2PvrAAAFFI0nGzo7S4FajWcLcrt5a37/f2t+u3kLco1ngVo7Sxs6jScFFAAA++tz2OXFxbR/pXOY9Y1FhpWBAYCVgUWG9Y1zmH+lxbTlxXPY++sAAAUUjScbOjtLgVqNZwtyu3lrfv9/a367eQtyjWeBWjtLGzqNJwUUAAD763PY5cXFtH+lc5j1jUWGlYEBgJWBRYb1jXOYf6XFtOXFc9j76wAABRSNJxs6O0uBWo1nC3K7eWt+/39rfrt5C3KNZ4FaO0sbOo0nBRQAAPvrc9jlxcW0f6VzmPWNRYaVgQGAlYFFhvWNc5h/pcW05cVz2PvrAAAFFI0nGzo7S4FajWcLcrt5a37/f2t+u3kLco1ngVo7Sxs6jScFFAAA++tz2OXFxbR/pXOY9Y1FhpWBAYCVgUWG9Y1zmH+lxbTlxXPY++sAAAUUjScbOjtLgVqNZwtyu3lrfv9/a367eQtyjWeBWjtLGzqNJwUUAAD763PY5cXFtH+lc5j1jUWGlYEBgJWBRYb1jXOYf6XFtOXFc9j76wAABRSNJxs6O0uBWo1nC3K7eWt+/39rfrt5C3KNZ4FaO0sbOo0nBRQAAPvrc9jlxcW0f6VzmPWNRYaVgQGAlYFFhvWNc5h/pcW05cVz2PvrAAAFFI0nGzo7S4FajWcLcrt5a37/f2t+u3kLco1ngVo7Sxs6jScFFAAA++tz2OXFxbR/pXOY9Y1FhpWBAYCVgUWG9Y1zmH+lxbTlxXPY++sAAAUUjScbOjtLgVqNZwtyu3lrfv9/a367eQtyjWeBWjtLGzqNJwUUAAD763PY5cXFtH+lc5j1jUWGlYEBgJWBRYb1jXOYf6XFtOXFc9j76wAABRSNJxs6O0uBWo1nC3K7eWt+/39rfrt5C3KNZ4FaO0sbOo0nBRQAAPvrc9jlxcW0f6VzmPWNRYaVgQGAlYFFhvWNc5h/pcW05cVz2PvrAAAFFI0nGzo7S4FajWcLcrt5a37/f2t+u3kLco1ngVo7Sxs6jScFFAAA++tz2OXFxbR/pXOY9Y1FhpWBAYCVgUWG9Y1zmH+lxbTlxXPY++sAAAUUjScbOjtLgVqNZwtyu3lrfv9/a367eQtyjWeBWjtLGzqNJwUUAAD763PY5cXFtH+lc5j1jUWGlYEBgJWBRYb1jXOYf6XFtOXFc9j76wAABRSNJxs6O0uBWo1nC3K7eWt+/39rfrt5C3KNZ4FaO0sbOo0nBRQAAPvrc9jlxcW0f6VzmPWNRYaVgQGAlYFFhvWNc5h/pcW05cVz2PvrAAAFFI0nGzo7S4FajWcLcrt5a37/f2t+u3kLco1ngVo7Sxs6jScFFAAA++tz2OXFxbR/pXOY9Y1FhpWBAYCVgUWG9Y1zmH+lxbTlxXPY++sAAAUUjScbOjtLgVqNZwtyu3lrfv9/a367eQtyjWeBWjtLGzqNJwUUAAD763PY5cXFtH+lc5j1jUWGlYEBgJWBRYb1jXOYf6XFtOXFc9j76wAABRSNJxs6O0uBWo1nC3K7eWt+/39rfrt5C3KNZ4FaO0sbOo0nBRQAAPvrc9jlxcW0f6VzmPWNRYaVgQGAlYFFhvWNc5h/pcW05cVz2PvrAAAFFI0nGzo7S4FajWcLcrt5a37/f2t+u3kLco1ngVo7Sxs6jScFFAAA++tz2OXFxbR/pXOY9Y1FhpWBAYCVgUWG9Y1zmH+lxbTlxXPY++sAAAUUjScbOjtLgVqNZwtyu3lrfv9/a367eQtyjWeBWjtLGzqNJwUUAAD763PY5cXFtH+lc5j1jUWGlYEBgJWBRYb1jXOYf6XFtOXFc9j76wAABRSNJxs6O0uBWo1nC3K7eWt+/39rfrt5C3KNZ4FaO0sbOo0nBRQAAPvrc9jlxcW0f6VzmPWNRYaVgQGAlYFFhvWNc5h/pcW05cVz2PvrAAAFFI0nGzo7S4FajWcLcrt5a37/f2t+u3kLco1ngVo7Sxs6jScFFAAA++tz2OXFxbR/pXOY9Y1FhpWBAYCVgUWG9Y1zmH+lxbTlxXPY++sAAAUUjScbOjtLgVqNZwtyu3lrfv9/a367eQtyjWeBWjtLGzqNJwUUAAD763PY5cXFtH+lc5j1jUWGlYEBgJWBRYb1jXOYf6XFtOXFc9j76wAABRSNJxs6O0uBWo1nC3K7eWt+/39rfrt5C3KNZ4FaO0sbOo0nBRQAAPvrc9jlxcW0f6VzmPWNRYaVgQGAlYFFhvWNc5h/pcW05cVz2PvrAAAFFI0nGzo7S4FajWcLcrt5a37/f2t+u3kLco1ngVo7Sxs6jScFFAAA++tz2OXFxbR/pXOY9Y1FhpWBAYCVgUWG9Y1zmH+lxbTlxXPY++sAAAUUjScbOjtLgVqNZwtyu3lrfv9/a367eQtyjWeBWjtLGzqNJwUUAAD763PY5cXFtH+lc5j1jUWGlYEBgJWBRYb1jXOYf6XFtOXFc9j76wAABRSNJxs6O0uBWo1nC3K7eWt+/39rfrt5C3KNZ4FaO0sbOo0nBRQAAPvrc9jlxcW0f6VzmPWNRYaVgQGAlYFFhvWNc5h/pcW05cVz2PvrAAAFFI0nGzo7S4FajWcLcrt5a37/f2t+u3kLco1ngVo7Sxs6jScFFAAA++tz2OXFxbR/pXOY9Y1FhpWBAYCVgUWG9Y1zmH+lxbTlxXPY++sAAAUUjScbOjtLgVqNZwtyu3lrfv9/a367eQtyjWeBWjtLGzqNJwUUAAD763PY5cXFtH+lc5j1jUWGlYEBgJWBRYb1jXOYf6XFtOXFc9j76wAABRSNJxs6O0uBWo1nC3K7eWt+/39rfrt5C3KNZ4FaO0sbOo0nBRQAAPvrc9jlxcW0f6VzmPWNRYaVgQGAlYFFhvWNc5h/pcW05cVz2PvrAAAFFI0nGzo7S4FajWcLcrt5a37/f2t+u3kLco1ngVo7Sxs6jScFFAAA++tz2OXFxbR/pXOY9Y1FhpWBAYCVgUWG9Y1zmH+lxbTlxXPY++sAAAUUjScbOjtLgVqNZwtyu3lrfv9/a367eQtyjWeBWjtLGzqNJwUUAAD763PY5cXFtH+lc5j1jUWGlYEBgJWBRYb1jXOYf6XFtOXFc9j76wAABRSNJxs6O0uBWo1nC3K7eWt+/39rfrt5C3KNZ4FaO0sbOo0nBRQAAPvrc9jlxcW0f6VzmPWNRYaVgQGAlYFFhvWNc5h/pcW05cVz2PvrAAAFFI0nGzo7S4FajWcLcrt5a37/f2t+u3kLco1ngVo7Sxs6jScFFAAA++tz2OXFxbR/pXOY9Y1FhpWBAYCVgUWG9Y1zmH+lxbTlxXPY++sAAAUUjScbOjtLgVqNZwtyu3lrfv9/a367eQtyjWeBWjtLGzqNJwUUAAD763PY5cXFtH+lc5j1jUWGlYEBgJWBRYb1jXOYf6XFtOXFc9j76wAABRSNJxs6O0uBWo1nC3K7eWt+/39rfrt5C3KNZ4FaO0sbOo0nBRQAAPvrc9jlxcW0f6VzmPWNRYaVgQGAlYFFhvWNc5h/pcW05cVz2PvrAAAFFI0nGzo7S4FajWcLcrt5a37/f2t+u3kLco1ngVo7Sxs6jScFFAAA++tz2OXFxbR/pXOY9Y1FhpWBAYCVgUWG9Y1zmH+lxbTlxXPY++sAAAUUjScbOjtLgVqNZwtyu3lrfv9/a367eQtyjWeBWjtLGzqNJwUUAAD763PY5cXFtH+lc5j1jUWGlYEBgJWBRYb1jXOYf6XFtOXFc9j76wAABRSNJxs6O0uBWo1nC3K7eWt+/39rfrt5C3KNZ4FaO0sbOo0nBRQAAPvrc9jlxcW0f6VzmPWNRYaVgQGAlYFFhvWNc5h/pcW05cVz2PvrAAAFFI0nGzo7S4FajWcLcrt5a37/f2t+u3kLco1ngVo7Sxs6jScFFAAA++tz2OXFxbR/pXOY9Y1FhpWBAYCVgUWG9Y1zmH+lxbTlxXPY++sAAAUUjScbOjtLgVqNZwtyu3lrfv9/a367eQtyjWeBWjtLGzqNJwUUAAD763PY5cXFtH+lc5j1jUWGlYEBgJWBRYb1jXOYf6XFtOXFc9j76wAABRSNJxs6O0uBWo1nC3K7eWt+/39rfrt5C3KNZ4FaO0sbOo0nBRQAAPvrc9jlxcW0f6VzmPWNRYaVgQGAlYFFhvWNc5h/pcW05cVz2PvrAAAFFI0nGzo7S4FajWcLcrt5a37/f2t+u3kLco1ngVo7Sxs6jScFFAAA++tz2OXFxbR/pXOY9Y1FhpWBAYCVgUWG9Y1zmH+lxbTlxXPY++sAAAUUjScbOjtLgVqNZwtyu3lrfv9/a367eQtyjWeBWjtLGzqNJwUUAAD763PY5cXFtH+lc5j1jUWGlYEBgJWBRYb1jXOYf6XFtOXFc9j76wAABRSNJxs6O0uBWo1nC3K7eWt+/39rfrt5C3KNZ4FaO0sbOo0nBRQAAPvrc9jlxcW0f6VzmPWNRYaVgQGAlYFFhvWNc5h/pcW05cVz2PvrAAAFFI0nGzo7S4FajWcLcrt5a37/f2t+u3kLco1ngVo7Sxs6jScFFAAA++tz2OXFxbR/pXOY9Y1FhpWBAYCVgUWG9Y1zmH+lxbTlxXPY++sAAAUUjScbOjtLgVqNZwtyu3lrfv9/a367eQtyjWeBWjtLGzqNJwUUAAD763PY5cXFtH+lc5j1jUWGlYEBgJWBRYb1jXOYf6XFtOXFc9j76w==\" type=\"audio/wav\" />\n                    Your browser does not support the audio element.\n                </audio>\n              ",
          "text/plain": "<IPython.lib.display.Audio object>"
         },
         "metadata": {},
         "output_type": "display_data"
        }
       ]
      }
     },
     "db84580df0b8408c8135c2afa63f74b1": {
      "model_module": "@jupyter-widgets/base",
      "model_module_version": "1.2.0",
      "model_name": "LayoutModel",
      "state": {}
     },
     "dba202ed680047cabee512acf8ab677d": {
      "model_module": "@jupyter-widgets/controls",
      "model_module_version": "1.5.0",
      "model_name": "IntSliderModel",
      "state": {
       "description": "w",
       "layout": "IPY_MODEL_a6fdc6997c6843828428bd1f052150d7",
       "max": 10,
       "style": "IPY_MODEL_73d8997b44c84205b7c0e172954df752",
       "value": 1
      }
     },
     "dbb57b4e69244d54b106e29a018ae864": {
      "model_module": "@jupyter-widgets/base",
      "model_module_version": "1.2.0",
      "model_name": "LayoutModel",
      "state": {}
     },
     "dc60dfb5242e488083282779b86dea49": {
      "model_module": "@jupyter-widgets/output",
      "model_module_version": "1.0.0",
      "model_name": "OutputModel",
      "state": {
       "layout": "IPY_MODEL_b522772d40824d6f93436b72a7bddbc9",
       "outputs": [
        {
         "data": {
          "text/html": "\n                <audio  controls=\"controls\" autoplay=\"autoplay\">\n                    <source src=\"data:audio/wav;base64,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\" type=\"audio/wav\" />\n                    Your browser does not support the audio element.\n                </audio>\n              ",
          "text/plain": "<IPython.lib.display.Audio object>"
         },
         "metadata": {},
         "output_type": "display_data"
        }
       ]
      }
     },
     "ddc0185d094d476196264678fba093b7": {
      "model_module": "@jupyter-widgets/base",
      "model_module_version": "1.2.0",
      "model_name": "LayoutModel",
      "state": {}
     },
     "de713f89ace14e5491ca4e82e64f9f71": {
      "model_module": "@jupyter-widgets/base",
      "model_module_version": "1.2.0",
      "model_name": "LayoutModel",
      "state": {}
     },
     "df1a9adabd9c496c94dbbe0bb422480c": {
      "model_module": "@jupyter-widgets/controls",
      "model_module_version": "1.5.0",
      "model_name": "SliderStyleModel",
      "state": {
       "description_width": ""
      }
     },
     "df62e15752ab40c6b0c28136992ec422": {
      "model_module": "@jupyter-widgets/base",
      "model_module_version": "1.2.0",
      "model_name": "LayoutModel",
      "state": {}
     },
     "df97fb1583cb4ecf93d974adc3f605cb": {
      "model_module": "@jupyter-widgets/base",
      "model_module_version": "1.2.0",
      "model_name": "LayoutModel",
      "state": {}
     },
     "dfac46f9d91c4e6cb4ab93f346b2f2a3": {
      "model_module": "@jupyter-widgets/base",
      "model_module_version": "1.2.0",
      "model_name": "LayoutModel",
      "state": {}
     },
     "dfc0da9701a64004941ce2b7b6d2bfc8": {
      "model_module": "@jupyter-widgets/controls",
      "model_module_version": "1.5.0",
      "model_name": "SliderStyleModel",
      "state": {
       "description_width": ""
      }
     },
     "e0501ae31d054c9485260db9f097e402": {
      "model_module": "@jupyter-widgets/base",
      "model_module_version": "1.2.0",
      "model_name": "LayoutModel",
      "state": {}
     },
     "e0ae24783fe548678c891f6a0a734044": {
      "model_module": "@jupyter-widgets/output",
      "model_module_version": "1.0.0",
      "model_name": "OutputModel",
      "state": {
       "layout": "IPY_MODEL_5118c92579ae41d69471398db8290ac3"
      }
     },
     "e0eb79c9854744af93ea1e41af54a968": {
      "model_module": "@jupyter-widgets/output",
      "model_module_version": "1.0.0",
      "model_name": "OutputModel",
      "state": {
       "layout": "IPY_MODEL_cbbb59c8ccb04340bd3533571d9dc49a"
      }
     },
     "e0f5270e1dee4ae389e0b50d701fb857": {
      "model_module": "@jupyter-widgets/controls",
      "model_module_version": "1.5.0",
      "model_name": "SliderStyleModel",
      "state": {
       "description_width": ""
      }
     },
     "e1dafc863ba14a17808f83bfd0569732": {
      "model_module": "@jupyter-widgets/controls",
      "model_module_version": "1.5.0",
      "model_name": "SliderStyleModel",
      "state": {
       "description_width": ""
      }
     },
     "e296c9fdcc084600a89ccb3461738186": {
      "model_module": "@jupyter-widgets/controls",
      "model_module_version": "1.5.0",
      "model_name": "SliderStyleModel",
      "state": {
       "description_width": ""
      }
     },
     "e2a3ba69909d45808659ee54c745ea1c": {
      "model_module": "@jupyter-widgets/controls",
      "model_module_version": "1.5.0",
      "model_name": "VBoxModel",
      "state": {
       "children": [
        "IPY_MODEL_82e5b2b6674940aba5bd33ea9ceffb9a",
        "IPY_MODEL_06c731c8a8434e84bf1ceed0ccfb72cd",
        "IPY_MODEL_83b6bc2a41ca45dea1fe4de109f39c44"
       ],
       "layout": "IPY_MODEL_a40f1c8a0fa540f79bea1204ec2bf45c"
      }
     },
     "e3773b38a42946449c9cb41c207b4e87": {
      "model_module": "@jupyter-widgets/controls",
      "model_module_version": "1.5.0",
      "model_name": "FloatSliderModel",
      "state": {
       "description": "Amplitude",
       "layout": "IPY_MODEL_9b2a181dff344854bc46fa50d37d7226",
       "max": 1,
       "step": 0.05,
       "style": "IPY_MODEL_e77f168ae1f44cdeab7158f423c6d969",
       "value": 0.4
      }
     },
     "e5a70be8794343bea7ec32eed01a4db1": {
      "model_module": "@jupyter-widgets/output",
      "model_module_version": "1.0.0",
      "model_name": "OutputModel",
      "state": {
       "layout": "IPY_MODEL_3ae9a99502f94439b6f344b49d1a9337",
       "outputs": [
        {
         "data": {
          "text/html": "\n                <audio  controls=\"controls\" autoplay=\"autoplay\">\n                    <source src=\"data:audio/wav;base64,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\" type=\"audio/wav\" />\n                    Your browser does not support the audio element.\n                </audio>\n              ",
          "text/plain": "<IPython.lib.display.Audio object>"
         },
         "metadata": {},
         "output_type": "display_data"
        }
       ]
      }
     },
     "e6114e9b461043e592b64ea0baf39e33": {
      "model_module": "@jupyter-widgets/base",
      "model_module_version": "1.2.0",
      "model_name": "LayoutModel",
      "state": {
       "border": "1px solid black"
      }
     },
     "e6442ad4f8534bfabbd092ef3dd9f1c7": {
      "model_module": "@jupyter-widgets/base",
      "model_module_version": "1.2.0",
      "model_name": "LayoutModel",
      "state": {}
     },
     "e6793036f78948a0be765df467751e11": {
      "model_module": "@jupyter-widgets/controls",
      "model_module_version": "1.5.0",
      "model_name": "FloatSliderModel",
      "state": {
       "description": "Amplitude",
       "layout": "IPY_MODEL_5fa1852511844da0acd3d4e3a648bb70",
       "max": 1,
       "step": 0.05,
       "style": "IPY_MODEL_e296c9fdcc084600a89ccb3461738186",
       "value": 0.5
      }
     },
     "e6ed5db8861c4b4b9f89cef22e90f735": {
      "model_module": "@jupyter-widgets/controls",
      "model_module_version": "1.5.0",
      "model_name": "VBoxModel",
      "state": {
       "children": [
        "IPY_MODEL_db73a9850fcd41d9a236484b60200326",
        "IPY_MODEL_1a171076655c4f3a9ff306c5130c5952"
       ],
       "layout": "IPY_MODEL_b5ae5f6dd3b842708b4aa05e6867f321"
      }
     },
     "e77f168ae1f44cdeab7158f423c6d969": {
      "model_module": "@jupyter-widgets/controls",
      "model_module_version": "1.5.0",
      "model_name": "SliderStyleModel",
      "state": {
       "description_width": ""
      }
     },
     "e7a608209771452fb238420cc50d4f77": {
      "model_module": "@jupyter-widgets/output",
      "model_module_version": "1.0.0",
      "model_name": "OutputModel",
      "state": {
       "layout": "IPY_MODEL_480454e8c9234c57905f0b2bc255bd6c",
       "outputs": [
        {
         "data": {
          "text/html": "\n                <audio  controls=\"controls\" autoplay=\"autoplay\">\n                    <source src=\"data:audio/wav;base64,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\" type=\"audio/wav\" />\n                    Your browser does not support the audio element.\n                </audio>\n              ",
          "text/plain": "<IPython.lib.display.Audio object>"
         },
         "metadata": {},
         "output_type": "display_data"
        }
       ]
      }
     },
     "e81d8864652141949e78e6fba3f8c2ae": {
      "model_module": "@jupyter-widgets/controls",
      "model_module_version": "1.5.0",
      "model_name": "SliderStyleModel",
      "state": {
       "description_width": ""
      }
     },
     "e8fd95a5b73042abb08e27ceee3b856b": {
      "model_module": "@jupyter-widgets/controls",
      "model_module_version": "1.5.0",
      "model_name": "SliderStyleModel",
      "state": {
       "description_width": ""
      }
     },
     "e97d2af1957747beab3af7bac810bce1": {
      "model_module": "@jupyter-widgets/controls",
      "model_module_version": "1.5.0",
      "model_name": "SliderStyleModel",
      "state": {
       "description_width": ""
      }
     },
     "e9cb983ddf974dd1bc578f8b52bbd087": {
      "model_module": "@jupyter-widgets/base",
      "model_module_version": "1.2.0",
      "model_name": "LayoutModel",
      "state": {}
     },
     "eb7c95aa2c2d46a0b41cd9d5d05df865": {
      "model_module": "@jupyter-widgets/output",
      "model_module_version": "1.0.0",
      "model_name": "OutputModel",
      "state": {
       "layout": "IPY_MODEL_5582134b59f7440090d6eec1c5f54a97",
       "outputs": [
        {
         "ename": "TypeError",
         "evalue": "synth() got an unexpected keyword argument 'amp'",
         "output_type": "error",
         "traceback": [
          "\u001b[1;31m---------------------------------------------------------------------------\u001b[0m",
          "\u001b[1;31mTypeError\u001b[0m                                 Traceback (most recent call last)",
          "\u001b[1;32m<ipython-input-26-067ce17c5941>\u001b[0m in \u001b[0;36msin_gui1\u001b[1;34m(amp, freq, Tmax)\u001b[0m\n\u001b[0;32m     26\u001b[0m     \u001b[1;32mwith\u001b[0m \u001b[0mout_plot\u001b[0m\u001b[1;33m:\u001b[0m\u001b[1;33m\u001b[0m\u001b[1;33m\u001b[0m\u001b[0m\n\u001b[0;32m     27\u001b[0m         \u001b[0mplt\u001b[0m\u001b[1;33m.\u001b[0m\u001b[0mclf\u001b[0m\u001b[1;33m(\u001b[0m\u001b[1;33m)\u001b[0m\u001b[1;33m\u001b[0m\u001b[1;33m\u001b[0m\u001b[0m\n\u001b[1;32m---> 28\u001b[1;33m         \u001b[0my\u001b[0m\u001b[1;33m,\u001b[0m\u001b[0mx\u001b[0m \u001b[1;33m=\u001b[0m \u001b[0msynth\u001b[0m\u001b[1;33m(\u001b[0m\u001b[1;34m'sin'\u001b[0m\u001b[1;33m,\u001b[0m\u001b[0mfreq\u001b[0m\u001b[1;33m=\u001b[0m\u001b[0mfreq\u001b[0m\u001b[1;33m,\u001b[0m\u001b[0mamp\u001b[0m\u001b[1;33m=\u001b[0m\u001b[0mamp\u001b[0m\u001b[1;33m,\u001b[0m\u001b[0mTmax\u001b[0m\u001b[1;33m=\u001b[0m\u001b[0mTmax\u001b[0m\u001b[1;33m)\u001b[0m\u001b[1;33m\u001b[0m\u001b[1;33m\u001b[0m\u001b[0m\n\u001b[0m\u001b[0;32m     29\u001b[0m         \u001b[0mplt\u001b[0m\u001b[1;33m.\u001b[0m\u001b[0mplot\u001b[0m\u001b[1;33m(\u001b[0m\u001b[0mx\u001b[0m\u001b[1;33m,\u001b[0m \u001b[0my\u001b[0m\u001b[1;33m,\u001b[0m \u001b[0mcolor\u001b[0m\u001b[1;33m=\u001b[0m\u001b[1;34m'C0'\u001b[0m\u001b[1;33m)\u001b[0m\u001b[1;33m\u001b[0m\u001b[1;33m\u001b[0m\u001b[0m\n\u001b[0;32m     30\u001b[0m         \u001b[0mplt\u001b[0m\u001b[1;33m.\u001b[0m\u001b[0mylim\u001b[0m\u001b[1;33m(\u001b[0m\u001b[1;33m[\u001b[0m\u001b[1;33m-\u001b[0m\u001b[1;36m3\u001b[0m\u001b[1;33m,\u001b[0m \u001b[1;36m3\u001b[0m\u001b[1;33m]\u001b[0m\u001b[1;33m)\u001b[0m\u001b[1;33m\u001b[0m\u001b[1;33m\u001b[0m\u001b[0m\n",
          "\u001b[1;31mTypeError\u001b[0m: synth() got an unexpected keyword argument 'amp'"
         ]
        }
       ]
      }
     },
     "ed44d7dd01a14f27ad29827fa63ba3e6": {
      "model_module": "@jupyter-widgets/controls",
      "model_module_version": "1.5.0",
      "model_name": "FloatSliderModel",
      "state": {
       "description": "Amplitude",
       "layout": "IPY_MODEL_2cf80e41eaa4473db9c07dda499d5b3e",
       "max": 1,
       "step": 0.05,
       "style": "IPY_MODEL_dfc0da9701a64004941ce2b7b6d2bfc8",
       "value": 0.8
      }
     },
     "ed5eadb548bc472aa90358d6da326a0e": {
      "model_module": "@jupyter-widgets/controls",
      "model_module_version": "1.5.0",
      "model_name": "SliderStyleModel",
      "state": {
       "description_width": ""
      }
     },
     "edfb59246ea749d8b1898e287f220a04": {
      "model_module": "@jupyter-widgets/base",
      "model_module_version": "1.2.0",
      "model_name": "LayoutModel",
      "state": {}
     },
     "ef1e4cb5d92a40daa561c52eef09e077": {
      "model_module": "@jupyter-widgets/base",
      "model_module_version": "1.2.0",
      "model_name": "LayoutModel",
      "state": {}
     },
     "ef425f0f52564398acd84fb3d9eed9f2": {
      "model_module": "@jupyter-widgets/controls",
      "model_module_version": "1.5.0",
      "model_name": "FloatSliderModel",
      "state": {
       "description": "Amplitude",
       "layout": "IPY_MODEL_42efcb464d634047922e6e08c6fce7e9",
       "max": 1,
       "step": 0.05,
       "style": "IPY_MODEL_11751577df0843d3b12a3f167c7c3ca0",
       "value": 0.5
      }
     },
     "efab13e28c7b4e08a36394033406bacd": {
      "model_module": "@jupyter-widgets/controls",
      "model_module_version": "1.5.0",
      "model_name": "DropdownModel",
      "state": {
       "_options_labels": [
        "sin",
        "square",
        "sawtooth"
       ],
       "description": "Signal",
       "index": 0,
       "layout": "IPY_MODEL_903d0dae56734162af1e8b57f67984b8",
       "style": "IPY_MODEL_73a6385637bc4a8581f7c53b688846ae"
      }
     },
     "f06c6b4cdece47cab4b51bd562c3bab4": {
      "model_module": "@jupyter-widgets/controls",
      "model_module_version": "1.5.0",
      "model_name": "HBoxModel",
      "state": {
       "children": [
        "IPY_MODEL_85202a97ace24763b0eb0ef1624e643c",
        "IPY_MODEL_54c5d0f4b6e54f0e8b7ae4239542915e"
       ],
       "layout": "IPY_MODEL_09f3ce6f7e114797a784c11debb0dd1d"
      }
     },
     "f0c6928fe67d49d28d173ec7029c1588": {
      "model_module": "@jupyter-widgets/controls",
      "model_module_version": "1.5.0",
      "model_name": "SliderStyleModel",
      "state": {
       "description_width": ""
      }
     },
     "f1347293a5bd4e2cbb2d54bf6363b171": {
      "model_module": "@jupyter-widgets/base",
      "model_module_version": "1.2.0",
      "model_name": "LayoutModel",
      "state": {}
     },
     "f1a04cb90fc148a7bb1b119b5370477f": {
      "model_module": "@jupyter-widgets/controls",
      "model_module_version": "1.5.0",
      "model_name": "SliderStyleModel",
      "state": {
       "description_width": ""
      }
     },
     "f212c37a44014ad78b56b3c95af3bc25": {
      "model_module": "@jupyter-widgets/base",
      "model_module_version": "1.2.0",
      "model_name": "LayoutModel",
      "state": {}
     },
     "f3bbca6eb57f4072b0d0dddcee69f6fd": {
      "model_module": "@jupyter-widgets/base",
      "model_module_version": "1.2.0",
      "model_name": "LayoutModel",
      "state": {}
     },
     "f42609e2be4946489ce20a1bf5dcfc88": {
      "model_module": "@jupyter-widgets/controls",
      "model_module_version": "1.5.0",
      "model_name": "HBoxModel",
      "state": {
       "children": [
        "IPY_MODEL_09e88242ab00458ea589a668ea05a6f9",
        "IPY_MODEL_0bc0ef34fe744769b65dbd0e0b968f3c"
       ],
       "layout": "IPY_MODEL_79cc3cb7a868494dbc30211495f913f4"
      }
     },
     "f492bb7354c44b18a22c78d6ad241fdb": {
      "model_module": "@jupyter-widgets/controls",
      "model_module_version": "1.5.0",
      "model_name": "HBoxModel",
      "state": {
       "children": [
        "IPY_MODEL_63b40a6134b8452db860f990354a0777",
        "IPY_MODEL_e6ed5db8861c4b4b9f89cef22e90f735"
       ],
       "layout": "IPY_MODEL_5c500606342f4d6cb73421b1c3bbf05c"
      }
     },
     "f4979ced07ac42aba53187e7864d97de": {
      "model_module": "@jupyter-widgets/base",
      "model_module_version": "1.2.0",
      "model_name": "LayoutModel",
      "state": {}
     },
     "f5974a222cb543e19b07480677886d1f": {
      "model_module": "@jupyter-widgets/base",
      "model_module_version": "1.2.0",
      "model_name": "LayoutModel",
      "state": {}
     },
     "f5b946adb7804ddf945750506fe31ba2": {
      "model_module": "@jupyter-widgets/output",
      "model_module_version": "1.0.0",
      "model_name": "OutputModel",
      "state": {
       "layout": "IPY_MODEL_b515273c81104aa9943d0b20262163df",
       "outputs": [
        {
         "data": {
          "text/html": "\n                <audio  controls=\"controls\" autoplay=\"autoplay\">\n                    <source src=\"data:audio/wav;base64,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\" type=\"audio/wav\" />\n                    Your browser does not support the audio element.\n                </audio>\n              ",
          "text/plain": "<IPython.lib.display.Audio object>"
         },
         "metadata": {},
         "output_type": "display_data"
        }
       ]
      }
     },
     "f67670abf1114c4fa7b414528c087f0e": {
      "model_module": "@jupyter-widgets/output",
      "model_module_version": "1.0.0",
      "model_name": "OutputModel",
      "state": {
       "layout": "IPY_MODEL_5cbffac597ba484ebd4d6007b877318c",
       "outputs": [
        {
         "data": {
          "image/png": "iVBORw0KGgoAAAANSUhEUgAAAXIAAAD8CAYAAABq6S8VAAAAOXRFWHRTb2Z0d2FyZQBNYXRwbG90bGliIHZlcnNpb24zLjMuNCwgaHR0cHM6Ly9tYXRwbG90bGliLm9yZy8QVMy6AAAACXBIWXMAAAsTAAALEwEAmpwYAAAU+klEQVR4nO3df2zc933f8ef7jpQokdRPSqREKZJlWbYl/6bqJnGySquDOkFaO4mHpRjaYS0gZEOHDluBNAjQYSgCDChQDNs6BMYWtP1j09otrlPHsR03UozUP2bJP2T9sn75h35TFCWRFCWKPH72x7EybcvSiXdH8SM+H8ABvLvvfb7vN7/H1330ue+dIqWEJClfhRtdgCSpOga5JGXOIJekzBnkkpQ5g1ySMmeQS1Lmqg7yiGiKiP8XEW9FxK6I+A+1KEySVJmo9jzyiAigOaU0EBGNwC+A308pvVKLAiVJV9dQ7QCp/EowMHa1cezip4wkaZJUHeQAEVEEtgOrgT9LKb16hW02AZsAZs2a1bV8+fIJ7Wt0dJRCYXot7dvz9GDP00M1Pe/bt68npbToE3eklGp2AeYBW4C7rrZdV1dXmqgtW7ZM+LG5sufpwZ6nh2p6BralK2RqTV8KU0pnga3AI7UcV5L06Wpx1sqiiJg39vMs4GFgb7XjSpIqU4s18iXAX4ytkxeAv0opPV2DcSVJFajFWSs7gPtrUIskaQKm19vFknQTMsglKXMGuSRlziCXpMwZ5JKUOYNckjJnkEtS5gxyScqcQS5JmTPIJSlzBrkkZc4gl6TMGeSSlDmDXJIyZ5BLUuYMcknKnEEuSZkzyCUpcwa5JGXOIJekzBnkkpQ5g1ySMmeQS1LmDHJJypxBLkmZM8glKXMGuSRlruogj4jlEbElIvZExK6I+P1aFCZJqkxDDcYYAf5dSun1iGgFtkfET1NKu2swtiTpGqqekaeUjqeUXh/7uR/YA3RWO64kqTI1XSOPiJXA/cCrtRxXkvTpIqVUm4EiWoCfA99LKf3wCvdvAjYBtLe3d23evHlC+xkYGKClpaWaUrNjz9ODPU8P1fS8cePG7Sml9Z+4I6VU9QVoBJ4D/m0l23d1daWJ2rJly4Qfmyt7nh7seXqopmdgW7pCptbirJUA/gewJ6X0p9WOJ0m6PrVYI38I+C3gH0fEm2OXr9RgXElSBao+/TCl9AsgalCLJGkC/GSnJGXOIJekzBnkkpQ5g1ySMmeQS1LmDHJJypxBLkmZM8glKXMGuSRlziCXpMwZ5JKUOYNckjJnkEtS5gxyScqcQS5JmTPIJSlzBrkkZc4gl6TMGeSSlDmDXJIyZ5BLUuYMcknKnEEuSZkzyCUpcwa5JGXOIJekzBnkkpQ5g1ySMleTII+IH0REd0TsrMV4kqTK1WpG/ufAIzUaS5J0HRpqMUhK6cWIWFmLsa6mNJr4+6PDvPKTvew/2c/+7gHWLZ3Dw3e2s2RuE3+3t5u9J/oYvFSisViga8V8PrdqIaf6h3jyjaMcO3uBNe2trGibzdolcxguJXYePcfP9nYze0aRX7l9EXd2zOH8pRH2Hu/n3Z7zHDt7gbuXzeXX1nUwb3Yjz+86yY4jZwFoaWrkvmVzuX/FfI70DvL0juMcO3eB+5bPZ83iFm5rb+XUwBC7j53jFwd6mNPUyMN3tnN7Rysnzl1k59FzHD17gXMXhlm7dA5fvWcJTY1Fnnn7ONvfP0vLzCJtLTOZNXSJ0Y6THOw+zzM7j3Oqf4gHb1nAuqVzWbWomYPdA+w+1sdr7/eysHkmj9zVwepFLRzqGWD7+2c4PXCJ4dHEmsUtPHZ/J6Mp8czbx3n1UC+L58ykc95s7uhoZfmCWbxzYoAX9pzkzOAlvnhbG3d3zmNR60z2HO/jnZP97D7Wx8LmGfzGfUtZvmA2u4/18dLBHi5cKtFQLLB6cQtfvWcJfRdGeH73CV491MuqRc3c0tbMbYtbmDOrkT3H+/n5vlMMDA3zq3e0c1fnXGbPKPLm4bMcOjXAkTMX4NIFulsO0z6niTc/OMvWfd0AtDY1sqqtmS+tbae7/yIv7O7mjQ/OsK6z/LtYvaiF0ZTYc7yfVw6dZvBSiS/f3cFdS+cymhKvHOrlyJlBzg4Os6B5Bt/oWsbcWY1se6+XF/Z0M6uxQFvLTFa2NfPQ6jYO9w6yZW83u471sX7lfNa0t3LrohZO9V/knZP9vPHBWYZGRvn1e5eydkkrA0MltrzTzemBIYZLiUUtM/naA500NRZ5+eBpnt91ggXNM+icP4sVC5u5p3Mu7/ac58X9p9jxwSAPd7/FnUtaWbmwmXdO9nOge4C9J/oZGinxjQeWsaa9lZ6BIZ7deYLzQyMUC0HH3CYeu68TgF8c6OHZnSfK4y+YzapFLXxmwWz2d/fz6qFe9nf386W17dzdOY9l82fx6runea9nkHd7zjOaEo93LWPVomaOnb3IU28eZWQ00TKzgSVzm/j6A8s4OzjMywd7eGbnCda0t3DrovKltamBfScHeP2DMxw6dZ6v3N3B/Z+ZR/ucJl7Y3c0HvYOc7LtIoRA83rWMznlNvNczyF+8dIEFu/+eBbPLv5NH1nVwamCIVw718uzO49yzbB53dLSyenELQyOjHOge4O2j5zjcO8iv37uUrhXzmTX2N3Oi7yJ9F0doaijwjQeWsah1JvtO9vO/tx2mtamRJXOaWLFwNl+4rY3DvRd47b1efr7vFOtXzGfd0rmsXtzC0bODHOw+z77ufrr7hi7vozSaeOrNo5wZvMRoguYZRR67v5PWpgZ2Hu3jr7cfZmHzTFYunM3KtmbuHjuur39whlcO9fLQ6jbuXVZ+jtZjPTtSSrUZqBzkT6eU7vqU+zcBmwDa29u7Nm/efN372Hp4mD/fdamaMiXphvrTzyUWzG2Z0GM3bty4PaW0/uO312RGXomU0hPAEwDr169PGzZsuO4xdv5sP+zaV+PKJGnyzJzdzETy72qyOmslIm50CZJUldHaLIJ8RGZBfqMrkKTqTNkgj4j/BbwM3B4RRyLid2sx7if2g0kuKW+jNXpfcrxanbXym7UY51qckUvK3ZSdkU8Wc1xS7gxyk1xS5qZ9kBdMckmZm/ZBLkm5G63DmFkFueeRS8rdtJ+RG+OScleP0w/zCnKTXFLm6pDjeQW5JOVu2i+tSFLu6pDjBrkkTSaXViQpc87IJSlz0z7I6/FPEkmaTNN+aaUe519K0mSa9metGOSScjftl1bq8UomSbnLLMhNckl5m/ZLK+a4pNyl6f5dK6OurUjK3IJZtY/drIK85JRcUsYe+Mw8OlumeZA7IZeUs3r9L2dZBXk91pYkabIY5HjWiqS81ev/VMgsyG90BZI0cc7I8awVSXkr1Clx8wpyl1YkZcwZOS6tSMpbTOUgj4hHIuKdiDgQEX9YizGvxBm5pJwVpuqbnRFRBP4M+DKwFvjNiFhb7bhXYo5LytlUXlp5EDiQUjqUUroEbAYercG4n1BybUVSxuo1I2+owRidwOFx148Av/zxjSJiE7AJoL29na1bt173jgZ6Lk2sQkmaAk6fPs3AwpEJ5d/V1CLIr/Qa84mpc0rpCeAJgPXr16cNGzZc9442bICnvvNj3/SUlKWFC9toaRlgIvl3NbVYWjkCLB93fRlwrAbjSpIqUIsgfw24LSJuiYgZwDeBH9VgXElSBapeWkkpjUTE7wHPAUXgBymlXVVXJkk3nfqsC9dijZyU0jPAM7UYS5J0fbL6ZKck6ZMMcknKnEEuSZkzyCUpcwa5JGXOIJekzGUX5HX6zhlJylZ2Qe7XrEjSR2UX5JKkjzLIJSlz2QW5a+SS9FHZBbkk6aMMcknKnEEuSZkzyCUpcwa5JE2SVKcPwhjkkpQ5g1ySJknU6fxpg1ySJk19ktwgl6RJ4ox8jF+aJSlX9fpken5BbpJLypQz8jHmuKRchWvkkpQ3Z+SSlDmDXJIy59KKJOVuKs7II+KfRMSuiBiNiPW1KkqSbkZT9fTDncDXgRdrUIskaQIaqnlwSmkPQNRrBV+SbiKNxfqsZlcV5NcjIjYBmwDa29vZunXrhMb51trEC8eKHDg7CsCsBlgzv8ht8wvsPzPKW6dK5f0Bd7UVuXNBgZ2nSxw4M8ql8kO4d1GRVXMLXBhJPPveyOWxGwrw1VWNlBJsPznCsYHyWevzZgZrFxZZNCvY01ti35nyQDOKcN+iIrfOK/LSsRHe7xu9PNb69iIr5xY4czHxdx98uI/WGfDIykb6LiW2nShx+mJ5H4tnB3e3FZlRDHb2lDjcXx6rtRHuW5i4rW0mf3twmFMXPjyT/vNLG1jeWuD4+VFePPLhPtpnBw9/ppEjA6NsPznCwHD59uWtBe5uKzJUSuzsKXFysDzWwqbggfYiS5oL/HD/pcvbA2xY1sDi5uD9c6O8euLD3+3KOQU+u7SBg2dLvNFdYnis9TXzC6xbWOTE4Ci7ekr0XSrf3tkSPNDeQGMBnjowTGncBwK+tKKB1hnBvjOj7Owp76OpmLh1XpF1bUX2nB7l7bHbAe5ZVOSO+QX29o6yt7d0+biunlfubyTB3x78sIliwK+tbKRYgN09JQ6eKz9gQVOwel6BzpYCb/eULj+nAH65o8gtc4u8dmLk8vb/sO818wv0X0o8N+6509oIv7qikQsjibd7SpefO0ubgzsWFGlqCHacGuHI2O3FgC92NrCkpcDPDw9z7PyHv5AHO8rPne7BxNbDHz2uX+hs4NSFxNunSpwZKj9m5ZwCaxeWj+ub3R8+p5ob4QtLG1g4q8Cz7w3Te/HDfTw09tz5oH+Ul46NXD6uq+YWeHBJA/vPlNh1usSFsd3fsaC8j1ODide7Rzg/9utd0BR8sbOBpobgx4c++tz5R8sa6GgO9p8Z5Y3u8vGbWYQ7FhRZt7DIrtMldpwaIY0tONw39rt9v2+UbSdLl58jS1uCh5Y2MFSCZ98dvny8m4rlv4G5M4Pdp0u8M/Z3OW9msGZ+geWtBd7oLnFo3PH77JIiK+YU2XO6xI5xz6lb5hZ4sKOBc0OJ594bvvx5lfkzgwc7ikTArtOjl/8uO5qD2+cXmTMz2HZihOPjjt+G5Q20zy7wRvfI5awAuHNBgc+39jIwMDjh/PtUKaWrXoAXKC+hfPzy6LhttgLrrzXWP1y6urrSRG3ZsmXCj82VPU8P9jw9VNMzsC1dIVOvOSNPKT1c25cOSVItefqhJGWu2tMPvxYRR4DPAT+OiOdqU5YkqVLVnrXyJPBkjWqRJE2ASyuSlDmDXJIyZ5BLUuYMcknKnEEuSZkzyCUpcwa5JGXOIJekzBnkkpQ5g1ySMmeQS1LmDHJJypxBLkmZM8glKXMGuSRlziCXpMwZ5JKUOYNckjJnkEtS5gxyScqcQS5JmTPIJSlzBrkkZc4gl6TMGeSSlDmDXJIyZ5BLUuaqCvKI+JOI2BsROyLiyYiYV6O6JEkVqnZG/lPgrpTSPcA+4DvVlyRJuh5VBXlK6fmU0sjY1VeAZdWXJEm6HrVcI/8d4Cc1HE+SVIFIKV19g4gXgI4r3PXdlNJTY9t8F1gPfD19yoARsQnYBNDe3t61efPmCRU8MDBAS0vLhB6bK3ueHux5eqim540bN25PKa3/xB0ppaouwD8HXgZmV/qYrq6uNFFbtmyZ8GNzZc/Tgz1PD9X0DGxLV8jUhipeWIiIR4BvA7+SUhqsZixJ0sRUu0b+X4FW4KcR8WZEfL8GNUmSrkNVM/KU0upaFSJJmhg/2SlJmTPIJSlzBrkkZc4gl6TMGeSSlDmDXJIyZ5BLUuYMcknKnEEuSZkzyCUpcwa5JGXOIJekzBnkkpQ5g1ySMmeQS1LmDHJJypxBLkmZM8glKXMGuSRlziCXpMwZ5JKUOYNckjJnkEtS5gxyScqcQS5JmTPIJSlzBrkkZc4gl6TMVRXkEfHHEbEjIt6MiOcjYmmtCpMkVabaGfmfpJTuSSndBzwN/FH1JUmSrkdVQZ5S6ht3tRlI1ZUjSbpeDdUOEBHfA34bOAdsvMp2m4BNY1cHIuKdCe6yDeiZ4GNzZc/Tgz1PD9X0vOJKN0ZKV59ER8QLQMcV7vpuSumpcdt9B2hKKf37CRZYkYjYllJaX899TDX2PD3Y8/RQj56vOSNPKT1c4Vj/E/gxUNcglyR9VLVnrdw27upvAHurK0eSdL2qXSP/jxFxOzAKvA98q/qSrumJSdjHVGPP04M9Tw817/maa+SSpKnNT3ZKUuYMcknK3JQN8oh4JCLeiYgDEfGHV7g/IuI/j92/IyIeuBF11lIFPd8RES9HxFBE/MGNqLHWKuj5n40d3x0R8VJE3Hsj6qyVCvp9dNzXXmyLiC/ciDpr6Vo9j9vulyKiFBGPT2Z99VDBcd4QEefGjvObEVHdp+JTSlPuAhSBg8AqYAbwFrD2Y9t8BfgJEMBngVdvdN2T0PNi4JeA7wF/cKNrnqSePw/MH/v5yzkf5wr7beHD967uAfbe6Lrr3fO47X4GPAM8fqPrnoTjvAF4ulb7nKoz8geBAymlQymlS8Bm4NGPbfMo8Jep7BVgXkQsmexCa+iaPaeUulNKrwHDN6LAOqik55dSSmfGrr4CLJvkGmupkn4H0thfOjfH115U8rcM8K+B/wt0T2ZxdVJpzzUzVYO8Ezg87vqRsduud5uc3Gz9VOJ6e/5dyv8Ky1VF/UbE1yJiL+UP2P3OJNVWL9fsOSI6ga8B35/Euuqp0uf15yLirYj4SUSsq2aHUzXI4wq3fXxmUsk2ObnZ+qlExT1HxEbKQf7tulZUXxX1m1J6MqV0B/AY8Mf1LqrOKun5PwHfTimV6l/OpKik59eBFSmle4H/AvxNNTucqkF+BFg+7voy4NgEtsnJzdZPJSrqOSLuAf478GhK6fQk1VYP13WMU0ovArdGRFu9C6ujSnpeD2yOiPeAx4H/FhGPTUp19XHNnlNKfSmlgbGfnwEaqznOUzXIXwNui4hbImIG8E3gRx/b5kfAb4+dvfJZ4FxK6fhkF1pDlfR8s7lmzxHxGeCHwG+llPbdgBprqZJ+V0dEjP38AOU3y3J+8bpmzymlW1JKK1NKK4H/A/yrlNLfTHqltVPJce4Yd5wfpJzFEz7OVX+NbT2klEYi4veA5yi/A/yDlNKuiPjW2P3fp/zu9leAA8Ag8C9uVL21UEnPEdEBbAPmAKMR8W8ovxve92njTmUVHuc/AhZSnqUBjKRMvy2vwn6/QXmCMgxcAP7puDc/s1NhzzeVCnt+HPiXETFC+Th/s5rj7Ef0JSlzU3VpRZJUIYNckjJnkEtS5gxyScqcQS5JmTPIJSlzBrkkZe7/A6rmdsmmmor2AAAAAElFTkSuQmCC\n",
          "text/plain": "<Figure size 432x288 with 1 Axes>"
         },
         "metadata": {
          "needs_background": "light"
         },
         "output_type": "display_data"
        }
       ]
      }
     },
     "f684f128d3e24056b5458efd2cc43213": {
      "model_module": "@jupyter-widgets/base",
      "model_module_version": "1.2.0",
      "model_name": "LayoutModel",
      "state": {}
     },
     "f68d27976d6f424ea326b5850e0ca4dd": {
      "model_module": "@jupyter-widgets/output",
      "model_module_version": "1.0.0",
      "model_name": "OutputModel",
      "state": {
       "layout": "IPY_MODEL_7cc8eee5a14d4d1c8350218ba932dd18"
      }
     },
     "f7de2901c1894553aca32598e4d662ff": {
      "model_module": "@jupyter-widgets/base",
      "model_module_version": "1.2.0",
      "model_name": "LayoutModel",
      "state": {}
     },
     "f83e5f15828949de9c23807c3456dffe": {
      "model_module": "@jupyter-widgets/base",
      "model_module_version": "1.2.0",
      "model_name": "LayoutModel",
      "state": {}
     },
     "f876a4093e0b4ad18edc4b1b2cf3d1e7": {
      "model_module": "@jupyter-widgets/output",
      "model_module_version": "1.0.0",
      "model_name": "OutputModel",
      "state": {
       "layout": "IPY_MODEL_da33ed04ed994cb0a3999dc6cf7d7e7a",
       "outputs": [
        {
         "data": {
          "text/html": "\n                <audio  controls=\"controls\" autoplay=\"autoplay\">\n                    <source src=\"data:audio/wav;base64,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\" type=\"audio/wav\" />\n                    Your browser does not support the audio element.\n                </audio>\n              ",
          "text/plain": "<IPython.lib.display.Audio object>"
         },
         "metadata": {},
         "output_type": "display_data"
        }
       ]
      }
     },
     "f95d111bf34f4918afe3f28d9b5b5ab0": {
      "model_module": "@jupyter-widgets/controls",
      "model_module_version": "1.5.0",
      "model_name": "FloatSliderModel",
      "state": {
       "description": "Frequency",
       "layout": "IPY_MODEL_2edbb18d72bc4d18a320c969dcafd724",
       "max": 1000,
       "min": 200,
       "step": 0.1,
       "style": "IPY_MODEL_71336b18564e4c5f8dfb80abe782f373",
       "value": 200
      }
     },
     "f9b6ea0d5329449696864c4c628efd22": {
      "model_module": "@jupyter-widgets/controls",
      "model_module_version": "1.5.0",
      "model_name": "SliderStyleModel",
      "state": {
       "description_width": ""
      }
     },
     "f9edbeb4866444baa3b2f365e78ee69d": {
      "model_module": "@jupyter-widgets/base",
      "model_module_version": "1.2.0",
      "model_name": "LayoutModel",
      "state": {}
     },
     "fb62ed67d6b442019187074449f4e743": {
      "model_module": "@jupyter-widgets/controls",
      "model_module_version": "1.5.0",
      "model_name": "HBoxModel",
      "state": {
       "children": [
        "IPY_MODEL_8dc66c2dc14c456a9f7895b0d872a1aa",
        "IPY_MODEL_2ba92fd13c9b425fba3ee8cbfbecbcaf"
       ],
       "layout": "IPY_MODEL_af3ef434d8e44a67a0875c93d741d5b9"
      }
     },
     "fc472d5a45b24bf3b3d11a093eac6084": {
      "model_module": "@jupyter-widgets/base",
      "model_module_version": "1.2.0",
      "model_name": "LayoutModel",
      "state": {}
     },
     "fc5ffeabdeec4a4f8ace2f74b8ae5f83": {
      "model_module": "@jupyter-widgets/output",
      "model_module_version": "1.0.0",
      "model_name": "OutputModel",
      "state": {
       "layout": "IPY_MODEL_56300fcd1ecd4b3383fc1e573ab90d57",
       "outputs": [
        {
         "data": {
          "image/png": "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\n",
          "text/plain": "<Figure size 432x288 with 1 Axes>"
         },
         "metadata": {
          "needs_background": "light"
         },
         "output_type": "display_data"
        }
       ]
      }
     },
     "fc8ae16f9d604af5825b84d28ed89dc7": {
      "model_module": "@jupyter-widgets/base",
      "model_module_version": "1.2.0",
      "model_name": "LayoutModel",
      "state": {}
     },
     "fce89acd31f24925b60e9493caf7f38c": {
      "model_module": "@jupyter-widgets/controls",
      "model_module_version": "1.5.0",
      "model_name": "SliderStyleModel",
      "state": {
       "description_width": ""
      }
     },
     "fd6eca44a7924d4dbac9dde8def4eda0": {
      "model_module": "@jupyter-widgets/controls",
      "model_module_version": "1.5.0",
      "model_name": "FloatSliderModel",
      "state": {
       "description": "Amplitude",
       "layout": "IPY_MODEL_b8a8d032163c450abf774ec2313a100b",
       "max": 1,
       "step": 0.05,
       "style": "IPY_MODEL_e81d8864652141949e78e6fba3f8c2ae",
       "value": 0.5
      }
     },
     "feabeabf982c4047a8fb77a4b6ac52a7": {
      "model_module": "@jupyter-widgets/controls",
      "model_module_version": "1.5.0",
      "model_name": "SliderStyleModel",
      "state": {
       "description_width": ""
      }
     },
     "fef58b92ec56449db0713f5875148e27": {
      "model_module": "@jupyter-widgets/controls",
      "model_module_version": "1.5.0",
      "model_name": "VBoxModel",
      "state": {
       "children": [
        "IPY_MODEL_40319092d1044482b5f8cf876b1b5c4f",
        "IPY_MODEL_2712359727d54e7faaacd43b7527d9f1"
       ],
       "layout": "IPY_MODEL_6b6c7a17d92a4d5088e3a6a7aaa529a8"
      }
     },
     "ff287447d92240ddb9ec331f0f31ceae": {
      "model_module": "@jupyter-widgets/controls",
      "model_module_version": "1.5.0",
      "model_name": "FloatSliderModel",
      "state": {
       "description": "phi",
       "layout": "IPY_MODEL_37e93623a87d4306ac460c4a74fedbde",
       "max": 6.283185307179586,
       "step": 0.01,
       "style": "IPY_MODEL_df1a9adabd9c496c94dbbe0bb422480c",
       "value": 3.11
      }
     },
     "ff4cc899f24c4672bc20a32a9f570e7b": {
      "model_module": "@jupyter-widgets/base",
      "model_module_version": "1.2.0",
      "model_name": "LayoutModel",
      "state": {}
     },
     "ffcfe5ac10234555b1dfc986d4d425a1": {
      "model_module": "@jupyter-widgets/controls",
      "model_module_version": "1.5.0",
      "model_name": "FloatSliderModel",
      "state": {
       "description": "Frequency",
       "layout": "IPY_MODEL_554e2be565eb4c17b515dbeb06730681",
       "max": 1000,
       "min": 200,
       "step": 0.1,
       "style": "IPY_MODEL_287b8b4138a6494e8c8079a6eb9edc45",
       "value": 787.3
      }
     }
    },
    "version_major": 2,
    "version_minor": 0
   }
  }
 },
 "nbformat": 4,
 "nbformat_minor": 4
}
