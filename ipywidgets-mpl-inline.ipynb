{
  "nbformat": 4,
  "nbformat_minor": 0,
  "metadata": {
    "kernelspec": {
      "display_name": "Python 3",
      "language": "python",
      "name": "python3"
    },
    "language_info": {
      "codemirror_mode": {
        "name": "ipython",
        "version": 3
      },
      "file_extension": ".py",
      "mimetype": "text/x-python",
      "name": "python",
      "nbconvert_exporter": "python",
      "pygments_lexer": "ipython3",
      "version": "3.8.3"
    },
    "widgets": {
      "application/vnd.jupyter.widget-state+json": {
        "4ebf9d3752f54fe69ca5070e882db567": {
          "model_module": "@jupyter-widgets/controls",
          "model_name": "VBoxModel",
          "state": {
            "_view_name": "VBoxView",
            "_dom_classes": [
              "widget-interact"
            ],
            "_model_name": "VBoxModel",
            "_view_module": "@jupyter-widgets/controls",
            "_model_module_version": "1.5.0",
            "_view_count": null,
            "_view_module_version": "1.5.0",
            "box_style": "",
            "layout": "IPY_MODEL_f2422aa46f10486298d1a9b1619e4a58",
            "_model_module": "@jupyter-widgets/controls",
            "children": [
              "IPY_MODEL_0d7b463ad9374d528bc44cf0c46f92f6",
              "IPY_MODEL_e5376e28729f466b82f4cc4c2407ffa2",
              "IPY_MODEL_d81d2896ac164492ac05a2201b2a9690",
              "IPY_MODEL_974f92259c9945a5bebcf99c08219dfa"
            ]
          }
        },
        "f2422aa46f10486298d1a9b1619e4a58": {
          "model_module": "@jupyter-widgets/base",
          "model_name": "LayoutModel",
          "state": {
            "_view_name": "LayoutView",
            "grid_template_rows": null,
            "right": null,
            "justify_content": null,
            "_view_module": "@jupyter-widgets/base",
            "overflow": null,
            "_model_module_version": "1.2.0",
            "_view_count": null,
            "flex_flow": null,
            "width": null,
            "min_width": null,
            "border": null,
            "align_items": null,
            "bottom": null,
            "_model_module": "@jupyter-widgets/base",
            "top": null,
            "grid_column": null,
            "overflow_y": null,
            "overflow_x": null,
            "grid_auto_flow": null,
            "grid_area": null,
            "grid_template_columns": null,
            "flex": null,
            "_model_name": "LayoutModel",
            "justify_items": null,
            "grid_row": null,
            "max_height": null,
            "align_content": null,
            "visibility": null,
            "align_self": null,
            "height": null,
            "min_height": null,
            "padding": null,
            "grid_auto_rows": null,
            "grid_gap": null,
            "max_width": null,
            "order": null,
            "_view_module_version": "1.2.0",
            "grid_template_areas": null,
            "object_position": null,
            "object_fit": null,
            "grid_auto_columns": null,
            "margin": null,
            "display": null,
            "left": null
          }
        },
        "0d7b463ad9374d528bc44cf0c46f92f6": {
          "model_module": "@jupyter-widgets/controls",
          "model_name": "IntSliderModel",
          "state": {
            "_view_name": "IntSliderView",
            "style": "IPY_MODEL_5439912b576a4d048c843d7e7ed27c9b",
            "_dom_classes": [],
            "description": "w",
            "step": 1,
            "_model_name": "IntSliderModel",
            "orientation": "horizontal",
            "max": 10,
            "_view_module": "@jupyter-widgets/controls",
            "_model_module_version": "1.5.0",
            "value": 4,
            "_view_count": null,
            "disabled": false,
            "_view_module_version": "1.5.0",
            "min": 0,
            "continuous_update": true,
            "readout_format": "d",
            "description_tooltip": null,
            "readout": true,
            "_model_module": "@jupyter-widgets/controls",
            "layout": "IPY_MODEL_8708427bccd3472a8f701c6d2b589e7c"
          }
        },
        "e5376e28729f466b82f4cc4c2407ffa2": {
          "model_module": "@jupyter-widgets/controls",
          "model_name": "FloatSliderModel",
          "state": {
            "_view_name": "FloatSliderView",
            "style": "IPY_MODEL_85ce00d3bcf54224a1a93784c410f623",
            "_dom_classes": [],
            "description": "amp",
            "step": 0.1,
            "_model_name": "FloatSliderModel",
            "orientation": "horizontal",
            "max": 4,
            "_view_module": "@jupyter-widgets/controls",
            "_model_module_version": "1.5.0",
            "value": 2.8,
            "_view_count": null,
            "disabled": false,
            "_view_module_version": "1.5.0",
            "min": 0,
            "continuous_update": true,
            "readout_format": ".2f",
            "description_tooltip": null,
            "readout": true,
            "_model_module": "@jupyter-widgets/controls",
            "layout": "IPY_MODEL_49bd4cddccf445938b9d56ac55e13f34"
          }
        },
        "d81d2896ac164492ac05a2201b2a9690": {
          "model_module": "@jupyter-widgets/controls",
          "model_name": "FloatSliderModel",
          "state": {
            "_view_name": "FloatSliderView",
            "style": "IPY_MODEL_76a20fb5ce4e4559a61b83d51a007d28",
            "_dom_classes": [],
            "description": "phi",
            "step": 0.01,
            "_model_name": "FloatSliderModel",
            "orientation": "horizontal",
            "max": 6.283185307179586,
            "_view_module": "@jupyter-widgets/controls",
            "_model_module_version": "1.5.0",
            "value": 1.65,
            "_view_count": null,
            "disabled": false,
            "_view_module_version": "1.5.0",
            "min": 0,
            "continuous_update": true,
            "readout_format": ".2f",
            "description_tooltip": null,
            "readout": true,
            "_model_module": "@jupyter-widgets/controls",
            "layout": "IPY_MODEL_21af89be3d4b4983be6b6b5d0c801cff"
          }
        },
        "974f92259c9945a5bebcf99c08219dfa": {
          "model_module": "@jupyter-widgets/output",
          "model_name": "OutputModel",
          "state": {
            "_view_name": "OutputView",
            "msg_id": "",
            "_dom_classes": [],
            "_model_name": "OutputModel",
            "outputs": [
              {
                "output_type": "display_data",
                "metadata": {
                  "tags": [],
                  "needs_background": "light"
                },
                "image/png": "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\n",
                "text/plain": "<Figure size 432x288 with 1 Axes>"
              }
            ],
            "_view_module": "@jupyter-widgets/output",
            "_model_module_version": "1.0.0",
            "_view_count": null,
            "_view_module_version": "1.0.0",
            "layout": "IPY_MODEL_73d277299b7a47aebca607e44b9b1b4d",
            "_model_module": "@jupyter-widgets/output"
          }
        },
        "5439912b576a4d048c843d7e7ed27c9b": {
          "model_module": "@jupyter-widgets/controls",
          "model_name": "SliderStyleModel",
          "state": {
            "_view_name": "StyleView",
            "handle_color": null,
            "_model_name": "SliderStyleModel",
            "description_width": "",
            "_view_module": "@jupyter-widgets/base",
            "_model_module_version": "1.5.0",
            "_view_count": null,
            "_view_module_version": "1.2.0",
            "_model_module": "@jupyter-widgets/controls"
          }
        },
        "8708427bccd3472a8f701c6d2b589e7c": {
          "model_module": "@jupyter-widgets/base",
          "model_name": "LayoutModel",
          "state": {
            "_view_name": "LayoutView",
            "grid_template_rows": null,
            "right": null,
            "justify_content": null,
            "_view_module": "@jupyter-widgets/base",
            "overflow": null,
            "_model_module_version": "1.2.0",
            "_view_count": null,
            "flex_flow": null,
            "width": null,
            "min_width": null,
            "border": null,
            "align_items": null,
            "bottom": null,
            "_model_module": "@jupyter-widgets/base",
            "top": null,
            "grid_column": null,
            "overflow_y": null,
            "overflow_x": null,
            "grid_auto_flow": null,
            "grid_area": null,
            "grid_template_columns": null,
            "flex": null,
            "_model_name": "LayoutModel",
            "justify_items": null,
            "grid_row": null,
            "max_height": null,
            "align_content": null,
            "visibility": null,
            "align_self": null,
            "height": null,
            "min_height": null,
            "padding": null,
            "grid_auto_rows": null,
            "grid_gap": null,
            "max_width": null,
            "order": null,
            "_view_module_version": "1.2.0",
            "grid_template_areas": null,
            "object_position": null,
            "object_fit": null,
            "grid_auto_columns": null,
            "margin": null,
            "display": null,
            "left": null
          }
        },
        "85ce00d3bcf54224a1a93784c410f623": {
          "model_module": "@jupyter-widgets/controls",
          "model_name": "SliderStyleModel",
          "state": {
            "_view_name": "StyleView",
            "handle_color": null,
            "_model_name": "SliderStyleModel",
            "description_width": "",
            "_view_module": "@jupyter-widgets/base",
            "_model_module_version": "1.5.0",
            "_view_count": null,
            "_view_module_version": "1.2.0",
            "_model_module": "@jupyter-widgets/controls"
          }
        },
        "49bd4cddccf445938b9d56ac55e13f34": {
          "model_module": "@jupyter-widgets/base",
          "model_name": "LayoutModel",
          "state": {
            "_view_name": "LayoutView",
            "grid_template_rows": null,
            "right": null,
            "justify_content": null,
            "_view_module": "@jupyter-widgets/base",
            "overflow": null,
            "_model_module_version": "1.2.0",
            "_view_count": null,
            "flex_flow": null,
            "width": null,
            "min_width": null,
            "border": null,
            "align_items": null,
            "bottom": null,
            "_model_module": "@jupyter-widgets/base",
            "top": null,
            "grid_column": null,
            "overflow_y": null,
            "overflow_x": null,
            "grid_auto_flow": null,
            "grid_area": null,
            "grid_template_columns": null,
            "flex": null,
            "_model_name": "LayoutModel",
            "justify_items": null,
            "grid_row": null,
            "max_height": null,
            "align_content": null,
            "visibility": null,
            "align_self": null,
            "height": null,
            "min_height": null,
            "padding": null,
            "grid_auto_rows": null,
            "grid_gap": null,
            "max_width": null,
            "order": null,
            "_view_module_version": "1.2.0",
            "grid_template_areas": null,
            "object_position": null,
            "object_fit": null,
            "grid_auto_columns": null,
            "margin": null,
            "display": null,
            "left": null
          }
        },
        "76a20fb5ce4e4559a61b83d51a007d28": {
          "model_module": "@jupyter-widgets/controls",
          "model_name": "SliderStyleModel",
          "state": {
            "_view_name": "StyleView",
            "handle_color": null,
            "_model_name": "SliderStyleModel",
            "description_width": "",
            "_view_module": "@jupyter-widgets/base",
            "_model_module_version": "1.5.0",
            "_view_count": null,
            "_view_module_version": "1.2.0",
            "_model_module": "@jupyter-widgets/controls"
          }
        },
        "21af89be3d4b4983be6b6b5d0c801cff": {
          "model_module": "@jupyter-widgets/base",
          "model_name": "LayoutModel",
          "state": {
            "_view_name": "LayoutView",
            "grid_template_rows": null,
            "right": null,
            "justify_content": null,
            "_view_module": "@jupyter-widgets/base",
            "overflow": null,
            "_model_module_version": "1.2.0",
            "_view_count": null,
            "flex_flow": null,
            "width": null,
            "min_width": null,
            "border": null,
            "align_items": null,
            "bottom": null,
            "_model_module": "@jupyter-widgets/base",
            "top": null,
            "grid_column": null,
            "overflow_y": null,
            "overflow_x": null,
            "grid_auto_flow": null,
            "grid_area": null,
            "grid_template_columns": null,
            "flex": null,
            "_model_name": "LayoutModel",
            "justify_items": null,
            "grid_row": null,
            "max_height": null,
            "align_content": null,
            "visibility": null,
            "align_self": null,
            "height": null,
            "min_height": null,
            "padding": null,
            "grid_auto_rows": null,
            "grid_gap": null,
            "max_width": null,
            "order": null,
            "_view_module_version": "1.2.0",
            "grid_template_areas": null,
            "object_position": null,
            "object_fit": null,
            "grid_auto_columns": null,
            "margin": null,
            "display": null,
            "left": null
          }
        },
        "73d277299b7a47aebca607e44b9b1b4d": {
          "model_module": "@jupyter-widgets/base",
          "model_name": "LayoutModel",
          "state": {
            "_view_name": "LayoutView",
            "grid_template_rows": null,
            "right": null,
            "justify_content": null,
            "_view_module": "@jupyter-widgets/base",
            "overflow": null,
            "_model_module_version": "1.2.0",
            "_view_count": null,
            "flex_flow": null,
            "width": null,
            "min_width": null,
            "border": null,
            "align_items": null,
            "bottom": null,
            "_model_module": "@jupyter-widgets/base",
            "top": null,
            "grid_column": null,
            "overflow_y": null,
            "overflow_x": null,
            "grid_auto_flow": null,
            "grid_area": null,
            "grid_template_columns": null,
            "flex": null,
            "_model_name": "LayoutModel",
            "justify_items": null,
            "grid_row": null,
            "max_height": null,
            "align_content": null,
            "visibility": null,
            "align_self": null,
            "height": null,
            "min_height": null,
            "padding": null,
            "grid_auto_rows": null,
            "grid_gap": null,
            "max_width": null,
            "order": null,
            "_view_module_version": "1.2.0",
            "grid_template_areas": null,
            "object_position": null,
            "object_fit": null,
            "grid_auto_columns": null,
            "margin": null,
            "display": null,
            "left": null
          }
        },
        "c004928212d24be7ac55b090058c3e0d": {
          "model_module": "@jupyter-widgets/controls",
          "model_name": "VBoxModel",
          "state": {
            "_view_name": "VBoxView",
            "_dom_classes": [],
            "_model_name": "VBoxModel",
            "_view_module": "@jupyter-widgets/controls",
            "_model_module_version": "1.5.0",
            "_view_count": null,
            "_view_module_version": "1.5.0",
            "box_style": "",
            "layout": "IPY_MODEL_5aa354891a59412bae53b3b95dcb3b9f",
            "_model_module": "@jupyter-widgets/controls",
            "children": [
              "IPY_MODEL_ca6ac2e1b04442e2b139a8fbb1edc24c",
              "IPY_MODEL_b8724eb556934ccaa672b87177cf78d4"
            ]
          }
        },
        "5aa354891a59412bae53b3b95dcb3b9f": {
          "model_module": "@jupyter-widgets/base",
          "model_name": "LayoutModel",
          "state": {
            "_view_name": "LayoutView",
            "grid_template_rows": null,
            "right": null,
            "justify_content": null,
            "_view_module": "@jupyter-widgets/base",
            "overflow": null,
            "_model_module_version": "1.2.0",
            "_view_count": null,
            "flex_flow": null,
            "width": null,
            "min_width": null,
            "border": null,
            "align_items": null,
            "bottom": null,
            "_model_module": "@jupyter-widgets/base",
            "top": null,
            "grid_column": null,
            "overflow_y": null,
            "overflow_x": null,
            "grid_auto_flow": null,
            "grid_area": null,
            "grid_template_columns": null,
            "flex": null,
            "_model_name": "LayoutModel",
            "justify_items": null,
            "grid_row": null,
            "max_height": null,
            "align_content": null,
            "visibility": null,
            "align_self": null,
            "height": null,
            "min_height": null,
            "padding": null,
            "grid_auto_rows": null,
            "grid_gap": null,
            "max_width": null,
            "order": null,
            "_view_module_version": "1.2.0",
            "grid_template_areas": null,
            "object_position": null,
            "object_fit": null,
            "grid_auto_columns": null,
            "margin": null,
            "display": null,
            "left": null
          }
        },
        "ca6ac2e1b04442e2b139a8fbb1edc24c": {
          "model_module": "@jupyter-widgets/controls",
          "model_name": "HBoxModel",
          "state": {
            "_view_name": "HBoxView",
            "_dom_classes": [],
            "_model_name": "HBoxModel",
            "_view_module": "@jupyter-widgets/controls",
            "_model_module_version": "1.5.0",
            "_view_count": null,
            "_view_module_version": "1.5.0",
            "box_style": "",
            "layout": "IPY_MODEL_e8a1c3235c604b54b3d423205571ebfd",
            "_model_module": "@jupyter-widgets/controls",
            "children": [
              "IPY_MODEL_5b0ae87a40594eaa991a9453f9524b02",
              "IPY_MODEL_9cd78169eada43eb9fdb4d433bb42470",
              "IPY_MODEL_a3832009d32f41deb4950a8ac30620ab"
            ]
          }
        },
        "b8724eb556934ccaa672b87177cf78d4": {
          "model_module": "@jupyter-widgets/controls",
          "model_name": "HBoxModel",
          "state": {
            "_view_name": "HBoxView",
            "_dom_classes": [],
            "_model_name": "HBoxModel",
            "_view_module": "@jupyter-widgets/controls",
            "_model_module_version": "1.5.0",
            "_view_count": null,
            "_view_module_version": "1.5.0",
            "box_style": "",
            "layout": "IPY_MODEL_e8a1c3235c604b54b3d423205571ebfd",
            "_model_module": "@jupyter-widgets/controls",
            "children": [
              "IPY_MODEL_a8475bebbd7541d085b371602f0a9953",
              "IPY_MODEL_20ad5692ea3445b3b326c397604a060a"
            ]
          }
        },
        "e8a1c3235c604b54b3d423205571ebfd": {
          "model_module": "@jupyter-widgets/base",
          "model_name": "LayoutModel",
          "state": {
            "_view_name": "LayoutView",
            "grid_template_rows": null,
            "right": null,
            "justify_content": null,
            "_view_module": "@jupyter-widgets/base",
            "overflow": null,
            "_model_module_version": "1.2.0",
            "_view_count": null,
            "flex_flow": null,
            "width": null,
            "min_width": null,
            "border": "solid 1px black",
            "align_items": null,
            "bottom": null,
            "_model_module": "@jupyter-widgets/base",
            "top": null,
            "grid_column": null,
            "overflow_y": null,
            "overflow_x": null,
            "grid_auto_flow": null,
            "grid_area": null,
            "grid_template_columns": null,
            "flex": null,
            "_model_name": "LayoutModel",
            "justify_items": null,
            "grid_row": null,
            "max_height": null,
            "align_content": null,
            "visibility": null,
            "align_self": null,
            "height": null,
            "min_height": null,
            "padding": "5px 5px 5px 5px",
            "grid_auto_rows": null,
            "grid_gap": null,
            "max_width": null,
            "order": null,
            "_view_module_version": "1.2.0",
            "grid_template_areas": null,
            "object_position": null,
            "object_fit": null,
            "grid_auto_columns": null,
            "margin": "0px 10px 10px 0px",
            "display": null,
            "left": null
          }
        },
        "5b0ae87a40594eaa991a9453f9524b02": {
          "model_module": "@jupyter-widgets/controls",
          "model_name": "FloatSliderModel",
          "state": {
            "_view_name": "FloatSliderView",
            "style": "IPY_MODEL_a5f71ac66e854cb5969fa53aec3d1f81",
            "_dom_classes": [],
            "description": "Amplitude",
            "step": 0.05,
            "_model_name": "FloatSliderModel",
            "orientation": "horizontal",
            "max": 1,
            "_view_module": "@jupyter-widgets/controls",
            "_model_module_version": "1.5.0",
            "value": 0.2,
            "_view_count": null,
            "disabled": false,
            "_view_module_version": "1.5.0",
            "min": 0,
            "continuous_update": true,
            "readout_format": ".2f",
            "description_tooltip": null,
            "readout": true,
            "_model_module": "@jupyter-widgets/controls",
            "layout": "IPY_MODEL_3f6a2fe7ed574ad48243c5dac483e381"
          }
        },
        "9cd78169eada43eb9fdb4d433bb42470": {
          "model_module": "@jupyter-widgets/controls",
          "model_name": "FloatSliderModel",
          "state": {
            "_view_name": "FloatSliderView",
            "style": "IPY_MODEL_25e9b5ffc41744dfb05518e764bc920e",
            "_dom_classes": [],
            "description": "Frequency",
            "step": 0.1,
            "_model_name": "FloatSliderModel",
            "orientation": "horizontal",
            "max": 1000,
            "_view_module": "@jupyter-widgets/controls",
            "_model_module_version": "1.5.0",
            "value": 493.4,
            "_view_count": null,
            "disabled": false,
            "_view_module_version": "1.5.0",
            "min": 200,
            "continuous_update": true,
            "readout_format": ".2f",
            "description_tooltip": null,
            "readout": true,
            "_model_module": "@jupyter-widgets/controls",
            "layout": "IPY_MODEL_a857e8615b204bffb336ca7472aa60b1"
          }
        },
        "a3832009d32f41deb4950a8ac30620ab": {
          "model_module": "@jupyter-widgets/controls",
          "model_name": "FloatSliderModel",
          "state": {
            "_view_name": "FloatSliderView",
            "style": "IPY_MODEL_09dd52e47ab84e24a3de38261a1ab11b",
            "_dom_classes": [],
            "description": "Duration",
            "step": 0.1,
            "_model_name": "FloatSliderModel",
            "orientation": "horizontal",
            "max": 1,
            "_view_module": "@jupyter-widgets/controls",
            "_model_module_version": "1.5.0",
            "value": 0.3,
            "_view_count": null,
            "disabled": false,
            "_view_module_version": "1.5.0",
            "min": 0.1,
            "continuous_update": false,
            "readout_format": ".2f",
            "description_tooltip": null,
            "readout": true,
            "_model_module": "@jupyter-widgets/controls",
            "layout": "IPY_MODEL_9d08b95618154a038142462f0ff99f78"
          }
        },
        "a8475bebbd7541d085b371602f0a9953": {
          "model_module": "@jupyter-widgets/output",
          "model_name": "OutputModel",
          "state": {
            "_view_name": "OutputView",
            "msg_id": "",
            "_dom_classes": [],
            "_model_name": "OutputModel",
            "outputs": [
              {
                "output_type": "display_data",
                "metadata": {
                  "tags": [],
                  "needs_background": "light"
                },
                "image/png": "iVBORw0KGgoAAAANSUhEUgAAAYIAAAD8CAYAAAB6paOMAAAABHNCSVQICAgIfAhkiAAAAAlwSFlzAAALEgAACxIB0t1+/AAAADh0RVh0U29mdHdhcmUAbWF0cGxvdGxpYiB2ZXJzaW9uMy4yLjIsIGh0dHA6Ly9tYXRwbG90bGliLm9yZy+WH4yJAAAgAElEQVR4nO3deZRc5Xnn8e+jbnVLIBaBoBGSEMLIZjE2WDJ4C5Ew2GDHQGycwMQOTsxRJmOSOfGZjGGcsWNiZ3ByTjyTCZkE2xhsJxY2iY2wMZhFMjFmUQNC+9Jau1tLq/e91mf+qHurq6+6JXVXVVdJ9/c5p07V3Z/3vu99n7tUV5u7IyIi8TWt0gGIiEhlKRGIiMScEoGISMwpEYiIxJwSgYhIzCkRiIjEXEkSgZk9ZGZtZrZxnOlmZn9vZk1mtt7M3lUw7U4z2xG87ixFPCIicvxKdUXwMHDjUabfBCwOXiuA/wdgZmcBXwauAa4Gvmxms0sUk4iIHIeSJAJ3fwHoPMostwDf9ZyXgTPNbC7wYeAZd+909y7gGY6eUEREpMRqp2g784DmguGWYNx4449gZivIXU0wc+bMJQsWLJhUINlslmnTTo5HIypL9TlZygEqS7Uqpizbt29vd/dzouOnKhEUzd0fBB4EWLp0qTc2Nk5qPWvWrGHZsmUljKxyVJbqc7KUA1SWalVMWcxs71jjpypFtgKFp/Dzg3HjjRcRkSkyVYlgFfD7wbeH3gP0uPsB4GngQ2Y2O3hI/KFgnIiITJGS3Boysx8Ay4A5ZtZC7ptA0wHc/Z+AJ4GPAE3AIPAHwbROM/srYG2wqvvc/WgPnUVEpMRKkgjc/Y5jTHfgc+NMewh4qBRxiIjIxJ0cj9FFRGTSlAhERGJOiUBEJOaUCEREYk6JQEQk5pQIRERiTolARCTmlAhERGJOiUBEJOaUCEREYk6JQEQk5pQIRERiTolARCTmlAhERGJOiUBEJOaUCEREYk6JQEQk5pQIRERiriSJwMxuNLNtZtZkZveMMf0bZrYueG03s+6CaZmCaatKEY+IiBy/ov9nsZnVAA8ANwAtwFozW+Xum8N53P3PCub/E+CqglUMufuVxcYhIiKTU4orgquBJnff5e5JYCVwy1HmvwP4QQm2KyIiJVCKRDAPaC4YbgnGHcHMFgKLgOcLRs8ws0Yze9nMbi1BPCIiMgHm7sWtwOw24EZ3vysY/jRwjbvfPca8XwDmu/ufFIyb5+6tZnYRuQTxQXffOcayK4AVAA0NDUtWrlw5qXj7+/uZNWvWpJatNipL9TlZygEqS7UqpizLly9/zd2XHjHB3Yt6Ae8Fni4Yvhe4d5x53wDed5R1PQzcdqxtLlmyxCdr9erVk1622qgs1edkKYe7ylKtiikL0Ohj9KmluDW0FlhsZovMrA64HTji2z9mdgkwG3ipYNxsM6sPPs8B3g9sji4rIiLlU/S3htw9bWZ3A08DNcBD7r7JzO4jl33CpHA7sDLISqFLgX82syy55xX3e8G3jUREpPyKTgQA7v4k8GRk3Jciw385xnK/Bq4oRQwiIjI5+stiEZGYUyIQEYk5JQIRkZhTIhARiTklAhGRmFMiEBGJOSUCEZGYUyIQEYk5JQIRkZhTIhARiTklAhGRmFMiEBGJOSUCEZGYUyIQEYk5JQIRkZhTIhARiTklAhGRmFMiEBGJOSUCEZGYK0kiMLMbzWybmTWZ2T1jTP+MmR02s3XB666CaXea2Y7gdWcp4hERkeNX9D+vN7Ma4AHgBqAFWGtmq9x9c2TWR9397siyZwFfBpYCDrwWLNtVbFwiInJ8SnFFcDXQ5O673D0JrARuOc5lPww84+6dQef/DHBjCWISEZHjVPQVATAPaC4YbgGuGWO+T5jZtcB24M/cvXmcZeeNtREzWwGsAGhoaGDNmjWTCra/v3/Sy1YblaX6nCzlAJWlWpWjLKVIBMfjCeAH7p4wsz8CHgGum8gK3P1B4EGApUuX+rJlyyYVyJo1a5jsstVGZak+J0s5QGWpVuUoSyluDbUCCwqG5wfj8ty9w90TweC3gCXHu6yIiJRXKRLBWmCxmS0yszrgdmBV4QxmNrdg8GZgS/D5aeBDZjbbzGYDHwrGiYjIFCn61pC7p83sbnIdeA3wkLtvMrP7gEZ3XwX8qZndDKSBTuAzwbKdZvZX5JIJwH3u3llsTCIicvxK8ozA3Z8EnoyM+1LB53uBe8dZ9iHgoVLEISIiE6e/LBYRiTklAhGRmFMiEBGJOSUCEZGYUyIQEYk5JQIRkZhTIhARiTklAhGRmFMiEBGJOSUCEZGYUyIQEYk5JQIRkZhTIhARiTklAhGRmFMiEBGJOSUCEZGYUyIQEYk5JQIRkZgrSSIwsxvNbJuZNZnZPWNM/7yZbTaz9Wb2nJktLJiWMbN1wWtVdFkRESmvov9nsZnVAA8ANwAtwFozW+XumwtmewNY6u6DZvbHwN8AvxtMG3L3K4uNQ0REJqcUVwRXA03uvsvdk8BK4JbCGdx9tbsPBoMvA/NLsF0RESkBc/fiVmB2G3Cju98VDH8auMbd7x5n/n8ADrr7V4PhNLAOSAP3u/tPxlluBbACoKGhYcnKlSsnFW9/fz+zZs2a1LLVRmWpPidLOUBlqVbFlGX58uWvufvSIya4e1Ev4DbgWwXDnwb+YZx5P0XuiqC+YNy84P0iYA/wlmNtc8mSJT5Zq1evnvSy1UZlqT4nSzncVZZqVUxZgEYfo08txa2hVmBBwfD8YNwoZnY98EXgZndPFCSi1uB9F7AGuKoEMYmIyHEqRSJYCyw2s0VmVgfcDoz69o+ZXQX8M7kk0FYwfraZ1Qef5wDvBwofMouISJkVnQjcPQ3cDTwNbAF+6O6bzOw+M7s5mO1vgVnAjyJfE70UaDSzN4HV5J4RlC0RuDvrD6fJZJ2tB3vDW1MAtHYPMZzK8GZzNx39CTa29tDen6CjP8FQMkMm62SzTlvfMPu7h2juHGTrwV4O9yXY3T5AJusMJTNks073YJLhVIbX93UxlMzwYlM76UyW7Yf6RsWzp30Ad+dXO9pJZbK8tLODRDrD/u4hslknncnm5+sZTLGxtYcDPUPsbh+grW+YVNZJprMMpzIMJtO09Q3T1NbHod5hNrb20DecYl/HYH572ayzt2OAZDqbj+nFpnbcnZau3HzhNrcc6CWVyfLrpnYGEmnWt3QzlMzQn0jj7gwk0iTTWXYd7udgzzDbD/Wxt2OAQ73DHO5LkM3mLjmHkhnaeofp6E+wvqWbroEkbzZ3k0hnONgznN+mu7OxtYds1nl+6yHcnVd2deDu9A6nAOgZSpHNOhtaehhIpFm7p5PuwSS7DvczkMjVK0DXQJKeoRS72wfY0z7Avo5Bdh3up3c4RedAEoBM1hlMpmlq66dnKMWruzsZTObKGd1mYSyrt7aRyY7EGm7zUO8ww6kMu3sydA4k2djaw+G+BG19wwwmc/ssm3Xa+xMc7BnOt5+23mF2Hu4nlckyEOzbvuEUw6kM65pz+/xXO3J1tXl/76g6au4cxN15sak9X1eJdIbmzkGyQXsF2NcxSM/QSPvZebiftt5hhpIZhlOZfBs63Jegqa2fQ73DbGjpYTDl7GkfGFVHrd1D+W2lM1n+Y8dh3EfmC20/1Jebb2eu/axr7mYwmaZnMFeHQ8kM6UyWPe0DtPWOtJ8DPUO09Q7n9+1wKpM/Dje09NA1kOSNfV0MpzK0dg+NOra3HOglm83Vkbvz0s5cnXUFdR7u342to9tPU1s//Yk0qaCMPYMp+oZT7GkfYG9H7rXzcK6ddPTnb2YwlMzkjs2hFGv3dDKQSPPGvi6y2ZFthnXfuKdzVPtZ39JNNuukgro83Jcgmc7my7ihJdd+DvUOM5BIH6trK1rRD4srYenSpd7Y2Djh5Z7feog/fLiRm995Pqve3M8fXXsRj73Wwt3XXcxXnticH3/xubNoauvn3NPqaetLsPjcWTiw+NxZ/HzjwVHrPG1GLX3DaT65ZD4/eq2FO65ewA9ebeaGyxp4ZvMhrr/0XJ7d0paf/rXffjtf/ekW/vuNb+MrT2zm9665gH95ZR83Xn4eT206yG+9Yy4/XX+AO9+7kEde2ss9N13C/T/fyiXnncbWg31MrzFSmVydzZlpzDplJg609SZIZ7OkMp6PacnC2by2t4uv/fbb+ZuntvHxd83jOy/uyW8j3Obvv3ch331pL//jI5fw109u5S8/dhl/+cRmPn7VPP79jVaWv+0cVm87zHWXnMvzW9v43aULeLSxmesvbeDZLYeYZpCNNKOPv2seTW39JNNZth7sY/7smbR0DfGO+WewvqWHO66+gB+8uo+v3Hw5X3liEx9aOJ2n9qT42DvP54k39/ORK87jyQ0HWXHtRTz4wi7uvekS/tfPt/L5G97K3z2zPb9fr1xwJuuau7nqgjPpH07zrgtm82hjM3Nm1dNecNAC+Rh+75oL+FVTO+edPoNXdndy9aKzeHV3Z35/hNsIt/lH117EP7+wKx9TGONdH1jEIy/t4d6bLuW+n27mE++az7+93sLbGk5j26G+fPu5aM6pnHHKdOadOZOfrj8wKqZT6moYTGbydfKp91zA91/ex4cvb+DpTSPtJ6yLL3/sMr7yxGa++JFL+dqTW/j0exbyvZf35mP/6BVz+dmG3Hp+8sZ+/vSDF/PXT27l7fNOZ2NrL3U100gGnc/sU6Yzc3oNM+tq6BlK0TecJpHOclp9LX2JNBedMY1dPVn+529dxl/9dDOf/cAivv2r3fnjJIwxbMN/8dFL+dunt/GXN1/Ovf++gduWzOex11ry7SZ8D/dTuJ7CmEK3Xnk+bzR3M6u+lk37e/N1F5YjXPfXP3EFX39qG7e/ewH/uGZnfp1hXf3B+y/kOy/u4ZNvnc6Ptqf4wo2X8PWntvKhyxr4xeZD+fbzzgVn0jmQ4F0XzObxdfuZd+bMUYkGyNfnne9dyNo9XZwxczov7erg6gvP4tU9nfnj4U+uu5j/+3xTvo4+t/wtPLB6Z76Owzr6w/cv4qEXd+ePu9vfvYCVa5vzx/o5p9VzuC/BwrNP4dzT6rnw7FP520++kzVr1rBs2bIJ938AZjbmw+JYJYJH1+7jC/+2gblnzOBAz3C+Yutqp5FMZ4+9gkk4Y+Z0eoZSnHf6DA72Due3HVZyOP78M2awv2c4fxDWTLP82WaxZkyfxnAqS33tNBLpLGefWkfHQDLf2MP9EMYQDocxzpxew1AqU5JYQmbgPrJ/Tq+D3iT5/RHGFsYQ7rfTZ9TSO5ymdpqRLtH+CYWd8lmn1tE5kMzHEiaVMIbwPZwe7tdyCPdPw+n1HOpN5DvEObPqaO9PHlF35dg/YaIPj5Nw/4TbjLbtaPs5ta6GgWRp209oVn0t/Yn0uMdTOP6sGUbn8MhJ0ljJp1jhcRbun3B/RNtPdH9NpP/Zc/9Hy5IIYvUTE2HOCztYs9xwuZIAQF9wi2Egmbu8q6vN7fLp03IbzwZB9QeXf4mgcVoJYxhOjS5feAAk0qMPzlPra0fFFMZe6iQAI3UxIlfiTDAhjDHYTdQEH8IOpdRJAGAwWPdgUFczpk8bFUN4GR9tP+VKAjBSB2Fs02tyMYX7IxTulzCWaVa6FhTd1al8+8m9O7kZTqmrCeYP2vRwelRs5RDWRV2wX8ZtP8F7uB9LnQRg5DgLj+UZ02tGxZBvP0GMYR2Vs/85XrFKBKGwEylDX3KEcBthZdcElW82OhGEt3vC+bJluFIL15kIGuzIfsi91wcdX9igy9nBhcIr0jCWcHgkaRMZLn+lheUP6yi6zTDWqYgl2n7C7r3miPYzus7K0n6yY7efsI7qa3MdX7j/ytHZRoV1kM4GSSlf7HD/jD1/OYV1FbblaF1kprD9HK9YJYLwJCkVVNRUZuL8AZsdfaBGG/LI/KWPIUw24bYymXAjwUGTDeeLHlTlE8aUiRzAR8439WdN+c43ElK+/UxhTCPtZPRJTH58ZuxkVUrpSFuNdmThUDIz9vRyCGMZOWmJxBQMpipw0p3KjF3+sC1PZfs5llglgmy+UUx9IsifPWVGnyWE48drNOUQ7oeRzmL0WWU5OpHx5DuNfMc2uvOt5EETvSLyamg/2bHbz1Tun2gSOqL9VCCWsC7C/RG2nzBRTGWbDo20n9FnEuF+SlXBLaFQrBJBOt9QRzfcqeCRzjeMoZKXh9GzzLDhTmVMI5fJjIollE8EFThokvlnKLkDOZq0KxFTNFlXsv1EO9mR25pTH0s+EUROqFL5BDHlIR3Rv+SvyIP3hK4IKmPk1sjo96mUiXS6lbjlEcofyGHDTJfvod6xhDWRiXQq0XvfUymZv0UWHsCjE2Ul20/0DLgSoic1lXzoGb1tNdJ+wluyUx9TeDxl8sfZ6Dqr5LEfFatEEL0PXwnRb+xU8kAONx3GMlTGb3ccr3B/hN9USlXwyinsTBKRTqWSUtH2U8HOxCPtJ/y2VSVlIu0neutxKiUjzyJT0WcqlW9OeTFLBJXf88ORDq4aGkMYy2AVJILowVNJYXOJdiqVNBxJSlXQpKuq/VTytl1UWDfDJWzT5TohilciqIozusrHMJ5qSJTVqJq+5lcNHdx41H7GVsr2U67bSTFLBNV7EImIHEu5km2sEkH0Hp2IyImkXCezsUoEuiIQkRNZuW4txyoRVPP9eRGRY9HD4hKohq+PiohMlh4Wl0A1fGtIRGSy9LC4BHRrSEROZHpYXAK6NSQiJ7KqflhsZjea2TYzazKze8aYXm9mjwbTXzGzCwum3RuM32ZmHy5FPOPRrSEROZGV62S26ERgZjXAA8BNwGXAHWZ2WWS2zwJd7n4x8A3g68GylwG3A5cDNwL/GKyvLKrpR55ERCaqmp8RXA00ufsud08CK4FbIvPcAjwSfH4M+KDl/v3TLcBKd0+4+26gKVhfWVTTTwWIiExUue5q1JZgHfOA5oLhFuCa8eZx97SZ9QBnB+Nfjiw7b6yNmNkKYAVAQ0MDa9asmXCg2YHEhJcREakWja+/wQX1Q5Pq/46mFIlgSrj7g8CDAEuXLvVly5ZNeB3LlsEdf/8UL+2v/K8kiohM1OVXvAPfv4nJ9H9HU4pbQ63AgoLh+cG4Mecxs1rgDKDjOJctqZroP6AVETlBVPPXR9cCi81skZnVkXv4uyoyzyrgzuDzbcDznvu3T6uA24NvFS0CFgOvliCmcdUoD4jICapcXx8t+tZQcM//buBpoAZ4yN03mdl9QKO7rwK+DXzPzJqATnLJgmC+HwKbgTTwOXcv630bJQIROVH1DaeoK8N/syrJMwJ3fxJ4MjLuSwWfh4FPjrPs14CvlSKO41ETqz+hE5GTyZ8/tp6//sDMkq83dt3iNF0RiMgJrBx3NWKXCPSwWEROZOW4qxHDRFDpCEREJk9XBCWgZwQiciKrKcP97dh1i7oiEJETma4ISkCJQEROZLVKBMUrx2XVRFXj8+o63TM7YYRNuBrbkZSfHhaXQBXkAU6Znvul7elVcHkSJsaZdWX79e/jFtZNmJRqgxG1Fay0cP/U1VbPoXJqXe7Pfyq5X0JhCOF7NcQU1lUYSyWPszBZ15ew/ZRjF1dP654iVdD3MjM4kKvh6iQ8WE6pgkRQOy3XHGdMz72HB08lOuFwv4QxzAySdzV0dGHSDvdXJYUxhPunlB3exGMJ6qwm0n4qcLV7RPupK137mVaGS8HKt6QpVslEUBNpHNVwIOevCKqgowtjqQ2vCGoqmAhqRl8JTM/HVPmzy+gZbyVvEUWvKOunV+6EYqT9BFcClTyRCNtPzehkNL1Kb8FWZ1RlFK2Hqez3wj9myyeCmspduoYHTfg+rYK3QGqjsdjo/VKZM7rRB3DY2U6fNnp4KttPuJ/qIklpegVOKGoit+3COpsRtJ+p3C/RxFgzbfRwZdp0mIRGJ8awzqrpVhrEMBGEDbauAmeb0fvNYWKIXhlMRdsY7/579KCaCnW1Y59tm1XwQK4ZnZzC3/kKzzKnT6uC9hM5A55K+ROJYNvhz6DVT5/621bhraCRW61hNOEJReUTZWh65MqgWp49VUcUUygs8PSaqWskYVuInvHmzzIjnU45Gke4LYuciUSfU9QdcVCVX30kMYYHctj5Ri+vp0L0TDeMaVqkzqay/YSda7Tjn8qH6iNXRkH7sWhHF15hlj2UkW3Wjtdmc3VWiZO+kfaTGw7/S270CxHVcquoOqKogPCe5lR0eOEBHHZ4iXRm1LanRx5uleNsalrkttRIuXPv2aClluNbDscSvU3lkYMmG4yYygP5yAdyo2Mr5cO/Y6mNXH0kUtlRMUbPMsvZpqMnCtFbZOE/V6+vnbpnBeF+CJ8phXUUXlFmPIxp6tt0/tokUiXhlVM1fGEEYpgIwgRcjifvUeHZ0ekzp+e2GVT6UDKXCMKzhPAAD7+5ky3D742HwjO4U+trR8WYSOc6l0x4IAcN9fQZ5ftvpuMdA9FkFcYW7qdyHtCzgv0SNo9kJux0R8cWdjLlq6mRJHP6zNHfMhvMt5/RCfLU+vJ1LuH+CNd9Sl3YfqYFseSmDwexhfspbD/lONyO1X7C6cOp0TGF30orh1ODYzjsX8J/JBOGGibSKun/82KXCMI2cOnc0wG47m3nAnDH1bn/mHnBWacAoxvu9Bpjzqy6cdd5WtDYP/bO85lmcNUFZwLwtvNOC9aZ+/3w91x0NgDLL8lt8zffeg4A55+Zmz5/dm7b4fIffcdcAN4x/4xxt33RnFO5LChLobAT+cDFc3LruiK3rnctnA3AuafPCLaZ2/a1b83N96HLzwPg3Rfm5rvonFkAXBKUJYzlk0vmjxtT6NzT6oGRRh8eJOG67vqNiwD4zbfm9sclQTnOCZZbNOdUAN4b7LdPLs1t85pgOJw+Z1Zu/nnBfhxrf4SWLAzLdeqoZRafmyvn0qDcN7/z/CC2XB29JdgP5wT7LSzD8qD9fOZ9FwJw3imjbwmEZp8yfdyYwo7p9ncvGBXjJXNz2wjbRVgnyy/JxXTDZQ0ALAimh2VZckFuvrDOw/WN5R3zz2Dh2aeMO/3qC88C4NYr541a13lnzBi1zWsXnxPEltsfYVsP28/bGnJluWLeGdROM256e66dHe12X7ju6Dfb3tqQW+en3rMQgGVvy2378vNHt5+FZ+fq+AMX56bf/M5cGd73llxbf8s5YfvJHdvnB2W6ZtFZ48YU1nvYXqLtJzy+fieoy/C4WhzEHMYWDl+7ODf9j5e9ZdR6ou3ntPoy/3t5dz/hXkuWLPHJeu755/17L+3xoWTaG/d0eDqT9Z1tfT6QSPkzmw56S9egr1rX6jsO9fqLOw773vYBP9gz5AOJlO/rGPBdh/t93b4uf3HHYV/f3O3Pbz3kzZ0Dvr6525PpjHf2J7x7MOnPbznkh/uG/Xsv7fHuwaQ/+uo+T6Qy/treTnd333KgxzOZrP9w7T4fTKT92/+xy7sHk/74ulbvG0757sP9ns5kfVNrjx/uG/ZnNx/0bQd7/dnNB31DS7dvaOn2R3/2nPcNp7x/OOV72vv9jX1dvqm1x5/eeMCb2vr82c0HvWsg4VsP9Ho6k/VtB3u9bzjljzU2e+9Q0r/5wk4fSqb9scZmz2Sy3tTW5+7ur+zq8KFk2le+utc7+hP+g1f2+qGeIf+P7Ye9ezDpnf0JT6Yzvm5fl+9p7/c129r89b2d/vLOdn9jX5fv6xjw5s4B7xvO7bN9HQO+eush39nW5z9+vcUPdA/5s5sP+lAy7fs6Bjydyfo/PvasDyXT/vCLu30omfZvvrDTE6mM/3zDAU9nst7WO+zZbNZ/ua3NuweS/qPGZm/uHPAn3mz15s4B39ja7d0DST/UM+Sd/Ql/fW+nb2jp9pd2tvuLTYd9Y2u3v7a3Mz9P92DS1zd3e2vXoD++rtX3dw/6o6/u856hpK/Z1ubZbG6bmUzWn1y/3xOpjH/zhZ0+mEj7d3+di/Hlne2ezmR9b/uADyXT/tyWg/7Yk8/540H7eWF7m+9p7/eWrkHvHUp6c+eA720f8Debu/zFpsP+ZnOXP7/lkO/rGPA39nV5Kp3xjv5EPobDfcP+/Zf3ePdA0v/1lb2eSGX8lV0d7u7e1NbnmUzWH2ts9qFk2r8VtJ8fv97ivUNJ33Go11PpjG890Osd/Ql/fssh336w15/ZlGs/bzZ3+e7D/T6QSOXr6c3mLt+8v8d/semg7zjU53/36DPe0Z/wja3dngmOk/7hlP/kjZZR7efRtfs8k8n61gO97u7+2t5OH07lxnf2J/xfg/azZlubdw0kvLM/4YlUxje0dPu+jgH/5bY2f2Nfl/+6qd1f39vpe9r7fW/7gA8kUt7aNej7Ogb8he1tvrOtz3/yRovv7x70pzce8KFk2ncG+2Ht7lyb/W5wbH/zhZ0+nEr7E2+2ejqT9R8/9Zxns1l/cUeuDT/W2Jw/1sOyd/Yn/HDfsHcPJv3N5i7f2DrSfja0dHvjng7v6E/4/u5cfW5q7fH93YP+xJut3tqVaz/dA0l/bstBz2Syfrgv135+semgJ9Mj7ec7v9rlg4m0/2rHYU+lM97SNejDqbSv3nrID3QPBe2nz1dvPeS7Dvf7vo4B7x5M+v7uQW/uHPDVq1dPuv8j918jj+hTK96pT+ZVTCIoZidWG5Wl+pws5XBXWapVORJBUbeGzOwsM3vGzHYE70dcg5rZlWb2kpltMrP1Zva7BdMeNrPdZrYueF1ZTDwiIjJxxT4juAd4zt0XA88Fw1GDwO+7++XAjcD/NrMzC6b/ubtfGbzWFRmPiIhMULGJ4BbgkeDzI8Ct0Rncfbu77wg+7wfagHOK3K6IiJSIeRFfVTSzbnc/M/hsQFc4PM78V5NLGJe7e9bMHgbeCyQIrijcPTHOsiuAFQANDQ1LVq5cOamY+/v7mTVr1qSWrTYqS/U5WcoBKku1KqYsy5cvf83dlx4xYawHB4Uv4Flg4xivW4DuyLxdR1nPXGAb8J7IOAPqySWILx0rHtfD4jyVpfqcLOVwV1mqVTkeFh/zy6nufv1408zskJnNdfcDZjaX3G2fseY7HfgZ8EV3f7lg3QeCjwkz+w7w344Vj4iIlFaxzwhWAaAckNgAAAn1SURBVHcGn+8EHo/OYGZ1wI+B77r7Y5Fpc4N3I/d8YWOR8YiIyAQVmwjuB24wsx3A9cEwZrbUzL4VzPM7wLXAZ8b4mui/mNkGYAMwB/hqkfGIiMgEFfV3y+7eAXxwjPGNwF3B5+8D3x9n+euK2b6IiBQvdr81JCIioykRiIjEnBKBiEjMKRGIiMScEoGISMwpEYiIxJwSgYhIzCkRiIjEnBKBiEjMKRGIiMScEoGISMwpEYiIxJwSgYhIzCkRiIjEnBKBiEjMKRGIiMScEoGISMwpEYiIxFxRicDMzjKzZ8xsR/A+e5z5MgX/r3hVwfhFZvaKmTWZ2aPBP7oXEZEpVOwVwT3Ac+6+GHguGB7LkLtfGbxuLhj/deAb7n4x0AV8tsh4RERkgopNBLcAjwSfHwFuPd4FzcyA64DHJrO8iIiUhrn75Bc263b3M4PPBnSFw5H50sA6IA3c7+4/MbM5wMvB1QBmtgD4ubu/fZxtrQBWADQ0NCxZuXLlpGLu7+9n1qxZk1q22qgs1edkKQeoLNWqmLIsX778NXdfesQEdz/qC3gW2DjG6xagOzJv1zjrmBe8XwTsAd4CzAGaCuZZAGw8VjzuzpIlS3yyVq9ePellq43KUn1OlnK4qyzVqpiyAI0+Rp9ae6wM4u7XjzfNzA6Z2Vx3P2Bmc4G2cdbRGrzvMrM1wFXAvwFnmlmtu6eB+UDrseIREZHSKvYZwSrgzuDzncDj0RnMbLaZ1Qef5wDvBzYH2Wk1cNvRlhcRkfIqNhHcD9xgZjuA64NhzGypmX0rmOdSoNHM3iTX8d/v7puDaV8APm9mTcDZwLeLjEdERCbomLeGjsbdO4APjjG+Ebgr+Pxr4Ipxlt8FXF1MDCIiUhz9ZbGISMwpEYiIxJwSgYhIzCkRiIjEnBKBiEjMKRGIiMScEoGISMwpEYiIxJwSgYhIzCkRiIjEnBKBiEjMKRGIiMScEoGISMwpEYiIxJwSgYhIzCkRiIjEnBKBiEjMKRGIiMRcUYnAzM4ys2fMbEfwPnuMeZab2bqC17CZ3RpMe9jMdhdMu7KYeEREZOKKvSK4B3jO3RcDzwXDo7j7ane/0t2vBK4DBoFfFMzy5+F0d19XZDwiIjJBxSaCW4BHgs+PALceY/7bgJ+7+2CR2xURkRIpNhE0uPuB4PNBoOEY898O/CAy7mtmtt7MvmFm9UXGIyIiE2TufvQZzJ4Fzhtj0heBR9z9zIJ5u9z9iOcEwbS5wHrgfHdPFYw7CNQBDwI73f2+cZZfAawAaGhoWLJy5cpjFG1s/f39zJo1a1LLVhuVpfqcLOUAlaVaFVOW5cuXv+buS4+Y4O6TfgHbgLnB57nAtqPM+1+BB48yfRnw0+PZ7pIlS3yyVq9ePellq43KUn1OlnK4qyzVqpiyAI0+Rp9a7K2hVcCdwec7gcePMu8dRG4LBVcEmJmRe76wsch4RERkgopNBPcDN5jZDuD6YBgzW2pm3wpnMrMLgQXALyPL/4uZbQA2AHOArxYZj4iITFBtMQu7ewfwwTHGNwJ3FQzvAeaNMd91xWxfRESKp78sFhGJOSUCEZGYUyIQEYk5JQIRkZhTIhARiTklAhGRmFMiEBGJOSUCEZGYUyIQEYk5JQIRkZhTIhARiTklAhGRmFMiEBGJOSUCEZGYUyIQEYk5JQIRkZhTIhARiTklAhGRmFMiEBGJuaISgZl90sw2mVnWzJYeZb4bzWybmTWZ2T0F4xeZ2SvB+EfNrK6YeEREZOKKvSLYCHwceGG8GcysBngAuAm4DLjDzC4LJn8d+Ia7Xwx0AZ8tMh4REZmgohKBu29x923HmO1qoMndd7l7ElgJ3GJmBlwHPBbM9whwazHxiIjIxNVOwTbmAc0Fwy3ANcDZQLe7pwvGzxtvJWa2AlgRDPab2bES0HjmAO2TXLbaqCzV52QpB6gs1aqYsiwca+QxE4GZPQucN8akL7r745MMZsLc/UHgwWLXY2aN7j7u84wTicpSfU6WcoDKUq3KUZZjJgJ3v77IbbQCCwqG5wfjOoAzzaw2uCoIx4uIyBSaiq+PrgUWB98QqgNuB1a5uwOrgduC+e4EpuwKQ0REcor9+uhvm1kL8F7gZ2b2dDD+fDN7EiA4278beBrYAvzQ3TcFq/gC8HkzayL3zODbxcRznIq+vVRFVJbqc7KUA1SWalXysljuxFxEROJKf1ksIhJzSgQiIjF3UiWC8X7KomB6ffBTFk3BT1tcWDDt3mD8NjP78FTGHTXZcpjZhWY2ZGbrgtc/TXXsUcdRlmvN7HUzS5vZbZFpd5rZjuB159RFPbYiy5IpqJdVUxf12I6jLJ83s81mtt7MnjOzhQXTqqZeiizHiVYn/9nMNgTx/qrgFxqK77/c/aR4ATXATuAioA54E7gsMs9/Af4p+Hw78Gjw+bJg/npgUbCemhOwHBcCGytdFxMsy4XAO4DvArcVjD8L2BW8zw4+zz4RyxJM6690fUywLMuBU4LPf1zQxqqmXoopxwlaJ6cXfL4ZeCr4XHT/dTJdEYz5UxaReW4h91MWkPtpiw8GP3VxC7DS3RPuvhtoCtZXCcWUo9ocsyzuvsfd1wPZyLIfBp5x90537wKeAW6ciqDHUUxZqs3xlGW1uw8Ggy+T+zsfqK56KaYc1eZ4ytJbMHgqEH7Tp+j+62RKBGP9lEX0Jyvy83jua6095L62ejzLTpViygGwyMzeMLNfmtlvlDvYYyhmv1ZTnUDx8cwws0Yze9nMKv2bWhMty2eBn09y2XIqphxwAtaJmX3OzHYCfwP86USWPZqp+K0hmToHgAvcvcPMlgA/MbPLI2cSUhkL3b3VzC4CnjezDe6+s9JBHYuZfQpYCvxmpWMpxjjlOOHqxN0fAB4ws/8E/AW5P8Qt2sl0RTDeT1mMOY+Z1QJnkPupi+NZdqpMuhzBpWEHgLu/Ru5e4VvLHvH4itmv1VQnUGQ87t4avO8C1gBXlTK4CTquspjZ9cAXgZvdPTGRZadIMeU4IeukwEpGfq25+Dqp9EOSEj5sqSX34GoRIw9bLo/M8zlGP2T9YfD5ckY/bNlF5R4WF1OOc8K4yT10agXOquY6KZj3YY58WLyb3APJ2cHnE7Uss4H64PMcYAeRB4HVVhZyneJOYHFkfNXUS5HlOBHrZHHB548BjcHnovuvihS6jDvzI8D2oOK/GIy7j9yZAMAM4EfkHqa8ClxUsOwXg+W2ATediOUAPgFsAtYBrwMfOwHq5N3k7mkOkLs621Sw7B8GZWwC/uBELQvwPmBDcLBuAD57ApTlWeBQ0JbWkft9sKqrl8mW4wStk/9TcHyvpiBRFNt/6ScmRERi7mR6RiAiIpOgRCAiEnNKBCIiMadEICISc0oEIiIxp0QgIhJzSgQiIjH3/wETBzejVf1TlwAAAABJRU5ErkJggg==\n",
                "text/plain": "<Figure size 432x288 with 1 Axes>"
              }
            ],
            "_view_module": "@jupyter-widgets/output",
            "_model_module_version": "1.0.0",
            "_view_count": null,
            "_view_module_version": "1.0.0",
            "layout": "IPY_MODEL_a98ba4f37d0446e282b514377555fc28",
            "_model_module": "@jupyter-widgets/output"
          }
        },
        "20ad5692ea3445b3b326c397604a060a": {
          "model_module": "@jupyter-widgets/output",
          "model_name": "OutputModel",
          "state": {
            "_view_name": "OutputView",
            "msg_id": "",
            "_dom_classes": [],
            "_model_name": "OutputModel",
            "outputs": [
              {
                "output_type": "stream",
                "metadata": {
                  "tags": []
                },
                "text": "Warning: playing normalized sound\n",
                "stream": "stdout"
              },
              {
                "output_type": "display_data",
                "metadata": {
                  "tags": []
                },
                "text/html": "\n                <audio controls=\"controls\" autoplay=\"autoplay\">\n                    <source src=\"data:audio/wav;base64,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\" type=\"audio/wav\" />\n                    Your browser does not support the audio element.\n                </audio>\n              ",
                "text/plain": "<IPython.lib.display.Audio object>"
              }
            ],
            "_view_module": "@jupyter-widgets/output",
            "_model_module_version": "1.0.0",
            "_view_count": null,
            "_view_module_version": "1.0.0",
            "layout": "IPY_MODEL_aa97f3ed7fe24b2281b3768f40902e2a",
            "_model_module": "@jupyter-widgets/output"
          }
        },
        "a5f71ac66e854cb5969fa53aec3d1f81": {
          "model_module": "@jupyter-widgets/controls",
          "model_name": "SliderStyleModel",
          "state": {
            "_view_name": "StyleView",
            "handle_color": null,
            "_model_name": "SliderStyleModel",
            "description_width": "",
            "_view_module": "@jupyter-widgets/base",
            "_model_module_version": "1.5.0",
            "_view_count": null,
            "_view_module_version": "1.2.0",
            "_model_module": "@jupyter-widgets/controls"
          }
        },
        "3f6a2fe7ed574ad48243c5dac483e381": {
          "model_module": "@jupyter-widgets/base",
          "model_name": "LayoutModel",
          "state": {
            "_view_name": "LayoutView",
            "grid_template_rows": null,
            "right": null,
            "justify_content": null,
            "_view_module": "@jupyter-widgets/base",
            "overflow": null,
            "_model_module_version": "1.2.0",
            "_view_count": null,
            "flex_flow": null,
            "width": null,
            "min_width": null,
            "border": null,
            "align_items": null,
            "bottom": null,
            "_model_module": "@jupyter-widgets/base",
            "top": null,
            "grid_column": null,
            "overflow_y": null,
            "overflow_x": null,
            "grid_auto_flow": null,
            "grid_area": null,
            "grid_template_columns": null,
            "flex": null,
            "_model_name": "LayoutModel",
            "justify_items": null,
            "grid_row": null,
            "max_height": null,
            "align_content": null,
            "visibility": null,
            "align_self": null,
            "height": null,
            "min_height": null,
            "padding": null,
            "grid_auto_rows": null,
            "grid_gap": null,
            "max_width": null,
            "order": null,
            "_view_module_version": "1.2.0",
            "grid_template_areas": null,
            "object_position": null,
            "object_fit": null,
            "grid_auto_columns": null,
            "margin": null,
            "display": null,
            "left": null
          }
        },
        "25e9b5ffc41744dfb05518e764bc920e": {
          "model_module": "@jupyter-widgets/controls",
          "model_name": "SliderStyleModel",
          "state": {
            "_view_name": "StyleView",
            "handle_color": null,
            "_model_name": "SliderStyleModel",
            "description_width": "",
            "_view_module": "@jupyter-widgets/base",
            "_model_module_version": "1.5.0",
            "_view_count": null,
            "_view_module_version": "1.2.0",
            "_model_module": "@jupyter-widgets/controls"
          }
        },
        "a857e8615b204bffb336ca7472aa60b1": {
          "model_module": "@jupyter-widgets/base",
          "model_name": "LayoutModel",
          "state": {
            "_view_name": "LayoutView",
            "grid_template_rows": null,
            "right": null,
            "justify_content": null,
            "_view_module": "@jupyter-widgets/base",
            "overflow": null,
            "_model_module_version": "1.2.0",
            "_view_count": null,
            "flex_flow": null,
            "width": null,
            "min_width": null,
            "border": null,
            "align_items": null,
            "bottom": null,
            "_model_module": "@jupyter-widgets/base",
            "top": null,
            "grid_column": null,
            "overflow_y": null,
            "overflow_x": null,
            "grid_auto_flow": null,
            "grid_area": null,
            "grid_template_columns": null,
            "flex": null,
            "_model_name": "LayoutModel",
            "justify_items": null,
            "grid_row": null,
            "max_height": null,
            "align_content": null,
            "visibility": null,
            "align_self": null,
            "height": null,
            "min_height": null,
            "padding": null,
            "grid_auto_rows": null,
            "grid_gap": null,
            "max_width": null,
            "order": null,
            "_view_module_version": "1.2.0",
            "grid_template_areas": null,
            "object_position": null,
            "object_fit": null,
            "grid_auto_columns": null,
            "margin": null,
            "display": null,
            "left": null
          }
        },
        "09dd52e47ab84e24a3de38261a1ab11b": {
          "model_module": "@jupyter-widgets/controls",
          "model_name": "SliderStyleModel",
          "state": {
            "_view_name": "StyleView",
            "handle_color": null,
            "_model_name": "SliderStyleModel",
            "description_width": "",
            "_view_module": "@jupyter-widgets/base",
            "_model_module_version": "1.5.0",
            "_view_count": null,
            "_view_module_version": "1.2.0",
            "_model_module": "@jupyter-widgets/controls"
          }
        },
        "9d08b95618154a038142462f0ff99f78": {
          "model_module": "@jupyter-widgets/base",
          "model_name": "LayoutModel",
          "state": {
            "_view_name": "LayoutView",
            "grid_template_rows": null,
            "right": null,
            "justify_content": null,
            "_view_module": "@jupyter-widgets/base",
            "overflow": null,
            "_model_module_version": "1.2.0",
            "_view_count": null,
            "flex_flow": null,
            "width": null,
            "min_width": null,
            "border": null,
            "align_items": null,
            "bottom": null,
            "_model_module": "@jupyter-widgets/base",
            "top": null,
            "grid_column": null,
            "overflow_y": null,
            "overflow_x": null,
            "grid_auto_flow": null,
            "grid_area": null,
            "grid_template_columns": null,
            "flex": null,
            "_model_name": "LayoutModel",
            "justify_items": null,
            "grid_row": null,
            "max_height": null,
            "align_content": null,
            "visibility": null,
            "align_self": null,
            "height": null,
            "min_height": null,
            "padding": null,
            "grid_auto_rows": null,
            "grid_gap": null,
            "max_width": null,
            "order": null,
            "_view_module_version": "1.2.0",
            "grid_template_areas": null,
            "object_position": null,
            "object_fit": null,
            "grid_auto_columns": null,
            "margin": null,
            "display": null,
            "left": null
          }
        },
        "a98ba4f37d0446e282b514377555fc28": {
          "model_module": "@jupyter-widgets/base",
          "model_name": "LayoutModel",
          "state": {
            "_view_name": "LayoutView",
            "grid_template_rows": null,
            "right": null,
            "justify_content": null,
            "_view_module": "@jupyter-widgets/base",
            "overflow": null,
            "_model_module_version": "1.2.0",
            "_view_count": null,
            "flex_flow": null,
            "width": null,
            "min_width": null,
            "border": null,
            "align_items": null,
            "bottom": null,
            "_model_module": "@jupyter-widgets/base",
            "top": null,
            "grid_column": null,
            "overflow_y": null,
            "overflow_x": null,
            "grid_auto_flow": null,
            "grid_area": null,
            "grid_template_columns": null,
            "flex": null,
            "_model_name": "LayoutModel",
            "justify_items": null,
            "grid_row": null,
            "max_height": null,
            "align_content": null,
            "visibility": null,
            "align_self": null,
            "height": null,
            "min_height": null,
            "padding": null,
            "grid_auto_rows": null,
            "grid_gap": null,
            "max_width": null,
            "order": null,
            "_view_module_version": "1.2.0",
            "grid_template_areas": null,
            "object_position": null,
            "object_fit": null,
            "grid_auto_columns": null,
            "margin": null,
            "display": null,
            "left": null
          }
        },
        "aa97f3ed7fe24b2281b3768f40902e2a": {
          "model_module": "@jupyter-widgets/base",
          "model_name": "LayoutModel",
          "state": {
            "_view_name": "LayoutView",
            "grid_template_rows": null,
            "right": null,
            "justify_content": null,
            "_view_module": "@jupyter-widgets/base",
            "overflow": null,
            "_model_module_version": "1.2.0",
            "_view_count": null,
            "flex_flow": null,
            "width": null,
            "min_width": null,
            "border": null,
            "align_items": null,
            "bottom": null,
            "_model_module": "@jupyter-widgets/base",
            "top": null,
            "grid_column": null,
            "overflow_y": null,
            "overflow_x": null,
            "grid_auto_flow": null,
            "grid_area": null,
            "grid_template_columns": null,
            "flex": null,
            "_model_name": "LayoutModel",
            "justify_items": null,
            "grid_row": null,
            "max_height": null,
            "align_content": null,
            "visibility": null,
            "align_self": null,
            "height": null,
            "min_height": null,
            "padding": null,
            "grid_auto_rows": null,
            "grid_gap": null,
            "max_width": null,
            "order": null,
            "_view_module_version": "1.2.0",
            "grid_template_areas": null,
            "object_position": null,
            "object_fit": null,
            "grid_auto_columns": null,
            "margin": null,
            "display": null,
            "left": null
          }
        }
      }
    },
    "colab": {
      "name": "ipywidgets-mpl-inline.ipynb",
      "provenance": [],
      "toc_visible": true
    }
  },
  "cells": [
    {
      "cell_type": "markdown",
      "metadata": {
        "id": "ui8lwIrLCi8z"
      },
      "source": [
        "# Interactive plots in Jupyter notebooks with matplotlib and ipywidgets\n",
        "## PART I: matplotlib inline backend\n",
        "\n",
        "Author: DVC  \n",
        "Date: 01/12/2020   \n"
      ]
    },
    {
      "cell_type": "markdown",
      "metadata": {
        "id": "TjUHiKsECi84"
      },
      "source": [
        "### Using the inline backend with a GUI ?\n",
        "\n",
        "The matplotlib inline backend is described as a **non-GUI** backend.  So, why do we insist on using it with a (simple) GUI ?    \n",
        "- it is the most commonly used backend \n",
        "- it is probably the only backend that behaves consistently across platforms  \n",
        "- what works with the inline backend is almost guaranteed to work with any other backend\n",
        "- we often need something more fancy than just typing in cells as provided natively in our Jupyter notebooks\n",
        "\n",
        "What are the opportunities and limitations with the inline backend ?  \n",
        "- the basic (ipy)widgets work fine in the inline backend, creating some possibilities\n",
        "- figures are not accessible after being rendered hence they can not be manipulated\n",
        "- interactivity can only be simulated by redrawing the full figure after each change\n",
        "    + this is not an issue with slow updates of the controls\n",
        "    + visual glitches from the clear-and-redraw cycle are inevitable\n",
        "    + computational load quickly increases for complex applications\n",
        "    + be aware that a figure is NOT closed after rendering"
      ]
    },
    {
      "cell_type": "code",
      "metadata": {
        "id": "T1MJQGZuCi84"
      },
      "source": [
        "%matplotlib inline"
      ],
      "execution_count": 6,
      "outputs": []
    },
    {
      "cell_type": "code",
      "metadata": {
        "id": "KE_Ktv3HCi85"
      },
      "source": [
        "import ipywidgets as widgets\n",
        "from ipywidgets import interact, interact_manual, interactive\n",
        "import numpy as np\n",
        "import matplotlib.pyplot as plt\n",
        "from scipy import signal\n",
        "import IPython.display as ipd"
      ],
      "execution_count": 7,
      "outputs": []
    },
    {
      "cell_type": "code",
      "metadata": {
        "id": "rbUtkaHHCi85"
      },
      "source": [
        "# any of these could be useful during debugging, but not needed if all is running fine\n",
        "#\n",
        "#%matplotlib --list\n",
        "#ipd.set_matplotlib_close(close=True)\n",
        "#plt.close('all')"
      ],
      "execution_count": null,
      "outputs": []
    },
    {
      "cell_type": "markdown",
      "metadata": {
        "id": "dCYKwOvMCi85"
      },
      "source": [
        "# 1. Updating Figures using a CLEAR-PLOT cycle\n",
        "### 1.1 Using interact() for the most simple interfaces"
      ]
    },
    {
      "cell_type": "code",
      "metadata": {
        "id": "COr3eZMMCi86"
      },
      "source": [
        "plt.close('all')\n",
        "def my_sine(x, w, amp, phi):\n",
        "    return amp*np.sin(w * (x-phi))\n",
        "#\n",
        "def synth(type='sin', freq=200.0, Fs=8000, Tmax=0.5):\n",
        "    t = np.linspace(0.0, Tmax, int(Tmax*Fs), endpoint=False)\n",
        "    if type == 'sin':\n",
        "        x = np.sin(2.0*np.pi*freq*t)\n",
        "    elif type == 'square':\n",
        "        x = signal.square(2.0*np.pi*freq*t)\n",
        "    elif type == 'sawtooth':\n",
        "        x = signal.sawtooth(2.0*np.pi*freq*t)\n",
        "    else:\n",
        "        print( 'signal: Unrecognized signal type')\n",
        "    return x, t"
      ],
      "execution_count": 8,
      "outputs": []
    },
    {
      "cell_type": "code",
      "metadata": {
        "id": "UrUt1SU0Ci86",
        "outputId": "404c9ba9-e657-4d58-cf42-fcac8b6c47fd",
        "colab": {
          "base_uri": "https://localhost:8080/",
          "height": 382,
          "referenced_widgets": [
            "4ebf9d3752f54fe69ca5070e882db567",
            "f2422aa46f10486298d1a9b1619e4a58",
            "0d7b463ad9374d528bc44cf0c46f92f6",
            "e5376e28729f466b82f4cc4c2407ffa2",
            "d81d2896ac164492ac05a2201b2a9690",
            "974f92259c9945a5bebcf99c08219dfa",
            "5439912b576a4d048c843d7e7ed27c9b",
            "8708427bccd3472a8f701c6d2b589e7c",
            "85ce00d3bcf54224a1a93784c410f623",
            "49bd4cddccf445938b9d56ac55e13f34",
            "76a20fb5ce4e4559a61b83d51a007d28",
            "21af89be3d4b4983be6b6b5d0c801cff",
            "73d277299b7a47aebca607e44b9b1b4d"
          ]
        }
      },
      "source": [
        "# Methodology:\n",
        "# ============\n",
        "#  1. Create the Figure\n",
        "#  2. Use interact() for the interactive Loop:\n",
        "#       (a) CLEAR FIGURE\n",
        "#       (b) PLOT AGAIN with each interaction\n",
        "#\n",
        "# REMARK: \n",
        "#   AVOID following loop construction:\n",
        "#      (a) create a figure\n",
        "#      (b) draw to the figure\n",
        "#   At first sight it behaves the same, but a new figure is created each time\n",
        "#   and after some time you will run out of available figures as they are not closed automatically\n",
        "\n",
        "x = np.linspace(0, 2 * np.pi, 100)\n",
        "fig = plt.figure(figsize=(3,3))\n",
        "\n",
        "@interact(w=(0, 10, 1), amp=(0, 4, .1), phi=(0, 2*np.pi, 0.01))\n",
        "def update(w = 1.0, amp=1, phi=0):\n",
        "    # clear the figure and start over\n",
        "    plt.clf()\n",
        "    plt.plot(x, my_sine(x, w, amp, phi), color='C0')\n",
        "    plt.ylim([-4, 4])\n",
        "    plt.grid(True)"
      ],
      "execution_count": 9,
      "outputs": [
        {
          "output_type": "display_data",
          "data": {
            "text/plain": [
              "<Figure size 216x216 with 0 Axes>"
            ]
          },
          "metadata": {
            "tags": []
          }
        },
        {
          "output_type": "display_data",
          "data": {
            "application/vnd.jupyter.widget-view+json": {
              "model_id": "4ebf9d3752f54fe69ca5070e882db567",
              "version_minor": 0,
              "version_major": 2
            },
            "text/plain": [
              "interactive(children=(IntSlider(value=1, description='w', max=10), FloatSlider(value=1.0, description='amp', m…"
            ]
          },
          "metadata": {
            "tags": []
          }
        }
      ]
    },
    {
      "cell_type": "markdown",
      "metadata": {
        "id": "C6MMpnI2Ci87"
      },
      "source": [
        "### Using interactive_output() for more control over the layout "
      ]
    },
    {
      "cell_type": "code",
      "metadata": {
        "id": "kTpCZWpDCi87",
        "outputId": "fe14c743-5f9c-4253-b079-7c1e918f5cea",
        "colab": {
          "base_uri": "https://localhost:8080/",
          "height": 362,
          "referenced_widgets": [
            "c004928212d24be7ac55b090058c3e0d",
            "5aa354891a59412bae53b3b95dcb3b9f",
            "ca6ac2e1b04442e2b139a8fbb1edc24c",
            "b8724eb556934ccaa672b87177cf78d4",
            "e8a1c3235c604b54b3d423205571ebfd",
            "5b0ae87a40594eaa991a9453f9524b02",
            "9cd78169eada43eb9fdb4d433bb42470",
            "a3832009d32f41deb4950a8ac30620ab",
            "a8475bebbd7541d085b371602f0a9953",
            "20ad5692ea3445b3b326c397604a060a",
            "a5f71ac66e854cb5969fa53aec3d1f81",
            "3f6a2fe7ed574ad48243c5dac483e381",
            "25e9b5ffc41744dfb05518e764bc920e",
            "a857e8615b204bffb336ca7472aa60b1",
            "09dd52e47ab84e24a3de38261a1ab11b",
            "9d08b95618154a038142462f0ff99f78",
            "a98ba4f37d0446e282b514377555fc28",
            "aa97f3ed7fe24b2281b3768f40902e2a"
          ]
        }
      },
      "source": [
        "# create the sliders for interaction\n",
        "wg_amp = widgets.FloatSlider(value=0.5,step=0.05,max=1.0,description='Amplitude')\n",
        "wg_freq = widgets.FloatSlider(value=1.0,step=.1,min=200.0,max=1000.,description='Frequency')\n",
        "wg_Tmax = widgets.FloatSlider(value=0.4,step=0.1,min=0.1,max=1.0,description='Duration',\n",
        "                             continuous_update=False)\n",
        "box_layout = widgets.Layout(\n",
        "        border='solid 1px black',\n",
        "        margin='0px 10px 10px 0px',\n",
        "        padding='5px 5px 5px 5px'\n",
        "     )\n",
        "UI = widgets.HBox( [wg_amp, wg_freq, wg_Tmax] ,layout=box_layout)\n",
        "\n",
        "# create two output widgets, one for audio and one for plotting\n",
        "out_audio = widgets.Output()\n",
        "#out_plot = widgets.Output()\n",
        "#with out_plot:\n",
        "fig = plt.figure(figsize=(2,10))\n",
        "\n",
        "def sin_gui1(amp=1., freq=440.0, Fs=8000, Tmax=1.0):\n",
        "#    with out_plot:\n",
        "    plt.clf()\n",
        "    y,x = synth('sin',freq=freq,Tmax=Tmax)\n",
        "    y=amp*y\n",
        "    plt.plot(x, y, color='C0')\n",
        "    plt.ylim([-1, 1])\n",
        "    plt.grid(True)\n",
        "    with out_audio:\n",
        "        ipd.clear_output()\n",
        "        try:\n",
        "            ipd.display(ipd.Audio(data=y,rate=8000,normalize=False, autoplay=True))\n",
        "        except: \n",
        "            try:\n",
        "              print(\"Warning: playing normalized sound\")\n",
        "              ipd.display(ipd.Audio(data=y,rate=8000, autoplay=True))\n",
        "            except: pass\n",
        "           \n",
        "out_plot = widgets.interactive_output(sin_gui1, {'amp': wg_amp, 'freq': wg_freq, 'Tmax': wg_Tmax})\n",
        "\n",
        "Screen = widgets.HBox([ out_plot, out_audio], layout=box_layout)\n",
        "widgets.VBox([ UI, Screen ])"
      ],
      "execution_count": 27,
      "outputs": [
        {
          "output_type": "display_data",
          "data": {
            "text/plain": [
              "<Figure size 144x720 with 0 Axes>"
            ]
          },
          "metadata": {
            "tags": []
          }
        },
        {
          "output_type": "display_data",
          "data": {
            "application/vnd.jupyter.widget-view+json": {
              "model_id": "c004928212d24be7ac55b090058c3e0d",
              "version_minor": 0,
              "version_major": 2
            },
            "text/plain": [
              "VBox(children=(HBox(children=(FloatSlider(value=0.5, description='Amplitude', max=1.0, step=0.05), FloatSlider…"
            ]
          },
          "metadata": {
            "tags": []
          }
        }
      ]
    },
    {
      "cell_type": "code",
      "metadata": {
        "id": "XuStw8zwCi88",
        "outputId": "c2fa2400-324d-4604-cf73-61cd707d4920"
      },
      "source": [
        "out_plot.children"
      ],
      "execution_count": null,
      "outputs": [
        {
          "output_type": "error",
          "ename": "AttributeError",
          "evalue": "'Output' object has no attribute 'children'",
          "traceback": [
            "\u001b[1;31m---------------------------------------------------------------------------\u001b[0m",
            "\u001b[1;31mAttributeError\u001b[0m                            Traceback (most recent call last)",
            "\u001b[1;32m<ipython-input-33-1c0b6680d877>\u001b[0m in \u001b[0;36m<module>\u001b[1;34m\u001b[0m\n\u001b[1;32m----> 1\u001b[1;33m \u001b[0mout_plot\u001b[0m\u001b[1;33m.\u001b[0m\u001b[0mchildren\u001b[0m\u001b[1;33m\u001b[0m\u001b[1;33m\u001b[0m\u001b[0m\n\u001b[0m",
            "\u001b[1;31mAttributeError\u001b[0m: 'Output' object has no attribute 'children'"
          ]
        }
      ]
    },
    {
      "cell_type": "code",
      "metadata": {
        "id": "gKVQBOTaCi88",
        "outputId": "10da4fdb-cf99-4c9c-c7de-3f978c7d7127"
      },
      "source": [
        "fig.show()"
      ],
      "execution_count": null,
      "outputs": [
        {
          "output_type": "stream",
          "text": [
            "<ipython-input-7-6ebedab27258>:1: UserWarning: Matplotlib is currently using module://ipykernel.pylab.backend_inline, which is a non-GUI backend, so cannot show the figure.\n",
            "  fig.show()\n"
          ],
          "name": "stderr"
        }
      ]
    },
    {
      "cell_type": "code",
      "metadata": {
        "id": "czwmIgvoCi88",
        "outputId": "648aa35a-ab21-49f8-cf63-ab53af0004ce",
        "colab": {
          "referenced_widgets": [
            "a196c20028c947cbbba12d6415063735"
          ]
        }
      },
      "source": [
        "# Method 2: CLEAR selected axes and redraw with each operation (use OO API)\n",
        "# BACKENDS: NOT for INLINE !\n",
        "def my_sine(x, w, amp, phi):\n",
        "    return amp*np.sin(w * (x-phi))\n",
        "#\n",
        "x = np.linspace(0, 2 * np.pi, 100)\n",
        "fig, ax = plt.subplots(figsize=(3, 3))\n",
        "\n",
        "@interact(w=(0, 10, 1), amp=(0, 4, .1), phi=(0, 2*np.pi, 0.01))\n",
        "def update(w = 1.0, amp=1, phi=0):\n",
        "    plt.cla()\n",
        "    ax.plot(x, my_sine(x, w, amp, phi), color='C0')\n",
        "    ax.set_ylim([-4, 4])\n",
        "    ax.grid(True)"
      ],
      "execution_count": null,
      "outputs": [
        {
          "output_type": "display_data",
          "data": {
            "image/png": "[encoded data removed]",
            "text/plain": [
              "<Figure size 216x216 with 1 Axes>"
            ]
          },
          "metadata": {
            "tags": [],
            "needs_background": "light"
          }
        },
        {
          "output_type": "display_data",
          "data": {
            "application/vnd.jupyter.widget-view+json": {
              "model_id": "a196c20028c947cbbba12d6415063735",
              "version_major": 2,
              "version_minor": 0
            },
            "text/plain": [
              "interactive(children=(IntSlider(value=1, description='w', max=10), FloatSlider(value=1.0, description='amp', m…"
            ]
          },
          "metadata": {
            "tags": []
          }
        }
      ]
    },
    {
      "cell_type": "code",
      "metadata": {
        "id": "mjt9p1pECi88",
        "outputId": "65a005df-923e-4b4a-eaae-e258c546086a",
        "colab": {
          "referenced_widgets": [
            "109f53eebf894e38aced29f69e7b6be0"
          ]
        }
      },
      "source": [
        "# Method 3: Only update line data inside existing axis\n",
        "# BACKENDS: NOT for INLINE !\n",
        "# \n",
        "\n",
        "def my_sine(x, w, amp, phi):\n",
        "    return amp*np.sin(w * (x-phi))\n",
        "#\n",
        "x = np.linspace(0, 2 * np.pi, 100)\n",
        "fig, ax = plt.subplots(figsize=(4, 4))\n",
        "ax.set_ylim([-4, 4])\n",
        "ax.grid(True)\n",
        "\n",
        "@interact(w=(0, 10, 1), amp=(0, 4, .1), phi=(0, 2*np.pi, 0.01))\n",
        "def update(w = 1.0, amp=1, phi=0):\n",
        "    \"\"\"Remove old lines from plot and plot new one\"\"\"\n",
        "    [l.remove() for l in ax.lines]\n",
        "    ax.plot(x, my_sine(x, w, amp, phi), color='C0')"
      ],
      "execution_count": null,
      "outputs": [
        {
          "output_type": "display_data",
          "data": {
            "image/png": "[encoded data removed]",
            "text/plain": [
              "<Figure size 288x288 with 1 Axes>"
            ]
          },
          "metadata": {
            "tags": [],
            "needs_background": "light"
          }
        },
        {
          "output_type": "display_data",
          "data": {
            "application/vnd.jupyter.widget-view+json": {
              "model_id": "109f53eebf894e38aced29f69e7b6be0",
              "version_major": 2,
              "version_minor": 0
            },
            "text/plain": [
              "interactive(children=(IntSlider(value=1, description='w', max=10), FloatSlider(value=1.0, description='amp', m…"
            ]
          },
          "metadata": {
            "tags": []
          }
        }
      ]
    },
    {
      "cell_type": "markdown",
      "metadata": {
        "id": "H5l4JBvQCi89"
      },
      "source": [
        "## Updating the plot line data"
      ]
    },
    {
      "cell_type": "code",
      "metadata": {
        "id": "jNMrkDfJCi89",
        "outputId": "297fa754-3586-45ff-8a0f-396e87d2cb75",
        "colab": {
          "referenced_widgets": [
            "42278a5ec6054f2f9fd6b527a8d8a6e4"
          ]
        }
      },
      "source": [
        "# Method 3b: maintain the figure and just refresh the changed data\n",
        "#    1) create a figure  \n",
        "#    2)  just update the y_data if you may assume that the x_data hasn't changed; \n",
        "#          between calls \n",
        "#\n",
        "# BACKENDS: all, except 'inline'  \n",
        "# \n",
        "\n",
        "def my_sine(x, w, amp, phi):\n",
        "    \"\"\"\n",
        "    Return a sine for x with angular frequeny w and amplitude amp.\n",
        "    \"\"\"\n",
        "    return amp*np.sin(w * (x-phi))\n",
        "x = np.linspace(0, 2 * np.pi, 100)\n",
        "\n",
        "#\n",
        "fig, ax = plt.subplots(figsize=(4, 4))\n",
        "ax.set_ylim([-4, 4])\n",
        "ax.grid(True)\n",
        "line, = ax.plot(x, my_sine(x, 0,0,0), color='C0')\n",
        "\n",
        "@interact(w=(0, 10, 1), amp=(0, 4, .1), phi=(0, 2*np.pi+0.01, 0.01))\n",
        "def update(w = 1.0, amp=1, phi=0):\n",
        "    \"\"\"change the ydata values \"\"\"\n",
        "    line.set_ydata( my_sine(x, w, amp, phi) )\n",
        "    fig.canvas.draw()\n",
        "    # fig.canvas.flush_events()"
      ],
      "execution_count": null,
      "outputs": [
        {
          "output_type": "display_data",
          "data": {
            "image/png": "[encoded data removed]",
            "text/plain": [
              "<Figure size 288x288 with 1 Axes>"
            ]
          },
          "metadata": {
            "tags": [],
            "needs_background": "light"
          }
        },
        {
          "output_type": "display_data",
          "data": {
            "application/vnd.jupyter.widget-view+json": {
              "model_id": "42278a5ec6054f2f9fd6b527a8d8a6e4",
              "version_major": 2,
              "version_minor": 0
            },
            "text/plain": [
              "interactive(children=(IntSlider(value=1, description='w', max=10), FloatSlider(value=1.0, description='amp', m…"
            ]
          },
          "metadata": {
            "tags": []
          }
        }
      ]
    },
    {
      "cell_type": "code",
      "metadata": {
        "id": "sjANg_FoCi89",
        "outputId": "5aabff3a-e85f-431c-fdfc-577b12e1468c",
        "colab": {
          "referenced_widgets": [
            "6bcf960c51d04c048e1a7e7c2f1a33c0",
            "1d78bd82210648d18c8f04348b9d521d"
          ]
        }
      },
      "source": [
        "# a simple audio signal generator\n",
        "# with control for type amplitude, phase ... \n",
        "#\n",
        "# the audio is immediately generated and rendered\n",
        "#   continuous update are used for frequency and amplitude\n",
        "#   continuous_update=False is used for the duration widget\n",
        "# !! setting continuous_update is the only 'easy' control over frequency of update with interact()\n",
        "# !! more complex asynchronous implementations are suggested on the ipywidgets doc pages\n",
        "# !! under 'debouncing' and 'throttling' .. but this complicates the code significantly\n",
        "# https://ipywidgets.readthedocs.io/en/latest/examples/Widget%20Events.html?highlight=continuous_update#Continuous-updates\n",
        "# !! these solutions are not applicable to interact(), but require .observe() instead, see later\n",
        "#\n",
        "# as the x-axis needs to be modified with the duration\n",
        "#  it is more appropriate to do full redraws at every iteration\n",
        "#\n",
        "# BACKENDS: all\n",
        "#\n",
        "samplerate=8000\n",
        "def generate(type='sin', freq=200.0, Fs=samplerate, Tmax=0.5):\n",
        "    t = np.linspace(0.0, Tmax, int(Tmax*Fs), endpoint=False)\n",
        "    if type == 'sin':\n",
        "        x = np.sin(2.0*np.pi*freq*t)\n",
        "    elif type == 'square':\n",
        "        x = signal.square(2.0*np.pi*freq*t)\n",
        "    elif type == 'sawtooth':\n",
        "        x = signal.sawtooth(2.0*np.pi*freq*t)\n",
        "    else:\n",
        "        print( 'signal: Unrecognized signal type')\n",
        "    return x, t\n",
        "\n",
        "signal_types = [ 'sin', 'square', 'sawtooth' ]\n",
        "# alternative to Dropdown is to use RadioButtons\n",
        "wg_signal = widgets.Dropdown(options=signal_types,\n",
        "                             value='sin',description=\"Signal\")\n",
        "wg_amp = widgets.FloatSlider(value=0.5,step=0.05,max=1.0,description='Amplitude')\n",
        "wg_freq = widgets.FloatSlider(value=200.0,step=5.0,min=50.0,max=500.0,description='Frequency')\n",
        "wg_Tmax = widgets.FloatSlider(value=0.4,step=0.1,min=0.1,max=2.0,description='Duration',\n",
        "                             continuous_update=False)\n",
        "#wg_check = widgets.Checkbox(description='Display Play Button',value=True)\n",
        "wg_audio = widgets.Output()\n",
        "wg_plot = widgets.Output()\n",
        "with wg_plot:\n",
        "    fig = plt.figure(figsize=(5,4))\n",
        "first_time = True\n",
        "\n",
        "# in this example we use interact and full replotting\n",
        "# this seems to work well with ALL backends\n",
        "\n",
        "@interact(t=wg_signal,f=wg_freq,A=wg_amp,T=wg_Tmax)\n",
        "def plot_fn(t,f,A,T):\n",
        "    global first_time\n",
        "    x1, t1 = generate(freq=f,type=t,Tmax=T)\n",
        "    y1=A*x1\n",
        "    with wg_plot:\n",
        "        plt.cla()\n",
        "        plt.plot(t1,y1)\n",
        "        plt.ylim(-1,1)\n",
        "    with wg_audio:\n",
        "        ipd.clear_output()\n",
        "        ipd.display(ipd.Audio(data=y1,rate=samplerate,normalize=False, autoplay=True))\n",
        "    return\n",
        "\n",
        "#widgets.HBox( [widgets.VBox([wg_signal,wg_freq,wg_amp,wg_Tmax]),widgets.VBox([wg_plot,wg_audio])])\n",
        "widgets.Box( [wg_plot,wg_audio] )"
      ],
      "execution_count": null,
      "outputs": [
        {
          "output_type": "display_data",
          "data": {
            "text/plain": [
              "<Figure size 360x288 with 0 Axes>"
            ]
          },
          "metadata": {
            "tags": []
          }
        },
        {
          "output_type": "display_data",
          "data": {
            "application/vnd.jupyter.widget-view+json": {
              "model_id": "6bcf960c51d04c048e1a7e7c2f1a33c0",
              "version_major": 2,
              "version_minor": 0
            },
            "text/plain": [
              "interactive(children=(Dropdown(description='Signal', options=('sin', 'square', 'sawtooth'), value='sin'), Floa…"
            ]
          },
          "metadata": {
            "tags": []
          }
        },
        {
          "output_type": "display_data",
          "data": {
            "application/vnd.jupyter.widget-view+json": {
              "model_id": "1d78bd82210648d18c8f04348b9d521d",
              "version_major": 2,
              "version_minor": 0
            },
            "text/plain": [
              "Box(children=(Output(), Output()))"
            ]
          },
          "metadata": {
            "tags": []
          }
        }
      ]
    },
    {
      "cell_type": "markdown",
      "metadata": {
        "id": "48IwZGKzCi8-"
      },
      "source": [
        "# 2. Using observe() and callbacks for more control over the interaction\n",
        "## The Output Widget, Widget Boxes, Observers, Classes, ... and fragile backends"
      ]
    },
    {
      "cell_type": "code",
      "metadata": {
        "id": "Y8tumM7oCi8-",
        "outputId": "734805c2-f7ef-49f5-ca15-f7688a309bf6",
        "colab": {
          "referenced_widgets": [
            "1dae15378a4e4fc5971af2ca9d76090b"
          ]
        }
      },
      "source": [
        "# create some x data and plot it in the output widget\n",
        "# give control over data, axis, .. via control widgets using callbacks\n",
        "#\n",
        "x = np.linspace(0, 2 * np.pi, 100)\n",
        "output = widgets.Output() \n",
        "with output:\n",
        "    fig, ax = plt.subplots(constrained_layout=True, figsize=(4, 4))\n",
        "# move the toolbar to the bottom\n",
        "fig.canvas.toolbar_position = 'bottom'\n",
        "ax.grid(True)    \n",
        "line, = ax.plot(x, np.sin(x), '#FF0000')\n",
        "\n",
        "# create some control elements\n",
        "int_slider = widgets.IntSlider(value=1, min=0, max=10, step=1, description='freq')\n",
        "color_picker = widgets.ColorPicker(value='#FF0000', description='pick a color')\n",
        "text_xlabel = widgets.Text(value='', description='xlabel', continuous_update=False)\n",
        "text_ylabel = widgets.Text(value='', description='ylabel', continuous_update=False)\n",
        " \n",
        "# callback functions\n",
        "def update(change):\n",
        "    \"\"\"redraw line (update plot)\"\"\"\n",
        "    line.set_ydata(np.sin(change.new * x))\n",
        "    fig.canvas.draw()\n",
        "     \n",
        "def line_color(change):\n",
        "    \"\"\"set line color\"\"\"\n",
        "    line.set_color(change.new)\n",
        "     \n",
        "def update_xlabel(change):\n",
        "    ax.set_xlabel(change.new)\n",
        "     \n",
        "def update_ylabel(change):\n",
        "    ax.set_ylabel(change.new)\n",
        " \n",
        "# connect callbacks and traits\n",
        "int_slider.observe(update, 'value')\n",
        "color_picker.observe(line_color, 'value')\n",
        "text_xlabel.observe(update_xlabel, 'value')\n",
        "text_ylabel.observe(update_ylabel, 'value')\n",
        " \n",
        "text_xlabel.value = 'x'\n",
        "text_ylabel.value = 'y'\n",
        "controls = widgets.VBox([int_slider, color_picker, text_xlabel, text_ylabel])\n",
        "widgets.HBox([controls, output])"
      ],
      "execution_count": null,
      "outputs": [
        {
          "output_type": "display_data",
          "data": {
            "application/vnd.jupyter.widget-view+json": {
              "model_id": "1dae15378a4e4fc5971af2ca9d76090b",
              "version_major": 2,
              "version_minor": 0
            },
            "text/plain": [
              "HBox(children=(VBox(children=(IntSlider(value=1, description='freq', max=10), ColorPicker(value='#FF0000', des…"
            ]
          },
          "metadata": {
            "tags": []
          }
        },
        {
          "output_type": "display_data",
          "data": {
            "image/png": "[encoded data removed]",
            "text/plain": [
              "<Figure size 288x288 with 1 Axes>"
            ]
          },
          "metadata": {
            "tags": [],
            "needs_background": "light"
          }
        }
      ]
    },
    {
      "cell_type": "markdown",
      "metadata": {
        "id": "Hw8-7qNDCi8-"
      },
      "source": [
        "## Packing components in a class\n",
        "### Leveraging the Output widget, observers, classes, ..\n",
        "### Dedicated to the 'widget' mpl backend\n",
        "\n",
        "This is a copy from the Kapernikov tutorial ( https://kapernikov.com/ipywidgets-with-matplotlib/ )\n",
        "\n",
        "To create more high level components, we can also subclass a container and build up our gui from within. Containers have a `children` property to which we can assign a list of widgets that should be displayed. Although, we can assign a list, this is turned into a tuple and cannot be modified afterwards.\n",
        "To remove or add a widget at runtime, the children tuple can be turned back into a list, followed by an insert or deletion and finalised by reassigning to the children property. Since it can be easy to make mistakes when going by index, I tend to add a placeholder box in which I only place the 'dynamic' widget.\n",
        "\n",
        "The example below, packs the entire oscilloscope 'dashboard' in a single component by subclassing `VBox`. All the required widgets are defined in the Sines class and added as its `children`. The callbacks are defined as instance methods. It may not be a masterpiece in object oriented programming, but hopefully it shows the idea of constructing larger reusable components. Note that, we need to call `super().__init__()` from `__init__` to properly initialise the parent class. "
      ]
    },
    {
      "cell_type": "code",
      "metadata": {
        "id": "csGPTHy7Ci8_",
        "outputId": "51d5c9b9-116b-4d92-8c30-16f04a339ffb",
        "colab": {
          "referenced_widgets": [
            "8a20d44680d74e1c95b416f2f682bd8a"
          ]
        }
      },
      "source": [
        "def make_box_layout():\n",
        "     return widgets.Layout(\n",
        "        border='solid 1px black',\n",
        "        margin='0px 10px 10px 0px',\n",
        "        padding='5px 5px 5px 5px'\n",
        "     )\n",
        "\n",
        "class Sines(widgets.HBox):\n",
        "    \n",
        "    def __init__(self):\n",
        "        super().__init__()\n",
        "        output = widgets.Output()\n",
        "\n",
        "        self.x = np.linspace(0, 2 * np.pi, 100)\n",
        "        initial_color = '#FF00DD'\n",
        "\n",
        "        with output:\n",
        "            self.fig, self.ax = plt.subplots(constrained_layout=True, figsize=(5, 3.5))\n",
        "        self.line, = self.ax.plot(self.x, np.sin(self.x), initial_color)\n",
        "        \n",
        "        self.fig.canvas.toolbar_position = 'bottom'\n",
        "        self.ax.grid(True)\n",
        "\n",
        "        # define widgets\n",
        "        int_slider = widgets.IntSlider(\n",
        "            value=1, \n",
        "            min=0, \n",
        "            max=10, \n",
        "            step=1, \n",
        "            description='freq'\n",
        "        )\n",
        "        color_picker = widgets.ColorPicker(\n",
        "            value=initial_color, \n",
        "            description='pick a color'\n",
        "        )\n",
        "        text_xlabel = widgets.Text(\n",
        "            value='', \n",
        "            description='xlabel', \n",
        "            continuous_update=False\n",
        "        )\n",
        "        text_ylabel = widgets.Text(\n",
        "            value='', \n",
        "            description='ylabel', \n",
        "            continuous_update=False\n",
        "        )\n",
        "\n",
        "        controls = widgets.VBox([\n",
        "            int_slider, \n",
        "            color_picker, \n",
        "            text_xlabel, \n",
        "            text_ylabel\n",
        "        ])\n",
        "        controls.layout = make_box_layout()\n",
        "        \n",
        "        out_box = widgets.Box([output])\n",
        "        output.layout = make_box_layout()\n",
        "\n",
        "        # observe stuff\n",
        "        int_slider.observe(self.update, 'value')\n",
        "        color_picker.observe(self.line_color, 'value')\n",
        "        text_xlabel.observe(self.update_xlabel, 'value')\n",
        "        text_ylabel.observe(self.update_ylabel, 'value')\n",
        "        \n",
        "        text_xlabel.value = 'x'\n",
        "        text_ylabel.value = 'y'\n",
        "        \n",
        "\n",
        "        # add to children\n",
        "        self.children = [controls, output]\n",
        "    \n",
        "    def update(self, change):\n",
        "        \"\"\"Draw line in plot\"\"\"\n",
        "        self.line.set_ydata(np.sin(change.new * self.x))\n",
        "        self.fig.canvas.draw()\n",
        "\n",
        "    def line_color(self, change):\n",
        "        self.line.set_color(change.new)\n",
        "\n",
        "    def update_xlabel(self, change):\n",
        "        self.ax.set_xlabel(change.new)\n",
        "\n",
        "    def update_ylabel(self, change):\n",
        "        self.ax.set_ylabel(change.new)\n",
        "        \n",
        "        \n",
        "Sines()"
      ],
      "execution_count": null,
      "outputs": [
        {
          "output_type": "display_data",
          "data": {
            "application/vnd.jupyter.widget-view+json": {
              "model_id": "8a20d44680d74e1c95b416f2f682bd8a",
              "version_major": 2,
              "version_minor": 0
            },
            "text/plain": [
              "Sines(children=(VBox(children=(IntSlider(value=1, description='freq', max=10), ColorPicker(value='#FF00DD', de…"
            ]
          },
          "metadata": {
            "tags": []
          }
        },
        {
          "output_type": "display_data",
          "data": {
            "image/png": "[encoded data removed]",
            "text/plain": [
              "<Figure size 360x252 with 1 Axes>"
            ]
          },
          "metadata": {
            "tags": [],
            "needs_background": "light"
          }
        }
      ]
    },
    {
      "cell_type": "code",
      "metadata": {
        "id": "kOSRPPJgCi9A",
        "outputId": "7edb59ea-60ed-4d63-cfff-6a447f4c833c",
        "colab": {
          "referenced_widgets": [
            "37cbba7703f246dda23a0d07c1dd3c2f"
          ]
        }
      },
      "source": [
        "# Method 2: CLEAR selected axes and redraw with each operation (use OO API)\n",
        "# BACKENDS: NOT for INLINE !\n",
        "def my_sine(x, w, amp, phi):\n",
        "    return amp*np.sin(w * (x-phi))\n",
        "#\n",
        "x = np.linspace(0, 2 * np.pi, 100)\n",
        "fig= plt.figure(figsize=(3, 3))\n",
        "\n",
        "@interact(w=(0, 10, 1), amp=(0, 4, .1), phi=(0, 2*np.pi, 0.01))\n",
        "def update(w = 1.0, amp=1, phi=0):\n",
        "    plt.clf()\n",
        "    gs = fig.add_gridspec(2, 1)\n",
        "    ax1 = fig.add_subplot(gs[0, 0])\n",
        "    ax2 = fig.add_subplot(gs[1, 0])\n",
        "    #ax = fig.add_axes()\n",
        "    ax1.plot(x, my_sine(x, w, amp, phi), color='C0')\n",
        "    ax1.set_ylim([-4, 4])\n",
        "    ax1.grid(True)\n",
        "    #plt.show()"
      ],
      "execution_count": null,
      "outputs": [
        {
          "output_type": "display_data",
          "data": {
            "text/plain": [
              "<Figure size 216x216 with 0 Axes>"
            ]
          },
          "metadata": {
            "tags": []
          }
        },
        {
          "output_type": "display_data",
          "data": {
            "application/vnd.jupyter.widget-view+json": {
              "model_id": "37cbba7703f246dda23a0d07c1dd3c2f",
              "version_major": 2,
              "version_minor": 0
            },
            "text/plain": [
              "interactive(children=(IntSlider(value=1, description='w', max=10), FloatSlider(value=1.0, description='amp', m…"
            ]
          },
          "metadata": {
            "tags": []
          }
        }
      ]
    },
    {
      "cell_type": "code",
      "metadata": {
        "id": "s5e82Pd5Ci9A"
      },
      "source": [
        ""
      ],
      "execution_count": null,
      "outputs": []
    }
  ]
}