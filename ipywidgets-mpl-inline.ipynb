{
 "cells": [
  {
   "cell_type": "markdown",
   "metadata": {
    "id": "ui8lwIrLCi8z"
   },
   "source": [
    "## Interactive plots in Jupyter notebooks with matplotlib and ipywidgets\n",
    "## matplotlib and the inline backend\n",
    "\n",
    "Author: DVC  \n",
    "Date: 01/12/2020   \n"
   ]
  },
  {
   "cell_type": "markdown",
   "metadata": {
    "id": "TjUHiKsECi84"
   },
   "source": [
    "### Using the inline backend with a GUI ?\n",
    "\n",
    "The matplotlib inline backend is described as a **non-GUI** backend.  So, why do we insist on using it with a (simple) GUI ?    \n",
    "- it is the most commonly used backend \n",
    "- it is probably the only backend that behaves consistently across platforms  \n",
    "- what works with the inline backend is almost guaranteed to work with any other backend\n",
    "- we often need something more fancy than just typing in cells as provided natively in our Jupyter notebooks\n",
    "\n",
    "What are the opportunities and limitations with the inline backend ?  \n",
    "- the basic (ipy)widgets work fine in the inline backend, creating some possibilities\n",
    "- figures are rendered as png's in the output cell and its components are not accessible after being rendered\n",
    "- interactivity can only be simulated by redrawing the full figure after each change\n",
    "    + this is not an issue with slow updates of the controls\n",
    "    + flickering and visual glitches from the clear-and-redraw cycle are inevitable\n",
    "    + computational load quickly increases for complex applications\n",
    "    + be aware that a figure is NOT closed after rendering"
   ]
  },
  {
   "cell_type": "code",
   "execution_count": 1,
   "metadata": {
    "id": "T1MJQGZuCi84"
   },
   "outputs": [],
   "source": [
    "%matplotlib widget"
   ]
  },
  {
   "cell_type": "code",
   "execution_count": 2,
   "metadata": {
    "id": "KE_Ktv3HCi85"
   },
   "outputs": [],
   "source": [
    "import ipywidgets as widgets\n",
    "from ipywidgets import interact, interact_manual, interactive, interactive_output\n",
    "import numpy as np\n",
    "import matplotlib.pyplot as plt\n",
    "from scipy import signal\n",
    "import IPython.display as ipd\n",
    "import time"
   ]
  },
  {
   "cell_type": "code",
   "execution_count": 3,
   "metadata": {
    "id": "rbUtkaHHCi85"
   },
   "outputs": [],
   "source": [
    "# any of these could be useful during debugging, but not needed if all is running fine\n",
    "#\n",
    "#%matplotlib --list\n",
    "#ipd.set_matplotlib_close(close=True)\n",
    "#plt.close('all')"
   ]
  },
  {
   "cell_type": "code",
   "execution_count": 4,
   "metadata": {
    "id": "COr3eZMMCi86"
   },
   "outputs": [],
   "source": [
    "plt.close('all')\n",
    "def my_sine(x, w, amp, phi):\n",
    "    return amp*np.sin(w * (x-phi))\n",
    "#\n",
    "def synth(sigtype='sin', freq=200.0, Fs=8000, Tmax=0.5):\n",
    "    t = np.linspace(0.0, Tmax, int(Tmax*Fs), endpoint=False)\n",
    "    if sigtype == 'sin':\n",
    "        x = np.sin(2.0*np.pi*freq*t)\n",
    "    elif sigtype == 'square':\n",
    "        x = signal.square(2.0*np.pi*freq*t)\n",
    "    elif sigtype == 'sawtooth':\n",
    "        x = signal.sawtooth(2.0*np.pi*freq*t)\n",
    "    else:\n",
    "        print( 'signal: Unrecognized signal type')\n",
    "    return x, t"
   ]
  },
  {
   "cell_type": "markdown",
   "metadata": {
    "id": "dCYKwOvMCi85"
   },
   "source": [
    "### 1. Using interact() for the most simple interfaces"
   ]
  },
  {
   "cell_type": "code",
   "execution_count": 5,
   "metadata": {
    "colab": {
     "base_uri": "https://localhost:8080/",
     "height": 382,
     "referenced_widgets": [
      "4ebf9d3752f54fe69ca5070e882db567",
      "f2422aa46f10486298d1a9b1619e4a58",
      "0d7b463ad9374d528bc44cf0c46f92f6",
      "e5376e28729f466b82f4cc4c2407ffa2",
      "d81d2896ac164492ac05a2201b2a9690",
      "974f92259c9945a5bebcf99c08219dfa",
      "5439912b576a4d048c843d7e7ed27c9b",
      "8708427bccd3472a8f701c6d2b589e7c",
      "85ce00d3bcf54224a1a93784c410f623",
      "49bd4cddccf445938b9d56ac55e13f34",
      "76a20fb5ce4e4559a61b83d51a007d28",
      "21af89be3d4b4983be6b6b5d0c801cff",
      "73d277299b7a47aebca607e44b9b1b4d"
     ]
    },
    "id": "UrUt1SU0Ci86",
    "outputId": "404c9ba9-e657-4d58-cf42-fcac8b6c47fd"
   },
   "outputs": [
    {
     "data": {
      "application/vnd.jupyter.widget-view+json": {
       "model_id": "368aa8f78e8b4aa0998aee868335f9f5",
       "version_major": 2,
       "version_minor": 0
      },
      "text/plain": [
       "Canvas(toolbar=Toolbar(toolitems=[('Home', 'Reset original view', 'home', 'home'), ('Back', 'Back to previous …"
      ]
     },
     "metadata": {},
     "output_type": "display_data"
    },
    {
     "data": {
      "application/vnd.jupyter.widget-view+json": {
       "model_id": "1f0ed15ebafc4267b50e86c7770d92ee",
       "version_major": 2,
       "version_minor": 0
      },
      "text/plain": [
       "interactive(children=(IntSlider(value=1, description='w', max=10), FloatSlider(value=1.0, description='amp', m…"
      ]
     },
     "metadata": {},
     "output_type": "display_data"
    }
   ],
   "source": [
    "# Methodology:\n",
    "# ============\n",
    "#  1. Create the Figure\n",
    "#  2. Use interact() for the interactive Loop:\n",
    "#       (a) CLEAR AXIS (or figure)\n",
    "#       (b) PLOT AGAIN with each interaction\n",
    "#\n",
    "# REMARK: \n",
    "# (1)  AVOID following loop construction:\n",
    "#      (a) create a figure\n",
    "#      (b) draw to the figure\n",
    "#   At first sight it behaves the same, but a new figure is created each time\n",
    "#   and after some time you will run out of available figures as they are not closed automatically\n",
    "# (2) for the inline backend it doesn't seem to matter if you use plt.cla() or plt.clf()\n",
    "#     the widget backend is more reliable with plt.cla(), plus there is no accumulation of figures\n",
    "\n",
    "x = np.linspace(0, 2 * np.pi, 100)\n",
    "fig = plt.figure(figsize=(3,3))\n",
    "\n",
    "@interact(w=(0, 10, 1), amp=(0, 4, .1), phi=(0, 2*np.pi, 0.01))\n",
    "def update(w = 1.0, amp=1, phi=0):\n",
    "    # clear the figure and start over\n",
    "    # plt.cla()\n",
    "    plt.clf()\n",
    "    print(plt.gcf().number)\n",
    "    plt.plot(x, my_sine(x, w, amp, phi), color='C0')\n",
    "    plt.ylim([-4, 4])\n",
    "    plt.grid(True)"
   ]
  },
  {
   "cell_type": "code",
   "execution_count": 6,
   "metadata": {},
   "outputs": [
    {
     "data": {
      "application/vnd.jupyter.widget-view+json": {
       "model_id": "e42c927af589471584a2d01d9d88f3e2",
       "version_major": 2,
       "version_minor": 0
      },
      "text/plain": [
       "Canvas(toolbar=Toolbar(toolitems=[('Home', 'Reset original view', 'home', 'home'), ('Back', 'Back to previous …"
      ]
     },
     "metadata": {},
     "output_type": "display_data"
    },
    {
     "data": {
      "text/plain": [
       "[<matplotlib.lines.Line2D at 0x1a282b5ab50>]"
      ]
     },
     "execution_count": 6,
     "metadata": {},
     "output_type": "execute_result"
    }
   ],
   "source": [
    "# The non interactive baseline\n",
    "x = np.linspace(0, 2 * np.pi, 100)\n",
    "fig, (ax1,ax2) = plt.subplots(2,figsize=(5,3))\n",
    "ax1.plot(x, my_sine(x, 1., 1., 0.), color='C0')"
   ]
  },
  {
   "cell_type": "code",
   "execution_count": 7,
   "metadata": {},
   "outputs": [
    {
     "data": {
      "application/vnd.jupyter.widget-view+json": {
       "model_id": "4c9be17c6fcf4dc0b16e4c0fcdcf22f9",
       "version_major": 2,
       "version_minor": 0
      },
      "text/plain": [
       "Canvas(toolbar=Toolbar(toolitems=[('Home', 'Reset original view', 'home', 'home'), ('Back', 'Back to previous …"
      ]
     },
     "metadata": {},
     "output_type": "display_data"
    },
    {
     "data": {
      "application/vnd.jupyter.widget-view+json": {
       "model_id": "785c3eaf48ae4902ba46cd02469b4a70",
       "version_major": 2,
       "version_minor": 0
      },
      "text/plain": [
       "interactive(children=(IntSlider(value=1, description='w', max=10), Output()), _dom_classes=('widget-interact',…"
      ]
     },
     "metadata": {},
     "output_type": "display_data"
    }
   ],
   "source": [
    "plt.close('all')\n",
    "box_layout = widgets.Layout(\n",
    "        border='solid 1px black',\n",
    "        margin='0px 10px 10px 0px',\n",
    "        padding='5px 5px 5px 5px',\n",
    "        width = '50%',\n",
    "        height = '500px',\n",
    "        flex_shrink = 1\n",
    "     )\n",
    "button_layout = widgets.Layout(\n",
    "        border='solid 1px black',\n",
    "        margin='0px 10px 10px 0px',\n",
    "        padding='5px 5px 5px 5px',\n",
    "        width = '50%',\n",
    "        height = '100%',\n",
    "        flex_shrink =2\n",
    "     )\n",
    "x = np.linspace(0, 2 * np.pi, 100)\n",
    "#out = widgets.Output(layout=box_layout)\n",
    "#comments = widgets.Output(layout=box_layout)\n",
    "#comments.layout.width = '200px'\n",
    "fig, (ax1,ax2) = plt.subplots(2,figsize=(5,3))\n",
    "ax1.plot(x, my_sine(x, 1., 1., 0.), color='C0')\n",
    "# update()\n",
    "#global fig,ax\n",
    "#fig,ax = plt.subplots(2,1,constrained_layout=True, figsize=(4, 4))\n",
    "    \n",
    "@interact(w=(0, 10, 1))\n",
    "def update(w = 1.0):\n",
    "    #global fig,ax\n",
    "    # clear the figure and start over\n",
    "    #if ax is not None:\n",
    "    #    fig,ax = plt.subplots(2,1,constrained_layout=True, figsize=(4, 4))\n",
    "    # ax = fig.add_subplots(2,1)\n",
    "    # clear_output()\n",
    "    ax1.cla()\n",
    "    ax1.plot(x, my_sine(x, w, 1., 0.), color='C0')\n",
    "    ax1.set_ylim([-4, 4])\n",
    "    ax1.grid(True)\n",
    "    #with comments:\n",
    "    #    print('Fig Number:',fig.number)\n",
    "    plt.show()\n",
    "#widgets.HBox([out,comments])"
   ]
  },
  {
   "cell_type": "code",
   "execution_count": 29,
   "metadata": {},
   "outputs": [
    {
     "data": {
      "application/vnd.jupyter.widget-view+json": {
       "model_id": "76a13f3fae7b490aa9f91cb236b5b909",
       "version_major": 2,
       "version_minor": 0
      },
      "text/plain": [
       "Canvas(toolbar=Toolbar(toolitems=[('Home', 'Reset original view', 'home', 'home'), ('Back', 'Back to previous …"
      ]
     },
     "metadata": {},
     "output_type": "display_data"
    },
    {
     "data": {
      "application/vnd.jupyter.widget-view+json": {
       "model_id": "491d4f534d4541cdb1b16e6e419db659",
       "version_major": 2,
       "version_minor": 0
      },
      "text/plain": [
       "VBox(children=(VBox(children=(FloatSlider(value=100.0, description='Frequency', max=600.0, min=100.0, step=10.…"
      ]
     },
     "metadata": {},
     "output_type": "display_data"
    }
   ],
   "source": [
    "wg_freq = widgets.FloatSlider(value=100.0,step=10.,min=100.0,max=600.,description='Frequency')\n",
    "box_layout = widgets.Layout(\n",
    "        border='solid 1px black',\n",
    "        margin='0px 10px 10px 0px',\n",
    "        padding='5px 5px 5px 5px'\n",
    "     )\n",
    "UI = widgets.VBox( [wg_freq] ,layout=box_layout)\n",
    "out = widgets.Output()\n",
    "first_time = True\n",
    "global fig, ax1, ax2\n",
    "fig, (ax1,ax2) = plt.subplots(2,1,constrained_layout=True, figsize=(8, 4))\n",
    "y,x = synth(sigtype='sin',freq=440.,Tmax=0.25)\n",
    "ax1.plot(x, y, color='C0')\n",
    "    \n",
    "def mySine(freq=440.):\n",
    "    global first_time, ax1, ax2, fig\n",
    "    plt.sca(ax1)\n",
    "    plt.cla()\n",
    "    y,x = synth(sigtype='sin',freq=freq,Tmax=0.25)\n",
    "    #y=amp*y\n",
    "    ax1.plot(x, y, color='C0')\n",
    "    ax1.set_ylim([-1, 1])\n",
    "    ax1.grid(True)\n",
    "    ax1.set_title('Waveform')\n",
    "    ax1.set_xlabel('Time(sec)')\n",
    "    # ax1.set_xlim([0,Tmax])\n",
    "    \n",
    "screen = widgets.interactive_output(mySine, {'freq': wg_freq})\n",
    "   \n",
    "widgets.VBox([  UI, screen ])\n",
    "#layout=box_layout) "
   ]
  },
  {
   "cell_type": "markdown",
   "metadata": {
    "id": "C6MMpnI2Ci87"
   },
   "source": [
    "### 2. Using interactive_output() for more control over the layout "
   ]
  },
  {
   "cell_type": "code",
   "execution_count": 9,
   "metadata": {
    "colab": {
     "base_uri": "https://localhost:8080/",
     "height": 362,
     "referenced_widgets": [
      "c004928212d24be7ac55b090058c3e0d",
      "5aa354891a59412bae53b3b95dcb3b9f",
      "ca6ac2e1b04442e2b139a8fbb1edc24c",
      "b8724eb556934ccaa672b87177cf78d4",
      "e8a1c3235c604b54b3d423205571ebfd",
      "5b0ae87a40594eaa991a9453f9524b02",
      "9cd78169eada43eb9fdb4d433bb42470",
      "a3832009d32f41deb4950a8ac30620ab",
      "a8475bebbd7541d085b371602f0a9953",
      "20ad5692ea3445b3b326c397604a060a",
      "a5f71ac66e854cb5969fa53aec3d1f81",
      "3f6a2fe7ed574ad48243c5dac483e381",
      "25e9b5ffc41744dfb05518e764bc920e",
      "a857e8615b204bffb336ca7472aa60b1",
      "09dd52e47ab84e24a3de38261a1ab11b",
      "9d08b95618154a038142462f0ff99f78",
      "a98ba4f37d0446e282b514377555fc28",
      "aa97f3ed7fe24b2281b3768f40902e2a"
     ]
    },
    "id": "kTpCZWpDCi87",
    "outputId": "fe14c743-5f9c-4253-b079-7c1e918f5cea"
   },
   "outputs": [
    {
     "data": {
      "application/vnd.jupyter.widget-view+json": {
       "model_id": "c29aaa181b6e4ff3b682eb4bcf68628a",
       "version_major": 2,
       "version_minor": 0
      },
      "text/plain": [
       "HBox(children=(Output(layout=Layout(border='solid 1px black', margin='0px 10px 10px 0px', padding='5px 5px 5px…"
      ]
     },
     "metadata": {},
     "output_type": "display_data"
    }
   ],
   "source": [
    "# create the sliders for interaction\n",
    "signal_types = [ 'sin', 'square', 'sawtooth' ]\n",
    "wg_sigtype = widgets.Dropdown(options=signal_types,value='sin',description=\"Signal\")\n",
    "wg_amp = widgets.FloatSlider(value=1.0,step=0.05,max=1.0,description='Amplitude',continous_update=False)\n",
    "wg_freq = widgets.FloatSlider(value=100.0,step=10.,min=100.0,max=600.,description='Frequency')\n",
    "wg_Tmax = widgets.FloatSlider(value=0.2,step=0.05,min=0.1,max=.4,description='Duration',\n",
    "                             continuous_update=False)\n",
    "box_layout = widgets.Layout(\n",
    "        border='solid 1px black',\n",
    "        margin='0px 10px 10px 0px',\n",
    "        padding='5px 5px 5px 5px'\n",
    "     )\n",
    "UI1 = widgets.VBox( [wg_sigtype, wg_amp, wg_freq, wg_Tmax] ,layout=box_layout)\n",
    "# create two dedicated output widgets, one for audio and one for plotting\n",
    "out_audio = widgets.Output()\n",
    "out_comments = widgets.Output()\n",
    "UI2 = widgets.VBox( [out_audio,out_comments] ,layout=box_layout)\n",
    "\n",
    "first_time = True\n",
    "# fig,ax = plt.subplots(2,1,constrained_layout=True, figsize=(8, 4))\n",
    "    \n",
    "def sin_gui1(amp=1., sigtype='sin', freq=440.0, Fs=8000, Tmax=1.0):\n",
    "\n",
    "    global first_time, ax, fig\n",
    "    if first_time:\n",
    "        fig,ax = plt.subplots(2,1,constrained_layout=True, figsize=(8, 4))\n",
    "        first_time = False\n",
    "    else:\n",
    "        #with out_comments:\n",
    "        # print(\"clearing axis\")\n",
    "        #plt.sca(ax[0])\n",
    "        #plt.cla()\n",
    "        plt.sca(ax[1])\n",
    "        plt.cla()\n",
    "        \n",
    "    y,x = synth(sigtype=sigtype,freq=freq,Tmax=Tmax)\n",
    "    y=amp*y\n",
    "    ax[0].plot(x, y, color='C0')\n",
    "    ax[0].set_ylim([-1, 1])\n",
    "    ax[0].grid(True)\n",
    "    ax[0].set_title('Waveform')\n",
    "    ax[0].set_xlabel('Time(sec)')\n",
    "    ax[0].set_xlim([0,Tmax])\n",
    "    freq,spec = signal.periodogram(y,fs=8000,scaling='spectrum')\n",
    "    # freq,spec = signal.periodogram(1000.*y/np.sqrt(len(y)),fs=8000,scaling='spectrum')\n",
    "    #specdb = 10.*np.log10(freq+1.e-7)\n",
    "    ax[1].plot(freq,np.sqrt(2*spec))\n",
    "    ax[1].set_title('Spectrum')\n",
    "    ax[1].set_xlabel('Frequency')\n",
    "    ax[1].set_ylim([0, 1])\n",
    "    ax[1].grid(True)\n",
    "    ax[1].set_xlim([0,4000])\n",
    "    # here come the things that go to dedicated output widgets\n",
    "    with out_audio:\n",
    "        ipd.clear_output()\n",
    "        try:\n",
    "            with out_comments:\n",
    "                ipd.clear_output()\n",
    "                print(\"Audio playing unnormalized\")\n",
    "            ipd.display(ipd.Audio(data=y,rate=8000,normalize=False, autoplay=True))\n",
    "        except: \n",
    "            try:\n",
    "                with out_comments:\n",
    "                    ipd.clear_output()\n",
    "                    print(\"Warning: playing normalized sound\")\n",
    "                ipd.display(ipd.Audio(data=y,rate=8000, autoplay=True))\n",
    "            except: pass\n",
    "\n",
    "\n",
    "screen = widgets.interactive_output(sin_gui1, {'sigtype':wg_sigtype,'amp': wg_amp, 'freq': wg_freq, 'Tmax': wg_Tmax})\n",
    "screen.layout = box_layout\n",
    "   \n",
    "widgets.HBox([ screen, widgets.VBox([ UI1, UI2 ], layout=box_layout) ])"
   ]
  },
  {
   "cell_type": "code",
   "execution_count": 10,
   "metadata": {},
   "outputs": [
    {
     "data": {
      "application/vnd.jupyter.widget-view+json": {
       "model_id": "c0b33d480c2f4298914f2a0a6dcc4d74",
       "version_major": 2,
       "version_minor": 0
      },
      "text/plain": [
       "Audio_Demo(children=(Output(layout=Layout(border='solid 1px black', margin='0px 10px 10px 0px', padding='5px 5…"
      ]
     },
     "metadata": {},
     "output_type": "display_data"
    }
   ],
   "source": [
    "# create the sliders for interaction\n",
    "plt.close('all')\n",
    "box_layout = widgets.Layout(\n",
    "        border='solid 1px black',\n",
    "        margin='0px 10px 10px 0px',\n",
    "        padding='5px 5px 5px 5px'\n",
    "     )\n",
    "\n",
    "\n",
    "\n",
    "\n",
    "class Audio_Demo(widgets.HBox):\n",
    "\n",
    "    def __init__(self):\n",
    "        super().__init__()\n",
    "        \n",
    "        self.amp = 1.\n",
    "        self.sigtype = 'sin'\n",
    "        self.freq = 440.\n",
    "        self.samplerate = 8000\n",
    "        self.Tmax = .25\n",
    "        self.first_time = True\n",
    "        \n",
    "        signal_types = [ 'sin', 'square', 'sawtooth' ]\n",
    "        self.wg_sigtype = widgets.Dropdown(options=signal_types,value='sin',description=\"Signal\")\n",
    "        self.wg_amp = widgets.FloatSlider(value=1.0,step=0.05,max=1.0,description='Amplitude',continous_update=False)\n",
    "        self.wg_freq = widgets.FloatSlider(value=100.0,step=10.,min=100.0,max=600.,description='Frequency')\n",
    "        self.UI = widgets.VBox( [self.wg_sigtype, self.wg_amp, self.wg_freq] ,layout=box_layout)\n",
    "\n",
    "        self.wg_freq.observe(self.freq_observe,'value')\n",
    "        \n",
    "#        self.screen = widgets.interactive_output(self.sin_gui1, {'sigtype':self.wg_sigtype,'amp': self.wg_amp, 'freq': self.wg_freq})\n",
    "        self.screen = widgets.Output()\n",
    "        self.screen.layout = box_layout\n",
    "        \n",
    "        self.audio = widgets.Output()\n",
    "        self.out_comments = widgets.Output()  \n",
    "\n",
    "        self.sin_gui1()\n",
    "        self.children = [ self.screen, widgets.VBox([self.UI, self.audio, self.out_comments]) ] \n",
    "\n",
    "#    def sin_gui1(self,amp=1., sigtype='sin', freq=440.0):\n",
    "    def sin_gui1(self):\n",
    "\n",
    "        Fs = self.samplerate\n",
    "        Tmax = self.Tmax\n",
    "        amp = self.amp\n",
    "        sigtype = self.sigtype\n",
    "        freq = self.freq\n",
    "\n",
    "        with self.screen:\n",
    "            if self.first_time:\n",
    "                self.fig,self.ax = plt.subplots(2,1,constrained_layout=True, figsize=(8, 4))\n",
    "                self.first_time = False\n",
    "            else:\n",
    "                plt.sca(self.ax[0])\n",
    "                plt.cla()\n",
    "                plt.sca(self.ax[1])\n",
    "                plt.cla()  \n",
    "\n",
    "            ax = self.ax\n",
    "            y,x = synth(sigtype=sigtype,freq=freq,Tmax=Tmax)\n",
    "            y=amp*y\n",
    "            ax[0].plot(x, y, color='C0')\n",
    "            ax[0].set_ylim([-1, 1])\n",
    "            ax[0].grid(True)\n",
    "            ax[0].set_title('Waveform')\n",
    "            ax[0].set_xlabel('Time(sec)')\n",
    "            ax[0].set_xlim([0,Tmax])\n",
    "            freq,spec = signal.periodogram(y,fs=8000,scaling='spectrum')\n",
    "            ax[1].plot(freq,np.sqrt(2*spec))\n",
    "            ax[1].set_title('Spectrum')\n",
    "            ax[1].set_xlabel('Frequency')\n",
    "            ax[1].set_ylim([0, 1])\n",
    "            ax[1].grid(True)\n",
    "            ax[1].set_xlim([0,4000])\n",
    "    # here come the things that go to dedicated output widgets\n",
    "\n",
    "        with self.audio:\n",
    "            ipd.clear_output()\n",
    "            try:\n",
    "                with self.out_comments:\n",
    "                    ipd.clear_output()\n",
    "                    print(\"Audio playing unnormalized\")\n",
    "                ipd.display(ipd.Audio(data=y,rate=8000,normalize=False, autoplay=True))\n",
    "            except: \n",
    "                try:\n",
    "                    with self.out_comments:\n",
    "                        ipd.clear_output()\n",
    "                        print(\"Warning: playing normalized sound\")\n",
    "                    ipd.display(ipd.Audio(data=y,rate=8000, autoplay=True))\n",
    "                except: pass\n",
    "     \n",
    "    def freq_observe(self,change):\n",
    "        self.freq = change.new\n",
    "        # with self.screen:\n",
    "        self.sin_gui1()\n",
    "    \n",
    "    \n",
    "Audio_Demo()    "
   ]
  },
  {
   "cell_type": "code",
   "execution_count": 11,
   "metadata": {
    "id": "XuStw8zwCi88",
    "outputId": "c2fa2400-324d-4604-cf73-61cd707d4920"
   },
   "outputs": [],
   "source": [
    "plt.close('all')"
   ]
  },
  {
   "cell_type": "code",
   "execution_count": 12,
   "metadata": {
    "id": "gKVQBOTaCi88",
    "outputId": "10da4fdb-cf99-4c9c-c7de-3f978c7d7127"
   },
   "outputs": [],
   "source": [
    "fig.show()"
   ]
  },
  {
   "cell_type": "code",
   "execution_count": 13,
   "metadata": {
    "colab": {
     "referenced_widgets": [
      "a196c20028c947cbbba12d6415063735"
     ]
    },
    "id": "czwmIgvoCi88",
    "outputId": "648aa35a-ab21-49f8-cf63-ab53af0004ce"
   },
   "outputs": [
    {
     "data": {
      "application/vnd.jupyter.widget-view+json": {
       "model_id": "f5c654323b644698a0be043f1eb36157",
       "version_major": 2,
       "version_minor": 0
      },
      "text/plain": [
       "Canvas(toolbar=Toolbar(toolitems=[('Home', 'Reset original view', 'home', 'home'), ('Back', 'Back to previous …"
      ]
     },
     "metadata": {},
     "output_type": "display_data"
    },
    {
     "data": {
      "application/vnd.jupyter.widget-view+json": {
       "model_id": "c749aa508762415285c23abd23ef9289",
       "version_major": 2,
       "version_minor": 0
      },
      "text/plain": [
       "interactive(children=(IntSlider(value=1, description='w', max=10), FloatSlider(value=1.0, description='amp', m…"
      ]
     },
     "metadata": {},
     "output_type": "display_data"
    }
   ],
   "source": [
    "# Method 2: CLEAR selected axes and redraw with each operation (use OO API)\n",
    "# BACKENDS: NOT for INLINE !\n",
    "def my_sine(x, w, amp, phi):\n",
    "    return amp*np.sin(w * (x-phi))\n",
    "#\n",
    "x = np.linspace(0, 2 * np.pi, 100)\n",
    "fig, ax = plt.subplots(figsize=(3, 3))\n",
    "\n",
    "@interact(w=(0, 10, 1), amp=(0, 4, .1), phi=(0, 2*np.pi, 0.01))\n",
    "def update(w = 1.0, amp=1, phi=0):\n",
    "    plt.cla()\n",
    "    ax.plot(x, my_sine(x, w, amp, phi), color='C0')\n",
    "    ax.set_ylim([-4, 4])\n",
    "    ax.grid(True)"
   ]
  },
  {
   "cell_type": "code",
   "execution_count": 14,
   "metadata": {
    "colab": {
     "referenced_widgets": [
      "109f53eebf894e38aced29f69e7b6be0"
     ]
    },
    "id": "mjt9p1pECi88",
    "outputId": "65a005df-923e-4b4a-eaae-e258c546086a"
   },
   "outputs": [
    {
     "data": {
      "application/vnd.jupyter.widget-view+json": {
       "model_id": "fa31a3cf089f4d55b21b8d724015f318",
       "version_major": 2,
       "version_minor": 0
      },
      "text/plain": [
       "Canvas(toolbar=Toolbar(toolitems=[('Home', 'Reset original view', 'home', 'home'), ('Back', 'Back to previous …"
      ]
     },
     "metadata": {},
     "output_type": "display_data"
    },
    {
     "data": {
      "application/vnd.jupyter.widget-view+json": {
       "model_id": "9f66fa5d3d2541169aa0b12ccffb78a6",
       "version_major": 2,
       "version_minor": 0
      },
      "text/plain": [
       "interactive(children=(IntSlider(value=1, description='w', max=10), FloatSlider(value=1.0, description='amp', m…"
      ]
     },
     "metadata": {},
     "output_type": "display_data"
    }
   ],
   "source": [
    "# Method 3: Only update line data inside existing axis\n",
    "# BACKENDS: NOT for INLINE !\n",
    "# \n",
    "\n",
    "def my_sine(x, w, amp, phi):\n",
    "    return amp*np.sin(w * (x-phi))\n",
    "#\n",
    "x = np.linspace(0, 2 * np.pi, 100)\n",
    "fig, ax = plt.subplots(figsize=(4, 4))\n",
    "ax.set_ylim([-4, 4])\n",
    "ax.grid(True)\n",
    "\n",
    "@interact(w=(0, 10, 1), amp=(0, 4, .1), phi=(0, 2*np.pi, 0.01))\n",
    "def update(w = 1.0, amp=1, phi=0):\n",
    "    \"\"\"Remove old lines from plot and plot new one\"\"\"\n",
    "    [l.remove() for l in ax.lines]\n",
    "    ax.plot(x, my_sine(x, w, amp, phi), color='C0')"
   ]
  },
  {
   "cell_type": "markdown",
   "metadata": {
    "id": "H5l4JBvQCi89"
   },
   "source": [
    "## Updating the plot line data"
   ]
  },
  {
   "cell_type": "code",
   "execution_count": 15,
   "metadata": {
    "colab": {
     "referenced_widgets": [
      "42278a5ec6054f2f9fd6b527a8d8a6e4"
     ]
    },
    "id": "jNMrkDfJCi89",
    "outputId": "297fa754-3586-45ff-8a0f-396e87d2cb75"
   },
   "outputs": [
    {
     "data": {
      "application/vnd.jupyter.widget-view+json": {
       "model_id": "2c63ac8d7793442ebe07cb8113b6f8de",
       "version_major": 2,
       "version_minor": 0
      },
      "text/plain": [
       "Canvas(toolbar=Toolbar(toolitems=[('Home', 'Reset original view', 'home', 'home'), ('Back', 'Back to previous …"
      ]
     },
     "metadata": {},
     "output_type": "display_data"
    },
    {
     "data": {
      "application/vnd.jupyter.widget-view+json": {
       "model_id": "0431338004e14fa5af6aaf78b98ea15c",
       "version_major": 2,
       "version_minor": 0
      },
      "text/plain": [
       "interactive(children=(IntSlider(value=1, description='w', max=10), FloatSlider(value=1.0, description='amp', m…"
      ]
     },
     "metadata": {},
     "output_type": "display_data"
    }
   ],
   "source": [
    "# Method 3b: maintain the figure and just refresh the changed data\n",
    "#    1) create a figure  \n",
    "#    2)  just update the y_data if you may assume that the x_data hasn't changed; \n",
    "#          between calls \n",
    "#\n",
    "# BACKENDS: all, except 'inline'  \n",
    "# \n",
    "\n",
    "def my_sine(x, w, amp, phi):\n",
    "    \"\"\"\n",
    "    Return a sine for x with angular frequeny w and amplitude amp.\n",
    "    \"\"\"\n",
    "    return amp*np.sin(w * (x-phi))\n",
    "x = np.linspace(0, 2 * np.pi, 100)\n",
    "\n",
    "#\n",
    "fig, ax = plt.subplots(figsize=(4, 4))\n",
    "ax.set_ylim([-4, 4])\n",
    "ax.grid(True)\n",
    "line, = ax.plot(x, my_sine(x, 0,0,0), color='C0')\n",
    "\n",
    "@interact(w=(0, 10, 1), amp=(0, 4, .1), phi=(0, 2*np.pi+0.01, 0.01))\n",
    "def update(w = 1.0, amp=1, phi=0):\n",
    "    \"\"\"change the ydata values \"\"\"\n",
    "    line.set_ydata( my_sine(x, w, amp, phi) )\n",
    "    fig.canvas.draw()\n",
    "    # fig.canvas.flush_events()"
   ]
  },
  {
   "cell_type": "code",
   "execution_count": 16,
   "metadata": {
    "colab": {
     "referenced_widgets": [
      "6bcf960c51d04c048e1a7e7c2f1a33c0",
      "1d78bd82210648d18c8f04348b9d521d"
     ]
    },
    "id": "sjANg_FoCi89",
    "outputId": "5aabff3a-e85f-431c-fdfc-577b12e1468c"
   },
   "outputs": [
    {
     "data": {
      "application/vnd.jupyter.widget-view+json": {
       "model_id": "f4f19c734cd544228b1870ecb1b7a64e",
       "version_major": 2,
       "version_minor": 0
      },
      "text/plain": [
       "interactive(children=(Dropdown(description='Signal', options=('sin', 'square', 'sawtooth'), value='sin'), Floa…"
      ]
     },
     "metadata": {},
     "output_type": "display_data"
    },
    {
     "data": {
      "application/vnd.jupyter.widget-view+json": {
       "model_id": "c963fbe5f5194f2fb51916afa197c78c",
       "version_major": 2,
       "version_minor": 0
      },
      "text/plain": [
       "Box(children=(Output(), Output()))"
      ]
     },
     "metadata": {},
     "output_type": "display_data"
    }
   ],
   "source": [
    "# a simple audio signal generator\n",
    "# with control for type amplitude, phase ... \n",
    "#\n",
    "# the audio is immediately generated and rendered\n",
    "#   continuous update are used for frequency and amplitude\n",
    "#   continuous_update=False is used for the duration widget\n",
    "# !! setting continuous_update is the only 'easy' control over frequency of update with interact()\n",
    "# !! more complex asynchronous implementations are suggested on the ipywidgets doc pages\n",
    "# !! under 'debouncing' and 'throttling' .. but this complicates the code significantly\n",
    "# https://ipywidgets.readthedocs.io/en/latest/examples/Widget%20Events.html?highlight=continuous_update#Continuous-updates\n",
    "# !! these solutions are not applicable to interact(), but require .observe() instead, see later\n",
    "#\n",
    "# as the x-axis needs to be modified with the duration\n",
    "#  it is more appropriate to do full redraws at every iteration\n",
    "#\n",
    "# BACKENDS: all\n",
    "#\n",
    "samplerate=8000\n",
    "def generate(type='sin', freq=200.0, Fs=samplerate, Tmax=0.5):\n",
    "    t = np.linspace(0.0, Tmax, int(Tmax*Fs), endpoint=False)\n",
    "    if type == 'sin':\n",
    "        x = np.sin(2.0*np.pi*freq*t)\n",
    "    elif type == 'square':\n",
    "        x = signal.square(2.0*np.pi*freq*t)\n",
    "    elif type == 'sawtooth':\n",
    "        x = signal.sawtooth(2.0*np.pi*freq*t)\n",
    "    else:\n",
    "        print( 'signal: Unrecognized signal type')\n",
    "    return x, t\n",
    "\n",
    "signal_types = [ 'sin', 'square', 'sawtooth' ]\n",
    "# alternative to Dropdown is to use RadioButtons\n",
    "wg_signal = widgets.Dropdown(options=signal_types,\n",
    "                             value='sin',description=\"Signal\")\n",
    "wg_amp = widgets.FloatSlider(value=0.5,step=0.05,max=1.0,description='Amplitude')\n",
    "wg_freq = widgets.FloatSlider(value=200.0,step=5.0,min=50.0,max=500.0,description='Frequency')\n",
    "wg_Tmax = widgets.FloatSlider(value=0.4,step=0.1,min=0.1,max=2.0,description='Duration',\n",
    "                             continuous_update=False)\n",
    "#wg_check = widgets.Checkbox(description='Display Play Button',value=True)\n",
    "wg_audio = widgets.Output()\n",
    "wg_plot = widgets.Output()\n",
    "with wg_plot:\n",
    "    fig = plt.figure(figsize=(5,4))\n",
    "first_time = True\n",
    "\n",
    "# in this example we use interact and full replotting\n",
    "# this seems to work well with ALL backends\n",
    "\n",
    "@interact(t=wg_signal,f=wg_freq,A=wg_amp,T=wg_Tmax)\n",
    "def plot_fn(t,f,A,T):\n",
    "    global first_time\n",
    "    x1, t1 = generate(freq=f,type=t,Tmax=T)\n",
    "    y1=A*x1\n",
    "    with wg_plot:\n",
    "        plt.cla()\n",
    "        plt.plot(t1,y1)\n",
    "        plt.ylim(-1,1)\n",
    "    with wg_audio:\n",
    "        ipd.clear_output()\n",
    "        ipd.display(ipd.Audio(data=y1,rate=samplerate,normalize=False, autoplay=True))\n",
    "    return\n",
    "\n",
    "#widgets.HBox( [widgets.VBox([wg_signal,wg_freq,wg_amp,wg_Tmax]),widgets.VBox([wg_plot,wg_audio])])\n",
    "widgets.Box( [wg_plot,wg_audio] )"
   ]
  },
  {
   "cell_type": "markdown",
   "metadata": {
    "id": "48IwZGKzCi8-"
   },
   "source": [
    "# 2. Using observe() and callbacks for more control over the interaction\n",
    "## The Output Widget, Widget Boxes, Observers, Classes, ... and fragile backends"
   ]
  },
  {
   "cell_type": "code",
   "execution_count": 17,
   "metadata": {
    "colab": {
     "referenced_widgets": [
      "1dae15378a4e4fc5971af2ca9d76090b"
     ]
    },
    "id": "Y8tumM7oCi8-",
    "outputId": "734805c2-f7ef-49f5-ca15-f7688a309bf6"
   },
   "outputs": [
    {
     "data": {
      "application/vnd.jupyter.widget-view+json": {
       "model_id": "569708be2f9d4d65887f5b1d782c8ebd",
       "version_major": 2,
       "version_minor": 0
      },
      "text/plain": [
       "HBox(children=(VBox(children=(IntSlider(value=1, description='freq', max=10), ColorPicker(value='#FF0000', des…"
      ]
     },
     "metadata": {},
     "output_type": "display_data"
    }
   ],
   "source": [
    "# create some x data and plot it in the output widget\n",
    "# give control over data, axis, .. via control widgets using callbacks\n",
    "#\n",
    "x = np.linspace(0, 2 * np.pi, 100)\n",
    "output = widgets.Output() \n",
    "with output:\n",
    "    fig, ax = plt.subplots(constrained_layout=True, figsize=(4, 4))\n",
    "# move the toolbar to the bottom\n",
    "fig.canvas.toolbar_position = 'bottom'\n",
    "ax.grid(True)    \n",
    "line, = ax.plot(x, np.sin(x), '#FF0000')\n",
    "\n",
    "# create some control elements\n",
    "int_slider = widgets.IntSlider(value=1, min=0, max=10, step=1, description='freq')\n",
    "color_picker = widgets.ColorPicker(value='#FF0000', description='pick a color')\n",
    "text_xlabel = widgets.Text(value='', description='xlabel', continuous_update=False)\n",
    "text_ylabel = widgets.Text(value='', description='ylabel', continuous_update=False)\n",
    " \n",
    "# callback functions\n",
    "def update(change):\n",
    "    \"\"\"redraw line (update plot)\"\"\"\n",
    "    line.set_ydata(np.sin(change.new * x))\n",
    "    fig.canvas.draw()\n",
    "     \n",
    "def line_color(change):\n",
    "    \"\"\"set line color\"\"\"\n",
    "    line.set_color(change.new)\n",
    "     \n",
    "def update_xlabel(change):\n",
    "    ax.set_xlabel(change.new)\n",
    "     \n",
    "def update_ylabel(change):\n",
    "    ax.set_ylabel(change.new)\n",
    " \n",
    "# connect callbacks and traits\n",
    "int_slider.observe(update, 'value')\n",
    "color_picker.observe(line_color, 'value')\n",
    "text_xlabel.observe(update_xlabel, 'value')\n",
    "text_ylabel.observe(update_ylabel, 'value')\n",
    " \n",
    "text_xlabel.value = 'x'\n",
    "text_ylabel.value = 'y'\n",
    "controls = widgets.VBox([int_slider, color_picker, text_xlabel, text_ylabel])\n",
    "widgets.HBox([controls, output])"
   ]
  },
  {
   "cell_type": "markdown",
   "metadata": {
    "id": "Hw8-7qNDCi8-"
   },
   "source": [
    "## Packing components in a class\n",
    "### Leveraging the Output widget, observers, classes, ..\n",
    "### Dedicated to the 'widget' mpl backend\n",
    "\n",
    "This is a copy from the Kapernikov tutorial ( https://kapernikov.com/ipywidgets-with-matplotlib/ )\n",
    "\n",
    "To create more high level components, we can also subclass a container and build up our gui from within. Containers have a `children` property to which we can assign a list of widgets that should be displayed. Although, we can assign a list, this is turned into a tuple and cannot be modified afterwards.\n",
    "To remove or add a widget at runtime, the children tuple can be turned back into a list, followed by an insert or deletion and finalised by reassigning to the children property. Since it can be easy to make mistakes when going by index, I tend to add a placeholder box in which I only place the 'dynamic' widget.\n",
    "\n",
    "The example below, packs the entire oscilloscope 'dashboard' in a single component by subclassing `VBox`. All the required widgets are defined in the Sines class and added as its `children`. The callbacks are defined as instance methods. It may not be a masterpiece in object oriented programming, but hopefully it shows the idea of constructing larger reusable components. Note that, we need to call `super().__init__()` from `__init__` to properly initialise the parent class. "
   ]
  },
  {
   "cell_type": "code",
   "execution_count": 18,
   "metadata": {
    "colab": {
     "referenced_widgets": [
      "8a20d44680d74e1c95b416f2f682bd8a"
     ]
    },
    "id": "csGPTHy7Ci8_",
    "outputId": "51d5c9b9-116b-4d92-8c30-16f04a339ffb"
   },
   "outputs": [
    {
     "data": {
      "application/vnd.jupyter.widget-view+json": {
       "model_id": "3945cddba04045b1a8dea84bca538129",
       "version_major": 2,
       "version_minor": 0
      },
      "text/plain": [
       "Sines(children=(VBox(children=(IntSlider(value=1, description='freq', max=10), ColorPicker(value='#FF00DD', de…"
      ]
     },
     "metadata": {},
     "output_type": "display_data"
    }
   ],
   "source": [
    "def make_box_layout():\n",
    "     return widgets.Layout(\n",
    "        border='solid 1px black',\n",
    "        margin='0px 10px 10px 0px',\n",
    "        padding='5px 5px 5px 5px'\n",
    "     )\n",
    "\n",
    "class Sines(widgets.HBox):\n",
    "    \n",
    "    def __init__(self):\n",
    "        super().__init__()\n",
    "        output = widgets.Output()\n",
    "\n",
    "        self.x = np.linspace(0, 2 * np.pi, 100)\n",
    "        initial_color = '#FF00DD'\n",
    "\n",
    "        with output:\n",
    "            self.fig, self.ax = plt.subplots(constrained_layout=True, figsize=(5, 3.5))\n",
    "        self.line, = self.ax.plot(self.x, np.sin(self.x), initial_color)\n",
    "        \n",
    "        self.fig.canvas.toolbar_position = 'bottom'\n",
    "        self.ax.grid(True)\n",
    "\n",
    "        # define widgets\n",
    "        int_slider = widgets.IntSlider(\n",
    "            value=1, \n",
    "            min=0, \n",
    "            max=10, \n",
    "            step=1, \n",
    "            description='freq'\n",
    "        )\n",
    "        color_picker = widgets.ColorPicker(\n",
    "            value=initial_color, \n",
    "            description='pick a color'\n",
    "        )\n",
    "        text_xlabel = widgets.Text(\n",
    "            value='', \n",
    "            description='xlabel', \n",
    "            continuous_update=False\n",
    "        )\n",
    "        text_ylabel = widgets.Text(\n",
    "            value='', \n",
    "            description='ylabel', \n",
    "            continuous_update=False\n",
    "        )\n",
    "\n",
    "        controls = widgets.VBox([\n",
    "            int_slider, \n",
    "            color_picker, \n",
    "            text_xlabel, \n",
    "            text_ylabel\n",
    "        ])\n",
    "        controls.layout = make_box_layout()\n",
    "        \n",
    "        out_box = widgets.Box([output])\n",
    "        output.layout = make_box_layout()\n",
    "\n",
    "        # observe stuff\n",
    "        int_slider.observe(self.update, 'value')\n",
    "        color_picker.observe(self.line_color, 'value')\n",
    "        text_xlabel.observe(self.update_xlabel, 'value')\n",
    "        text_ylabel.observe(self.update_ylabel, 'value')\n",
    "        \n",
    "        text_xlabel.value = 'x'\n",
    "        text_ylabel.value = 'y'\n",
    "        \n",
    "\n",
    "        # add to children\n",
    "        self.children = [controls, output]\n",
    "    \n",
    "    def update(self, change):\n",
    "        \"\"\"Draw line in plot\"\"\"\n",
    "        self.line.set_ydata(np.sin(change.new * self.x))\n",
    "        self.fig.canvas.draw()\n",
    "\n",
    "    def line_color(self, change):\n",
    "        self.line.set_color(change.new)\n",
    "\n",
    "    def update_xlabel(self, change):\n",
    "        self.ax.set_xlabel(change.new)\n",
    "\n",
    "    def update_ylabel(self, change):\n",
    "        self.ax.set_ylabel(change.new)\n",
    "        \n",
    "        \n",
    "Sines()"
   ]
  },
  {
   "cell_type": "code",
   "execution_count": 19,
   "metadata": {
    "colab": {
     "referenced_widgets": [
      "37cbba7703f246dda23a0d07c1dd3c2f"
     ]
    },
    "id": "kOSRPPJgCi9A",
    "outputId": "7edb59ea-60ed-4d63-cfff-6a447f4c833c"
   },
   "outputs": [
    {
     "data": {
      "application/vnd.jupyter.widget-view+json": {
       "model_id": "adaa99cbd1214a408f27004e42af5ae1",
       "version_major": 2,
       "version_minor": 0
      },
      "text/plain": [
       "Canvas(toolbar=Toolbar(toolitems=[('Home', 'Reset original view', 'home', 'home'), ('Back', 'Back to previous …"
      ]
     },
     "metadata": {},
     "output_type": "display_data"
    },
    {
     "data": {
      "application/vnd.jupyter.widget-view+json": {
       "model_id": "9db93fd0d4b94d46b177e61bd2585f13",
       "version_major": 2,
       "version_minor": 0
      },
      "text/plain": [
       "interactive(children=(IntSlider(value=1, description='w', max=10), FloatSlider(value=1.0, description='amp', m…"
      ]
     },
     "metadata": {},
     "output_type": "display_data"
    }
   ],
   "source": [
    "# Method 2: CLEAR selected axes and redraw with each operation (use OO API)\n",
    "# BACKENDS: NOT for INLINE !\n",
    "def my_sine(x, w, amp, phi):\n",
    "    return amp*np.sin(w * (x-phi))\n",
    "#\n",
    "x = np.linspace(0, 2 * np.pi, 100)\n",
    "fig= plt.figure(figsize=(3, 3))\n",
    "\n",
    "@interact(w=(0, 10, 1), amp=(0, 4, .1), phi=(0, 2*np.pi, 0.01))\n",
    "def update(w = 1.0, amp=1, phi=0):\n",
    "    plt.clf()\n",
    "    gs = fig.add_gridspec(2, 1)\n",
    "    ax1 = fig.add_subplot(gs[0, 0])\n",
    "    ax2 = fig.add_subplot(gs[1, 0])\n",
    "    #ax = fig.add_axes()\n",
    "    ax1.plot(x, my_sine(x, w, amp, phi), color='C0')\n",
    "    ax1.set_ylim([-4, 4])\n",
    "    ax1.grid(True)\n",
    "    #plt.show()"
   ]
  },
  {
   "cell_type": "code",
   "execution_count": 20,
   "metadata": {},
   "outputs": [],
   "source": [
    "firstRun=True\n",
    "def gui3(number):\n",
    "    global firstRun\n",
    "    if firstRun:\n",
    "        print('number')\n",
    "        firstRun=False\n",
    "    print(str(number))"
   ]
  },
  {
   "cell_type": "code",
   "execution_count": 21,
   "metadata": {},
   "outputs": [
    {
     "name": "stdout",
     "output_type": "stream",
     "text": [
      "number\n",
      "1\n",
      "50\n",
      "7\n"
     ]
    }
   ],
   "source": [
    "gui3(1)\n",
    "gui3(50)\n",
    "gui3(7)"
   ]
  },
  {
   "cell_type": "code",
   "execution_count": null,
   "metadata": {},
   "outputs": [],
   "source": []
  }
 ],
 "metadata": {
  "colab": {
   "name": "ipywidgets-mpl-inline.ipynb",
   "provenance": [],
   "toc_visible": true
  },
  "kernelspec": {
   "display_name": "Python 3",
   "language": "python",
   "name": "python3"
  },
  "language_info": {
   "codemirror_mode": {
    "name": "ipython",
    "version": 3
   },
   "file_extension": ".py",
   "mimetype": "text/x-python",
   "name": "python",
   "nbconvert_exporter": "python",
   "pygments_lexer": "ipython3",
   "version": "3.8.3"
  },
  "widgets": {
   "application/vnd.jupyter.widget-state+json": {
    "state": {
     "0020dd74948e407e9d5cc9f2cb996e0e": {
      "model_module": "jupyter-matplotlib",
      "model_module_version": "^0.7.4",
      "model_name": "MPLCanvasModel",
      "state": {
       "_cursor": "default",
       "_figure_label": "Figure 8",
       "_height": 400,
       "_image_mode": "diff",
       "_width": 800,
       "layout": "IPY_MODEL_805288f8e7fc4b27bb1b3ea4adedfa78",
       "toolbar": "IPY_MODEL_4be7be70fd57411690bc5857ac4ec0a7",
       "toolbar_position": "left"
      }
     },
     "03201d50bb254f75aa7ceadfb18c1b0c": {
      "model_module": "jupyter-matplotlib",
      "model_module_version": "^0.7.4",
      "model_name": "MPLCanvasModel",
      "state": {
       "_cursor": "default",
       "_figure_label": "Figure 5",
       "_height": 400,
       "_width": 400,
       "layout": "IPY_MODEL_6fe77699be144be395741a0ae6b43117",
       "toolbar": "IPY_MODEL_66c15cc351b04d1b8c6dceefa08062cd",
       "toolbar_position": "bottom"
      }
     },
     "03852f734bcf4e9c8d12503c514fd80b": {
      "model_module": "@jupyter-widgets/controls",
      "model_module_version": "1.5.0",
      "model_name": "SliderStyleModel",
      "state": {
       "description_width": ""
      }
     },
     "040deaa9a528429783ae370f60bd9427": {
      "model_module": "@jupyter-widgets/base",
      "model_module_version": "1.2.0",
      "model_name": "LayoutModel",
      "state": {}
     },
     "0431338004e14fa5af6aaf78b98ea15c": {
      "model_module": "@jupyter-widgets/controls",
      "model_module_version": "1.5.0",
      "model_name": "VBoxModel",
      "state": {
       "_dom_classes": [
        "widget-interact"
       ],
       "children": [
        "IPY_MODEL_c0a82d741189459a9cc1475553f9cfb1",
        "IPY_MODEL_90b954e9c6cf42ddb13e6b31487600b5",
        "IPY_MODEL_f89e760872cb4c9c9de54daf3d8d4197",
        "IPY_MODEL_0a2554f450a34f4e9c8dc88eb1115a76"
       ],
       "layout": "IPY_MODEL_9da3ebb00b614e7c8cd083cd7ddc1a38"
      }
     },
     "047c97a78b1e473e9022df05029f656f": {
      "model_module": "jupyter-matplotlib",
      "model_module_version": "^0.7.4",
      "model_name": "MPLCanvasModel",
      "state": {
       "_cursor": "default",
       "_figure_label": "Figure 10",
       "_height": 400,
       "_width": 800,
       "layout": "IPY_MODEL_678ee9956eae41d784c47a226257195d",
       "toolbar": "IPY_MODEL_d613c13992964a2c84b9a24a757f63fc",
       "toolbar_position": "left"
      }
     },
     "049b8d581051436583099466a4099a4a": {
      "model_module": "@jupyter-widgets/base",
      "model_module_version": "1.2.0",
      "model_name": "LayoutModel",
      "state": {}
     },
     "04d6311132b8447ba0f2da70ec52557f": {
      "model_module": "@jupyter-widgets/base",
      "model_module_version": "1.2.0",
      "model_name": "LayoutModel",
      "state": {}
     },
     "0534f2d2ed394b05975eef953fcbc0f2": {
      "model_module": "@jupyter-widgets/base",
      "model_module_version": "1.2.0",
      "model_name": "LayoutModel",
      "state": {}
     },
     "0566b4eb88a4425b8ac2663c82401161": {
      "model_module": "jupyter-matplotlib",
      "model_module_version": "^0.7.4",
      "model_name": "ToolbarModel",
      "state": {
       "layout": "IPY_MODEL_254000f0cc9c4ba6b7db91d978f34fb7",
       "toolitems": [
        [
         "Home",
         "Reset original view",
         "home",
         "home"
        ],
        [
         "Back",
         "Back to previous view",
         "arrow-left",
         "back"
        ],
        [
         "Forward",
         "Forward to next view",
         "arrow-right",
         "forward"
        ],
        [
         "Pan",
         "Left button pans, Right button zooms\nx/y fixes axis, CTRL fixes aspect",
         "arrows",
         "pan"
        ],
        [
         "Zoom",
         "Zoom to rectangle\nx/y fixes axis, CTRL fixes aspect",
         "square-o",
         "zoom"
        ],
        [
         "Download",
         "Download plot",
         "floppy-o",
         "save_figure"
        ]
       ]
      }
     },
     "05893b6e3bde49f98b9d057ebad21644": {
      "model_module": "@jupyter-widgets/controls",
      "model_module_version": "1.5.0",
      "model_name": "FloatSliderModel",
      "state": {
       "description": "phi",
       "layout": "IPY_MODEL_151b12ff768a4b768f055e12b08ac38e",
       "max": 6.283185307179586,
       "step": 0.01,
       "style": "IPY_MODEL_87117c5b2b1d47adadcd3ae3cc0f550e"
      }
     },
     "05c2f357e4a741f3b02f999dfaeec244": {
      "model_module": "@jupyter-widgets/base",
      "model_module_version": "1.2.0",
      "model_name": "LayoutModel",
      "state": {}
     },
     "060b399471554a60bc197b63321f9c9f": {
      "model_module": "@jupyter-widgets/controls",
      "model_module_version": "1.5.0",
      "model_name": "ColorPickerModel",
      "state": {
       "description": "pick a color",
       "disabled": false,
       "layout": "IPY_MODEL_8d695aca5e9e47b092dc5ca1e0ff8180",
       "style": "IPY_MODEL_bfd4ef069077410481448dedc45ffef2",
       "value": "#FF0000"
      }
     },
     "065e1cddc79d46db8fcd8565fd1e0666": {
      "model_module": "@jupyter-widgets/output",
      "model_module_version": "1.0.0",
      "model_name": "OutputModel",
      "state": {
       "layout": "IPY_MODEL_d27e53000298402cb250cea0c4592e9e"
      }
     },
     "06e9283be0e54195869e60068d9e293c": {
      "model_module": "@jupyter-widgets/base",
      "model_module_version": "1.2.0",
      "model_name": "LayoutModel",
      "state": {}
     },
     "0751d0907bd8414aa5282f8d5d34c443": {
      "model_module": "@jupyter-widgets/controls",
      "model_module_version": "1.5.0",
      "model_name": "TextModel",
      "state": {
       "continuous_update": false,
       "description": "xlabel",
       "layout": "IPY_MODEL_dea72e37480d44a784220bb4f6947ddd",
       "style": "IPY_MODEL_ace4b2061eea4d669f9419c160b83822",
       "value": "x"
      }
     },
     "08aa1f03a19d4d30be148882eabf3fcf": {
      "model_module": "@jupyter-widgets/controls",
      "model_module_version": "1.5.0",
      "model_name": "FloatSliderModel",
      "state": {
       "description": "Frequency",
       "layout": "IPY_MODEL_7ddc2eb894be45f5bae7c505a4e97668",
       "max": 600,
       "min": 100,
       "step": 10,
       "style": "IPY_MODEL_e94214e818b04feeba7ea9406a7d5feb",
       "value": 360
      }
     },
     "095c35c188e748b49332891ec0481f73": {
      "model_module": "@jupyter-widgets/base",
      "model_module_version": "1.2.0",
      "model_name": "LayoutModel",
      "state": {}
     },
     "0a2554f450a34f4e9c8dc88eb1115a76": {
      "model_module": "@jupyter-widgets/output",
      "model_module_version": "1.0.0",
      "model_name": "OutputModel",
      "state": {
       "layout": "IPY_MODEL_fa2c5b4880af41fa81a75d1184066f2a"
      }
     },
     "0bb842d6903a426496d2e0204e9144bc": {
      "model_module": "@jupyter-widgets/base",
      "model_module_version": "1.2.0",
      "model_name": "LayoutModel",
      "state": {}
     },
     "0c38a59f9d4644768135a1347c776331": {
      "model_module": "jupyter-matplotlib",
      "model_module_version": "^0.7.4",
      "model_name": "ToolbarModel",
      "state": {
       "layout": "IPY_MODEL_2326bd9af59d40e58717218c9e70ce76",
       "toolitems": [
        [
         "Home",
         "Reset original view",
         "home",
         "home"
        ],
        [
         "Back",
         "Back to previous view",
         "arrow-left",
         "back"
        ],
        [
         "Forward",
         "Forward to next view",
         "arrow-right",
         "forward"
        ],
        [
         "Pan",
         "Left button pans, Right button zooms\nx/y fixes axis, CTRL fixes aspect",
         "arrows",
         "pan"
        ],
        [
         "Zoom",
         "Zoom to rectangle\nx/y fixes axis, CTRL fixes aspect",
         "square-o",
         "zoom"
        ],
        [
         "Download",
         "Download plot",
         "floppy-o",
         "save_figure"
        ]
       ]
      }
     },
     "0c8a26cfe6a048c898e0ac3d47db9637": {
      "model_module": "jupyter-matplotlib",
      "model_module_version": "^0.7.4",
      "model_name": "ToolbarModel",
      "state": {
       "layout": "IPY_MODEL_ac4fc71d80c545cf8d215999b2bfd988",
       "toolitems": [
        [
         "Home",
         "Reset original view",
         "home",
         "home"
        ],
        [
         "Back",
         "Back to previous view",
         "arrow-left",
         "back"
        ],
        [
         "Forward",
         "Forward to next view",
         "arrow-right",
         "forward"
        ],
        [
         "Pan",
         "Left button pans, Right button zooms\nx/y fixes axis, CTRL fixes aspect",
         "arrows",
         "pan"
        ],
        [
         "Zoom",
         "Zoom to rectangle\nx/y fixes axis, CTRL fixes aspect",
         "square-o",
         "zoom"
        ],
        [
         "Download",
         "Download plot",
         "floppy-o",
         "save_figure"
        ]
       ]
      }
     },
     "0cc47de7768548fdadc7716bdc2b5693": {
      "model_module": "@jupyter-widgets/controls",
      "model_module_version": "1.5.0",
      "model_name": "FloatSliderModel",
      "state": {
       "description": "Frequency",
       "layout": "IPY_MODEL_801d0def55da447eafb8da4a0b9f33c8",
       "max": 600,
       "min": 100,
       "step": 10,
       "style": "IPY_MODEL_52745d0cc0ce42aa99c6f41357c9cb36",
       "value": 100
      }
     },
     "0e7d9d12b5184cb2838f513ee27f1acc": {
      "model_module": "@jupyter-widgets/controls",
      "model_module_version": "1.5.0",
      "model_name": "VBoxModel",
      "state": {
       "children": [
        "IPY_MODEL_e186908c69104030971626c7e9ff2adf",
        "IPY_MODEL_52f35d6639544f2f839c4d0964d4c537"
       ],
       "layout": "IPY_MODEL_bf84f3360c48430198691409811acd38"
      }
     },
     "0eaa88cee5af4bb1a30d4347031cc71d": {
      "model_module": "@jupyter-widgets/base",
      "model_module_version": "1.2.0",
      "model_name": "LayoutModel",
      "state": {
       "border": "solid 1px black",
       "margin": "0px 10px 10px 0px",
       "padding": "5px 5px 5px 5px"
      }
     },
     "0eaf1741ba6b4075a31598fac6ce499f": {
      "model_module": "@jupyter-widgets/base",
      "model_module_version": "1.2.0",
      "model_name": "LayoutModel",
      "state": {}
     },
     "0f6bf0a5ed224adb8891d67bed6e4a3c": {
      "model_module": "@jupyter-widgets/base",
      "model_module_version": "1.2.0",
      "model_name": "LayoutModel",
      "state": {}
     },
     "102582e07f1547b9adec2cc52e765ede": {
      "model_module": "@jupyter-widgets/base",
      "model_module_version": "1.2.0",
      "model_name": "LayoutModel",
      "state": {}
     },
     "10846e3afa6b4895ae1d29584d79db82": {
      "model_module": "@jupyter-widgets/controls",
      "model_module_version": "1.5.0",
      "model_name": "FloatSliderModel",
      "state": {
       "description": "Frequency",
       "layout": "IPY_MODEL_339e343053304034afe44ecdff4ce2b1",
       "max": 600,
       "min": 100,
       "step": 10,
       "style": "IPY_MODEL_ca93a6c7be42497dbab86338e73851c8",
       "value": 100
      }
     },
     "10cd1e5537c54aee92c3a3b560c62f55": {
      "model_module": "@jupyter-widgets/controls",
      "model_module_version": "1.5.0",
      "model_name": "FloatSliderModel",
      "state": {
       "description": "Frequency",
       "layout": "IPY_MODEL_6198a189c1184a22aecf427c8c58ed93",
       "max": 500,
       "min": 50,
       "step": 5,
       "style": "IPY_MODEL_641cecbd26b34e38ab922fbf72525aa0",
       "value": 200
      }
     },
     "125be2be6ac7435a8b96725010648103": {
      "model_module": "@jupyter-widgets/base",
      "model_module_version": "1.2.0",
      "model_name": "LayoutModel",
      "state": {
       "border": "solid 1px black",
       "height": "100%",
       "margin": "0px 10px 10px 0px",
       "padding": "5px 5px 5px 5px",
       "width": "50%"
      }
     },
     "13a377f3d47b40afb27852797acdaffc": {
      "model_module": "@jupyter-widgets/controls",
      "model_module_version": "1.5.0",
      "model_name": "FloatSliderModel",
      "state": {
       "description": "Frequency",
       "layout": "IPY_MODEL_a86f4cb3aaa54643b8b721ab1b788aaf",
       "max": 600,
       "min": 100,
       "step": 10,
       "style": "IPY_MODEL_37879fe93f1f497da28e32270154098b",
       "value": 100
      }
     },
     "13b54b3695ea43b49a1b0aea0cc36124": {
      "model_module": "@jupyter-widgets/base",
      "model_module_version": "1.2.0",
      "model_name": "LayoutModel",
      "state": {}
     },
     "151b12ff768a4b768f055e12b08ac38e": {
      "model_module": "@jupyter-widgets/base",
      "model_module_version": "1.2.0",
      "model_name": "LayoutModel",
      "state": {}
     },
     "153acdd03ee94dd5a873554a4bafd309": {
      "model_module": "@jupyter-widgets/base",
      "model_module_version": "1.2.0",
      "model_name": "LayoutModel",
      "state": {}
     },
     "1697646100304bd7a07faa01ea5b0127": {
      "model_module": "@jupyter-widgets/base",
      "model_module_version": "1.2.0",
      "model_name": "LayoutModel",
      "state": {
       "border": "solid 1px black",
       "margin": "0px 10px 10px 0px",
       "padding": "5px 5px 5px 5px"
      }
     },
     "174e29df9c79419cb3ae679f6992482a": {
      "model_module": "@jupyter-widgets/controls",
      "model_module_version": "1.5.0",
      "model_name": "SliderStyleModel",
      "state": {
       "description_width": ""
      }
     },
     "17d28c053c3a440783104c8b5d4a603a": {
      "model_module": "@jupyter-widgets/base",
      "model_module_version": "1.2.0",
      "model_name": "LayoutModel",
      "state": {}
     },
     "1aa9e45fd5474a6c9f978a72278a73bf": {
      "model_module": "@jupyter-widgets/base",
      "model_module_version": "1.2.0",
      "model_name": "LayoutModel",
      "state": {}
     },
     "1b29a17158714b44b4f01e20f9810490": {
      "model_module": "@jupyter-widgets/output",
      "model_module_version": "1.0.0",
      "model_name": "OutputModel",
      "state": {
       "layout": "IPY_MODEL_56b47f018757478fb90ec04fcec77eb3"
      }
     },
     "1d5371bb22a24fd0936a9444159f975b": {
      "model_module": "@jupyter-widgets/controls",
      "model_module_version": "1.5.0",
      "model_name": "FloatSliderModel",
      "state": {
       "description": "Amplitude",
       "layout": "IPY_MODEL_afc75600d64a4664aa88f52fd0c0b878",
       "max": 1,
       "step": 0.05,
       "style": "IPY_MODEL_3673758768a1406fbf08476c6d6b8ef7",
       "value": 1
      }
     },
     "1d6481d4d30b405b9599bd5b8513ae81": {
      "model_module": "@jupyter-widgets/output",
      "model_module_version": "1.0.0",
      "model_name": "OutputModel",
      "state": {
       "layout": "IPY_MODEL_ab7c5fd067dc4a8b9b9cec82a554c0eb"
      }
     },
     "1eb51982bcaf48ad9b29fbe2061b0c03": {
      "model_module": "@jupyter-widgets/base",
      "model_module_version": "1.2.0",
      "model_name": "LayoutModel",
      "state": {}
     },
     "1f0ed15ebafc4267b50e86c7770d92ee": {
      "model_module": "@jupyter-widgets/controls",
      "model_module_version": "1.5.0",
      "model_name": "VBoxModel",
      "state": {
       "_dom_classes": [
        "widget-interact"
       ],
       "children": [
        "IPY_MODEL_fef2932d59564ab084e0b0ac512ab9aa",
        "IPY_MODEL_921cd66fb63942f9bd5d8e2abc3f6ad2",
        "IPY_MODEL_d7a5512c48fb413a8830f228b7eb67b0",
        "IPY_MODEL_6cc9f211d31340e8a753fb3f31f25208"
       ],
       "layout": "IPY_MODEL_80dc20b911794978aed0c0d371ea0d76"
      }
     },
     "1f52f9566c7d4ae58d8ed466428552e8": {
      "model_module": "@jupyter-widgets/controls",
      "model_module_version": "1.5.0",
      "model_name": "VBoxModel",
      "state": {
       "children": [
        "IPY_MODEL_f13b1bb8f023440689c08d016e301ee4"
       ],
       "layout": "IPY_MODEL_6cb86f128293464b98eb13030964bbf2"
      }
     },
     "20201016dff942ae97e1514c967fe472": {
      "model_module": "@jupyter-widgets/base",
      "model_module_version": "1.2.0",
      "model_name": "LayoutModel",
      "state": {}
     },
     "2166977eca0c453786792cc424bc797a": {
      "model_module": "@jupyter-widgets/base",
      "model_module_version": "1.2.0",
      "model_name": "LayoutModel",
      "state": {}
     },
     "218912d9de004dffaee7e9af0437168f": {
      "model_module": "@jupyter-widgets/controls",
      "model_module_version": "1.5.0",
      "model_name": "SliderStyleModel",
      "state": {
       "description_width": ""
      }
     },
     "2326bd9af59d40e58717218c9e70ce76": {
      "model_module": "@jupyter-widgets/base",
      "model_module_version": "1.2.0",
      "model_name": "LayoutModel",
      "state": {}
     },
     "236a887d22c84378a6c879f56511c120": {
      "model_module": "@jupyter-widgets/base",
      "model_module_version": "1.2.0",
      "model_name": "LayoutModel",
      "state": {}
     },
     "23ff7cb667d640fa824e4df35da83767": {
      "model_module": "@jupyter-widgets/controls",
      "model_module_version": "1.5.0",
      "model_name": "DropdownModel",
      "state": {
       "_options_labels": [
        "sin",
        "square",
        "sawtooth"
       ],
       "description": "Signal",
       "index": 0,
       "layout": "IPY_MODEL_80ee94a4b32247cf98cbcffbe4e648e5",
       "style": "IPY_MODEL_36b3b3af441749c0a0476af772ef5542"
      }
     },
     "24492ac252b8448ab6b119f02bb1f013": {
      "model_module": "@jupyter-widgets/base",
      "model_module_version": "1.2.0",
      "model_name": "LayoutModel",
      "state": {}
     },
     "254000f0cc9c4ba6b7db91d978f34fb7": {
      "model_module": "@jupyter-widgets/base",
      "model_module_version": "1.2.0",
      "model_name": "LayoutModel",
      "state": {}
     },
     "26a6f1c1e32747b0a9dd4df9180db6b4": {
      "model_module": "@jupyter-widgets/output",
      "model_module_version": "1.0.0",
      "model_name": "OutputModel",
      "state": {
       "layout": "IPY_MODEL_40a81ddc50a8425b83b15eeda05e130b",
       "outputs": [
        {
         "data": {
          "text/html": "\n                <audio  controls=\"controls\" autoplay=\"autoplay\">\n                    <source src=\"data:audio/wav;base64,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\" type=\"audio/wav\" />\n                    Your browser does not support the audio element.\n                </audio>\n              ",
          "text/plain": "<IPython.lib.display.Audio object>"
         },
         "metadata": {},
         "output_type": "display_data"
        }
       ]
      }
     },
     "26a7581ac74c4ba6bc1313656ca2ea30": {
      "model_module": "@jupyter-widgets/base",
      "model_module_version": "1.2.0",
      "model_name": "LayoutModel",
      "state": {}
     },
     "26f3dda089454c5db1464682ff35460e": {
      "model_module": "@jupyter-widgets/base",
      "model_module_version": "1.2.0",
      "model_name": "LayoutModel",
      "state": {}
     },
     "271871bf61b9431bbd4fb29cf29db58c": {
      "model_module": "@jupyter-widgets/base",
      "model_module_version": "1.2.0",
      "model_name": "LayoutModel",
      "state": {}
     },
     "271fc2e2f2214197a33437c552411ed5": {
      "model_module": "@jupyter-widgets/base",
      "model_module_version": "1.2.0",
      "model_name": "LayoutModel",
      "state": {}
     },
     "2840a79ae12d4e60a65055f5581faa8c": {
      "model_module": "@jupyter-widgets/base",
      "model_module_version": "1.2.0",
      "model_name": "LayoutModel",
      "state": {
       "border": "solid 1px black",
       "margin": "0px 10px 10px 0px",
       "padding": "5px 5px 5px 5px"
      }
     },
     "28c37c40a0084ac8bb39f21fa178ca61": {
      "model_module": "@jupyter-widgets/controls",
      "model_module_version": "1.5.0",
      "model_name": "IntSliderModel",
      "state": {
       "description": "w",
       "layout": "IPY_MODEL_13b54b3695ea43b49a1b0aea0cc36124",
       "max": 10,
       "style": "IPY_MODEL_174e29df9c79419cb3ae679f6992482a",
       "value": 1
      }
     },
     "293ae93cdddf4c98825f186c6e780e1e": {
      "model_module": "jupyter-matplotlib",
      "model_module_version": "^0.7.4",
      "model_name": "MPLCanvasModel",
      "state": {
       "_cursor": "default",
       "_figure_label": "Figure 13",
       "_height": 400,
       "_width": 800,
       "layout": "IPY_MODEL_e6862ea201f44bfda582648dae3b2c22",
       "toolbar": "IPY_MODEL_5485a4f1a9f8403eb6209dba831f9227",
       "toolbar_position": "left"
      }
     },
     "2bd37183512d448bb67da4fbb6b086c8": {
      "model_module": "@jupyter-widgets/base",
      "model_module_version": "1.2.0",
      "model_name": "LayoutModel",
      "state": {}
     },
     "2c63ac8d7793442ebe07cb8113b6f8de": {
      "model_module": "jupyter-matplotlib",
      "model_module_version": "^0.7.4",
      "model_name": "MPLCanvasModel",
      "state": {
       "_cursor": "default",
       "_figure_label": "Figure 3",
       "_height": 400,
       "_width": 400,
       "layout": "IPY_MODEL_c5cf795a977f4bfb9f4700910363a05d",
       "toolbar": "IPY_MODEL_3cf84c1b99584f43bd2ebb5c7df45615",
       "toolbar_position": "left"
      }
     },
     "2ea85ebf16fe40dca4a7fdd255dab506": {
      "model_module": "@jupyter-widgets/controls",
      "model_module_version": "1.5.0",
      "model_name": "FloatSliderModel",
      "state": {
       "description": "phi",
       "layout": "IPY_MODEL_e6d7f6c6125b4bc0a4dabb6edd61b462",
       "max": 6.283185307179586,
       "step": 0.01,
       "style": "IPY_MODEL_89896b75a6924587964b8e9248699e98"
      }
     },
     "30dbbf76bf4e4cc39cddf00d91663fe1": {
      "model_module": "@jupyter-widgets/controls",
      "model_module_version": "1.5.0",
      "model_name": "VBoxModel",
      "state": {
       "children": [
        "IPY_MODEL_f0949b8e99c04fa48bbe4918bee88731",
        "IPY_MODEL_060b399471554a60bc197b63321f9c9f",
        "IPY_MODEL_0751d0907bd8414aa5282f8d5d34c443",
        "IPY_MODEL_cc63b6afb8884b01ab659fcf52827674"
       ],
       "layout": "IPY_MODEL_6d27f86c34014485a3d40729f368ee1c"
      }
     },
     "3251c2ffcab2469fbd258f8f3e5246ba": {
      "model_module": "@jupyter-widgets/base",
      "model_module_version": "1.2.0",
      "model_name": "LayoutModel",
      "state": {}
     },
     "339e343053304034afe44ecdff4ce2b1": {
      "model_module": "@jupyter-widgets/base",
      "model_module_version": "1.2.0",
      "model_name": "LayoutModel",
      "state": {}
     },
     "33f291453d8840feb67e2895850ee8f9": {
      "model_module": "@jupyter-widgets/base",
      "model_module_version": "1.2.0",
      "model_name": "LayoutModel",
      "state": {}
     },
     "34564bbcf09a4bdcbeb64b30bc5df674": {
      "model_module": "@jupyter-widgets/base",
      "model_module_version": "1.2.0",
      "model_name": "LayoutModel",
      "state": {
       "border": "solid 1px black",
       "margin": "0px 10px 10px 0px",
       "padding": "5px 5px 5px 5px"
      }
     },
     "365747a1409d4a11902d1ff662821c3b": {
      "model_module": "@jupyter-widgets/base",
      "model_module_version": "1.2.0",
      "model_name": "LayoutModel",
      "state": {}
     },
     "3673758768a1406fbf08476c6d6b8ef7": {
      "model_module": "@jupyter-widgets/controls",
      "model_module_version": "1.5.0",
      "model_name": "SliderStyleModel",
      "state": {
       "description_width": ""
      }
     },
     "36b3b3af441749c0a0476af772ef5542": {
      "model_module": "@jupyter-widgets/controls",
      "model_module_version": "1.5.0",
      "model_name": "DescriptionStyleModel",
      "state": {
       "description_width": ""
      }
     },
     "37879fe93f1f497da28e32270154098b": {
      "model_module": "@jupyter-widgets/controls",
      "model_module_version": "1.5.0",
      "model_name": "SliderStyleModel",
      "state": {
       "description_width": ""
      }
     },
     "378be5e7b0dc4a43b88f820bb495bdca": {
      "model_module": "@jupyter-widgets/controls",
      "model_module_version": "1.5.0",
      "model_name": "FloatSliderModel",
      "state": {
       "description": "amp",
       "layout": "IPY_MODEL_85fcddc1e5a44b7ba6f4566735bbaa11",
       "max": 4,
       "step": 0.1,
       "style": "IPY_MODEL_e9acc9fc8f5c4d3e8a88b1522a5b3f79",
       "value": 1
      }
     },
     "37affb829a7c41a590f0e8f955064217": {
      "model_module": "jupyter-matplotlib",
      "model_module_version": "^0.7.4",
      "model_name": "ToolbarModel",
      "state": {
       "layout": "IPY_MODEL_1eb51982bcaf48ad9b29fbe2061b0c03",
       "toolitems": [
        [
         "Home",
         "Reset original view",
         "home",
         "home"
        ],
        [
         "Back",
         "Back to previous view",
         "arrow-left",
         "back"
        ],
        [
         "Forward",
         "Forward to next view",
         "arrow-right",
         "forward"
        ],
        [
         "Pan",
         "Left button pans, Right button zooms\nx/y fixes axis, CTRL fixes aspect",
         "arrows",
         "pan"
        ],
        [
         "Zoom",
         "Zoom to rectangle\nx/y fixes axis, CTRL fixes aspect",
         "square-o",
         "zoom"
        ],
        [
         "Download",
         "Download plot",
         "floppy-o",
         "save_figure"
        ]
       ]
      }
     },
     "37f86710d380491888dd38f93e90cc62": {
      "model_module": "@jupyter-widgets/controls",
      "model_module_version": "1.5.0",
      "model_name": "FloatSliderModel",
      "state": {
       "description": "Frequency",
       "layout": "IPY_MODEL_0534f2d2ed394b05975eef953fcbc0f2",
       "max": 600,
       "min": 100,
       "step": 10,
       "style": "IPY_MODEL_fe220e620a5447878250734973df0f38",
       "value": 220
      }
     },
     "386b968c939f48f48f79361a8d978ab2": {
      "model_module": "@jupyter-widgets/base",
      "model_module_version": "1.2.0",
      "model_name": "LayoutModel",
      "state": {}
     },
     "39447e68b61c484a909289e2fd25aa90": {
      "model_module": "@jupyter-widgets/controls",
      "model_module_version": "1.5.0",
      "model_name": "SliderStyleModel",
      "state": {
       "description_width": ""
      }
     },
     "3945cddba04045b1a8dea84bca538129": {
      "model_module": "@jupyter-widgets/controls",
      "model_module_version": "1.5.0",
      "model_name": "HBoxModel",
      "state": {
       "children": [
        "IPY_MODEL_d93df0d4e646484d97c31b2ece1085d5",
        "IPY_MODEL_4f28040feb784973a19e3c96e833b965"
       ],
       "layout": "IPY_MODEL_a9dd515ce42e4fa796dfcab99991d6e7"
      }
     },
     "39727ac8d3b8495e8ca1f95493293228": {
      "model_module": "@jupyter-widgets/base",
      "model_module_version": "1.2.0",
      "model_name": "LayoutModel",
      "state": {}
     },
     "39a194a3194c4f4a98ca7a0e8a01d65d": {
      "model_module": "@jupyter-widgets/base",
      "model_module_version": "1.2.0",
      "model_name": "LayoutModel",
      "state": {}
     },
     "3a02e19525d544998a47f91d4f214f4b": {
      "model_module": "jupyter-matplotlib",
      "model_module_version": "^0.7.4",
      "model_name": "ToolbarModel",
      "state": {
       "layout": "IPY_MODEL_eaf8f2453288475ea1062e93e149334a",
       "toolitems": [
        [
         "Home",
         "Reset original view",
         "home",
         "home"
        ],
        [
         "Back",
         "Back to previous view",
         "arrow-left",
         "back"
        ],
        [
         "Forward",
         "Forward to next view",
         "arrow-right",
         "forward"
        ],
        [
         "Pan",
         "Left button pans, Right button zooms\nx/y fixes axis, CTRL fixes aspect",
         "arrows",
         "pan"
        ],
        [
         "Zoom",
         "Zoom to rectangle\nx/y fixes axis, CTRL fixes aspect",
         "square-o",
         "zoom"
        ],
        [
         "Download",
         "Download plot",
         "floppy-o",
         "save_figure"
        ]
       ]
      }
     },
     "3a854aeddac44193b1b5bbdc4c6b79dd": {
      "model_module": "@jupyter-widgets/controls",
      "model_module_version": "1.5.0",
      "model_name": "DescriptionStyleModel",
      "state": {
       "description_width": ""
      }
     },
     "3c1e5523d9d945a782c00a06cb4373b6": {
      "model_module": "@jupyter-widgets/base",
      "model_module_version": "1.2.0",
      "model_name": "LayoutModel",
      "state": {}
     },
     "3cf84c1b99584f43bd2ebb5c7df45615": {
      "model_module": "jupyter-matplotlib",
      "model_module_version": "^0.7.4",
      "model_name": "ToolbarModel",
      "state": {
       "layout": "IPY_MODEL_9d83911e38e242aa9d7d69680e4e1d49",
       "toolitems": [
        [
         "Home",
         "Reset original view",
         "home",
         "home"
        ],
        [
         "Back",
         "Back to previous view",
         "arrow-left",
         "back"
        ],
        [
         "Forward",
         "Forward to next view",
         "arrow-right",
         "forward"
        ],
        [
         "Pan",
         "Left button pans, Right button zooms\nx/y fixes axis, CTRL fixes aspect",
         "arrows",
         "pan"
        ],
        [
         "Zoom",
         "Zoom to rectangle\nx/y fixes axis, CTRL fixes aspect",
         "square-o",
         "zoom"
        ],
        [
         "Download",
         "Download plot",
         "floppy-o",
         "save_figure"
        ]
       ]
      }
     },
     "3de051a86ada4a3a9ebd2039c58761dc": {
      "model_module": "@jupyter-widgets/controls",
      "model_module_version": "1.5.0",
      "model_name": "VBoxModel",
      "state": {
       "children": [
        "IPY_MODEL_4b81b866e27048439b705432bfb48959"
       ],
       "layout": "IPY_MODEL_f04f77c14f1a41ee8c6087dfce493002"
      }
     },
     "3df92f45a31e464fbcfe5010213b11b2": {
      "model_module": "@jupyter-widgets/base",
      "model_module_version": "1.2.0",
      "model_name": "LayoutModel",
      "state": {}
     },
     "3e4a98a7fca04bd4a9a5a14515099455": {
      "model_module": "@jupyter-widgets/base",
      "model_module_version": "1.2.0",
      "model_name": "LayoutModel",
      "state": {}
     },
     "3f3ec7e3994149bd96e8bc78c589e520": {
      "model_module": "@jupyter-widgets/base",
      "model_module_version": "1.2.0",
      "model_name": "LayoutModel",
      "state": {}
     },
     "3f46dd5d82d64355a7914bdfd40758af": {
      "model_module": "@jupyter-widgets/controls",
      "model_module_version": "1.5.0",
      "model_name": "FloatSliderModel",
      "state": {
       "description": "amp",
       "layout": "IPY_MODEL_ade6d3113f834f43bab5062d6891c4bc",
       "max": 4,
       "step": 0.1,
       "style": "IPY_MODEL_f10604364db44e099ccde62d5c531587",
       "value": 1
      }
     },
     "3f8fed1e7b414bf9b1d043b4d81efe34": {
      "model_module": "jupyter-matplotlib",
      "model_module_version": "^0.7.4",
      "model_name": "ToolbarModel",
      "state": {
       "layout": "IPY_MODEL_20201016dff942ae97e1514c967fe472",
       "orientation": "horizontal",
       "toolitems": [
        [
         "Home",
         "Reset original view",
         "home",
         "home"
        ],
        [
         "Back",
         "Back to previous view",
         "arrow-left",
         "back"
        ],
        [
         "Forward",
         "Forward to next view",
         "arrow-right",
         "forward"
        ],
        [
         "Pan",
         "Left button pans, Right button zooms\nx/y fixes axis, CTRL fixes aspect",
         "arrows",
         "pan"
        ],
        [
         "Zoom",
         "Zoom to rectangle\nx/y fixes axis, CTRL fixes aspect",
         "square-o",
         "zoom"
        ],
        [
         "Download",
         "Download plot",
         "floppy-o",
         "save_figure"
        ]
       ]
      }
     },
     "40a81ddc50a8425b83b15eeda05e130b": {
      "model_module": "@jupyter-widgets/base",
      "model_module_version": "1.2.0",
      "model_name": "LayoutModel",
      "state": {}
     },
     "431b9cf82c0540ad8b1f57d6e6b1e443": {
      "model_module": "@jupyter-widgets/base",
      "model_module_version": "1.2.0",
      "model_name": "LayoutModel",
      "state": {}
     },
     "4478b93bc8224b2194ccb3a7e1912f06": {
      "model_module": "@jupyter-widgets/controls",
      "model_module_version": "1.5.0",
      "model_name": "SliderStyleModel",
      "state": {
       "description_width": ""
      }
     },
     "45f3dee925944187bf116a54f509fe2f": {
      "model_module": "@jupyter-widgets/base",
      "model_module_version": "1.2.0",
      "model_name": "LayoutModel",
      "state": {
       "border": "solid 1px black",
       "margin": "0px 10px 10px 0px",
       "padding": "5px 5px 5px 5px"
      }
     },
     "48a8c3d52ab04201b80e50230129d8fd": {
      "model_module": "@jupyter-widgets/controls",
      "model_module_version": "1.5.0",
      "model_name": "DescriptionStyleModel",
      "state": {
       "description_width": ""
      }
     },
     "48cf21d6b174497180178d09aef0e133": {
      "model_module": "@jupyter-widgets/base",
      "model_module_version": "1.2.0",
      "model_name": "LayoutModel",
      "state": {}
     },
     "491d4f534d4541cdb1b16e6e419db659": {
      "model_module": "@jupyter-widgets/controls",
      "model_module_version": "1.5.0",
      "model_name": "VBoxModel",
      "state": {
       "children": [
        "IPY_MODEL_1f52f9566c7d4ae58d8ed466428552e8",
        "IPY_MODEL_1d6481d4d30b405b9599bd5b8513ae81"
       ],
       "layout": "IPY_MODEL_6c5cf9f59d7340939cc65f23616a7559"
      }
     },
     "49209cec19f64e0bbfa664e60b323e10": {
      "model_module": "@jupyter-widgets/base",
      "model_module_version": "1.2.0",
      "model_name": "LayoutModel",
      "state": {}
     },
     "4a011d9064704f4f8eda052287eae5d7": {
      "model_module": "@jupyter-widgets/base",
      "model_module_version": "1.2.0",
      "model_name": "LayoutModel",
      "state": {}
     },
     "4a3525ea385e49328811ccaa8e408251": {
      "model_module": "@jupyter-widgets/output",
      "model_module_version": "1.0.0",
      "model_name": "OutputModel",
      "state": {
       "layout": "IPY_MODEL_386b968c939f48f48f79361a8d978ab2"
      }
     },
     "4aed9fb9fdb6481a9df1ff151eb05e85": {
      "model_module": "@jupyter-widgets/base",
      "model_module_version": "1.2.0",
      "model_name": "LayoutModel",
      "state": {}
     },
     "4b65a56d89fc492ebf828715db5b631a": {
      "model_module": "@jupyter-widgets/output",
      "model_module_version": "1.0.0",
      "model_name": "OutputModel",
      "state": {
       "layout": "IPY_MODEL_33f291453d8840feb67e2895850ee8f9"
      }
     },
     "4b81b866e27048439b705432bfb48959": {
      "model_module": "@jupyter-widgets/controls",
      "model_module_version": "1.5.0",
      "model_name": "FloatSliderModel",
      "state": {
       "description": "Frequency",
       "layout": "IPY_MODEL_80c37835e5bc4523bf16f1bc62b4313d",
       "max": 600,
       "min": 100,
       "step": 10,
       "style": "IPY_MODEL_789da1fe573f4b5cbe0ed5bd09a40dc2",
       "value": 100
      }
     },
     "4be7be70fd57411690bc5857ac4ec0a7": {
      "model_module": "jupyter-matplotlib",
      "model_module_version": "^0.7.4",
      "model_name": "ToolbarModel",
      "state": {
       "layout": "IPY_MODEL_cccfbf550e3d43ecb4da32455805f32d",
       "toolitems": [
        [
         "Home",
         "Reset original view",
         "home",
         "home"
        ],
        [
         "Back",
         "Back to previous view",
         "arrow-left",
         "back"
        ],
        [
         "Forward",
         "Forward to next view",
         "arrow-right",
         "forward"
        ],
        [
         "Pan",
         "Left button pans, Right button zooms\nx/y fixes axis, CTRL fixes aspect",
         "arrows",
         "pan"
        ],
        [
         "Zoom",
         "Zoom to rectangle\nx/y fixes axis, CTRL fixes aspect",
         "square-o",
         "zoom"
        ],
        [
         "Download",
         "Download plot",
         "floppy-o",
         "save_figure"
        ]
       ]
      }
     },
     "4dab7e9f5fbe41708154b6c9cf957b49": {
      "model_module": "@jupyter-widgets/controls",
      "model_module_version": "1.5.0",
      "model_name": "SliderStyleModel",
      "state": {
       "description_width": ""
      }
     },
     "4dcb3ee675bc4e68aa8ac2ecc1b594e7": {
      "model_module": "jupyter-matplotlib",
      "model_module_version": "^0.7.4",
      "model_name": "ToolbarModel",
      "state": {
       "layout": "IPY_MODEL_fd0a7f7480cf420a90611f0e57e0e8b2",
       "toolitems": [
        [
         "Home",
         "Reset original view",
         "home",
         "home"
        ],
        [
         "Back",
         "Back to previous view",
         "arrow-left",
         "back"
        ],
        [
         "Forward",
         "Forward to next view",
         "arrow-right",
         "forward"
        ],
        [
         "Pan",
         "Left button pans, Right button zooms\nx/y fixes axis, CTRL fixes aspect",
         "arrows",
         "pan"
        ],
        [
         "Zoom",
         "Zoom to rectangle\nx/y fixes axis, CTRL fixes aspect",
         "square-o",
         "zoom"
        ],
        [
         "Download",
         "Download plot",
         "floppy-o",
         "save_figure"
        ]
       ]
      }
     },
     "4e81004acb93422594a9b91e01021092": {
      "model_module": "@jupyter-widgets/base",
      "model_module_version": "1.2.0",
      "model_name": "LayoutModel",
      "state": {}
     },
     "4eecce95fd0640708e9a494ca23f9850": {
      "model_module": "@jupyter-widgets/base",
      "model_module_version": "1.2.0",
      "model_name": "LayoutModel",
      "state": {}
     },
     "4f28040feb784973a19e3c96e833b965": {
      "model_module": "@jupyter-widgets/output",
      "model_module_version": "1.0.0",
      "model_name": "OutputModel",
      "state": {
       "layout": "IPY_MODEL_dc595c4a8d08413ba21df2aef87fe0b7",
       "outputs": [
        {
         "data": {
          "application/vnd.jupyter.widget-view+json": {
           "model_id": "704efaaa972e425d92ce87eda281d7f7",
           "version_major": 2,
           "version_minor": 0
          },
          "text/plain": "Canvas(toolbar=Toolbar(toolitems=[('Home', 'Reset original view', 'home', 'home'), ('Back', 'Back to previous …"
         },
         "metadata": {},
         "output_type": "display_data"
        }
       ]
      }
     },
     "4fc6bd2842da4a59976d913f8eaf5195": {
      "model_module": "@jupyter-widgets/base",
      "model_module_version": "1.2.0",
      "model_name": "LayoutModel",
      "state": {}
     },
     "51accafa11124378965e44c27823f7f5": {
      "model_module": "jupyter-matplotlib",
      "model_module_version": "^0.7.4",
      "model_name": "ToolbarModel",
      "state": {
       "layout": "IPY_MODEL_24492ac252b8448ab6b119f02bb1f013",
       "toolitems": [
        [
         "Home",
         "Reset original view",
         "home",
         "home"
        ],
        [
         "Back",
         "Back to previous view",
         "arrow-left",
         "back"
        ],
        [
         "Forward",
         "Forward to next view",
         "arrow-right",
         "forward"
        ],
        [
         "Pan",
         "Left button pans, Right button zooms\nx/y fixes axis, CTRL fixes aspect",
         "arrows",
         "pan"
        ],
        [
         "Zoom",
         "Zoom to rectangle\nx/y fixes axis, CTRL fixes aspect",
         "square-o",
         "zoom"
        ],
        [
         "Download",
         "Download plot",
         "floppy-o",
         "save_figure"
        ]
       ]
      }
     },
     "51b9e8dd4a1f404a85b8701448bb89c4": {
      "model_module": "@jupyter-widgets/controls",
      "model_module_version": "1.5.0",
      "model_name": "SliderStyleModel",
      "state": {
       "description_width": ""
      }
     },
     "520f3c955b5444ef890033cf57894d2f": {
      "model_module": "@jupyter-widgets/controls",
      "model_module_version": "1.5.0",
      "model_name": "FloatSliderModel",
      "state": {
       "continuous_update": false,
       "description": "Duration",
       "layout": "IPY_MODEL_bbcdfaf6ac5247a8ba916b74c711033e",
       "max": 0.4,
       "min": 0.1,
       "step": 0.05,
       "style": "IPY_MODEL_7300bbff2301468ca3d591475616d094",
       "value": 0.2
      }
     },
     "52745d0cc0ce42aa99c6f41357c9cb36": {
      "model_module": "@jupyter-widgets/controls",
      "model_module_version": "1.5.0",
      "model_name": "SliderStyleModel",
      "state": {
       "description_width": ""
      }
     },
     "52c9695c2d8c4aaab59e97b0de91a493": {
      "model_module": "@jupyter-widgets/output",
      "model_module_version": "1.0.0",
      "model_name": "OutputModel",
      "state": {
       "layout": "IPY_MODEL_a82164547ddc4998be6a3f0f1335e0ad",
       "outputs": [
        {
         "data": {
          "text/html": "\n                <audio  controls=\"controls\" autoplay=\"autoplay\">\n                    <source src=\"data:audio/wav;base64,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\" type=\"audio/wav\" />\n                    Your browser does not support the audio element.\n                </audio>\n              ",
          "text/plain": "<IPython.lib.display.Audio object>"
         },
         "metadata": {},
         "output_type": "display_data"
        }
       ]
      }
     },
     "52f35d6639544f2f839c4d0964d4c537": {
      "model_module": "@jupyter-widgets/output",
      "model_module_version": "1.0.0",
      "model_name": "OutputModel",
      "state": {
       "layout": "IPY_MODEL_1aa9e45fd5474a6c9f978a72278a73bf",
       "outputs": [
        {
         "data": {
          "application/vnd.jupyter.widget-view+json": {
           "model_id": "",
           "version_major": 2,
           "version_minor": 0
          },
          "text/plain": "Canvas(toolbar=Toolbar(toolitems=[('Home', 'Reset original view', 'home', 'home'), ('Back', 'Back to previous …"
         },
         "metadata": {},
         "output_type": "display_data"
        }
       ]
      }
     },
     "53b6330e73f74dd18073ef7961e69c48": {
      "model_module": "@jupyter-widgets/controls",
      "model_module_version": "1.5.0",
      "model_name": "VBoxModel",
      "state": {
       "children": [
        "IPY_MODEL_72fe20ed94ee487db64b880f8be03836"
       ],
       "layout": "IPY_MODEL_2840a79ae12d4e60a65055f5581faa8c"
      }
     },
     "5485a4f1a9f8403eb6209dba831f9227": {
      "model_module": "jupyter-matplotlib",
      "model_module_version": "^0.7.4",
      "model_name": "ToolbarModel",
      "state": {
       "layout": "IPY_MODEL_6ce1e0b6a32a4e138cc18039f58506cc",
       "toolitems": [
        [
         "Home",
         "Reset original view",
         "home",
         "home"
        ],
        [
         "Back",
         "Back to previous view",
         "arrow-left",
         "back"
        ],
        [
         "Forward",
         "Forward to next view",
         "arrow-right",
         "forward"
        ],
        [
         "Pan",
         "Left button pans, Right button zooms\nx/y fixes axis, CTRL fixes aspect",
         "arrows",
         "pan"
        ],
        [
         "Zoom",
         "Zoom to rectangle\nx/y fixes axis, CTRL fixes aspect",
         "square-o",
         "zoom"
        ],
        [
         "Download",
         "Download plot",
         "floppy-o",
         "save_figure"
        ]
       ]
      }
     },
     "54b116dce8154fe19984b4fa954b7c12": {
      "model_module": "@jupyter-widgets/base",
      "model_module_version": "1.2.0",
      "model_name": "LayoutModel",
      "state": {}
     },
     "550b8663d30e4652a324fa32ac2f7b46": {
      "model_module": "@jupyter-widgets/output",
      "model_module_version": "1.0.0",
      "model_name": "OutputModel",
      "state": {
       "layout": "IPY_MODEL_575f35a3776542e4bc48cadff466ce97"
      }
     },
     "5543c7071b2c4c2a9caf6a509f7c710f": {
      "model_module": "jupyter-matplotlib",
      "model_module_version": "^0.7.4",
      "model_name": "ToolbarModel",
      "state": {
       "layout": "IPY_MODEL_9877e6703c2e4d7f90235d0a3c586a47",
       "toolitems": [
        [
         "Home",
         "Reset original view",
         "home",
         "home"
        ],
        [
         "Back",
         "Back to previous view",
         "arrow-left",
         "back"
        ],
        [
         "Forward",
         "Forward to next view",
         "arrow-right",
         "forward"
        ],
        [
         "Pan",
         "Left button pans, Right button zooms\nx/y fixes axis, CTRL fixes aspect",
         "arrows",
         "pan"
        ],
        [
         "Zoom",
         "Zoom to rectangle\nx/y fixes axis, CTRL fixes aspect",
         "square-o",
         "zoom"
        ],
        [
         "Download",
         "Download plot",
         "floppy-o",
         "save_figure"
        ]
       ]
      }
     },
     "569708be2f9d4d65887f5b1d782c8ebd": {
      "model_module": "@jupyter-widgets/controls",
      "model_module_version": "1.5.0",
      "model_name": "HBoxModel",
      "state": {
       "children": [
        "IPY_MODEL_30dbbf76bf4e4cc39cddf00d91663fe1",
        "IPY_MODEL_6e20347f8d49427a915a2407e4cd9408"
       ],
       "layout": "IPY_MODEL_39727ac8d3b8495e8ca1f95493293228"
      }
     },
     "56b47f018757478fb90ec04fcec77eb3": {
      "model_module": "@jupyter-widgets/base",
      "model_module_version": "1.2.0",
      "model_name": "LayoutModel",
      "state": {}
     },
     "56ff5f9dcc314da69916195aab7d8245": {
      "model_module": "jupyter-matplotlib",
      "model_module_version": "^0.7.4",
      "model_name": "ToolbarModel",
      "state": {
       "layout": "IPY_MODEL_a9ea19e01833441da7d37b43697c591f",
       "toolitems": [
        [
         "Home",
         "Reset original view",
         "home",
         "home"
        ],
        [
         "Back",
         "Back to previous view",
         "arrow-left",
         "back"
        ],
        [
         "Forward",
         "Forward to next view",
         "arrow-right",
         "forward"
        ],
        [
         "Pan",
         "Left button pans, Right button zooms\nx/y fixes axis, CTRL fixes aspect",
         "arrows",
         "pan"
        ],
        [
         "Zoom",
         "Zoom to rectangle\nx/y fixes axis, CTRL fixes aspect",
         "square-o",
         "zoom"
        ],
        [
         "Download",
         "Download plot",
         "floppy-o",
         "save_figure"
        ]
       ]
      }
     },
     "575f35a3776542e4bc48cadff466ce97": {
      "model_module": "@jupyter-widgets/base",
      "model_module_version": "1.2.0",
      "model_name": "LayoutModel",
      "state": {}
     },
     "5781a14d0eee4f9bb69473f317eccbec": {
      "model_module": "@jupyter-widgets/controls",
      "model_module_version": "1.5.0",
      "model_name": "SliderStyleModel",
      "state": {
       "description_width": ""
      }
     },
     "578b9182a48d49adab68ea1a84656417": {
      "model_module": "@jupyter-widgets/base",
      "model_module_version": "1.2.0",
      "model_name": "LayoutModel",
      "state": {}
     },
     "57c8b9f4b0d941d2908f1dd7f0de70df": {
      "model_module": "@jupyter-widgets/base",
      "model_module_version": "1.2.0",
      "model_name": "LayoutModel",
      "state": {}
     },
     "5910aed0e1bb491094d9d916b1d4bdb4": {
      "model_module": "@jupyter-widgets/base",
      "model_module_version": "1.2.0",
      "model_name": "LayoutModel",
      "state": {}
     },
     "598d310831e0464084fe9434f38af939": {
      "model_module": "@jupyter-widgets/controls",
      "model_module_version": "1.5.0",
      "model_name": "SliderStyleModel",
      "state": {
       "description_width": ""
      }
     },
     "5c126863d3394ec0bcd992d0386ae352": {
      "model_module": "@jupyter-widgets/base",
      "model_module_version": "1.2.0",
      "model_name": "LayoutModel",
      "state": {}
     },
     "604c6bf0cc7e41658c86695ee869328c": {
      "model_module": "@jupyter-widgets/base",
      "model_module_version": "1.2.0",
      "model_name": "LayoutModel",
      "state": {}
     },
     "6198a189c1184a22aecf427c8c58ed93": {
      "model_module": "@jupyter-widgets/base",
      "model_module_version": "1.2.0",
      "model_name": "LayoutModel",
      "state": {}
     },
     "62497cf41b644cd49f9cde5e4cc96400": {
      "model_module": "@jupyter-widgets/controls",
      "model_module_version": "1.5.0",
      "model_name": "FloatSliderModel",
      "state": {
       "description": "amp",
       "layout": "IPY_MODEL_3251c2ffcab2469fbd258f8f3e5246ba",
       "max": 4,
       "step": 0.1,
       "style": "IPY_MODEL_915791dd49d041ffa6d60923cfd2f707",
       "value": 1
      }
     },
     "63916ea92a734b7fa3e9ca72201dfc79": {
      "model_module": "@jupyter-widgets/controls",
      "model_module_version": "1.5.0",
      "model_name": "SliderStyleModel",
      "state": {
       "description_width": ""
      }
     },
     "641cecbd26b34e38ab922fbf72525aa0": {
      "model_module": "@jupyter-widgets/controls",
      "model_module_version": "1.5.0",
      "model_name": "SliderStyleModel",
      "state": {
       "description_width": ""
      }
     },
     "64a3e4fe3dfe40f29ed306b379b72b4f": {
      "model_module": "@jupyter-widgets/controls",
      "model_module_version": "1.5.0",
      "model_name": "VBoxModel",
      "state": {
       "children": [
        "IPY_MODEL_d6130506c6e840d0a79deb44c46fb694",
        "IPY_MODEL_9a57f29bded64617bc6116c60ace5777",
        "IPY_MODEL_9382ece99a294c548afb57fb2c3fdb8f"
       ],
       "layout": "IPY_MODEL_c21c4c6e6ba1441c962b4937873afe0f"
      }
     },
     "6695a9cdd01b4c0b84f71d2f5386f9f1": {
      "model_module": "jupyter-matplotlib",
      "model_module_version": "^0.7.4",
      "model_name": "MPLCanvasModel",
      "state": {
       "_cursor": "default",
       "_figure_label": "Figure 14",
       "_height": 400,
       "_image_mode": "diff",
       "_width": 800,
       "layout": "IPY_MODEL_ac0b1695c3724240a0732cd77ec718ea",
       "toolbar": "IPY_MODEL_72ea896bb39644008291792d7e5e7b49",
       "toolbar_position": "left"
      }
     },
     "66c15cc351b04d1b8c6dceefa08062cd": {
      "model_module": "jupyter-matplotlib",
      "model_module_version": "^0.7.4",
      "model_name": "ToolbarModel",
      "state": {
       "layout": "IPY_MODEL_a10904a145914b6b96a5be860ac4922b",
       "orientation": "horizontal",
       "toolitems": [
        [
         "Home",
         "Reset original view",
         "home",
         "home"
        ],
        [
         "Back",
         "Back to previous view",
         "arrow-left",
         "back"
        ],
        [
         "Forward",
         "Forward to next view",
         "arrow-right",
         "forward"
        ],
        [
         "Pan",
         "Left button pans, Right button zooms\nx/y fixes axis, CTRL fixes aspect",
         "arrows",
         "pan"
        ],
        [
         "Zoom",
         "Zoom to rectangle\nx/y fixes axis, CTRL fixes aspect",
         "square-o",
         "zoom"
        ],
        [
         "Download",
         "Download plot",
         "floppy-o",
         "save_figure"
        ]
       ]
      }
     },
     "678b1671c0714051aa20c90a46dcff97": {
      "model_module": "@jupyter-widgets/output",
      "model_module_version": "1.0.0",
      "model_name": "OutputModel",
      "state": {
       "layout": "IPY_MODEL_c45bc8c8401c4c00bda9fc28a8f7e3d8",
       "outputs": [
        {
         "data": {
          "application/vnd.jupyter.widget-view+json": {
           "model_id": "7e929e730a0340d6a8bcb7e8f08fb23b",
           "version_major": 2,
           "version_minor": 0
          },
          "text/plain": "Canvas(toolbar=Toolbar(toolitems=[('Home', 'Reset original view', 'home', 'home'), ('Back', 'Back to previous …"
         },
         "metadata": {},
         "output_type": "display_data"
        }
       ]
      }
     },
     "678ee9956eae41d784c47a226257195d": {
      "model_module": "@jupyter-widgets/base",
      "model_module_version": "1.2.0",
      "model_name": "LayoutModel",
      "state": {}
     },
     "68a1edbd2de240068aa486ce12784b28": {
      "model_module": "@jupyter-widgets/output",
      "model_module_version": "1.0.0",
      "model_name": "OutputModel",
      "state": {
       "layout": "IPY_MODEL_040deaa9a528429783ae370f60bd9427"
      }
     },
     "68e954b221474ee998561adabd45e9d0": {
      "model_module": "@jupyter-widgets/base",
      "model_module_version": "1.2.0",
      "model_name": "LayoutModel",
      "state": {}
     },
     "68ff130275204e98a8e87cc8e533377d": {
      "model_module": "@jupyter-widgets/output",
      "model_module_version": "1.0.0",
      "model_name": "OutputModel",
      "state": {
       "layout": "IPY_MODEL_98f730da52e94ab490f21857148ffd8f",
       "outputs": [
        {
         "data": {
          "application/vnd.jupyter.widget-view+json": {
           "model_id": "b78e2ba1fb8c41119af0da3f6ebb2c5c",
           "version_major": 2,
           "version_minor": 0
          },
          "text/plain": "Canvas(toolbar=Toolbar(toolitems=[('Home', 'Reset original view', 'home', 'home'), ('Back', 'Back to previous …"
         },
         "metadata": {},
         "output_type": "display_data"
        }
       ]
      }
     },
     "6a42d7a874014287916c1ad56af16907": {
      "model_module": "@jupyter-widgets/base",
      "model_module_version": "1.2.0",
      "model_name": "LayoutModel",
      "state": {}
     },
     "6c5cf9f59d7340939cc65f23616a7559": {
      "model_module": "@jupyter-widgets/base",
      "model_module_version": "1.2.0",
      "model_name": "LayoutModel",
      "state": {}
     },
     "6cb86f128293464b98eb13030964bbf2": {
      "model_module": "@jupyter-widgets/base",
      "model_module_version": "1.2.0",
      "model_name": "LayoutModel",
      "state": {
       "border": "solid 1px black",
       "margin": "0px 10px 10px 0px",
       "padding": "5px 5px 5px 5px"
      }
     },
     "6cc9f211d31340e8a753fb3f31f25208": {
      "model_module": "@jupyter-widgets/output",
      "model_module_version": "1.0.0",
      "model_name": "OutputModel",
      "state": {
       "layout": "IPY_MODEL_ef71cba66dd7454184b512e31385c5da",
       "outputs": [
        {
         "name": "stdout",
         "output_type": "stream",
         "text": "17\n"
        }
       ]
      }
     },
     "6ce1e0b6a32a4e138cc18039f58506cc": {
      "model_module": "@jupyter-widgets/base",
      "model_module_version": "1.2.0",
      "model_name": "LayoutModel",
      "state": {}
     },
     "6d27f86c34014485a3d40729f368ee1c": {
      "model_module": "@jupyter-widgets/base",
      "model_module_version": "1.2.0",
      "model_name": "LayoutModel",
      "state": {}
     },
     "6e20347f8d49427a915a2407e4cd9408": {
      "model_module": "@jupyter-widgets/output",
      "model_module_version": "1.0.0",
      "model_name": "OutputModel",
      "state": {
       "layout": "IPY_MODEL_26f3dda089454c5db1464682ff35460e",
       "outputs": [
        {
         "data": {
          "application/vnd.jupyter.widget-view+json": {
           "model_id": "03201d50bb254f75aa7ceadfb18c1b0c",
           "version_major": 2,
           "version_minor": 0
          },
          "text/plain": "Canvas(toolbar=Toolbar(toolitems=[('Home', 'Reset original view', 'home', 'home'), ('Back', 'Back to previous …"
         },
         "metadata": {},
         "output_type": "display_data"
        }
       ]
      }
     },
     "6e4ffd5bc2e242d7baa7f35053ad4c76": {
      "model_module": "@jupyter-widgets/base",
      "model_module_version": "1.2.0",
      "model_name": "LayoutModel",
      "state": {}
     },
     "6fa8aee6320f41ef95bec8407ffd8f7d": {
      "model_module": "@jupyter-widgets/controls",
      "model_module_version": "1.5.0",
      "model_name": "VBoxModel",
      "state": {
       "children": [
        "IPY_MODEL_bff1c533d6534317a5cfda87cc6f0cfd",
        "IPY_MODEL_e34398cdc8af4368862e056e6cbbaa8a",
        "IPY_MODEL_0cc47de7768548fdadc7716bdc2b5693",
        "IPY_MODEL_520f3c955b5444ef890033cf57894d2f"
       ],
       "layout": "IPY_MODEL_98f730da52e94ab490f21857148ffd8f"
      }
     },
     "6fe77699be144be395741a0ae6b43117": {
      "model_module": "@jupyter-widgets/base",
      "model_module_version": "1.2.0",
      "model_name": "LayoutModel",
      "state": {}
     },
     "704efaaa972e425d92ce87eda281d7f7": {
      "model_module": "jupyter-matplotlib",
      "model_module_version": "^0.7.4",
      "model_name": "MPLCanvasModel",
      "state": {
       "_cursor": "default",
       "_figure_label": "Figure 6",
       "_height": 350,
       "_width": 500,
       "layout": "IPY_MODEL_4a011d9064704f4f8eda052287eae5d7",
       "toolbar": "IPY_MODEL_3f8fed1e7b414bf9b1d043b4d81efe34",
       "toolbar_position": "bottom"
      }
     },
     "70b05cc6755742158e900d290e4a6e7f": {
      "model_module": "@jupyter-widgets/base",
      "model_module_version": "1.2.0",
      "model_name": "LayoutModel",
      "state": {}
     },
     "72db86a904674f26a082b6563ccfa678": {
      "model_module": "@jupyter-widgets/controls",
      "model_module_version": "1.5.0",
      "model_name": "FloatSliderModel",
      "state": {
       "continuous_update": false,
       "description": "Duration",
       "layout": "IPY_MODEL_5910aed0e1bb491094d9d916b1d4bdb4",
       "max": 2,
       "min": 0.1,
       "step": 0.1,
       "style": "IPY_MODEL_ff5db5f671ef4c5ca03caf782c7f256f",
       "value": 0.4
      }
     },
     "72ea896bb39644008291792d7e5e7b49": {
      "model_module": "jupyter-matplotlib",
      "model_module_version": "^0.7.4",
      "model_name": "ToolbarModel",
      "state": {
       "layout": "IPY_MODEL_3c1e5523d9d945a782c00a06cb4373b6",
       "toolitems": [
        [
         "Home",
         "Reset original view",
         "home",
         "home"
        ],
        [
         "Back",
         "Back to previous view",
         "arrow-left",
         "back"
        ],
        [
         "Forward",
         "Forward to next view",
         "arrow-right",
         "forward"
        ],
        [
         "Pan",
         "Left button pans, Right button zooms\nx/y fixes axis, CTRL fixes aspect",
         "arrows",
         "pan"
        ],
        [
         "Zoom",
         "Zoom to rectangle\nx/y fixes axis, CTRL fixes aspect",
         "square-o",
         "zoom"
        ],
        [
         "Download",
         "Download plot",
         "floppy-o",
         "save_figure"
        ]
       ]
      }
     },
     "72fe20ed94ee487db64b880f8be03836": {
      "model_module": "@jupyter-widgets/controls",
      "model_module_version": "1.5.0",
      "model_name": "FloatSliderModel",
      "state": {
       "description": "Frequency",
       "layout": "IPY_MODEL_8ff244b7f9bf4e42951b73107abdeb63",
       "max": 600,
       "min": 100,
       "step": 10,
       "style": "IPY_MODEL_baafe23aedca464bace8a5e0b4c4faaa",
       "value": 100
      }
     },
     "7300bbff2301468ca3d591475616d094": {
      "model_module": "@jupyter-widgets/controls",
      "model_module_version": "1.5.0",
      "model_name": "SliderStyleModel",
      "state": {
       "description_width": ""
      }
     },
     "7392cad43fb745cd8fc9e9dc4d3e59bb": {
      "model_module": "@jupyter-widgets/base",
      "model_module_version": "1.2.0",
      "model_name": "LayoutModel",
      "state": {}
     },
     "75071f92e9604063908580aa5112e06e": {
      "model_module": "@jupyter-widgets/controls",
      "model_module_version": "1.5.0",
      "model_name": "VBoxModel",
      "state": {
       "children": [
        "IPY_MODEL_e5762779ccbe4532a2a86edcac67719e"
       ],
       "layout": "IPY_MODEL_34564bbcf09a4bdcbeb64b30bc5df674"
      }
     },
     "759a8f9cee7c4d1588edc587eb23777b": {
      "model_module": "@jupyter-widgets/base",
      "model_module_version": "1.2.0",
      "model_name": "LayoutModel",
      "state": {}
     },
     "760b5e5883b94455b15ee7d5b46f9aba": {
      "model_module": "@jupyter-widgets/base",
      "model_module_version": "1.2.0",
      "model_name": "LayoutModel",
      "state": {}
     },
     "76a13f3fae7b490aa9f91cb236b5b909": {
      "model_module": "jupyter-matplotlib",
      "model_module_version": "^0.7.4",
      "model_name": "MPLCanvasModel",
      "state": {
       "_cursor": "default",
       "_figure_label": "Figure 18",
       "_height": 400,
       "_image_mode": "diff",
       "_width": 800,
       "layout": "IPY_MODEL_bbf74226654a4213a2e7bf1f3ccc7af6",
       "toolbar": "IPY_MODEL_e9fd7322e92d4f10a856ab9d293fa451",
       "toolbar_position": "left"
      }
     },
     "76d993e0a2974ca7a300bee1f6ba73db": {
      "model_module": "@jupyter-widgets/controls",
      "model_module_version": "1.5.0",
      "model_name": "IntSliderModel",
      "state": {
       "description": "w",
       "layout": "IPY_MODEL_ada47090fbd14c7793e88d0a698b6766",
       "max": 10,
       "style": "IPY_MODEL_51b9e8dd4a1f404a85b8701448bb89c4",
       "value": 1
      }
     },
     "773841e9ff4e4b9fb8bc6ec56f423725": {
      "model_module": "@jupyter-widgets/output",
      "model_module_version": "1.0.0",
      "model_name": "OutputModel",
      "state": {
       "layout": "IPY_MODEL_d1a1f1f933ef409883c7f7a1f2c09f67"
      }
     },
     "7786996032b048f99998472419e26712": {
      "model_module": "@jupyter-widgets/base",
      "model_module_version": "1.2.0",
      "model_name": "LayoutModel",
      "state": {}
     },
     "77cbf857464b477485e1047659ded20c": {
      "model_module": "@jupyter-widgets/controls",
      "model_module_version": "1.5.0",
      "model_name": "TextModel",
      "state": {
       "continuous_update": false,
       "description": "ylabel",
       "layout": "IPY_MODEL_e8093ebd0ac2483d8a1604efed6bdcce",
       "style": "IPY_MODEL_3a854aeddac44193b1b5bbdc4c6b79dd",
       "value": "y"
      }
     },
     "785c3eaf48ae4902ba46cd02469b4a70": {
      "model_module": "@jupyter-widgets/controls",
      "model_module_version": "1.5.0",
      "model_name": "VBoxModel",
      "state": {
       "_dom_classes": [
        "widget-interact"
       ],
       "children": [
        "IPY_MODEL_76d993e0a2974ca7a300bee1f6ba73db",
        "IPY_MODEL_065e1cddc79d46db8fcd8565fd1e0666"
       ],
       "layout": "IPY_MODEL_70b05cc6755742158e900d290e4a6e7f"
      }
     },
     "789da1fe573f4b5cbe0ed5bd09a40dc2": {
      "model_module": "@jupyter-widgets/controls",
      "model_module_version": "1.5.0",
      "model_name": "SliderStyleModel",
      "state": {
       "description_width": ""
      }
     },
     "78eea9ac0750431eb68bc6ff89ca2411": {
      "model_module": "@jupyter-widgets/controls",
      "model_module_version": "1.5.0",
      "model_name": "ColorPickerModel",
      "state": {
       "description": "pick a color",
       "disabled": false,
       "layout": "IPY_MODEL_0f6bf0a5ed224adb8891d67bed6e4a3c",
       "style": "IPY_MODEL_b5a6bbea8160453f80ab43db26ac2265",
       "value": "#FF00DD"
      }
     },
     "7927202ca3664a648b722527e0cb825c": {
      "model_module": "jupyter-matplotlib",
      "model_module_version": "^0.7.4",
      "model_name": "ToolbarModel",
      "state": {
       "layout": "IPY_MODEL_365747a1409d4a11902d1ff662821c3b",
       "toolitems": [
        [
         "Home",
         "Reset original view",
         "home",
         "home"
        ],
        [
         "Back",
         "Back to previous view",
         "arrow-left",
         "back"
        ],
        [
         "Forward",
         "Forward to next view",
         "arrow-right",
         "forward"
        ],
        [
         "Pan",
         "Left button pans, Right button zooms\nx/y fixes axis, CTRL fixes aspect",
         "arrows",
         "pan"
        ],
        [
         "Zoom",
         "Zoom to rectangle\nx/y fixes axis, CTRL fixes aspect",
         "square-o",
         "zoom"
        ],
        [
         "Download",
         "Download plot",
         "floppy-o",
         "save_figure"
        ]
       ]
      }
     },
     "79953a0336ed4425a809b1eac4fd922c": {
      "model_module": "jupyter-matplotlib",
      "model_module_version": "^0.7.4",
      "model_name": "MPLCanvasModel",
      "state": {
       "_cursor": "default",
       "_figure_label": "Figure 17",
       "_height": 400,
       "_image_mode": "diff",
       "_width": 800,
       "layout": "IPY_MODEL_759a8f9cee7c4d1588edc587eb23777b",
       "toolbar": "IPY_MODEL_0c8a26cfe6a048c898e0ac3d47db9637",
       "toolbar_position": "left"
      }
     },
     "7aad0f319dcc4ae7944b29441315de08": {
      "model_module": "@jupyter-widgets/base",
      "model_module_version": "1.2.0",
      "model_name": "LayoutModel",
      "state": {}
     },
     "7ddc2eb894be45f5bae7c505a4e97668": {
      "model_module": "@jupyter-widgets/base",
      "model_module_version": "1.2.0",
      "model_name": "LayoutModel",
      "state": {}
     },
     "7de0d794661448879b59f114c5b2e846": {
      "model_module": "@jupyter-widgets/base",
      "model_module_version": "1.2.0",
      "model_name": "LayoutModel",
      "state": {}
     },
     "7e171b23493c4f6abd72537d65be6364": {
      "model_module": "@jupyter-widgets/base",
      "model_module_version": "1.2.0",
      "model_name": "LayoutModel",
      "state": {}
     },
     "7e929e730a0340d6a8bcb7e8f08fb23b": {
      "model_module": "jupyter-matplotlib",
      "model_module_version": "^0.7.4",
      "model_name": "MPLCanvasModel",
      "state": {
       "_cursor": "default",
       "_figure_label": "Figure 4",
       "_height": 400,
       "_width": 500,
       "layout": "IPY_MODEL_54b116dce8154fe19984b4fa954b7c12",
       "toolbar": "IPY_MODEL_a5e8289db0b34544b7b0358c410fb8a0",
       "toolbar_position": "left"
      }
     },
     "7eb5cfd6fc10473097641af79bb27184": {
      "model_module": "@jupyter-widgets/controls",
      "model_module_version": "1.5.0",
      "model_name": "DescriptionStyleModel",
      "state": {
       "description_width": ""
      }
     },
     "801d0def55da447eafb8da4a0b9f33c8": {
      "model_module": "@jupyter-widgets/base",
      "model_module_version": "1.2.0",
      "model_name": "LayoutModel",
      "state": {}
     },
     "805288f8e7fc4b27bb1b3ea4adedfa78": {
      "model_module": "@jupyter-widgets/base",
      "model_module_version": "1.2.0",
      "model_name": "LayoutModel",
      "state": {}
     },
     "80acc751c4bc4b7ea04a4e0377408591": {
      "model_module": "@jupyter-widgets/controls",
      "model_module_version": "1.5.0",
      "model_name": "DescriptionStyleModel",
      "state": {
       "description_width": ""
      }
     },
     "80c37835e5bc4523bf16f1bc62b4313d": {
      "model_module": "@jupyter-widgets/base",
      "model_module_version": "1.2.0",
      "model_name": "LayoutModel",
      "state": {}
     },
     "80dc20b911794978aed0c0d371ea0d76": {
      "model_module": "@jupyter-widgets/base",
      "model_module_version": "1.2.0",
      "model_name": "LayoutModel",
      "state": {}
     },
     "80ee94a4b32247cf98cbcffbe4e648e5": {
      "model_module": "@jupyter-widgets/base",
      "model_module_version": "1.2.0",
      "model_name": "LayoutModel",
      "state": {}
     },
     "81d121e49db94f9fa3845e0212a1e8e7": {
      "model_module": "@jupyter-widgets/output",
      "model_module_version": "1.0.0",
      "model_name": "OutputModel",
      "state": {
       "layout": "IPY_MODEL_8aa315c254314648819f815341f4e5b1"
      }
     },
     "820baa6dad3f4dcd855c0ec767405f8b": {
      "model_module": "@jupyter-widgets/base",
      "model_module_version": "1.2.0",
      "model_name": "LayoutModel",
      "state": {}
     },
     "826f2dac101a48e1a4ac3b638565e114": {
      "model_module": "@jupyter-widgets/controls",
      "model_module_version": "1.5.0",
      "model_name": "IntSliderModel",
      "state": {
       "description": "freq",
       "layout": "IPY_MODEL_3e4a98a7fca04bd4a9a5a14515099455",
       "max": 10,
       "style": "IPY_MODEL_39447e68b61c484a909289e2fd25aa90",
       "value": 1
      }
     },
     "841955f614f2474d848acaee68c4af86": {
      "model_module": "@jupyter-widgets/base",
      "model_module_version": "1.2.0",
      "model_name": "LayoutModel",
      "state": {}
     },
     "84e36a76acb744fd901132a36672fb8f": {
      "model_module": "@jupyter-widgets/base",
      "model_module_version": "1.2.0",
      "model_name": "LayoutModel",
      "state": {}
     },
     "84e6c617601b4443a803980f66d05e35": {
      "model_module": "@jupyter-widgets/output",
      "model_module_version": "1.0.0",
      "model_name": "OutputModel",
      "state": {
       "layout": "IPY_MODEL_45f3dee925944187bf116a54f509fe2f",
       "outputs": [
        {
         "data": {
          "application/vnd.jupyter.widget-view+json": {
           "model_id": "9d0f87abaa2a402fb991ee2e1af2a8d9",
           "version_major": 2,
           "version_minor": 0
          },
          "text/plain": "Canvas(toolbar=Toolbar(toolitems=[('Home', 'Reset original view', 'home', 'home'), ('Back', 'Back to previous …"
         },
         "metadata": {},
         "output_type": "display_data"
        }
       ]
      }
     },
     "854269da6c7d41398b1c2d624533817c": {
      "model_module": "@jupyter-widgets/base",
      "model_module_version": "1.2.0",
      "model_name": "LayoutModel",
      "state": {}
     },
     "859aa25c07b44260a07890be52fb624a": {
      "model_module": "@jupyter-widgets/output",
      "model_module_version": "1.0.0",
      "model_name": "OutputModel",
      "state": {
       "layout": "IPY_MODEL_ea604ed4800043b48293dc89a449a46c"
      }
     },
     "85f8e2de66ba4df8a8b3c808ebd659b1": {
      "model_module": "@jupyter-widgets/controls",
      "model_module_version": "1.5.0",
      "model_name": "SliderStyleModel",
      "state": {
       "description_width": ""
      }
     },
     "85fcddc1e5a44b7ba6f4566735bbaa11": {
      "model_module": "@jupyter-widgets/base",
      "model_module_version": "1.2.0",
      "model_name": "LayoutModel",
      "state": {}
     },
     "87117c5b2b1d47adadcd3ae3cc0f550e": {
      "model_module": "@jupyter-widgets/controls",
      "model_module_version": "1.5.0",
      "model_name": "SliderStyleModel",
      "state": {
       "description_width": ""
      }
     },
     "87e82078b2fe4887856f77bac15f1203": {
      "model_module": "@jupyter-widgets/base",
      "model_module_version": "1.2.0",
      "model_name": "LayoutModel",
      "state": {}
     },
     "895cbf7836554b28a900fd78a1ccf7a9": {
      "model_module": "@jupyter-widgets/controls",
      "model_module_version": "1.5.0",
      "model_name": "VBoxModel",
      "state": {
       "children": [
        "IPY_MODEL_6fa8aee6320f41ef95bec8407ffd8f7d",
        "IPY_MODEL_f54024d27fde4289a00cd73f7a537e0f"
       ],
       "layout": "IPY_MODEL_98f730da52e94ab490f21857148ffd8f"
      }
     },
     "8967c13ede0846898bce0f86c6d17b71": {
      "model_module": "@jupyter-widgets/controls",
      "model_module_version": "1.5.0",
      "model_name": "FloatSliderModel",
      "state": {
       "description": "Amplitude",
       "layout": "IPY_MODEL_3f3ec7e3994149bd96e8bc78c589e520",
       "max": 1,
       "step": 0.05,
       "style": "IPY_MODEL_85f8e2de66ba4df8a8b3c808ebd659b1",
       "value": 0.5
      }
     },
     "89896b75a6924587964b8e9248699e98": {
      "model_module": "@jupyter-widgets/controls",
      "model_module_version": "1.5.0",
      "model_name": "SliderStyleModel",
      "state": {
       "description_width": ""
      }
     },
     "8a7f5fccbbf84c3a88c16d17b7f5f740": {
      "model_module": "jupyter-matplotlib",
      "model_module_version": "^0.7.4",
      "model_name": "MPLCanvasModel",
      "state": {
       "_cursor": "default",
       "_figure_label": "Figure 11",
       "_height": 400,
       "_message": "x=0.2415 y=0.028",
       "_width": 800,
       "layout": "IPY_MODEL_4eecce95fd0640708e9a494ca23f9850",
       "toolbar": "IPY_MODEL_37affb829a7c41a590f0e8f955064217",
       "toolbar_position": "left"
      }
     },
     "8aa315c254314648819f815341f4e5b1": {
      "model_module": "@jupyter-widgets/base",
      "model_module_version": "1.2.0",
      "model_name": "LayoutModel",
      "state": {}
     },
     "8b6841b3b8b7482f8565a632001b1e7f": {
      "model_module": "@jupyter-widgets/base",
      "model_module_version": "1.2.0",
      "model_name": "LayoutModel",
      "state": {}
     },
     "8d695aca5e9e47b092dc5ca1e0ff8180": {
      "model_module": "@jupyter-widgets/base",
      "model_module_version": "1.2.0",
      "model_name": "LayoutModel",
      "state": {}
     },
     "8ec73253f5c34bce8cd235365ff4b7bc": {
      "model_module": "@jupyter-widgets/controls",
      "model_module_version": "1.5.0",
      "model_name": "SliderStyleModel",
      "state": {
       "description_width": ""
      }
     },
     "8f6e2ceba7be41b39faf6dc284ecd3ad": {
      "model_module": "jupyter-matplotlib",
      "model_module_version": "^0.7.4",
      "model_name": "ToolbarModel",
      "state": {
       "layout": "IPY_MODEL_ee0c9c2168e44eeebae43a9681875d74",
       "toolitems": [
        [
         "Home",
         "Reset original view",
         "home",
         "home"
        ],
        [
         "Back",
         "Back to previous view",
         "arrow-left",
         "back"
        ],
        [
         "Forward",
         "Forward to next view",
         "arrow-right",
         "forward"
        ],
        [
         "Pan",
         "Left button pans, Right button zooms\nx/y fixes axis, CTRL fixes aspect",
         "arrows",
         "pan"
        ],
        [
         "Zoom",
         "Zoom to rectangle\nx/y fixes axis, CTRL fixes aspect",
         "square-o",
         "zoom"
        ],
        [
         "Download",
         "Download plot",
         "floppy-o",
         "save_figure"
        ]
       ]
      }
     },
     "8ff244b7f9bf4e42951b73107abdeb63": {
      "model_module": "@jupyter-widgets/base",
      "model_module_version": "1.2.0",
      "model_name": "LayoutModel",
      "state": {}
     },
     "90b954e9c6cf42ddb13e6b31487600b5": {
      "model_module": "@jupyter-widgets/controls",
      "model_module_version": "1.5.0",
      "model_name": "FloatSliderModel",
      "state": {
       "description": "amp",
       "layout": "IPY_MODEL_102582e07f1547b9adec2cc52e765ede",
       "max": 4,
       "step": 0.1,
       "style": "IPY_MODEL_4478b93bc8224b2194ccb3a7e1912f06",
       "value": 1
      }
     },
     "915791dd49d041ffa6d60923cfd2f707": {
      "model_module": "@jupyter-widgets/controls",
      "model_module_version": "1.5.0",
      "model_name": "SliderStyleModel",
      "state": {
       "description_width": ""
      }
     },
     "9162460ede5849b29bd67641dcdad757": {
      "model_module": "@jupyter-widgets/base",
      "model_module_version": "1.2.0",
      "model_name": "LayoutModel",
      "state": {}
     },
     "921cd66fb63942f9bd5d8e2abc3f6ad2": {
      "model_module": "@jupyter-widgets/controls",
      "model_module_version": "1.5.0",
      "model_name": "FloatSliderModel",
      "state": {
       "description": "amp",
       "layout": "IPY_MODEL_d3c5a549f09d4ed3ad2770399d201a03",
       "max": 4,
       "step": 0.1,
       "style": "IPY_MODEL_b61d84317e1546cf9d5f09ac885b91f9",
       "value": 1
      }
     },
     "9382ece99a294c548afb57fb2c3fdb8f": {
      "model_module": "@jupyter-widgets/output",
      "model_module_version": "1.0.0",
      "model_name": "OutputModel",
      "state": {
       "layout": "IPY_MODEL_604c6bf0cc7e41658c86695ee869328c",
       "outputs": [
        {
         "name": "stdout",
         "output_type": "stream",
         "text": "Audio playing unnormalized\n"
        }
       ]
      }
     },
     "94664268406f4820b6eee34a3a98e50f": {
      "model_module": "@jupyter-widgets/controls",
      "model_module_version": "1.5.0",
      "model_name": "VBoxModel",
      "state": {
       "children": [
        "IPY_MODEL_a7d629ba43434dfa8cf7a15156bc4d12",
        "IPY_MODEL_bb8678ee46a04650a4a85196e7585938"
       ],
       "layout": "IPY_MODEL_6a42d7a874014287916c1ad56af16907"
      }
     },
     "954e448d2d2f4b28b0a166a0acfc66c5": {
      "model_module": "jupyter-matplotlib",
      "model_module_version": "^0.7.4",
      "model_name": "ToolbarModel",
      "state": {
       "layout": "IPY_MODEL_d66b215b74564fe29bc71615794b53f6",
       "toolitems": [
        [
         "Home",
         "Reset original view",
         "home",
         "home"
        ],
        [
         "Back",
         "Back to previous view",
         "arrow-left",
         "back"
        ],
        [
         "Forward",
         "Forward to next view",
         "arrow-right",
         "forward"
        ],
        [
         "Pan",
         "Left button pans, Right button zooms\nx/y fixes axis, CTRL fixes aspect",
         "arrows",
         "pan"
        ],
        [
         "Zoom",
         "Zoom to rectangle\nx/y fixes axis, CTRL fixes aspect",
         "square-o",
         "zoom"
        ],
        [
         "Download",
         "Download plot",
         "floppy-o",
         "save_figure"
        ]
       ]
      }
     },
     "97a5335864b841d2948ce74687b2a487": {
      "model_module": "@jupyter-widgets/base",
      "model_module_version": "1.2.0",
      "model_name": "LayoutModel",
      "state": {}
     },
     "9877e6703c2e4d7f90235d0a3c586a47": {
      "model_module": "@jupyter-widgets/base",
      "model_module_version": "1.2.0",
      "model_name": "LayoutModel",
      "state": {}
     },
     "98e3a41d106a49f087e5818e65efa8f4": {
      "model_module": "@jupyter-widgets/controls",
      "model_module_version": "1.5.0",
      "model_name": "IntSliderModel",
      "state": {
       "description": "w",
       "layout": "IPY_MODEL_2166977eca0c453786792cc424bc797a",
       "max": 10,
       "style": "IPY_MODEL_5781a14d0eee4f9bb69473f317eccbec",
       "value": 1
      }
     },
     "98f730da52e94ab490f21857148ffd8f": {
      "model_module": "@jupyter-widgets/base",
      "model_module_version": "1.2.0",
      "model_name": "LayoutModel",
      "state": {
       "border": "solid 1px black",
       "margin": "0px 10px 10px 0px",
       "padding": "5px 5px 5px 5px"
      }
     },
     "99dd84be48b34fe7b0a8eaedb67e1ae1": {
      "model_module": "@jupyter-widgets/base",
      "model_module_version": "1.2.0",
      "model_name": "LayoutModel",
      "state": {
       "border": "solid 1px black",
       "margin": "0px 10px 10px 0px",
       "padding": "5px 5px 5px 5px"
      }
     },
     "99f30c7c95e14bd59c24625028113aad": {
      "model_module": "@jupyter-widgets/controls",
      "model_module_version": "1.5.0",
      "model_name": "VBoxModel",
      "state": {
       "children": [
        "IPY_MODEL_37f86710d380491888dd38f93e90cc62"
       ],
       "layout": "IPY_MODEL_bcbc837bc437438ab131148dcfffa762"
      }
     },
     "9a57f29bded64617bc6116c60ace5777": {
      "model_module": "@jupyter-widgets/output",
      "model_module_version": "1.0.0",
      "model_name": "OutputModel",
      "state": {
       "layout": "IPY_MODEL_06e9283be0e54195869e60068d9e293c",
       "outputs": [
        {
         "data": {
          "text/html": "\n                <audio  controls=\"controls\" autoplay=\"autoplay\">\n                    <source src=\"data:audio/wav;base64,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\" type=\"audio/wav\" />\n                    Your browser does not support the audio element.\n                </audio>\n              ",
          "text/plain": "<IPython.lib.display.Audio object>"
         },
         "metadata": {},
         "output_type": "display_data"
        }
       ]
      }
     },
     "9d83911e38e242aa9d7d69680e4e1d49": {
      "model_module": "@jupyter-widgets/base",
      "model_module_version": "1.2.0",
      "model_name": "LayoutModel",
      "state": {}
     },
     "9da3ebb00b614e7c8cd083cd7ddc1a38": {
      "model_module": "@jupyter-widgets/base",
      "model_module_version": "1.2.0",
      "model_name": "LayoutModel",
      "state": {}
     },
     "9db93fd0d4b94d46b177e61bd2585f13": {
      "model_module": "@jupyter-widgets/controls",
      "model_module_version": "1.5.0",
      "model_name": "VBoxModel",
      "state": {
       "_dom_classes": [
        "widget-interact"
       ],
       "children": [
        "IPY_MODEL_98e3a41d106a49f087e5818e65efa8f4",
        "IPY_MODEL_3f46dd5d82d64355a7914bdfd40758af",
        "IPY_MODEL_a5f6b095803f46d289558ede9d45759a",
        "IPY_MODEL_773841e9ff4e4b9fb8bc6ec56f423725"
       ],
       "layout": "IPY_MODEL_7de0d794661448879b59f114c5b2e846"
      }
     },
     "9f01592f9af148479da8abb01464078f": {
      "model_module": "@jupyter-widgets/controls",
      "model_module_version": "1.5.0",
      "model_name": "SliderStyleModel",
      "state": {
       "description_width": ""
      }
     },
     "9f66fa5d3d2541169aa0b12ccffb78a6": {
      "model_module": "@jupyter-widgets/controls",
      "model_module_version": "1.5.0",
      "model_name": "VBoxModel",
      "state": {
       "_dom_classes": [
        "widget-interact"
       ],
       "children": [
        "IPY_MODEL_28c37c40a0084ac8bb39f21fa178ca61",
        "IPY_MODEL_62497cf41b644cd49f9cde5e4cc96400",
        "IPY_MODEL_05893b6e3bde49f98b9d057ebad21644",
        "IPY_MODEL_4a3525ea385e49328811ccaa8e408251"
       ],
       "layout": "IPY_MODEL_aa7ea8c140e04ea58131bca7fd726402"
      }
     },
     "9fd70a33a6c34fc6b6ae8b31023dad1e": {
      "model_module": "@jupyter-widgets/output",
      "model_module_version": "1.0.0",
      "model_name": "OutputModel",
      "state": {
       "layout": "IPY_MODEL_d2fc0e706a734483ac56d3c735a570ec"
      }
     },
     "a10904a145914b6b96a5be860ac4922b": {
      "model_module": "@jupyter-widgets/base",
      "model_module_version": "1.2.0",
      "model_name": "LayoutModel",
      "state": {}
     },
     "a242863df2a34b229b9eeedee62b47dc": {
      "model_module": "@jupyter-widgets/controls",
      "model_module_version": "1.5.0",
      "model_name": "DescriptionStyleModel",
      "state": {
       "description_width": ""
      }
     },
     "a556361121024889814c226d744f9c74": {
      "model_module": "jupyter-matplotlib",
      "model_module_version": "^0.7.4",
      "model_name": "ToolbarModel",
      "state": {
       "layout": "IPY_MODEL_57c8b9f4b0d941d2908f1dd7f0de70df",
       "toolitems": [
        [
         "Home",
         "Reset original view",
         "home",
         "home"
        ],
        [
         "Back",
         "Back to previous view",
         "arrow-left",
         "back"
        ],
        [
         "Forward",
         "Forward to next view",
         "arrow-right",
         "forward"
        ],
        [
         "Pan",
         "Left button pans, Right button zooms\nx/y fixes axis, CTRL fixes aspect",
         "arrows",
         "pan"
        ],
        [
         "Zoom",
         "Zoom to rectangle\nx/y fixes axis, CTRL fixes aspect",
         "square-o",
         "zoom"
        ],
        [
         "Download",
         "Download plot",
         "floppy-o",
         "save_figure"
        ]
       ]
      }
     },
     "a5e8289db0b34544b7b0358c410fb8a0": {
      "model_module": "jupyter-matplotlib",
      "model_module_version": "^0.7.4",
      "model_name": "ToolbarModel",
      "state": {
       "layout": "IPY_MODEL_05c2f357e4a741f3b02f999dfaeec244",
       "toolitems": [
        [
         "Home",
         "Reset original view",
         "home",
         "home"
        ],
        [
         "Back",
         "Back to previous view",
         "arrow-left",
         "back"
        ],
        [
         "Forward",
         "Forward to next view",
         "arrow-right",
         "forward"
        ],
        [
         "Pan",
         "Left button pans, Right button zooms\nx/y fixes axis, CTRL fixes aspect",
         "arrows",
         "pan"
        ],
        [
         "Zoom",
         "Zoom to rectangle\nx/y fixes axis, CTRL fixes aspect",
         "square-o",
         "zoom"
        ],
        [
         "Download",
         "Download plot",
         "floppy-o",
         "save_figure"
        ]
       ]
      }
     },
     "a5f6b095803f46d289558ede9d45759a": {
      "model_module": "@jupyter-widgets/controls",
      "model_module_version": "1.5.0",
      "model_name": "FloatSliderModel",
      "state": {
       "description": "phi",
       "layout": "IPY_MODEL_841955f614f2474d848acaee68c4af86",
       "max": 6.283185307179586,
       "step": 0.01,
       "style": "IPY_MODEL_8ec73253f5c34bce8cd235365ff4b7bc"
      }
     },
     "a69ccb9e02d642139c9849b7552ae848": {
      "model_module": "@jupyter-widgets/output",
      "model_module_version": "1.0.0",
      "model_name": "OutputModel",
      "state": {
       "layout": "IPY_MODEL_760b5e5883b94455b15ee7d5b46f9aba"
      }
     },
     "a7d629ba43434dfa8cf7a15156bc4d12": {
      "model_module": "@jupyter-widgets/controls",
      "model_module_version": "1.5.0",
      "model_name": "VBoxModel",
      "state": {
       "children": [
        "IPY_MODEL_d2a0f3c97d694c08abac1a1201ca7ee1"
       ],
       "layout": "IPY_MODEL_b5c7d993af0140c88eb697bc0e569667"
      }
     },
     "a82164547ddc4998be6a3f0f1335e0ad": {
      "model_module": "@jupyter-widgets/base",
      "model_module_version": "1.2.0",
      "model_name": "LayoutModel",
      "state": {}
     },
     "a86f4cb3aaa54643b8b721ab1b788aaf": {
      "model_module": "@jupyter-widgets/base",
      "model_module_version": "1.2.0",
      "model_name": "LayoutModel",
      "state": {}
     },
     "a9dd515ce42e4fa796dfcab99991d6e7": {
      "model_module": "@jupyter-widgets/base",
      "model_module_version": "1.2.0",
      "model_name": "LayoutModel",
      "state": {}
     },
     "a9ea19e01833441da7d37b43697c591f": {
      "model_module": "@jupyter-widgets/base",
      "model_module_version": "1.2.0",
      "model_name": "LayoutModel",
      "state": {}
     },
     "aa7ea8c140e04ea58131bca7fd726402": {
      "model_module": "@jupyter-widgets/base",
      "model_module_version": "1.2.0",
      "model_name": "LayoutModel",
      "state": {}
     },
     "aae39ed13e344d58b57f6f380d62476d": {
      "model_module": "@jupyter-widgets/controls",
      "model_module_version": "1.5.0",
      "model_name": "IntSliderModel",
      "state": {
       "description": "w",
       "layout": "IPY_MODEL_04d6311132b8447ba0f2da70ec52557f",
       "max": 10,
       "style": "IPY_MODEL_4dab7e9f5fbe41708154b6c9cf957b49",
       "value": 1
      }
     },
     "ab7c5fd067dc4a8b9b9cec82a554c0eb": {
      "model_module": "@jupyter-widgets/base",
      "model_module_version": "1.2.0",
      "model_name": "LayoutModel",
      "state": {}
     },
     "ac0b1695c3724240a0732cd77ec718ea": {
      "model_module": "@jupyter-widgets/base",
      "model_module_version": "1.2.0",
      "model_name": "LayoutModel",
      "state": {}
     },
     "ac4fc71d80c545cf8d215999b2bfd988": {
      "model_module": "@jupyter-widgets/base",
      "model_module_version": "1.2.0",
      "model_name": "LayoutModel",
      "state": {}
     },
     "ace4b2061eea4d669f9419c160b83822": {
      "model_module": "@jupyter-widgets/controls",
      "model_module_version": "1.5.0",
      "model_name": "DescriptionStyleModel",
      "state": {
       "description_width": ""
      }
     },
     "ada47090fbd14c7793e88d0a698b6766": {
      "model_module": "@jupyter-widgets/base",
      "model_module_version": "1.2.0",
      "model_name": "LayoutModel",
      "state": {}
     },
     "adaa99cbd1214a408f27004e42af5ae1": {
      "model_module": "jupyter-matplotlib",
      "model_module_version": "^0.7.4",
      "model_name": "MPLCanvasModel",
      "state": {
       "_cursor": "default",
       "_figure_label": "Figure 7",
       "_height": 300,
       "_width": 300,
       "layout": "IPY_MODEL_d218fb00901747f9b16d010a5d664c6b",
       "toolbar": "IPY_MODEL_4dcb3ee675bc4e68aa8ac2ecc1b594e7",
       "toolbar_position": "left"
      }
     },
     "ade6d3113f834f43bab5062d6891c4bc": {
      "model_module": "@jupyter-widgets/base",
      "model_module_version": "1.2.0",
      "model_name": "LayoutModel",
      "state": {}
     },
     "af495685dcd74c67b74591d9a20ec13d": {
      "model_module": "@jupyter-widgets/base",
      "model_module_version": "1.2.0",
      "model_name": "LayoutModel",
      "state": {}
     },
     "afc75600d64a4664aa88f52fd0c0b878": {
      "model_module": "@jupyter-widgets/base",
      "model_module_version": "1.2.0",
      "model_name": "LayoutModel",
      "state": {}
     },
     "b4825ccf00d54271826b584fb49f3674": {
      "model_module": "@jupyter-widgets/base",
      "model_module_version": "1.2.0",
      "model_name": "LayoutModel",
      "state": {}
     },
     "b5a6bbea8160453f80ab43db26ac2265": {
      "model_module": "@jupyter-widgets/controls",
      "model_module_version": "1.5.0",
      "model_name": "DescriptionStyleModel",
      "state": {
       "description_width": ""
      }
     },
     "b5c7d993af0140c88eb697bc0e569667": {
      "model_module": "@jupyter-widgets/base",
      "model_module_version": "1.2.0",
      "model_name": "LayoutModel",
      "state": {
       "border": "solid 1px black",
       "margin": "0px 10px 10px 0px",
       "padding": "5px 5px 5px 5px"
      }
     },
     "b61d84317e1546cf9d5f09ac885b91f9": {
      "model_module": "@jupyter-widgets/controls",
      "model_module_version": "1.5.0",
      "model_name": "SliderStyleModel",
      "state": {
       "description_width": ""
      }
     },
     "b6f6fc9d62a14bb4a45e91edf4634aa3": {
      "model_module": "@jupyter-widgets/base",
      "model_module_version": "1.2.0",
      "model_name": "LayoutModel",
      "state": {
       "border": "solid 1px black",
       "margin": "0px 10px 10px 0px",
       "padding": "5px 5px 5px 5px"
      }
     },
     "b71cc8c618a74ff28498a1187465cd2f": {
      "model_module": "jupyter-matplotlib",
      "model_module_version": "^0.7.4",
      "model_name": "MPLCanvasModel",
      "state": {
       "layout": "IPY_MODEL_820baa6dad3f4dcd855c0ec767405f8b",
       "toolbar": "IPY_MODEL_a556361121024889814c226d744f9c74",
       "toolbar_position": "left"
      }
     },
     "b8f79c76fd524019b8297afd3e12cb31": {
      "model_module": "@jupyter-widgets/controls",
      "model_module_version": "1.5.0",
      "model_name": "SliderStyleModel",
      "state": {
       "description_width": ""
      }
     },
     "b91e1bb371564516b470eaca41c573a3": {
      "model_module": "@jupyter-widgets/base",
      "model_module_version": "1.2.0",
      "model_name": "LayoutModel",
      "state": {}
     },
     "baafe23aedca464bace8a5e0b4c4faaa": {
      "model_module": "@jupyter-widgets/controls",
      "model_module_version": "1.5.0",
      "model_name": "SliderStyleModel",
      "state": {
       "description_width": ""
      }
     },
     "bb8678ee46a04650a4a85196e7585938": {
      "model_module": "@jupyter-widgets/output",
      "model_module_version": "1.0.0",
      "model_name": "OutputModel",
      "state": {
       "layout": "IPY_MODEL_26a7581ac74c4ba6bc1313656ca2ea30",
       "outputs": [
        {
         "data": {
          "application/vnd.jupyter.widget-view+json": {
           "model_id": "",
           "version_major": 2,
           "version_minor": 0
          },
          "text/plain": "Canvas(toolbar=Toolbar(toolitems=[('Home', 'Reset original view', 'home', 'home'), ('Back', 'Back to previous …"
         },
         "metadata": {},
         "output_type": "display_data"
        }
       ]
      }
     },
     "bbcdfaf6ac5247a8ba916b74c711033e": {
      "model_module": "@jupyter-widgets/base",
      "model_module_version": "1.2.0",
      "model_name": "LayoutModel",
      "state": {}
     },
     "bbf74226654a4213a2e7bf1f3ccc7af6": {
      "model_module": "@jupyter-widgets/base",
      "model_module_version": "1.2.0",
      "model_name": "LayoutModel",
      "state": {}
     },
     "bcbc837bc437438ab131148dcfffa762": {
      "model_module": "@jupyter-widgets/base",
      "model_module_version": "1.2.0",
      "model_name": "LayoutModel",
      "state": {
       "border": "solid 1px black",
       "margin": "0px 10px 10px 0px",
       "padding": "5px 5px 5px 5px"
      }
     },
     "bdb2be250c99499499d84a5ace31b492": {
      "model_module": "@jupyter-widgets/base",
      "model_module_version": "1.2.0",
      "model_name": "LayoutModel",
      "state": {}
     },
     "bf84f3360c48430198691409811acd38": {
      "model_module": "@jupyter-widgets/base",
      "model_module_version": "1.2.0",
      "model_name": "LayoutModel",
      "state": {}
     },
     "bfd4ef069077410481448dedc45ffef2": {
      "model_module": "@jupyter-widgets/controls",
      "model_module_version": "1.5.0",
      "model_name": "DescriptionStyleModel",
      "state": {
       "description_width": ""
      }
     },
     "bff1c533d6534317a5cfda87cc6f0cfd": {
      "model_module": "@jupyter-widgets/controls",
      "model_module_version": "1.5.0",
      "model_name": "DropdownModel",
      "state": {
       "_options_labels": [
        "sin",
        "square",
        "sawtooth"
       ],
       "description": "Signal",
       "index": 0,
       "layout": "IPY_MODEL_39a194a3194c4f4a98ca7a0e8a01d65d",
       "style": "IPY_MODEL_a242863df2a34b229b9eeedee62b47dc"
      }
     },
     "c0a82d741189459a9cc1475553f9cfb1": {
      "model_module": "@jupyter-widgets/controls",
      "model_module_version": "1.5.0",
      "model_name": "IntSliderModel",
      "state": {
       "description": "w",
       "layout": "IPY_MODEL_578b9182a48d49adab68ea1a84656417",
       "max": 10,
       "style": "IPY_MODEL_f43918f96ac647ce97fb00f4400e0915",
       "value": 1
      }
     },
     "c0b33d480c2f4298914f2a0a6dcc4d74": {
      "model_module": "@jupyter-widgets/controls",
      "model_module_version": "1.5.0",
      "model_name": "HBoxModel",
      "state": {
       "children": [
        "IPY_MODEL_84e6c617601b4443a803980f66d05e35",
        "IPY_MODEL_64a3e4fe3dfe40f29ed306b379b72b4f"
       ],
       "layout": "IPY_MODEL_c14a0daf2b6241aba00366061ef22cfd"
      }
     },
     "c14a0daf2b6241aba00366061ef22cfd": {
      "model_module": "@jupyter-widgets/base",
      "model_module_version": "1.2.0",
      "model_name": "LayoutModel",
      "state": {}
     },
     "c21c4c6e6ba1441c962b4937873afe0f": {
      "model_module": "@jupyter-widgets/base",
      "model_module_version": "1.2.0",
      "model_name": "LayoutModel",
      "state": {}
     },
     "c24c9d3012af4960b2377aa6d0979813": {
      "model_module": "@jupyter-widgets/base",
      "model_module_version": "1.2.0",
      "model_name": "LayoutModel",
      "state": {}
     },
     "c29aaa181b6e4ff3b682eb4bcf68628a": {
      "model_module": "@jupyter-widgets/controls",
      "model_module_version": "1.5.0",
      "model_name": "HBoxModel",
      "state": {
       "children": [
        "IPY_MODEL_68ff130275204e98a8e87cc8e533377d",
        "IPY_MODEL_895cbf7836554b28a900fd78a1ccf7a9"
       ],
       "layout": "IPY_MODEL_dc22b429426645708a1ae4e28fd248b9"
      }
     },
     "c31c7b1d051e49bf94212983136beaeb": {
      "model_module": "@jupyter-widgets/controls",
      "model_module_version": "1.5.0",
      "model_name": "VBoxModel",
      "state": {
       "children": [
        "IPY_MODEL_75071f92e9604063908580aa5112e06e",
        "IPY_MODEL_c3ff3bf468d148f49966f0943e9b7509"
       ],
       "layout": "IPY_MODEL_2bd37183512d448bb67da4fbb6b086c8"
      }
     },
     "c3f3e80f1bee4f3fb9675427e676665a": {
      "model_module": "@jupyter-widgets/base",
      "model_module_version": "1.2.0",
      "model_name": "LayoutModel",
      "state": {}
     },
     "c3ff3bf468d148f49966f0943e9b7509": {
      "model_module": "@jupyter-widgets/output",
      "model_module_version": "1.0.0",
      "model_name": "OutputModel",
      "state": {
       "layout": "IPY_MODEL_ec71510f2cca4fe096aafed2593f01ff"
      }
     },
     "c45bc8c8401c4c00bda9fc28a8f7e3d8": {
      "model_module": "@jupyter-widgets/base",
      "model_module_version": "1.2.0",
      "model_name": "LayoutModel",
      "state": {}
     },
     "c4d7052ef73f45dfb9c29c81e50a8c16": {
      "model_module": "jupyter-matplotlib",
      "model_module_version": "^0.7.4",
      "model_name": "ToolbarModel",
      "state": {
       "layout": "IPY_MODEL_049b8d581051436583099466a4099a4a",
       "toolitems": [
        [
         "Home",
         "Reset original view",
         "home",
         "home"
        ],
        [
         "Back",
         "Back to previous view",
         "arrow-left",
         "back"
        ],
        [
         "Forward",
         "Forward to next view",
         "arrow-right",
         "forward"
        ],
        [
         "Pan",
         "Left button pans, Right button zooms\nx/y fixes axis, CTRL fixes aspect",
         "arrows",
         "pan"
        ],
        [
         "Zoom",
         "Zoom to rectangle\nx/y fixes axis, CTRL fixes aspect",
         "square-o",
         "zoom"
        ],
        [
         "Download",
         "Download plot",
         "floppy-o",
         "save_figure"
        ]
       ]
      }
     },
     "c5cf795a977f4bfb9f4700910363a05d": {
      "model_module": "@jupyter-widgets/base",
      "model_module_version": "1.2.0",
      "model_name": "LayoutModel",
      "state": {}
     },
     "c64b6fb30b6a4fb598c1ab27c84d963f": {
      "model_module": "@jupyter-widgets/base",
      "model_module_version": "1.2.0",
      "model_name": "LayoutModel",
      "state": {}
     },
     "c749aa508762415285c23abd23ef9289": {
      "model_module": "@jupyter-widgets/controls",
      "model_module_version": "1.5.0",
      "model_name": "VBoxModel",
      "state": {
       "_dom_classes": [
        "widget-interact"
       ],
       "children": [
        "IPY_MODEL_aae39ed13e344d58b57f6f380d62476d",
        "IPY_MODEL_378be5e7b0dc4a43b88f820bb495bdca",
        "IPY_MODEL_2ea85ebf16fe40dca4a7fdd255dab506",
        "IPY_MODEL_a69ccb9e02d642139c9849b7552ae848"
       ],
       "layout": "IPY_MODEL_9162460ede5849b29bd67641dcdad757"
      }
     },
     "c963fbe5f5194f2fb51916afa197c78c": {
      "model_module": "@jupyter-widgets/controls",
      "model_module_version": "1.5.0",
      "model_name": "BoxModel",
      "state": {
       "children": [
        "IPY_MODEL_678b1671c0714051aa20c90a46dcff97",
        "IPY_MODEL_52c9695c2d8c4aaab59e97b0de91a493"
       ],
       "layout": "IPY_MODEL_0eaf1741ba6b4075a31598fac6ce499f"
      }
     },
     "ca93a6c7be42497dbab86338e73851c8": {
      "model_module": "@jupyter-widgets/controls",
      "model_module_version": "1.5.0",
      "model_name": "SliderStyleModel",
      "state": {
       "description_width": ""
      }
     },
     "cc63b6afb8884b01ab659fcf52827674": {
      "model_module": "@jupyter-widgets/controls",
      "model_module_version": "1.5.0",
      "model_name": "TextModel",
      "state": {
       "continuous_update": false,
       "description": "ylabel",
       "layout": "IPY_MODEL_271fc2e2f2214197a33437c552411ed5",
       "style": "IPY_MODEL_7eb5cfd6fc10473097641af79bb27184",
       "value": "y"
      }
     },
     "cc689a00e774452683939d25ea984f86": {
      "model_module": "@jupyter-widgets/controls",
      "model_module_version": "1.5.0",
      "model_name": "TextModel",
      "state": {
       "continuous_update": false,
       "description": "xlabel",
       "layout": "IPY_MODEL_e48437d4496a4c29b16d4f6647ba2620",
       "style": "IPY_MODEL_48a8c3d52ab04201b80e50230129d8fd",
       "value": "x"
      }
     },
     "cccfbf550e3d43ecb4da32455805f32d": {
      "model_module": "@jupyter-widgets/base",
      "model_module_version": "1.2.0",
      "model_name": "LayoutModel",
      "state": {}
     },
     "d1a1f1f933ef409883c7f7a1f2c09f67": {
      "model_module": "@jupyter-widgets/base",
      "model_module_version": "1.2.0",
      "model_name": "LayoutModel",
      "state": {}
     },
     "d20cbcec2a614f8aa0ddfd4e2dcbf854": {
      "model_module": "@jupyter-widgets/controls",
      "model_module_version": "1.5.0",
      "model_name": "VBoxModel",
      "state": {
       "children": [
        "IPY_MODEL_3de051a86ada4a3a9ebd2039c58761dc",
        "IPY_MODEL_859aa25c07b44260a07890be52fb624a"
       ],
       "layout": "IPY_MODEL_0bb842d6903a426496d2e0204e9144bc"
      }
     },
     "d218fb00901747f9b16d010a5d664c6b": {
      "model_module": "@jupyter-widgets/base",
      "model_module_version": "1.2.0",
      "model_name": "LayoutModel",
      "state": {}
     },
     "d27e53000298402cb250cea0c4592e9e": {
      "model_module": "@jupyter-widgets/base",
      "model_module_version": "1.2.0",
      "model_name": "LayoutModel",
      "state": {}
     },
     "d2a0f3c97d694c08abac1a1201ca7ee1": {
      "model_module": "@jupyter-widgets/controls",
      "model_module_version": "1.5.0",
      "model_name": "FloatSliderModel",
      "state": {
       "description": "Frequency",
       "layout": "IPY_MODEL_c3f3e80f1bee4f3fb9675427e676665a",
       "max": 600,
       "min": 100,
       "step": 10,
       "style": "IPY_MODEL_03852f734bcf4e9c8d12503c514fd80b",
       "value": 210
      }
     },
     "d2fc0e706a734483ac56d3c735a570ec": {
      "model_module": "@jupyter-widgets/base",
      "model_module_version": "1.2.0",
      "model_name": "LayoutModel",
      "state": {}
     },
     "d3c5a549f09d4ed3ad2770399d201a03": {
      "model_module": "@jupyter-widgets/base",
      "model_module_version": "1.2.0",
      "model_name": "LayoutModel",
      "state": {}
     },
     "d47bf334327d452db94e565b09e5743b": {
      "model_module": "@jupyter-widgets/base",
      "model_module_version": "1.2.0",
      "model_name": "LayoutModel",
      "state": {}
     },
     "d6130506c6e840d0a79deb44c46fb694": {
      "model_module": "@jupyter-widgets/controls",
      "model_module_version": "1.5.0",
      "model_name": "VBoxModel",
      "state": {
       "children": [
        "IPY_MODEL_23ff7cb667d640fa824e4df35da83767",
        "IPY_MODEL_1d5371bb22a24fd0936a9444159f975b",
        "IPY_MODEL_13a377f3d47b40afb27852797acdaffc"
       ],
       "layout": "IPY_MODEL_45f3dee925944187bf116a54f509fe2f"
      }
     },
     "d613c13992964a2c84b9a24a757f63fc": {
      "model_module": "jupyter-matplotlib",
      "model_module_version": "^0.7.4",
      "model_name": "ToolbarModel",
      "state": {
       "layout": "IPY_MODEL_3df92f45a31e464fbcfe5010213b11b2",
       "toolitems": [
        [
         "Home",
         "Reset original view",
         "home",
         "home"
        ],
        [
         "Back",
         "Back to previous view",
         "arrow-left",
         "back"
        ],
        [
         "Forward",
         "Forward to next view",
         "arrow-right",
         "forward"
        ],
        [
         "Pan",
         "Left button pans, Right button zooms\nx/y fixes axis, CTRL fixes aspect",
         "arrows",
         "pan"
        ],
        [
         "Zoom",
         "Zoom to rectangle\nx/y fixes axis, CTRL fixes aspect",
         "square-o",
         "zoom"
        ],
        [
         "Download",
         "Download plot",
         "floppy-o",
         "save_figure"
        ]
       ]
      }
     },
     "d66b215b74564fe29bc71615794b53f6": {
      "model_module": "@jupyter-widgets/base",
      "model_module_version": "1.2.0",
      "model_name": "LayoutModel",
      "state": {}
     },
     "d74d5296e8084e2991c516754b77efb6": {
      "model_module": "jupyter-matplotlib",
      "model_module_version": "^0.7.4",
      "model_name": "MPLCanvasModel",
      "state": {
       "_cursor": "default",
       "_figure_label": "Figure 16",
       "_height": 400,
       "_image_mode": "diff",
       "_message": "x=0.2612 y=−0.87",
       "_width": 800,
       "layout": "IPY_MODEL_b91e1bb371564516b470eaca41c573a3",
       "toolbar": "IPY_MODEL_3a02e19525d544998a47f91d4f214f4b",
       "toolbar_position": "left"
      }
     },
     "d7a5512c48fb413a8830f228b7eb67b0": {
      "model_module": "@jupyter-widgets/controls",
      "model_module_version": "1.5.0",
      "model_name": "FloatSliderModel",
      "state": {
       "description": "phi",
       "layout": "IPY_MODEL_eb8f8e54a51d4275abe2cc4519bdd378",
       "max": 6.283185307179586,
       "step": 0.01,
       "style": "IPY_MODEL_9f01592f9af148479da8abb01464078f"
      }
     },
     "d85bf0c85387428fa13a348e2a04c9ad": {
      "model_module": "@jupyter-widgets/base",
      "model_module_version": "1.2.0",
      "model_name": "LayoutModel",
      "state": {
       "border": "solid 1px black",
       "height": "500px",
       "margin": "0px 10px 10px 0px",
       "padding": "5px 5px 5px 5px",
       "width": "50%"
      }
     },
     "d93df0d4e646484d97c31b2ece1085d5": {
      "model_module": "@jupyter-widgets/controls",
      "model_module_version": "1.5.0",
      "model_name": "VBoxModel",
      "state": {
       "children": [
        "IPY_MODEL_826f2dac101a48e1a4ac3b638565e114",
        "IPY_MODEL_78eea9ac0750431eb68bc6ff89ca2411",
        "IPY_MODEL_cc689a00e774452683939d25ea984f86",
        "IPY_MODEL_77cbf857464b477485e1047659ded20c"
       ],
       "layout": "IPY_MODEL_1697646100304bd7a07faa01ea5b0127"
      }
     },
     "dbd9a8ee32d447439a2d0b7531474d93": {
      "model_module": "@jupyter-widgets/controls",
      "model_module_version": "1.5.0",
      "model_name": "VBoxModel",
      "state": {
       "children": [
        "IPY_MODEL_e6578cd402874943b6f61c960967be5c",
        "IPY_MODEL_ee0d1b215f034f579277db02f8359924"
       ],
       "layout": "IPY_MODEL_97a5335864b841d2948ce74687b2a487"
      }
     },
     "dc22b429426645708a1ae4e28fd248b9": {
      "model_module": "@jupyter-widgets/base",
      "model_module_version": "1.2.0",
      "model_name": "LayoutModel",
      "state": {}
     },
     "dc35cd0f724448e1ad25dafaf7cd78ea": {
      "model_module": "@jupyter-widgets/base",
      "model_module_version": "1.2.0",
      "model_name": "LayoutModel",
      "state": {}
     },
     "dc595c4a8d08413ba21df2aef87fe0b7": {
      "model_module": "@jupyter-widgets/base",
      "model_module_version": "1.2.0",
      "model_name": "LayoutModel",
      "state": {
       "border": "solid 1px black",
       "margin": "0px 10px 10px 0px",
       "padding": "5px 5px 5px 5px"
      }
     },
     "dea72e37480d44a784220bb4f6947ddd": {
      "model_module": "@jupyter-widgets/base",
      "model_module_version": "1.2.0",
      "model_name": "LayoutModel",
      "state": {}
     },
     "dffa5433b89945c9802c11169a84166f": {
      "model_module": "@jupyter-widgets/output",
      "model_module_version": "1.0.0",
      "model_name": "OutputModel",
      "state": {
       "layout": "IPY_MODEL_271871bf61b9431bbd4fb29cf29db58c",
       "outputs": [
        {
         "name": "stdout",
         "output_type": "stream",
         "text": "Audio playing unnormalized\n"
        }
       ]
      }
     },
     "e04e7cbd46c64bc4b10de0c72db2335a": {
      "model_module": "@jupyter-widgets/base",
      "model_module_version": "1.2.0",
      "model_name": "LayoutModel",
      "state": {}
     },
     "e13839cab3c24836957f52f33c4d163a": {
      "model_module": "@jupyter-widgets/output",
      "model_module_version": "1.0.0",
      "model_name": "OutputModel",
      "state": {
       "layout": "IPY_MODEL_48cf21d6b174497180178d09aef0e133"
      }
     },
     "e186908c69104030971626c7e9ff2adf": {
      "model_module": "@jupyter-widgets/controls",
      "model_module_version": "1.5.0",
      "model_name": "VBoxModel",
      "state": {
       "children": [
        "IPY_MODEL_08aa1f03a19d4d30be148882eabf3fcf"
       ],
       "layout": "IPY_MODEL_99dd84be48b34fe7b0a8eaedb67e1ae1"
      }
     },
     "e34398cdc8af4368862e056e6cbbaa8a": {
      "model_module": "@jupyter-widgets/controls",
      "model_module_version": "1.5.0",
      "model_name": "FloatSliderModel",
      "state": {
       "description": "Amplitude",
       "layout": "IPY_MODEL_ffad6232059340dbaf9ee05b704e0b06",
       "max": 1,
       "step": 0.05,
       "style": "IPY_MODEL_f57aec9705704df3829fd3f3b9fe0fc1",
       "value": 1
      }
     },
     "e3a843a0082347879e92296a9335ccce": {
      "model_module": "@jupyter-widgets/controls",
      "model_module_version": "1.5.0",
      "model_name": "FloatSliderModel",
      "state": {
       "description": "Frequency",
       "layout": "IPY_MODEL_f1e88fba97bb41a6ac3b2dd908b6a13b",
       "max": 600,
       "min": 100,
       "step": 10,
       "style": "IPY_MODEL_598d310831e0464084fe9434f38af939",
       "value": 100
      }
     },
     "e3bb2feaa93a4a74a56ced085a2846f6": {
      "model_module": "@jupyter-widgets/controls",
      "model_module_version": "1.5.0",
      "model_name": "DropdownModel",
      "state": {
       "_options_labels": [
        "sin",
        "square",
        "sawtooth"
       ],
       "description": "Signal",
       "index": 0,
       "layout": "IPY_MODEL_5c126863d3394ec0bcd992d0386ae352",
       "style": "IPY_MODEL_80acc751c4bc4b7ea04a4e0377408591"
      }
     },
     "e48437d4496a4c29b16d4f6647ba2620": {
      "model_module": "@jupyter-widgets/base",
      "model_module_version": "1.2.0",
      "model_name": "LayoutModel",
      "state": {}
     },
     "e4a9267154bd49bfb4c11429090f0166": {
      "model_module": "jupyter-matplotlib",
      "model_module_version": "^0.7.4",
      "model_name": "ToolbarModel",
      "state": {
       "layout": "IPY_MODEL_7392cad43fb745cd8fc9e9dc4d3e59bb",
       "toolitems": [
        [
         "Home",
         "Reset original view",
         "home",
         "home"
        ],
        [
         "Back",
         "Back to previous view",
         "arrow-left",
         "back"
        ],
        [
         "Forward",
         "Forward to next view",
         "arrow-right",
         "forward"
        ],
        [
         "Pan",
         "Left button pans, Right button zooms\nx/y fixes axis, CTRL fixes aspect",
         "arrows",
         "pan"
        ],
        [
         "Zoom",
         "Zoom to rectangle\nx/y fixes axis, CTRL fixes aspect",
         "square-o",
         "zoom"
        ],
        [
         "Download",
         "Download plot",
         "floppy-o",
         "save_figure"
        ]
       ]
      }
     },
     "e5762779ccbe4532a2a86edcac67719e": {
      "model_module": "@jupyter-widgets/controls",
      "model_module_version": "1.5.0",
      "model_name": "FloatSliderModel",
      "state": {
       "description": "Frequency",
       "layout": "IPY_MODEL_ff69ab7040cc4d68a905dbaa76b1fe34",
       "max": 600,
       "min": 100,
       "step": 10,
       "style": "IPY_MODEL_218912d9de004dffaee7e9af0437168f",
       "value": 240
      }
     },
     "e6578cd402874943b6f61c960967be5c": {
      "model_module": "@jupyter-widgets/controls",
      "model_module_version": "1.5.0",
      "model_name": "VBoxModel",
      "state": {
       "children": [
        "IPY_MODEL_10846e3afa6b4895ae1d29584d79db82"
       ],
       "layout": "IPY_MODEL_b6f6fc9d62a14bb4a45e91edf4634aa3"
      }
     },
     "e6862ea201f44bfda582648dae3b2c22": {
      "model_module": "@jupyter-widgets/base",
      "model_module_version": "1.2.0",
      "model_name": "LayoutModel",
      "state": {}
     },
     "e6d7f6c6125b4bc0a4dabb6edd61b462": {
      "model_module": "@jupyter-widgets/base",
      "model_module_version": "1.2.0",
      "model_name": "LayoutModel",
      "state": {}
     },
     "e8040bc9829744e182c03581b9231f3e": {
      "model_module": "@jupyter-widgets/output",
      "model_module_version": "1.0.0",
      "model_name": "OutputModel",
      "state": {
       "layout": "IPY_MODEL_854269da6c7d41398b1c2d624533817c",
       "outputs": [
        {
         "data": {
          "application/vnd.jupyter.widget-view+json": {
           "model_id": "",
           "version_major": 2,
           "version_minor": 0
          },
          "text/plain": "Canvas(toolbar=Toolbar(toolitems=[('Home', 'Reset original view', 'home', 'home'), ('Back', 'Back to previous …"
         },
         "metadata": {},
         "output_type": "display_data"
        }
       ]
      }
     },
     "e8093ebd0ac2483d8a1604efed6bdcce": {
      "model_module": "@jupyter-widgets/base",
      "model_module_version": "1.2.0",
      "model_name": "LayoutModel",
      "state": {}
     },
     "e94214e818b04feeba7ea9406a7d5feb": {
      "model_module": "@jupyter-widgets/controls",
      "model_module_version": "1.5.0",
      "model_name": "SliderStyleModel",
      "state": {
       "description_width": ""
      }
     },
     "e975e3574e4f4e2292fb4afd752eb521": {
      "model_module": "@jupyter-widgets/controls",
      "model_module_version": "1.5.0",
      "model_name": "VBoxModel",
      "state": {
       "children": [
        "IPY_MODEL_e3a843a0082347879e92296a9335ccce"
       ],
       "layout": "IPY_MODEL_0eaa88cee5af4bb1a30d4347031cc71d"
      }
     },
     "e9acc9fc8f5c4d3e8a88b1522a5b3f79": {
      "model_module": "@jupyter-widgets/controls",
      "model_module_version": "1.5.0",
      "model_name": "SliderStyleModel",
      "state": {
       "description_width": ""
      }
     },
     "e9fd7322e92d4f10a856ab9d293fa451": {
      "model_module": "jupyter-matplotlib",
      "model_module_version": "^0.7.4",
      "model_name": "ToolbarModel",
      "state": {
       "layout": "IPY_MODEL_153acdd03ee94dd5a873554a4bafd309",
       "toolitems": [
        [
         "Home",
         "Reset original view",
         "home",
         "home"
        ],
        [
         "Back",
         "Back to previous view",
         "arrow-left",
         "back"
        ],
        [
         "Forward",
         "Forward to next view",
         "arrow-right",
         "forward"
        ],
        [
         "Pan",
         "Left button pans, Right button zooms\nx/y fixes axis, CTRL fixes aspect",
         "arrows",
         "pan"
        ],
        [
         "Zoom",
         "Zoom to rectangle\nx/y fixes axis, CTRL fixes aspect",
         "square-o",
         "zoom"
        ],
        [
         "Download",
         "Download plot",
         "floppy-o",
         "save_figure"
        ]
       ]
      }
     },
     "ea604ed4800043b48293dc89a449a46c": {
      "model_module": "@jupyter-widgets/base",
      "model_module_version": "1.2.0",
      "model_name": "LayoutModel",
      "state": {}
     },
     "ea9e6a77b3a141d2b466c016b7b7221b": {
      "model_module": "@jupyter-widgets/output",
      "model_module_version": "1.0.0",
      "model_name": "OutputModel",
      "state": {
       "layout": "IPY_MODEL_68e954b221474ee998561adabd45e9d0"
      }
     },
     "eaf8f2453288475ea1062e93e149334a": {
      "model_module": "@jupyter-widgets/base",
      "model_module_version": "1.2.0",
      "model_name": "LayoutModel",
      "state": {}
     },
     "eb8f8e54a51d4275abe2cc4519bdd378": {
      "model_module": "@jupyter-widgets/base",
      "model_module_version": "1.2.0",
      "model_name": "LayoutModel",
      "state": {}
     },
     "ec71510f2cca4fe096aafed2593f01ff": {
      "model_module": "@jupyter-widgets/base",
      "model_module_version": "1.2.0",
      "model_name": "LayoutModel",
      "state": {}
     },
     "ed1eec25f3af49f28a80b88e4a5d34b3": {
      "model_module": "@jupyter-widgets/controls",
      "model_module_version": "1.5.0",
      "model_name": "VBoxModel",
      "state": {
       "children": [
        "IPY_MODEL_99f30c7c95e14bd59c24625028113aad",
        "IPY_MODEL_e8040bc9829744e182c03581b9231f3e"
       ],
       "layout": "IPY_MODEL_bdb2be250c99499499d84a5ace31b492"
      }
     },
     "eda09e18274a4504943c9f32a4c0de83": {
      "model_module": "@jupyter-widgets/output",
      "model_module_version": "1.0.0",
      "model_name": "OutputModel",
      "state": {
       "layout": "IPY_MODEL_236a887d22c84378a6c879f56511c120"
      }
     },
     "ee0c9c2168e44eeebae43a9681875d74": {
      "model_module": "@jupyter-widgets/base",
      "model_module_version": "1.2.0",
      "model_name": "LayoutModel",
      "state": {}
     },
     "ee0d1b215f034f579277db02f8359924": {
      "model_module": "@jupyter-widgets/output",
      "model_module_version": "1.0.0",
      "model_name": "OutputModel",
      "state": {
       "layout": "IPY_MODEL_7786996032b048f99998472419e26712"
      }
     },
     "ee1ea2e4e6f147328fff4eaa89d8b8ad": {
      "model_module": "@jupyter-widgets/controls",
      "model_module_version": "1.5.0",
      "model_name": "SliderStyleModel",
      "state": {
       "description_width": ""
      }
     },
     "ee4f5dad585548db98aec3847516bf30": {
      "model_module": "jupyter-matplotlib",
      "model_module_version": "^0.7.4",
      "model_name": "MPLCanvasModel",
      "state": {
       "_cursor": "default",
       "_figure_label": "Figure 12",
       "_height": 400,
       "_image_mode": "diff",
       "_width": 800,
       "layout": "IPY_MODEL_431b9cf82c0540ad8b1f57d6e6b1e443",
       "toolbar": "IPY_MODEL_e4a9267154bd49bfb4c11429090f0166",
       "toolbar_position": "left"
      }
     },
     "eea2bdcf59f24d2b8f3c3221dc7bae30": {
      "model_module": "jupyter-matplotlib",
      "model_module_version": "^0.7.4",
      "model_name": "MPLCanvasModel",
      "state": {
       "_cursor": "default",
       "_figure_label": "Figure 15",
       "_height": 400,
       "_image_mode": "diff",
       "_width": 800,
       "layout": "IPY_MODEL_6e4ffd5bc2e242d7baa7f35053ad4c76",
       "toolbar": "IPY_MODEL_0566b4eb88a4425b8ac2663c82401161",
       "toolbar_position": "left"
      }
     },
     "ef71cba66dd7454184b512e31385c5da": {
      "model_module": "@jupyter-widgets/base",
      "model_module_version": "1.2.0",
      "model_name": "LayoutModel",
      "state": {}
     },
     "f04f77c14f1a41ee8c6087dfce493002": {
      "model_module": "@jupyter-widgets/base",
      "model_module_version": "1.2.0",
      "model_name": "LayoutModel",
      "state": {
       "border": "solid 1px black",
       "margin": "0px 10px 10px 0px",
       "padding": "5px 5px 5px 5px"
      }
     },
     "f0949b8e99c04fa48bbe4918bee88731": {
      "model_module": "@jupyter-widgets/controls",
      "model_module_version": "1.5.0",
      "model_name": "IntSliderModel",
      "state": {
       "description": "freq",
       "layout": "IPY_MODEL_7aad0f319dcc4ae7944b29441315de08",
       "max": 10,
       "style": "IPY_MODEL_b8f79c76fd524019b8297afd3e12cb31",
       "value": 1
      }
     },
     "f10604364db44e099ccde62d5c531587": {
      "model_module": "@jupyter-widgets/controls",
      "model_module_version": "1.5.0",
      "model_name": "SliderStyleModel",
      "state": {
       "description_width": ""
      }
     },
     "f13b1bb8f023440689c08d016e301ee4": {
      "model_module": "@jupyter-widgets/controls",
      "model_module_version": "1.5.0",
      "model_name": "FloatSliderModel",
      "state": {
       "description": "Frequency",
       "layout": "IPY_MODEL_d47bf334327d452db94e565b09e5743b",
       "max": 600,
       "min": 100,
       "step": 10,
       "style": "IPY_MODEL_f5bc9ba588d5467991d4c7fd35c071f6",
       "value": 120
      }
     },
     "f1e88fba97bb41a6ac3b2dd908b6a13b": {
      "model_module": "@jupyter-widgets/base",
      "model_module_version": "1.2.0",
      "model_name": "LayoutModel",
      "state": {}
     },
     "f43918f96ac647ce97fb00f4400e0915": {
      "model_module": "@jupyter-widgets/controls",
      "model_module_version": "1.5.0",
      "model_name": "SliderStyleModel",
      "state": {
       "description_width": ""
      }
     },
     "f4f19c734cd544228b1870ecb1b7a64e": {
      "model_module": "@jupyter-widgets/controls",
      "model_module_version": "1.5.0",
      "model_name": "VBoxModel",
      "state": {
       "_dom_classes": [
        "widget-interact"
       ],
       "children": [
        "IPY_MODEL_e3bb2feaa93a4a74a56ced085a2846f6",
        "IPY_MODEL_10cd1e5537c54aee92c3a3b560c62f55",
        "IPY_MODEL_8967c13ede0846898bce0f86c6d17b71",
        "IPY_MODEL_72db86a904674f26a082b6563ccfa678",
        "IPY_MODEL_1b29a17158714b44b4f01e20f9810490"
       ],
       "layout": "IPY_MODEL_4fc6bd2842da4a59976d913f8eaf5195"
      }
     },
     "f54024d27fde4289a00cd73f7a537e0f": {
      "model_module": "@jupyter-widgets/controls",
      "model_module_version": "1.5.0",
      "model_name": "VBoxModel",
      "state": {
       "children": [
        "IPY_MODEL_26a6f1c1e32747b0a9dd4df9180db6b4",
        "IPY_MODEL_dffa5433b89945c9802c11169a84166f"
       ],
       "layout": "IPY_MODEL_98f730da52e94ab490f21857148ffd8f"
      }
     },
     "f57aec9705704df3829fd3f3b9fe0fc1": {
      "model_module": "@jupyter-widgets/controls",
      "model_module_version": "1.5.0",
      "model_name": "SliderStyleModel",
      "state": {
       "description_width": ""
      }
     },
     "f5bc9ba588d5467991d4c7fd35c071f6": {
      "model_module": "@jupyter-widgets/controls",
      "model_module_version": "1.5.0",
      "model_name": "SliderStyleModel",
      "state": {
       "description_width": ""
      }
     },
     "f5c654323b644698a0be043f1eb36157": {
      "model_module": "jupyter-matplotlib",
      "model_module_version": "^0.7.4",
      "model_name": "MPLCanvasModel",
      "state": {
       "_cursor": "default",
       "_figure_label": "Figure 1",
       "_height": 300,
       "_width": 300,
       "layout": "IPY_MODEL_7e171b23493c4f6abd72537d65be6364",
       "toolbar": "IPY_MODEL_51accafa11124378965e44c27823f7f5",
       "toolbar_position": "left"
      }
     },
     "f814b6ecc5534c4ebeabed632dbf16a8": {
      "model_module": "@jupyter-widgets/output",
      "model_module_version": "1.0.0",
      "model_name": "OutputModel",
      "state": {
       "layout": "IPY_MODEL_b4825ccf00d54271826b584fb49f3674"
      }
     },
     "f89e760872cb4c9c9de54daf3d8d4197": {
      "model_module": "@jupyter-widgets/controls",
      "model_module_version": "1.5.0",
      "model_name": "FloatSliderModel",
      "state": {
       "description": "phi",
       "layout": "IPY_MODEL_49209cec19f64e0bbfa664e60b323e10",
       "max": 6.293185307179586,
       "step": 0.01,
       "style": "IPY_MODEL_ee1ea2e4e6f147328fff4eaa89d8b8ad"
      }
     },
     "fa2c5b4880af41fa81a75d1184066f2a": {
      "model_module": "@jupyter-widgets/base",
      "model_module_version": "1.2.0",
      "model_name": "LayoutModel",
      "state": {}
     },
     "fa31a3cf089f4d55b21b8d724015f318": {
      "model_module": "jupyter-matplotlib",
      "model_module_version": "^0.7.4",
      "model_name": "MPLCanvasModel",
      "state": {
       "_cursor": "default",
       "_figure_label": "Figure 2",
       "_height": 400,
       "_width": 400,
       "layout": "IPY_MODEL_17d28c053c3a440783104c8b5d4a603a",
       "toolbar": "IPY_MODEL_0c38a59f9d4644768135a1347c776331",
       "toolbar_position": "left"
      }
     },
     "fd0a7f7480cf420a90611f0e57e0e8b2": {
      "model_module": "@jupyter-widgets/base",
      "model_module_version": "1.2.0",
      "model_name": "LayoutModel",
      "state": {}
     },
     "fe220e620a5447878250734973df0f38": {
      "model_module": "@jupyter-widgets/controls",
      "model_module_version": "1.5.0",
      "model_name": "SliderStyleModel",
      "state": {
       "description_width": ""
      }
     },
     "fe591805f7a94b6abdeaf79e1eeb9d55": {
      "model_module": "@jupyter-widgets/controls",
      "model_module_version": "1.5.0",
      "model_name": "BoxModel",
      "state": {
       "children": [
        "IPY_MODEL_4f28040feb784973a19e3c96e833b965"
       ],
       "layout": "IPY_MODEL_84e36a76acb744fd901132a36672fb8f"
      }
     },
     "fef2932d59564ab084e0b0ac512ab9aa": {
      "model_module": "@jupyter-widgets/controls",
      "model_module_version": "1.5.0",
      "model_name": "IntSliderModel",
      "state": {
       "description": "w",
       "layout": "IPY_MODEL_ffc475b3fa5b4c70a1fab5e071231c61",
       "max": 10,
       "style": "IPY_MODEL_63916ea92a734b7fa3e9ca72201dfc79",
       "value": 5
      }
     },
     "ff5db5f671ef4c5ca03caf782c7f256f": {
      "model_module": "@jupyter-widgets/controls",
      "model_module_version": "1.5.0",
      "model_name": "SliderStyleModel",
      "state": {
       "description_width": ""
      }
     },
     "ff69ab7040cc4d68a905dbaa76b1fe34": {
      "model_module": "@jupyter-widgets/base",
      "model_module_version": "1.2.0",
      "model_name": "LayoutModel",
      "state": {}
     },
     "ffad6232059340dbaf9ee05b704e0b06": {
      "model_module": "@jupyter-widgets/base",
      "model_module_version": "1.2.0",
      "model_name": "LayoutModel",
      "state": {}
     },
     "ffc475b3fa5b4c70a1fab5e071231c61": {
      "model_module": "@jupyter-widgets/base",
      "model_module_version": "1.2.0",
      "model_name": "LayoutModel",
      "state": {}
     }
    },
    "version_major": 2,
    "version_minor": 0
   }
  }
 },
 "nbformat": 4,
 "nbformat_minor": 4
}
