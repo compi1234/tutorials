{
 "cells": [
  {
   "cell_type": "markdown",
   "metadata": {},
   "source": [
    "# Using ipywidgets with matplotlib - Part II : building more complex applications\n",
    "### \n",
    "## DVC - 27/11/2020\n"
   ]
  },
  {
   "cell_type": "markdown",
   "metadata": {},
   "source": [
    "### Basics\n",
    "see also notebook ipywidgets-mpl1\n",
    "    \n",
    "### Different Usage for different backends for matplotlib when working interactively\n",
    "\n",
    "The purpose of this demo is an example in which you want to keep several controls tightly integrated with one or multiple plots.  The notebook was developed for the 'widget' backend , but can be run rater well with most other backends.\n",
    "Your prefered way of working may actually depend on your preferred screen arrangement and how much screen real estate you have available for this app\n",
    "\n",
    "- 'widget' gives the cleanest results when you want to both controls and plots inline\n",
    "- 'inline' still gives you everything inline, but not in one panel\n",
    "- 'notebook' seems to falter\n",
    "- 'qt5' and 'tk' give clean external plots; the controls (ipywidgets) "
   ]
  },
  {
   "cell_type": "markdown",
   "metadata": {},
   "source": [
    "#### TODO\n",
    "- how does fig.canvas work ?\n",
    "- what do methods canvas.draw() and canvas.flush_events() ?"
   ]
  },
  {
   "cell_type": "code",
   "execution_count": 1,
   "metadata": {},
   "outputs": [],
   "source": [
    "%matplotlib widget\n",
    "import ipywidgets as widgets\n",
    "from ipywidgets import interact, interact_manual, interactive\n",
    "import numpy as np\n",
    "import matplotlib.pyplot as plt\n",
    "from scipy import signal\n",
    "import IPython.display as ipd"
   ]
  },
  {
   "cell_type": "code",
   "execution_count": null,
   "metadata": {},
   "outputs": [],
   "source": [
    "# This little piece of code will increase the default width of your Jupyter notebook cells\n",
    "# Supposed to work well \n",
    "\n",
    "display(ipd.HTML(data=\"\"\"\n",
    "<style>\n",
    "    div#notebook-container    { width: 99%; }\n",
    "    div#menubar-container     { width: 65%; }\n",
    "    div#maintoolbar-container { width: 99%; }\n",
    "</style>\n",
    "\"\"\"))"
   ]
  },
  {
   "cell_type": "code",
   "execution_count": null,
   "metadata": {},
   "outputs": [],
   "source": [
    "# any of these could be useful during debugging, but not needed if all is running fine\n",
    "#\n",
    "#%matplotlib --list\n",
    "#ipd.set_matplotlib_close(close=True)\n",
    "#plt.close('all')"
   ]
  },
  {
   "cell_type": "markdown",
   "metadata": {},
   "source": [
    "# DEMO1:  A simple audio signal generator using interact()"
   ]
  },
  {
   "cell_type": "code",
   "execution_count": null,
   "metadata": {
    "scrolled": false
   },
   "outputs": [],
   "source": [
    "# Function to generate a short audio signal having sine, square or sawtooth shape\n",
    "def generate(type='sin', freq=200.0, Fs=8000, Tmax=0.5):\n",
    "    t = np.linspace(0.0, Tmax, int(Tmax*Fs), endpoint=False)\n",
    "    if type == 'sin':\n",
    "        x = np.sin(2.0*np.pi*freq*t)\n",
    "    elif type == 'square':\n",
    "        x = signal.square(2.0*np.pi*freq*t)\n",
    "    elif type == 'sawtooth':\n",
    "        x = signal.sawtooth(2.0*np.pi*freq*t)\n",
    "    else:\n",
    "        print( 'signal: Unrecognized signal type')\n",
    "    return x, t\n",
    "\n",
    "# A simple GUI for the signal generator with interact()\n",
    "signal_types = [ 'sin', 'square', 'sawtooth' ]\n",
    "# alternative to Dropdown is to use RadioButtons\n",
    "wg_signal = widgets.Dropdown(options=signal_types,\n",
    "                             value='sin',description=\"Signal\")\n",
    "wg_amp = widgets.FloatSlider(value=0.5,step=0.05,max=1.0,description='Amplitude')\n",
    "wg_freq = widgets.FloatSlider(value=200.0,step=5.0,min=50.0,max=500.0,description='Frequency')\n",
    "wg_Tmax = widgets.FloatSlider(value=0.4,step=0.1,min=0.1,max=2.0,description='Duration',\n",
    "                             continuous_update=False)\n",
    "#wg_check = widgets.Checkbox(description='Display Play Button',value=True)\n",
    "\n",
    "fig = plt.figure(figsize=(10,4))\n",
    "\n",
    "# in this example we use interact and full replotting\n",
    "# this seems to work well with ALL backends\n",
    "@interact(t=wg_signal,f=wg_freq,A=wg_amp,T=wg_Tmax)\n",
    "def plot_fn(t,f,A,T):\n",
    "    x1, t1 = generate(freq=f,type=t,Tmax=T)\n",
    "    y1=A*x1\n",
    "    plt.cla()\n",
    "    plt.plot(t1,y1)\n",
    "    plt.ylim(-1,1)\n",
    "    ipd.display(ipd.Audio(data=y1,rate=8000,normalize=False, autoplay=False))\n",
    "    return"
   ]
  },
  {
   "cell_type": "markdown",
   "metadata": {},
   "source": [
    "# DEMO 2.  The Audio Signal Generator as a Class"
   ]
  },
  {
   "cell_type": "code",
   "execution_count": 2,
   "metadata": {},
   "outputs": [],
   "source": [
    "def make_box_layout():\n",
    "     return widgets.Layout(\n",
    "        border='solid 1px black',\n",
    "        margin='0px 10px 10px 0px',\n",
    "        padding='5px 5px 5px 5px'\n",
    "     )\n",
    "\n",
    "# Function to generate a short audio signal having sine, square or sawtooth shape\n",
    "def generate(t,type='sin', freq=200.0, Fs=8000):\n",
    "    if type == 'sin':\n",
    "        y = np.sin(2.0*np.pi*freq*t)\n",
    "    elif type == 'square':\n",
    "        y = signal.square(2.0*np.pi*freq*t)\n",
    "    elif type == 'sawtooth':\n",
    "        y = signal.sawtooth(2.0*np.pi*freq*t)\n",
    "    else:\n",
    "        print( 'signal: Unrecognized signal type')\n",
    "    return y\n",
    "\n",
    "class WaveGenerator(widgets.HBox):\n",
    "    \n",
    "    def __init__(self):\n",
    "        super().__init__()\n",
    "        \n",
    "\n",
    "        self.samplerate = 8000\n",
    "        self.type = 'sin'\n",
    "        self.freq = 200\n",
    "        self.dur = 0.2\n",
    "        self.autoplay = False\n",
    "        self.color = '#FF00DD'\n",
    "        self.output = widgets.Output()\n",
    "        \n",
    "        self.x = np.linspace(0.0, self.dur, int(self.dur*self.samplerate), endpoint=False)\n",
    "        self.y = generate(self.x,type=self.type,freq=self.freq,Fs=self.samplerate)\n",
    "\n",
    "        with self.output:\n",
    "            self.fig, self.ax = plt.subplots(constrained_layout=True, figsize=(7, 3.5))\n",
    "        self.line, = self.ax.plot(self.x, self.y, self.color)\n",
    "        \n",
    "        self.fig.canvas.toolbar_position = 'bottom'\n",
    "        self.ax.grid(True)\n",
    "\n",
    "        # define widgets\n",
    "        slider_freq = widgets.FloatSlider(\n",
    "            value=self.freq, \n",
    "            min=50., \n",
    "            max=1000., \n",
    "            step=10., \n",
    "            description='frequency',\n",
    "            continuous_update=False\n",
    "        )\n",
    "        slider_dur = widgets.FloatSlider(\n",
    "            value=self.dur, \n",
    "            min=0.1, \n",
    "            max=1., \n",
    "            step=.1, \n",
    "            description='duration',\n",
    "            continuous_update=False\n",
    "        )\n",
    "        check_autoplay = widgets.Checkbox(description='Autoplay audio',value=self.autoplay)\n",
    "        \n",
    "        signal_types = [ 'sin', 'square', 'sawtooth' ]\n",
    "        dropdown_signal = widgets.Dropdown(\n",
    "            options=signal_types, value='sin',\n",
    "            description='Signal')\n",
    "        color_picker = widgets.ColorPicker(\n",
    "            value=self.color, \n",
    "            description='line color'\n",
    "        )\n",
    "        text_xlabel = widgets.Text(\n",
    "            value='', \n",
    "            description='xlabel', \n",
    "            continuous_update=False\n",
    "        )\n",
    "        text_ylabel = widgets.Text(\n",
    "            value='', \n",
    "            description='ylabel', \n",
    "            continuous_update=False\n",
    "        )\n",
    "        self.widget_audio = widgets.Output()\n",
    "        with self.widget_audio:\n",
    "            ipd.display(ipd.Audio(data=self.y,rate=self.samplerate)) \n",
    "        \n",
    "        controls = widgets.VBox([\n",
    "            slider_freq,\n",
    "            slider_dur,\n",
    "            dropdown_signal,\n",
    "            check_autoplay,\n",
    "            color_picker, \n",
    "            text_xlabel, \n",
    "            text_ylabel,\n",
    "            self.widget_audio\n",
    "        ])\n",
    "        controls.layout = make_box_layout()\n",
    "        \n",
    "        out_box = widgets.Box([self.output])\n",
    "        self.output.layout = make_box_layout()\n",
    "\n",
    "        # observe stuff\n",
    "        slider_freq.observe(self.update_freq, 'value')\n",
    "        slider_dur.observe(self.update_dur, 'value')\n",
    "        check_autoplay.observe(self.update_autoplay,'value')\n",
    "        dropdown_signal.observe(self.update_type,'value')\n",
    "        color_picker.observe(self.line_color, 'value')\n",
    "        text_xlabel.observe(self.update_xlabel, 'value')\n",
    "        text_ylabel.observe(self.update_ylabel, 'value')\n",
    "        \n",
    "        text_xlabel.value = 'time'\n",
    "        text_ylabel.value = 'amplitude'\n",
    "        \n",
    "\n",
    "        # add to children\n",
    "        self.children = [controls, self.output]\n",
    "    \n",
    "    def update_freq(self, change):\n",
    "        self.freq= change.new\n",
    "        self.update_signal()\n",
    "\n",
    "    def update_dur(self, change):\n",
    "        self.dur= change.new\n",
    "        self.refresh()\n",
    "\n",
    "    def update_autoplay(self, change):\n",
    "        self.autoplay = change.new\n",
    "        self.update_signal()\n",
    "        \n",
    "    def update_type(self, change):\n",
    "        self.type = change.new\n",
    "        self.update_signal()\n",
    "        \n",
    "    def line_color(self, change):\n",
    "        self.color = change.new\n",
    "        self.line.set_color(change.new)\n",
    "\n",
    "    def update_xlabel(self, change):\n",
    "        self.ax.set_xlabel(change.new)\n",
    "\n",
    "    def update_ylabel(self, change):\n",
    "        self.ax.set_ylabel(change.new)\n",
    "\n",
    "    # full refresh of all outputs\n",
    "    def refresh(self):\n",
    "        self.x = np.linspace(0.0, self.dur, int(self.dur*self.samplerate), endpoint=False)\n",
    "        self.y = generate(self.x,type=self.type,freq=self.freq,Fs=self.samplerate)\n",
    "        self.ax.cla()\n",
    "        self.line, = self.ax.plot(self.x, self.y, self.color)\n",
    "        self.ax.grid(True)\n",
    "        self.update_signal()\n",
    "        \n",
    "    # update of y-axis data and refreshing audio widget     \n",
    "    def update_signal(self):\n",
    "        self.y = generate(self.x,type=self.type,freq=self.freq,Fs=self.samplerate)\n",
    "        self.line.set_ydata(self.y)\n",
    "        self.fig.canvas.draw()\n",
    "        with self.widget_audio:\n",
    "            self.widget_audio.clear_output()\n",
    "            ipd.display(ipd.Audio(data=self.y,rate=self.samplerate,autoplay=self.autoplay)) "
   ]
  },
  {
   "cell_type": "code",
   "execution_count": 3,
   "metadata": {},
   "outputs": [
    {
     "data": {
      "application/vnd.jupyter.widget-view+json": {
       "model_id": "eb755da8a94044b08db8878dcd02724f",
       "version_major": 2,
       "version_minor": 0
      },
      "text/plain": [
       "WaveGenerator(children=(VBox(children=(FloatSlider(value=200.0, continuous_update=False, description='frequenc…"
      ]
     },
     "metadata": {},
     "output_type": "display_data"
    }
   ],
   "source": [
    "demo2 = WaveGenerator()\n",
    "demo2"
   ]
  },
  {
   "cell_type": "code",
   "execution_count": null,
   "metadata": {},
   "outputs": [],
   "source": [
    "fig2,ax2 = plt.subplots()\n",
    "ax2.plot(demo2.line.get_ydata())"
   ]
  },
  {
   "cell_type": "code",
   "execution_count": null,
   "metadata": {},
   "outputs": [],
   "source": [
    "display(demo2.output)\n",
    "demo2.output.__dict__\n"
   ]
  },
  {
   "cell_type": "code",
   "execution_count": 6,
   "metadata": {},
   "outputs": [
    {
     "data": {
      "text/plain": [
       "['_dom_classes',\n",
       " '_model_module',\n",
       " '_model_module_version',\n",
       " '_model_name',\n",
       " '_view_count',\n",
       " '_view_module',\n",
       " '_view_module_version',\n",
       " '_view_name',\n",
       " 'box_style',\n",
       " 'children',\n",
       " 'layout']"
      ]
     },
     "execution_count": 6,
     "metadata": {},
     "output_type": "execute_result"
    }
   ],
   "source": [
    "demo2.keys"
   ]
  },
  {
   "cell_type": "code",
   "execution_count": 13,
   "metadata": {
    "scrolled": false
   },
   "outputs": [
    {
     "data": {
      "text/plain": [
       "{'_trait_values': {'_model_module': '@jupyter-widgets/controls',\n",
       "  '_model_module_version': '1.5.0',\n",
       "  '_model_name': 'HBoxModel',\n",
       "  '_view_count': None,\n",
       "  '_view_module': '@jupyter-widgets/controls',\n",
       "  '_view_module_version': '1.5.0',\n",
       "  '_view_name': 'HBoxView',\n",
       "  'box_style': '',\n",
       "  'children': (VBox(children=(FloatSlider(value=200.0, continuous_update=False, description='frequency', max=1000.0, min=50.0, step=10.0), FloatSlider(value=0.2, continuous_update=False, description='duration', max=1.0, min=0.1), Dropdown(description='Signal', options=('sin', 'square', 'sawtooth'), value='sin'), Checkbox(value=False, description='Autoplay audio'), ColorPicker(value='#FF00DD', description='line color'), Text(value='time', continuous_update=False, description='xlabel'), Text(value='amplitude', continuous_update=False, description='ylabel'), Output(outputs=({'output_type': 'display_data', 'data': {'text/plain': '<IPython.lib.display.Audio object>', 'text/html': '\\n                <audio  controls=\"controls\" >\\n                    <source src=\"data:audio/wav;base64,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\" type=\"audio/wav\" />\\n                    Your browser does not support the audio element.\\n                </audio>\\n              '}, 'metadata': {}},))), layout=Layout(border='solid 1px black', margin='0px 10px 10px 0px', padding='5px 5px 5px 5px')),\n",
       "   Output(layout=Layout(border='solid 1px black', margin='0px 10px 10px 0px', padding='5px 5px 5px 5px'), outputs=({'output_type': 'display_data', 'data': {'text/plain': \"Canvas(toolbar=Toolbar(toolitems=[('Home', 'Reset original view', 'home', 'home'), ('Back', 'Back to previous …\", 'application/vnd.jupyter.widget-view+json': {'version_major': 2, 'version_minor': 0, 'model_id': 'cbaa9418fa884038af23a74c2d1802f7'}}, 'metadata': {}},))),\n",
       "  'comm': <ipykernel.comm.comm.Comm at 0x218e7fa83d0>,\n",
       "  'keys': ['_dom_classes',\n",
       "   '_model_module',\n",
       "   '_model_module_version',\n",
       "   '_model_name',\n",
       "   '_view_count',\n",
       "   '_view_module',\n",
       "   '_view_module_version',\n",
       "   '_view_name',\n",
       "   'box_style',\n",
       "   'children',\n",
       "   'layout'],\n",
       "  '_dom_classes': (),\n",
       "  'layout': Layout(),\n",
       "  '_display_callbacks': <ipywidgets.widgets.widget.CallbackDispatcher at 0x218e7fa8be0>,\n",
       "  '_property_lock': {}},\n",
       " '_trait_notifiers': {'comm': {'change': [<traitlets.traitlets.ObserveHandler at 0x218e3e902b0>]}},\n",
       " '_trait_validators': {},\n",
       " '_cross_validation_lock': False,\n",
       " '_model_id': 'eb755da8a94044b08db8878dcd02724f',\n",
       " 'samplerate': 8000,\n",
       " 'type': 'sin',\n",
       " 'freq': 200,\n",
       " 'dur': 0.2,\n",
       " 'autoplay': False,\n",
       " 'color': '#FF00DD',\n",
       " 'output': Output(layout=Layout(border='solid 1px black', margin='0px 10px 10px 0px', padding='5px 5px 5px 5px'), outputs=({'output_type': 'display_data', 'data': {'text/plain': \"Canvas(toolbar=Toolbar(toolitems=[('Home', 'Reset original view', 'home', 'home'), ('Back', 'Back to previous …\", 'application/vnd.jupyter.widget-view+json': {'version_major': 2, 'version_minor': 0, 'model_id': 'cbaa9418fa884038af23a74c2d1802f7'}}, 'metadata': {}},)),\n",
       " 'x': array([0.00000e+00, 1.25000e-04, 2.50000e-04, ..., 1.99625e-01,\n",
       "        1.99750e-01, 1.99875e-01]),\n",
       " 'y': array([ 0.        ,  0.15643447,  0.30901699, ..., -0.4539905 ,\n",
       "        -0.30901699, -0.15643447]),\n",
       " 'fig': <Figure size 700x350 with 1 Axes>,\n",
       " 'ax': <matplotlib.axes._subplots.AxesSubplot at 0x218e8027fd0>,\n",
       " 'line': <matplotlib.lines.Line2D at 0x218e86df850>,\n",
       " 'widget_audio': Output(outputs=({'output_type': 'display_data', 'data': {'text/plain': '<IPython.lib.display.Audio object>', 'text/html': '\\n                <audio  controls=\"controls\" >\\n                    <source src=\"data:audio/wav;base64,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\" type=\"audio/wav\" />\\n                    Your browser does not support the audio element.\\n                </audio>\\n              '}, 'metadata': {}},))}"
      ]
     },
     "execution_count": 13,
     "metadata": {},
     "output_type": "execute_result"
    }
   ],
   "source": [
    "demo2.__dict__"
   ]
  },
  {
   "cell_type": "code",
   "execution_count": 15,
   "metadata": {},
   "outputs": [],
   "source": [
    "x= demo2.x\n",
    "y=demo2.y\n",
    "out3 = widgets.Output()\n",
    "with out3:\n",
    "        fig3, ax3 = plt.subplots(constrained_layout=True, figsize=(4, 4))\n",
    "        line3, = ax3.plot(x, y)\n",
    "    "
   ]
  },
  {
   "cell_type": "code",
   "execution_count": 16,
   "metadata": {},
   "outputs": [
    {
     "data": {
      "application/vnd.jupyter.widget-view+json": {
       "model_id": "ef95d6d2280e4320b48b37a257dd4751",
       "version_major": 2,
       "version_minor": 0
      },
      "text/plain": [
       "Output(outputs=({'output_type': 'display_data', 'data': {'text/plain': \"Canvas(toolbar=Toolbar(toolitems=[('Ho…"
      ]
     },
     "metadata": {},
     "output_type": "display_data"
    }
   ],
   "source": [
    "out3"
   ]
  },
  {
   "cell_type": "code",
   "execution_count": 18,
   "metadata": {},
   "outputs": [
    {
     "data": {
      "text/plain": [
       "{'_trait_values': {'_model_module': '@jupyter-widgets/output',\n",
       "  '_model_module_version': '1.0.0',\n",
       "  '_model_name': 'OutputModel',\n",
       "  '_view_count': None,\n",
       "  '_view_module': '@jupyter-widgets/output',\n",
       "  '_view_module_version': '1.0.0',\n",
       "  '_view_name': 'OutputView',\n",
       "  'msg_id': '',\n",
       "  'comm': <ipykernel.comm.comm.Comm at 0x218e878b760>,\n",
       "  'keys': ['_dom_classes',\n",
       "   '_model_module',\n",
       "   '_model_module_version',\n",
       "   '_model_name',\n",
       "   '_view_count',\n",
       "   '_view_module',\n",
       "   '_view_module_version',\n",
       "   '_view_name',\n",
       "   'layout',\n",
       "   'msg_id',\n",
       "   'outputs'],\n",
       "  '_dom_classes': (),\n",
       "  'layout': Layout(),\n",
       "  'outputs': ({'output_type': 'display_data',\n",
       "    'data': {'text/plain': \"Canvas(toolbar=Toolbar(toolitems=[('Home', 'Reset original view', 'home', 'home'), ('Back', 'Back to previous …\",\n",
       "     'application/vnd.jupyter.widget-view+json': {'version_major': 2,\n",
       "      'version_minor': 0,\n",
       "      'model_id': '19e74d3e89aa409cbad7ba4f09a3e415'}},\n",
       "    'metadata': {}},),\n",
       "  '_property_lock': {},\n",
       "  '_display_callbacks': <ipywidgets.widgets.widget.CallbackDispatcher at 0x218e98bf130>},\n",
       " '_trait_notifiers': {'comm': {'change': [<traitlets.traitlets.ObserveHandler at 0x218e3e902b0>]}},\n",
       " '_trait_validators': {},\n",
       " '_cross_validation_lock': False,\n",
       " '_model_id': 'ef95d6d2280e4320b48b37a257dd4751',\n",
       " '_Output__counter': 0}"
      ]
     },
     "execution_count": 18,
     "metadata": {},
     "output_type": "execute_result"
    }
   ],
   "source": [
    "# inspecting what is all in the widget output\n",
    "dir(out3)"
   ]
  },
  {
   "cell_type": "code",
   "execution_count": 44,
   "metadata": {},
   "outputs": [
    {
     "data": {
      "text/plain": [
       "['__class__',\n",
       " '__del__',\n",
       " '__delattr__',\n",
       " '__dir__',\n",
       " '__enter__',\n",
       " '__eq__',\n",
       " '__exit__',\n",
       " '__format__',\n",
       " '__ge__',\n",
       " '__getattribute__',\n",
       " '__getstate__',\n",
       " '__gt__',\n",
       " '__hash__',\n",
       " '__init__',\n",
       " '__init_subclass__',\n",
       " '__le__',\n",
       " '__lt__',\n",
       " '__ne__',\n",
       " '__new__',\n",
       " '__reduce__',\n",
       " '__reduce_ex__',\n",
       " '__repr__',\n",
       " '__setattr__',\n",
       " '__setstate__',\n",
       " '__sizeof__',\n",
       " '__str__',\n",
       " '__subclasshook__',\n",
       " '_add_notifiers',\n",
       " '_append_stream_output',\n",
       " '_call_widget_constructed',\n",
       " '_comm_changed',\n",
       " '_compare',\n",
       " '_default_keys',\n",
       " '_display_callbacks',\n",
       " '_flush',\n",
       " '_gen_repr_from_keys',\n",
       " '_get_embed_state',\n",
       " '_handle_custom_msg',\n",
       " '_handle_displayed',\n",
       " '_handle_msg',\n",
       " '_ipython_display_',\n",
       " '_is_numpy',\n",
       " '_lock_property',\n",
       " '_log_default',\n",
       " '_msg_callbacks',\n",
       " '_notify_trait',\n",
       " '_register_validator',\n",
       " '_remove_notifiers',\n",
       " '_repr_keys',\n",
       " '_send',\n",
       " '_should_send_property',\n",
       " '_trait_from_json',\n",
       " '_trait_to_json',\n",
       " 'add_class',\n",
       " 'add_traits',\n",
       " 'append_display_data',\n",
       " 'append_stderr',\n",
       " 'append_stdout',\n",
       " 'capture',\n",
       " 'class_own_trait_events',\n",
       " 'class_own_traits',\n",
       " 'class_trait_names',\n",
       " 'class_traits',\n",
       " 'clear_output',\n",
       " 'close',\n",
       " 'close_all',\n",
       " 'cross_validation_lock',\n",
       " 'get_manager_state',\n",
       " 'get_state',\n",
       " 'get_view_spec',\n",
       " 'handle_comm_opened',\n",
       " 'has_trait',\n",
       " 'hold_sync',\n",
       " 'hold_trait_notifications',\n",
       " 'notify_change',\n",
       " 'observe',\n",
       " 'on_displayed',\n",
       " 'on_msg',\n",
       " 'on_trait_change',\n",
       " 'on_widget_constructed',\n",
       " 'open',\n",
       " 'remove_class',\n",
       " 'send',\n",
       " 'send_state',\n",
       " 'set_state',\n",
       " 'set_trait',\n",
       " 'setup_instance',\n",
       " 'trait_events',\n",
       " 'trait_metadata',\n",
       " 'trait_names',\n",
       " 'traits',\n",
       " 'unobserve',\n",
       " 'unobserve_all']"
      ]
     },
     "execution_count": 44,
     "metadata": {},
     "output_type": "execute_result"
    }
   ],
   "source": [
    "obj=out3\n",
    "[method for method in dir(obj) if callable(getattr(obj, method))]"
   ]
  },
  {
   "cell_type": "code",
   "execution_count": 55,
   "metadata": {},
   "outputs": [
    {
     "data": {
      "text/plain": [
       "<ipywidgets.widgets.trait_types.TypedTuple at 0x218e3ee1970>"
      ]
     },
     "execution_count": 55,
     "metadata": {},
     "output_type": "execute_result"
    }
   ],
   "source": [
    "out3.class_traits()['outputs']"
   ]
  },
  {
   "cell_type": "code",
   "execution_count": 36,
   "metadata": {},
   "outputs": [
    {
     "data": {
      "text/plain": [
       "{'_model_module': '@jupyter-widgets/output',\n",
       " '_model_module_version': '1.0.0',\n",
       " '_model_name': 'OutputModel',\n",
       " '_view_count': None,\n",
       " '_view_module': '@jupyter-widgets/output',\n",
       " '_view_module_version': '1.0.0',\n",
       " '_view_name': 'OutputView',\n",
       " 'msg_id': '',\n",
       " 'comm': <ipykernel.comm.comm.Comm at 0x218e878b760>,\n",
       " 'keys': ['_dom_classes',\n",
       "  '_model_module',\n",
       "  '_model_module_version',\n",
       "  '_model_name',\n",
       "  '_view_count',\n",
       "  '_view_module',\n",
       "  '_view_module_version',\n",
       "  '_view_name',\n",
       "  'layout',\n",
       "  'msg_id',\n",
       "  'outputs'],\n",
       " '_dom_classes': (),\n",
       " 'layout': Layout(),\n",
       " 'outputs': ({'output_type': 'display_data',\n",
       "   'data': {'text/plain': \"Canvas(toolbar=Toolbar(toolitems=[('Home', 'Reset original view', 'home', 'home'), ('Back', 'Back to previous …\",\n",
       "    'application/vnd.jupyter.widget-view+json': {'version_major': 2,\n",
       "     'version_minor': 0,\n",
       "     'model_id': '19e74d3e89aa409cbad7ba4f09a3e415'}},\n",
       "   'metadata': {}},),\n",
       " '_property_lock': {},\n",
       " '_display_callbacks': <ipywidgets.widgets.widget.CallbackDispatcher at 0x218e98bf130>}"
      ]
     },
     "execution_count": 36,
     "metadata": {},
     "output_type": "execute_result"
    }
   ],
   "source": [
    "dd['_trait_values']"
   ]
  },
  {
   "cell_type": "code",
   "execution_count": 38,
   "metadata": {},
   "outputs": [
    {
     "data": {
      "text/plain": [
       "['_dom_classes',\n",
       " '_model_module',\n",
       " '_model_module_version',\n",
       " '_model_name',\n",
       " '_view_count',\n",
       " '_view_module',\n",
       " '_view_module_version',\n",
       " '_view_name',\n",
       " 'layout',\n",
       " 'msg_id',\n",
       " 'outputs']"
      ]
     },
     "execution_count": 38,
     "metadata": {},
     "output_type": "execute_result"
    }
   ],
   "source": [
    "dd['_trait_values']['keys']"
   ]
  },
  {
   "cell_type": "code",
   "execution_count": 40,
   "metadata": {},
   "outputs": [
    {
     "ename": "AttributeError",
     "evalue": "'Output' object has no attribute 'set_title'",
     "output_type": "error",
     "traceback": [
      "\u001b[1;31m---------------------------------------------------------------------------\u001b[0m",
      "\u001b[1;31mAttributeError\u001b[0m                            Traceback (most recent call last)",
      "\u001b[1;32m<ipython-input-40-418582788872>\u001b[0m in \u001b[0;36m<module>\u001b[1;34m\u001b[0m\n\u001b[1;32m----> 1\u001b[1;33m \u001b[0mout3\u001b[0m\u001b[1;33m.\u001b[0m\u001b[0mset_title\u001b[0m\u001b[1;33m(\u001b[0m\u001b[1;33m)\u001b[0m\u001b[1;33m\u001b[0m\u001b[1;33m\u001b[0m\u001b[0m\n\u001b[0m",
      "\u001b[1;31mAttributeError\u001b[0m: 'Output' object has no attribute 'set_title'"
     ]
    }
   ],
   "source": [
    "out3.set_title()"
   ]
  },
  {
   "cell_type": "code",
   "execution_count": 41,
   "metadata": {
    "scrolled": false
   },
   "outputs": [
    {
     "data": {
      "text/plain": [
       "['_Output__counter',\n",
       " '__class__',\n",
       " '__del__',\n",
       " '__delattr__',\n",
       " '__dict__',\n",
       " '__dir__',\n",
       " '__doc__',\n",
       " '__enter__',\n",
       " '__eq__',\n",
       " '__exit__',\n",
       " '__format__',\n",
       " '__ge__',\n",
       " '__getattribute__',\n",
       " '__getstate__',\n",
       " '__gt__',\n",
       " '__hash__',\n",
       " '__init__',\n",
       " '__init_subclass__',\n",
       " '__le__',\n",
       " '__lt__',\n",
       " '__module__',\n",
       " '__ne__',\n",
       " '__new__',\n",
       " '__reduce__',\n",
       " '__reduce_ex__',\n",
       " '__repr__',\n",
       " '__setattr__',\n",
       " '__setstate__',\n",
       " '__sizeof__',\n",
       " '__str__',\n",
       " '__subclasshook__',\n",
       " '__weakref__',\n",
       " '_add_notifiers',\n",
       " '_append_stream_output',\n",
       " '_call_widget_constructed',\n",
       " '_comm_changed',\n",
       " '_compare',\n",
       " '_cross_validation_lock',\n",
       " '_default_keys',\n",
       " '_display_callbacks',\n",
       " '_dom_classes',\n",
       " '_flush',\n",
       " '_gen_repr_from_keys',\n",
       " '_get_embed_state',\n",
       " '_handle_custom_msg',\n",
       " '_handle_displayed',\n",
       " '_handle_msg',\n",
       " '_holding_sync',\n",
       " '_ipython_display_',\n",
       " '_is_numpy',\n",
       " '_lock_property',\n",
       " '_log_default',\n",
       " '_model_id',\n",
       " '_model_module',\n",
       " '_model_module_version',\n",
       " '_model_name',\n",
       " '_msg_callbacks',\n",
       " '_notify_trait',\n",
       " '_property_lock',\n",
       " '_register_validator',\n",
       " '_remove_notifiers',\n",
       " '_repr_keys',\n",
       " '_send',\n",
       " '_should_send_property',\n",
       " '_states_to_send',\n",
       " '_trait_default_generators',\n",
       " '_trait_from_json',\n",
       " '_trait_notifiers',\n",
       " '_trait_to_json',\n",
       " '_trait_validators',\n",
       " '_trait_values',\n",
       " '_view_count',\n",
       " '_view_module',\n",
       " '_view_module_version',\n",
       " '_view_name',\n",
       " '_widget_construction_callback',\n",
       " 'add_class',\n",
       " 'add_traits',\n",
       " 'append_display_data',\n",
       " 'append_stderr',\n",
       " 'append_stdout',\n",
       " 'capture',\n",
       " 'class_own_trait_events',\n",
       " 'class_own_traits',\n",
       " 'class_trait_names',\n",
       " 'class_traits',\n",
       " 'clear_output',\n",
       " 'close',\n",
       " 'close_all',\n",
       " 'comm',\n",
       " 'cross_validation_lock',\n",
       " 'get_manager_state',\n",
       " 'get_state',\n",
       " 'get_view_spec',\n",
       " 'handle_comm_opened',\n",
       " 'has_trait',\n",
       " 'hold_sync',\n",
       " 'hold_trait_notifications',\n",
       " 'keys',\n",
       " 'layout',\n",
       " 'log',\n",
       " 'model_id',\n",
       " 'msg_id',\n",
       " 'notify_change',\n",
       " 'observe',\n",
       " 'on_displayed',\n",
       " 'on_msg',\n",
       " 'on_trait_change',\n",
       " 'on_widget_constructed',\n",
       " 'open',\n",
       " 'outputs',\n",
       " 'remove_class',\n",
       " 'send',\n",
       " 'send_state',\n",
       " 'set_state',\n",
       " 'set_trait',\n",
       " 'setup_instance',\n",
       " 'trait_events',\n",
       " 'trait_metadata',\n",
       " 'trait_names',\n",
       " 'traits',\n",
       " 'unobserve',\n",
       " 'unobserve_all',\n",
       " 'widget_types',\n",
       " 'widgets']"
      ]
     },
     "execution_count": 41,
     "metadata": {},
     "output_type": "execute_result"
    }
   ],
   "source": [
    "dir(out3)"
   ]
  },
  {
   "cell_type": "code",
   "execution_count": 43,
   "metadata": {
    "scrolled": false
   },
   "outputs": [
    {
     "data": {
      "text/plain": [
       "[('__del__',\n",
       "  <bound method Widget.__del__ of Output(outputs=({'output_type': 'display_data', 'data': {'text/plain': \"Canvas(toolbar=Toolbar(toolitems=[('Home', 'Reset original view', 'home', 'home'), ('Back', 'Back to previous …\", 'application/vnd.jupyter.widget-view+json': {'version_major': 2, 'version_minor': 0, 'model_id': '19e74d3e89aa409cbad7ba4f09a3e415'}}, 'metadata': {}},))>),\n",
       " ('__enter__',\n",
       "  <bound method Output.__enter__ of Output(outputs=({'output_type': 'display_data', 'data': {'text/plain': \"Canvas(toolbar=Toolbar(toolitems=[('Home', 'Reset original view', 'home', 'home'), ('Back', 'Back to previous …\", 'application/vnd.jupyter.widget-view+json': {'version_major': 2, 'version_minor': 0, 'model_id': '19e74d3e89aa409cbad7ba4f09a3e415'}}, 'metadata': {}},))>),\n",
       " ('__exit__',\n",
       "  <bound method Output.__exit__ of Output(outputs=({'output_type': 'display_data', 'data': {'text/plain': \"Canvas(toolbar=Toolbar(toolitems=[('Home', 'Reset original view', 'home', 'home'), ('Back', 'Back to previous …\", 'application/vnd.jupyter.widget-view+json': {'version_major': 2, 'version_minor': 0, 'model_id': '19e74d3e89aa409cbad7ba4f09a3e415'}}, 'metadata': {}},))>),\n",
       " ('__getstate__',\n",
       "  <bound method HasTraits.__getstate__ of Output(outputs=({'output_type': 'display_data', 'data': {'text/plain': \"Canvas(toolbar=Toolbar(toolitems=[('Home', 'Reset original view', 'home', 'home'), ('Back', 'Back to previous …\", 'application/vnd.jupyter.widget-view+json': {'version_major': 2, 'version_minor': 0, 'model_id': '19e74d3e89aa409cbad7ba4f09a3e415'}}, 'metadata': {}},))>),\n",
       " ('__init__',\n",
       "  <bound method Widget.__init__ of Output(outputs=({'output_type': 'display_data', 'data': {'text/plain': \"Canvas(toolbar=Toolbar(toolitems=[('Home', 'Reset original view', 'home', 'home'), ('Back', 'Back to previous …\", 'application/vnd.jupyter.widget-view+json': {'version_major': 2, 'version_minor': 0, 'model_id': '19e74d3e89aa409cbad7ba4f09a3e415'}}, 'metadata': {}},))>),\n",
       " ('__repr__',\n",
       "  <bound method Widget.__repr__ of Output(outputs=({'output_type': 'display_data', 'data': {'text/plain': \"Canvas(toolbar=Toolbar(toolitems=[('Home', 'Reset original view', 'home', 'home'), ('Back', 'Back to previous …\", 'application/vnd.jupyter.widget-view+json': {'version_major': 2, 'version_minor': 0, 'model_id': '19e74d3e89aa409cbad7ba4f09a3e415'}}, 'metadata': {}},))>),\n",
       " ('__setstate__',\n",
       "  <bound method HasTraits.__setstate__ of Output(outputs=({'output_type': 'display_data', 'data': {'text/plain': \"Canvas(toolbar=Toolbar(toolitems=[('Home', 'Reset original view', 'home', 'home'), ('Back', 'Back to previous …\", 'application/vnd.jupyter.widget-view+json': {'version_major': 2, 'version_minor': 0, 'model_id': '19e74d3e89aa409cbad7ba4f09a3e415'}}, 'metadata': {}},))>),\n",
       " ('_add_notifiers',\n",
       "  <bound method HasTraits._add_notifiers of Output(outputs=({'output_type': 'display_data', 'data': {'text/plain': \"Canvas(toolbar=Toolbar(toolitems=[('Home', 'Reset original view', 'home', 'home'), ('Back', 'Back to previous …\", 'application/vnd.jupyter.widget-view+json': {'version_major': 2, 'version_minor': 0, 'model_id': '19e74d3e89aa409cbad7ba4f09a3e415'}}, 'metadata': {}},))>),\n",
       " ('_append_stream_output',\n",
       "  <bound method Output._append_stream_output of Output(outputs=({'output_type': 'display_data', 'data': {'text/plain': \"Canvas(toolbar=Toolbar(toolitems=[('Home', 'Reset original view', 'home', 'home'), ('Back', 'Back to previous …\", 'application/vnd.jupyter.widget-view+json': {'version_major': 2, 'version_minor': 0, 'model_id': '19e74d3e89aa409cbad7ba4f09a3e415'}}, 'metadata': {}},))>),\n",
       " ('_comm_changed',\n",
       "  <bound method Widget._comm_changed of Output(outputs=({'output_type': 'display_data', 'data': {'text/plain': \"Canvas(toolbar=Toolbar(toolitems=[('Home', 'Reset original view', 'home', 'home'), ('Back', 'Back to previous …\", 'application/vnd.jupyter.widget-view+json': {'version_major': 2, 'version_minor': 0, 'model_id': '19e74d3e89aa409cbad7ba4f09a3e415'}}, 'metadata': {}},))>),\n",
       " ('_compare',\n",
       "  <bound method Widget._compare of Output(outputs=({'output_type': 'display_data', 'data': {'text/plain': \"Canvas(toolbar=Toolbar(toolitems=[('Home', 'Reset original view', 'home', 'home'), ('Back', 'Back to previous …\", 'application/vnd.jupyter.widget-view+json': {'version_major': 2, 'version_minor': 0, 'model_id': '19e74d3e89aa409cbad7ba4f09a3e415'}}, 'metadata': {}},))>),\n",
       " ('_default_keys',\n",
       "  <bound method Widget._default_keys of Output(outputs=({'output_type': 'display_data', 'data': {'text/plain': \"Canvas(toolbar=Toolbar(toolitems=[('Home', 'Reset original view', 'home', 'home'), ('Back', 'Back to previous …\", 'application/vnd.jupyter.widget-view+json': {'version_major': 2, 'version_minor': 0, 'model_id': '19e74d3e89aa409cbad7ba4f09a3e415'}}, 'metadata': {}},))>),\n",
       " ('_flush',\n",
       "  <bound method Output._flush of Output(outputs=({'output_type': 'display_data', 'data': {'text/plain': \"Canvas(toolbar=Toolbar(toolitems=[('Home', 'Reset original view', 'home', 'home'), ('Back', 'Back to previous …\", 'application/vnd.jupyter.widget-view+json': {'version_major': 2, 'version_minor': 0, 'model_id': '19e74d3e89aa409cbad7ba4f09a3e415'}}, 'metadata': {}},))>),\n",
       " ('_gen_repr_from_keys',\n",
       "  <bound method Widget._gen_repr_from_keys of Output(outputs=({'output_type': 'display_data', 'data': {'text/plain': \"Canvas(toolbar=Toolbar(toolitems=[('Home', 'Reset original view', 'home', 'home'), ('Back', 'Back to previous …\", 'application/vnd.jupyter.widget-view+json': {'version_major': 2, 'version_minor': 0, 'model_id': '19e74d3e89aa409cbad7ba4f09a3e415'}}, 'metadata': {}},))>),\n",
       " ('_get_embed_state',\n",
       "  <bound method Widget._get_embed_state of Output(outputs=({'output_type': 'display_data', 'data': {'text/plain': \"Canvas(toolbar=Toolbar(toolitems=[('Home', 'Reset original view', 'home', 'home'), ('Back', 'Back to previous …\", 'application/vnd.jupyter.widget-view+json': {'version_major': 2, 'version_minor': 0, 'model_id': '19e74d3e89aa409cbad7ba4f09a3e415'}}, 'metadata': {}},))>),\n",
       " ('_handle_custom_msg',\n",
       "  <bound method Widget._handle_custom_msg of Output(outputs=({'output_type': 'display_data', 'data': {'text/plain': \"Canvas(toolbar=Toolbar(toolitems=[('Home', 'Reset original view', 'home', 'home'), ('Back', 'Back to previous …\", 'application/vnd.jupyter.widget-view+json': {'version_major': 2, 'version_minor': 0, 'model_id': '19e74d3e89aa409cbad7ba4f09a3e415'}}, 'metadata': {}},))>),\n",
       " ('_handle_displayed',\n",
       "  <bound method Widget._handle_displayed of Output(outputs=({'output_type': 'display_data', 'data': {'text/plain': \"Canvas(toolbar=Toolbar(toolitems=[('Home', 'Reset original view', 'home', 'home'), ('Back', 'Back to previous …\", 'application/vnd.jupyter.widget-view+json': {'version_major': 2, 'version_minor': 0, 'model_id': '19e74d3e89aa409cbad7ba4f09a3e415'}}, 'metadata': {}},))>),\n",
       " ('_handle_msg',\n",
       "  <bound method _show_traceback.<locals>.m of Output(outputs=({'output_type': 'display_data', 'data': {'text/plain': \"Canvas(toolbar=Toolbar(toolitems=[('Home', 'Reset original view', 'home', 'home'), ('Back', 'Back to previous …\", 'application/vnd.jupyter.widget-view+json': {'version_major': 2, 'version_minor': 0, 'model_id': '19e74d3e89aa409cbad7ba4f09a3e415'}}, 'metadata': {}},))>),\n",
       " ('_ipython_display_',\n",
       "  <bound method Widget._ipython_display_ of Output(outputs=({'output_type': 'display_data', 'data': {'text/plain': \"Canvas(toolbar=Toolbar(toolitems=[('Home', 'Reset original view', 'home', 'home'), ('Back', 'Back to previous …\", 'application/vnd.jupyter.widget-view+json': {'version_major': 2, 'version_minor': 0, 'model_id': '19e74d3e89aa409cbad7ba4f09a3e415'}}, 'metadata': {}},))>),\n",
       " ('_is_numpy',\n",
       "  <bound method Widget._is_numpy of Output(outputs=({'output_type': 'display_data', 'data': {'text/plain': \"Canvas(toolbar=Toolbar(toolitems=[('Home', 'Reset original view', 'home', 'home'), ('Back', 'Back to previous …\", 'application/vnd.jupyter.widget-view+json': {'version_major': 2, 'version_minor': 0, 'model_id': '19e74d3e89aa409cbad7ba4f09a3e415'}}, 'metadata': {}},))>),\n",
       " ('_lock_property',\n",
       "  <bound method Widget._lock_property of Output(outputs=({'output_type': 'display_data', 'data': {'text/plain': \"Canvas(toolbar=Toolbar(toolitems=[('Home', 'Reset original view', 'home', 'home'), ('Back', 'Back to previous …\", 'application/vnd.jupyter.widget-view+json': {'version_major': 2, 'version_minor': 0, 'model_id': '19e74d3e89aa409cbad7ba4f09a3e415'}}, 'metadata': {}},))>),\n",
       " ('_log_default',\n",
       "  <bound method LoggingHasTraits._log_default of Output(outputs=({'output_type': 'display_data', 'data': {'text/plain': \"Canvas(toolbar=Toolbar(toolitems=[('Home', 'Reset original view', 'home', 'home'), ('Back', 'Back to previous …\", 'application/vnd.jupyter.widget-view+json': {'version_major': 2, 'version_minor': 0, 'model_id': '19e74d3e89aa409cbad7ba4f09a3e415'}}, 'metadata': {}},))>),\n",
       " ('_notify_trait',\n",
       "  <bound method HasTraits._notify_trait of Output(outputs=({'output_type': 'display_data', 'data': {'text/plain': \"Canvas(toolbar=Toolbar(toolitems=[('Home', 'Reset original view', 'home', 'home'), ('Back', 'Back to previous …\", 'application/vnd.jupyter.widget-view+json': {'version_major': 2, 'version_minor': 0, 'model_id': '19e74d3e89aa409cbad7ba4f09a3e415'}}, 'metadata': {}},))>),\n",
       " ('_register_validator',\n",
       "  <bound method HasTraits._register_validator of Output(outputs=({'output_type': 'display_data', 'data': {'text/plain': \"Canvas(toolbar=Toolbar(toolitems=[('Home', 'Reset original view', 'home', 'home'), ('Back', 'Back to previous …\", 'application/vnd.jupyter.widget-view+json': {'version_major': 2, 'version_minor': 0, 'model_id': '19e74d3e89aa409cbad7ba4f09a3e415'}}, 'metadata': {}},))>),\n",
       " ('_remove_notifiers',\n",
       "  <bound method HasTraits._remove_notifiers of Output(outputs=({'output_type': 'display_data', 'data': {'text/plain': \"Canvas(toolbar=Toolbar(toolitems=[('Home', 'Reset original view', 'home', 'home'), ('Back', 'Back to previous …\", 'application/vnd.jupyter.widget-view+json': {'version_major': 2, 'version_minor': 0, 'model_id': '19e74d3e89aa409cbad7ba4f09a3e415'}}, 'metadata': {}},))>),\n",
       " ('_repr_keys',\n",
       "  <bound method DOMWidget._repr_keys of Output(outputs=({'output_type': 'display_data', 'data': {'text/plain': \"Canvas(toolbar=Toolbar(toolitems=[('Home', 'Reset original view', 'home', 'home'), ('Back', 'Back to previous …\", 'application/vnd.jupyter.widget-view+json': {'version_major': 2, 'version_minor': 0, 'model_id': '19e74d3e89aa409cbad7ba4f09a3e415'}}, 'metadata': {}},))>),\n",
       " ('_send',\n",
       "  <bound method Widget._send of Output(outputs=({'output_type': 'display_data', 'data': {'text/plain': \"Canvas(toolbar=Toolbar(toolitems=[('Home', 'Reset original view', 'home', 'home'), ('Back', 'Back to previous …\", 'application/vnd.jupyter.widget-view+json': {'version_major': 2, 'version_minor': 0, 'model_id': '19e74d3e89aa409cbad7ba4f09a3e415'}}, 'metadata': {}},))>),\n",
       " ('_should_send_property',\n",
       "  <bound method Widget._should_send_property of Output(outputs=({'output_type': 'display_data', 'data': {'text/plain': \"Canvas(toolbar=Toolbar(toolitems=[('Home', 'Reset original view', 'home', 'home'), ('Back', 'Back to previous …\", 'application/vnd.jupyter.widget-view+json': {'version_major': 2, 'version_minor': 0, 'model_id': '19e74d3e89aa409cbad7ba4f09a3e415'}}, 'metadata': {}},))>),\n",
       " ('add_class',\n",
       "  <bound method DOMWidget.add_class of Output(outputs=({'output_type': 'display_data', 'data': {'text/plain': \"Canvas(toolbar=Toolbar(toolitems=[('Home', 'Reset original view', 'home', 'home'), ('Back', 'Back to previous …\", 'application/vnd.jupyter.widget-view+json': {'version_major': 2, 'version_minor': 0, 'model_id': '19e74d3e89aa409cbad7ba4f09a3e415'}}, 'metadata': {}},))>),\n",
       " ('add_traits',\n",
       "  <bound method Widget.add_traits of Output(outputs=({'output_type': 'display_data', 'data': {'text/plain': \"Canvas(toolbar=Toolbar(toolitems=[('Home', 'Reset original view', 'home', 'home'), ('Back', 'Back to previous …\", 'application/vnd.jupyter.widget-view+json': {'version_major': 2, 'version_minor': 0, 'model_id': '19e74d3e89aa409cbad7ba4f09a3e415'}}, 'metadata': {}},))>),\n",
       " ('append_display_data',\n",
       "  <bound method Output.append_display_data of Output(outputs=({'output_type': 'display_data', 'data': {'text/plain': \"Canvas(toolbar=Toolbar(toolitems=[('Home', 'Reset original view', 'home', 'home'), ('Back', 'Back to previous …\", 'application/vnd.jupyter.widget-view+json': {'version_major': 2, 'version_minor': 0, 'model_id': '19e74d3e89aa409cbad7ba4f09a3e415'}}, 'metadata': {}},))>),\n",
       " ('append_stderr',\n",
       "  <bound method Output.append_stderr of Output(outputs=({'output_type': 'display_data', 'data': {'text/plain': \"Canvas(toolbar=Toolbar(toolitems=[('Home', 'Reset original view', 'home', 'home'), ('Back', 'Back to previous …\", 'application/vnd.jupyter.widget-view+json': {'version_major': 2, 'version_minor': 0, 'model_id': '19e74d3e89aa409cbad7ba4f09a3e415'}}, 'metadata': {}},))>),\n",
       " ('append_stdout',\n",
       "  <bound method Output.append_stdout of Output(outputs=({'output_type': 'display_data', 'data': {'text/plain': \"Canvas(toolbar=Toolbar(toolitems=[('Home', 'Reset original view', 'home', 'home'), ('Back', 'Back to previous …\", 'application/vnd.jupyter.widget-view+json': {'version_major': 2, 'version_minor': 0, 'model_id': '19e74d3e89aa409cbad7ba4f09a3e415'}}, 'metadata': {}},))>),\n",
       " ('capture',\n",
       "  <bound method Output.capture of Output(outputs=({'output_type': 'display_data', 'data': {'text/plain': \"Canvas(toolbar=Toolbar(toolitems=[('Home', 'Reset original view', 'home', 'home'), ('Back', 'Back to previous …\", 'application/vnd.jupyter.widget-view+json': {'version_major': 2, 'version_minor': 0, 'model_id': '19e74d3e89aa409cbad7ba4f09a3e415'}}, 'metadata': {}},))>),\n",
       " ('class_own_trait_events',\n",
       "  <bound method HasTraits.class_own_trait_events of <class 'ipywidgets.widgets.widget_output.Output'>>),\n",
       " ('class_own_traits',\n",
       "  <bound method HasTraits.class_own_traits of <class 'ipywidgets.widgets.widget_output.Output'>>),\n",
       " ('class_trait_names',\n",
       "  <bound method HasTraits.class_trait_names of <class 'ipywidgets.widgets.widget_output.Output'>>),\n",
       " ('class_traits',\n",
       "  <bound method HasTraits.class_traits of <class 'ipywidgets.widgets.widget_output.Output'>>),\n",
       " ('clear_output',\n",
       "  <bound method Output.clear_output of Output(outputs=({'output_type': 'display_data', 'data': {'text/plain': \"Canvas(toolbar=Toolbar(toolitems=[('Home', 'Reset original view', 'home', 'home'), ('Back', 'Back to previous …\", 'application/vnd.jupyter.widget-view+json': {'version_major': 2, 'version_minor': 0, 'model_id': '19e74d3e89aa409cbad7ba4f09a3e415'}}, 'metadata': {}},))>),\n",
       " ('close',\n",
       "  <bound method Widget.close of Output(outputs=({'output_type': 'display_data', 'data': {'text/plain': \"Canvas(toolbar=Toolbar(toolitems=[('Home', 'Reset original view', 'home', 'home'), ('Back', 'Back to previous …\", 'application/vnd.jupyter.widget-view+json': {'version_major': 2, 'version_minor': 0, 'model_id': '19e74d3e89aa409cbad7ba4f09a3e415'}}, 'metadata': {}},))>),\n",
       " ('close_all',\n",
       "  <bound method Widget.close_all of <class 'ipywidgets.widgets.widget_output.Output'>>),\n",
       " ('get_state',\n",
       "  <bound method Widget.get_state of Output(outputs=({'output_type': 'display_data', 'data': {'text/plain': \"Canvas(toolbar=Toolbar(toolitems=[('Home', 'Reset original view', 'home', 'home'), ('Back', 'Back to previous …\", 'application/vnd.jupyter.widget-view+json': {'version_major': 2, 'version_minor': 0, 'model_id': '19e74d3e89aa409cbad7ba4f09a3e415'}}, 'metadata': {}},))>),\n",
       " ('get_view_spec',\n",
       "  <bound method Widget.get_view_spec of Output(outputs=({'output_type': 'display_data', 'data': {'text/plain': \"Canvas(toolbar=Toolbar(toolitems=[('Home', 'Reset original view', 'home', 'home'), ('Back', 'Back to previous …\", 'application/vnd.jupyter.widget-view+json': {'version_major': 2, 'version_minor': 0, 'model_id': '19e74d3e89aa409cbad7ba4f09a3e415'}}, 'metadata': {}},))>),\n",
       " ('has_trait',\n",
       "  <bound method HasTraits.has_trait of Output(outputs=({'output_type': 'display_data', 'data': {'text/plain': \"Canvas(toolbar=Toolbar(toolitems=[('Home', 'Reset original view', 'home', 'home'), ('Back', 'Back to previous …\", 'application/vnd.jupyter.widget-view+json': {'version_major': 2, 'version_minor': 0, 'model_id': '19e74d3e89aa409cbad7ba4f09a3e415'}}, 'metadata': {}},))>),\n",
       " ('hold_sync',\n",
       "  <bound method Widget.hold_sync of Output(outputs=({'output_type': 'display_data', 'data': {'text/plain': \"Canvas(toolbar=Toolbar(toolitems=[('Home', 'Reset original view', 'home', 'home'), ('Back', 'Back to previous …\", 'application/vnd.jupyter.widget-view+json': {'version_major': 2, 'version_minor': 0, 'model_id': '19e74d3e89aa409cbad7ba4f09a3e415'}}, 'metadata': {}},))>),\n",
       " ('hold_trait_notifications',\n",
       "  <bound method HasTraits.hold_trait_notifications of Output(outputs=({'output_type': 'display_data', 'data': {'text/plain': \"Canvas(toolbar=Toolbar(toolitems=[('Home', 'Reset original view', 'home', 'home'), ('Back', 'Back to previous …\", 'application/vnd.jupyter.widget-view+json': {'version_major': 2, 'version_minor': 0, 'model_id': '19e74d3e89aa409cbad7ba4f09a3e415'}}, 'metadata': {}},))>),\n",
       " ('notify_change',\n",
       "  <bound method Widget.notify_change of Output(outputs=({'output_type': 'display_data', 'data': {'text/plain': \"Canvas(toolbar=Toolbar(toolitems=[('Home', 'Reset original view', 'home', 'home'), ('Back', 'Back to previous …\", 'application/vnd.jupyter.widget-view+json': {'version_major': 2, 'version_minor': 0, 'model_id': '19e74d3e89aa409cbad7ba4f09a3e415'}}, 'metadata': {}},))>),\n",
       " ('observe',\n",
       "  <bound method HasTraits.observe of Output(outputs=({'output_type': 'display_data', 'data': {'text/plain': \"Canvas(toolbar=Toolbar(toolitems=[('Home', 'Reset original view', 'home', 'home'), ('Back', 'Back to previous …\", 'application/vnd.jupyter.widget-view+json': {'version_major': 2, 'version_minor': 0, 'model_id': '19e74d3e89aa409cbad7ba4f09a3e415'}}, 'metadata': {}},))>),\n",
       " ('on_displayed',\n",
       "  <bound method Widget.on_displayed of Output(outputs=({'output_type': 'display_data', 'data': {'text/plain': \"Canvas(toolbar=Toolbar(toolitems=[('Home', 'Reset original view', 'home', 'home'), ('Back', 'Back to previous …\", 'application/vnd.jupyter.widget-view+json': {'version_major': 2, 'version_minor': 0, 'model_id': '19e74d3e89aa409cbad7ba4f09a3e415'}}, 'metadata': {}},))>),\n",
       " ('on_msg',\n",
       "  <bound method Widget.on_msg of Output(outputs=({'output_type': 'display_data', 'data': {'text/plain': \"Canvas(toolbar=Toolbar(toolitems=[('Home', 'Reset original view', 'home', 'home'), ('Back', 'Back to previous …\", 'application/vnd.jupyter.widget-view+json': {'version_major': 2, 'version_minor': 0, 'model_id': '19e74d3e89aa409cbad7ba4f09a3e415'}}, 'metadata': {}},))>),\n",
       " ('on_trait_change',\n",
       "  <bound method HasTraits.on_trait_change of Output(outputs=({'output_type': 'display_data', 'data': {'text/plain': \"Canvas(toolbar=Toolbar(toolitems=[('Home', 'Reset original view', 'home', 'home'), ('Back', 'Back to previous …\", 'application/vnd.jupyter.widget-view+json': {'version_major': 2, 'version_minor': 0, 'model_id': '19e74d3e89aa409cbad7ba4f09a3e415'}}, 'metadata': {}},))>),\n",
       " ('open',\n",
       "  <bound method Widget.open of Output(outputs=({'output_type': 'display_data', 'data': {'text/plain': \"Canvas(toolbar=Toolbar(toolitems=[('Home', 'Reset original view', 'home', 'home'), ('Back', 'Back to previous …\", 'application/vnd.jupyter.widget-view+json': {'version_major': 2, 'version_minor': 0, 'model_id': '19e74d3e89aa409cbad7ba4f09a3e415'}}, 'metadata': {}},))>),\n",
       " ('remove_class',\n",
       "  <bound method DOMWidget.remove_class of Output(outputs=({'output_type': 'display_data', 'data': {'text/plain': \"Canvas(toolbar=Toolbar(toolitems=[('Home', 'Reset original view', 'home', 'home'), ('Back', 'Back to previous …\", 'application/vnd.jupyter.widget-view+json': {'version_major': 2, 'version_minor': 0, 'model_id': '19e74d3e89aa409cbad7ba4f09a3e415'}}, 'metadata': {}},))>),\n",
       " ('send',\n",
       "  <bound method Widget.send of Output(outputs=({'output_type': 'display_data', 'data': {'text/plain': \"Canvas(toolbar=Toolbar(toolitems=[('Home', 'Reset original view', 'home', 'home'), ('Back', 'Back to previous …\", 'application/vnd.jupyter.widget-view+json': {'version_major': 2, 'version_minor': 0, 'model_id': '19e74d3e89aa409cbad7ba4f09a3e415'}}, 'metadata': {}},))>),\n",
       " ('send_state',\n",
       "  <bound method Widget.send_state of Output(outputs=({'output_type': 'display_data', 'data': {'text/plain': \"Canvas(toolbar=Toolbar(toolitems=[('Home', 'Reset original view', 'home', 'home'), ('Back', 'Back to previous …\", 'application/vnd.jupyter.widget-view+json': {'version_major': 2, 'version_minor': 0, 'model_id': '19e74d3e89aa409cbad7ba4f09a3e415'}}, 'metadata': {}},))>),\n",
       " ('set_state',\n",
       "  <bound method Widget.set_state of Output(outputs=({'output_type': 'display_data', 'data': {'text/plain': \"Canvas(toolbar=Toolbar(toolitems=[('Home', 'Reset original view', 'home', 'home'), ('Back', 'Back to previous …\", 'application/vnd.jupyter.widget-view+json': {'version_major': 2, 'version_minor': 0, 'model_id': '19e74d3e89aa409cbad7ba4f09a3e415'}}, 'metadata': {}},))>),\n",
       " ('set_trait',\n",
       "  <bound method HasTraits.set_trait of Output(outputs=({'output_type': 'display_data', 'data': {'text/plain': \"Canvas(toolbar=Toolbar(toolitems=[('Home', 'Reset original view', 'home', 'home'), ('Back', 'Back to previous …\", 'application/vnd.jupyter.widget-view+json': {'version_major': 2, 'version_minor': 0, 'model_id': '19e74d3e89aa409cbad7ba4f09a3e415'}}, 'metadata': {}},))>),\n",
       " ('setup_instance',\n",
       "  <bound method HasTraits.setup_instance of Output(outputs=({'output_type': 'display_data', 'data': {'text/plain': \"Canvas(toolbar=Toolbar(toolitems=[('Home', 'Reset original view', 'home', 'home'), ('Back', 'Back to previous …\", 'application/vnd.jupyter.widget-view+json': {'version_major': 2, 'version_minor': 0, 'model_id': '19e74d3e89aa409cbad7ba4f09a3e415'}}, 'metadata': {}},))>),\n",
       " ('trait_events',\n",
       "  <bound method HasTraits.trait_events of <class 'ipywidgets.widgets.widget_output.Output'>>),\n",
       " ('trait_metadata',\n",
       "  <bound method HasTraits.trait_metadata of Output(outputs=({'output_type': 'display_data', 'data': {'text/plain': \"Canvas(toolbar=Toolbar(toolitems=[('Home', 'Reset original view', 'home', 'home'), ('Back', 'Back to previous …\", 'application/vnd.jupyter.widget-view+json': {'version_major': 2, 'version_minor': 0, 'model_id': '19e74d3e89aa409cbad7ba4f09a3e415'}}, 'metadata': {}},))>),\n",
       " ('trait_names',\n",
       "  <bound method HasTraits.trait_names of Output(outputs=({'output_type': 'display_data', 'data': {'text/plain': \"Canvas(toolbar=Toolbar(toolitems=[('Home', 'Reset original view', 'home', 'home'), ('Back', 'Back to previous …\", 'application/vnd.jupyter.widget-view+json': {'version_major': 2, 'version_minor': 0, 'model_id': '19e74d3e89aa409cbad7ba4f09a3e415'}}, 'metadata': {}},))>),\n",
       " ('traits',\n",
       "  <bound method HasTraits.traits of Output(outputs=({'output_type': 'display_data', 'data': {'text/plain': \"Canvas(toolbar=Toolbar(toolitems=[('Home', 'Reset original view', 'home', 'home'), ('Back', 'Back to previous …\", 'application/vnd.jupyter.widget-view+json': {'version_major': 2, 'version_minor': 0, 'model_id': '19e74d3e89aa409cbad7ba4f09a3e415'}}, 'metadata': {}},))>),\n",
       " ('unobserve',\n",
       "  <bound method HasTraits.unobserve of Output(outputs=({'output_type': 'display_data', 'data': {'text/plain': \"Canvas(toolbar=Toolbar(toolitems=[('Home', 'Reset original view', 'home', 'home'), ('Back', 'Back to previous …\", 'application/vnd.jupyter.widget-view+json': {'version_major': 2, 'version_minor': 0, 'model_id': '19e74d3e89aa409cbad7ba4f09a3e415'}}, 'metadata': {}},))>),\n",
       " ('unobserve_all',\n",
       "  <bound method HasTraits.unobserve_all of Output(outputs=({'output_type': 'display_data', 'data': {'text/plain': \"Canvas(toolbar=Toolbar(toolitems=[('Home', 'Reset original view', 'home', 'home'), ('Back', 'Back to previous …\", 'application/vnd.jupyter.widget-view+json': {'version_major': 2, 'version_minor': 0, 'model_id': '19e74d3e89aa409cbad7ba4f09a3e415'}}, 'metadata': {}},))>)]"
      ]
     },
     "execution_count": 43,
     "metadata": {},
     "output_type": "execute_result"
    }
   ],
   "source": [
    "import inspect\n",
    "inspect.getmembers(out3, inspect.ismethod)"
   ]
  },
  {
   "cell_type": "code",
   "execution_count": null,
   "metadata": {},
   "outputs": [],
   "source": []
  }
 ],
 "metadata": {
  "kernelspec": {
   "display_name": "Python 3",
   "language": "python",
   "name": "python3"
  },
  "language_info": {
   "codemirror_mode": {
    "name": "ipython",
    "version": 3
   },
   "file_extension": ".py",
   "mimetype": "text/x-python",
   "name": "python",
   "nbconvert_exporter": "python",
   "pygments_lexer": "ipython3",
   "version": "3.8.3"
  }
 },
 "nbformat": 4,
 "nbformat_minor": 4
}
