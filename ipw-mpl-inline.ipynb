{
 "cells": [
  {
   "cell_type": "markdown",
   "metadata": {},
   "source": [
    "# Interactive plots in Jupyter notebooks with matplotlib and ipywidgets\n",
    "## PART I:   maximizing versatility and portability with the inline backend\n",
    "\n",
    "## DVC \n",
    "## 01/12/2020\n",
    "\n"
   ]
  },
  {
   "cell_type": "code",
   "execution_count": 1,
   "metadata": {},
   "outputs": [],
   "source": [
    "%matplotlib widget"
   ]
  },
  {
   "cell_type": "code",
   "execution_count": 2,
   "metadata": {},
   "outputs": [],
   "source": [
    "import ipywidgets as widgets\n",
    "from ipywidgets import interact, interact_manual, interactive\n",
    "import numpy as np\n",
    "import matplotlib.pyplot as plt\n",
    "from scipy import signal\n",
    "import IPython.display as ipd"
   ]
  },
  {
   "cell_type": "code",
   "execution_count": 3,
   "metadata": {},
   "outputs": [],
   "source": [
    "# any of these could be useful during debugging, but not needed if all is running fine\n",
    "#\n",
    "#%matplotlib --list\n",
    "#ipd.set_matplotlib_close(close=True)\n",
    "#plt.close('all')"
   ]
  },
  {
   "cell_type": "markdown",
   "metadata": {},
   "source": [
    "# 1. Updating Matplotlib Figures with interact()"
   ]
  },
  {
   "cell_type": "code",
   "execution_count": 4,
   "metadata": {},
   "outputs": [],
   "source": [
    "plt.close('all')"
   ]
  },
  {
   "cell_type": "code",
   "execution_count": 7,
   "metadata": {},
   "outputs": [
    {
     "data": {
      "application/vnd.jupyter.widget-view+json": {
       "model_id": "16164d6b4ddc48cbac955fca7f6598a0",
       "version_major": 2,
       "version_minor": 0
      },
      "text/plain": [
       "Canvas(toolbar=Toolbar(toolitems=[('Home', 'Reset original view', 'home', 'home'), ('Back', 'Back to previous …"
      ]
     },
     "metadata": {},
     "output_type": "display_data"
    },
    {
     "data": {
      "application/vnd.jupyter.widget-view+json": {
       "model_id": "7c28310d256e4b4e89e0fc6b99047b78",
       "version_major": 2,
       "version_minor": 0
      },
      "text/plain": [
       "interactive(children=(IntSlider(value=1, description='w', max=10), FloatSlider(value=1.0, description='amp', m…"
      ]
     },
     "metadata": {},
     "output_type": "display_data"
    }
   ],
   "source": [
    "# Method 1 : \n",
    "#  (a) CLEAR FIGURE\n",
    "#  (b) PLOT AGAIN with each interaction\n",
    "#\n",
    "# BACKEND: ALL -- ONLY FUNCTIONAL METHOD WITH INLINE\n",
    "# REMARK: \n",
    "#    - AVOID creating a new figure with each iteration \n",
    "#    - While figures are no longer accessible for interaction after rendering in the inline backend,\n",
    "#        these figures are NOT closed automatically\n",
    "\n",
    "def my_sine(x, w, amp, phi):\n",
    "    return amp*np.sin(w * (x-phi))\n",
    "#\n",
    "x = np.linspace(0, 2 * np.pi, 100)\n",
    "fig = plt.figure(figsize=(3,3))\n",
    "\n",
    "@interact(w=(0, 10, 1), amp=(0, 4, .1), phi=(0, 2*np.pi, 0.01))\n",
    "def update(w = 1.0, amp=1, phi=0):\n",
    "    # clear the figure and start over\n",
    "    plt.clf()\n",
    "    plt.plot(x, my_sine(x, w, amp, phi), color='C0')\n",
    "    plt.ylim([-4, 4])\n",
    "    plt.grid(True)"
   ]
  },
  {
   "cell_type": "code",
   "execution_count": 8,
   "metadata": {},
   "outputs": [
    {
     "data": {
      "application/vnd.jupyter.widget-view+json": {
       "model_id": "bac7e55593994861a8e71a64f1e984b0",
       "version_major": 2,
       "version_minor": 0
      },
      "text/plain": [
       "Canvas(toolbar=Toolbar(toolitems=[('Home', 'Reset original view', 'home', 'home'), ('Back', 'Back to previous …"
      ]
     },
     "metadata": {},
     "output_type": "display_data"
    },
    {
     "data": {
      "application/vnd.jupyter.widget-view+json": {
       "model_id": "68bd7b95f92d4f19994955d655850b19",
       "version_major": 2,
       "version_minor": 0
      },
      "text/plain": [
       "interactive(children=(IntSlider(value=1, description='w', max=10), FloatSlider(value=1.0, description='amp', m…"
      ]
     },
     "metadata": {},
     "output_type": "display_data"
    }
   ],
   "source": [
    "# Method 2: CLEAR selected axes and redraw with each operation (use OO API)\n",
    "# BACKENDS: NOT for INLINE !\n",
    "def my_sine(x, w, amp, phi):\n",
    "    return amp*np.sin(w * (x-phi))\n",
    "#\n",
    "x = np.linspace(0, 2 * np.pi, 100)\n",
    "fig, ax = plt.subplots(figsize=(3, 3))\n",
    "\n",
    "@interact(w=(0, 10, 1), amp=(0, 4, .1), phi=(0, 2*np.pi, 0.01))\n",
    "def update(w = 1.0, amp=1, phi=0):\n",
    "    plt.cla()\n",
    "    ax.plot(x, my_sine(x, w, amp, phi), color='C0')\n",
    "    ax.set_ylim([-4, 4])\n",
    "    ax.grid(True)"
   ]
  },
  {
   "cell_type": "code",
   "execution_count": 9,
   "metadata": {},
   "outputs": [
    {
     "data": {
      "application/vnd.jupyter.widget-view+json": {
       "model_id": "c95b120ee98e49a7a3b06b9cc8aa7380",
       "version_major": 2,
       "version_minor": 0
      },
      "text/plain": [
       "Canvas(toolbar=Toolbar(toolitems=[('Home', 'Reset original view', 'home', 'home'), ('Back', 'Back to previous …"
      ]
     },
     "metadata": {},
     "output_type": "display_data"
    },
    {
     "data": {
      "application/vnd.jupyter.widget-view+json": {
       "model_id": "5dc99d488a6b411e9f717169b4746081",
       "version_major": 2,
       "version_minor": 0
      },
      "text/plain": [
       "interactive(children=(IntSlider(value=1, description='w', max=10), FloatSlider(value=1.0, description='amp', m…"
      ]
     },
     "metadata": {},
     "output_type": "display_data"
    }
   ],
   "source": [
    "# Method 3: Only update line data inside existing axis\n",
    "# BACKENDS: NOT for INLINE !\n",
    "# \n",
    "\n",
    "def my_sine(x, w, amp, phi):\n",
    "    return amp*np.sin(w * (x-phi))\n",
    "#\n",
    "x = np.linspace(0, 2 * np.pi, 100)\n",
    "fig, ax = plt.subplots(figsize=(4, 4))\n",
    "ax.set_ylim([-4, 4])\n",
    "ax.grid(True)\n",
    "\n",
    "@interact(w=(0, 10, 1), amp=(0, 4, .1), phi=(0, 2*np.pi, 0.01))\n",
    "def update(w = 1.0, amp=1, phi=0):\n",
    "    \"\"\"Remove old lines from plot and plot new one\"\"\"\n",
    "    [l.remove() for l in ax.lines]\n",
    "    ax.plot(x, my_sine(x, w, amp, phi), color='C0')"
   ]
  },
  {
   "cell_type": "markdown",
   "metadata": {},
   "source": [
    "## Updating the plot line data"
   ]
  },
  {
   "cell_type": "code",
   "execution_count": 10,
   "metadata": {},
   "outputs": [
    {
     "data": {
      "application/vnd.jupyter.widget-view+json": {
       "model_id": "7ac426eef7484687af6f7bb4415bb6af",
       "version_major": 2,
       "version_minor": 0
      },
      "text/plain": [
       "Canvas(toolbar=Toolbar(toolitems=[('Home', 'Reset original view', 'home', 'home'), ('Back', 'Back to previous …"
      ]
     },
     "metadata": {},
     "output_type": "display_data"
    },
    {
     "data": {
      "application/vnd.jupyter.widget-view+json": {
       "model_id": "8233dcf70f444c17949e329723c381ee",
       "version_major": 2,
       "version_minor": 0
      },
      "text/plain": [
       "interactive(children=(IntSlider(value=1, description='w', max=10), FloatSlider(value=1.0, description='amp', m…"
      ]
     },
     "metadata": {},
     "output_type": "display_data"
    }
   ],
   "source": [
    "# Method 3b: maintain the figure and just refresh the changed data\n",
    "#    1) create a figure  \n",
    "#    2)  just update the y_data if you may assume that the x_data hasn't changed; \n",
    "#          between calls \n",
    "#\n",
    "# BACKENDS: all, except 'inline'  \n",
    "# \n",
    "\n",
    "def my_sine(x, w, amp, phi):\n",
    "    \"\"\"\n",
    "    Return a sine for x with angular frequeny w and amplitude amp.\n",
    "    \"\"\"\n",
    "    return amp*np.sin(w * (x-phi))\n",
    "x = np.linspace(0, 2 * np.pi, 100)\n",
    "\n",
    "#\n",
    "fig, ax = plt.subplots(figsize=(4, 4))\n",
    "ax.set_ylim([-4, 4])\n",
    "ax.grid(True)\n",
    "line, = ax.plot(x, my_sine(x, 0,0,0), color='C0')\n",
    "\n",
    "@interact(w=(0, 10, 1), amp=(0, 4, .1), phi=(0, 2*np.pi+0.01, 0.01))\n",
    "def update(w = 1.0, amp=1, phi=0):\n",
    "    \"\"\"change the ydata values \"\"\"\n",
    "    line.set_ydata( my_sine(x, w, amp, phi) )\n",
    "    fig.canvas.draw()\n",
    "    # fig.canvas.flush_events()"
   ]
  },
  {
   "cell_type": "code",
   "execution_count": 11,
   "metadata": {},
   "outputs": [
    {
     "data": {
      "application/vnd.jupyter.widget-view+json": {
       "model_id": "702f8cc36e2445929b3089646abe0db4",
       "version_major": 2,
       "version_minor": 0
      },
      "text/plain": [
       "Canvas(toolbar=Toolbar(toolitems=[('Home', 'Reset original view', 'home', 'home'), ('Back', 'Back to previous …"
      ]
     },
     "metadata": {},
     "output_type": "display_data"
    },
    {
     "data": {
      "application/vnd.jupyter.widget-view+json": {
       "model_id": "beff4f4693094f99a906aa49c5e33a86",
       "version_major": 2,
       "version_minor": 0
      },
      "text/plain": [
       "interactive(children=(Dropdown(description='Signal', options=('sin', 'square', 'sawtooth'), value='sin'), Floa…"
      ]
     },
     "metadata": {},
     "output_type": "display_data"
    }
   ],
   "source": [
    "# a simple audio signal generator\n",
    "# with control for type amplitude, phase ... \n",
    "#\n",
    "# the audio is immediately generated and rendered\n",
    "#   continuous update are used for frequency and amplitude\n",
    "#   continuous_update=False is used for the duration widget\n",
    "# !! setting continuous_update is the only 'easy' control over frequency of update with interact()\n",
    "# !! more complex asynchronous implementations are suggested on the ipywidgets doc pages\n",
    "# !! under 'debouncing' and 'throttling' .. but this complicates the code significantly\n",
    "# https://ipywidgets.readthedocs.io/en/latest/examples/Widget%20Events.html?highlight=continuous_update#Continuous-updates\n",
    "# !! these solutions are not applicable to interact(), but require .observe() instead, see later\n",
    "#\n",
    "# as the x-axis needs to be modified with the duration\n",
    "#  it is more appropriate to do full redraws at every iteration\n",
    "#\n",
    "# BACKENDS: all\n",
    "#\n",
    "samplerate=8000\n",
    "def generate(type='sin', freq=200.0, Fs=samplerate, Tmax=0.5):\n",
    "    t = np.linspace(0.0, Tmax, int(Tmax*Fs), endpoint=False)\n",
    "    if type == 'sin':\n",
    "        x = np.sin(2.0*np.pi*freq*t)\n",
    "    elif type == 'square':\n",
    "        x = signal.square(2.0*np.pi*freq*t)\n",
    "    elif type == 'sawtooth':\n",
    "        x = signal.sawtooth(2.0*np.pi*freq*t)\n",
    "    else:\n",
    "        print( 'signal: Unrecognized signal type')\n",
    "    return x, t\n",
    "\n",
    "signal_types = [ 'sin', 'square', 'sawtooth' ]\n",
    "# alternative to Dropdown is to use RadioButtons\n",
    "wg_signal = widgets.Dropdown(options=signal_types,\n",
    "                             value='sin',description=\"Signal\")\n",
    "wg_amp = widgets.FloatSlider(value=0.5,step=0.05,max=1.0,description='Amplitude')\n",
    "wg_freq = widgets.FloatSlider(value=200.0,step=5.0,min=50.0,max=500.0,description='Frequency')\n",
    "wg_Tmax = widgets.FloatSlider(value=0.4,step=0.1,min=0.1,max=2.0,description='Duration',\n",
    "                             continuous_update=False)\n",
    "#wg_check = widgets.Checkbox(description='Display Play Button',value=True)\n",
    "\n",
    "fig = plt.figure(figsize=(10,4))\n",
    "first_time = True\n",
    "\n",
    "# in this example we use interact and full replotting\n",
    "# this seems to work well with ALL backends\n",
    "@interact(t=wg_signal,f=wg_freq,A=wg_amp,T=wg_Tmax)\n",
    "def plot_fn(t,f,A,T):\n",
    "    global first_time\n",
    "    x1, t1 = generate(freq=f,type=t,Tmax=T)\n",
    "    y1=A*x1\n",
    "    plt.cla()\n",
    "    plt.plot(t1,y1)\n",
    "    plt.ylim(-1,1)\n",
    "    ipd.display(ipd.Audio(data=y1,rate=samplerate,normalize=False, autoplay=True))\n",
    "    return"
   ]
  },
  {
   "cell_type": "markdown",
   "metadata": {},
   "source": [
    "# 2. Using observe() and callbacks for more control over the interaction\n",
    "## The Output Widget, Widget Boxes, Observers, Classes, ... and fragile backends"
   ]
  },
  {
   "cell_type": "code",
   "execution_count": 12,
   "metadata": {},
   "outputs": [
    {
     "data": {
      "application/vnd.jupyter.widget-view+json": {
       "model_id": "180099de16524a978f51e561a4de0c6f",
       "version_major": 2,
       "version_minor": 0
      },
      "text/plain": [
       "HBox(children=(VBox(children=(IntSlider(value=1, description='freq', max=10), ColorPicker(value='#FF0000', des…"
      ]
     },
     "metadata": {},
     "output_type": "display_data"
    }
   ],
   "source": [
    "# create some x data and plot it in the output widget\n",
    "# give control over data, axis, .. via control widgets using callbacks\n",
    "#\n",
    "x = np.linspace(0, 2 * np.pi, 100)\n",
    "output = widgets.Output() \n",
    "with output:\n",
    "    fig, ax = plt.subplots(constrained_layout=True, figsize=(4, 4))\n",
    "# move the toolbar to the bottom\n",
    "fig.canvas.toolbar_position = 'bottom'\n",
    "ax.grid(True)    \n",
    "line, = ax.plot(x, np.sin(x), '#FF0000')\n",
    "\n",
    "# create some control elements\n",
    "int_slider = widgets.IntSlider(value=1, min=0, max=10, step=1, description='freq')\n",
    "color_picker = widgets.ColorPicker(value='#FF0000', description='pick a color')\n",
    "text_xlabel = widgets.Text(value='', description='xlabel', continuous_update=False)\n",
    "text_ylabel = widgets.Text(value='', description='ylabel', continuous_update=False)\n",
    " \n",
    "# callback functions\n",
    "def update(change):\n",
    "    \"\"\"redraw line (update plot)\"\"\"\n",
    "    line.set_ydata(np.sin(change.new * x))\n",
    "    fig.canvas.draw()\n",
    "     \n",
    "def line_color(change):\n",
    "    \"\"\"set line color\"\"\"\n",
    "    line.set_color(change.new)\n",
    "     \n",
    "def update_xlabel(change):\n",
    "    ax.set_xlabel(change.new)\n",
    "     \n",
    "def update_ylabel(change):\n",
    "    ax.set_ylabel(change.new)\n",
    " \n",
    "# connect callbacks and traits\n",
    "int_slider.observe(update, 'value')\n",
    "color_picker.observe(line_color, 'value')\n",
    "text_xlabel.observe(update_xlabel, 'value')\n",
    "text_ylabel.observe(update_ylabel, 'value')\n",
    " \n",
    "text_xlabel.value = 'x'\n",
    "text_ylabel.value = 'y'\n",
    "controls = widgets.VBox([int_slider, color_picker, text_xlabel, text_ylabel])\n",
    "widgets.HBox([controls, output])"
   ]
  },
  {
   "cell_type": "markdown",
   "metadata": {},
   "source": [
    "## Packing components in a class\n",
    "### Leveraging the Output widget, observers, classes, ..\n",
    "### Dedicated to the 'widget' mpl backend\n",
    "\n",
    "This is a copy from the Kapernikov tutorial ( https://kapernikov.com/ipywidgets-with-matplotlib/ )\n",
    "\n",
    "To create more high level components, we can also subclass a container and build up our gui from within. Containers have a `children` property to which we can assign a list of widgets that should be displayed. Although, we can assign a list, this is turned into a tuple and cannot be modified afterwards.\n",
    "To remove or add a widget at runtime, the children tuple can be turned back into a list, followed by an insert or deletion and finalised by reassigning to the children property. Since it can be easy to make mistakes when going by index, I tend to add a placeholder box in which I only place the 'dynamic' widget.\n",
    "\n",
    "The example below, packs the entire oscilloscope 'dashboard' in a single component by subclassing `VBox`. All the required widgets are defined in the Sines class and added as its `children`. The callbacks are defined as instance methods. It may not be a masterpiece in object oriented programming, but hopefully it shows the idea of constructing larger reusable components. Note that, we need to call `super().__init__()` from `__init__` to properly initialise the parent class. "
   ]
  },
  {
   "cell_type": "code",
   "execution_count": null,
   "metadata": {},
   "outputs": [],
   "source": [
    "def make_box_layout():\n",
    "     return widgets.Layout(\n",
    "        border='solid 1px black',\n",
    "        margin='0px 10px 10px 0px',\n",
    "        padding='5px 5px 5px 5px'\n",
    "     )\n",
    "\n",
    "class Sines(widgets.HBox):\n",
    "    \n",
    "    def __init__(self):\n",
    "        super().__init__()\n",
    "        output = widgets.Output()\n",
    "\n",
    "        self.x = np.linspace(0, 2 * np.pi, 100)\n",
    "        initial_color = '#FF00DD'\n",
    "\n",
    "        with output:\n",
    "            self.fig, self.ax = plt.subplots(constrained_layout=True, figsize=(5, 3.5))\n",
    "        self.line, = self.ax.plot(self.x, np.sin(self.x), initial_color)\n",
    "        \n",
    "        self.fig.canvas.toolbar_position = 'bottom'\n",
    "        self.ax.grid(True)\n",
    "\n",
    "        # define widgets\n",
    "        int_slider = widgets.IntSlider(\n",
    "            value=1, \n",
    "            min=0, \n",
    "            max=10, \n",
    "            step=1, \n",
    "            description='freq'\n",
    "        )\n",
    "        color_picker = widgets.ColorPicker(\n",
    "            value=initial_color, \n",
    "            description='pick a color'\n",
    "        )\n",
    "        text_xlabel = widgets.Text(\n",
    "            value='', \n",
    "            description='xlabel', \n",
    "            continuous_update=False\n",
    "        )\n",
    "        text_ylabel = widgets.Text(\n",
    "            value='', \n",
    "            description='ylabel', \n",
    "            continuous_update=False\n",
    "        )\n",
    "\n",
    "        controls = widgets.VBox([\n",
    "            int_slider, \n",
    "            color_picker, \n",
    "            text_xlabel, \n",
    "            text_ylabel\n",
    "        ])\n",
    "        controls.layout = make_box_layout()\n",
    "        \n",
    "        out_box = widgets.Box([output])\n",
    "        output.layout = make_box_layout()\n",
    "\n",
    "        # observe stuff\n",
    "        int_slider.observe(self.update, 'value')\n",
    "        color_picker.observe(self.line_color, 'value')\n",
    "        text_xlabel.observe(self.update_xlabel, 'value')\n",
    "        text_ylabel.observe(self.update_ylabel, 'value')\n",
    "        \n",
    "        text_xlabel.value = 'x'\n",
    "        text_ylabel.value = 'y'\n",
    "        \n",
    "\n",
    "        # add to children\n",
    "        self.children = [controls, output]\n",
    "    \n",
    "    def update(self, change):\n",
    "        \"\"\"Draw line in plot\"\"\"\n",
    "        self.line.set_ydata(np.sin(change.new * self.x))\n",
    "        self.fig.canvas.draw()\n",
    "\n",
    "    def line_color(self, change):\n",
    "        self.line.set_color(change.new)\n",
    "\n",
    "    def update_xlabel(self, change):\n",
    "        self.ax.set_xlabel(change.new)\n",
    "\n",
    "    def update_ylabel(self, change):\n",
    "        self.ax.set_ylabel(change.new)\n",
    "        \n",
    "        \n",
    "Sines()"
   ]
  },
  {
   "cell_type": "code",
   "execution_count": null,
   "metadata": {},
   "outputs": [],
   "source": [
    "# Method 2: CLEAR selected axes and redraw with each operation (use OO API)\n",
    "# BACKENDS: NOT for INLINE !\n",
    "def my_sine(x, w, amp, phi):\n",
    "    return amp*np.sin(w * (x-phi))\n",
    "#\n",
    "x = np.linspace(0, 2 * np.pi, 100)\n",
    "fig= plt.figure(figsize=(3, 3))\n",
    "\n",
    "@interact(w=(0, 10, 1), amp=(0, 4, .1), phi=(0, 2*np.pi, 0.01))\n",
    "def update(w = 1.0, amp=1, phi=0):\n",
    "    plt.clf()\n",
    "    gs = fig.add_gridspec(2, 1)\n",
    "    ax1 = fig.add_subplot(gs[0, 0])\n",
    "    ax2 = fig.add_subplot(gs[1, 0])\n",
    "    #ax = fig.add_axes()\n",
    "    ax1.plot(x, my_sine(x, w, amp, phi), color='C0')\n",
    "    ax1.set_ylim([-4, 4])\n",
    "    ax1.grid(True)\n",
    "    #plt.show()"
   ]
  },
  {
   "cell_type": "code",
   "execution_count": null,
   "metadata": {},
   "outputs": [],
   "source": []
  }
 ],
 "metadata": {
  "kernelspec": {
   "display_name": "Python 3",
   "language": "python",
   "name": "python3"
  },
  "language_info": {
   "codemirror_mode": {
    "name": "ipython",
    "version": 3
   },
   "file_extension": ".py",
   "mimetype": "text/x-python",
   "name": "python",
   "nbconvert_exporter": "python",
   "pygments_lexer": "ipython3",
   "version": "3.8.3"
  },
  "widgets": {
   "application/vnd.jupyter.widget-state+json": {
    "state": {
     "02b57ba0a95b496685a9182ee7066ed9": {
      "model_module": "@jupyter-widgets/controls",
      "model_module_version": "1.5.0",
      "model_name": "DescriptionStyleModel",
      "state": {
       "description_width": ""
      }
     },
     "032f7388e96544e88f582bef68721826": {
      "model_module": "@jupyter-widgets/base",
      "model_module_version": "1.2.0",
      "model_name": "LayoutModel",
      "state": {}
     },
     "034dfb83c8f74f608ab4ac114c33286b": {
      "model_module": "@jupyter-widgets/base",
      "model_module_version": "1.2.0",
      "model_name": "LayoutModel",
      "state": {}
     },
     "07f3cc064c9f493285d715f1202a5c72": {
      "model_module": "@jupyter-widgets/controls",
      "model_module_version": "1.5.0",
      "model_name": "SliderStyleModel",
      "state": {
       "description_width": ""
      }
     },
     "082cefac6ce145c49ef6a6e313d20beb": {
      "model_module": "@jupyter-widgets/controls",
      "model_module_version": "1.5.0",
      "model_name": "FloatSliderModel",
      "state": {
       "description": "amp",
       "layout": "IPY_MODEL_b601c77a43a943589a7cfbb3be4c70fe",
       "max": 4,
       "step": 0.1,
       "style": "IPY_MODEL_24d8371143a144ff8b09fa6a7841acc2",
       "value": 1
      }
     },
     "09c7019d0b02444a814d3fff87b48a6f": {
      "model_module": "@jupyter-widgets/controls",
      "model_module_version": "1.5.0",
      "model_name": "SliderStyleModel",
      "state": {
       "description_width": ""
      }
     },
     "0aa20e7f10e64ce69f532ec2d505a788": {
      "model_module": "@jupyter-widgets/controls",
      "model_module_version": "1.5.0",
      "model_name": "TextModel",
      "state": {
       "continuous_update": false,
       "description": "xlabel",
       "layout": "IPY_MODEL_ca6ed9edced845dab6a5bc155bde57a9",
       "style": "IPY_MODEL_a11748f95eff4fbfb6fa974562f4dfba",
       "value": "x"
      }
     },
     "0b4b6f960c7a49bfb66a48fc8a226977": {
      "model_module": "@jupyter-widgets/base",
      "model_module_version": "1.2.0",
      "model_name": "LayoutModel",
      "state": {}
     },
     "0e068947b31c4a3bb2ec784a59b9079e": {
      "model_module": "jupyter-matplotlib",
      "model_module_version": "^0.7.4",
      "model_name": "ToolbarModel",
      "state": {
       "layout": "IPY_MODEL_6e8fc93a541446f18f2803c7723433b0",
       "toolitems": [
        [
         "Home",
         "Reset original view",
         "home",
         "home"
        ],
        [
         "Back",
         "Back to previous view",
         "arrow-left",
         "back"
        ],
        [
         "Forward",
         "Forward to next view",
         "arrow-right",
         "forward"
        ],
        [
         "Pan",
         "Left button pans, Right button zooms\nx/y fixes axis, CTRL fixes aspect",
         "arrows",
         "pan"
        ],
        [
         "Zoom",
         "Zoom to rectangle\nx/y fixes axis, CTRL fixes aspect",
         "square-o",
         "zoom"
        ],
        [
         "Download",
         "Download plot",
         "floppy-o",
         "save_figure"
        ]
       ]
      }
     },
     "12925bb061f64683935e8d0b9616bf1c": {
      "model_module": "@jupyter-widgets/output",
      "model_module_version": "1.0.0",
      "model_name": "OutputModel",
      "state": {
       "layout": "IPY_MODEL_fd9c82312be6467994fd0e281a31906e"
      }
     },
     "142fb3a8d5684916a9d16e9aa6368049": {
      "model_module": "@jupyter-widgets/output",
      "model_module_version": "1.0.0",
      "model_name": "OutputModel",
      "state": {
       "layout": "IPY_MODEL_451d6f3bad9342a88085c924d30d6a63"
      }
     },
     "14a715ede452441691dc39dfffaaac57": {
      "model_module": "@jupyter-widgets/controls",
      "model_module_version": "1.5.0",
      "model_name": "SliderStyleModel",
      "state": {
       "description_width": ""
      }
     },
     "154e05cf9f084d00bd1f157494de660f": {
      "model_module": "@jupyter-widgets/controls",
      "model_module_version": "1.5.0",
      "model_name": "FloatSliderModel",
      "state": {
       "description": "Amplitude",
       "layout": "IPY_MODEL_e5a14440188b4a108743cd9318ed3a9f",
       "max": 1,
       "step": 0.05,
       "style": "IPY_MODEL_5773a940844b4d0babd918a725c192dd",
       "value": 0.2
      }
     },
     "1575677d8db84cd38a4f9e06bbea7b70": {
      "model_module": "@jupyter-widgets/base",
      "model_module_version": "1.2.0",
      "model_name": "LayoutModel",
      "state": {}
     },
     "16164d6b4ddc48cbac955fca7f6598a0": {
      "model_module": "jupyter-matplotlib",
      "model_module_version": "^0.7.4",
      "model_name": "MPLCanvasModel",
      "state": {
       "_cursor": "default",
       "_figure_label": "Figure 3",
       "_height": 300,
       "_image_mode": "diff",
       "_width": 300,
       "layout": "IPY_MODEL_8dc6cad9c385498a8be3924de9aa6a04",
       "toolbar": "IPY_MODEL_a432401fc21846048a0151de9fa5842b",
       "toolbar_position": "left"
      }
     },
     "180099de16524a978f51e561a4de0c6f": {
      "model_module": "@jupyter-widgets/controls",
      "model_module_version": "1.5.0",
      "model_name": "HBoxModel",
      "state": {
       "children": [
        "IPY_MODEL_75a153afa3914db3be20df69b77c4813",
        "IPY_MODEL_605c49db563b4c9d808d9ab19e97a41e"
       ],
       "layout": "IPY_MODEL_c59429144c054975b0e29a3e3fbb1e44"
      }
     },
     "199ecbc0a06349e6b9da7877224662bc": {
      "model_module": "@jupyter-widgets/base",
      "model_module_version": "1.2.0",
      "model_name": "LayoutModel",
      "state": {}
     },
     "1baa2f949c6242b696bf86aa545a18b2": {
      "model_module": "@jupyter-widgets/base",
      "model_module_version": "1.2.0",
      "model_name": "LayoutModel",
      "state": {}
     },
     "1cb2258367354358809ca86a4dcce39b": {
      "model_module": "@jupyter-widgets/base",
      "model_module_version": "1.2.0",
      "model_name": "LayoutModel",
      "state": {}
     },
     "1edf2ffe20e14684addffcc197414661": {
      "model_module": "@jupyter-widgets/base",
      "model_module_version": "1.2.0",
      "model_name": "LayoutModel",
      "state": {}
     },
     "1fe90dbe11884c4bb854ba2eb645433b": {
      "model_module": "jupyter-matplotlib",
      "model_module_version": "^0.7.4",
      "model_name": "ToolbarModel",
      "state": {
       "layout": "IPY_MODEL_1baa2f949c6242b696bf86aa545a18b2",
       "toolitems": [
        [
         "Home",
         "Reset original view",
         "home",
         "home"
        ],
        [
         "Back",
         "Back to previous view",
         "arrow-left",
         "back"
        ],
        [
         "Forward",
         "Forward to next view",
         "arrow-right",
         "forward"
        ],
        [
         "Pan",
         "Left button pans, Right button zooms\nx/y fixes axis, CTRL fixes aspect",
         "arrows",
         "pan"
        ],
        [
         "Zoom",
         "Zoom to rectangle\nx/y fixes axis, CTRL fixes aspect",
         "square-o",
         "zoom"
        ],
        [
         "Download",
         "Download plot",
         "floppy-o",
         "save_figure"
        ]
       ]
      }
     },
     "23224ed5488e4114b2770f0767f1568f": {
      "model_module": "@jupyter-widgets/base",
      "model_module_version": "1.2.0",
      "model_name": "LayoutModel",
      "state": {}
     },
     "245b272df91e4878ae4ce0170a7e01d7": {
      "model_module": "@jupyter-widgets/base",
      "model_module_version": "1.2.0",
      "model_name": "LayoutModel",
      "state": {}
     },
     "24d8371143a144ff8b09fa6a7841acc2": {
      "model_module": "@jupyter-widgets/controls",
      "model_module_version": "1.5.0",
      "model_name": "SliderStyleModel",
      "state": {
       "description_width": ""
      }
     },
     "25018db7d3924905907d81f762b8268c": {
      "model_module": "@jupyter-widgets/base",
      "model_module_version": "1.2.0",
      "model_name": "LayoutModel",
      "state": {}
     },
     "276e0143c5b045f4af1f071d3faade86": {
      "model_module": "@jupyter-widgets/controls",
      "model_module_version": "1.5.0",
      "model_name": "FloatSliderModel",
      "state": {
       "continuous_update": false,
       "description": "Duration",
       "layout": "IPY_MODEL_964b0267794642bdb161b21dbcf7e184",
       "max": 2,
       "min": 0.1,
       "step": 0.1,
       "style": "IPY_MODEL_e361695bb29f40e5ad864ddce3eb89d9",
       "value": 0.3
      }
     },
     "28564c8dc8d54e3a96a738f18257d07a": {
      "model_module": "@jupyter-widgets/base",
      "model_module_version": "1.2.0",
      "model_name": "LayoutModel",
      "state": {}
     },
     "28d3884fe48a469097e2d2b24862ff48": {
      "model_module": "@jupyter-widgets/controls",
      "model_module_version": "1.5.0",
      "model_name": "FloatSliderModel",
      "state": {
       "description": "amp",
       "layout": "IPY_MODEL_83964dfb63d2461f86961180251db6b6",
       "max": 4,
       "step": 0.1,
       "style": "IPY_MODEL_b052027e7e18429fa2f2966ad697b765",
       "value": 1
      }
     },
     "2afdc8b530d94147b1632ecb7969e6d0": {
      "model_module": "@jupyter-widgets/base",
      "model_module_version": "1.2.0",
      "model_name": "LayoutModel",
      "state": {}
     },
     "2b7a528978544faea13f23e9c045ece5": {
      "model_module": "jupyter-matplotlib",
      "model_module_version": "^0.7.4",
      "model_name": "ToolbarModel",
      "state": {
       "layout": "IPY_MODEL_46203b89e0344ea19d45c2e8db43e482",
       "toolitems": [
        [
         "Home",
         "Reset original view",
         "home",
         "home"
        ],
        [
         "Back",
         "Back to previous view",
         "arrow-left",
         "back"
        ],
        [
         "Forward",
         "Forward to next view",
         "arrow-right",
         "forward"
        ],
        [
         "Pan",
         "Left button pans, Right button zooms\nx/y fixes axis, CTRL fixes aspect",
         "arrows",
         "pan"
        ],
        [
         "Zoom",
         "Zoom to rectangle\nx/y fixes axis, CTRL fixes aspect",
         "square-o",
         "zoom"
        ],
        [
         "Download",
         "Download plot",
         "floppy-o",
         "save_figure"
        ]
       ]
      }
     },
     "2be0b2d81188462e9169f52fabf332f7": {
      "model_module": "@jupyter-widgets/output",
      "model_module_version": "1.0.0",
      "model_name": "OutputModel",
      "state": {
       "layout": "IPY_MODEL_51db546d54b64594b7aff9e2c388eca7"
      }
     },
     "2bfc7889b2d3432a9652c4afbdc29ba5": {
      "model_module": "@jupyter-widgets/base",
      "model_module_version": "1.2.0",
      "model_name": "LayoutModel",
      "state": {}
     },
     "371684625e8a4081a47297936a79d13c": {
      "model_module": "@jupyter-widgets/controls",
      "model_module_version": "1.5.0",
      "model_name": "SliderStyleModel",
      "state": {
       "description_width": ""
      }
     },
     "3cd19e6c75584343a859dbc9cfec2bbe": {
      "model_module": "@jupyter-widgets/base",
      "model_module_version": "1.2.0",
      "model_name": "LayoutModel",
      "state": {}
     },
     "41123c3b5a2940bbad3ba4ca6d09497c": {
      "model_module": "@jupyter-widgets/base",
      "model_module_version": "1.2.0",
      "model_name": "LayoutModel",
      "state": {}
     },
     "42b5f05637454501855591956eb1ddcb": {
      "model_module": "@jupyter-widgets/base",
      "model_module_version": "1.2.0",
      "model_name": "LayoutModel",
      "state": {}
     },
     "451d6f3bad9342a88085c924d30d6a63": {
      "model_module": "@jupyter-widgets/base",
      "model_module_version": "1.2.0",
      "model_name": "LayoutModel",
      "state": {}
     },
     "46203b89e0344ea19d45c2e8db43e482": {
      "model_module": "@jupyter-widgets/base",
      "model_module_version": "1.2.0",
      "model_name": "LayoutModel",
      "state": {}
     },
     "46d2a86e72d94d3f8ebcf104ca278bc7": {
      "model_module": "@jupyter-widgets/controls",
      "model_module_version": "1.5.0",
      "model_name": "SliderStyleModel",
      "state": {
       "description_width": ""
      }
     },
     "4a0340239d8044758c93cbea901e6ecf": {
      "model_module": "@jupyter-widgets/controls",
      "model_module_version": "1.5.0",
      "model_name": "SliderStyleModel",
      "state": {
       "description_width": ""
      }
     },
     "4ac67c27c33845a9a323e355fb4ce067": {
      "model_module": "@jupyter-widgets/controls",
      "model_module_version": "1.5.0",
      "model_name": "FloatSliderModel",
      "state": {
       "description": "phi",
       "layout": "IPY_MODEL_3cd19e6c75584343a859dbc9cfec2bbe",
       "max": 6.283185307179586,
       "step": 0.01,
       "style": "IPY_MODEL_d17f5951e8af4f348edd13cb7527641b"
      }
     },
     "4af3f32a186d45568e59e04d60d327c2": {
      "model_module": "@jupyter-widgets/base",
      "model_module_version": "1.2.0",
      "model_name": "LayoutModel",
      "state": {}
     },
     "4d06b509c58245e58864ed487bd94d9c": {
      "model_module": "@jupyter-widgets/base",
      "model_module_version": "1.2.0",
      "model_name": "LayoutModel",
      "state": {}
     },
     "4da279e80dcd4593bc30d88d1db595dc": {
      "model_module": "@jupyter-widgets/base",
      "model_module_version": "1.2.0",
      "model_name": "LayoutModel",
      "state": {}
     },
     "4f1c0eca22b14121a04d4438cbf84e45": {
      "model_module": "@jupyter-widgets/controls",
      "model_module_version": "1.5.0",
      "model_name": "IntSliderModel",
      "state": {
       "description": "w",
       "layout": "IPY_MODEL_2bfc7889b2d3432a9652c4afbdc29ba5",
       "max": 10,
       "style": "IPY_MODEL_e099de276aa944fe9438914e8a74e424",
       "value": 5
      }
     },
     "4f4e005133624796b8d48d789160b05a": {
      "model_module": "@jupyter-widgets/controls",
      "model_module_version": "1.5.0",
      "model_name": "SliderStyleModel",
      "state": {
       "description_width": ""
      }
     },
     "50010a6789704a1694e7ee155d67de74": {
      "model_module": "@jupyter-widgets/controls",
      "model_module_version": "1.5.0",
      "model_name": "SliderStyleModel",
      "state": {
       "description_width": ""
      }
     },
     "51db546d54b64594b7aff9e2c388eca7": {
      "model_module": "@jupyter-widgets/base",
      "model_module_version": "1.2.0",
      "model_name": "LayoutModel",
      "state": {}
     },
     "5399505a97364b06a7d4d6b13a12a09c": {
      "model_module": "jupyter-matplotlib",
      "model_module_version": "^0.7.4",
      "model_name": "MPLCanvasModel",
      "state": {
       "_cursor": "default",
       "_figure_label": "Figure 1",
       "_height": 300,
       "_image_mode": "diff",
       "_width": 300,
       "layout": "IPY_MODEL_deb8b148bff241748fbec5007a71195e",
       "toolbar": "IPY_MODEL_0e068947b31c4a3bb2ec784a59b9079e",
       "toolbar_position": "left"
      }
     },
     "53f00be9bd5f4e1d8e5d04a25deb47fc": {
      "model_module": "@jupyter-widgets/output",
      "model_module_version": "1.0.0",
      "model_name": "OutputModel",
      "state": {
       "layout": "IPY_MODEL_2afdc8b530d94147b1632ecb7969e6d0"
      }
     },
     "5773a940844b4d0babd918a725c192dd": {
      "model_module": "@jupyter-widgets/controls",
      "model_module_version": "1.5.0",
      "model_name": "SliderStyleModel",
      "state": {
       "description_width": ""
      }
     },
     "595b994dad7347719a6b6cec0dd29d10": {
      "model_module": "@jupyter-widgets/base",
      "model_module_version": "1.2.0",
      "model_name": "LayoutModel",
      "state": {}
     },
     "5b4afc068f794f378b4451724ec50764": {
      "model_module": "@jupyter-widgets/base",
      "model_module_version": "1.2.0",
      "model_name": "LayoutModel",
      "state": {}
     },
     "5dc99d488a6b411e9f717169b4746081": {
      "model_module": "@jupyter-widgets/controls",
      "model_module_version": "1.5.0",
      "model_name": "VBoxModel",
      "state": {
       "_dom_classes": [
        "widget-interact"
       ],
       "children": [
        "IPY_MODEL_6d0c10dcd0204ecf97c7d32f969f77b5",
        "IPY_MODEL_28d3884fe48a469097e2d2b24862ff48",
        "IPY_MODEL_80653388fd154f0794e309240b42e834",
        "IPY_MODEL_baf488152b944d89ba7a449f158b8ffa"
       ],
       "layout": "IPY_MODEL_034dfb83c8f74f608ab4ac114c33286b"
      }
     },
     "605c49db563b4c9d808d9ab19e97a41e": {
      "model_module": "@jupyter-widgets/output",
      "model_module_version": "1.0.0",
      "model_name": "OutputModel",
      "state": {
       "layout": "IPY_MODEL_23224ed5488e4114b2770f0767f1568f",
       "outputs": [
        {
         "data": {
          "application/vnd.jupyter.widget-view+json": {
           "model_id": "d329ec2012534285af59e2346ebf9cc6",
           "version_major": 2,
           "version_minor": 0
          },
          "text/plain": "Canvas(toolbar=Toolbar(toolitems=[('Home', 'Reset original view', 'home', 'home'), ('Back', 'Back to previous …"
         },
         "metadata": {},
         "output_type": "display_data"
        }
       ]
      }
     },
     "610faf5d7fe14fc29575374761ca3513": {
      "model_module": "@jupyter-widgets/controls",
      "model_module_version": "1.5.0",
      "model_name": "FloatSliderModel",
      "state": {
       "description": "amp",
       "layout": "IPY_MODEL_dad641a5e02246f78aba99113bee0090",
       "max": 4,
       "step": 0.1,
       "style": "IPY_MODEL_4f4e005133624796b8d48d789160b05a",
       "value": 1
      }
     },
     "65116b2f6b2d44aba6cacb26c6712b0e": {
      "model_module": "@jupyter-widgets/controls",
      "model_module_version": "1.5.0",
      "model_name": "FloatSliderModel",
      "state": {
       "description": "phi",
       "layout": "IPY_MODEL_a418bd0f6ccd420b80eb0eeb11217d26",
       "max": 6.293185307179586,
       "step": 0.01,
       "style": "IPY_MODEL_c9bb7b5520624effb866891ab2158207"
      }
     },
     "68bd7b95f92d4f19994955d655850b19": {
      "model_module": "@jupyter-widgets/controls",
      "model_module_version": "1.5.0",
      "model_name": "VBoxModel",
      "state": {
       "_dom_classes": [
        "widget-interact"
       ],
       "children": [
        "IPY_MODEL_dbb16735d35446dc8ea7d594f90fe431",
        "IPY_MODEL_082cefac6ce145c49ef6a6e313d20beb",
        "IPY_MODEL_a0466c5bd8254dc99db4a9cd3f36cb56",
        "IPY_MODEL_12925bb061f64683935e8d0b9616bf1c"
       ],
       "layout": "IPY_MODEL_e0b045ec437149f5922ed90ce545260d"
      }
     },
     "6a61b055ab48471a96b644e112f6c832": {
      "model_module": "@jupyter-widgets/base",
      "model_module_version": "1.2.0",
      "model_name": "LayoutModel",
      "state": {}
     },
     "6b7dfa80c22341f68a1d3fe08ad606b6": {
      "model_module": "@jupyter-widgets/controls",
      "model_module_version": "1.5.0",
      "model_name": "IntSliderModel",
      "state": {
       "description": "w",
       "layout": "IPY_MODEL_cd17a2ced9e34ed6936c7c3b2a7bf22a",
       "max": 10,
       "style": "IPY_MODEL_f5a10795c29a43358f93173cd7f1c5f7",
       "value": 4
      }
     },
     "6d0c10dcd0204ecf97c7d32f969f77b5": {
      "model_module": "@jupyter-widgets/controls",
      "model_module_version": "1.5.0",
      "model_name": "IntSliderModel",
      "state": {
       "description": "w",
       "layout": "IPY_MODEL_c8732c7fff5c49d8a84aa8766270e3ad",
       "max": 10,
       "style": "IPY_MODEL_b1a3730fcfd74c408fff94bec73522c8",
       "value": 3
      }
     },
     "6e5fd7a6a0914f858ab84c9d55295fed": {
      "model_module": "@jupyter-widgets/base",
      "model_module_version": "1.2.0",
      "model_name": "LayoutModel",
      "state": {}
     },
     "6e8fc93a541446f18f2803c7723433b0": {
      "model_module": "@jupyter-widgets/base",
      "model_module_version": "1.2.0",
      "model_name": "LayoutModel",
      "state": {}
     },
     "702f8cc36e2445929b3089646abe0db4": {
      "model_module": "jupyter-matplotlib",
      "model_module_version": "^0.7.4",
      "model_name": "MPLCanvasModel",
      "state": {
       "_cursor": "default",
       "_figure_label": "Figure 7",
       "_height": 400,
       "_image_mode": "diff",
       "_width": 1000,
       "layout": "IPY_MODEL_1575677d8db84cd38a4f9e06bbea7b70",
       "toolbar": "IPY_MODEL_b86e4157e8784fa990fa10aead70e1b8",
       "toolbar_position": "left"
      }
     },
     "73476ff3bfd4475295dbf4ff4e7cea09": {
      "model_module": "@jupyter-widgets/base",
      "model_module_version": "1.2.0",
      "model_name": "LayoutModel",
      "state": {}
     },
     "7587f92f3a544026bf639b0a4fb5a431": {
      "model_module": "@jupyter-widgets/base",
      "model_module_version": "1.2.0",
      "model_name": "LayoutModel",
      "state": {}
     },
     "75a153afa3914db3be20df69b77c4813": {
      "model_module": "@jupyter-widgets/controls",
      "model_module_version": "1.5.0",
      "model_name": "VBoxModel",
      "state": {
       "children": [
        "IPY_MODEL_9685caaf6ecb4da0a0a13e362736aa4e",
        "IPY_MODEL_9c2d435f429344818be1c70d402ab855",
        "IPY_MODEL_0aa20e7f10e64ce69f532ec2d505a788",
        "IPY_MODEL_9d125d2458ae4d7891a47a9c66a6f17f"
       ],
       "layout": "IPY_MODEL_28564c8dc8d54e3a96a738f18257d07a"
      }
     },
     "77735e1a32a443719fd4817a9e12d2c1": {
      "model_module": "@jupyter-widgets/controls",
      "model_module_version": "1.5.0",
      "model_name": "FloatSliderModel",
      "state": {
       "description": "amp",
       "layout": "IPY_MODEL_25018db7d3924905907d81f762b8268c",
       "max": 4,
       "step": 0.1,
       "style": "IPY_MODEL_09c7019d0b02444a814d3fff87b48a6f",
       "value": 1
      }
     },
     "77c9f7c5f0ac4b3bba04435b26e9baaf": {
      "model_module": "@jupyter-widgets/controls",
      "model_module_version": "1.5.0",
      "model_name": "VBoxModel",
      "state": {
       "_dom_classes": [
        "widget-interact"
       ],
       "children": [
        "IPY_MODEL_6b7dfa80c22341f68a1d3fe08ad606b6",
        "IPY_MODEL_9f99228b8f7947de9d5150b8e286fb5a",
        "IPY_MODEL_a8902580d24e41538b821a7ed2ef99a5",
        "IPY_MODEL_2be0b2d81188462e9169f52fabf332f7"
       ],
       "layout": "IPY_MODEL_b4752ee0e0704ac588d3d1b90db3a395"
      }
     },
     "792e160ab7a54e998f6dc91f6c1d0381": {
      "model_module": "@jupyter-widgets/base",
      "model_module_version": "1.2.0",
      "model_name": "LayoutModel",
      "state": {}
     },
     "7a67cbdb3bd145e99ba829f868398cc9": {
      "model_module": "@jupyter-widgets/controls",
      "model_module_version": "1.5.0",
      "model_name": "FloatSliderModel",
      "state": {
       "description": "phi",
       "layout": "IPY_MODEL_d1d6ff901df743ddbc1d151b61e0b580",
       "max": 6.283185307179586,
       "step": 0.01,
       "style": "IPY_MODEL_a593d9ec2b7c4b5e9dab1290fa7f8810"
      }
     },
     "7ac426eef7484687af6f7bb4415bb6af": {
      "model_module": "jupyter-matplotlib",
      "model_module_version": "^0.7.4",
      "model_name": "MPLCanvasModel",
      "state": {
       "_cursor": "default",
       "_figure_label": "Figure 6",
       "_height": 400,
       "_image_mode": "diff",
       "_width": 400,
       "layout": "IPY_MODEL_6a61b055ab48471a96b644e112f6c832",
       "toolbar": "IPY_MODEL_ea2d4e4d5380462c980ec4608af1dae9",
       "toolbar_position": "left"
      }
     },
     "7c28310d256e4b4e89e0fc6b99047b78": {
      "model_module": "@jupyter-widgets/controls",
      "model_module_version": "1.5.0",
      "model_name": "VBoxModel",
      "state": {
       "_dom_classes": [
        "widget-interact"
       ],
       "children": [
        "IPY_MODEL_8c35c68e243347d787f92a31fdcf1162",
        "IPY_MODEL_a3e47388395540cb821f87e81a68aa99",
        "IPY_MODEL_4ac67c27c33845a9a323e355fb4ce067",
        "IPY_MODEL_142fb3a8d5684916a9d16e9aa6368049"
       ],
       "layout": "IPY_MODEL_babaa6c690ee47f894f0f58b80569f0c"
      }
     },
     "7c5359072d28458bb31dd8d245f8638e": {
      "model_module": "@jupyter-widgets/controls",
      "model_module_version": "1.5.0",
      "model_name": "DescriptionStyleModel",
      "state": {
       "description_width": ""
      }
     },
     "7d57363aa0184d0696d12cffe5a889b6": {
      "model_module": "@jupyter-widgets/base",
      "model_module_version": "1.2.0",
      "model_name": "LayoutModel",
      "state": {}
     },
     "80653388fd154f0794e309240b42e834": {
      "model_module": "@jupyter-widgets/controls",
      "model_module_version": "1.5.0",
      "model_name": "FloatSliderModel",
      "state": {
       "description": "phi",
       "layout": "IPY_MODEL_cb29d9800b7543f1bbf15165d34469bb",
       "max": 6.283185307179586,
       "step": 0.01,
       "style": "IPY_MODEL_c36b695517e142a19eea5f1d39744fb1"
      }
     },
     "8233dcf70f444c17949e329723c381ee": {
      "model_module": "@jupyter-widgets/controls",
      "model_module_version": "1.5.0",
      "model_name": "VBoxModel",
      "state": {
       "_dom_classes": [
        "widget-interact"
       ],
       "children": [
        "IPY_MODEL_4f1c0eca22b14121a04d4438cbf84e45",
        "IPY_MODEL_610faf5d7fe14fc29575374761ca3513",
        "IPY_MODEL_65116b2f6b2d44aba6cacb26c6712b0e",
        "IPY_MODEL_adffa33d5baf420995ee0b6699233bfa"
       ],
       "layout": "IPY_MODEL_6e5fd7a6a0914f858ab84c9d55295fed"
      }
     },
     "83964dfb63d2461f86961180251db6b6": {
      "model_module": "@jupyter-widgets/base",
      "model_module_version": "1.2.0",
      "model_name": "LayoutModel",
      "state": {}
     },
     "83a9ff87f7534b88a52d87f92b34bf16": {
      "model_module": "jupyter-matplotlib",
      "model_module_version": "^0.7.4",
      "model_name": "ToolbarModel",
      "state": {
       "layout": "IPY_MODEL_792e160ab7a54e998f6dc91f6c1d0381",
       "toolitems": [
        [
         "Home",
         "Reset original view",
         "home",
         "home"
        ],
        [
         "Back",
         "Back to previous view",
         "arrow-left",
         "back"
        ],
        [
         "Forward",
         "Forward to next view",
         "arrow-right",
         "forward"
        ],
        [
         "Pan",
         "Left button pans, Right button zooms\nx/y fixes axis, CTRL fixes aspect",
         "arrows",
         "pan"
        ],
        [
         "Zoom",
         "Zoom to rectangle\nx/y fixes axis, CTRL fixes aspect",
         "square-o",
         "zoom"
        ],
        [
         "Download",
         "Download plot",
         "floppy-o",
         "save_figure"
        ]
       ]
      }
     },
     "8a7cd87c70df493f9bca434077350673": {
      "model_module": "@jupyter-widgets/controls",
      "model_module_version": "1.5.0",
      "model_name": "DropdownModel",
      "state": {
       "_options_labels": [
        "sin",
        "square",
        "sawtooth"
       ],
       "description": "Signal",
       "index": 1,
       "layout": "IPY_MODEL_4d06b509c58245e58864ed487bd94d9c",
       "style": "IPY_MODEL_02b57ba0a95b496685a9182ee7066ed9"
      }
     },
     "8c35c68e243347d787f92a31fdcf1162": {
      "model_module": "@jupyter-widgets/controls",
      "model_module_version": "1.5.0",
      "model_name": "IntSliderModel",
      "state": {
       "description": "w",
       "layout": "IPY_MODEL_73476ff3bfd4475295dbf4ff4e7cea09",
       "max": 10,
       "style": "IPY_MODEL_a2a3bbc99c4c49408354ddc7be3c088c",
       "value": 6
      }
     },
     "8dc6cad9c385498a8be3924de9aa6a04": {
      "model_module": "@jupyter-widgets/base",
      "model_module_version": "1.2.0",
      "model_name": "LayoutModel",
      "state": {}
     },
     "930c06021a694ed59c307d43313972be": {
      "model_module": "@jupyter-widgets/controls",
      "model_module_version": "1.5.0",
      "model_name": "IntSliderModel",
      "state": {
       "description": "w",
       "layout": "IPY_MODEL_c1304a5bc56a40eaabf634b780b4c51d",
       "max": 10,
       "style": "IPY_MODEL_50010a6789704a1694e7ee155d67de74",
       "value": 6
      }
     },
     "9492438571e04c5cbca1008a4f4b25be": {
      "model_module": "@jupyter-widgets/controls",
      "model_module_version": "1.5.0",
      "model_name": "FloatSliderModel",
      "state": {
       "description": "Frequency",
       "layout": "IPY_MODEL_032f7388e96544e88f582bef68721826",
       "max": 500,
       "min": 50,
       "step": 5,
       "style": "IPY_MODEL_371684625e8a4081a47297936a79d13c",
       "value": 130
      }
     },
     "9559dd290de44b5a976c7c5e4963a798": {
      "model_module": "@jupyter-widgets/base",
      "model_module_version": "1.2.0",
      "model_name": "LayoutModel",
      "state": {}
     },
     "964b0267794642bdb161b21dbcf7e184": {
      "model_module": "@jupyter-widgets/base",
      "model_module_version": "1.2.0",
      "model_name": "LayoutModel",
      "state": {}
     },
     "9685caaf6ecb4da0a0a13e362736aa4e": {
      "model_module": "@jupyter-widgets/controls",
      "model_module_version": "1.5.0",
      "model_name": "IntSliderModel",
      "state": {
       "description": "freq",
       "layout": "IPY_MODEL_1cb2258367354358809ca86a4dcce39b",
       "max": 10,
       "style": "IPY_MODEL_aee7ab8220e44bcf88feebb49391a718",
       "value": 5
      }
     },
     "970666ea507d4d62bc891b7fc635453e": {
      "model_module": "@jupyter-widgets/controls",
      "model_module_version": "1.5.0",
      "model_name": "VBoxModel",
      "state": {
       "_dom_classes": [
        "widget-interact"
       ],
       "children": [
        "IPY_MODEL_930c06021a694ed59c307d43313972be",
        "IPY_MODEL_77735e1a32a443719fd4817a9e12d2c1",
        "IPY_MODEL_7a67cbdb3bd145e99ba829f868398cc9",
        "IPY_MODEL_53f00be9bd5f4e1d8e5d04a25deb47fc"
       ],
       "layout": "IPY_MODEL_9559dd290de44b5a976c7c5e4963a798"
      }
     },
     "994d3c0a72bf4903ad289256aab8036a": {
      "model_module": "@jupyter-widgets/base",
      "model_module_version": "1.2.0",
      "model_name": "LayoutModel",
      "state": {}
     },
     "9c2d435f429344818be1c70d402ab855": {
      "model_module": "@jupyter-widgets/controls",
      "model_module_version": "1.5.0",
      "model_name": "ColorPickerModel",
      "state": {
       "description": "pick a color",
       "disabled": false,
       "layout": "IPY_MODEL_dcba416b533a471ab68045c99d4b9dbf",
       "style": "IPY_MODEL_7c5359072d28458bb31dd8d245f8638e",
       "value": "#FF0000"
      }
     },
     "9d125d2458ae4d7891a47a9c66a6f17f": {
      "model_module": "@jupyter-widgets/controls",
      "model_module_version": "1.5.0",
      "model_name": "TextModel",
      "state": {
       "continuous_update": false,
       "description": "ylabel",
       "layout": "IPY_MODEL_41123c3b5a2940bbad3ba4ca6d09497c",
       "style": "IPY_MODEL_b97f91acc6aa4ddf877e0b2370326907",
       "value": "y"
      }
     },
     "9f99228b8f7947de9d5150b8e286fb5a": {
      "model_module": "@jupyter-widgets/controls",
      "model_module_version": "1.5.0",
      "model_name": "FloatSliderModel",
      "state": {
       "description": "amp",
       "layout": "IPY_MODEL_42b5f05637454501855591956eb1ddcb",
       "max": 4,
       "step": 0.1,
       "style": "IPY_MODEL_4a0340239d8044758c93cbea901e6ecf",
       "value": 1
      }
     },
     "9fa6ca8846924cd88bda9d66d71fdcad": {
      "model_module": "jupyter-matplotlib",
      "model_module_version": "^0.7.4",
      "model_name": "MPLCanvasModel",
      "state": {
       "_cursor": "default",
       "_figure_label": "Figure 2",
       "_height": 300,
       "_image_mode": "diff",
       "_width": 300,
       "layout": "IPY_MODEL_7d57363aa0184d0696d12cffe5a889b6",
       "toolbar": "IPY_MODEL_1fe90dbe11884c4bb854ba2eb645433b",
       "toolbar_position": "left"
      }
     },
     "a0466c5bd8254dc99db4a9cd3f36cb56": {
      "model_module": "@jupyter-widgets/controls",
      "model_module_version": "1.5.0",
      "model_name": "FloatSliderModel",
      "state": {
       "description": "phi",
       "layout": "IPY_MODEL_e15a0bf13b474d47a869b87e626efac5",
       "max": 6.283185307179586,
       "step": 0.01,
       "style": "IPY_MODEL_b62e67dc51b8433883067c2d23fd4868"
      }
     },
     "a11748f95eff4fbfb6fa974562f4dfba": {
      "model_module": "@jupyter-widgets/controls",
      "model_module_version": "1.5.0",
      "model_name": "DescriptionStyleModel",
      "state": {
       "description_width": ""
      }
     },
     "a2a3bbc99c4c49408354ddc7be3c088c": {
      "model_module": "@jupyter-widgets/controls",
      "model_module_version": "1.5.0",
      "model_name": "SliderStyleModel",
      "state": {
       "description_width": ""
      }
     },
     "a3e47388395540cb821f87e81a68aa99": {
      "model_module": "@jupyter-widgets/controls",
      "model_module_version": "1.5.0",
      "model_name": "FloatSliderModel",
      "state": {
       "description": "amp",
       "layout": "IPY_MODEL_595b994dad7347719a6b6cec0dd29d10",
       "max": 4,
       "step": 0.1,
       "style": "IPY_MODEL_07f3cc064c9f493285d715f1202a5c72",
       "value": 1
      }
     },
     "a418bd0f6ccd420b80eb0eeb11217d26": {
      "model_module": "@jupyter-widgets/base",
      "model_module_version": "1.2.0",
      "model_name": "LayoutModel",
      "state": {}
     },
     "a432401fc21846048a0151de9fa5842b": {
      "model_module": "jupyter-matplotlib",
      "model_module_version": "^0.7.4",
      "model_name": "ToolbarModel",
      "state": {
       "layout": "IPY_MODEL_eaf4439207bd49128e753f81d45b9630",
       "toolitems": [
        [
         "Home",
         "Reset original view",
         "home",
         "home"
        ],
        [
         "Back",
         "Back to previous view",
         "arrow-left",
         "back"
        ],
        [
         "Forward",
         "Forward to next view",
         "arrow-right",
         "forward"
        ],
        [
         "Pan",
         "Left button pans, Right button zooms\nx/y fixes axis, CTRL fixes aspect",
         "arrows",
         "pan"
        ],
        [
         "Zoom",
         "Zoom to rectangle\nx/y fixes axis, CTRL fixes aspect",
         "square-o",
         "zoom"
        ],
        [
         "Download",
         "Download plot",
         "floppy-o",
         "save_figure"
        ]
       ]
      }
     },
     "a44c78ba49474dd98bd4396a3176fed6": {
      "model_module": "@jupyter-widgets/base",
      "model_module_version": "1.2.0",
      "model_name": "LayoutModel",
      "state": {}
     },
     "a593d9ec2b7c4b5e9dab1290fa7f8810": {
      "model_module": "@jupyter-widgets/controls",
      "model_module_version": "1.5.0",
      "model_name": "SliderStyleModel",
      "state": {
       "description_width": ""
      }
     },
     "a8902580d24e41538b821a7ed2ef99a5": {
      "model_module": "@jupyter-widgets/controls",
      "model_module_version": "1.5.0",
      "model_name": "FloatSliderModel",
      "state": {
       "description": "phi",
       "layout": "IPY_MODEL_0b4b6f960c7a49bfb66a48fc8a226977",
       "max": 6.283185307179586,
       "step": 0.01,
       "style": "IPY_MODEL_14a715ede452441691dc39dfffaaac57"
      }
     },
     "adffa33d5baf420995ee0b6699233bfa": {
      "model_module": "@jupyter-widgets/output",
      "model_module_version": "1.0.0",
      "model_name": "OutputModel",
      "state": {
       "layout": "IPY_MODEL_c5a116d726a248ae9b9bd6908a075003"
      }
     },
     "aee7ab8220e44bcf88feebb49391a718": {
      "model_module": "@jupyter-widgets/controls",
      "model_module_version": "1.5.0",
      "model_name": "SliderStyleModel",
      "state": {
       "description_width": ""
      }
     },
     "b052027e7e18429fa2f2966ad697b765": {
      "model_module": "@jupyter-widgets/controls",
      "model_module_version": "1.5.0",
      "model_name": "SliderStyleModel",
      "state": {
       "description_width": ""
      }
     },
     "b1a3730fcfd74c408fff94bec73522c8": {
      "model_module": "@jupyter-widgets/controls",
      "model_module_version": "1.5.0",
      "model_name": "SliderStyleModel",
      "state": {
       "description_width": ""
      }
     },
     "b4752ee0e0704ac588d3d1b90db3a395": {
      "model_module": "@jupyter-widgets/base",
      "model_module_version": "1.2.0",
      "model_name": "LayoutModel",
      "state": {}
     },
     "b601c77a43a943589a7cfbb3be4c70fe": {
      "model_module": "@jupyter-widgets/base",
      "model_module_version": "1.2.0",
      "model_name": "LayoutModel",
      "state": {}
     },
     "b62e67dc51b8433883067c2d23fd4868": {
      "model_module": "@jupyter-widgets/controls",
      "model_module_version": "1.5.0",
      "model_name": "SliderStyleModel",
      "state": {
       "description_width": ""
      }
     },
     "b86e4157e8784fa990fa10aead70e1b8": {
      "model_module": "jupyter-matplotlib",
      "model_module_version": "^0.7.4",
      "model_name": "ToolbarModel",
      "state": {
       "layout": "IPY_MODEL_994d3c0a72bf4903ad289256aab8036a",
       "toolitems": [
        [
         "Home",
         "Reset original view",
         "home",
         "home"
        ],
        [
         "Back",
         "Back to previous view",
         "arrow-left",
         "back"
        ],
        [
         "Forward",
         "Forward to next view",
         "arrow-right",
         "forward"
        ],
        [
         "Pan",
         "Left button pans, Right button zooms\nx/y fixes axis, CTRL fixes aspect",
         "arrows",
         "pan"
        ],
        [
         "Zoom",
         "Zoom to rectangle\nx/y fixes axis, CTRL fixes aspect",
         "square-o",
         "zoom"
        ],
        [
         "Download",
         "Download plot",
         "floppy-o",
         "save_figure"
        ]
       ]
      }
     },
     "b97f91acc6aa4ddf877e0b2370326907": {
      "model_module": "@jupyter-widgets/controls",
      "model_module_version": "1.5.0",
      "model_name": "DescriptionStyleModel",
      "state": {
       "description_width": ""
      }
     },
     "babaa6c690ee47f894f0f58b80569f0c": {
      "model_module": "@jupyter-widgets/base",
      "model_module_version": "1.2.0",
      "model_name": "LayoutModel",
      "state": {}
     },
     "bac7e55593994861a8e71a64f1e984b0": {
      "model_module": "jupyter-matplotlib",
      "model_module_version": "^0.7.4",
      "model_name": "MPLCanvasModel",
      "state": {
       "_cursor": "default",
       "_figure_label": "Figure 4",
       "_height": 300,
       "_image_mode": "diff",
       "_message": "x=−0.22 y=−3.73",
       "_width": 300,
       "layout": "IPY_MODEL_199ecbc0a06349e6b9da7877224662bc",
       "toolbar": "IPY_MODEL_2b7a528978544faea13f23e9c045ece5",
       "toolbar_position": "left"
      }
     },
     "baf488152b944d89ba7a449f158b8ffa": {
      "model_module": "@jupyter-widgets/output",
      "model_module_version": "1.0.0",
      "model_name": "OutputModel",
      "state": {
       "layout": "IPY_MODEL_d71f5d9aae474acfb63bcd842bee9c79"
      }
     },
     "bd587066af164813a0588d6cc040a0ae": {
      "model_module": "@jupyter-widgets/output",
      "model_module_version": "1.0.0",
      "model_name": "OutputModel",
      "state": {
       "layout": "IPY_MODEL_245b272df91e4878ae4ce0170a7e01d7",
       "outputs": [
        {
         "data": {
          "text/html": "\n                <audio  controls=\"controls\" autoplay=\"autoplay\">\n                    <source src=\"data:audio/wav;base64,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\" type=\"audio/wav\" />\n                    Your browser does not support the audio element.\n                </audio>\n              ",
          "text/plain": "<IPython.lib.display.Audio object>"
         },
         "metadata": {},
         "output_type": "display_data"
        }
       ]
      }
     },
     "beff4f4693094f99a906aa49c5e33a86": {
      "model_module": "@jupyter-widgets/controls",
      "model_module_version": "1.5.0",
      "model_name": "VBoxModel",
      "state": {
       "_dom_classes": [
        "widget-interact"
       ],
       "children": [
        "IPY_MODEL_8a7cd87c70df493f9bca434077350673",
        "IPY_MODEL_9492438571e04c5cbca1008a4f4b25be",
        "IPY_MODEL_154e05cf9f084d00bd1f157494de660f",
        "IPY_MODEL_276e0143c5b045f4af1f071d3faade86",
        "IPY_MODEL_bd587066af164813a0588d6cc040a0ae"
       ],
       "layout": "IPY_MODEL_4da279e80dcd4593bc30d88d1db595dc"
      }
     },
     "c1304a5bc56a40eaabf634b780b4c51d": {
      "model_module": "@jupyter-widgets/base",
      "model_module_version": "1.2.0",
      "model_name": "LayoutModel",
      "state": {}
     },
     "c36b695517e142a19eea5f1d39744fb1": {
      "model_module": "@jupyter-widgets/controls",
      "model_module_version": "1.5.0",
      "model_name": "SliderStyleModel",
      "state": {
       "description_width": ""
      }
     },
     "c59429144c054975b0e29a3e3fbb1e44": {
      "model_module": "@jupyter-widgets/base",
      "model_module_version": "1.2.0",
      "model_name": "LayoutModel",
      "state": {}
     },
     "c5a116d726a248ae9b9bd6908a075003": {
      "model_module": "@jupyter-widgets/base",
      "model_module_version": "1.2.0",
      "model_name": "LayoutModel",
      "state": {}
     },
     "c8732c7fff5c49d8a84aa8766270e3ad": {
      "model_module": "@jupyter-widgets/base",
      "model_module_version": "1.2.0",
      "model_name": "LayoutModel",
      "state": {}
     },
     "c95b120ee98e49a7a3b06b9cc8aa7380": {
      "model_module": "jupyter-matplotlib",
      "model_module_version": "^0.7.4",
      "model_name": "MPLCanvasModel",
      "state": {
       "_cursor": "default",
       "_figure_label": "Figure 5",
       "_height": 400,
       "_image_mode": "diff",
       "_width": 400,
       "layout": "IPY_MODEL_4af3f32a186d45568e59e04d60d327c2",
       "toolbar": "IPY_MODEL_83a9ff87f7534b88a52d87f92b34bf16",
       "toolbar_position": "left"
      }
     },
     "c9bb7b5520624effb866891ab2158207": {
      "model_module": "@jupyter-widgets/controls",
      "model_module_version": "1.5.0",
      "model_name": "SliderStyleModel",
      "state": {
       "description_width": ""
      }
     },
     "ca6ed9edced845dab6a5bc155bde57a9": {
      "model_module": "@jupyter-widgets/base",
      "model_module_version": "1.2.0",
      "model_name": "LayoutModel",
      "state": {}
     },
     "cb29d9800b7543f1bbf15165d34469bb": {
      "model_module": "@jupyter-widgets/base",
      "model_module_version": "1.2.0",
      "model_name": "LayoutModel",
      "state": {}
     },
     "cd17a2ced9e34ed6936c7c3b2a7bf22a": {
      "model_module": "@jupyter-widgets/base",
      "model_module_version": "1.2.0",
      "model_name": "LayoutModel",
      "state": {}
     },
     "cd89238ce32b4fc4a7e0ff5608d3322a": {
      "model_module": "jupyter-matplotlib",
      "model_module_version": "^0.7.4",
      "model_name": "ToolbarModel",
      "state": {
       "layout": "IPY_MODEL_a44c78ba49474dd98bd4396a3176fed6",
       "orientation": "horizontal",
       "toolitems": [
        [
         "Home",
         "Reset original view",
         "home",
         "home"
        ],
        [
         "Back",
         "Back to previous view",
         "arrow-left",
         "back"
        ],
        [
         "Forward",
         "Forward to next view",
         "arrow-right",
         "forward"
        ],
        [
         "Pan",
         "Left button pans, Right button zooms\nx/y fixes axis, CTRL fixes aspect",
         "arrows",
         "pan"
        ],
        [
         "Zoom",
         "Zoom to rectangle\nx/y fixes axis, CTRL fixes aspect",
         "square-o",
         "zoom"
        ],
        [
         "Download",
         "Download plot",
         "floppy-o",
         "save_figure"
        ]
       ]
      }
     },
     "d17f5951e8af4f348edd13cb7527641b": {
      "model_module": "@jupyter-widgets/controls",
      "model_module_version": "1.5.0",
      "model_name": "SliderStyleModel",
      "state": {
       "description_width": ""
      }
     },
     "d1d6ff901df743ddbc1d151b61e0b580": {
      "model_module": "@jupyter-widgets/base",
      "model_module_version": "1.2.0",
      "model_name": "LayoutModel",
      "state": {}
     },
     "d329ec2012534285af59e2346ebf9cc6": {
      "model_module": "jupyter-matplotlib",
      "model_module_version": "^0.7.4",
      "model_name": "MPLCanvasModel",
      "state": {
       "_cursor": "default",
       "_figure_label": "Figure 8",
       "_height": 400,
       "_image_mode": "diff",
       "_width": 400,
       "layout": "IPY_MODEL_7587f92f3a544026bf639b0a4fb5a431",
       "toolbar": "IPY_MODEL_cd89238ce32b4fc4a7e0ff5608d3322a",
       "toolbar_position": "bottom"
      }
     },
     "d71f5d9aae474acfb63bcd842bee9c79": {
      "model_module": "@jupyter-widgets/base",
      "model_module_version": "1.2.0",
      "model_name": "LayoutModel",
      "state": {}
     },
     "dad641a5e02246f78aba99113bee0090": {
      "model_module": "@jupyter-widgets/base",
      "model_module_version": "1.2.0",
      "model_name": "LayoutModel",
      "state": {}
     },
     "dbb16735d35446dc8ea7d594f90fe431": {
      "model_module": "@jupyter-widgets/controls",
      "model_module_version": "1.5.0",
      "model_name": "IntSliderModel",
      "state": {
       "description": "w",
       "layout": "IPY_MODEL_1edf2ffe20e14684addffcc197414661",
       "max": 10,
       "style": "IPY_MODEL_46d2a86e72d94d3f8ebcf104ca278bc7",
       "value": 6
      }
     },
     "dcba416b533a471ab68045c99d4b9dbf": {
      "model_module": "@jupyter-widgets/base",
      "model_module_version": "1.2.0",
      "model_name": "LayoutModel",
      "state": {}
     },
     "deb8b148bff241748fbec5007a71195e": {
      "model_module": "@jupyter-widgets/base",
      "model_module_version": "1.2.0",
      "model_name": "LayoutModel",
      "state": {}
     },
     "e099de276aa944fe9438914e8a74e424": {
      "model_module": "@jupyter-widgets/controls",
      "model_module_version": "1.5.0",
      "model_name": "SliderStyleModel",
      "state": {
       "description_width": ""
      }
     },
     "e0b045ec437149f5922ed90ce545260d": {
      "model_module": "@jupyter-widgets/base",
      "model_module_version": "1.2.0",
      "model_name": "LayoutModel",
      "state": {}
     },
     "e15a0bf13b474d47a869b87e626efac5": {
      "model_module": "@jupyter-widgets/base",
      "model_module_version": "1.2.0",
      "model_name": "LayoutModel",
      "state": {}
     },
     "e361695bb29f40e5ad864ddce3eb89d9": {
      "model_module": "@jupyter-widgets/controls",
      "model_module_version": "1.5.0",
      "model_name": "SliderStyleModel",
      "state": {
       "description_width": ""
      }
     },
     "e5a14440188b4a108743cd9318ed3a9f": {
      "model_module": "@jupyter-widgets/base",
      "model_module_version": "1.2.0",
      "model_name": "LayoutModel",
      "state": {}
     },
     "ea2d4e4d5380462c980ec4608af1dae9": {
      "model_module": "jupyter-matplotlib",
      "model_module_version": "^0.7.4",
      "model_name": "ToolbarModel",
      "state": {
       "layout": "IPY_MODEL_5b4afc068f794f378b4451724ec50764",
       "toolitems": [
        [
         "Home",
         "Reset original view",
         "home",
         "home"
        ],
        [
         "Back",
         "Back to previous view",
         "arrow-left",
         "back"
        ],
        [
         "Forward",
         "Forward to next view",
         "arrow-right",
         "forward"
        ],
        [
         "Pan",
         "Left button pans, Right button zooms\nx/y fixes axis, CTRL fixes aspect",
         "arrows",
         "pan"
        ],
        [
         "Zoom",
         "Zoom to rectangle\nx/y fixes axis, CTRL fixes aspect",
         "square-o",
         "zoom"
        ],
        [
         "Download",
         "Download plot",
         "floppy-o",
         "save_figure"
        ]
       ]
      }
     },
     "eaf4439207bd49128e753f81d45b9630": {
      "model_module": "@jupyter-widgets/base",
      "model_module_version": "1.2.0",
      "model_name": "LayoutModel",
      "state": {}
     },
     "f5a10795c29a43358f93173cd7f1c5f7": {
      "model_module": "@jupyter-widgets/controls",
      "model_module_version": "1.5.0",
      "model_name": "SliderStyleModel",
      "state": {
       "description_width": ""
      }
     },
     "fd9c82312be6467994fd0e281a31906e": {
      "model_module": "@jupyter-widgets/base",
      "model_module_version": "1.2.0",
      "model_name": "LayoutModel",
      "state": {}
     }
    },
    "version_major": 2,
    "version_minor": 0
   }
  }
 },
 "nbformat": 4,
 "nbformat_minor": 4
}
