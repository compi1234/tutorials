{
 "cells": [
  {
   "cell_type": "markdown",
   "metadata": {},
   "source": [
    "# Interactive plots in Jupyter notebooks with matplotlib and ipywidgets\n",
    "## PART I:   maximizing versatility and portability with the inline backend\n",
    "\n",
    "## DVC \n",
    "## 01/12/2020\n",
    "\n",
    "The whole Jupyter notebook ecosystem boasts great claims in terms of simple, powerful and interactive computing.\n",
    "Nevertheless, when going beyond the most simple types of interactivity one quickly runs into problems, platform specific limitations, or complex code ... exactly what you did not hope for when choosing for the Jupyter ecosystem.\n",
    "\n",
    "This notebook explores what is possible in terms of interactivity when restricting to the inline backend of matplotlib ... why because it is the one backend that seems to be working consistently across computing platforms, meaning standalone, Google Colab, nbviewer, .. "
   ]
  },
  {
   "cell_type": "markdown",
   "metadata": {},
   "source": [
    "## Choosing a backend for matplotlib\n",
    "There are a large number of backends available.   \n",
    "These fall apart in two categories:\n",
    "- backends that render the plots inline in the notebook: inline, notebook, widget\n",
    "- backends that render the plots outside of the notebook: qt5, tk\n",
    "\n",
    "Which one to choose may depend on personal choice, but even more so on the computing environment and the requirements for interactivity.\n",
    "\n",
    "### Computing environment\n",
    "\n",
    "We consider following environments:\n",
    "- standalone:   win10, maxOS\n",
    "- server based: Google Colab, nbviewer\n",
    "\n",
    "    + Google Colab: \n",
    "        - (02/12/2020) is using IPython 5.5.0 causing some serious deficiences\n",
    "            + basically only supports the inline backend for matplotlib\n",
    "            + it doesn't crash on the notebook or widget backends, but they don't function properly\n",
    "            + misses the 'Normalization' keyword in IPython.Audio()\n",
    "            + no full support of ipywidgets\n",
    "        - this allows interactive plot generation (parameters settings, filenames, ... )\n",
    "        - this does not comfort truly interactive plotting\n",
    "    + nbviewer:\n",
    "    \n",
    "        \n",
    "### General Guidance on Backends\n",
    "- best is to set the backend BEFORE importing matplotlib.   Changing a backend en route should be supported, but is not advised and doesn't seem to work \n",
    "- when debugging code, you need to restart the kernel very often as 'things' keep on hanging around\n",
    "    \n",
    "### inline-like Backends for matplotlib\n",
    "- what I call inline-like backends are backends that render everything inside (an output cell of) the notebook\n",
    "\n",
    "    - **inline** (in most environments this is also the default)\n",
    "        + commonly used , most robust in simple plotting, non interactive mode\n",
    "        + less suited for exporting figures\n",
    "        + SEVERE LIMITATION : interactive plots via REDRAW only, i.e.\n",
    "            * any update requires a full redraw of a figure in the same output cell\n",
    "            * but NEVER UPDATE properties of an existing figure with widget controls\n",
    "            * usability depends on how heavy the compute/plot code might be \n",
    "            * there should be a way to change this setting with \n",
    "                - IPython.display.set_matplotlib_close(close=False); \n",
    "                - but it doesn't seem to solve widget interactivity\n",
    "    - **notebook**\n",
    "        + a variant of inline but control over the plotting canvas --> resized, exported, ..  \n",
    "        + it has its own predefined output canvas for plotting\n",
    "        + LIMITATIONS AND BUGS: \n",
    "            - by design you can not use the 'output' ipywidget\n",
    "            - is supposed to behave unpredictable when more than one notebook is open\n",
    "    - **widget** (i.e. based on ipympl)\n",
    "        + matplotlib rendering is done INSIDE a jupyter OUTPUT widget\n",
    "        + allowing figures + controls to be kept together in the output cell\n",
    "\n",
    "### external backends for matplotlib\n",
    "- with these backends the widgets for interactivity will be displayed inline if using ipywidgets \n",
    "- the rendering of the matplotlib plots is always in a separate window\n",
    "- this independent plotting window gives the most control for postprocessing of the figures\n",
    "- backends:\n",
    "    - qt5: most powerful postprocessing on the plot window\n",
    "    - tk: similar usage as qt5, but sometimes hanging and slow in standalone mode\n",
    "\n",
    "###  references \n",
    "  - (dated 2018) https://medium.com/@1522933668924/using-matplotlib-in-jupyter-notebooks-comparing-methods-and-some-tips-python-c38e85b40ba1\n",
    "  - tutorial on widget backend https://kapernikov.com/ipywidgets-with-matplotlib/\n",
    "  - \"The visualization space in the Python community is very dynamic, and I fully expect this list to be out of date as soon as it is published. Keep an eye out for what's coming in the future\", Jakevdp, Python Data Science Handbook, 2016.\n",
    "  - what is true for visualization is even more true for widgets"
   ]
  },
  {
   "cell_type": "code",
   "execution_count": 1,
   "metadata": {},
   "outputs": [],
   "source": [
    "# execute for the widget backend -- otherwise for the inline backend, SKIP\n",
    "try:\n",
    "    %matplotlib widget\n",
    "except:\n",
    "    ! pip install iympl\n",
    "    %matplotlib widget"
   ]
  },
  {
   "cell_type": "code",
   "execution_count": 2,
   "metadata": {},
   "outputs": [],
   "source": [
    "%matplotlib inline"
   ]
  },
  {
   "cell_type": "code",
   "execution_count": 3,
   "metadata": {},
   "outputs": [],
   "source": [
    "import ipywidgets as widgets\n",
    "from ipywidgets import interact, interact_manual, interactive\n",
    "import numpy as np\n",
    "import matplotlib.pyplot as plt\n",
    "from scipy import signal\n",
    "import IPython.display as ipd"
   ]
  },
  {
   "cell_type": "code",
   "execution_count": 4,
   "metadata": {},
   "outputs": [],
   "source": [
    "# any of these could be useful during debugging, but not needed if all is running fine\n",
    "#\n",
    "#%matplotlib --list\n",
    "#ipd.set_matplotlib_close(close=True)\n",
    "#plt.close('all')"
   ]
  },
  {
   "cell_type": "markdown",
   "metadata": {},
   "source": [
    "# 1. Updating Matplotlib Figures with interact()"
   ]
  },
  {
   "cell_type": "code",
   "execution_count": 5,
   "metadata": {},
   "outputs": [
    {
     "data": {
      "application/vnd.jupyter.widget-view+json": {
       "model_id": "4af58efb54584c86b58a580569b64966",
       "version_major": 2,
       "version_minor": 0
      },
      "text/plain": [
       "interactive(children=(FloatSlider(value=0.0, description='m', max=2.0, min=-2.0), FloatSlider(value=0.0, descr…"
      ]
     },
     "metadata": {},
     "output_type": "display_data"
    }
   ],
   "source": [
    "# Method 1 : creating a new figure for each updated plot\n",
    "#   This is a simple and naive approach that works well with the 'inline' backend \n",
    "#   However, as long as the created figures are not explicitly closed , they will stay in memory\n",
    "#\n",
    "#   All other backends will accumulate a multitude of figures unless you explicitly \n",
    "#   close the existing figure(s)\n",
    "#\n",
    "@interact( m=(-2.,2.), b=(-3,3,0.5))\n",
    "def f(m,b):\n",
    "    fig = plt.figure(figsize=(2,2))\n",
    "    x = np.linspace(-10,10,num=1000)\n",
    "    plt.plot(x, m*x+b )\n",
    "    plt.ylim(-5,5)\n",
    "    plt.show()"
   ]
  },
  {
   "cell_type": "code",
   "execution_count": 6,
   "metadata": {},
   "outputs": [],
   "source": [
    "plt.close('all')"
   ]
  },
  {
   "cell_type": "code",
   "execution_count": 7,
   "metadata": {},
   "outputs": [
    {
     "data": {
      "text/plain": [
       "<Figure size 432x288 with 0 Axes>"
      ]
     },
     "metadata": {},
     "output_type": "display_data"
    }
   ],
   "source": [
    "plt.figure(4)\n",
    "plt.show()"
   ]
  },
  {
   "cell_type": "code",
   "execution_count": 8,
   "metadata": {},
   "outputs": [
    {
     "data": {
      "image/png": "[encoded data removed]",
      "text/plain": [
       "<Figure size 432x288 with 1 Axes>"
      ]
     },
     "metadata": {
      "needs_background": "light"
     },
     "output_type": "display_data"
    },
    {
     "data": {
      "text/plain": [
       "<Figure size 432x288 with 0 Axes>"
      ]
     },
     "metadata": {},
     "output_type": "display_data"
    }
   ],
   "source": [
    "fig1 = plt.figure(1)\n",
    "fig2 = plt.figure(2)\n",
    "plt.figure(1)\n",
    "plt.plot([0,1])\n",
    "plt.show()"
   ]
  },
  {
   "cell_type": "code",
   "execution_count": 9,
   "metadata": {},
   "outputs": [
    {
     "data": {
      "image/png": "[encoded data removed]",
      "text/plain": [
       "<Figure size 432x288 with 1 Axes>"
      ]
     },
     "metadata": {
      "needs_background": "light"
     },
     "output_type": "display_data"
    }
   ],
   "source": [
    "plt.figure(1)\n",
    "plt.plot([0,3])\n",
    "plt.show()"
   ]
  },
  {
   "cell_type": "code",
   "execution_count": null,
   "metadata": {},
   "outputs": [],
   "source": []
  },
  {
   "cell_type": "code",
   "execution_count": 10,
   "metadata": {},
   "outputs": [
    {
     "data": {
      "text/plain": [
       "<Figure size 144x144 with 0 Axes>"
      ]
     },
     "metadata": {},
     "output_type": "display_data"
    },
    {
     "data": {
      "application/vnd.jupyter.widget-view+json": {
       "model_id": "6c9e1cbfc59b4b62bcb2938159c1ccc4",
       "version_major": 2,
       "version_minor": 0
      },
      "text/plain": [
       "interactive(children=(FloatSlider(value=0.0, description='m', max=2.0, min=-2.0), FloatSlider(value=0.0, descr…"
      ]
     },
     "metadata": {},
     "output_type": "display_data"
    }
   ],
   "source": [
    "# Method 2 : \n",
    "#    1) create the figure \n",
    "#    2) loop\n",
    "#          clear figure + plot again\n",
    "# This works perfectly well with the programmatic matplotlib.pyplot interface\n",
    "# work for all as long as you only use plt.xxx commands\n",
    "# creating the axis explicitly and working with those does not go with 'inline'\n",
    "#\n",
    "# if you remove the plt.cla() differences between inline and other methods\n",
    "#    is more prominent; with inline game is over after one plot; with the\n",
    "#    others you keep on adding lines with each calls \n",
    "# BACKENDS: all\n",
    "#\n",
    "fig = plt.figure(figsize=(2,2))\n",
    "x = np.linspace(-10,10,num=1000)\n",
    "@interact( m=(-2.,2.), b=(-3,3,0.5))\n",
    "def f(m,b):\n",
    "    plt.cla()\n",
    "    plt.plot(x, m*x+b )\n",
    "    plt.ylim(-5,5)"
   ]
  },
  {
   "cell_type": "code",
   "execution_count": 11,
   "metadata": {},
   "outputs": [
    {
     "data": {
      "text/plain": [
       "<Figure size 216x216 with 0 Axes>"
      ]
     },
     "metadata": {},
     "output_type": "display_data"
    },
    {
     "data": {
      "application/vnd.jupyter.widget-view+json": {
       "model_id": "ecd6587c0a5441689460d98c4523ea8e",
       "version_major": 2,
       "version_minor": 0
      },
      "text/plain": [
       "interactive(children=(FloatSlider(value=0.0, description='m', max=2.0, min=-2.0), FloatSlider(value=0.0, descr…"
      ]
     },
     "metadata": {},
     "output_type": "display_data"
    }
   ],
   "source": [
    "# Method 3 : \n",
    "#    1) create the figure and axis\n",
    "#    2) loop: \n",
    "#           clear the figure \n",
    "#           create new axis in the current figure\n",
    "#           do the plotting with the OO API directly onto the axis\n",
    "#\n",
    "#\n",
    "ax = None\n",
    "x = np.linspace(-10,10,num=1000)\n",
    "fig = plt.figure(figsize=(3,3))\n",
    "@interact( m=(-2.,2.), b=(-3,3,0.5))\n",
    "def f(m,b):\n",
    "    plt.clf()\n",
    "    ax = plt.axes()\n",
    "    ax.plot(x, m*x+b )\n",
    "    ax.set_ylim(-5,5)\n",
    "    # plt.show()"
   ]
  },
  {
   "cell_type": "markdown",
   "metadata": {},
   "source": [
    "## Not working with the inline backend"
   ]
  },
  {
   "cell_type": "code",
   "execution_count": 12,
   "metadata": {},
   "outputs": [
    {
     "data": {
      "image/png": "[encoded data removed]",
      "text/plain": [
       "<Figure size 288x288 with 1 Axes>"
      ]
     },
     "metadata": {
      "needs_background": "light"
     },
     "output_type": "display_data"
    },
    {
     "data": {
      "application/vnd.jupyter.widget-view+json": {
       "model_id": "bcaa8b8f50a444d48744ee4ff2369b25",
       "version_major": 2,
       "version_minor": 0
      },
      "text/plain": [
       "interactive(children=(IntSlider(value=1, description='w', max=10), FloatSlider(value=1.0, description='amp', m…"
      ]
     },
     "metadata": {},
     "output_type": "display_data"
    }
   ],
   "source": [
    "# Method 3a: maintain the figure and axis and just refresh the changed data\n",
    "#    1) create a figure with axes\n",
    "#    2) loop: remove lines on the axes and plot new lines\n",
    "#         > [l.remove() for l in ax.lines]\n",
    "#         > ax.plot(x, m*x+b )\n",
    "#\n",
    "# This cannot work with the inline backend, as control over a rendered figure is lost\n",
    "# all other backends are fine with this\n",
    "# \n",
    "\n",
    "def my_sine(x, w, amp, phi):\n",
    "    \"\"\"\n",
    "    Return a sine for x with angular frequeny w and amplitude amp.\n",
    "    \"\"\"\n",
    "    return amp*np.sin(w * (x-phi))\n",
    "#\n",
    "x = np.linspace(0, 2 * np.pi, 100)\n",
    "fig, ax = plt.subplots(figsize=(4, 4))\n",
    "ax.set_ylim([-4, 4])\n",
    "ax.grid(True)\n",
    "\n",
    "@interact(w=(0, 10, 1), amp=(0, 4, .1), phi=(0, 2*np.pi+0.01, 0.01))\n",
    "def update(w = 1.0, amp=1, phi=0):\n",
    "    \"\"\"Remove old lines from plot and plot new one\"\"\"\n",
    "    [l.remove() for l in ax.lines]\n",
    "    ax.plot(x, my_sine(x, w, amp, phi), color='C0')\n",
    "    #plt.show()"
   ]
  },
  {
   "cell_type": "code",
   "execution_count": 13,
   "metadata": {
    "scrolled": false
   },
   "outputs": [
    {
     "data": {
      "image/png": "[encoded data removed]",
      "text/plain": [
       "<Figure size 288x288 with 1 Axes>"
      ]
     },
     "metadata": {
      "needs_background": "light"
     },
     "output_type": "display_data"
    },
    {
     "data": {
      "application/vnd.jupyter.widget-view+json": {
       "model_id": "772334cc50034517b24d4ca5775a101d",
       "version_major": 2,
       "version_minor": 0
      },
      "text/plain": [
       "interactive(children=(IntSlider(value=1, description='w', max=10), FloatSlider(value=1.0, description='amp', m…"
      ]
     },
     "metadata": {},
     "output_type": "display_data"
    }
   ],
   "source": [
    "# Method 3b: maintain the figure and just refresh the changed data\n",
    "#    1) create a figure  \n",
    "#    2)  just update the y_data if you may assume that the x_data hasn't changed; \n",
    "#          between calls \n",
    "#\n",
    "# BACKENDS: all, except 'inline'  \n",
    "# \n",
    "\n",
    "def my_sine(x, w, amp, phi):\n",
    "    \"\"\"\n",
    "    Return a sine for x with angular frequeny w and amplitude amp.\n",
    "    \"\"\"\n",
    "    return amp*np.sin(w * (x-phi))\n",
    "x = np.linspace(0, 2 * np.pi, 100)\n",
    "\n",
    "#\n",
    "fig, ax = plt.subplots(figsize=(4, 4))\n",
    "ax.set_ylim([-4, 4])\n",
    "ax.grid(True)\n",
    "line, = ax.plot(x, my_sine(x, 0,0,0), color='C0')\n",
    "\n",
    "@interact(w=(0, 10, 1), amp=(0, 4, .1), phi=(0, 2*np.pi+0.01, 0.01))\n",
    "def update(w = 1.0, amp=1, phi=0):\n",
    "    \"\"\"change the ydata values \"\"\"\n",
    "    line.set_ydata( my_sine(x, w, amp, phi) )\n",
    "    fig.canvas.draw()\n",
    "    # fig.canvas.flush_events()"
   ]
  },
  {
   "cell_type": "code",
   "execution_count": 14,
   "metadata": {
    "scrolled": false
   },
   "outputs": [
    {
     "data": {
      "text/plain": [
       "<Figure size 720x288 with 0 Axes>"
      ]
     },
     "metadata": {},
     "output_type": "display_data"
    },
    {
     "data": {
      "application/vnd.jupyter.widget-view+json": {
       "model_id": "a7f98773edca4027b2acad75a3c81dd4",
       "version_major": 2,
       "version_minor": 0
      },
      "text/plain": [
       "interactive(children=(Dropdown(description='Signal', options=('sin', 'square', 'sawtooth'), value='sin'), Floa…"
      ]
     },
     "metadata": {},
     "output_type": "display_data"
    }
   ],
   "source": [
    "# a simple audio signal generator\n",
    "# with control for type amplitude, phase ... \n",
    "#\n",
    "# the audio is immediately generated and rendered\n",
    "#   continuous update are used for frequency and amplitude\n",
    "#   continuous_update=False is used for the duration widget\n",
    "# !! setting continuous_update is the only 'easy' control over frequency of update with interact()\n",
    "# !! more complex asynchronous implementations are suggested on the ipywidgets doc pages\n",
    "# !! under 'debouncing' and 'throttling' .. but this complicates the code significantly\n",
    "# https://ipywidgets.readthedocs.io/en/latest/examples/Widget%20Events.html?highlight=continuous_update#Continuous-updates\n",
    "# !! these solutions are not applicable to interact(), but require .observe() instead, see later\n",
    "#\n",
    "# as the x-axis needs to be modified with the duration\n",
    "#  it is more appropriate to do full redraws at every iteration\n",
    "#\n",
    "# BACKENDS: all\n",
    "#\n",
    "samplerate=8000\n",
    "def generate(type='sin', freq=200.0, Fs=samplerate, Tmax=0.5):\n",
    "    t = np.linspace(0.0, Tmax, int(Tmax*Fs), endpoint=False)\n",
    "    if type == 'sin':\n",
    "        x = np.sin(2.0*np.pi*freq*t)\n",
    "    elif type == 'square':\n",
    "        x = signal.square(2.0*np.pi*freq*t)\n",
    "    elif type == 'sawtooth':\n",
    "        x = signal.sawtooth(2.0*np.pi*freq*t)\n",
    "    else:\n",
    "        print( 'signal: Unrecognized signal type')\n",
    "    return x, t\n",
    "\n",
    "signal_types = [ 'sin', 'square', 'sawtooth' ]\n",
    "# alternative to Dropdown is to use RadioButtons\n",
    "wg_signal = widgets.Dropdown(options=signal_types,\n",
    "                             value='sin',description=\"Signal\")\n",
    "wg_amp = widgets.FloatSlider(value=0.5,step=0.05,max=1.0,description='Amplitude')\n",
    "wg_freq = widgets.FloatSlider(value=200.0,step=5.0,min=50.0,max=500.0,description='Frequency')\n",
    "wg_Tmax = widgets.FloatSlider(value=0.4,step=0.1,min=0.1,max=2.0,description='Duration',\n",
    "                             continuous_update=False)\n",
    "#wg_check = widgets.Checkbox(description='Display Play Button',value=True)\n",
    "\n",
    "fig = plt.figure(figsize=(10,4))\n",
    "first_time = True\n",
    "\n",
    "# in this example we use interact and full replotting\n",
    "# this seems to work well with ALL backends\n",
    "@interact(t=wg_signal,f=wg_freq,A=wg_amp,T=wg_Tmax)\n",
    "def plot_fn(t,f,A,T):\n",
    "    global first_time\n",
    "    x1, t1 = generate(freq=f,type=t,Tmax=T)\n",
    "    y1=A*x1\n",
    "    plt.cla()\n",
    "    plt.plot(t1,y1)\n",
    "    plt.ylim(-1,1)\n",
    "    ipd.display(ipd.Audio(data=y1,rate=samplerate,normalize=False, autoplay=True))\n",
    "    return"
   ]
  },
  {
   "cell_type": "markdown",
   "metadata": {},
   "source": [
    "# 2. Using observe() and callbacks for more control over the interaction\n",
    "## The Output Widget, Widget Boxes, Observers, Classes, ... and fragile backends"
   ]
  },
  {
   "cell_type": "code",
   "execution_count": 15,
   "metadata": {},
   "outputs": [
    {
     "data": {
      "application/vnd.jupyter.widget-view+json": {
       "model_id": "6fe2b864cc6c45b885888285912894ab",
       "version_major": 2,
       "version_minor": 0
      },
      "text/plain": [
       "HBox(children=(VBox(children=(IntSlider(value=1, description='freq', max=10), ColorPicker(value='#FF0000', des…"
      ]
     },
     "metadata": {},
     "output_type": "display_data"
    },
    {
     "data": {
      "image/png": "[encoded data removed]",
      "text/plain": [
       "<Figure size 288x288 with 1 Axes>"
      ]
     },
     "metadata": {
      "needs_background": "light"
     },
     "output_type": "display_data"
    }
   ],
   "source": [
    "# create some x data and plot it in the output widget\n",
    "# give control over data, axis, .. via control widgets using callbacks\n",
    "#\n",
    "x = np.linspace(0, 2 * np.pi, 100)\n",
    "output = widgets.Output() \n",
    "with output:\n",
    "    fig, ax = plt.subplots(constrained_layout=True, figsize=(4, 4))\n",
    "# move the toolbar to the bottom\n",
    "fig.canvas.toolbar_position = 'bottom'\n",
    "ax.grid(True)    \n",
    "line, = ax.plot(x, np.sin(x), '#FF0000')\n",
    "\n",
    "# create some control elements\n",
    "int_slider = widgets.IntSlider(value=1, min=0, max=10, step=1, description='freq')\n",
    "color_picker = widgets.ColorPicker(value='#FF0000', description='pick a color')\n",
    "text_xlabel = widgets.Text(value='', description='xlabel', continuous_update=False)\n",
    "text_ylabel = widgets.Text(value='', description='ylabel', continuous_update=False)\n",
    " \n",
    "# callback functions\n",
    "def update(change):\n",
    "    \"\"\"redraw line (update plot)\"\"\"\n",
    "    line.set_ydata(np.sin(change.new * x))\n",
    "    fig.canvas.draw()\n",
    "     \n",
    "def line_color(change):\n",
    "    \"\"\"set line color\"\"\"\n",
    "    line.set_color(change.new)\n",
    "     \n",
    "def update_xlabel(change):\n",
    "    ax.set_xlabel(change.new)\n",
    "     \n",
    "def update_ylabel(change):\n",
    "    ax.set_ylabel(change.new)\n",
    " \n",
    "# connect callbacks and traits\n",
    "int_slider.observe(update, 'value')\n",
    "color_picker.observe(line_color, 'value')\n",
    "text_xlabel.observe(update_xlabel, 'value')\n",
    "text_ylabel.observe(update_ylabel, 'value')\n",
    " \n",
    "text_xlabel.value = 'x'\n",
    "text_ylabel.value = 'y'\n",
    "controls = widgets.VBox([int_slider, color_picker, text_xlabel, text_ylabel])\n",
    "widgets.HBox([controls, output])"
   ]
  },
  {
   "cell_type": "markdown",
   "metadata": {},
   "source": [
    "## Packing components in a class\n",
    "\n",
    "This is a copy from the Kapernikov tutorial\n",
    "\n",
    "To create more high level components, we can also subclass a container and build up our gui from within. Containers have a `children` property to which we can assign a list of widgets that should be displayed. Although, we can assign a list, this is turned into a tuple and cannot be modified afterwards.\n",
    "To remove or add a widget at runtime, the children tuple can be turned back into a list, followed by an insert or deletion and finalised by reassigning to the children property. Since it can be easy to make mistakes when going by index, I tend to add a placeholder box in which I only place the 'dynamic' widget.\n",
    "\n",
    "The example below, packs the entire oscilliscope 'dashboard' in a single component by subclassing `VBox`. All the required widgets are defined in the Sines class and added as its `children`. The callbacks are defined as instance methods. It may not be a masterpiece in object oriented programming, but hopefully it shows the idea of constructing larger reusable components. Note that, we need to call `super().__init__()` from `__init__` to properly initialise the parent class. "
   ]
  },
  {
   "cell_type": "code",
   "execution_count": 16,
   "metadata": {},
   "outputs": [
    {
     "data": {
      "application/vnd.jupyter.widget-view+json": {
       "model_id": "51d7dbeb8abb470ea01ae3edf4242bf0",
       "version_major": 2,
       "version_minor": 0
      },
      "text/plain": [
       "Sines(children=(VBox(children=(IntSlider(value=1, description='freq', max=10), ColorPicker(value='#FF00DD', de…"
      ]
     },
     "metadata": {},
     "output_type": "display_data"
    },
    {
     "data": {
      "image/png": "[encoded data removed]",
      "text/plain": [
       "<Figure size 360x252 with 1 Axes>"
      ]
     },
     "metadata": {
      "needs_background": "light"
     },
     "output_type": "display_data"
    }
   ],
   "source": [
    "def make_box_layout():\n",
    "     return widgets.Layout(\n",
    "        border='solid 1px black',\n",
    "        margin='0px 10px 10px 0px',\n",
    "        padding='5px 5px 5px 5px'\n",
    "     )\n",
    "\n",
    "class Sines(widgets.HBox):\n",
    "    \n",
    "    def __init__(self):\n",
    "        super().__init__()\n",
    "        output = widgets.Output()\n",
    "\n",
    "        self.x = np.linspace(0, 2 * np.pi, 100)\n",
    "        initial_color = '#FF00DD'\n",
    "\n",
    "        with output:\n",
    "            self.fig, self.ax = plt.subplots(constrained_layout=True, figsize=(5, 3.5))\n",
    "        self.line, = self.ax.plot(self.x, np.sin(self.x), initial_color)\n",
    "        \n",
    "        self.fig.canvas.toolbar_position = 'bottom'\n",
    "        self.ax.grid(True)\n",
    "\n",
    "        # define widgets\n",
    "        int_slider = widgets.IntSlider(\n",
    "            value=1, \n",
    "            min=0, \n",
    "            max=10, \n",
    "            step=1, \n",
    "            description='freq'\n",
    "        )\n",
    "        color_picker = widgets.ColorPicker(\n",
    "            value=initial_color, \n",
    "            description='pick a color'\n",
    "        )\n",
    "        text_xlabel = widgets.Text(\n",
    "            value='', \n",
    "            description='xlabel', \n",
    "            continuous_update=False\n",
    "        )\n",
    "        text_ylabel = widgets.Text(\n",
    "            value='', \n",
    "            description='ylabel', \n",
    "            continuous_update=False\n",
    "        )\n",
    "\n",
    "        controls = widgets.VBox([\n",
    "            int_slider, \n",
    "            color_picker, \n",
    "            text_xlabel, \n",
    "            text_ylabel\n",
    "        ])\n",
    "        controls.layout = make_box_layout()\n",
    "        \n",
    "        out_box = widgets.Box([output])\n",
    "        output.layout = make_box_layout()\n",
    "\n",
    "        # observe stuff\n",
    "        int_slider.observe(self.update, 'value')\n",
    "        color_picker.observe(self.line_color, 'value')\n",
    "        text_xlabel.observe(self.update_xlabel, 'value')\n",
    "        text_ylabel.observe(self.update_ylabel, 'value')\n",
    "        \n",
    "        text_xlabel.value = 'x'\n",
    "        text_ylabel.value = 'y'\n",
    "        \n",
    "\n",
    "        # add to children\n",
    "        self.children = [controls, output]\n",
    "    \n",
    "    def update(self, change):\n",
    "        \"\"\"Draw line in plot\"\"\"\n",
    "        self.line.set_ydata(np.sin(change.new * self.x))\n",
    "        self.fig.canvas.draw()\n",
    "\n",
    "    def line_color(self, change):\n",
    "        self.line.set_color(change.new)\n",
    "\n",
    "    def update_xlabel(self, change):\n",
    "        self.ax.set_xlabel(change.new)\n",
    "\n",
    "    def update_ylabel(self, change):\n",
    "        self.ax.set_ylabel(change.new)\n",
    "        \n",
    "        \n",
    "Sines()"
   ]
  },
  {
   "cell_type": "code",
   "execution_count": null,
   "metadata": {},
   "outputs": [],
   "source": []
  }
 ],
 "metadata": {
  "kernelspec": {
   "display_name": "Python 3",
   "language": "python",
   "name": "python3"
  },
  "language_info": {
   "codemirror_mode": {
    "name": "ipython",
    "version": 3
   },
   "file_extension": ".py",
   "mimetype": "text/x-python",
   "name": "python",
   "nbconvert_exporter": "python",
   "pygments_lexer": "ipython3",
   "version": "3.8.3"
  }
 },
 "nbformat": 4,
 "nbformat_minor": 4
}
