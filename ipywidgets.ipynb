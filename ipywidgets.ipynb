{
 "cells": [
  {
   "cell_type": "markdown",
   "metadata": {
    "id": "hj-IhicZejm6",
    "tags": [
     "nbconvert-hide"
    ]
   },
   "source": [
    "### Examples of using **ipywidgets**\n",
    "\n",
    "Author: Dirk Van Compernolle   \n",
    "Created: 24/11/2020   \n",
    "Modifications:\n",
    "> 17/03/2021: added more complex examples with multiple buttons and output widgets\n",
    "\n",
    "Dependencies:   \n",
    "> - ipywidgets\n",
    "> - Ipython.display\n"
   ]
  },
  {
   "cell_type": "code",
   "execution_count": 17,
   "metadata": {
    "id": "MK8FlvOdejm7"
   },
   "outputs": [],
   "source": [
    "# [![Binder](http://mybinder.org/badge_logo.svg)](http://mybinder.org/v2/gh/binder-examples/conda_environment/master?filepath=index.ipynb)"
   ]
  },
  {
   "cell_type": "markdown",
   "metadata": {
    "id": "7h9hxDMxejm7"
   },
   "source": [
    "### Elementary Widgets"
   ]
  },
  {
   "cell_type": "markdown",
   "metadata": {
    "id": "HY6rnOXNejm7"
   },
   "source": [
    "#### Slider Widget"
   ]
  },
  {
   "cell_type": "code",
   "execution_count": 3,
   "metadata": {
    "id": "SNJA_FXfejm8"
   },
   "outputs": [],
   "source": [
    "import ipywidgets as widgets\n",
    "from ipywidgets import interact, interact_manual, interactive\n",
    "import IPython.display as ipd\n",
    "import numpy as np"
   ]
  },
  {
   "cell_type": "code",
   "execution_count": 4,
   "metadata": {
    "colab": {
     "base_uri": "https://localhost:8080/",
     "height": 49,
     "referenced_widgets": [
      "155612e6867046bc85c938d9803fff43",
      "30bb44a458604d748e4195b8bc7ce483",
      "aefa2f9623c349d7a64b4b1bbf5e3db7"
     ]
    },
    "id": "Xp9NwVCJejm8",
    "outputId": "33340419-c8e3-4994-c314-245442ae044c"
   },
   "outputs": [
    {
     "data": {
      "application/vnd.jupyter.widget-view+json": {
       "model_id": "0327053838384883b53e096314731a6c",
       "version_major": 2,
       "version_minor": 0
      },
      "text/plain": [
       "IntSlider(value=0, max=20)"
      ]
     },
     "metadata": {},
     "output_type": "display_data"
    }
   ],
   "source": [
    "# widget1: integer slider\n",
    "slider1 = widgets.IntSlider(max=20)\n",
    "ipd.display(slider1)\n",
    "def my_func(x):\n",
    "    print(2*x)"
   ]
  },
  {
   "cell_type": "code",
   "execution_count": 5,
   "metadata": {
    "id": "Z5yN0h0nejm8",
    "scrolled": true
   },
   "outputs": [],
   "source": [
    "# The code below works as expected in Jupyter Notebook,\n",
    "#    but not in Jupyter lab !, rendering in voila, ...\n",
    "# button1 = widgets.Button(description=\"B1\")\n",
    "#\n",
    "# def printMe(b):\n",
    "#        print(\"Printing something\")\n",
    "# button1.on_click(printMe)\n",
    "# button1"
   ]
  },
  {
   "cell_type": "markdown",
   "metadata": {
    "id": "P9EbPZDmejm8"
   },
   "source": [
    "#### A button  ... that prints"
   ]
  },
  {
   "cell_type": "code",
   "execution_count": 6,
   "metadata": {
    "colab": {
     "base_uri": "https://localhost:8080/",
     "height": 100,
     "referenced_widgets": [
      "d0b3423b4a1f4c7ca31bd87d1036829a",
      "a87349bcad814ed28b10b24130ead183",
      "d9572ecd0d754d70ae0156c984490c7e",
      "472c388a3d2d43508dc461f49701fc12",
      "76f79b449d7b466a9ef17eed936ea567"
     ]
    },
    "id": "vPVcEkB9ejm8",
    "outputId": "71f94fd0-d0a0-408b-b1a0-f5bfeaedd9bc"
   },
   "outputs": [
    {
     "data": {
      "application/vnd.jupyter.widget-view+json": {
       "model_id": "988c4f6038f044c9bef816145f1bf130",
       "version_major": 2,
       "version_minor": 0
      },
      "text/plain": [
       "Button(description='Click me to Print', style=ButtonStyle())"
      ]
     },
     "metadata": {},
     "output_type": "display_data"
    },
    {
     "data": {
      "application/vnd.jupyter.widget-view+json": {
       "model_id": "aee7dcabac424449bd59501e28118fd5",
       "version_major": 2,
       "version_minor": 0
      },
      "text/plain": [
       "Output()"
      ]
     },
     "metadata": {},
     "output_type": "display_data"
    }
   ],
   "source": [
    "# simple button, but sending the output via output widget\n",
    "button1b = widgets.Button(description=\"Click me to Print\")\n",
    "output1 = widgets.Output()\n",
    "ipd.display(button1b,output1)\n",
    "def printMe(b):\n",
    "    with output1:\n",
    "        print(\"Printed something\")\n",
    "button1b.on_click(printMe)\n",
    "#button1b"
   ]
  },
  {
   "cell_type": "markdown",
   "metadata": {
    "id": "O8LFqyf5ejm8"
   },
   "source": [
    "#### A textbox  ... get's printed n times "
   ]
  },
  {
   "cell_type": "code",
   "execution_count": 7,
   "metadata": {
    "colab": {
     "base_uri": "https://localhost:8080/",
     "height": 98,
     "referenced_widgets": [
      "db8006cf5226452daa21edf8f3d04f84",
      "31260667c795444fa96dbe95e0d2c069",
      "1a9a6646cce242cdabe71bcf56274b00",
      "74abf01124ec41d2b56586f037709a0c",
      "45799597698c4b8db903cbb5495c90af",
      "48167e8424504c13a1271b5be11fc593",
      "e6af78aa0d3e4385bf818ae2a3fef2d2",
      "623eb966992841b49ae3a84a590efc68",
      "e465cdada7ca48a4a069d68c42cc2e64",
      "6a24b837e37647f9969b592d5d886a1b"
     ]
    },
    "id": "3npcmmlxejm8",
    "outputId": "b6ecd29b-cb6c-45f0-db8b-b7e991e08802"
   },
   "outputs": [
    {
     "data": {
      "application/vnd.jupyter.widget-view+json": {
       "model_id": "48191edfac62456e95d9704a8bf0c887",
       "version_major": 2,
       "version_minor": 0
      },
      "text/plain": [
       "interactive(children=(Text(value='', description='text'), IntSlider(value=2, description='times', max=5), Outp…"
      ]
     },
     "metadata": {},
     "output_type": "display_data"
    }
   ],
   "source": [
    "# widget 3: printing text\n",
    "@interact( text='', times=(0,5) )\n",
    "def printIt(text,times):\n",
    "    print( text * times )"
   ]
  },
  {
   "cell_type": "markdown",
   "metadata": {
    "id": "WJJtv0Myejm8"
   },
   "source": [
    "#### A progress bar ...  counts your clicks"
   ]
  },
  {
   "cell_type": "code",
   "execution_count": 8,
   "metadata": {
    "colab": {
     "base_uri": "https://localhost:8080/",
     "height": 49,
     "referenced_widgets": [
      "b47f0451fbde46a4b68778716d6f3632",
      "92a418a75aad4905861c577d2800c63e",
      "6f91a56321a3436480cadc543defc470",
      "83d97e312afe450db26c75bddf86cf96",
      "2baa82f107a548db9c5b6f7cd770164b",
      "8032e4b71f884ec6b49214090a00149e",
      "34e1b12277d844d3aaa49febd80a2092",
      "2f52806860fb4ca4b73fa16721ba4ef8"
     ]
    },
    "id": "Tm3NDee_ejm8",
    "outputId": "7df69872-52f5-4273-e244-3618fb49a3cc"
   },
   "outputs": [
    {
     "data": {
      "application/vnd.jupyter.widget-view+json": {
       "model_id": "ee0d7afb406d481389d2b97799afadf8",
       "version_major": 2,
       "version_minor": 0
      },
      "text/plain": [
       "HBox(children=(Button(description='add one ... ', style=ButtonStyle()), IntProgress(value=0, bar_style='succes…"
      ]
     },
     "metadata": {},
     "output_type": "display_data"
    }
   ],
   "source": [
    "progress_bar = widgets.IntProgress(\n",
    "    value=0,\n",
    "    min=0, max=10,step=1,\n",
    "    description='Counting',\n",
    "    bar_style='success',\n",
    "    orientation='horizontal'\n",
    "    )\n",
    "btn_add = widgets.Button( description= 'add one ... ' )\n",
    "\n",
    "def AddOne(b):\n",
    "    progress_bar.value += 1\n",
    "    if progress_bar.value == 10:\n",
    "        progress_bar.bar_style=''\n",
    "    elif progress_bar.value % 2 != 0:\n",
    "        progress_bar.bar_style='danger'\n",
    "    else:\n",
    "        progress_bar.bar_style='success'\n",
    "btn_add.on_click(AddOne)\n",
    "\n",
    "widgets.HBox([btn_add, progress_bar])"
   ]
  },
  {
   "cell_type": "markdown",
   "metadata": {
    "id": "dWLN6y7Xejm8"
   },
   "source": [
    "#### A dropdown menu ... doesn't do anything here"
   ]
  },
  {
   "cell_type": "code",
   "execution_count": 9,
   "metadata": {
    "id": "XdVGansNejm8"
   },
   "outputs": [
    {
     "data": {
      "application/vnd.jupyter.widget-view+json": {
       "model_id": "2ff4a50f9ad54d6382bf78cf5702d169",
       "version_major": 2,
       "version_minor": 0
      },
      "text/plain": [
       "Dropdown(description='ACTION', options=('PLAY', 'REC'), value='PLAY')"
      ]
     },
     "metadata": {},
     "output_type": "display_data"
    }
   ],
   "source": [
    "rec_play = widgets.Dropdown(\n",
    "    options={'REC','PLAY'},\n",
    "    description='ACTION',\n",
    ")\n",
    "rec_play"
   ]
  },
  {
   "cell_type": "markdown",
   "metadata": {
    "id": "J2Tpq4Ikejm8"
   },
   "source": [
    "#### Linking widgets together with the Play widget\n",
    "\n",
    "notes: Play widget not working in Colab"
   ]
  },
  {
   "cell_type": "code",
   "execution_count": 10,
   "metadata": {
    "colab": {
     "base_uri": "https://localhost:8080/",
     "height": 49,
     "referenced_widgets": [
      "79ef1b504e824f5f86a54b351ad488c5",
      "60f6394bf1a94adc8dc2b87492166533",
      "d370e2a480e645b092288917f8003663",
      "29eda9cf84624d0880cb3ffc45bb575c",
      "cb707a4247be496ab967b06a3849a5c7",
      "39bdf981ddbe44c59f8c524fe2f8c49b",
      "c500ad9a54714fd88851a3710867b6f1",
      "7bd50b880f31460ab921234f5e17e60e"
     ]
    },
    "id": "YrsPd3fVejm8",
    "outputId": "15d9a339-5fc4-491a-e0c8-bd228e99164e"
   },
   "outputs": [
    {
     "data": {
      "application/vnd.jupyter.widget-view+json": {
       "model_id": "b18cb36221f74ff7abd424296140985f",
       "version_major": 2,
       "version_minor": 0
      },
      "text/plain": [
       "HBox(children=(Play(value=50, description='Press play', interval=1000), IntSlider(value=0)))"
      ]
     },
     "metadata": {},
     "output_type": "display_data"
    }
   ],
   "source": [
    "# widget2: animation by Play\n",
    "play2 = widgets.Play(\n",
    "    interval=1000, # interval in msec between animation frame\n",
    "    value=50,\n",
    "    min=0,\n",
    "    max=100,\n",
    "    step=1,\n",
    "    description=\"Press play\",\n",
    "    disabled=False\n",
    ")\n",
    "slider2 = widgets.IntSlider()\n",
    "widgets.jslink((play2, 'value'), (slider2, 'value'))\n",
    "widgets.HBox([play2, slider2])"
   ]
  },
  {
   "cell_type": "markdown",
   "metadata": {
    "id": "n1To02sVejm9"
   },
   "source": [
    "___\n",
    "### Laying out an app Using Boxes and Output Widgets \n",
    "- The outputs are displayed in controlled output widgets and can be cleared as wished\n",
    "- Buttons and multiple outputs are neatly organized with Box, VBox and HBox\n",
    "- Similar components(eg. buttons) are created using functools.partial() method\n",
    "___"
   ]
  },
  {
   "cell_type": "code",
   "execution_count": 21,
   "metadata": {
    "colab": {
     "base_uri": "https://localhost:8080/",
     "height": 135,
     "referenced_widgets": [
      "2c499e1e31fd4dc9a8809b93503ebe22",
      "00ac0d5ceba742ddac42415b9cf09bff",
      "1a1cb4cc3afd46499c8019ce6f1d7b55",
      "2c8022f6c6364ce9a36eb18f3dabb10e",
      "0b7c622d627b498b9068e09b659e8d14",
      "219b073fd1724a94b870b173fdf78a21",
      "6b9be375e79146589d0e660ce8a6480a",
      "761e099974b74fa6bd5fed802ef44e47",
      "562420d44c3c42d4b1d098b552cd7bd3",
      "cba54b292e1c4c49ba6f4067612ea72c",
      "aeed00a5ed6a4f1097979907082a6296",
      "a10aec2a2ff04e94994f040f78071e49",
      "f69a9668bfa24d21be1bfbc9ee814914",
      "b6da4b5d41c64c9786cc601751316c50",
      "5688c362d5b448c0bd161ed9a8ab85e4",
      "54f0d04a2b104a4c8970d2afb0796870",
      "5f679983f36642cc97682ffdc85b1f07",
      "c61ce355510440abb901928a2bfe33e7",
      "d152e1cd230444ac8554a2e0c02e5d16",
      "48b40161076446aea4c27428b23dfb8e",
      "c0e0d01eda584c9183389a96c50d88e8",
      "262d7f0f510b4543aefae6456bfc84ae",
      "8c4176317a11434ebc506af3af7f0706"
     ]
    },
    "id": "YUp53olTejm9",
    "outputId": "2eca7e31-ad65-4373-f743-e23467de9b6f"
   },
   "outputs": [
    {
     "data": {
      "application/vnd.jupyter.widget-view+json": {
       "model_id": "d55be42d14ee47a6b182dacc326d847b",
       "version_major": 2,
       "version_minor": 0
      },
      "text/plain": [
       "HBox(children=(VBox(children=(Label(value='Controls'), Button(description='button 1', style=ButtonStyle()), Bu…"
      ]
     },
     "metadata": {},
     "output_type": "display_data"
    }
   ],
   "source": [
    "# compose your app of a few controls and an output widget\n",
    "# beautify by putting them all in boxes\n",
    "def make_box_layout():\n",
    "     return widgets.Layout(\n",
    "        border='solid 1px black',\n",
    "        margin='0px 10px 10px 0px',\n",
    "        padding='5px 5px 5px 5px'\n",
    "     )\n",
    "\n",
    "b1 = widgets.Button(description='button 1')\n",
    "b2 = widgets.Button(description='button 2')\n",
    "b3 = widgets.Button(description='CLEAR')\n",
    "b3.style.button_color = 'red'\n",
    "output = widgets.Output()\n",
    "\n",
    "def make_boxes():\n",
    "    vbox1 = widgets.VBox([widgets.Label('Controls'), b1, b2])\n",
    "    vbox2 = widgets.VBox([widgets.Label('CTRL-CLEAR'), b3 ])\n",
    "    return vbox1, vbox2\n",
    " \n",
    "vbox1, vbox2 = make_boxes()\n",
    "vbox1.layout = make_box_layout()\n",
    "vbox2.layout = make_box_layout()\n",
    "output1.layout = make_box_layout()\n",
    "output1.layout.width='200px'\n",
    "\n",
    "def b1_clicked(b):\n",
    "    with output:\n",
    "        print(\"Button 1 clicked.\")\n",
    "b1.on_click(b1_clicked)\n",
    "def b2_clicked(b):\n",
    "    with output:\n",
    "        print(\"Button 2 clicked.\")\n",
    "b2.on_click(b2_clicked)\n",
    "def b3_clicked(b):\n",
    "    with output:\n",
    "        ipd.clear_output()\n",
    "b3.on_click(b3_clicked) \n",
    "\n",
    "myapp = widgets.HBox([vbox1, vbox2,output])\n",
    "myapp"
   ]
  },
  {
   "cell_type": "code",
   "execution_count": 27,
   "metadata": {},
   "outputs": [
    {
     "data": {
      "application/vnd.jupyter.widget-view+json": {
       "model_id": "bf0a0415e68e4173830e56a3882596ea",
       "version_major": 2,
       "version_minor": 0
      },
      "text/plain": [
       "HBox(children=(VBox(children=(Button(description='CLEAR', layout=Layout(border='solid 1px black', height='40px…"
      ]
     },
     "metadata": {},
     "output_type": "display_data"
    }
   ],
   "source": [
    "# now a similar app, with many buttons that have a similar behavior\n",
    "# functools.partial() comes in handy to create all the similar callback routines\n",
    "import functools\n",
    "\n",
    "n_buttons = 5\n",
    "buttons = []\n",
    "box_layout = widgets.Layout(\n",
    "        width='250px',\n",
    "        border='solid 1px black',\n",
    "        margin='0px 10px 10px 0px',\n",
    "        padding='5px 5px 5px 5px'\n",
    "     )\n",
    "button_layout = widgets.Layout(\n",
    "        width = '150px',\n",
    "        height = '40px',\n",
    "        border='solid 1px black',\n",
    "        margin='0px 10px 10px 0px',\n",
    "        padding='5px 5px 5px 5px'\n",
    "     )\n",
    "\n",
    "output1 = widgets.Output(layout=box_layout)\n",
    "output2 = widgets.Output(layout=box_layout)\n",
    "with output1:\n",
    "    print(\"INFO:\")\n",
    "    print(\"All buttons do the same operation. However, they use the button number as a parameter\")\n",
    "    \n",
    "def on_button_clicked(i,b):\n",
    "    with output2:\n",
    "        print(\"%d**2 = %d \" % (i,i*i) )\n",
    "        \n",
    "for i in range(n_buttons):\n",
    "    if i==0:\n",
    "        button = widgets.Button(description='CLEAR',layout=button_layout)\n",
    "        button.style.button_color = 'green'\n",
    "        def clear_click(b):\n",
    "            with output2:\n",
    "                ipd.clear_output()                \n",
    "        button.on_click(clear_click)\n",
    "    else:\n",
    "        button = widgets.Button(description='button '+str(i),layout=button_layout)\n",
    "        button.on_click(functools.partial(on_button_clicked,i))        \n",
    "    buttons.append(button)\n",
    "    \n",
    "button_box = widgets.VBox(buttons,layout=box_layout)\n",
    "output_box = widgets.VBox([output1,output2])\n",
    "myapp = widgets.HBox([button_box,output_box])\n",
    "myapp"
   ]
  },
  {
   "cell_type": "markdown",
   "metadata": {
    "id": "Xo6uIP51ejm9"
   },
   "source": [
    "---\n",
    "### GAME:  Beat the Bot (guessing game)\n",
    "The bot learns from your previous clicking behavior   \n",
    "Just try to beat him   \n",
    "Have you found the optimum strategy\n",
    "\n",
    "-----"
   ]
  },
  {
   "cell_type": "code",
   "execution_count": 13,
   "metadata": {
    "id": "DK-gRPWwejm9"
   },
   "outputs": [],
   "source": [
    "# some globals as needed\n",
    "global user_history\n",
    "user_history = [1,0]\n",
    "target_score = 5\n",
    "\n",
    "#buttons\n",
    "btn0 = widgets.Button( description= '0' )\n",
    "btn1 = widgets.Button( description= '1' )\n",
    "btnS = widgets.Button( description= 'START' )\n",
    "\n",
    "def click_zero(b):\n",
    "    update_game(0)\n",
    "btn0.on_click( click_zero )\n",
    "def click_one(b):\n",
    "    update_game(1)\n",
    "btn1.on_click( click_one )\n",
    "def click_start(b):\n",
    "    update_game(0,start=True)\n",
    "btnS.on_click( click_start )\n",
    "btn0.disabled = True\n",
    "btn1.disabled = True\n",
    "btn0.button_style ='info'\n",
    "btn1.button_style ='info'\n",
    "btnS.button_style ='warning'\n",
    "# score board\n",
    "user_score = widgets.IntProgress(\n",
    "    value=0,\n",
    "    min=0, max=target_score,step=1,\n",
    "    description='You',\n",
    "    bar_style='success',\n",
    "    orientation='horizontal'\n",
    "    )\n",
    "bot_score = widgets.IntProgress(\n",
    "    value=0,\n",
    "    min=0, max=target_score,step=1,\n",
    "    description='Bot',\n",
    "    bar_style='danger',\n",
    "    orientation='horizontal'\n",
    "    )\n",
    "scoreboard= widgets.VBox((user_score,bot_score))\n",
    "final_msg = widgets.HTML(\"<h1 style='color:green'> You win </h1>\")\n",
    "final_msg.layout.visibility = \"hidden\"\n",
    "# layout\n",
    "game = widgets.VBox( ( widgets.HBox((scoreboard,final_msg)),\n",
    "                   widgets.HBox((btn0,btn1,btnS))\n",
    "             ))"
   ]
  },
  {
   "cell_type": "code",
   "execution_count": 14,
   "metadata": {
    "id": "zqfM87Y_ejm9"
   },
   "outputs": [],
   "source": [
    "#\n",
    "# game rules\n",
    "#\n",
    "# note only user_history had to be defined as a global\n",
    "# all widgets behave by nature as such\n",
    "\n",
    "def update_game(user_choice,start=False):\n",
    "    global user_history\n",
    "\n",
    "    if( start ):\n",
    "        user_history = [1,0]\n",
    "        final_msg.value = \"<h1 style='color:green'> You win </h1>\"\n",
    "        final_msg.layout.visibility = \"hidden\"\n",
    "        user_score.value = 0\n",
    "        bot_score.value = 0\n",
    "        btn0.disabled = False\n",
    "        btn1.disabled = False\n",
    "        btnS.disabled = True\n",
    "        btnS.button_style = ''\n",
    "        return\n",
    "    prob = sum(user_history)/len(user_history)\n",
    "    comp_choice = np.random.binomial(1,prob,1)[0]\n",
    "    user_history.append( user_choice )\n",
    "    # print(\"sequence length: \",len(user_history)-2)\n",
    "    if comp_choice == user_choice:\n",
    "        bot_score.value += 1\n",
    "    else:\n",
    "        user_score.value += 1\n",
    "    if user_score.value == target_score or bot_score.value == target_score:\n",
    "        if bot_score.value == target_score:\n",
    "            final_msg.value = \"<h1 style='color:red'>Game Over</h1>\"\n",
    "        final_msg.layout.visibility = \"visible\"\n",
    "        btn0.disabled = True\n",
    "        btn1.disabled = True\n",
    "        btnS.disabled = False\n",
    "        btnS.button_style = 'warning'\n",
    "    return"
   ]
  },
  {
   "cell_type": "code",
   "execution_count": 15,
   "metadata": {
    "colab": {
     "base_uri": "https://localhost:8080/",
     "height": 113,
     "referenced_widgets": [
      "4bade98c6a004d8d90896d6b07764bf6",
      "f04e402967c24788b4eefefbf6562426",
      "66c1a1a42da74bdd9661add5f8040090",
      "6db6482df6794363b4d44778a0eb0e77",
      "4cb146afff314a5f9688f0486ec565f6",
      "0203dd5c6e324d13a5ff2fd32b61bc7d",
      "29125c85ae5a40f5a18ca2dc8448ff3a",
      "50dbeea66dde47b2995620e316a9175e",
      "146c121b4e2e41bd823fa2b412c0ad86",
      "f6f0770626464fc2898bd1c58a0489c3",
      "bd7b71b814794411b3d7e7a383fc7001",
      "7264a2235c0b4350be0f390ea5709716",
      "038dbe2dfe174234b0130b72d6ea6ec9",
      "3bfb42b5ed2947ceb1ab7f97914be19f",
      "60c75d60888643fa89f181f7160a99ce",
      "310470ceea60423881ce4f916b7538b7",
      "8a085ced51a045b8907bba6debaefc60",
      "f3f9c0c6e6ee4e4c9fd95bd7fa6912c9",
      "099d85121dcc42d59afaf86c0d5b597d",
      "5bde7751fb5a4ee59af029de06b7e7db",
      "ba54766ec3924ae4881ee33a98175702",
      "795d1067168243f48d1dbf900e27d001",
      "f4c5c8e166da4d7d81a2f5032825337e",
      "4e5288767b5142a2a11c30dba2e9cf3b",
      "099552528f9f4643a31a6021c948b6f4",
      "aaccae6204104d43af5fb4e021107d77"
     ]
    },
    "id": "mnUIXEfEejm9",
    "outputId": "d04d4f51-d0fc-44d6-e390-3cd51d0c5ccc"
   },
   "outputs": [
    {
     "data": {
      "application/vnd.jupyter.widget-view+json": {
       "model_id": "eaa9c41b40eb43ecbdcdad8a455f2659",
       "version_major": 2,
       "version_minor": 0
      },
      "text/plain": [
       "VBox(children=(HBox(children=(VBox(children=(IntProgress(value=0, bar_style='success', description='You', max=…"
      ]
     },
     "metadata": {},
     "output_type": "display_data"
    }
   ],
   "source": [
    "game"
   ]
  },
  {
   "cell_type": "code",
   "execution_count": null,
   "metadata": {
    "id": "WaFXiqAcejm_"
   },
   "outputs": [],
   "source": []
  }
 ],
 "metadata": {
  "colab": {
   "name": "ipywidgets.ipynb",
   "provenance": []
  },
  "kernelspec": {
   "display_name": "Python 3",
   "language": "python",
   "name": "python3"
  },
  "language_info": {
   "codemirror_mode": {
    "name": "ipython",
    "version": 3
   },
   "file_extension": ".py",
   "mimetype": "text/x-python",
   "name": "python",
   "nbconvert_exporter": "python",
   "pygments_lexer": "ipython3",
   "version": "3.8.3"
  },
  "widgets": {
   "application/vnd.jupyter.widget-state+json": {
    "state": {
     "002880d3f7a94bd7b5663c97d634a4a6": {
      "model_module": "@jupyter-widgets/controls",
      "model_module_version": "1.5.0",
      "model_name": "ButtonModel",
      "state": {
       "description": "button 4",
       "layout": "IPY_MODEL_cb40e2fd237b42c8b710c0b1f65003df",
       "style": "IPY_MODEL_3448a2d18611454ab7f4e8002c290184"
      }
     },
     "00377db6967a4ecca830d8049ef038fb": {
      "model_module": "@jupyter-widgets/controls",
      "model_module_version": "1.5.0",
      "model_name": "ButtonStyleModel",
      "state": {}
     },
     "00e90c3f9ed3412aacf9be5bbc90a6c4": {
      "model_module": "@jupyter-widgets/base",
      "model_module_version": "1.2.0",
      "model_name": "LayoutModel",
      "state": {}
     },
     "01ad5f86032548d6a5760ea67643bbcb": {
      "model_module": "@jupyter-widgets/controls",
      "model_module_version": "1.5.0",
      "model_name": "TextModel",
      "state": {
       "description": "text",
       "layout": "IPY_MODEL_c2c163113e4d40c79efda589a7eaae44",
       "style": "IPY_MODEL_f5f16243eaa644b7a145ea7445d6fbce",
       "value": "asdf"
      }
     },
     "02b23f639d8e42a298397373088119cb": {
      "model_module": "@jupyter-widgets/base",
      "model_module_version": "1.2.0",
      "model_name": "LayoutModel",
      "state": {
       "border": "solid 1px black",
       "height": "40px",
       "margin": "0px 10px 10px 0px",
       "padding": "5px 5px 5px 5px",
       "width": "150px"
      }
     },
     "02ba3623bdac4e28a764cf79f60f43b5": {
      "model_module": "@jupyter-widgets/controls",
      "model_module_version": "1.5.0",
      "model_name": "LabelModel",
      "state": {
       "layout": "IPY_MODEL_0342a231f5474e6abb6c0c9ca5fd8e4f",
       "style": "IPY_MODEL_12a794e7f7f04337a41532b496a5aed0",
       "value": "CTRL-CLEAR"
      }
     },
     "0304dc8a442e46deaf56e5824b33fcb9": {
      "model_module": "@jupyter-widgets/output",
      "model_module_version": "1.0.0",
      "model_name": "OutputModel",
      "state": {
       "layout": "IPY_MODEL_3262178caf91431cb73b1e9e246095de",
       "outputs": [
        {
         "name": "stdout",
         "output_type": "stream",
         "text": "just some introductory info here\n"
        }
       ]
      }
     },
     "0327053838384883b53e096314731a6c": {
      "model_module": "@jupyter-widgets/controls",
      "model_module_version": "1.5.0",
      "model_name": "IntSliderModel",
      "state": {
       "layout": "IPY_MODEL_560a3cdeddb64e72867742867b80ccb9",
       "max": 20,
       "style": "IPY_MODEL_1aa375ddf73b4b35a8312582521e78aa"
      }
     },
     "0342a231f5474e6abb6c0c9ca5fd8e4f": {
      "model_module": "@jupyter-widgets/base",
      "model_module_version": "1.2.0",
      "model_name": "LayoutModel",
      "state": {}
     },
     "049aad1b650f4328ba65964ba2676af1": {
      "model_module": "@jupyter-widgets/base",
      "model_module_version": "1.2.0",
      "model_name": "LayoutModel",
      "state": {}
     },
     "05ae49010357400aa3aaa882e2b78524": {
      "model_module": "@jupyter-widgets/controls",
      "model_module_version": "1.5.0",
      "model_name": "ButtonModel",
      "state": {
       "description": "button 3",
       "layout": "IPY_MODEL_02b23f639d8e42a298397373088119cb",
       "style": "IPY_MODEL_6e895b92b5334a11a22dc95ef00068d6"
      }
     },
     "067edf198df84d9db56399cf6c16bcff": {
      "model_module": "@jupyter-widgets/controls",
      "model_module_version": "1.5.0",
      "model_name": "ButtonStyleModel",
      "state": {}
     },
     "0755a833f7b840cc8641b98392cda210": {
      "model_module": "@jupyter-widgets/base",
      "model_module_version": "1.2.0",
      "model_name": "LayoutModel",
      "state": {
       "border": "solid 1px black",
       "margin": "0px 10px 10px 0px",
       "padding": "5px 5px 5px 5px",
       "width": "250px"
      }
     },
     "07aae3689e854e48989b2b69bf553d46": {
      "model_module": "@jupyter-widgets/controls",
      "model_module_version": "1.5.0",
      "model_name": "ButtonModel",
      "state": {
       "description": "CLEAR",
       "layout": "IPY_MODEL_d7496b32a52d417b99712769711295a2",
       "style": "IPY_MODEL_bc3752694e554352909e0a3a7905500d"
      }
     },
     "0844370405024fd0965e4c3e17b10197": {
      "model_module": "@jupyter-widgets/base",
      "model_module_version": "1.2.0",
      "model_name": "LayoutModel",
      "state": {
       "border": "solid 1px black",
       "height": "40px",
       "margin": "0px 10px 10px 0px",
       "padding": "5px 5px 5px 5px",
       "width": "150px"
      }
     },
     "091036d485bb4f94bd93e22362113e15": {
      "model_module": "@jupyter-widgets/controls",
      "model_module_version": "1.5.0",
      "model_name": "ButtonModel",
      "state": {
       "description": "button 2",
       "layout": "IPY_MODEL_f7669b78be4b40be91a6d6c30bd65ed2",
       "style": "IPY_MODEL_4fffe4c0a0124b4b8dd0a896f37c2e0c"
      }
     },
     "096a36daae5549b6ac7212f1dc3767c0": {
      "model_module": "@jupyter-widgets/controls",
      "model_module_version": "1.5.0",
      "model_name": "ButtonStyleModel",
      "state": {}
     },
     "09967895326e458093cb7af5dba67b75": {
      "model_module": "@jupyter-widgets/controls",
      "model_module_version": "1.5.0",
      "model_name": "HTMLModel",
      "state": {
       "layout": "IPY_MODEL_966d9ce3ed7a42d2be5546b113ea892e",
       "style": "IPY_MODEL_9938861ff0054397bfcd3eae0a9318ba",
       "value": "<h1 style='color:green'> You win </h1>"
      }
     },
     "0a5afcd764524c52ac32711542320b02": {
      "model_module": "@jupyter-widgets/controls",
      "model_module_version": "1.5.0",
      "model_name": "ButtonModel",
      "state": {
       "description": "button 1",
       "layout": "IPY_MODEL_ca15f7d09db24cc8930cb78b7c9958e5",
       "style": "IPY_MODEL_a1bd8220439e4b15b6d836bf1fa08a67"
      }
     },
     "0d9008b53b944bda855aa3e8520ef6cf": {
      "model_module": "@jupyter-widgets/base",
      "model_module_version": "1.2.0",
      "model_name": "LayoutModel",
      "state": {}
     },
     "0dee3ba038ea4e9586e4a81f13a95c97": {
      "model_module": "@jupyter-widgets/base",
      "model_module_version": "1.2.0",
      "model_name": "LayoutModel",
      "state": {}
     },
     "0e1a6b1c1ef7403da4f1ae441c9b8d73": {
      "model_module": "@jupyter-widgets/base",
      "model_module_version": "1.2.0",
      "model_name": "LayoutModel",
      "state": {}
     },
     "0ebc019bfc6e4d6faecbc95d582999d8": {
      "model_module": "@jupyter-widgets/controls",
      "model_module_version": "1.5.0",
      "model_name": "ButtonStyleModel",
      "state": {}
     },
     "0ee1b7acaa8e4f54b09d0e2b4477594c": {
      "model_module": "@jupyter-widgets/controls",
      "model_module_version": "1.5.0",
      "model_name": "DescriptionStyleModel",
      "state": {
       "description_width": ""
      }
     },
     "0f16ad28ee5d4d8fa2f5efd7583a143b": {
      "model_module": "@jupyter-widgets/controls",
      "model_module_version": "1.5.0",
      "model_name": "ButtonModel",
      "state": {
       "description": "CLEAR",
       "layout": "IPY_MODEL_2c619573e1774039a34a45ce8861904a",
       "style": "IPY_MODEL_f50045cdce014e7ab00c7fe7150ea53f"
      }
     },
     "103fca4661da48559a7b4b0a7efb8bdf": {
      "model_module": "@jupyter-widgets/controls",
      "model_module_version": "1.5.0",
      "model_name": "ButtonModel",
      "state": {
       "description": "button 4",
       "layout": "IPY_MODEL_f7669b78be4b40be91a6d6c30bd65ed2",
       "style": "IPY_MODEL_d8f5bfa4326144dfb41d4f836390ccc0"
      }
     },
     "1073e7299dd540dfb2a4ab668a08fc7e": {
      "model_module": "@jupyter-widgets/controls",
      "model_module_version": "1.5.0",
      "model_name": "ButtonModel",
      "state": {
       "description": "CLEAR",
       "layout": "IPY_MODEL_f7669b78be4b40be91a6d6c30bd65ed2",
       "style": "IPY_MODEL_d93dff59bf0b4634a9e9e773f083572f"
      }
     },
     "11516ae67168414aa5930e400831ca76": {
      "model_module": "@jupyter-widgets/controls",
      "model_module_version": "1.5.0",
      "model_name": "DescriptionStyleModel",
      "state": {
       "description_width": ""
      }
     },
     "11fe73fe60e24131b51dd98d22fc9a76": {
      "model_module": "@jupyter-widgets/controls",
      "model_module_version": "1.5.0",
      "model_name": "ButtonStyleModel",
      "state": {}
     },
     "12a794e7f7f04337a41532b496a5aed0": {
      "model_module": "@jupyter-widgets/controls",
      "model_module_version": "1.5.0",
      "model_name": "DescriptionStyleModel",
      "state": {
       "description_width": ""
      }
     },
     "14b128372bea4272b5a9e53ab73ce1df": {
      "model_module": "@jupyter-widgets/output",
      "model_module_version": "1.0.0",
      "model_name": "OutputModel",
      "state": {
       "layout": "IPY_MODEL_8224877111ef4c8e8c19efcbf39b4cba",
       "outputs": [
        {
         "name": "stdout",
         "output_type": "stream",
         "text": "just some introductory info here\n"
        }
       ]
      }
     },
     "14bd5b4f65254d9b83f721eb74462934": {
      "model_module": "@jupyter-widgets/controls",
      "model_module_version": "1.5.0",
      "model_name": "VBoxModel",
      "state": {
       "children": [
        "IPY_MODEL_e4d018707a9e4537853b43d6f694fb2c",
        "IPY_MODEL_0a5afcd764524c52ac32711542320b02",
        "IPY_MODEL_7a8cf52a2a5a4127bde1fe31382d187d"
       ],
       "layout": "IPY_MODEL_3cbc464192b146e087705eca10f3d092"
      }
     },
     "152de15cfabf41859d7b94226d70aa9b": {
      "model_module": "@jupyter-widgets/controls",
      "model_module_version": "1.5.0",
      "model_name": "ButtonModel",
      "state": {
       "description": "button 2",
       "layout": "IPY_MODEL_f8d5584cb0204122b74766d3786a87c8",
       "style": "IPY_MODEL_bc9a49d94d544010a8fca64a01c4a1bf"
      }
     },
     "17c7874f7e664a52a4a7db0a307b33d6": {
      "model_module": "@jupyter-widgets/controls",
      "model_module_version": "1.5.0",
      "model_name": "ButtonModel",
      "state": {
       "description": "button 2",
       "layout": "IPY_MODEL_49c5e0f4f6f14e7f85a6fb4917e64770",
       "style": "IPY_MODEL_ecc57c339d2c49c1827d6a3b62390270"
      }
     },
     "18b72c62febb4c109d4f1be9fd48c795": {
      "model_module": "@jupyter-widgets/controls",
      "model_module_version": "1.5.0",
      "model_name": "HBoxModel",
      "state": {
       "children": [
        "IPY_MODEL_2f0d056b35e94e41b765c45362b95c19",
        "IPY_MODEL_ec75e2ed678a4c38805d98a1f98fba09"
       ],
       "layout": "IPY_MODEL_58d4d7032050416d9e870c2fdd61eba2"
      }
     },
     "1a127a1b48ef42da9526035fd06792cf": {
      "model_module": "@jupyter-widgets/controls",
      "model_module_version": "1.5.0",
      "model_name": "ButtonModel",
      "state": {
       "description": "CLEAR",
       "layout": "IPY_MODEL_f8d5584cb0204122b74766d3786a87c8",
       "style": "IPY_MODEL_a024ead9ea4b478087f68860dea95b89"
      }
     },
     "1a2026ee521b4002a290769efebf1b9f": {
      "model_module": "@jupyter-widgets/controls",
      "model_module_version": "1.5.0",
      "model_name": "ButtonStyleModel",
      "state": {}
     },
     "1aa375ddf73b4b35a8312582521e78aa": {
      "model_module": "@jupyter-widgets/controls",
      "model_module_version": "1.5.0",
      "model_name": "SliderStyleModel",
      "state": {
       "description_width": ""
      }
     },
     "1bea40b2559c4ef7af13a7e9de7f0015": {
      "model_module": "@jupyter-widgets/controls",
      "model_module_version": "1.5.0",
      "model_name": "ButtonModel",
      "state": {
       "description": "CLEAR",
       "layout": "IPY_MODEL_3782d5082d2543609cee579e81e7c842",
       "style": "IPY_MODEL_ed0f9344f5c6409bad7eb72072cf9c64"
      }
     },
     "1c6b142e3e8d4f7f883dd9221f63d165": {
      "model_module": "@jupyter-widgets/controls",
      "model_module_version": "1.5.0",
      "model_name": "ButtonModel",
      "state": {
       "description": "button 4",
       "layout": "IPY_MODEL_0844370405024fd0965e4c3e17b10197",
       "style": "IPY_MODEL_0ebc019bfc6e4d6faecbc95d582999d8"
      }
     },
     "1c7f9c48a094492781e5300cc4e96f7a": {
      "model_module": "@jupyter-widgets/base",
      "model_module_version": "1.2.0",
      "model_name": "LayoutModel",
      "state": {}
     },
     "1ce8c7fd4a114f9fac0be8f27eff52c3": {
      "model_module": "@jupyter-widgets/controls",
      "model_module_version": "1.5.0",
      "model_name": "ButtonModel",
      "state": {
       "description": "button 1",
       "layout": "IPY_MODEL_f8d5584cb0204122b74766d3786a87c8",
       "style": "IPY_MODEL_effc871010bb40628045cc33008be4fd"
      }
     },
     "1fad98d74a7c4f46be4d8d7a1324507e": {
      "model_module": "@jupyter-widgets/controls",
      "model_module_version": "1.5.0",
      "model_name": "ButtonStyleModel",
      "state": {}
     },
     "20e6ba9147bd4309bea2ecb48a79c5f3": {
      "model_module": "@jupyter-widgets/base",
      "model_module_version": "1.2.0",
      "model_name": "LayoutModel",
      "state": {}
     },
     "21fbe45348754ecc850f9501bfb65c7e": {
      "model_module": "@jupyter-widgets/controls",
      "model_module_version": "1.5.0",
      "model_name": "VBoxModel",
      "state": {
       "children": [
        "IPY_MODEL_53781ce9a2ea41fdbc9f7ddcfe2cbff8",
        "IPY_MODEL_4e8ce26d4ac6462aa86fcb136d0536b1",
        "IPY_MODEL_d156f1b49b254f23a8a28db6dd4a7b51",
        "IPY_MODEL_05ae49010357400aa3aaa882e2b78524",
        "IPY_MODEL_4163d871d1d040b2afa17882de6eb63e"
       ],
       "layout": "IPY_MODEL_e4718ba1d47a4e65b9cbce7e3f3f019e"
      }
     },
     "225f14f11a8b4273be19811178f69558": {
      "model_module": "@jupyter-widgets/controls",
      "model_module_version": "1.5.0",
      "model_name": "ButtonModel",
      "state": {
       "button_style": "info",
       "description": "1",
       "disabled": true,
       "layout": "IPY_MODEL_4f2259ec7d1f4a10af756f78d283613f",
       "style": "IPY_MODEL_1fad98d74a7c4f46be4d8d7a1324507e"
      }
     },
     "22f973b92ec048e287e6c926327262b4": {
      "model_module": "@jupyter-widgets/base",
      "model_module_version": "1.2.0",
      "model_name": "LayoutModel",
      "state": {
       "border": "solid 1px black",
       "height": "40px",
       "margin": "0px 10px 10px 0px",
       "padding": "5px 5px 5px 5px",
       "width": "150px"
      }
     },
     "2387fb0696314df4a9a2a78c8d089d83": {
      "model_module": "@jupyter-widgets/controls",
      "model_module_version": "1.5.0",
      "model_name": "VBoxModel",
      "state": {
       "children": [
        "IPY_MODEL_02ba3623bdac4e28a764cf79f60f43b5",
        "IPY_MODEL_6df9934fcb0e49eb87566583856230fa"
       ],
       "layout": "IPY_MODEL_481b1bfbb1ae403a87a48137989f12a1"
      }
     },
     "239cd42e85524fcaa9656f34bd955945": {
      "model_module": "@jupyter-widgets/base",
      "model_module_version": "1.2.0",
      "model_name": "LayoutModel",
      "state": {
       "border": "solid 1px black",
       "margin": "0px 10px 10px 0px",
       "padding": "5px 5px 5px 5px",
       "width": "250px"
      }
     },
     "23eb75de7bb247fcab0f607c085cd8b4": {
      "model_module": "@jupyter-widgets/controls",
      "model_module_version": "1.5.0",
      "model_name": "IntSliderModel",
      "state": {
       "description": "times",
       "layout": "IPY_MODEL_27768c2556dc41dab752bd3b76a9606d",
       "max": 5,
       "style": "IPY_MODEL_ecce76d815e34a4b8504ef46ec7b3fb9",
       "value": 4
      }
     },
     "241c26d82b90499d8c1d0ceaa38afd39": {
      "model_module": "@jupyter-widgets/controls",
      "model_module_version": "1.5.0",
      "model_name": "ButtonStyleModel",
      "state": {}
     },
     "27768c2556dc41dab752bd3b76a9606d": {
      "model_module": "@jupyter-widgets/base",
      "model_module_version": "1.2.0",
      "model_name": "LayoutModel",
      "state": {}
     },
     "2896ce8153c246e181ab9ef8cdffa529": {
      "model_module": "@jupyter-widgets/controls",
      "model_module_version": "1.5.0",
      "model_name": "ButtonStyleModel",
      "state": {}
     },
     "28eac67cda1047cda7f673048fc8bb6f": {
      "model_module": "@jupyter-widgets/controls",
      "model_module_version": "1.5.0",
      "model_name": "ButtonModel",
      "state": {
       "button_style": "warning",
       "description": "START",
       "layout": "IPY_MODEL_c6abafb797d543b8a769eba4cd15126f",
       "style": "IPY_MODEL_887b88f2a0fd4981a85a99258b0f233a"
      }
     },
     "29c277ca25654456a61758a88b72c1fc": {
      "model_module": "@jupyter-widgets/controls",
      "model_module_version": "1.5.0",
      "model_name": "VBoxModel",
      "state": {
       "children": [
        "IPY_MODEL_0304dc8a442e46deaf56e5824b33fcb9",
        "IPY_MODEL_e70dbc7598be4ce3bdf7ada999a83846"
       ],
       "layout": "IPY_MODEL_00e90c3f9ed3412aacf9be5bbc90a6c4"
      }
     },
     "2aac356a888143f2aeb1915370fbd3a1": {
      "model_module": "@jupyter-widgets/controls",
      "model_module_version": "1.5.0",
      "model_name": "HBoxModel",
      "state": {
       "children": [
        "IPY_MODEL_b9a4d40691a243c79c805bb3d972a095",
        "IPY_MODEL_3ffab62fa9d84fe1a926ed1335ad3552"
       ],
       "layout": "IPY_MODEL_76e23fd51f594d9498a88f5700d723d1"
      }
     },
     "2c338b8aae714c8da2105496a8be7eab": {
      "model_module": "@jupyter-widgets/output",
      "model_module_version": "1.0.0",
      "model_name": "OutputModel",
      "state": {
       "layout": "IPY_MODEL_90e2e2dea8654368bf55f5e8138ca691",
       "outputs": [
        {
         "name": "stdout",
         "output_type": "stream",
         "text": "asdfasdfasdfasdf\n"
        }
       ]
      }
     },
     "2c619573e1774039a34a45ce8861904a": {
      "model_module": "@jupyter-widgets/base",
      "model_module_version": "1.2.0",
      "model_name": "LayoutModel",
      "state": {
       "border": "solid 1px black",
       "height": "40px",
       "margin": "0px 10px 10px 0px",
       "padding": "5px 5px 5px 5px",
       "width": "150px"
      }
     },
     "2c84076f655149a19da69c19864d0c09": {
      "model_module": "@jupyter-widgets/controls",
      "model_module_version": "1.5.0",
      "model_name": "HBoxModel",
      "state": {
       "children": [
        "IPY_MODEL_e5ae35967e194febba944874e23b62c2",
        "IPY_MODEL_bbe0554434574f8e851025fd81dc37fe"
       ],
       "layout": "IPY_MODEL_8a1ce685f98d4ec28fa7e99e95e9c729"
      }
     },
     "2d38d5ffa0aa4bdf90df58b74a8f970b": {
      "model_module": "@jupyter-widgets/controls",
      "model_module_version": "1.5.0",
      "model_name": "ButtonModel",
      "state": {
       "description": "button 3",
       "layout": "IPY_MODEL_22f973b92ec048e287e6c926327262b4",
       "style": "IPY_MODEL_3f68451df78046f58854cd99d0c39ca1"
      }
     },
     "2f0d056b35e94e41b765c45362b95c19": {
      "model_module": "@jupyter-widgets/controls",
      "model_module_version": "1.5.0",
      "model_name": "VBoxModel",
      "state": {
       "children": [
        "IPY_MODEL_0f16ad28ee5d4d8fa2f5efd7583a143b",
        "IPY_MODEL_620f1e8d5362427592fe67f49eba9697",
        "IPY_MODEL_d7cd3dcd7e5a4462baad8ee0134ccf33",
        "IPY_MODEL_6098865d9ed8439b851f4566fc722713",
        "IPY_MODEL_76cc6383d0544a1e80eaba22c28cf11a"
       ],
       "layout": "IPY_MODEL_0755a833f7b840cc8641b98392cda210"
      }
     },
     "2f5e2964868d48e396cc9495159576e7": {
      "model_module": "@jupyter-widgets/controls",
      "model_module_version": "1.5.0",
      "model_name": "ButtonStyleModel",
      "state": {
       "button_color": "red"
      }
     },
     "2fb82590925346d99d261d3c36f184fc": {
      "model_module": "@jupyter-widgets/base",
      "model_module_version": "1.2.0",
      "model_name": "LayoutModel",
      "state": {}
     },
     "2fbac7825a8048768f20cd953efe0c00": {
      "model_module": "@jupyter-widgets/base",
      "model_module_version": "1.2.0",
      "model_name": "LayoutModel",
      "state": {}
     },
     "2ff4a50f9ad54d6382bf78cf5702d169": {
      "model_module": "@jupyter-widgets/controls",
      "model_module_version": "1.5.0",
      "model_name": "DropdownModel",
      "state": {
       "_options_labels": [
        "PLAY",
        "REC"
       ],
       "description": "ACTION",
       "index": 0,
       "layout": "IPY_MODEL_0dee3ba038ea4e9586e4a81f13a95c97",
       "style": "IPY_MODEL_d97d3cad313b416a97aa185cf06093fb"
      }
     },
     "3065acf0e4f346bfa4841755eeabc47b": {
      "model_module": "@jupyter-widgets/controls",
      "model_module_version": "1.5.0",
      "model_name": "ButtonStyleModel",
      "state": {}
     },
     "30f318d49e1a4037a54c72bebfc847bb": {
      "model_module": "@jupyter-widgets/controls",
      "model_module_version": "1.5.0",
      "model_name": "ButtonStyleModel",
      "state": {}
     },
     "3262178caf91431cb73b1e9e246095de": {
      "model_module": "@jupyter-widgets/base",
      "model_module_version": "1.2.0",
      "model_name": "LayoutModel",
      "state": {
       "border": "solid 1px black",
       "margin": "0px 10px 10px 0px",
       "padding": "5px 5px 5px 5px",
       "width": "250px"
      }
     },
     "32b43302878e47c3a20b513dc1b070f1": {
      "model_module": "@jupyter-widgets/base",
      "model_module_version": "1.2.0",
      "model_name": "LayoutModel",
      "state": {}
     },
     "32c56fdeb8b947fea8e9765ae5eb5487": {
      "model_module": "@jupyter-widgets/controls",
      "model_module_version": "1.5.0",
      "model_name": "ButtonModel",
      "state": {
       "description": "button 1",
       "layout": "IPY_MODEL_49c5e0f4f6f14e7f85a6fb4917e64770",
       "style": "IPY_MODEL_c7cf2d66179b4b62b868c86307606bc3"
      }
     },
     "33839e7d5b394d3793183cdbeda20164": {
      "model_module": "@jupyter-widgets/output",
      "model_module_version": "1.0.0",
      "model_name": "OutputModel",
      "state": {
       "layout": "IPY_MODEL_a15b570667d84292b14f568f9d233a3e",
       "outputs": [
        {
         "name": "stdout",
         "output_type": "stream",
         "text": "2**2 = 4 \n3**2 = 9 \n3**2 = 9 \n2**2 = 4 \n1**2 = 1 \n"
        }
       ]
      }
     },
     "33da7cb27cd84511b09868d141e1a21f": {
      "model_module": "@jupyter-widgets/controls",
      "model_module_version": "1.5.0",
      "model_name": "HBoxModel",
      "state": {
       "children": [
        "IPY_MODEL_d7c19efd2ef442da84ddc187feda6cda",
        "IPY_MODEL_29c277ca25654456a61758a88b72c1fc"
       ],
       "layout": "IPY_MODEL_e58fcd2e52f148a6b7f28f2fce2303dc"
      }
     },
     "3448a2d18611454ab7f4e8002c290184": {
      "model_module": "@jupyter-widgets/controls",
      "model_module_version": "1.5.0",
      "model_name": "ButtonStyleModel",
      "state": {}
     },
     "349c2b4b35a34623a0e9b926a7cd503f": {
      "model_module": "@jupyter-widgets/controls",
      "model_module_version": "1.5.0",
      "model_name": "ButtonModel",
      "state": {
       "description": "button 4",
       "layout": "IPY_MODEL_f8d5584cb0204122b74766d3786a87c8",
       "style": "IPY_MODEL_1a2026ee521b4002a290769efebf1b9f"
      }
     },
     "351ba0b412f4486abc9ff1bb7c8bfe27": {
      "model_module": "@jupyter-widgets/output",
      "model_module_version": "1.0.0",
      "model_name": "OutputModel",
      "state": {
       "layout": "IPY_MODEL_8224877111ef4c8e8c19efcbf39b4cba",
       "outputs": [
        {
         "name": "stdout",
         "output_type": "stream",
         "text": "ha 4\nha 4\nha 9\n"
        }
       ]
      }
     },
     "3565510ecbd94cf1b3bccaca28d45fb0": {
      "model_module": "@jupyter-widgets/controls",
      "model_module_version": "1.5.0",
      "model_name": "ButtonModel",
      "state": {
       "description": "button 3",
       "layout": "IPY_MODEL_d7496b32a52d417b99712769711295a2",
       "style": "IPY_MODEL_f826ebc6a82e48a1b056b3934c09bf11"
      }
     },
     "3782d5082d2543609cee579e81e7c842": {
      "model_module": "@jupyter-widgets/base",
      "model_module_version": "1.2.0",
      "model_name": "LayoutModel",
      "state": {
       "border": "solid 1px black",
       "height": "40px",
       "margin": "0px 10px 10px 0px",
       "padding": "5px 5px 5px 5px",
       "width": "150px"
      }
     },
     "37bf4d19a0df44799d8a5d0a2e4a9a00": {
      "model_module": "@jupyter-widgets/base",
      "model_module_version": "1.2.0",
      "model_name": "LayoutModel",
      "state": {}
     },
     "3cbc464192b146e087705eca10f3d092": {
      "model_module": "@jupyter-widgets/base",
      "model_module_version": "1.2.0",
      "model_name": "LayoutModel",
      "state": {
       "border": "solid 1px black",
       "margin": "0px 10px 10px 0px",
       "padding": "5px 5px 5px 5px"
      }
     },
     "3d2bb38549c640c4844ead0432da302b": {
      "model_module": "@jupyter-widgets/controls",
      "model_module_version": "1.5.0",
      "model_name": "ProgressStyleModel",
      "state": {
       "description_width": ""
      }
     },
     "3d5b0c0a22dc45d6a37bf5aa6b7bb312": {
      "model_module": "@jupyter-widgets/controls",
      "model_module_version": "1.5.0",
      "model_name": "ButtonStyleModel",
      "state": {
       "button_color": "green"
      }
     },
     "3e6cbfc97e294d88b60784fb7f050e66": {
      "model_module": "@jupyter-widgets/controls",
      "model_module_version": "1.5.0",
      "model_name": "VBoxModel",
      "state": {
       "children": [
        "IPY_MODEL_66617f1ee7a649e4a708f7a82006a520",
        "IPY_MODEL_32c56fdeb8b947fea8e9765ae5eb5487",
        "IPY_MODEL_17c7874f7e664a52a4a7db0a307b33d6",
        "IPY_MODEL_b798f22be9b340358a5cda330ae4f0a2",
        "IPY_MODEL_9d8f7073a9f846b08bf13f6884147352"
       ],
       "layout": "IPY_MODEL_4e554ad9f07b40e186466e1e121f8dbd"
      }
     },
     "3efc3e89650f4dfb9ec973c5febb8c46": {
      "model_module": "@jupyter-widgets/base",
      "model_module_version": "1.2.0",
      "model_name": "LayoutModel",
      "state": {}
     },
     "3f68451df78046f58854cd99d0c39ca1": {
      "model_module": "@jupyter-widgets/controls",
      "model_module_version": "1.5.0",
      "model_name": "ButtonStyleModel",
      "state": {}
     },
     "3ffab62fa9d84fe1a926ed1335ad3552": {
      "model_module": "@jupyter-widgets/controls",
      "model_module_version": "1.5.0",
      "model_name": "VBoxModel",
      "state": {
       "children": [
        "IPY_MODEL_5f3bea2594c64dd69728a2b99d7f8121",
        "IPY_MODEL_33839e7d5b394d3793183cdbeda20164"
       ],
       "layout": "IPY_MODEL_f29c821351a149ab86750d6a7a8f2848"
      }
     },
     "40913e8e68324a09873495d05463edc0": {
      "model_module": "@jupyter-widgets/output",
      "model_module_version": "1.0.0",
      "model_name": "OutputModel",
      "state": {
       "layout": "IPY_MODEL_e4718ba1d47a4e65b9cbce7e3f3f019e",
       "outputs": [
        {
         "name": "stdout",
         "output_type": "stream",
         "text": "2**2 = 4 \n2**2 = 4 \n3**2 = 9 \n"
        }
       ]
      }
     },
     "4159b30e864d44ed8176d5719c8dba85": {
      "model_module": "@jupyter-widgets/controls",
      "model_module_version": "1.5.0",
      "model_name": "HBoxModel",
      "state": {
       "children": [
        "IPY_MODEL_43d27dd79f204ac88512bc7cd5e523c8",
        "IPY_MODEL_cf75bbe39c88444a893b5d30b0a70d58"
       ],
       "layout": "IPY_MODEL_a5b2ac2c125841498f79edffefcc8329"
      }
     },
     "4163d871d1d040b2afa17882de6eb63e": {
      "model_module": "@jupyter-widgets/controls",
      "model_module_version": "1.5.0",
      "model_name": "ButtonModel",
      "state": {
       "description": "button 4",
       "layout": "IPY_MODEL_02b23f639d8e42a298397373088119cb",
       "style": "IPY_MODEL_e92f01acdda042e6baa27735b4d41d55"
      }
     },
     "4351e860b2bf4871922d03926db37b5a": {
      "model_module": "@jupyter-widgets/base",
      "model_module_version": "1.2.0",
      "model_name": "LayoutModel",
      "state": {}
     },
     "43996e5652394a95a2c29932d84cadbf": {
      "model_module": "@jupyter-widgets/controls",
      "model_module_version": "1.5.0",
      "model_name": "ButtonModel",
      "state": {
       "description": "button 1",
       "layout": "IPY_MODEL_d7496b32a52d417b99712769711295a2",
       "style": "IPY_MODEL_d2b9583c51d04d538378a76a258949ff"
      }
     },
     "43d27dd79f204ac88512bc7cd5e523c8": {
      "model_module": "@jupyter-widgets/controls",
      "model_module_version": "1.5.0",
      "model_name": "VBoxModel",
      "state": {
       "children": [
        "IPY_MODEL_07aae3689e854e48989b2b69bf553d46",
        "IPY_MODEL_43996e5652394a95a2c29932d84cadbf",
        "IPY_MODEL_e5d1c23eaa5c4dd9979677ff1e2f31e0",
        "IPY_MODEL_3565510ecbd94cf1b3bccaca28d45fb0",
        "IPY_MODEL_a0dbd5951ea44c29959ce4fe5812202e"
       ],
       "layout": "IPY_MODEL_68fd996d72994b429f674aac353c451b"
      }
     },
     "4566e3048f0e497eadb23516c3887cb2": {
      "model_module": "@jupyter-widgets/base",
      "model_module_version": "1.2.0",
      "model_name": "LayoutModel",
      "state": {}
     },
     "470a69a51ff14106b999a82d3574b607": {
      "model_module": "@jupyter-widgets/output",
      "model_module_version": "1.0.0",
      "model_name": "OutputModel",
      "state": {
       "layout": "IPY_MODEL_dfdf331dcda1470995f4a9490ff8b631"
      }
     },
     "48191edfac62456e95d9704a8bf0c887": {
      "model_module": "@jupyter-widgets/controls",
      "model_module_version": "1.5.0",
      "model_name": "VBoxModel",
      "state": {
       "_dom_classes": [
        "widget-interact"
       ],
       "children": [
        "IPY_MODEL_01ad5f86032548d6a5760ea67643bbcb",
        "IPY_MODEL_23eb75de7bb247fcab0f607c085cd8b4",
        "IPY_MODEL_2c338b8aae714c8da2105496a8be7eab"
       ],
       "layout": "IPY_MODEL_a488d6406fa7429ebadb206a825103d9"
      }
     },
     "481b1bfbb1ae403a87a48137989f12a1": {
      "model_module": "@jupyter-widgets/base",
      "model_module_version": "1.2.0",
      "model_name": "LayoutModel",
      "state": {
       "border": "solid 1px black",
       "margin": "0px 10px 10px 0px",
       "padding": "5px 5px 5px 5px"
      }
     },
     "482e1f212347419c8fca89a07a3e8389": {
      "model_module": "@jupyter-widgets/controls",
      "model_module_version": "1.5.0",
      "model_name": "ButtonModel",
      "state": {
       "description": "CLEAR",
       "layout": "IPY_MODEL_22f973b92ec048e287e6c926327262b4",
       "style": "IPY_MODEL_e26f51d2b5a047ff820dc6afc6ff73ea"
      }
     },
     "49c5e0f4f6f14e7f85a6fb4917e64770": {
      "model_module": "@jupyter-widgets/base",
      "model_module_version": "1.2.0",
      "model_name": "LayoutModel",
      "state": {
       "border": "solid 1px black",
       "height": "40px",
       "margin": "0px 10px 10px 0px",
       "padding": "5px 5px 5px 5px",
       "width": "150px"
      }
     },
     "49d2dc5262c74d4e8aa30246a02c452e": {
      "model_module": "@jupyter-widgets/controls",
      "model_module_version": "1.5.0",
      "model_name": "ButtonStyleModel",
      "state": {}
     },
     "4a5436da7eb8410f8197d8bd4b4c86a1": {
      "model_module": "@jupyter-widgets/controls",
      "model_module_version": "1.5.0",
      "model_name": "VBoxModel",
      "state": {
       "children": [
        "IPY_MODEL_f11c03b76c394b5c9d9856bef4b3655e",
        "IPY_MODEL_7850fc9673d84f1ea7dae5f52951ac60"
       ],
       "layout": "IPY_MODEL_bbd0beb2cdf44a2ea4031d0b4e98f70f"
      }
     },
     "4b4fa9e17b974445a32eb4dd31c0e591": {
      "model_module": "@jupyter-widgets/base",
      "model_module_version": "1.2.0",
      "model_name": "LayoutModel",
      "state": {}
     },
     "4c9c8e8dfe98456baf4c2d5f829e3790": {
      "model_module": "@jupyter-widgets/output",
      "model_module_version": "1.0.0",
      "model_name": "OutputModel",
      "state": {
       "layout": "IPY_MODEL_6892e5ec1e944477b92368460985616e",
       "outputs": [
        {
         "name": "stdout",
         "output_type": "stream",
         "text": "just some introductory info here\n"
        }
       ]
      }
     },
     "4e554ad9f07b40e186466e1e121f8dbd": {
      "model_module": "@jupyter-widgets/base",
      "model_module_version": "1.2.0",
      "model_name": "LayoutModel",
      "state": {
       "border": "solid 1px black",
       "margin": "0px 10px 10px 0px",
       "padding": "5px 5px 5px 5px",
       "width": "250px"
      }
     },
     "4e8ce26d4ac6462aa86fcb136d0536b1": {
      "model_module": "@jupyter-widgets/controls",
      "model_module_version": "1.5.0",
      "model_name": "ButtonModel",
      "state": {
       "description": "button 1",
       "layout": "IPY_MODEL_02b23f639d8e42a298397373088119cb",
       "style": "IPY_MODEL_d6adc924ab7c41ffbee42d2472171ceb"
      }
     },
     "4f2259ec7d1f4a10af756f78d283613f": {
      "model_module": "@jupyter-widgets/base",
      "model_module_version": "1.2.0",
      "model_name": "LayoutModel",
      "state": {}
     },
     "4fffe4c0a0124b4b8dd0a896f37c2e0c": {
      "model_module": "@jupyter-widgets/controls",
      "model_module_version": "1.5.0",
      "model_name": "ButtonStyleModel",
      "state": {}
     },
     "53781ce9a2ea41fdbc9f7ddcfe2cbff8": {
      "model_module": "@jupyter-widgets/controls",
      "model_module_version": "1.5.0",
      "model_name": "ButtonModel",
      "state": {
       "description": "CLEAR",
       "layout": "IPY_MODEL_02b23f639d8e42a298397373088119cb",
       "style": "IPY_MODEL_c2f311b5d0c146f680a2fa5d60ac5354"
      }
     },
     "560a3cdeddb64e72867742867b80ccb9": {
      "model_module": "@jupyter-widgets/base",
      "model_module_version": "1.2.0",
      "model_name": "LayoutModel",
      "state": {}
     },
     "5651a39961ec45f5a47251592e32c747": {
      "model_module": "@jupyter-widgets/base",
      "model_module_version": "1.2.0",
      "model_name": "LayoutModel",
      "state": {
       "border": "solid 1px black",
       "margin": "0px 10px 10px 0px",
       "padding": "5px 5px 5px 5px",
       "width": "250px"
      }
     },
     "58d4d7032050416d9e870c2fdd61eba2": {
      "model_module": "@jupyter-widgets/base",
      "model_module_version": "1.2.0",
      "model_name": "LayoutModel",
      "state": {}
     },
     "5a1b82d10a8544f99c0f3d850532027e": {
      "model_module": "@jupyter-widgets/controls",
      "model_module_version": "1.5.0",
      "model_name": "ButtonModel",
      "state": {
       "description": "button 2",
       "layout": "IPY_MODEL_3782d5082d2543609cee579e81e7c842",
       "style": "IPY_MODEL_ceb45574b3314ea5a6aec09eb25b56ae"
      }
     },
     "5a4d51249d264c1f8244e23e12b66a60": {
      "model_module": "@jupyter-widgets/output",
      "model_module_version": "1.0.0",
      "model_name": "OutputModel",
      "state": {
       "layout": "IPY_MODEL_4e554ad9f07b40e186466e1e121f8dbd"
      }
     },
     "5b4316bf4efd471db3f0e7c431ab6b8c": {
      "model_module": "@jupyter-widgets/controls",
      "model_module_version": "1.5.0",
      "model_name": "IntProgressModel",
      "state": {
       "bar_style": "success",
       "description": "Counting",
       "layout": "IPY_MODEL_c4d29d121b53415d9af2254910ee25ad",
       "max": 10,
       "style": "IPY_MODEL_b0391f6d623e4645a6e0fa41a84d6e01"
      }
     },
     "5b6e6685808045fbb2914a17a9e464ab": {
      "model_module": "@jupyter-widgets/output",
      "model_module_version": "1.0.0",
      "model_name": "OutputModel",
      "state": {
       "layout": "IPY_MODEL_e22948b26ac644c8b09a8debedb81c8a"
      }
     },
     "5c46fcad46264f49ab6a61624979a6a7": {
      "model_module": "@jupyter-widgets/base",
      "model_module_version": "1.2.0",
      "model_name": "LayoutModel",
      "state": {}
     },
     "5d5c210e8eca4d0d900811d4a3f4ee8b": {
      "model_module": "@jupyter-widgets/controls",
      "model_module_version": "1.5.0",
      "model_name": "ButtonStyleModel",
      "state": {}
     },
     "5e5c81d791644a32bc857f118492dae3": {
      "model_module": "@jupyter-widgets/base",
      "model_module_version": "1.2.0",
      "model_name": "LayoutModel",
      "state": {}
     },
     "5f3bea2594c64dd69728a2b99d7f8121": {
      "model_module": "@jupyter-widgets/output",
      "model_module_version": "1.0.0",
      "model_name": "OutputModel",
      "state": {
       "layout": "IPY_MODEL_a15b570667d84292b14f568f9d233a3e",
       "outputs": [
        {
         "name": "stdout",
         "output_type": "stream",
         "text": "just some introductory info here\nAll buttons do the same operation\nHowever, they use the button number as parameterization\n"
        }
       ]
      }
     },
     "6098865d9ed8439b851f4566fc722713": {
      "model_module": "@jupyter-widgets/controls",
      "model_module_version": "1.5.0",
      "model_name": "ButtonModel",
      "state": {
       "description": "button 3",
       "layout": "IPY_MODEL_2c619573e1774039a34a45ce8861904a",
       "style": "IPY_MODEL_8cbbfbea1a564cdfb582c4a62f218e1b"
      }
     },
     "60cd07f8b09d490198691eff63c55194": {
      "model_module": "@jupyter-widgets/controls",
      "model_module_version": "1.5.0",
      "model_name": "ButtonStyleModel",
      "state": {}
     },
     "60f489d25e4a466c8489f2eb79a2d954": {
      "model_module": "@jupyter-widgets/controls",
      "model_module_version": "1.5.0",
      "model_name": "ButtonStyleModel",
      "state": {}
     },
     "6110705e13cc48e8b20469a5191c53f8": {
      "model_module": "@jupyter-widgets/controls",
      "model_module_version": "1.5.0",
      "model_name": "ButtonModel",
      "state": {
       "description": "add one ... ",
       "layout": "IPY_MODEL_5e5c81d791644a32bc857f118492dae3",
       "style": "IPY_MODEL_aecc62ec53f34a5795ca7d65eac1c3e0"
      }
     },
     "620f1e8d5362427592fe67f49eba9697": {
      "model_module": "@jupyter-widgets/controls",
      "model_module_version": "1.5.0",
      "model_name": "ButtonModel",
      "state": {
       "description": "button 1",
       "layout": "IPY_MODEL_2c619573e1774039a34a45ce8861904a",
       "style": "IPY_MODEL_f17cd438daff4edc9fb55a870c0f19d7"
      }
     },
     "64b3a166cd1f4cf0856c8427d0334b1c": {
      "model_module": "@jupyter-widgets/controls",
      "model_module_version": "1.5.0",
      "model_name": "IntProgressModel",
      "state": {
       "bar_style": "danger",
       "description": "Bot",
       "layout": "IPY_MODEL_3efc3e89650f4dfb9ec973c5febb8c46",
       "max": 5,
       "style": "IPY_MODEL_3d2bb38549c640c4844ead0432da302b"
      }
     },
     "66617f1ee7a649e4a708f7a82006a520": {
      "model_module": "@jupyter-widgets/controls",
      "model_module_version": "1.5.0",
      "model_name": "ButtonModel",
      "state": {
       "description": "CLEAR",
       "layout": "IPY_MODEL_49c5e0f4f6f14e7f85a6fb4917e64770",
       "style": "IPY_MODEL_3d5b0c0a22dc45d6a37bf5aa6b7bb312"
      }
     },
     "66db091b2494475bbdd2806e01e4b16f": {
      "model_module": "@jupyter-widgets/base",
      "model_module_version": "1.2.0",
      "model_name": "LayoutModel",
      "state": {}
     },
     "6892e5ec1e944477b92368460985616e": {
      "model_module": "@jupyter-widgets/base",
      "model_module_version": "1.2.0",
      "model_name": "LayoutModel",
      "state": {
       "border": "solid 1px black",
       "margin": "0px 10px 10px 0px",
       "padding": "5px 5px 5px 5px",
       "width": "200px"
      }
     },
     "68fd996d72994b429f674aac353c451b": {
      "model_module": "@jupyter-widgets/base",
      "model_module_version": "1.2.0",
      "model_name": "LayoutModel",
      "state": {
       "border": "solid 1px black",
       "margin": "0px 10px 10px 0px",
       "padding": "5px 5px 5px 5px",
       "width": "250px"
      }
     },
     "6996a77ccac345ea8ad0e80fdd32b3c0": {
      "model_module": "@jupyter-widgets/base",
      "model_module_version": "1.2.0",
      "model_name": "LayoutModel",
      "state": {}
     },
     "6a95de0cc080439cbbe19e75672f9743": {
      "model_module": "@jupyter-widgets/controls",
      "model_module_version": "1.5.0",
      "model_name": "ButtonModel",
      "state": {
       "description": "button 2",
       "layout": "IPY_MODEL_22f973b92ec048e287e6c926327262b4",
       "style": "IPY_MODEL_99bc55c78dbb405499d8d933213ebfd0"
      }
     },
     "6acfba53205a407eace7b51b48dd10ff": {
      "model_module": "@jupyter-widgets/base",
      "model_module_version": "1.2.0",
      "model_name": "LayoutModel",
      "state": {
       "border": "solid 1px black",
       "margin": "0px 10px 10px 0px",
       "padding": "5px 5px 5px 5px"
      }
     },
     "6adcea1f74a14abfbd7b7303fc19ad44": {
      "model_module": "@jupyter-widgets/controls",
      "model_module_version": "1.5.0",
      "model_name": "VBoxModel",
      "state": {
       "children": [
        "IPY_MODEL_ba13a3ad4c1840a9b5dce8102f9ec0e7",
        "IPY_MODEL_ad33e58c42eb463f85252ae3c0865ff5",
        "IPY_MODEL_81a02a2f74384acc87541be3fc89206f"
       ],
       "layout": "IPY_MODEL_c0ce186e51664272bd587d9a7d78e543"
      }
     },
     "6c661e6447f1429c8d1460b6222289c6": {
      "model_module": "@jupyter-widgets/base",
      "model_module_version": "1.2.0",
      "model_name": "LayoutModel",
      "state": {
       "border": "solid 1px black",
       "margin": "0px 10px 10px 0px",
       "padding": "5px 5px 5px 5px",
       "width": "250px"
      }
     },
     "6ccc4bc120794acfb29381b922c604fb": {
      "model_module": "@jupyter-widgets/controls",
      "model_module_version": "1.5.0",
      "model_name": "HBoxModel",
      "state": {
       "children": [
        "IPY_MODEL_7cdfa8831e784cccb2a8a6f33622ca3e",
        "IPY_MODEL_09967895326e458093cb7af5dba67b75"
       ],
       "layout": "IPY_MODEL_ee892c2b87aa431bbc013047b6ad21f0"
      }
     },
     "6df9934fcb0e49eb87566583856230fa": {
      "model_module": "@jupyter-widgets/controls",
      "model_module_version": "1.5.0",
      "model_name": "ButtonModel",
      "state": {
       "description": "CLEAR",
       "layout": "IPY_MODEL_c812d260c44e419e9a04476d1f1e8822",
       "style": "IPY_MODEL_2f5e2964868d48e396cc9495159576e7"
      }
     },
     "6e895b92b5334a11a22dc95ef00068d6": {
      "model_module": "@jupyter-widgets/controls",
      "model_module_version": "1.5.0",
      "model_name": "ButtonStyleModel",
      "state": {}
     },
     "7216b62d74fa4eb28446ce7cd7aaf8b4": {
      "model_module": "@jupyter-widgets/controls",
      "model_module_version": "1.5.0",
      "model_name": "ProgressStyleModel",
      "state": {
       "description_width": ""
      }
     },
     "7419f8126b444172a0e0ce7080f1f796": {
      "model_module": "@jupyter-widgets/base",
      "model_module_version": "1.2.0",
      "model_name": "LayoutModel",
      "state": {}
     },
     "754e0bc760134409bce3471cfa67cde2": {
      "model_module": "@jupyter-widgets/base",
      "model_module_version": "1.2.0",
      "model_name": "LayoutModel",
      "state": {}
     },
     "764994021344413fbcc6e559e7310af7": {
      "model_module": "@jupyter-widgets/controls",
      "model_module_version": "1.5.0",
      "model_name": "ButtonStyleModel",
      "state": {}
     },
     "76cb6a3e28b745be835d7d9968ac2237": {
      "model_module": "@jupyter-widgets/controls",
      "model_module_version": "1.5.0",
      "model_name": "VBoxModel",
      "state": {
       "children": [
        "IPY_MODEL_848023bc57504611adffb4bb5cb116ec",
        "IPY_MODEL_852d0de739954ac4a3ea512609c6b84e",
        "IPY_MODEL_9f01b753d37342e9ab2ee4ee7b6dac4b",
        "IPY_MODEL_dc9762c2233844649e16cbdc2f2b1386",
        "IPY_MODEL_002880d3f7a94bd7b5663c97d634a4a6"
       ],
       "layout": "IPY_MODEL_239cd42e85524fcaa9656f34bd955945"
      }
     },
     "76cc6383d0544a1e80eaba22c28cf11a": {
      "model_module": "@jupyter-widgets/controls",
      "model_module_version": "1.5.0",
      "model_name": "ButtonModel",
      "state": {
       "description": "button 4",
       "layout": "IPY_MODEL_2c619573e1774039a34a45ce8861904a",
       "style": "IPY_MODEL_bb4b6836907b4ad8a55f8fc81586939d"
      }
     },
     "76e23fd51f594d9498a88f5700d723d1": {
      "model_module": "@jupyter-widgets/base",
      "model_module_version": "1.2.0",
      "model_name": "LayoutModel",
      "state": {}
     },
     "77ffc22f31f54c1880a661430c9e1d02": {
      "model_module": "@jupyter-widgets/controls",
      "model_module_version": "1.5.0",
      "model_name": "ButtonStyleModel",
      "state": {}
     },
     "7850fc9673d84f1ea7dae5f52951ac60": {
      "model_module": "@jupyter-widgets/output",
      "model_module_version": "1.0.0",
      "model_name": "OutputModel",
      "state": {
       "layout": "IPY_MODEL_5651a39961ec45f5a47251592e32c747",
       "outputs": [
        {
         "name": "stdout",
         "output_type": "stream",
         "text": "2**2 = 4 \n1**2 = 1 \n3**2 = 9 \n"
        }
       ]
      }
     },
     "7a5437224cce4953903049317d61e0bb": {
      "model_module": "@jupyter-widgets/controls",
      "model_module_version": "1.5.0",
      "model_name": "ButtonStyleModel",
      "state": {}
     },
     "7a8cf52a2a5a4127bde1fe31382d187d": {
      "model_module": "@jupyter-widgets/controls",
      "model_module_version": "1.5.0",
      "model_name": "ButtonModel",
      "state": {
       "description": "button 2",
       "layout": "IPY_MODEL_e48f4b612d6546e48c96fb878c137587",
       "style": "IPY_MODEL_30f318d49e1a4037a54c72bebfc847bb"
      }
     },
     "7aa0408ac33245c48cafe04208f040d5": {
      "model_module": "@jupyter-widgets/controls",
      "model_module_version": "1.5.0",
      "model_name": "VBoxModel",
      "state": {
       "children": [
        "IPY_MODEL_fa793ad3b5a94696a5583bd1c9a96bb7",
        "IPY_MODEL_40913e8e68324a09873495d05463edc0"
       ],
       "layout": "IPY_MODEL_9efafa4c04a44928b69f3621384ca632"
      }
     },
     "7b1b85ca2a1a4981bcd78f95afd6295e": {
      "model_module": "@jupyter-widgets/controls",
      "model_module_version": "1.5.0",
      "model_name": "ButtonModel",
      "state": {
       "description": "button 4",
       "layout": "IPY_MODEL_22f973b92ec048e287e6c926327262b4",
       "style": "IPY_MODEL_096a36daae5549b6ac7212f1dc3767c0"
      }
     },
     "7b5062c85e85451a9a99adca62c5c19f": {
      "model_module": "@jupyter-widgets/controls",
      "model_module_version": "1.5.0",
      "model_name": "ButtonModel",
      "state": {
       "description": "button 4",
       "layout": "IPY_MODEL_3782d5082d2543609cee579e81e7c842",
       "style": "IPY_MODEL_d54dd250fb6c43078d7b46f1792dd782"
      }
     },
     "7b5b4a2e3ed3436ebbe19e7d208da0f1": {
      "model_module": "@jupyter-widgets/controls",
      "model_module_version": "1.5.0",
      "model_name": "IntSliderModel",
      "state": {
       "layout": "IPY_MODEL_ee939f677637450c81780361aade5fab",
       "style": "IPY_MODEL_fbbdd70d4faa45408bb37ae24d5bf345",
       "value": 82
      }
     },
     "7cdfa8831e784cccb2a8a6f33622ca3e": {
      "model_module": "@jupyter-widgets/controls",
      "model_module_version": "1.5.0",
      "model_name": "VBoxModel",
      "state": {
       "children": [
        "IPY_MODEL_fac2949fedea4261a6b329fdf8a6d60e",
        "IPY_MODEL_64b3a166cd1f4cf0856c8427d0334b1c"
       ],
       "layout": "IPY_MODEL_049aad1b650f4328ba65964ba2676af1"
      }
     },
     "81a02a2f74384acc87541be3fc89206f": {
      "model_module": "@jupyter-widgets/controls",
      "model_module_version": "1.5.0",
      "model_name": "ButtonModel",
      "state": {
       "description": "button 2",
       "layout": "IPY_MODEL_4b4fa9e17b974445a32eb4dd31c0e591",
       "style": "IPY_MODEL_b25c50f50be442deb48fe9bc45b21935"
      }
     },
     "8224877111ef4c8e8c19efcbf39b4cba": {
      "model_module": "@jupyter-widgets/base",
      "model_module_version": "1.2.0",
      "model_name": "LayoutModel",
      "state": {
       "border": "solid 1px black",
       "margin": "0px 10px 10px 0px",
       "padding": "5px 5px 5px 5px",
       "width": "250px"
      }
     },
     "827e118cdb294c95964c98f2d01f57d9": {
      "model_module": "@jupyter-widgets/controls",
      "model_module_version": "1.5.0",
      "model_name": "VBoxModel",
      "state": {
       "children": [
        "IPY_MODEL_d7558ab5238843ad845d075cad08fc1a",
        "IPY_MODEL_aa6be70ab8534c31bd941fc87cd6644d",
        "IPY_MODEL_a6c917821f3347f78b9b0cca4ef2dffd",
        "IPY_MODEL_e2b922ce9f2e4a5aabd76016ee299db4",
        "IPY_MODEL_1c6b142e3e8d4f7f883dd9221f63d165"
       ],
       "layout": "IPY_MODEL_6c661e6447f1429c8d1460b6222289c6"
      }
     },
     "848023bc57504611adffb4bb5cb116ec": {
      "model_module": "@jupyter-widgets/controls",
      "model_module_version": "1.5.0",
      "model_name": "ButtonModel",
      "state": {
       "description": "CLEAR",
       "layout": "IPY_MODEL_cb40e2fd237b42c8b710c0b1f65003df",
       "style": "IPY_MODEL_aa5ee01cc1f64191b2adf82e6a8bbb3e"
      }
     },
     "852d0de739954ac4a3ea512609c6b84e": {
      "model_module": "@jupyter-widgets/controls",
      "model_module_version": "1.5.0",
      "model_name": "ButtonModel",
      "state": {
       "description": "button 1",
       "layout": "IPY_MODEL_cb40e2fd237b42c8b710c0b1f65003df",
       "style": "IPY_MODEL_067edf198df84d9db56399cf6c16bcff"
      }
     },
     "8743c3d2bb0741d7922912e1949d1461": {
      "model_module": "@jupyter-widgets/controls",
      "model_module_version": "1.5.0",
      "model_name": "ButtonStyleModel",
      "state": {}
     },
     "887b88f2a0fd4981a85a99258b0f233a": {
      "model_module": "@jupyter-widgets/controls",
      "model_module_version": "1.5.0",
      "model_name": "ButtonStyleModel",
      "state": {}
     },
     "8a1ce685f98d4ec28fa7e99e95e9c729": {
      "model_module": "@jupyter-widgets/base",
      "model_module_version": "1.2.0",
      "model_name": "LayoutModel",
      "state": {}
     },
     "8cbbfbea1a564cdfb582c4a62f218e1b": {
      "model_module": "@jupyter-widgets/controls",
      "model_module_version": "1.5.0",
      "model_name": "ButtonStyleModel",
      "state": {}
     },
     "8e300a34e3c044958503142d9e3b7107": {
      "model_module": "@jupyter-widgets/controls",
      "model_module_version": "1.5.0",
      "model_name": "ButtonStyleModel",
      "state": {}
     },
     "8e9e17fbc37842a5a3d26ab7d14305bc": {
      "model_module": "@jupyter-widgets/controls",
      "model_module_version": "1.5.0",
      "model_name": "HBoxModel",
      "state": {
       "children": [
        "IPY_MODEL_21fbe45348754ecc850f9501bfb65c7e",
        "IPY_MODEL_7aa0408ac33245c48cafe04208f040d5"
       ],
       "layout": "IPY_MODEL_ec5d19d5aa194b809f95b2509721c79c"
      }
     },
     "90e2e2dea8654368bf55f5e8138ca691": {
      "model_module": "@jupyter-widgets/base",
      "model_module_version": "1.2.0",
      "model_name": "LayoutModel",
      "state": {}
     },
     "91f609f77c89491fa13356260a4a22f0": {
      "model_module": "@jupyter-widgets/base",
      "model_module_version": "1.2.0",
      "model_name": "LayoutModel",
      "state": {}
     },
     "939ca7a6e0dd4342aa9ade255753e6d5": {
      "model_module": "@jupyter-widgets/controls",
      "model_module_version": "1.5.0",
      "model_name": "HBoxModel",
      "state": {
       "children": [
        "IPY_MODEL_14bd5b4f65254d9b83f721eb74462934",
        "IPY_MODEL_2387fb0696314df4a9a2a78c8d089d83",
        "IPY_MODEL_470a69a51ff14106b999a82d3574b607"
       ],
       "layout": "IPY_MODEL_eb60fd4c997b48f38082c6085f23bb1f"
      }
     },
     "94f1c51f6b3b4d9abfcf37e8d7328a0b": {
      "model_module": "@jupyter-widgets/controls",
      "model_module_version": "1.5.0",
      "model_name": "HBoxModel",
      "state": {
       "children": [
        "IPY_MODEL_3e6cbfc97e294d88b60784fb7f050e66",
        "IPY_MODEL_9c7c32ff76e248d3ab1ab292212c184e"
       ],
       "layout": "IPY_MODEL_c3e0ef561d59479c8247d1adf1c34a2f"
      }
     },
     "966d9ce3ed7a42d2be5546b113ea892e": {
      "model_module": "@jupyter-widgets/base",
      "model_module_version": "1.2.0",
      "model_name": "LayoutModel",
      "state": {
       "visibility": "hidden"
      }
     },
     "984454aebd8e4e259bfd566bdc9510c8": {
      "model_module": "@jupyter-widgets/controls",
      "model_module_version": "1.5.0",
      "model_name": "ButtonModel",
      "state": {
       "description": "button 3",
       "layout": "IPY_MODEL_f7669b78be4b40be91a6d6c30bd65ed2",
       "style": "IPY_MODEL_7a5437224cce4953903049317d61e0bb"
      }
     },
     "988c4f6038f044c9bef816145f1bf130": {
      "model_module": "@jupyter-widgets/controls",
      "model_module_version": "1.5.0",
      "model_name": "ButtonModel",
      "state": {
       "description": "Click me to Print",
       "layout": "IPY_MODEL_0e1a6b1c1ef7403da4f1ae441c9b8d73",
       "style": "IPY_MODEL_8e300a34e3c044958503142d9e3b7107"
      }
     },
     "992edf46d1cf447e9f538426d866903e": {
      "model_module": "@jupyter-widgets/controls",
      "model_module_version": "1.5.0",
      "model_name": "VBoxModel",
      "state": {
       "children": [
        "IPY_MODEL_1bea40b2559c4ef7af13a7e9de7f0015",
        "IPY_MODEL_af0e286703a94334a71e91505249738c",
        "IPY_MODEL_5a1b82d10a8544f99c0f3d850532027e",
        "IPY_MODEL_b0ce7bdbbbaa4ace99ced3984c78b603",
        "IPY_MODEL_7b5062c85e85451a9a99adca62c5c19f"
       ],
       "layout": "IPY_MODEL_5651a39961ec45f5a47251592e32c747"
      }
     },
     "9938861ff0054397bfcd3eae0a9318ba": {
      "model_module": "@jupyter-widgets/controls",
      "model_module_version": "1.5.0",
      "model_name": "DescriptionStyleModel",
      "state": {
       "description_width": ""
      }
     },
     "99bc55c78dbb405499d8d933213ebfd0": {
      "model_module": "@jupyter-widgets/controls",
      "model_module_version": "1.5.0",
      "model_name": "ButtonStyleModel",
      "state": {}
     },
     "9ab1ce2a33584aebac9ddde038ab31b1": {
      "model_module": "@jupyter-widgets/controls",
      "model_module_version": "1.5.0",
      "model_name": "DescriptionStyleModel",
      "state": {
       "description_width": ""
      }
     },
     "9c7c32ff76e248d3ab1ab292212c184e": {
      "model_module": "@jupyter-widgets/output",
      "model_module_version": "1.0.0",
      "model_name": "OutputModel",
      "state": {
       "layout": "IPY_MODEL_6c661e6447f1429c8d1460b6222289c6",
       "outputs": [
        {
         "name": "stdout",
         "output_type": "stream",
         "text": "ha 1\nha 4\nha 9\n"
        }
       ]
      }
     },
     "9d8f7073a9f846b08bf13f6884147352": {
      "model_module": "@jupyter-widgets/controls",
      "model_module_version": "1.5.0",
      "model_name": "ButtonModel",
      "state": {
       "description": "button 4",
       "layout": "IPY_MODEL_49c5e0f4f6f14e7f85a6fb4917e64770",
       "style": "IPY_MODEL_3065acf0e4f346bfa4841755eeabc47b"
      }
     },
     "9efafa4c04a44928b69f3621384ca632": {
      "model_module": "@jupyter-widgets/base",
      "model_module_version": "1.2.0",
      "model_name": "LayoutModel",
      "state": {}
     },
     "9f01b753d37342e9ab2ee4ee7b6dac4b": {
      "model_module": "@jupyter-widgets/controls",
      "model_module_version": "1.5.0",
      "model_name": "ButtonModel",
      "state": {
       "description": "button 2",
       "layout": "IPY_MODEL_cb40e2fd237b42c8b710c0b1f65003df",
       "style": "IPY_MODEL_8743c3d2bb0741d7922912e1949d1461"
      }
     },
     "a024ead9ea4b478087f68860dea95b89": {
      "model_module": "@jupyter-widgets/controls",
      "model_module_version": "1.5.0",
      "model_name": "ButtonStyleModel",
      "state": {
       "button_color": "green"
      }
     },
     "a0dbd5951ea44c29959ce4fe5812202e": {
      "model_module": "@jupyter-widgets/controls",
      "model_module_version": "1.5.0",
      "model_name": "ButtonModel",
      "state": {
       "description": "button 4",
       "layout": "IPY_MODEL_d7496b32a52d417b99712769711295a2",
       "style": "IPY_MODEL_60f489d25e4a466c8489f2eb79a2d954"
      }
     },
     "a15b570667d84292b14f568f9d233a3e": {
      "model_module": "@jupyter-widgets/base",
      "model_module_version": "1.2.0",
      "model_name": "LayoutModel",
      "state": {
       "border": "solid 1px black",
       "margin": "0px 10px 10px 0px",
       "padding": "5px 5px 5px 5px",
       "width": "250px"
      }
     },
     "a17ddf0794df482ab152f0356a882906": {
      "model_module": "@jupyter-widgets/base",
      "model_module_version": "1.2.0",
      "model_name": "LayoutModel",
      "state": {}
     },
     "a191c25732da4a64bbb87c2051e72775": {
      "model_module": "@jupyter-widgets/base",
      "model_module_version": "1.2.0",
      "model_name": "LayoutModel",
      "state": {}
     },
     "a1bd8220439e4b15b6d836bf1fa08a67": {
      "model_module": "@jupyter-widgets/controls",
      "model_module_version": "1.5.0",
      "model_name": "ButtonStyleModel",
      "state": {}
     },
     "a41081a6d7b041bdae126922478f8028": {
      "model_module": "@jupyter-widgets/base",
      "model_module_version": "1.2.0",
      "model_name": "LayoutModel",
      "state": {}
     },
     "a42cc4b1adc04de09a2c642fc66562ae": {
      "model_module": "@jupyter-widgets/controls",
      "model_module_version": "1.5.0",
      "model_name": "HBoxModel",
      "state": {
       "children": [
        "IPY_MODEL_b8ab0a4d4ddd48bc86dad836ff025ab7",
        "IPY_MODEL_225f14f11a8b4273be19811178f69558",
        "IPY_MODEL_28eac67cda1047cda7f673048fc8bb6f"
       ],
       "layout": "IPY_MODEL_7419f8126b444172a0e0ce7080f1f796"
      }
     },
     "a488d6406fa7429ebadb206a825103d9": {
      "model_module": "@jupyter-widgets/base",
      "model_module_version": "1.2.0",
      "model_name": "LayoutModel",
      "state": {}
     },
     "a573c2672e364e10afe0aac5225f78d9": {
      "model_module": "@jupyter-widgets/controls",
      "model_module_version": "1.5.0",
      "model_name": "ButtonStyleModel",
      "state": {
       "button_color": "green"
      }
     },
     "a58676c4cdf84b6c90040bfbbf29921e": {
      "model_module": "@jupyter-widgets/base",
      "model_module_version": "1.2.0",
      "model_name": "LayoutModel",
      "state": {}
     },
     "a5b2ac2c125841498f79edffefcc8329": {
      "model_module": "@jupyter-widgets/base",
      "model_module_version": "1.2.0",
      "model_name": "LayoutModel",
      "state": {}
     },
     "a6c917821f3347f78b9b0cca4ef2dffd": {
      "model_module": "@jupyter-widgets/controls",
      "model_module_version": "1.5.0",
      "model_name": "ButtonModel",
      "state": {
       "description": "button 2",
       "layout": "IPY_MODEL_0844370405024fd0965e4c3e17b10197",
       "style": "IPY_MODEL_ab9c84a054034d1ba93a4bd14e4cb01c"
      }
     },
     "aa5ee01cc1f64191b2adf82e6a8bbb3e": {
      "model_module": "@jupyter-widgets/controls",
      "model_module_version": "1.5.0",
      "model_name": "ButtonStyleModel",
      "state": {
       "button_color": "green"
      }
     },
     "aa6be70ab8534c31bd941fc87cd6644d": {
      "model_module": "@jupyter-widgets/controls",
      "model_module_version": "1.5.0",
      "model_name": "ButtonModel",
      "state": {
       "description": "button 1",
       "layout": "IPY_MODEL_0844370405024fd0965e4c3e17b10197",
       "style": "IPY_MODEL_60cd07f8b09d490198691eff63c55194"
      }
     },
     "ab9c84a054034d1ba93a4bd14e4cb01c": {
      "model_module": "@jupyter-widgets/controls",
      "model_module_version": "1.5.0",
      "model_name": "ButtonStyleModel",
      "state": {}
     },
     "aca2ff572c254b6db73f6429c4111230": {
      "model_module": "@jupyter-widgets/base",
      "model_module_version": "1.2.0",
      "model_name": "LayoutModel",
      "state": {}
     },
     "ad33e58c42eb463f85252ae3c0865ff5": {
      "model_module": "@jupyter-widgets/controls",
      "model_module_version": "1.5.0",
      "model_name": "ButtonModel",
      "state": {
       "description": "button 1",
       "layout": "IPY_MODEL_e5342fbf4a704c78af54fc8a7b0a843a",
       "style": "IPY_MODEL_eac797ec42644e51a41366af15fc469d"
      }
     },
     "aecc62ec53f34a5795ca7d65eac1c3e0": {
      "model_module": "@jupyter-widgets/controls",
      "model_module_version": "1.5.0",
      "model_name": "ButtonStyleModel",
      "state": {}
     },
     "aee7dcabac424449bd59501e28118fd5": {
      "model_module": "@jupyter-widgets/output",
      "model_module_version": "1.0.0",
      "model_name": "OutputModel",
      "state": {
       "layout": "IPY_MODEL_db920788173649279fcec8e956689e65"
      }
     },
     "af0e286703a94334a71e91505249738c": {
      "model_module": "@jupyter-widgets/controls",
      "model_module_version": "1.5.0",
      "model_name": "ButtonModel",
      "state": {
       "description": "button 1",
       "layout": "IPY_MODEL_3782d5082d2543609cee579e81e7c842",
       "style": "IPY_MODEL_2896ce8153c246e181ab9ef8cdffa529"
      }
     },
     "b0391f6d623e4645a6e0fa41a84d6e01": {
      "model_module": "@jupyter-widgets/controls",
      "model_module_version": "1.5.0",
      "model_name": "ProgressStyleModel",
      "state": {
       "description_width": ""
      }
     },
     "b0ce7bdbbbaa4ace99ced3984c78b603": {
      "model_module": "@jupyter-widgets/controls",
      "model_module_version": "1.5.0",
      "model_name": "ButtonModel",
      "state": {
       "description": "button 3",
       "layout": "IPY_MODEL_3782d5082d2543609cee579e81e7c842",
       "style": "IPY_MODEL_49d2dc5262c74d4e8aa30246a02c452e"
      }
     },
     "b18cb36221f74ff7abd424296140985f": {
      "model_module": "@jupyter-widgets/controls",
      "model_module_version": "1.5.0",
      "model_name": "HBoxModel",
      "state": {
       "children": [
        "IPY_MODEL_f8025ed1368047c5a91b694c82da3c15",
        "IPY_MODEL_7b5b4a2e3ed3436ebbe19e7d208da0f1"
       ],
       "layout": "IPY_MODEL_66db091b2494475bbdd2806e01e4b16f"
      }
     },
     "b1c6ee39754f42088a3523a12cac2f8c": {
      "model_module": "@jupyter-widgets/controls",
      "model_module_version": "1.5.0",
      "model_name": "ButtonModel",
      "state": {
       "description": "CLEAR",
       "layout": "IPY_MODEL_fad6959d016d446fa72ace9433d53b52",
       "style": "IPY_MODEL_fcde313009464f53af92a6468d00eb61"
      }
     },
     "b2580766183b4322864db4de352e00d2": {
      "model_module": "@jupyter-widgets/output",
      "model_module_version": "1.0.0",
      "model_name": "OutputModel",
      "state": {
       "layout": "IPY_MODEL_4e554ad9f07b40e186466e1e121f8dbd"
      }
     },
     "b25c50f50be442deb48fe9bc45b21935": {
      "model_module": "@jupyter-widgets/controls",
      "model_module_version": "1.5.0",
      "model_name": "ButtonStyleModel",
      "state": {}
     },
     "b55a041413cd4117b4c05792034564b6": {
      "model_module": "@jupyter-widgets/controls",
      "model_module_version": "1.5.0",
      "model_name": "DescriptionStyleModel",
      "state": {
       "description_width": ""
      }
     },
     "b6b3f651dc85431b9a772377a3ebe65e": {
      "model_module": "@jupyter-widgets/controls",
      "model_module_version": "1.5.0",
      "model_name": "ButtonStyleModel",
      "state": {}
     },
     "b798f22be9b340358a5cda330ae4f0a2": {
      "model_module": "@jupyter-widgets/controls",
      "model_module_version": "1.5.0",
      "model_name": "ButtonModel",
      "state": {
       "description": "button 3",
       "layout": "IPY_MODEL_49c5e0f4f6f14e7f85a6fb4917e64770",
       "style": "IPY_MODEL_be1104703aaa4bad8cdc890fd71b2e4d"
      }
     },
     "b8ab0a4d4ddd48bc86dad836ff025ab7": {
      "model_module": "@jupyter-widgets/controls",
      "model_module_version": "1.5.0",
      "model_name": "ButtonModel",
      "state": {
       "button_style": "info",
       "description": "0",
       "disabled": true,
       "layout": "IPY_MODEL_2fb82590925346d99d261d3c36f184fc",
       "style": "IPY_MODEL_00377db6967a4ecca830d8049ef038fb"
      }
     },
     "b9a4d40691a243c79c805bb3d972a095": {
      "model_module": "@jupyter-widgets/controls",
      "model_module_version": "1.5.0",
      "model_name": "VBoxModel",
      "state": {
       "children": [
        "IPY_MODEL_1073e7299dd540dfb2a4ab668a08fc7e",
        "IPY_MODEL_bd03ff9bed864d0d8c1896634b496e27",
        "IPY_MODEL_091036d485bb4f94bd93e22362113e15",
        "IPY_MODEL_984454aebd8e4e259bfd566bdc9510c8",
        "IPY_MODEL_103fca4661da48559a7b4b0a7efb8bdf"
       ],
       "layout": "IPY_MODEL_a15b570667d84292b14f568f9d233a3e"
      }
     },
     "ba13a3ad4c1840a9b5dce8102f9ec0e7": {
      "model_module": "@jupyter-widgets/controls",
      "model_module_version": "1.5.0",
      "model_name": "LabelModel",
      "state": {
       "layout": "IPY_MODEL_20e6ba9147bd4309bea2ecb48a79c5f3",
       "style": "IPY_MODEL_0ee1b7acaa8e4f54b09d0e2b4477594c",
       "value": "Controls"
      }
     },
     "bb4b6836907b4ad8a55f8fc81586939d": {
      "model_module": "@jupyter-widgets/controls",
      "model_module_version": "1.5.0",
      "model_name": "ButtonStyleModel",
      "state": {}
     },
     "bbd0beb2cdf44a2ea4031d0b4e98f70f": {
      "model_module": "@jupyter-widgets/base",
      "model_module_version": "1.2.0",
      "model_name": "LayoutModel",
      "state": {}
     },
     "bbe0554434574f8e851025fd81dc37fe": {
      "model_module": "@jupyter-widgets/controls",
      "model_module_version": "1.5.0",
      "model_name": "VBoxModel",
      "state": {
       "children": [
        "IPY_MODEL_14b128372bea4272b5a9e53ab73ce1df",
        "IPY_MODEL_351ba0b412f4486abc9ff1bb7c8bfe27"
       ],
       "layout": "IPY_MODEL_a191c25732da4a64bbb87c2051e72775"
      }
     },
     "bc3752694e554352909e0a3a7905500d": {
      "model_module": "@jupyter-widgets/controls",
      "model_module_version": "1.5.0",
      "model_name": "ButtonStyleModel",
      "state": {
       "button_color": "green"
      }
     },
     "bc9a49d94d544010a8fca64a01c4a1bf": {
      "model_module": "@jupyter-widgets/controls",
      "model_module_version": "1.5.0",
      "model_name": "ButtonStyleModel",
      "state": {}
     },
     "bd03ff9bed864d0d8c1896634b496e27": {
      "model_module": "@jupyter-widgets/controls",
      "model_module_version": "1.5.0",
      "model_name": "ButtonModel",
      "state": {
       "description": "button 1",
       "layout": "IPY_MODEL_f7669b78be4b40be91a6d6c30bd65ed2",
       "style": "IPY_MODEL_11fe73fe60e24131b51dd98d22fc9a76"
      }
     },
     "be1104703aaa4bad8cdc890fd71b2e4d": {
      "model_module": "@jupyter-widgets/controls",
      "model_module_version": "1.5.0",
      "model_name": "ButtonStyleModel",
      "state": {}
     },
     "bf0a0415e68e4173830e56a3882596ea": {
      "model_module": "@jupyter-widgets/controls",
      "model_module_version": "1.5.0",
      "model_name": "HBoxModel",
      "state": {
       "children": [
        "IPY_MODEL_76cb6a3e28b745be835d7d9968ac2237",
        "IPY_MODEL_ef914c8e85494625832afc431441bc0b"
       ],
       "layout": "IPY_MODEL_91f609f77c89491fa13356260a4a22f0"
      }
     },
     "bf2f877e91d845e2a77c66da2b2ab0dc": {
      "model_module": "@jupyter-widgets/controls",
      "model_module_version": "1.5.0",
      "model_name": "ButtonModel",
      "state": {
       "description": "button 3",
       "layout": "IPY_MODEL_f8d5584cb0204122b74766d3786a87c8",
       "style": "IPY_MODEL_b6b3f651dc85431b9a772377a3ebe65e"
      }
     },
     "c0ce186e51664272bd587d9a7d78e543": {
      "model_module": "@jupyter-widgets/base",
      "model_module_version": "1.2.0",
      "model_name": "LayoutModel",
      "state": {
       "border": "solid 1px black",
       "margin": "0px 10px 10px 0px",
       "padding": "5px 5px 5px 5px"
      }
     },
     "c2c163113e4d40c79efda589a7eaae44": {
      "model_module": "@jupyter-widgets/base",
      "model_module_version": "1.2.0",
      "model_name": "LayoutModel",
      "state": {}
     },
     "c2f311b5d0c146f680a2fa5d60ac5354": {
      "model_module": "@jupyter-widgets/controls",
      "model_module_version": "1.5.0",
      "model_name": "ButtonStyleModel",
      "state": {
       "button_color": "green"
      }
     },
     "c3e0ef561d59479c8247d1adf1c34a2f": {
      "model_module": "@jupyter-widgets/base",
      "model_module_version": "1.2.0",
      "model_name": "LayoutModel",
      "state": {}
     },
     "c4d29d121b53415d9af2254910ee25ad": {
      "model_module": "@jupyter-widgets/base",
      "model_module_version": "1.2.0",
      "model_name": "LayoutModel",
      "state": {}
     },
     "c6abafb797d543b8a769eba4cd15126f": {
      "model_module": "@jupyter-widgets/base",
      "model_module_version": "1.2.0",
      "model_name": "LayoutModel",
      "state": {}
     },
     "c7cf2d66179b4b62b868c86307606bc3": {
      "model_module": "@jupyter-widgets/controls",
      "model_module_version": "1.5.0",
      "model_name": "ButtonStyleModel",
      "state": {}
     },
     "c812d260c44e419e9a04476d1f1e8822": {
      "model_module": "@jupyter-widgets/base",
      "model_module_version": "1.2.0",
      "model_name": "LayoutModel",
      "state": {}
     },
     "ca15f7d09db24cc8930cb78b7c9958e5": {
      "model_module": "@jupyter-widgets/base",
      "model_module_version": "1.2.0",
      "model_name": "LayoutModel",
      "state": {}
     },
     "cb40e2fd237b42c8b710c0b1f65003df": {
      "model_module": "@jupyter-widgets/base",
      "model_module_version": "1.2.0",
      "model_name": "LayoutModel",
      "state": {
       "border": "solid 1px black",
       "height": "40px",
       "margin": "0px 10px 10px 0px",
       "padding": "5px 5px 5px 5px",
       "width": "150px"
      }
     },
     "cc52709a65274d66a617fa1409b62fc3": {
      "model_module": "@jupyter-widgets/controls",
      "model_module_version": "1.5.0",
      "model_name": "HBoxModel",
      "state": {
       "children": [
        "IPY_MODEL_827e118cdb294c95964c98f2d01f57d9",
        "IPY_MODEL_9c7c32ff76e248d3ab1ab292212c184e"
       ],
       "layout": "IPY_MODEL_a41081a6d7b041bdae126922478f8028"
      }
     },
     "ce6d37f661c64359bb270b34a0f5df51": {
      "model_module": "@jupyter-widgets/output",
      "model_module_version": "1.0.0",
      "model_name": "OutputModel",
      "state": {
       "layout": "IPY_MODEL_68fd996d72994b429f674aac353c451b",
       "outputs": [
        {
         "name": "stdout",
         "output_type": "stream",
         "text": "ha 1\nha 4\n"
        }
       ]
      }
     },
     "ceb45574b3314ea5a6aec09eb25b56ae": {
      "model_module": "@jupyter-widgets/controls",
      "model_module_version": "1.5.0",
      "model_name": "ButtonStyleModel",
      "state": {}
     },
     "cf75bbe39c88444a893b5d30b0a70d58": {
      "model_module": "@jupyter-widgets/controls",
      "model_module_version": "1.5.0",
      "model_name": "VBoxModel",
      "state": {
       "children": [
        "IPY_MODEL_ce6d37f661c64359bb270b34a0f5df51",
        "IPY_MODEL_ef5369e15f0e450492162a4709c686bb"
       ],
       "layout": "IPY_MODEL_4351e860b2bf4871922d03926db37b5a"
      }
     },
     "d08296d54b6346c0b5552f551ef6be06": {
      "model_module": "@jupyter-widgets/output",
      "model_module_version": "1.0.0",
      "model_name": "OutputModel",
      "state": {
       "layout": "IPY_MODEL_239cd42e85524fcaa9656f34bd955945",
       "outputs": [
        {
         "name": "stdout",
         "output_type": "stream",
         "text": "INFO:\nAll buttons do the same operation. However, they use the button number as a parameter\n"
        }
       ]
      }
     },
     "d156f1b49b254f23a8a28db6dd4a7b51": {
      "model_module": "@jupyter-widgets/controls",
      "model_module_version": "1.5.0",
      "model_name": "ButtonModel",
      "state": {
       "description": "button 2",
       "layout": "IPY_MODEL_02b23f639d8e42a298397373088119cb",
       "style": "IPY_MODEL_f8dc803df98b4bf8a70c9ac74dc0d939"
      }
     },
     "d20db826f52c4b2fa473039535c54d00": {
      "model_module": "@jupyter-widgets/base",
      "model_module_version": "1.2.0",
      "model_name": "LayoutModel",
      "state": {}
     },
     "d238dc7c73074888a2d2ea56b01c03a7": {
      "model_module": "@jupyter-widgets/output",
      "model_module_version": "1.0.0",
      "model_name": "OutputModel",
      "state": {
       "layout": "IPY_MODEL_239cd42e85524fcaa9656f34bd955945",
       "outputs": [
        {
         "name": "stdout",
         "output_type": "stream",
         "text": "2**2 = 4 \n1**2 = 1 \n3**2 = 9 \n4**2 = 16 \n"
        }
       ]
      }
     },
     "d2b9583c51d04d538378a76a258949ff": {
      "model_module": "@jupyter-widgets/controls",
      "model_module_version": "1.5.0",
      "model_name": "ButtonStyleModel",
      "state": {}
     },
     "d54dd250fb6c43078d7b46f1792dd782": {
      "model_module": "@jupyter-widgets/controls",
      "model_module_version": "1.5.0",
      "model_name": "ButtonStyleModel",
      "state": {}
     },
     "d55be42d14ee47a6b182dacc326d847b": {
      "model_module": "@jupyter-widgets/controls",
      "model_module_version": "1.5.0",
      "model_name": "HBoxModel",
      "state": {
       "children": [
        "IPY_MODEL_6adcea1f74a14abfbd7b7303fc19ad44",
        "IPY_MODEL_e3b5dce636be43daa6b1150fb4b383c8",
        "IPY_MODEL_5b6e6685808045fbb2914a17a9e464ab"
       ],
       "layout": "IPY_MODEL_5c46fcad46264f49ab6a61624979a6a7"
      }
     },
     "d6adc924ab7c41ffbee42d2472171ceb": {
      "model_module": "@jupyter-widgets/controls",
      "model_module_version": "1.5.0",
      "model_name": "ButtonStyleModel",
      "state": {}
     },
     "d7496b32a52d417b99712769711295a2": {
      "model_module": "@jupyter-widgets/base",
      "model_module_version": "1.2.0",
      "model_name": "LayoutModel",
      "state": {
       "border": "solid 1px black",
       "height": "40px",
       "margin": "0px 10px 10px 0px",
       "padding": "5px 5px 5px 5px",
       "width": "150px"
      }
     },
     "d7558ab5238843ad845d075cad08fc1a": {
      "model_module": "@jupyter-widgets/controls",
      "model_module_version": "1.5.0",
      "model_name": "ButtonModel",
      "state": {
       "description": "CLEAR",
       "layout": "IPY_MODEL_0844370405024fd0965e4c3e17b10197",
       "style": "IPY_MODEL_a573c2672e364e10afe0aac5225f78d9"
      }
     },
     "d7c19efd2ef442da84ddc187feda6cda": {
      "model_module": "@jupyter-widgets/controls",
      "model_module_version": "1.5.0",
      "model_name": "VBoxModel",
      "state": {
       "children": [
        "IPY_MODEL_1a127a1b48ef42da9526035fd06792cf",
        "IPY_MODEL_1ce8c7fd4a114f9fac0be8f27eff52c3",
        "IPY_MODEL_152de15cfabf41859d7b94226d70aa9b",
        "IPY_MODEL_bf2f877e91d845e2a77c66da2b2ab0dc",
        "IPY_MODEL_349c2b4b35a34623a0e9b926a7cd503f"
       ],
       "layout": "IPY_MODEL_3262178caf91431cb73b1e9e246095de"
      }
     },
     "d7cd3dcd7e5a4462baad8ee0134ccf33": {
      "model_module": "@jupyter-widgets/controls",
      "model_module_version": "1.5.0",
      "model_name": "ButtonModel",
      "state": {
       "description": "button 2",
       "layout": "IPY_MODEL_2c619573e1774039a34a45ce8861904a",
       "style": "IPY_MODEL_5d5c210e8eca4d0d900811d4a3f4ee8b"
      }
     },
     "d8f5bfa4326144dfb41d4f836390ccc0": {
      "model_module": "@jupyter-widgets/controls",
      "model_module_version": "1.5.0",
      "model_name": "ButtonStyleModel",
      "state": {}
     },
     "d93dff59bf0b4634a9e9e773f083572f": {
      "model_module": "@jupyter-widgets/controls",
      "model_module_version": "1.5.0",
      "model_name": "ButtonStyleModel",
      "state": {
       "button_color": "green"
      }
     },
     "d97d3cad313b416a97aa185cf06093fb": {
      "model_module": "@jupyter-widgets/controls",
      "model_module_version": "1.5.0",
      "model_name": "DescriptionStyleModel",
      "state": {
       "description_width": ""
      }
     },
     "db920788173649279fcec8e956689e65": {
      "model_module": "@jupyter-widgets/base",
      "model_module_version": "1.2.0",
      "model_name": "LayoutModel",
      "state": {}
     },
     "dc9762c2233844649e16cbdc2f2b1386": {
      "model_module": "@jupyter-widgets/controls",
      "model_module_version": "1.5.0",
      "model_name": "ButtonModel",
      "state": {
       "description": "button 3",
       "layout": "IPY_MODEL_cb40e2fd237b42c8b710c0b1f65003df",
       "style": "IPY_MODEL_77ffc22f31f54c1880a661430c9e1d02"
      }
     },
     "dd33bf7c09154fd6b0f96cd6248d731b": {
      "model_module": "@jupyter-widgets/base",
      "model_module_version": "1.2.0",
      "model_name": "LayoutModel",
      "state": {}
     },
     "dfdf331dcda1470995f4a9490ff8b631": {
      "model_module": "@jupyter-widgets/base",
      "model_module_version": "1.2.0",
      "model_name": "LayoutModel",
      "state": {
       "border": "solid 1px black",
       "margin": "0px 10px 10px 0px",
       "padding": "5px 5px 5px 5px",
       "width": "200px"
      }
     },
     "e22948b26ac644c8b09a8debedb81c8a": {
      "model_module": "@jupyter-widgets/base",
      "model_module_version": "1.2.0",
      "model_name": "LayoutModel",
      "state": {}
     },
     "e26f51d2b5a047ff820dc6afc6ff73ea": {
      "model_module": "@jupyter-widgets/controls",
      "model_module_version": "1.5.0",
      "model_name": "ButtonStyleModel",
      "state": {
       "button_color": "green"
      }
     },
     "e2b922ce9f2e4a5aabd76016ee299db4": {
      "model_module": "@jupyter-widgets/controls",
      "model_module_version": "1.5.0",
      "model_name": "ButtonModel",
      "state": {
       "description": "button 3",
       "layout": "IPY_MODEL_0844370405024fd0965e4c3e17b10197",
       "style": "IPY_MODEL_241c26d82b90499d8c1d0ceaa38afd39"
      }
     },
     "e3b5dce636be43daa6b1150fb4b383c8": {
      "model_module": "@jupyter-widgets/controls",
      "model_module_version": "1.5.0",
      "model_name": "VBoxModel",
      "state": {
       "children": [
        "IPY_MODEL_fd0eaefa3f6344d18de4632d5e933b07",
        "IPY_MODEL_b1c6ee39754f42088a3523a12cac2f8c"
       ],
       "layout": "IPY_MODEL_6acfba53205a407eace7b51b48dd10ff"
      }
     },
     "e4718ba1d47a4e65b9cbce7e3f3f019e": {
      "model_module": "@jupyter-widgets/base",
      "model_module_version": "1.2.0",
      "model_name": "LayoutModel",
      "state": {
       "border": "solid 1px black",
       "margin": "0px 10px 10px 0px",
       "padding": "5px 5px 5px 5px",
       "width": "250px"
      }
     },
     "e48f4b612d6546e48c96fb878c137587": {
      "model_module": "@jupyter-widgets/base",
      "model_module_version": "1.2.0",
      "model_name": "LayoutModel",
      "state": {}
     },
     "e4d018707a9e4537853b43d6f694fb2c": {
      "model_module": "@jupyter-widgets/controls",
      "model_module_version": "1.5.0",
      "model_name": "LabelModel",
      "state": {
       "layout": "IPY_MODEL_dd33bf7c09154fd6b0f96cd6248d731b",
       "style": "IPY_MODEL_11516ae67168414aa5930e400831ca76",
       "value": "Controls"
      }
     },
     "e5342fbf4a704c78af54fc8a7b0a843a": {
      "model_module": "@jupyter-widgets/base",
      "model_module_version": "1.2.0",
      "model_name": "LayoutModel",
      "state": {}
     },
     "e58fcd2e52f148a6b7f28f2fce2303dc": {
      "model_module": "@jupyter-widgets/base",
      "model_module_version": "1.2.0",
      "model_name": "LayoutModel",
      "state": {}
     },
     "e5ae35967e194febba944874e23b62c2": {
      "model_module": "@jupyter-widgets/controls",
      "model_module_version": "1.5.0",
      "model_name": "VBoxModel",
      "state": {
       "children": [
        "IPY_MODEL_482e1f212347419c8fca89a07a3e8389",
        "IPY_MODEL_eaa16ceb22754d8c87d867e0dba6d426",
        "IPY_MODEL_6a95de0cc080439cbbe19e75672f9743",
        "IPY_MODEL_2d38d5ffa0aa4bdf90df58b74a8f970b",
        "IPY_MODEL_7b1b85ca2a1a4981bcd78f95afd6295e"
       ],
       "layout": "IPY_MODEL_8224877111ef4c8e8c19efcbf39b4cba"
      }
     },
     "e5d1c23eaa5c4dd9979677ff1e2f31e0": {
      "model_module": "@jupyter-widgets/controls",
      "model_module_version": "1.5.0",
      "model_name": "ButtonModel",
      "state": {
       "description": "button 2",
       "layout": "IPY_MODEL_d7496b32a52d417b99712769711295a2",
       "style": "IPY_MODEL_eb06a8c791e84b7fa3b1d1cbf57aab59"
      }
     },
     "e70dbc7598be4ce3bdf7ada999a83846": {
      "model_module": "@jupyter-widgets/output",
      "model_module_version": "1.0.0",
      "model_name": "OutputModel",
      "state": {
       "layout": "IPY_MODEL_3262178caf91431cb73b1e9e246095de",
       "outputs": [
        {
         "name": "stdout",
         "output_type": "stream",
         "text": "1 **2 =  1\n2 **2 =  4\n"
        }
       ]
      }
     },
     "e7dbf74e3cad4bdb9d5f92714a188fe9": {
      "model_module": "@jupyter-widgets/controls",
      "model_module_version": "1.5.0",
      "model_name": "HBoxModel",
      "state": {
       "children": [
        "IPY_MODEL_992edf46d1cf447e9f538426d866903e",
        "IPY_MODEL_4a5436da7eb8410f8197d8bd4b4c86a1"
       ],
       "layout": "IPY_MODEL_6996a77ccac345ea8ad0e80fdd32b3c0"
      }
     },
     "e92f01acdda042e6baa27735b4d41d55": {
      "model_module": "@jupyter-widgets/controls",
      "model_module_version": "1.5.0",
      "model_name": "ButtonStyleModel",
      "state": {}
     },
     "eaa16ceb22754d8c87d867e0dba6d426": {
      "model_module": "@jupyter-widgets/controls",
      "model_module_version": "1.5.0",
      "model_name": "ButtonModel",
      "state": {
       "description": "button 1",
       "layout": "IPY_MODEL_22f973b92ec048e287e6c926327262b4",
       "style": "IPY_MODEL_764994021344413fbcc6e559e7310af7"
      }
     },
     "eaa9c41b40eb43ecbdcdad8a455f2659": {
      "model_module": "@jupyter-widgets/controls",
      "model_module_version": "1.5.0",
      "model_name": "VBoxModel",
      "state": {
       "children": [
        "IPY_MODEL_6ccc4bc120794acfb29381b922c604fb",
        "IPY_MODEL_a42cc4b1adc04de09a2c642fc66562ae"
       ],
       "layout": "IPY_MODEL_4566e3048f0e497eadb23516c3887cb2"
      }
     },
     "eac797ec42644e51a41366af15fc469d": {
      "model_module": "@jupyter-widgets/controls",
      "model_module_version": "1.5.0",
      "model_name": "ButtonStyleModel",
      "state": {}
     },
     "eb06a8c791e84b7fa3b1d1cbf57aab59": {
      "model_module": "@jupyter-widgets/controls",
      "model_module_version": "1.5.0",
      "model_name": "ButtonStyleModel",
      "state": {}
     },
     "eb348cc8546d452e9ca8c63cd9944f1b": {
      "model_module": "@jupyter-widgets/base",
      "model_module_version": "1.2.0",
      "model_name": "LayoutModel",
      "state": {}
     },
     "eb60fd4c997b48f38082c6085f23bb1f": {
      "model_module": "@jupyter-widgets/base",
      "model_module_version": "1.2.0",
      "model_name": "LayoutModel",
      "state": {}
     },
     "ec5d19d5aa194b809f95b2509721c79c": {
      "model_module": "@jupyter-widgets/base",
      "model_module_version": "1.2.0",
      "model_name": "LayoutModel",
      "state": {}
     },
     "ec75e2ed678a4c38805d98a1f98fba09": {
      "model_module": "@jupyter-widgets/controls",
      "model_module_version": "1.5.0",
      "model_name": "VBoxModel",
      "state": {
       "children": [
        "IPY_MODEL_4c9c8e8dfe98456baf4c2d5f829e3790",
        "IPY_MODEL_f6126a0e957e461f97ce13ab71261b80"
       ],
       "layout": "IPY_MODEL_eb348cc8546d452e9ca8c63cd9944f1b"
      }
     },
     "ecc57c339d2c49c1827d6a3b62390270": {
      "model_module": "@jupyter-widgets/controls",
      "model_module_version": "1.5.0",
      "model_name": "ButtonStyleModel",
      "state": {}
     },
     "ecce76d815e34a4b8504ef46ec7b3fb9": {
      "model_module": "@jupyter-widgets/controls",
      "model_module_version": "1.5.0",
      "model_name": "SliderStyleModel",
      "state": {
       "description_width": ""
      }
     },
     "ed0f9344f5c6409bad7eb72072cf9c64": {
      "model_module": "@jupyter-widgets/controls",
      "model_module_version": "1.5.0",
      "model_name": "ButtonStyleModel",
      "state": {
       "button_color": "green"
      }
     },
     "ee0d7afb406d481389d2b97799afadf8": {
      "model_module": "@jupyter-widgets/controls",
      "model_module_version": "1.5.0",
      "model_name": "HBoxModel",
      "state": {
       "children": [
        "IPY_MODEL_6110705e13cc48e8b20469a5191c53f8",
        "IPY_MODEL_5b4316bf4efd471db3f0e7c431ab6b8c"
       ],
       "layout": "IPY_MODEL_2fbac7825a8048768f20cd953efe0c00"
      }
     },
     "ee892c2b87aa431bbc013047b6ad21f0": {
      "model_module": "@jupyter-widgets/base",
      "model_module_version": "1.2.0",
      "model_name": "LayoutModel",
      "state": {}
     },
     "ee939f677637450c81780361aade5fab": {
      "model_module": "@jupyter-widgets/base",
      "model_module_version": "1.2.0",
      "model_name": "LayoutModel",
      "state": {}
     },
     "ef5369e15f0e450492162a4709c686bb": {
      "model_module": "@jupyter-widgets/output",
      "model_module_version": "1.0.0",
      "model_name": "OutputModel",
      "state": {
       "layout": "IPY_MODEL_68fd996d72994b429f674aac353c451b"
      }
     },
     "ef914c8e85494625832afc431441bc0b": {
      "model_module": "@jupyter-widgets/controls",
      "model_module_version": "1.5.0",
      "model_name": "VBoxModel",
      "state": {
       "children": [
        "IPY_MODEL_d08296d54b6346c0b5552f551ef6be06",
        "IPY_MODEL_d238dc7c73074888a2d2ea56b01c03a7"
       ],
       "layout": "IPY_MODEL_1c7f9c48a094492781e5300cc4e96f7a"
      }
     },
     "effc871010bb40628045cc33008be4fd": {
      "model_module": "@jupyter-widgets/controls",
      "model_module_version": "1.5.0",
      "model_name": "ButtonStyleModel",
      "state": {}
     },
     "f11c03b76c394b5c9d9856bef4b3655e": {
      "model_module": "@jupyter-widgets/output",
      "model_module_version": "1.0.0",
      "model_name": "OutputModel",
      "state": {
       "layout": "IPY_MODEL_5651a39961ec45f5a47251592e32c747",
       "outputs": [
        {
         "name": "stdout",
         "output_type": "stream",
         "text": "just some introductory info here\n"
        }
       ]
      }
     },
     "f17cd438daff4edc9fb55a870c0f19d7": {
      "model_module": "@jupyter-widgets/controls",
      "model_module_version": "1.5.0",
      "model_name": "ButtonStyleModel",
      "state": {}
     },
     "f29c821351a149ab86750d6a7a8f2848": {
      "model_module": "@jupyter-widgets/base",
      "model_module_version": "1.2.0",
      "model_name": "LayoutModel",
      "state": {}
     },
     "f50045cdce014e7ab00c7fe7150ea53f": {
      "model_module": "@jupyter-widgets/controls",
      "model_module_version": "1.5.0",
      "model_name": "ButtonStyleModel",
      "state": {
       "button_color": "green"
      }
     },
     "f5f16243eaa644b7a145ea7445d6fbce": {
      "model_module": "@jupyter-widgets/controls",
      "model_module_version": "1.5.0",
      "model_name": "DescriptionStyleModel",
      "state": {
       "description_width": ""
      }
     },
     "f6126a0e957e461f97ce13ab71261b80": {
      "model_module": "@jupyter-widgets/output",
      "model_module_version": "1.0.0",
      "model_name": "OutputModel",
      "state": {
       "layout": "IPY_MODEL_0755a833f7b840cc8641b98392cda210"
      }
     },
     "f7669b78be4b40be91a6d6c30bd65ed2": {
      "model_module": "@jupyter-widgets/base",
      "model_module_version": "1.2.0",
      "model_name": "LayoutModel",
      "state": {
       "border": "solid 1px black",
       "height": "40px",
       "margin": "0px 10px 10px 0px",
       "padding": "5px 5px 5px 5px",
       "width": "150px"
      }
     },
     "f8025ed1368047c5a91b694c82da3c15": {
      "model_module": "@jupyter-widgets/controls",
      "model_module_version": "1.5.0",
      "model_name": "PlayModel",
      "state": {
       "description": "Press play",
       "interval": 1000,
       "layout": "IPY_MODEL_754e0bc760134409bce3471cfa67cde2",
       "style": "IPY_MODEL_9ab1ce2a33584aebac9ddde038ab31b1",
       "value": 82
      }
     },
     "f826ebc6a82e48a1b056b3934c09bf11": {
      "model_module": "@jupyter-widgets/controls",
      "model_module_version": "1.5.0",
      "model_name": "ButtonStyleModel",
      "state": {}
     },
     "f8d5584cb0204122b74766d3786a87c8": {
      "model_module": "@jupyter-widgets/base",
      "model_module_version": "1.2.0",
      "model_name": "LayoutModel",
      "state": {
       "border": "solid 1px black",
       "height": "40px",
       "margin": "0px 10px 10px 0px",
       "padding": "5px 5px 5px 5px",
       "width": "150px"
      }
     },
     "f8dc803df98b4bf8a70c9ac74dc0d939": {
      "model_module": "@jupyter-widgets/controls",
      "model_module_version": "1.5.0",
      "model_name": "ButtonStyleModel",
      "state": {}
     },
     "fa793ad3b5a94696a5583bd1c9a96bb7": {
      "model_module": "@jupyter-widgets/output",
      "model_module_version": "1.0.0",
      "model_name": "OutputModel",
      "state": {
       "layout": "IPY_MODEL_e4718ba1d47a4e65b9cbce7e3f3f019e",
       "outputs": [
        {
         "name": "stdout",
         "output_type": "stream",
         "text": "INFO:\nAll buttons do the same operation. However, they use the button number as parameterization\n"
        }
       ]
      }
     },
     "fac2949fedea4261a6b329fdf8a6d60e": {
      "model_module": "@jupyter-widgets/controls",
      "model_module_version": "1.5.0",
      "model_name": "IntProgressModel",
      "state": {
       "bar_style": "success",
       "description": "You",
       "layout": "IPY_MODEL_32b43302878e47c3a20b513dc1b070f1",
       "max": 5,
       "style": "IPY_MODEL_7216b62d74fa4eb28446ce7cd7aaf8b4"
      }
     },
     "fad6959d016d446fa72ace9433d53b52": {
      "model_module": "@jupyter-widgets/base",
      "model_module_version": "1.2.0",
      "model_name": "LayoutModel",
      "state": {}
     },
     "fbbdd70d4faa45408bb37ae24d5bf345": {
      "model_module": "@jupyter-widgets/controls",
      "model_module_version": "1.5.0",
      "model_name": "SliderStyleModel",
      "state": {
       "description_width": ""
      }
     },
     "fcde313009464f53af92a6468d00eb61": {
      "model_module": "@jupyter-widgets/controls",
      "model_module_version": "1.5.0",
      "model_name": "ButtonStyleModel",
      "state": {
       "button_color": "red"
      }
     },
     "fd0eaefa3f6344d18de4632d5e933b07": {
      "model_module": "@jupyter-widgets/controls",
      "model_module_version": "1.5.0",
      "model_name": "LabelModel",
      "state": {
       "layout": "IPY_MODEL_0d9008b53b944bda855aa3e8520ef6cf",
       "style": "IPY_MODEL_b55a041413cd4117b4c05792034564b6",
       "value": "CTRL-CLEAR"
      }
     },
     "fd54fb00cae942dea15ed5bc5e212cb4": {
      "model_module": "@jupyter-widgets/controls",
      "model_module_version": "1.5.0",
      "model_name": "LinkModel",
      "state": {
       "source": [
        "IPY_MODEL_f8025ed1368047c5a91b694c82da3c15",
        "value"
       ],
       "target": [
        "IPY_MODEL_7b5b4a2e3ed3436ebbe19e7d208da0f1",
        "value"
       ]
      }
     }
    },
    "version_major": 2,
    "version_minor": 0
   }
  }
 },
 "nbformat": 4,
 "nbformat_minor": 4
}
