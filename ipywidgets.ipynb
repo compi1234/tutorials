{
 "cells": [
  {
   "cell_type": "markdown",
   "metadata": {},
   "source": [
    "## Notebook with ipywidget examples\n",
    "\n",
    "### DVC - 24/11/2020\n",
    "\n",
    "This notebook contains basic ipywidgets for user interaction.\n",
    "It also has a small game\n",
    "This notebook should be robust against platforms and evolution\n",
    "\n",
    "For interactions involving plotting cfr. ipywidgets-mpl"
   ]
  },
  {
   "cell_type": "code",
   "execution_count": 1,
   "metadata": {},
   "outputs": [],
   "source": [
    "import ipywidgets as widgets\n",
    "from ipywidgets import interact, interact_manual, interactive\n",
    "import IPython.display as ipd\n",
    "import numpy as np"
   ]
  },
  {
   "cell_type": "code",
   "execution_count": 2,
   "metadata": {},
   "outputs": [
    {
     "data": {
      "application/vnd.jupyter.widget-view+json": {
       "model_id": "7f5ebb864b35453caa029a13108df251",
       "version_major": 2,
       "version_minor": 0
      },
      "text/plain": [
       "IntSlider(value=0, max=20)"
      ]
     },
     "metadata": {},
     "output_type": "display_data"
    }
   ],
   "source": [
    "# widget1: integer slider\n",
    "slider1 = widgets.IntSlider(max=20)\n",
    "ipd.display(slider1)\n",
    "def my_func(x):\n",
    "    print(2*x)"
   ]
  },
  {
   "cell_type": "code",
   "execution_count": 3,
   "metadata": {},
   "outputs": [
    {
     "data": {
      "application/vnd.jupyter.widget-view+json": {
       "model_id": "53a1fce0fe404a58bfc638e0c56b7689",
       "version_major": 2,
       "version_minor": 0
      },
      "text/plain": [
       "HBox(children=(Play(value=50, description='Press play', interval=1000), IntSlider(value=0)))"
      ]
     },
     "metadata": {},
     "output_type": "display_data"
    }
   ],
   "source": [
    "# widget2: animation by Play\n",
    "play2 = widgets.Play(\n",
    "    interval=1000, # interval in msec between animation frame\n",
    "    value=50,\n",
    "    min=0,\n",
    "    max=100,\n",
    "    step=1,\n",
    "    description=\"Press play\",\n",
    "    disabled=False\n",
    ")\n",
    "slider2 = widgets.IntSlider()\n",
    "widgets.jslink((play2, 'value'), (slider2, 'value'))\n",
    "widgets.HBox([play2, slider2])"
   ]
  },
  {
   "cell_type": "code",
   "execution_count": 4,
   "metadata": {},
   "outputs": [
    {
     "data": {
      "application/vnd.jupyter.widget-view+json": {
       "model_id": "f11c725e5ed34f1c857a2b45f6762c79",
       "version_major": 2,
       "version_minor": 0
      },
      "text/plain": [
       "interactive(children=(Text(value='', description='text'), IntSlider(value=2, description='times', max=5), Outp…"
      ]
     },
     "metadata": {},
     "output_type": "display_data"
    }
   ],
   "source": [
    "# widget 3: printing text\n",
    "@interact( text='', times=(0,5) )\n",
    "def printIt(text,times):\n",
    "    print( text * times )"
   ]
  },
  {
   "cell_type": "code",
   "execution_count": 5,
   "metadata": {},
   "outputs": [
    {
     "data": {
      "application/vnd.jupyter.widget-view+json": {
       "model_id": "05de83afdc224074bcf4e126fe8e9d80",
       "version_major": 2,
       "version_minor": 0
      },
      "text/plain": [
       "Button(description='B1', style=ButtonStyle())"
      ]
     },
     "metadata": {},
     "output_type": "display_data"
    }
   ],
   "source": [
    "# This works as expected in Jupyter Notebook, but not in Jupyter lab !\n",
    "button1 = widgets.Button(description=\"B1\")\n",
    "\n",
    "def printMe(b):\n",
    "        print(\"Printing something\")\n",
    "button1.on_click(printMe)\n",
    "button1"
   ]
  },
  {
   "cell_type": "code",
   "execution_count": 6,
   "metadata": {},
   "outputs": [],
   "source": [
    "# some globals as needed\n",
    "global user_history\n",
    "user_history = [1,0]\n",
    "target_score = 5\n",
    "\n",
    "#buttons\n",
    "btn0 = widgets.Button( description= '0' )\n",
    "btn1 = widgets.Button( description= '1' )\n",
    "btnS = widgets.Button( description= 'START' )\n",
    "\n",
    "def click_zero(b):\n",
    "    update_game(0)\n",
    "btn0.on_click( click_zero )\n",
    "def click_one(b):\n",
    "    update_game(1)\n",
    "btn1.on_click( click_one )\n",
    "def click_start(b):\n",
    "    update_game(0,start=True)\n",
    "btnS.on_click( click_start )\n",
    "btn0.disabled = True\n",
    "btn1.disabled = True\n",
    "btn0.button_style ='info'\n",
    "btn1.button_style ='info'\n",
    "btnS.button_style ='warning'\n",
    "# score board\n",
    "user_score = widgets.IntProgress(\n",
    "    value=0,\n",
    "    min=0, max=target_score,step=1,\n",
    "    description='You',\n",
    "    bar_style='success',\n",
    "    orientation='horizontal'\n",
    "    )\n",
    "bot_score = widgets.IntProgress(\n",
    "    value=0,\n",
    "    min=0, max=target_score,step=1,\n",
    "    description='Bot',\n",
    "    bar_style='danger',\n",
    "    orientation='horizontal'\n",
    "    )\n",
    "scoreboard= widgets.VBox((user_score,bot_score))\n",
    "final_msg = widgets.HTML(\"<h1 style='color:green'> You win </h1>\")\n",
    "final_msg.layout.visibility = \"hidden\"\n",
    "# layout\n",
    "game = widgets.VBox( ( widgets.HBox((scoreboard,final_msg)),\n",
    "                   widgets.HBox((btn0,btn1,btnS))\n",
    "             ))"
   ]
  },
  {
   "cell_type": "code",
   "execution_count": 7,
   "metadata": {},
   "outputs": [],
   "source": [
    "#\n",
    "# game rules\n",
    "#\n",
    "# note only user_history had to be defined as a global\n",
    "# all widgets behave by nature as such\n",
    "\n",
    "def update_game(user_choice,start=False):\n",
    "    global user_history\n",
    "\n",
    "    if( start ):\n",
    "        user_history = [1,0]\n",
    "        final_msg.value = \"<h1 style='color:green'> You win </h1>\"\n",
    "        final_msg.layout.visibility = \"hidden\"\n",
    "        user_score.value = 0\n",
    "        bot_score.value = 0\n",
    "        btn0.disabled = False\n",
    "        btn1.disabled = False\n",
    "        btnS.disabled = True\n",
    "        btnS.button_style = ''\n",
    "        return\n",
    "    prob = sum(user_history)/len(user_history)\n",
    "    comp_choice = np.random.binomial(1,prob,1)[0]\n",
    "    user_history.append( user_choice )\n",
    "    # print(\"sequence length: \",len(user_history)-2)\n",
    "    if comp_choice == user_choice:\n",
    "        bot_score.value += 1\n",
    "    else:\n",
    "        user_score.value += 1\n",
    "    if user_score.value == target_score or bot_score.value == target_score:\n",
    "        if bot_score.value == target_score:\n",
    "            final_msg.value = \"<h1 style='color:red'>Game Over</h1>\"\n",
    "        final_msg.layout.visibility = \"visible\"\n",
    "        btn0.disabled = True\n",
    "        btn1.disabled = True\n",
    "        btnS.disabled = False\n",
    "        btnS.button_style = 'warning'\n",
    "    return"
   ]
  },
  {
   "cell_type": "code",
   "execution_count": 8,
   "metadata": {},
   "outputs": [
    {
     "data": {
      "application/vnd.jupyter.widget-view+json": {
       "model_id": "3980651033614adfb752510e34946974",
       "version_major": 2,
       "version_minor": 0
      },
      "text/plain": [
       "VBox(children=(HBox(children=(VBox(children=(IntProgress(value=0, bar_style='success', description='You', max=…"
      ]
     },
     "metadata": {},
     "output_type": "display_data"
    }
   ],
   "source": [
    "game"
   ]
  },
  {
   "cell_type": "code",
   "execution_count": 11,
   "metadata": {},
   "outputs": [
    {
     "name": "stdout",
     "output_type": "stream",
     "text": [
      "5\n"
     ]
    },
    {
     "data": {
      "application/vnd.jupyter.widget-view+json": {
       "model_id": "f5a55703975c4d10872e1e090b653b97",
       "version_major": 2,
       "version_minor": 0
      },
      "text/plain": [
       "HTML(value=\"<h1 style='color:red'>Game Over</h1>\", layout=Layout(visibility='visible'))"
      ]
     },
     "metadata": {},
     "output_type": "display_data"
    }
   ],
   "source": [
    "print(bot_score.value)\n",
    "display(final_msg)"
   ]
  },
  {
   "cell_type": "code",
   "execution_count": null,
   "metadata": {},
   "outputs": [],
   "source": []
  },
  {
   "cell_type": "code",
   "execution_count": 12,
   "metadata": {},
   "outputs": [
    {
     "ename": "NameError",
     "evalue": "name 'plt' is not defined",
     "output_type": "error",
     "traceback": [
      "\u001b[1;31m---------------------------------------------------------------------------\u001b[0m",
      "\u001b[1;31mNameError\u001b[0m                                 Traceback (most recent call last)",
      "\u001b[1;32m<ipython-input-12-6c8eaf808679>\u001b[0m in \u001b[0;36m<module>\u001b[1;34m\u001b[0m\n\u001b[0;32m      1\u001b[0m \u001b[1;31m# widget 4: figure update\u001b[0m\u001b[1;33m\u001b[0m\u001b[1;33m\u001b[0m\u001b[1;33m\u001b[0m\u001b[0m\n\u001b[1;32m----> 2\u001b[1;33m \u001b[0mfig\u001b[0m \u001b[1;33m=\u001b[0m \u001b[0mplt\u001b[0m\u001b[1;33m.\u001b[0m\u001b[0mfigure\u001b[0m\u001b[1;33m(\u001b[0m\u001b[1;33m)\u001b[0m\u001b[1;33m\u001b[0m\u001b[1;33m\u001b[0m\u001b[0m\n\u001b[0m\u001b[0;32m      3\u001b[0m \u001b[1;33m@\u001b[0m\u001b[0minteract\u001b[0m\u001b[1;33m(\u001b[0m \u001b[0mm\u001b[0m\u001b[1;33m=\u001b[0m\u001b[1;33m(\u001b[0m\u001b[1;33m-\u001b[0m\u001b[1;36m2.\u001b[0m\u001b[1;33m,\u001b[0m\u001b[1;36m2.\u001b[0m\u001b[1;33m)\u001b[0m\u001b[1;33m,\u001b[0m \u001b[0mb\u001b[0m\u001b[1;33m=\u001b[0m\u001b[1;33m(\u001b[0m\u001b[1;33m-\u001b[0m\u001b[1;36m3\u001b[0m\u001b[1;33m,\u001b[0m\u001b[1;36m3\u001b[0m\u001b[1;33m,\u001b[0m\u001b[1;36m0.5\u001b[0m\u001b[1;33m)\u001b[0m\u001b[1;33m)\u001b[0m\u001b[1;33m\u001b[0m\u001b[1;33m\u001b[0m\u001b[0m\n\u001b[0;32m      4\u001b[0m \u001b[1;32mdef\u001b[0m \u001b[0mf\u001b[0m\u001b[1;33m(\u001b[0m\u001b[0mm\u001b[0m\u001b[1;33m,\u001b[0m\u001b[0mb\u001b[0m\u001b[1;33m)\u001b[0m\u001b[1;33m:\u001b[0m\u001b[1;33m\u001b[0m\u001b[1;33m\u001b[0m\u001b[0m\n\u001b[0;32m      5\u001b[0m     \u001b[1;31m#plt.figure(2)\u001b[0m\u001b[1;33m\u001b[0m\u001b[1;33m\u001b[0m\u001b[1;33m\u001b[0m\u001b[0m\n",
      "\u001b[1;31mNameError\u001b[0m: name 'plt' is not defined"
     ]
    }
   ],
   "source": [
    "# widget 4: figure update\n",
    "fig = plt.figure()\n",
    "@interact( m=(-2.,2.), b=(-3,3,0.5))\n",
    "def f(m,b):\n",
    "    #plt.figure(2)\n",
    "    x = np.linspace(-10,10,num=1000)\n",
    "    plt.plot(x, m*x+b )\n",
    "    plt.ylim(-5,5)\n",
    "    plt.show()"
   ]
  },
  {
   "cell_type": "code",
   "execution_count": null,
   "metadata": {
    "scrolled": true
   },
   "outputs": [],
   "source": [
    "# widget3 @interact decorator\n",
    "# control amplitude, phase .. of a simple function generator\n",
    "#\n",
    "def generate(type='sin', freq=200.0, Fs=8000.0, Tmax=0.5):\n",
    "    t = np.linspace(0.0, Tmax, int(Tmax*Fs), endpoint=False)\n",
    "    if type == 'sin':\n",
    "        x = np.sin(2.0*np.pi*freq*t)\n",
    "    elif type == 'square':\n",
    "        x = signal.square(2.0*np.pi*freq*t)\n",
    "    elif type == 'sawtooth':\n",
    "        x = signal.sawtooth(2.0*np.pi*freq*t)\n",
    "    else:\n",
    "        print( 'signal: Unrecognized signal type')\n",
    "    return x, t\n",
    "\n",
    "signal_types = [ 'sin', 'square', 'sawtooth' ]\n",
    "# alternative to Dropdown is to use RadioButtons\n",
    "wg_signal = widgets.Dropdown(options=signal_types,\n",
    "                             value='sin',description=\"Signal\")\n",
    "wg_amp = widgets.FloatSlider(value=1.0,step=0.05,max=1.0,description='Amplitude')\n",
    "wg_freq = widgets.FloatSlider(value=200.0,step=5.0,min=50.0,max=500.0,description='Frequency')\n",
    "wg_Tmax = widgets.FloatSlider(value=0.6,step=0.1,min=0.1,max=2.0,description='Duration')\n",
    "wg_check = widgets.Checkbox(description='Display Play Button',value=True)\n",
    "Fs=8000\n",
    "plt.close('all')\n",
    "fig = plt.figure()\n",
    "\n",
    "# in this example we use interact and full replotting\n",
    "# this seems to work well with ALL backends\n",
    "@interact(t=wg_signal,f=wg_freq,A=wg_amp,T=wg_Tmax, v=wg_check)\n",
    "def plot_fn(t,f,A,T,v):\n",
    "    x1, t1 = generate(freq=f,type=t,Tmax=T)\n",
    "    y1=A*x1\n",
    "    plt.cla()\n",
    "    plt.plot(t1,y1)\n",
    "    plt.ylim(-1,1)\n",
    "    plt.show()\n",
    "    if(v):\n",
    "        ipd.display(ipd.Audio(data=y1,rate=Fs,normalize=False))\n",
    "    return"
   ]
  },
  {
   "cell_type": "code",
   "execution_count": null,
   "metadata": {},
   "outputs": [],
   "source": [
    "plt.close('all')"
   ]
  },
  {
   "cell_type": "code",
   "execution_count": null,
   "metadata": {},
   "outputs": [],
   "source": [
    "b1 = widgets.Button(description='button 1')\n",
    "b2 = widgets.Button(description='button 2')\n",
    "b3 = widgets.Button(description='button 3')\n",
    "def make_boxes():\n",
    "    vbox1 = widgets.VBox([widgets.Label('Left'), b1, b2])\n",
    "    vbox2 = widgets.VBox([widgets.Label('Right'), b3 ])\n",
    "    return vbox1, vbox2\n",
    " \n",
    "vbox1, vbox2 = make_boxes()\n",
    "\n",
    "\n",
    "def b1_clicked(b):\n",
    "    print(\"Button 1 clicked.\")\n",
    "b1.on_click(b1_clicked)\n",
    "\n",
    " \n",
    "widgets.HBox([vbox1, vbox2])"
   ]
  },
  {
   "cell_type": "code",
   "execution_count": null,
   "metadata": {},
   "outputs": [],
   "source": [
    "x=range(0,10)\n",
    "xslider = widgets.FloatSlider(value=0.,step=1.,max=10.0,description='Range')\n",
    "fig = plt.figure(1,figsize=(15,4),clear=True)\n",
    "plt.plot(x)\n",
    "plt.show()\n",
    "print(fig.number)\n",
    "@interact(x=xslider)\n",
    "def plot_func(x):\n",
    "    f2=plt.figure(1)\n",
    "    #print(f2)\n",
    "    plt.vlines(x,0,10,linestyles='solid',colors='red')\n",
    "    plt.xlim(0,10)\n",
    "    plt.draw()\n"
   ]
  },
  {
   "cell_type": "code",
   "execution_count": null,
   "metadata": {},
   "outputs": [],
   "source": [
    "# tracking change with the observe mechanism\n",
    "# only works in widget backend\n",
    "#%matplotlib inline\n",
    "fig,ax = plt.subplots()\n",
    "line, = ax.plot(5*np.sin(range(1,100)))\n",
    "def show_change(change):\n",
    "    #print(change.new)\n",
    "    # [l.remove() for l in ax.lines]\n",
    "    line.set_ydata(change.new*np.sin(range(1,100)))\n",
    "    fig.canvas.draw()\n",
    "    #plt.show()\n",
    "\n",
    "int_slider = widgets.IntSlider(value=4, min=0, max=8)\n",
    "int_slider.observe(show_change, 'value')\n",
    "int_slider.value = 5\n",
    "int_slider"
   ]
  },
  {
   "cell_type": "code",
   "execution_count": null,
   "metadata": {},
   "outputs": [],
   "source": []
  },
  {
   "cell_type": "code",
   "execution_count": null,
   "metadata": {},
   "outputs": [],
   "source": [
    "# set up plot\n",
    "fig, ax = plt.subplots(figsize=(6, 4))\n",
    "ax.set_ylim([-4, 4])\n",
    "ax.grid(True)\n",
    " \n",
    "# generate x values\n",
    "x = np.linspace(0, 2 * np.pi, 100)\n",
    " \n",
    "def my_sine(x, w, amp, phi):\n",
    "    \"\"\"\n",
    "    Return a sine for x with angular frequeny w and amplitude amp.\n",
    "    \"\"\"\n",
    "    return amp*np.sin(w * (x-phi))\n",
    "\n",
    "\n",
    "@interact(w=(0, 10, 1), amp=(0, 4, .1), phi=(0, 2*np.pi+0.01, 0.01))\n",
    "def update(w = 1.0, amp=1, phi=0):\n",
    "    \"\"\"Remove old lines from plot and plot new one\"\"\"\n",
    "    [l.remove() for l in ax.lines]\n",
    "    ax.plot(x, my_sine(x, w, amp, phi), color='C0')\n",
    "    #plt.show()"
   ]
  },
  {
   "cell_type": "code",
   "execution_count": null,
   "metadata": {},
   "outputs": [],
   "source": [
    "rec_play = widgets.Dropdown(\n",
    "    options={'REC','PLAY'},\n",
    "    description='ACTION',\n",
    ")"
   ]
  },
  {
   "cell_type": "code",
   "execution_count": null,
   "metadata": {},
   "outputs": [],
   "source": [
    "progress_bar = widgets.IntProgress(\n",
    "    value=5,\n",
    "    min=0, max=10,step=1,\n",
    "    description='Loading',\n",
    "    bar_style='',\n",
    "    orientation='horizontal'\n",
    "    )\n",
    "progress_bar"
   ]
  },
  {
   "cell_type": "code",
   "execution_count": null,
   "metadata": {},
   "outputs": [],
   "source": [
    "# this is probably somewhat cleaner code from the previous\n",
    "button1 = widgets.Button(description=\"B1\")\n",
    "output = widgets.Output()\n",
    "ipd.display(button1,output)\n",
    "def printMe(b):\n",
    "    with output:\n",
    "        print(\"Printing something\")\n",
    "button1.on_click(printMe)\n",
    "#button1"
   ]
  },
  {
   "cell_type": "code",
   "execution_count": null,
   "metadata": {},
   "outputs": [],
   "source": [
    "@interact_manual( m=(-2.,2.), b=(-3,3,0.5))\n",
    "def f(m,b):\n",
    "    plt.figure(2)\n",
    "    x = np.linspace(-10,10,num=1000)\n",
    "    plt.plot(x, m*x+b )\n",
    "    plt.ylim(-5,5)\n",
    "    plt.show()"
   ]
  },
  {
   "cell_type": "code",
   "execution_count": null,
   "metadata": {},
   "outputs": [],
   "source": []
  },
  {
   "cell_type": "code",
   "execution_count": null,
   "metadata": {},
   "outputs": [],
   "source": [
    "\n"
   ]
  },
  {
   "cell_type": "code",
   "execution_count": null,
   "metadata": {},
   "outputs": [],
   "source": [
    "%matplotlib widget\n",
    "# set up plot\n",
    "fig, ax = plt.subplots(figsize=(6, 4))\n",
    "ax.set_ylim([-4, 4])\n",
    "ax.grid(True)\n",
    "\n",
    "# generate x values\n",
    "x = np.linspace(0, 2 * np.pi, 100)\n",
    "\n",
    "\n",
    "def my_sine(x, w, amp, phi):\n",
    "    \"\"\"\n",
    "    Return a sine for x with angular frequeny w and amplitude amp.\n",
    "    \"\"\"\n",
    "    return amp*np.sin(w * (x-phi))\n",
    "\n",
    "\n",
    "@widgets.interact(w=(0, 10, 1), amp=(0, 4, .1), phi=(0, 2*np.pi+0.01, 0.01))\n",
    "def update(w = 1.0, amp=1, phi=0):\n",
    "    \"\"\"Remove old lines from plot and plot new one\"\"\"\n",
    "    \"\"\"As you plot again each time the color of the line goes through its normal sequence \"\"\"\n",
    "    [l.remove() for l in ax.lines]\n",
    "    ax.plot(x, my_sine(x, w, amp, phi))"
   ]
  },
  {
   "cell_type": "code",
   "execution_count": null,
   "metadata": {},
   "outputs": [],
   "source": [
    "%matplotlib widget\n",
    "# set up plot\n",
    "fig, ax = plt.subplots(figsize=(6, 4))\n",
    "ax.set_ylim([-4, 4])\n",
    "ax.grid(True)\n",
    "\n",
    "# generate x values\n",
    "x = np.linspace(0, 2 * np.pi, 100)\n",
    "line, = ax.plot(x, my_sine(x, 0, 0, 0))\n",
    "\n",
    "def my_sine(x, w, amp, phi):\n",
    "    \"\"\"\n",
    "    Return a sine for x with angular frequeny w and amplitude amp.\n",
    "    \"\"\"\n",
    "    return amp*np.sin(w * (x-phi))\n",
    "\n",
    "\n",
    "@widgets.interact(w=(0, 10, 1), amp=(0, 4, .1), phi=(0, 2*np.pi+0.01, 0.01))\n",
    "def update(w = 1.0, amp=1, phi=0):\n",
    "    \"\"\"Remove old lines from plot and plot new one\"\"\"\n",
    "    \"\"\"As you plot again each time the color of the line goes through its normal sequence \"\"\"\n",
    "    newline = my_sine(x, w, amp, phi)\n",
    "    ax.set_ydata(newline)"
   ]
  },
  {
   "cell_type": "code",
   "execution_count": null,
   "metadata": {},
   "outputs": [],
   "source": []
  }
 ],
 "metadata": {
  "kernelspec": {
   "display_name": "Python 3",
   "language": "python",
   "name": "python3"
  },
  "language_info": {
   "codemirror_mode": {
    "name": "ipython",
    "version": 3
   },
   "file_extension": ".py",
   "mimetype": "text/x-python",
   "name": "python",
   "nbconvert_exporter": "python",
   "pygments_lexer": "ipython3",
   "version": "3.8.3"
  }
 },
 "nbformat": 4,
 "nbformat_minor": 4
}
