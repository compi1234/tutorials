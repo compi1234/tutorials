{
 "cells": [
  {
   "cell_type": "code",
   "execution_count": 1,
   "metadata": {
    "tags": [
     "nbconvert-hide"
    ]
   },
   "outputs": [],
   "source": [
    "# Notebook with ipywidget examples\n",
    "#\n",
    "# DVC - 24/11/2020\n",
    "#\n",
    "# Dependencies:\n",
    "# - ipywidgets, Ipython.display, numpy\n",
    "#\n",
    "# Note: I'm using a code cell such that there is no output generated\n",
    "#       Tried to add the nbconvert-hide tag, but that is not enough"
   ]
  },
  {
   "cell_type": "code",
   "execution_count": null,
   "metadata": {},
   "outputs": [],
   "source": []
  },
  {
   "cell_type": "markdown",
   "metadata": {},
   "source": [
    "# Introduction to ipywidgets\n",
    "- overview of the basic widgets and stylings\n",
    "- a simple guessing game putting as a demo app"
   ]
  },
  {
   "cell_type": "markdown",
   "metadata": {},
   "source": [
    "### The most basic slider"
   ]
  },
  {
   "cell_type": "code",
   "execution_count": 2,
   "metadata": {},
   "outputs": [],
   "source": [
    "import ipywidgets as widgets\n",
    "from ipywidgets import interact, interact_manual, interactive\n",
    "import IPython.display as ipd\n",
    "import numpy as np"
   ]
  },
  {
   "cell_type": "code",
   "execution_count": 3,
   "metadata": {},
   "outputs": [
    {
     "data": {
      "application/vnd.jupyter.widget-view+json": {
       "model_id": "3c1eeaea5cc747879d15fdc4849efcd6",
       "version_major": 2,
       "version_minor": 0
      },
      "text/plain": [
       "IntSlider(value=0, max=20)"
      ]
     },
     "metadata": {},
     "output_type": "display_data"
    }
   ],
   "source": [
    "# widget1: integer slider\n",
    "slider1 = widgets.IntSlider(max=20)\n",
    "ipd.display(slider1)\n",
    "def my_func(x):\n",
    "    print(2*x)"
   ]
  },
  {
   "cell_type": "code",
   "execution_count": 4,
   "metadata": {
    "scrolled": true
   },
   "outputs": [],
   "source": [
    "# The code below works as expected in Jupyter Notebook,\n",
    "#    but not in Jupyter lab !, rendering in voila, ...\n",
    "# button1 = widgets.Button(description=\"B1\")\n",
    "#\n",
    "# def printMe(b):\n",
    "#        print(\"Printing something\")\n",
    "# button1.on_click(printMe)\n",
    "# button1"
   ]
  },
  {
   "cell_type": "markdown",
   "metadata": {},
   "source": [
    "### A button  ... that prints"
   ]
  },
  {
   "cell_type": "code",
   "execution_count": 5,
   "metadata": {},
   "outputs": [
    {
     "data": {
      "application/vnd.jupyter.widget-view+json": {
       "model_id": "5b5a31829bee4f52b94e9979655b63dd",
       "version_major": 2,
       "version_minor": 0
      },
      "text/plain": [
       "Button(description='Click me to Print', style=ButtonStyle())"
      ]
     },
     "metadata": {},
     "output_type": "display_data"
    },
    {
     "data": {
      "application/vnd.jupyter.widget-view+json": {
       "model_id": "59fdafdbd72b4012a124e9634a69d5c9",
       "version_major": 2,
       "version_minor": 0
      },
      "text/plain": [
       "Output()"
      ]
     },
     "metadata": {},
     "output_type": "display_data"
    }
   ],
   "source": [
    "# simple button, but sending the output via output widget\n",
    "button1b = widgets.Button(description=\"Click me to Print\")\n",
    "output1 = widgets.Output()\n",
    "ipd.display(button1b,output1)\n",
    "def printMe(b):\n",
    "    with output1:\n",
    "        print(\"Printed something\")\n",
    "button1b.on_click(printMe)\n",
    "#button1b"
   ]
  },
  {
   "cell_type": "markdown",
   "metadata": {},
   "source": [
    "### A textbox  ... get's printed n times "
   ]
  },
  {
   "cell_type": "code",
   "execution_count": 6,
   "metadata": {},
   "outputs": [
    {
     "data": {
      "application/vnd.jupyter.widget-view+json": {
       "model_id": "54c05c23fe5744e1ab8c1ced64db4178",
       "version_major": 2,
       "version_minor": 0
      },
      "text/plain": [
       "interactive(children=(Text(value='', description='text'), IntSlider(value=2, description='times', max=5), Outp…"
      ]
     },
     "metadata": {},
     "output_type": "display_data"
    }
   ],
   "source": [
    "# widget 3: printing text\n",
    "@interact( text='', times=(0,5) )\n",
    "def printIt(text,times):\n",
    "    print( text * times )"
   ]
  },
  {
   "cell_type": "markdown",
   "metadata": {},
   "source": [
    "### A progress bar ...  counts your clicks"
   ]
  },
  {
   "cell_type": "code",
   "execution_count": 7,
   "metadata": {},
   "outputs": [
    {
     "data": {
      "application/vnd.jupyter.widget-view+json": {
       "model_id": "8ab9dcd30fd44822af75b5f476a2f45d",
       "version_major": 2,
       "version_minor": 0
      },
      "text/plain": [
       "HBox(children=(Button(description='add one ... ', style=ButtonStyle()), IntProgress(value=0, bar_style='succes…"
      ]
     },
     "metadata": {},
     "output_type": "display_data"
    }
   ],
   "source": [
    "progress_bar = widgets.IntProgress(\n",
    "    value=0,\n",
    "    min=0, max=10,step=1,\n",
    "    description='Counting',\n",
    "    bar_style='success',\n",
    "    orientation='horizontal'\n",
    "    )\n",
    "btn_add = widgets.Button( description= 'add one ... ' )\n",
    "\n",
    "def AddOne(b):\n",
    "    progress_bar.value += 1\n",
    "    if progress_bar.value == 10:\n",
    "        progress_bar.bar_style=''\n",
    "    elif progress_bar.value % 2 != 0:\n",
    "        progress_bar.bar_style='danger'\n",
    "    else:\n",
    "        progress_bar.bar_style='success'\n",
    "btn_add.on_click(AddOne)\n",
    "\n",
    "widgets.HBox([btn_add, progress_bar])"
   ]
  },
  {
   "cell_type": "markdown",
   "metadata": {},
   "source": [
    "### A dropdown menu ... doesn't do anything here"
   ]
  },
  {
   "cell_type": "code",
   "execution_count": 8,
   "metadata": {},
   "outputs": [
    {
     "data": {
      "application/vnd.jupyter.widget-view+json": {
       "model_id": "a19cc1f78b8e4eef82b2571f8c2bf2dd",
       "version_major": 2,
       "version_minor": 0
      },
      "text/plain": [
       "Dropdown(description='ACTION', options=('PLAY', 'REC'), value='PLAY')"
      ]
     },
     "metadata": {},
     "output_type": "display_data"
    }
   ],
   "source": [
    "rec_play = widgets.Dropdown(\n",
    "    options={'REC','PLAY'},\n",
    "    description='ACTION',\n",
    ")\n",
    "rec_play"
   ]
  },
  {
   "cell_type": "markdown",
   "metadata": {},
   "source": [
    "### Linking widgets together with the Play widget"
   ]
  },
  {
   "cell_type": "code",
   "execution_count": 9,
   "metadata": {},
   "outputs": [
    {
     "data": {
      "application/vnd.jupyter.widget-view+json": {
       "model_id": "fc7232763b2441c2aee9e7f8b020ec64",
       "version_major": 2,
       "version_minor": 0
      },
      "text/plain": [
       "HBox(children=(Play(value=50, description='Press play', interval=1000), IntSlider(value=0)))"
      ]
     },
     "metadata": {},
     "output_type": "display_data"
    }
   ],
   "source": [
    "# widget2: animation by Play\n",
    "play2 = widgets.Play(\n",
    "    interval=1000, # interval in msec between animation frame\n",
    "    value=50,\n",
    "    min=0,\n",
    "    max=100,\n",
    "    step=1,\n",
    "    description=\"Press play\",\n",
    "    disabled=False\n",
    ")\n",
    "slider2 = widgets.IntSlider()\n",
    "widgets.jslink((play2, 'value'), (slider2, 'value'))\n",
    "widgets.HBox([play2, slider2])"
   ]
  },
  {
   "cell_type": "markdown",
   "metadata": {},
   "source": [
    "___\n",
    "### Simple App: \n",
    "The outputs are displayed in the output widget and can be cleared as wished\n",
    "___"
   ]
  },
  {
   "cell_type": "code",
   "execution_count": 10,
   "metadata": {},
   "outputs": [
    {
     "data": {
      "application/vnd.jupyter.widget-view+json": {
       "model_id": "86dbe338f87744edba1f4e04a951660c",
       "version_major": 2,
       "version_minor": 0
      },
      "text/plain": [
       "HBox(children=(VBox(children=(Label(value='Controls'), Button(description='button 1', style=ButtonStyle()), Bu…"
      ]
     },
     "metadata": {},
     "output_type": "display_data"
    }
   ],
   "source": [
    "# compose your app of a few controls and an output widget\n",
    "# beautify by putting them all in boxes\n",
    "def make_box_layout():\n",
    "     return widgets.Layout(\n",
    "        border='solid 1px black',\n",
    "        margin='0px 10px 10px 0px',\n",
    "        padding='5px 5px 5px 5px'\n",
    "     )\n",
    "\n",
    "b1 = widgets.Button(description='button 1')\n",
    "b2 = widgets.Button(description='button 2')\n",
    "b3 = widgets.Button(description='CLEAR')\n",
    "b3.style.button_color = 'red'\n",
    "\n",
    "vbox1 = widgets.VBox([widgets.Label('Controls'), b1, b2])\n",
    "vbox2 = widgets.VBox([widgets.Label('CTRL-CLEAR'), b3 ])\n",
    "vbox1.layout = make_box_layout()\n",
    "vbox2.layout = make_box_layout()\n",
    "\n",
    "screen1 = widgets.Output()\n",
    "screen1.layout = make_box_layout()\n",
    "screen1.layout.width='200px'\n",
    "screen2 = widgets.Output()\n",
    "screen2.layout = make_box_layout()\n",
    "screen2.layout.width='200px'\n",
    "\n",
    "def b1_clicked(b):\n",
    "    with screen1:\n",
    "        print(\"Button 1 clicked.\")\n",
    "b1.on_click(b1_clicked)\n",
    "def b2_clicked(b):\n",
    "    with screen2:\n",
    "        print(\"Button 2 clicked.\")\n",
    "b2.on_click(b2_clicked)\n",
    "def b3_clicked(b):\n",
    "    with screen1:\n",
    "        ipd.clear_output()\n",
    "    with screen2:\n",
    "        ipd.clear_output()\n",
    "b3.on_click(b3_clicked) \n",
    "\n",
    "myapp = widgets.HBox([vbox1, vbox2,screen1,screen2])\n",
    "myapp"
   ]
  },
  {
   "cell_type": "markdown",
   "metadata": {},
   "source": [
    "---\n",
    "### GAME:  Beat the Bot (guessing game)\n",
    "The bot learns from your previous clicking behavior   \n",
    "Just try to beat him   \n",
    "Have you found the optimum strategy\n",
    "\n",
    "-----"
   ]
  },
  {
   "cell_type": "code",
   "execution_count": 11,
   "metadata": {},
   "outputs": [],
   "source": [
    "# some globals as needed\n",
    "global user_history\n",
    "user_history = [1,0]\n",
    "target_score = 5\n",
    "\n",
    "#buttons\n",
    "btn0 = widgets.Button( description= '0' )\n",
    "btn1 = widgets.Button( description= '1' )\n",
    "btnS = widgets.Button( description= 'START' )\n",
    "\n",
    "def click_zero(b):\n",
    "    update_game(0)\n",
    "btn0.on_click( click_zero )\n",
    "def click_one(b):\n",
    "    update_game(1)\n",
    "btn1.on_click( click_one )\n",
    "def click_start(b):\n",
    "    update_game(0,start=True)\n",
    "btnS.on_click( click_start )\n",
    "btn0.disabled = True\n",
    "btn1.disabled = True\n",
    "btn0.button_style ='info'\n",
    "btn1.button_style ='info'\n",
    "btnS.button_style ='warning'\n",
    "# score board\n",
    "user_score = widgets.IntProgress(\n",
    "    value=0,\n",
    "    min=0, max=target_score,step=1,\n",
    "    description='You',\n",
    "    bar_style='success',\n",
    "    orientation='horizontal'\n",
    "    )\n",
    "bot_score = widgets.IntProgress(\n",
    "    value=0,\n",
    "    min=0, max=target_score,step=1,\n",
    "    description='Bot',\n",
    "    bar_style='danger',\n",
    "    orientation='horizontal'\n",
    "    )\n",
    "scoreboard= widgets.VBox((user_score,bot_score))\n",
    "final_msg = widgets.HTML(\"<h1 style='color:green'> You win </h1>\")\n",
    "final_msg.layout.visibility = \"hidden\"\n",
    "# layout\n",
    "game = widgets.VBox( ( widgets.HBox((scoreboard,final_msg)),\n",
    "                   widgets.HBox((btn0,btn1,btnS))\n",
    "             ))"
   ]
  },
  {
   "cell_type": "code",
   "execution_count": 12,
   "metadata": {},
   "outputs": [],
   "source": [
    "#\n",
    "# game rules\n",
    "#\n",
    "# note only user_history had to be defined as a global\n",
    "# all widgets behave by nature as such\n",
    "\n",
    "def update_game(user_choice,start=False):\n",
    "    global user_history\n",
    "\n",
    "    if( start ):\n",
    "        user_history = [1,0]\n",
    "        final_msg.value = \"<h1 style='color:green'> You win </h1>\"\n",
    "        final_msg.layout.visibility = \"hidden\"\n",
    "        user_score.value = 0\n",
    "        bot_score.value = 0\n",
    "        btn0.disabled = False\n",
    "        btn1.disabled = False\n",
    "        btnS.disabled = True\n",
    "        btnS.button_style = ''\n",
    "        return\n",
    "    prob = sum(user_history)/len(user_history)\n",
    "    comp_choice = np.random.binomial(1,prob,1)[0]\n",
    "    user_history.append( user_choice )\n",
    "    # print(\"sequence length: \",len(user_history)-2)\n",
    "    if comp_choice == user_choice:\n",
    "        bot_score.value += 1\n",
    "    else:\n",
    "        user_score.value += 1\n",
    "    if user_score.value == target_score or bot_score.value == target_score:\n",
    "        if bot_score.value == target_score:\n",
    "            final_msg.value = \"<h1 style='color:red'>Game Over</h1>\"\n",
    "        final_msg.layout.visibility = \"visible\"\n",
    "        btn0.disabled = True\n",
    "        btn1.disabled = True\n",
    "        btnS.disabled = False\n",
    "        btnS.button_style = 'warning'\n",
    "    return"
   ]
  },
  {
   "cell_type": "code",
   "execution_count": 13,
   "metadata": {},
   "outputs": [
    {
     "data": {
      "application/vnd.jupyter.widget-view+json": {
       "model_id": "7a67d3a209bc4428b719844c3c3f550c",
       "version_major": 2,
       "version_minor": 0
      },
      "text/plain": [
       "VBox(children=(HBox(children=(VBox(children=(IntProgress(value=0, bar_style='success', description='You', max=…"
      ]
     },
     "metadata": {},
     "output_type": "display_data"
    }
   ],
   "source": [
    "game"
   ]
  },
  {
   "cell_type": "code",
   "execution_count": null,
   "metadata": {},
   "outputs": [],
   "source": []
  }
 ],
 "metadata": {
  "kernelspec": {
   "display_name": "Python 3",
   "language": "python",
   "name": "python3"
  },
  "language_info": {
   "codemirror_mode": {
    "name": "ipython",
    "version": 3
   },
   "file_extension": ".py",
   "mimetype": "text/x-python",
   "name": "python",
   "nbconvert_exporter": "python",
   "pygments_lexer": "ipython3",
   "version": "3.8.3"
  },
  "widgets": {
   "application/vnd.jupyter.widget-state+json": {
    "state": {
     "070ffe9648834fb5a8930f66488d9f4b": {
      "model_module": "@jupyter-widgets/base",
      "model_module_version": "1.2.0",
      "model_name": "LayoutModel",
      "state": {}
     },
     "0804557e40064f448ca7e7dfd6b598b4": {
      "model_module": "@jupyter-widgets/base",
      "model_module_version": "1.2.0",
      "model_name": "LayoutModel",
      "state": {}
     },
     "08b17e95225343148b7b3710238d702c": {
      "model_module": "@jupyter-widgets/base",
      "model_module_version": "1.2.0",
      "model_name": "LayoutModel",
      "state": {}
     },
     "0ad7f7a0e23845578780303d2853ea86": {
      "model_module": "@jupyter-widgets/controls",
      "model_module_version": "1.5.0",
      "model_name": "DescriptionStyleModel",
      "state": {
       "description_width": ""
      }
     },
     "0b39ee3e4d704aada6f35217ee3a86d5": {
      "model_module": "@jupyter-widgets/controls",
      "model_module_version": "1.5.0",
      "model_name": "DescriptionStyleModel",
      "state": {
       "description_width": ""
      }
     },
     "0e916c02878f4d77ba365a1d2bd2d5bc": {
      "model_module": "@jupyter-widgets/controls",
      "model_module_version": "1.5.0",
      "model_name": "ButtonModel",
      "state": {
       "button_style": "warning",
       "description": "START",
       "layout": "IPY_MODEL_616c8fa510d24b6087f693259e0b669a",
       "style": "IPY_MODEL_19ab8f2cda3f437786542715f3636a72"
      }
     },
     "0f85c0d5ee814c3f8d9e983eb6c87900": {
      "model_module": "@jupyter-widgets/controls",
      "model_module_version": "1.5.0",
      "model_name": "DescriptionStyleModel",
      "state": {
       "description_width": ""
      }
     },
     "1442b7eac93240c6a56290330eb47f8c": {
      "model_module": "@jupyter-widgets/base",
      "model_module_version": "1.2.0",
      "model_name": "LayoutModel",
      "state": {}
     },
     "1822ddba17684157a6f3ea8263498c7b": {
      "model_module": "@jupyter-widgets/base",
      "model_module_version": "1.2.0",
      "model_name": "LayoutModel",
      "state": {}
     },
     "197cf912225345fa884025db9209a0d7": {
      "model_module": "@jupyter-widgets/base",
      "model_module_version": "1.2.0",
      "model_name": "LayoutModel",
      "state": {}
     },
     "19ab8f2cda3f437786542715f3636a72": {
      "model_module": "@jupyter-widgets/controls",
      "model_module_version": "1.5.0",
      "model_name": "ButtonStyleModel",
      "state": {}
     },
     "1af29b4e57b544958b0a8212cce9a42b": {
      "model_module": "@jupyter-widgets/output",
      "model_module_version": "1.0.0",
      "model_name": "OutputModel",
      "state": {
       "layout": "IPY_MODEL_4352b287f97b4e66bbd4f8cd7f9266ba"
      }
     },
     "1bd846a3449f4ebeb4305845d8061771": {
      "model_module": "@jupyter-widgets/base",
      "model_module_version": "1.2.0",
      "model_name": "LayoutModel",
      "state": {}
     },
     "1dbc756a86cc4a7aa639f03ed88b83ac": {
      "model_module": "@jupyter-widgets/base",
      "model_module_version": "1.2.0",
      "model_name": "LayoutModel",
      "state": {}
     },
     "1e94947cfded44c0933bd609f8958278": {
      "model_module": "@jupyter-widgets/controls",
      "model_module_version": "1.5.0",
      "model_name": "LabelModel",
      "state": {
       "layout": "IPY_MODEL_68da92c7ac7f4fa0abd78dd1dbb517fd",
       "style": "IPY_MODEL_6f1bb44a6ee640298b26bdb8046ec1f2",
       "value": "Controls"
      }
     },
     "266e044455844c45bf6f9b543d96c43e": {
      "model_module": "@jupyter-widgets/controls",
      "model_module_version": "1.5.0",
      "model_name": "IntProgressModel",
      "state": {
       "bar_style": "danger",
       "description": "Bot",
       "layout": "IPY_MODEL_ef99be7bae7f45deba0cf2eac130ac0a",
       "max": 5,
       "style": "IPY_MODEL_337b5bcfaf514efb8ca7699833bfb7aa"
      }
     },
     "2ddc7864ce0d411baf749798f1a526ca": {
      "model_module": "@jupyter-widgets/controls",
      "model_module_version": "1.5.0",
      "model_name": "VBoxModel",
      "state": {
       "children": [
        "IPY_MODEL_503a9e96325d4256800eea34892c158b",
        "IPY_MODEL_985d9a829db24e61a7e1be4d80c3aede"
       ],
       "layout": "IPY_MODEL_eb244cfa43cf48eab5c359e4fb251602"
      }
     },
     "2fe563804c3442d89c09d9b63cfe575d": {
      "model_module": "@jupyter-widgets/base",
      "model_module_version": "1.2.0",
      "model_name": "LayoutModel",
      "state": {}
     },
     "30094379ae4e46079267c5c37984c8fa": {
      "model_module": "@jupyter-widgets/output",
      "model_module_version": "1.0.0",
      "model_name": "OutputModel",
      "state": {
       "layout": "IPY_MODEL_d3e557615a314889830888c910850f14",
       "outputs": [
        {
         "name": "stdout",
         "output_type": "stream",
         "text": "\n"
        }
       ]
      }
     },
     "337b5bcfaf514efb8ca7699833bfb7aa": {
      "model_module": "@jupyter-widgets/controls",
      "model_module_version": "1.5.0",
      "model_name": "ProgressStyleModel",
      "state": {
       "description_width": ""
      }
     },
     "3579eb9531bc4cc5ba0ea74f120c6e6a": {
      "model_module": "@jupyter-widgets/base",
      "model_module_version": "1.2.0",
      "model_name": "LayoutModel",
      "state": {}
     },
     "38070861a5a34e689275153797d07f2a": {
      "model_module": "@jupyter-widgets/base",
      "model_module_version": "1.2.0",
      "model_name": "LayoutModel",
      "state": {}
     },
     "3a5b8ea3909a4da5a866f460c95a1c15": {
      "model_module": "@jupyter-widgets/controls",
      "model_module_version": "1.5.0",
      "model_name": "ButtonStyleModel",
      "state": {
       "button_color": "red"
      }
     },
     "3c1eeaea5cc747879d15fdc4849efcd6": {
      "model_module": "@jupyter-widgets/controls",
      "model_module_version": "1.5.0",
      "model_name": "IntSliderModel",
      "state": {
       "layout": "IPY_MODEL_070ffe9648834fb5a8930f66488d9f4b",
       "max": 20,
       "style": "IPY_MODEL_471e556690b44b37804529544a0eb494"
      }
     },
     "3d6f60dcd08446e1badc660cdff14484": {
      "model_module": "@jupyter-widgets/controls",
      "model_module_version": "1.5.0",
      "model_name": "ProgressStyleModel",
      "state": {
       "description_width": ""
      }
     },
     "40cfb520a75e45df99e8c3e1cda4a6f1": {
      "model_module": "@jupyter-widgets/controls",
      "model_module_version": "1.5.0",
      "model_name": "ButtonStyleModel",
      "state": {}
     },
     "4352b287f97b4e66bbd4f8cd7f9266ba": {
      "model_module": "@jupyter-widgets/base",
      "model_module_version": "1.2.0",
      "model_name": "LayoutModel",
      "state": {
       "border": "solid 1px black",
       "margin": "0px 10px 10px 0px",
       "padding": "5px 5px 5px 5px",
       "width": "200px"
      }
     },
     "4433d8f92efe412cab76f6041b1f5834": {
      "model_module": "@jupyter-widgets/controls",
      "model_module_version": "1.5.0",
      "model_name": "HTMLModel",
      "state": {
       "layout": "IPY_MODEL_8e027eef38904799846bce2abca2c3d1",
       "style": "IPY_MODEL_0ad7f7a0e23845578780303d2853ea86",
       "value": "<h1 style='color:green'> You win </h1>"
      }
     },
     "4483e67bda604b2da269a64b11b2d8b8": {
      "model_module": "@jupyter-widgets/base",
      "model_module_version": "1.2.0",
      "model_name": "LayoutModel",
      "state": {}
     },
     "44b73d5766ce4a85a039648f04d1578a": {
      "model_module": "@jupyter-widgets/controls",
      "model_module_version": "1.5.0",
      "model_name": "ButtonModel",
      "state": {
       "button_style": "info",
       "description": "0",
       "disabled": true,
       "layout": "IPY_MODEL_38070861a5a34e689275153797d07f2a",
       "style": "IPY_MODEL_50709b86137645f5acfebdffd5bf0fa2"
      }
     },
     "4663be625a38435f98fade282de73cef": {
      "model_module": "@jupyter-widgets/controls",
      "model_module_version": "1.5.0",
      "model_name": "ButtonStyleModel",
      "state": {}
     },
     "471e556690b44b37804529544a0eb494": {
      "model_module": "@jupyter-widgets/controls",
      "model_module_version": "1.5.0",
      "model_name": "SliderStyleModel",
      "state": {
       "description_width": ""
      }
     },
     "484f9e5967404a74a3a3330466c674ba": {
      "model_module": "@jupyter-widgets/base",
      "model_module_version": "1.2.0",
      "model_name": "LayoutModel",
      "state": {}
     },
     "4b3269b295ba4b32a52b6c84326bb867": {
      "model_module": "@jupyter-widgets/base",
      "model_module_version": "1.2.0",
      "model_name": "LayoutModel",
      "state": {
       "border": "solid 1px black",
       "margin": "0px 10px 10px 0px",
       "padding": "5px 5px 5px 5px"
      }
     },
     "4bb552237526499fb4ec6443f7eef417": {
      "model_module": "@jupyter-widgets/controls",
      "model_module_version": "1.5.0",
      "model_name": "TextModel",
      "state": {
       "description": "text",
       "layout": "IPY_MODEL_197cf912225345fa884025db9209a0d7",
       "style": "IPY_MODEL_ed64ec3cc71145c98d3fb3e3356d447f"
      }
     },
     "503a9e96325d4256800eea34892c158b": {
      "model_module": "@jupyter-widgets/controls",
      "model_module_version": "1.5.0",
      "model_name": "LabelModel",
      "state": {
       "layout": "IPY_MODEL_eb40bb74a8a4431d8ad31549411a506f",
       "style": "IPY_MODEL_0b39ee3e4d704aada6f35217ee3a86d5",
       "value": "CTRL-CLEAR"
      }
     },
     "50709b86137645f5acfebdffd5bf0fa2": {
      "model_module": "@jupyter-widgets/controls",
      "model_module_version": "1.5.0",
      "model_name": "ButtonStyleModel",
      "state": {}
     },
     "544bc3b9b9fe47bd8ca01e1960cd3090": {
      "model_module": "@jupyter-widgets/controls",
      "model_module_version": "1.5.0",
      "model_name": "LinkModel",
      "state": {
       "source": [
        "IPY_MODEL_ee5c496b077b40f78c9f45f78f7e2618",
        "value"
       ],
       "target": [
        "IPY_MODEL_93febccf507c410997a01a93d90e67b2",
        "value"
       ]
      }
     },
     "54c05c23fe5744e1ab8c1ced64db4178": {
      "model_module": "@jupyter-widgets/controls",
      "model_module_version": "1.5.0",
      "model_name": "VBoxModel",
      "state": {
       "_dom_classes": [
        "widget-interact"
       ],
       "children": [
        "IPY_MODEL_4bb552237526499fb4ec6443f7eef417",
        "IPY_MODEL_9f8f64a0d6e9476ebd02168ca89d223d",
        "IPY_MODEL_30094379ae4e46079267c5c37984c8fa"
       ],
       "layout": "IPY_MODEL_c77dabc850954a85bb42c9e5ff0c9302"
      }
     },
     "56aebfa6e41b407c9d6b4e2007dfe1dc": {
      "model_module": "@jupyter-widgets/base",
      "model_module_version": "1.2.0",
      "model_name": "LayoutModel",
      "state": {}
     },
     "58a38c444fbd4c9796a40423b2a92b8a": {
      "model_module": "@jupyter-widgets/base",
      "model_module_version": "1.2.0",
      "model_name": "LayoutModel",
      "state": {}
     },
     "59fdafdbd72b4012a124e9634a69d5c9": {
      "model_module": "@jupyter-widgets/output",
      "model_module_version": "1.0.0",
      "model_name": "OutputModel",
      "state": {
       "layout": "IPY_MODEL_c5ca799c8e08421fbdc680c9a7e68db8"
      }
     },
     "5aaec83f22e74d1286ac870aefea417c": {
      "model_module": "@jupyter-widgets/output",
      "model_module_version": "1.0.0",
      "model_name": "OutputModel",
      "state": {
       "layout": "IPY_MODEL_58a38c444fbd4c9796a40423b2a92b8a",
       "outputs": [
        {
         "name": "stdout",
         "output_type": "stream",
         "text": "Printed something\nPrinted something\nPrinted something\n"
        }
       ]
      }
     },
     "5b5a31829bee4f52b94e9979655b63dd": {
      "model_module": "@jupyter-widgets/controls",
      "model_module_version": "1.5.0",
      "model_name": "ButtonModel",
      "state": {
       "description": "Click me to Print",
       "layout": "IPY_MODEL_ba22a2e78ea74e4a895e60a795cda9ac",
       "style": "IPY_MODEL_4663be625a38435f98fade282de73cef"
      }
     },
     "616c8fa510d24b6087f693259e0b669a": {
      "model_module": "@jupyter-widgets/base",
      "model_module_version": "1.2.0",
      "model_name": "LayoutModel",
      "state": {}
     },
     "68da92c7ac7f4fa0abd78dd1dbb517fd": {
      "model_module": "@jupyter-widgets/base",
      "model_module_version": "1.2.0",
      "model_name": "LayoutModel",
      "state": {}
     },
     "6986a28213284562965896396019761f": {
      "model_module": "@jupyter-widgets/base",
      "model_module_version": "1.2.0",
      "model_name": "LayoutModel",
      "state": {}
     },
     "6dca6d15b0f8496da22feec5f58bec4d": {
      "model_module": "@jupyter-widgets/controls",
      "model_module_version": "1.5.0",
      "model_name": "ButtonStyleModel",
      "state": {}
     },
     "6ddb0330f6224d65999025fd9bcb474d": {
      "model_module": "@jupyter-widgets/base",
      "model_module_version": "1.2.0",
      "model_name": "LayoutModel",
      "state": {}
     },
     "6ecb39c16784441d9da56e1a01b292df": {
      "model_module": "@jupyter-widgets/controls",
      "model_module_version": "1.5.0",
      "model_name": "ButtonStyleModel",
      "state": {}
     },
     "6f1bb44a6ee640298b26bdb8046ec1f2": {
      "model_module": "@jupyter-widgets/controls",
      "model_module_version": "1.5.0",
      "model_name": "DescriptionStyleModel",
      "state": {
       "description_width": ""
      }
     },
     "784257b5aefd411a989941cb53c54f91": {
      "model_module": "@jupyter-widgets/output",
      "model_module_version": "1.0.0",
      "model_name": "OutputModel",
      "state": {
       "layout": "IPY_MODEL_b50a8670862542d18d1a03f715dfe2a7"
      }
     },
     "7a0bb5e21ca44ecfb64b16f9d1e646f8": {
      "model_module": "@jupyter-widgets/base",
      "model_module_version": "1.2.0",
      "model_name": "LayoutModel",
      "state": {}
     },
     "7a67d3a209bc4428b719844c3c3f550c": {
      "model_module": "@jupyter-widgets/controls",
      "model_module_version": "1.5.0",
      "model_name": "VBoxModel",
      "state": {
       "children": [
        "IPY_MODEL_ae3a3b6974e5418fbc59d4cd34db2bc5",
        "IPY_MODEL_83fc92db6f3d48d3bdacfe871bed7547"
       ],
       "layout": "IPY_MODEL_1dbc756a86cc4a7aa639f03ed88b83ac"
      }
     },
     "83b6c504a3b6482e9d3577001cefe33f": {
      "model_module": "@jupyter-widgets/controls",
      "model_module_version": "1.5.0",
      "model_name": "ButtonModel",
      "state": {
       "description": "button 2",
       "layout": "IPY_MODEL_1bd846a3449f4ebeb4305845d8061771",
       "style": "IPY_MODEL_96c7b7f244b649ebaaa148f4f5526c26"
      }
     },
     "83fc92db6f3d48d3bdacfe871bed7547": {
      "model_module": "@jupyter-widgets/controls",
      "model_module_version": "1.5.0",
      "model_name": "HBoxModel",
      "state": {
       "children": [
        "IPY_MODEL_44b73d5766ce4a85a039648f04d1578a",
        "IPY_MODEL_84cf9bb6b0774b9987cf932d038d4f55",
        "IPY_MODEL_0e916c02878f4d77ba365a1d2bd2d5bc"
       ],
       "layout": "IPY_MODEL_08b17e95225343148b7b3710238d702c"
      }
     },
     "84cf9bb6b0774b9987cf932d038d4f55": {
      "model_module": "@jupyter-widgets/controls",
      "model_module_version": "1.5.0",
      "model_name": "ButtonModel",
      "state": {
       "button_style": "info",
       "description": "1",
       "disabled": true,
       "layout": "IPY_MODEL_aaa628148b2146eaadcb5d5643ff4bad",
       "style": "IPY_MODEL_40cfb520a75e45df99e8c3e1cda4a6f1"
      }
     },
     "85cade34b65a4067a74c9ab87123f835": {
      "model_module": "@jupyter-widgets/controls",
      "model_module_version": "1.5.0",
      "model_name": "IntProgressModel",
      "state": {
       "bar_style": "success",
       "description": "You",
       "layout": "IPY_MODEL_7a0bb5e21ca44ecfb64b16f9d1e646f8",
       "max": 5,
       "style": "IPY_MODEL_8a8591b88b4a4f369da7cc5028a3d021"
      }
     },
     "86dbe338f87744edba1f4e04a951660c": {
      "model_module": "@jupyter-widgets/controls",
      "model_module_version": "1.5.0",
      "model_name": "HBoxModel",
      "state": {
       "children": [
        "IPY_MODEL_8bbc21e559ae485c88cd0f16128baa87",
        "IPY_MODEL_2ddc7864ce0d411baf749798f1a526ca",
        "IPY_MODEL_784257b5aefd411a989941cb53c54f91",
        "IPY_MODEL_1af29b4e57b544958b0a8212cce9a42b"
       ],
       "layout": "IPY_MODEL_3579eb9531bc4cc5ba0ea74f120c6e6a"
      }
     },
     "87d49da0a5cc4be8a31700d5f8c3c919": {
      "model_module": "@jupyter-widgets/controls",
      "model_module_version": "1.5.0",
      "model_name": "IntProgressModel",
      "state": {
       "bar_style": "success",
       "description": "Counting",
       "layout": "IPY_MODEL_c986bc19734243e3aa9023c7243e97af",
       "max": 10,
       "style": "IPY_MODEL_3d6f60dcd08446e1badc660cdff14484"
      }
     },
     "8a8591b88b4a4f369da7cc5028a3d021": {
      "model_module": "@jupyter-widgets/controls",
      "model_module_version": "1.5.0",
      "model_name": "ProgressStyleModel",
      "state": {
       "description_width": ""
      }
     },
     "8ab9dcd30fd44822af75b5f476a2f45d": {
      "model_module": "@jupyter-widgets/controls",
      "model_module_version": "1.5.0",
      "model_name": "HBoxModel",
      "state": {
       "children": [
        "IPY_MODEL_9b4af6d89c4145989cfe35753f6d975d",
        "IPY_MODEL_87d49da0a5cc4be8a31700d5f8c3c919"
       ],
       "layout": "IPY_MODEL_aba373dc27b6427d83bb1af36e75bd0f"
      }
     },
     "8bbc21e559ae485c88cd0f16128baa87": {
      "model_module": "@jupyter-widgets/controls",
      "model_module_version": "1.5.0",
      "model_name": "VBoxModel",
      "state": {
       "children": [
        "IPY_MODEL_1e94947cfded44c0933bd609f8958278",
        "IPY_MODEL_8d3cf89fa5c345a4a5fcc9a1b1684ff6",
        "IPY_MODEL_83b6c504a3b6482e9d3577001cefe33f"
       ],
       "layout": "IPY_MODEL_4b3269b295ba4b32a52b6c84326bb867"
      }
     },
     "8c64ef43395240fcb2cff76a523a7ea8": {
      "model_module": "@jupyter-widgets/controls",
      "model_module_version": "1.5.0",
      "model_name": "ButtonModel",
      "state": {
       "description": "Click me to Print",
       "layout": "IPY_MODEL_2fe563804c3442d89c09d9b63cfe575d",
       "style": "IPY_MODEL_6ecb39c16784441d9da56e1a01b292df"
      }
     },
     "8d3cf89fa5c345a4a5fcc9a1b1684ff6": {
      "model_module": "@jupyter-widgets/controls",
      "model_module_version": "1.5.0",
      "model_name": "ButtonModel",
      "state": {
       "description": "button 1",
       "layout": "IPY_MODEL_6986a28213284562965896396019761f",
       "style": "IPY_MODEL_6dca6d15b0f8496da22feec5f58bec4d"
      }
     },
     "8e027eef38904799846bce2abca2c3d1": {
      "model_module": "@jupyter-widgets/base",
      "model_module_version": "1.2.0",
      "model_name": "LayoutModel",
      "state": {
       "visibility": "hidden"
      }
     },
     "8f49393e42e645e7ab96de9d12c921a8": {
      "model_module": "@jupyter-widgets/controls",
      "model_module_version": "1.5.0",
      "model_name": "ButtonStyleModel",
      "state": {}
     },
     "93febccf507c410997a01a93d90e67b2": {
      "model_module": "@jupyter-widgets/controls",
      "model_module_version": "1.5.0",
      "model_name": "IntSliderModel",
      "state": {
       "layout": "IPY_MODEL_a6e041e3a338488f95b8bae732c9013a",
       "style": "IPY_MODEL_ed8f3424932b44fc887cc0868a32afe6",
       "value": 50
      }
     },
     "96c7b7f244b649ebaaa148f4f5526c26": {
      "model_module": "@jupyter-widgets/controls",
      "model_module_version": "1.5.0",
      "model_name": "ButtonStyleModel",
      "state": {}
     },
     "985d9a829db24e61a7e1be4d80c3aede": {
      "model_module": "@jupyter-widgets/controls",
      "model_module_version": "1.5.0",
      "model_name": "ButtonModel",
      "state": {
       "description": "CLEAR",
       "layout": "IPY_MODEL_aa2a0add88ff4496ab0e0b9a746345c6",
       "style": "IPY_MODEL_3a5b8ea3909a4da5a866f460c95a1c15"
      }
     },
     "9b4af6d89c4145989cfe35753f6d975d": {
      "model_module": "@jupyter-widgets/controls",
      "model_module_version": "1.5.0",
      "model_name": "ButtonModel",
      "state": {
       "description": "add one ... ",
       "layout": "IPY_MODEL_ac10770ecb154ef4bef187c0168a1de5",
       "style": "IPY_MODEL_8f49393e42e645e7ab96de9d12c921a8"
      }
     },
     "9f8f64a0d6e9476ebd02168ca89d223d": {
      "model_module": "@jupyter-widgets/controls",
      "model_module_version": "1.5.0",
      "model_name": "IntSliderModel",
      "state": {
       "description": "times",
       "layout": "IPY_MODEL_6ddb0330f6224d65999025fd9bcb474d",
       "max": 5,
       "style": "IPY_MODEL_f5d5e63120c64c419ffa0fc3d1a29f8e",
       "value": 2
      }
     },
     "a19cc1f78b8e4eef82b2571f8c2bf2dd": {
      "model_module": "@jupyter-widgets/controls",
      "model_module_version": "1.5.0",
      "model_name": "DropdownModel",
      "state": {
       "_options_labels": [
        "PLAY",
        "REC"
       ],
       "description": "ACTION",
       "index": 0,
       "layout": "IPY_MODEL_484f9e5967404a74a3a3330466c674ba",
       "style": "IPY_MODEL_c311d0157d9d4d29b2fcafd571fac0be"
      }
     },
     "a49c9560e46047f29f8002075a43a997": {
      "model_module": "@jupyter-widgets/controls",
      "model_module_version": "1.5.0",
      "model_name": "VBoxModel",
      "state": {
       "children": [
        "IPY_MODEL_85cade34b65a4067a74c9ab87123f835",
        "IPY_MODEL_266e044455844c45bf6f9b543d96c43e"
       ],
       "layout": "IPY_MODEL_4483e67bda604b2da269a64b11b2d8b8"
      }
     },
     "a6e041e3a338488f95b8bae732c9013a": {
      "model_module": "@jupyter-widgets/base",
      "model_module_version": "1.2.0",
      "model_name": "LayoutModel",
      "state": {}
     },
     "aa2a0add88ff4496ab0e0b9a746345c6": {
      "model_module": "@jupyter-widgets/base",
      "model_module_version": "1.2.0",
      "model_name": "LayoutModel",
      "state": {}
     },
     "aaa628148b2146eaadcb5d5643ff4bad": {
      "model_module": "@jupyter-widgets/base",
      "model_module_version": "1.2.0",
      "model_name": "LayoutModel",
      "state": {}
     },
     "aba373dc27b6427d83bb1af36e75bd0f": {
      "model_module": "@jupyter-widgets/base",
      "model_module_version": "1.2.0",
      "model_name": "LayoutModel",
      "state": {}
     },
     "ac10770ecb154ef4bef187c0168a1de5": {
      "model_module": "@jupyter-widgets/base",
      "model_module_version": "1.2.0",
      "model_name": "LayoutModel",
      "state": {}
     },
     "ae3a3b6974e5418fbc59d4cd34db2bc5": {
      "model_module": "@jupyter-widgets/controls",
      "model_module_version": "1.5.0",
      "model_name": "HBoxModel",
      "state": {
       "children": [
        "IPY_MODEL_a49c9560e46047f29f8002075a43a997",
        "IPY_MODEL_4433d8f92efe412cab76f6041b1f5834"
       ],
       "layout": "IPY_MODEL_f699990e6efd4cbdbae9edcb4616705f"
      }
     },
     "b50a8670862542d18d1a03f715dfe2a7": {
      "model_module": "@jupyter-widgets/base",
      "model_module_version": "1.2.0",
      "model_name": "LayoutModel",
      "state": {
       "border": "solid 1px black",
       "margin": "0px 10px 10px 0px",
       "padding": "5px 5px 5px 5px",
       "width": "200px"
      }
     },
     "b5d78f73d29d45b2a032256cebdc7f1f": {
      "model_module": "@jupyter-widgets/controls",
      "model_module_version": "1.5.0",
      "model_name": "IntSliderModel",
      "state": {
       "layout": "IPY_MODEL_0804557e40064f448ca7e7dfd6b598b4",
       "max": 20,
       "style": "IPY_MODEL_f7b00a6ba1b54ca39e93e6fc5c59e9db"
      }
     },
     "ba22a2e78ea74e4a895e60a795cda9ac": {
      "model_module": "@jupyter-widgets/base",
      "model_module_version": "1.2.0",
      "model_name": "LayoutModel",
      "state": {}
     },
     "c311d0157d9d4d29b2fcafd571fac0be": {
      "model_module": "@jupyter-widgets/controls",
      "model_module_version": "1.5.0",
      "model_name": "DescriptionStyleModel",
      "state": {
       "description_width": ""
      }
     },
     "c5ca799c8e08421fbdc680c9a7e68db8": {
      "model_module": "@jupyter-widgets/base",
      "model_module_version": "1.2.0",
      "model_name": "LayoutModel",
      "state": {}
     },
     "c77dabc850954a85bb42c9e5ff0c9302": {
      "model_module": "@jupyter-widgets/base",
      "model_module_version": "1.2.0",
      "model_name": "LayoutModel",
      "state": {}
     },
     "c986bc19734243e3aa9023c7243e97af": {
      "model_module": "@jupyter-widgets/base",
      "model_module_version": "1.2.0",
      "model_name": "LayoutModel",
      "state": {}
     },
     "ca556c0d8b4c4ccfb6d87351040fe5e3": {
      "model_module": "@jupyter-widgets/base",
      "model_module_version": "1.2.0",
      "model_name": "LayoutModel",
      "state": {}
     },
     "d3e557615a314889830888c910850f14": {
      "model_module": "@jupyter-widgets/base",
      "model_module_version": "1.2.0",
      "model_name": "LayoutModel",
      "state": {}
     },
     "d99d6524ffc44f95bf5989fb59ab7245": {
      "model_module": "@jupyter-widgets/base",
      "model_module_version": "1.2.0",
      "model_name": "LayoutModel",
      "state": {}
     },
     "eb244cfa43cf48eab5c359e4fb251602": {
      "model_module": "@jupyter-widgets/base",
      "model_module_version": "1.2.0",
      "model_name": "LayoutModel",
      "state": {
       "border": "solid 1px black",
       "margin": "0px 10px 10px 0px",
       "padding": "5px 5px 5px 5px"
      }
     },
     "eb40bb74a8a4431d8ad31549411a506f": {
      "model_module": "@jupyter-widgets/base",
      "model_module_version": "1.2.0",
      "model_name": "LayoutModel",
      "state": {}
     },
     "ed64ec3cc71145c98d3fb3e3356d447f": {
      "model_module": "@jupyter-widgets/controls",
      "model_module_version": "1.5.0",
      "model_name": "DescriptionStyleModel",
      "state": {
       "description_width": ""
      }
     },
     "ed8f3424932b44fc887cc0868a32afe6": {
      "model_module": "@jupyter-widgets/controls",
      "model_module_version": "1.5.0",
      "model_name": "SliderStyleModel",
      "state": {
       "description_width": ""
      }
     },
     "ee5c496b077b40f78c9f45f78f7e2618": {
      "model_module": "@jupyter-widgets/controls",
      "model_module_version": "1.5.0",
      "model_name": "PlayModel",
      "state": {
       "description": "Press play",
       "interval": 1000,
       "layout": "IPY_MODEL_d99d6524ffc44f95bf5989fb59ab7245",
       "style": "IPY_MODEL_0f85c0d5ee814c3f8d9e983eb6c87900",
       "value": 50
      }
     },
     "ef99be7bae7f45deba0cf2eac130ac0a": {
      "model_module": "@jupyter-widgets/base",
      "model_module_version": "1.2.0",
      "model_name": "LayoutModel",
      "state": {}
     },
     "f5d5e63120c64c419ffa0fc3d1a29f8e": {
      "model_module": "@jupyter-widgets/controls",
      "model_module_version": "1.5.0",
      "model_name": "SliderStyleModel",
      "state": {
       "description_width": ""
      }
     },
     "f699990e6efd4cbdbae9edcb4616705f": {
      "model_module": "@jupyter-widgets/base",
      "model_module_version": "1.2.0",
      "model_name": "LayoutModel",
      "state": {}
     },
     "f7b00a6ba1b54ca39e93e6fc5c59e9db": {
      "model_module": "@jupyter-widgets/controls",
      "model_module_version": "1.5.0",
      "model_name": "SliderStyleModel",
      "state": {
       "description_width": ""
      }
     },
     "faa503680dbc4064a08fe86b000f5a30": {
      "model_module": "@jupyter-widgets/base",
      "model_module_version": "1.2.0",
      "model_name": "LayoutModel",
      "state": {}
     },
     "fc7232763b2441c2aee9e7f8b020ec64": {
      "model_module": "@jupyter-widgets/controls",
      "model_module_version": "1.5.0",
      "model_name": "HBoxModel",
      "state": {
       "children": [
        "IPY_MODEL_ee5c496b077b40f78c9f45f78f7e2618",
        "IPY_MODEL_93febccf507c410997a01a93d90e67b2"
       ],
       "layout": "IPY_MODEL_faa503680dbc4064a08fe86b000f5a30"
      }
     }
    },
    "version_major": 2,
    "version_minor": 0
   }
  }
 },
 "nbformat": 4,
 "nbformat_minor": 4
}
