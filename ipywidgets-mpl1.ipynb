{
 "cells": [
  {
   "cell_type": "markdown",
   "metadata": {},
   "source": [
    "# Using ipywidgets with matplotlib\n",
    "### Backends, GUIs and loose code\n",
    "## DVC - 22/11/2020\n"
   ]
  },
  {
   "cell_type": "markdown",
   "metadata": {},
   "source": [
    "This notebook evaluates several matplotlib backends, in view of their usage with widgets\n",
    "\n",
    "- ipympl is a package that is never visible, it is in the background when the widgets backend is activated\n",
    "- references \n",
    "    + (dated 2018) https://medium.com/@1522933668924/using-matplotlib-in-jupyter-notebooks-comparing-methods-and-some-tips-python-c38e85b40ba1\n",
    "    + tutorial on widget backend https://kapernikov.com/ipywidgets-with-matplotlib/\n",
    "- \"The visualization space in the Python community is very dynamic, and I fully expect this list to be out of date as soon as it is published. Keep an eye out for what's coming in the future\", Jakevdp, Python Data Science Handbook, 2016.\n",
    "- what is true for visualization is even more true for widgets\n",
    "\n",
    "### General Guidance on Backends\n",
    "- best is to set the backend BEFORE importing matplotlib.   Changing a backend en route should be supported, but is not advised and doesn't seem to work \n",
    "- when debugging code, you need to restart the kernel very often as 'things' keep on hanging around\n",
    "    \n",
    "### Backends for matplotlib\n",
    "\n",
    "- inline (same as no specification ?)\n",
    "    + commonly used \n",
    "    + robust for simple figures; a figure is not accessible any more for interaction/editing after plotting\n",
    "    + LIMITATIONS: \n",
    "        - in the default setup you can only REDRAW a new figure, but NEVER UPDATE an existing figure with widget controls; in this default mode the 'inline' backend is NOT suitable for interactive plots !\n",
    "        - there is a way to change this setting with IPython.display.set_matplotlib_close(close=False); but it doesn't seem to solve widget interactivity\n",
    "- notebook\n",
    "    + seems like a variant on inline but generating plots that can be resized, exported, ..  \n",
    "    + it has its own predefined output canvas for plotting\n",
    "    + LIMITATIONS AND BUGS: \n",
    "        - by designe you can not use the 'output' ipywidget\n",
    "        - it seems that only one notebook should be active to avoid uncontrollable behaviour (not witnessed)\n",
    "- widget (i.e. based on ipympl)\n",
    "    + is the pure Jupyter backend that gives full control over the canvas and let's you mix figures and controls in a single canvas so it is best  suitable for interactive work\n",
    "    + matplotlib rendering is done INSIDE a jupyter OUTPUT widget\n",
    "\n",
    "- qt5\n",
    "    + jupyter widgets stay 'inline' in the notebook while the matplotlib rendering is done in an independent window/canvas\n",
    "    + best for direct operations on the figure (color, tight layout, markers, .. )\n",
    "- tk\n",
    "    + has the same conceptual setup as with qt5\n",
    "    + is slow to restart and hangs at moments (on laptop) - you may need to click twice\n",
    "    + overall there seems to be no cases where tk is to be preferred over qt5\n"
   ]
  },
  {
   "cell_type": "markdown",
   "metadata": {},
   "source": [
    "#### TODO\n",
    "- how does fig.canvas work ?\n",
    "- what do methods canvas.draw() and canvas.flush_events() ?"
   ]
  },
  {
   "cell_type": "code",
   "execution_count": 1,
   "metadata": {},
   "outputs": [],
   "source": [
    "%matplotlib widget\n",
    "import ipywidgets as widgets\n",
    "from ipywidgets import interact, interact_manual, interactive\n",
    "import numpy as np\n",
    "import matplotlib.pyplot as plt\n",
    "from scipy import signal\n",
    "import IPython.display as ipd\n"
   ]
  },
  {
   "cell_type": "code",
   "execution_count": 2,
   "metadata": {},
   "outputs": [],
   "source": [
    "# any of these could be useful during debugging, but not needed if all is running fine\n",
    "#\n",
    "#%matplotlib --list\n",
    "#ipd.set_matplotlib_close(close=True)\n",
    "#plt.close('all')"
   ]
  },
  {
   "cell_type": "markdown",
   "metadata": {},
   "source": [
    "# 1. Updating Matplotlib Figures with interact()"
   ]
  },
  {
   "cell_type": "code",
   "execution_count": 3,
   "metadata": {},
   "outputs": [
    {
     "data": {
      "application/vnd.jupyter.widget-view+json": {
       "model_id": "d1d64df824444a59afdcc93ff928612c",
       "version_major": 2,
       "version_minor": 0
      },
      "text/plain": [
       "interactive(children=(FloatSlider(value=0.0, description='m', max=2.0, min=-2.0), FloatSlider(value=0.0, descr…"
      ]
     },
     "metadata": {},
     "output_type": "display_data"
    }
   ],
   "source": [
    "# Method 1 : creating a new figure each time\n",
    "# BACKENDS: inline\n",
    "#   'inline' closes the figure with each loop\n",
    "#   other backends accumulate a multitude of figures unless you explicitly \n",
    "#   close the existing figure(s), but then figures come and go\n",
    "#\n",
    "@interact( m=(-2.,2.), b=(-3,3,0.5))\n",
    "def f(m,b):\n",
    "    # plt.close('all')\n",
    "    fig = plt.figure(figsize=(2,2))\n",
    "    x = np.linspace(-10,10,num=1000)\n",
    "    plt.plot(x, m*x+b )\n",
    "    plt.ylim(-5,5)\n",
    "    plt.show()"
   ]
  },
  {
   "cell_type": "code",
   "execution_count": 4,
   "metadata": {},
   "outputs": [
    {
     "data": {
      "application/vnd.jupyter.widget-view+json": {
       "model_id": "f672e6c5b4274afbad451c788f6476fb",
       "version_major": 2,
       "version_minor": 0
      },
      "text/plain": [
       "Canvas(toolbar=Toolbar(toolitems=[('Home', 'Reset original view', 'home', 'home'), ('Back', 'Back to previous …"
      ]
     },
     "metadata": {},
     "output_type": "display_data"
    },
    {
     "data": {
      "application/vnd.jupyter.widget-view+json": {
       "model_id": "80793880ee9d455487a11b1a3b37d5f0",
       "version_major": 2,
       "version_minor": 0
      },
      "text/plain": [
       "interactive(children=(FloatSlider(value=0.0, description='m', max=2.0, min=-2.0), FloatSlider(value=0.0, descr…"
      ]
     },
     "metadata": {},
     "output_type": "display_data"
    }
   ],
   "source": [
    "# Method 2 : \n",
    "#    1) create the figure \n",
    "#    2) loop: clear the figure and update with a new plot\n",
    "# seems to work for all as long as you only use plt.xxx commands\n",
    "# creating the axis explicitly and working with those does not go with 'inline'\n",
    "#\n",
    "# if you remove the plt.cla() differences between inline and other methods\n",
    "#    is more prominent; with inline game is over after one plot; with the\n",
    "#    others you keep on adding lines with each calls \n",
    "# BACKENDS: all\n",
    "#\n",
    "fig = plt.figure(figsize=(2,2))\n",
    "x = np.linspace(-10,10,num=1000)\n",
    "@interact( m=(-2.,2.), b=(-3,3,0.5))\n",
    "def f(m,b):\n",
    "    plt.cla()\n",
    "    plt.plot(x, m*x+b )\n",
    "    plt.ylim(-5,5)\n",
    "    # plt.show()"
   ]
  },
  {
   "cell_type": "code",
   "execution_count": 5,
   "metadata": {
    "scrolled": false
   },
   "outputs": [
    {
     "data": {
      "application/vnd.jupyter.widget-view+json": {
       "model_id": "9c4bb2965e0148cfb416ea691591a1d8",
       "version_major": 2,
       "version_minor": 0
      },
      "text/plain": [
       "Canvas(toolbar=Toolbar(toolitems=[('Home', 'Reset original view', 'home', 'home'), ('Back', 'Back to previous …"
      ]
     },
     "metadata": {},
     "output_type": "display_data"
    },
    {
     "data": {
      "application/vnd.jupyter.widget-view+json": {
       "model_id": "afa1cecd2aa847bf978b12afcf025017",
       "version_major": 2,
       "version_minor": 0
      },
      "text/plain": [
       "interactive(children=(Dropdown(description='Signal', options=('sin', 'square', 'sawtooth'), value='sin'), Floa…"
      ]
     },
     "metadata": {},
     "output_type": "display_data"
    }
   ],
   "source": [
    "# a simple audio signal generator\n",
    "# with control for type amplitude, phase ... \n",
    "#\n",
    "# the audio is immediately generated and rendered\n",
    "#   continuous update are used for frequency and amplitude\n",
    "#   continuous_update=False is used for the duration widget\n",
    "# !! setting continuous_update is the only 'easy' control over frequency of update with interact()\n",
    "# !! more complex asynchronous implementations are suggested on the ipywidgets doc pages\n",
    "# !! under 'debouncing' and 'throttling' .. but this complicates the code significantly\n",
    "# https://ipywidgets.readthedocs.io/en/latest/examples/Widget%20Events.html?highlight=continuous_update#Continuous-updates\n",
    "# !! these solutions are not applicable to interact(), but require .observe() instead, see later\n",
    "#\n",
    "# as the x-axis needs to be modified with the duration\n",
    "#  it is more appropriate to do full redraws at every iteration\n",
    "#\n",
    "# BACKENDS: all\n",
    "#\n",
    "samplerate=8000\n",
    "def generate(type='sin', freq=200.0, Fs=samplerate, Tmax=0.5):\n",
    "    t = np.linspace(0.0, Tmax, int(Tmax*Fs), endpoint=False)\n",
    "    if type == 'sin':\n",
    "        x = np.sin(2.0*np.pi*freq*t)\n",
    "    elif type == 'square':\n",
    "        x = signal.square(2.0*np.pi*freq*t)\n",
    "    elif type == 'sawtooth':\n",
    "        x = signal.sawtooth(2.0*np.pi*freq*t)\n",
    "    else:\n",
    "        print( 'signal: Unrecognized signal type')\n",
    "    return x, t\n",
    "\n",
    "signal_types = [ 'sin', 'square', 'sawtooth' ]\n",
    "# alternative to Dropdown is to use RadioButtons\n",
    "wg_signal = widgets.Dropdown(options=signal_types,\n",
    "                             value='sin',description=\"Signal\")\n",
    "wg_amp = widgets.FloatSlider(value=0.5,step=0.05,max=1.0,description='Amplitude')\n",
    "wg_freq = widgets.FloatSlider(value=200.0,step=5.0,min=50.0,max=500.0,description='Frequency')\n",
    "wg_Tmax = widgets.FloatSlider(value=0.4,step=0.1,min=0.1,max=2.0,description='Duration',\n",
    "                             continuous_update=False)\n",
    "#wg_check = widgets.Checkbox(description='Display Play Button',value=True)\n",
    "\n",
    "fig = plt.figure(figsize=(10,4))\n",
    "first_time = True\n",
    "\n",
    "# in this example we use interact and full replotting\n",
    "# this seems to work well with ALL backends\n",
    "@interact(t=wg_signal,f=wg_freq,A=wg_amp,T=wg_Tmax)\n",
    "def plot_fn(t,f,A,T):\n",
    "    global first_time\n",
    "    x1, t1 = generate(freq=f,type=t,Tmax=T)\n",
    "    y1=A*x1\n",
    "    plt.cla()\n",
    "    plt.plot(t1,y1)\n",
    "    plt.ylim(-1,1)\n",
    "    ipd.display(ipd.Audio(data=y1,rate=samplerate,normalize=False, autoplay=True))\n",
    "    return"
   ]
  },
  {
   "cell_type": "code",
   "execution_count": 6,
   "metadata": {},
   "outputs": [
    {
     "data": {
      "application/vnd.jupyter.widget-view+json": {
       "model_id": "1c295a549a504406a47a07a57c9730a7",
       "version_major": 2,
       "version_minor": 0
      },
      "text/plain": [
       "Canvas(toolbar=Toolbar(toolitems=[('Home', 'Reset original view', 'home', 'home'), ('Back', 'Back to previous …"
      ]
     },
     "metadata": {},
     "output_type": "display_data"
    },
    {
     "data": {
      "application/vnd.jupyter.widget-view+json": {
       "model_id": "2655bc359cda41d39b6ec6e520fbfd22",
       "version_major": 2,
       "version_minor": 0
      },
      "text/plain": [
       "interactive(children=(IntSlider(value=1, description='w', max=10), FloatSlider(value=1.0, description='amp', m…"
      ]
     },
     "metadata": {},
     "output_type": "display_data"
    }
   ],
   "source": [
    "# Method 3a: maintain the figure and just refresh the changed data\n",
    "#    1) create a figure with axes\n",
    "#    2) remove lines on the axes and plot new lines\n",
    "#         > [l.remove() for l in ax.lines]\n",
    "#         > ax.plot(x, m*x+b )\n",
    "#\n",
    "# BACKENDS: all, except 'inline'  \n",
    "# \n",
    "\n",
    "def my_sine(x, w, amp, phi):\n",
    "    \"\"\"\n",
    "    Return a sine for x with angular frequeny w and amplitude amp.\n",
    "    \"\"\"\n",
    "    return amp*np.sin(w * (x-phi))\n",
    "#\n",
    "x = np.linspace(0, 2 * np.pi, 100)\n",
    "fig, ax = plt.subplots(figsize=(4, 4))\n",
    "ax.set_ylim([-4, 4])\n",
    "ax.grid(True)\n",
    "\n",
    "@interact(w=(0, 10, 1), amp=(0, 4, .1), phi=(0, 2*np.pi+0.01, 0.01))\n",
    "def update(w = 1.0, amp=1, phi=0):\n",
    "    \"\"\"Remove old lines from plot and plot new one\"\"\"\n",
    "    [l.remove() for l in ax.lines]\n",
    "    ax.plot(x, my_sine(x, w, amp, phi), color='C0')\n",
    "    #plt.show()"
   ]
  },
  {
   "cell_type": "code",
   "execution_count": 7,
   "metadata": {
    "scrolled": false
   },
   "outputs": [
    {
     "data": {
      "application/vnd.jupyter.widget-view+json": {
       "model_id": "8add78be2a3d4a3b8ce564471d2a1d7d",
       "version_major": 2,
       "version_minor": 0
      },
      "text/plain": [
       "Canvas(toolbar=Toolbar(toolitems=[('Home', 'Reset original view', 'home', 'home'), ('Back', 'Back to previous …"
      ]
     },
     "metadata": {},
     "output_type": "display_data"
    },
    {
     "data": {
      "application/vnd.jupyter.widget-view+json": {
       "model_id": "656f9f8cf2bd4009ad29b9b8b36145f0",
       "version_major": 2,
       "version_minor": 0
      },
      "text/plain": [
       "interactive(children=(IntSlider(value=1, description='w', max=10), FloatSlider(value=1.0, description='amp', m…"
      ]
     },
     "metadata": {},
     "output_type": "display_data"
    }
   ],
   "source": [
    "# Method 3b: maintain the figure and just refresh the changed data\n",
    "#    1) create a figure  \n",
    "#    2)  just update the y_data if you may assume that the x_data hasn't changed; \n",
    "#          between calls \n",
    "#\n",
    "# BACKENDS: all, except 'inline'  \n",
    "# \n",
    "\n",
    "def my_sine(x, w, amp, phi):\n",
    "    \"\"\"\n",
    "    Return a sine for x with angular frequeny w and amplitude amp.\n",
    "    \"\"\"\n",
    "    return amp*np.sin(w * (x-phi))\n",
    "x = np.linspace(0, 2 * np.pi, 100)\n",
    "\n",
    "#\n",
    "fig, ax = plt.subplots(figsize=(4, 4))\n",
    "ax.set_ylim([-4, 4])\n",
    "ax.grid(True)\n",
    "line, = ax.plot(x, my_sine(x, 0,0,0), color='C0')\n",
    "\n",
    "@interact(w=(0, 10, 1), amp=(0, 4, .1), phi=(0, 2*np.pi+0.01, 0.01))\n",
    "def update(w = 1.0, amp=1, phi=0):\n",
    "    \"\"\"change the ydata values \"\"\"\n",
    "    line.set_ydata( my_sine(x, w, amp, phi) )\n",
    "    fig.canvas.draw()\n",
    "    # fig.canvas.flush_events()"
   ]
  },
  {
   "cell_type": "markdown",
   "metadata": {},
   "source": [
    "# 2. Using observe() and callbacks for more control over the interaction\n",
    "## The Output Widget, Widget Boxes, Observers, Classes, ... and fragile backends"
   ]
  },
  {
   "cell_type": "code",
   "execution_count": 8,
   "metadata": {},
   "outputs": [
    {
     "data": {
      "application/vnd.jupyter.widget-view+json": {
       "model_id": "9405c6b2e3904778a9edd7a2f81864a7",
       "version_major": 2,
       "version_minor": 0
      },
      "text/plain": [
       "HBox(children=(VBox(children=(IntSlider(value=1, description='freq', max=10), ColorPicker(value='#FF0000', des…"
      ]
     },
     "metadata": {},
     "output_type": "display_data"
    }
   ],
   "source": [
    "# create some x data and plot it in the output widget\n",
    "# give control over data, axis, .. via control widgets using callbacks\n",
    "#\n",
    "x = np.linspace(0, 2 * np.pi, 100)\n",
    "output = widgets.Output() \n",
    "with output:\n",
    "    fig, ax = plt.subplots(constrained_layout=True, figsize=(4, 4))\n",
    "# move the toolbar to the bottom\n",
    "fig.canvas.toolbar_position = 'bottom'\n",
    "ax.grid(True)    \n",
    "line, = ax.plot(x, np.sin(x), '#FF0000')\n",
    "\n",
    "# create some control elements\n",
    "int_slider = widgets.IntSlider(value=1, min=0, max=10, step=1, description='freq')\n",
    "color_picker = widgets.ColorPicker(value='#FF0000', description='pick a color')\n",
    "text_xlabel = widgets.Text(value='', description='xlabel', continuous_update=False)\n",
    "text_ylabel = widgets.Text(value='', description='ylabel', continuous_update=False)\n",
    " \n",
    "# callback functions\n",
    "def update(change):\n",
    "    \"\"\"redraw line (update plot)\"\"\"\n",
    "    line.set_ydata(np.sin(change.new * x))\n",
    "    fig.canvas.draw()\n",
    "     \n",
    "def line_color(change):\n",
    "    \"\"\"set line color\"\"\"\n",
    "    line.set_color(change.new)\n",
    "     \n",
    "def update_xlabel(change):\n",
    "    ax.set_xlabel(change.new)\n",
    "     \n",
    "def update_ylabel(change):\n",
    "    ax.set_ylabel(change.new)\n",
    " \n",
    "# connect callbacks and traits\n",
    "int_slider.observe(update, 'value')\n",
    "color_picker.observe(line_color, 'value')\n",
    "text_xlabel.observe(update_xlabel, 'value')\n",
    "text_ylabel.observe(update_ylabel, 'value')\n",
    " \n",
    "text_xlabel.value = 'x'\n",
    "text_ylabel.value = 'y'\n",
    "controls = widgets.VBox([int_slider, color_picker, text_xlabel, text_ylabel])\n",
    "widgets.HBox([controls, output])"
   ]
  },
  {
   "cell_type": "markdown",
   "metadata": {},
   "source": [
    "## Packing components in a class\n",
    "\n",
    "This is a copy from the Kapernikov tutorial\n",
    "\n",
    "To create more high level components, we can also subclass a container and build up our gui from within. Containers have a `children` property to which we can assign a list of widgets that should be displayed. Although, we can assign a list, this is turned into a tuple and cannot be modified afterwards.\n",
    "To remove or add a widget at runtime, the children tuple can be turned back into a list, followed by an insert or deletion and finalised by reassigning to the children property. Since it can be easy to make mistakes when going by index, I tend to add a placeholder box in which I only place the 'dynamic' widget.\n",
    "\n",
    "The example below, packs the entire oscilliscope 'dashboard' in a single component by subclassing `VBox`. All the required widgets are defined in the Sines class and added as its `children`. The callbacks are defined as instance methods. It may not be a masterpiece in object oriented programming, but hopefully it shows the idea of constructing larger reusable components. Note that, we need to call `super().__init__()` from `__init__` to properly initialise the parent class. "
   ]
  },
  {
   "cell_type": "code",
   "execution_count": 9,
   "metadata": {},
   "outputs": [
    {
     "data": {
      "application/vnd.jupyter.widget-view+json": {
       "model_id": "b120cabf73f741f5a89b604c03c24e3d",
       "version_major": 2,
       "version_minor": 0
      },
      "text/plain": [
       "Sines(children=(VBox(children=(IntSlider(value=1, description='freq', max=10), ColorPicker(value='#FF00DD', de…"
      ]
     },
     "metadata": {},
     "output_type": "display_data"
    }
   ],
   "source": [
    "def make_box_layout():\n",
    "     return widgets.Layout(\n",
    "        border='solid 1px black',\n",
    "        margin='0px 10px 10px 0px',\n",
    "        padding='5px 5px 5px 5px'\n",
    "     )\n",
    "\n",
    "class Sines(widgets.HBox):\n",
    "    \n",
    "    def __init__(self):\n",
    "        super().__init__()\n",
    "        output = widgets.Output()\n",
    "\n",
    "        self.x = np.linspace(0, 2 * np.pi, 100)\n",
    "        initial_color = '#FF00DD'\n",
    "\n",
    "        with output:\n",
    "            self.fig, self.ax = plt.subplots(constrained_layout=True, figsize=(5, 3.5))\n",
    "        self.line, = self.ax.plot(self.x, np.sin(self.x), initial_color)\n",
    "        \n",
    "        self.fig.canvas.toolbar_position = 'bottom'\n",
    "        self.ax.grid(True)\n",
    "\n",
    "        # define widgets\n",
    "        int_slider = widgets.IntSlider(\n",
    "            value=1, \n",
    "            min=0, \n",
    "            max=10, \n",
    "            step=1, \n",
    "            description='freq'\n",
    "        )\n",
    "        color_picker = widgets.ColorPicker(\n",
    "            value=initial_color, \n",
    "            description='pick a color'\n",
    "        )\n",
    "        text_xlabel = widgets.Text(\n",
    "            value='', \n",
    "            description='xlabel', \n",
    "            continuous_update=False\n",
    "        )\n",
    "        text_ylabel = widgets.Text(\n",
    "            value='', \n",
    "            description='ylabel', \n",
    "            continuous_update=False\n",
    "        )\n",
    "\n",
    "        controls = widgets.VBox([\n",
    "            int_slider, \n",
    "            color_picker, \n",
    "            text_xlabel, \n",
    "            text_ylabel\n",
    "        ])\n",
    "        controls.layout = make_box_layout()\n",
    "        \n",
    "        out_box = widgets.Box([output])\n",
    "        output.layout = make_box_layout()\n",
    "\n",
    "        # observe stuff\n",
    "        int_slider.observe(self.update, 'value')\n",
    "        color_picker.observe(self.line_color, 'value')\n",
    "        text_xlabel.observe(self.update_xlabel, 'value')\n",
    "        text_ylabel.observe(self.update_ylabel, 'value')\n",
    "        \n",
    "        text_xlabel.value = 'x'\n",
    "        text_ylabel.value = 'y'\n",
    "        \n",
    "\n",
    "        # add to children\n",
    "        self.children = [controls, output]\n",
    "    \n",
    "    def update(self, change):\n",
    "        \"\"\"Draw line in plot\"\"\"\n",
    "        self.line.set_ydata(np.sin(change.new * self.x))\n",
    "        self.fig.canvas.draw()\n",
    "\n",
    "    def line_color(self, change):\n",
    "        self.line.set_color(change.new)\n",
    "\n",
    "    def update_xlabel(self, change):\n",
    "        self.ax.set_xlabel(change.new)\n",
    "\n",
    "    def update_ylabel(self, change):\n",
    "        self.ax.set_ylabel(change.new)\n",
    "        \n",
    "        \n",
    "Sines()"
   ]
  },
  {
   "cell_type": "code",
   "execution_count": null,
   "metadata": {},
   "outputs": [],
   "source": []
  }
 ],
 "metadata": {
  "kernelspec": {
   "display_name": "Python 3",
   "language": "python",
   "name": "python3"
  },
  "language_info": {
   "codemirror_mode": {
    "name": "ipython",
    "version": 3
   },
   "file_extension": ".py",
   "mimetype": "text/x-python",
   "name": "python",
   "nbconvert_exporter": "python",
   "pygments_lexer": "ipython3",
   "version": "3.8.3"
  }
 },
 "nbformat": 4,
 "nbformat_minor": 4
}
