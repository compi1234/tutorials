{
 "cells": [
  {
   "cell_type": "markdown",
   "metadata": {},
   "source": [
    "# Harmonic Signal Generator\n",
    "## sine - square - sawtooh\n",
    "## Dirk Van Compernolle - 29/11/2020\n",
    "\n",
    "---------------------------------------------------------\n",
    "\n",
    "Dependencies:\n",
    "- ipywidget\n",
    "- matplotlib, numpy, scipy\n",
    "- librosa"
   ]
  },
  {
   "cell_type": "code",
   "execution_count": 1,
   "metadata": {},
   "outputs": [],
   "source": [
    "%matplotlib inline\n",
    "import ipywidgets as widgets\n",
    "from ipywidgets import interact, interact_manual, interactive\n",
    "import numpy as np\n",
    "import matplotlib.pyplot as plt\n",
    "from scipy import signal\n",
    "from IPython.display import display, HTML, Audio\n",
    "import librosa"
   ]
  },
  {
   "cell_type": "code",
   "execution_count": 2,
   "metadata": {},
   "outputs": [
    {
     "data": {
      "text/html": [
       "\n",
       "<style>\n",
       "    div#notebook-container    { width: 99%; }\n",
       "    div#menubar-container     { width: 65%; }\n",
       "    div#maintoolbar-container { width: 99%; }\n",
       "</style>\n"
      ],
      "text/plain": [
       "<IPython.core.display.HTML object>"
      ]
     },
     "metadata": {},
     "output_type": "display_data"
    }
   ],
   "source": [
    "# The following code will increase the default width of your Jupyter notebook cells\n",
    "# Supposed to work well \n",
    "\n",
    "\n",
    "display(HTML(data=\"\"\"\n",
    "<style>\n",
    "    div#notebook-container    { width: 99%; }\n",
    "    div#menubar-container     { width: 65%; }\n",
    "    div#maintoolbar-container { width: 99%; }\n",
    "</style>\n",
    "\"\"\"))"
   ]
  },
  {
   "cell_type": "markdown",
   "metadata": {},
   "source": [
    "# DEMO1:  A simple audio signal generator using interact()"
   ]
  },
  {
   "cell_type": "code",
   "execution_count": 9,
   "metadata": {},
   "outputs": [],
   "source": [
    "# Function to generate a short audio signal having sine, square or sawtooth shape\n",
    "def generate(t,type='sin', freq=200.0, Fs=8000):\n",
    "    if type == 'sin':\n",
    "        y = np.sin(2.0*np.pi*freq*t)\n",
    "    elif type == 'square':\n",
    "        y = signal.square(2.0*np.pi*freq*t)\n",
    "    elif type == 'sawtooth':\n",
    "        y = signal.sawtooth(2.0*np.pi*freq*t)\n",
    "    else:\n",
    "        print( 'signal: Unrecognized signal type')\n",
    "    return y\n",
    "\n",
    "def spectrogram(x,samplerate=8000,length=30.0,shift=10.0):\n",
    "    hop_length = int(samplerate*shift/1000.)\n",
    "    win_length = int(samplerate*length/1000.)\n",
    "    spg_stft = librosa.stft(x,n_fft=512,hop_length=hop_length,win_length=win_length)\n",
    "    return( librosa.power_to_db(np.abs(spg_stft)**2) )"
   ]
  },
  {
   "cell_type": "markdown",
   "metadata": {},
   "source": [
    "# DEMO 2.  The Audio Signal Generator as a Class"
   ]
  },
  {
   "cell_type": "code",
   "execution_count": 3,
   "metadata": {},
   "outputs": [],
   "source": [
    "def make_box_layout():\n",
    "     return widgets.Layout(\n",
    "        border='solid 1px black',\n",
    "        margin='0px 10px 10px 0px',\n",
    "        padding='5px 5px 5px 5px'\n",
    "     )"
   ]
  },
  {
   "cell_type": "code",
   "execution_count": 7,
   "metadata": {},
   "outputs": [],
   "source": [
    "class WaveGenerator(widgets.VBox):\n",
    "    \n",
    "    def __init__(self):\n",
    "        super().__init__()\n",
    "        output = widgets.Output()\n",
    "\n",
    "        self.samplerate = 8000\n",
    "        self.type = 'sin'\n",
    "        self.freq = 200\n",
    "        self.dur = 0.2\n",
    "        self.autoplay = True\n",
    "        self.color = '#0044ff'\n",
    "        \n",
    "        self.x = np.linspace(0.0, self.dur, int(self.dur*self.samplerate), endpoint=False)\n",
    "        self.y = generate(self.x,type=self.type,freq=self.freq,Fs=self.samplerate)\n",
    "        self.spg = spectrogram(self.y,samplerate=self.samplerate)\n",
    "        \n",
    "        # define widgets\n",
    "        slider_freq = widgets.FloatSlider(\n",
    "            value=self.freq, \n",
    "            min=50., \n",
    "            max=2000., \n",
    "            step=10., \n",
    "            description='frequency',\n",
    "            continuous_update=False\n",
    "        )\n",
    "        slider_dur = widgets.FloatSlider(\n",
    "            value=self.dur, \n",
    "            min=0.1, \n",
    "            max=1., \n",
    "            step=.1, \n",
    "            description='duration',\n",
    "            continuous_update=False\n",
    "        )\n",
    "        check_autoplay = widgets.Checkbox(description='Autoplay audio',value=self.autoplay)\n",
    "        \n",
    "        signal_types = [ 'sin', 'square', 'sawtooth' ]\n",
    "        dropdown_signal = widgets.Dropdown(\n",
    "            options=signal_types, value='sin',\n",
    "            description='Signal')\n",
    "        color_picker = widgets.ColorPicker(\n",
    "            value=self.color, \n",
    "            description='line color'\n",
    "        )\n",
    "        text_xlabel = widgets.Text(\n",
    "            value='', \n",
    "            description='xlabel', \n",
    "            continuous_update=False\n",
    "        )\n",
    "        text_ylabel = widgets.Text(\n",
    "            value='', \n",
    "            description='ylabel', \n",
    "            continuous_update=False\n",
    "        )\n",
    "        self.widget_audio = widgets.Output()\n",
    "        with self.widget_audio:\n",
    "            display(Audio(data=self.y,rate=self.samplerate))      \n",
    "\n",
    "        box1 = widgets.VBox([ slider_freq, slider_dur, dropdown_signal])\n",
    "        #box1.layout = make_box_layout()\n",
    "        box2 = widgets.VBox([   self.widget_audio, check_autoplay])\n",
    "        #box2.layout = make_box_layout()\n",
    "        box3 = widgets.VBox([ color_picker, text_xlabel, text_ylabel])\n",
    "        #box3.layout = make_box_layout()\n",
    "        controls = widgets.HBox([box1, box2, box3])\n",
    "        controls.layout = make_box_layout()\n",
    "        \n",
    "        with output:\n",
    "            self.fig, self.ax = plt.subplots(2,1,constrained_layout=True, figsize=(10, 4))\n",
    "        self.fig.canvas.toolbar_position = 'bottom'\n",
    "        \n",
    "        self.line, = self.ax[0].plot(self.x, self.y, self.color)\n",
    "        self.ax[0].grid(True)\n",
    "        self.ax[1].imshow(self.spg,cmap='jet',aspect='auto',origin='lower')\n",
    "        \n",
    "        \n",
    "        out_box = widgets.Box([output])\n",
    "        output.layout = make_box_layout()       \n",
    "\n",
    "        # add to children\n",
    "        self.children = [controls, output]        \n",
    "               \n",
    "        # observe stuff\n",
    "        slider_freq.observe(self.update_freq, 'value')\n",
    "        slider_dur.observe(self.update_dur, 'value')\n",
    "        check_autoplay.observe(self.update_autoplay,'value')\n",
    "        dropdown_signal.observe(self.update_type,'value')\n",
    "        color_picker.observe(self.line_color, 'value')\n",
    "        text_xlabel.observe(self.update_xlabel, 'value')\n",
    "        text_ylabel.observe(self.update_ylabel, 'value')\n",
    "        \n",
    "        text_xlabel.value = 'time'\n",
    "        text_ylabel.value = 'amplitude'\n",
    "        \n",
    "    \n",
    "    def update_freq(self, change):\n",
    "        self.freq= change.new\n",
    "        self.refresh()\n",
    "\n",
    "    def update_dur(self, change):\n",
    "        self.dur= change.new\n",
    "        self.refresh()\n",
    "\n",
    "    def update_autoplay(self, change):\n",
    "        self.autoplay = change.new\n",
    "        self.refresh()\n",
    "        \n",
    "    def update_type(self, change):\n",
    "        self.type = change.new\n",
    "        self.refresh()\n",
    "        \n",
    "    def line_color(self, change):\n",
    "        self.color = change.new\n",
    "        self.line.set_color(change.new)\n",
    "\n",
    "    def update_xlabel(self, change):\n",
    "        self.ax[0].set_xlabel(change.new)\n",
    "\n",
    "    def update_ylabel(self, change):\n",
    "        self.ax[0].set_ylabel(change.new)\n",
    "\n",
    "    # full refresh of all outputs\n",
    "    def refresh(self):\n",
    "        self.x = np.linspace(0.0, self.dur, int(self.dur*self.samplerate), endpoint=False)\n",
    "        self.y = generate(self.x,type=self.type,freq=self.freq,Fs=self.samplerate)\n",
    "        self.spg = spectrogram(self.y,samplerate=self.samplerate)\n",
    "        self.ax[0].cla()\n",
    "        self.line, = self.ax[0].plot(self.x, self.y, self.color)\n",
    "        self.ax[0].grid(True)\n",
    "        self.ax[0].set_xlim([0.,self.dur])\n",
    "        self.ax[1].cla()\n",
    "        self.ax[1].imshow(self.spg[:,:-1],cmap='jet',aspect='auto',origin='lower')\n",
    "        self.fig.canvas.draw()\n",
    "        with self.widget_audio:\n",
    "            self.widget_audio.clear_output()\n",
    "            display(Audio(data=self.y,rate=self.samplerate,autoplay=self.autoplay)) \n",
    "\n",
    "    def plot_it(self):\n",
    "        plt.clf()\n",
    "        fig1,ax1 = plt.subplots(2,1,constrained_layout=True, figsize=(10, 4))\n",
    "        print(fig1.number)\n",
    "        self.x = np.linspace(0.0, self.dur, int(self.dur*self.samplerate), endpoint=False)\n",
    "        self.y = generate(self.x,type=self.type,freq=self.freq,Fs=self.samplerate)\n",
    "        self.spg = spectrogram(self.y,samplerate=self.samplerate)\n",
    "\n",
    "        ax1[0].plot(self.x, self.y, self.color)\n",
    "        ax1[0].grid(True)\n",
    "        ax1[0].set_xlim([0.,self.dur])\n",
    "        ax1[1].imshow(self.spg[:,:-1],cmap='jet',aspect='auto',origin='lower')\n",
    "        #with self.widget_audio:\n",
    "        #    self.widget_audio.clear_output()\n",
    "        #    display(Audio(data=self.y,rate=self.samplerate,autoplay=self.autoplay))         \n"
   ]
  },
  {
   "cell_type": "code",
   "execution_count": 10,
   "metadata": {},
   "outputs": [
    {
     "data": {
      "image/png": "[encoded data removed]",
      "text/plain": [
       "<Figure size 720x288 with 2 Axes>"
      ]
     },
     "metadata": {
      "needs_background": "light"
     },
     "output_type": "display_data"
    }
   ],
   "source": [
    "demo = WaveGenerator()"
   ]
  },
  {
   "cell_type": "code",
   "execution_count": 11,
   "metadata": {},
   "outputs": [
    {
     "data": {
      "text/html": [
       "\n",
       "                <audio  controls=\"controls\" >\n",
       "                    <source src=\"data:audio/wav;base64,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\" type=\"audio/wav\" />\n",
       "                    Your browser does not support the audio element.\n",
       "                </audio>\n",
       "              "
      ],
      "text/plain": [
       "<IPython.lib.display.Audio object>"
      ]
     },
     "metadata": {},
     "output_type": "display_data"
    },
    {
     "data": {
      "image/png": "[encoded data removed]",
      "text/plain": [
       "<Figure size 720x288 with 2 Axes>"
      ]
     },
     "metadata": {},
     "output_type": "display_data"
    }
   ],
   "source": [
    "display(Audio(data=demo.y,rate=demo.samplerate))\n",
    "display(demo.fig)"
   ]
  },
  {
   "cell_type": "code",
   "execution_count": 12,
   "metadata": {},
   "outputs": [
    {
     "data": {
      "application/vnd.jupyter.widget-view+json": {
       "model_id": "07e4fb8d3a0b422fa84c217b9ef7070c",
       "version_major": 2,
       "version_minor": 0
      },
      "text/plain": [
       "WaveGenerator(children=(HBox(children=(VBox(children=(FloatSlider(value=200.0, continuous_update=False, descri…"
      ]
     },
     "metadata": {},
     "output_type": "display_data"
    }
   ],
   "source": [
    "demo"
   ]
  },
  {
   "cell_type": "code",
   "execution_count": null,
   "metadata": {},
   "outputs": [],
   "source": []
  },
  {
   "cell_type": "code",
   "execution_count": null,
   "metadata": {},
   "outputs": [],
   "source": []
  }
 ],
 "metadata": {
  "kernelspec": {
   "display_name": "Python 3",
   "language": "python",
   "name": "python3"
  },
  "language_info": {
   "codemirror_mode": {
    "name": "ipython",
    "version": 3
   },
   "file_extension": ".py",
   "mimetype": "text/x-python",
   "name": "python",
   "nbconvert_exporter": "python",
   "pygments_lexer": "ipython3",
   "version": "3.8.3"
  },
  "widgets": {
   "application/vnd.jupyter.widget-state+json": {
    "state": {
     "004d5e0ea0954de29beb3314819d2073": {
      "model_module": "@jupyter-widgets/output",
      "model_module_version": "1.0.0",
      "model_name": "OutputModel",
      "state": {
       "layout": "IPY_MODEL_3c656a2c4b59479bb8c7465b24fa6829"
      }
     },
     "03041d1d5a614bc5ad3e8ea6d1c80966": {
      "model_module": "@jupyter-widgets/controls",
      "model_module_version": "1.5.0",
      "model_name": "FloatSliderModel",
      "state": {
       "continuous_update": false,
       "description": "duration",
       "layout": "IPY_MODEL_ad122d5a7a41432aa82d0b9f6f69faa1",
       "max": 1,
       "min": 0.1,
       "step": 0.1,
       "style": "IPY_MODEL_ff9aff70ad104a5b8dded9a42886c760",
       "value": 0.6
      }
     },
     "064f02f4c0814b77994df4a3101cadac": {
      "model_module": "@jupyter-widgets/base",
      "model_module_version": "1.2.0",
      "model_name": "LayoutModel",
      "state": {}
     },
     "17f01b7019dc45858b44480b9447e37b": {
      "model_module": "@jupyter-widgets/controls",
      "model_module_version": "1.5.0",
      "model_name": "CheckboxModel",
      "state": {
       "description": "Autoplay audio",
       "disabled": false,
       "layout": "IPY_MODEL_b2af96f285de405cbfa14d4dfc4ac090",
       "style": "IPY_MODEL_334799feca12426b8f7cba4df197aeda",
       "value": true
      }
     },
     "334799feca12426b8f7cba4df197aeda": {
      "model_module": "@jupyter-widgets/controls",
      "model_module_version": "1.5.0",
      "model_name": "DescriptionStyleModel",
      "state": {
       "description_width": ""
      }
     },
     "36db529aafc8454fbd70dd1749ca879c": {
      "model_module": "@jupyter-widgets/base",
      "model_module_version": "1.2.0",
      "model_name": "LayoutModel",
      "state": {}
     },
     "392eff0dc7f840338d809d8677b9bde1": {
      "model_module": "@jupyter-widgets/controls",
      "model_module_version": "1.5.0",
      "model_name": "DescriptionStyleModel",
      "state": {
       "description_width": ""
      }
     },
     "3c656a2c4b59479bb8c7465b24fa6829": {
      "model_module": "@jupyter-widgets/base",
      "model_module_version": "1.2.0",
      "model_name": "LayoutModel",
      "state": {
       "border": "solid 1px black",
       "margin": "0px 10px 10px 0px",
       "padding": "5px 5px 5px 5px"
      }
     },
     "44f9fb4dcfbf45f692ee26796f67a833": {
      "model_module": "@jupyter-widgets/base",
      "model_module_version": "1.2.0",
      "model_name": "LayoutModel",
      "state": {}
     },
     "490c3506c4f3432ca677e305e108679b": {
      "model_module": "@jupyter-widgets/controls",
      "model_module_version": "1.5.0",
      "model_name": "TextModel",
      "state": {
       "continuous_update": false,
       "description": "xlabel",
       "layout": "IPY_MODEL_7632f058aa8c424a90c692c1aa4291e9",
       "style": "IPY_MODEL_54e1097ffc7149c388db2951ba63e65f",
       "value": "time"
      }
     },
     "54e1097ffc7149c388db2951ba63e65f": {
      "model_module": "@jupyter-widgets/controls",
      "model_module_version": "1.5.0",
      "model_name": "DescriptionStyleModel",
      "state": {
       "description_width": ""
      }
     },
     "5d4c5bab3b04459798f2cb8754579ffa": {
      "model_module": "@jupyter-widgets/controls",
      "model_module_version": "1.5.0",
      "model_name": "VBoxModel",
      "state": {
       "children": [
        "IPY_MODEL_88c916dfe21b41e08ea658cab838ce34",
        "IPY_MODEL_17f01b7019dc45858b44480b9447e37b"
       ],
       "layout": "IPY_MODEL_6462f2f6ec534351b717baa7703b23e8"
      }
     },
     "6462f2f6ec534351b717baa7703b23e8": {
      "model_module": "@jupyter-widgets/base",
      "model_module_version": "1.2.0",
      "model_name": "LayoutModel",
      "state": {}
     },
     "66c281d3b6684e129dc3268a3cf59c8b": {
      "model_module": "@jupyter-widgets/controls",
      "model_module_version": "1.5.0",
      "model_name": "HBoxModel",
      "state": {
       "children": [
        "IPY_MODEL_c3eb181980c84fe7aeeaa0084965dd26",
        "IPY_MODEL_5d4c5bab3b04459798f2cb8754579ffa",
        "IPY_MODEL_7c2138b390664592ba5e9ff75bc3d43f"
       ],
       "layout": "IPY_MODEL_78340cfb6b844599b8c28e9888192966"
      }
     },
     "67182e3e6bab46a59cc2f4713e2643f1": {
      "model_module": "@jupyter-widgets/controls",
      "model_module_version": "1.5.0",
      "model_name": "FloatSliderModel",
      "state": {
       "continuous_update": false,
       "description": "frequency",
       "layout": "IPY_MODEL_9617efee3c0b44dd952f43e072a1684b",
       "max": 2000,
       "min": 50,
       "step": 10,
       "style": "IPY_MODEL_d30c57b124a444afafa7fe81728ec213",
       "value": 420
      }
     },
     "7632f058aa8c424a90c692c1aa4291e9": {
      "model_module": "@jupyter-widgets/base",
      "model_module_version": "1.2.0",
      "model_name": "LayoutModel",
      "state": {}
     },
     "78340cfb6b844599b8c28e9888192966": {
      "model_module": "@jupyter-widgets/base",
      "model_module_version": "1.2.0",
      "model_name": "LayoutModel",
      "state": {
       "border": "solid 1px black",
       "margin": "0px 10px 10px 0px",
       "padding": "5px 5px 5px 5px"
      }
     },
     "7c2138b390664592ba5e9ff75bc3d43f": {
      "model_module": "@jupyter-widgets/controls",
      "model_module_version": "1.5.0",
      "model_name": "VBoxModel",
      "state": {
       "children": [
        "IPY_MODEL_8f475050ac814a368bb2e1894e13105e",
        "IPY_MODEL_490c3506c4f3432ca677e305e108679b",
        "IPY_MODEL_9d4466464a7044158e4c7ed2e40713a0"
       ],
       "layout": "IPY_MODEL_9e0045235b774f6091e0b5a794b6ded4"
      }
     },
     "7fbb66a6858f4f93a11f51fd54bff65c": {
      "model_module": "@jupyter-widgets/base",
      "model_module_version": "1.2.0",
      "model_name": "LayoutModel",
      "state": {}
     },
     "88c916dfe21b41e08ea658cab838ce34": {
      "model_module": "@jupyter-widgets/output",
      "model_module_version": "1.0.0",
      "model_name": "OutputModel",
      "state": {
       "layout": "IPY_MODEL_97c68af807954ab5b96f05810aa7a37a",
       "outputs": [
        {
         "data": {
          "text/html": "\n                <audio  controls=\"controls\" autoplay=\"autoplay\">\n                    <source src=\"data:audio/wav;base64,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\" type=\"audio/wav\" />\n                    Your browser does not support the audio element.\n                </audio>\n              ",
          "text/plain": "<IPython.lib.display.Audio object>"
         },
         "metadata": {},
         "output_type": "display_data"
        }
       ]
      }
     },
     "8f475050ac814a368bb2e1894e13105e": {
      "model_module": "@jupyter-widgets/controls",
      "model_module_version": "1.5.0",
      "model_name": "ColorPickerModel",
      "state": {
       "description": "line color",
       "disabled": false,
       "layout": "IPY_MODEL_44f9fb4dcfbf45f692ee26796f67a833",
       "style": "IPY_MODEL_e9f2d557df3545baa4735fc9c7f596a8",
       "value": "#0044ff"
      }
     },
     "9617efee3c0b44dd952f43e072a1684b": {
      "model_module": "@jupyter-widgets/base",
      "model_module_version": "1.2.0",
      "model_name": "LayoutModel",
      "state": {}
     },
     "97c68af807954ab5b96f05810aa7a37a": {
      "model_module": "@jupyter-widgets/base",
      "model_module_version": "1.2.0",
      "model_name": "LayoutModel",
      "state": {}
     },
     "9d4466464a7044158e4c7ed2e40713a0": {
      "model_module": "@jupyter-widgets/controls",
      "model_module_version": "1.5.0",
      "model_name": "TextModel",
      "state": {
       "continuous_update": false,
       "description": "ylabel",
       "layout": "IPY_MODEL_c9380fe69de44c7baa29bf53f7b295e9",
       "style": "IPY_MODEL_392eff0dc7f840338d809d8677b9bde1",
       "value": "amplitude"
      }
     },
     "9e0045235b774f6091e0b5a794b6ded4": {
      "model_module": "@jupyter-widgets/base",
      "model_module_version": "1.2.0",
      "model_name": "LayoutModel",
      "state": {}
     },
     "a6abe82def3f4108b0748fd906c31c63": {
      "model_module": "@jupyter-widgets/base",
      "model_module_version": "1.2.0",
      "model_name": "LayoutModel",
      "state": {}
     },
     "ad122d5a7a41432aa82d0b9f6f69faa1": {
      "model_module": "@jupyter-widgets/base",
      "model_module_version": "1.2.0",
      "model_name": "LayoutModel",
      "state": {}
     },
     "b05ee5201f5640bbaf7b0677b24257f7": {
      "model_module": "@jupyter-widgets/base",
      "model_module_version": "1.2.0",
      "model_name": "LayoutModel",
      "state": {}
     },
     "b2af96f285de405cbfa14d4dfc4ac090": {
      "model_module": "@jupyter-widgets/base",
      "model_module_version": "1.2.0",
      "model_name": "LayoutModel",
      "state": {}
     },
     "bb383a9d0cdc4e4e998f1d9b61eeb4aa": {
      "model_module": "@jupyter-widgets/controls",
      "model_module_version": "1.5.0",
      "model_name": "DropdownModel",
      "state": {
       "_options_labels": [
        "sin",
        "square",
        "sawtooth"
       ],
       "description": "Signal",
       "index": 2,
       "layout": "IPY_MODEL_7fbb66a6858f4f93a11f51fd54bff65c",
       "style": "IPY_MODEL_e9f638313af24e0c9cc715a67142213a"
      }
     },
     "c3eb181980c84fe7aeeaa0084965dd26": {
      "model_module": "@jupyter-widgets/controls",
      "model_module_version": "1.5.0",
      "model_name": "VBoxModel",
      "state": {
       "children": [
        "IPY_MODEL_67182e3e6bab46a59cc2f4713e2643f1",
        "IPY_MODEL_03041d1d5a614bc5ad3e8ea6d1c80966",
        "IPY_MODEL_bb383a9d0cdc4e4e998f1d9b61eeb4aa"
       ],
       "layout": "IPY_MODEL_064f02f4c0814b77994df4a3101cadac"
      }
     },
     "c5a1d0c28b2f455b9f70a4057761d4a9": {
      "model_module": "@jupyter-widgets/controls",
      "model_module_version": "1.5.0",
      "model_name": "BoxModel",
      "state": {
       "children": [
        "IPY_MODEL_004d5e0ea0954de29beb3314819d2073"
       ],
       "layout": "IPY_MODEL_fea1efb8a0004d248675ad9469858f2a"
      }
     },
     "c9380fe69de44c7baa29bf53f7b295e9": {
      "model_module": "@jupyter-widgets/base",
      "model_module_version": "1.2.0",
      "model_name": "LayoutModel",
      "state": {}
     },
     "d30c57b124a444afafa7fe81728ec213": {
      "model_module": "@jupyter-widgets/controls",
      "model_module_version": "1.5.0",
      "model_name": "SliderStyleModel",
      "state": {
       "description_width": ""
      }
     },
     "e9f2d557df3545baa4735fc9c7f596a8": {
      "model_module": "@jupyter-widgets/controls",
      "model_module_version": "1.5.0",
      "model_name": "DescriptionStyleModel",
      "state": {
       "description_width": ""
      }
     },
     "e9f638313af24e0c9cc715a67142213a": {
      "model_module": "@jupyter-widgets/controls",
      "model_module_version": "1.5.0",
      "model_name": "DescriptionStyleModel",
      "state": {
       "description_width": ""
      }
     },
     "f1c59f67efbc4bec9efce5de5d843ba2": {
      "model_module": "@jupyter-widgets/controls",
      "model_module_version": "1.5.0",
      "model_name": "VBoxModel",
      "state": {
       "children": [
        "IPY_MODEL_66c281d3b6684e129dc3268a3cf59c8b",
        "IPY_MODEL_004d5e0ea0954de29beb3314819d2073"
       ],
       "layout": "IPY_MODEL_36db529aafc8454fbd70dd1749ca879c"
      }
     },
     "fea1efb8a0004d248675ad9469858f2a": {
      "model_module": "@jupyter-widgets/base",
      "model_module_version": "1.2.0",
      "model_name": "LayoutModel",
      "state": {}
     },
     "ff9aff70ad104a5b8dded9a42886c760": {
      "model_module": "@jupyter-widgets/controls",
      "model_module_version": "1.5.0",
      "model_name": "SliderStyleModel",
      "state": {
       "description_width": ""
      }
     }
    },
    "version_major": 2,
    "version_minor": 0
   }
  }
 },
 "nbformat": 4,
 "nbformat_minor": 4
}
