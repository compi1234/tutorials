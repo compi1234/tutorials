{
 "cells": [
  {
   "cell_type": "markdown",
   "metadata": {},
   "source": [
    "# Sine Waves or  Pure Tones\n",
    "\n"
   ]
  },
  {
   "cell_type": "code",
   "execution_count": 1,
   "metadata": {},
   "outputs": [],
   "source": [
    "%matplotlib widget"
   ]
  },
  {
   "cell_type": "code",
   "execution_count": 2,
   "metadata": {},
   "outputs": [],
   "source": [
    "import ipywidgets as widgets\n",
    "from ipywidgets import interact, interact_manual, interactive\n",
    "import numpy as np\n",
    "import matplotlib.pyplot as plt\n",
    "from scipy import signal\n",
    "import IPython.display as ipd"
   ]
  },
  {
   "cell_type": "code",
   "execution_count": 3,
   "metadata": {},
   "outputs": [],
   "source": [
    "# any of these could be useful during debugging, but not needed if all is running fine\n",
    "#\n",
    "#%matplotlib --list\n",
    "#ipd.set_matplotlib_close(close=True)\n",
    "#plt.close('all')"
   ]
  },
  {
   "cell_type": "markdown",
   "metadata": {},
   "source": [
    "# 1. Updating Matplotlib Figures with interact()"
   ]
  },
  {
   "cell_type": "code",
   "execution_count": 4,
   "metadata": {},
   "outputs": [],
   "source": [
    "plt.close('all')"
   ]
  },
  {
   "cell_type": "code",
   "execution_count": 5,
   "metadata": {},
   "outputs": [
    {
     "data": {
      "text/plain": [
       "<Figure size 216x216 with 0 Axes>"
      ]
     },
     "metadata": {},
     "output_type": "display_data"
    },
    {
     "data": {
      "application/vnd.jupyter.widget-view+json": {
       "model_id": "bcb1b879d27545e39071d7f4caefe165",
       "version_major": 2,
       "version_minor": 0
      },
      "text/plain": [
       "interactive(children=(IntSlider(value=1, description='w', max=10), FloatSlider(value=1.0, description='amp', m…"
      ]
     },
     "metadata": {},
     "output_type": "display_data"
    }
   ],
   "source": [
    "# Method 1 : \n",
    "#  (a) CLEAR FIGURE\n",
    "#  (b) PLOT AGAIN with each interaction\n",
    "#\n",
    "# BACKEND: ALL -- ONLY FUNCTIONAL METHOD WITH INLINE\n",
    "# REMARK: \n",
    "#    - AVOID creating a new figure with each iteration \n",
    "#    - While figures are no longer accessible for interaction after rendering in the inline backend,\n",
    "#        these figures are NOT closed automatically\n",
    "\n",
    "def my_sine(x, w, amp, phi):\n",
    "    return amp*np.sin(w * (x-phi))\n",
    "#\n",
    "x = np.linspace(0, 2 * np.pi, 100)\n",
    "fig = plt.figure(figsize=(3,3))\n",
    "\n",
    "@interact(w=(0, 10, 1), amp=(0, 4, .1), phi=(0, 2*np.pi, 0.01))\n",
    "def update(w = 1.0, amp=1, phi=0):\n",
    "    # clear the figure and start over\n",
    "    plt.clf()\n",
    "    plt.plot(x, my_sine(x, w, amp, phi), color='C0')\n",
    "    plt.ylim([-4, 4])\n",
    "    plt.grid(True)"
   ]
  },
  {
   "cell_type": "code",
   "execution_count": 6,
   "metadata": {},
   "outputs": [
    {
     "data": {
      "image/png": "[encoded data removed]",
      "text/plain": [
       "<Figure size 216x216 with 1 Axes>"
      ]
     },
     "metadata": {
      "needs_background": "light"
     },
     "output_type": "display_data"
    },
    {
     "data": {
      "application/vnd.jupyter.widget-view+json": {
       "model_id": "60dc846a33f24623b0fcb753ce6f4c59",
       "version_major": 2,
       "version_minor": 0
      },
      "text/plain": [
       "interactive(children=(IntSlider(value=1, description='w', max=10), FloatSlider(value=1.0, description='amp', m…"
      ]
     },
     "metadata": {},
     "output_type": "display_data"
    }
   ],
   "source": [
    "# Method 2: CLEAR selected axes and redraw with each operation (use OO API)\n",
    "# BACKENDS: NOT for INLINE !\n",
    "def my_sine(x, w, amp, phi):\n",
    "    return amp*np.sin(w * (x-phi))\n",
    "#\n",
    "x = np.linspace(0, 2 * np.pi, 100)\n",
    "fig, ax = plt.subplots(figsize=(3, 3))\n",
    "\n",
    "@interact(w=(0, 10, 1), amp=(0, 4, .1), phi=(0, 2*np.pi, 0.01))\n",
    "def update(w = 1.0, amp=1, phi=0):\n",
    "    plt.cla()\n",
    "    ax.plot(x, my_sine(x, w, amp, phi), color='C0')\n",
    "    ax.set_ylim([-4, 4])\n",
    "    ax.grid(True)"
   ]
  },
  {
   "cell_type": "code",
   "execution_count": 7,
   "metadata": {},
   "outputs": [
    {
     "data": {
      "image/png": "[encoded data removed]",
      "text/plain": [
       "<Figure size 288x288 with 1 Axes>"
      ]
     },
     "metadata": {
      "needs_background": "light"
     },
     "output_type": "display_data"
    },
    {
     "data": {
      "application/vnd.jupyter.widget-view+json": {
       "model_id": "2a5149bda56b41a1a4f4e632c0040d5a",
       "version_major": 2,
       "version_minor": 0
      },
      "text/plain": [
       "interactive(children=(IntSlider(value=1, description='w', max=10), FloatSlider(value=1.0, description='amp', m…"
      ]
     },
     "metadata": {},
     "output_type": "display_data"
    }
   ],
   "source": [
    "# Method 3: Only update line data inside existing axis\n",
    "# BACKENDS: NOT for INLINE !\n",
    "# \n",
    "\n",
    "def my_sine(x, w, amp, phi):\n",
    "    return amp*np.sin(w * (x-phi))\n",
    "#\n",
    "x = np.linspace(0, 2 * np.pi, 100)\n",
    "fig, ax = plt.subplots(figsize=(4, 4))\n",
    "ax.set_ylim([-4, 4])\n",
    "ax.grid(True)\n",
    "\n",
    "@interact(w=(0, 10, 1), amp=(0, 4, .1), phi=(0, 2*np.pi, 0.01))\n",
    "def update(w = 1.0, amp=1, phi=0):\n",
    "    \"\"\"Remove old lines from plot and plot new one\"\"\"\n",
    "    [l.remove() for l in ax.lines]\n",
    "    ax.plot(x, my_sine(x, w, amp, phi), color='C0')"
   ]
  },
  {
   "cell_type": "markdown",
   "metadata": {},
   "source": [
    "## Updating the plot line data"
   ]
  },
  {
   "cell_type": "code",
   "execution_count": 8,
   "metadata": {},
   "outputs": [
    {
     "data": {
      "image/png": "[encoded data removed]",
      "text/plain": [
       "<Figure size 288x288 with 1 Axes>"
      ]
     },
     "metadata": {
      "needs_background": "light"
     },
     "output_type": "display_data"
    },
    {
     "data": {
      "application/vnd.jupyter.widget-view+json": {
       "model_id": "54a19bf1b3164f77bac3cedc6e18d894",
       "version_major": 2,
       "version_minor": 0
      },
      "text/plain": [
       "interactive(children=(IntSlider(value=1, description='w', max=10), FloatSlider(value=1.0, description='amp', m…"
      ]
     },
     "metadata": {},
     "output_type": "display_data"
    }
   ],
   "source": [
    "# Method 3b: maintain the figure and just refresh the changed data\n",
    "#    1) create a figure  \n",
    "#    2)  just update the y_data if you may assume that the x_data hasn't changed; \n",
    "#          between calls \n",
    "#\n",
    "# BACKENDS: all, except 'inline'  \n",
    "# \n",
    "\n",
    "def my_sine(x, w, amp, phi):\n",
    "    \"\"\"\n",
    "    Return a sine for x with angular frequeny w and amplitude amp.\n",
    "    \"\"\"\n",
    "    return amp*np.sin(w * (x-phi))\n",
    "x = np.linspace(0, 2 * np.pi, 100)\n",
    "\n",
    "#\n",
    "fig, ax = plt.subplots(figsize=(4, 4))\n",
    "ax.set_ylim([-4, 4])\n",
    "ax.grid(True)\n",
    "line, = ax.plot(x, my_sine(x, 0,0,0), color='C0')\n",
    "\n",
    "@interact(w=(0, 10, 1), amp=(0, 4, .1), phi=(0, 2*np.pi+0.01, 0.01))\n",
    "def update(w = 1.0, amp=1, phi=0):\n",
    "    \"\"\"change the ydata values \"\"\"\n",
    "    line.set_ydata( my_sine(x, w, amp, phi) )\n",
    "    fig.canvas.draw()\n",
    "    # fig.canvas.flush_events()"
   ]
  },
  {
   "cell_type": "code",
   "execution_count": 9,
   "metadata": {},
   "outputs": [
    {
     "data": {
      "text/plain": [
       "<Figure size 720x288 with 0 Axes>"
      ]
     },
     "metadata": {},
     "output_type": "display_data"
    },
    {
     "data": {
      "application/vnd.jupyter.widget-view+json": {
       "model_id": "78b16df1f900472ebc7122eb5e879e74",
       "version_major": 2,
       "version_minor": 0
      },
      "text/plain": [
       "interactive(children=(Dropdown(description='Signal', options=('sin', 'square', 'sawtooth'), value='sin'), Floa…"
      ]
     },
     "metadata": {},
     "output_type": "display_data"
    }
   ],
   "source": [
    "# a simple audio signal generator\n",
    "# with control for type amplitude, phase ... \n",
    "#\n",
    "# the audio is immediately generated and rendered\n",
    "#   continuous update are used for frequency and amplitude\n",
    "#   continuous_update=False is used for the duration widget\n",
    "# !! setting continuous_update is the only 'easy' control over frequency of update with interact()\n",
    "# !! more complex asynchronous implementations are suggested on the ipywidgets doc pages\n",
    "# !! under 'debouncing' and 'throttling' .. but this complicates the code significantly\n",
    "# https://ipywidgets.readthedocs.io/en/latest/examples/Widget%20Events.html?highlight=continuous_update#Continuous-updates\n",
    "# !! these solutions are not applicable to interact(), but require .observe() instead, see later\n",
    "#\n",
    "# as the x-axis needs to be modified with the duration\n",
    "#  it is more appropriate to do full redraws at every iteration\n",
    "#\n",
    "# BACKENDS: all\n",
    "#\n",
    "samplerate=8000\n",
    "def generate(type='sin', freq=200.0, Fs=samplerate, Tmax=0.5):\n",
    "    t = np.linspace(0.0, Tmax, int(Tmax*Fs), endpoint=False)\n",
    "    if type == 'sin':\n",
    "        x = np.sin(2.0*np.pi*freq*t)\n",
    "    elif type == 'square':\n",
    "        x = signal.square(2.0*np.pi*freq*t)\n",
    "    elif type == 'sawtooth':\n",
    "        x = signal.sawtooth(2.0*np.pi*freq*t)\n",
    "    else:\n",
    "        print( 'signal: Unrecognized signal type')\n",
    "    return x, t\n",
    "\n",
    "signal_types = [ 'sin', 'square', 'sawtooth' ]\n",
    "# alternative to Dropdown is to use RadioButtons\n",
    "wg_signal = widgets.Dropdown(options=signal_types,\n",
    "                             value='sin',description=\"Signal\")\n",
    "wg_amp = widgets.FloatSlider(value=0.5,step=0.05,max=1.0,description='Amplitude')\n",
    "wg_freq = widgets.FloatSlider(value=200.0,step=5.0,min=50.0,max=500.0,description='Frequency')\n",
    "wg_Tmax = widgets.FloatSlider(value=0.4,step=0.1,min=0.1,max=2.0,description='Duration',\n",
    "                             continuous_update=False)\n",
    "#wg_check = widgets.Checkbox(description='Display Play Button',value=True)\n",
    "\n",
    "fig = plt.figure(figsize=(10,4))\n",
    "first_time = True\n",
    "\n",
    "# in this example we use interact and full replotting\n",
    "# this seems to work well with ALL backends\n",
    "@interact(t=wg_signal,f=wg_freq,A=wg_amp,T=wg_Tmax)\n",
    "def plot_fn(t,f,A,T):\n",
    "    global first_time\n",
    "    x1, t1 = generate(freq=f,type=t,Tmax=T)\n",
    "    y1=A*x1\n",
    "    plt.cla()\n",
    "    plt.plot(t1,y1)\n",
    "    plt.ylim(-1,1)\n",
    "    ipd.display(ipd.Audio(data=y1,rate=samplerate,normalize=False, autoplay=True))\n",
    "    return"
   ]
  },
  {
   "cell_type": "markdown",
   "metadata": {},
   "source": [
    "# 2. Using observe() and callbacks for more control over the interaction\n",
    "## The Output Widget, Widget Boxes, Observers, Classes, ... and fragile backends"
   ]
  },
  {
   "cell_type": "code",
   "execution_count": 13,
   "metadata": {},
   "outputs": [
    {
     "data": {
      "application/vnd.jupyter.widget-view+json": {
       "model_id": "849bc7dbaba14d2ea5967ddea11b4fac",
       "version_major": 2,
       "version_minor": 0
      },
      "text/plain": [
       "HBox(children=(VBox(children=(IntSlider(value=1, description='freq', max=10), ColorPicker(value='#FF0000', des…"
      ]
     },
     "metadata": {},
     "output_type": "display_data"
    },
    {
     "data": {
      "image/png": "[encoded data removed]",
      "text/plain": [
       "<Figure size 288x288 with 1 Axes>"
      ]
     },
     "metadata": {
      "needs_background": "light"
     },
     "output_type": "display_data"
    }
   ],
   "source": [
    "# create some x data and plot it in the output widget\n",
    "# give control over data, axis, .. via control widgets using callbacks\n",
    "#\n",
    "x = np.linspace(0, 2 * np.pi, 100)\n",
    "output = widgets.Output() \n",
    "with output:\n",
    "    fig, ax = plt.subplots(constrained_layout=True, figsize=(4, 4))\n",
    "# move the toolbar to the bottom\n",
    "fig.canvas.toolbar_position = 'bottom'\n",
    "ax.grid(True)    \n",
    "line, = ax.plot(x, np.sin(x), '#FF0000')\n",
    "\n",
    "# create some control elements\n",
    "int_slider = widgets.IntSlider(value=1, min=0, max=10, step=1, description='freq')\n",
    "color_picker = widgets.ColorPicker(value='#FF0000', description='pick a color')\n",
    "text_xlabel = widgets.Text(value='', description='xlabel', continuous_update=False)\n",
    "text_ylabel = widgets.Text(value='', description='ylabel', continuous_update=False)\n",
    " \n",
    "# callback functions\n",
    "def update(change):\n",
    "    \"\"\"redraw line (update plot)\"\"\"\n",
    "    line.set_ydata(np.sin(change.new * x))\n",
    "    fig.canvas.draw()\n",
    "     \n",
    "def line_color(change):\n",
    "    \"\"\"set line color\"\"\"\n",
    "    line.set_color(change.new)\n",
    "     \n",
    "def update_xlabel(change):\n",
    "    ax.set_xlabel(change.new)\n",
    "     \n",
    "def update_ylabel(change):\n",
    "    ax.set_ylabel(change.new)\n",
    " \n",
    "# connect callbacks and traits\n",
    "int_slider.observe(update, 'value')\n",
    "color_picker.observe(line_color, 'value')\n",
    "text_xlabel.observe(update_xlabel, 'value')\n",
    "text_ylabel.observe(update_ylabel, 'value')\n",
    " \n",
    "text_xlabel.value = 'x'\n",
    "text_ylabel.value = 'y'\n",
    "controls = widgets.VBox([int_slider, color_picker, text_xlabel, text_ylabel])\n",
    "widgets.HBox([controls, output])"
   ]
  },
  {
   "cell_type": "markdown",
   "metadata": {},
   "source": [
    "## Packing components in a class\n",
    "### Leveraging the Output widget, observers, classes, ..\n",
    "### Dedicated to the 'widget' mpl backend\n",
    "\n",
    "This is a copy from the Kapernikov tutorial ( https://kapernikov.com/ipywidgets-with-matplotlib/ )\n",
    "\n",
    "To create more high level components, we can also subclass a container and build up our gui from within. Containers have a `children` property to which we can assign a list of widgets that should be displayed. Although, we can assign a list, this is turned into a tuple and cannot be modified afterwards.\n",
    "To remove or add a widget at runtime, the children tuple can be turned back into a list, followed by an insert or deletion and finalised by reassigning to the children property. Since it can be easy to make mistakes when going by index, I tend to add a placeholder box in which I only place the 'dynamic' widget.\n",
    "\n",
    "The example below, packs the entire oscilloscope 'dashboard' in a single component by subclassing `VBox`. All the required widgets are defined in the Sines class and added as its `children`. The callbacks are defined as instance methods. It may not be a masterpiece in object oriented programming, but hopefully it shows the idea of constructing larger reusable components. Note that, we need to call `super().__init__()` from `__init__` to properly initialise the parent class. "
   ]
  },
  {
   "cell_type": "code",
   "execution_count": 14,
   "metadata": {},
   "outputs": [
    {
     "data": {
      "application/vnd.jupyter.widget-view+json": {
       "model_id": "fff5e9ca1f4c4f13ad87da37391fe299",
       "version_major": 2,
       "version_minor": 0
      },
      "text/plain": [
       "Sines(children=(VBox(children=(IntSlider(value=1, description='freq', max=10), ColorPicker(value='#FF00DD', de…"
      ]
     },
     "metadata": {},
     "output_type": "display_data"
    },
    {
     "data": {
      "image/png": "[encoded data removed]",
      "text/plain": [
       "<Figure size 360x252 with 1 Axes>"
      ]
     },
     "metadata": {
      "needs_background": "light"
     },
     "output_type": "display_data"
    }
   ],
   "source": [
    "def make_box_layout():\n",
    "     return widgets.Layout(\n",
    "        border='solid 1px black',\n",
    "        margin='0px 10px 10px 0px',\n",
    "        padding='5px 5px 5px 5px'\n",
    "     )\n",
    "\n",
    "class Sines(widgets.HBox):\n",
    "    \n",
    "    def __init__(self):\n",
    "        super().__init__()\n",
    "        output = widgets.Output()\n",
    "\n",
    "        self.x = np.linspace(0, 2 * np.pi, 100)\n",
    "        initial_color = '#FF00DD'\n",
    "\n",
    "        with output:\n",
    "            self.fig, self.ax = plt.subplots(constrained_layout=True, figsize=(5, 3.5))\n",
    "        self.line, = self.ax.plot(self.x, np.sin(self.x), initial_color)\n",
    "        \n",
    "        self.fig.canvas.toolbar_position = 'bottom'\n",
    "        self.ax.grid(True)\n",
    "\n",
    "        # define widgets\n",
    "        int_slider = widgets.IntSlider(\n",
    "            value=1, \n",
    "            min=0, \n",
    "            max=10, \n",
    "            step=1, \n",
    "            description='freq'\n",
    "        )\n",
    "        color_picker = widgets.ColorPicker(\n",
    "            value=initial_color, \n",
    "            description='pick a color'\n",
    "        )\n",
    "        text_xlabel = widgets.Text(\n",
    "            value='', \n",
    "            description='xlabel', \n",
    "            continuous_update=False\n",
    "        )\n",
    "        text_ylabel = widgets.Text(\n",
    "            value='', \n",
    "            description='ylabel', \n",
    "            continuous_update=False\n",
    "        )\n",
    "\n",
    "        controls = widgets.VBox([\n",
    "            int_slider, \n",
    "            color_picker, \n",
    "            text_xlabel, \n",
    "            text_ylabel\n",
    "        ])\n",
    "        controls.layout = make_box_layout()\n",
    "        \n",
    "        out_box = widgets.Box([output])\n",
    "        output.layout = make_box_layout()\n",
    "\n",
    "        # observe stuff\n",
    "        int_slider.observe(self.update, 'value')\n",
    "        color_picker.observe(self.line_color, 'value')\n",
    "        text_xlabel.observe(self.update_xlabel, 'value')\n",
    "        text_ylabel.observe(self.update_ylabel, 'value')\n",
    "        \n",
    "        text_xlabel.value = 'x'\n",
    "        text_ylabel.value = 'y'\n",
    "        \n",
    "\n",
    "        # add to children\n",
    "        self.children = [controls, output]\n",
    "    \n",
    "    def update(self, change):\n",
    "        \"\"\"Draw line in plot\"\"\"\n",
    "        self.line.set_ydata(np.sin(change.new * self.x))\n",
    "        self.fig.canvas.draw()\n",
    "\n",
    "    def line_color(self, change):\n",
    "        self.line.set_color(change.new)\n",
    "\n",
    "    def update_xlabel(self, change):\n",
    "        self.ax.set_xlabel(change.new)\n",
    "\n",
    "    def update_ylabel(self, change):\n",
    "        self.ax.set_ylabel(change.new)\n",
    "        \n",
    "        \n",
    "Sines()"
   ]
  },
  {
   "cell_type": "code",
   "execution_count": 15,
   "metadata": {},
   "outputs": [
    {
     "data": {
      "text/plain": [
       "<Figure size 216x216 with 0 Axes>"
      ]
     },
     "metadata": {},
     "output_type": "display_data"
    },
    {
     "data": {
      "application/vnd.jupyter.widget-view+json": {
       "model_id": "1c70cc00606f42d2ba94f6c8816e0687",
       "version_major": 2,
       "version_minor": 0
      },
      "text/plain": [
       "interactive(children=(IntSlider(value=1, description='w', max=10), FloatSlider(value=1.0, description='amp', m…"
      ]
     },
     "metadata": {},
     "output_type": "display_data"
    }
   ],
   "source": [
    "# Method 2: CLEAR selected axes and redraw with each operation (use OO API)\n",
    "# BACKENDS: NOT for INLINE !\n",
    "def my_sine(x, w, amp, phi):\n",
    "    return amp*np.sin(w * (x-phi))\n",
    "#\n",
    "x = np.linspace(0, 2 * np.pi, 100)\n",
    "fig= plt.figure(figsize=(3, 3))\n",
    "\n",
    "@interact(w=(0, 10, 1), amp=(0, 4, .1), phi=(0, 2*np.pi, 0.01))\n",
    "def update(w = 1.0, amp=1, phi=0):\n",
    "    plt.clf()\n",
    "    gs = fig.add_gridspec(2, 1)\n",
    "    ax1 = fig.add_subplot(gs[0, 0])\n",
    "    ax2 = fig.add_subplot(gs[1, 0])\n",
    "    #ax = fig.add_axes()\n",
    "    ax1.plot(x, my_sine(x, w, amp, phi), color='C0')\n",
    "    ax1.set_ylim([-4, 4])\n",
    "    ax1.grid(True)\n",
    "    #plt.show()"
   ]
  },
  {
   "cell_type": "code",
   "execution_count": null,
   "metadata": {},
   "outputs": [],
   "source": []
  }
 ],
 "metadata": {
  "kernelspec": {
   "display_name": "Python 3",
   "language": "python",
   "name": "python3"
  },
  "language_info": {
   "codemirror_mode": {
    "name": "ipython",
    "version": 3
   },
   "file_extension": ".py",
   "mimetype": "text/x-python",
   "name": "python",
   "nbconvert_exporter": "python",
   "pygments_lexer": "ipython3",
   "version": "3.8.3"
  },
  "widgets": {
   "application/vnd.jupyter.widget-state+json": {
    "state": {
     "05e24437c33346769c5f92848caacb71": {
      "model_module": "@jupyter-widgets/controls",
      "model_module_version": "1.5.0",
      "model_name": "SliderStyleModel",
      "state": {
       "description_width": ""
      }
     },
     "0808b48e32e8483187eae37af042fba9": {
      "model_module": "@jupyter-widgets/base",
      "model_module_version": "1.2.0",
      "model_name": "LayoutModel",
      "state": {}
     },
     "0bd223ca8d9d4fcd9ebcc0d54a2eacd5": {
      "model_module": "@jupyter-widgets/controls",
      "model_module_version": "1.5.0",
      "model_name": "TextModel",
      "state": {
       "continuous_update": false,
       "description": "ylabel",
       "layout": "IPY_MODEL_a082dab9982c490fbc403b27825224d1",
       "style": "IPY_MODEL_b39e938ae7c849a4b17180994c301bc8",
       "value": "y"
      }
     },
     "0f711e1d1d0b47f6bb4c21845cf6774f": {
      "model_module": "@jupyter-widgets/base",
      "model_module_version": "1.2.0",
      "model_name": "LayoutModel",
      "state": {}
     },
     "0ff6786ac7684e72a87094ed256f724d": {
      "model_module": "@jupyter-widgets/base",
      "model_module_version": "1.2.0",
      "model_name": "LayoutModel",
      "state": {}
     },
     "100fbb5f95e34e8f8fecf52115dd788c": {
      "model_module": "@jupyter-widgets/controls",
      "model_module_version": "1.5.0",
      "model_name": "DescriptionStyleModel",
      "state": {
       "description_width": ""
      }
     },
     "12189f8ad70b444a9acd6c2ce2b00fe9": {
      "model_module": "@jupyter-widgets/controls",
      "model_module_version": "1.5.0",
      "model_name": "FloatSliderModel",
      "state": {
       "description": "amp",
       "layout": "IPY_MODEL_cd1d3ae9701c4a619c31d175ddec131f",
       "max": 4,
       "step": 0.1,
       "style": "IPY_MODEL_8df3d1f850be4ee7aa27e3e44e32b522",
       "value": 1
      }
     },
     "123935791c28462988c3950b98cf3eaa": {
      "model_module": "@jupyter-widgets/base",
      "model_module_version": "1.2.0",
      "model_name": "LayoutModel",
      "state": {}
     },
     "13f2fd92105340d9b5b80f3beea31955": {
      "model_module": "@jupyter-widgets/base",
      "model_module_version": "1.2.0",
      "model_name": "LayoutModel",
      "state": {}
     },
     "150003aa2f0b4901bd287b9c4273d0ff": {
      "model_module": "@jupyter-widgets/controls",
      "model_module_version": "1.5.0",
      "model_name": "ColorPickerModel",
      "state": {
       "description": "pick a color",
       "disabled": false,
       "layout": "IPY_MODEL_35ea6288a04e4f47b7880ab20013e763",
       "style": "IPY_MODEL_cdc3b18b2f3b4390bdbd8a6300c79155",
       "value": "#FF00DD"
      }
     },
     "16dc393720a640d592468eab0678362e": {
      "model_module": "@jupyter-widgets/controls",
      "model_module_version": "1.5.0",
      "model_name": "FloatSliderModel",
      "state": {
       "description": "amp",
       "layout": "IPY_MODEL_a6a45555242445b6b58943ce5b0e2d1a",
       "max": 4,
       "step": 0.1,
       "style": "IPY_MODEL_941535c7c759486aad9d5546e56ac7de",
       "value": 1
      }
     },
     "170dd29d4443479ca7ebe00acbefe335": {
      "model_module": "@jupyter-widgets/controls",
      "model_module_version": "1.5.0",
      "model_name": "DescriptionStyleModel",
      "state": {
       "description_width": ""
      }
     },
     "177423fbcc204231aabc05659064ab28": {
      "model_module": "@jupyter-widgets/base",
      "model_module_version": "1.2.0",
      "model_name": "LayoutModel",
      "state": {}
     },
     "18a1db3c20074c3eb4725904c3e33ba2": {
      "model_module": "@jupyter-widgets/controls",
      "model_module_version": "1.5.0",
      "model_name": "VBoxModel",
      "state": {
       "children": [
        "IPY_MODEL_c8d01219122c4f19871c7c02a41cbfc0",
        "IPY_MODEL_2f3a5a4a4df74a0789066414ffb528da",
        "IPY_MODEL_231e6381584d47d980d9c6216f2d0250",
        "IPY_MODEL_f0725425e1b74962a8e6a6e354a44c69"
       ],
       "layout": "IPY_MODEL_1c084b22c3fd4d70b4126aaca3ff43dd"
      }
     },
     "1a14a0eff40941ec9ae2e46a6978f1cb": {
      "model_module": "@jupyter-widgets/base",
      "model_module_version": "1.2.0",
      "model_name": "LayoutModel",
      "state": {}
     },
     "1adb075a1c874e4b86e921ce00b0e84d": {
      "model_module": "@jupyter-widgets/output",
      "model_module_version": "1.0.0",
      "model_name": "OutputModel",
      "state": {
       "layout": "IPY_MODEL_eaae8af82cbf49daa1cdb2d803bcf839"
      }
     },
     "1b2a577c743c49618a933a9089bd9771": {
      "model_module": "@jupyter-widgets/base",
      "model_module_version": "1.2.0",
      "model_name": "LayoutModel",
      "state": {}
     },
     "1bbb1bdcc23e43a58823b109ce859f4a": {
      "model_module": "@jupyter-widgets/controls",
      "model_module_version": "1.5.0",
      "model_name": "SliderStyleModel",
      "state": {
       "description_width": ""
      }
     },
     "1c084b22c3fd4d70b4126aaca3ff43dd": {
      "model_module": "@jupyter-widgets/base",
      "model_module_version": "1.2.0",
      "model_name": "LayoutModel",
      "state": {}
     },
     "1c70cc00606f42d2ba94f6c8816e0687": {
      "model_module": "@jupyter-widgets/controls",
      "model_module_version": "1.5.0",
      "model_name": "VBoxModel",
      "state": {
       "_dom_classes": [
        "widget-interact"
       ],
       "children": [
        "IPY_MODEL_79d6faa83bcc4fb19c9cfa3274b774c6",
        "IPY_MODEL_12189f8ad70b444a9acd6c2ce2b00fe9",
        "IPY_MODEL_819b87152c464e8b9133f323bc234bf1",
        "IPY_MODEL_f2fcc2f9a4044739b69f71013d4f5a67"
       ],
       "layout": "IPY_MODEL_4c78a83282cb4e4db3936a88370d7f00"
      }
     },
     "1f3b39172c784249926c98ca40166ad7": {
      "model_module": "@jupyter-widgets/base",
      "model_module_version": "1.2.0",
      "model_name": "LayoutModel",
      "state": {}
     },
     "1fabc3c1a2984be79bf30b4f70913904": {
      "model_module": "@jupyter-widgets/base",
      "model_module_version": "1.2.0",
      "model_name": "LayoutModel",
      "state": {}
     },
     "212653aae7304b61bce0eb5eb57657b6": {
      "model_module": "@jupyter-widgets/controls",
      "model_module_version": "1.5.0",
      "model_name": "HBoxModel",
      "state": {
       "children": [
        "IPY_MODEL_18a1db3c20074c3eb4725904c3e33ba2",
        "IPY_MODEL_b6f5646fa414401ab3f07f183ea8e859"
       ],
       "layout": "IPY_MODEL_d323bdbef352439a86490e066fa303e0"
      }
     },
     "2232144defcf4c338ec876349f9fe704": {
      "model_module": "@jupyter-widgets/output",
      "model_module_version": "1.0.0",
      "model_name": "OutputModel",
      "state": {
       "layout": "IPY_MODEL_4024869625ac4a7e951099ae39232e07",
       "outputs": [
        {
         "data": {
          "text/plain": "<Figure size 432x288 with 0 Axes>"
         },
         "metadata": {},
         "output_type": "display_data"
        }
       ]
      }
     },
     "231e6381584d47d980d9c6216f2d0250": {
      "model_module": "@jupyter-widgets/controls",
      "model_module_version": "1.5.0",
      "model_name": "TextModel",
      "state": {
       "continuous_update": false,
       "description": "xlabel",
       "layout": "IPY_MODEL_f0ac0e39d52347ec8131c043a9247194",
       "style": "IPY_MODEL_100fbb5f95e34e8f8fecf52115dd788c",
       "value": "x"
      }
     },
     "232f1dd2ae7848ceba409c3d44c2b1a0": {
      "model_module": "@jupyter-widgets/controls",
      "model_module_version": "1.5.0",
      "model_name": "IntSliderModel",
      "state": {
       "description": "freq",
       "layout": "IPY_MODEL_b91ecd61ab874b9293202f5d16ca2127",
       "max": 10,
       "style": "IPY_MODEL_f841c85e740748cdbb33a1476b6d61d9",
       "value": 1
      }
     },
     "26963e74b43a4e6bbe00c6b7c48cd6e0": {
      "model_module": "@jupyter-widgets/controls",
      "model_module_version": "1.5.0",
      "model_name": "TextModel",
      "state": {
       "continuous_update": false,
       "description": "xlabel",
       "layout": "IPY_MODEL_0ff6786ac7684e72a87094ed256f724d",
       "style": "IPY_MODEL_9e1df91ed27845f69d4905e52a8a7a0c",
       "value": "x"
      }
     },
     "2a5149bda56b41a1a4f4e632c0040d5a": {
      "model_module": "@jupyter-widgets/controls",
      "model_module_version": "1.5.0",
      "model_name": "VBoxModel",
      "state": {
       "_dom_classes": [
        "widget-interact"
       ],
       "children": [
        "IPY_MODEL_69f6e25066f34264abd1e6255b9faf8a",
        "IPY_MODEL_7644a611da184e03a9a4fa6130def7dd",
        "IPY_MODEL_2cb91ea4a4aa47abb42704e6c1cdfa61",
        "IPY_MODEL_d03c7afb0cda4c50a65e82e7bc73e90e"
       ],
       "layout": "IPY_MODEL_f502a65f48c549389fc2d88c63547549"
      }
     },
     "2cb91ea4a4aa47abb42704e6c1cdfa61": {
      "model_module": "@jupyter-widgets/controls",
      "model_module_version": "1.5.0",
      "model_name": "FloatSliderModel",
      "state": {
       "description": "phi",
       "layout": "IPY_MODEL_a418e0a2232745228d62329d50028db9",
       "max": 6.283185307179586,
       "step": 0.01,
       "style": "IPY_MODEL_bbd9762eb7d64806ba138409414c19d3"
      }
     },
     "2f3a5a4a4df74a0789066414ffb528da": {
      "model_module": "@jupyter-widgets/controls",
      "model_module_version": "1.5.0",
      "model_name": "ColorPickerModel",
      "state": {
       "description": "pick a color",
       "disabled": false,
       "layout": "IPY_MODEL_f893e4af11e7446eabfa895763a8b882",
       "style": "IPY_MODEL_d533533d733f462b88a183c2ba1ecc63",
       "value": "#FF0000"
      }
     },
     "2fc8a03ae50247e79803a1cec938281e": {
      "model_module": "@jupyter-widgets/base",
      "model_module_version": "1.2.0",
      "model_name": "LayoutModel",
      "state": {}
     },
     "35c49de931ab4a08b1f9df5ffaab16a2": {
      "model_module": "@jupyter-widgets/controls",
      "model_module_version": "1.5.0",
      "model_name": "SliderStyleModel",
      "state": {
       "description_width": ""
      }
     },
     "35ea6288a04e4f47b7880ab20013e763": {
      "model_module": "@jupyter-widgets/base",
      "model_module_version": "1.2.0",
      "model_name": "LayoutModel",
      "state": {}
     },
     "36809758d82a4255b9d6ddd7c796c2e2": {
      "model_module": "@jupyter-widgets/controls",
      "model_module_version": "1.5.0",
      "model_name": "VBoxModel",
      "state": {
       "_dom_classes": [
        "widget-interact"
       ],
       "children": [
        "IPY_MODEL_8877a2a6c767439c8b960d44dcfd5a48",
        "IPY_MODEL_e3c476fead19482688012a28e3ff5844",
        "IPY_MODEL_c791e9717b4c4d44b6224fc503c18688",
        "IPY_MODEL_2232144defcf4c338ec876349f9fe704"
       ],
       "layout": "IPY_MODEL_7e80e092afc4442f8fb36e978b61867d"
      }
     },
     "3947088ee7a0446692b2ac1291c4f5d7": {
      "model_module": "@jupyter-widgets/controls",
      "model_module_version": "1.5.0",
      "model_name": "SliderStyleModel",
      "state": {
       "description_width": ""
      }
     },
     "396772cdf28d4ee1a108dea2fc05483a": {
      "model_module": "@jupyter-widgets/controls",
      "model_module_version": "1.5.0",
      "model_name": "FloatSliderModel",
      "state": {
       "description": "amp",
       "layout": "IPY_MODEL_4a7ad68b07ea4a65bcc51442e15cca25",
       "max": 4,
       "step": 0.1,
       "style": "IPY_MODEL_85e9416bc3b245d99574e65e5ab6bd68",
       "value": 1
      }
     },
     "3d99bb92a2cd499f9940f2c5287af11d": {
      "model_module": "@jupyter-widgets/controls",
      "model_module_version": "1.5.0",
      "model_name": "BoxModel",
      "state": {
       "children": [
        "IPY_MODEL_d38753505a184e9e9887a7458529a9a6"
       ],
       "layout": "IPY_MODEL_5dc83e48405d4d71bf27bbdb11302614"
      }
     },
     "4024869625ac4a7e951099ae39232e07": {
      "model_module": "@jupyter-widgets/base",
      "model_module_version": "1.2.0",
      "model_name": "LayoutModel",
      "state": {}
     },
     "43a989d8dbcf409b86bda5a2607f9a6c": {
      "model_module": "@jupyter-widgets/controls",
      "model_module_version": "1.5.0",
      "model_name": "SliderStyleModel",
      "state": {
       "description_width": ""
      }
     },
     "44b46588a8fe4f899d4473e7dc0ff8a6": {
      "model_module": "@jupyter-widgets/controls",
      "model_module_version": "1.5.0",
      "model_name": "SliderStyleModel",
      "state": {
       "description_width": ""
      }
     },
     "4518ea87e4734d489963c640cf2e9401": {
      "model_module": "@jupyter-widgets/controls",
      "model_module_version": "1.5.0",
      "model_name": "DescriptionStyleModel",
      "state": {
       "description_width": ""
      }
     },
     "4a7ad68b07ea4a65bcc51442e15cca25": {
      "model_module": "@jupyter-widgets/base",
      "model_module_version": "1.2.0",
      "model_name": "LayoutModel",
      "state": {}
     },
     "4c39f1ccf551438996be37fcb73916c6": {
      "model_module": "@jupyter-widgets/base",
      "model_module_version": "1.2.0",
      "model_name": "LayoutModel",
      "state": {}
     },
     "4c78a83282cb4e4db3936a88370d7f00": {
      "model_module": "@jupyter-widgets/base",
      "model_module_version": "1.2.0",
      "model_name": "LayoutModel",
      "state": {}
     },
     "512fc0022cb64ab3aad196d4b992703c": {
      "model_module": "@jupyter-widgets/controls",
      "model_module_version": "1.5.0",
      "model_name": "FloatSliderModel",
      "state": {
       "description": "Amplitude",
       "layout": "IPY_MODEL_7dc6976fee0546cf831e83c17e19e0bc",
       "max": 1,
       "step": 0.05,
       "style": "IPY_MODEL_782226f2d9fa4287b26b2c2cd8b7744f",
       "value": 0.15
      }
     },
     "537e25f158304be6819573e2803e2804": {
      "model_module": "@jupyter-widgets/base",
      "model_module_version": "1.2.0",
      "model_name": "LayoutModel",
      "state": {}
     },
     "54a19bf1b3164f77bac3cedc6e18d894": {
      "model_module": "@jupyter-widgets/controls",
      "model_module_version": "1.5.0",
      "model_name": "VBoxModel",
      "state": {
       "_dom_classes": [
        "widget-interact"
       ],
       "children": [
        "IPY_MODEL_99a93841c077410ca611bbcb768ec10a",
        "IPY_MODEL_16dc393720a640d592468eab0678362e",
        "IPY_MODEL_a8559a84fe654359a357546310b66693",
        "IPY_MODEL_e6a8da9e74c74ad0a4964a261e8c9c8e"
       ],
       "layout": "IPY_MODEL_c2b6d2eb3b574d0fb2617639a903931f"
      }
     },
     "5af9219db28f4af7b4ead27e1f9bfa5e": {
      "model_module": "@jupyter-widgets/controls",
      "model_module_version": "1.5.0",
      "model_name": "FloatSliderModel",
      "state": {
       "description": "amp",
       "layout": "IPY_MODEL_177423fbcc204231aabc05659064ab28",
       "max": 4,
       "step": 0.1,
       "style": "IPY_MODEL_3947088ee7a0446692b2ac1291c4f5d7",
       "value": 1
      }
     },
     "5b264f2785244ae593bd97bad54adf6a": {
      "model_module": "@jupyter-widgets/controls",
      "model_module_version": "1.5.0",
      "model_name": "SliderStyleModel",
      "state": {
       "description_width": ""
      }
     },
     "5b4e7b7fba0a40cb886f44d9f2f81112": {
      "model_module": "@jupyter-widgets/controls",
      "model_module_version": "1.5.0",
      "model_name": "BoxModel",
      "state": {
       "children": [
        "IPY_MODEL_1adb075a1c874e4b86e921ce00b0e84d"
       ],
       "layout": "IPY_MODEL_be547ced74c94213a26c014328bffa4b"
      }
     },
     "5be0f767959447b79700cc71f2236dc3": {
      "model_module": "@jupyter-widgets/controls",
      "model_module_version": "1.5.0",
      "model_name": "SliderStyleModel",
      "state": {
       "description_width": ""
      }
     },
     "5cbcc6c9bba9480c815e050d993301c2": {
      "model_module": "@jupyter-widgets/output",
      "model_module_version": "1.0.0",
      "model_name": "OutputModel",
      "state": {
       "layout": "IPY_MODEL_afd716b17b9f4b89a19e0d9441ae33d5",
       "outputs": [
        {
         "data": {
          "image/png": "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\n",
          "text/plain": "<Figure size 432x288 with 1 Axes>"
         },
         "metadata": {
          "needs_background": "light"
         },
         "output_type": "display_data"
        }
       ]
      }
     },
     "5dc83e48405d4d71bf27bbdb11302614": {
      "model_module": "@jupyter-widgets/base",
      "model_module_version": "1.2.0",
      "model_name": "LayoutModel",
      "state": {}
     },
     "5f4c978e02084cc0af0cccf3dfe3746a": {
      "model_module": "@jupyter-widgets/controls",
      "model_module_version": "1.5.0",
      "model_name": "TextModel",
      "state": {
       "continuous_update": false,
       "description": "ylabel",
       "layout": "IPY_MODEL_cb365b35b62a4f6ebe4f627e51ad5f98",
       "style": "IPY_MODEL_88db8fe7073d4f359cf81877e256116e",
       "value": "y"
      }
     },
     "60dc846a33f24623b0fcb753ce6f4c59": {
      "model_module": "@jupyter-widgets/controls",
      "model_module_version": "1.5.0",
      "model_name": "VBoxModel",
      "state": {
       "_dom_classes": [
        "widget-interact"
       ],
       "children": [
        "IPY_MODEL_d750946ea8624dfd8ff9ea0851bdc412",
        "IPY_MODEL_5af9219db28f4af7b4ead27e1f9bfa5e",
        "IPY_MODEL_8b360141a9b64e67a164209fed5b4f4e",
        "IPY_MODEL_5cbcc6c9bba9480c815e050d993301c2"
       ],
       "layout": "IPY_MODEL_1b2a577c743c49618a933a9089bd9771"
      }
     },
     "6777deb3a002408e9067c78538522533": {
      "model_module": "@jupyter-widgets/base",
      "model_module_version": "1.2.0",
      "model_name": "LayoutModel",
      "state": {}
     },
     "678b98874cc34d378c513a30e86b6067": {
      "model_module": "@jupyter-widgets/controls",
      "model_module_version": "1.5.0",
      "model_name": "IntSliderModel",
      "state": {
       "description": "w",
       "layout": "IPY_MODEL_13f2fd92105340d9b5b80f3beea31955",
       "max": 10,
       "style": "IPY_MODEL_43a989d8dbcf409b86bda5a2607f9a6c",
       "value": 1
      }
     },
     "67cbcf2bf97a4afda1aecaa4bb5a699d": {
      "model_module": "@jupyter-widgets/base",
      "model_module_version": "1.2.0",
      "model_name": "LayoutModel",
      "state": {}
     },
     "69f6e25066f34264abd1e6255b9faf8a": {
      "model_module": "@jupyter-widgets/controls",
      "model_module_version": "1.5.0",
      "model_name": "IntSliderModel",
      "state": {
       "description": "w",
       "layout": "IPY_MODEL_f0588e7f30444da58171023b8f6a6ddb",
       "max": 10,
       "style": "IPY_MODEL_f15f089ed7944dadaac052cac28bc603",
       "value": 1
      }
     },
     "6a5396e20c0c479490b1a724b455256b": {
      "model_module": "@jupyter-widgets/base",
      "model_module_version": "1.2.0",
      "model_name": "LayoutModel",
      "state": {}
     },
     "6f441b810d66479eb106f27808f26b0e": {
      "model_module": "@jupyter-widgets/base",
      "model_module_version": "1.2.0",
      "model_name": "LayoutModel",
      "state": {}
     },
     "742bdd9b64764d64a36d900dbea2f836": {
      "model_module": "@jupyter-widgets/base",
      "model_module_version": "1.2.0",
      "model_name": "LayoutModel",
      "state": {}
     },
     "75c7b13412ff43e0a6abd83fc30f37a8": {
      "model_module": "@jupyter-widgets/controls",
      "model_module_version": "1.5.0",
      "model_name": "DescriptionStyleModel",
      "state": {
       "description_width": ""
      }
     },
     "7644a611da184e03a9a4fa6130def7dd": {
      "model_module": "@jupyter-widgets/controls",
      "model_module_version": "1.5.0",
      "model_name": "FloatSliderModel",
      "state": {
       "description": "amp",
       "layout": "IPY_MODEL_1f3b39172c784249926c98ca40166ad7",
       "max": 4,
       "step": 0.1,
       "style": "IPY_MODEL_c983d99b60644acfad145cc1e0bd49b9",
       "value": 1
      }
     },
     "771a2369d8d241d490cea616827022c6": {
      "model_module": "@jupyter-widgets/base",
      "model_module_version": "1.2.0",
      "model_name": "LayoutModel",
      "state": {}
     },
     "7780077cc95c4b8c96eb14c44c1a553e": {
      "model_module": "@jupyter-widgets/controls",
      "model_module_version": "1.5.0",
      "model_name": "SliderStyleModel",
      "state": {
       "description_width": ""
      }
     },
     "782226f2d9fa4287b26b2c2cd8b7744f": {
      "model_module": "@jupyter-widgets/controls",
      "model_module_version": "1.5.0",
      "model_name": "SliderStyleModel",
      "state": {
       "description_width": ""
      }
     },
     "78b16df1f900472ebc7122eb5e879e74": {
      "model_module": "@jupyter-widgets/controls",
      "model_module_version": "1.5.0",
      "model_name": "VBoxModel",
      "state": {
       "_dom_classes": [
        "widget-interact"
       ],
       "children": [
        "IPY_MODEL_d6110ce95673424b9e2ea64689b2c0f0",
        "IPY_MODEL_be941cf1b9d544d5a42c4e3d9e33c2eb",
        "IPY_MODEL_512fc0022cb64ab3aad196d4b992703c",
        "IPY_MODEL_b48f054bb22c4a01990c5dbb5064c88f",
        "IPY_MODEL_7a24dac9d8fe4217af7fa95d53b2c774"
       ],
       "layout": "IPY_MODEL_afd6962ff5d843a4aca100ec2f6f5b88"
      }
     },
     "79d6faa83bcc4fb19c9cfa3274b774c6": {
      "model_module": "@jupyter-widgets/controls",
      "model_module_version": "1.5.0",
      "model_name": "IntSliderModel",
      "state": {
       "description": "w",
       "layout": "IPY_MODEL_941e29bb487040b2a609a11cbe76b53d",
       "max": 10,
       "style": "IPY_MODEL_5b264f2785244ae593bd97bad54adf6a",
       "value": 4
      }
     },
     "7a24dac9d8fe4217af7fa95d53b2c774": {
      "model_module": "@jupyter-widgets/output",
      "model_module_version": "1.0.0",
      "model_name": "OutputModel",
      "state": {
       "layout": "IPY_MODEL_e018a730d77d48baadb95f9b71950852",
       "outputs": [
        {
         "data": {
          "text/html": "\n                <audio  controls=\"controls\" autoplay=\"autoplay\">\n                    <source src=\"data:audio/wav;base64,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\" type=\"audio/wav\" />\n                    Your browser does not support the audio element.\n                </audio>\n              ",
          "text/plain": "<IPython.lib.display.Audio object>"
         },
         "metadata": {},
         "output_type": "display_data"
        },
        {
         "data": {
          "image/png": "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\n",
          "text/plain": "<Figure size 432x288 with 1 Axes>"
         },
         "metadata": {
          "needs_background": "light"
         },
         "output_type": "display_data"
        }
       ]
      }
     },
     "7bc1be6bd4d34c7783349169eb610acd": {
      "model_module": "@jupyter-widgets/base",
      "model_module_version": "1.2.0",
      "model_name": "LayoutModel",
      "state": {}
     },
     "7daacce3b7fb48c6a5b908408c362815": {
      "model_module": "@jupyter-widgets/base",
      "model_module_version": "1.2.0",
      "model_name": "LayoutModel",
      "state": {}
     },
     "7dc6976fee0546cf831e83c17e19e0bc": {
      "model_module": "@jupyter-widgets/base",
      "model_module_version": "1.2.0",
      "model_name": "LayoutModel",
      "state": {}
     },
     "7e80e092afc4442f8fb36e978b61867d": {
      "model_module": "@jupyter-widgets/base",
      "model_module_version": "1.2.0",
      "model_name": "LayoutModel",
      "state": {}
     },
     "7ea61c871726438b959ebc9c91995978": {
      "model_module": "@jupyter-widgets/controls",
      "model_module_version": "1.5.0",
      "model_name": "ColorPickerModel",
      "state": {
       "description": "pick a color",
       "disabled": false,
       "layout": "IPY_MODEL_7daacce3b7fb48c6a5b908408c362815",
       "style": "IPY_MODEL_75c7b13412ff43e0a6abd83fc30f37a8",
       "value": "#FF00DD"
      }
     },
     "80a0e9c50dac439c9e38da0eb8b3dcfe": {
      "model_module": "@jupyter-widgets/controls",
      "model_module_version": "1.5.0",
      "model_name": "DescriptionStyleModel",
      "state": {
       "description_width": ""
      }
     },
     "819b87152c464e8b9133f323bc234bf1": {
      "model_module": "@jupyter-widgets/controls",
      "model_module_version": "1.5.0",
      "model_name": "FloatSliderModel",
      "state": {
       "description": "phi",
       "layout": "IPY_MODEL_d47ac2d5ca4940be9dabe876fc2bfea7",
       "max": 6.283185307179586,
       "step": 0.01,
       "style": "IPY_MODEL_44b46588a8fe4f899d4473e7dc0ff8a6"
      }
     },
     "825f195dc5db45a8a879bda9877f6ce6": {
      "model_module": "@jupyter-widgets/base",
      "model_module_version": "1.2.0",
      "model_name": "LayoutModel",
      "state": {}
     },
     "849bc7dbaba14d2ea5967ddea11b4fac": {
      "model_module": "@jupyter-widgets/controls",
      "model_module_version": "1.5.0",
      "model_name": "HBoxModel",
      "state": {
       "children": [
        "IPY_MODEL_ef5700d98106493c85e33269618a21a6",
        "IPY_MODEL_ab4b43968263452fbb94aa5ad6ae8858"
       ],
       "layout": "IPY_MODEL_a90bfb56d27d49069de02689ed108f21"
      }
     },
     "85e9416bc3b245d99574e65e5ab6bd68": {
      "model_module": "@jupyter-widgets/controls",
      "model_module_version": "1.5.0",
      "model_name": "SliderStyleModel",
      "state": {
       "description_width": ""
      }
     },
     "8877a2a6c767439c8b960d44dcfd5a48": {
      "model_module": "@jupyter-widgets/controls",
      "model_module_version": "1.5.0",
      "model_name": "IntSliderModel",
      "state": {
       "description": "w",
       "layout": "IPY_MODEL_fc2489ed908146f284b34027d1264845",
       "max": 10,
       "style": "IPY_MODEL_05e24437c33346769c5f92848caacb71",
       "value": 1
      }
     },
     "88db8fe7073d4f359cf81877e256116e": {
      "model_module": "@jupyter-widgets/controls",
      "model_module_version": "1.5.0",
      "model_name": "DescriptionStyleModel",
      "state": {
       "description_width": ""
      }
     },
     "890ec44e563141b8810eefbe4116cc57": {
      "model_module": "@jupyter-widgets/controls",
      "model_module_version": "1.5.0",
      "model_name": "DescriptionStyleModel",
      "state": {
       "description_width": ""
      }
     },
     "8af1d627535f4af681077f9c6c9bdda6": {
      "model_module": "@jupyter-widgets/base",
      "model_module_version": "1.2.0",
      "model_name": "LayoutModel",
      "state": {}
     },
     "8b360141a9b64e67a164209fed5b4f4e": {
      "model_module": "@jupyter-widgets/controls",
      "model_module_version": "1.5.0",
      "model_name": "FloatSliderModel",
      "state": {
       "description": "phi",
       "layout": "IPY_MODEL_825f195dc5db45a8a879bda9877f6ce6",
       "max": 6.283185307179586,
       "step": 0.01,
       "style": "IPY_MODEL_c9869f6b8bfa4263a8418806a903bd28"
      }
     },
     "8c0c789f40de4da1a39d31f061a4ca69": {
      "model_module": "@jupyter-widgets/base",
      "model_module_version": "1.2.0",
      "model_name": "LayoutModel",
      "state": {}
     },
     "8df3d1f850be4ee7aa27e3e44e32b522": {
      "model_module": "@jupyter-widgets/controls",
      "model_module_version": "1.5.0",
      "model_name": "SliderStyleModel",
      "state": {
       "description_width": ""
      }
     },
     "90af0de6daed494990bfd077a9871e2c": {
      "model_module": "@jupyter-widgets/base",
      "model_module_version": "1.2.0",
      "model_name": "LayoutModel",
      "state": {}
     },
     "941535c7c759486aad9d5546e56ac7de": {
      "model_module": "@jupyter-widgets/controls",
      "model_module_version": "1.5.0",
      "model_name": "SliderStyleModel",
      "state": {
       "description_width": ""
      }
     },
     "941e29bb487040b2a609a11cbe76b53d": {
      "model_module": "@jupyter-widgets/base",
      "model_module_version": "1.2.0",
      "model_name": "LayoutModel",
      "state": {}
     },
     "9910b5938aba4f76919873922fb00609": {
      "model_module": "@jupyter-widgets/controls",
      "model_module_version": "1.5.0",
      "model_name": "IntSliderModel",
      "state": {
       "description": "freq",
       "layout": "IPY_MODEL_123935791c28462988c3950b98cf3eaa",
       "max": 10,
       "style": "IPY_MODEL_7780077cc95c4b8c96eb14c44c1a553e",
       "value": 1
      }
     },
     "99934b0bd3294a02ba1a243ba0c2cb9f": {
      "model_module": "@jupyter-widgets/controls",
      "model_module_version": "1.5.0",
      "model_name": "IntSliderModel",
      "state": {
       "description": "freq",
       "layout": "IPY_MODEL_7bc1be6bd4d34c7783349169eb610acd",
       "max": 10,
       "style": "IPY_MODEL_35c49de931ab4a08b1f9df5ffaab16a2",
       "value": 3
      }
     },
     "99a93841c077410ca611bbcb768ec10a": {
      "model_module": "@jupyter-widgets/controls",
      "model_module_version": "1.5.0",
      "model_name": "IntSliderModel",
      "state": {
       "description": "w",
       "layout": "IPY_MODEL_b7e5b5672ec845eaa839dd01103f4115",
       "max": 10,
       "style": "IPY_MODEL_e0ccf4fa905c46bab06b57e4e9498f2f",
       "value": 1
      }
     },
     "9e1df91ed27845f69d4905e52a8a7a0c": {
      "model_module": "@jupyter-widgets/controls",
      "model_module_version": "1.5.0",
      "model_name": "DescriptionStyleModel",
      "state": {
       "description_width": ""
      }
     },
     "9e9bdf26d2064935872e7201586c1ac9": {
      "model_module": "@jupyter-widgets/base",
      "model_module_version": "1.2.0",
      "model_name": "LayoutModel",
      "state": {}
     },
     "a082dab9982c490fbc403b27825224d1": {
      "model_module": "@jupyter-widgets/base",
      "model_module_version": "1.2.0",
      "model_name": "LayoutModel",
      "state": {}
     },
     "a1ba7089a0c8461db078b38ac83da696": {
      "model_module": "@jupyter-widgets/base",
      "model_module_version": "1.2.0",
      "model_name": "LayoutModel",
      "state": {}
     },
     "a418e0a2232745228d62329d50028db9": {
      "model_module": "@jupyter-widgets/base",
      "model_module_version": "1.2.0",
      "model_name": "LayoutModel",
      "state": {}
     },
     "a46b3869003f468c9d36966ac196c760": {
      "model_module": "@jupyter-widgets/controls",
      "model_module_version": "1.5.0",
      "model_name": "HBoxModel",
      "state": {
       "children": [
        "IPY_MODEL_d8a028a2a8464043a496afcf8d1bd9cc",
        "IPY_MODEL_1adb075a1c874e4b86e921ce00b0e84d"
       ],
       "layout": "IPY_MODEL_0f711e1d1d0b47f6bb4c21845cf6774f"
      }
     },
     "a6a45555242445b6b58943ce5b0e2d1a": {
      "model_module": "@jupyter-widgets/base",
      "model_module_version": "1.2.0",
      "model_name": "LayoutModel",
      "state": {}
     },
     "a8559a84fe654359a357546310b66693": {
      "model_module": "@jupyter-widgets/controls",
      "model_module_version": "1.5.0",
      "model_name": "FloatSliderModel",
      "state": {
       "description": "phi",
       "layout": "IPY_MODEL_2fc8a03ae50247e79803a1cec938281e",
       "max": 6.293185307179586,
       "step": 0.01,
       "style": "IPY_MODEL_1bbb1bdcc23e43a58823b109ce859f4a"
      }
     },
     "a90bfb56d27d49069de02689ed108f21": {
      "model_module": "@jupyter-widgets/base",
      "model_module_version": "1.2.0",
      "model_name": "LayoutModel",
      "state": {}
     },
     "ab4b43968263452fbb94aa5ad6ae8858": {
      "model_module": "@jupyter-widgets/output",
      "model_module_version": "1.0.0",
      "model_name": "OutputModel",
      "state": {
       "layout": "IPY_MODEL_6777deb3a002408e9067c78538522533"
      }
     },
     "ace0dbaec69c440784cfc70dd25d16a5": {
      "model_module": "@jupyter-widgets/base",
      "model_module_version": "1.2.0",
      "model_name": "LayoutModel",
      "state": {}
     },
     "aecf7d5d5b2545529bc24b1f4ae893c0": {
      "model_module": "@jupyter-widgets/base",
      "model_module_version": "1.2.0",
      "model_name": "LayoutModel",
      "state": {
       "border": "solid 1px black",
       "margin": "0px 10px 10px 0px",
       "padding": "5px 5px 5px 5px"
      }
     },
     "afd6962ff5d843a4aca100ec2f6f5b88": {
      "model_module": "@jupyter-widgets/base",
      "model_module_version": "1.2.0",
      "model_name": "LayoutModel",
      "state": {}
     },
     "afd716b17b9f4b89a19e0d9441ae33d5": {
      "model_module": "@jupyter-widgets/base",
      "model_module_version": "1.2.0",
      "model_name": "LayoutModel",
      "state": {}
     },
     "b048988d191341d6a1974ab6115f28b1": {
      "model_module": "@jupyter-widgets/controls",
      "model_module_version": "1.5.0",
      "model_name": "DescriptionStyleModel",
      "state": {
       "description_width": ""
      }
     },
     "b285534a9b6143c5940fab556fb58f64": {
      "model_module": "@jupyter-widgets/base",
      "model_module_version": "1.2.0",
      "model_name": "LayoutModel",
      "state": {
       "border": "solid 1px black",
       "margin": "0px 10px 10px 0px",
       "padding": "5px 5px 5px 5px"
      }
     },
     "b31677f6e12840c9aa2fbcf3474886f7": {
      "model_module": "@jupyter-widgets/base",
      "model_module_version": "1.2.0",
      "model_name": "LayoutModel",
      "state": {}
     },
     "b39e938ae7c849a4b17180994c301bc8": {
      "model_module": "@jupyter-widgets/controls",
      "model_module_version": "1.5.0",
      "model_name": "DescriptionStyleModel",
      "state": {
       "description_width": ""
      }
     },
     "b48f054bb22c4a01990c5dbb5064c88f": {
      "model_module": "@jupyter-widgets/controls",
      "model_module_version": "1.5.0",
      "model_name": "FloatSliderModel",
      "state": {
       "continuous_update": false,
       "description": "Duration",
       "layout": "IPY_MODEL_ec4ff2c8fad1405ea08d8286cd04ea23",
       "max": 2,
       "min": 0.1,
       "step": 0.1,
       "style": "IPY_MODEL_f8c3fbd8908c4f4584c4d0dfa84ec7f1",
       "value": 0.5
      }
     },
     "b645812727314dbaa215bc6c653d493d": {
      "model_module": "@jupyter-widgets/base",
      "model_module_version": "1.2.0",
      "model_name": "LayoutModel",
      "state": {}
     },
     "b6f5646fa414401ab3f07f183ea8e859": {
      "model_module": "@jupyter-widgets/output",
      "model_module_version": "1.0.0",
      "model_name": "OutputModel",
      "state": {
       "layout": "IPY_MODEL_6f441b810d66479eb106f27808f26b0e"
      }
     },
     "b7e5b5672ec845eaa839dd01103f4115": {
      "model_module": "@jupyter-widgets/base",
      "model_module_version": "1.2.0",
      "model_name": "LayoutModel",
      "state": {}
     },
     "b91ecd61ab874b9293202f5d16ca2127": {
      "model_module": "@jupyter-widgets/base",
      "model_module_version": "1.2.0",
      "model_name": "LayoutModel",
      "state": {}
     },
     "bad8688e5f964fd9b3f357c787ace9c7": {
      "model_module": "@jupyter-widgets/base",
      "model_module_version": "1.2.0",
      "model_name": "LayoutModel",
      "state": {
       "border": "solid 1px black",
       "margin": "0px 10px 10px 0px",
       "padding": "5px 5px 5px 5px"
      }
     },
     "bbd9762eb7d64806ba138409414c19d3": {
      "model_module": "@jupyter-widgets/controls",
      "model_module_version": "1.5.0",
      "model_name": "SliderStyleModel",
      "state": {
       "description_width": ""
      }
     },
     "bcb1b879d27545e39071d7f4caefe165": {
      "model_module": "@jupyter-widgets/controls",
      "model_module_version": "1.5.0",
      "model_name": "VBoxModel",
      "state": {
       "_dom_classes": [
        "widget-interact"
       ],
       "children": [
        "IPY_MODEL_678b98874cc34d378c513a30e86b6067",
        "IPY_MODEL_396772cdf28d4ee1a108dea2fc05483a",
        "IPY_MODEL_c49cc309a1474fc297c05b70dc35b26a",
        "IPY_MODEL_f5345907ce9140fa91f66b2cd321cbbd"
       ],
       "layout": "IPY_MODEL_b645812727314dbaa215bc6c653d493d"
      }
     },
     "be1be3bc58e14e0593ccebb6ffccccaf": {
      "model_module": "@jupyter-widgets/controls",
      "model_module_version": "1.5.0",
      "model_name": "SliderStyleModel",
      "state": {
       "description_width": ""
      }
     },
     "be547ced74c94213a26c014328bffa4b": {
      "model_module": "@jupyter-widgets/base",
      "model_module_version": "1.2.0",
      "model_name": "LayoutModel",
      "state": {}
     },
     "be941cf1b9d544d5a42c4e3d9e33c2eb": {
      "model_module": "@jupyter-widgets/controls",
      "model_module_version": "1.5.0",
      "model_name": "FloatSliderModel",
      "state": {
       "description": "Frequency",
       "layout": "IPY_MODEL_8c0c789f40de4da1a39d31f061a4ca69",
       "max": 500,
       "min": 50,
       "step": 5,
       "style": "IPY_MODEL_f02259630ca841a8ba97c7445d173c87",
       "value": 135
      }
     },
     "c15baf65c3814a62a64b88a62afa6a6d": {
      "model_module": "@jupyter-widgets/controls",
      "model_module_version": "1.5.0",
      "model_name": "VBoxModel",
      "state": {
       "children": [
        "IPY_MODEL_99934b0bd3294a02ba1a243ba0c2cb9f",
        "IPY_MODEL_7ea61c871726438b959ebc9c91995978",
        "IPY_MODEL_e54c97cddc3f4b13bdee568107496d0d",
        "IPY_MODEL_0bd223ca8d9d4fcd9ebcc0d54a2eacd5"
       ],
       "layout": "IPY_MODEL_bad8688e5f964fd9b3f357c787ace9c7"
      }
     },
     "c2b6d2eb3b574d0fb2617639a903931f": {
      "model_module": "@jupyter-widgets/base",
      "model_module_version": "1.2.0",
      "model_name": "LayoutModel",
      "state": {}
     },
     "c49cc309a1474fc297c05b70dc35b26a": {
      "model_module": "@jupyter-widgets/controls",
      "model_module_version": "1.5.0",
      "model_name": "FloatSliderModel",
      "state": {
       "description": "phi",
       "layout": "IPY_MODEL_9e9bdf26d2064935872e7201586c1ac9",
       "max": 6.283185307179586,
       "step": 0.01,
       "style": "IPY_MODEL_c9886ca99f2448a28bdac8aabccb95bd"
      }
     },
     "c791e9717b4c4d44b6224fc503c18688": {
      "model_module": "@jupyter-widgets/controls",
      "model_module_version": "1.5.0",
      "model_name": "FloatSliderModel",
      "state": {
       "description": "phi",
       "layout": "IPY_MODEL_6a5396e20c0c479490b1a724b455256b",
       "max": 6.283185307179586,
       "step": 0.01,
       "style": "IPY_MODEL_f894ba7e463b46a98d61a2bf7d272d47"
      }
     },
     "c89a4ddf5d5e48549e1656be328e4965": {
      "model_module": "@jupyter-widgets/base",
      "model_module_version": "1.2.0",
      "model_name": "LayoutModel",
      "state": {}
     },
     "c8d01219122c4f19871c7c02a41cbfc0": {
      "model_module": "@jupyter-widgets/controls",
      "model_module_version": "1.5.0",
      "model_name": "IntSliderModel",
      "state": {
       "description": "freq",
       "layout": "IPY_MODEL_ace0dbaec69c440784cfc70dd25d16a5",
       "max": 10,
       "style": "IPY_MODEL_be1be3bc58e14e0593ccebb6ffccccaf",
       "value": 1
      }
     },
     "c983d99b60644acfad145cc1e0bd49b9": {
      "model_module": "@jupyter-widgets/controls",
      "model_module_version": "1.5.0",
      "model_name": "SliderStyleModel",
      "state": {
       "description_width": ""
      }
     },
     "c9869f6b8bfa4263a8418806a903bd28": {
      "model_module": "@jupyter-widgets/controls",
      "model_module_version": "1.5.0",
      "model_name": "SliderStyleModel",
      "state": {
       "description_width": ""
      }
     },
     "c9886ca99f2448a28bdac8aabccb95bd": {
      "model_module": "@jupyter-widgets/controls",
      "model_module_version": "1.5.0",
      "model_name": "SliderStyleModel",
      "state": {
       "description_width": ""
      }
     },
     "cb365b35b62a4f6ebe4f627e51ad5f98": {
      "model_module": "@jupyter-widgets/base",
      "model_module_version": "1.2.0",
      "model_name": "LayoutModel",
      "state": {}
     },
     "cd1d3ae9701c4a619c31d175ddec131f": {
      "model_module": "@jupyter-widgets/base",
      "model_module_version": "1.2.0",
      "model_name": "LayoutModel",
      "state": {}
     },
     "cdc3b18b2f3b4390bdbd8a6300c79155": {
      "model_module": "@jupyter-widgets/controls",
      "model_module_version": "1.5.0",
      "model_name": "DescriptionStyleModel",
      "state": {
       "description_width": ""
      }
     },
     "d03c7afb0cda4c50a65e82e7bc73e90e": {
      "model_module": "@jupyter-widgets/output",
      "model_module_version": "1.0.0",
      "model_name": "OutputModel",
      "state": {
       "layout": "IPY_MODEL_771a2369d8d241d490cea616827022c6"
      }
     },
     "d08c036772bb497f99636ddb11197e79": {
      "model_module": "@jupyter-widgets/controls",
      "model_module_version": "1.5.0",
      "model_name": "TextModel",
      "state": {
       "continuous_update": false,
       "description": "ylabel",
       "layout": "IPY_MODEL_4c39f1ccf551438996be37fcb73916c6",
       "style": "IPY_MODEL_170dd29d4443479ca7ebe00acbefe335",
       "value": "y"
      }
     },
     "d323bdbef352439a86490e066fa303e0": {
      "model_module": "@jupyter-widgets/base",
      "model_module_version": "1.2.0",
      "model_name": "LayoutModel",
      "state": {}
     },
     "d38753505a184e9e9887a7458529a9a6": {
      "model_module": "@jupyter-widgets/output",
      "model_module_version": "1.0.0",
      "model_name": "OutputModel",
      "state": {
       "layout": "IPY_MODEL_b285534a9b6143c5940fab556fb58f64"
      }
     },
     "d47ac2d5ca4940be9dabe876fc2bfea7": {
      "model_module": "@jupyter-widgets/base",
      "model_module_version": "1.2.0",
      "model_name": "LayoutModel",
      "state": {}
     },
     "d533533d733f462b88a183c2ba1ecc63": {
      "model_module": "@jupyter-widgets/controls",
      "model_module_version": "1.5.0",
      "model_name": "DescriptionStyleModel",
      "state": {
       "description_width": ""
      }
     },
     "d6110ce95673424b9e2ea64689b2c0f0": {
      "model_module": "@jupyter-widgets/controls",
      "model_module_version": "1.5.0",
      "model_name": "DropdownModel",
      "state": {
       "_options_labels": [
        "sin",
        "square",
        "sawtooth"
       ],
       "description": "Signal",
       "index": 0,
       "layout": "IPY_MODEL_f9f968658fb74419b77ec1dc319e7db1",
       "style": "IPY_MODEL_b048988d191341d6a1974ab6115f28b1"
      }
     },
     "d750946ea8624dfd8ff9ea0851bdc412": {
      "model_module": "@jupyter-widgets/controls",
      "model_module_version": "1.5.0",
      "model_name": "IntSliderModel",
      "state": {
       "description": "w",
       "layout": "IPY_MODEL_67cbcf2bf97a4afda1aecaa4bb5a699d",
       "max": 10,
       "style": "IPY_MODEL_5be0f767959447b79700cc71f2236dc3",
       "value": 1
      }
     },
     "d8a028a2a8464043a496afcf8d1bd9cc": {
      "model_module": "@jupyter-widgets/controls",
      "model_module_version": "1.5.0",
      "model_name": "VBoxModel",
      "state": {
       "children": [
        "IPY_MODEL_232f1dd2ae7848ceba409c3d44c2b1a0",
        "IPY_MODEL_150003aa2f0b4901bd287b9c4273d0ff",
        "IPY_MODEL_e1eee8b1d5b0465c8300c7cee5b40132",
        "IPY_MODEL_d08c036772bb497f99636ddb11197e79"
       ],
       "layout": "IPY_MODEL_aecf7d5d5b2545529bc24b1f4ae893c0"
      }
     },
     "e018a730d77d48baadb95f9b71950852": {
      "model_module": "@jupyter-widgets/base",
      "model_module_version": "1.2.0",
      "model_name": "LayoutModel",
      "state": {}
     },
     "e0beb938a2184e50ba6cba94d5957b67": {
      "model_module": "@jupyter-widgets/base",
      "model_module_version": "1.2.0",
      "model_name": "LayoutModel",
      "state": {}
     },
     "e0ccf4fa905c46bab06b57e4e9498f2f": {
      "model_module": "@jupyter-widgets/controls",
      "model_module_version": "1.5.0",
      "model_name": "SliderStyleModel",
      "state": {
       "description_width": ""
      }
     },
     "e1eee8b1d5b0465c8300c7cee5b40132": {
      "model_module": "@jupyter-widgets/controls",
      "model_module_version": "1.5.0",
      "model_name": "TextModel",
      "state": {
       "continuous_update": false,
       "description": "xlabel",
       "layout": "IPY_MODEL_b31677f6e12840c9aa2fbcf3474886f7",
       "style": "IPY_MODEL_4518ea87e4734d489963c640cf2e9401",
       "value": "x"
      }
     },
     "e2dcf7120a3640eba33efa00df5fbadd": {
      "model_module": "@jupyter-widgets/controls",
      "model_module_version": "1.5.0",
      "model_name": "SliderStyleModel",
      "state": {
       "description_width": ""
      }
     },
     "e3c476fead19482688012a28e3ff5844": {
      "model_module": "@jupyter-widgets/controls",
      "model_module_version": "1.5.0",
      "model_name": "FloatSliderModel",
      "state": {
       "description": "amp",
       "layout": "IPY_MODEL_0808b48e32e8483187eae37af042fba9",
       "max": 4,
       "step": 0.1,
       "style": "IPY_MODEL_e2dcf7120a3640eba33efa00df5fbadd",
       "value": 1
      }
     },
     "e54c97cddc3f4b13bdee568107496d0d": {
      "model_module": "@jupyter-widgets/controls",
      "model_module_version": "1.5.0",
      "model_name": "TextModel",
      "state": {
       "continuous_update": false,
       "description": "xlabel",
       "layout": "IPY_MODEL_f008d807f55c4cf7b3f62ecf5c9e0877",
       "style": "IPY_MODEL_80a0e9c50dac439c9e38da0eb8b3dcfe",
       "value": "x"
      }
     },
     "e69920efc5824809944cc01498b68e2c": {
      "model_module": "@jupyter-widgets/base",
      "model_module_version": "1.2.0",
      "model_name": "LayoutModel",
      "state": {}
     },
     "e6a8da9e74c74ad0a4964a261e8c9c8e": {
      "model_module": "@jupyter-widgets/output",
      "model_module_version": "1.0.0",
      "model_name": "OutputModel",
      "state": {
       "layout": "IPY_MODEL_e0beb938a2184e50ba6cba94d5957b67"
      }
     },
     "eaae8af82cbf49daa1cdb2d803bcf839": {
      "model_module": "@jupyter-widgets/base",
      "model_module_version": "1.2.0",
      "model_name": "LayoutModel",
      "state": {
       "border": "solid 1px black",
       "margin": "0px 10px 10px 0px",
       "padding": "5px 5px 5px 5px"
      }
     },
     "ec4ff2c8fad1405ea08d8286cd04ea23": {
      "model_module": "@jupyter-widgets/base",
      "model_module_version": "1.2.0",
      "model_name": "LayoutModel",
      "state": {}
     },
     "ef5700d98106493c85e33269618a21a6": {
      "model_module": "@jupyter-widgets/controls",
      "model_module_version": "1.5.0",
      "model_name": "VBoxModel",
      "state": {
       "children": [
        "IPY_MODEL_9910b5938aba4f76919873922fb00609",
        "IPY_MODEL_f678f1e87350402f89343aebb7942fd2",
        "IPY_MODEL_26963e74b43a4e6bbe00c6b7c48cd6e0",
        "IPY_MODEL_5f4c978e02084cc0af0cccf3dfe3746a"
       ],
       "layout": "IPY_MODEL_742bdd9b64764d64a36d900dbea2f836"
      }
     },
     "f008d807f55c4cf7b3f62ecf5c9e0877": {
      "model_module": "@jupyter-widgets/base",
      "model_module_version": "1.2.0",
      "model_name": "LayoutModel",
      "state": {}
     },
     "f02259630ca841a8ba97c7445d173c87": {
      "model_module": "@jupyter-widgets/controls",
      "model_module_version": "1.5.0",
      "model_name": "SliderStyleModel",
      "state": {
       "description_width": ""
      }
     },
     "f0588e7f30444da58171023b8f6a6ddb": {
      "model_module": "@jupyter-widgets/base",
      "model_module_version": "1.2.0",
      "model_name": "LayoutModel",
      "state": {}
     },
     "f0725425e1b74962a8e6a6e354a44c69": {
      "model_module": "@jupyter-widgets/controls",
      "model_module_version": "1.5.0",
      "model_name": "TextModel",
      "state": {
       "continuous_update": false,
       "description": "ylabel",
       "layout": "IPY_MODEL_1a14a0eff40941ec9ae2e46a6978f1cb",
       "style": "IPY_MODEL_f91015a5539b4f37bd5c38ecbcc9662e",
       "value": "y"
      }
     },
     "f0ac0e39d52347ec8131c043a9247194": {
      "model_module": "@jupyter-widgets/base",
      "model_module_version": "1.2.0",
      "model_name": "LayoutModel",
      "state": {}
     },
     "f127707d12f84bd9be11e37fb5e1ca6a": {
      "model_module": "@jupyter-widgets/base",
      "model_module_version": "1.2.0",
      "model_name": "LayoutModel",
      "state": {}
     },
     "f15f089ed7944dadaac052cac28bc603": {
      "model_module": "@jupyter-widgets/controls",
      "model_module_version": "1.5.0",
      "model_name": "SliderStyleModel",
      "state": {
       "description_width": ""
      }
     },
     "f2fcc2f9a4044739b69f71013d4f5a67": {
      "model_module": "@jupyter-widgets/output",
      "model_module_version": "1.0.0",
      "model_name": "OutputModel",
      "state": {
       "layout": "IPY_MODEL_a1ba7089a0c8461db078b38ac83da696",
       "outputs": [
        {
         "data": {
          "text/plain": "<Figure size 432x288 with 0 Axes>"
         },
         "metadata": {},
         "output_type": "display_data"
        }
       ]
      }
     },
     "f502a65f48c549389fc2d88c63547549": {
      "model_module": "@jupyter-widgets/base",
      "model_module_version": "1.2.0",
      "model_name": "LayoutModel",
      "state": {}
     },
     "f5345907ce9140fa91f66b2cd321cbbd": {
      "model_module": "@jupyter-widgets/output",
      "model_module_version": "1.0.0",
      "model_name": "OutputModel",
      "state": {
       "layout": "IPY_MODEL_c89a4ddf5d5e48549e1656be328e4965",
       "outputs": [
        {
         "data": {
          "image/png": "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\n",
          "text/plain": "<Figure size 432x288 with 1 Axes>"
         },
         "metadata": {
          "needs_background": "light"
         },
         "output_type": "display_data"
        }
       ]
      }
     },
     "f678f1e87350402f89343aebb7942fd2": {
      "model_module": "@jupyter-widgets/controls",
      "model_module_version": "1.5.0",
      "model_name": "ColorPickerModel",
      "state": {
       "description": "pick a color",
       "disabled": false,
       "layout": "IPY_MODEL_8af1d627535f4af681077f9c6c9bdda6",
       "style": "IPY_MODEL_890ec44e563141b8810eefbe4116cc57",
       "value": "#FF0000"
      }
     },
     "f841c85e740748cdbb33a1476b6d61d9": {
      "model_module": "@jupyter-widgets/controls",
      "model_module_version": "1.5.0",
      "model_name": "SliderStyleModel",
      "state": {
       "description_width": ""
      }
     },
     "f893e4af11e7446eabfa895763a8b882": {
      "model_module": "@jupyter-widgets/base",
      "model_module_version": "1.2.0",
      "model_name": "LayoutModel",
      "state": {}
     },
     "f894ba7e463b46a98d61a2bf7d272d47": {
      "model_module": "@jupyter-widgets/controls",
      "model_module_version": "1.5.0",
      "model_name": "SliderStyleModel",
      "state": {
       "description_width": ""
      }
     },
     "f8c3fbd8908c4f4584c4d0dfa84ec7f1": {
      "model_module": "@jupyter-widgets/controls",
      "model_module_version": "1.5.0",
      "model_name": "SliderStyleModel",
      "state": {
       "description_width": ""
      }
     },
     "f91015a5539b4f37bd5c38ecbcc9662e": {
      "model_module": "@jupyter-widgets/controls",
      "model_module_version": "1.5.0",
      "model_name": "DescriptionStyleModel",
      "state": {
       "description_width": ""
      }
     },
     "f9f968658fb74419b77ec1dc319e7db1": {
      "model_module": "@jupyter-widgets/base",
      "model_module_version": "1.2.0",
      "model_name": "LayoutModel",
      "state": {}
     },
     "fc2489ed908146f284b34027d1264845": {
      "model_module": "@jupyter-widgets/base",
      "model_module_version": "1.2.0",
      "model_name": "LayoutModel",
      "state": {}
     },
     "fff5e9ca1f4c4f13ad87da37391fe299": {
      "model_module": "@jupyter-widgets/controls",
      "model_module_version": "1.5.0",
      "model_name": "HBoxModel",
      "state": {
       "children": [
        "IPY_MODEL_c15baf65c3814a62a64b88a62afa6a6d",
        "IPY_MODEL_d38753505a184e9e9887a7458529a9a6"
       ],
       "layout": "IPY_MODEL_f127707d12f84bd9be11e37fb5e1ca6a"
      }
     }
    },
    "version_major": 2,
    "version_minor": 0
   }
  }
 },
 "nbformat": 4,
 "nbformat_minor": 4
}
