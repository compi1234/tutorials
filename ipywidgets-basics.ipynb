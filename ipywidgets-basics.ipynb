{
 "cells": [
  {
   "cell_type": "markdown",
   "metadata": {
    "id": "hj-IhicZejm6",
    "tags": [
     "nbconvert-hide"
    ]
   },
   "source": [
    "# IpyWidgets - The Basics   \n",
    "This notebook illustrates basic ipywidget functionality  \n",
    "For widgets used in combination with plotting and audio, see ipywidgets-mpl\n",
    "\n",
    "----\n",
    "Author: Dirk Van Compernolle   \n",
    "Created: 24/11/2020   \n",
    "Modifications:\n",
    "> 17/03/2021: added more complex examples with multiple buttons and output widgets\n",
    "\n",
    "Dependencies:   \n",
    "> - ipywidgets\n",
    "> - Ipython.display\n",
    "\n",
    "Compatibility Issues:\n",
    "> - generally robust across versions and platforms \n",
    "> - widget.Play() for animations does not work in Google Colab [Demo 6]\n",
    "> - widget.Output() does not do text wrapping in Google Colab [Demo 8]"
   ]
  },
  {
   "cell_type": "code",
   "execution_count": 1,
   "metadata": {
    "id": "MK8FlvOdejm7"
   },
   "outputs": [],
   "source": [
    "# [![Binder](http://mybinder.org/badge_logo.svg)](http://mybinder.org/v2/gh/binder-examples/conda_environment/master?filepath=index.ipynb)"
   ]
  },
  {
   "cell_type": "markdown",
   "metadata": {
    "id": "7h9hxDMxejm7"
   },
   "source": [
    "----\n",
    "### Elementary Widgets\n",
    "----"
   ]
  },
  {
   "cell_type": "markdown",
   "metadata": {
    "id": "HY6rnOXNejm7"
   },
   "source": [
    "#### 1. Slider Widget"
   ]
  },
  {
   "cell_type": "code",
   "execution_count": 2,
   "metadata": {
    "id": "SNJA_FXfejm8"
   },
   "outputs": [],
   "source": [
    "import ipywidgets as widgets\n",
    "from ipywidgets import interact, interact_manual, interactive\n",
    "import IPython.display as ipd\n",
    "import numpy as np"
   ]
  },
  {
   "cell_type": "code",
   "execution_count": 3,
   "metadata": {
    "colab": {
     "base_uri": "https://localhost:8080/",
     "height": 49,
     "referenced_widgets": [
      "155612e6867046bc85c938d9803fff43",
      "30bb44a458604d748e4195b8bc7ce483",
      "aefa2f9623c349d7a64b4b1bbf5e3db7"
     ]
    },
    "id": "Xp9NwVCJejm8",
    "outputId": "33340419-c8e3-4994-c314-245442ae044c"
   },
   "outputs": [
    {
     "data": {
      "application/vnd.jupyter.widget-view+json": {
       "model_id": "fb18afcc6b224a51ba51c13a7fbe9f1b",
       "version_major": 2,
       "version_minor": 0
      },
      "text/plain": [
       "IntSlider(value=0, max=20)"
      ]
     },
     "metadata": {},
     "output_type": "display_data"
    }
   ],
   "source": [
    "# widget1: integer slider\n",
    "slider1 = widgets.IntSlider(max=20)\n",
    "ipd.display(slider1)\n",
    "def my_func(x):\n",
    "    print(2*x)"
   ]
  },
  {
   "cell_type": "markdown",
   "metadata": {
    "id": "P9EbPZDmejm8"
   },
   "source": [
    "#### 2. Button Widget\n",
    "\n",
    "##### Remarks on capturing output from ipywidgets and differences between Jupyter Notebook and Jupyter Lab\n",
    "- Case 1:\n",
    "    + A 'Button 1' is created and prints\n",
    "    + In Notebook (and Colab) this is captured and redirected to the cell output\n",
    "    + In Lab this is treated as an unspecified/orphaned output and redirected to the log\n",
    "- Case 2:\n",
    "    + An additional output widget is created and with the display function both displayed\n",
    "    + The output is explicitly sent to the output widget\n",
    "    + This works consistent across Notebook and Lab\n",
    "    \n",
    "##### Remarks on implicit argument\n",
    "- The on_click() callback will be called with one argument, the clicked button widget instance\n",
    "- The B2 example incorporates a state into the button as a counting memory is added"
   ]
  },
  {
   "cell_type": "code",
   "execution_count": 10,
   "metadata": {},
   "outputs": [
    {
     "data": {
      "application/vnd.jupyter.widget-view+json": {
       "model_id": "d429e8bd789d48568cc481e1e1fd09a5",
       "version_major": 2,
       "version_minor": 0
      },
      "text/plain": [
       "Button(description='B1: Click me to Print', style=ButtonStyle())"
      ]
     },
     "metadata": {},
     "output_type": "display_data"
    }
   ],
   "source": [
    "# simple button, but sending the output via output widget\n",
    "button1 = widgets.Button(description=\"B1: Click me to Print\")\n",
    "def printMe(b):\n",
    "    print(\"B1: Printing\")\n",
    "button1.on_click(printMe)\n",
    "button1"
   ]
  },
  {
   "cell_type": "code",
   "execution_count": 30,
   "metadata": {
    "colab": {
     "base_uri": "https://localhost:8080/",
     "height": 100,
     "referenced_widgets": [
      "d0b3423b4a1f4c7ca31bd87d1036829a",
      "a87349bcad814ed28b10b24130ead183",
      "d9572ecd0d754d70ae0156c984490c7e",
      "472c388a3d2d43508dc461f49701fc12",
      "76f79b449d7b466a9ef17eed936ea567"
     ]
    },
    "id": "vPVcEkB9ejm8",
    "outputId": "71f94fd0-d0a0-408b-b1a0-f5bfeaedd9bc"
   },
   "outputs": [
    {
     "data": {
      "application/vnd.jupyter.widget-view+json": {
       "model_id": "faf71bf8909d4885b6367b1fe5d865b2",
       "version_major": 2,
       "version_minor": 0
      },
      "text/plain": [
       "Button(description='B2', style=ButtonStyle())"
      ]
     },
     "metadata": {},
     "output_type": "display_data"
    },
    {
     "data": {
      "application/vnd.jupyter.widget-view+json": {
       "model_id": "1a6442a7eac24a469aa567dce288fc93",
       "version_major": 2,
       "version_minor": 0
      },
      "text/plain": [
       "Output()"
      ]
     },
     "metadata": {},
     "output_type": "display_data"
    }
   ],
   "source": [
    "# simple button, but sending the output via output widget\n",
    "# state added: count number\n",
    "# property (color) modified in function of state (even or odd count) \n",
    "button2 = widgets.Button(description=\"B2\")\n",
    "button2.count = 0\n",
    "output2 = widgets.Output()\n",
    "ipd.display(button2,output2)\n",
    "def printMe(b):\n",
    "    b.count += 1\n",
    "    b.style.button_color = 'red' if b.count %2 else 'green'\n",
    "    with output2:\n",
    "        if b.count == 1: print(b.__dict__)\n",
    "        print('\\\"',b.description,'\\\", count= ',b.count)\n",
    "button2.on_click(printMe)"
   ]
  },
  {
   "cell_type": "code",
   "execution_count": 24,
   "metadata": {},
   "outputs": [],
   "source": [
    "# The BUTTON widget is specific"
   ]
  },
  {
   "cell_type": "markdown",
   "metadata": {
    "id": "O8LFqyf5ejm8"
   },
   "source": [
    "#### 3. A textbox  ... get's printed n times "
   ]
  },
  {
   "cell_type": "code",
   "execution_count": 13,
   "metadata": {
    "colab": {
     "base_uri": "https://localhost:8080/",
     "height": 98,
     "referenced_widgets": [
      "db8006cf5226452daa21edf8f3d04f84",
      "31260667c795444fa96dbe95e0d2c069",
      "1a9a6646cce242cdabe71bcf56274b00",
      "74abf01124ec41d2b56586f037709a0c",
      "45799597698c4b8db903cbb5495c90af",
      "48167e8424504c13a1271b5be11fc593",
      "e6af78aa0d3e4385bf818ae2a3fef2d2",
      "623eb966992841b49ae3a84a590efc68",
      "e465cdada7ca48a4a069d68c42cc2e64",
      "6a24b837e37647f9969b592d5d886a1b"
     ]
    },
    "id": "3npcmmlxejm8",
    "outputId": "b6ecd29b-cb6c-45f0-db8b-b7e991e08802"
   },
   "outputs": [
    {
     "data": {
      "application/vnd.jupyter.widget-view+json": {
       "model_id": "04efd1759c6948b88fe554709987412b",
       "version_major": 2,
       "version_minor": 0
      },
      "text/plain": [
       "interactive(children=(Text(value='', description='text'), IntSlider(value=2, description='times', max=5), Outp…"
      ]
     },
     "metadata": {},
     "output_type": "display_data"
    }
   ],
   "source": [
    "# widget 3: printing text\n",
    "# note: this widget/print statement works in Jupyter Lab - no idea why (because there is no button involved or side-effect of the decorator ?)\n",
    "@interact( text='', times=(0,5) )\n",
    "def printIt(text,times):\n",
    "    print( text * times )"
   ]
  },
  {
   "cell_type": "markdown",
   "metadata": {
    "id": "WJJtv0Myejm8"
   },
   "source": [
    "#### 4. A progress bar ...  counts your clicks"
   ]
  },
  {
   "cell_type": "code",
   "execution_count": null,
   "metadata": {
    "colab": {
     "base_uri": "https://localhost:8080/",
     "height": 49,
     "referenced_widgets": [
      "b47f0451fbde46a4b68778716d6f3632",
      "92a418a75aad4905861c577d2800c63e",
      "6f91a56321a3436480cadc543defc470",
      "83d97e312afe450db26c75bddf86cf96",
      "2baa82f107a548db9c5b6f7cd770164b",
      "8032e4b71f884ec6b49214090a00149e",
      "34e1b12277d844d3aaa49febd80a2092",
      "2f52806860fb4ca4b73fa16721ba4ef8"
     ]
    },
    "id": "Tm3NDee_ejm8",
    "outputId": "7df69872-52f5-4273-e244-3618fb49a3cc"
   },
   "outputs": [],
   "source": [
    "progress_bar = widgets.IntProgress(\n",
    "    value=0,\n",
    "    min=0, max=10,step=1,\n",
    "    description='Counting',\n",
    "    bar_style='success',\n",
    "    orientation='horizontal'\n",
    "    )\n",
    "btn_add = widgets.Button( description= 'add one ... ' )\n",
    "\n",
    "def AddOne(b):\n",
    "    progress_bar.value += 1\n",
    "    if progress_bar.value == 10:\n",
    "        progress_bar.bar_style=''\n",
    "    elif progress_bar.value % 2 != 0:\n",
    "        progress_bar.bar_style='danger'\n",
    "    else:\n",
    "        progress_bar.bar_style='success'\n",
    "btn_add.on_click(AddOne)\n",
    "\n",
    "widgets.HBox([btn_add, progress_bar])"
   ]
  },
  {
   "cell_type": "markdown",
   "metadata": {
    "id": "dWLN6y7Xejm8"
   },
   "source": [
    "#### 5. A dropdown menu ... doesn't do anything here"
   ]
  },
  {
   "cell_type": "code",
   "execution_count": null,
   "metadata": {
    "id": "XdVGansNejm8"
   },
   "outputs": [],
   "source": [
    "rec_play = widgets.Dropdown(\n",
    "    options={'REC','PLAY'},\n",
    "    description='ACTION',\n",
    ")\n",
    "rec_play"
   ]
  },
  {
   "cell_type": "markdown",
   "metadata": {
    "id": "J2Tpq4Ikejm8"
   },
   "source": [
    "#### 6. Linking widgets together with the Play widget\n",
    "\n",
    "notes: Play widget not working in Colab"
   ]
  },
  {
   "cell_type": "code",
   "execution_count": null,
   "metadata": {
    "colab": {
     "base_uri": "https://localhost:8080/",
     "height": 49,
     "referenced_widgets": [
      "79ef1b504e824f5f86a54b351ad488c5",
      "60f6394bf1a94adc8dc2b87492166533",
      "d370e2a480e645b092288917f8003663",
      "29eda9cf84624d0880cb3ffc45bb575c",
      "cb707a4247be496ab967b06a3849a5c7",
      "39bdf981ddbe44c59f8c524fe2f8c49b",
      "c500ad9a54714fd88851a3710867b6f1",
      "7bd50b880f31460ab921234f5e17e60e"
     ]
    },
    "id": "YrsPd3fVejm8",
    "outputId": "15d9a339-5fc4-491a-e0c8-bd228e99164e"
   },
   "outputs": [],
   "source": [
    "# widget2: animation by Play\n",
    "play2 = widgets.Play(\n",
    "    interval=1000, # interval in msec between animation frame\n",
    "    value=50,\n",
    "    min=0,\n",
    "    max=100,\n",
    "    step=1,\n",
    "    description=\"Press play\",\n",
    "    disabled=False\n",
    ")\n",
    "slider2 = widgets.IntSlider()\n",
    "widgets.jslink((play2, 'value'), (slider2, 'value'))\n",
    "widgets.HBox([play2, slider2])"
   ]
  },
  {
   "cell_type": "markdown",
   "metadata": {
    "id": "n1To02sVejm9"
   },
   "source": [
    "#### 7. Laying out an app Using Boxes and Packaging and app into a class \n",
    "- The outputs are displayed in controlled output widgets and can be cleared as wished\n",
    "- Buttons and multiple outputs are neatly organized with Box, VBox and HBox\n",
    "- Incorporating an app into a class has two main advantage:\n",
    "    + It is straightforward to store information in the class\n",
    "    + reusability of the same app"
   ]
  },
  {
   "cell_type": "code",
   "execution_count": null,
   "metadata": {
    "colab": {
     "base_uri": "https://localhost:8080/",
     "height": 135,
     "referenced_widgets": [
      "2c499e1e31fd4dc9a8809b93503ebe22",
      "00ac0d5ceba742ddac42415b9cf09bff",
      "1a1cb4cc3afd46499c8019ce6f1d7b55",
      "2c8022f6c6364ce9a36eb18f3dabb10e",
      "0b7c622d627b498b9068e09b659e8d14",
      "219b073fd1724a94b870b173fdf78a21",
      "6b9be375e79146589d0e660ce8a6480a",
      "761e099974b74fa6bd5fed802ef44e47",
      "562420d44c3c42d4b1d098b552cd7bd3",
      "cba54b292e1c4c49ba6f4067612ea72c",
      "aeed00a5ed6a4f1097979907082a6296",
      "a10aec2a2ff04e94994f040f78071e49",
      "f69a9668bfa24d21be1bfbc9ee814914",
      "b6da4b5d41c64c9786cc601751316c50",
      "5688c362d5b448c0bd161ed9a8ab85e4",
      "54f0d04a2b104a4c8970d2afb0796870",
      "5f679983f36642cc97682ffdc85b1f07",
      "c61ce355510440abb901928a2bfe33e7",
      "d152e1cd230444ac8554a2e0c02e5d16",
      "48b40161076446aea4c27428b23dfb8e",
      "c0e0d01eda584c9183389a96c50d88e8",
      "262d7f0f510b4543aefae6456bfc84ae",
      "8c4176317a11434ebc506af3af7f0706"
     ]
    },
    "id": "YUp53olTejm9",
    "outputId": "2eca7e31-ad65-4373-f743-e23467de9b6f"
   },
   "outputs": [],
   "source": [
    "# compose your app of a few controls and an output widget\n",
    "# beautify by putting them all in boxes\n",
    "def make_box_layout():\n",
    "     return widgets.Layout(\n",
    "        border='solid 1px black',\n",
    "        margin='0px 10px 10px 0px',\n",
    "        padding='5px 5px 5px 5px'\n",
    "     )\n",
    "\n",
    "b1 = widgets.Button(description='button 1')\n",
    "b2 = widgets.Button(description='button 2')\n",
    "b3 = widgets.Button(description='CLEAR')\n",
    "b3.style.button_color = 'red'\n",
    "output = widgets.Output()\n",
    "\n",
    "def make_boxes():\n",
    "    vbox1 = widgets.VBox([widgets.Label('Controls'), b1, b2])\n",
    "    vbox2 = widgets.VBox([widgets.Label('CTRL-CLEAR'), b3 ])\n",
    "    return vbox1, vbox2\n",
    " \n",
    "vbox1, vbox2 = make_boxes()\n",
    "vbox1.layout = make_box_layout()\n",
    "vbox2.layout = make_box_layout()\n",
    "output.layout = make_box_layout()\n",
    "output.layout.width='200px'\n",
    "\n",
    "def b1_clicked(b):\n",
    "    with output:\n",
    "        print(\"Button 1 clicked.\")\n",
    "b1.on_click(b1_clicked)\n",
    "def b2_clicked(b):\n",
    "    with output:\n",
    "        print(\"Button 2 clicked.\")\n",
    "b2.on_click(b2_clicked)\n",
    "def b3_clicked(b):\n",
    "    with output:\n",
    "        ipd.clear_output()\n",
    "b3.on_click(b3_clicked) \n",
    "\n",
    "myapp = widgets.HBox([vbox1, vbox2,output])\n",
    "myapp"
   ]
  },
  {
   "cell_type": "code",
   "execution_count": 31,
   "metadata": {},
   "outputs": [
    {
     "data": {
      "application/vnd.jupyter.widget-view+json": {
       "model_id": "23666ee5fa9b46b489fd223fdf247c78",
       "version_major": 2,
       "version_minor": 0
      },
      "text/plain": [
       "Button_Print(children=(VBox(children=(Label(value='Controls'), Button(description='button 1', style=ButtonStyl…"
      ]
     },
     "metadata": {},
     "output_type": "display_data"
    }
   ],
   "source": [
    "# Packing a similar app into a class for reusability\n",
    "def make_box_layout():\n",
    "     return widgets.Layout(\n",
    "        border='solid 1px black',\n",
    "        margin='0px 10px 10px 0px',\n",
    "        padding='5px 5px 5px 5px'\n",
    "     )\n",
    "\n",
    "class Button_Print(widgets.HBox):\n",
    "    def __init__(self):\n",
    "        super().__init__()\n",
    "        \n",
    "        b1 = widgets.Button(description='button 1')\n",
    "        clear = widgets.Button(description='CLEAR')\n",
    "        clear.style.button_color = 'red'\n",
    "        output = widgets.Output()\n",
    "        \n",
    "        \n",
    "        box1 = widgets.VBox([widgets.Label('Controls'), b1, clear])\n",
    "        box1.layout = make_box_layout()\n",
    "        output.layout = make_box_layout()\n",
    "        output.layout.width='200px'\n",
    "        \n",
    "        # callback functions\n",
    "        def b1_clicked(b):\n",
    "            with output:\n",
    "                print(\"Button 1 clicked.\")\n",
    "        b1.on_click(b1_clicked)\n",
    "\n",
    "        def clear_clicked(b):\n",
    "            with output:\n",
    "                ipd.clear_output()\n",
    "\n",
    "        clear.on_click(clear_clicked) \n",
    "        \n",
    "        self.children = [box1,output]\n",
    "\n",
    "myapp=Button_Print()\n",
    "myapp"
   ]
  },
  {
   "cell_type": "code",
   "execution_count": null,
   "metadata": {},
   "outputs": [],
   "source": [
    "myapp2=Button_Print()\n",
    "myapp2"
   ]
  },
  {
   "cell_type": "markdown",
   "metadata": {},
   "source": [
    "#### 8. Duplicating Similar Widgets with functools.partial()\n",
    "- Similar components (eg. buttons) are created using functools.partial() method"
   ]
  },
  {
   "cell_type": "code",
   "execution_count": null,
   "metadata": {},
   "outputs": [],
   "source": [
    "# now a similar app, with many buttons that have a similar behavior\n",
    "# functools.partial() comes in handy to create all the similar callback routines\n",
    "import functools\n",
    "\n",
    "n_buttons = 5\n",
    "buttons = []\n",
    "box_layout = widgets.Layout(\n",
    "        width='250px',\n",
    "        border='solid 1px black',\n",
    "        margin='0px 10px 10px 0px',\n",
    "        padding='5px 5px 5px 5px'\n",
    "     )\n",
    "button_layout = widgets.Layout(\n",
    "        width = '150px',\n",
    "        height = '40px',\n",
    "        border='solid 1px black',\n",
    "        margin='0px 10px 10px 0px',\n",
    "        padding='5px 5px 5px 5px'\n",
    "     )\n",
    "\n",
    "output1 = widgets.Output(layout=box_layout)\n",
    "output2 = widgets.Output(layout=box_layout)\n",
    "with output1:\n",
    "    print(\"INFO:\")\n",
    "    print(\"All buttons do the same operation. However, they use the button number as a parameter\")\n",
    "    \n",
    "def on_button_clicked(i,b):\n",
    "    with output2:\n",
    "        print(\"%d**2 = %d \" % (i,i*i) )\n",
    "        \n",
    "for i in range(n_buttons):\n",
    "    if i==0:\n",
    "        button = widgets.Button(description='CLEAR',layout=button_layout)\n",
    "        button.style.button_color = 'green'\n",
    "        def clear_click(b):\n",
    "            with output2:\n",
    "                ipd.clear_output()                \n",
    "        button.on_click(clear_click)\n",
    "    else:\n",
    "        button = widgets.Button(description='button '+str(i),layout=button_layout)\n",
    "        button.on_click(functools.partial(on_button_clicked,i))        \n",
    "    buttons.append(button)\n",
    "    \n",
    "button_box = widgets.VBox(buttons,layout=box_layout)\n",
    "output_box = widgets.VBox([output1,output2])\n",
    "myapp = widgets.HBox([button_box,output_box])\n",
    "myapp"
   ]
  },
  {
   "cell_type": "markdown",
   "metadata": {
    "id": "Xo6uIP51ejm9"
   },
   "source": [
    "---\n",
    "### GAME:  Beat the Bot (guessing game)\n",
    "The bot learns from your previous clicking behavior   \n",
    "Just try to beat him   \n",
    "Have you found the optimum strategy\n",
    "\n",
    "-----"
   ]
  },
  {
   "cell_type": "code",
   "execution_count": null,
   "metadata": {
    "id": "DK-gRPWwejm9"
   },
   "outputs": [],
   "source": [
    "# some globals as needed\n",
    "global user_history\n",
    "user_history = [1,0]\n",
    "target_score = 5\n",
    "\n",
    "#buttons\n",
    "btn0 = widgets.Button( description= '0' )\n",
    "btn1 = widgets.Button( description= '1' )\n",
    "btnS = widgets.Button( description= 'START' )\n",
    "\n",
    "def click_zero(b):\n",
    "    update_game(0)\n",
    "btn0.on_click( click_zero )\n",
    "def click_one(b):\n",
    "    update_game(1)\n",
    "btn1.on_click( click_one )\n",
    "def click_start(b):\n",
    "    update_game(0,start=True)\n",
    "btnS.on_click( click_start )\n",
    "btn0.disabled = True\n",
    "btn1.disabled = True\n",
    "btn0.button_style ='info'\n",
    "btn1.button_style ='info'\n",
    "btnS.button_style ='warning'\n",
    "# score board\n",
    "user_score = widgets.IntProgress(\n",
    "    value=0,\n",
    "    min=0, max=target_score,step=1,\n",
    "    description='You',\n",
    "    bar_style='success',\n",
    "    orientation='horizontal'\n",
    "    )\n",
    "bot_score = widgets.IntProgress(\n",
    "    value=0,\n",
    "    min=0, max=target_score,step=1,\n",
    "    description='Bot',\n",
    "    bar_style='danger',\n",
    "    orientation='horizontal'\n",
    "    )\n",
    "scoreboard= widgets.VBox((user_score,bot_score))\n",
    "final_msg = widgets.HTML(\"<h1 style='color:green'> You win </h1>\")\n",
    "final_msg.layout.visibility = \"hidden\"\n",
    "# layout\n",
    "game = widgets.VBox( ( widgets.HBox((scoreboard,final_msg)),\n",
    "                   widgets.HBox((btn0,btn1,btnS))\n",
    "             ))"
   ]
  },
  {
   "cell_type": "code",
   "execution_count": null,
   "metadata": {
    "id": "zqfM87Y_ejm9"
   },
   "outputs": [],
   "source": [
    "#\n",
    "# game rules\n",
    "#\n",
    "# note only user_history had to be defined as a global\n",
    "# all widgets behave by nature as such\n",
    "\n",
    "def update_game(user_choice,start=False):\n",
    "    global user_history\n",
    "\n",
    "    if( start ):\n",
    "        user_history = [1,0]\n",
    "        final_msg.value = \"<h1 style='color:green'> You win </h1>\"\n",
    "        final_msg.layout.visibility = \"hidden\"\n",
    "        user_score.value = 0\n",
    "        bot_score.value = 0\n",
    "        btn0.disabled = False\n",
    "        btn1.disabled = False\n",
    "        btnS.disabled = True\n",
    "        btnS.button_style = ''\n",
    "        return\n",
    "    prob = sum(user_history)/len(user_history)\n",
    "    comp_choice = np.random.binomial(1,prob,1)[0]\n",
    "    user_history.append( user_choice )\n",
    "    # print(\"sequence length: \",len(user_history)-2)\n",
    "    if comp_choice == user_choice:\n",
    "        bot_score.value += 1\n",
    "    else:\n",
    "        user_score.value += 1\n",
    "    if user_score.value == target_score or bot_score.value == target_score:\n",
    "        if bot_score.value == target_score:\n",
    "            final_msg.value = \"<h1 style='color:red'>Game Over</h1>\"\n",
    "        final_msg.layout.visibility = \"visible\"\n",
    "        btn0.disabled = True\n",
    "        btn1.disabled = True\n",
    "        btnS.disabled = False\n",
    "        btnS.button_style = 'warning'\n",
    "    return"
   ]
  },
  {
   "cell_type": "code",
   "execution_count": null,
   "metadata": {
    "colab": {
     "base_uri": "https://localhost:8080/",
     "height": 113,
     "referenced_widgets": [
      "4bade98c6a004d8d90896d6b07764bf6",
      "f04e402967c24788b4eefefbf6562426",
      "66c1a1a42da74bdd9661add5f8040090",
      "6db6482df6794363b4d44778a0eb0e77",
      "4cb146afff314a5f9688f0486ec565f6",
      "0203dd5c6e324d13a5ff2fd32b61bc7d",
      "29125c85ae5a40f5a18ca2dc8448ff3a",
      "50dbeea66dde47b2995620e316a9175e",
      "146c121b4e2e41bd823fa2b412c0ad86",
      "f6f0770626464fc2898bd1c58a0489c3",
      "bd7b71b814794411b3d7e7a383fc7001",
      "7264a2235c0b4350be0f390ea5709716",
      "038dbe2dfe174234b0130b72d6ea6ec9",
      "3bfb42b5ed2947ceb1ab7f97914be19f",
      "60c75d60888643fa89f181f7160a99ce",
      "310470ceea60423881ce4f916b7538b7",
      "8a085ced51a045b8907bba6debaefc60",
      "f3f9c0c6e6ee4e4c9fd95bd7fa6912c9",
      "099d85121dcc42d59afaf86c0d5b597d",
      "5bde7751fb5a4ee59af029de06b7e7db",
      "ba54766ec3924ae4881ee33a98175702",
      "795d1067168243f48d1dbf900e27d001",
      "f4c5c8e166da4d7d81a2f5032825337e",
      "4e5288767b5142a2a11c30dba2e9cf3b",
      "099552528f9f4643a31a6021c948b6f4",
      "aaccae6204104d43af5fb4e021107d77"
     ]
    },
    "id": "mnUIXEfEejm9",
    "outputId": "d04d4f51-d0fc-44d6-e390-3cd51d0c5ccc"
   },
   "outputs": [],
   "source": [
    "game"
   ]
  },
  {
   "cell_type": "code",
   "execution_count": null,
   "metadata": {
    "id": "WaFXiqAcejm_"
   },
   "outputs": [],
   "source": []
  },
  {
   "cell_type": "code",
   "execution_count": null,
   "metadata": {},
   "outputs": [],
   "source": []
  }
 ],
 "metadata": {
  "colab": {
   "name": "ipywidgets.ipynb",
   "provenance": []
  },
  "kernelspec": {
   "display_name": "Python 3",
   "language": "python",
   "name": "python3"
  },
  "language_info": {
   "codemirror_mode": {
    "name": "ipython",
    "version": 3
   },
   "file_extension": ".py",
   "mimetype": "text/x-python",
   "name": "python",
   "nbconvert_exporter": "python",
   "pygments_lexer": "ipython3",
   "version": "3.8.3"
  },
  "widgets": {
   "application/vnd.jupyter.widget-state+json": {
    "state": {
     "026974f948b549c795df3f72a5d094aa": {
      "model_module": "@jupyter-widgets/base",
      "model_module_version": "1.2.0",
      "model_name": "LayoutModel",
      "state": {}
     },
     "04cf265cf417439c8a491ee6b282baaf": {
      "model_module": "@jupyter-widgets/base",
      "model_module_version": "1.2.0",
      "model_name": "LayoutModel",
      "state": {}
     },
     "04efd1759c6948b88fe554709987412b": {
      "model_module": "@jupyter-widgets/controls",
      "model_module_version": "1.5.0",
      "model_name": "VBoxModel",
      "state": {
       "_dom_classes": [
        "widget-interact"
       ],
       "children": [
        "IPY_MODEL_f34190dc93714fc3bb7034576d2c0706",
        "IPY_MODEL_39ab8d3eda4242c1a71cec51f3d23bd4",
        "IPY_MODEL_a5c11be453364bb5b93fb07662c86758"
       ],
       "layout": "IPY_MODEL_ccc419f5b8e54ccc96bd6409cb1ccc15"
      }
     },
     "0556bd24f5e148778c44bc89d708c64f": {
      "model_module": "@jupyter-widgets/base",
      "model_module_version": "1.2.0",
      "model_name": "LayoutModel",
      "state": {}
     },
     "084b697eb08e40e9829eb8b61fe525f7": {
      "model_module": "@jupyter-widgets/base",
      "model_module_version": "1.2.0",
      "model_name": "LayoutModel",
      "state": {}
     },
     "0bc1e1d554f84a5d8444f4bfc49224ba": {
      "model_module": "@jupyter-widgets/controls",
      "model_module_version": "1.5.0",
      "model_name": "ButtonModel",
      "state": {
       "description": "B2",
       "layout": "IPY_MODEL_aebb8a3670e8480c8463c95d79f2fa19",
       "style": "IPY_MODEL_1d06088f95344e908f7c6434976d8340"
      }
     },
     "0c69129a8124487aba96a04866417b76": {
      "model_module": "@jupyter-widgets/output",
      "model_module_version": "1.0.0",
      "model_name": "OutputModel",
      "state": {
       "layout": "IPY_MODEL_7401265ce7a8414db90082e72145ed76"
      }
     },
     "0fe50ca44c4c4997a121858c2b85fd47": {
      "model_module": "@jupyter-widgets/output",
      "model_module_version": "1.0.0",
      "model_name": "OutputModel",
      "state": {
       "layout": "IPY_MODEL_e0b96f0885e64158bd9ba5094d366ad7",
       "outputs": [
        {
         "name": "stdout",
         "output_type": "stream",
         "text": "\" B2: Click me to Print \" 1\n"
        }
       ]
      }
     },
     "1064c08b755e484981e55019cb332e41": {
      "model_module": "@jupyter-widgets/base",
      "model_module_version": "1.2.0",
      "model_name": "LayoutModel",
      "state": {}
     },
     "112e3c8b02b8470ba5defd4b18190550": {
      "model_module": "@jupyter-widgets/output",
      "model_module_version": "1.0.0",
      "model_name": "OutputModel",
      "state": {
       "layout": "IPY_MODEL_4d55890b0277405296839fedeccd65f9",
       "outputs": [
        {
         "name": "stdout",
         "output_type": "stream",
         "text": "{'_trait_values': {'description': 'B2', 'comm': <ipykernel.comm.comm.Comm object at 0x000002779C27E820>, 'keys': ['_dom_classes', '_model_module', '_model_module_version', '_model_name', '_view_count', '_view_module', '_view_module_version', '_view_name', 'button_style', 'description', 'disabled', 'icon', 'layout', 'style', 'tooltip'], '_dom_classes': (), '_model_module': '@jupyter-widgets/controls', '_model_module_version': '1.5.0', '_model_name': 'ButtonModel', '_view_count': None, '_view_module': '@jupyter-widgets/controls', '_view_module_version': '1.5.0', '_view_name': 'ButtonView', 'button_style': '', 'disabled': False, 'icon': '', 'layout': Layout(), 'style': ButtonStyle(), 'tooltip': '', '_msg_callbacks': <ipywidgets.widgets.widget.CallbackDispatcher object at 0x000002779C27E100>, '_display_callbacks': <ipywidgets.widgets.widget.CallbackDispatcher object at 0x000002779C2278B0>}, '_trait_notifiers': {'comm': {'change': [<traitlets.traitlets.ObserveHandler object at 0x000002779BD71B50>]}}, '_trait_validators': {'icon': <traitlets.traitlets.ValidateHandler object at 0x000002779BD993A0>}, '_cross_validation_lock': False, '_model_id': '6e265e71956d4a6ea276a3fe87f26b07', '_click_handlers': <ipywidgets.widgets.widget.CallbackDispatcher object at 0x000002779C27E610>, 'count': 1}\n\" B2 \", count=  1\n"
        }
       ]
      }
     },
     "14fd137443544cccbdb8997f73bc2c47": {
      "model_module": "@jupyter-widgets/output",
      "model_module_version": "1.0.0",
      "model_name": "OutputModel",
      "state": {
       "layout": "IPY_MODEL_084b697eb08e40e9829eb8b61fe525f7",
       "outputs": [
        {
         "name": "stdout",
         "output_type": "stream",
         "text": "Button(description='B2', style=ButtonStyle())\n\" B2 \", count=  1\nButton(description='B2', style=ButtonStyle())\n\" B2 \", count=  2\nButton(description='B2', style=ButtonStyle())\n\" B2 \", count=  3\n"
        }
       ]
      }
     },
     "17b910912b794310bbcf4ef2057dba3a": {
      "model_module": "@jupyter-widgets/controls",
      "model_module_version": "1.5.0",
      "model_name": "ButtonStyleModel",
      "state": {}
     },
     "18ca47ab7e5e43d188057a50431787a5": {
      "model_module": "@jupyter-widgets/controls",
      "model_module_version": "1.5.0",
      "model_name": "LabelModel",
      "state": {
       "layout": "IPY_MODEL_d0d225f3f2eb492ba3d463a6fcfefde6",
       "style": "IPY_MODEL_cd35494480034e7bb5a4fc2a195573d2",
       "value": "Controls"
      }
     },
     "1a6442a7eac24a469aa567dce288fc93": {
      "model_module": "@jupyter-widgets/output",
      "model_module_version": "1.0.0",
      "model_name": "OutputModel",
      "state": {
       "layout": "IPY_MODEL_a30af56cef0f4befab219af251c7eacd",
       "outputs": [
        {
         "name": "stdout",
         "output_type": "stream",
         "text": "{'_trait_values': {'description': 'B2', 'comm': <ipykernel.comm.comm.Comm object at 0x000002779C375F10>, 'keys': ['_dom_classes', '_model_module', '_model_module_version', '_model_name', '_view_count', '_view_module', '_view_module_version', '_view_name', 'button_style', 'description', 'disabled', 'icon', 'layout', 'style', 'tooltip'], '_dom_classes': (), '_model_module': '@jupyter-widgets/controls', '_model_module_version': '1.5.0', '_model_name': 'ButtonModel', '_view_count': None, '_view_module': '@jupyter-widgets/controls', '_view_module_version': '1.5.0', '_view_name': 'ButtonView', 'button_style': '', 'disabled': False, 'icon': '', 'layout': Layout(), 'style': ButtonStyle(button_color='red'), 'tooltip': '', '_msg_callbacks': <ipywidgets.widgets.widget.CallbackDispatcher object at 0x000002779C3E5070>, '_display_callbacks': <ipywidgets.widgets.widget.CallbackDispatcher object at 0x000002779C2A05E0>}, '_trait_notifiers': {'comm': {'change': [<traitlets.traitlets.ObserveHandler object at 0x000002779BD71B50>]}}, '_trait_validators': {'icon': <traitlets.traitlets.ValidateHandler object at 0x000002779BD993A0>}, '_cross_validation_lock': False, '_model_id': 'faf71bf8909d4885b6367b1fe5d865b2', '_click_handlers': <ipywidgets.widgets.widget.CallbackDispatcher object at 0x000002779C375880>, 'count': 1}\n\" B2 \", count=  1\n\" B2 \", count=  2\n"
        }
       ]
      }
     },
     "1beaddd9014c42afb069e8c8a51d6a54": {
      "model_module": "@jupyter-widgets/controls",
      "model_module_version": "1.5.0",
      "model_name": "ButtonStyleModel",
      "state": {}
     },
     "1d06088f95344e908f7c6434976d8340": {
      "model_module": "@jupyter-widgets/controls",
      "model_module_version": "1.5.0",
      "model_name": "ButtonStyleModel",
      "state": {}
     },
     "1ee682343626434eb45bda7ad435694c": {
      "model_module": "@jupyter-widgets/base",
      "model_module_version": "1.2.0",
      "model_name": "LayoutModel",
      "state": {}
     },
     "2147c41f2a7c4d968b6f90cb9464e5e7": {
      "model_module": "@jupyter-widgets/controls",
      "model_module_version": "1.5.0",
      "model_name": "TextModel",
      "state": {
       "description": "text",
       "layout": "IPY_MODEL_2b1e6e6b474d42e7b4de51025895e1af",
       "style": "IPY_MODEL_f8bbdb5eaa1e4fc5983c355bcf36d9ad",
       "value": "ha"
      }
     },
     "21676c632c18462d9bf46c9b73e0acf6": {
      "model_module": "@jupyter-widgets/controls",
      "model_module_version": "1.5.0",
      "model_name": "ButtonStyleModel",
      "state": {}
     },
     "22e31e67c9fa4773a993b971b98ab003": {
      "model_module": "@jupyter-widgets/controls",
      "model_module_version": "1.5.0",
      "model_name": "DescriptionStyleModel",
      "state": {
       "description_width": ""
      }
     },
     "23666ee5fa9b46b489fd223fdf247c78": {
      "model_module": "@jupyter-widgets/controls",
      "model_module_version": "1.5.0",
      "model_name": "HBoxModel",
      "state": {
       "children": [
        "IPY_MODEL_bf10469db4b241bfb7ba30bab4674700",
        "IPY_MODEL_0c69129a8124487aba96a04866417b76"
       ],
       "layout": "IPY_MODEL_4050f2ce042042c4b063ea3f4a787a03"
      }
     },
     "23b9f1290ef5465b872616146d306343": {
      "model_module": "@jupyter-widgets/controls",
      "model_module_version": "1.5.0",
      "model_name": "SliderStyleModel",
      "state": {
       "description_width": ""
      }
     },
     "240a234b3080492da7da79a18fb5dedd": {
      "model_module": "@jupyter-widgets/controls",
      "model_module_version": "1.5.0",
      "model_name": "ButtonModel",
      "state": {
       "description": "CLEAR",
       "layout": "IPY_MODEL_4624197fbaf545e0bc53804f046322eb",
       "style": "IPY_MODEL_8c4447e1e15c446586f90fe30b67e180"
      }
     },
     "24910237d795479d867b3e2e7a7675b0": {
      "model_module": "@jupyter-widgets/base",
      "model_module_version": "1.2.0",
      "model_name": "LayoutModel",
      "state": {}
     },
     "24bb9831f21545fd8c6c26eea1e99d6d": {
      "model_module": "@jupyter-widgets/controls",
      "model_module_version": "1.5.0",
      "model_name": "ButtonModel",
      "state": {
       "description": "B2: Click me to Print",
       "layout": "IPY_MODEL_d0f67bd9b6b447a2a86fbaa4dff27750",
       "style": "IPY_MODEL_a297f0003b5042aba5cea93e0799039d"
      }
     },
     "265897e52f734cd7a144063b683db14c": {
      "model_module": "@jupyter-widgets/controls",
      "model_module_version": "1.5.0",
      "model_name": "ButtonModel",
      "state": {
       "description": "Click me to Print",
       "layout": "IPY_MODEL_f5d82657e86c44f99539efb7903245af",
       "style": "IPY_MODEL_1beaddd9014c42afb069e8c8a51d6a54"
      }
     },
     "26db6656796048d2b3a67500be99cd8b": {
      "model_module": "@jupyter-widgets/base",
      "model_module_version": "1.2.0",
      "model_name": "LayoutModel",
      "state": {}
     },
     "26e52e45052841ecbb00c52194773f8f": {
      "model_module": "@jupyter-widgets/controls",
      "model_module_version": "1.5.0",
      "model_name": "ButtonModel",
      "state": {
       "description": "B2",
       "layout": "IPY_MODEL_5da4c8b2069d48948aa2fe7307afbbe1",
       "style": "IPY_MODEL_6ce1001ad1a2449da9a2f644e1161c08"
      }
     },
     "298c21de862c434e84b4471bebdaa376": {
      "model_module": "@jupyter-widgets/controls",
      "model_module_version": "1.5.0",
      "model_name": "ButtonStyleModel",
      "state": {}
     },
     "29ad89e44c8942a1be04daf27d63e008": {
      "model_module": "@jupyter-widgets/controls",
      "model_module_version": "1.5.0",
      "model_name": "ButtonModel",
      "state": {
       "description": "B2",
       "layout": "IPY_MODEL_34ab60a5a1cd421288f7ef4caf47e396",
       "style": "IPY_MODEL_ebf39543ddc3493bbc3aeee6d38da6f3"
      }
     },
     "29fcc473a23c4e85b1e470bfff99841c": {
      "model_module": "@jupyter-widgets/base",
      "model_module_version": "1.2.0",
      "model_name": "LayoutModel",
      "state": {
       "border": "solid 1px black",
       "margin": "0px 10px 10px 0px",
       "padding": "5px 5px 5px 5px"
      }
     },
     "29ffd86ec106417d89e93d25127594ab": {
      "model_module": "@jupyter-widgets/base",
      "model_module_version": "1.2.0",
      "model_name": "LayoutModel",
      "state": {}
     },
     "2af5e95266e5480382eb8b639fc7871f": {
      "model_module": "@jupyter-widgets/base",
      "model_module_version": "1.2.0",
      "model_name": "LayoutModel",
      "state": {}
     },
     "2b1e6e6b474d42e7b4de51025895e1af": {
      "model_module": "@jupyter-widgets/base",
      "model_module_version": "1.2.0",
      "model_name": "LayoutModel",
      "state": {}
     },
     "3087a1673352431cbc6b9f5ddbef8a78": {
      "model_module": "@jupyter-widgets/controls",
      "model_module_version": "1.5.0",
      "model_name": "ButtonStyleModel",
      "state": {}
     },
     "33bafef5c99f48ea880e3bf8fe272655": {
      "model_module": "@jupyter-widgets/controls",
      "model_module_version": "1.5.0",
      "model_name": "ButtonModel",
      "state": {
       "description": "B2: Click me to Print",
       "layout": "IPY_MODEL_699ad518c666455db25fae4a899ac237",
       "style": "IPY_MODEL_c8f24dd0dbac449fb2adab252bb9654d"
      }
     },
     "34ab60a5a1cd421288f7ef4caf47e396": {
      "model_module": "@jupyter-widgets/base",
      "model_module_version": "1.2.0",
      "model_name": "LayoutModel",
      "state": {}
     },
     "36896f3d0a7940b6b6483f307ac9c0bd": {
      "model_module": "@jupyter-widgets/controls",
      "model_module_version": "1.5.0",
      "model_name": "LabelModel",
      "state": {
       "layout": "IPY_MODEL_cbe9faed93984ff3ba34dd343ef81abf",
       "style": "IPY_MODEL_22e31e67c9fa4773a993b971b98ab003",
       "value": "Controls"
      }
     },
     "368f6a3e70f843c19a70def00d6e20c6": {
      "model_module": "@jupyter-widgets/output",
      "model_module_version": "1.0.0",
      "model_name": "OutputModel",
      "state": {
       "layout": "IPY_MODEL_2af5e95266e5480382eb8b639fc7871f",
       "outputs": [
        {
         "name": "stdout",
         "output_type": "stream",
         "text": "{'_trait_values': {'description': 'B2', 'comm': <ipykernel.comm.comm.Comm object at 0x000002779C27E130>, 'keys': ['_dom_classes', '_model_module', '_model_module_version', '_model_name', '_view_count', '_view_module', '_view_module_version', '_view_name', 'button_style', 'description', 'disabled', 'icon', 'layout', 'style', 'tooltip'], '_dom_classes': (), '_model_module': '@jupyter-widgets/controls', '_model_module_version': '1.5.0', '_model_name': 'ButtonModel', '_view_count': None, '_view_module': '@jupyter-widgets/controls', '_view_module_version': '1.5.0', '_view_name': 'ButtonView', 'button_style': '', 'disabled': False, 'icon': '', 'layout': Layout(), 'style': ButtonStyle(), 'tooltip': '', '_msg_callbacks': <ipywidgets.widgets.widget.CallbackDispatcher object at 0x000002779C3750A0>, '_display_callbacks': <ipywidgets.widgets.widget.CallbackDispatcher object at 0x000002779C27E7F0>}, '_trait_notifiers': {'comm': {'change': [<traitlets.traitlets.ObserveHandler object at 0x000002779BD71B50>]}}, '_trait_validators': {'icon': <traitlets.traitlets.ValidateHandler object at 0x000002779BD993A0>}, '_cross_validation_lock': False, '_model_id': '45da0765ccb041e2ba99563fb8d3a1c5', '_click_handlers': <ipywidgets.widgets.widget.CallbackDispatcher object at 0x000002779C27E190>, 'count': 1}\n\" B2 \", count=  1\n\" B2 \", count=  2\n\" B2 \", count=  3\n\" B2 \", count=  4\n"
        }
       ]
      }
     },
     "38e600fd5e3d4e54afdbbe9963e34efd": {
      "model_module": "@jupyter-widgets/base",
      "model_module_version": "1.2.0",
      "model_name": "LayoutModel",
      "state": {}
     },
     "39ab8d3eda4242c1a71cec51f3d23bd4": {
      "model_module": "@jupyter-widgets/controls",
      "model_module_version": "1.5.0",
      "model_name": "IntSliderModel",
      "state": {
       "description": "times",
       "layout": "IPY_MODEL_0556bd24f5e148778c44bc89d708c64f",
       "max": 5,
       "style": "IPY_MODEL_81e79193c77947f1b473ba3024bb5553",
       "value": 2
      }
     },
     "3e327a499aa84fae903a46c968fee8e1": {
      "model_module": "@jupyter-widgets/base",
      "model_module_version": "1.2.0",
      "model_name": "LayoutModel",
      "state": {}
     },
     "4050f2ce042042c4b063ea3f4a787a03": {
      "model_module": "@jupyter-widgets/base",
      "model_module_version": "1.2.0",
      "model_name": "LayoutModel",
      "state": {}
     },
     "414fd828379c486292116304f6d56354": {
      "model_module": "@jupyter-widgets/base",
      "model_module_version": "1.2.0",
      "model_name": "LayoutModel",
      "state": {}
     },
     "4156c1efa5e24d08bdb0d455ba43f584": {
      "model_module": "@jupyter-widgets/controls",
      "model_module_version": "1.5.0",
      "model_name": "VBoxModel",
      "state": {
       "_dom_classes": [
        "widget-interact"
       ],
       "children": [
        "IPY_MODEL_2147c41f2a7c4d968b6f90cb9464e5e7",
        "IPY_MODEL_78a6cc726e3e4629867a67cd23102661",
        "IPY_MODEL_9719311df7ad458d97e7694b3cc489a0"
       ],
       "layout": "IPY_MODEL_1064c08b755e484981e55019cb332e41"
      }
     },
     "4243c08a352c45b280d558d8073e4561": {
      "model_module": "@jupyter-widgets/base",
      "model_module_version": "1.2.0",
      "model_name": "LayoutModel",
      "state": {}
     },
     "42880384b98b497c9788f0cb5581114b": {
      "model_module": "@jupyter-widgets/base",
      "model_module_version": "1.2.0",
      "model_name": "LayoutModel",
      "state": {}
     },
     "446e927c348d46c1b29e038a4468f193": {
      "model_module": "@jupyter-widgets/controls",
      "model_module_version": "1.5.0",
      "model_name": "HBoxModel",
      "state": {
       "children": [
        "IPY_MODEL_497ef427626c41a1bbc757f7e39689b3",
        "IPY_MODEL_482b115bb2db47f4b6018e5e56d5d5b6"
       ],
       "layout": "IPY_MODEL_29ffd86ec106417d89e93d25127594ab"
      }
     },
     "451585d10c3c4f5c8bcff79299630dd1": {
      "model_module": "@jupyter-widgets/controls",
      "model_module_version": "1.5.0",
      "model_name": "ButtonModel",
      "state": {
       "description": "B2",
       "layout": "IPY_MODEL_abacda0f04aa4b5bbf935b807db06b81",
       "style": "IPY_MODEL_21676c632c18462d9bf46c9b73e0acf6"
      }
     },
     "452467ac54e04e688ef450ea47027023": {
      "model_module": "@jupyter-widgets/base",
      "model_module_version": "1.2.0",
      "model_name": "LayoutModel",
      "state": {}
     },
     "4575e90063294ff58e78fcce1ea1feb7": {
      "model_module": "@jupyter-widgets/base",
      "model_module_version": "1.2.0",
      "model_name": "LayoutModel",
      "state": {}
     },
     "45da0765ccb041e2ba99563fb8d3a1c5": {
      "model_module": "@jupyter-widgets/controls",
      "model_module_version": "1.5.0",
      "model_name": "ButtonModel",
      "state": {
       "description": "B2",
       "layout": "IPY_MODEL_38e600fd5e3d4e54afdbbe9963e34efd",
       "style": "IPY_MODEL_3087a1673352431cbc6b9f5ddbef8a78"
      }
     },
     "4624197fbaf545e0bc53804f046322eb": {
      "model_module": "@jupyter-widgets/base",
      "model_module_version": "1.2.0",
      "model_name": "LayoutModel",
      "state": {}
     },
     "464e373e5f2c44d5b2d552f12669f436": {
      "model_module": "@jupyter-widgets/controls",
      "model_module_version": "1.5.0",
      "model_name": "ButtonStyleModel",
      "state": {}
     },
     "46dcef0d560743ad802de38ff36a5c24": {
      "model_module": "@jupyter-widgets/output",
      "model_module_version": "1.0.0",
      "model_name": "OutputModel",
      "state": {
       "layout": "IPY_MODEL_3e327a499aa84fae903a46c968fee8e1",
       "outputs": [
        {
         "ename": "NameError",
         "evalue": "name '__dict__' is not defined",
         "output_type": "error",
         "traceback": [
          "\u001b[1;31m---------------------------------------------------------------------------\u001b[0m",
          "\u001b[1;31mNameError\u001b[0m                                 Traceback (most recent call last)",
          "\u001b[1;32m<ipython-input-25-bea51f0c02d5>\u001b[0m in \u001b[0;36mprintMe\u001b[1;34m(b)\u001b[0m\n\u001b[0;32m      7\u001b[0m     \u001b[0mb\u001b[0m\u001b[1;33m.\u001b[0m\u001b[0mcount\u001b[0m \u001b[1;33m+=\u001b[0m \u001b[1;36m1\u001b[0m\u001b[1;33m\u001b[0m\u001b[1;33m\u001b[0m\u001b[0m\n\u001b[0;32m      8\u001b[0m     \u001b[1;32mwith\u001b[0m \u001b[0moutput2\u001b[0m\u001b[1;33m:\u001b[0m\u001b[1;33m\u001b[0m\u001b[1;33m\u001b[0m\u001b[0m\n\u001b[1;32m----> 9\u001b[1;33m         \u001b[0mprint\u001b[0m\u001b[1;33m(\u001b[0m\u001b[0mb\u001b[0m\u001b[1;33m,\u001b[0m\u001b[0m__dict__\u001b[0m\u001b[1;33m)\u001b[0m\u001b[1;33m\u001b[0m\u001b[1;33m\u001b[0m\u001b[0m\n\u001b[0m\u001b[0;32m     10\u001b[0m         \u001b[0mprint\u001b[0m\u001b[1;33m(\u001b[0m\u001b[1;34m'\\\"'\u001b[0m\u001b[1;33m,\u001b[0m\u001b[0mb\u001b[0m\u001b[1;33m.\u001b[0m\u001b[0mdescription\u001b[0m\u001b[1;33m,\u001b[0m\u001b[1;34m'\\\", count= '\u001b[0m\u001b[1;33m,\u001b[0m\u001b[0mb\u001b[0m\u001b[1;33m.\u001b[0m\u001b[0mcount\u001b[0m\u001b[1;33m)\u001b[0m\u001b[1;33m\u001b[0m\u001b[1;33m\u001b[0m\u001b[0m\n\u001b[0;32m     11\u001b[0m \u001b[0mbutton2\u001b[0m\u001b[1;33m.\u001b[0m\u001b[0mon_click\u001b[0m\u001b[1;33m(\u001b[0m\u001b[0mprintMe\u001b[0m\u001b[1;33m)\u001b[0m\u001b[1;33m\u001b[0m\u001b[1;33m\u001b[0m\u001b[0m\n",
          "\u001b[1;31mNameError\u001b[0m: name '__dict__' is not defined"
         ]
        }
       ]
      }
     },
     "482b115bb2db47f4b6018e5e56d5d5b6": {
      "model_module": "@jupyter-widgets/output",
      "model_module_version": "1.0.0",
      "model_name": "OutputModel",
      "state": {
       "layout": "IPY_MODEL_cb083437e75d4a32964eb0e2738a1294"
      }
     },
     "48b6192a4c1a41d08494b8216afa38ca": {
      "model_module": "@jupyter-widgets/output",
      "model_module_version": "1.0.0",
      "model_name": "OutputModel",
      "state": {
       "layout": "IPY_MODEL_1ee682343626434eb45bda7ad435694c",
       "outputs": [
        {
         "name": "stdout",
         "output_type": "stream",
         "text": "Printed something\nPrinted something\n"
        }
       ]
      }
     },
     "497ef427626c41a1bbc757f7e39689b3": {
      "model_module": "@jupyter-widgets/controls",
      "model_module_version": "1.5.0",
      "model_name": "VBoxModel",
      "state": {
       "children": [
        "IPY_MODEL_18ca47ab7e5e43d188057a50431787a5",
        "IPY_MODEL_669a9a4c7c72446189908242cfc13fb7",
        "IPY_MODEL_240a234b3080492da7da79a18fb5dedd"
       ],
       "layout": "IPY_MODEL_710bc6829f1f4cda947a943fce79957d"
      }
     },
     "4d4510752bfa48378d87329ea164489c": {
      "model_module": "@jupyter-widgets/output",
      "model_module_version": "1.0.0",
      "model_name": "OutputModel",
      "state": {
       "layout": "IPY_MODEL_a11eade44e2748b48f647c40e50209e8",
       "outputs": [
        {
         "name": "stdout",
         "output_type": "stream",
         "text": "B2: Printing\n0\nB2: Printing\n0\nB2: Printing\n0\n"
        }
       ]
      }
     },
     "4d55890b0277405296839fedeccd65f9": {
      "model_module": "@jupyter-widgets/base",
      "model_module_version": "1.2.0",
      "model_name": "LayoutModel",
      "state": {}
     },
     "4eda1e10e3874c9ba9d3e479c755b6a1": {
      "model_module": "@jupyter-widgets/controls",
      "model_module_version": "1.5.0",
      "model_name": "ButtonModel",
      "state": {
       "description": "B2: Click me to Print",
       "layout": "IPY_MODEL_b8263f523ec44b17a4cfd0c9bb7c0c24",
       "style": "IPY_MODEL_298c21de862c434e84b4471bebdaa376"
      }
     },
     "4f016231a77a4e8da8d90aba9ac83759": {
      "model_module": "@jupyter-widgets/base",
      "model_module_version": "1.2.0",
      "model_name": "LayoutModel",
      "state": {}
     },
     "503fde3fe43b482389dda5403009c4a8": {
      "model_module": "@jupyter-widgets/controls",
      "model_module_version": "1.5.0",
      "model_name": "ButtonModel",
      "state": {
       "description": "B2: Click me to Print",
       "layout": "IPY_MODEL_24910237d795479d867b3e2e7a7675b0",
       "style": "IPY_MODEL_c2fdc6cb083e4c7ab3187b5518c5eaeb"
      }
     },
     "504b09e90ed24e44a7f9482ae8124615": {
      "model_module": "@jupyter-widgets/controls",
      "model_module_version": "1.5.0",
      "model_name": "ButtonStyleModel",
      "state": {}
     },
     "50cb4184a9154bd4bc195274e6ada5a4": {
      "model_module": "@jupyter-widgets/base",
      "model_module_version": "1.2.0",
      "model_name": "LayoutModel",
      "state": {}
     },
     "5146c6a21b0b46a5bcad9e09f37e729b": {
      "model_module": "@jupyter-widgets/output",
      "model_module_version": "1.0.0",
      "model_name": "OutputModel",
      "state": {
       "layout": "IPY_MODEL_4243c08a352c45b280d558d8073e4561",
       "outputs": [
        {
         "name": "stdout",
         "output_type": "stream",
         "text": "\" B2: Click me to Print \", count=  1\n\" B2: Click me to Print \", count=  2\n\" B2: Click me to Print \", count=  3\n\" B2: Click me to Print \", count=  4\n\" B2: Click me to Print \", count=  5\n\" B2: Click me to Print \", count=  6\n\" B2: Click me to Print \", count=  7\n\" B2: Click me to Print \", count=  8\n"
        }
       ]
      }
     },
     "5259b760732a4b25a5d361717230312d": {
      "model_module": "@jupyter-widgets/base",
      "model_module_version": "1.2.0",
      "model_name": "LayoutModel",
      "state": {}
     },
     "52f4201d1b8b48e3bf6dfe5ed4849340": {
      "model_module": "@jupyter-widgets/controls",
      "model_module_version": "1.5.0",
      "model_name": "ButtonStyleModel",
      "state": {}
     },
     "550ad6534ca243a88146c6701ae06866": {
      "model_module": "@jupyter-widgets/base",
      "model_module_version": "1.2.0",
      "model_name": "LayoutModel",
      "state": {}
     },
     "5874d73c1aab4dbf8280c29665085c83": {
      "model_module": "@jupyter-widgets/base",
      "model_module_version": "1.2.0",
      "model_name": "LayoutModel",
      "state": {}
     },
     "58802395a48e4893aeee730f13929a73": {
      "model_module": "@jupyter-widgets/output",
      "model_module_version": "1.0.0",
      "model_name": "OutputModel",
      "state": {
       "layout": "IPY_MODEL_f802e879dbfa4f8b887756ab3a01fae5",
       "outputs": [
        {
         "name": "stdout",
         "output_type": "stream",
         "text": "B2: Printing\nB2: Printing\nB2: Printing\n"
        }
       ]
      }
     },
     "5da4c8b2069d48948aa2fe7307afbbe1": {
      "model_module": "@jupyter-widgets/base",
      "model_module_version": "1.2.0",
      "model_name": "LayoutModel",
      "state": {}
     },
     "5e611e8e42c747aa9a35f1a2ad5e1ccd": {
      "model_module": "@jupyter-widgets/base",
      "model_module_version": "1.2.0",
      "model_name": "LayoutModel",
      "state": {}
     },
     "632b110adb8f4b8c9e9302c2ca00b526": {
      "model_module": "@jupyter-widgets/controls",
      "model_module_version": "1.5.0",
      "model_name": "DescriptionStyleModel",
      "state": {
       "description_width": ""
      }
     },
     "642bca7c13ce48b09e64693c51dee702": {
      "model_module": "@jupyter-widgets/output",
      "model_module_version": "1.0.0",
      "model_name": "OutputModel",
      "state": {
       "layout": "IPY_MODEL_7749fa0550ea485388a199f5292bbed7",
       "outputs": [
        {
         "name": "stdout",
         "output_type": "stream",
         "text": "Printed something\nPrinted something\n"
        }
       ]
      }
     },
     "6465aa90491d421c9b8d018932d94100": {
      "model_module": "@jupyter-widgets/controls",
      "model_module_version": "1.5.0",
      "model_name": "ButtonModel",
      "state": {
       "description": "B2: Click me to Print",
       "layout": "IPY_MODEL_b51986a47d124b1c85b28ed4a8a837c9",
       "style": "IPY_MODEL_52f4201d1b8b48e3bf6dfe5ed4849340"
      }
     },
     "655ef77669ba4446aa46dd1a8e0d8d94": {
      "model_module": "@jupyter-widgets/output",
      "model_module_version": "1.0.0",
      "model_name": "OutputModel",
      "state": {
       "layout": "IPY_MODEL_5874d73c1aab4dbf8280c29665085c83",
       "outputs": [
        {
         "name": "stdout",
         "output_type": "stream",
         "text": "B2: Printing\n1\nB2: Printing\n2\nB2: Printing\n3\nB2: Printing\n4\nB2: Printing\n5\n"
        }
       ]
      }
     },
     "669a9a4c7c72446189908242cfc13fb7": {
      "model_module": "@jupyter-widgets/controls",
      "model_module_version": "1.5.0",
      "model_name": "ButtonModel",
      "state": {
       "description": "button 1",
       "layout": "IPY_MODEL_f1334f9eb9a54979870b3f6ee6d00d56",
       "style": "IPY_MODEL_fb54d6dcdfff4d149e5ae2888ec93d1e"
      }
     },
     "699ad518c666455db25fae4a899ac237": {
      "model_module": "@jupyter-widgets/base",
      "model_module_version": "1.2.0",
      "model_name": "LayoutModel",
      "state": {}
     },
     "6ce1001ad1a2449da9a2f644e1161c08": {
      "model_module": "@jupyter-widgets/controls",
      "model_module_version": "1.5.0",
      "model_name": "ButtonStyleModel",
      "state": {
       "button_color": "green"
      }
     },
     "6d6c6baa2f18422babadfb7b15974ca8": {
      "model_module": "@jupyter-widgets/controls",
      "model_module_version": "1.5.0",
      "model_name": "ButtonModel",
      "state": {
       "description": "B2: Click me to Print",
       "layout": "IPY_MODEL_42880384b98b497c9788f0cb5581114b",
       "style": "IPY_MODEL_df45b81a8e2a41d09621e0b28e02d544"
      }
     },
     "6e265e71956d4a6ea276a3fe87f26b07": {
      "model_module": "@jupyter-widgets/controls",
      "model_module_version": "1.5.0",
      "model_name": "ButtonModel",
      "state": {
       "description": "B2",
       "layout": "IPY_MODEL_04cf265cf417439c8a491ee6b282baaf",
       "style": "IPY_MODEL_17b910912b794310bbcf4ef2057dba3a"
      }
     },
     "710bc6829f1f4cda947a943fce79957d": {
      "model_module": "@jupyter-widgets/base",
      "model_module_version": "1.2.0",
      "model_name": "LayoutModel",
      "state": {
       "border": "solid 1px black",
       "margin": "0px 10px 10px 0px",
       "padding": "5px 5px 5px 5px"
      }
     },
     "7401265ce7a8414db90082e72145ed76": {
      "model_module": "@jupyter-widgets/base",
      "model_module_version": "1.2.0",
      "model_name": "LayoutModel",
      "state": {
       "border": "solid 1px black",
       "margin": "0px 10px 10px 0px",
       "padding": "5px 5px 5px 5px",
       "width": "200px"
      }
     },
     "7749fa0550ea485388a199f5292bbed7": {
      "model_module": "@jupyter-widgets/base",
      "model_module_version": "1.2.0",
      "model_name": "LayoutModel",
      "state": {}
     },
     "78a6cc726e3e4629867a67cd23102661": {
      "model_module": "@jupyter-widgets/controls",
      "model_module_version": "1.5.0",
      "model_name": "IntSliderModel",
      "state": {
       "description": "times",
       "layout": "IPY_MODEL_5e611e8e42c747aa9a35f1a2ad5e1ccd",
       "max": 5,
       "style": "IPY_MODEL_bfe85dec1d434f179d5a4e7915f33b05",
       "value": 2
      }
     },
     "7f0065a3b8ec48109673fea426db0be5": {
      "model_module": "@jupyter-widgets/controls",
      "model_module_version": "1.5.0",
      "model_name": "ButtonModel",
      "state": {
       "description": "Click me to Print",
       "layout": "IPY_MODEL_26db6656796048d2b3a67500be99cd8b",
       "style": "IPY_MODEL_9d3760b2368e40e19ba29898cfd6a267"
      }
     },
     "7f49a8740cfd41fdaa8899a9f78e3465": {
      "model_module": "@jupyter-widgets/output",
      "model_module_version": "1.0.0",
      "model_name": "OutputModel",
      "state": {
       "layout": "IPY_MODEL_414fd828379c486292116304f6d56354",
       "outputs": [
        {
         "name": "stdout",
         "output_type": "stream",
         "text": "B2: Print Me\nB2: Print Me\nB2: Print Me\n"
        }
       ]
      }
     },
     "7f5f8bf7dc854fc48d2769c1675fb4c2": {
      "model_module": "@jupyter-widgets/controls",
      "model_module_version": "1.5.0",
      "model_name": "ButtonModel",
      "state": {
       "description": "button 1",
       "layout": "IPY_MODEL_d6f51206756043a0b0b81b079c60de1c",
       "style": "IPY_MODEL_464e373e5f2c44d5b2d552f12669f436"
      }
     },
     "81e79193c77947f1b473ba3024bb5553": {
      "model_module": "@jupyter-widgets/controls",
      "model_module_version": "1.5.0",
      "model_name": "SliderStyleModel",
      "state": {
       "description_width": ""
      }
     },
     "89e3fdba2d084d5cbdae7cb3715eb7fc": {
      "model_module": "@jupyter-widgets/base",
      "model_module_version": "1.2.0",
      "model_name": "LayoutModel",
      "state": {}
     },
     "8c4447e1e15c446586f90fe30b67e180": {
      "model_module": "@jupyter-widgets/controls",
      "model_module_version": "1.5.0",
      "model_name": "ButtonStyleModel",
      "state": {
       "button_color": "red"
      }
     },
     "8dfdf90993f24eb2b313323588f3925c": {
      "model_module": "@jupyter-widgets/output",
      "model_module_version": "1.0.0",
      "model_name": "OutputModel",
      "state": {
       "layout": "IPY_MODEL_c3ed233bceb44107a5db761f636cc990",
       "outputs": [
        {
         "name": "stdout",
         "output_type": "stream",
         "text": "\" B2 \", count=  1\n\" B2 \", count=  2\n\" B2 \", count=  3\n\" B2 \", count=  4\n\" B2 \", count=  5\n\" B2 \", count=  6\n"
        }
       ]
      }
     },
     "9719311df7ad458d97e7694b3cc489a0": {
      "model_module": "@jupyter-widgets/output",
      "model_module_version": "1.0.0",
      "model_name": "OutputModel",
      "state": {
       "layout": "IPY_MODEL_d5e492e3848949f2ac82e455e89cbd1f",
       "outputs": [
        {
         "name": "stdout",
         "output_type": "stream",
         "text": "haha\n"
        }
       ]
      }
     },
     "9d3760b2368e40e19ba29898cfd6a267": {
      "model_module": "@jupyter-widgets/controls",
      "model_module_version": "1.5.0",
      "model_name": "ButtonStyleModel",
      "state": {}
     },
     "a07ae4e1e3304eae9152855ad60d1b8b": {
      "model_module": "@jupyter-widgets/controls",
      "model_module_version": "1.5.0",
      "model_name": "ButtonModel",
      "state": {
       "description": "B2: Click me to Print",
       "layout": "IPY_MODEL_d3910f45c8d94320bba1a9486d1a962e",
       "style": "IPY_MODEL_d3a9e33a231441c18bb8ab614cf67ea9"
      }
     },
     "a0cc418fdbd245d189ceb17e7e62b7f5": {
      "model_module": "@jupyter-widgets/controls",
      "model_module_version": "1.5.0",
      "model_name": "ButtonStyleModel",
      "state": {
       "button_color": "red"
      }
     },
     "a11eade44e2748b48f647c40e50209e8": {
      "model_module": "@jupyter-widgets/base",
      "model_module_version": "1.2.0",
      "model_name": "LayoutModel",
      "state": {}
     },
     "a297f0003b5042aba5cea93e0799039d": {
      "model_module": "@jupyter-widgets/controls",
      "model_module_version": "1.5.0",
      "model_name": "ButtonStyleModel",
      "state": {}
     },
     "a30af56cef0f4befab219af251c7eacd": {
      "model_module": "@jupyter-widgets/base",
      "model_module_version": "1.2.0",
      "model_name": "LayoutModel",
      "state": {}
     },
     "a3dcfa753c6945838e0906fc2530f50a": {
      "model_module": "@jupyter-widgets/controls",
      "model_module_version": "1.5.0",
      "model_name": "ButtonModel",
      "state": {
       "description": "Click me to Print",
       "layout": "IPY_MODEL_50cb4184a9154bd4bc195274e6ada5a4",
       "style": "IPY_MODEL_f0b0ed8e8c30457da8de8c39328df9eb"
      }
     },
     "a5c11be453364bb5b93fb07662c86758": {
      "model_module": "@jupyter-widgets/output",
      "model_module_version": "1.0.0",
      "model_name": "OutputModel",
      "state": {
       "layout": "IPY_MODEL_b6c0fbf923e441949276396490e264ed",
       "outputs": [
        {
         "name": "stdout",
         "output_type": "stream",
         "text": "\n"
        }
       ]
      }
     },
     "a5d45d5ff49d4beb813229fe9614e026": {
      "model_module": "@jupyter-widgets/base",
      "model_module_version": "1.2.0",
      "model_name": "LayoutModel",
      "state": {}
     },
     "a68bc86b7b1f4fdfae04fd471b1516b4": {
      "model_module": "@jupyter-widgets/base",
      "model_module_version": "1.2.0",
      "model_name": "LayoutModel",
      "state": {}
     },
     "abacda0f04aa4b5bbf935b807db06b81": {
      "model_module": "@jupyter-widgets/base",
      "model_module_version": "1.2.0",
      "model_name": "LayoutModel",
      "state": {}
     },
     "ae0412be7cab4847bc2400de9dd51b3c": {
      "model_module": "@jupyter-widgets/base",
      "model_module_version": "1.2.0",
      "model_name": "LayoutModel",
      "state": {}
     },
     "aebb8a3670e8480c8463c95d79f2fa19": {
      "model_module": "@jupyter-widgets/base",
      "model_module_version": "1.2.0",
      "model_name": "LayoutModel",
      "state": {}
     },
     "b343c955d088454799f18d8dbfbcec8c": {
      "model_module": "@jupyter-widgets/controls",
      "model_module_version": "1.5.0",
      "model_name": "ButtonModel",
      "state": {
       "description": "B2:",
       "layout": "IPY_MODEL_550ad6534ca243a88146c6701ae06866",
       "style": "IPY_MODEL_cc22a509c4ff476cbc74d424a436b42e"
      }
     },
     "b51986a47d124b1c85b28ed4a8a837c9": {
      "model_module": "@jupyter-widgets/base",
      "model_module_version": "1.2.0",
      "model_name": "LayoutModel",
      "state": {}
     },
     "b6c0fbf923e441949276396490e264ed": {
      "model_module": "@jupyter-widgets/base",
      "model_module_version": "1.2.0",
      "model_name": "LayoutModel",
      "state": {}
     },
     "b8263f523ec44b17a4cfd0c9bb7c0c24": {
      "model_module": "@jupyter-widgets/base",
      "model_module_version": "1.2.0",
      "model_name": "LayoutModel",
      "state": {}
     },
     "b8b00fca57154fd588d2e95948ebbf46": {
      "model_module": "@jupyter-widgets/controls",
      "model_module_version": "1.5.0",
      "model_name": "ButtonModel",
      "state": {
       "description": "Click me to Print",
       "layout": "IPY_MODEL_e1ed6c5f8b6843d88d9b0e84ac26d38f",
       "style": "IPY_MODEL_bcb95ee0bdcb46819b3aa66273b076b6"
      }
     },
     "ba58fa79b7264c51813e1cce05a89f32": {
      "model_module": "@jupyter-widgets/base",
      "model_module_version": "1.2.0",
      "model_name": "LayoutModel",
      "state": {}
     },
     "ba85435f360f4125a7666a2663fc4569": {
      "model_module": "@jupyter-widgets/controls",
      "model_module_version": "1.5.0",
      "model_name": "ButtonStyleModel",
      "state": {}
     },
     "ba8b9f78ece04760816f2c7908c72130": {
      "model_module": "@jupyter-widgets/controls",
      "model_module_version": "1.5.0",
      "model_name": "ButtonStyleModel",
      "state": {
       "button_color": "green"
      }
     },
     "bcb95ee0bdcb46819b3aa66273b076b6": {
      "model_module": "@jupyter-widgets/controls",
      "model_module_version": "1.5.0",
      "model_name": "ButtonStyleModel",
      "state": {}
     },
     "bf10469db4b241bfb7ba30bab4674700": {
      "model_module": "@jupyter-widgets/controls",
      "model_module_version": "1.5.0",
      "model_name": "VBoxModel",
      "state": {
       "children": [
        "IPY_MODEL_36896f3d0a7940b6b6483f307ac9c0bd",
        "IPY_MODEL_7f5f8bf7dc854fc48d2769c1675fb4c2",
        "IPY_MODEL_faefbfdb4e134020a133201486663e68"
       ],
       "layout": "IPY_MODEL_29fcc473a23c4e85b1e470bfff99841c"
      }
     },
     "bfe85dec1d434f179d5a4e7915f33b05": {
      "model_module": "@jupyter-widgets/controls",
      "model_module_version": "1.5.0",
      "model_name": "SliderStyleModel",
      "state": {
       "description_width": ""
      }
     },
     "c0166c2fcd434ba0a08a58fd9fbace3a": {
      "model_module": "@jupyter-widgets/output",
      "model_module_version": "1.0.0",
      "model_name": "OutputModel",
      "state": {
       "layout": "IPY_MODEL_026974f948b549c795df3f72a5d094aa",
       "outputs": [
        {
         "name": "stdout",
         "output_type": "stream",
         "text": "{'_trait_values': {'description': 'B2', 'comm': <ipykernel.comm.comm.Comm object at 0x000002779C375A00>, 'keys': ['_dom_classes', '_model_module', '_model_module_version', '_model_name', '_view_count', '_view_module', '_view_module_version', '_view_name', 'button_style', 'description', 'disabled', 'icon', 'layout', 'style', 'tooltip'], '_dom_classes': (), '_model_module': '@jupyter-widgets/controls', '_model_module_version': '1.5.0', '_model_name': 'ButtonModel', '_view_count': None, '_view_module': '@jupyter-widgets/controls', '_view_module_version': '1.5.0', '_view_name': 'ButtonView', 'button_style': '', 'disabled': False, 'icon': '', 'layout': Layout(), 'style': ButtonStyle(button_color='red'), 'tooltip': '', '_msg_callbacks': <ipywidgets.widgets.widget.CallbackDispatcher object at 0x000002779C375910>, '_display_callbacks': <ipywidgets.widgets.widget.CallbackDispatcher object at 0x000002779BD27490>}, '_trait_notifiers': {'comm': {'change': [<traitlets.traitlets.ObserveHandler object at 0x000002779BD71B50>]}}, '_trait_validators': {'icon': <traitlets.traitlets.ValidateHandler object at 0x000002779BD993A0>}, '_cross_validation_lock': False, '_model_id': '26e52e45052841ecbb00c52194773f8f', '_click_handlers': <ipywidgets.widgets.widget.CallbackDispatcher object at 0x000002779C375730>, 'count': 1}\n\" B2 \", count=  1\n\" B2 \", count=  2\n\" B2 \", count=  3\n\" B2 \", count=  4\n\" B2 \", count=  5\n\" B2 \", count=  6\n\" B2 \", count=  7\n\" B2 \", count=  8\n\" B2 \", count=  9\n\" B2 \", count=  10\n\" B2 \", count=  11\n\" B2 \", count=  12\n\" B2 \", count=  13\n\" B2 \", count=  14\n"
        }
       ]
      }
     },
     "c2fdc6cb083e4c7ab3187b5518c5eaeb": {
      "model_module": "@jupyter-widgets/controls",
      "model_module_version": "1.5.0",
      "model_name": "ButtonStyleModel",
      "state": {}
     },
     "c33e732dd6d848e5affd1273548fc8dd": {
      "model_module": "@jupyter-widgets/base",
      "model_module_version": "1.2.0",
      "model_name": "LayoutModel",
      "state": {}
     },
     "c3ed233bceb44107a5db761f636cc990": {
      "model_module": "@jupyter-widgets/base",
      "model_module_version": "1.2.0",
      "model_name": "LayoutModel",
      "state": {}
     },
     "c8f24dd0dbac449fb2adab252bb9654d": {
      "model_module": "@jupyter-widgets/controls",
      "model_module_version": "1.5.0",
      "model_name": "ButtonStyleModel",
      "state": {}
     },
     "cb083437e75d4a32964eb0e2738a1294": {
      "model_module": "@jupyter-widgets/base",
      "model_module_version": "1.2.0",
      "model_name": "LayoutModel",
      "state": {
       "border": "solid 1px black",
       "margin": "0px 10px 10px 0px",
       "padding": "5px 5px 5px 5px",
       "width": "200px"
      }
     },
     "cbe9faed93984ff3ba34dd343ef81abf": {
      "model_module": "@jupyter-widgets/base",
      "model_module_version": "1.2.0",
      "model_name": "LayoutModel",
      "state": {}
     },
     "cc22a509c4ff476cbc74d424a436b42e": {
      "model_module": "@jupyter-widgets/controls",
      "model_module_version": "1.5.0",
      "model_name": "ButtonStyleModel",
      "state": {}
     },
     "ccc419f5b8e54ccc96bd6409cb1ccc15": {
      "model_module": "@jupyter-widgets/base",
      "model_module_version": "1.2.0",
      "model_name": "LayoutModel",
      "state": {}
     },
     "cd35494480034e7bb5a4fc2a195573d2": {
      "model_module": "@jupyter-widgets/controls",
      "model_module_version": "1.5.0",
      "model_name": "DescriptionStyleModel",
      "state": {
       "description_width": ""
      }
     },
     "cde4f887e5f745ddb7844151f962f199": {
      "model_module": "@jupyter-widgets/controls",
      "model_module_version": "1.5.0",
      "model_name": "ButtonModel",
      "state": {
       "description": "Click me to Print",
       "layout": "IPY_MODEL_d9f24b765d1943f99e2cfe7fb3a69980",
       "style": "IPY_MODEL_fa1d136ce6f34bf8856ec1d755170509"
      }
     },
     "d0d225f3f2eb492ba3d463a6fcfefde6": {
      "model_module": "@jupyter-widgets/base",
      "model_module_version": "1.2.0",
      "model_name": "LayoutModel",
      "state": {}
     },
     "d0f67bd9b6b447a2a86fbaa4dff27750": {
      "model_module": "@jupyter-widgets/base",
      "model_module_version": "1.2.0",
      "model_name": "LayoutModel",
      "state": {}
     },
     "d3910f45c8d94320bba1a9486d1a962e": {
      "model_module": "@jupyter-widgets/base",
      "model_module_version": "1.2.0",
      "model_name": "LayoutModel",
      "state": {}
     },
     "d3a9e33a231441c18bb8ab614cf67ea9": {
      "model_module": "@jupyter-widgets/controls",
      "model_module_version": "1.5.0",
      "model_name": "ButtonStyleModel",
      "state": {}
     },
     "d429e8bd789d48568cc481e1e1fd09a5": {
      "model_module": "@jupyter-widgets/controls",
      "model_module_version": "1.5.0",
      "model_name": "ButtonModel",
      "state": {
       "description": "B1: Click me to Print",
       "layout": "IPY_MODEL_ae0412be7cab4847bc2400de9dd51b3c",
       "style": "IPY_MODEL_504b09e90ed24e44a7f9482ae8124615"
      }
     },
     "d5e492e3848949f2ac82e455e89cbd1f": {
      "model_module": "@jupyter-widgets/base",
      "model_module_version": "1.2.0",
      "model_name": "LayoutModel",
      "state": {}
     },
     "d62905d6c03c4046b9991fa9623ad7ba": {
      "model_module": "@jupyter-widgets/base",
      "model_module_version": "1.2.0",
      "model_name": "LayoutModel",
      "state": {}
     },
     "d6f51206756043a0b0b81b079c60de1c": {
      "model_module": "@jupyter-widgets/base",
      "model_module_version": "1.2.0",
      "model_name": "LayoutModel",
      "state": {}
     },
     "d887436008e54d2a80a1e50f856ac086": {
      "model_module": "@jupyter-widgets/output",
      "model_module_version": "1.0.0",
      "model_name": "OutputModel",
      "state": {
       "layout": "IPY_MODEL_89e3fdba2d084d5cbdae7cb3715eb7fc",
       "outputs": [
        {
         "name": "stdout",
         "output_type": "stream",
         "text": "B2: Printing\nButton(description='B2: Click me to Print', style=ButtonStyle())\nB2: Printing\nButton(description='B2: Click me to Print', style=ButtonStyle())\n"
        }
       ]
      }
     },
     "d9f24b765d1943f99e2cfe7fb3a69980": {
      "model_module": "@jupyter-widgets/base",
      "model_module_version": "1.2.0",
      "model_name": "LayoutModel",
      "state": {}
     },
     "daf21d3a1a6d49c096d3154ebfe5660b": {
      "model_module": "@jupyter-widgets/base",
      "model_module_version": "1.2.0",
      "model_name": "LayoutModel",
      "state": {}
     },
     "df45b81a8e2a41d09621e0b28e02d544": {
      "model_module": "@jupyter-widgets/controls",
      "model_module_version": "1.5.0",
      "model_name": "ButtonStyleModel",
      "state": {}
     },
     "e0b96f0885e64158bd9ba5094d366ad7": {
      "model_module": "@jupyter-widgets/base",
      "model_module_version": "1.2.0",
      "model_name": "LayoutModel",
      "state": {}
     },
     "e14cdddf3f324535b0e56b3e80b0c16a": {
      "model_module": "@jupyter-widgets/output",
      "model_module_version": "1.0.0",
      "model_name": "OutputModel",
      "state": {
       "layout": "IPY_MODEL_c33e732dd6d848e5affd1273548fc8dd",
       "outputs": [
        {
         "name": "stdout",
         "output_type": "stream",
         "text": "B2: Click me to Print 1\nB2: Click me to Print 2\nB2: Click me to Print 3\nB2: Click me to Print 4\nB2: Click me to Print 5\n"
        }
       ]
      }
     },
     "e1ed6c5f8b6843d88d9b0e84ac26d38f": {
      "model_module": "@jupyter-widgets/base",
      "model_module_version": "1.2.0",
      "model_name": "LayoutModel",
      "state": {}
     },
     "ebf39543ddc3493bbc3aeee6d38da6f3": {
      "model_module": "@jupyter-widgets/controls",
      "model_module_version": "1.5.0",
      "model_name": "ButtonStyleModel",
      "state": {
       "button_color": "red"
      }
     },
     "ef2475cad9d94174ae717e5ed40a9536": {
      "model_module": "@jupyter-widgets/controls",
      "model_module_version": "1.5.0",
      "model_name": "ButtonModel",
      "state": {
       "description": "B2",
       "layout": "IPY_MODEL_d62905d6c03c4046b9991fa9623ad7ba",
       "style": "IPY_MODEL_ba85435f360f4125a7666a2663fc4569"
      }
     },
     "f0b0ed8e8c30457da8de8c39328df9eb": {
      "model_module": "@jupyter-widgets/controls",
      "model_module_version": "1.5.0",
      "model_name": "ButtonStyleModel",
      "state": {}
     },
     "f1334f9eb9a54979870b3f6ee6d00d56": {
      "model_module": "@jupyter-widgets/base",
      "model_module_version": "1.2.0",
      "model_name": "LayoutModel",
      "state": {}
     },
     "f2cc34f2268d430a93cd8b70547cd38d": {
      "model_module": "@jupyter-widgets/base",
      "model_module_version": "1.2.0",
      "model_name": "LayoutModel",
      "state": {}
     },
     "f34190dc93714fc3bb7034576d2c0706": {
      "model_module": "@jupyter-widgets/controls",
      "model_module_version": "1.5.0",
      "model_name": "TextModel",
      "state": {
       "description": "text",
       "layout": "IPY_MODEL_f375b0bd054c4f49b780895524fd5c6c",
       "style": "IPY_MODEL_632b110adb8f4b8c9e9302c2ca00b526"
      }
     },
     "f375b0bd054c4f49b780895524fd5c6c": {
      "model_module": "@jupyter-widgets/base",
      "model_module_version": "1.2.0",
      "model_name": "LayoutModel",
      "state": {}
     },
     "f3c6759163394a02abbe6f051dfa9b51": {
      "model_module": "@jupyter-widgets/output",
      "model_module_version": "1.0.0",
      "model_name": "OutputModel",
      "state": {
       "layout": "IPY_MODEL_a68bc86b7b1f4fdfae04fd471b1516b4",
       "outputs": [
        {
         "name": "stdout",
         "output_type": "stream",
         "text": "{'_trait_values': {'description': 'B2', 'comm': <ipykernel.comm.comm.Comm object at 0x000002779C2A02E0>, 'keys': ['_dom_classes', '_model_module', '_model_module_version', '_model_name', '_view_count', '_view_module', '_view_module_version', '_view_name', 'button_style', 'description', 'disabled', 'icon', 'layout', 'style', 'tooltip'], '_dom_classes': (), '_model_module': '@jupyter-widgets/controls', '_model_module_version': '1.5.0', '_model_name': 'ButtonModel', '_view_count': None, '_view_module': '@jupyter-widgets/controls', '_view_module_version': '1.5.0', '_view_name': 'ButtonView', 'button_style': '', 'disabled': False, 'icon': '', 'layout': Layout(), 'style': ButtonStyle(button_color='red'), 'tooltip': '', '_msg_callbacks': <ipywidgets.widgets.widget.CallbackDispatcher object at 0x000002779C2A07C0>, '_display_callbacks': <ipywidgets.widgets.widget.CallbackDispatcher object at 0x000002779C227670>}, '_trait_notifiers': {'comm': {'change': [<traitlets.traitlets.ObserveHandler object at 0x000002779BD71B50>]}}, '_trait_validators': {'icon': <traitlets.traitlets.ValidateHandler object at 0x000002779BD993A0>}, '_cross_validation_lock': False, '_model_id': '29ad89e44c8942a1be04daf27d63e008', '_click_handlers': <ipywidgets.widgets.widget.CallbackDispatcher object at 0x000002779C2A0850>, 'count': 1}\n\" B2 \", count=  1\n\" B2 \", count=  3\n"
        }
       ]
      }
     },
     "f5d82657e86c44f99539efb7903245af": {
      "model_module": "@jupyter-widgets/base",
      "model_module_version": "1.2.0",
      "model_name": "LayoutModel",
      "state": {}
     },
     "f802e879dbfa4f8b887756ab3a01fae5": {
      "model_module": "@jupyter-widgets/base",
      "model_module_version": "1.2.0",
      "model_name": "LayoutModel",
      "state": {}
     },
     "f8bbdb5eaa1e4fc5983c355bcf36d9ad": {
      "model_module": "@jupyter-widgets/controls",
      "model_module_version": "1.5.0",
      "model_name": "DescriptionStyleModel",
      "state": {
       "description_width": ""
      }
     },
     "f97e40352b834a32a1929ac29ac169b9": {
      "model_module": "@jupyter-widgets/output",
      "model_module_version": "1.0.0",
      "model_name": "OutputModel",
      "state": {
       "layout": "IPY_MODEL_ba58fa79b7264c51813e1cce05a89f32",
       "outputs": [
        {
         "name": "stdout",
         "output_type": "stream",
         "text": "\" B2: \", count=  1\n\" B2: \", count=  2\n\" B2: \", count=  3\n"
        }
       ]
      }
     },
     "fa1d136ce6f34bf8856ec1d755170509": {
      "model_module": "@jupyter-widgets/controls",
      "model_module_version": "1.5.0",
      "model_name": "ButtonStyleModel",
      "state": {}
     },
     "faefbfdb4e134020a133201486663e68": {
      "model_module": "@jupyter-widgets/controls",
      "model_module_version": "1.5.0",
      "model_name": "ButtonModel",
      "state": {
       "description": "CLEAR",
       "layout": "IPY_MODEL_daf21d3a1a6d49c096d3154ebfe5660b",
       "style": "IPY_MODEL_a0cc418fdbd245d189ceb17e7e62b7f5"
      }
     },
     "faf71bf8909d4885b6367b1fe5d865b2": {
      "model_module": "@jupyter-widgets/controls",
      "model_module_version": "1.5.0",
      "model_name": "ButtonModel",
      "state": {
       "description": "B2",
       "layout": "IPY_MODEL_a5d45d5ff49d4beb813229fe9614e026",
       "style": "IPY_MODEL_ba8b9f78ece04760816f2c7908c72130"
      }
     },
     "fb18afcc6b224a51ba51c13a7fbe9f1b": {
      "model_module": "@jupyter-widgets/controls",
      "model_module_version": "1.5.0",
      "model_name": "IntSliderModel",
      "state": {
       "layout": "IPY_MODEL_4575e90063294ff58e78fcce1ea1feb7",
       "max": 20,
       "style": "IPY_MODEL_23b9f1290ef5465b872616146d306343"
      }
     },
     "fb54d6dcdfff4d149e5ae2888ec93d1e": {
      "model_module": "@jupyter-widgets/controls",
      "model_module_version": "1.5.0",
      "model_name": "ButtonStyleModel",
      "state": {}
     }
    },
    "version_major": 2,
    "version_minor": 0
   }
  }
 },
 "nbformat": 4,
 "nbformat_minor": 4
}
