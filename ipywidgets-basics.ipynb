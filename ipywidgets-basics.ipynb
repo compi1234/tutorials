{
 "cells": [
  {
   "cell_type": "markdown",
   "metadata": {
    "id": "hj-IhicZejm6",
    "tags": [
     "nbconvert-hide"
    ]
   },
   "source": [
    "# IpyWidgets - The Basics   \n",
    "This notebook illustrates basic ipywidget functionality  \n",
    "For widgets used in combination with plotting and audio, see ipywidgets-mpl\n",
    "\n",
    "----\n",
    "Author: Dirk Van Compernolle   \n",
    "Created: 24/11/2020   \n",
    "Modifications:\n",
    "> 17/03/2021: added more complex examples with multiple buttons and output widgets\n",
    "\n",
    "Dependencies:   \n",
    "> - ipywidgets\n",
    "> - Ipython.display\n",
    "\n",
    "Compatibility Issues:\n",
    "> - generally robust across versions and platforms \n",
    "> - widget.Play() for animations does not work in Google Colab [Demo 6]\n",
    "> - widget.Output() does not do text wrapping in Google Colab [Demo 8]"
   ]
  },
  {
   "cell_type": "code",
   "execution_count": 1,
   "metadata": {
    "id": "MK8FlvOdejm7"
   },
   "outputs": [],
   "source": [
    "# [![Binder](http://mybinder.org/badge_logo.svg)](http://mybinder.org/v2/gh/binder-examples/conda_environment/master?filepath=index.ipynb)"
   ]
  },
  {
   "cell_type": "markdown",
   "metadata": {
    "id": "7h9hxDMxejm7"
   },
   "source": [
    "----\n",
    "### Elementary Widgets\n",
    "----"
   ]
  },
  {
   "cell_type": "markdown",
   "metadata": {
    "id": "HY6rnOXNejm7"
   },
   "source": [
    "#### 1. Slider Widget"
   ]
  },
  {
   "cell_type": "code",
   "execution_count": 2,
   "metadata": {
    "id": "SNJA_FXfejm8"
   },
   "outputs": [],
   "source": [
    "import ipywidgets as widgets\n",
    "from ipywidgets import interact, interact_manual, interactive\n",
    "import IPython.display as ipd\n",
    "import numpy as np"
   ]
  },
  {
   "cell_type": "code",
   "execution_count": 3,
   "metadata": {
    "colab": {
     "base_uri": "https://localhost:8080/",
     "height": 49,
     "referenced_widgets": [
      "155612e6867046bc85c938d9803fff43",
      "30bb44a458604d748e4195b8bc7ce483",
      "aefa2f9623c349d7a64b4b1bbf5e3db7"
     ]
    },
    "id": "Xp9NwVCJejm8",
    "outputId": "33340419-c8e3-4994-c314-245442ae044c"
   },
   "outputs": [
    {
     "data": {
      "application/vnd.jupyter.widget-view+json": {
       "model_id": "6890a140be4d4d669671d0ffd9729c12",
       "version_major": 2,
       "version_minor": 0
      },
      "text/plain": [
       "IntSlider(value=0, max=20)"
      ]
     },
     "metadata": {},
     "output_type": "display_data"
    }
   ],
   "source": [
    "# widget1: integer slider\n",
    "slider1 = widgets.IntSlider(max=20)\n",
    "ipd.display(slider1)\n",
    "def my_func(x):\n",
    "    print(2*x)"
   ]
  },
  {
   "cell_type": "code",
   "execution_count": 4,
   "metadata": {
    "id": "Z5yN0h0nejm8",
    "scrolled": true
   },
   "outputs": [],
   "source": [
    "# The code below works as expected in Jupyter Notebook,\n",
    "#    but not in Jupyter lab !, rendering in voila, ...\n",
    "# button1 = widgets.Button(description=\"B1\")\n",
    "#\n",
    "# def printMe(b):\n",
    "#        print(\"Printing something\")\n",
    "# button1.on_click(printMe)\n",
    "# button1"
   ]
  },
  {
   "cell_type": "markdown",
   "metadata": {
    "id": "P9EbPZDmejm8"
   },
   "source": [
    "#### 2. A button  ... that prints"
   ]
  },
  {
   "cell_type": "code",
   "execution_count": 5,
   "metadata": {
    "colab": {
     "base_uri": "https://localhost:8080/",
     "height": 100,
     "referenced_widgets": [
      "d0b3423b4a1f4c7ca31bd87d1036829a",
      "a87349bcad814ed28b10b24130ead183",
      "d9572ecd0d754d70ae0156c984490c7e",
      "472c388a3d2d43508dc461f49701fc12",
      "76f79b449d7b466a9ef17eed936ea567"
     ]
    },
    "id": "vPVcEkB9ejm8",
    "outputId": "71f94fd0-d0a0-408b-b1a0-f5bfeaedd9bc"
   },
   "outputs": [
    {
     "data": {
      "application/vnd.jupyter.widget-view+json": {
       "model_id": "3dca6b637b6346b19c8cf5a19cde0700",
       "version_major": 2,
       "version_minor": 0
      },
      "text/plain": [
       "Button(description='Click me to Print', style=ButtonStyle())"
      ]
     },
     "metadata": {},
     "output_type": "display_data"
    },
    {
     "data": {
      "application/vnd.jupyter.widget-view+json": {
       "model_id": "c4bd7e1d8b1d46fa92964a49dfdf3ab3",
       "version_major": 2,
       "version_minor": 0
      },
      "text/plain": [
       "Output()"
      ]
     },
     "metadata": {},
     "output_type": "display_data"
    }
   ],
   "source": [
    "# simple button, but sending the output via output widget\n",
    "button1b = widgets.Button(description=\"Click me to Print\")\n",
    "output1 = widgets.Output()\n",
    "ipd.display(button1b,output1)\n",
    "def printMe(b):\n",
    "    with output1:\n",
    "        print(\"Printed something\")\n",
    "button1b.on_click(printMe)\n",
    "#button1b"
   ]
  },
  {
   "cell_type": "markdown",
   "metadata": {
    "id": "O8LFqyf5ejm8"
   },
   "source": [
    "#### 3. A textbox  ... get's printed n times "
   ]
  },
  {
   "cell_type": "code",
   "execution_count": 6,
   "metadata": {
    "colab": {
     "base_uri": "https://localhost:8080/",
     "height": 98,
     "referenced_widgets": [
      "db8006cf5226452daa21edf8f3d04f84",
      "31260667c795444fa96dbe95e0d2c069",
      "1a9a6646cce242cdabe71bcf56274b00",
      "74abf01124ec41d2b56586f037709a0c",
      "45799597698c4b8db903cbb5495c90af",
      "48167e8424504c13a1271b5be11fc593",
      "e6af78aa0d3e4385bf818ae2a3fef2d2",
      "623eb966992841b49ae3a84a590efc68",
      "e465cdada7ca48a4a069d68c42cc2e64",
      "6a24b837e37647f9969b592d5d886a1b"
     ]
    },
    "id": "3npcmmlxejm8",
    "outputId": "b6ecd29b-cb6c-45f0-db8b-b7e991e08802"
   },
   "outputs": [
    {
     "data": {
      "application/vnd.jupyter.widget-view+json": {
       "model_id": "435895600dda405b811181160e630477",
       "version_major": 2,
       "version_minor": 0
      },
      "text/plain": [
       "interactive(children=(Text(value='', description='text'), IntSlider(value=2, description='times', max=5), Outp…"
      ]
     },
     "metadata": {},
     "output_type": "display_data"
    }
   ],
   "source": [
    "# widget 3: printing text\n",
    "@interact( text='', times=(0,5) )\n",
    "def printIt(text,times):\n",
    "    print( text * times )"
   ]
  },
  {
   "cell_type": "markdown",
   "metadata": {
    "id": "WJJtv0Myejm8"
   },
   "source": [
    "#### 4. A progress bar ...  counts your clicks"
   ]
  },
  {
   "cell_type": "code",
   "execution_count": 7,
   "metadata": {
    "colab": {
     "base_uri": "https://localhost:8080/",
     "height": 49,
     "referenced_widgets": [
      "b47f0451fbde46a4b68778716d6f3632",
      "92a418a75aad4905861c577d2800c63e",
      "6f91a56321a3436480cadc543defc470",
      "83d97e312afe450db26c75bddf86cf96",
      "2baa82f107a548db9c5b6f7cd770164b",
      "8032e4b71f884ec6b49214090a00149e",
      "34e1b12277d844d3aaa49febd80a2092",
      "2f52806860fb4ca4b73fa16721ba4ef8"
     ]
    },
    "id": "Tm3NDee_ejm8",
    "outputId": "7df69872-52f5-4273-e244-3618fb49a3cc"
   },
   "outputs": [
    {
     "data": {
      "application/vnd.jupyter.widget-view+json": {
       "model_id": "a2adc3c4d6ae466386037bd62d3b416e",
       "version_major": 2,
       "version_minor": 0
      },
      "text/plain": [
       "HBox(children=(Button(description='add one ... ', style=ButtonStyle()), IntProgress(value=0, bar_style='succes…"
      ]
     },
     "metadata": {},
     "output_type": "display_data"
    }
   ],
   "source": [
    "progress_bar = widgets.IntProgress(\n",
    "    value=0,\n",
    "    min=0, max=10,step=1,\n",
    "    description='Counting',\n",
    "    bar_style='success',\n",
    "    orientation='horizontal'\n",
    "    )\n",
    "btn_add = widgets.Button( description= 'add one ... ' )\n",
    "\n",
    "def AddOne(b):\n",
    "    progress_bar.value += 1\n",
    "    if progress_bar.value == 10:\n",
    "        progress_bar.bar_style=''\n",
    "    elif progress_bar.value % 2 != 0:\n",
    "        progress_bar.bar_style='danger'\n",
    "    else:\n",
    "        progress_bar.bar_style='success'\n",
    "btn_add.on_click(AddOne)\n",
    "\n",
    "widgets.HBox([btn_add, progress_bar])"
   ]
  },
  {
   "cell_type": "markdown",
   "metadata": {
    "id": "dWLN6y7Xejm8"
   },
   "source": [
    "#### 5. A dropdown menu ... doesn't do anything here"
   ]
  },
  {
   "cell_type": "code",
   "execution_count": 8,
   "metadata": {
    "id": "XdVGansNejm8"
   },
   "outputs": [
    {
     "data": {
      "application/vnd.jupyter.widget-view+json": {
       "model_id": "530d738a6d7d40069e2735049cf3596e",
       "version_major": 2,
       "version_minor": 0
      },
      "text/plain": [
       "Dropdown(description='ACTION', options=('PLAY', 'REC'), value='PLAY')"
      ]
     },
     "metadata": {},
     "output_type": "display_data"
    }
   ],
   "source": [
    "rec_play = widgets.Dropdown(\n",
    "    options={'REC','PLAY'},\n",
    "    description='ACTION',\n",
    ")\n",
    "rec_play"
   ]
  },
  {
   "cell_type": "markdown",
   "metadata": {
    "id": "J2Tpq4Ikejm8"
   },
   "source": [
    "#### 6. Linking widgets together with the Play widget\n",
    "\n",
    "notes: Play widget not working in Colab"
   ]
  },
  {
   "cell_type": "code",
   "execution_count": 9,
   "metadata": {
    "colab": {
     "base_uri": "https://localhost:8080/",
     "height": 49,
     "referenced_widgets": [
      "79ef1b504e824f5f86a54b351ad488c5",
      "60f6394bf1a94adc8dc2b87492166533",
      "d370e2a480e645b092288917f8003663",
      "29eda9cf84624d0880cb3ffc45bb575c",
      "cb707a4247be496ab967b06a3849a5c7",
      "39bdf981ddbe44c59f8c524fe2f8c49b",
      "c500ad9a54714fd88851a3710867b6f1",
      "7bd50b880f31460ab921234f5e17e60e"
     ]
    },
    "id": "YrsPd3fVejm8",
    "outputId": "15d9a339-5fc4-491a-e0c8-bd228e99164e"
   },
   "outputs": [
    {
     "data": {
      "application/vnd.jupyter.widget-view+json": {
       "model_id": "40b3743ea4704960acc957ef3fed1f7a",
       "version_major": 2,
       "version_minor": 0
      },
      "text/plain": [
       "HBox(children=(Play(value=50, description='Press play', interval=1000), IntSlider(value=0)))"
      ]
     },
     "metadata": {},
     "output_type": "display_data"
    }
   ],
   "source": [
    "# widget2: animation by Play\n",
    "play2 = widgets.Play(\n",
    "    interval=1000, # interval in msec between animation frame\n",
    "    value=50,\n",
    "    min=0,\n",
    "    max=100,\n",
    "    step=1,\n",
    "    description=\"Press play\",\n",
    "    disabled=False\n",
    ")\n",
    "slider2 = widgets.IntSlider()\n",
    "widgets.jslink((play2, 'value'), (slider2, 'value'))\n",
    "widgets.HBox([play2, slider2])"
   ]
  },
  {
   "cell_type": "markdown",
   "metadata": {
    "id": "n1To02sVejm9"
   },
   "source": [
    "#### 7. Laying out an app Using Boxes and Output Widgets \n",
    "- The outputs are displayed in controlled output widgets and can be cleared as wished\n",
    "- Buttons and multiple outputs are neatly organized with Box, VBox and HBox\n",
    "- Similar components(eg. buttons) are created using functools.partial() method"
   ]
  },
  {
   "cell_type": "code",
   "execution_count": 10,
   "metadata": {
    "colab": {
     "base_uri": "https://localhost:8080/",
     "height": 135,
     "referenced_widgets": [
      "2c499e1e31fd4dc9a8809b93503ebe22",
      "00ac0d5ceba742ddac42415b9cf09bff",
      "1a1cb4cc3afd46499c8019ce6f1d7b55",
      "2c8022f6c6364ce9a36eb18f3dabb10e",
      "0b7c622d627b498b9068e09b659e8d14",
      "219b073fd1724a94b870b173fdf78a21",
      "6b9be375e79146589d0e660ce8a6480a",
      "761e099974b74fa6bd5fed802ef44e47",
      "562420d44c3c42d4b1d098b552cd7bd3",
      "cba54b292e1c4c49ba6f4067612ea72c",
      "aeed00a5ed6a4f1097979907082a6296",
      "a10aec2a2ff04e94994f040f78071e49",
      "f69a9668bfa24d21be1bfbc9ee814914",
      "b6da4b5d41c64c9786cc601751316c50",
      "5688c362d5b448c0bd161ed9a8ab85e4",
      "54f0d04a2b104a4c8970d2afb0796870",
      "5f679983f36642cc97682ffdc85b1f07",
      "c61ce355510440abb901928a2bfe33e7",
      "d152e1cd230444ac8554a2e0c02e5d16",
      "48b40161076446aea4c27428b23dfb8e",
      "c0e0d01eda584c9183389a96c50d88e8",
      "262d7f0f510b4543aefae6456bfc84ae",
      "8c4176317a11434ebc506af3af7f0706"
     ]
    },
    "id": "YUp53olTejm9",
    "outputId": "2eca7e31-ad65-4373-f743-e23467de9b6f"
   },
   "outputs": [
    {
     "data": {
      "application/vnd.jupyter.widget-view+json": {
       "model_id": "6d68781de1ca497a8bb4f0ab333a0d84",
       "version_major": 2,
       "version_minor": 0
      },
      "text/plain": [
       "HBox(children=(VBox(children=(Label(value='Controls'), Button(description='button 1', style=ButtonStyle()), Bu…"
      ]
     },
     "metadata": {},
     "output_type": "display_data"
    }
   ],
   "source": [
    "# compose your app of a few controls and an output widget\n",
    "# beautify by putting them all in boxes\n",
    "def make_box_layout():\n",
    "     return widgets.Layout(\n",
    "        border='solid 1px black',\n",
    "        margin='0px 10px 10px 0px',\n",
    "        padding='5px 5px 5px 5px'\n",
    "     )\n",
    "\n",
    "b1 = widgets.Button(description='button 1')\n",
    "b2 = widgets.Button(description='button 2')\n",
    "b3 = widgets.Button(description='CLEAR')\n",
    "b3.style.button_color = 'red'\n",
    "output = widgets.Output()\n",
    "\n",
    "def make_boxes():\n",
    "    vbox1 = widgets.VBox([widgets.Label('Controls'), b1, b2])\n",
    "    vbox2 = widgets.VBox([widgets.Label('CTRL-CLEAR'), b3 ])\n",
    "    return vbox1, vbox2\n",
    " \n",
    "vbox1, vbox2 = make_boxes()\n",
    "vbox1.layout = make_box_layout()\n",
    "vbox2.layout = make_box_layout()\n",
    "output1.layout = make_box_layout()\n",
    "output1.layout.width='200px'\n",
    "\n",
    "def b1_clicked(b):\n",
    "    with output:\n",
    "        print(\"Button 1 clicked.\")\n",
    "b1.on_click(b1_clicked)\n",
    "def b2_clicked(b):\n",
    "    with output:\n",
    "        print(\"Button 2 clicked.\")\n",
    "b2.on_click(b2_clicked)\n",
    "def b3_clicked(b):\n",
    "    with output:\n",
    "        ipd.clear_output()\n",
    "b3.on_click(b3_clicked) \n",
    "\n",
    "myapp = widgets.HBox([vbox1, vbox2,output])\n",
    "myapp"
   ]
  },
  {
   "cell_type": "markdown",
   "metadata": {},
   "source": [
    "#### 8. Duplicating Similar Widgets with functools.partial()\n",
    "Similar components (eg. buttons) are created using functools.partial() method"
   ]
  },
  {
   "cell_type": "code",
   "execution_count": 11,
   "metadata": {},
   "outputs": [
    {
     "data": {
      "application/vnd.jupyter.widget-view+json": {
       "model_id": "6cd9efa3c3ed45a5b5b5426e0719d832",
       "version_major": 2,
       "version_minor": 0
      },
      "text/plain": [
       "HBox(children=(VBox(children=(Button(description='CLEAR', layout=Layout(border='solid 1px black', height='40px…"
      ]
     },
     "metadata": {},
     "output_type": "display_data"
    }
   ],
   "source": [
    "# now a similar app, with many buttons that have a similar behavior\n",
    "# functools.partial() comes in handy to create all the similar callback routines\n",
    "import functools\n",
    "\n",
    "n_buttons = 5\n",
    "buttons = []\n",
    "box_layout = widgets.Layout(\n",
    "        width='250px',\n",
    "        border='solid 1px black',\n",
    "        margin='0px 10px 10px 0px',\n",
    "        padding='5px 5px 5px 5px'\n",
    "     )\n",
    "button_layout = widgets.Layout(\n",
    "        width = '150px',\n",
    "        height = '40px',\n",
    "        border='solid 1px black',\n",
    "        margin='0px 10px 10px 0px',\n",
    "        padding='5px 5px 5px 5px'\n",
    "     )\n",
    "\n",
    "output1 = widgets.Output(layout=box_layout)\n",
    "output2 = widgets.Output(layout=box_layout)\n",
    "with output1:\n",
    "    print(\"INFO:\")\n",
    "    print(\"All buttons do the same operation. However, they use the button number as a parameter\")\n",
    "    \n",
    "def on_button_clicked(i,b):\n",
    "    with output2:\n",
    "        print(\"%d**2 = %d \" % (i,i*i) )\n",
    "        \n",
    "for i in range(n_buttons):\n",
    "    if i==0:\n",
    "        button = widgets.Button(description='CLEAR',layout=button_layout)\n",
    "        button.style.button_color = 'green'\n",
    "        def clear_click(b):\n",
    "            with output2:\n",
    "                ipd.clear_output()                \n",
    "        button.on_click(clear_click)\n",
    "    else:\n",
    "        button = widgets.Button(description='button '+str(i),layout=button_layout)\n",
    "        button.on_click(functools.partial(on_button_clicked,i))        \n",
    "    buttons.append(button)\n",
    "    \n",
    "button_box = widgets.VBox(buttons,layout=box_layout)\n",
    "output_box = widgets.VBox([output1,output2])\n",
    "myapp = widgets.HBox([button_box,output_box])\n",
    "myapp"
   ]
  },
  {
   "cell_type": "markdown",
   "metadata": {
    "id": "Xo6uIP51ejm9"
   },
   "source": [
    "---\n",
    "### GAME:  Beat the Bot (guessing game)\n",
    "The bot learns from your previous clicking behavior   \n",
    "Just try to beat him   \n",
    "Have you found the optimum strategy\n",
    "\n",
    "-----"
   ]
  },
  {
   "cell_type": "code",
   "execution_count": 12,
   "metadata": {
    "id": "DK-gRPWwejm9"
   },
   "outputs": [],
   "source": [
    "# some globals as needed\n",
    "global user_history\n",
    "user_history = [1,0]\n",
    "target_score = 5\n",
    "\n",
    "#buttons\n",
    "btn0 = widgets.Button( description= '0' )\n",
    "btn1 = widgets.Button( description= '1' )\n",
    "btnS = widgets.Button( description= 'START' )\n",
    "\n",
    "def click_zero(b):\n",
    "    update_game(0)\n",
    "btn0.on_click( click_zero )\n",
    "def click_one(b):\n",
    "    update_game(1)\n",
    "btn1.on_click( click_one )\n",
    "def click_start(b):\n",
    "    update_game(0,start=True)\n",
    "btnS.on_click( click_start )\n",
    "btn0.disabled = True\n",
    "btn1.disabled = True\n",
    "btn0.button_style ='info'\n",
    "btn1.button_style ='info'\n",
    "btnS.button_style ='warning'\n",
    "# score board\n",
    "user_score = widgets.IntProgress(\n",
    "    value=0,\n",
    "    min=0, max=target_score,step=1,\n",
    "    description='You',\n",
    "    bar_style='success',\n",
    "    orientation='horizontal'\n",
    "    )\n",
    "bot_score = widgets.IntProgress(\n",
    "    value=0,\n",
    "    min=0, max=target_score,step=1,\n",
    "    description='Bot',\n",
    "    bar_style='danger',\n",
    "    orientation='horizontal'\n",
    "    )\n",
    "scoreboard= widgets.VBox((user_score,bot_score))\n",
    "final_msg = widgets.HTML(\"<h1 style='color:green'> You win </h1>\")\n",
    "final_msg.layout.visibility = \"hidden\"\n",
    "# layout\n",
    "game = widgets.VBox( ( widgets.HBox((scoreboard,final_msg)),\n",
    "                   widgets.HBox((btn0,btn1,btnS))\n",
    "             ))"
   ]
  },
  {
   "cell_type": "code",
   "execution_count": 13,
   "metadata": {
    "id": "zqfM87Y_ejm9"
   },
   "outputs": [],
   "source": [
    "#\n",
    "# game rules\n",
    "#\n",
    "# note only user_history had to be defined as a global\n",
    "# all widgets behave by nature as such\n",
    "\n",
    "def update_game(user_choice,start=False):\n",
    "    global user_history\n",
    "\n",
    "    if( start ):\n",
    "        user_history = [1,0]\n",
    "        final_msg.value = \"<h1 style='color:green'> You win </h1>\"\n",
    "        final_msg.layout.visibility = \"hidden\"\n",
    "        user_score.value = 0\n",
    "        bot_score.value = 0\n",
    "        btn0.disabled = False\n",
    "        btn1.disabled = False\n",
    "        btnS.disabled = True\n",
    "        btnS.button_style = ''\n",
    "        return\n",
    "    prob = sum(user_history)/len(user_history)\n",
    "    comp_choice = np.random.binomial(1,prob,1)[0]\n",
    "    user_history.append( user_choice )\n",
    "    # print(\"sequence length: \",len(user_history)-2)\n",
    "    if comp_choice == user_choice:\n",
    "        bot_score.value += 1\n",
    "    else:\n",
    "        user_score.value += 1\n",
    "    if user_score.value == target_score or bot_score.value == target_score:\n",
    "        if bot_score.value == target_score:\n",
    "            final_msg.value = \"<h1 style='color:red'>Game Over</h1>\"\n",
    "        final_msg.layout.visibility = \"visible\"\n",
    "        btn0.disabled = True\n",
    "        btn1.disabled = True\n",
    "        btnS.disabled = False\n",
    "        btnS.button_style = 'warning'\n",
    "    return"
   ]
  },
  {
   "cell_type": "code",
   "execution_count": 14,
   "metadata": {
    "colab": {
     "base_uri": "https://localhost:8080/",
     "height": 113,
     "referenced_widgets": [
      "4bade98c6a004d8d90896d6b07764bf6",
      "f04e402967c24788b4eefefbf6562426",
      "66c1a1a42da74bdd9661add5f8040090",
      "6db6482df6794363b4d44778a0eb0e77",
      "4cb146afff314a5f9688f0486ec565f6",
      "0203dd5c6e324d13a5ff2fd32b61bc7d",
      "29125c85ae5a40f5a18ca2dc8448ff3a",
      "50dbeea66dde47b2995620e316a9175e",
      "146c121b4e2e41bd823fa2b412c0ad86",
      "f6f0770626464fc2898bd1c58a0489c3",
      "bd7b71b814794411b3d7e7a383fc7001",
      "7264a2235c0b4350be0f390ea5709716",
      "038dbe2dfe174234b0130b72d6ea6ec9",
      "3bfb42b5ed2947ceb1ab7f97914be19f",
      "60c75d60888643fa89f181f7160a99ce",
      "310470ceea60423881ce4f916b7538b7",
      "8a085ced51a045b8907bba6debaefc60",
      "f3f9c0c6e6ee4e4c9fd95bd7fa6912c9",
      "099d85121dcc42d59afaf86c0d5b597d",
      "5bde7751fb5a4ee59af029de06b7e7db",
      "ba54766ec3924ae4881ee33a98175702",
      "795d1067168243f48d1dbf900e27d001",
      "f4c5c8e166da4d7d81a2f5032825337e",
      "4e5288767b5142a2a11c30dba2e9cf3b",
      "099552528f9f4643a31a6021c948b6f4",
      "aaccae6204104d43af5fb4e021107d77"
     ]
    },
    "id": "mnUIXEfEejm9",
    "outputId": "d04d4f51-d0fc-44d6-e390-3cd51d0c5ccc"
   },
   "outputs": [
    {
     "data": {
      "application/vnd.jupyter.widget-view+json": {
       "model_id": "c4cc343f6fea406e9853a01d9954b207",
       "version_major": 2,
       "version_minor": 0
      },
      "text/plain": [
       "VBox(children=(HBox(children=(VBox(children=(IntProgress(value=0, bar_style='success', description='You', max=…"
      ]
     },
     "metadata": {},
     "output_type": "display_data"
    }
   ],
   "source": [
    "game"
   ]
  },
  {
   "cell_type": "code",
   "execution_count": null,
   "metadata": {
    "id": "WaFXiqAcejm_"
   },
   "outputs": [],
   "source": []
  }
 ],
 "metadata": {
  "colab": {
   "name": "ipywidgets.ipynb",
   "provenance": []
  },
  "kernelspec": {
   "display_name": "Python 3",
   "language": "python",
   "name": "python3"
  },
  "language_info": {
   "codemirror_mode": {
    "name": "ipython",
    "version": 3
   },
   "file_extension": ".py",
   "mimetype": "text/x-python",
   "name": "python",
   "nbconvert_exporter": "python",
   "pygments_lexer": "ipython3",
   "version": "3.8.3"
  },
  "widgets": {
   "application/vnd.jupyter.widget-state+json": {
    "state": {
     "03033d8f9101474a843dae957a615e6c": {
      "model_module": "@jupyter-widgets/controls",
      "model_module_version": "1.5.0",
      "model_name": "ButtonModel",
      "state": {
       "button_style": "info",
       "description": "1",
       "disabled": true,
       "layout": "IPY_MODEL_15026fe1c5a0444da7ecda1dead00fc6",
       "style": "IPY_MODEL_d8bab765c7084e9ab3f6587bcb67bf55"
      }
     },
     "0866a6274f994ee0b45c55194eb469a9": {
      "model_module": "@jupyter-widgets/controls",
      "model_module_version": "1.5.0",
      "model_name": "SliderStyleModel",
      "state": {
       "description_width": ""
      }
     },
     "0b83d7009e4a4380b77d0ec685f0011d": {
      "model_module": "@jupyter-widgets/controls",
      "model_module_version": "1.5.0",
      "model_name": "ButtonModel",
      "state": {
       "description": "button 4",
       "layout": "IPY_MODEL_c6479afed07f4e1abb4050fdd4cf81a6",
       "style": "IPY_MODEL_ac946ea25fa1401e84b713da0d15fd76"
      }
     },
     "0cd2bf2e8ce4467b8a2158f1fad82c48": {
      "model_module": "@jupyter-widgets/controls",
      "model_module_version": "1.5.0",
      "model_name": "VBoxModel",
      "state": {
       "children": [
        "IPY_MODEL_24d4edf999654eb7b8a30f98e31d8875",
        "IPY_MODEL_97c2a2021b7a497193696e477785cfea",
        "IPY_MODEL_6c007467a4ff4adbb57c6036364dffc7",
        "IPY_MODEL_34bdbfd76ece4bda99b47fa95a22c09d",
        "IPY_MODEL_0b83d7009e4a4380b77d0ec685f0011d"
       ],
       "layout": "IPY_MODEL_c01b2bb2f5b44f6a8e10c2bfee84e6f7"
      }
     },
     "0eb73a49c40a47199fe15347c651c7a2": {
      "model_module": "@jupyter-widgets/base",
      "model_module_version": "1.2.0",
      "model_name": "LayoutModel",
      "state": {}
     },
     "0f5b36592ac04607803d26714c262e41": {
      "model_module": "@jupyter-widgets/controls",
      "model_module_version": "1.5.0",
      "model_name": "ButtonStyleModel",
      "state": {}
     },
     "11a753eac0244434a09bc1f058f95d3e": {
      "model_module": "@jupyter-widgets/controls",
      "model_module_version": "1.5.0",
      "model_name": "VBoxModel",
      "state": {
       "children": [
        "IPY_MODEL_a71a7162421f42939340d1b11ac00d3f",
        "IPY_MODEL_3e722197a720476b95f4dcad22b13f4f",
        "IPY_MODEL_8b9edf6eea9a4a83904e89fb13023896"
       ],
       "layout": "IPY_MODEL_a5619b959eab48d59c12fb3d575cd08b"
      }
     },
     "14cc7a1a85c04809b728db9cac3f67b4": {
      "model_module": "@jupyter-widgets/base",
      "model_module_version": "1.2.0",
      "model_name": "LayoutModel",
      "state": {}
     },
     "15026fe1c5a0444da7ecda1dead00fc6": {
      "model_module": "@jupyter-widgets/base",
      "model_module_version": "1.2.0",
      "model_name": "LayoutModel",
      "state": {}
     },
     "1664a0caacda4b8da12e91fd709cf19d": {
      "model_module": "@jupyter-widgets/base",
      "model_module_version": "1.2.0",
      "model_name": "LayoutModel",
      "state": {
       "border": "solid 1px black",
       "margin": "0px 10px 10px 0px",
       "padding": "5px 5px 5px 5px"
      }
     },
     "1665b0d5c9c241ceb62b04f087dd670a": {
      "model_module": "@jupyter-widgets/base",
      "model_module_version": "1.2.0",
      "model_name": "LayoutModel",
      "state": {}
     },
     "1b426b984be342c4a1e290986137ccd4": {
      "model_module": "@jupyter-widgets/base",
      "model_module_version": "1.2.0",
      "model_name": "LayoutModel",
      "state": {
       "border": "solid 1px black",
       "margin": "0px 10px 10px 0px",
       "padding": "5px 5px 5px 5px",
       "width": "200px"
      }
     },
     "1d9ef4689d55430989d7d2f0807c8e8d": {
      "model_module": "@jupyter-widgets/base",
      "model_module_version": "1.2.0",
      "model_name": "LayoutModel",
      "state": {}
     },
     "1f98a9d888874c1881527c8f0fea53c7": {
      "model_module": "@jupyter-widgets/controls",
      "model_module_version": "1.5.0",
      "model_name": "ButtonModel",
      "state": {
       "button_style": "info",
       "description": "0",
       "disabled": true,
       "layout": "IPY_MODEL_5f1172c0eef647a7892b1552270994b4",
       "style": "IPY_MODEL_949fa953ec954ae09f67913922bf0620"
      }
     },
     "20be5f99bac24c059929252eca6b7198": {
      "model_module": "@jupyter-widgets/output",
      "model_module_version": "1.0.0",
      "model_name": "OutputModel",
      "state": {
       "layout": "IPY_MODEL_9b553059dd9e4348ba3a77b9f58578c2"
      }
     },
     "2153676962514feeb1e460b8b1daf1dc": {
      "model_module": "@jupyter-widgets/controls",
      "model_module_version": "1.5.0",
      "model_name": "ButtonStyleModel",
      "state": {}
     },
     "23b826f671a14451b8a8de0f8d8f1314": {
      "model_module": "@jupyter-widgets/base",
      "model_module_version": "1.2.0",
      "model_name": "LayoutModel",
      "state": {}
     },
     "24d4edf999654eb7b8a30f98e31d8875": {
      "model_module": "@jupyter-widgets/controls",
      "model_module_version": "1.5.0",
      "model_name": "ButtonModel",
      "state": {
       "description": "CLEAR",
       "layout": "IPY_MODEL_c6479afed07f4e1abb4050fdd4cf81a6",
       "style": "IPY_MODEL_db4d811911464813bd469ac1b840be19"
      }
     },
     "253b781895924d1fb8c527dd2b74c808": {
      "model_module": "@jupyter-widgets/base",
      "model_module_version": "1.2.0",
      "model_name": "LayoutModel",
      "state": {}
     },
     "27724e5f1a1f45368b7f8d34e90c5db5": {
      "model_module": "@jupyter-widgets/base",
      "model_module_version": "1.2.0",
      "model_name": "LayoutModel",
      "state": {}
     },
     "285f40292bfe43efb3b5e01629e11462": {
      "model_module": "@jupyter-widgets/controls",
      "model_module_version": "1.5.0",
      "model_name": "VBoxModel",
      "state": {
       "children": [
        "IPY_MODEL_fae9572cec9b4a2eaf254f8b1881bca1",
        "IPY_MODEL_385c657fdcbb402aa60809ad3e7fce5d"
       ],
       "layout": "IPY_MODEL_1664a0caacda4b8da12e91fd709cf19d"
      }
     },
     "28ebfdd7d0634e4ca29cba4db22e68c8": {
      "model_module": "@jupyter-widgets/controls",
      "model_module_version": "1.5.0",
      "model_name": "PlayModel",
      "state": {
       "description": "Press play",
       "interval": 1000,
       "layout": "IPY_MODEL_f37796e3433b4809a6ec45cb5819beba",
       "style": "IPY_MODEL_98a239576d894c9e9f82db36b38117fd",
       "value": 50
      }
     },
     "2ed28215e7014bedb6ec3184d99e25b6": {
      "model_module": "@jupyter-widgets/base",
      "model_module_version": "1.2.0",
      "model_name": "LayoutModel",
      "state": {}
     },
     "303f1069d25845a9b185f807fcf45b4b": {
      "model_module": "@jupyter-widgets/controls",
      "model_module_version": "1.5.0",
      "model_name": "ButtonStyleModel",
      "state": {}
     },
     "3178635e748d4be7bcf78579dffeb902": {
      "model_module": "@jupyter-widgets/base",
      "model_module_version": "1.2.0",
      "model_name": "LayoutModel",
      "state": {}
     },
     "34bdbfd76ece4bda99b47fa95a22c09d": {
      "model_module": "@jupyter-widgets/controls",
      "model_module_version": "1.5.0",
      "model_name": "ButtonModel",
      "state": {
       "description": "button 3",
       "layout": "IPY_MODEL_c6479afed07f4e1abb4050fdd4cf81a6",
       "style": "IPY_MODEL_b617f72bcb87430cb35ec93a0a630b31"
      }
     },
     "3556bee623b24257a454d11ae9fc1e44": {
      "model_module": "@jupyter-widgets/base",
      "model_module_version": "1.2.0",
      "model_name": "LayoutModel",
      "state": {}
     },
     "385c657fdcbb402aa60809ad3e7fce5d": {
      "model_module": "@jupyter-widgets/controls",
      "model_module_version": "1.5.0",
      "model_name": "ButtonModel",
      "state": {
       "description": "CLEAR",
       "layout": "IPY_MODEL_2ed28215e7014bedb6ec3184d99e25b6",
       "style": "IPY_MODEL_d3c90ab2bdaf4f79b8a5fbc34da51c6e"
      }
     },
     "3b140cbe7eca4f1a8ef69a22ee81907e": {
      "model_module": "@jupyter-widgets/controls",
      "model_module_version": "1.5.0",
      "model_name": "TextModel",
      "state": {
       "description": "text",
       "layout": "IPY_MODEL_86e5cac133a941e59942a63a7dc2ee59",
       "style": "IPY_MODEL_873b32363be34cc780e97f9f4069b48c"
      }
     },
     "3bec620dc8cb4bb68ec9de70404abdfd": {
      "model_module": "@jupyter-widgets/controls",
      "model_module_version": "1.5.0",
      "model_name": "DescriptionStyleModel",
      "state": {
       "description_width": ""
      }
     },
     "3dca6b637b6346b19c8cf5a19cde0700": {
      "model_module": "@jupyter-widgets/controls",
      "model_module_version": "1.5.0",
      "model_name": "ButtonModel",
      "state": {
       "description": "Click me to Print",
       "layout": "IPY_MODEL_783eaf7d7fdc4746a6ba4694defadd04",
       "style": "IPY_MODEL_0f5b36592ac04607803d26714c262e41"
      }
     },
     "3e722197a720476b95f4dcad22b13f4f": {
      "model_module": "@jupyter-widgets/controls",
      "model_module_version": "1.5.0",
      "model_name": "ButtonModel",
      "state": {
       "description": "button 1",
       "layout": "IPY_MODEL_3178635e748d4be7bcf78579dffeb902",
       "style": "IPY_MODEL_303f1069d25845a9b185f807fcf45b4b"
      }
     },
     "40b3743ea4704960acc957ef3fed1f7a": {
      "model_module": "@jupyter-widgets/controls",
      "model_module_version": "1.5.0",
      "model_name": "HBoxModel",
      "state": {
       "children": [
        "IPY_MODEL_28ebfdd7d0634e4ca29cba4db22e68c8",
        "IPY_MODEL_6c7de21a43d04207bd08290a0f84130f"
       ],
       "layout": "IPY_MODEL_e203ee1930a24ea0aeed18d760ccad20"
      }
     },
     "4186b4ed275e447e992afb69ddc98357": {
      "model_module": "@jupyter-widgets/controls",
      "model_module_version": "1.5.0",
      "model_name": "ButtonModel",
      "state": {
       "description": "add one ... ",
       "layout": "IPY_MODEL_fd261e5976b946f59a9c71d502e89a9c",
       "style": "IPY_MODEL_85e01ed936d04a578214b7b619015cfa"
      }
     },
     "435895600dda405b811181160e630477": {
      "model_module": "@jupyter-widgets/controls",
      "model_module_version": "1.5.0",
      "model_name": "VBoxModel",
      "state": {
       "_dom_classes": [
        "widget-interact"
       ],
       "children": [
        "IPY_MODEL_3b140cbe7eca4f1a8ef69a22ee81907e",
        "IPY_MODEL_54cbc5a223e24dd19f69cca99da55f6a",
        "IPY_MODEL_963263839bc043648615a03117c370eb"
       ],
       "layout": "IPY_MODEL_6ce91df2ffd74fdaa8d855d4f73cb8bd"
      }
     },
     "505838ac32c64e419cdfd2c5003c2c80": {
      "model_module": "@jupyter-widgets/base",
      "model_module_version": "1.2.0",
      "model_name": "LayoutModel",
      "state": {}
     },
     "530d738a6d7d40069e2735049cf3596e": {
      "model_module": "@jupyter-widgets/controls",
      "model_module_version": "1.5.0",
      "model_name": "DropdownModel",
      "state": {
       "_options_labels": [
        "PLAY",
        "REC"
       ],
       "description": "ACTION",
       "index": 0,
       "layout": "IPY_MODEL_14cc7a1a85c04809b728db9cac3f67b4",
       "style": "IPY_MODEL_5a9e30fff7ed488da0b75953922530ff"
      }
     },
     "54cbc5a223e24dd19f69cca99da55f6a": {
      "model_module": "@jupyter-widgets/controls",
      "model_module_version": "1.5.0",
      "model_name": "IntSliderModel",
      "state": {
       "description": "times",
       "layout": "IPY_MODEL_e70ffaa4ac9443699aded149a15a93df",
       "max": 5,
       "style": "IPY_MODEL_9b396e48ba434d1396a880ee4b518352",
       "value": 2
      }
     },
     "56aa560fb098441c84738c2abd3ec0f9": {
      "model_module": "@jupyter-widgets/controls",
      "model_module_version": "1.5.0",
      "model_name": "HTMLModel",
      "state": {
       "layout": "IPY_MODEL_c6e05788213b4ff897233f820718d823",
       "style": "IPY_MODEL_3bec620dc8cb4bb68ec9de70404abdfd",
       "value": "<h1 style='color:green'> You win </h1>"
      }
     },
     "56d26e9dff8a4fa19ab40b89b7393820": {
      "model_module": "@jupyter-widgets/controls",
      "model_module_version": "1.5.0",
      "model_name": "HBoxModel",
      "state": {
       "children": [
        "IPY_MODEL_1f98a9d888874c1881527c8f0fea53c7",
        "IPY_MODEL_03033d8f9101474a843dae957a615e6c",
        "IPY_MODEL_e824836b10354d84bda2fa1a59aa63af"
       ],
       "layout": "IPY_MODEL_eb8a6b681c1c48b399fc73650068d503"
      }
     },
     "5a9e30fff7ed488da0b75953922530ff": {
      "model_module": "@jupyter-widgets/controls",
      "model_module_version": "1.5.0",
      "model_name": "DescriptionStyleModel",
      "state": {
       "description_width": ""
      }
     },
     "5edf91657fc748c8904134628f1a8215": {
      "model_module": "@jupyter-widgets/base",
      "model_module_version": "1.2.0",
      "model_name": "LayoutModel",
      "state": {}
     },
     "5f1172c0eef647a7892b1552270994b4": {
      "model_module": "@jupyter-widgets/base",
      "model_module_version": "1.2.0",
      "model_name": "LayoutModel",
      "state": {}
     },
     "60f0dfd38ef6455b9ec402812a03f105": {
      "model_module": "@jupyter-widgets/base",
      "model_module_version": "1.2.0",
      "model_name": "LayoutModel",
      "state": {}
     },
     "62085f539023447fba0593956fb931db": {
      "model_module": "@jupyter-widgets/base",
      "model_module_version": "1.2.0",
      "model_name": "LayoutModel",
      "state": {}
     },
     "6890a140be4d4d669671d0ffd9729c12": {
      "model_module": "@jupyter-widgets/controls",
      "model_module_version": "1.5.0",
      "model_name": "IntSliderModel",
      "state": {
       "layout": "IPY_MODEL_253b781895924d1fb8c527dd2b74c808",
       "max": 20,
       "style": "IPY_MODEL_6e72b6a45015418fb5dcf837e4e0d825"
      }
     },
     "6a2a1523a55842fab0d4d60bfd2be22b": {
      "model_module": "@jupyter-widgets/base",
      "model_module_version": "1.2.0",
      "model_name": "LayoutModel",
      "state": {}
     },
     "6c007467a4ff4adbb57c6036364dffc7": {
      "model_module": "@jupyter-widgets/controls",
      "model_module_version": "1.5.0",
      "model_name": "ButtonModel",
      "state": {
       "description": "button 2",
       "layout": "IPY_MODEL_c6479afed07f4e1abb4050fdd4cf81a6",
       "style": "IPY_MODEL_ed9b768a54a34d9bbef0ba1720a1082a"
      }
     },
     "6c7de21a43d04207bd08290a0f84130f": {
      "model_module": "@jupyter-widgets/controls",
      "model_module_version": "1.5.0",
      "model_name": "IntSliderModel",
      "state": {
       "layout": "IPY_MODEL_0eb73a49c40a47199fe15347c651c7a2",
       "style": "IPY_MODEL_0866a6274f994ee0b45c55194eb469a9",
       "value": 50
      }
     },
     "6cd9efa3c3ed45a5b5b5426e0719d832": {
      "model_module": "@jupyter-widgets/controls",
      "model_module_version": "1.5.0",
      "model_name": "HBoxModel",
      "state": {
       "children": [
        "IPY_MODEL_0cd2bf2e8ce4467b8a2158f1fad82c48",
        "IPY_MODEL_dec553afcbab4ca892592b10ea19ff13"
       ],
       "layout": "IPY_MODEL_f8ca48facf7f4dcc93e5de46fe852837"
      }
     },
     "6ce91df2ffd74fdaa8d855d4f73cb8bd": {
      "model_module": "@jupyter-widgets/base",
      "model_module_version": "1.2.0",
      "model_name": "LayoutModel",
      "state": {}
     },
     "6d68781de1ca497a8bb4f0ab333a0d84": {
      "model_module": "@jupyter-widgets/controls",
      "model_module_version": "1.5.0",
      "model_name": "HBoxModel",
      "state": {
       "children": [
        "IPY_MODEL_11a753eac0244434a09bc1f058f95d3e",
        "IPY_MODEL_285f40292bfe43efb3b5e01629e11462",
        "IPY_MODEL_20be5f99bac24c059929252eca6b7198"
       ],
       "layout": "IPY_MODEL_5edf91657fc748c8904134628f1a8215"
      }
     },
     "6e72b6a45015418fb5dcf837e4e0d825": {
      "model_module": "@jupyter-widgets/controls",
      "model_module_version": "1.5.0",
      "model_name": "SliderStyleModel",
      "state": {
       "description_width": ""
      }
     },
     "6e7ffac0ca744754af986fd4e16c0fd3": {
      "model_module": "@jupyter-widgets/base",
      "model_module_version": "1.2.0",
      "model_name": "LayoutModel",
      "state": {}
     },
     "783eaf7d7fdc4746a6ba4694defadd04": {
      "model_module": "@jupyter-widgets/base",
      "model_module_version": "1.2.0",
      "model_name": "LayoutModel",
      "state": {}
     },
     "85e01ed936d04a578214b7b619015cfa": {
      "model_module": "@jupyter-widgets/controls",
      "model_module_version": "1.5.0",
      "model_name": "ButtonStyleModel",
      "state": {}
     },
     "86e5cac133a941e59942a63a7dc2ee59": {
      "model_module": "@jupyter-widgets/base",
      "model_module_version": "1.2.0",
      "model_name": "LayoutModel",
      "state": {}
     },
     "873b32363be34cc780e97f9f4069b48c": {
      "model_module": "@jupyter-widgets/controls",
      "model_module_version": "1.5.0",
      "model_name": "DescriptionStyleModel",
      "state": {
       "description_width": ""
      }
     },
     "89f91fe9230d411e84e2b6750729c550": {
      "model_module": "@jupyter-widgets/controls",
      "model_module_version": "1.5.0",
      "model_name": "ProgressStyleModel",
      "state": {
       "description_width": ""
      }
     },
     "8b9edf6eea9a4a83904e89fb13023896": {
      "model_module": "@jupyter-widgets/controls",
      "model_module_version": "1.5.0",
      "model_name": "ButtonModel",
      "state": {
       "description": "button 2",
       "layout": "IPY_MODEL_27724e5f1a1f45368b7f8d34e90c5db5",
       "style": "IPY_MODEL_de2f2e5f780741a8b3edabc1fcbeef69"
      }
     },
     "8cb4ccc4245e467faa6145e27611da3e": {
      "model_module": "@jupyter-widgets/controls",
      "model_module_version": "1.5.0",
      "model_name": "DescriptionStyleModel",
      "state": {
       "description_width": ""
      }
     },
     "932cc301056d4a0da308536c18fba061": {
      "model_module": "@jupyter-widgets/output",
      "model_module_version": "1.0.0",
      "model_name": "OutputModel",
      "state": {
       "layout": "IPY_MODEL_c01b2bb2f5b44f6a8e10c2bfee84e6f7",
       "outputs": [
        {
         "name": "stdout",
         "output_type": "stream",
         "text": "INFO:\nAll buttons do the same operation. However, they use the button number as a parameter\n"
        }
       ]
      }
     },
     "94994728312449318935b051be9aed4d": {
      "model_module": "@jupyter-widgets/controls",
      "model_module_version": "1.5.0",
      "model_name": "ProgressStyleModel",
      "state": {
       "description_width": ""
      }
     },
     "949fa953ec954ae09f67913922bf0620": {
      "model_module": "@jupyter-widgets/controls",
      "model_module_version": "1.5.0",
      "model_name": "ButtonStyleModel",
      "state": {}
     },
     "963263839bc043648615a03117c370eb": {
      "model_module": "@jupyter-widgets/output",
      "model_module_version": "1.0.0",
      "model_name": "OutputModel",
      "state": {
       "layout": "IPY_MODEL_a7700bf2092044f18e9bf049f23fbe8c",
       "outputs": [
        {
         "name": "stdout",
         "output_type": "stream",
         "text": "\n"
        }
       ]
      }
     },
     "97c2a2021b7a497193696e477785cfea": {
      "model_module": "@jupyter-widgets/controls",
      "model_module_version": "1.5.0",
      "model_name": "ButtonModel",
      "state": {
       "description": "button 1",
       "layout": "IPY_MODEL_c6479afed07f4e1abb4050fdd4cf81a6",
       "style": "IPY_MODEL_c7520aff041f44d486202016d295abb9"
      }
     },
     "98a239576d894c9e9f82db36b38117fd": {
      "model_module": "@jupyter-widgets/controls",
      "model_module_version": "1.5.0",
      "model_name": "DescriptionStyleModel",
      "state": {
       "description_width": ""
      }
     },
     "9b396e48ba434d1396a880ee4b518352": {
      "model_module": "@jupyter-widgets/controls",
      "model_module_version": "1.5.0",
      "model_name": "SliderStyleModel",
      "state": {
       "description_width": ""
      }
     },
     "9b553059dd9e4348ba3a77b9f58578c2": {
      "model_module": "@jupyter-widgets/base",
      "model_module_version": "1.2.0",
      "model_name": "LayoutModel",
      "state": {}
     },
     "a2adc3c4d6ae466386037bd62d3b416e": {
      "model_module": "@jupyter-widgets/controls",
      "model_module_version": "1.5.0",
      "model_name": "HBoxModel",
      "state": {
       "children": [
        "IPY_MODEL_4186b4ed275e447e992afb69ddc98357",
        "IPY_MODEL_d90aba4e83a340d7aad28abd81445c7f"
       ],
       "layout": "IPY_MODEL_1d9ef4689d55430989d7d2f0807c8e8d"
      }
     },
     "a5619b959eab48d59c12fb3d575cd08b": {
      "model_module": "@jupyter-widgets/base",
      "model_module_version": "1.2.0",
      "model_name": "LayoutModel",
      "state": {
       "border": "solid 1px black",
       "margin": "0px 10px 10px 0px",
       "padding": "5px 5px 5px 5px"
      }
     },
     "a69f6f3c90834a5cb9656edd04fdc6f8": {
      "model_module": "@jupyter-widgets/controls",
      "model_module_version": "1.5.0",
      "model_name": "VBoxModel",
      "state": {
       "children": [
        "IPY_MODEL_aa1697276edf4c35aeede3e3ab004317",
        "IPY_MODEL_f932baad7ff84983aa39cce06afcf6e4"
       ],
       "layout": "IPY_MODEL_23b826f671a14451b8a8de0f8d8f1314"
      }
     },
     "a71a7162421f42939340d1b11ac00d3f": {
      "model_module": "@jupyter-widgets/controls",
      "model_module_version": "1.5.0",
      "model_name": "LabelModel",
      "state": {
       "layout": "IPY_MODEL_b8e2ee1cf4cd40abbd90f018c7af3b5c",
       "style": "IPY_MODEL_efd8e4330b1c41dcbf5ce3fd6f72fa4c",
       "value": "Controls"
      }
     },
     "a7700bf2092044f18e9bf049f23fbe8c": {
      "model_module": "@jupyter-widgets/base",
      "model_module_version": "1.2.0",
      "model_name": "LayoutModel",
      "state": {}
     },
     "a8eed185de654018b7aa9061237f663e": {
      "model_module": "@jupyter-widgets/controls",
      "model_module_version": "1.5.0",
      "model_name": "ProgressStyleModel",
      "state": {
       "description_width": ""
      }
     },
     "aa1697276edf4c35aeede3e3ab004317": {
      "model_module": "@jupyter-widgets/controls",
      "model_module_version": "1.5.0",
      "model_name": "IntProgressModel",
      "state": {
       "bar_style": "success",
       "description": "You",
       "layout": "IPY_MODEL_cd61c7aad10f47479547d4c93552132d",
       "max": 5,
       "style": "IPY_MODEL_a8eed185de654018b7aa9061237f663e"
      }
     },
     "ac946ea25fa1401e84b713da0d15fd76": {
      "model_module": "@jupyter-widgets/controls",
      "model_module_version": "1.5.0",
      "model_name": "ButtonStyleModel",
      "state": {}
     },
     "ae6161ac0d304635a2a5b376fe1add53": {
      "model_module": "@jupyter-widgets/base",
      "model_module_version": "1.2.0",
      "model_name": "LayoutModel",
      "state": {}
     },
     "b4b89a809a344698936e73051731d53d": {
      "model_module": "@jupyter-widgets/controls",
      "model_module_version": "1.5.0",
      "model_name": "HBoxModel",
      "state": {
       "children": [
        "IPY_MODEL_a69f6f3c90834a5cb9656edd04fdc6f8",
        "IPY_MODEL_56aa560fb098441c84738c2abd3ec0f9"
       ],
       "layout": "IPY_MODEL_e37002d685ca419484aa3e794caac676"
      }
     },
     "b617f72bcb87430cb35ec93a0a630b31": {
      "model_module": "@jupyter-widgets/controls",
      "model_module_version": "1.5.0",
      "model_name": "ButtonStyleModel",
      "state": {}
     },
     "b61a47e45e8e4094bdc9a5d51e708449": {
      "model_module": "@jupyter-widgets/output",
      "model_module_version": "1.0.0",
      "model_name": "OutputModel",
      "state": {
       "layout": "IPY_MODEL_c01b2bb2f5b44f6a8e10c2bfee84e6f7"
      }
     },
     "b8e2ee1cf4cd40abbd90f018c7af3b5c": {
      "model_module": "@jupyter-widgets/base",
      "model_module_version": "1.2.0",
      "model_name": "LayoutModel",
      "state": {}
     },
     "c01b2bb2f5b44f6a8e10c2bfee84e6f7": {
      "model_module": "@jupyter-widgets/base",
      "model_module_version": "1.2.0",
      "model_name": "LayoutModel",
      "state": {
       "border": "solid 1px black",
       "margin": "0px 10px 10px 0px",
       "padding": "5px 5px 5px 5px",
       "width": "250px"
      }
     },
     "c4bd7e1d8b1d46fa92964a49dfdf3ab3": {
      "model_module": "@jupyter-widgets/output",
      "model_module_version": "1.0.0",
      "model_name": "OutputModel",
      "state": {
       "layout": "IPY_MODEL_1b426b984be342c4a1e290986137ccd4"
      }
     },
     "c4cc343f6fea406e9853a01d9954b207": {
      "model_module": "@jupyter-widgets/controls",
      "model_module_version": "1.5.0",
      "model_name": "VBoxModel",
      "state": {
       "children": [
        "IPY_MODEL_b4b89a809a344698936e73051731d53d",
        "IPY_MODEL_56d26e9dff8a4fa19ab40b89b7393820"
       ],
       "layout": "IPY_MODEL_6a2a1523a55842fab0d4d60bfd2be22b"
      }
     },
     "c6479afed07f4e1abb4050fdd4cf81a6": {
      "model_module": "@jupyter-widgets/base",
      "model_module_version": "1.2.0",
      "model_name": "LayoutModel",
      "state": {
       "border": "solid 1px black",
       "height": "40px",
       "margin": "0px 10px 10px 0px",
       "padding": "5px 5px 5px 5px",
       "width": "150px"
      }
     },
     "c6e05788213b4ff897233f820718d823": {
      "model_module": "@jupyter-widgets/base",
      "model_module_version": "1.2.0",
      "model_name": "LayoutModel",
      "state": {
       "visibility": "hidden"
      }
     },
     "c7520aff041f44d486202016d295abb9": {
      "model_module": "@jupyter-widgets/controls",
      "model_module_version": "1.5.0",
      "model_name": "ButtonStyleModel",
      "state": {}
     },
     "cd61c7aad10f47479547d4c93552132d": {
      "model_module": "@jupyter-widgets/base",
      "model_module_version": "1.2.0",
      "model_name": "LayoutModel",
      "state": {}
     },
     "d3c90ab2bdaf4f79b8a5fbc34da51c6e": {
      "model_module": "@jupyter-widgets/controls",
      "model_module_version": "1.5.0",
      "model_name": "ButtonStyleModel",
      "state": {
       "button_color": "red"
      }
     },
     "d8bab765c7084e9ab3f6587bcb67bf55": {
      "model_module": "@jupyter-widgets/controls",
      "model_module_version": "1.5.0",
      "model_name": "ButtonStyleModel",
      "state": {}
     },
     "d90aba4e83a340d7aad28abd81445c7f": {
      "model_module": "@jupyter-widgets/controls",
      "model_module_version": "1.5.0",
      "model_name": "IntProgressModel",
      "state": {
       "bar_style": "success",
       "description": "Counting",
       "layout": "IPY_MODEL_ef79541732b64452891eb7b536fde80e",
       "max": 10,
       "style": "IPY_MODEL_94994728312449318935b051be9aed4d"
      }
     },
     "db4d811911464813bd469ac1b840be19": {
      "model_module": "@jupyter-widgets/controls",
      "model_module_version": "1.5.0",
      "model_name": "ButtonStyleModel",
      "state": {
       "button_color": "green"
      }
     },
     "de2f2e5f780741a8b3edabc1fcbeef69": {
      "model_module": "@jupyter-widgets/controls",
      "model_module_version": "1.5.0",
      "model_name": "ButtonStyleModel",
      "state": {}
     },
     "dec553afcbab4ca892592b10ea19ff13": {
      "model_module": "@jupyter-widgets/controls",
      "model_module_version": "1.5.0",
      "model_name": "VBoxModel",
      "state": {
       "children": [
        "IPY_MODEL_932cc301056d4a0da308536c18fba061",
        "IPY_MODEL_b61a47e45e8e4094bdc9a5d51e708449"
       ],
       "layout": "IPY_MODEL_505838ac32c64e419cdfd2c5003c2c80"
      }
     },
     "e203ee1930a24ea0aeed18d760ccad20": {
      "model_module": "@jupyter-widgets/base",
      "model_module_version": "1.2.0",
      "model_name": "LayoutModel",
      "state": {}
     },
     "e37002d685ca419484aa3e794caac676": {
      "model_module": "@jupyter-widgets/base",
      "model_module_version": "1.2.0",
      "model_name": "LayoutModel",
      "state": {}
     },
     "e70ffaa4ac9443699aded149a15a93df": {
      "model_module": "@jupyter-widgets/base",
      "model_module_version": "1.2.0",
      "model_name": "LayoutModel",
      "state": {}
     },
     "e824836b10354d84bda2fa1a59aa63af": {
      "model_module": "@jupyter-widgets/controls",
      "model_module_version": "1.5.0",
      "model_name": "ButtonModel",
      "state": {
       "button_style": "warning",
       "description": "START",
       "layout": "IPY_MODEL_3556bee623b24257a454d11ae9fc1e44",
       "style": "IPY_MODEL_2153676962514feeb1e460b8b1daf1dc"
      }
     },
     "eb8a6b681c1c48b399fc73650068d503": {
      "model_module": "@jupyter-widgets/base",
      "model_module_version": "1.2.0",
      "model_name": "LayoutModel",
      "state": {}
     },
     "ed9b768a54a34d9bbef0ba1720a1082a": {
      "model_module": "@jupyter-widgets/controls",
      "model_module_version": "1.5.0",
      "model_name": "ButtonStyleModel",
      "state": {}
     },
     "ef79541732b64452891eb7b536fde80e": {
      "model_module": "@jupyter-widgets/base",
      "model_module_version": "1.2.0",
      "model_name": "LayoutModel",
      "state": {}
     },
     "ef8e2907428c4c9d9076dd32b300e982": {
      "model_module": "@jupyter-widgets/controls",
      "model_module_version": "1.5.0",
      "model_name": "LinkModel",
      "state": {
       "source": [
        "IPY_MODEL_28ebfdd7d0634e4ca29cba4db22e68c8",
        "value"
       ],
       "target": [
        "IPY_MODEL_6c7de21a43d04207bd08290a0f84130f",
        "value"
       ]
      }
     },
     "efd8e4330b1c41dcbf5ce3fd6f72fa4c": {
      "model_module": "@jupyter-widgets/controls",
      "model_module_version": "1.5.0",
      "model_name": "DescriptionStyleModel",
      "state": {
       "description_width": ""
      }
     },
     "f37796e3433b4809a6ec45cb5819beba": {
      "model_module": "@jupyter-widgets/base",
      "model_module_version": "1.2.0",
      "model_name": "LayoutModel",
      "state": {}
     },
     "f8ca48facf7f4dcc93e5de46fe852837": {
      "model_module": "@jupyter-widgets/base",
      "model_module_version": "1.2.0",
      "model_name": "LayoutModel",
      "state": {}
     },
     "f932baad7ff84983aa39cce06afcf6e4": {
      "model_module": "@jupyter-widgets/controls",
      "model_module_version": "1.5.0",
      "model_name": "IntProgressModel",
      "state": {
       "bar_style": "danger",
       "description": "Bot",
       "layout": "IPY_MODEL_1665b0d5c9c241ceb62b04f087dd670a",
       "max": 5,
       "style": "IPY_MODEL_89f91fe9230d411e84e2b6750729c550"
      }
     },
     "fae9572cec9b4a2eaf254f8b1881bca1": {
      "model_module": "@jupyter-widgets/controls",
      "model_module_version": "1.5.0",
      "model_name": "LabelModel",
      "state": {
       "layout": "IPY_MODEL_62085f539023447fba0593956fb931db",
       "style": "IPY_MODEL_8cb4ccc4245e467faa6145e27611da3e",
       "value": "CTRL-CLEAR"
      }
     },
     "fd261e5976b946f59a9c71d502e89a9c": {
      "model_module": "@jupyter-widgets/base",
      "model_module_version": "1.2.0",
      "model_name": "LayoutModel",
      "state": {}
     }
    },
    "version_major": 2,
    "version_minor": 0
   }
  }
 },
 "nbformat": 4,
 "nbformat_minor": 4
}
