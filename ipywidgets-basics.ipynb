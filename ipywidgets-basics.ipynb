{
 "cells": [
  {
   "cell_type": "markdown",
   "metadata": {
    "id": "hj-IhicZejm6",
    "tags": [
     "nbconvert-hide"
    ]
   },
   "source": [
    "# IpyWidgets - The Basics   \n",
    "This notebook illustrates basic ipywidget functionality  \n",
    "For widgets used in combination with plotting and audio, see ipywidgets-mpl\n",
    "\n",
    "----\n",
    "Author: Dirk Van Compernolle   \n",
    "Created: 24/11/2020   \n",
    "Modifications:\n",
    "> 17/03/2021: added more complex examples with multiple buttons and output widgets\n",
    "\n",
    "Dependencies:   \n",
    "> - ipywidgets\n",
    "> - Ipython.display\n",
    "\n",
    "Compatibility Issues:\n",
    "> - generally robust across versions and platforms \n",
    "> - widget.Play() for animations does not work in Google Colab [Demo 6]\n",
    "> - widget.Output() does not do text wrapping in Google Colab [Demo 8]"
   ]
  },
  {
   "cell_type": "code",
   "execution_count": 1,
   "metadata": {
    "id": "SNJA_FXfejm8"
   },
   "outputs": [],
   "source": [
    "import ipywidgets as widgets\n",
    "from ipywidgets import interact, interact_manual, interactive\n",
    "import IPython.display as ipd\n",
    "import numpy as np"
   ]
  },
  {
   "cell_type": "code",
   "execution_count": 2,
   "metadata": {
    "id": "MK8FlvOdejm7"
   },
   "outputs": [],
   "source": [
    "# [![Binder](http://mybinder.org/badge_logo.svg)](http://mybinder.org/v2/gh/binder-examples/conda_environment/master?filepath=index.ipynb)"
   ]
  },
  {
   "cell_type": "markdown",
   "metadata": {
    "id": "7h9hxDMxejm7"
   },
   "source": [
    "----\n",
    "### Elementary Widgets\n",
    "----"
   ]
  },
  {
   "cell_type": "markdown",
   "metadata": {
    "id": "HY6rnOXNejm7"
   },
   "source": [
    "#### 1. Slider Widget"
   ]
  },
  {
   "cell_type": "code",
   "execution_count": 3,
   "metadata": {
    "colab": {
     "base_uri": "https://localhost:8080/",
     "height": 49,
     "referenced_widgets": [
      "155612e6867046bc85c938d9803fff43",
      "30bb44a458604d748e4195b8bc7ce483",
      "aefa2f9623c349d7a64b4b1bbf5e3db7"
     ]
    },
    "id": "Xp9NwVCJejm8",
    "outputId": "33340419-c8e3-4994-c314-245442ae044c"
   },
   "outputs": [
    {
     "data": {
      "application/vnd.jupyter.widget-view+json": {
       "model_id": "2d0794616547425b83055ec7d311e1e8",
       "version_major": 2,
       "version_minor": 0
      },
      "text/plain": [
       "IntSlider(value=0, max=20)"
      ]
     },
     "metadata": {},
     "output_type": "display_data"
    }
   ],
   "source": [
    "# widget1: integer slider (with no function associated with it)\n",
    "slider1 = widgets.IntSlider(max=20)\n",
    "ipd.display(slider1)"
   ]
  },
  {
   "cell_type": "code",
   "execution_count": 4,
   "metadata": {},
   "outputs": [
    {
     "data": {
      "application/vnd.jupyter.widget-view+json": {
       "model_id": "f4343a6a59814e85938925202186b5c3",
       "version_major": 2,
       "version_minor": 0
      },
      "text/plain": [
       "interactive(children=(IntSlider(value=5, description='x', max=15, min=-5), Output()), _dom_classes=('widget-in…"
      ]
     },
     "metadata": {},
     "output_type": "display_data"
    }
   ],
   "source": [
    "# The @interact decorator shows a widget for controlling the arguments of a function. \n",
    "# Here, the function f() accepts an integer as an argument. \n",
    "# By default, the @interact decorator displays a slider to control the value passed to the function:\n",
    "@interact\n",
    "def f(x=5):\n",
    "    print(x,2*x)"
   ]
  },
  {
   "cell_type": "code",
   "execution_count": 5,
   "metadata": {},
   "outputs": [
    {
     "data": {
      "application/vnd.jupyter.widget-view+json": {
       "model_id": "accb464a58d74dbea128a700ddd75308",
       "version_major": 2,
       "version_minor": 0
      },
      "text/plain": [
       "ColorPicker(value='#efefef', concise=True, description='Background color:')"
      ]
     },
     "metadata": {},
     "output_type": "display_data"
    }
   ],
   "source": [
    "color_picker = widgets.ColorPicker(\n",
    "    concise=True,\n",
    "    description='Background color:',\n",
    "    value='#efefef',\n",
    ")\n",
    "color_picker"
   ]
  },
  {
   "cell_type": "markdown",
   "metadata": {
    "id": "P9EbPZDmejm8"
   },
   "source": [
    "#### 2. Button Widget\n",
    "\n",
    "##### Remarks on capturing output from ipywidgets and differences between Jupyter Notebook and Jupyter Lab\n",
    "- Case 1:\n",
    "    + A 'Button 1' is created and prints\n",
    "    + In Notebook (and Colab) this is captured and redirected to the cell output\n",
    "    + In Lab this is treated as an unspecified/orphaned output and redirected to the log\n",
    "- Case 2:\n",
    "    + An additional output widget is created and with the display function both displayed\n",
    "    + The output is explicitly sent to the output widget\n",
    "    + This works consistent across Notebook and Lab\n",
    "    \n",
    "##### Remarks on implicit argument\n",
    "- The on_click() callback will be called with one argument, the clicked button widget instance\n",
    "- The B2 example incorporates a state into the button as a counting memory is added"
   ]
  },
  {
   "cell_type": "code",
   "execution_count": 6,
   "metadata": {},
   "outputs": [
    {
     "data": {
      "application/vnd.jupyter.widget-view+json": {
       "model_id": "03caf2624ecb4949ac6fe0c82c943964",
       "version_major": 2,
       "version_minor": 0
      },
      "text/plain": [
       "Button(description='B1: Click me to Print', style=ButtonStyle())"
      ]
     },
     "metadata": {},
     "output_type": "display_data"
    }
   ],
   "source": [
    "# simple button, but sending the output via output widget\n",
    "button1 = widgets.Button(description=\"B1: Click me to Print\")\n",
    "def printMe(b):\n",
    "    print(\"B1: Printing\")\n",
    "button1.on_click(printMe)\n",
    "button1"
   ]
  },
  {
   "cell_type": "code",
   "execution_count": 7,
   "metadata": {
    "colab": {
     "base_uri": "https://localhost:8080/",
     "height": 100,
     "referenced_widgets": [
      "d0b3423b4a1f4c7ca31bd87d1036829a",
      "a87349bcad814ed28b10b24130ead183",
      "d9572ecd0d754d70ae0156c984490c7e",
      "472c388a3d2d43508dc461f49701fc12",
      "76f79b449d7b466a9ef17eed936ea567"
     ]
    },
    "id": "vPVcEkB9ejm8",
    "outputId": "71f94fd0-d0a0-408b-b1a0-f5bfeaedd9bc"
   },
   "outputs": [
    {
     "data": {
      "application/vnd.jupyter.widget-view+json": {
       "model_id": "b696dd8f2a114a6c9f1ce9a8e930cd78",
       "version_major": 2,
       "version_minor": 0
      },
      "text/plain": [
       "Button(description='B2', style=ButtonStyle())"
      ]
     },
     "metadata": {},
     "output_type": "display_data"
    },
    {
     "data": {
      "application/vnd.jupyter.widget-view+json": {
       "model_id": "671df9649ba84f2198d3b6c204bc76a8",
       "version_major": 2,
       "version_minor": 0
      },
      "text/plain": [
       "Output()"
      ]
     },
     "metadata": {},
     "output_type": "display_data"
    }
   ],
   "source": [
    "# simple button, but sending the output via output widget\n",
    "# state added: count number\n",
    "# property (color) modified in function of state (even or odd count) \n",
    "button2 = widgets.Button(description=\"B2\")\n",
    "button2.count = 0\n",
    "output2 = widgets.Output()\n",
    "ipd.display(button2,output2)\n",
    "def printMe(b):\n",
    "    b.count += 1\n",
    "    b.style.button_color = 'red' if b.count %2 else 'green'\n",
    "    with output2:\n",
    "        if b.count == 1: print(b.__dict__)\n",
    "        print('\\\"',b.description,'\\\", count= ',b.count)\n",
    "button2.on_click(printMe)"
   ]
  },
  {
   "cell_type": "code",
   "execution_count": 8,
   "metadata": {},
   "outputs": [],
   "source": [
    "# The BUTTON widget is specific"
   ]
  },
  {
   "cell_type": "markdown",
   "metadata": {
    "id": "O8LFqyf5ejm8"
   },
   "source": [
    "#### 3. A textbox  ... get's printed n times "
   ]
  },
  {
   "cell_type": "code",
   "execution_count": 9,
   "metadata": {
    "colab": {
     "base_uri": "https://localhost:8080/",
     "height": 98,
     "referenced_widgets": [
      "db8006cf5226452daa21edf8f3d04f84",
      "31260667c795444fa96dbe95e0d2c069",
      "1a9a6646cce242cdabe71bcf56274b00",
      "74abf01124ec41d2b56586f037709a0c",
      "45799597698c4b8db903cbb5495c90af",
      "48167e8424504c13a1271b5be11fc593",
      "e6af78aa0d3e4385bf818ae2a3fef2d2",
      "623eb966992841b49ae3a84a590efc68",
      "e465cdada7ca48a4a069d68c42cc2e64",
      "6a24b837e37647f9969b592d5d886a1b"
     ]
    },
    "id": "3npcmmlxejm8",
    "outputId": "b6ecd29b-cb6c-45f0-db8b-b7e991e08802"
   },
   "outputs": [
    {
     "data": {
      "application/vnd.jupyter.widget-view+json": {
       "model_id": "4ae6f3f84aee49aead3db67dae6d0def",
       "version_major": 2,
       "version_minor": 0
      },
      "text/plain": [
       "interactive(children=(Text(value='', description='text'), IntSlider(value=2, description='times', max=5), Outp…"
      ]
     },
     "metadata": {},
     "output_type": "display_data"
    }
   ],
   "source": [
    "# widget 3: printing text\n",
    "# note: this widget/print statement works in Jupyter Lab - no idea why (because there is no button involved or side-effect of the decorator ?)\n",
    "@interact( text='', times=(0,5) )\n",
    "def printIt(text,times):\n",
    "    print( text * times )"
   ]
  },
  {
   "cell_type": "markdown",
   "metadata": {
    "id": "WJJtv0Myejm8"
   },
   "source": [
    "#### 4. A progress bar ...  counts your clicks"
   ]
  },
  {
   "cell_type": "code",
   "execution_count": 10,
   "metadata": {
    "colab": {
     "base_uri": "https://localhost:8080/",
     "height": 49,
     "referenced_widgets": [
      "b47f0451fbde46a4b68778716d6f3632",
      "92a418a75aad4905861c577d2800c63e",
      "6f91a56321a3436480cadc543defc470",
      "83d97e312afe450db26c75bddf86cf96",
      "2baa82f107a548db9c5b6f7cd770164b",
      "8032e4b71f884ec6b49214090a00149e",
      "34e1b12277d844d3aaa49febd80a2092",
      "2f52806860fb4ca4b73fa16721ba4ef8"
     ]
    },
    "id": "Tm3NDee_ejm8",
    "outputId": "7df69872-52f5-4273-e244-3618fb49a3cc"
   },
   "outputs": [
    {
     "data": {
      "application/vnd.jupyter.widget-view+json": {
       "model_id": "3ba68c627500471183fe2c57356d0834",
       "version_major": 2,
       "version_minor": 0
      },
      "text/plain": [
       "HBox(children=(Button(description='add one ... ', style=ButtonStyle()), IntProgress(value=0, bar_style='succes…"
      ]
     },
     "metadata": {},
     "output_type": "display_data"
    }
   ],
   "source": [
    "progress_bar = widgets.IntProgress(\n",
    "    value=0,\n",
    "    min=0, max=10,step=1,\n",
    "    description='Counting',\n",
    "    bar_style='success',\n",
    "    orientation='horizontal'\n",
    "    )\n",
    "btn_add = widgets.Button( description= 'add one ... ' )\n",
    "\n",
    "def AddOne(b):\n",
    "    progress_bar.value += 1\n",
    "    if progress_bar.value == 10:\n",
    "        progress_bar.bar_style=''\n",
    "    elif progress_bar.value % 2 != 0:\n",
    "        progress_bar.bar_style='danger'\n",
    "    else:\n",
    "        progress_bar.bar_style='success'\n",
    "btn_add.on_click(AddOne)\n",
    "\n",
    "widgets.HBox([btn_add, progress_bar])"
   ]
  },
  {
   "cell_type": "markdown",
   "metadata": {
    "id": "dWLN6y7Xejm8"
   },
   "source": [
    "#### 5. A dropdown menu ... doesn't do anything here"
   ]
  },
  {
   "cell_type": "code",
   "execution_count": 11,
   "metadata": {
    "id": "XdVGansNejm8"
   },
   "outputs": [
    {
     "data": {
      "application/vnd.jupyter.widget-view+json": {
       "model_id": "fb7f12c7202a4d3dba703e53b76406a6",
       "version_major": 2,
       "version_minor": 0
      },
      "text/plain": [
       "Dropdown(description='ACTION', options=('REC', 'PLAY'), value='REC')"
      ]
     },
     "metadata": {},
     "output_type": "display_data"
    }
   ],
   "source": [
    "rec_play = widgets.Dropdown(\n",
    "    options={'REC','PLAY'},\n",
    "    description='ACTION',\n",
    ")\n",
    "rec_play"
   ]
  },
  {
   "cell_type": "markdown",
   "metadata": {
    "id": "J2Tpq4Ikejm8"
   },
   "source": [
    "#### 6. Linking widgets together with the Play widget\n",
    "\n",
    "notes: Play widget not working in Colab"
   ]
  },
  {
   "cell_type": "code",
   "execution_count": 12,
   "metadata": {
    "colab": {
     "base_uri": "https://localhost:8080/",
     "height": 49,
     "referenced_widgets": [
      "79ef1b504e824f5f86a54b351ad488c5",
      "60f6394bf1a94adc8dc2b87492166533",
      "d370e2a480e645b092288917f8003663",
      "29eda9cf84624d0880cb3ffc45bb575c",
      "cb707a4247be496ab967b06a3849a5c7",
      "39bdf981ddbe44c59f8c524fe2f8c49b",
      "c500ad9a54714fd88851a3710867b6f1",
      "7bd50b880f31460ab921234f5e17e60e"
     ]
    },
    "id": "YrsPd3fVejm8",
    "outputId": "15d9a339-5fc4-491a-e0c8-bd228e99164e"
   },
   "outputs": [
    {
     "data": {
      "application/vnd.jupyter.widget-view+json": {
       "model_id": "84ed04233855497e96f3a9a981cfd2fc",
       "version_major": 2,
       "version_minor": 0
      },
      "text/plain": [
       "HBox(children=(Play(value=50, description='Press play', interval=1000), IntSlider(value=0)))"
      ]
     },
     "metadata": {},
     "output_type": "display_data"
    }
   ],
   "source": [
    "# widget2: animation by Play\n",
    "play2 = widgets.Play(\n",
    "    interval=1000, # interval in msec between animation frame\n",
    "    value=50,\n",
    "    min=0,\n",
    "    max=100,\n",
    "    step=1,\n",
    "    description=\"Press play\",\n",
    "    disabled=False\n",
    ")\n",
    "slider2 = widgets.IntSlider()\n",
    "widgets.jslink((play2, 'value'), (slider2, 'value'))\n",
    "widgets.HBox([play2, slider2])"
   ]
  },
  {
   "cell_type": "markdown",
   "metadata": {
    "id": "n1To02sVejm9"
   },
   "source": [
    "#### 7. Laying out an app Using Boxes and Packaging and app into a class \n",
    "- The outputs are displayed in controlled output widgets and can be cleared as wished\n",
    "- Buttons and multiple outputs are neatly organized with Box, VBox and HBox\n",
    "- Incorporating an app into a class has two main advantage:\n",
    "    + It is straightforward to store information in the class\n",
    "    + reusability of the same app"
   ]
  },
  {
   "cell_type": "code",
   "execution_count": 13,
   "metadata": {
    "colab": {
     "base_uri": "https://localhost:8080/",
     "height": 135,
     "referenced_widgets": [
      "2c499e1e31fd4dc9a8809b93503ebe22",
      "00ac0d5ceba742ddac42415b9cf09bff",
      "1a1cb4cc3afd46499c8019ce6f1d7b55",
      "2c8022f6c6364ce9a36eb18f3dabb10e",
      "0b7c622d627b498b9068e09b659e8d14",
      "219b073fd1724a94b870b173fdf78a21",
      "6b9be375e79146589d0e660ce8a6480a",
      "761e099974b74fa6bd5fed802ef44e47",
      "562420d44c3c42d4b1d098b552cd7bd3",
      "cba54b292e1c4c49ba6f4067612ea72c",
      "aeed00a5ed6a4f1097979907082a6296",
      "a10aec2a2ff04e94994f040f78071e49",
      "f69a9668bfa24d21be1bfbc9ee814914",
      "b6da4b5d41c64c9786cc601751316c50",
      "5688c362d5b448c0bd161ed9a8ab85e4",
      "54f0d04a2b104a4c8970d2afb0796870",
      "5f679983f36642cc97682ffdc85b1f07",
      "c61ce355510440abb901928a2bfe33e7",
      "d152e1cd230444ac8554a2e0c02e5d16",
      "48b40161076446aea4c27428b23dfb8e",
      "c0e0d01eda584c9183389a96c50d88e8",
      "262d7f0f510b4543aefae6456bfc84ae",
      "8c4176317a11434ebc506af3af7f0706"
     ]
    },
    "id": "YUp53olTejm9",
    "outputId": "2eca7e31-ad65-4373-f743-e23467de9b6f"
   },
   "outputs": [
    {
     "data": {
      "application/vnd.jupyter.widget-view+json": {
       "model_id": "436d9d4ded124e3199dded4b45c335b1",
       "version_major": 2,
       "version_minor": 0
      },
      "text/plain": [
       "HBox(children=(VBox(children=(Label(value='Controls'), Button(description='button 1', style=ButtonStyle()), Bu…"
      ]
     },
     "metadata": {},
     "output_type": "display_data"
    }
   ],
   "source": [
    "# compose your app of a few controls and an output widget\n",
    "# beautify by putting them all in boxes\n",
    "def make_box_layout():\n",
    "     return widgets.Layout(\n",
    "        border='solid 1px black',\n",
    "        margin='0px 10px 10px 0px',\n",
    "        padding='5px 5px 5px 5px'\n",
    "     )\n",
    "\n",
    "b1 = widgets.Button(description='button 1')\n",
    "b2 = widgets.Button(description='button 2')\n",
    "b3 = widgets.Button(description='CLEAR')\n",
    "b3.style.button_color = 'red'\n",
    "output = widgets.Output()\n",
    "\n",
    "def make_boxes():\n",
    "    vbox1 = widgets.VBox([widgets.Label('Controls'), b1, b2])\n",
    "    vbox2 = widgets.VBox([widgets.Label('CTRL-CLEAR'), b3 ])\n",
    "    return vbox1, vbox2\n",
    " \n",
    "vbox1, vbox2 = make_boxes()\n",
    "vbox1.layout = make_box_layout()\n",
    "vbox2.layout = make_box_layout()\n",
    "output.layout = make_box_layout()\n",
    "output.layout.width='200px'\n",
    "\n",
    "def b1_clicked(b):\n",
    "    with output:\n",
    "        print(\"Button 1 clicked.\")\n",
    "b1.on_click(b1_clicked)\n",
    "def b2_clicked(b):\n",
    "    with output:\n",
    "        print(\"Button 2 clicked.\")\n",
    "b2.on_click(b2_clicked)\n",
    "def b3_clicked(b):\n",
    "    with output:\n",
    "        ipd.clear_output()\n",
    "b3.on_click(b3_clicked) \n",
    "\n",
    "myapp = widgets.HBox([vbox1, vbox2,output])\n",
    "myapp"
   ]
  },
  {
   "cell_type": "code",
   "execution_count": 14,
   "metadata": {},
   "outputs": [
    {
     "data": {
      "application/vnd.jupyter.widget-view+json": {
       "model_id": "9ff0e229c6d047638bc82363bb554512",
       "version_major": 2,
       "version_minor": 0
      },
      "text/plain": [
       "Button_Print(children=(VBox(children=(Label(value='Controls'), Button(description='button 1', style=ButtonStyl…"
      ]
     },
     "metadata": {},
     "output_type": "display_data"
    }
   ],
   "source": [
    "# Packing a similar app into a class for reusability\n",
    "def make_box_layout():\n",
    "     return widgets.Layout(\n",
    "        border='solid 1px black',\n",
    "        margin='0px 10px 10px 0px',\n",
    "        padding='5px 5px 5px 5px'\n",
    "     )\n",
    "\n",
    "class Button_Print(widgets.HBox):\n",
    "    def __init__(self):\n",
    "        super().__init__()\n",
    "        \n",
    "        b1 = widgets.Button(description='button 1')\n",
    "        clear = widgets.Button(description='CLEAR')\n",
    "        clear.style.button_color = 'red'\n",
    "        output = widgets.Output()\n",
    "        \n",
    "        \n",
    "        box1 = widgets.VBox([widgets.Label('Controls'), b1, clear])\n",
    "        box1.layout = make_box_layout()\n",
    "        output.layout = make_box_layout()\n",
    "        output.layout.width='200px'\n",
    "        \n",
    "        # callback functions\n",
    "        def b1_clicked(b):\n",
    "            with output:\n",
    "                print(\"Button 1 clicked.\")\n",
    "        b1.on_click(b1_clicked)\n",
    "\n",
    "        def clear_clicked(b):\n",
    "            with output:\n",
    "                ipd.clear_output()\n",
    "\n",
    "        clear.on_click(clear_clicked) \n",
    "        \n",
    "        self.children = [box1,output]\n",
    "\n",
    "myapp=Button_Print()\n",
    "myapp"
   ]
  },
  {
   "cell_type": "code",
   "execution_count": 15,
   "metadata": {},
   "outputs": [
    {
     "data": {
      "application/vnd.jupyter.widget-view+json": {
       "model_id": "adff389574f941b9b223c0923c73adbc",
       "version_major": 2,
       "version_minor": 0
      },
      "text/plain": [
       "Button_Print(children=(VBox(children=(Label(value='Controls'), Button(description='button 1', style=ButtonStyl…"
      ]
     },
     "metadata": {},
     "output_type": "display_data"
    }
   ],
   "source": [
    "myapp2=Button_Print()\n",
    "myapp2"
   ]
  },
  {
   "cell_type": "markdown",
   "metadata": {},
   "source": [
    "#### 8. Duplicating Similar Widgets with functools.partial()\n",
    "- Similar components (eg. buttons) are created using functools.partial() method"
   ]
  },
  {
   "cell_type": "code",
   "execution_count": 16,
   "metadata": {},
   "outputs": [
    {
     "data": {
      "application/vnd.jupyter.widget-view+json": {
       "model_id": "762f4d30c94c45fbac1bda3b639b3943",
       "version_major": 2,
       "version_minor": 0
      },
      "text/plain": [
       "HBox(children=(VBox(children=(Button(description='CLEAR', layout=Layout(border='solid 1px black', height='40px…"
      ]
     },
     "metadata": {},
     "output_type": "display_data"
    }
   ],
   "source": [
    "# now a similar app, with many buttons that have a similar behavior\n",
    "# functools.partial() comes in handy to create all the similar callback routines\n",
    "import functools\n",
    "\n",
    "n_buttons = 5\n",
    "buttons = []\n",
    "box_layout = widgets.Layout(\n",
    "        width='250px',\n",
    "        border='solid 1px black',\n",
    "        margin='0px 10px 10px 0px',\n",
    "        padding='5px 5px 5px 5px'\n",
    "     )\n",
    "button_layout = widgets.Layout(\n",
    "        width = '150px',\n",
    "        height = '40px',\n",
    "        border='solid 1px black',\n",
    "        margin='0px 10px 10px 0px',\n",
    "        padding='5px 5px 5px 5px'\n",
    "     )\n",
    "\n",
    "output1 = widgets.Output(layout=box_layout)\n",
    "output2 = widgets.Output(layout=box_layout)\n",
    "with output1:\n",
    "    print(\"INFO:\")\n",
    "    print(\"All buttons do the same operation. However, they use the button number as a parameter\")\n",
    "    \n",
    "def on_button_clicked(i,b):\n",
    "    with output2:\n",
    "        print(\"%d**2 = %d \" % (i,i*i) )\n",
    "        \n",
    "for i in range(n_buttons):\n",
    "    if i==0:\n",
    "        button = widgets.Button(description='CLEAR',layout=button_layout)\n",
    "        button.style.button_color = 'green'\n",
    "        def clear_click(b):\n",
    "            with output2:\n",
    "                ipd.clear_output()                \n",
    "        button.on_click(clear_click)\n",
    "    else:\n",
    "        button = widgets.Button(description='button '+str(i),layout=button_layout)\n",
    "        button.on_click(functools.partial(on_button_clicked,i))        \n",
    "    buttons.append(button)\n",
    "    \n",
    "button_box = widgets.VBox(buttons,layout=box_layout)\n",
    "output_box = widgets.VBox([output1,output2])\n",
    "myapp = widgets.HBox([button_box,output_box])\n",
    "myapp"
   ]
  },
  {
   "cell_type": "markdown",
   "metadata": {
    "id": "Xo6uIP51ejm9"
   },
   "source": [
    "---\n",
    "### GAME:  Beat the Bot (guessing game)\n",
    "The bot learns from your previous clicking behavior   \n",
    "Just try to beat him   \n",
    "Have you found the optimum strategy\n",
    "\n",
    "-----"
   ]
  },
  {
   "cell_type": "code",
   "execution_count": 17,
   "metadata": {
    "id": "DK-gRPWwejm9"
   },
   "outputs": [],
   "source": [
    "# some globals as needed\n",
    "global user_history\n",
    "user_history = [1,0]\n",
    "target_score = 5\n",
    "\n",
    "#buttons\n",
    "btn0 = widgets.Button( description= '0' )\n",
    "btn1 = widgets.Button( description= '1' )\n",
    "btnS = widgets.Button( description= 'START' )\n",
    "\n",
    "def click_zero(b):\n",
    "    update_game(0)\n",
    "btn0.on_click( click_zero )\n",
    "def click_one(b):\n",
    "    update_game(1)\n",
    "btn1.on_click( click_one )\n",
    "def click_start(b):\n",
    "    update_game(0,start=True)\n",
    "btnS.on_click( click_start )\n",
    "btn0.disabled = True\n",
    "btn1.disabled = True\n",
    "btn0.button_style ='info'\n",
    "btn1.button_style ='info'\n",
    "btnS.button_style ='warning'\n",
    "# score board\n",
    "user_score = widgets.IntProgress(\n",
    "    value=0,\n",
    "    min=0, max=target_score,step=1,\n",
    "    description='You',\n",
    "    bar_style='success',\n",
    "    orientation='horizontal'\n",
    "    )\n",
    "bot_score = widgets.IntProgress(\n",
    "    value=0,\n",
    "    min=0, max=target_score,step=1,\n",
    "    description='Bot',\n",
    "    bar_style='danger',\n",
    "    orientation='horizontal'\n",
    "    )\n",
    "scoreboard= widgets.VBox((user_score,bot_score))\n",
    "final_msg = widgets.HTML(\"<h1 style='color:green'> You win </h1>\")\n",
    "final_msg.layout.visibility = \"hidden\"\n",
    "# layout\n",
    "game = widgets.VBox( ( widgets.HBox((scoreboard,final_msg)),\n",
    "                   widgets.HBox((btn0,btn1,btnS))\n",
    "             ))"
   ]
  },
  {
   "cell_type": "code",
   "execution_count": 18,
   "metadata": {
    "id": "zqfM87Y_ejm9"
   },
   "outputs": [],
   "source": [
    "#\n",
    "# game rules\n",
    "#\n",
    "# note only user_history had to be defined as a global\n",
    "# all widgets behave by nature as such\n",
    "\n",
    "def update_game(user_choice,start=False):\n",
    "    global user_history\n",
    "\n",
    "    if( start ):\n",
    "        user_history = [1,0]\n",
    "        final_msg.value = \"<h1 style='color:green'> You win </h1>\"\n",
    "        final_msg.layout.visibility = \"hidden\"\n",
    "        user_score.value = 0\n",
    "        bot_score.value = 0\n",
    "        btn0.disabled = False\n",
    "        btn1.disabled = False\n",
    "        btnS.disabled = True\n",
    "        btnS.button_style = ''\n",
    "        return\n",
    "    prob = sum(user_history)/len(user_history)\n",
    "    comp_choice = np.random.binomial(1,prob,1)[0]\n",
    "    user_history.append( user_choice )\n",
    "    # print(\"sequence length: \",len(user_history)-2)\n",
    "    if comp_choice == user_choice:\n",
    "        bot_score.value += 1\n",
    "    else:\n",
    "        user_score.value += 1\n",
    "    if user_score.value == target_score or bot_score.value == target_score:\n",
    "        if bot_score.value == target_score:\n",
    "            final_msg.value = \"<h1 style='color:red'>Game Over</h1>\"\n",
    "        final_msg.layout.visibility = \"visible\"\n",
    "        btn0.disabled = True\n",
    "        btn1.disabled = True\n",
    "        btnS.disabled = False\n",
    "        btnS.button_style = 'warning'\n",
    "    return"
   ]
  },
  {
   "cell_type": "code",
   "execution_count": 19,
   "metadata": {
    "colab": {
     "base_uri": "https://localhost:8080/",
     "height": 113,
     "referenced_widgets": [
      "4bade98c6a004d8d90896d6b07764bf6",
      "f04e402967c24788b4eefefbf6562426",
      "66c1a1a42da74bdd9661add5f8040090",
      "6db6482df6794363b4d44778a0eb0e77",
      "4cb146afff314a5f9688f0486ec565f6",
      "0203dd5c6e324d13a5ff2fd32b61bc7d",
      "29125c85ae5a40f5a18ca2dc8448ff3a",
      "50dbeea66dde47b2995620e316a9175e",
      "146c121b4e2e41bd823fa2b412c0ad86",
      "f6f0770626464fc2898bd1c58a0489c3",
      "bd7b71b814794411b3d7e7a383fc7001",
      "7264a2235c0b4350be0f390ea5709716",
      "038dbe2dfe174234b0130b72d6ea6ec9",
      "3bfb42b5ed2947ceb1ab7f97914be19f",
      "60c75d60888643fa89f181f7160a99ce",
      "310470ceea60423881ce4f916b7538b7",
      "8a085ced51a045b8907bba6debaefc60",
      "f3f9c0c6e6ee4e4c9fd95bd7fa6912c9",
      "099d85121dcc42d59afaf86c0d5b597d",
      "5bde7751fb5a4ee59af029de06b7e7db",
      "ba54766ec3924ae4881ee33a98175702",
      "795d1067168243f48d1dbf900e27d001",
      "f4c5c8e166da4d7d81a2f5032825337e",
      "4e5288767b5142a2a11c30dba2e9cf3b",
      "099552528f9f4643a31a6021c948b6f4",
      "aaccae6204104d43af5fb4e021107d77"
     ]
    },
    "id": "mnUIXEfEejm9",
    "outputId": "d04d4f51-d0fc-44d6-e390-3cd51d0c5ccc"
   },
   "outputs": [
    {
     "data": {
      "application/vnd.jupyter.widget-view+json": {
       "model_id": "7999fc8ef64645cabe04a9723279d8af",
       "version_major": 2,
       "version_minor": 0
      },
      "text/plain": [
       "VBox(children=(HBox(children=(VBox(children=(IntProgress(value=0, bar_style='success', description='You', max=…"
      ]
     },
     "metadata": {},
     "output_type": "display_data"
    }
   ],
   "source": [
    "game"
   ]
  }
 ],
 "metadata": {
  "colab": {
   "name": "ipywidgets.ipynb",
   "provenance": []
  },
  "kernelspec": {
   "display_name": "Python 3",
   "language": "python",
   "name": "python3"
  },
  "language_info": {
   "codemirror_mode": {
    "name": "ipython",
    "version": 3
   },
   "file_extension": ".py",
   "mimetype": "text/x-python",
   "name": "python",
   "nbconvert_exporter": "python",
   "pygments_lexer": "ipython3",
   "version": "3.8.3"
  },
  "widgets": {
   "application/vnd.jupyter.widget-state+json": {
    "state": {
     "009d1ca9229a41f88b121b534fb6e2d5": {
      "model_module": "@jupyter-widgets/controls",
      "model_module_version": "1.5.0",
      "model_name": "ButtonStyleModel",
      "state": {}
     },
     "00c0489f3a774aa3a50df4b0a179d215": {
      "model_module": "@jupyter-widgets/base",
      "model_module_version": "1.2.0",
      "model_name": "LayoutModel",
      "state": {}
     },
     "0247fa2f7fa94785840f3d070cc9f9ad": {
      "model_module": "@jupyter-widgets/base",
      "model_module_version": "1.2.0",
      "model_name": "LayoutModel",
      "state": {
       "border": "solid 1px black",
       "margin": "0px 10px 10px 0px",
       "padding": "5px 5px 5px 5px"
      }
     },
     "03caf2624ecb4949ac6fe0c82c943964": {
      "model_module": "@jupyter-widgets/controls",
      "model_module_version": "1.5.0",
      "model_name": "ButtonModel",
      "state": {
       "description": "B1: Click me to Print",
       "layout": "IPY_MODEL_e668d74780ca41c4964493f5ee5ee634",
       "style": "IPY_MODEL_de1bfb566756478795fde61375277cc3"
      }
     },
     "05c5203cf7de4b4ba2d6b66de4e4bdcd": {
      "model_module": "@jupyter-widgets/controls",
      "model_module_version": "1.5.0",
      "model_name": "VBoxModel",
      "state": {
       "children": [
        "IPY_MODEL_b54736ddc1ff4b41b1ba239bb56fbfe6",
        "IPY_MODEL_4c846618d726487ebab5ad839f149523",
        "IPY_MODEL_bf00b54d9464410d915b9b53affb224b"
       ],
       "layout": "IPY_MODEL_5db32ce2eb864fd181ad653f5b8ccd02"
      }
     },
     "07f49eced31641169b9ac90a8ecee4c7": {
      "model_module": "@jupyter-widgets/controls",
      "model_module_version": "1.5.0",
      "model_name": "ButtonStyleModel",
      "state": {}
     },
     "0cf445176df94140a34f5fec7f820f6b": {
      "model_module": "@jupyter-widgets/controls",
      "model_module_version": "1.5.0",
      "model_name": "LabelModel",
      "state": {
       "layout": "IPY_MODEL_f8e1f6aaca664eb79fc0fddaf4ae4309",
       "style": "IPY_MODEL_ff748478ff00442592c0a5f7681a10c2",
       "value": "Controls"
      }
     },
     "0d0b53de01ea4a23b99517c57cc4c0e0": {
      "model_module": "@jupyter-widgets/base",
      "model_module_version": "1.2.0",
      "model_name": "LayoutModel",
      "state": {
       "visibility": "hidden"
      }
     },
     "0dc17f256d924cdcbdbe1140f8566444": {
      "model_module": "@jupyter-widgets/base",
      "model_module_version": "1.2.0",
      "model_name": "LayoutModel",
      "state": {}
     },
     "0f6b685393224ceba670f2bd96dd6c6f": {
      "model_module": "@jupyter-widgets/controls",
      "model_module_version": "1.5.0",
      "model_name": "ButtonModel",
      "state": {
       "description": "button 1",
       "layout": "IPY_MODEL_64b480e8fdb3422aa1ff403fe987f4fa",
       "style": "IPY_MODEL_07f49eced31641169b9ac90a8ecee4c7"
      }
     },
     "132989fc663049989b7a7a1af770ddb2": {
      "model_module": "@jupyter-widgets/controls",
      "model_module_version": "1.5.0",
      "model_name": "ButtonModel",
      "state": {
       "description": "button 3",
       "layout": "IPY_MODEL_207efbf82fd04c2d8aa931bb589ce55a",
       "style": "IPY_MODEL_656be1a7e4c04d2f9c65def760fd7f80"
      }
     },
     "1668ea710207449696aa7a5dd3275f04": {
      "model_module": "@jupyter-widgets/controls",
      "model_module_version": "1.5.0",
      "model_name": "ButtonModel",
      "state": {
       "description": "CLEAR",
       "layout": "IPY_MODEL_207efbf82fd04c2d8aa931bb589ce55a",
       "style": "IPY_MODEL_f50a122224ef45d58d09c649d47a5a8b"
      }
     },
     "16d395a1a0234846820e03f5370e0759": {
      "model_module": "@jupyter-widgets/base",
      "model_module_version": "1.2.0",
      "model_name": "LayoutModel",
      "state": {}
     },
     "1799054c5a584c0fae57e43b59d9d82c": {
      "model_module": "@jupyter-widgets/controls",
      "model_module_version": "1.5.0",
      "model_name": "ProgressStyleModel",
      "state": {
       "description_width": ""
      }
     },
     "1a878c62a26c42f0933e46aba5a358de": {
      "model_module": "@jupyter-widgets/base",
      "model_module_version": "1.2.0",
      "model_name": "LayoutModel",
      "state": {}
     },
     "1e053c1950174ce99cfae78631c0eac4": {
      "model_module": "@jupyter-widgets/controls",
      "model_module_version": "1.5.0",
      "model_name": "ButtonStyleModel",
      "state": {}
     },
     "1e655d1e6f3a464c9331af1c3c7c93c0": {
      "model_module": "@jupyter-widgets/base",
      "model_module_version": "1.2.0",
      "model_name": "LayoutModel",
      "state": {}
     },
     "207efbf82fd04c2d8aa931bb589ce55a": {
      "model_module": "@jupyter-widgets/base",
      "model_module_version": "1.2.0",
      "model_name": "LayoutModel",
      "state": {
       "border": "solid 1px black",
       "height": "40px",
       "margin": "0px 10px 10px 0px",
       "padding": "5px 5px 5px 5px",
       "width": "150px"
      }
     },
     "22eb87cda4e24a518ab09f600a17b620": {
      "model_module": "@jupyter-widgets/base",
      "model_module_version": "1.2.0",
      "model_name": "LayoutModel",
      "state": {}
     },
     "2661b77a086f4c3ebdfa8112f402a98a": {
      "model_module": "@jupyter-widgets/controls",
      "model_module_version": "1.5.0",
      "model_name": "LabelModel",
      "state": {
       "layout": "IPY_MODEL_6e100a4eb3544317bb57fb77834e9355",
       "style": "IPY_MODEL_4dc06289935e4e568d7ccb75bd13f9f6",
       "value": "Controls"
      }
     },
     "2d0794616547425b83055ec7d311e1e8": {
      "model_module": "@jupyter-widgets/controls",
      "model_module_version": "1.5.0",
      "model_name": "IntSliderModel",
      "state": {
       "layout": "IPY_MODEL_92ea9aaeb5df47ad95502d7a0840c312",
       "max": 20,
       "style": "IPY_MODEL_c862552d83d542f38e73be172e708d0a"
      }
     },
     "2d64d980ceeb4b399b4950983663b8a4": {
      "model_module": "@jupyter-widgets/base",
      "model_module_version": "1.2.0",
      "model_name": "LayoutModel",
      "state": {
       "border": "solid 1px black",
       "margin": "0px 10px 10px 0px",
       "padding": "5px 5px 5px 5px",
       "width": "200px"
      }
     },
     "2ec5f8f95a3e4190a27d1a1d2675f7ff": {
      "model_module": "@jupyter-widgets/base",
      "model_module_version": "1.2.0",
      "model_name": "LayoutModel",
      "state": {}
     },
     "2f0a17f355964adb933cd31a827d2807": {
      "model_module": "@jupyter-widgets/controls",
      "model_module_version": "1.5.0",
      "model_name": "IntSliderModel",
      "state": {
       "layout": "IPY_MODEL_886de4ddec8e491f82eae570aaf7e8bb",
       "style": "IPY_MODEL_c0db360c84474ea7b58d5aed25c91623",
       "value": 50
      }
     },
     "3061bcfdab6744bb804cd4692453abee": {
      "model_module": "@jupyter-widgets/controls",
      "model_module_version": "1.5.0",
      "model_name": "HTMLModel",
      "state": {
       "layout": "IPY_MODEL_0d0b53de01ea4a23b99517c57cc4c0e0",
       "style": "IPY_MODEL_f5eb2a25ac4142a5ae48299d3be4751e",
       "value": "<h1 style='color:green'> You win </h1>"
      }
     },
     "34fae5b4e3964398a67954fe8f64aadc": {
      "model_module": "@jupyter-widgets/base",
      "model_module_version": "1.2.0",
      "model_name": "LayoutModel",
      "state": {
       "border": "solid 1px black",
       "margin": "0px 10px 10px 0px",
       "padding": "5px 5px 5px 5px",
       "width": "250px"
      }
     },
     "36a621b4d8bc440eb99f6ac0c7678496": {
      "model_module": "@jupyter-widgets/base",
      "model_module_version": "1.2.0",
      "model_name": "LayoutModel",
      "state": {}
     },
     "3861a87eb8f148978ed18ce7c0a18cc6": {
      "model_module": "@jupyter-widgets/controls",
      "model_module_version": "1.5.0",
      "model_name": "ButtonModel",
      "state": {
       "description": "button 1",
       "layout": "IPY_MODEL_4bd7ff8aa12144d2ab5ca28f7f238ea9",
       "style": "IPY_MODEL_cd984c04b2e6407ea26ff11b965d0626"
      }
     },
     "3887e9caeb204609bda9dc8e8c8d5a8d": {
      "model_module": "@jupyter-widgets/base",
      "model_module_version": "1.2.0",
      "model_name": "LayoutModel",
      "state": {}
     },
     "3a2c797ee0d14372936fab274248a9f9": {
      "model_module": "@jupyter-widgets/base",
      "model_module_version": "1.2.0",
      "model_name": "LayoutModel",
      "state": {}
     },
     "3af5995b501941698b92770d84f176eb": {
      "model_module": "@jupyter-widgets/controls",
      "model_module_version": "1.5.0",
      "model_name": "SliderStyleModel",
      "state": {
       "description_width": ""
      }
     },
     "3ba68c627500471183fe2c57356d0834": {
      "model_module": "@jupyter-widgets/controls",
      "model_module_version": "1.5.0",
      "model_name": "HBoxModel",
      "state": {
       "children": [
        "IPY_MODEL_e10904e7d61a43b8abcf07b3001e5482",
        "IPY_MODEL_9338060d0d0d4c8a9e557762e8858246"
       ],
       "layout": "IPY_MODEL_c52c25d554aa4d2daaf20ce22836269d"
      }
     },
     "3c206e4b2e674c598d34ead20f06eff9": {
      "model_module": "@jupyter-widgets/base",
      "model_module_version": "1.2.0",
      "model_name": "LayoutModel",
      "state": {}
     },
     "3e054b989dcd41178d8a1c8e961de4b1": {
      "model_module": "@jupyter-widgets/controls",
      "model_module_version": "1.5.0",
      "model_name": "VBoxModel",
      "state": {
       "children": [
        "IPY_MODEL_a2771a18d7d547329845ecb5e51cdd70",
        "IPY_MODEL_fa2ff8d5ad7a4123887fa1b58ee8418f"
       ],
       "layout": "IPY_MODEL_bcda185dcd474e439aa929e6f8b2f9c5"
      }
     },
     "3e5aa956d13941e7b88fee7ebb6fd3a8": {
      "model_module": "@jupyter-widgets/base",
      "model_module_version": "1.2.0",
      "model_name": "LayoutModel",
      "state": {}
     },
     "3e6ba3bbacb24687b275ee5d44c3e230": {
      "model_module": "@jupyter-widgets/controls",
      "model_module_version": "1.5.0",
      "model_name": "ButtonStyleModel",
      "state": {}
     },
     "436d9d4ded124e3199dded4b45c335b1": {
      "model_module": "@jupyter-widgets/controls",
      "model_module_version": "1.5.0",
      "model_name": "HBoxModel",
      "state": {
       "children": [
        "IPY_MODEL_61b15f7955dd4c8a8e0d430c59df1e3a",
        "IPY_MODEL_c3ee43c1b8794092bd9282bd60c04513",
        "IPY_MODEL_9956e7ce38204bdf82658ad6871f09dd"
       ],
       "layout": "IPY_MODEL_22eb87cda4e24a518ab09f600a17b620"
      }
     },
     "47b290bbd2b74f929bd4e80be9bb001b": {
      "model_module": "@jupyter-widgets/base",
      "model_module_version": "1.2.0",
      "model_name": "LayoutModel",
      "state": {}
     },
     "4ae6f3f84aee49aead3db67dae6d0def": {
      "model_module": "@jupyter-widgets/controls",
      "model_module_version": "1.5.0",
      "model_name": "VBoxModel",
      "state": {
       "_dom_classes": [
        "widget-interact"
       ],
       "children": [
        "IPY_MODEL_c37108b6ebdd47a0acd06af2024c8b2e",
        "IPY_MODEL_6b37d99c6eb244d491d4be5eeba5d29c",
        "IPY_MODEL_75c37e37d3054e8e93f8665b1145458d"
       ],
       "layout": "IPY_MODEL_fcbb5799725c439ebacf6480d7f2bdac"
      }
     },
     "4ba806eb412f4f28875e45b0c5a9f477": {
      "model_module": "@jupyter-widgets/base",
      "model_module_version": "1.2.0",
      "model_name": "LayoutModel",
      "state": {}
     },
     "4bd7ff8aa12144d2ab5ca28f7f238ea9": {
      "model_module": "@jupyter-widgets/base",
      "model_module_version": "1.2.0",
      "model_name": "LayoutModel",
      "state": {}
     },
     "4c846618d726487ebab5ad839f149523": {
      "model_module": "@jupyter-widgets/controls",
      "model_module_version": "1.5.0",
      "model_name": "ButtonModel",
      "state": {
       "description": "button 1",
       "layout": "IPY_MODEL_835809e2bea74d678e6b3742ea1db5b3",
       "style": "IPY_MODEL_7eb2c8dfbb0b46678916bb0f7faa257e"
      }
     },
     "4d1839f08be4414cafaa1f6317df8330": {
      "model_module": "@jupyter-widgets/controls",
      "model_module_version": "1.5.0",
      "model_name": "DescriptionStyleModel",
      "state": {
       "description_width": ""
      }
     },
     "4dc06289935e4e568d7ccb75bd13f9f6": {
      "model_module": "@jupyter-widgets/controls",
      "model_module_version": "1.5.0",
      "model_name": "DescriptionStyleModel",
      "state": {
       "description_width": ""
      }
     },
     "4eb2cad476fc4490855d619f3121d5ac": {
      "model_module": "@jupyter-widgets/controls",
      "model_module_version": "1.5.0",
      "model_name": "ButtonModel",
      "state": {
       "button_style": "warning",
       "description": "START",
       "layout": "IPY_MODEL_d8a9e9d916144098b717e4857fdc1453",
       "style": "IPY_MODEL_8c5047b4258e404487e4112d7d5f2a08"
      }
     },
     "4ef472f0b93b423e8a609cf0df3afc0f": {
      "model_module": "@jupyter-widgets/controls",
      "model_module_version": "1.5.0",
      "model_name": "IntSliderModel",
      "state": {
       "description": "x",
       "layout": "IPY_MODEL_66864065df1e42f88e33db0da98dac00",
       "max": 15,
       "min": -5,
       "style": "IPY_MODEL_3af5995b501941698b92770d84f176eb",
       "value": 5
      }
     },
     "53613dd1bf354c339682929550c866ae": {
      "model_module": "@jupyter-widgets/base",
      "model_module_version": "1.2.0",
      "model_name": "LayoutModel",
      "state": {}
     },
     "57dec4c5709a4983b0be6a73c2aa4111": {
      "model_module": "@jupyter-widgets/base",
      "model_module_version": "1.2.0",
      "model_name": "LayoutModel",
      "state": {}
     },
     "5db32ce2eb864fd181ad653f5b8ccd02": {
      "model_module": "@jupyter-widgets/base",
      "model_module_version": "1.2.0",
      "model_name": "LayoutModel",
      "state": {
       "border": "solid 1px black",
       "margin": "0px 10px 10px 0px",
       "padding": "5px 5px 5px 5px"
      }
     },
     "611d37b6482349a6870362f3a0466bb1": {
      "model_module": "@jupyter-widgets/controls",
      "model_module_version": "1.5.0",
      "model_name": "VBoxModel",
      "state": {
       "children": [
        "IPY_MODEL_e9729536159e4656b2c9922e5830e5bc",
        "IPY_MODEL_82cf5726bf4c4547b4f020ebcaaf0fa4"
       ],
       "layout": "IPY_MODEL_47b290bbd2b74f929bd4e80be9bb001b"
      }
     },
     "6152d55415724ccd98d0c1c1fd732bef": {
      "model_module": "@jupyter-widgets/controls",
      "model_module_version": "1.5.0",
      "model_name": "ButtonModel",
      "state": {
       "button_style": "info",
       "description": "0",
       "disabled": true,
       "layout": "IPY_MODEL_ea2c4ebdc7964a4a83b741cde5684d10",
       "style": "IPY_MODEL_009d1ca9229a41f88b121b534fb6e2d5"
      }
     },
     "61b15f7955dd4c8a8e0d430c59df1e3a": {
      "model_module": "@jupyter-widgets/controls",
      "model_module_version": "1.5.0",
      "model_name": "VBoxModel",
      "state": {
       "children": [
        "IPY_MODEL_0cf445176df94140a34f5fec7f820f6b",
        "IPY_MODEL_0f6b685393224ceba670f2bd96dd6c6f",
        "IPY_MODEL_88194ed9edca4e1097658414814740bb"
       ],
       "layout": "IPY_MODEL_7dd9e119da384fd4a8924ba10c3eebad"
      }
     },
     "64b480e8fdb3422aa1ff403fe987f4fa": {
      "model_module": "@jupyter-widgets/base",
      "model_module_version": "1.2.0",
      "model_name": "LayoutModel",
      "state": {}
     },
     "64bee9705b5a4d41b9b06cad3271abe0": {
      "model_module": "@jupyter-widgets/base",
      "model_module_version": "1.2.0",
      "model_name": "LayoutModel",
      "state": {}
     },
     "65362365db384da88e6d8f2549c9a22e": {
      "model_module": "@jupyter-widgets/base",
      "model_module_version": "1.2.0",
      "model_name": "LayoutModel",
      "state": {}
     },
     "655bc3c12e7c45d6b50626cdde59646d": {
      "model_module": "@jupyter-widgets/base",
      "model_module_version": "1.2.0",
      "model_name": "LayoutModel",
      "state": {}
     },
     "656be1a7e4c04d2f9c65def760fd7f80": {
      "model_module": "@jupyter-widgets/controls",
      "model_module_version": "1.5.0",
      "model_name": "ButtonStyleModel",
      "state": {}
     },
     "66864065df1e42f88e33db0da98dac00": {
      "model_module": "@jupyter-widgets/base",
      "model_module_version": "1.2.0",
      "model_name": "LayoutModel",
      "state": {}
     },
     "671df9649ba84f2198d3b6c204bc76a8": {
      "model_module": "@jupyter-widgets/output",
      "model_module_version": "1.0.0",
      "model_name": "OutputModel",
      "state": {
       "layout": "IPY_MODEL_65362365db384da88e6d8f2549c9a22e"
      }
     },
     "689d133c8c374c64bd88ac97286c2f8c": {
      "model_module": "@jupyter-widgets/output",
      "model_module_version": "1.0.0",
      "model_name": "OutputModel",
      "state": {
       "layout": "IPY_MODEL_36a621b4d8bc440eb99f6ac0c7678496",
       "outputs": [
        {
         "name": "stdout",
         "output_type": "stream",
         "text": "5 10\n"
        }
       ]
      }
     },
     "6b37d99c6eb244d491d4be5eeba5d29c": {
      "model_module": "@jupyter-widgets/controls",
      "model_module_version": "1.5.0",
      "model_name": "IntSliderModel",
      "state": {
       "description": "times",
       "layout": "IPY_MODEL_3e5aa956d13941e7b88fee7ebb6fd3a8",
       "max": 5,
       "style": "IPY_MODEL_c26b4263d04241668677c97c468a84ee",
       "value": 2
      }
     },
     "6e100a4eb3544317bb57fb77834e9355": {
      "model_module": "@jupyter-widgets/base",
      "model_module_version": "1.2.0",
      "model_name": "LayoutModel",
      "state": {}
     },
     "6e4adf8c8b8b4d2ab58ab1d49904a58c": {
      "model_module": "@jupyter-widgets/base",
      "model_module_version": "1.2.0",
      "model_name": "LayoutModel",
      "state": {}
     },
     "75c37e37d3054e8e93f8665b1145458d": {
      "model_module": "@jupyter-widgets/output",
      "model_module_version": "1.0.0",
      "model_name": "OutputModel",
      "state": {
       "layout": "IPY_MODEL_1e655d1e6f3a464c9331af1c3c7c93c0",
       "outputs": [
        {
         "name": "stdout",
         "output_type": "stream",
         "text": "\n"
        }
       ]
      }
     },
     "761064595bd84c3bbca3c6493414e093": {
      "model_module": "@jupyter-widgets/controls",
      "model_module_version": "1.5.0",
      "model_name": "ButtonStyleModel",
      "state": {
       "button_color": "red"
      }
     },
     "762f4d30c94c45fbac1bda3b639b3943": {
      "model_module": "@jupyter-widgets/controls",
      "model_module_version": "1.5.0",
      "model_name": "HBoxModel",
      "state": {
       "children": [
        "IPY_MODEL_cbdcdc177aaa407ebc0d520beb736104",
        "IPY_MODEL_3e054b989dcd41178d8a1c8e961de4b1"
       ],
       "layout": "IPY_MODEL_3887e9caeb204609bda9dc8e8c8d5a8d"
      }
     },
     "7999fc8ef64645cabe04a9723279d8af": {
      "model_module": "@jupyter-widgets/controls",
      "model_module_version": "1.5.0",
      "model_name": "VBoxModel",
      "state": {
       "children": [
        "IPY_MODEL_c709634c469c4da8a05d9c6eb3aeaf20",
        "IPY_MODEL_8cbff6b0c4334d77a48e52805d9e1dee"
       ],
       "layout": "IPY_MODEL_91ea3569b6b642e3a45caff4a3a46776"
      }
     },
     "79e37e8ed73e4f989d489c1701a8c453": {
      "model_module": "@jupyter-widgets/controls",
      "model_module_version": "1.5.0",
      "model_name": "ButtonStyleModel",
      "state": {}
     },
     "7dd9e119da384fd4a8924ba10c3eebad": {
      "model_module": "@jupyter-widgets/base",
      "model_module_version": "1.2.0",
      "model_name": "LayoutModel",
      "state": {
       "border": "solid 1px black",
       "margin": "0px 10px 10px 0px",
       "padding": "5px 5px 5px 5px"
      }
     },
     "7eb2c8dfbb0b46678916bb0f7faa257e": {
      "model_module": "@jupyter-widgets/controls",
      "model_module_version": "1.5.0",
      "model_name": "ButtonStyleModel",
      "state": {}
     },
     "7ef164dd7828462095158b961721cf28": {
      "model_module": "@jupyter-widgets/base",
      "model_module_version": "1.2.0",
      "model_name": "LayoutModel",
      "state": {}
     },
     "80978a28f13e495fba94fdc71ac87aa6": {
      "model_module": "@jupyter-widgets/controls",
      "model_module_version": "1.5.0",
      "model_name": "LinkModel",
      "state": {
       "source": [
        "IPY_MODEL_d84f14caf7fc48b7857f2b96b70b50a0",
        "value"
       ],
       "target": [
        "IPY_MODEL_2f0a17f355964adb933cd31a827d2807",
        "value"
       ]
      }
     },
     "826280fdf3a84b53b601b5c1e1c806a7": {
      "model_module": "@jupyter-widgets/controls",
      "model_module_version": "1.5.0",
      "model_name": "ButtonModel",
      "state": {
       "button_style": "info",
       "description": "1",
       "disabled": true,
       "layout": "IPY_MODEL_ffbe1c22c7b94444aacd41037778f150",
       "style": "IPY_MODEL_e34d51574f8d486c8f642e32d5b34063"
      }
     },
     "82cf5726bf4c4547b4f020ebcaaf0fa4": {
      "model_module": "@jupyter-widgets/controls",
      "model_module_version": "1.5.0",
      "model_name": "IntProgressModel",
      "state": {
       "bar_style": "danger",
       "description": "Bot",
       "layout": "IPY_MODEL_f109f6caccce42faa347f12c041331f1",
       "max": 5,
       "style": "IPY_MODEL_865620f3fe1e4e4e93ade3a78349af91"
      }
     },
     "835809e2bea74d678e6b3742ea1db5b3": {
      "model_module": "@jupyter-widgets/base",
      "model_module_version": "1.2.0",
      "model_name": "LayoutModel",
      "state": {}
     },
     "84ed04233855497e96f3a9a981cfd2fc": {
      "model_module": "@jupyter-widgets/controls",
      "model_module_version": "1.5.0",
      "model_name": "HBoxModel",
      "state": {
       "children": [
        "IPY_MODEL_d84f14caf7fc48b7857f2b96b70b50a0",
        "IPY_MODEL_2f0a17f355964adb933cd31a827d2807"
       ],
       "layout": "IPY_MODEL_8ddfa509c6b34845ad1332c7c4480f9f"
      }
     },
     "852c0d2405f6434c9906a78c4782ae60": {
      "model_module": "@jupyter-widgets/base",
      "model_module_version": "1.2.0",
      "model_name": "LayoutModel",
      "state": {}
     },
     "865620f3fe1e4e4e93ade3a78349af91": {
      "model_module": "@jupyter-widgets/controls",
      "model_module_version": "1.5.0",
      "model_name": "ProgressStyleModel",
      "state": {
       "description_width": ""
      }
     },
     "88194ed9edca4e1097658414814740bb": {
      "model_module": "@jupyter-widgets/controls",
      "model_module_version": "1.5.0",
      "model_name": "ButtonModel",
      "state": {
       "description": "button 2",
       "layout": "IPY_MODEL_b9d77802b3e042e9bf28ab9f2e48188c",
       "style": "IPY_MODEL_79e37e8ed73e4f989d489c1701a8c453"
      }
     },
     "886de4ddec8e491f82eae570aaf7e8bb": {
      "model_module": "@jupyter-widgets/base",
      "model_module_version": "1.2.0",
      "model_name": "LayoutModel",
      "state": {}
     },
     "892f9147fee0436fbc1e25a7b86693cf": {
      "model_module": "@jupyter-widgets/controls",
      "model_module_version": "1.5.0",
      "model_name": "LabelModel",
      "state": {
       "layout": "IPY_MODEL_3c206e4b2e674c598d34ead20f06eff9",
       "style": "IPY_MODEL_a72c3d1ff32b4667b94cd18827c5262e",
       "value": "CTRL-CLEAR"
      }
     },
     "8be1cafe9568411b89195b0b11232923": {
      "model_module": "@jupyter-widgets/base",
      "model_module_version": "1.2.0",
      "model_name": "LayoutModel",
      "state": {}
     },
     "8c5047b4258e404487e4112d7d5f2a08": {
      "model_module": "@jupyter-widgets/controls",
      "model_module_version": "1.5.0",
      "model_name": "ButtonStyleModel",
      "state": {}
     },
     "8cbff6b0c4334d77a48e52805d9e1dee": {
      "model_module": "@jupyter-widgets/controls",
      "model_module_version": "1.5.0",
      "model_name": "HBoxModel",
      "state": {
       "children": [
        "IPY_MODEL_6152d55415724ccd98d0c1c1fd732bef",
        "IPY_MODEL_826280fdf3a84b53b601b5c1e1c806a7",
        "IPY_MODEL_4eb2cad476fc4490855d619f3121d5ac"
       ],
       "layout": "IPY_MODEL_ab1d6ce436d6469ca7ef40248feac45f"
      }
     },
     "8ddfa509c6b34845ad1332c7c4480f9f": {
      "model_module": "@jupyter-widgets/base",
      "model_module_version": "1.2.0",
      "model_name": "LayoutModel",
      "state": {}
     },
     "8ec5e58012894f7fa4905fbc49e7a975": {
      "model_module": "@jupyter-widgets/controls",
      "model_module_version": "1.5.0",
      "model_name": "VBoxModel",
      "state": {
       "children": [
        "IPY_MODEL_2661b77a086f4c3ebdfa8112f402a98a",
        "IPY_MODEL_3861a87eb8f148978ed18ce7c0a18cc6",
        "IPY_MODEL_d1746703b6514129a2116fce91636fcc"
       ],
       "layout": "IPY_MODEL_ca4b2b991705454da1ccce670bebe527"
      }
     },
     "91ea3569b6b642e3a45caff4a3a46776": {
      "model_module": "@jupyter-widgets/base",
      "model_module_version": "1.2.0",
      "model_name": "LayoutModel",
      "state": {}
     },
     "92ea9aaeb5df47ad95502d7a0840c312": {
      "model_module": "@jupyter-widgets/base",
      "model_module_version": "1.2.0",
      "model_name": "LayoutModel",
      "state": {}
     },
     "930acc4ce9524a0c82499fac3cfaf502": {
      "model_module": "@jupyter-widgets/controls",
      "model_module_version": "1.5.0",
      "model_name": "ButtonStyleModel",
      "state": {}
     },
     "9338060d0d0d4c8a9e557762e8858246": {
      "model_module": "@jupyter-widgets/controls",
      "model_module_version": "1.5.0",
      "model_name": "IntProgressModel",
      "state": {
       "bar_style": "success",
       "description": "Counting",
       "layout": "IPY_MODEL_64bee9705b5a4d41b9b06cad3271abe0",
       "max": 10,
       "style": "IPY_MODEL_1799054c5a584c0fae57e43b59d9d82c"
      }
     },
     "98039f862d9d4180962f44aaea420306": {
      "model_module": "@jupyter-widgets/controls",
      "model_module_version": "1.5.0",
      "model_name": "ButtonStyleModel",
      "state": {}
     },
     "989e8a9c485d480a8fd5d971d2b2b97b": {
      "model_module": "@jupyter-widgets/controls",
      "model_module_version": "1.5.0",
      "model_name": "DescriptionStyleModel",
      "state": {
       "description_width": ""
      }
     },
     "9956e7ce38204bdf82658ad6871f09dd": {
      "model_module": "@jupyter-widgets/output",
      "model_module_version": "1.0.0",
      "model_name": "OutputModel",
      "state": {
       "layout": "IPY_MODEL_cec6fc72e0bf42118878cc05c0e8b2cc"
      }
     },
     "99d20a0a4a304100a972e67d347d7e9a": {
      "model_module": "@jupyter-widgets/base",
      "model_module_version": "1.2.0",
      "model_name": "LayoutModel",
      "state": {}
     },
     "9b4f8011dc564524a7b97b0098891974": {
      "model_module": "@jupyter-widgets/base",
      "model_module_version": "1.2.0",
      "model_name": "LayoutModel",
      "state": {}
     },
     "9b59c5c0b57e498d85ad631fa3df094a": {
      "model_module": "@jupyter-widgets/controls",
      "model_module_version": "1.5.0",
      "model_name": "ButtonModel",
      "state": {
       "description": "button 2",
       "layout": "IPY_MODEL_207efbf82fd04c2d8aa931bb589ce55a",
       "style": "IPY_MODEL_3e6ba3bbacb24687b275ee5d44c3e230"
      }
     },
     "9ff0e229c6d047638bc82363bb554512": {
      "model_module": "@jupyter-widgets/controls",
      "model_module_version": "1.5.0",
      "model_name": "HBoxModel",
      "state": {
       "children": [
        "IPY_MODEL_8ec5e58012894f7fa4905fbc49e7a975",
        "IPY_MODEL_ea49c2773b9148bfa0bd6e57776c9978"
       ],
       "layout": "IPY_MODEL_7ef164dd7828462095158b961721cf28"
      }
     },
     "a2771a18d7d547329845ecb5e51cdd70": {
      "model_module": "@jupyter-widgets/output",
      "model_module_version": "1.0.0",
      "model_name": "OutputModel",
      "state": {
       "layout": "IPY_MODEL_34fae5b4e3964398a67954fe8f64aadc",
       "outputs": [
        {
         "name": "stdout",
         "output_type": "stream",
         "text": "INFO:\nAll buttons do the same operation. However, they use the button number as a parameter\n"
        }
       ]
      }
     },
     "a3b8131cc01b42c89dc75d08c093b1e4": {
      "model_module": "@jupyter-widgets/base",
      "model_module_version": "1.2.0",
      "model_name": "LayoutModel",
      "state": {
       "border": "solid 1px black",
       "margin": "0px 10px 10px 0px",
       "padding": "5px 5px 5px 5px",
       "width": "200px"
      }
     },
     "a72c3d1ff32b4667b94cd18827c5262e": {
      "model_module": "@jupyter-widgets/controls",
      "model_module_version": "1.5.0",
      "model_name": "DescriptionStyleModel",
      "state": {
       "description_width": ""
      }
     },
     "ab1d6ce436d6469ca7ef40248feac45f": {
      "model_module": "@jupyter-widgets/base",
      "model_module_version": "1.2.0",
      "model_name": "LayoutModel",
      "state": {}
     },
     "accb464a58d74dbea128a700ddd75308": {
      "model_module": "@jupyter-widgets/controls",
      "model_module_version": "1.5.0",
      "model_name": "ColorPickerModel",
      "state": {
       "concise": true,
       "description": "Background color:",
       "disabled": false,
       "layout": "IPY_MODEL_1a878c62a26c42f0933e46aba5a358de",
       "style": "IPY_MODEL_afc8ff74e1fb43b0947c66841dd55c7d",
       "value": "#efefef"
      }
     },
     "ad3b4406c5954d0588b7886aab041310": {
      "model_module": "@jupyter-widgets/controls",
      "model_module_version": "1.5.0",
      "model_name": "ProgressStyleModel",
      "state": {
       "description_width": ""
      }
     },
     "adff389574f941b9b223c0923c73adbc": {
      "model_module": "@jupyter-widgets/controls",
      "model_module_version": "1.5.0",
      "model_name": "HBoxModel",
      "state": {
       "children": [
        "IPY_MODEL_05c5203cf7de4b4ba2d6b66de4e4bdcd",
        "IPY_MODEL_e80270bc5bfe4327a3eb4d633942c3f7"
       ],
       "layout": "IPY_MODEL_bd204a8bfe2b45639b57634a49a69669"
      }
     },
     "aeb72026c1794e3096ddac8e4e1a925c": {
      "model_module": "@jupyter-widgets/base",
      "model_module_version": "1.2.0",
      "model_name": "LayoutModel",
      "state": {}
     },
     "afc8ff74e1fb43b0947c66841dd55c7d": {
      "model_module": "@jupyter-widgets/controls",
      "model_module_version": "1.5.0",
      "model_name": "DescriptionStyleModel",
      "state": {
       "description_width": ""
      }
     },
     "b54736ddc1ff4b41b1ba239bb56fbfe6": {
      "model_module": "@jupyter-widgets/controls",
      "model_module_version": "1.5.0",
      "model_name": "LabelModel",
      "state": {
       "layout": "IPY_MODEL_bc3697de5d8e49a4bd7a35dab0a07fd7",
       "style": "IPY_MODEL_4d1839f08be4414cafaa1f6317df8330",
       "value": "Controls"
      }
     },
     "b696dd8f2a114a6c9f1ce9a8e930cd78": {
      "model_module": "@jupyter-widgets/controls",
      "model_module_version": "1.5.0",
      "model_name": "ButtonModel",
      "state": {
       "description": "B2",
       "layout": "IPY_MODEL_57dec4c5709a4983b0be6a73c2aa4111",
       "style": "IPY_MODEL_bcdf160c70ee4f36b2a41317649a771e"
      }
     },
     "b9d77802b3e042e9bf28ab9f2e48188c": {
      "model_module": "@jupyter-widgets/base",
      "model_module_version": "1.2.0",
      "model_name": "LayoutModel",
      "state": {}
     },
     "b9fc85abd997422eb2c5a6fc75b0384e": {
      "model_module": "@jupyter-widgets/controls",
      "model_module_version": "1.5.0",
      "model_name": "ButtonModel",
      "state": {
       "description": "button 4",
       "layout": "IPY_MODEL_207efbf82fd04c2d8aa931bb589ce55a",
       "style": "IPY_MODEL_1e053c1950174ce99cfae78631c0eac4"
      }
     },
     "bc3697de5d8e49a4bd7a35dab0a07fd7": {
      "model_module": "@jupyter-widgets/base",
      "model_module_version": "1.2.0",
      "model_name": "LayoutModel",
      "state": {}
     },
     "bcda185dcd474e439aa929e6f8b2f9c5": {
      "model_module": "@jupyter-widgets/base",
      "model_module_version": "1.2.0",
      "model_name": "LayoutModel",
      "state": {}
     },
     "bcdf160c70ee4f36b2a41317649a771e": {
      "model_module": "@jupyter-widgets/controls",
      "model_module_version": "1.5.0",
      "model_name": "ButtonStyleModel",
      "state": {}
     },
     "bd204a8bfe2b45639b57634a49a69669": {
      "model_module": "@jupyter-widgets/base",
      "model_module_version": "1.2.0",
      "model_name": "LayoutModel",
      "state": {}
     },
     "bf00b54d9464410d915b9b53affb224b": {
      "model_module": "@jupyter-widgets/controls",
      "model_module_version": "1.5.0",
      "model_name": "ButtonModel",
      "state": {
       "description": "CLEAR",
       "layout": "IPY_MODEL_6e4adf8c8b8b4d2ab58ab1d49904a58c",
       "style": "IPY_MODEL_bf53bae3df464e53ac4bd421c31b80c1"
      }
     },
     "bf53bae3df464e53ac4bd421c31b80c1": {
      "model_module": "@jupyter-widgets/controls",
      "model_module_version": "1.5.0",
      "model_name": "ButtonStyleModel",
      "state": {
       "button_color": "red"
      }
     },
     "c0db360c84474ea7b58d5aed25c91623": {
      "model_module": "@jupyter-widgets/controls",
      "model_module_version": "1.5.0",
      "model_name": "SliderStyleModel",
      "state": {
       "description_width": ""
      }
     },
     "c26b4263d04241668677c97c468a84ee": {
      "model_module": "@jupyter-widgets/controls",
      "model_module_version": "1.5.0",
      "model_name": "SliderStyleModel",
      "state": {
       "description_width": ""
      }
     },
     "c37108b6ebdd47a0acd06af2024c8b2e": {
      "model_module": "@jupyter-widgets/controls",
      "model_module_version": "1.5.0",
      "model_name": "TextModel",
      "state": {
       "description": "text",
       "layout": "IPY_MODEL_16d395a1a0234846820e03f5370e0759",
       "style": "IPY_MODEL_ea5c0d10d7284885b22c3dc424c7ed83"
      }
     },
     "c3ee43c1b8794092bd9282bd60c04513": {
      "model_module": "@jupyter-widgets/controls",
      "model_module_version": "1.5.0",
      "model_name": "VBoxModel",
      "state": {
       "children": [
        "IPY_MODEL_892f9147fee0436fbc1e25a7b86693cf",
        "IPY_MODEL_c4ca44f165ee4c98801d8a9978e1ad48"
       ],
       "layout": "IPY_MODEL_0247fa2f7fa94785840f3d070cc9f9ad"
      }
     },
     "c4ca44f165ee4c98801d8a9978e1ad48": {
      "model_module": "@jupyter-widgets/controls",
      "model_module_version": "1.5.0",
      "model_name": "ButtonModel",
      "state": {
       "description": "CLEAR",
       "layout": "IPY_MODEL_2ec5f8f95a3e4190a27d1a1d2675f7ff",
       "style": "IPY_MODEL_761064595bd84c3bbca3c6493414e093"
      }
     },
     "c52c25d554aa4d2daaf20ce22836269d": {
      "model_module": "@jupyter-widgets/base",
      "model_module_version": "1.2.0",
      "model_name": "LayoutModel",
      "state": {}
     },
     "c5345fba5b6c4df8b14180d884171482": {
      "model_module": "@jupyter-widgets/controls",
      "model_module_version": "1.5.0",
      "model_name": "DescriptionStyleModel",
      "state": {
       "description_width": ""
      }
     },
     "c62d259b8369419397323fca2318cf7a": {
      "model_module": "@jupyter-widgets/base",
      "model_module_version": "1.2.0",
      "model_name": "LayoutModel",
      "state": {}
     },
     "c709634c469c4da8a05d9c6eb3aeaf20": {
      "model_module": "@jupyter-widgets/controls",
      "model_module_version": "1.5.0",
      "model_name": "HBoxModel",
      "state": {
       "children": [
        "IPY_MODEL_611d37b6482349a6870362f3a0466bb1",
        "IPY_MODEL_3061bcfdab6744bb804cd4692453abee"
       ],
       "layout": "IPY_MODEL_99d20a0a4a304100a972e67d347d7e9a"
      }
     },
     "c862552d83d542f38e73be172e708d0a": {
      "model_module": "@jupyter-widgets/controls",
      "model_module_version": "1.5.0",
      "model_name": "SliderStyleModel",
      "state": {
       "description_width": ""
      }
     },
     "ca4b2b991705454da1ccce670bebe527": {
      "model_module": "@jupyter-widgets/base",
      "model_module_version": "1.2.0",
      "model_name": "LayoutModel",
      "state": {
       "border": "solid 1px black",
       "margin": "0px 10px 10px 0px",
       "padding": "5px 5px 5px 5px"
      }
     },
     "cbdcdc177aaa407ebc0d520beb736104": {
      "model_module": "@jupyter-widgets/controls",
      "model_module_version": "1.5.0",
      "model_name": "VBoxModel",
      "state": {
       "children": [
        "IPY_MODEL_1668ea710207449696aa7a5dd3275f04",
        "IPY_MODEL_cf13462aa8d14617a3da87b5641b98a9",
        "IPY_MODEL_9b59c5c0b57e498d85ad631fa3df094a",
        "IPY_MODEL_132989fc663049989b7a7a1af770ddb2",
        "IPY_MODEL_b9fc85abd997422eb2c5a6fc75b0384e"
       ],
       "layout": "IPY_MODEL_34fae5b4e3964398a67954fe8f64aadc"
      }
     },
     "cd984c04b2e6407ea26ff11b965d0626": {
      "model_module": "@jupyter-widgets/controls",
      "model_module_version": "1.5.0",
      "model_name": "ButtonStyleModel",
      "state": {}
     },
     "cec6fc72e0bf42118878cc05c0e8b2cc": {
      "model_module": "@jupyter-widgets/base",
      "model_module_version": "1.2.0",
      "model_name": "LayoutModel",
      "state": {
       "border": "solid 1px black",
       "margin": "0px 10px 10px 0px",
       "padding": "5px 5px 5px 5px",
       "width": "200px"
      }
     },
     "cf13462aa8d14617a3da87b5641b98a9": {
      "model_module": "@jupyter-widgets/controls",
      "model_module_version": "1.5.0",
      "model_name": "ButtonModel",
      "state": {
       "description": "button 1",
       "layout": "IPY_MODEL_207efbf82fd04c2d8aa931bb589ce55a",
       "style": "IPY_MODEL_98039f862d9d4180962f44aaea420306"
      }
     },
     "d1746703b6514129a2116fce91636fcc": {
      "model_module": "@jupyter-widgets/controls",
      "model_module_version": "1.5.0",
      "model_name": "ButtonModel",
      "state": {
       "description": "CLEAR",
       "layout": "IPY_MODEL_8be1cafe9568411b89195b0b11232923",
       "style": "IPY_MODEL_e42f03827a234dd8881f5f66b0034beb"
      }
     },
     "d84f14caf7fc48b7857f2b96b70b50a0": {
      "model_module": "@jupyter-widgets/controls",
      "model_module_version": "1.5.0",
      "model_name": "PlayModel",
      "state": {
       "description": "Press play",
       "interval": 1000,
       "layout": "IPY_MODEL_c62d259b8369419397323fca2318cf7a",
       "style": "IPY_MODEL_989e8a9c485d480a8fd5d971d2b2b97b",
       "value": 50
      }
     },
     "d8a9e9d916144098b717e4857fdc1453": {
      "model_module": "@jupyter-widgets/base",
      "model_module_version": "1.2.0",
      "model_name": "LayoutModel",
      "state": {}
     },
     "de1bfb566756478795fde61375277cc3": {
      "model_module": "@jupyter-widgets/controls",
      "model_module_version": "1.5.0",
      "model_name": "ButtonStyleModel",
      "state": {}
     },
     "e05f7702b3de47feae58e1a71e05508b": {
      "model_module": "@jupyter-widgets/base",
      "model_module_version": "1.2.0",
      "model_name": "LayoutModel",
      "state": {}
     },
     "e10904e7d61a43b8abcf07b3001e5482": {
      "model_module": "@jupyter-widgets/controls",
      "model_module_version": "1.5.0",
      "model_name": "ButtonModel",
      "state": {
       "description": "add one ... ",
       "layout": "IPY_MODEL_53613dd1bf354c339682929550c866ae",
       "style": "IPY_MODEL_930acc4ce9524a0c82499fac3cfaf502"
      }
     },
     "e34d51574f8d486c8f642e32d5b34063": {
      "model_module": "@jupyter-widgets/controls",
      "model_module_version": "1.5.0",
      "model_name": "ButtonStyleModel",
      "state": {}
     },
     "e42f03827a234dd8881f5f66b0034beb": {
      "model_module": "@jupyter-widgets/controls",
      "model_module_version": "1.5.0",
      "model_name": "ButtonStyleModel",
      "state": {
       "button_color": "red"
      }
     },
     "e668d74780ca41c4964493f5ee5ee634": {
      "model_module": "@jupyter-widgets/base",
      "model_module_version": "1.2.0",
      "model_name": "LayoutModel",
      "state": {}
     },
     "e80270bc5bfe4327a3eb4d633942c3f7": {
      "model_module": "@jupyter-widgets/output",
      "model_module_version": "1.0.0",
      "model_name": "OutputModel",
      "state": {
       "layout": "IPY_MODEL_a3b8131cc01b42c89dc75d08c093b1e4"
      }
     },
     "e9729536159e4656b2c9922e5830e5bc": {
      "model_module": "@jupyter-widgets/controls",
      "model_module_version": "1.5.0",
      "model_name": "IntProgressModel",
      "state": {
       "bar_style": "success",
       "description": "You",
       "layout": "IPY_MODEL_3a2c797ee0d14372936fab274248a9f9",
       "max": 5,
       "style": "IPY_MODEL_ad3b4406c5954d0588b7886aab041310"
      }
     },
     "ea2c4ebdc7964a4a83b741cde5684d10": {
      "model_module": "@jupyter-widgets/base",
      "model_module_version": "1.2.0",
      "model_name": "LayoutModel",
      "state": {}
     },
     "ea49c2773b9148bfa0bd6e57776c9978": {
      "model_module": "@jupyter-widgets/output",
      "model_module_version": "1.0.0",
      "model_name": "OutputModel",
      "state": {
       "layout": "IPY_MODEL_2d64d980ceeb4b399b4950983663b8a4"
      }
     },
     "ea5c0d10d7284885b22c3dc424c7ed83": {
      "model_module": "@jupyter-widgets/controls",
      "model_module_version": "1.5.0",
      "model_name": "DescriptionStyleModel",
      "state": {
       "description_width": ""
      }
     },
     "f109f6caccce42faa347f12c041331f1": {
      "model_module": "@jupyter-widgets/base",
      "model_module_version": "1.2.0",
      "model_name": "LayoutModel",
      "state": {}
     },
     "f4343a6a59814e85938925202186b5c3": {
      "model_module": "@jupyter-widgets/controls",
      "model_module_version": "1.5.0",
      "model_name": "VBoxModel",
      "state": {
       "_dom_classes": [
        "widget-interact"
       ],
       "children": [
        "IPY_MODEL_4ef472f0b93b423e8a609cf0df3afc0f",
        "IPY_MODEL_689d133c8c374c64bd88ac97286c2f8c"
       ],
       "layout": "IPY_MODEL_655bc3c12e7c45d6b50626cdde59646d"
      }
     },
     "f50a122224ef45d58d09c649d47a5a8b": {
      "model_module": "@jupyter-widgets/controls",
      "model_module_version": "1.5.0",
      "model_name": "ButtonStyleModel",
      "state": {
       "button_color": "green"
      }
     },
     "f5eb2a25ac4142a5ae48299d3be4751e": {
      "model_module": "@jupyter-widgets/controls",
      "model_module_version": "1.5.0",
      "model_name": "DescriptionStyleModel",
      "state": {
       "description_width": ""
      }
     },
     "f8e1f6aaca664eb79fc0fddaf4ae4309": {
      "model_module": "@jupyter-widgets/base",
      "model_module_version": "1.2.0",
      "model_name": "LayoutModel",
      "state": {}
     },
     "fa2ff8d5ad7a4123887fa1b58ee8418f": {
      "model_module": "@jupyter-widgets/output",
      "model_module_version": "1.0.0",
      "model_name": "OutputModel",
      "state": {
       "layout": "IPY_MODEL_34fae5b4e3964398a67954fe8f64aadc"
      }
     },
     "faf05d4cc6bb4b219e5aa0f2161030fe": {
      "model_module": "@jupyter-widgets/base",
      "model_module_version": "1.2.0",
      "model_name": "LayoutModel",
      "state": {}
     },
     "fb7f12c7202a4d3dba703e53b76406a6": {
      "model_module": "@jupyter-widgets/controls",
      "model_module_version": "1.5.0",
      "model_name": "DropdownModel",
      "state": {
       "_options_labels": [
        "REC",
        "PLAY"
       ],
       "description": "ACTION",
       "index": 0,
       "layout": "IPY_MODEL_faf05d4cc6bb4b219e5aa0f2161030fe",
       "style": "IPY_MODEL_c5345fba5b6c4df8b14180d884171482"
      }
     },
     "fcbb5799725c439ebacf6480d7f2bdac": {
      "model_module": "@jupyter-widgets/base",
      "model_module_version": "1.2.0",
      "model_name": "LayoutModel",
      "state": {}
     },
     "ff748478ff00442592c0a5f7681a10c2": {
      "model_module": "@jupyter-widgets/controls",
      "model_module_version": "1.5.0",
      "model_name": "DescriptionStyleModel",
      "state": {
       "description_width": ""
      }
     },
     "ffbe1c22c7b94444aacd41037778f150": {
      "model_module": "@jupyter-widgets/base",
      "model_module_version": "1.2.0",
      "model_name": "LayoutModel",
      "state": {}
     }
    },
    "version_major": 2,
    "version_minor": 0
   }
  }
 },
 "nbformat": 4,
 "nbformat_minor": 4
}
