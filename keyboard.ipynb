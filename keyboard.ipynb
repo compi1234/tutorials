{
 "cells": [
  {
   "cell_type": "markdown",
   "metadata": {
    "slideshow": {
     "slide_type": "slide"
    }
   },
   "source": [
    "# Tones, Frequency and Pitch on a Synthesizer Keyboard\n",
    "\n",
    "In this notebook the concepts of **pitch** and **frequency** of a **note** are illustrated on a synthesizer keyboard.  \n",
    "For simplicity reasons this notebook synthesizes **pure tones**(sinewaves).   \n",
    "We also show the mapping to common **midi** notation.\n",
    "\n",
    "Natural sounds from musical instruments or the human voice are much more complex and often (quasi)-periodic signals.  For these sounds the pitch percept corresponds typically to the main periodicity or equivalently to the fundamental frequency.\n",
    "For more detailed elaboration look for demos on the subject of *Pitch & Timbre*.\n",
    "  \n",
    "##### WARNINGS\n",
    "There are some unintended artifacts in the sounds due to the simplistic synthesizing with abrupt start and finish of each tone\n",
    "\n",
    "##### CREDITS\n",
    "Elaborated and corrected from [ch11_image/07_synth.ipynb](https://github.com/ipython-books/cookbook-2nd-code/blob/master/chapter11_image/07_synth.ipynb)\n",
    "in the *IPython Cookbook, 2nd Edition, Copyright (c) 2017 Cyrille Rossant*"
   ]
  },
  {
   "cell_type": "code",
   "execution_count": null,
   "metadata": {
    "slideshow": {
     "slide_type": "skip"
    }
   },
   "outputs": [],
   "source": [
    "import numpy as np\n",
    "import matplotlib.pyplot as plt\n",
    "from IPython.display import  Audio, display, clear_output\n",
    "from ipywidgets import widgets\n",
    "from functools import partial\n",
    "import pandas as pd\n",
    "\n",
    "%matplotlib inline\n",
    "\n",
    "pd.set_option(\"precision\", 1)\n",
    "AutoPlay = False"
   ]
  },
  {
   "cell_type": "code",
   "execution_count": null,
   "metadata": {
    "slideshow": {
     "slide_type": "slide"
    }
   },
   "outputs": [],
   "source": [
    "# utilities for generating a pure tone (and playing it)\n",
    "# using a sampling rate of 16kHz\n",
    "# and a duration of 0msec \n",
    "rate = 16000.\n",
    "duration = .25\n",
    "t = np.linspace(\n",
    "    0., duration, int(rate * duration))\n",
    "def synth(f):\n",
    "    x = np.sin(f * 2. * np.pi * t)\n",
    "    return(x)\n",
    "def play(x,AutoPlay=True,rate=rate):\n",
    "    display(Audio(x, rate=rate, autoplay=AutoPlay))"
   ]
  },
  {
   "cell_type": "markdown",
   "metadata": {},
   "source": [
    "### Musical Scales\n",
    "\n",
    "We are all familiar at least to some extent with notes making up melodies.   But where do these notes come from ?"
   ]
  },
  {
   "cell_type": "markdown",
   "metadata": {
    "slideshow": {
     "slide_type": "slide"
    }
   },
   "source": [
    "#### Synthesize a short sinewave of 440Hz\n",
    "This corresponds to A4 in music notation and in MIDI it has a value of 69."
   ]
  },
  {
   "cell_type": "code",
   "execution_count": null,
   "metadata": {
    "podoc": {
     "output_text": "Sound widget"
    },
    "slideshow": {
     "slide_type": "subslide"
    }
   },
   "outputs": [],
   "source": [
    "play(synth(440),AutoPlay=AutoPlay)"
   ]
  },
  {
   "cell_type": "markdown",
   "metadata": {
    "slideshow": {
     "slide_type": "slide"
    }
   },
   "source": [
    "#### Tones, pitch and musical scales\n",
    "Pitch is the more technical term for what you may know as how high a tone sounds like.   \n",
    "Expresssing the pitch may be done in a number of different ways.\n",
    "- Frequency (in Hz) ... the engineering way\n",
    "- Musical Notes  (C, A#, B*b*, ... ) ... the musicians way\n",
    "    + these musical notes carry 'relative' information within a single octave\n",
    "    + for 'absolute' tonal information we need to add a key, register or octave: A4 ~ 440Hz , A3 ~ 220Hz\n",
    "- MIDI numbers ... the synthesizer's way (a semitone scale)   \n",
    "\n",
    "Both the musical and MIDI notations used here are based on the Western music scale with 12 semitones in an octave\n",
    "\n",
    "A mapping between note (in musical notation), frequency (in Hz) and midi number is shown on the middle (4th) octave of a standard large keyboard with a total of 88 keys "
   ]
  },
  {
   "cell_type": "code",
   "execution_count": null,
   "metadata": {
    "slideshow": {
     "slide_type": "subslide"
    }
   },
   "outputs": [],
   "source": [
    "def m2f(m):\n",
    "    f = 2.**((m-69.)/12.0) * 440.\n",
    "    return(f)\n",
    "def f2m(f):\n",
    "    m=12.*log2(f/440.0)+69.\n",
    "    return(m)\n",
    "def note2f(note):\n",
    "    return(m2f(note2m(note)))\n",
    "def note2m(note):\n",
    "    semitones={'C':0,'D':2,'E':4,'F':5,'G':7,'A':9,'B':11}\n",
    "    register=note[-1]\n",
    "    m = 12 + int(register)*12 + semitones[note[0]]\n",
    "    if(len(note)>2): \n",
    "        if(note[1] =='#'): m+=1\n",
    "        elif(note[1] =='b'): m-=1\n",
    "    return(m)"
   ]
  },
  {
   "cell_type": "code",
   "execution_count": null,
   "metadata": {
    "slideshow": {
     "slide_type": "subslide"
    }
   },
   "outputs": [],
   "source": [
    "# Create a mapping table between different notations for notes in the middle segment\n",
    "notes = 'C4,C#4,D4,D#4,E4,F4,F#4,G4,G#4,A4,A#4,B4,C5,C#5,D5'.split(',')\n",
    "midis = [note2m(key) for key in notes]\n",
    "freqs = [note2f(key) for key in notes]\n",
    "keyboard = list(zip(notes,freqs,midis))\n",
    "# pd.DataFrame(keyboard,columns=['Note','Freq(Hz)','MIDI'])"
   ]
  },
  {
   "cell_type": "markdown",
   "metadata": {
    "slideshow": {
     "slide_type": "slide"
    }
   },
   "source": [
    "### Hit a note on a synthesizer keyboard to hear its pitch"
   ]
  },
  {
   "cell_type": "code",
   "execution_count": null,
   "metadata": {
    "slideshow": {
     "slide_type": "fragment"
    }
   },
   "outputs": [],
   "source": [
    "%precision 0\n",
    "layout = widgets.Layout(\n",
    "    width='42px', height='80px',\n",
    "    border='2px solid black')\n",
    "layout1 = widgets.Layout(\n",
    "    width='42px', height='30px',\n",
    "    border='0px solid blue')\n",
    "buttons = []\n",
    "midi_buttons = []\n",
    "freq_buttons = []\n",
    "output = widgets.Output()\n",
    "#output.layout.width='500px'\n",
    "for note,f,m  in keyboard:\n",
    "    button = widgets.Button(description=note[0:-1], layout=layout)\n",
    "    if(note[1]=='#'): button.style.button_color='#BBBBBB'\n",
    "    else: button.style.button_color='white'\n",
    "    button.style.font_weight='bold'\n",
    "    \n",
    "    midi_button = widgets.Button(description=str(m),layout=layout1)\n",
    "    freq_button = widgets.Button(description=\"%.0f\"%(f),layout=layout1)\n",
    "\n",
    "    def on_button_clicked(f, b):\n",
    "        # When a button is clicked, we play the sound\n",
    "        # in a dedicated Output widget.\n",
    "        with output:\n",
    "            #print(\"hallo\",f)\n",
    "            clear_output()\n",
    "            play(synth(f))\n",
    "\n",
    "    button.on_click(partial(on_button_clicked,f))\n",
    "    buttons.append(button)\n",
    "    midi_buttons.append(midi_button)\n",
    "    freq_buttons.append(freq_button)\n",
    "\n",
    "# We place all buttons horizontally.\n",
    "print(\"The top line shows the MIDI numbers\")\n",
    "print(\"The second line shows the frequencies of the tones in Hz\")\n",
    "print(\"The bottom section is a synthesizer keyboard with the notes on it\")\n",
    "print(\"Hit a note on the keyboard to hear it\")\n",
    "piano = widgets.VBox([widgets.Box(midi_buttons),widgets.Box(freq_buttons),widgets.Box(buttons),output])\n",
    "piano"
   ]
  },
  {
   "cell_type": "markdown",
   "metadata": {
    "slideshow": {
     "slide_type": "slide"
    }
   },
   "source": [
    "### Finally play a simple melody"
   ]
  },
  {
   "cell_type": "code",
   "execution_count": null,
   "metadata": {
    "slideshow": {
     "slide_type": "fragment"
    }
   },
   "outputs": [],
   "source": [
    "melody = ['C4','D4','E4','C4','E4','F4','G4','G4','C4','D4','E4','C4','E4','F4','G4','G4']\n",
    "y=[]\n",
    "for note in melody:\n",
    "      x = synth(note2f(note))\n",
    "      y = np.append(y,x,axis=0)\n",
    "play(y)"
   ]
  }
 ],
 "metadata": {
  "kernelspec": {
   "display_name": "Python 3",
   "language": "python",
   "name": "python3"
  },
  "language_info": {
   "codemirror_mode": {
    "name": "ipython",
    "version": 3
   },
   "file_extension": ".py",
   "mimetype": "text/x-python",
   "name": "python",
   "nbconvert_exporter": "python",
   "pygments_lexer": "ipython3",
   "version": "3.8.3"
  },
  "widgets": {
   "application/vnd.jupyter.widget-state+json": {
    "state": {},
    "version_major": 2,
    "version_minor": 0
   }
  }
 },
 "nbformat": 4,
 "nbformat_minor": 4
}
